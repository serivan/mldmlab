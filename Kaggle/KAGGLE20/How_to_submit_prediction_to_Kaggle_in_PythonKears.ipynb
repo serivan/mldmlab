{
 "cells": [
  {
   "cell_type": "code",
   "execution_count": 0,
   "metadata": {
    "colab": {},
    "colab_type": "code",
    "id": "UbTCbLFR887g"
   },
   "outputs": [],
   "source": [
    "# !pip install keras\n",
    "# !pip install tensorflow (CPU VERSION)\n",
    "# !pip install tensorflow-gpu (GPU VERSION)\n",
    "\n",
    "import csv\n",
    "import pandas as pd \n",
    "from sklearn.preprocessing import StandardScaler\n",
    "from sklearn.impute import SimpleImputer\n",
    "import numpy as np"
   ]
  },
  {
   "cell_type": "code",
   "execution_count": 2,
   "metadata": {
    "colab": {
     "base_uri": "https://localhost:8080/",
     "height": 35
    },
    "colab_type": "code",
    "id": "ab2icSxs887s",
    "outputId": "fe18877a-53d5-4c92-9bb8-9fc077e040ef"
   },
   "outputs": [
    {
     "name": "stdout",
     "output_type": "stream",
     "text": [
      "(3489, 11)\n"
     ]
    }
   ],
   "source": [
    "t= pd.read_csv('https://raw.githubusercontent.com/serivan/mldmlab/master/Datasets/Kaggle2020/train.csv')\n",
    "t.to_csv('train.csv', index=False)\n",
    "\n",
    "#sistemo CSV\n",
    "with open('train.csv') as f_in, open('new_train.csv', 'w') as f_out:\n",
    "    #crea il nuovo csv\n",
    "    filewriter = csv.writer(f_out, delimiter=',')\n",
    "    # Write header unchanged\n",
    "    header = f_in.readline()\n",
    "    f_out.write(header)\n",
    "\n",
    "    reader = csv.reader(f_in)\n",
    "    lines = list(reader)\n",
    "\n",
    "    for line in lines:\n",
    "        if line[2] != '' and float(line[2])>100:\n",
    "            line[2]=float(line[2])/1000\n",
    "        if line[8] != '' and float(line[8])>100:\n",
    "            line[8]=float(line[8])/1000\n",
    "    \n",
    "    writer = csv.writer(f_out)\n",
    "    writer.writerows(lines)\n",
    "\n",
    "f_in.close()\n",
    "f_out.close()\n",
    "\n",
    "\n",
    "train = pd.read_csv('new_train.csv')\n",
    "# pull data into target (y) and predictors (X)\n",
    "train[\"Quality\"] = np.where(train[\"Quality\"].str.contains(\"Good\"), 1, 0)\n",
    "train_y = train.Quality\n",
    "#tengo volatile e density perchè li ho sistemati\n",
    "predictor_cols = ['fixed.acidity','volatile.acidity','citric.acid','residual.sugar','chlorides','free.sulfur.dioxide',\n",
    "                  'total.sulfur.dioxide','density','pH','sulphates','alcohol']\n",
    "# Create training predictors data\n",
    "train_X = train[predictor_cols]\n",
    "\n",
    "scaler = StandardScaler()\n",
    "\n",
    "train_X_std = scaler.fit_transform(train_X)\n",
    "\n",
    "# Create our imputer to replace missing values with the mean e.g.\n",
    "imp = SimpleImputer(missing_values=np.nan, strategy='mean')\n",
    "#imp = SimpleImputer(missing_values=np.nan, strategy='most_frequent')\n",
    "imp = imp.fit(train_X_std)\n",
    "\n",
    "# Impute our data, then train\n",
    "train_X_imp = imp.transform(train_X_std)\n",
    "print(train_X_imp.shape)"
   ]
  },
  {
   "cell_type": "code",
   "execution_count": 3,
   "metadata": {
    "colab": {
     "base_uri": "https://localhost:8080/",
     "height": 53
    },
    "colab_type": "code",
    "id": "kAvicJwC8871",
    "outputId": "7abfa6a7-a095-4632-de34-fb6b46c56aeb"
   },
   "outputs": [
    {
     "name": "stdout",
     "output_type": "stream",
     "text": [
      "[-0.5457457   1.11042087 -1.04758863 -1.03382143  0.01255654 -0.01995263\n",
      " -0.07076563 -0.6089061  -0.23888975 -0.25872393 -0.23991364]\n"
     ]
    }
   ],
   "source": [
    "print(train_X_imp[0])"
   ]
  },
  {
   "cell_type": "code",
   "execution_count": 0,
   "metadata": {
    "colab": {},
    "colab_type": "code",
    "id": "NYql5cNPBFT2"
   },
   "outputs": [],
   "source": [
    "import tensorflow as tf\n",
    "\n",
    "# Import `Sequential` from `keras.models`\n",
    "from keras.models import Sequential\n",
    "\n",
    "# Import `Dense` from `keras.layers`\n",
    "from keras.layers import Dense\n",
    "\n",
    "# Initialize the constructor\n",
    "model = Sequential()\n",
    "\n",
    "# Add an input layer \n",
    "model.add(Dense(12, activation='relu', input_shape=(11,)))\n",
    "\n",
    "# Add one hidden layer \n",
    "model.add(Dense(8, activation='relu'))\n",
    "\n",
    "# Add an output layer \n",
    "model.add(Dense(1, activation='sigmoid'))"
   ]
  },
  {
   "cell_type": "code",
   "execution_count": 15,
   "metadata": {
    "colab": {
     "base_uri": "https://localhost:8080/",
     "height": 410
    },
    "colab_type": "code",
    "id": "CMe1dsH8CCly",
    "outputId": "b6df8db9-2508-4614-c8da-172c6fb9252a"
   },
   "outputs": [
    {
     "name": "stdout",
     "output_type": "stream",
     "text": [
      "Train on 2791 samples, validate on 698 samples\n",
      "Epoch 1/10\n",
      "2791/2791 [==============================] - 4s 1ms/step - loss: 0.5439 - accuracy: 0.7155 - auc_1: 0.6557 - val_loss: 0.5011 - val_accuracy: 0.7765 - val_auc_1: 0.7676\n",
      "Epoch 2/10\n",
      "2791/2791 [==============================] - 3s 1ms/step - loss: 0.4929 - accuracy: 0.7564 - auc_1: 0.7833 - val_loss: 0.4858 - val_accuracy: 0.7722 - val_auc_1: 0.7957\n",
      "Epoch 3/10\n",
      "2791/2791 [==============================] - 3s 1ms/step - loss: 0.4847 - accuracy: 0.7632 - auc_1: 0.8011 - val_loss: 0.4731 - val_accuracy: 0.7736 - val_auc_1: 0.8058\n",
      "Epoch 4/10\n",
      "2791/2791 [==============================] - 3s 1ms/step - loss: 0.4759 - accuracy: 0.7621 - auc_1: 0.8089 - val_loss: 0.4838 - val_accuracy: 0.7708 - val_auc_1: 0.8123\n",
      "Epoch 5/10\n",
      "2791/2791 [==============================] - 3s 1ms/step - loss: 0.4743 - accuracy: 0.7635 - auc_1: 0.8142 - val_loss: 0.4798 - val_accuracy: 0.7751 - val_auc_1: 0.8164\n",
      "Epoch 6/10\n",
      "2791/2791 [==============================] - 3s 1ms/step - loss: 0.4708 - accuracy: 0.7682 - auc_1: 0.8178 - val_loss: 0.4675 - val_accuracy: 0.7923 - val_auc_1: 0.8194\n",
      "Epoch 7/10\n",
      "2791/2791 [==============================] - 3s 1ms/step - loss: 0.4668 - accuracy: 0.7707 - auc_1: 0.8205 - val_loss: 0.4592 - val_accuracy: 0.8052 - val_auc_1: 0.8222\n",
      "Epoch 8/10\n",
      "2791/2791 [==============================] - 3s 1ms/step - loss: 0.4651 - accuracy: 0.7746 - auc_1: 0.8237 - val_loss: 0.4592 - val_accuracy: 0.7865 - val_auc_1: 0.8247\n",
      "Epoch 9/10\n",
      "2791/2791 [==============================] - 3s 1ms/step - loss: 0.4598 - accuracy: 0.7725 - auc_1: 0.8259 - val_loss: 0.4588 - val_accuracy: 0.7923 - val_auc_1: 0.8269\n",
      "Epoch 10/10\n",
      "2791/2791 [==============================] - 3s 1ms/step - loss: 0.4609 - accuracy: 0.7746 - auc_1: 0.8280 - val_loss: 0.4641 - val_accuracy: 0.7994 - val_auc_1: 0.8288\n"
     ]
    }
   ],
   "source": [
    "\n",
    "model.compile(loss='binary_crossentropy',\n",
    "              optimizer='SGD',\n",
    "              metrics=['accuracy',tf.keras.metrics.AUC()])\n",
    "                   \n",
    "training_phase =model.fit(train_X_imp, train_y,epochs=10, batch_size=1,  validation_split=0.2, verbose=1)"
   ]
  },
  {
   "cell_type": "code",
   "execution_count": 16,
   "metadata": {
    "colab": {
     "base_uri": "https://localhost:8080/",
     "height": 549
    },
    "colab_type": "code",
    "id": "hK7UbFtu888V",
    "outputId": "6e3c1005-3eda-4643-839d-8fb9de2607dd"
   },
   "outputs": [
    {
     "name": "stdout",
     "output_type": "stream",
     "text": [
      "loss\n"
     ]
    },
    {
     "data": {
      "image/png": "[encoded data removed]",
      "text/plain": [
       "<Figure size 432x288 with 1 Axes>"
      ]
     },
     "metadata": {
      "needs_background": "light",
      "tags": []
     },
     "output_type": "display_data"
    },
    {
     "name": "stdout",
     "output_type": "stream",
     "text": [
      "Accuracy\n"
     ]
    },
    {
     "data": {
      "image/png": "[encoded data removed]",
      "text/plain": [
       "<Figure size 432x288 with 1 Axes>"
      ]
     },
     "metadata": {
      "needs_background": "light",
      "tags": []
     },
     "output_type": "display_data"
    }
   ],
   "source": [
    "    import matplotlib.pyplot as pyplot\n",
    "    \n",
    "    # plot training history\n",
    "    print(\"loss\")\n",
    "    pyplot.plot(training_phase.history['loss'], label='train')\n",
    "    pyplot.plot(training_phase.history['val_loss'], label='validation')\n",
    "    pyplot.legend()\n",
    "    pyplot.show()\n",
    "    \n",
    "    print(\"Accuracy\")\n",
    "    pyplot.plot(training_phase.history['accuracy'], label='train')\n",
    "    pyplot.plot(training_phase.history['val_accuracy'], label='validation')\n",
    "    pyplot.legend()\n",
    "    pyplot.show()"
   ]
  },
  {
   "cell_type": "code",
   "execution_count": 17,
   "metadata": {
    "colab": {
     "base_uri": "https://localhost:8080/",
     "height": 55
    },
    "colab_type": "code",
    "id": "ua4TETIH888Z",
    "outputId": "abf66492-523d-4c11-f10b-4d0155d7fd69"
   },
   "outputs": [
    {
     "name": "stdout",
     "output_type": "stream",
     "text": [
      "[1, 1, 1, 1, 1, 1, 1, 0, 1, 1, 0, 1, 1, 0, 1, 0, 1, 1, 0, 1, 1, 0, 1, 1, 1, 1, 1, 1, 1, 1, 1, 0, 0, 1, 0, 0, 1, 1, 1, 0, 1, 0, 1, 1, 1, 1, 1, 1, 1, 1, 1, 0, 1, 1, 1, 1, 1, 0, 1, 0, 1, 0, 1, 1, 1, 0, 1, 1, 0, 1, 1, 1, 1, 0, 0, 1, 0, 1, 1, 1, 0, 1, 1, 0, 1, 1, 0, 0, 0, 0, 1, 0, 0, 1, 1, 0, 0, 0, 1, 1, 1, 1, 1, 1, 1, 1, 1, 1, 1, 0, 1, 1, 1, 1, 0, 0, 0, 1, 1, 1, 1, 0, 1, 0, 0, 1, 1, 0, 1, 1, 0, 1, 0, 1, 1, 1, 0, 0, 1, 0, 0, 0, 1, 0, 1, 1, 0, 0, 1, 1, 1, 1, 0, 1, 1, 1, 1, 1, 1, 0, 1, 1, 1, 0, 0, 1, 1, 1, 1, 1, 0, 1, 1, 1, 1, 1, 1, 1, 0, 0, 0, 1, 1, 0, 1, 0, 0, 0, 0, 1, 1, 1, 1, 0, 1, 1, 1, 0, 1, 1, 0, 1, 1, 0, 0, 1, 0, 1, 1, 1, 1, 1, 0, 1, 1, 1, 0, 1, 0, 1, 0, 1, 1, 1, 0, 1, 1, 1, 1, 1, 1, 1, 1, 1, 1, 1, 0, 1, 1, 0, 1, 0, 0, 1, 0, 1, 1, 0, 1, 1, 1, 1, 0, 1, 0, 0, 1, 1, 1, 1, 0, 1, 0, 1, 0, 1, 1, 0, 1, 1, 0, 0, 1, 1, 1, 0, 1, 1, 0, 0, 0, 1, 0, 1, 0, 1, 0, 1, 1, 1, 1, 1, 1, 0, 0, 1, 1, 0, 1, 1, 1, 1, 1, 1, 1, 1, 0, 0, 1, 1, 1, 1, 1, 1, 1, 1, 1, 0, 1, 1, 0, 1, 1, 1, 0, 1, 1, 0, 1, 0, 0, 1, 1, 1, 0, 0, 1, 1, 1, 1, 1, 1, 1, 1, 1, 0, 1, 1, 1, 0, 1, 1, 1, 0, 1, 1, 1, 1, 1, 0, 1, 1, 0, 1, 1, 1, 1, 1, 1, 0, 1, 1, 1, 1, 1, 0, 1, 1, 1, 1, 1, 1, 1, 1, 1, 1, 0, 1, 1, 1, 0, 0, 1, 1, 1, 1, 1, 1, 1, 0, 1, 0, 0, 1, 1, 1, 0, 1, 0, 1, 0, 1, 1, 0, 1, 0, 1, 1, 1, 1, 1, 1, 1, 0, 1, 1, 1, 0, 0, 0, 1, 1, 1, 1, 0, 1, 1, 1, 0, 1, 1, 1, 1, 0, 0, 0, 1, 0, 0, 1, 0, 1, 0, 1, 1, 1, 0, 1, 0, 1, 1, 1, 1, 1, 0, 0, 1, 0, 0, 0, 1, 0, 1, 1, 1, 1, 1, 1, 1, 1, 0, 1, 1, 1, 0, 1, 1, 1, 1, 1, 0, 1, 1, 0, 0, 1, 1, 0, 1, 1, 1, 1, 0, 1, 1, 1, 1, 0, 1, 0, 1, 0, 0, 1, 1, 1, 1, 1, 0, 1, 0, 1, 1, 0, 0, 1, 1, 0, 1, 1, 0, 1, 1, 1, 1, 0, 1, 1, 1, 0, 0, 1, 0, 0, 0, 0, 1, 1, 1, 1, 1, 1, 0, 1, 1, 1, 1, 1, 1, 0, 0, 1, 0, 1, 1, 1, 1, 1, 1, 0, 0, 1, 0, 1, 1, 1, 1, 0, 0, 0, 0, 1, 1, 0, 1, 1, 1, 0, 1, 0, 1, 1, 0, 0, 1, 0, 1, 0, 1, 1, 1, 1, 1, 0, 1, 0, 1, 0, 0, 0, 1, 1, 0, 0, 0, 1, 0, 0, 1, 1, 0, 1, 1, 1, 0, 1, 0, 1, 0, 1, 1, 1, 1, 1, 0, 1, 1, 1, 1, 1, 1, 1, 1, 0, 0, 1, 1, 0, 1, 0, 1, 0, 1, 1, 0, 1, 1, 1, 1, 0, 1, 1, 0, 0, 0, 0, 1, 1, 1, 1, 0, 1, 0, 1, 1, 1, 1, 1, 0, 0, 1, 1, 1, 1, 1, 1, 0, 1, 0, 1, 0, 0, 0, 0, 0, 1, 1, 1, 1, 1, 0, 0, 1, 1, 1, 1, 0, 0, 1, 1, 1, 1, 1, 0, 1, 0, 0, 0, 1, 1, 0, 1, 0, 0, 1, 1, 0, 1, 1, 1, 1, 1, 1, 1, 1, 1, 1, 1, 0, 0, 0, 1, 1, 1, 0, 1, 1, 1, 1, 0, 0, 1, 0, 1, 1, 1, 1, 1, 1, 1, 0, 1, 1, 1, 1, 1, 1, 1, 1, 0, 0, 0, 1, 1, 0, 1, 1, 1, 1, 0, 1, 1, 1, 0, 1, 1, 1, 1, 1, 1, 1, 1, 1, 0, 1, 1, 0, 1, 1, 1, 1, 1, 0, 1, 1, 0, 1, 1, 1, 0, 1, 1, 0, 1, 0, 1, 1, 1, 1, 1, 1, 0, 1, 1, 0, 1, 1, 1, 1, 1, 1, 1, 0, 1, 1, 1, 1, 1, 1, 1, 1, 1, 0, 1, 0, 0, 0, 1, 1, 1, 1, 0, 0, 0, 0, 1, 0, 1, 0, 1, 1, 1, 1, 0, 1, 1, 1, 0, 1, 1, 1, 1, 1, 1, 0, 1, 0, 1, 1, 1, 1, 1, 1, 1, 0, 1, 1, 1, 1, 1, 0, 1, 0, 1, 1, 0, 1, 1, 1, 1, 1, 1, 0, 1, 1, 1, 0, 1, 1, 1, 1, 0, 0, 1, 1, 1, 1, 0, 0, 1, 1, 0, 1, 0, 1, 1, 1, 0, 1, 0, 1, 0, 1, 0, 1, 1, 1, 1, 1, 1, 1, 1, 0, 1, 1, 0, 1, 1, 1, 0, 1, 1, 1, 0, 1, 1, 1, 1, 1, 1, 1, 1, 1, 1, 1, 0, 1, 1, 1, 0, 1, 1, 0, 1, 1, 0, 0, 0, 1, 1, 0, 1, 1, 1, 1, 1, 1, 0, 1, 1, 1, 0, 1, 1, 1, 1, 1, 1, 0, 1, 1, 0, 1, 0, 1, 1, 1, 0, 1, 0, 0, 0, 1, 1, 1, 1, 1, 1, 1, 1, 1, 1, 0, 1, 1, 1, 1, 0, 1, 1, 0, 1, 1, 0, 1, 1, 1, 0, 1, 1, 0, 0, 1, 0, 1, 1, 1, 1, 1, 0, 1, 1, 0, 1, 1, 1, 1, 1, 1, 1, 1, 1, 1, 0, 1, 0, 0, 0, 1, 1, 0, 1, 1, 1, 1, 1, 1, 1, 1, 0, 1, 1, 1, 1, 1, 1, 0, 1, 1, 1, 1, 1, 1, 0, 1, 1, 1, 1, 1, 0, 0, 1, 0, 0, 1, 1, 0, 1, 1, 0, 1, 0, 1, 0, 1, 1, 1, 1, 0, 1, 0, 1, 0, 1, 1, 1, 1, 1, 1, 1, 0, 1, 1, 0, 1, 0, 1, 1, 0, 1, 1, 1, 1, 1, 0, 1, 1, 1, 0, 0, 1, 1, 1, 0, 1, 1, 1, 1, 1, 1, 0, 1, 1, 1]\n"
     ]
    }
   ],
   "source": [
    "    #TEST SET\n",
    "    t= pd.read_csv('https://raw.githubusercontent.com/serivan/mldmlab/master/Datasets/Kaggle2020/test.csv')\n",
    "    t.to_csv('test.csv', index=False)\n",
    "\n",
    "    #sistemo csv\n",
    "    with open('test.csv') as f_in, open('new_test.csv', 'w') as f_out:\n",
    "        #crea il nuovo csv\n",
    "        filewriter = csv.writer(f_out, delimiter=',')\n",
    "        # Write header unchanged\n",
    "        header = f_in.readline()\n",
    "        f_out.write(header)\n",
    "\n",
    "        reader = csv.reader(f_in)\n",
    "        lines = list(reader)\n",
    "\n",
    "        for line in lines:\n",
    "            if line[2] != '' and float(line[2])>100:\n",
    "                line[2]=float(line[2])/1000\n",
    "            if line[8] != '' and float(line[8])>100:\n",
    "                line[8]=float(line[8])/1000\n",
    "\n",
    "        writer = csv.writer(f_out)\n",
    "        writer.writerows(lines)\n",
    "\n",
    "    f_in.close()\n",
    "    f_out.close()\n",
    "\n",
    "    test = pd.read_csv('new_test.csv')\n",
    "    # Treat the test data in the same way as training data. In this case, pull same columns.\n",
    "    test_X = test[predictor_cols]\n",
    "\n",
    "    test_X_std = scaler.transform(test_X)\n",
    "\n",
    "    # Impute each test item, then predict\n",
    "    test_X_imp = imp.transform(test_X_std)\n",
    "\n",
    "    # Use the model to make predictions\n",
    "    predicted_q = model.predict(test_X_imp)\n",
    "    # We will look at the predicted Qualities to ensure we have something sensible.\n",
    "    predicted_q = [round(x[0]) for x in predicted_q]\n",
    "\n",
    "    for i in range (0,len(predicted_q)):\n",
    "        predicted_q[i]=int(predicted_q[i])\n",
    "\n",
    "    print(predicted_q)\n",
    "\n",
    "    #prepare kaggle submission\n",
    "    my_submission = pd.DataFrame({'Id': test.Id, 'Quality': predicted_q})\n",
    "    # you could use any filename. We choose submission here\n",
    "    my_submission.to_csv('submission.csv', index=False)"
   ]
  }
 ],
 "metadata": {
  "colab": {
   "name": "How_to_submit_prediction_to_Kaggle_in_PythonKears.ipynb",
   "provenance": []
  },
  "kernelspec": {
   "display_name": "Python 3",
   "language": "python",
   "name": "python3"
  },
  "language_info": {
   "codemirror_mode": {
    "name": "ipython",
    "version": 3
   },
   "file_extension": ".py",
   "mimetype": "text/x-python",
   "name": "python",
   "nbconvert_exporter": "python",
   "pygments_lexer": "ipython3",
   "version": "3.6.9"
  }
 },
 "nbformat": 4,
 "nbformat_minor": 1
}
