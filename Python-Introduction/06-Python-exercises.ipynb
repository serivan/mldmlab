{
 "cells": [
  {
   "cell_type": "markdown",
   "metadata": {},
   "source": [
    "How to cook the perfect egg (Solution)"
   ]
  },
  {
   "cell_type": "code",
   "execution_count": 1,
   "metadata": {},
   "outputs": [
    {
     "name": "stdout",
     "output_type": "stream",
     "text": [
      "Time required for perfect 47 g egg when To = 4 C is 313.09 seconds.\n",
      "Time required for perfect 67 g egg when To = 4 C is 396.58 seconds.\n",
      "Time required for perfect 47 g egg when To = 20 C is 248.86 seconds.\n",
      "Time required for perfect 67 g egg when To = 20 C is 315.22 seconds.\n"
     ]
    }
   ],
   "source": [
    "from math import pi, log\n",
    "\n",
    "Tw = 100    # C Temperature of the water\n",
    "Ty = 70     # C Desired temperature of the yolk\n",
    "rho = 1.038 # g cm^{-3}\n",
    "M = 67      # g\n",
    "K = 5.4e-3  # W cm^{-1} K^{-1}\n",
    "c = 3.7     # J g^{-1} K^{-1}\n",
    "\n",
    "for To in [4, 20]:\n",
    "    for M in [47, 67]:\n",
    "        numerator = M**(2/3)*c*rho**(1/3)\n",
    "        denominator = K*pi**2*(4*pi/3)**(2/3)\n",
    "        logarithm = log(0.76*(To - Tw)/(Ty - Tw))\n",
    "        t = numerator / denominator * logarithm\n",
    "        print(\"Time required for perfect {} g egg when To = {} C is {:.2f} seconds.\".format(M, To, t))"
   ]
  },
  {
   "cell_type": "markdown",
   "metadata": {},
   "source": [
    "2. Given a matrix, for example:\n",
    "[[5, 6, 7], [8, 3, 2], [8, 2, 1]] \n",
    "define a function that returns a dictionary that associates for each row index (starting from 1) the corresponding list of values in the matrix. Considering the matrix in example, the result would be:\n",
    "{1: [5, 6, 7], 2: [8, 3, 2], 3: [8, 2, 1]}"
   ]
  },
  {
   "cell_type": "code",
   "execution_count": 2,
   "metadata": {},
   "outputs": [
    {
     "name": "stdout",
     "output_type": "stream",
     "text": [
      "{1: [5, 6, 7], 2: [8, 3, 2], 3: [8, 2, 1]}\n"
     ]
    }
   ],
   "source": [
    "test_list = [[5, 6, 7], [8, 3, 2], [8, 2, 1]] \n",
    "res = {idx + 1 : test_list[idx] for idx in range(len(test_list))} \n",
    "print(res)"
   ]
  },
  {
   "cell_type": "markdown",
   "metadata": {},
   "source": [
    "3. Given a list of integer values, such as:\n",
    "[50, 100, 150, 200, 250, 300]\n",
    "create a dictionary into which, for each element of the list, it's associated a list of 10 random numbers between 0 and the element. For generating the random number, use the randrange from the random package passing the element as parameter."
   ]
  },
  {
   "cell_type": "code",
   "execution_count": 4,
   "metadata": {},
   "outputs": [
    {
     "name": "stdout",
     "output_type": "stream",
     "text": [
      "{50: [6, 42, 26, 14, 45, 45, 48, 35, 24, 49], 100: [71, 57, 42, 76, 11, 95, 47, 77, 81, 42], 150: [99, 46, 113, 66, 95, 34, 4, 86, 32, 134], 200: [134, 83, 13, 18, 125, 187, 179, 143, 87, 136], 250: [131, 10, 5, 30, 153, 49, 199, 124, 144, 92], 300: [6, 222, 47, 27, 104, 110, 211, 206, 270, 141]}\n"
     ]
    }
   ],
   "source": [
    "from random import randrange\n",
    "l = [50, 100, 150, 200, 250, 300]\n",
    "d = {k: [randrange(k) for i in range(10)] for k in l}\n",
    "print(d)"
   ]
  },
  {
   "cell_type": "markdown",
   "metadata": {},
   "source": [
    "4. Create a function that takes in input a dictionary like the one generated in the Exercise 3. This function should calculate the minimum and the maximum for each list in the dictionary. The return value should be another dictionary into which, for each key of the input dictionay is associated a tuple formed by the minimum and the maximum of the list. For calculating the minimum and maximum use the min(list) and max(list) functions."
   ]
  },
  {
   "cell_type": "code",
   "execution_count": 6,
   "metadata": {},
   "outputs": [
    {
     "name": "stdout",
     "output_type": "stream",
     "text": [
      "{50: (6, 49), 100: (11, 95), 150: (4, 134), 200: (13, 187), 250: (5, 199), 300: (6, 270)}\n"
     ]
    }
   ],
   "source": [
    "def transform_dictionary(d):\n",
    "    new_dictionary = dict()\n",
    "    for k, l in d.items():\n",
    "        minimum = min(l)\n",
    "        maximum = max(l)\n",
    "        new_dictionary[k] = (minimum, maximum)\n",
    "    return new_dictionary\n",
    "\n",
    "print(transform_dictionary(d))"
   ]
  },
  {
   "cell_type": "markdown",
   "metadata": {},
   "source": [
    "5. Create the same function using the list comprehension. Also, in this version the lists which contains at least an element lower than 10 should not be included.\n"
   ]
  },
  {
   "cell_type": "code",
   "execution_count": 9,
   "metadata": {},
   "outputs": [
    {
     "name": "stdout",
     "output_type": "stream",
     "text": [
      "{100: (11, 95), 200: (13, 187)}\n"
     ]
    }
   ],
   "source": [
    "def transform_dictionary(d):\n",
    "    return {k: (min(l), max(l)) for k, l in d.items() if min(l) > 10}\n",
    "\n",
    "print(transform_dictionary(d))"
   ]
  },
  {
   "cell_type": "code",
   "execution_count": null,
   "metadata": {},
   "outputs": [],
   "source": []
  }
 ],
 "metadata": {
  "kernelspec": {
   "display_name": "Python 3",
   "language": "python",
   "name": "python3"
  },
  "language_info": {
   "codemirror_mode": {
    "name": "ipython",
    "version": 3
   },
   "file_extension": ".py",
   "mimetype": "text/x-python",
   "name": "python",
   "nbconvert_exporter": "python",
   "pygments_lexer": "ipython3",
   "version": "3.8.3"
  }
 },
 "nbformat": 4,
 "nbformat_minor": 4
}
