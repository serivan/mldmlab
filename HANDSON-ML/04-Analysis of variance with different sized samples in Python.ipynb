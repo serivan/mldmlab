{
 "cells": [
  {
   "cell_type": "markdown",
   "metadata": {},
   "source": [
    "Notebook used for blog post found here: http://vknight.org/unpeudemath/python/2016/08/13/Analysis-of-variance-with-different-sized-sample.html"
   ]
  },
  {
   "cell_type": "code",
   "execution_count": 27,
   "metadata": {
    "collapsed": false
   },
   "outputs": [
    {
     "name": "stdout",
     "output_type": "stream",
     "text": [
      "[13]\n",
      "[14, 2]\n",
      "[9, 17, 16]\n",
      "[13, 10, 16, 12]\n"
     ]
    }
   ],
   "source": [
    "# Create some random data\n",
    "\n",
    "import random\n",
    "random.seed(0)\n",
    "data = [[random.randint(1, 20) for _ in range(size)] for size in range(1, 5)]\n",
    "for sample in data:\n",
    "    print(sample)"
   ]
  },
  {
   "cell_type": "code",
   "execution_count": 29,
   "metadata": {
    "collapsed": false
   },
   "outputs": [
    {
     "data": {
      "text/plain": [
       "0.57172146848075944"
      ]
     },
     "execution_count": 29,
     "metadata": {},
     "output_type": "execute_result"
    }
   ],
   "source": [
    "# Carry out anova\n",
    "\n",
    "from scipy import stats\n",
    "f_val, p_val = stats.f_oneway(*data)\n",
    "p_val"
   ]
  },
  {
   "cell_type": "code",
   "execution_count": 30,
   "metadata": {
    "collapsed": false
   },
   "outputs": [
    {
     "data": {
      "text/html": [
       "<div>\n",
       "<table border=\"1\" class=\"dataframe\">\n",
       "  <thead>\n",
       "    <tr style=\"text-align: right;\">\n",
       "      <th></th>\n",
       "      <th>0</th>\n",
       "      <th>1</th>\n",
       "      <th>2</th>\n",
       "      <th>3</th>\n",
       "    </tr>\n",
       "  </thead>\n",
       "  <tbody>\n",
       "    <tr>\n",
       "      <th>0</th>\n",
       "      <td>13.0</td>\n",
       "      <td>14.0</td>\n",
       "      <td>9.0</td>\n",
       "      <td>13</td>\n",
       "    </tr>\n",
       "    <tr>\n",
       "      <th>1</th>\n",
       "      <td>NaN</td>\n",
       "      <td>2.0</td>\n",
       "      <td>17.0</td>\n",
       "      <td>10</td>\n",
       "    </tr>\n",
       "    <tr>\n",
       "      <th>2</th>\n",
       "      <td>NaN</td>\n",
       "      <td>NaN</td>\n",
       "      <td>16.0</td>\n",
       "      <td>16</td>\n",
       "    </tr>\n",
       "    <tr>\n",
       "      <th>3</th>\n",
       "      <td>NaN</td>\n",
       "      <td>NaN</td>\n",
       "      <td>NaN</td>\n",
       "      <td>12</td>\n",
       "    </tr>\n",
       "  </tbody>\n",
       "</table>\n",
       "</div>"
      ],
      "text/plain": [
       "      0     1     2   3\n",
       "0  13.0  14.0   9.0  13\n",
       "1   NaN   2.0  17.0  10\n",
       "2   NaN   NaN  16.0  16\n",
       "3   NaN   NaN   NaN  12"
      ]
     },
     "execution_count": 30,
     "metadata": {},
     "output_type": "execute_result"
    }
   ],
   "source": [
    "# Data might not be in that nice format. Could be in a dataframe as below.\n",
    "\n",
    "import pandas as pd\n",
    "dfs = [pd.DataFrame({k: sample}) for k, sample in enumerate(data)]\n",
    "df = pd.concat(dfs,  ignore_index=True, axis=1)\n",
    "df"
   ]
  },
  {
   "cell_type": "code",
   "execution_count": 31,
   "metadata": {
    "collapsed": false
   },
   "outputs": [
    {
     "data": {
      "text/plain": [
       "nan"
      ]
     },
     "execution_count": 31,
     "metadata": {},
     "output_type": "execute_result"
    }
   ],
   "source": [
    "# Now the basic anova fails (because of nan)\n",
    "\n",
    "data = [df[col] for col in df]\n",
    "f_val, p_val = stats.f_oneway(*[df[col] for col in df])\n",
    "p_val"
   ]
  },
  {
   "cell_type": "code",
   "execution_count": 38,
   "metadata": {
    "collapsed": false
   },
   "outputs": [
    {
     "data": {
      "text/plain": [
       "0.57172146848075944"
      ]
     },
     "execution_count": 38,
     "metadata": {},
     "output_type": "execute_result"
    }
   ],
   "source": [
    "# This is how to deal with the nans\n",
    "\n",
    "data = [df[col].dropna() for col in df]\n",
    "f_val, p_val = stats.f_oneway(*data)\n",
    "p_val"
   ]
  },
  {
   "cell_type": "code",
   "execution_count": 41,
   "metadata": {
    "collapsed": false
   },
   "outputs": [
    {
     "data": {
      "image/png": "[encoded data removed]",
      "text/plain": [
       "<matplotlib.figure.Figure at 0x11ada3a90>"
      ]
     },
     "metadata": {},
     "output_type": "display_data"
    }
   ],
   "source": [
    "# Let us create a nice plot with a regression line fitted to the median of the samples\n",
    "\n",
    "import numpy as np  # For the median\n",
    "import matplotlib.pyplot as plt  # For the plot\n",
    "import seaborn\n",
    "%matplotlib inline\n",
    "\n",
    "# Fit line to median of distributions\n",
    "x = range(1, len(data) + 1)\n",
    "y = [np.median(sample) for sample in data]\n",
    "slope, intercept, r_val, p_val, slope_std_error = stats.linregress(x, y)\n",
    "\n",
    "def line(x):\n",
    "    \"\"\"The regression line\"\"\"\n",
    "    return slope * x + intercept\n",
    "\n",
    "plt.figure()\n",
    "plt.violinplot(data);\n",
    "x1, x2 = plt.xlim()\n",
    "plt.plot((x1, x2), (line(x1), line(x2)), '--',\n",
    "         label=\"$y = {:.2f}x + {:.2f}$ ($p={:.2f}$)\".format(slope, intercept, p_val),\n",
    "         ),\n",
    "plt.legend(loc=4);\n",
    "# plt.savefig(\"../assets/images/regression_anova.svg\");  # Save to your path"
   ]
  },
  {
   "cell_type": "code",
   "execution_count": null,
   "metadata": {
    "collapsed": true
   },
   "outputs": [],
   "source": []
  }
 ],
 "metadata": {
  "anaconda-cloud": {},
  "kernelspec": {
   "display_name": "Python [Root]",
   "language": "python",
   "name": "Python [Root]"
  },
  "language_info": {
   "codemirror_mode": {
    "name": "ipython",
    "version": 3
   },
   "file_extension": ".py",
   "mimetype": "text/x-python",
   "name": "python",
   "nbconvert_exporter": "python",
   "pygments_lexer": "ipython3",
   "version": "3.5.2"
  }
 },
 "nbformat": 4,
 "nbformat_minor": 0
}
