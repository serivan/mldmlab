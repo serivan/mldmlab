{
  "nbformat": 4,
  "nbformat_minor": 0,
  "metadata": {
    "kernelspec": {
      "display_name": "Python 3",
      "language": "python",
      "name": "python3"
    },
    "language_info": {
      "codemirror_mode": {
        "name": "ipython",
        "version": 3
      },
      "file_extension": ".py",
      "mimetype": "text/x-python",
      "name": "python",
      "nbconvert_exporter": "python",
      "pygments_lexer": "ipython3",
      "version": "3.6.7"
    },
    "colab": {
      "name": "How_to_submit_prediction_to_Kaggle_in_PythonKears.ipynb",
      "provenance": []
    }
  },
  "cells": [
    {
      "cell_type": "code",
      "metadata": {
        "id": "UbTCbLFR887g",
        "colab_type": "code",
        "colab": {}
      },
      "source": [
        "# !pip install keras\n",
        "# !pip install tensorflow (CPU VERSION)\n",
        "# !pip install tensorflow-gpu (GPU VERSION)\n",
        "\n",
        "import csv\n",
        "import pandas as pd \n",
        "from sklearn.preprocessing import StandardScaler\n",
        "from sklearn.impute import SimpleImputer\n",
        "import numpy as np"
      ],
      "execution_count": 0,
      "outputs": []
    },
    {
      "cell_type": "code",
      "metadata": {
        "id": "ab2icSxs887s",
        "colab_type": "code",
        "colab": {
          "base_uri": "https://localhost:8080/",
          "height": 34
        },
        "outputId": "ea4f797c-c441-40dc-c5e3-d86c7e08cabc"
      },
      "source": [
        "t= pd.read_csv('https://raw.githubusercontent.com/serivan/mldmlab/master/Datasets/Kaggle2020/train.csv')\n",
        "t.to_csv('train.csv', index=False)\n",
        "\n",
        "#sistemo CSV\n",
        "with open('train.csv') as f_in, open('new_train.csv', 'w') as f_out:\n",
        "    #crea il nuovo csv\n",
        "    filewriter = csv.writer(f_out, delimiter=',')\n",
        "    # Write header unchanged\n",
        "    header = f_in.readline()\n",
        "    f_out.write(header)\n",
        "\n",
        "    reader = csv.reader(f_in)\n",
        "    lines = list(reader)\n",
        "\n",
        "    for line in lines:\n",
        "        if line[2] != '' and float(line[2])>100:\n",
        "            line[2]=float(line[2])/1000\n",
        "        if line[8] != '' and float(line[8])>100:\n",
        "            line[8]=float(line[8])/1000\n",
        "    \n",
        "    writer = csv.writer(f_out)\n",
        "    writer.writerows(lines)\n",
        "\n",
        "f_in.close()\n",
        "f_out.close()\n",
        "\n",
        "\n",
        "train = pd.read_csv('new_train.csv')\n",
        "# pull data into target (y) and predictors (X)\n",
        "train[\"Quality\"] = np.where(train[\"Quality\"].str.contains(\"Good\"), 1, 0)\n",
        "train_y = train.Quality\n",
        "#tengo volatile e density perchè li ho sistemati\n",
        "predictor_cols = ['fixed.acidity','volatile.acidity','citric.acid','residual.sugar','chlorides','free.sulfur.dioxide',\n",
        "                  'total.sulfur.dioxide','density','pH','sulphates','alcohol']\n",
        "# Create training predictors data\n",
        "train_X = train[predictor_cols]\n",
        "\n",
        "scaler = StandardScaler()\n",
        "\n",
        "train_X_std = scaler.fit_transform(train_X)\n",
        "\n",
        "# Create our imputer to replace missing values with the mean e.g.\n",
        "imp = SimpleImputer(missing_values=np.nan, strategy='mean')\n",
        "#imp = SimpleImputer(missing_values=np.nan, strategy='most_frequent')\n",
        "imp = imp.fit(train_X_std)\n",
        "\n",
        "# Impute our data, then train\n",
        "train_X_imp = imp.transform(train_X_std)\n",
        "print(train_X_imp.shape)"
      ],
      "execution_count": 17,
      "outputs": [
        {
          "output_type": "stream",
          "text": [
            "(3489, 11)\n"
          ],
          "name": "stdout"
        }
      ]
    },
    {
      "cell_type": "code",
      "metadata": {
        "id": "kAvicJwC8871",
        "colab_type": "code",
        "colab": {
          "base_uri": "https://localhost:8080/",
          "height": 52
        },
        "outputId": "8573aa1a-3bdc-4a1f-8f02-da07a3d4876d"
      },
      "source": [
        "print(train_X_imp[0])"
      ],
      "execution_count": 18,
      "outputs": [
        {
          "output_type": "stream",
          "text": [
            "[-0.5457457   1.11042087 -1.04758863 -1.03382143  0.01255654 -0.01995263\n",
            " -0.07076563 -0.6089061  -0.23888975 -0.25872393 -0.23991364]\n"
          ],
          "name": "stdout"
        }
      ]
    },
    {
      "cell_type": "code",
      "metadata": {
        "id": "NYql5cNPBFT2",
        "colab_type": "code",
        "colab": {}
      },
      "source": [
        "# Import `Sequential` from `keras.models`\n",
        "from keras.models import Sequential\n",
        "\n",
        "# Import `Dense` from `keras.layers`\n",
        "from keras.layers import Dense\n",
        "\n",
        "# Initialize the constructor\n",
        "model = Sequential()\n",
        "\n",
        "# Add an input layer \n",
        "model.add(Dense(12, activation='relu', input_shape=(11,)))\n",
        "\n",
        "# Add one hidden layer \n",
        "model.add(Dense(8, activation='relu'))\n",
        "\n",
        "# Add an output layer \n",
        "model.add(Dense(1, activation='sigmoid'))"
      ],
      "execution_count": 0,
      "outputs": []
    },
    {
      "cell_type": "code",
      "metadata": {
        "id": "CMe1dsH8CCly",
        "colab_type": "code",
        "colab": {
          "base_uri": "https://localhost:8080/",
          "height": 380
        },
        "outputId": "fd520a04-a9e1-43ec-80e0-22425f7d90d7"
      },
      "source": [
        "model.compile(loss='binary_crossentropy',\n",
        "              optimizer='SGD',\n",
        "              metrics=['accuracy'])\n",
        "                   \n",
        "training_phase =model.fit(train_X_imp, train_y,epochs=10, batch_size=1,  validation_split=0.2, verbose=1)"
      ],
      "execution_count": 33,
      "outputs": [
        {
          "output_type": "stream",
          "text": [
            "Train on 2791 samples, validate on 698 samples\n",
            "Epoch 1/10\n",
            "2791/2791 [==============================] - 3s 1ms/step - loss: 0.4472 - accuracy: 0.7793 - val_loss: 0.4557 - val_accuracy: 0.7765\n",
            "Epoch 2/10\n",
            "2791/2791 [==============================] - 3s 1ms/step - loss: 0.4462 - accuracy: 0.7875 - val_loss: 0.4478 - val_accuracy: 0.8023\n",
            "Epoch 3/10\n",
            "2791/2791 [==============================] - 3s 1ms/step - loss: 0.4462 - accuracy: 0.7829 - val_loss: 0.4542 - val_accuracy: 0.8009\n",
            "Epoch 4/10\n",
            "2791/2791 [==============================] - 3s 1ms/step - loss: 0.4460 - accuracy: 0.7857 - val_loss: 0.4500 - val_accuracy: 0.7937\n",
            "Epoch 5/10\n",
            "2791/2791 [==============================] - 3s 1ms/step - loss: 0.4409 - accuracy: 0.7908 - val_loss: 0.4552 - val_accuracy: 0.7994\n",
            "Epoch 6/10\n",
            "2791/2791 [==============================] - 3s 1ms/step - loss: 0.4434 - accuracy: 0.7875 - val_loss: 0.4589 - val_accuracy: 0.7865\n",
            "Epoch 7/10\n",
            "2791/2791 [==============================] - 3s 1ms/step - loss: 0.4404 - accuracy: 0.7865 - val_loss: 0.4609 - val_accuracy: 0.7808\n",
            "Epoch 8/10\n",
            "2791/2791 [==============================] - 3s 1ms/step - loss: 0.4401 - accuracy: 0.7854 - val_loss: 0.4679 - val_accuracy: 0.7923\n",
            "Epoch 9/10\n",
            "2791/2791 [==============================] - 3s 1ms/step - loss: 0.4379 - accuracy: 0.7947 - val_loss: 0.4823 - val_accuracy: 0.7693\n",
            "Epoch 10/10\n",
            "2791/2791 [==============================] - 3s 1ms/step - loss: 0.4374 - accuracy: 0.7868 - val_loss: 0.4752 - val_accuracy: 0.7822\n"
          ],
          "name": "stdout"
        }
      ]
    },
    {
      "cell_type": "code",
      "metadata": {
        "id": "hK7UbFtu888V",
        "colab_type": "code",
        "colab": {
          "base_uri": "https://localhost:8080/",
          "height": 548
        },
        "outputId": "bfe583af-656c-40c3-f043-21b2533ef6d0"
      },
      "source": [
        "    import matplotlib.pyplot as pyplot\n",
        "    \n",
        "    # plot training history\n",
        "    print(\"loss\")\n",
        "    pyplot.plot(training_phase.history['loss'], label='train')\n",
        "    pyplot.plot(training_phase.history['val_loss'], label='validation')\n",
        "    pyplot.legend()\n",
        "    pyplot.show()\n",
        "    \n",
        "    print(\"Accuracy\")\n",
        "    pyplot.plot(training_phase.history['accuracy'], label='train')\n",
        "    pyplot.plot(training_phase.history['val_accuracy'], label='validation')\n",
        "    pyplot.legend()\n",
        "    pyplot.show()"
      ],
      "execution_count": 35,
      "outputs": [
        {
          "output_type": "stream",
          "text": [
            "loss\n"
          ],
          "name": "stdout"
        },
        {
          "output_type": "display_data",
          "data": {
            "image/png": "[encoded data removed]",
            "text/plain": [
              "<Figure size 432x288 with 1 Axes>"
            ]
          },
          "metadata": {
            "tags": [],
            "needs_background": "light"
          }
        },
        {
          "output_type": "stream",
          "text": [
            "Accuracy\n"
          ],
          "name": "stdout"
        },
        {
          "output_type": "display_data",
          "data": {
            "image/png": "[encoded data removed]",
            "text/plain": [
              "<Figure size 432x288 with 1 Axes>"
            ]
          },
          "metadata": {
            "tags": [],
            "needs_background": "light"
          }
        }
      ]
    },
    {
      "cell_type": "code",
      "metadata": {
        "id": "ua4TETIH888Z",
        "colab_type": "code",
        "colab": {
          "base_uri": "https://localhost:8080/",
          "height": 54
        },
        "outputId": "ee4f0094-3da3-4ce3-a099-150d8726ba5d"
      },
      "source": [
        "    #TEST SET\n",
        "    t= pd.read_csv('https://raw.githubusercontent.com/serivan/mldmlab/master/Datasets/Kaggle2020/test.csv')\n",
        "    t.to_csv('test.csv', index=False)\n",
        "\n",
        "    #sistemo csv\n",
        "    with open('test.csv') as f_in, open('new_test.csv', 'w') as f_out:\n",
        "        #crea il nuovo csv\n",
        "        filewriter = csv.writer(f_out, delimiter=',')\n",
        "        # Write header unchanged\n",
        "        header = f_in.readline()\n",
        "        f_out.write(header)\n",
        "\n",
        "        reader = csv.reader(f_in)\n",
        "        lines = list(reader)\n",
        "\n",
        "        for line in lines:\n",
        "            if line[2] != '' and float(line[2])>100:\n",
        "                line[2]=float(line[2])/1000\n",
        "            if line[8] != '' and float(line[8])>100:\n",
        "                line[8]=float(line[8])/1000\n",
        "\n",
        "        writer = csv.writer(f_out)\n",
        "        writer.writerows(lines)\n",
        "\n",
        "    f_in.close()\n",
        "    f_out.close()\n",
        "\n",
        "    test = pd.read_csv('new_test.csv')\n",
        "    # Treat the test data in the same way as training data. In this case, pull same columns.\n",
        "    test_X = test[predictor_cols]\n",
        "\n",
        "    test_X_std = scaler.transform(test_X)\n",
        "\n",
        "    # Impute each test item, then predict\n",
        "    test_X_imp = imp.transform(test_X_std)\n",
        "\n",
        "    # Use the model to make predictions\n",
        "    predicted_q = model.predict(test_X_imp)\n",
        "    # We will look at the predicted Qualities to ensure we have something sensible.\n",
        "    predicted_q = [round(x[0]) for x in predicted_q]\n",
        "\n",
        "    for i in range (0,len(predicted_q)):\n",
        "        predicted_q[i]=int(predicted_q[i])\n",
        "\n",
        "    print(predicted_q)\n",
        "\n",
        "    #prepare kaggle submission\n",
        "    my_submission = pd.DataFrame({'Id': test.Id, 'Quality': predicted_q})\n",
        "    # you could use any filename. We choose submission here\n",
        "    my_submission.to_csv('submission.csv', index=False)"
      ],
      "execution_count": 36,
      "outputs": [
        {
          "output_type": "stream",
          "text": [
            "[1, 1, 1, 1, 1, 1, 1, 0, 1, 1, 1, 1, 1, 0, 1, 0, 1, 1, 0, 1, 1, 0, 1, 1, 1, 1, 0, 1, 1, 1, 1, 0, 1, 1, 0, 0, 0, 1, 1, 0, 1, 0, 1, 0, 1, 0, 0, 1, 1, 1, 1, 0, 1, 1, 1, 1, 1, 1, 1, 0, 1, 0, 1, 1, 1, 1, 1, 1, 0, 1, 1, 1, 1, 0, 0, 1, 0, 1, 1, 1, 0, 1, 1, 0, 1, 0, 0, 0, 0, 0, 1, 1, 1, 1, 1, 0, 0, 1, 1, 1, 1, 1, 1, 1, 1, 1, 1, 1, 0, 0, 1, 0, 0, 1, 0, 0, 0, 1, 1, 1, 1, 0, 1, 0, 0, 1, 1, 0, 1, 1, 0, 0, 1, 1, 1, 1, 0, 0, 1, 0, 0, 1, 1, 1, 1, 1, 1, 0, 1, 1, 1, 1, 0, 1, 1, 1, 0, 1, 1, 0, 1, 1, 1, 0, 0, 1, 0, 0, 1, 1, 1, 1, 1, 1, 1, 1, 1, 1, 0, 0, 0, 1, 1, 0, 1, 0, 0, 1, 0, 1, 0, 1, 1, 0, 1, 1, 1, 0, 1, 1, 0, 1, 1, 0, 0, 1, 1, 1, 1, 1, 1, 1, 0, 1, 1, 1, 1, 1, 0, 1, 0, 0, 1, 1, 0, 0, 1, 1, 1, 1, 1, 0, 1, 1, 1, 1, 0, 1, 1, 1, 1, 0, 0, 1, 0, 1, 1, 0, 1, 1, 1, 1, 1, 1, 0, 0, 0, 1, 1, 1, 0, 0, 0, 1, 0, 1, 0, 0, 1, 1, 0, 0, 1, 1, 1, 0, 1, 1, 1, 0, 0, 1, 0, 1, 0, 1, 0, 1, 0, 1, 1, 1, 1, 0, 0, 1, 1, 0, 1, 1, 1, 1, 1, 1, 1, 1, 0, 0, 1, 1, 1, 0, 1, 1, 1, 0, 1, 1, 1, 0, 0, 1, 1, 1, 0, 1, 1, 0, 0, 0, 1, 1, 0, 1, 0, 0, 1, 1, 1, 1, 1, 1, 0, 1, 0, 0, 1, 1, 1, 0, 0, 0, 0, 0, 1, 1, 1, 0, 1, 0, 1, 1, 0, 1, 0, 1, 1, 1, 1, 0, 1, 1, 1, 1, 1, 0, 0, 1, 1, 1, 1, 1, 1, 1, 1, 1, 0, 1, 0, 1, 0, 1, 1, 1, 1, 1, 1, 1, 1, 0, 1, 0, 0, 1, 0, 1, 0, 1, 0, 1, 0, 1, 1, 0, 1, 0, 0, 1, 1, 1, 1, 1, 0, 0, 1, 1, 1, 1, 0, 0, 1, 1, 1, 0, 0, 0, 1, 1, 0, 1, 1, 1, 1, 0, 0, 0, 1, 0, 1, 1, 0, 0, 0, 1, 1, 1, 0, 1, 1, 1, 1, 1, 0, 1, 0, 0, 1, 0, 0, 0, 1, 0, 1, 1, 0, 1, 1, 0, 1, 1, 1, 1, 1, 1, 1, 0, 1, 1, 1, 1, 0, 1, 0, 0, 0, 1, 1, 1, 1, 1, 1, 1, 0, 1, 1, 1, 0, 0, 0, 1, 1, 1, 0, 1, 1, 1, 1, 1, 0, 1, 0, 1, 0, 0, 0, 1, 1, 0, 1, 1, 0, 1, 1, 1, 1, 0, 1, 1, 1, 0, 0, 1, 1, 0, 0, 0, 1, 1, 1, 1, 1, 1, 0, 1, 1, 1, 1, 1, 1, 1, 0, 1, 0, 1, 1, 1, 1, 1, 0, 0, 0, 1, 0, 1, 1, 1, 1, 1, 0, 1, 0, 0, 1, 0, 1, 1, 1, 0, 1, 1, 1, 1, 0, 0, 0, 0, 1, 0, 1, 0, 1, 1, 1, 0, 1, 0, 0, 0, 0, 1, 1, 0, 0, 0, 0, 1, 1, 0, 1, 1, 1, 1, 1, 1, 0, 0, 0, 1, 0, 0, 1, 1, 1, 1, 0, 1, 1, 1, 1, 1, 1, 1, 1, 0, 1, 1, 1, 0, 0, 0, 1, 0, 1, 1, 0, 1, 1, 1, 1, 0, 1, 1, 0, 0, 0, 1, 1, 1, 0, 1, 1, 1, 0, 1, 1, 1, 1, 0, 0, 0, 1, 1, 1, 1, 1, 1, 0, 1, 1, 1, 0, 0, 1, 0, 1, 1, 0, 1, 1, 1, 0, 1, 1, 1, 1, 1, 0, 0, 1, 1, 1, 1, 1, 0, 1, 1, 0, 0, 1, 1, 1, 1, 1, 0, 1, 1, 1, 0, 1, 1, 1, 1, 1, 1, 1, 1, 1, 0, 0, 0, 0, 1, 1, 1, 0, 1, 1, 1, 0, 0, 0, 1, 0, 1, 1, 1, 1, 1, 1, 1, 0, 1, 1, 1, 0, 1, 1, 1, 1, 0, 0, 0, 1, 1, 0, 1, 1, 1, 1, 0, 1, 0, 1, 0, 1, 1, 1, 1, 1, 1, 1, 1, 1, 1, 1, 1, 0, 1, 1, 1, 0, 1, 0, 1, 1, 0, 1, 1, 1, 1, 1, 1, 0, 1, 0, 1, 1, 1, 1, 1, 1, 0, 1, 1, 0, 1, 0, 1, 1, 1, 0, 1, 0, 1, 1, 1, 1, 1, 1, 1, 1, 1, 0, 1, 1, 0, 0, 1, 1, 1, 1, 0, 0, 0, 0, 1, 0, 1, 0, 1, 1, 1, 1, 0, 1, 1, 1, 0, 1, 1, 1, 1, 1, 1, 0, 0, 1, 1, 1, 1, 1, 1, 1, 1, 0, 1, 1, 1, 1, 1, 0, 1, 0, 1, 0, 0, 1, 1, 1, 1, 1, 1, 0, 1, 1, 1, 0, 1, 1, 1, 1, 0, 1, 1, 1, 1, 1, 1, 0, 0, 1, 0, 1, 1, 1, 1, 1, 0, 1, 0, 1, 0, 1, 0, 0, 1, 1, 1, 1, 1, 1, 1, 0, 1, 1, 0, 1, 0, 1, 1, 1, 1, 1, 1, 1, 1, 1, 1, 1, 1, 0, 1, 1, 1, 1, 0, 1, 1, 1, 0, 1, 1, 0, 1, 1, 0, 1, 0, 1, 1, 0, 0, 1, 1, 1, 1, 1, 1, 1, 0, 1, 0, 1, 1, 1, 1, 1, 1, 0, 1, 1, 0, 1, 0, 1, 1, 1, 0, 0, 1, 1, 1, 1, 1, 1, 1, 1, 1, 1, 1, 0, 0, 0, 1, 0, 1, 0, 0, 1, 1, 0, 1, 1, 0, 1, 1, 0, 1, 1, 1, 0, 0, 1, 0, 1, 0, 1, 1, 0, 0, 1, 1, 1, 1, 1, 1, 1, 1, 1, 1, 0, 1, 1, 0, 1, 0, 0, 0, 0, 1, 0, 1, 1, 1, 1, 1, 1, 1, 1, 0, 1, 0, 1, 0, 1, 1, 0, 1, 1, 1, 1, 1, 1, 0, 1, 1, 1, 0, 1, 0, 0, 1, 0, 0, 1, 1, 0, 1, 1, 0, 1, 0, 1, 0, 1, 1, 1, 0, 0, 1, 0, 0, 1, 1, 1, 1, 1, 1, 1, 1, 0, 1, 1, 0, 1, 1, 1, 1, 0, 0, 0, 1, 1, 1, 1, 1, 1, 1, 1, 0, 0, 1, 1, 1, 0, 1, 1, 1, 1, 1, 0, 1, 1, 1]\n"
          ],
          "name": "stdout"
        }
      ]
    }
  ]
}