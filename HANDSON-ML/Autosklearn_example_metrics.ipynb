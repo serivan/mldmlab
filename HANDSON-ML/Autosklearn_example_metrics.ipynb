{
  "nbformat": 4,
  "nbformat_minor": 0,
  "metadata": {
    "kernelspec": {
      "display_name": "Python 3",
      "language": "python",
      "name": "python3"
    },
    "language_info": {
      "codemirror_mode": {
        "name": "ipython",
        "version": 3
      },
      "file_extension": ".py",
      "mimetype": "text/x-python",
      "name": "python",
      "nbconvert_exporter": "python",
      "pygments_lexer": "ipython3",
      "version": "3.5.3"
    },
    "latex_envs": {
      "bibliofile": "biblio.bib",
      "cite_by": "apalike",
      "current_citInitial": 1,
      "eqLabelWithNumbers": true,
      "eqNumInitial": 0
    },
    "toc": {
      "nav_menu": {
        "height": "12px",
        "width": "252px"
      },
      "navigate_menu": true,
      "number_sections": true,
      "sideBar": true,
      "threshold": 4,
      "toc_cell": false,
      "toc_section_display": "block",
      "toc_window_display": false
    },
    "colab": {
      "name": "Autosklearn_example_metrics.ipynb",
      "provenance": [],
      "include_colab_link": true
    }
  },
  "cells": [
    {
      "cell_type": "markdown",
      "metadata": {
        "id": "view-in-github",
        "colab_type": "text"
      },
      "source": [
        "<a href=\"https://colab.research.google.com/github/serivan/mldmlab/blob/master/Autosklearn_example_metrics.ipynb\" target=\"_parent\"><img src=\"https://colab.research.google.com/assets/colab-badge.svg\" alt=\"Open In Colab\"/></a>"
      ]
    },
    {
      "cell_type": "code",
      "metadata": {
        "id": "OXGk-Y2nms9V",
        "colab_type": "code",
        "colab": {
          "base_uri": "https://localhost:8080/",
          "height": 1000
        },
        "outputId": "ba01825f-01cd-45c5-ee24-540d4a3ad001"
      },
      "source": [
        "!apt-get install swig -y\n",
        "!pip install Cython numpy\n",
        "\n",
        "!pip install auto-sklearn"
      ],
      "execution_count": 2,
      "outputs": [
        {
          "output_type": "stream",
          "text": [
            "Reading package lists... Done\n",
            "Building dependency tree       \n",
            "Reading state information... Done\n",
            "The following package was automatically installed and is no longer required:\n",
            "  libnvidia-common-440\n",
            "Use 'apt autoremove' to remove it.\n",
            "The following additional packages will be installed:\n",
            "  swig3.0\n",
            "Suggested packages:\n",
            "  swig-doc swig-examples swig3.0-examples swig3.0-doc\n",
            "The following NEW packages will be installed:\n",
            "  swig swig3.0\n",
            "0 upgraded, 2 newly installed, 0 to remove and 43 not upgraded.\n",
            "Need to get 1,100 kB of archives.\n",
            "After this operation, 5,822 kB of additional disk space will be used.\n",
            "Get:1 http://archive.ubuntu.com/ubuntu bionic/universe amd64 swig3.0 amd64 3.0.12-1 [1,094 kB]\n",
            "Get:2 http://archive.ubuntu.com/ubuntu bionic/universe amd64 swig amd64 3.0.12-1 [6,460 B]\n",
            "Fetched 1,100 kB in 1s (1,308 kB/s)\n",
            "Selecting previously unselected package swig3.0.\n",
            "(Reading database ... 144328 files and directories currently installed.)\n",
            "Preparing to unpack .../swig3.0_3.0.12-1_amd64.deb ...\n",
            "Unpacking swig3.0 (3.0.12-1) ...\n",
            "Selecting previously unselected package swig.\n",
            "Preparing to unpack .../swig_3.0.12-1_amd64.deb ...\n",
            "Unpacking swig (3.0.12-1) ...\n",
            "Setting up swig3.0 (3.0.12-1) ...\n",
            "Setting up swig (3.0.12-1) ...\n",
            "Processing triggers for man-db (2.8.3-2ubuntu0.1) ...\n",
            "Requirement already satisfied: Cython in /usr/local/lib/python3.6/dist-packages (0.29.20)\n",
            "Requirement already satisfied: numpy in /usr/local/lib/python3.6/dist-packages (1.18.5)\n",
            "Collecting auto-sklearn\n",
            "\u001b[?25l  Downloading https://files.pythonhosted.org/packages/16/8e/74a4bd3f80bfcd25eabe8f31494db1a1cad4520f25cc791b04378fd2d117/auto-sklearn-0.7.0.tar.gz (4.6MB)\n",
            "\u001b[K     |████████████████████████████████| 4.6MB 2.8MB/s \n",
            "\u001b[?25hRequirement already satisfied: setuptools in /usr/local/lib/python3.6/dist-packages (from auto-sklearn) (47.1.1)\n",
            "Requirement already satisfied: pytest in /usr/local/lib/python3.6/dist-packages (from auto-sklearn) (3.6.4)\n",
            "Requirement already satisfied: Cython in /usr/local/lib/python3.6/dist-packages (from auto-sklearn) (0.29.20)\n",
            "Requirement already satisfied: numpy>=1.9.0 in /usr/local/lib/python3.6/dist-packages (from auto-sklearn) (1.18.5)\n",
            "Requirement already satisfied: scipy>=0.14.1 in /usr/local/lib/python3.6/dist-packages (from auto-sklearn) (1.4.1)\n",
            "Requirement already satisfied: scikit-learn<0.23,>=0.22.0 in /usr/local/lib/python3.6/dist-packages (from auto-sklearn) (0.22.2.post1)\n",
            "Collecting lockfile\n",
            "  Downloading https://files.pythonhosted.org/packages/c8/22/9460e311f340cb62d26a38c419b1381b8593b0bb6b5d1f056938b086d362/lockfile-0.12.2-py2.py3-none-any.whl\n",
            "Requirement already satisfied: joblib in /usr/local/lib/python3.6/dist-packages (from auto-sklearn) (0.15.1)\n",
            "Requirement already satisfied: psutil in /usr/local/lib/python3.6/dist-packages (from auto-sklearn) (5.4.8)\n",
            "Requirement already satisfied: pyyaml in /usr/local/lib/python3.6/dist-packages (from auto-sklearn) (3.13)\n",
            "Collecting liac-arff\n",
            "  Downloading https://files.pythonhosted.org/packages/e9/35/fbc9217cfa91d98888b43e1a19c03a50d716108c58494c558c65e308f372/liac-arff-2.4.0.tar.gz\n",
            "Collecting pandas<1.0\n",
            "\u001b[?25l  Downloading https://files.pythonhosted.org/packages/52/3f/f6a428599e0d4497e1595030965b5ba455fd8ade6e977e3c819973c4b41d/pandas-0.25.3-cp36-cp36m-manylinux1_x86_64.whl (10.4MB)\n",
            "\u001b[K     |████████████████████████████████| 10.4MB 30.3MB/s \n",
            "\u001b[?25hCollecting ConfigSpace<0.5,>=0.4.0\n",
            "\u001b[?25l  Downloading https://files.pythonhosted.org/packages/73/66/c9de12ba36e7ea396684101fdba05fc22fec8c312693f0398aef96b06298/ConfigSpace-0.4.13.tar.gz (964kB)\n",
            "\u001b[K     |████████████████████████████████| 972kB 38.3MB/s \n",
            "\u001b[?25hCollecting pynisher>=0.4.2\n",
            "  Downloading https://files.pythonhosted.org/packages/b2/21/c86c64c305da6d43fb89780d33cbc839c07736b71955a8bdb642a02b7538/pynisher-0.5.0.tar.gz\n",
            "Collecting pyrfr<0.9,>=0.7\n",
            "\u001b[?25l  Downloading https://files.pythonhosted.org/packages/ed/0f/4d7e42a9dfef3a1898e03cffa8f1cfcd1f96507d718808b2db584c6f8401/pyrfr-0.8.0.tar.gz (293kB)\n",
            "\u001b[K     |████████████████████████████████| 296kB 38.1MB/s \n",
            "\u001b[?25hCollecting smac>=0.12\n",
            "\u001b[?25l  Downloading https://files.pythonhosted.org/packages/8d/31/eb9806705d01c3211b729dd58117f6ab5337558e7f6dbff54bd93a42c3c3/smac-0.12.2.tar.gz (214kB)\n",
            "\u001b[K     |████████████████████████████████| 215kB 39.5MB/s \n",
            "\u001b[?25hRequirement already satisfied: pluggy<0.8,>=0.5 in /usr/local/lib/python3.6/dist-packages (from pytest->auto-sklearn) (0.7.1)\n",
            "Requirement already satisfied: more-itertools>=4.0.0 in /usr/local/lib/python3.6/dist-packages (from pytest->auto-sklearn) (8.4.0)\n",
            "Requirement already satisfied: attrs>=17.4.0 in /usr/local/lib/python3.6/dist-packages (from pytest->auto-sklearn) (19.3.0)\n",
            "Requirement already satisfied: atomicwrites>=1.0 in /usr/local/lib/python3.6/dist-packages (from pytest->auto-sklearn) (1.4.0)\n",
            "Requirement already satisfied: six>=1.10.0 in /usr/local/lib/python3.6/dist-packages (from pytest->auto-sklearn) (1.12.0)\n",
            "Requirement already satisfied: py>=1.5.0 in /usr/local/lib/python3.6/dist-packages (from pytest->auto-sklearn) (1.8.1)\n",
            "Requirement already satisfied: python-dateutil>=2.6.1 in /usr/local/lib/python3.6/dist-packages (from pandas<1.0->auto-sklearn) (2.8.1)\n",
            "Requirement already satisfied: pytz>=2017.2 in /usr/local/lib/python3.6/dist-packages (from pandas<1.0->auto-sklearn) (2018.9)\n",
            "Requirement already satisfied: pyparsing in /usr/local/lib/python3.6/dist-packages (from ConfigSpace<0.5,>=0.4.0->auto-sklearn) (2.4.7)\n",
            "Requirement already satisfied: docutils>=0.3 in /usr/local/lib/python3.6/dist-packages (from pynisher>=0.4.2->auto-sklearn) (0.15.2)\n",
            "Collecting sobol_seq\n",
            "  Downloading https://files.pythonhosted.org/packages/e4/df/6c4ad25c0b48545a537b631030f7de7e4abb939e6d2964ac2169d4379c85/sobol_seq-0.2.0-py3-none-any.whl\n",
            "Collecting lazy_import\n",
            "  Downloading https://files.pythonhosted.org/packages/44/2e/5378f9b9cbc893826c2ecb022646c97ece9efbaad351adf89425fff33990/lazy_import-0.2.2.tar.gz\n",
            "Building wheels for collected packages: auto-sklearn, liac-arff, ConfigSpace, pynisher, pyrfr, smac, lazy-import\n",
            "  Building wheel for auto-sklearn (setup.py) ... \u001b[?25l\u001b[?25hdone\n",
            "  Created wheel for auto-sklearn: filename=auto_sklearn-0.7.0-cp36-cp36m-linux_x86_64.whl size=4938349 sha256=8e4ab8a561087287052d52e4c2ab15d5bd41cf68f1e12322be87a1ddb7227d92\n",
            "  Stored in directory: /root/.cache/pip/wheels/1a/c0/08/61ed267faec8ae3541a6b06d0fd3632549ff769ea2817eba11\n",
            "  Building wheel for liac-arff (setup.py) ... \u001b[?25l\u001b[?25hdone\n",
            "  Created wheel for liac-arff: filename=liac_arff-2.4.0-cp36-none-any.whl size=13335 sha256=6eace71915f940e30b4adfe987ca831a4484cba5b175c207c54ca0ed52715580\n",
            "  Stored in directory: /root/.cache/pip/wheels/d1/6a/e7/529dc54d76ecede4346164a09ae3168df358945612710f5203\n",
            "  Building wheel for ConfigSpace (setup.py) ... \u001b[?25l\u001b[?25hdone\n",
            "  Created wheel for ConfigSpace: filename=ConfigSpace-0.4.13-cp36-cp36m-linux_x86_64.whl size=2914677 sha256=c046a05be09c39c78f6790568e0128e130b4fec375972311549c043dbe541fdf\n",
            "  Stored in directory: /root/.cache/pip/wheels/9e/13/67/89f852e4a5cf173e6c7da5e9d449b8e98483bc8168cf7b6e6d\n",
            "  Building wheel for pynisher (setup.py) ... \u001b[?25l\u001b[?25hdone\n",
            "  Created wheel for pynisher: filename=pynisher-0.5.0-cp36-none-any.whl size=4360 sha256=34b4f702f3e25482951c0afe08dea474ab5f63d9fa4110942bfd77e550be360d\n",
            "  Stored in directory: /root/.cache/pip/wheels/af/2a/c4/ec3abc8a2f786ef9786ea8fe6ff629a4e54812a3f98cc41b47\n",
            "  Building wheel for pyrfr (setup.py) ... \u001b[?25l\u001b[?25hdone\n",
            "  Created wheel for pyrfr: filename=pyrfr-0.8.0-cp36-cp36m-linux_x86_64.whl size=2540831 sha256=48c64fa4b9027ff5476dba89ab29b4100be22acdde75193f3755667780f7ab43\n",
            "  Stored in directory: /root/.cache/pip/wheels/61/1a/d2/b5aee388a492a01946143d3c976b2ca810af537480e1f16999\n",
            "  Building wheel for smac (setup.py) ... \u001b[?25l\u001b[?25hdone\n",
            "  Created wheel for smac: filename=smac-0.12.2-cp36-none-any.whl size=216083 sha256=5bc78f626ac9c0673c71d90690f842e26587f098441deca38ec0a8a131981d98\n",
            "  Stored in directory: /root/.cache/pip/wheels/37/36/99/2dbeb54a336b7c78f2bb3c1b418086795b7fbe2c4be8da2d9a\n",
            "  Building wheel for lazy-import (setup.py) ... \u001b[?25l\u001b[?25hdone\n",
            "  Created wheel for lazy-import: filename=lazy_import-0.2.2-py2.py3-none-any.whl size=16485 sha256=82c6b79afbe58674c3d7a30ab977acbffa052b61a5aed318a92fe7503083f656\n",
            "  Stored in directory: /root/.cache/pip/wheels/a9/b0/b5/8c7e6810aee14bc4ed4a542ce56e744126263bf4f4825a9094\n",
            "Successfully built auto-sklearn liac-arff ConfigSpace pynisher pyrfr smac lazy-import\n",
            "\u001b[31mERROR: google-colab 1.0.0 has requirement pandas~=1.0.0; python_version >= \"3.0\", but you'll have pandas 0.25.3 which is incompatible.\u001b[0m\n",
            "Installing collected packages: lockfile, liac-arff, pandas, ConfigSpace, pynisher, pyrfr, sobol-seq, lazy-import, smac, auto-sklearn\n",
            "  Found existing installation: pandas 1.0.4\n",
            "    Uninstalling pandas-1.0.4:\n",
            "      Successfully uninstalled pandas-1.0.4\n",
            "Successfully installed ConfigSpace-0.4.13 auto-sklearn-0.7.0 lazy-import-0.2.2 liac-arff-2.4.0 lockfile-0.12.2 pandas-0.25.3 pynisher-0.5.0 pyrfr-0.8.0 smac-0.12.2 sobol-seq-0.2.0\n"
          ],
          "name": "stdout"
        },
        {
          "output_type": "display_data",
          "data": {
            "application/vnd.colab-display-data+json": {
              "pip_warning": {
                "packages": [
                  "pandas"
                ]
              }
            }
          },
          "metadata": {
            "tags": []
          }
        }
      ]
    },
    {
      "cell_type": "code",
      "metadata": {
        "ExecuteTime": {
          "end_time": "2017-05-17T23:28:21.697550Z",
          "start_time": "2017-05-17T23:28:20.675156Z"
        },
        "id": "iNcxUB_nYPvR",
        "colab_type": "code",
        "colab": {}
      },
      "source": [
        "import numpy as np\n",
        "import pandas as pd\n",
        "\n",
        "import sklearn.model_selection\n",
        "import sklearn.datasets\n",
        "import sklearn.metrics\n",
        "\n",
        "import autosklearn.classification\n",
        "import autosklearn.metrics"
      ],
      "execution_count": 3,
      "outputs": []
    },
    {
      "cell_type": "code",
      "metadata": {
        "id": "GL24OUuKuqKL",
        "colab_type": "code",
        "colab": {}
      },
      "source": [
        "    def predict_proba(self, X, batch_size=None, n_jobs=1):\n",
        "        # return self._automl.predict(X, batch_size=batch_size, n_jobs=n_jobs)\n",
        "        return super().predict(X, batch_size=batch_size, n_jobs=n_jobs)"
      ],
      "execution_count": 4,
      "outputs": []
    },
    {
      "cell_type": "code",
      "metadata": {
        "ExecuteTime": {
          "end_time": "2017-05-17T23:28:21.707775Z",
          "start_time": "2017-05-17T23:28:21.698882Z"
        },
        "id": "MRc0AORJYPvV",
        "colab_type": "code",
        "colab": {}
      },
      "source": [
        "def accuracy(solution, prediction):\n",
        "    # function defining accuracy\n",
        "    return np.mean(solution == prediction)"
      ],
      "execution_count": 5,
      "outputs": []
    },
    {
      "cell_type": "code",
      "metadata": {
        "ExecuteTime": {
          "end_time": "2017-05-17T23:28:21.716760Z",
          "start_time": "2017-05-17T23:28:21.709818Z"
        },
        "id": "7MuIbBguYPvX",
        "colab_type": "code",
        "colab": {}
      },
      "source": [
        "def accuracy_wk(solution, prediction, dummy):\n",
        "    # function defining accuracy and accepting an additional argument\n",
        "    assert dummy is None\n",
        "    return np.mean(solution == prediction)"
      ],
      "execution_count": 6,
      "outputs": []
    },
    {
      "cell_type": "code",
      "metadata": {
        "ExecuteTime": {
          "end_time": "2017-05-17T23:28:21.742387Z",
          "start_time": "2017-05-17T23:28:21.718970Z"
        },
        "id": "8Ts54ZkUYPvZ",
        "colab_type": "code",
        "colab": {}
      },
      "source": [
        "X, y = sklearn.datasets.load_breast_cancer(return_X_y=True)"
      ],
      "execution_count": 7,
      "outputs": []
    },
    {
      "cell_type": "code",
      "metadata": {
        "ExecuteTime": {
          "end_time": "2017-05-17T23:28:21.813837Z",
          "start_time": "2017-05-17T23:28:21.744635Z"
        },
        "scrolled": true,
        "id": "OYc80GDHYPvc",
        "colab_type": "code",
        "colab": {
          "base_uri": "https://localhost:8080/",
          "height": 242
        },
        "outputId": "cfe93c1a-9c70-41fc-c5a3-d8e82817cde7"
      },
      "source": [
        "X"
      ],
      "execution_count": 8,
      "outputs": [
        {
          "output_type": "execute_result",
          "data": {
            "text/plain": [
              "array([[1.799e+01, 1.038e+01, 1.228e+02, ..., 2.654e-01, 4.601e-01,\n",
              "        1.189e-01],\n",
              "       [2.057e+01, 1.777e+01, 1.329e+02, ..., 1.860e-01, 2.750e-01,\n",
              "        8.902e-02],\n",
              "       [1.969e+01, 2.125e+01, 1.300e+02, ..., 2.430e-01, 3.613e-01,\n",
              "        8.758e-02],\n",
              "       ...,\n",
              "       [1.660e+01, 2.808e+01, 1.083e+02, ..., 1.418e-01, 2.218e-01,\n",
              "        7.820e-02],\n",
              "       [2.060e+01, 2.933e+01, 1.401e+02, ..., 2.650e-01, 4.087e-01,\n",
              "        1.240e-01],\n",
              "       [7.760e+00, 2.454e+01, 4.792e+01, ..., 0.000e+00, 2.871e-01,\n",
              "        7.039e-02]])"
            ]
          },
          "metadata": {
            "tags": []
          },
          "execution_count": 8
        }
      ]
    },
    {
      "cell_type": "code",
      "metadata": {
        "id": "Th_my3K_Uruq",
        "colab_type": "code",
        "colab": {
          "base_uri": "https://localhost:8080/",
          "height": 466
        },
        "outputId": "da13d933-d1ce-458e-fdd3-9e900b3d6790"
      },
      "source": [
        "y"
      ],
      "execution_count": 12,
      "outputs": [
        {
          "output_type": "execute_result",
          "data": {
            "text/plain": [
              "array([0, 0, 0, 0, 0, 0, 0, 0, 0, 0, 0, 0, 0, 0, 0, 0, 0, 0, 0, 1, 1, 1,\n",
              "       0, 0, 0, 0, 0, 0, 0, 0, 0, 0, 0, 0, 0, 0, 0, 1, 0, 0, 0, 0, 0, 0,\n",
              "       0, 0, 1, 0, 1, 1, 1, 1, 1, 0, 0, 1, 0, 0, 1, 1, 1, 1, 0, 1, 0, 0,\n",
              "       1, 1, 1, 1, 0, 1, 0, 0, 1, 0, 1, 0, 0, 1, 1, 1, 0, 0, 1, 0, 0, 0,\n",
              "       1, 1, 1, 0, 1, 1, 0, 0, 1, 1, 1, 0, 0, 1, 1, 1, 1, 0, 1, 1, 0, 1,\n",
              "       1, 1, 1, 1, 1, 1, 1, 0, 0, 0, 1, 0, 0, 1, 1, 1, 0, 0, 1, 0, 1, 0,\n",
              "       0, 1, 0, 0, 1, 1, 0, 1, 1, 0, 1, 1, 1, 1, 0, 1, 1, 1, 1, 1, 1, 1,\n",
              "       1, 1, 0, 1, 1, 1, 1, 0, 0, 1, 0, 1, 1, 0, 0, 1, 1, 0, 0, 1, 1, 1,\n",
              "       1, 0, 1, 1, 0, 0, 0, 1, 0, 1, 0, 1, 1, 1, 0, 1, 1, 0, 0, 1, 0, 0,\n",
              "       0, 0, 1, 0, 0, 0, 1, 0, 1, 0, 1, 1, 0, 1, 0, 0, 0, 0, 1, 1, 0, 0,\n",
              "       1, 1, 1, 0, 1, 1, 1, 1, 1, 0, 0, 1, 1, 0, 1, 1, 0, 0, 1, 0, 1, 1,\n",
              "       1, 1, 0, 1, 1, 1, 1, 1, 0, 1, 0, 0, 0, 0, 0, 0, 0, 0, 0, 0, 0, 0,\n",
              "       0, 0, 1, 1, 1, 1, 1, 1, 0, 1, 0, 1, 1, 0, 1, 1, 0, 1, 0, 0, 1, 1,\n",
              "       1, 1, 1, 1, 1, 1, 1, 1, 1, 1, 1, 0, 1, 1, 0, 1, 0, 1, 1, 1, 1, 1,\n",
              "       1, 1, 1, 1, 1, 1, 1, 1, 1, 0, 1, 1, 1, 0, 1, 0, 1, 1, 1, 1, 0, 0,\n",
              "       0, 1, 1, 1, 1, 0, 1, 0, 1, 0, 1, 1, 1, 0, 1, 1, 1, 1, 1, 1, 1, 0,\n",
              "       0, 0, 1, 1, 1, 1, 1, 1, 1, 1, 1, 1, 1, 0, 0, 1, 0, 0, 0, 1, 0, 0,\n",
              "       1, 1, 1, 1, 1, 0, 1, 1, 1, 1, 1, 0, 1, 1, 1, 0, 1, 1, 0, 0, 1, 1,\n",
              "       1, 1, 1, 1, 0, 1, 1, 1, 1, 1, 1, 1, 0, 1, 1, 1, 1, 1, 0, 1, 1, 0,\n",
              "       1, 1, 1, 1, 1, 1, 1, 1, 1, 1, 1, 1, 0, 1, 0, 0, 1, 0, 1, 1, 1, 1,\n",
              "       1, 0, 1, 1, 0, 1, 0, 1, 1, 0, 1, 0, 1, 1, 1, 1, 1, 1, 1, 1, 0, 0,\n",
              "       1, 1, 1, 1, 1, 1, 0, 1, 1, 1, 1, 1, 1, 1, 1, 1, 1, 0, 1, 1, 1, 1,\n",
              "       1, 1, 1, 0, 1, 0, 1, 1, 0, 1, 1, 1, 1, 1, 0, 0, 1, 0, 1, 0, 1, 1,\n",
              "       1, 1, 1, 0, 1, 1, 0, 1, 0, 1, 0, 0, 1, 1, 1, 0, 1, 1, 1, 1, 1, 1,\n",
              "       1, 1, 1, 1, 1, 0, 1, 0, 0, 1, 1, 1, 1, 1, 1, 1, 1, 1, 1, 1, 1, 1,\n",
              "       1, 1, 1, 1, 1, 1, 1, 1, 1, 1, 1, 1, 0, 0, 0, 0, 0, 0, 1])"
            ]
          },
          "metadata": {
            "tags": []
          },
          "execution_count": 12
        }
      ]
    },
    {
      "cell_type": "code",
      "metadata": {
        "id": "MONAiu88sFJV",
        "colab_type": "code",
        "colab": {}
      },
      "source": [
        "X_train, X_test, y_train, y_test = \\\n",
        "    sklearn.model_selection.train_test_split(X, y, random_state=1)\n"
      ],
      "execution_count": 10,
      "outputs": []
    },
    {
      "cell_type": "code",
      "metadata": {
        "id": "dIKDF_O2sHrC",
        "colab_type": "code",
        "colab": {
          "base_uri": "https://localhost:8080/",
          "height": 380
        },
        "outputId": "58526f91-90a4-4542-a859-6a445eb22db1"
      },
      "source": [
        "# Print a list of available metrics\n",
        "print(\"Available CLASSIFICATION metrics autosklearn.metrics.*:\")\n",
        "print(\"\\t*\" + \"\\n\\t*\".join(autosklearn.metrics.CLASSIFICATION_METRICS))\n",
        "\n",
        "#print(\"Available REGRESSION autosklearn.metrics.*:\")\n",
        "#print(\"\\t*\" + \"\\n\\t*\".join(autosklearn.metrics.REGRESSION_METRICS))\n"
      ],
      "execution_count": 11,
      "outputs": [
        {
          "output_type": "stream",
          "text": [
            "Available CLASSIFICATION metrics autosklearn.metrics.*:\n",
            "\t*accuracy\n",
            "\t*balanced_accuracy\n",
            "\t*roc_auc\n",
            "\t*average_precision\n",
            "\t*log_loss\n",
            "\t*precision\n",
            "\t*precision_macro\n",
            "\t*precision_micro\n",
            "\t*precision_samples\n",
            "\t*precision_weighted\n",
            "\t*recall\n",
            "\t*recall_macro\n",
            "\t*recall_micro\n",
            "\t*recall_samples\n",
            "\t*recall_weighted\n",
            "\t*f1\n",
            "\t*f1_macro\n",
            "\t*f1_micro\n",
            "\t*f1_samples\n",
            "\t*f1_weighted\n"
          ],
          "name": "stdout"
        }
      ]
    },
    {
      "cell_type": "code",
      "metadata": {
        "id": "ByOcqHAcsLrv",
        "colab_type": "code",
        "colab": {
          "base_uri": "https://localhost:8080/",
          "height": 52
        },
        "outputId": "aa795822-9a1a-465e-9386-0e2bbad8ac86"
      },
      "source": [
        "# First example: Use predefined accuracy metric\n",
        "print(\"#\"*80)\n",
        "print(\"Use predefined accuracy metric\")\n",
        "cls = autosklearn.classification.\\\n",
        "    AutoSklearnClassifier(time_left_for_this_task=60,\n",
        "                          per_run_time_limit=30, seed=1)\n",
        "cls.fit(X_train, y_train, metric=autosklearn.metrics.accuracy)\n",
        "\n",
        "predictions = cls.predict(X_test)\n"
      ],
      "execution_count": 13,
      "outputs": [
        {
          "output_type": "stream",
          "text": [
            "################################################################################\n",
            "Use predefined accuracy metric\n"
          ],
          "name": "stdout"
        }
      ]
    },
    {
      "cell_type": "code",
      "metadata": {
        "id": "YfDPTqsaVBhS",
        "colab_type": "code",
        "colab": {
          "base_uri": "https://localhost:8080/",
          "height": 34
        },
        "outputId": "b8c50326-36f0-4ab2-9e85-4c378772dba2"
      },
      "source": [
        "print(\"Accuracy score {:g} using {:s}\".\n",
        "      format(sklearn.metrics.accuracy_score(y_test, predictions), autosklearn.metrics.accuracy.name))\n",
        "\n"
      ],
      "execution_count": 16,
      "outputs": [
        {
          "output_type": "stream",
          "text": [
            "Accuracy score 0.972028 using accuracy\n"
          ],
          "name": "stdout"
        }
      ]
    },
    {
      "cell_type": "code",
      "metadata": {
        "ExecuteTime": {
          "end_time": "2017-05-17T23:31:10.635187Z",
          "start_time": "2017-05-17T23:28:21.852360Z"
        },
        "id": "0HONyLF6YPvj",
        "colab_type": "code",
        "colab": {
          "base_uri": "https://localhost:8080/",
          "height": 348
        },
        "outputId": "bbf94080-ef08-47f9-da19-9ff865211bd2"
      },
      "source": [
        "# Second example: Use own accuracy metric\n",
        "print(\"#\"*80)\n",
        "print(\"Use self defined accuracy accuracy metric\")\n",
        "accuracy_scorer = autosklearn.metrics.make_scorer(name=\"accu\",\n",
        "                                                  score_func=accuracy,\n",
        "                                                  greater_is_better=True,\n",
        "                                                  needs_proba=False,\n",
        "                                                  needs_threshold=False)\n",
        "cls = autosklearn.classification.\\\n",
        "    AutoSklearnClassifier(time_left_for_this_task=60,\n",
        "                          per_run_time_limit=30, seed=1)\n",
        "cls.fit(X_train, y_train, metric=accuracy_scorer)\n",
        "\n",
        "\n"
      ],
      "execution_count": 19,
      "outputs": [
        {
          "output_type": "stream",
          "text": [
            "################################################################################\n",
            "Use self defined accuracy accuracy metric\n",
            "[WARNING] [2020-06-18 07:31:56,229:AutoMLSMBO(1)::d6d58dae5b02e07797da6d4d126ac9b6] Could not find meta-data directory /usr/local/lib/python3.6/dist-packages/autosklearn/metalearning/files/accu_binary.classification_dense\n"
          ],
          "name": "stdout"
        },
        {
          "output_type": "execute_result",
          "data": {
            "text/plain": [
              "AutoSklearnClassifier(delete_output_folder_after_terminate=True,\n",
              "                      delete_tmp_folder_after_terminate=True,\n",
              "                      disable_evaluator_output=False,\n",
              "                      ensemble_memory_limit=1024, ensemble_nbest=50,\n",
              "                      ensemble_size=50, exclude_estimators=None,\n",
              "                      exclude_preprocessors=None, get_smac_object_callback=None,\n",
              "                      include_estimators=None, include_preprocessors=None,\n",
              "                      initial_configurations_via_metalearning=25,\n",
              "                      logging_config=None, max_models_on_disc=50,\n",
              "                      metadata_directory=None, ml_memory_limit=3072,\n",
              "                      n_jobs=None, output_folder=None, per_run_time_limit=30,\n",
              "                      resampling_strategy='holdout',\n",
              "                      resampling_strategy_arguments=None, seed=1,\n",
              "                      shared_mode=False, smac_scenario_args=None,\n",
              "                      time_left_for_this_task=60, tmp_folder=None)"
            ]
          },
          "metadata": {
            "tags": []
          },
          "execution_count": 19
        }
      ]
    },
    {
      "cell_type": "code",
      "metadata": {
        "id": "ujC8wHmgV0pb",
        "colab_type": "code",
        "colab": {}
      },
      "source": [
        "predictions = cls.predict(X_test)"
      ],
      "execution_count": 20,
      "outputs": []
    },
    {
      "cell_type": "code",
      "metadata": {
        "id": "uLseG-yhVday",
        "colab_type": "code",
        "colab": {
          "base_uri": "https://localhost:8080/",
          "height": 34
        },
        "outputId": "167a9fbe-a514-439c-e61c-7429fe7f30b3"
      },
      "source": [
        "print(\"Accuracy score {:g} using {:s}\".\n",
        "      format(sklearn.metrics.accuracy_score(y_test, predictions),\n",
        "             \"accu\"))\n"
      ],
      "execution_count": 17,
      "outputs": [
        {
          "output_type": "stream",
          "text": [
            "Accuracy score 0.972028 using accu\n"
          ],
          "name": "stdout"
        }
      ]
    },
    {
      "cell_type": "code",
      "metadata": {
        "id": "GF9KFvTHsXab",
        "colab_type": "code",
        "colab": {
          "base_uri": "https://localhost:8080/",
          "height": 273
        },
        "outputId": "4b8b9165-0ac2-4929-f2c6-5f21672dd425"
      },
      "source": [
        "# Third example: Use own accuracy metric with additional argument\n",
        "print(\"#\"*80)\n",
        "print(\"Use self defined accuracy with additional argument\")\n",
        "accuracy_scorer = autosklearn.metrics.make_scorer(name=\"accu_add\",\n",
        "                                                  score_func=accuracy_wk,\n",
        "                                                  greater_is_better=True,\n",
        "                                                  needs_proba=False,\n",
        "                                                  needs_threshold=False,\n",
        "                                                  dummy=None)\n",
        "cls = autosklearn.classification.\\\n",
        "    AutoSklearnClassifier(time_left_for_this_task=60,\n",
        "                          per_run_time_limit=30, seed=1)\n",
        "cls.fit(X_train, y_train, metric=accuracy_scorer)\n",
        "\n",
        "predictions = cls.predict(X_test)\n"
      ],
      "execution_count": 24,
      "outputs": [
        {
          "output_type": "stream",
          "text": [
            "################################################################################\n",
            "Use self defined accuracy with additional argument\n",
            "[WARNING] [2020-06-17 16:43:51,989:AutoMLSMBO(1)::d6d58dae5b02e07797da6d4d126ac9b6] Could not find meta-data directory /usr/local/lib/python3.6/dist-packages/autosklearn/metalearning/files/accu_add_binary.classification_dense\n"
          ],
          "name": "stdout"
        },
        {
          "output_type": "error",
          "ename": "AttributeError",
          "evalue": "ignored",
          "traceback": [
            "\u001b[0;31m---------------------------------------------------------------------------\u001b[0m",
            "\u001b[0;31mAttributeError\u001b[0m                            Traceback (most recent call last)",
            "\u001b[0;32m<ipython-input-24-7e3b77033ade>\u001b[0m in \u001b[0;36m<module>\u001b[0;34m()\u001b[0m\n\u001b[1;32m     15\u001b[0m print(\"Accuracy score {:g} using {:s}\".\n\u001b[1;32m     16\u001b[0m       format(sklearn.metrics.accuracy_score(y_test, predictions),\n\u001b[0;32m---> 17\u001b[0;31m              cls._automl._automl._metric.name))\n\u001b[0m",
            "\u001b[0;31mAttributeError\u001b[0m: 'list' object has no attribute '_automl'"
          ]
        }
      ]
    },
    {
      "cell_type": "code",
      "metadata": {
        "id": "uNRV7b2JVtye",
        "colab_type": "code",
        "colab": {}
      },
      "source": [
        "print(\"Accuracy score {:g} using {:s}\".\n",
        "      format(sklearn.metrics.accuracy_score(y_test, predictions),\n",
        "             \"accu_add\"))"
      ],
      "execution_count": null,
      "outputs": []
    }
  ]
}