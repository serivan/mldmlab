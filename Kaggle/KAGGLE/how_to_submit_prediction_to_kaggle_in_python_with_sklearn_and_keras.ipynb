{
  "cells": [
    {
      "cell_type": "markdown",
      "metadata": {
        "id": "view-in-github",
        "colab_type": "text"
      },
      "source": [
        "<a href=\"https://colab.research.google.com/github/serivan/mldmlab/blob/master/Kaggle/KAGGLE/how_to_submit_prediction_to_kaggle_in_python_with_sklearn_and_keras.ipynb\" target=\"_parent\"><img src=\"https://colab.research.google.com/assets/colab-badge.svg\" alt=\"Open In Colab\"/></a>"
      ]
    },
    {
      "cell_type": "markdown",
      "metadata": {
        "_cell_guid": "3bd4b4df-0cc0-40b1-b4da-c0b0dcb413f8",
        "_uuid": "26816927ad8b3a35dc55fafc33efd187f30cde39",
        "id": "j1-OG_fCcQyo",
        "tags": []
      },
      "source": [
        "Here you will learn to submit your  keras model\n",
        "\n",
        "to a machine learning competition in Python.  It's fun, and it will give you a way to see your progress as your skills keep improving.*\n",
        "\n",
        "# Introduction\n",
        "Machine learning competitions are a great way to improve your skills and measure your progress as a data scientist. If you are using data from a competition on Kaggle, you can easily submit it from your notebook.  Here's how you do it.\n",
        "\n",
        "# Example\n",
        "We're doing very minimal data set up here so we can focus on how to submit modeling results to competitions. Other tutorials will teach you how build great models. So the model in this example will be fairly simple. We'll start with the code to read data, select predictors, and fit a model."
      ]
    },
    {
      "cell_type": "markdown",
      "metadata": {
        "id": "9SPkn_9n41Pi"
      },
      "source": [
        "## Define Constants"
      ]
    },
    {
      "cell_type": "code",
      "execution_count": 1,
      "metadata": {
        "id": "fXWtAa8x41Pi"
      },
      "outputs": [],
      "source": [
        "DATA_PATH = \"https://raw.githubusercontent.com/serivan/mldmlab/master/Kaggle/KAGGLE/\"\n",
        "OUTPUT_PATH = \"kaggle_submissions/\"\n",
        "RANDOM_STATE = 3993\n",
        "\n",
        "DROPCOLUMS = [\"Id\", \"target\"]\n",
        "\n",
        "DEFAULT_DESCRIPTION = \"NN Submission: \""
      ]
    },
    {
      "cell_type": "code",
      "execution_count": 2,
      "metadata": {
        "id": "i-To1Olm6Wne"
      },
      "outputs": [],
      "source": [
        "EPOCHS = 20\n",
        "TRAIN_SIZE = 0.8\n",
        "VAL_SIZE = 0.2\n",
        "BATCH_SIZE = 32"
      ]
    },
    {
      "cell_type": "markdown",
      "metadata": {
        "id": "jUTtD0_d41Ph"
      },
      "source": [
        "## Imports"
      ]
    },
    {
      "cell_type": "code",
      "execution_count": 3,
      "metadata": {
        "_cell_guid": "8524922d-be55-46fd-863f-004261fcfff0",
        "_uuid": "58cfd95aa5563209575b12977280983ffeea6492",
        "id": "79gMoBcZcQyy"
      },
      "outputs": [],
      "source": [
        "import os\n",
        "\n",
        "import graphviz\n",
        "import matplotlib.pyplot as plt\n",
        "import numpy as np\n",
        "import pandas as pd\n",
        "import seaborn as sns\n",
        "from sklearn.compose import ColumnTransformer\n",
        "from sklearn.impute import SimpleImputer\n",
        "from sklearn.metrics import classification_report, confusion_matrix\n",
        "from sklearn.model_selection import (\n",
        "    GridSearchCV,\n",
        "    StratifiedKFold,\n",
        "    cross_val_score,\n",
        "    train_test_split,\n",
        ")\n",
        "from sklearn.pipeline import Pipeline\n",
        "from sklearn.preprocessing import OneHotEncoder, StandardScaler\n",
        "from sklearn.tree import DecisionTreeClassifier, export_graphviz"
      ]
    },
    {
      "cell_type": "code",
      "execution_count": 4,
      "metadata": {
        "id": "svHbYDhOja1K"
      },
      "outputs": [],
      "source": [
        "import tensorflow as tf\n",
        "from tensorflow.keras.layers import Dense\n",
        "from tensorflow.keras.models import Sequential"
      ]
    },
    {
      "cell_type": "code",
      "execution_count": 5,
      "metadata": {
        "id": "CIgbLv_h6Wnf"
      },
      "outputs": [],
      "source": [
        "### SPECIAL TENSORFLOW MEMORY MANAGEMENT ###\n",
        "### REMOVE THIS CELL IN PRODUCTION ###\n",
        "gpus = tf.config.list_physical_devices(\"GPU\")\n",
        "if gpus:\n",
        "    try:\n",
        "        # Currently, memory growth needs to be the same across GPUs\n",
        "        for gpu in gpus:\n",
        "            tf.config.experimental.set_memory_growth(gpu, True)\n",
        "        logical_gpus = tf.config.experimental.list_logical_devices(\"GPU\")\n",
        "        print(len(gpus), \"Physical GPUs,\", len(logical_gpus), \"Logical GPUs\")\n",
        "    except RuntimeError as e:\n",
        "        # Memory growth must be set before GPUs have been initialized\n",
        "        print(e)"
      ]
    },
    {
      "cell_type": "code",
      "execution_count": 6,
      "metadata": {
        "colab": {
          "base_uri": "https://localhost:8080/"
        },
        "id": "6NgNXHNpcQyq",
        "outputId": "d096ae7c-4ae9-45c0-8e75-49f62cd3f33d"
      },
      "outputs": [
        {
          "output_type": "stream",
          "name": "stdout",
          "text": [
            "Random number with seed 2021\n"
          ]
        }
      ],
      "source": [
        "# if not 'sklearn' in sys.modules.keys():\n",
        "#    pip.main(['install', 'sklearn'])\n",
        "# if not 'kaggle' in sys.modules.keys():\n",
        "#    pip.main(['install', 'kaggle'])\n",
        "# import sys\n",
        "# import pip\n",
        "\n",
        "import random\n",
        "\n",
        "print(\"Random number with seed 2021\")\n",
        "random.seed(2021)"
      ]
    },
    {
      "cell_type": "code",
      "source": [
        "!pip install scikeras"
      ],
      "metadata": {
        "colab": {
          "base_uri": "https://localhost:8080/"
        },
        "id": "hYf4L1XHiFtf",
        "outputId": "08c93645-3eb7-4739-d5f9-72274a34858b"
      },
      "execution_count": 65,
      "outputs": [
        {
          "output_type": "stream",
          "name": "stdout",
          "text": [
            "Requirement already satisfied: scikeras in /usr/local/lib/python3.10/dist-packages (0.12.0)\n",
            "Requirement already satisfied: packaging>=0.21 in /usr/local/lib/python3.10/dist-packages (from scikeras) (23.2)\n",
            "Requirement already satisfied: scikit-learn>=1.0.0 in /usr/local/lib/python3.10/dist-packages (from scikeras) (1.2.2)\n",
            "Requirement already satisfied: numpy>=1.17.3 in /usr/local/lib/python3.10/dist-packages (from scikit-learn>=1.0.0->scikeras) (1.23.5)\n",
            "Requirement already satisfied: scipy>=1.3.2 in /usr/local/lib/python3.10/dist-packages (from scikit-learn>=1.0.0->scikeras) (1.11.3)\n",
            "Requirement already satisfied: joblib>=1.1.1 in /usr/local/lib/python3.10/dist-packages (from scikit-learn>=1.0.0->scikeras) (1.3.2)\n",
            "Requirement already satisfied: threadpoolctl>=2.0.0 in /usr/local/lib/python3.10/dist-packages (from scikit-learn>=1.0.0->scikeras) (3.2.0)\n"
          ]
        }
      ]
    },
    {
      "cell_type": "markdown",
      "metadata": {
        "id": "oaXCO2_YWsnl"
      },
      "source": [
        "## Imports for Kaggle\n",
        "See https://www.kaggle.com/docs/api"
      ]
    },
    {
      "cell_type": "code",
      "execution_count": 7,
      "metadata": {
        "id": "YPoMlAjOWvGi"
      },
      "outputs": [],
      "source": [
        "# from google.colab import drive\n",
        "\n",
        "# drive.mount(\"/content/gdrive\")"
      ]
    },
    {
      "cell_type": "code",
      "execution_count": 8,
      "metadata": {
        "id": "azonBcu2ZGP9"
      },
      "outputs": [],
      "source": [
        "# !mkdir -p ~/.kaggle\n",
        "# !cp \"/content/gdrive/My Drive/kaggle.json\" ~/.kaggle/\n",
        "# !pip install kaggle\n",
        "# !chmod 600 /root/.kaggle/kaggle.json\n",
        "# !kaggle datasets list"
      ]
    },
    {
      "cell_type": "markdown",
      "metadata": {
        "id": "INvHmTiN41Pi"
      },
      "source": [
        "## Define Utils"
      ]
    },
    {
      "cell_type": "markdown",
      "metadata": {
        "id": "jhXvV6DlcQzA"
      },
      "source": [
        "Here we define a function for preperaing a submission file"
      ]
    },
    {
      "cell_type": "markdown",
      "metadata": {
        "id": "hP3UM_Tc6Wni"
      },
      "source": [
        "### Kaggle utils"
      ]
    },
    {
      "cell_type": "code",
      "execution_count": 9,
      "metadata": {
        "id": "uPpDA5ElcQzB"
      },
      "outputs": [],
      "source": [
        "def generateSubmission(\n",
        "    model,\n",
        "    submissionFile,\n",
        "    submissionDescription,\n",
        "    preprocessor=None,\n",
        "    prediction_type=\"binary_prob\",\n",
        "):\n",
        "    # Read the test data and split Id\n",
        "    data = pd.read_csv(DATA_PATH + \"test.csv\")\n",
        "    Id, X_test = data.Id, data.drop(columns=DROPCOLUMS)\n",
        "\n",
        "    if preprocessor:\n",
        "        # Preprocess each test item, then predict\n",
        "        X_test_pp = preprocessor.transform(X_test)\n",
        "        # Use the model to make predictions\n",
        "        y_test_pred = model.predict(X_test_pp)\n",
        "    else:\n",
        "        y_test_pred = model.predict(X_test)\n",
        "\n",
        "    # Standard predictions of keras models are one class probabilities if sigmoid activation\n",
        "    # else are multiclass probabilities.\n",
        "    # If you are using KerasClassifier the output are directly the class labels\n",
        "    if prediction_type == \"binary_prob\":\n",
        "        # Sigmoid activation outputs a single probability (between 0 and 1)\n",
        "        y_test_pred = np.round(y_test_pred).astype(int)\n",
        "    elif prediction_type == \"categorical_prob\":\n",
        "        # Softmax activation outputs a multiclass probability\n",
        "        y_test_pred = np.argmax(y_test_pred, axis=1).astype(int)\n",
        "\n",
        "    # Squezze array to 1-D array\n",
        "    y_test_pred = np.squeeze(y_test_pred)\n",
        "\n",
        "    # Create outpath if does not exist\n",
        "    if not os.path.exists(OUTPUT_PATH):\n",
        "        os.mkdir(OUTPUT_PATH)\n",
        "\n",
        "    # submission file\n",
        "    my_submission = pd.DataFrame({\"Id\": Id, \"target\": y_test_pred})\n",
        "    # you could use any filename. We choose submission here\n",
        "    my_submission.to_csv(OUTPUT_PATH + submissionFile, index=False)\n",
        "\n",
        "    print(submissionDescription)\n",
        "    # Submit authomatically; kaggle API authentication needed\n",
        "    #!kaggle competitions submit -c heart-attack-analysis-and-prediction-21 -f {OUTPUT_PATH/submissionFile} -m '{submissionDescription}'"
      ]
    },
    {
      "cell_type": "markdown",
      "metadata": {
        "id": "x4XoFlYQ6Wni"
      },
      "source": [
        "### Keras utils"
      ]
    },
    {
      "cell_type": "code",
      "execution_count": 10,
      "metadata": {
        "id": "eVvB2Y-C6Wnj"
      },
      "outputs": [],
      "source": [
        "def build_keras_model(input_shape=(13,), hidden_units=(13, 8), hidden_activation=\"relu\"):\n",
        "    # Initialize the constructor\n",
        "    model = Sequential()\n",
        "    # Add an input layer\n",
        "    model.add(Dense(hidden_units[0], activation=hidden_activation, input_shape=input_shape))\n",
        "    # Add one hidden layer\n",
        "    model.add(Dense(hidden_units[1], activation=hidden_activation))\n",
        "    # Add an output layer\n",
        "    model.add(Dense(1, activation=\"sigmoid\"))\n",
        "\n",
        "    # Compile the model\n",
        "    model.compile(\n",
        "        loss=\"binary_crossentropy\",\n",
        "        optimizer=\"SGD\",\n",
        "        metrics=[\"accuracy\", tf.keras.metrics.AUC()],\n",
        "    )\n",
        "\n",
        "    return model"
      ]
    },
    {
      "cell_type": "markdown",
      "metadata": {
        "id": "KAreCll741Pk"
      },
      "source": [
        "## Load Data"
      ]
    },
    {
      "cell_type": "code",
      "execution_count": 11,
      "metadata": {
        "_cell_guid": "8524922d-be55-46fd-863f-004261fcfff0",
        "_uuid": "58cfd95aa5563209575b12977280983ffeea6492",
        "colab": {
          "base_uri": "https://localhost:8080/"
        },
        "id": "179PvzaY41Pk",
        "outputId": "ee81490a-1905-4589-ea8b-ca23945757dd"
      },
      "outputs": [
        {
          "output_type": "execute_result",
          "data": {
            "text/plain": [
              "Id                       int64\n",
              "st_slope               float64\n",
              "age                    float64\n",
              "chest_pain_type        float64\n",
              "cholesterol            float64\n",
              "exercise_angina        float64\n",
              "fasting_blood_sugar    float64\n",
              "max_heart_rate         float64\n",
              "oldpeak                float64\n",
              "pulse                  float64\n",
              "resting_bp_s           float64\n",
              "resting_ecg            float64\n",
              "sex                    float64\n",
              "synt                   float64\n",
              "target                   int64\n",
              "dtype: object"
            ]
          },
          "metadata": {},
          "execution_count": 11
        }
      ],
      "source": [
        "# Read the data\n",
        "train = pd.read_csv(DATA_PATH + \"train.csv\")\n",
        "train.dtypes"
      ]
    },
    {
      "cell_type": "code",
      "execution_count": 12,
      "metadata": {
        "colab": {
          "base_uri": "https://localhost:8080/",
          "height": 226
        },
        "id": "dlokqpsPcQy2",
        "outputId": "c16a36a3-f28d-47ea-f55c-7fe40381c3c7"
      },
      "outputs": [
        {
          "output_type": "execute_result",
          "data": {
            "text/plain": [
              "     Id  st_slope   age  chest_pain_type  cholesterol  exercise_angina  \\\n",
              "0  1000       1.0  62.0              2.0        213.0              0.0   \n",
              "1  1001       2.0  72.0              3.0          2.0              0.0   \n",
              "2  1002       2.0  49.0              3.0        183.0              0.0   \n",
              "3  1003       1.0  35.0              2.0          NaN              0.0   \n",
              "4  1004       2.0  51.0              4.0         -4.0              0.0   \n",
              "\n",
              "   fasting_blood_sugar  max_heart_rate   oldpeak  pulse  resting_bp_s  \\\n",
              "0                  1.0           141.0 -0.051026  348.0         128.0   \n",
              "1                  0.0           115.0  1.626599  287.0         159.0   \n",
              "2                  0.0           156.0  0.968111  391.0         161.0   \n",
              "3                  0.0           179.0  0.021913  449.0         119.0   \n",
              "4                  1.0           104.0 -0.010970  258.0         120.0   \n",
              "\n",
              "   resting_ecg  sex      synt  target  \n",
              "0          2.0  1.0  0.536459       0  \n",
              "1          2.0  1.0  0.334897       0  \n",
              "2          0.0  0.0  0.720858       1  \n",
              "3          2.0  1.0  0.117560       0  \n",
              "4          0.0  1.0  0.790254       1  "
            ],
            "text/html": [
              "\n",
              "  <div id=\"df-5f3f1eb0-92af-46e0-8210-6d7f40a73f5b\" class=\"colab-df-container\">\n",
              "    <div>\n",
              "<style scoped>\n",
              "    .dataframe tbody tr th:only-of-type {\n",
              "        vertical-align: middle;\n",
              "    }\n",
              "\n",
              "    .dataframe tbody tr th {\n",
              "        vertical-align: top;\n",
              "    }\n",
              "\n",
              "    .dataframe thead th {\n",
              "        text-align: right;\n",
              "    }\n",
              "</style>\n",
              "<table border=\"1\" class=\"dataframe\">\n",
              "  <thead>\n",
              "    <tr style=\"text-align: right;\">\n",
              "      <th></th>\n",
              "      <th>Id</th>\n",
              "      <th>st_slope</th>\n",
              "      <th>age</th>\n",
              "      <th>chest_pain_type</th>\n",
              "      <th>cholesterol</th>\n",
              "      <th>exercise_angina</th>\n",
              "      <th>fasting_blood_sugar</th>\n",
              "      <th>max_heart_rate</th>\n",
              "      <th>oldpeak</th>\n",
              "      <th>pulse</th>\n",
              "      <th>resting_bp_s</th>\n",
              "      <th>resting_ecg</th>\n",
              "      <th>sex</th>\n",
              "      <th>synt</th>\n",
              "      <th>target</th>\n",
              "    </tr>\n",
              "  </thead>\n",
              "  <tbody>\n",
              "    <tr>\n",
              "      <th>0</th>\n",
              "      <td>1000</td>\n",
              "      <td>1.0</td>\n",
              "      <td>62.0</td>\n",
              "      <td>2.0</td>\n",
              "      <td>213.0</td>\n",
              "      <td>0.0</td>\n",
              "      <td>1.0</td>\n",
              "      <td>141.0</td>\n",
              "      <td>-0.051026</td>\n",
              "      <td>348.0</td>\n",
              "      <td>128.0</td>\n",
              "      <td>2.0</td>\n",
              "      <td>1.0</td>\n",
              "      <td>0.536459</td>\n",
              "      <td>0</td>\n",
              "    </tr>\n",
              "    <tr>\n",
              "      <th>1</th>\n",
              "      <td>1001</td>\n",
              "      <td>2.0</td>\n",
              "      <td>72.0</td>\n",
              "      <td>3.0</td>\n",
              "      <td>2.0</td>\n",
              "      <td>0.0</td>\n",
              "      <td>0.0</td>\n",
              "      <td>115.0</td>\n",
              "      <td>1.626599</td>\n",
              "      <td>287.0</td>\n",
              "      <td>159.0</td>\n",
              "      <td>2.0</td>\n",
              "      <td>1.0</td>\n",
              "      <td>0.334897</td>\n",
              "      <td>0</td>\n",
              "    </tr>\n",
              "    <tr>\n",
              "      <th>2</th>\n",
              "      <td>1002</td>\n",
              "      <td>2.0</td>\n",
              "      <td>49.0</td>\n",
              "      <td>3.0</td>\n",
              "      <td>183.0</td>\n",
              "      <td>0.0</td>\n",
              "      <td>0.0</td>\n",
              "      <td>156.0</td>\n",
              "      <td>0.968111</td>\n",
              "      <td>391.0</td>\n",
              "      <td>161.0</td>\n",
              "      <td>0.0</td>\n",
              "      <td>0.0</td>\n",
              "      <td>0.720858</td>\n",
              "      <td>1</td>\n",
              "    </tr>\n",
              "    <tr>\n",
              "      <th>3</th>\n",
              "      <td>1003</td>\n",
              "      <td>1.0</td>\n",
              "      <td>35.0</td>\n",
              "      <td>2.0</td>\n",
              "      <td>NaN</td>\n",
              "      <td>0.0</td>\n",
              "      <td>0.0</td>\n",
              "      <td>179.0</td>\n",
              "      <td>0.021913</td>\n",
              "      <td>449.0</td>\n",
              "      <td>119.0</td>\n",
              "      <td>2.0</td>\n",
              "      <td>1.0</td>\n",
              "      <td>0.117560</td>\n",
              "      <td>0</td>\n",
              "    </tr>\n",
              "    <tr>\n",
              "      <th>4</th>\n",
              "      <td>1004</td>\n",
              "      <td>2.0</td>\n",
              "      <td>51.0</td>\n",
              "      <td>4.0</td>\n",
              "      <td>-4.0</td>\n",
              "      <td>0.0</td>\n",
              "      <td>1.0</td>\n",
              "      <td>104.0</td>\n",
              "      <td>-0.010970</td>\n",
              "      <td>258.0</td>\n",
              "      <td>120.0</td>\n",
              "      <td>0.0</td>\n",
              "      <td>1.0</td>\n",
              "      <td>0.790254</td>\n",
              "      <td>1</td>\n",
              "    </tr>\n",
              "  </tbody>\n",
              "</table>\n",
              "</div>\n",
              "    <div class=\"colab-df-buttons\">\n",
              "\n",
              "  <div class=\"colab-df-container\">\n",
              "    <button class=\"colab-df-convert\" onclick=\"convertToInteractive('df-5f3f1eb0-92af-46e0-8210-6d7f40a73f5b')\"\n",
              "            title=\"Convert this dataframe to an interactive table.\"\n",
              "            style=\"display:none;\">\n",
              "\n",
              "  <svg xmlns=\"http://www.w3.org/2000/svg\" height=\"24px\" viewBox=\"0 -960 960 960\">\n",
              "    <path d=\"M120-120v-720h720v720H120Zm60-500h600v-160H180v160Zm220 220h160v-160H400v160Zm0 220h160v-160H400v160ZM180-400h160v-160H180v160Zm440 0h160v-160H620v160ZM180-180h160v-160H180v160Zm440 0h160v-160H620v160Z\"/>\n",
              "  </svg>\n",
              "    </button>\n",
              "\n",
              "  <style>\n",
              "    .colab-df-container {\n",
              "      display:flex;\n",
              "      gap: 12px;\n",
              "    }\n",
              "\n",
              "    .colab-df-convert {\n",
              "      background-color: #E8F0FE;\n",
              "      border: none;\n",
              "      border-radius: 50%;\n",
              "      cursor: pointer;\n",
              "      display: none;\n",
              "      fill: #1967D2;\n",
              "      height: 32px;\n",
              "      padding: 0 0 0 0;\n",
              "      width: 32px;\n",
              "    }\n",
              "\n",
              "    .colab-df-convert:hover {\n",
              "      background-color: #E2EBFA;\n",
              "      box-shadow: 0px 1px 2px rgba(60, 64, 67, 0.3), 0px 1px 3px 1px rgba(60, 64, 67, 0.15);\n",
              "      fill: #174EA6;\n",
              "    }\n",
              "\n",
              "    .colab-df-buttons div {\n",
              "      margin-bottom: 4px;\n",
              "    }\n",
              "\n",
              "    [theme=dark] .colab-df-convert {\n",
              "      background-color: #3B4455;\n",
              "      fill: #D2E3FC;\n",
              "    }\n",
              "\n",
              "    [theme=dark] .colab-df-convert:hover {\n",
              "      background-color: #434B5C;\n",
              "      box-shadow: 0px 1px 3px 1px rgba(0, 0, 0, 0.15);\n",
              "      filter: drop-shadow(0px 1px 2px rgba(0, 0, 0, 0.3));\n",
              "      fill: #FFFFFF;\n",
              "    }\n",
              "  </style>\n",
              "\n",
              "    <script>\n",
              "      const buttonEl =\n",
              "        document.querySelector('#df-5f3f1eb0-92af-46e0-8210-6d7f40a73f5b button.colab-df-convert');\n",
              "      buttonEl.style.display =\n",
              "        google.colab.kernel.accessAllowed ? 'block' : 'none';\n",
              "\n",
              "      async function convertToInteractive(key) {\n",
              "        const element = document.querySelector('#df-5f3f1eb0-92af-46e0-8210-6d7f40a73f5b');\n",
              "        const dataTable =\n",
              "          await google.colab.kernel.invokeFunction('convertToInteractive',\n",
              "                                                    [key], {});\n",
              "        if (!dataTable) return;\n",
              "\n",
              "        const docLinkHtml = 'Like what you see? Visit the ' +\n",
              "          '<a target=\"_blank\" href=https://colab.research.google.com/notebooks/data_table.ipynb>data table notebook</a>'\n",
              "          + ' to learn more about interactive tables.';\n",
              "        element.innerHTML = '';\n",
              "        dataTable['output_type'] = 'display_data';\n",
              "        await google.colab.output.renderOutput(dataTable, element);\n",
              "        const docLink = document.createElement('div');\n",
              "        docLink.innerHTML = docLinkHtml;\n",
              "        element.appendChild(docLink);\n",
              "      }\n",
              "    </script>\n",
              "  </div>\n",
              "\n",
              "\n",
              "<div id=\"df-844f0958-88f6-4115-a2c5-fc9a373e21a9\">\n",
              "  <button class=\"colab-df-quickchart\" onclick=\"quickchart('df-844f0958-88f6-4115-a2c5-fc9a373e21a9')\"\n",
              "            title=\"Suggest charts.\"\n",
              "            style=\"display:none;\">\n",
              "\n",
              "<svg xmlns=\"http://www.w3.org/2000/svg\" height=\"24px\"viewBox=\"0 0 24 24\"\n",
              "     width=\"24px\">\n",
              "    <g>\n",
              "        <path d=\"M19 3H5c-1.1 0-2 .9-2 2v14c0 1.1.9 2 2 2h14c1.1 0 2-.9 2-2V5c0-1.1-.9-2-2-2zM9 17H7v-7h2v7zm4 0h-2V7h2v10zm4 0h-2v-4h2v4z\"/>\n",
              "    </g>\n",
              "</svg>\n",
              "  </button>\n",
              "\n",
              "<style>\n",
              "  .colab-df-quickchart {\n",
              "      --bg-color: #E8F0FE;\n",
              "      --fill-color: #1967D2;\n",
              "      --hover-bg-color: #E2EBFA;\n",
              "      --hover-fill-color: #174EA6;\n",
              "      --disabled-fill-color: #AAA;\n",
              "      --disabled-bg-color: #DDD;\n",
              "  }\n",
              "\n",
              "  [theme=dark] .colab-df-quickchart {\n",
              "      --bg-color: #3B4455;\n",
              "      --fill-color: #D2E3FC;\n",
              "      --hover-bg-color: #434B5C;\n",
              "      --hover-fill-color: #FFFFFF;\n",
              "      --disabled-bg-color: #3B4455;\n",
              "      --disabled-fill-color: #666;\n",
              "  }\n",
              "\n",
              "  .colab-df-quickchart {\n",
              "    background-color: var(--bg-color);\n",
              "    border: none;\n",
              "    border-radius: 50%;\n",
              "    cursor: pointer;\n",
              "    display: none;\n",
              "    fill: var(--fill-color);\n",
              "    height: 32px;\n",
              "    padding: 0;\n",
              "    width: 32px;\n",
              "  }\n",
              "\n",
              "  .colab-df-quickchart:hover {\n",
              "    background-color: var(--hover-bg-color);\n",
              "    box-shadow: 0 1px 2px rgba(60, 64, 67, 0.3), 0 1px 3px 1px rgba(60, 64, 67, 0.15);\n",
              "    fill: var(--button-hover-fill-color);\n",
              "  }\n",
              "\n",
              "  .colab-df-quickchart-complete:disabled,\n",
              "  .colab-df-quickchart-complete:disabled:hover {\n",
              "    background-color: var(--disabled-bg-color);\n",
              "    fill: var(--disabled-fill-color);\n",
              "    box-shadow: none;\n",
              "  }\n",
              "\n",
              "  .colab-df-spinner {\n",
              "    border: 2px solid var(--fill-color);\n",
              "    border-color: transparent;\n",
              "    border-bottom-color: var(--fill-color);\n",
              "    animation:\n",
              "      spin 1s steps(1) infinite;\n",
              "  }\n",
              "\n",
              "  @keyframes spin {\n",
              "    0% {\n",
              "      border-color: transparent;\n",
              "      border-bottom-color: var(--fill-color);\n",
              "      border-left-color: var(--fill-color);\n",
              "    }\n",
              "    20% {\n",
              "      border-color: transparent;\n",
              "      border-left-color: var(--fill-color);\n",
              "      border-top-color: var(--fill-color);\n",
              "    }\n",
              "    30% {\n",
              "      border-color: transparent;\n",
              "      border-left-color: var(--fill-color);\n",
              "      border-top-color: var(--fill-color);\n",
              "      border-right-color: var(--fill-color);\n",
              "    }\n",
              "    40% {\n",
              "      border-color: transparent;\n",
              "      border-right-color: var(--fill-color);\n",
              "      border-top-color: var(--fill-color);\n",
              "    }\n",
              "    60% {\n",
              "      border-color: transparent;\n",
              "      border-right-color: var(--fill-color);\n",
              "    }\n",
              "    80% {\n",
              "      border-color: transparent;\n",
              "      border-right-color: var(--fill-color);\n",
              "      border-bottom-color: var(--fill-color);\n",
              "    }\n",
              "    90% {\n",
              "      border-color: transparent;\n",
              "      border-bottom-color: var(--fill-color);\n",
              "    }\n",
              "  }\n",
              "</style>\n",
              "\n",
              "  <script>\n",
              "    async function quickchart(key) {\n",
              "      const quickchartButtonEl =\n",
              "        document.querySelector('#' + key + ' button');\n",
              "      quickchartButtonEl.disabled = true;  // To prevent multiple clicks.\n",
              "      quickchartButtonEl.classList.add('colab-df-spinner');\n",
              "      try {\n",
              "        const charts = await google.colab.kernel.invokeFunction(\n",
              "            'suggestCharts', [key], {});\n",
              "      } catch (error) {\n",
              "        console.error('Error during call to suggestCharts:', error);\n",
              "      }\n",
              "      quickchartButtonEl.classList.remove('colab-df-spinner');\n",
              "      quickchartButtonEl.classList.add('colab-df-quickchart-complete');\n",
              "    }\n",
              "    (() => {\n",
              "      let quickchartButtonEl =\n",
              "        document.querySelector('#df-844f0958-88f6-4115-a2c5-fc9a373e21a9 button');\n",
              "      quickchartButtonEl.style.display =\n",
              "        google.colab.kernel.accessAllowed ? 'block' : 'none';\n",
              "    })();\n",
              "  </script>\n",
              "</div>\n",
              "    </div>\n",
              "  </div>\n"
            ]
          },
          "metadata": {},
          "execution_count": 12
        }
      ],
      "source": [
        "train.head()"
      ]
    },
    {
      "cell_type": "markdown",
      "metadata": {
        "id": "rtiORdT141Pm"
      },
      "source": [
        "## Count missing values in columns"
      ]
    },
    {
      "cell_type": "code",
      "execution_count": 13,
      "metadata": {
        "colab": {
          "base_uri": "https://localhost:8080/"
        },
        "id": "mBEC-jf_41Pm",
        "outputId": "4ba950ff-2365-44ee-bcb1-1f4b585034a3"
      },
      "outputs": [
        {
          "output_type": "execute_result",
          "data": {
            "text/plain": [
              "Id                       0\n",
              "st_slope                 1\n",
              "age                      4\n",
              "chest_pain_type          9\n",
              "cholesterol            202\n",
              "exercise_angina          3\n",
              "fasting_blood_sugar     11\n",
              "max_heart_rate           7\n",
              "oldpeak                  8\n",
              "pulse                    3\n",
              "resting_bp_s             7\n",
              "resting_ecg              3\n",
              "sex                      8\n",
              "synt                     0\n",
              "target                   0\n",
              "dtype: int64"
            ]
          },
          "metadata": {},
          "execution_count": 13
        }
      ],
      "source": [
        "number_of_missing_in_cols = train.shape[0] - train.count()\n",
        "number_of_missing_in_cols"
      ]
    },
    {
      "cell_type": "markdown",
      "metadata": {
        "id": "R_pwrwvZ41Pn"
      },
      "source": [
        "## Divide features by sematic type (binary, nominal, numerical)"
      ]
    },
    {
      "cell_type": "code",
      "execution_count": 14,
      "metadata": {
        "colab": {
          "base_uri": "https://localhost:8080/"
        },
        "id": "GUwIUeyv41Pn",
        "outputId": "3df2307b-47cb-462c-cb90-727547c7ecef"
      },
      "outputs": [
        {
          "output_type": "execute_result",
          "data": {
            "text/plain": [
              "exercise_angina           2\n",
              "fasting_blood_sugar       2\n",
              "sex                       2\n",
              "resting_ecg               3\n",
              "st_slope                  4\n",
              "chest_pain_type           4\n",
              "age                      49\n",
              "resting_bp_s             87\n",
              "max_heart_rate          121\n",
              "cholesterol             222\n",
              "pulse                   259\n",
              "oldpeak                 947\n",
              "synt                   1301\n",
              "dtype: int64"
            ]
          },
          "metadata": {},
          "execution_count": 14
        }
      ],
      "source": [
        "# Count the number of unique values in dataframe\n",
        "cols_unique_vals_count = train.drop(columns=DROPCOLUMS).nunique().sort_values()\n",
        "cols_unique_vals_count"
      ]
    },
    {
      "cell_type": "code",
      "execution_count": 15,
      "metadata": {
        "colab": {
          "base_uri": "https://localhost:8080/"
        },
        "id": "T-ehoc_241Pn",
        "outputId": "cfc54f05-5e6b-4aba-d5b8-7656f43c3b89"
      },
      "outputs": [
        {
          "output_type": "execute_result",
          "data": {
            "text/plain": [
              "['exercise_angina', 'fasting_blood_sugar', 'sex']"
            ]
          },
          "metadata": {},
          "execution_count": 15
        }
      ],
      "source": [
        "# If the column has only 2 unique values it is a binary col\n",
        "BINARY_COLS = [col for col, val in cols_unique_vals_count.items() if val == 2]\n",
        "BINARY_COLS"
      ]
    },
    {
      "cell_type": "code",
      "execution_count": 16,
      "metadata": {
        "colab": {
          "base_uri": "https://localhost:8080/"
        },
        "id": "SxV7GdUF41Po",
        "outputId": "65d742a5-81ad-401e-ae83-04757f87b5cd"
      },
      "outputs": [
        {
          "output_type": "execute_result",
          "data": {
            "text/plain": [
              "['resting_ecg', 'st_slope', 'chest_pain_type']"
            ]
          },
          "metadata": {},
          "execution_count": 16
        }
      ],
      "source": [
        "# Maximum number of unique values which represent a Nominal (categorical) feature\n",
        "NOMINAL_NUNIQUE_THRESHOLD = 10\n",
        "NOMINAL_COLS = [\n",
        "    col\n",
        "    for col, val in cols_unique_vals_count.items()\n",
        "    if val > 2 and val < NOMINAL_NUNIQUE_THRESHOLD\n",
        "]\n",
        "NOMINAL_COLS"
      ]
    },
    {
      "cell_type": "code",
      "execution_count": 17,
      "metadata": {
        "colab": {
          "base_uri": "https://localhost:8080/"
        },
        "id": "bbtd2eAK41Po",
        "outputId": "dd43e8ad-b858-43bc-b116-cde0dda62964"
      },
      "outputs": [
        {
          "output_type": "execute_result",
          "data": {
            "text/plain": [
              "['age',\n",
              " 'resting_bp_s',\n",
              " 'max_heart_rate',\n",
              " 'cholesterol',\n",
              " 'pulse',\n",
              " 'oldpeak',\n",
              " 'synt']"
            ]
          },
          "metadata": {},
          "execution_count": 17
        }
      ],
      "source": [
        "# Maximum number of unique values which represent a Nominal (categorical) feature\n",
        "NUMERICAL_COLS = [\n",
        "    col\n",
        "    for col, val in cols_unique_vals_count.items()\n",
        "    if val > NOMINAL_NUNIQUE_THRESHOLD\n",
        "]\n",
        "NUMERICAL_COLS"
      ]
    },
    {
      "cell_type": "code",
      "execution_count": 18,
      "metadata": {
        "colab": {
          "base_uri": "https://localhost:8080/"
        },
        "id": "OeR8YaEN41Pp",
        "outputId": "061050cb-3b7c-46e4-b6dc-9da9c92b22f5"
      },
      "outputs": [
        {
          "output_type": "execute_result",
          "data": {
            "text/plain": [
              "['exercise_angina',\n",
              " 'fasting_blood_sugar',\n",
              " 'sex',\n",
              " 'resting_ecg',\n",
              " 'st_slope',\n",
              " 'chest_pain_type']"
            ]
          },
          "metadata": {},
          "execution_count": 18
        }
      ],
      "source": [
        "# Create the categorical columns list as binary + nominal\n",
        "CATEGORICAL_COLS = BINARY_COLS + NOMINAL_COLS\n",
        "CATEGORICAL_COLS"
      ]
    },
    {
      "cell_type": "markdown",
      "metadata": {
        "id": "KxX3XDIVcQy9"
      },
      "source": [
        "## Feature engineering phase"
      ]
    },
    {
      "cell_type": "code",
      "execution_count": 19,
      "metadata": {
        "id": "JbZ-89Mm41Pq"
      },
      "outputs": [],
      "source": [
        "# Split dataset in data and target label\n",
        "X_train, y_train = train.drop(columns=DROPCOLUMS), train.target"
      ]
    },
    {
      "cell_type": "code",
      "execution_count": 20,
      "metadata": {
        "id": "FnkZf_fO41Pq"
      },
      "outputs": [],
      "source": [
        "# Create categorical transformer (binary + nominal)\n",
        "# Replace imputer\n",
        "categorical_transformer = Pipeline(\n",
        "    steps=[\n",
        "        (\"imputer\", SimpleImputer(missing_values=np.nan, strategy=\"most_frequent\")),\n",
        "        (\"scaler\", StandardScaler()),\n",
        "        # (\"one_hot_encoder\", OneHotEncoder()),\n",
        "    ]\n",
        ")"
      ]
    },
    {
      "cell_type": "code",
      "execution_count": 21,
      "metadata": {
        "id": "edZmLnYs41Pq"
      },
      "outputs": [],
      "source": [
        "# Create numeric transformer\n",
        "# Impute missing values using the median value of each colum\n",
        "numeric_transformer = Pipeline(\n",
        "    steps=[(\"imputer\", SimpleImputer(strategy=\"median\")), (\"scaler\", StandardScaler())]\n",
        ")"
      ]
    },
    {
      "cell_type": "code",
      "execution_count": 22,
      "metadata": {
        "id": "8GqvzLv641Pr"
      },
      "outputs": [],
      "source": [
        "# Create the imputer of mixed type columns\n",
        "# ATTENTION: the preprocessor can be used in a Pipeline for simplicity\n",
        "preprocessor = ColumnTransformer(\n",
        "    transformers=[\n",
        "        (\"preproc_numeric\", numeric_transformer, NUMERICAL_COLS),\n",
        "        (\"preproc_categorical\", categorical_transformer, CATEGORICAL_COLS),\n",
        "    ],\n",
        "    verbose=True,\n",
        ")"
      ]
    },
    {
      "cell_type": "code",
      "execution_count": 23,
      "metadata": {
        "colab": {
          "base_uri": "https://localhost:8080/"
        },
        "id": "KAGwdIWgcQy9",
        "outputId": "c023b0ee-6f37-49f3-bb43-91a7aa5737f0"
      },
      "outputs": [
        {
          "output_type": "stream",
          "name": "stdout",
          "text": [
            "[ColumnTransformer]  (1 of 2) Processing preproc_numeric, total=   0.0s\n",
            "[ColumnTransformer]  (2 of 2) Processing preproc_categorical, total=   0.1s\n"
          ]
        }
      ],
      "source": [
        "# Fit the imputer\n",
        "preproc = preprocessor.fit(X_train)\n",
        "# Impute our data\n",
        "X_train_pp = preproc.transform(X_train)"
      ]
    },
    {
      "cell_type": "code",
      "execution_count": 24,
      "metadata": {
        "colab": {
          "base_uri": "https://localhost:8080/",
          "height": 226
        },
        "id": "kBgKH8fQ41Pu",
        "outputId": "ecac1074-a733-4243-fa18-9289d5a56a20"
      },
      "outputs": [
        {
          "output_type": "execute_result",
          "data": {
            "text/plain": [
              "        age  resting_bp_s  max_heart_rate  cholesterol     pulse   oldpeak  \\\n",
              "0  0.941014     -0.172203       -0.036796    -0.058920 -0.111874 -0.811953   \n",
              "1  2.007163      1.524627       -1.064594    -2.444133 -1.076661  0.828729   \n",
              "2 -0.444980      1.634100        0.556165    -0.398050  0.568222  0.184742   \n",
              "3 -1.937589     -0.664831        1.465371     0.133254  1.485560 -0.740620   \n",
              "4 -0.231750     -0.610095       -1.499432    -2.511959 -1.535331 -0.772778   \n",
              "\n",
              "       synt  exercise_angina  fasting_blood_sugar       sex  resting_ecg  \\\n",
              "0  0.128071        -0.703848             2.050366  0.626844     1.508225   \n",
              "1 -0.564164        -0.703848            -0.487718  0.626844     1.508225   \n",
              "2  0.761359        -0.703848            -0.487718 -1.595293    -0.782728   \n",
              "3 -1.310572        -0.703848            -0.487718  0.626844     1.508225   \n",
              "4  0.999688        -0.703848             2.050366  0.626844    -0.782728   \n",
              "\n",
              "   st_slope  chest_pain_type  \n",
              "0 -0.888269        -1.122993  \n",
              "1  0.803734        -0.080157  \n",
              "2  0.803734        -0.080157  \n",
              "3 -0.888269        -1.122993  \n",
              "4  0.803734         0.962680  "
            ],
            "text/html": [
              "\n",
              "  <div id=\"df-28779b68-bae5-41fb-b9dd-2417dcfd424a\" class=\"colab-df-container\">\n",
              "    <div>\n",
              "<style scoped>\n",
              "    .dataframe tbody tr th:only-of-type {\n",
              "        vertical-align: middle;\n",
              "    }\n",
              "\n",
              "    .dataframe tbody tr th {\n",
              "        vertical-align: top;\n",
              "    }\n",
              "\n",
              "    .dataframe thead th {\n",
              "        text-align: right;\n",
              "    }\n",
              "</style>\n",
              "<table border=\"1\" class=\"dataframe\">\n",
              "  <thead>\n",
              "    <tr style=\"text-align: right;\">\n",
              "      <th></th>\n",
              "      <th>age</th>\n",
              "      <th>resting_bp_s</th>\n",
              "      <th>max_heart_rate</th>\n",
              "      <th>cholesterol</th>\n",
              "      <th>pulse</th>\n",
              "      <th>oldpeak</th>\n",
              "      <th>synt</th>\n",
              "      <th>exercise_angina</th>\n",
              "      <th>fasting_blood_sugar</th>\n",
              "      <th>sex</th>\n",
              "      <th>resting_ecg</th>\n",
              "      <th>st_slope</th>\n",
              "      <th>chest_pain_type</th>\n",
              "    </tr>\n",
              "  </thead>\n",
              "  <tbody>\n",
              "    <tr>\n",
              "      <th>0</th>\n",
              "      <td>0.941014</td>\n",
              "      <td>-0.172203</td>\n",
              "      <td>-0.036796</td>\n",
              "      <td>-0.058920</td>\n",
              "      <td>-0.111874</td>\n",
              "      <td>-0.811953</td>\n",
              "      <td>0.128071</td>\n",
              "      <td>-0.703848</td>\n",
              "      <td>2.050366</td>\n",
              "      <td>0.626844</td>\n",
              "      <td>1.508225</td>\n",
              "      <td>-0.888269</td>\n",
              "      <td>-1.122993</td>\n",
              "    </tr>\n",
              "    <tr>\n",
              "      <th>1</th>\n",
              "      <td>2.007163</td>\n",
              "      <td>1.524627</td>\n",
              "      <td>-1.064594</td>\n",
              "      <td>-2.444133</td>\n",
              "      <td>-1.076661</td>\n",
              "      <td>0.828729</td>\n",
              "      <td>-0.564164</td>\n",
              "      <td>-0.703848</td>\n",
              "      <td>-0.487718</td>\n",
              "      <td>0.626844</td>\n",
              "      <td>1.508225</td>\n",
              "      <td>0.803734</td>\n",
              "      <td>-0.080157</td>\n",
              "    </tr>\n",
              "    <tr>\n",
              "      <th>2</th>\n",
              "      <td>-0.444980</td>\n",
              "      <td>1.634100</td>\n",
              "      <td>0.556165</td>\n",
              "      <td>-0.398050</td>\n",
              "      <td>0.568222</td>\n",
              "      <td>0.184742</td>\n",
              "      <td>0.761359</td>\n",
              "      <td>-0.703848</td>\n",
              "      <td>-0.487718</td>\n",
              "      <td>-1.595293</td>\n",
              "      <td>-0.782728</td>\n",
              "      <td>0.803734</td>\n",
              "      <td>-0.080157</td>\n",
              "    </tr>\n",
              "    <tr>\n",
              "      <th>3</th>\n",
              "      <td>-1.937589</td>\n",
              "      <td>-0.664831</td>\n",
              "      <td>1.465371</td>\n",
              "      <td>0.133254</td>\n",
              "      <td>1.485560</td>\n",
              "      <td>-0.740620</td>\n",
              "      <td>-1.310572</td>\n",
              "      <td>-0.703848</td>\n",
              "      <td>-0.487718</td>\n",
              "      <td>0.626844</td>\n",
              "      <td>1.508225</td>\n",
              "      <td>-0.888269</td>\n",
              "      <td>-1.122993</td>\n",
              "    </tr>\n",
              "    <tr>\n",
              "      <th>4</th>\n",
              "      <td>-0.231750</td>\n",
              "      <td>-0.610095</td>\n",
              "      <td>-1.499432</td>\n",
              "      <td>-2.511959</td>\n",
              "      <td>-1.535331</td>\n",
              "      <td>-0.772778</td>\n",
              "      <td>0.999688</td>\n",
              "      <td>-0.703848</td>\n",
              "      <td>2.050366</td>\n",
              "      <td>0.626844</td>\n",
              "      <td>-0.782728</td>\n",
              "      <td>0.803734</td>\n",
              "      <td>0.962680</td>\n",
              "    </tr>\n",
              "  </tbody>\n",
              "</table>\n",
              "</div>\n",
              "    <div class=\"colab-df-buttons\">\n",
              "\n",
              "  <div class=\"colab-df-container\">\n",
              "    <button class=\"colab-df-convert\" onclick=\"convertToInteractive('df-28779b68-bae5-41fb-b9dd-2417dcfd424a')\"\n",
              "            title=\"Convert this dataframe to an interactive table.\"\n",
              "            style=\"display:none;\">\n",
              "\n",
              "  <svg xmlns=\"http://www.w3.org/2000/svg\" height=\"24px\" viewBox=\"0 -960 960 960\">\n",
              "    <path d=\"M120-120v-720h720v720H120Zm60-500h600v-160H180v160Zm220 220h160v-160H400v160Zm0 220h160v-160H400v160ZM180-400h160v-160H180v160Zm440 0h160v-160H620v160ZM180-180h160v-160H180v160Zm440 0h160v-160H620v160Z\"/>\n",
              "  </svg>\n",
              "    </button>\n",
              "\n",
              "  <style>\n",
              "    .colab-df-container {\n",
              "      display:flex;\n",
              "      gap: 12px;\n",
              "    }\n",
              "\n",
              "    .colab-df-convert {\n",
              "      background-color: #E8F0FE;\n",
              "      border: none;\n",
              "      border-radius: 50%;\n",
              "      cursor: pointer;\n",
              "      display: none;\n",
              "      fill: #1967D2;\n",
              "      height: 32px;\n",
              "      padding: 0 0 0 0;\n",
              "      width: 32px;\n",
              "    }\n",
              "\n",
              "    .colab-df-convert:hover {\n",
              "      background-color: #E2EBFA;\n",
              "      box-shadow: 0px 1px 2px rgba(60, 64, 67, 0.3), 0px 1px 3px 1px rgba(60, 64, 67, 0.15);\n",
              "      fill: #174EA6;\n",
              "    }\n",
              "\n",
              "    .colab-df-buttons div {\n",
              "      margin-bottom: 4px;\n",
              "    }\n",
              "\n",
              "    [theme=dark] .colab-df-convert {\n",
              "      background-color: #3B4455;\n",
              "      fill: #D2E3FC;\n",
              "    }\n",
              "\n",
              "    [theme=dark] .colab-df-convert:hover {\n",
              "      background-color: #434B5C;\n",
              "      box-shadow: 0px 1px 3px 1px rgba(0, 0, 0, 0.15);\n",
              "      filter: drop-shadow(0px 1px 2px rgba(0, 0, 0, 0.3));\n",
              "      fill: #FFFFFF;\n",
              "    }\n",
              "  </style>\n",
              "\n",
              "    <script>\n",
              "      const buttonEl =\n",
              "        document.querySelector('#df-28779b68-bae5-41fb-b9dd-2417dcfd424a button.colab-df-convert');\n",
              "      buttonEl.style.display =\n",
              "        google.colab.kernel.accessAllowed ? 'block' : 'none';\n",
              "\n",
              "      async function convertToInteractive(key) {\n",
              "        const element = document.querySelector('#df-28779b68-bae5-41fb-b9dd-2417dcfd424a');\n",
              "        const dataTable =\n",
              "          await google.colab.kernel.invokeFunction('convertToInteractive',\n",
              "                                                    [key], {});\n",
              "        if (!dataTable) return;\n",
              "\n",
              "        const docLinkHtml = 'Like what you see? Visit the ' +\n",
              "          '<a target=\"_blank\" href=https://colab.research.google.com/notebooks/data_table.ipynb>data table notebook</a>'\n",
              "          + ' to learn more about interactive tables.';\n",
              "        element.innerHTML = '';\n",
              "        dataTable['output_type'] = 'display_data';\n",
              "        await google.colab.output.renderOutput(dataTable, element);\n",
              "        const docLink = document.createElement('div');\n",
              "        docLink.innerHTML = docLinkHtml;\n",
              "        element.appendChild(docLink);\n",
              "      }\n",
              "    </script>\n",
              "  </div>\n",
              "\n",
              "\n",
              "<div id=\"df-5e4623e7-829e-4bc7-b224-2cfab8baedc1\">\n",
              "  <button class=\"colab-df-quickchart\" onclick=\"quickchart('df-5e4623e7-829e-4bc7-b224-2cfab8baedc1')\"\n",
              "            title=\"Suggest charts.\"\n",
              "            style=\"display:none;\">\n",
              "\n",
              "<svg xmlns=\"http://www.w3.org/2000/svg\" height=\"24px\"viewBox=\"0 0 24 24\"\n",
              "     width=\"24px\">\n",
              "    <g>\n",
              "        <path d=\"M19 3H5c-1.1 0-2 .9-2 2v14c0 1.1.9 2 2 2h14c1.1 0 2-.9 2-2V5c0-1.1-.9-2-2-2zM9 17H7v-7h2v7zm4 0h-2V7h2v10zm4 0h-2v-4h2v4z\"/>\n",
              "    </g>\n",
              "</svg>\n",
              "  </button>\n",
              "\n",
              "<style>\n",
              "  .colab-df-quickchart {\n",
              "      --bg-color: #E8F0FE;\n",
              "      --fill-color: #1967D2;\n",
              "      --hover-bg-color: #E2EBFA;\n",
              "      --hover-fill-color: #174EA6;\n",
              "      --disabled-fill-color: #AAA;\n",
              "      --disabled-bg-color: #DDD;\n",
              "  }\n",
              "\n",
              "  [theme=dark] .colab-df-quickchart {\n",
              "      --bg-color: #3B4455;\n",
              "      --fill-color: #D2E3FC;\n",
              "      --hover-bg-color: #434B5C;\n",
              "      --hover-fill-color: #FFFFFF;\n",
              "      --disabled-bg-color: #3B4455;\n",
              "      --disabled-fill-color: #666;\n",
              "  }\n",
              "\n",
              "  .colab-df-quickchart {\n",
              "    background-color: var(--bg-color);\n",
              "    border: none;\n",
              "    border-radius: 50%;\n",
              "    cursor: pointer;\n",
              "    display: none;\n",
              "    fill: var(--fill-color);\n",
              "    height: 32px;\n",
              "    padding: 0;\n",
              "    width: 32px;\n",
              "  }\n",
              "\n",
              "  .colab-df-quickchart:hover {\n",
              "    background-color: var(--hover-bg-color);\n",
              "    box-shadow: 0 1px 2px rgba(60, 64, 67, 0.3), 0 1px 3px 1px rgba(60, 64, 67, 0.15);\n",
              "    fill: var(--button-hover-fill-color);\n",
              "  }\n",
              "\n",
              "  .colab-df-quickchart-complete:disabled,\n",
              "  .colab-df-quickchart-complete:disabled:hover {\n",
              "    background-color: var(--disabled-bg-color);\n",
              "    fill: var(--disabled-fill-color);\n",
              "    box-shadow: none;\n",
              "  }\n",
              "\n",
              "  .colab-df-spinner {\n",
              "    border: 2px solid var(--fill-color);\n",
              "    border-color: transparent;\n",
              "    border-bottom-color: var(--fill-color);\n",
              "    animation:\n",
              "      spin 1s steps(1) infinite;\n",
              "  }\n",
              "\n",
              "  @keyframes spin {\n",
              "    0% {\n",
              "      border-color: transparent;\n",
              "      border-bottom-color: var(--fill-color);\n",
              "      border-left-color: var(--fill-color);\n",
              "    }\n",
              "    20% {\n",
              "      border-color: transparent;\n",
              "      border-left-color: var(--fill-color);\n",
              "      border-top-color: var(--fill-color);\n",
              "    }\n",
              "    30% {\n",
              "      border-color: transparent;\n",
              "      border-left-color: var(--fill-color);\n",
              "      border-top-color: var(--fill-color);\n",
              "      border-right-color: var(--fill-color);\n",
              "    }\n",
              "    40% {\n",
              "      border-color: transparent;\n",
              "      border-right-color: var(--fill-color);\n",
              "      border-top-color: var(--fill-color);\n",
              "    }\n",
              "    60% {\n",
              "      border-color: transparent;\n",
              "      border-right-color: var(--fill-color);\n",
              "    }\n",
              "    80% {\n",
              "      border-color: transparent;\n",
              "      border-right-color: var(--fill-color);\n",
              "      border-bottom-color: var(--fill-color);\n",
              "    }\n",
              "    90% {\n",
              "      border-color: transparent;\n",
              "      border-bottom-color: var(--fill-color);\n",
              "    }\n",
              "  }\n",
              "</style>\n",
              "\n",
              "  <script>\n",
              "    async function quickchart(key) {\n",
              "      const quickchartButtonEl =\n",
              "        document.querySelector('#' + key + ' button');\n",
              "      quickchartButtonEl.disabled = true;  // To prevent multiple clicks.\n",
              "      quickchartButtonEl.classList.add('colab-df-spinner');\n",
              "      try {\n",
              "        const charts = await google.colab.kernel.invokeFunction(\n",
              "            'suggestCharts', [key], {});\n",
              "      } catch (error) {\n",
              "        console.error('Error during call to suggestCharts:', error);\n",
              "      }\n",
              "      quickchartButtonEl.classList.remove('colab-df-spinner');\n",
              "      quickchartButtonEl.classList.add('colab-df-quickchart-complete');\n",
              "    }\n",
              "    (() => {\n",
              "      let quickchartButtonEl =\n",
              "        document.querySelector('#df-5e4623e7-829e-4bc7-b224-2cfab8baedc1 button');\n",
              "      quickchartButtonEl.style.display =\n",
              "        google.colab.kernel.accessAllowed ? 'block' : 'none';\n",
              "    })();\n",
              "  </script>\n",
              "</div>\n",
              "    </div>\n",
              "  </div>\n"
            ]
          },
          "metadata": {},
          "execution_count": 24
        }
      ],
      "source": [
        "# Column names after mixed imputation procedure\n",
        "COLUMN_NAMES = NUMERICAL_COLS + CATEGORICAL_COLS\n",
        "# Create a DataFrame from numpy array for visualization and simplicity\n",
        "X_train_pp = pd.DataFrame(data=X_train_pp, columns=COLUMN_NAMES)\n",
        "X_train_pp.head()"
      ]
    },
    {
      "cell_type": "markdown",
      "metadata": {
        "id": "-xU8Pk2ScQzD"
      },
      "source": [
        "## Training"
      ]
    },
    {
      "cell_type": "markdown",
      "metadata": {
        "id": "edNIVyHAcQzE"
      },
      "source": [
        "### You can train directly on the training set"
      ]
    },
    {
      "cell_type": "code",
      "execution_count": 25,
      "metadata": {
        "id": "oaQjXaRMcQzE"
      },
      "outputs": [],
      "source": [
        "# Initialize the constructor\n",
        "first_model = my_model = Sequential()\n",
        "# Add an input layer\n",
        "my_model.add(Dense(13, activation=\"relu\", input_shape=(13,)))\n",
        "# Add one hidden layer\n",
        "my_model.add(Dense(8, activation=\"relu\"))\n",
        "# Add an output layer\n",
        "my_model.add(Dense(1, activation=\"sigmoid\"))"
      ]
    },
    {
      "cell_type": "code",
      "execution_count": 26,
      "metadata": {
        "colab": {
          "base_uri": "https://localhost:8080/"
        },
        "id": "PhIMqPfcj1Fg",
        "outputId": "a38ed0d9-2bda-45d8-f152-926a13901d4a"
      },
      "outputs": [
        {
          "output_type": "stream",
          "name": "stdout",
          "text": [
            "Epoch 1/20\n",
            "33/33 [==============================] - 3s 34ms/step - loss: 0.7733 - accuracy: 0.5404 - auc: 0.2640 - val_loss: 0.6823 - val_accuracy: 0.6360 - val_auc: 0.3783\n",
            "Epoch 2/20\n",
            "33/33 [==============================] - 0s 11ms/step - loss: 0.6961 - accuracy: 0.5702 - auc: 0.4499 - val_loss: 0.6411 - val_accuracy: 0.7165 - val_auc: 0.5626\n",
            "Epoch 3/20\n",
            "33/33 [==============================] - 0s 13ms/step - loss: 0.6497 - accuracy: 0.6500 - auc: 0.6418 - val_loss: 0.6097 - val_accuracy: 0.7510 - val_auc: 0.6825\n",
            "Epoch 4/20\n",
            "33/33 [==============================] - 0s 7ms/step - loss: 0.6150 - accuracy: 0.7279 - auc: 0.7399 - val_loss: 0.5809 - val_accuracy: 0.7586 - val_auc: 0.7553\n",
            "Epoch 5/20\n",
            "33/33 [==============================] - 0s 7ms/step - loss: 0.5856 - accuracy: 0.7577 - auc: 0.7879 - val_loss: 0.5546 - val_accuracy: 0.7854 - val_auc: 0.7989\n",
            "Epoch 6/20\n",
            "33/33 [==============================] - 0s 7ms/step - loss: 0.5596 - accuracy: 0.7683 - auc: 0.8149 - val_loss: 0.5304 - val_accuracy: 0.7931 - val_auc: 0.8231\n",
            "Epoch 7/20\n",
            "33/33 [==============================] - 0s 8ms/step - loss: 0.5363 - accuracy: 0.7731 - auc: 0.8329 - val_loss: 0.5080 - val_accuracy: 0.8008 - val_auc: 0.8400\n",
            "Epoch 8/20\n",
            "33/33 [==============================] - 0s 11ms/step - loss: 0.5153 - accuracy: 0.7827 - auc: 0.8471 - val_loss: 0.4875 - val_accuracy: 0.8008 - val_auc: 0.8528\n",
            "Epoch 9/20\n",
            "33/33 [==============================] - 0s 12ms/step - loss: 0.4967 - accuracy: 0.7875 - auc: 0.8561 - val_loss: 0.4696 - val_accuracy: 0.8084 - val_auc: 0.8590\n",
            "Epoch 10/20\n",
            "33/33 [==============================] - 0s 7ms/step - loss: 0.4805 - accuracy: 0.7962 - auc: 0.8624 - val_loss: 0.4548 - val_accuracy: 0.8046 - val_auc: 0.8651\n",
            "Epoch 11/20\n",
            "33/33 [==============================] - 0s 7ms/step - loss: 0.4668 - accuracy: 0.7990 - auc: 0.8686 - val_loss: 0.4403 - val_accuracy: 0.8123 - val_auc: 0.8699\n",
            "Epoch 12/20\n",
            "33/33 [==============================] - 0s 6ms/step - loss: 0.4547 - accuracy: 0.8058 - auc: 0.8729 - val_loss: 0.4287 - val_accuracy: 0.8199 - val_auc: 0.8738\n",
            "Epoch 13/20\n",
            "33/33 [==============================] - 0s 5ms/step - loss: 0.4442 - accuracy: 0.8135 - auc: 0.8772 - val_loss: 0.4187 - val_accuracy: 0.8238 - val_auc: 0.8774\n",
            "Epoch 14/20\n",
            "33/33 [==============================] - 0s 7ms/step - loss: 0.4354 - accuracy: 0.8144 - auc: 0.8805 - val_loss: 0.4108 - val_accuracy: 0.8314 - val_auc: 0.8794\n",
            "Epoch 15/20\n",
            "33/33 [==============================] - 0s 8ms/step - loss: 0.4275 - accuracy: 0.8202 - auc: 0.8834 - val_loss: 0.4044 - val_accuracy: 0.8314 - val_auc: 0.8808\n",
            "Epoch 16/20\n",
            "33/33 [==============================] - 0s 7ms/step - loss: 0.4209 - accuracy: 0.8221 - auc: 0.8860 - val_loss: 0.3988 - val_accuracy: 0.8314 - val_auc: 0.8827\n",
            "Epoch 17/20\n",
            "33/33 [==============================] - 0s 10ms/step - loss: 0.4151 - accuracy: 0.8279 - auc: 0.8884 - val_loss: 0.3938 - val_accuracy: 0.8314 - val_auc: 0.8843\n",
            "Epoch 18/20\n",
            "33/33 [==============================] - 0s 9ms/step - loss: 0.4100 - accuracy: 0.8269 - auc: 0.8906 - val_loss: 0.3897 - val_accuracy: 0.8276 - val_auc: 0.8860\n",
            "Epoch 19/20\n",
            "33/33 [==============================] - 0s 9ms/step - loss: 0.4055 - accuracy: 0.8298 - auc: 0.8925 - val_loss: 0.3867 - val_accuracy: 0.8314 - val_auc: 0.8866\n",
            "Epoch 20/20\n",
            "33/33 [==============================] - 0s 8ms/step - loss: 0.4015 - accuracy: 0.8288 - auc: 0.8948 - val_loss: 0.3835 - val_accuracy: 0.8391 - val_auc: 0.8873\n"
          ]
        }
      ],
      "source": [
        "my_model.compile(\n",
        "    loss=\"binary_crossentropy\",\n",
        "    optimizer=\"SGD\",\n",
        "    metrics=[\"accuracy\", tf.keras.metrics.AUC()],\n",
        ")\n",
        "\n",
        "training_phase = my_model.fit(\n",
        "    X_train_pp,\n",
        "    y_train,\n",
        "    epochs=EPOCHS,\n",
        "    batch_size=BATCH_SIZE,\n",
        "    validation_split=VAL_SIZE,\n",
        "    verbose=1,\n",
        ")"
      ]
    },
    {
      "cell_type": "code",
      "execution_count": 27,
      "metadata": {
        "colab": {
          "base_uri": "https://localhost:8080/",
          "height": 879
        },
        "id": "XjT046s3leEY",
        "outputId": "94cdebd1-be0d-4eea-9aee-d7c08b02d870"
      },
      "outputs": [
        {
          "output_type": "stream",
          "name": "stdout",
          "text": [
            "loss\n"
          ]
        },
        {
          "output_type": "display_data",
          "data": {
            "text/plain": [
              "<Figure size 640x480 with 1 Axes>"
            ],
            "image/png": "[encoded data removed]"
          },
          "metadata": {}
        },
        {
          "output_type": "stream",
          "name": "stdout",
          "text": [
            "Accuracy\n"
          ]
        },
        {
          "output_type": "display_data",
          "data": {
            "text/plain": [
              "<Figure size 640x480 with 1 Axes>"
            ],
            "image/png": "[encoded data removed]"
          },
          "metadata": {}
        }
      ],
      "source": [
        "# plot training history\n",
        "print(\"loss\")\n",
        "plt.plot(training_phase.history[\"loss\"], label=\"train\")\n",
        "plt.plot(training_phase.history[\"val_loss\"], label=\"validation\")\n",
        "plt.legend()\n",
        "plt.show()\n",
        "print(\"Accuracy\")\n",
        "plt.plot(training_phase.history[\"accuracy\"], label=\"train\")\n",
        "plt.plot(training_phase.history[\"val_accuracy\"], label=\"validation\")\n",
        "plt.legend()\n",
        "plt.show()"
      ]
    },
    {
      "cell_type": "code",
      "execution_count": 28,
      "metadata": {
        "colab": {
          "base_uri": "https://localhost:8080/"
        },
        "id": "XL2h0DDhlVJd",
        "outputId": "57693137-7c09-4fd1-e131-a9b33c17b2fd"
      },
      "outputs": [
        {
          "output_type": "stream",
          "name": "stdout",
          "text": [
            "41/41 [==============================] - 1s 9ms/step\n"
          ]
        },
        {
          "output_type": "execute_result",
          "data": {
            "text/plain": [
              "array([[0.4569565 ],\n",
              "       [0.7699534 ],\n",
              "       [0.04928146],\n",
              "       ...,\n",
              "       [0.09142774],\n",
              "       [0.04114624],\n",
              "       [0.336479  ]], dtype=float32)"
            ]
          },
          "metadata": {},
          "execution_count": 28
        }
      ],
      "source": [
        "y_pred = my_model.predict(X_train_pp)\n",
        "y_pred"
      ]
    },
    {
      "cell_type": "code",
      "execution_count": 29,
      "metadata": {
        "colab": {
          "base_uri": "https://localhost:8080/"
        },
        "id": "qjtrt8rBmG1k",
        "outputId": "9f6d435c-438b-479c-f890-c78ddb0cc774"
      },
      "outputs": [
        {
          "output_type": "stream",
          "name": "stdout",
          "text": [
            "[[0]\n",
            " [1]\n",
            " [0]\n",
            " ...\n",
            " [0]\n",
            " [0]\n",
            " [0]]\n"
          ]
        }
      ],
      "source": [
        "# We will look at the predicted Qualities to ensure we have something sensible.\n",
        "y_predicted = np.round(y_pred).astype(int)\n",
        "print(y_predicted)"
      ]
    },
    {
      "cell_type": "code",
      "execution_count": 30,
      "metadata": {
        "colab": {
          "base_uri": "https://localhost:8080/"
        },
        "id": "h_flxO0mcQzJ",
        "outputId": "0bdd1c85-dcde-4483-9e9a-ebbbbf89da06"
      },
      "outputs": [
        {
          "output_type": "stream",
          "name": "stdout",
          "text": [
            "[[703  95]\n",
            " [124 379]]\n",
            "Classification Report:\n",
            "              precision    recall  f1-score   support\n",
            "\n",
            "           0       0.85      0.88      0.87       798\n",
            "           1       0.80      0.75      0.78       503\n",
            "\n",
            "    accuracy                           0.83      1301\n",
            "   macro avg       0.82      0.82      0.82      1301\n",
            "weighted avg       0.83      0.83      0.83      1301\n",
            "\n"
          ]
        }
      ],
      "source": [
        "print(confusion_matrix(y_train, y_predicted))\n",
        "\n",
        "print(\"Classification Report:\")\n",
        "print(classification_report(y_train, y_predicted))"
      ]
    },
    {
      "cell_type": "code",
      "execution_count": 31,
      "metadata": {
        "colab": {
          "base_uri": "https://localhost:8080/"
        },
        "id": "NL6culh2pCmo",
        "outputId": "61790c9c-2899-4115-e721-e5af47568815"
      },
      "outputs": [
        {
          "output_type": "stream",
          "name": "stdout",
          "text": [
            "8/8 [==============================] - 0s 7ms/step\n",
            "NN Submission: User defined NN trained with all training set\n"
          ]
        }
      ],
      "source": [
        "# generate a submission file\n",
        "generateSubmission(\n",
        "    model=my_model,\n",
        "    submissionFile=\"first_NN.csv\",\n",
        "    submissionDescription=DEFAULT_DESCRIPTION\n",
        "    + \"User defined NN trained with all training set\",\n",
        ")"
      ]
    },
    {
      "cell_type": "markdown",
      "metadata": {
        "id": "EuVsF4wacQzN"
      },
      "source": [
        "### You can consider different models splitting in training and testing"
      ]
    },
    {
      "cell_type": "code",
      "execution_count": 32,
      "metadata": {
        "id": "QXW11klacQzO"
      },
      "outputs": [],
      "source": [
        "X_train_pp_2, X_test_pp_2, y_train_2, y_test_2 = train_test_split(\n",
        "    X_train_pp, y_train, train_size=TRAIN_SIZE, random_state=RANDOM_STATE\n",
        ")"
      ]
    },
    {
      "cell_type": "code",
      "execution_count": 33,
      "metadata": {
        "colab": {
          "base_uri": "https://localhost:8080/"
        },
        "id": "-e3K7nAPcQzQ",
        "outputId": "6239cae8-efd6-4f30-d5d8-579044a075eb"
      },
      "outputs": [
        {
          "output_type": "stream",
          "name": "stdout",
          "text": [
            "Epoch 1/20\n",
            "26/26 [==============================] - 3s 30ms/step - loss: 0.3901 - accuracy: 0.8353 - auc_1: 0.8988 - val_loss: 0.3955 - val_accuracy: 0.8269 - val_auc_1: 0.8907\n",
            "Epoch 2/20\n",
            "26/26 [==============================] - 0s 12ms/step - loss: 0.3874 - accuracy: 0.8377 - auc_1: 0.9000 - val_loss: 0.3937 - val_accuracy: 0.8221 - val_auc_1: 0.8908\n",
            "Epoch 3/20\n",
            "26/26 [==============================] - 0s 9ms/step - loss: 0.3851 - accuracy: 0.8377 - auc_1: 0.9010 - val_loss: 0.3922 - val_accuracy: 0.8221 - val_auc_1: 0.8917\n",
            "Epoch 4/20\n",
            "26/26 [==============================] - 0s 10ms/step - loss: 0.3828 - accuracy: 0.8377 - auc_1: 0.9023 - val_loss: 0.3908 - val_accuracy: 0.8221 - val_auc_1: 0.8926\n",
            "Epoch 5/20\n",
            "26/26 [==============================] - 0s 10ms/step - loss: 0.3810 - accuracy: 0.8401 - auc_1: 0.9031 - val_loss: 0.3896 - val_accuracy: 0.8221 - val_auc_1: 0.8930\n",
            "Epoch 6/20\n",
            "26/26 [==============================] - 0s 9ms/step - loss: 0.3792 - accuracy: 0.8401 - auc_1: 0.9040 - val_loss: 0.3884 - val_accuracy: 0.8221 - val_auc_1: 0.8941\n",
            "Epoch 7/20\n",
            "26/26 [==============================] - 0s 9ms/step - loss: 0.3776 - accuracy: 0.8413 - auc_1: 0.9044 - val_loss: 0.3873 - val_accuracy: 0.8221 - val_auc_1: 0.8945\n",
            "Epoch 8/20\n",
            "26/26 [==============================] - 0s 10ms/step - loss: 0.3761 - accuracy: 0.8425 - auc_1: 0.9051 - val_loss: 0.3864 - val_accuracy: 0.8173 - val_auc_1: 0.8951\n",
            "Epoch 9/20\n",
            "26/26 [==============================] - 0s 8ms/step - loss: 0.3744 - accuracy: 0.8450 - auc_1: 0.9059 - val_loss: 0.3854 - val_accuracy: 0.8173 - val_auc_1: 0.8970\n",
            "Epoch 10/20\n",
            "26/26 [==============================] - 0s 7ms/step - loss: 0.3733 - accuracy: 0.8450 - auc_1: 0.9065 - val_loss: 0.3846 - val_accuracy: 0.8173 - val_auc_1: 0.8976\n",
            "Epoch 11/20\n",
            "26/26 [==============================] - 0s 14ms/step - loss: 0.3721 - accuracy: 0.8450 - auc_1: 0.9071 - val_loss: 0.3837 - val_accuracy: 0.8173 - val_auc_1: 0.8990\n",
            "Epoch 12/20\n",
            "26/26 [==============================] - 0s 19ms/step - loss: 0.3709 - accuracy: 0.8474 - auc_1: 0.9076 - val_loss: 0.3829 - val_accuracy: 0.8173 - val_auc_1: 0.8987\n",
            "Epoch 13/20\n",
            "26/26 [==============================] - 0s 15ms/step - loss: 0.3698 - accuracy: 0.8486 - auc_1: 0.9079 - val_loss: 0.3822 - val_accuracy: 0.8173 - val_auc_1: 0.8993\n",
            "Epoch 14/20\n",
            "26/26 [==============================] - 0s 14ms/step - loss: 0.3688 - accuracy: 0.8462 - auc_1: 0.9084 - val_loss: 0.3815 - val_accuracy: 0.8173 - val_auc_1: 0.9000\n",
            "Epoch 15/20\n",
            "26/26 [==============================] - 0s 13ms/step - loss: 0.3678 - accuracy: 0.8438 - auc_1: 0.9088 - val_loss: 0.3808 - val_accuracy: 0.8173 - val_auc_1: 0.9004\n",
            "Epoch 16/20\n",
            "26/26 [==============================] - 0s 11ms/step - loss: 0.3668 - accuracy: 0.8462 - auc_1: 0.9094 - val_loss: 0.3801 - val_accuracy: 0.8173 - val_auc_1: 0.9013\n",
            "Epoch 17/20\n",
            "26/26 [==============================] - 0s 9ms/step - loss: 0.3658 - accuracy: 0.8450 - auc_1: 0.9102 - val_loss: 0.3795 - val_accuracy: 0.8173 - val_auc_1: 0.9018\n",
            "Epoch 18/20\n",
            "26/26 [==============================] - 0s 8ms/step - loss: 0.3650 - accuracy: 0.8450 - auc_1: 0.9105 - val_loss: 0.3788 - val_accuracy: 0.8173 - val_auc_1: 0.9022\n",
            "Epoch 19/20\n",
            "26/26 [==============================] - 0s 9ms/step - loss: 0.3641 - accuracy: 0.8450 - auc_1: 0.9109 - val_loss: 0.3782 - val_accuracy: 0.8173 - val_auc_1: 0.9022\n",
            "Epoch 20/20\n",
            "26/26 [==============================] - 0s 11ms/step - loss: 0.3636 - accuracy: 0.8438 - auc_1: 0.9111 - val_loss: 0.3776 - val_accuracy: 0.8221 - val_auc_1: 0.9026\n"
          ]
        }
      ],
      "source": [
        "my_model.compile(\n",
        "    loss=\"binary_crossentropy\",\n",
        "    optimizer=\"SGD\",\n",
        "    metrics=[\"accuracy\", tf.keras.metrics.AUC()],\n",
        ")\n",
        "\n",
        "training_phase = my_model.fit(\n",
        "    X_train_pp_2,\n",
        "    y_train_2,\n",
        "    epochs=EPOCHS,\n",
        "    batch_size=BATCH_SIZE,\n",
        "    validation_split=VAL_SIZE,\n",
        "    verbose=1,\n",
        ")"
      ]
    },
    {
      "cell_type": "code",
      "execution_count": 34,
      "metadata": {
        "colab": {
          "base_uri": "https://localhost:8080/",
          "height": 882
        },
        "id": "FxkbjpE6pgz9",
        "outputId": "4b9b1163-f62b-4d95-91cb-0e2353348930"
      },
      "outputs": [
        {
          "output_type": "stream",
          "name": "stdout",
          "text": [
            "loss\n"
          ]
        },
        {
          "output_type": "display_data",
          "data": {
            "text/plain": [
              "<Figure size 640x480 with 1 Axes>"
            ],
            "image/png": "[encoded data removed]"
          },
          "metadata": {}
        },
        {
          "output_type": "stream",
          "name": "stdout",
          "text": [
            "Accuracy\n"
          ]
        },
        {
          "output_type": "display_data",
          "data": {
            "text/plain": [
              "<Figure size 640x480 with 1 Axes>"
            ],
            "image/png": "[encoded data removed]"
          },
          "metadata": {}
        }
      ],
      "source": [
        "# plot training history\n",
        "print(\"loss\")\n",
        "plt.plot(training_phase.history[\"loss\"], label=\"train\")\n",
        "plt.plot(training_phase.history[\"val_loss\"], label=\"validation\")\n",
        "plt.legend()\n",
        "plt.show()\n",
        "print(\"Accuracy\")\n",
        "plt.plot(training_phase.history[\"accuracy\"], label=\"train\")\n",
        "plt.plot(training_phase.history[\"val_accuracy\"], label=\"validation\")\n",
        "plt.legend()\n",
        "plt.show()"
      ]
    },
    {
      "cell_type": "code",
      "execution_count": 35,
      "metadata": {
        "colab": {
          "base_uri": "https://localhost:8080/"
        },
        "id": "ASgVXUpvqRoS",
        "outputId": "f51c24a5-f809-4c11-904b-9b49303a8e7e"
      },
      "outputs": [
        {
          "output_type": "stream",
          "name": "stdout",
          "text": [
            "9/9 [==============================] - 0s 3ms/step\n",
            "[0, 0, 0, 0, 0, 0, 0, 0, 0, 0, 0, 0, 1, 0, 0, 0, 1, 1, 0, 1, 0, 0, 0, 0, 1, 0, 0, 0, 1, 0, 0, 0, 0, 0, 1, 1, 0, 0, 1, 0, 0, 0, 1, 0, 1, 0, 0, 0, 1, 0, 0, 1, 1, 0, 1, 0, 0, 0, 1, 1, 0, 1, 0, 1, 0, 1, 0, 0, 1, 0, 1, 1, 0, 0, 1, 0, 1, 0, 1, 0, 0, 0, 1, 1, 0, 0, 0, 0, 0, 1, 1, 1, 0, 0, 1, 0, 0, 1, 1, 0, 0, 0, 1, 0, 1, 0, 1, 0, 0, 0, 0, 0, 0, 1, 0, 0, 0, 0, 0, 0, 1, 0, 1, 0, 0, 0, 0, 1, 0, 0, 0, 0, 1, 1, 1, 0, 1, 0, 1, 0, 0, 0, 0, 0, 0, 0, 1, 0, 1, 1, 0, 0, 0, 0, 0, 0, 1, 0, 1, 0, 0, 0, 0, 0, 1, 0, 0, 1, 1, 0, 1, 1, 1, 1, 0, 0, 0, 1, 0, 0, 1, 1, 0, 1, 0, 1, 0, 1, 1, 0, 1, 0, 0, 1, 0, 1, 0, 1, 0, 0, 0, 1, 1, 0, 1, 0, 1, 1, 0, 0, 1, 1, 0, 0, 1, 1, 0, 0, 0, 1, 0, 0, 0, 0, 0, 1, 1, 0, 0, 0, 1, 1, 0, 0, 0, 0, 0, 0, 1, 1, 1, 0, 0, 0, 0, 0, 0, 0, 0, 1, 0, 1, 1, 0, 0, 1, 1, 1, 0, 1, 1]\n"
          ]
        }
      ],
      "source": [
        "# Performance on the training set\n",
        "y_pred_2 = my_model.predict(X_test_pp_2)\n",
        "y_predicted_2 = np.round(y_pred_2).astype(int)\n",
        "y_predicted_2 = np.squeeze(y_predicted_2)\n",
        "print(y_predicted_2.tolist())\n"
      ]
    },
    {
      "cell_type": "code",
      "execution_count": 36,
      "metadata": {
        "id": "Ex28b1eCwch-",
        "colab": {
          "base_uri": "https://localhost:8080/"
        },
        "outputId": "840ebff4-f9df-4d90-cf5c-510c89e8ebe1"
      },
      "outputs": [
        {
          "output_type": "stream",
          "name": "stdout",
          "text": [
            "[[137  16]\n",
            " [ 30  78]]\n",
            "Classification Report:\n",
            "              precision    recall  f1-score   support\n",
            "\n",
            "           0       0.82      0.90      0.86       153\n",
            "           1       0.83      0.72      0.77       108\n",
            "\n",
            "    accuracy                           0.82       261\n",
            "   macro avg       0.83      0.81      0.81       261\n",
            "weighted avg       0.82      0.82      0.82       261\n",
            "\n"
          ]
        }
      ],
      "source": [
        "print(confusion_matrix(y_test_2, y_predicted_2))\n",
        "\n",
        "print(\"Classification Report:\")\n",
        "print(classification_report(y_test_2, y_predicted_2))\n"
      ]
    },
    {
      "cell_type": "code",
      "execution_count": 37,
      "metadata": {
        "colab": {
          "base_uri": "https://localhost:8080/"
        },
        "id": "DmlQUqf7v9Kq",
        "outputId": "ccd491e0-3580-4f0b-eec6-f41e7252131e"
      },
      "outputs": [
        {
          "output_type": "stream",
          "name": "stdout",
          "text": [
            "33/33 [==============================] - 0s 7ms/step\n",
            "[[578  67]\n",
            " [ 97 298]]\n",
            "Classification Report:\n",
            "              precision    recall  f1-score   support\n",
            "\n",
            "           0       0.86      0.90      0.88       645\n",
            "           1       0.82      0.75      0.78       395\n",
            "\n",
            "    accuracy                           0.84      1040\n",
            "   macro avg       0.84      0.83      0.83      1040\n",
            "weighted avg       0.84      0.84      0.84      1040\n",
            "\n"
          ]
        }
      ],
      "source": [
        "# Performance on the training set\n",
        "y_pred_2 = my_model.predict(X_train_pp_2)\n",
        "y_predicted_2 = np.round(y_pred_2).astype(int)\n",
        "y_predicted_2 = np.squeeze(y_predicted_2)\n",
        "#print(y_predicted_2.tolist())\n",
        "print(confusion_matrix(y_train_2, y_predicted_2))\n",
        "\n",
        "print(\"Classification Report:\")\n",
        "print(classification_report(y_train_2, y_predicted_2))"
      ]
    },
    {
      "cell_type": "code",
      "execution_count": 38,
      "metadata": {
        "colab": {
          "base_uri": "https://localhost:8080/"
        },
        "id": "AkMPTgY4cQzc",
        "outputId": "241b488e-5b06-406f-9666-2343f78e9ab6"
      },
      "outputs": [
        {
          "output_type": "stream",
          "name": "stdout",
          "text": [
            "8/8 [==============================] - 0s 5ms/step\n",
            "NN Submission: User defined NN evaluated with test set\n"
          ]
        }
      ],
      "source": [
        "# generate a submission file\n",
        "generateSubmission(\n",
        "    model=my_model,\n",
        "    submissionFile=\"second_NN.csv\",\n",
        "    submissionDescription=DEFAULT_DESCRIPTION\n",
        "    + \"User defined NN evaluated with test set\",\n",
        "    preprocessor=preprocessor,\n",
        ")"
      ]
    },
    {
      "cell_type": "markdown",
      "metadata": {
        "id": "TgGDn8RhcQze"
      },
      "source": [
        "Or you can consider different models using cross validation\n",
        "### Parameter Tuning"
      ]
    },
    {
      "cell_type": "code",
      "execution_count": 64,
      "metadata": {
        "id": "ptbV0Cja6Wnq"
      },
      "outputs": [],
      "source": [
        "from scikeras.wrappers import KerasClassifier\n",
        "#from tensorflow.contrib.keras.wrappers.scikit_learn import KerasRegressor, KerasClassifier\n",
        "keras_model_classifier = KerasClassifier(\n",
        "    build_fn=build_keras_model,\n",
        "    input_shape=(13,),\n",
        "    hidden_units=(6, 4),\n",
        "    hidden_activation=\"relu\",\n",
        "    epochs=EPOCHS,\n",
        "    batch_size=BATCH_SIZE,\n",
        "    validation_split=VAL_SIZE,\n",
        "    verbose=1,\n",
        ")"
      ]
    },
    {
      "cell_type": "code",
      "execution_count": 52,
      "metadata": {
        "colab": {
          "base_uri": "https://localhost:8080/",
          "height": 1000
        },
        "id": "bnT5kDd1cQzg",
        "outputId": "a894ac78-62b5-485f-bc3a-1c90365d8c79",
        "tags": []
      },
      "outputs": [
        {
          "output_type": "stream",
          "name": "stderr",
          "text": [
            "/usr/local/lib/python3.10/dist-packages/scikeras/wrappers.py:915: UserWarning: ``build_fn`` will be renamed to ``model`` in a future release, at which point use of ``build_fn`` will raise an Error instead.\n",
            "  X, y = self._initialize(X, y)\n"
          ]
        },
        {
          "output_type": "stream",
          "name": "stdout",
          "text": [
            "Epoch 1/20\n",
            "22/22 [==============================] - 2s 35ms/step - loss: 0.8514 - accuracy: 0.3781 - auc_2: 0.3199 - val_loss: 0.8912 - val_accuracy: 0.3506 - val_auc_2: 0.3031\n",
            "Epoch 2/20\n",
            "22/22 [==============================] - 0s 5ms/step - loss: 0.8022 - accuracy: 0.4040 - auc_2: 0.3482 - val_loss: 0.8334 - val_accuracy: 0.4138 - val_auc_2: 0.3380\n",
            "Epoch 3/20\n",
            "22/22 [==============================] - 0s 6ms/step - loss: 0.7687 - accuracy: 0.4343 - auc_2: 0.3743 - val_loss: 0.7926 - val_accuracy: 0.4368 - val_auc_2: 0.3717\n",
            "Epoch 4/20\n",
            "22/22 [==============================] - 0s 5ms/step - loss: 0.7451 - accuracy: 0.4704 - auc_2: 0.4016 - val_loss: 0.7640 - val_accuracy: 0.4655 - val_auc_2: 0.3952\n",
            "Epoch 5/20\n",
            "22/22 [==============================] - 0s 4ms/step - loss: 0.7283 - accuracy: 0.5007 - auc_2: 0.4292 - val_loss: 0.7425 - val_accuracy: 0.4828 - val_auc_2: 0.4269\n",
            "Epoch 6/20\n",
            "22/22 [==============================] - 0s 5ms/step - loss: 0.7156 - accuracy: 0.5238 - auc_2: 0.4526 - val_loss: 0.7249 - val_accuracy: 0.5057 - val_auc_2: 0.4454\n",
            "Epoch 7/20\n",
            "22/22 [==============================] - 0s 5ms/step - loss: 0.7054 - accuracy: 0.5440 - auc_2: 0.4793 - val_loss: 0.7104 - val_accuracy: 0.5402 - val_auc_2: 0.4718\n",
            "Epoch 8/20\n",
            "22/22 [==============================] - 0s 4ms/step - loss: 0.6971 - accuracy: 0.5556 - auc_2: 0.4992 - val_loss: 0.6982 - val_accuracy: 0.5517 - val_auc_2: 0.4994\n",
            "Epoch 9/20\n",
            "22/22 [==============================] - 0s 4ms/step - loss: 0.6902 - accuracy: 0.5729 - auc_2: 0.5105 - val_loss: 0.6878 - val_accuracy: 0.5862 - val_auc_2: 0.5173\n",
            "Epoch 10/20\n",
            "22/22 [==============================] - 0s 4ms/step - loss: 0.6841 - accuracy: 0.5830 - auc_2: 0.5310 - val_loss: 0.6785 - val_accuracy: 0.6149 - val_auc_2: 0.5340\n",
            "Epoch 11/20\n",
            "22/22 [==============================] - 0s 5ms/step - loss: 0.6786 - accuracy: 0.5916 - auc_2: 0.5465 - val_loss: 0.6704 - val_accuracy: 0.6264 - val_auc_2: 0.5630\n",
            "Epoch 12/20\n",
            "22/22 [==============================] - 0s 5ms/step - loss: 0.6737 - accuracy: 0.6032 - auc_2: 0.5703 - val_loss: 0.6628 - val_accuracy: 0.6494 - val_auc_2: 0.5774\n",
            "Epoch 13/20\n",
            "22/22 [==============================] - 0s 11ms/step - loss: 0.6688 - accuracy: 0.6075 - auc_2: 0.5901 - val_loss: 0.6559 - val_accuracy: 0.6494 - val_auc_2: 0.6009\n",
            "Epoch 14/20\n",
            "22/22 [==============================] - 0s 8ms/step - loss: 0.6640 - accuracy: 0.6089 - auc_2: 0.6086 - val_loss: 0.6494 - val_accuracy: 0.6667 - val_auc_2: 0.6174\n",
            "Epoch 15/20\n",
            "22/22 [==============================] - 0s 9ms/step - loss: 0.6588 - accuracy: 0.6118 - auc_2: 0.6249 - val_loss: 0.6432 - val_accuracy: 0.6724 - val_auc_2: 0.6382\n",
            "Epoch 16/20\n",
            "22/22 [==============================] - 0s 9ms/step - loss: 0.6540 - accuracy: 0.6248 - auc_2: 0.6424 - val_loss: 0.6376 - val_accuracy: 0.6782 - val_auc_2: 0.6551\n",
            "Epoch 17/20\n",
            "22/22 [==============================] - 0s 10ms/step - loss: 0.6488 - accuracy: 0.6320 - auc_2: 0.6610 - val_loss: 0.6320 - val_accuracy: 0.6839 - val_auc_2: 0.6647\n",
            "Epoch 18/20\n",
            "22/22 [==============================] - 0s 9ms/step - loss: 0.6433 - accuracy: 0.6450 - auc_2: 0.6805 - val_loss: 0.6257 - val_accuracy: 0.6954 - val_auc_2: 0.6913\n",
            "Epoch 19/20\n",
            "22/22 [==============================] - 0s 9ms/step - loss: 0.6375 - accuracy: 0.6508 - auc_2: 0.6956 - val_loss: 0.6192 - val_accuracy: 0.6954 - val_auc_2: 0.7035\n",
            "Epoch 20/20\n",
            "22/22 [==============================] - 0s 9ms/step - loss: 0.6311 - accuracy: 0.6580 - auc_2: 0.7096 - val_loss: 0.6124 - val_accuracy: 0.6954 - val_auc_2: 0.7193\n",
            "14/14 [==============================] - 0s 7ms/step\n",
            "Epoch 1/20\n"
          ]
        },
        {
          "output_type": "stream",
          "name": "stderr",
          "text": [
            "/usr/local/lib/python3.10/dist-packages/scikeras/wrappers.py:915: UserWarning: ``build_fn`` will be renamed to ``model`` in a future release, at which point use of ``build_fn`` will raise an Error instead.\n",
            "  X, y = self._initialize(X, y)\n"
          ]
        },
        {
          "output_type": "stream",
          "name": "stdout",
          "text": [
            "22/22 [==============================] - 2s 32ms/step - loss: 0.7835 - accuracy: 0.3968 - auc_3: 0.3875 - val_loss: 0.7307 - val_accuracy: 0.4828 - val_auc_3: 0.4889\n",
            "Epoch 2/20\n",
            "22/22 [==============================] - 0s 10ms/step - loss: 0.7506 - accuracy: 0.4286 - auc_3: 0.4283 - val_loss: 0.6984 - val_accuracy: 0.5402 - val_auc_3: 0.5239\n",
            "Epoch 3/20\n",
            "22/22 [==============================] - 0s 11ms/step - loss: 0.7246 - accuracy: 0.4661 - auc_3: 0.4715 - val_loss: 0.6709 - val_accuracy: 0.5862 - val_auc_3: 0.5789\n",
            "Epoch 4/20\n",
            "22/22 [==============================] - 0s 8ms/step - loss: 0.7032 - accuracy: 0.5036 - auc_3: 0.5171 - val_loss: 0.6481 - val_accuracy: 0.6149 - val_auc_3: 0.6151\n",
            "Epoch 5/20\n",
            "22/22 [==============================] - 0s 11ms/step - loss: 0.6857 - accuracy: 0.5296 - auc_3: 0.5577 - val_loss: 0.6293 - val_accuracy: 0.6207 - val_auc_3: 0.6475\n",
            "Epoch 6/20\n",
            "22/22 [==============================] - 0s 8ms/step - loss: 0.6707 - accuracy: 0.5397 - auc_3: 0.5910 - val_loss: 0.6124 - val_accuracy: 0.6322 - val_auc_3: 0.6774\n",
            "Epoch 7/20\n",
            "22/22 [==============================] - 0s 13ms/step - loss: 0.6571 - accuracy: 0.5599 - auc_3: 0.6165 - val_loss: 0.5972 - val_accuracy: 0.6552 - val_auc_3: 0.6930\n",
            "Epoch 8/20\n",
            "22/22 [==============================] - 0s 11ms/step - loss: 0.6449 - accuracy: 0.5815 - auc_3: 0.6458 - val_loss: 0.5841 - val_accuracy: 0.6552 - val_auc_3: 0.7184\n",
            "Epoch 9/20\n",
            "22/22 [==============================] - 0s 10ms/step - loss: 0.6339 - accuracy: 0.5887 - auc_3: 0.6705 - val_loss: 0.5723 - val_accuracy: 0.6494 - val_auc_3: 0.7358\n",
            "Epoch 10/20\n",
            "22/22 [==============================] - 0s 9ms/step - loss: 0.6236 - accuracy: 0.5931 - auc_3: 0.6921 - val_loss: 0.5623 - val_accuracy: 0.6609 - val_auc_3: 0.7441\n",
            "Epoch 11/20\n",
            "22/22 [==============================] - 0s 8ms/step - loss: 0.6141 - accuracy: 0.6032 - auc_3: 0.7136 - val_loss: 0.5535 - val_accuracy: 0.6667 - val_auc_3: 0.7599\n",
            "Epoch 12/20\n",
            "22/22 [==============================] - 0s 6ms/step - loss: 0.6051 - accuracy: 0.6104 - auc_3: 0.7289 - val_loss: 0.5454 - val_accuracy: 0.6609 - val_auc_3: 0.7691\n",
            "Epoch 13/20\n",
            "22/22 [==============================] - 0s 16ms/step - loss: 0.5968 - accuracy: 0.6147 - auc_3: 0.7397 - val_loss: 0.5379 - val_accuracy: 0.6552 - val_auc_3: 0.7723\n",
            "Epoch 14/20\n",
            "22/22 [==============================] - 0s 13ms/step - loss: 0.5890 - accuracy: 0.6205 - auc_3: 0.7491 - val_loss: 0.5307 - val_accuracy: 0.6667 - val_auc_3: 0.7775\n",
            "Epoch 15/20\n",
            "22/22 [==============================] - 0s 11ms/step - loss: 0.5812 - accuracy: 0.6277 - auc_3: 0.7612 - val_loss: 0.5242 - val_accuracy: 0.6954 - val_auc_3: 0.7875\n",
            "Epoch 16/20\n",
            "22/22 [==============================] - 0s 14ms/step - loss: 0.5738 - accuracy: 0.6335 - auc_3: 0.7690 - val_loss: 0.5181 - val_accuracy: 0.7184 - val_auc_3: 0.7941\n",
            "Epoch 17/20\n",
            "22/22 [==============================] - 0s 15ms/step - loss: 0.5670 - accuracy: 0.6421 - auc_3: 0.7783 - val_loss: 0.5124 - val_accuracy: 0.7241 - val_auc_3: 0.7984\n",
            "Epoch 18/20\n",
            "22/22 [==============================] - 0s 12ms/step - loss: 0.5602 - accuracy: 0.6450 - auc_3: 0.7878 - val_loss: 0.5068 - val_accuracy: 0.7241 - val_auc_3: 0.8042\n",
            "Epoch 19/20\n",
            "22/22 [==============================] - 0s 13ms/step - loss: 0.5535 - accuracy: 0.6522 - auc_3: 0.7948 - val_loss: 0.5016 - val_accuracy: 0.7241 - val_auc_3: 0.8069\n",
            "Epoch 20/20\n",
            "22/22 [==============================] - 0s 18ms/step - loss: 0.5470 - accuracy: 0.6566 - auc_3: 0.8036 - val_loss: 0.4966 - val_accuracy: 0.7356 - val_auc_3: 0.8106\n",
            "14/14 [==============================] - 0s 10ms/step\n"
          ]
        },
        {
          "output_type": "stream",
          "name": "stderr",
          "text": [
            "/usr/local/lib/python3.10/dist-packages/scikeras/wrappers.py:915: UserWarning: ``build_fn`` will be renamed to ``model`` in a future release, at which point use of ``build_fn`` will raise an Error instead.\n",
            "  X, y = self._initialize(X, y)\n"
          ]
        },
        {
          "output_type": "stream",
          "name": "stdout",
          "text": [
            "Epoch 1/20\n",
            "22/22 [==============================] - 2s 25ms/step - loss: 0.6977 - accuracy: 0.5274 - auc_4: 0.4091 - val_loss: 0.6922 - val_accuracy: 0.6092 - val_auc_4: 0.4436\n",
            "Epoch 2/20\n",
            "22/22 [==============================] - 0s 12ms/step - loss: 0.6922 - accuracy: 0.5548 - auc_4: 0.4380 - val_loss: 0.6855 - val_accuracy: 0.6149 - val_auc_4: 0.4861\n",
            "Epoch 3/20\n",
            "22/22 [==============================] - 0s 6ms/step - loss: 0.6871 - accuracy: 0.5879 - auc_4: 0.4697 - val_loss: 0.6790 - val_accuracy: 0.6207 - val_auc_4: 0.5196\n",
            "Epoch 4/20\n",
            "22/22 [==============================] - 0s 12ms/step - loss: 0.6817 - accuracy: 0.6009 - auc_4: 0.4972 - val_loss: 0.6720 - val_accuracy: 0.6437 - val_auc_4: 0.5491\n",
            "Epoch 5/20\n",
            "22/22 [==============================] - 0s 13ms/step - loss: 0.6758 - accuracy: 0.6095 - auc_4: 0.5392 - val_loss: 0.6650 - val_accuracy: 0.6379 - val_auc_4: 0.5878\n",
            "Epoch 6/20\n",
            "22/22 [==============================] - 0s 11ms/step - loss: 0.6694 - accuracy: 0.6081 - auc_4: 0.5794 - val_loss: 0.6573 - val_accuracy: 0.6437 - val_auc_4: 0.6198\n",
            "Epoch 7/20\n",
            "22/22 [==============================] - 0s 9ms/step - loss: 0.6625 - accuracy: 0.6066 - auc_4: 0.6149 - val_loss: 0.6492 - val_accuracy: 0.6437 - val_auc_4: 0.6487\n",
            "Epoch 8/20\n",
            "22/22 [==============================] - 0s 10ms/step - loss: 0.6550 - accuracy: 0.6066 - auc_4: 0.6477 - val_loss: 0.6409 - val_accuracy: 0.6437 - val_auc_4: 0.6778\n",
            "Epoch 9/20\n",
            "22/22 [==============================] - 0s 11ms/step - loss: 0.6471 - accuracy: 0.6066 - auc_4: 0.6809 - val_loss: 0.6326 - val_accuracy: 0.6437 - val_auc_4: 0.7014\n",
            "Epoch 10/20\n",
            "22/22 [==============================] - 0s 16ms/step - loss: 0.6392 - accuracy: 0.6052 - auc_4: 0.7095 - val_loss: 0.6249 - val_accuracy: 0.6437 - val_auc_4: 0.7149\n",
            "Epoch 11/20\n",
            "22/22 [==============================] - 0s 10ms/step - loss: 0.6314 - accuracy: 0.6052 - auc_4: 0.7326 - val_loss: 0.6172 - val_accuracy: 0.6437 - val_auc_4: 0.7286\n",
            "Epoch 12/20\n",
            "22/22 [==============================] - 0s 8ms/step - loss: 0.6236 - accuracy: 0.6052 - auc_4: 0.7514 - val_loss: 0.6096 - val_accuracy: 0.6437 - val_auc_4: 0.7394\n",
            "Epoch 13/20\n",
            "22/22 [==============================] - 0s 11ms/step - loss: 0.6154 - accuracy: 0.6052 - auc_4: 0.7690 - val_loss: 0.6021 - val_accuracy: 0.6437 - val_auc_4: 0.7516\n",
            "Epoch 14/20\n",
            "22/22 [==============================] - 0s 9ms/step - loss: 0.6073 - accuracy: 0.6052 - auc_4: 0.7821 - val_loss: 0.5946 - val_accuracy: 0.6437 - val_auc_4: 0.7594\n",
            "Epoch 15/20\n",
            "22/22 [==============================] - 0s 8ms/step - loss: 0.5993 - accuracy: 0.6066 - auc_4: 0.7920 - val_loss: 0.5875 - val_accuracy: 0.6437 - val_auc_4: 0.7643\n",
            "Epoch 16/20\n",
            "22/22 [==============================] - 0s 10ms/step - loss: 0.5914 - accuracy: 0.6066 - auc_4: 0.8047 - val_loss: 0.5806 - val_accuracy: 0.6437 - val_auc_4: 0.7689\n",
            "Epoch 17/20\n",
            "22/22 [==============================] - 0s 12ms/step - loss: 0.5836 - accuracy: 0.6066 - auc_4: 0.8103 - val_loss: 0.5735 - val_accuracy: 0.6437 - val_auc_4: 0.7828\n",
            "Epoch 18/20\n",
            "22/22 [==============================] - 0s 7ms/step - loss: 0.5758 - accuracy: 0.6066 - auc_4: 0.8191 - val_loss: 0.5669 - val_accuracy: 0.6437 - val_auc_4: 0.7890\n",
            "Epoch 19/20\n",
            "22/22 [==============================] - 0s 10ms/step - loss: 0.5684 - accuracy: 0.6066 - auc_4: 0.8272 - val_loss: 0.5604 - val_accuracy: 0.6437 - val_auc_4: 0.7941\n",
            "Epoch 20/20\n",
            "22/22 [==============================] - 0s 9ms/step - loss: 0.5610 - accuracy: 0.6066 - auc_4: 0.8355 - val_loss: 0.5540 - val_accuracy: 0.6494 - val_auc_4: 0.8017\n",
            "14/14 [==============================] - 0s 3ms/step\n"
          ]
        },
        {
          "output_type": "stream",
          "name": "stderr",
          "text": [
            "<ipython-input-52-73596b889237>:4: UserWarning: \n",
            "\n",
            "`distplot` is a deprecated function and will be removed in seaborn v0.14.0.\n",
            "\n",
            "Please adapt your code to use either `displot` (a figure-level function with\n",
            "similar flexibility) or `histplot` (an axes-level function for histograms).\n",
            "\n",
            "For a guide to updating your code to use the new functions, please see\n",
            "https://gist.github.com/mwaskom/de44147ed2974457ad6372750bbe5751\n",
            "\n",
            "  sns.distplot(cv_scores)\n"
          ]
        },
        {
          "output_type": "execute_result",
          "data": {
            "text/plain": [
              "Text(0.5, 1.0, 'Average score: 0.6563893530294483')"
            ]
          },
          "metadata": {},
          "execution_count": 52
        },
        {
          "output_type": "display_data",
          "data": {
            "text/plain": [
              "<Figure size 640x480 with 1 Axes>"
            ],
            "image/png": "[encoded data removed]"
          },
          "metadata": {}
        }
      ],
      "source": [
        "cv_scores = cross_val_score(\n",
        "    keras_model_classifier, X_train_pp, y_train, cv=3, scoring=\"accuracy\", verbose=1,\n",
        ")\n",
        "sns.distplot(cv_scores)\n",
        "plt.title(\"Average score: {}\".format(np.mean(cv_scores)))"
      ]
    },
    {
      "cell_type": "code",
      "execution_count": 53,
      "metadata": {
        "colab": {
          "base_uri": "https://localhost:8080/"
        },
        "id": "LkKGF9Socueq",
        "outputId": "92ef6189-710b-4461-ed30-ab01492745ef",
        "tags": []
      },
      "outputs": [
        {
          "output_type": "stream",
          "name": "stderr",
          "text": [
            "/usr/local/lib/python3.10/dist-packages/scikeras/wrappers.py:915: UserWarning: ``build_fn`` will be renamed to ``model`` in a future release, at which point use of ``build_fn`` will raise an Error instead.\n",
            "  X, y = self._initialize(X, y)\n"
          ]
        },
        {
          "output_type": "stream",
          "name": "stdout",
          "text": [
            "Epoch 1/20\n",
            "33/33 [==============================] - 2s 13ms/step - loss: 0.8077 - accuracy: 0.5952 - auc_5: 0.4031 - val_loss: 0.7173 - val_accuracy: 0.6667 - val_auc_5: 0.4080\n",
            "Epoch 2/20\n",
            "33/33 [==============================] - 0s 7ms/step - loss: 0.7296 - accuracy: 0.5942 - auc_5: 0.4770 - val_loss: 0.6708 - val_accuracy: 0.6705 - val_auc_5: 0.4847\n",
            "Epoch 3/20\n",
            "33/33 [==============================] - 0s 6ms/step - loss: 0.6871 - accuracy: 0.5952 - auc_5: 0.5495 - val_loss: 0.6410 - val_accuracy: 0.6667 - val_auc_5: 0.5500\n",
            "Epoch 4/20\n",
            "33/33 [==============================] - 0s 4ms/step - loss: 0.6588 - accuracy: 0.5990 - auc_5: 0.6098 - val_loss: 0.6193 - val_accuracy: 0.6820 - val_auc_5: 0.6099\n",
            "Epoch 5/20\n",
            "33/33 [==============================] - 0s 4ms/step - loss: 0.6377 - accuracy: 0.6000 - auc_5: 0.6578 - val_loss: 0.6011 - val_accuracy: 0.6782 - val_auc_5: 0.6622\n",
            "Epoch 6/20\n",
            "33/33 [==============================] - 0s 4ms/step - loss: 0.6200 - accuracy: 0.6077 - auc_5: 0.6988 - val_loss: 0.5855 - val_accuracy: 0.7050 - val_auc_5: 0.6992\n",
            "Epoch 7/20\n",
            "33/33 [==============================] - 0s 4ms/step - loss: 0.6051 - accuracy: 0.6260 - auc_5: 0.7313 - val_loss: 0.5710 - val_accuracy: 0.7088 - val_auc_5: 0.7310\n",
            "Epoch 8/20\n",
            "33/33 [==============================] - 0s 5ms/step - loss: 0.5915 - accuracy: 0.6298 - auc_5: 0.7584 - val_loss: 0.5580 - val_accuracy: 0.7165 - val_auc_5: 0.7576\n",
            "Epoch 9/20\n",
            "33/33 [==============================] - 0s 6ms/step - loss: 0.5792 - accuracy: 0.6404 - auc_5: 0.7799 - val_loss: 0.5462 - val_accuracy: 0.7318 - val_auc_5: 0.7786\n",
            "Epoch 10/20\n",
            "33/33 [==============================] - 0s 6ms/step - loss: 0.5677 - accuracy: 0.6587 - auc_5: 0.7983 - val_loss: 0.5349 - val_accuracy: 0.7241 - val_auc_5: 0.7973\n",
            "Epoch 11/20\n",
            "33/33 [==============================] - 0s 11ms/step - loss: 0.5569 - accuracy: 0.6779 - auc_5: 0.8130 - val_loss: 0.5243 - val_accuracy: 0.7356 - val_auc_5: 0.8125\n",
            "Epoch 12/20\n",
            "33/33 [==============================] - 1s 16ms/step - loss: 0.5469 - accuracy: 0.7010 - auc_5: 0.8250 - val_loss: 0.5142 - val_accuracy: 0.7625 - val_auc_5: 0.8266\n",
            "Epoch 13/20\n",
            "33/33 [==============================] - 0s 12ms/step - loss: 0.5374 - accuracy: 0.7212 - auc_5: 0.8359 - val_loss: 0.5051 - val_accuracy: 0.7816 - val_auc_5: 0.8372\n",
            "Epoch 14/20\n",
            "33/33 [==============================] - 1s 16ms/step - loss: 0.5285 - accuracy: 0.7442 - auc_5: 0.8463 - val_loss: 0.4964 - val_accuracy: 0.7931 - val_auc_5: 0.8456\n",
            "Epoch 15/20\n",
            "33/33 [==============================] - 0s 13ms/step - loss: 0.5200 - accuracy: 0.7692 - auc_5: 0.8548 - val_loss: 0.4881 - val_accuracy: 0.7969 - val_auc_5: 0.8520\n",
            "Epoch 16/20\n",
            "33/33 [==============================] - 0s 8ms/step - loss: 0.5116 - accuracy: 0.7808 - auc_5: 0.8627 - val_loss: 0.4807 - val_accuracy: 0.8008 - val_auc_5: 0.8586\n",
            "Epoch 17/20\n",
            "33/33 [==============================] - 0s 10ms/step - loss: 0.5038 - accuracy: 0.7846 - auc_5: 0.8690 - val_loss: 0.4735 - val_accuracy: 0.8123 - val_auc_5: 0.8636\n",
            "Epoch 18/20\n",
            "33/33 [==============================] - 0s 8ms/step - loss: 0.4962 - accuracy: 0.7952 - auc_5: 0.8760 - val_loss: 0.4669 - val_accuracy: 0.8238 - val_auc_5: 0.8679\n",
            "Epoch 19/20\n",
            "33/33 [==============================] - 0s 6ms/step - loss: 0.4892 - accuracy: 0.8029 - auc_5: 0.8803 - val_loss: 0.4608 - val_accuracy: 0.8238 - val_auc_5: 0.8718\n",
            "Epoch 20/20\n",
            "33/33 [==============================] - 0s 8ms/step - loss: 0.4826 - accuracy: 0.8125 - auc_5: 0.8845 - val_loss: 0.4552 - val_accuracy: 0.8199 - val_auc_5: 0.8744\n",
            "41/41 [==============================] - 0s 2ms/step\n"
          ]
        },
        {
          "output_type": "execute_result",
          "data": {
            "text/plain": [
              "0.8170637970791699"
            ]
          },
          "metadata": {},
          "execution_count": 53
        }
      ],
      "source": [
        "keras_model_classifier.fit(X_train_pp, y_train)\n",
        "keras_model_classifier.score(X_train_pp, y_train)"
      ]
    },
    {
      "cell_type": "code",
      "execution_count": 54,
      "metadata": {
        "colab": {
          "base_uri": "https://localhost:8080/"
        },
        "id": "omr6K-wLcQzj",
        "outputId": "2e47f6ef-9891-4284-e088-e9fa61f0fc86"
      },
      "outputs": [
        {
          "output_type": "stream",
          "name": "stdout",
          "text": [
            "8/8 [==============================] - 0s 3ms/step\n",
            "NN Submission: User defined NN evaluated with cross validation\n"
          ]
        }
      ],
      "source": [
        "generateSubmission(\n",
        "    model=keras_model_classifier,\n",
        "    submissionFile=\"crossval_NN.csv\",\n",
        "    submissionDescription=DEFAULT_DESCRIPTION\n",
        "    + \"User defined NN evaluated with cross validation\",\n",
        "    preprocessor=preprocessor,\n",
        "    prediction_type=\"label\",\n",
        ")"
      ]
    },
    {
      "cell_type": "markdown",
      "metadata": {
        "id": "OMIeoDe5cQzk"
      },
      "source": [
        "### Parameter Tuning"
      ]
    },
    {
      "cell_type": "markdown",
      "metadata": {
        "id": "8C12hBTGcQzl"
      },
      "source": [
        "In every classification technique, there are some parameters that can be tuned to optimize the classification. Some parameters that can be tuned in the decision tree is max depth (the depth of the tree), max feature (the feature used to classify), criterion, and splitter.\n",
        "\n",
        "To search to tune parameter is to use Grid Search. Basically, it explores a range of parameters and finds the best combination of parameters. Then repeat the process several times until the best parameters are discovered. We will also use Stratified k-fold cross-validation that will prevent a certain class only split them to the same subset."
      ]
    },
    {
      "cell_type": "code",
      "execution_count": 55,
      "metadata": {
        "colab": {
          "base_uri": "https://localhost:8080/",
          "height": 741
        },
        "id": "NAbnmTtocQzn",
        "outputId": "0cecf34f-e8b9-4b5e-ebb0-850114f6d83c",
        "tags": []
      },
      "outputs": [
        {
          "output_type": "stream",
          "name": "stdout",
          "text": [
            "Fitting 3 folds for each of 4 candidates, totalling 12 fits\n"
          ]
        },
        {
          "output_type": "stream",
          "name": "stderr",
          "text": [
            "/usr/local/lib/python3.10/dist-packages/scikeras/wrappers.py:915: UserWarning: ``build_fn`` will be renamed to ``model`` in a future release, at which point use of ``build_fn`` will raise an Error instead.\n",
            "  X, y = self._initialize(X, y)\n",
            "/usr/local/lib/python3.10/dist-packages/scikeras/wrappers.py:915: UserWarning: ``build_fn`` will be renamed to ``model`` in a future release, at which point use of ``build_fn`` will raise an Error instead.\n",
            "  X, y = self._initialize(X, y)\n",
            "/usr/local/lib/python3.10/dist-packages/scikeras/wrappers.py:915: UserWarning: ``build_fn`` will be renamed to ``model`` in a future release, at which point use of ``build_fn`` will raise an Error instead.\n",
            "  X, y = self._initialize(X, y)\n",
            "/usr/local/lib/python3.10/dist-packages/scikeras/wrappers.py:915: UserWarning: ``build_fn`` will be renamed to ``model`` in a future release, at which point use of ``build_fn`` will raise an Error instead.\n",
            "  X, y = self._initialize(X, y)\n",
            "/usr/local/lib/python3.10/dist-packages/scikeras/wrappers.py:915: UserWarning: ``build_fn`` will be renamed to ``model`` in a future release, at which point use of ``build_fn`` will raise an Error instead.\n",
            "  X, y = self._initialize(X, y)\n",
            "/usr/local/lib/python3.10/dist-packages/scikeras/wrappers.py:915: UserWarning: ``build_fn`` will be renamed to ``model`` in a future release, at which point use of ``build_fn`` will raise an Error instead.\n",
            "  X, y = self._initialize(X, y)\n",
            "/usr/local/lib/python3.10/dist-packages/scikeras/wrappers.py:915: UserWarning: ``build_fn`` will be renamed to ``model`` in a future release, at which point use of ``build_fn`` will raise an Error instead.\n",
            "  X, y = self._initialize(X, y)\n",
            "/usr/local/lib/python3.10/dist-packages/scikeras/wrappers.py:915: UserWarning: ``build_fn`` will be renamed to ``model`` in a future release, at which point use of ``build_fn`` will raise an Error instead.\n",
            "  X, y = self._initialize(X, y)\n",
            "/usr/local/lib/python3.10/dist-packages/scikeras/wrappers.py:915: UserWarning: ``build_fn`` will be renamed to ``model`` in a future release, at which point use of ``build_fn`` will raise an Error instead.\n",
            "  X, y = self._initialize(X, y)\n",
            "/usr/local/lib/python3.10/dist-packages/scikeras/wrappers.py:915: UserWarning: ``build_fn`` will be renamed to ``model`` in a future release, at which point use of ``build_fn`` will raise an Error instead.\n",
            "  X, y = self._initialize(X, y)\n",
            "/usr/local/lib/python3.10/dist-packages/scikeras/wrappers.py:915: UserWarning: ``build_fn`` will be renamed to ``model`` in a future release, at which point use of ``build_fn`` will raise an Error instead.\n",
            "  X, y = self._initialize(X, y)\n",
            "/usr/local/lib/python3.10/dist-packages/scikeras/wrappers.py:915: UserWarning: ``build_fn`` will be renamed to ``model`` in a future release, at which point use of ``build_fn`` will raise an Error instead.\n",
            "  X, y = self._initialize(X, y)\n",
            "/usr/local/lib/python3.10/dist-packages/scikeras/wrappers.py:915: UserWarning: ``build_fn`` will be renamed to ``model`` in a future release, at which point use of ``build_fn`` will raise an Error instead.\n",
            "  X, y = self._initialize(X, y)\n"
          ]
        },
        {
          "output_type": "execute_result",
          "data": {
            "text/plain": [
              "GridSearchCV(cv=StratifiedKFold(n_splits=3, random_state=None, shuffle=False),\n",
              "             estimator=Pipeline(steps=[('preprocessor',\n",
              "                                        ColumnTransformer(transformers=[('preproc_numeric',\n",
              "                                                                         Pipeline(steps=[('imputer',\n",
              "                                                                                          SimpleImputer(strategy='median')),\n",
              "                                                                                         ('scaler',\n",
              "                                                                                          StandardScaler())]),\n",
              "                                                                         ['age',\n",
              "                                                                          'resting_bp_s',\n",
              "                                                                          'max_heart_rate',\n",
              "                                                                          'cholesterol',\n",
              "                                                                          'pulse',\n",
              "                                                                          'oldpeak',\n",
              "                                                                          'synt']),\n",
              "                                                                        ('preproc_...\n",
              "                                        KerasClassifier(batch_size=32, build_fn=<function build_keras_model at 0x79a7e67145e0>, epochs=20, hidden_activation='relu', hidden_units=(6, 4), input_shape=(13,), validation_split=0.2))]),\n",
              "             param_grid={'classifier__batch_size': [32],\n",
              "                         'classifier__epochs': [20],\n",
              "                         'classifier__hidden_activation': ['relu', 'tanh'],\n",
              "                         'classifier__hidden_units': [(13, 8), (6, 4)],\n",
              "                         'classifier__verbose': [0],\n",
              "                         'preprocessor__verbose': [False]},\n",
              "             refit='accuracy',\n",
              "             scoring={'accuracy': 'accuracy',\n",
              "                      'balanced_accuracy': 'balanced_accuracy',\n",
              "                      'f1': 'f1_macro'},\n",
              "             verbose=1)"
            ],
            "text/html": [
              "<style>#sk-container-id-1 {color: black;background-color: white;}#sk-container-id-1 pre{padding: 0;}#sk-container-id-1 div.sk-toggleable {background-color: white;}#sk-container-id-1 label.sk-toggleable__label {cursor: pointer;display: block;width: 100%;margin-bottom: 0;padding: 0.3em;box-sizing: border-box;text-align: center;}#sk-container-id-1 label.sk-toggleable__label-arrow:before {content: \"▸\";float: left;margin-right: 0.25em;color: #696969;}#sk-container-id-1 label.sk-toggleable__label-arrow:hover:before {color: black;}#sk-container-id-1 div.sk-estimator:hover label.sk-toggleable__label-arrow:before {color: black;}#sk-container-id-1 div.sk-toggleable__content {max-height: 0;max-width: 0;overflow: hidden;text-align: left;background-color: #f0f8ff;}#sk-container-id-1 div.sk-toggleable__content pre {margin: 0.2em;color: black;border-radius: 0.25em;background-color: #f0f8ff;}#sk-container-id-1 input.sk-toggleable__control:checked~div.sk-toggleable__content {max-height: 200px;max-width: 100%;overflow: auto;}#sk-container-id-1 input.sk-toggleable__control:checked~label.sk-toggleable__label-arrow:before {content: \"▾\";}#sk-container-id-1 div.sk-estimator input.sk-toggleable__control:checked~label.sk-toggleable__label {background-color: #d4ebff;}#sk-container-id-1 div.sk-label input.sk-toggleable__control:checked~label.sk-toggleable__label {background-color: #d4ebff;}#sk-container-id-1 input.sk-hidden--visually {border: 0;clip: rect(1px 1px 1px 1px);clip: rect(1px, 1px, 1px, 1px);height: 1px;margin: -1px;overflow: hidden;padding: 0;position: absolute;width: 1px;}#sk-container-id-1 div.sk-estimator {font-family: monospace;background-color: #f0f8ff;border: 1px dotted black;border-radius: 0.25em;box-sizing: border-box;margin-bottom: 0.5em;}#sk-container-id-1 div.sk-estimator:hover {background-color: #d4ebff;}#sk-container-id-1 div.sk-parallel-item::after {content: \"\";width: 100%;border-bottom: 1px solid gray;flex-grow: 1;}#sk-container-id-1 div.sk-label:hover label.sk-toggleable__label {background-color: #d4ebff;}#sk-container-id-1 div.sk-serial::before {content: \"\";position: absolute;border-left: 1px solid gray;box-sizing: border-box;top: 0;bottom: 0;left: 50%;z-index: 0;}#sk-container-id-1 div.sk-serial {display: flex;flex-direction: column;align-items: center;background-color: white;padding-right: 0.2em;padding-left: 0.2em;position: relative;}#sk-container-id-1 div.sk-item {position: relative;z-index: 1;}#sk-container-id-1 div.sk-parallel {display: flex;align-items: stretch;justify-content: center;background-color: white;position: relative;}#sk-container-id-1 div.sk-item::before, #sk-container-id-1 div.sk-parallel-item::before {content: \"\";position: absolute;border-left: 1px solid gray;box-sizing: border-box;top: 0;bottom: 0;left: 50%;z-index: -1;}#sk-container-id-1 div.sk-parallel-item {display: flex;flex-direction: column;z-index: 1;position: relative;background-color: white;}#sk-container-id-1 div.sk-parallel-item:first-child::after {align-self: flex-end;width: 50%;}#sk-container-id-1 div.sk-parallel-item:last-child::after {align-self: flex-start;width: 50%;}#sk-container-id-1 div.sk-parallel-item:only-child::after {width: 0;}#sk-container-id-1 div.sk-dashed-wrapped {border: 1px dashed gray;margin: 0 0.4em 0.5em 0.4em;box-sizing: border-box;padding-bottom: 0.4em;background-color: white;}#sk-container-id-1 div.sk-label label {font-family: monospace;font-weight: bold;display: inline-block;line-height: 1.2em;}#sk-container-id-1 div.sk-label-container {text-align: center;}#sk-container-id-1 div.sk-container {/* jupyter's `normalize.less` sets `[hidden] { display: none; }` but bootstrap.min.css set `[hidden] { display: none !important; }` so we also need the `!important` here to be able to override the default hidden behavior on the sphinx rendered scikit-learn.org. See: https://github.com/scikit-learn/scikit-learn/issues/21755 */display: inline-block !important;position: relative;}#sk-container-id-1 div.sk-text-repr-fallback {display: none;}</style><div id=\"sk-container-id-1\" class=\"sk-top-container\"><div class=\"sk-text-repr-fallback\"><pre>GridSearchCV(cv=StratifiedKFold(n_splits=3, random_state=None, shuffle=False),\n",
              "             estimator=Pipeline(steps=[(&#x27;preprocessor&#x27;,\n",
              "                                        ColumnTransformer(transformers=[(&#x27;preproc_numeric&#x27;,\n",
              "                                                                         Pipeline(steps=[(&#x27;imputer&#x27;,\n",
              "                                                                                          SimpleImputer(strategy=&#x27;median&#x27;)),\n",
              "                                                                                         (&#x27;scaler&#x27;,\n",
              "                                                                                          StandardScaler())]),\n",
              "                                                                         [&#x27;age&#x27;,\n",
              "                                                                          &#x27;resting_bp_s&#x27;,\n",
              "                                                                          &#x27;max_heart_rate&#x27;,\n",
              "                                                                          &#x27;cholesterol&#x27;,\n",
              "                                                                          &#x27;pulse&#x27;,\n",
              "                                                                          &#x27;oldpeak&#x27;,\n",
              "                                                                          &#x27;synt&#x27;]),\n",
              "                                                                        (&#x27;preproc_...\n",
              "                                        KerasClassifier(batch_size=32, build_fn=&lt;function build_keras_model at 0x79a7e67145e0&gt;, epochs=20, hidden_activation=&#x27;relu&#x27;, hidden_units=(6, 4), input_shape=(13,), validation_split=0.2))]),\n",
              "             param_grid={&#x27;classifier__batch_size&#x27;: [32],\n",
              "                         &#x27;classifier__epochs&#x27;: [20],\n",
              "                         &#x27;classifier__hidden_activation&#x27;: [&#x27;relu&#x27;, &#x27;tanh&#x27;],\n",
              "                         &#x27;classifier__hidden_units&#x27;: [(13, 8), (6, 4)],\n",
              "                         &#x27;classifier__verbose&#x27;: [0],\n",
              "                         &#x27;preprocessor__verbose&#x27;: [False]},\n",
              "             refit=&#x27;accuracy&#x27;,\n",
              "             scoring={&#x27;accuracy&#x27;: &#x27;accuracy&#x27;,\n",
              "                      &#x27;balanced_accuracy&#x27;: &#x27;balanced_accuracy&#x27;,\n",
              "                      &#x27;f1&#x27;: &#x27;f1_macro&#x27;},\n",
              "             verbose=1)</pre><b>In a Jupyter environment, please rerun this cell to show the HTML representation or trust the notebook. <br />On GitHub, the HTML representation is unable to render, please try loading this page with nbviewer.org.</b></div><div class=\"sk-container\" hidden><div class=\"sk-item sk-dashed-wrapped\"><div class=\"sk-label-container\"><div class=\"sk-label sk-toggleable\"><input class=\"sk-toggleable__control sk-hidden--visually\" id=\"sk-estimator-id-1\" type=\"checkbox\" ><label for=\"sk-estimator-id-1\" class=\"sk-toggleable__label sk-toggleable__label-arrow\">GridSearchCV</label><div class=\"sk-toggleable__content\"><pre>GridSearchCV(cv=StratifiedKFold(n_splits=3, random_state=None, shuffle=False),\n",
              "             estimator=Pipeline(steps=[(&#x27;preprocessor&#x27;,\n",
              "                                        ColumnTransformer(transformers=[(&#x27;preproc_numeric&#x27;,\n",
              "                                                                         Pipeline(steps=[(&#x27;imputer&#x27;,\n",
              "                                                                                          SimpleImputer(strategy=&#x27;median&#x27;)),\n",
              "                                                                                         (&#x27;scaler&#x27;,\n",
              "                                                                                          StandardScaler())]),\n",
              "                                                                         [&#x27;age&#x27;,\n",
              "                                                                          &#x27;resting_bp_s&#x27;,\n",
              "                                                                          &#x27;max_heart_rate&#x27;,\n",
              "                                                                          &#x27;cholesterol&#x27;,\n",
              "                                                                          &#x27;pulse&#x27;,\n",
              "                                                                          &#x27;oldpeak&#x27;,\n",
              "                                                                          &#x27;synt&#x27;]),\n",
              "                                                                        (&#x27;preproc_...\n",
              "                                        KerasClassifier(batch_size=32, build_fn=&lt;function build_keras_model at 0x79a7e67145e0&gt;, epochs=20, hidden_activation=&#x27;relu&#x27;, hidden_units=(6, 4), input_shape=(13,), validation_split=0.2))]),\n",
              "             param_grid={&#x27;classifier__batch_size&#x27;: [32],\n",
              "                         &#x27;classifier__epochs&#x27;: [20],\n",
              "                         &#x27;classifier__hidden_activation&#x27;: [&#x27;relu&#x27;, &#x27;tanh&#x27;],\n",
              "                         &#x27;classifier__hidden_units&#x27;: [(13, 8), (6, 4)],\n",
              "                         &#x27;classifier__verbose&#x27;: [0],\n",
              "                         &#x27;preprocessor__verbose&#x27;: [False]},\n",
              "             refit=&#x27;accuracy&#x27;,\n",
              "             scoring={&#x27;accuracy&#x27;: &#x27;accuracy&#x27;,\n",
              "                      &#x27;balanced_accuracy&#x27;: &#x27;balanced_accuracy&#x27;,\n",
              "                      &#x27;f1&#x27;: &#x27;f1_macro&#x27;},\n",
              "             verbose=1)</pre></div></div></div><div class=\"sk-parallel\"><div class=\"sk-parallel-item\"><div class=\"sk-item\"><div class=\"sk-label-container\"><div class=\"sk-label sk-toggleable\"><input class=\"sk-toggleable__control sk-hidden--visually\" id=\"sk-estimator-id-2\" type=\"checkbox\" ><label for=\"sk-estimator-id-2\" class=\"sk-toggleable__label sk-toggleable__label-arrow\">estimator: Pipeline</label><div class=\"sk-toggleable__content\"><pre>Pipeline(steps=[(&#x27;preprocessor&#x27;,\n",
              "                 ColumnTransformer(transformers=[(&#x27;preproc_numeric&#x27;,\n",
              "                                                  Pipeline(steps=[(&#x27;imputer&#x27;,\n",
              "                                                                   SimpleImputer(strategy=&#x27;median&#x27;)),\n",
              "                                                                  (&#x27;scaler&#x27;,\n",
              "                                                                   StandardScaler())]),\n",
              "                                                  [&#x27;age&#x27;, &#x27;resting_bp_s&#x27;,\n",
              "                                                   &#x27;max_heart_rate&#x27;,\n",
              "                                                   &#x27;cholesterol&#x27;, &#x27;pulse&#x27;,\n",
              "                                                   &#x27;oldpeak&#x27;, &#x27;synt&#x27;]),\n",
              "                                                 (&#x27;preproc_categorical&#x27;,\n",
              "                                                  Pipeline(steps=[(&#x27;imputer&#x27;,\n",
              "                                                                   SimpleImputer(strategy=&#x27;most_frequent&#x27;)),\n",
              "                                                                  (&#x27;scaler&#x27;,\n",
              "                                                                   StandardScaler())]),\n",
              "                                                  [&#x27;exercise_angina&#x27;,\n",
              "                                                   &#x27;fasting_blood_sugar&#x27;, &#x27;sex&#x27;,\n",
              "                                                   &#x27;resting_ecg&#x27;, &#x27;st_slope&#x27;,\n",
              "                                                   &#x27;chest_pain_type&#x27;])],\n",
              "                                   verbose=True)),\n",
              "                (&#x27;classifier&#x27;,\n",
              "                 KerasClassifier(batch_size=32, build_fn=&lt;function build_keras_model at 0x79a7e67145e0&gt;, epochs=20, hidden_activation=&#x27;relu&#x27;, hidden_units=(6, 4), input_shape=(13,), validation_split=0.2))])</pre></div></div></div><div class=\"sk-serial\"><div class=\"sk-item\"><div class=\"sk-serial\"><div class=\"sk-item sk-dashed-wrapped\"><div class=\"sk-label-container\"><div class=\"sk-label sk-toggleable\"><input class=\"sk-toggleable__control sk-hidden--visually\" id=\"sk-estimator-id-3\" type=\"checkbox\" ><label for=\"sk-estimator-id-3\" class=\"sk-toggleable__label sk-toggleable__label-arrow\">preprocessor: ColumnTransformer</label><div class=\"sk-toggleable__content\"><pre>ColumnTransformer(transformers=[(&#x27;preproc_numeric&#x27;,\n",
              "                                 Pipeline(steps=[(&#x27;imputer&#x27;,\n",
              "                                                  SimpleImputer(strategy=&#x27;median&#x27;)),\n",
              "                                                 (&#x27;scaler&#x27;, StandardScaler())]),\n",
              "                                 [&#x27;age&#x27;, &#x27;resting_bp_s&#x27;, &#x27;max_heart_rate&#x27;,\n",
              "                                  &#x27;cholesterol&#x27;, &#x27;pulse&#x27;, &#x27;oldpeak&#x27;, &#x27;synt&#x27;]),\n",
              "                                (&#x27;preproc_categorical&#x27;,\n",
              "                                 Pipeline(steps=[(&#x27;imputer&#x27;,\n",
              "                                                  SimpleImputer(strategy=&#x27;most_frequent&#x27;)),\n",
              "                                                 (&#x27;scaler&#x27;, StandardScaler())]),\n",
              "                                 [&#x27;exercise_angina&#x27;, &#x27;fasting_blood_sugar&#x27;,\n",
              "                                  &#x27;sex&#x27;, &#x27;resting_ecg&#x27;, &#x27;st_slope&#x27;,\n",
              "                                  &#x27;chest_pain_type&#x27;])],\n",
              "                  verbose=True)</pre></div></div></div><div class=\"sk-parallel\"><div class=\"sk-parallel-item\"><div class=\"sk-item\"><div class=\"sk-label-container\"><div class=\"sk-label sk-toggleable\"><input class=\"sk-toggleable__control sk-hidden--visually\" id=\"sk-estimator-id-4\" type=\"checkbox\" ><label for=\"sk-estimator-id-4\" class=\"sk-toggleable__label sk-toggleable__label-arrow\">preproc_numeric</label><div class=\"sk-toggleable__content\"><pre>[&#x27;age&#x27;, &#x27;resting_bp_s&#x27;, &#x27;max_heart_rate&#x27;, &#x27;cholesterol&#x27;, &#x27;pulse&#x27;, &#x27;oldpeak&#x27;, &#x27;synt&#x27;]</pre></div></div></div><div class=\"sk-serial\"><div class=\"sk-item\"><div class=\"sk-serial\"><div class=\"sk-item\"><div class=\"sk-estimator sk-toggleable\"><input class=\"sk-toggleable__control sk-hidden--visually\" id=\"sk-estimator-id-5\" type=\"checkbox\" ><label for=\"sk-estimator-id-5\" class=\"sk-toggleable__label sk-toggleable__label-arrow\">SimpleImputer</label><div class=\"sk-toggleable__content\"><pre>SimpleImputer(strategy=&#x27;median&#x27;)</pre></div></div></div><div class=\"sk-item\"><div class=\"sk-estimator sk-toggleable\"><input class=\"sk-toggleable__control sk-hidden--visually\" id=\"sk-estimator-id-6\" type=\"checkbox\" ><label for=\"sk-estimator-id-6\" class=\"sk-toggleable__label sk-toggleable__label-arrow\">StandardScaler</label><div class=\"sk-toggleable__content\"><pre>StandardScaler()</pre></div></div></div></div></div></div></div></div><div class=\"sk-parallel-item\"><div class=\"sk-item\"><div class=\"sk-label-container\"><div class=\"sk-label sk-toggleable\"><input class=\"sk-toggleable__control sk-hidden--visually\" id=\"sk-estimator-id-7\" type=\"checkbox\" ><label for=\"sk-estimator-id-7\" class=\"sk-toggleable__label sk-toggleable__label-arrow\">preproc_categorical</label><div class=\"sk-toggleable__content\"><pre>[&#x27;exercise_angina&#x27;, &#x27;fasting_blood_sugar&#x27;, &#x27;sex&#x27;, &#x27;resting_ecg&#x27;, &#x27;st_slope&#x27;, &#x27;chest_pain_type&#x27;]</pre></div></div></div><div class=\"sk-serial\"><div class=\"sk-item\"><div class=\"sk-serial\"><div class=\"sk-item\"><div class=\"sk-estimator sk-toggleable\"><input class=\"sk-toggleable__control sk-hidden--visually\" id=\"sk-estimator-id-8\" type=\"checkbox\" ><label for=\"sk-estimator-id-8\" class=\"sk-toggleable__label sk-toggleable__label-arrow\">SimpleImputer</label><div class=\"sk-toggleable__content\"><pre>SimpleImputer(strategy=&#x27;most_frequent&#x27;)</pre></div></div></div><div class=\"sk-item\"><div class=\"sk-estimator sk-toggleable\"><input class=\"sk-toggleable__control sk-hidden--visually\" id=\"sk-estimator-id-9\" type=\"checkbox\" ><label for=\"sk-estimator-id-9\" class=\"sk-toggleable__label sk-toggleable__label-arrow\">StandardScaler</label><div class=\"sk-toggleable__content\"><pre>StandardScaler()</pre></div></div></div></div></div></div></div></div></div></div><div class=\"sk-item\"><div class=\"sk-estimator sk-toggleable\"><input class=\"sk-toggleable__control sk-hidden--visually\" id=\"sk-estimator-id-10\" type=\"checkbox\" ><label for=\"sk-estimator-id-10\" class=\"sk-toggleable__label sk-toggleable__label-arrow\">KerasClassifier</label><div class=\"sk-toggleable__content\"><pre>KerasClassifier(\n",
              "\tmodel=None\n",
              "\tbuild_fn=&lt;function build_keras_model at 0x79a7e67145e0&gt;\n",
              "\twarm_start=False\n",
              "\trandom_state=None\n",
              "\toptimizer=rmsprop\n",
              "\tloss=None\n",
              "\tmetrics=None\n",
              "\tbatch_size=32\n",
              "\tvalidation_batch_size=None\n",
              "\tverbose=1\n",
              "\tcallbacks=None\n",
              "\tvalidation_split=0.2\n",
              "\tshuffle=True\n",
              "\trun_eagerly=False\n",
              "\tepochs=20\n",
              "\tinput_shape=(13,)\n",
              "\thidden_units=(6, 4)\n",
              "\thidden_activation=relu\n",
              "\tclass_weight=None\n",
              ")</pre></div></div></div></div></div></div></div></div></div></div></div></div>"
            ]
          },
          "metadata": {},
          "execution_count": 55
        }
      ],
      "source": [
        "# Create the pipeline classifier using keras model as classifier\n",
        "clf = Pipeline(\n",
        "    steps=[(\"preprocessor\", preprocessor), (\"classifier\", keras_model_classifier),]\n",
        ")\n",
        "\n",
        "# Create the parameter grids\n",
        "parameter_grid = {\n",
        "    \"preprocessor__verbose\": [False],\n",
        "    \"classifier__hidden_units\": [(13, 8), (6, 4)],\n",
        "    \"classifier__hidden_activation\": [\"relu\", \"tanh\"],\n",
        "    \"classifier__epochs\": [20],\n",
        "    \"classifier__batch_size\": [32],\n",
        "    \"classifier__verbose\": [0],\n",
        "}\n",
        "\n",
        "# Create Stratified folds\n",
        "cross_validation = StratifiedKFold(n_splits=3)\n",
        "cross_validation.get_n_splits(X_train_pp, y_train)\n",
        "\n",
        "# Create the scoring dictionary\n",
        "SCORING = {\n",
        "    \"accuracy\": \"accuracy\",\n",
        "    \"balanced_accuracy\": \"balanced_accuracy\",\n",
        "    \"f1\": \"f1_macro\",\n",
        "}\n",
        "\n",
        "# Create and fit the GridSearchCV\n",
        "grid_search = GridSearchCV(\n",
        "    estimator=clf,\n",
        "    param_grid=parameter_grid,\n",
        "    cv=cross_validation,\n",
        "    verbose=1,\n",
        "    scoring=SCORING,\n",
        "    return_train_score=False,  # True,\n",
        "    refit=\"accuracy\",\n",
        ")\n",
        "\n",
        "# You can use X_train without manual preprocessing because preprocessor is built-in the classifier pipeline\n",
        "grid_search.fit(X_train, y_train)"
      ]
    },
    {
      "cell_type": "code",
      "execution_count": 56,
      "metadata": {
        "id": "R3NhPvsCcQzo"
      },
      "outputs": [],
      "source": [
        "# grid_search.cv_results_"
      ]
    },
    {
      "cell_type": "code",
      "execution_count": 57,
      "metadata": {
        "colab": {
          "base_uri": "https://localhost:8080/",
          "height": 281
        },
        "id": "qmzMPoBDcQzq",
        "outputId": "dc44e0ba-7d2f-4200-c9b6-ac4279fc65c1"
      },
      "outputs": [
        {
          "output_type": "stream",
          "name": "stdout",
          "text": [
            "Best score: 0.833982538854773\n",
            "Best parameters: {'classifier__batch_size': 32, 'classifier__epochs': 20, 'classifier__hidden_activation': 'tanh', 'classifier__hidden_units': (13, 8), 'classifier__verbose': 0, 'preprocessor__verbose': False}\n"
          ]
        },
        {
          "output_type": "execute_result",
          "data": {
            "text/plain": [
              "Pipeline(steps=[('preprocessor',\n",
              "                 ColumnTransformer(transformers=[('preproc_numeric',\n",
              "                                                  Pipeline(steps=[('imputer',\n",
              "                                                                   SimpleImputer(strategy='median')),\n",
              "                                                                  ('scaler',\n",
              "                                                                   StandardScaler())]),\n",
              "                                                  ['age', 'resting_bp_s',\n",
              "                                                   'max_heart_rate',\n",
              "                                                   'cholesterol', 'pulse',\n",
              "                                                   'oldpeak', 'synt']),\n",
              "                                                 ('preproc_categorical',\n",
              "                                                  Pipeline(steps=[('imputer',\n",
              "                                                                   SimpleImputer(strategy='most_frequent')),\n",
              "                                                                  ('scaler',\n",
              "                                                                   StandardScaler())]),\n",
              "                                                  ['exercise_angina',\n",
              "                                                   'fasting_blood_sugar', 'sex',\n",
              "                                                   'resting_ecg', 'st_slope',\n",
              "                                                   'chest_pain_type'])])),\n",
              "                ('classifier',\n",
              "                 KerasClassifier(batch_size=32, build_fn=<function build_keras_model at 0x79a7e67145e0>, epochs=20, hidden_activation='tanh', hidden_units=(13, 8), input_shape=(13,), validation_split=0.2, verbose=0))])"
            ],
            "text/html": [
              "<style>#sk-container-id-2 {color: black;background-color: white;}#sk-container-id-2 pre{padding: 0;}#sk-container-id-2 div.sk-toggleable {background-color: white;}#sk-container-id-2 label.sk-toggleable__label {cursor: pointer;display: block;width: 100%;margin-bottom: 0;padding: 0.3em;box-sizing: border-box;text-align: center;}#sk-container-id-2 label.sk-toggleable__label-arrow:before {content: \"▸\";float: left;margin-right: 0.25em;color: #696969;}#sk-container-id-2 label.sk-toggleable__label-arrow:hover:before {color: black;}#sk-container-id-2 div.sk-estimator:hover label.sk-toggleable__label-arrow:before {color: black;}#sk-container-id-2 div.sk-toggleable__content {max-height: 0;max-width: 0;overflow: hidden;text-align: left;background-color: #f0f8ff;}#sk-container-id-2 div.sk-toggleable__content pre {margin: 0.2em;color: black;border-radius: 0.25em;background-color: #f0f8ff;}#sk-container-id-2 input.sk-toggleable__control:checked~div.sk-toggleable__content {max-height: 200px;max-width: 100%;overflow: auto;}#sk-container-id-2 input.sk-toggleable__control:checked~label.sk-toggleable__label-arrow:before {content: \"▾\";}#sk-container-id-2 div.sk-estimator input.sk-toggleable__control:checked~label.sk-toggleable__label {background-color: #d4ebff;}#sk-container-id-2 div.sk-label input.sk-toggleable__control:checked~label.sk-toggleable__label {background-color: #d4ebff;}#sk-container-id-2 input.sk-hidden--visually {border: 0;clip: rect(1px 1px 1px 1px);clip: rect(1px, 1px, 1px, 1px);height: 1px;margin: -1px;overflow: hidden;padding: 0;position: absolute;width: 1px;}#sk-container-id-2 div.sk-estimator {font-family: monospace;background-color: #f0f8ff;border: 1px dotted black;border-radius: 0.25em;box-sizing: border-box;margin-bottom: 0.5em;}#sk-container-id-2 div.sk-estimator:hover {background-color: #d4ebff;}#sk-container-id-2 div.sk-parallel-item::after {content: \"\";width: 100%;border-bottom: 1px solid gray;flex-grow: 1;}#sk-container-id-2 div.sk-label:hover label.sk-toggleable__label {background-color: #d4ebff;}#sk-container-id-2 div.sk-serial::before {content: \"\";position: absolute;border-left: 1px solid gray;box-sizing: border-box;top: 0;bottom: 0;left: 50%;z-index: 0;}#sk-container-id-2 div.sk-serial {display: flex;flex-direction: column;align-items: center;background-color: white;padding-right: 0.2em;padding-left: 0.2em;position: relative;}#sk-container-id-2 div.sk-item {position: relative;z-index: 1;}#sk-container-id-2 div.sk-parallel {display: flex;align-items: stretch;justify-content: center;background-color: white;position: relative;}#sk-container-id-2 div.sk-item::before, #sk-container-id-2 div.sk-parallel-item::before {content: \"\";position: absolute;border-left: 1px solid gray;box-sizing: border-box;top: 0;bottom: 0;left: 50%;z-index: -1;}#sk-container-id-2 div.sk-parallel-item {display: flex;flex-direction: column;z-index: 1;position: relative;background-color: white;}#sk-container-id-2 div.sk-parallel-item:first-child::after {align-self: flex-end;width: 50%;}#sk-container-id-2 div.sk-parallel-item:last-child::after {align-self: flex-start;width: 50%;}#sk-container-id-2 div.sk-parallel-item:only-child::after {width: 0;}#sk-container-id-2 div.sk-dashed-wrapped {border: 1px dashed gray;margin: 0 0.4em 0.5em 0.4em;box-sizing: border-box;padding-bottom: 0.4em;background-color: white;}#sk-container-id-2 div.sk-label label {font-family: monospace;font-weight: bold;display: inline-block;line-height: 1.2em;}#sk-container-id-2 div.sk-label-container {text-align: center;}#sk-container-id-2 div.sk-container {/* jupyter's `normalize.less` sets `[hidden] { display: none; }` but bootstrap.min.css set `[hidden] { display: none !important; }` so we also need the `!important` here to be able to override the default hidden behavior on the sphinx rendered scikit-learn.org. See: https://github.com/scikit-learn/scikit-learn/issues/21755 */display: inline-block !important;position: relative;}#sk-container-id-2 div.sk-text-repr-fallback {display: none;}</style><div id=\"sk-container-id-2\" class=\"sk-top-container\"><div class=\"sk-text-repr-fallback\"><pre>Pipeline(steps=[(&#x27;preprocessor&#x27;,\n",
              "                 ColumnTransformer(transformers=[(&#x27;preproc_numeric&#x27;,\n",
              "                                                  Pipeline(steps=[(&#x27;imputer&#x27;,\n",
              "                                                                   SimpleImputer(strategy=&#x27;median&#x27;)),\n",
              "                                                                  (&#x27;scaler&#x27;,\n",
              "                                                                   StandardScaler())]),\n",
              "                                                  [&#x27;age&#x27;, &#x27;resting_bp_s&#x27;,\n",
              "                                                   &#x27;max_heart_rate&#x27;,\n",
              "                                                   &#x27;cholesterol&#x27;, &#x27;pulse&#x27;,\n",
              "                                                   &#x27;oldpeak&#x27;, &#x27;synt&#x27;]),\n",
              "                                                 (&#x27;preproc_categorical&#x27;,\n",
              "                                                  Pipeline(steps=[(&#x27;imputer&#x27;,\n",
              "                                                                   SimpleImputer(strategy=&#x27;most_frequent&#x27;)),\n",
              "                                                                  (&#x27;scaler&#x27;,\n",
              "                                                                   StandardScaler())]),\n",
              "                                                  [&#x27;exercise_angina&#x27;,\n",
              "                                                   &#x27;fasting_blood_sugar&#x27;, &#x27;sex&#x27;,\n",
              "                                                   &#x27;resting_ecg&#x27;, &#x27;st_slope&#x27;,\n",
              "                                                   &#x27;chest_pain_type&#x27;])])),\n",
              "                (&#x27;classifier&#x27;,\n",
              "                 KerasClassifier(batch_size=32, build_fn=&lt;function build_keras_model at 0x79a7e67145e0&gt;, epochs=20, hidden_activation=&#x27;tanh&#x27;, hidden_units=(13, 8), input_shape=(13,), validation_split=0.2, verbose=0))])</pre><b>In a Jupyter environment, please rerun this cell to show the HTML representation or trust the notebook. <br />On GitHub, the HTML representation is unable to render, please try loading this page with nbviewer.org.</b></div><div class=\"sk-container\" hidden><div class=\"sk-item sk-dashed-wrapped\"><div class=\"sk-label-container\"><div class=\"sk-label sk-toggleable\"><input class=\"sk-toggleable__control sk-hidden--visually\" id=\"sk-estimator-id-11\" type=\"checkbox\" ><label for=\"sk-estimator-id-11\" class=\"sk-toggleable__label sk-toggleable__label-arrow\">Pipeline</label><div class=\"sk-toggleable__content\"><pre>Pipeline(steps=[(&#x27;preprocessor&#x27;,\n",
              "                 ColumnTransformer(transformers=[(&#x27;preproc_numeric&#x27;,\n",
              "                                                  Pipeline(steps=[(&#x27;imputer&#x27;,\n",
              "                                                                   SimpleImputer(strategy=&#x27;median&#x27;)),\n",
              "                                                                  (&#x27;scaler&#x27;,\n",
              "                                                                   StandardScaler())]),\n",
              "                                                  [&#x27;age&#x27;, &#x27;resting_bp_s&#x27;,\n",
              "                                                   &#x27;max_heart_rate&#x27;,\n",
              "                                                   &#x27;cholesterol&#x27;, &#x27;pulse&#x27;,\n",
              "                                                   &#x27;oldpeak&#x27;, &#x27;synt&#x27;]),\n",
              "                                                 (&#x27;preproc_categorical&#x27;,\n",
              "                                                  Pipeline(steps=[(&#x27;imputer&#x27;,\n",
              "                                                                   SimpleImputer(strategy=&#x27;most_frequent&#x27;)),\n",
              "                                                                  (&#x27;scaler&#x27;,\n",
              "                                                                   StandardScaler())]),\n",
              "                                                  [&#x27;exercise_angina&#x27;,\n",
              "                                                   &#x27;fasting_blood_sugar&#x27;, &#x27;sex&#x27;,\n",
              "                                                   &#x27;resting_ecg&#x27;, &#x27;st_slope&#x27;,\n",
              "                                                   &#x27;chest_pain_type&#x27;])])),\n",
              "                (&#x27;classifier&#x27;,\n",
              "                 KerasClassifier(batch_size=32, build_fn=&lt;function build_keras_model at 0x79a7e67145e0&gt;, epochs=20, hidden_activation=&#x27;tanh&#x27;, hidden_units=(13, 8), input_shape=(13,), validation_split=0.2, verbose=0))])</pre></div></div></div><div class=\"sk-serial\"><div class=\"sk-item sk-dashed-wrapped\"><div class=\"sk-label-container\"><div class=\"sk-label sk-toggleable\"><input class=\"sk-toggleable__control sk-hidden--visually\" id=\"sk-estimator-id-12\" type=\"checkbox\" ><label for=\"sk-estimator-id-12\" class=\"sk-toggleable__label sk-toggleable__label-arrow\">preprocessor: ColumnTransformer</label><div class=\"sk-toggleable__content\"><pre>ColumnTransformer(transformers=[(&#x27;preproc_numeric&#x27;,\n",
              "                                 Pipeline(steps=[(&#x27;imputer&#x27;,\n",
              "                                                  SimpleImputer(strategy=&#x27;median&#x27;)),\n",
              "                                                 (&#x27;scaler&#x27;, StandardScaler())]),\n",
              "                                 [&#x27;age&#x27;, &#x27;resting_bp_s&#x27;, &#x27;max_heart_rate&#x27;,\n",
              "                                  &#x27;cholesterol&#x27;, &#x27;pulse&#x27;, &#x27;oldpeak&#x27;, &#x27;synt&#x27;]),\n",
              "                                (&#x27;preproc_categorical&#x27;,\n",
              "                                 Pipeline(steps=[(&#x27;imputer&#x27;,\n",
              "                                                  SimpleImputer(strategy=&#x27;most_frequent&#x27;)),\n",
              "                                                 (&#x27;scaler&#x27;, StandardScaler())]),\n",
              "                                 [&#x27;exercise_angina&#x27;, &#x27;fasting_blood_sugar&#x27;,\n",
              "                                  &#x27;sex&#x27;, &#x27;resting_ecg&#x27;, &#x27;st_slope&#x27;,\n",
              "                                  &#x27;chest_pain_type&#x27;])])</pre></div></div></div><div class=\"sk-parallel\"><div class=\"sk-parallel-item\"><div class=\"sk-item\"><div class=\"sk-label-container\"><div class=\"sk-label sk-toggleable\"><input class=\"sk-toggleable__control sk-hidden--visually\" id=\"sk-estimator-id-13\" type=\"checkbox\" ><label for=\"sk-estimator-id-13\" class=\"sk-toggleable__label sk-toggleable__label-arrow\">preproc_numeric</label><div class=\"sk-toggleable__content\"><pre>[&#x27;age&#x27;, &#x27;resting_bp_s&#x27;, &#x27;max_heart_rate&#x27;, &#x27;cholesterol&#x27;, &#x27;pulse&#x27;, &#x27;oldpeak&#x27;, &#x27;synt&#x27;]</pre></div></div></div><div class=\"sk-serial\"><div class=\"sk-item\"><div class=\"sk-serial\"><div class=\"sk-item\"><div class=\"sk-estimator sk-toggleable\"><input class=\"sk-toggleable__control sk-hidden--visually\" id=\"sk-estimator-id-14\" type=\"checkbox\" ><label for=\"sk-estimator-id-14\" class=\"sk-toggleable__label sk-toggleable__label-arrow\">SimpleImputer</label><div class=\"sk-toggleable__content\"><pre>SimpleImputer(strategy=&#x27;median&#x27;)</pre></div></div></div><div class=\"sk-item\"><div class=\"sk-estimator sk-toggleable\"><input class=\"sk-toggleable__control sk-hidden--visually\" id=\"sk-estimator-id-15\" type=\"checkbox\" ><label for=\"sk-estimator-id-15\" class=\"sk-toggleable__label sk-toggleable__label-arrow\">StandardScaler</label><div class=\"sk-toggleable__content\"><pre>StandardScaler()</pre></div></div></div></div></div></div></div></div><div class=\"sk-parallel-item\"><div class=\"sk-item\"><div class=\"sk-label-container\"><div class=\"sk-label sk-toggleable\"><input class=\"sk-toggleable__control sk-hidden--visually\" id=\"sk-estimator-id-16\" type=\"checkbox\" ><label for=\"sk-estimator-id-16\" class=\"sk-toggleable__label sk-toggleable__label-arrow\">preproc_categorical</label><div class=\"sk-toggleable__content\"><pre>[&#x27;exercise_angina&#x27;, &#x27;fasting_blood_sugar&#x27;, &#x27;sex&#x27;, &#x27;resting_ecg&#x27;, &#x27;st_slope&#x27;, &#x27;chest_pain_type&#x27;]</pre></div></div></div><div class=\"sk-serial\"><div class=\"sk-item\"><div class=\"sk-serial\"><div class=\"sk-item\"><div class=\"sk-estimator sk-toggleable\"><input class=\"sk-toggleable__control sk-hidden--visually\" id=\"sk-estimator-id-17\" type=\"checkbox\" ><label for=\"sk-estimator-id-17\" class=\"sk-toggleable__label sk-toggleable__label-arrow\">SimpleImputer</label><div class=\"sk-toggleable__content\"><pre>SimpleImputer(strategy=&#x27;most_frequent&#x27;)</pre></div></div></div><div class=\"sk-item\"><div class=\"sk-estimator sk-toggleable\"><input class=\"sk-toggleable__control sk-hidden--visually\" id=\"sk-estimator-id-18\" type=\"checkbox\" ><label for=\"sk-estimator-id-18\" class=\"sk-toggleable__label sk-toggleable__label-arrow\">StandardScaler</label><div class=\"sk-toggleable__content\"><pre>StandardScaler()</pre></div></div></div></div></div></div></div></div></div></div><div class=\"sk-item\"><div class=\"sk-estimator sk-toggleable\"><input class=\"sk-toggleable__control sk-hidden--visually\" id=\"sk-estimator-id-19\" type=\"checkbox\" ><label for=\"sk-estimator-id-19\" class=\"sk-toggleable__label sk-toggleable__label-arrow\">KerasClassifier</label><div class=\"sk-toggleable__content\"><pre>KerasClassifier(\n",
              "\tmodel=None\n",
              "\tbuild_fn=&lt;function build_keras_model at 0x79a7e67145e0&gt;\n",
              "\twarm_start=False\n",
              "\trandom_state=None\n",
              "\toptimizer=rmsprop\n",
              "\tloss=None\n",
              "\tmetrics=None\n",
              "\tbatch_size=32\n",
              "\tvalidation_batch_size=None\n",
              "\tverbose=0\n",
              "\tcallbacks=None\n",
              "\tvalidation_split=0.2\n",
              "\tshuffle=True\n",
              "\trun_eagerly=False\n",
              "\tepochs=20\n",
              "\tinput_shape=(13,)\n",
              "\thidden_units=(13, 8)\n",
              "\thidden_activation=tanh\n",
              "\tclass_weight=None\n",
              ")</pre></div></div></div></div></div></div></div>"
            ]
          },
          "metadata": {},
          "execution_count": 57
        }
      ],
      "source": [
        "print(\"Best score: {}\".format(grid_search.best_score_))\n",
        "print(\"Best parameters: {}\".format(grid_search.best_params_))\n",
        "\n",
        "best_clf = grid_search.best_estimator_\n",
        "best_clf"
      ]
    },
    {
      "cell_type": "code",
      "execution_count": 58,
      "metadata": {
        "colab": {
          "base_uri": "https://localhost:8080/"
        },
        "id": "sYHg4xQgcQzs",
        "outputId": "12eb182a-6c00-4009-a196-e8ec2dbd9acc"
      },
      "outputs": [
        {
          "output_type": "execute_result",
          "data": {
            "text/plain": [
              "0.8447348193697156"
            ]
          },
          "metadata": {},
          "execution_count": 58
        }
      ],
      "source": [
        "my_model = best_clf\n",
        "# my_model.fit(X_train_pp, y_train)\n",
        "my_model.score(X_train, y_train)"
      ]
    },
    {
      "cell_type": "code",
      "execution_count": 59,
      "metadata": {
        "colab": {
          "base_uri": "https://localhost:8080/"
        },
        "id": "1YfuqF-ucQzu",
        "outputId": "f4d157ec-73b2-4ef5-c5ac-6df2740ef2ff"
      },
      "outputs": [
        {
          "output_type": "stream",
          "name": "stdout",
          "text": [
            "Confusion Matrix:\n",
            "[[697 101]\n",
            " [101 402]]\n",
            "Classification Report:\n",
            "              precision    recall  f1-score   support\n",
            "\n",
            "           0       0.87      0.87      0.87       798\n",
            "           1       0.80      0.80      0.80       503\n",
            "\n",
            "    accuracy                           0.84      1301\n",
            "   macro avg       0.84      0.84      0.84      1301\n",
            "weighted avg       0.84      0.84      0.84      1301\n",
            "\n"
          ]
        }
      ],
      "source": [
        "y_pred = my_model.predict(X_train)\n",
        "print(\"Confusion Matrix:\")\n",
        "print(confusion_matrix(y_train, y_pred))\n",
        "\n",
        "print(\"Classification Report:\")\n",
        "print(classification_report(y_train, y_pred))"
      ]
    },
    {
      "cell_type": "markdown",
      "metadata": {
        "id": "wrK4RxylcQzy"
      },
      "source": [
        "### Submit the final model"
      ]
    },
    {
      "cell_type": "code",
      "execution_count": 60,
      "metadata": {
        "id": "8scvMiJicQzy",
        "outputId": "8521197d-be4b-4303-f8e4-25f17516bc5f",
        "colab": {
          "base_uri": "https://localhost:8080/"
        }
      },
      "outputs": [
        {
          "output_type": "stream",
          "name": "stdout",
          "text": [
            "NN Submission: User defined NN evaluated with grid search\n"
          ]
        }
      ],
      "source": [
        "# generate a submission file\n",
        "generateSubmission(\n",
        "    model=my_model,\n",
        "    submissionFile=\"gridcv_NN.csv\",\n",
        "    submissionDescription=DEFAULT_DESCRIPTION\n",
        "    + \"User defined NN evaluated with grid search\",\n",
        "    prediction_type=\"label\",\n",
        ")"
      ]
    },
    {
      "cell_type": "markdown",
      "metadata": {
        "_cell_guid": "677b20af-bc56-4db1-aac3-1010389367ba",
        "_uuid": "c5294634157ca8c52d35c999ee949023b9544ee1",
        "id": "Vl2xROUscQz1"
      },
      "source": [
        "Step by step commands...\n",
        "\n",
        "In addition to your training data, there will be test data. This is frequently stored in a file with the title `test.csv`. This data won't include a column with your target (y), because that is what we'll have to predict and submit.  Here is sample code to do that."
      ]
    },
    {
      "cell_type": "code",
      "execution_count": 61,
      "metadata": {
        "_cell_guid": "a023518d-78e0-4e58-a243-6d1fe98992b9",
        "_uuid": "7bc843ef333847d305f576489d3e2aa3afc9384d",
        "colab": {
          "base_uri": "https://localhost:8080/"
        },
        "id": "_TPmWWIUcQz1",
        "outputId": "03958ab3-dffe-445a-e521-e9d27f78070a"
      },
      "outputs": [
        {
          "output_type": "stream",
          "name": "stdout",
          "text": [
            "[1, 1, 0, 1, 1, 1, 0, 1, 0, 1, 1, 1, 0, 1, 1, 0, 0, 1, 1, 0, 1, 1, 1, 0, 1, 1, 0, 0, 0, 1, 0, 1, 1, 0, 0, 1, 1, 1, 1, 1, 0, 0, 0, 0, 1, 0, 0, 1, 1, 1, 0, 0, 1, 1, 0, 1, 0, 0, 1, 1, 0, 0, 0, 0, 1, 1, 1, 0, 0, 1, 1, 1, 1, 0, 0, 0, 0, 0, 1, 1, 0, 1, 0, 1, 0, 1, 0, 0, 0, 1, 0, 1, 0, 1, 1, 0, 1, 1, 0, 1, 1, 0, 0, 1, 1, 0, 0, 0, 1, 1, 1, 1, 1, 1, 1, 0, 1, 1, 0, 1, 1, 1, 0, 0, 0, 1, 0, 1, 0, 1, 0, 0, 1, 0, 1, 1, 0, 1, 1, 0, 0, 1, 0, 1, 0, 0, 1, 1, 1, 0, 0, 1, 0, 0, 0, 1, 0, 1, 0, 1, 1, 1, 1, 0, 1, 0, 0, 1, 0, 0, 0, 1, 0, 1, 0, 0, 1, 0, 0, 1, 0, 0, 0, 0, 1, 1, 1, 1, 0, 0, 0, 0, 1, 0, 0, 1, 0, 1, 1, 1, 1, 0, 1, 0, 0, 1, 0, 0, 1, 0, 0, 0, 1, 0, 1, 1, 1, 1, 1, 1, 0, 0, 0, 0, 1, 0, 0, 0, 1, 1, 1, 0, 0, 1, 0, 0, 0, 0]\n"
          ]
        }
      ],
      "source": [
        "# Read the test data\n",
        "data = pd.read_csv(DATA_PATH + \"test.csv\")\n",
        "\n",
        "Id, X_test = data.Id, data.drop(columns=DROPCOLUMS)\n",
        "\n",
        "# Use the model to make predictions\n",
        "y_test_pred = best_clf.predict(X_test)\n",
        "y_test_pred = np.squeeze(y_test_pred)\n",
        "print(y_test_pred.tolist())"
      ]
    },
    {
      "cell_type": "markdown",
      "metadata": {
        "_cell_guid": "258e450a-d82c-4a7f-af22-cc695f74b4e3",
        "_uuid": "49e253dc359af831d8e248979b90c70dfcbef99a",
        "id": "EHZwo_p0cQz3"
      },
      "source": [
        "# Prepare Submission File\n",
        "We make submissions in CSV files.  Your submissions usually have two columns: an ID column and a prediction column.  The ID field comes from the test data (keeping whatever name the ID field had in that data, which for the housing data is the string 'Id'). The prediction column will use the name of the target field.\n",
        "\n",
        "We will create a DataFrame with this data, and then use the dataframe's `to_csv` method to write our submission file.  Explicitly include the argument `index=False` to prevent pandas from adding another column in our csv file."
      ]
    },
    {
      "cell_type": "code",
      "execution_count": 62,
      "metadata": {
        "_cell_guid": "092f5aed-0de4-4295-80ee-c193c8b84edd",
        "_uuid": "da5946c5fbc32fdb537788cd6ad5da1d6d698ae6",
        "id": "YWgl8n1IcQz3"
      },
      "outputs": [],
      "source": [
        "# submission file\n",
        "my_submission = pd.DataFrame({\"Id\": Id, \"target\": y_test_pred})\n",
        "# you could use any filename. We choose submission here\n",
        "my_submission.to_csv(OUTPUT_PATH + \"submission.csv\", index=False)"
      ]
    },
    {
      "cell_type": "markdown",
      "metadata": {
        "id": "MI90OYzMcQz5"
      },
      "source": [
        "# Make Submission\n",
        "Hit the blue **Publish** button at the top of your notebook screen.  It will take some time for your kernel to run.  When it has finished your navigation bar at the top of the screen will have a tab for **Output**.  This only shows up if you have written an output file (like we did in the **Prepare Submission File** step).  \n",
        "\n",
        "Otherwise, if you have a kaggle API token (https://www.kaggle.com/docs/api#getting-started-installation-&-authentication), you can use the following command (remove the '#'):"
      ]
    },
    {
      "cell_type": "code",
      "execution_count": 63,
      "metadata": {
        "id": "FOiar0c4cQz5"
      },
      "outputs": [],
      "source": [
        "#!kaggle competitions submit -c  heart-attack-analysis-and-prediction-21 -f kaggle_submissions/submission.csv -m \"Please describe the technique used\""
      ]
    },
    {
      "cell_type": "markdown",
      "metadata": {
        "_cell_guid": "ab2280a4-9c65-4810-8813-831f4dcd86e1",
        "_uuid": "97f80b7f76066fd78cdb5137757fb3c63abd0519",
        "id": "gFKeS8jBcQz7"
      },
      "source": [
        "\n",
        "# Last Steps\n",
        "Click on the Output button.  This will bring you to a screen with an option to **Submit to Competition**.  Hit that and you will see how your model performed.\n",
        "\n",
        "If you want to go back to improve your model, click the Edit button, which re-opens the kernel.  You'll need to re-run all the cells when you re-open the kernel.\n",
        "\n",
        "# Conclusion\n",
        "You've completed Level 1 of Machine Learning.  Congrats.  \n",
        "\n",
        "If you are ready to keep improving your model (and your skills), start level 2 of [Learn Machine Learning](https://www.kaggle.com/learn/machine-learning).\n",
        "\n",
        "Level 2 covers more powerful models, techniques to include non-numeric data, and more.  You can make more submissions to the competition and climb up the leaderboard as you go through the course.\n",
        "\n",
        "\n"
      ]
    }
  ],
  "metadata": {
    "colab": {
      "name": "how_to_submit_prediction_to_kaggle_in_python_with_sklearn_and_keras.ipynb",
      "provenance": [],
      "toc_visible": true,
      "include_colab_link": true
    },
    "kernelspec": {
      "display_name": "Python 3",
      "language": "python",
      "name": "python3"
    },
    "language_info": {
      "codemirror_mode": {
        "name": "ipython",
        "version": 3
      },
      "file_extension": ".py",
      "mimetype": "text/x-python",
      "name": "python",
      "nbconvert_exporter": "python",
      "pygments_lexer": "ipython3",
      "version": "3.8.12"
    },
    "toc-autonumbering": true
  },
  "nbformat": 4,
  "nbformat_minor": 0
}