{
  "nbformat": 4,
  "nbformat_minor": 0,
  "metadata": {
    "kernelspec": {
      "display_name": "Python 3",
      "language": "python",
      "name": "python3"
    },
    "language_info": {
      "codemirror_mode": {
        "name": "ipython",
        "version": 3
      },
      "file_extension": ".py",
      "mimetype": "text/x-python",
      "name": "python",
      "nbconvert_exporter": "python",
      "pygments_lexer": "ipython3",
      "version": "3.6.9"
    },
    "colab": {
      "name": "How_to_submit_prediction_to_Kaggle_in_Python.ipynb",
      "provenance": []
    }
  },
  "cells": [
    {
      "cell_type": "markdown",
      "metadata": {
        "_cell_guid": "3bd4b4df-0cc0-40b1-b4da-c0b0dcb413f8",
        "_uuid": "26816927ad8b3a35dc55fafc33efd187f30cde39",
        "id": "j1-OG_fCcQyo",
        "colab_type": "text"
      },
      "source": [
        "Here you will learn to submit your model to a machine learning competition in Python.  It's fun, and it will give you a way to see your progress as your skills keep improving.*\n",
        "\n",
        "# Introduction\n",
        "Machine learning competitions are a great way to improve your skills and measure your progress as a data scientist. If you are using data from a competition on Kaggle, you can easily submit it from your notebook.  Here's how you do it.\n",
        "\n",
        "# Example\n",
        "We're doing very minimal data set up here so we can focus on how to submit modeling results to competitions. Other tutorials will teach you how build great models. So the model in this example will be fairly simple. We'll start with the code to read data, select predictors, and fit a model."
      ]
    },
    {
      "cell_type": "code",
      "metadata": {
        "id": "6NgNXHNpcQyq",
        "colab_type": "code",
        "colab": {},
        "outputId": "6d793b5d-f5ee-42a4-872f-392b17537666"
      },
      "source": [
        "import pip\n",
        "import sys\n",
        "#if not 'sklearn' in sys.modules.keys():\n",
        "#    pip.main(['install', 'sklearn'])\n",
        "#if not 'kaggle' in sys.modules.keys():\n",
        "#    pip.main(['install', 'kaggle'])\n",
        "import random\n",
        "\n",
        "print(\"Random number with seed 2020\")\n",
        "# first call\n",
        "random.seed(2020)\n"
      ],
      "execution_count": 0,
      "outputs": [
        {
          "output_type": "stream",
          "text": [
            "Random number with seed 2020\n"
          ],
          "name": "stdout"
        }
      ]
    },
    {
      "cell_type": "code",
      "metadata": {
        "_cell_guid": "8524922d-be55-46fd-863f-004261fcfff0",
        "_uuid": "58cfd95aa5563209575b12977280983ffeea6492",
        "scrolled": false,
        "id": "79gMoBcZcQyy",
        "colab_type": "code",
        "colab": {}
      },
      "source": [
        "import numpy as np\n",
        "import pandas as pd\n",
        "import graphviz\n",
        "\n",
        "from sklearn.tree import DecisionTreeClassifier, export_graphviz\n",
        "from sklearn.impute import SimpleImputer\n",
        "\n",
        "from sklearn.model_selection import train_test_split\n",
        "from sklearn.metrics import classification_report, confusion_matrix\n",
        "\n",
        "import matplotlib.pyplot as plt\n",
        "\n",
        "# Read the data\n",
        "train = pd.read_csv('https://raw.githubusercontent.com/serivan/mldmlab/master/Datasets/Kaggle2020/train.csv')\n"
      ],
      "execution_count": 0,
      "outputs": []
    },
    {
      "cell_type": "code",
      "metadata": {
        "id": "dlokqpsPcQy2",
        "colab_type": "code",
        "colab": {},
        "outputId": "90de1d2e-02b3-4078-b4e6-1120e77a106b"
      },
      "source": [
        "train[\"Quality\"] = np.where(train[\"Quality\"].str.contains(\"Good\"), 1, 0)\n",
        "\n",
        "train.dtypes"
      ],
      "execution_count": 0,
      "outputs": [
        {
          "output_type": "execute_result",
          "data": {
            "text/plain": [
              "Id                        int64\n",
              "fixed.acidity           float64\n",
              "volatile.acidity        float64\n",
              "citric.acid             float64\n",
              "residual.sugar          float64\n",
              "chlorides               float64\n",
              "free.sulfur.dioxide     float64\n",
              "total.sulfur.dioxide    float64\n",
              "density                 float64\n",
              "pH                      float64\n",
              "sulphates               float64\n",
              "alcohol                 float64\n",
              "Quality                   int64\n",
              "dtype: object"
            ]
          },
          "metadata": {
            "tags": []
          },
          "execution_count": 3
        }
      ]
    },
    {
      "cell_type": "code",
      "metadata": {
        "id": "Hx3kRXxacQy5",
        "colab_type": "code",
        "colab": {},
        "outputId": "15072e4a-0d63-44c9-8bdc-ea3754c3c8d0"
      },
      "source": [
        "train"
      ],
      "execution_count": 0,
      "outputs": [
        {
          "output_type": "execute_result",
          "data": {
            "text/html": [
              "<div>\n",
              "<style scoped>\n",
              "    .dataframe tbody tr th:only-of-type {\n",
              "        vertical-align: middle;\n",
              "    }\n",
              "\n",
              "    .dataframe tbody tr th {\n",
              "        vertical-align: top;\n",
              "    }\n",
              "\n",
              "    .dataframe thead th {\n",
              "        text-align: right;\n",
              "    }\n",
              "</style>\n",
              "<table border=\"1\" class=\"dataframe\">\n",
              "  <thead>\n",
              "    <tr style=\"text-align: right;\">\n",
              "      <th></th>\n",
              "      <th>Id</th>\n",
              "      <th>fixed.acidity</th>\n",
              "      <th>volatile.acidity</th>\n",
              "      <th>citric.acid</th>\n",
              "      <th>residual.sugar</th>\n",
              "      <th>chlorides</th>\n",
              "      <th>free.sulfur.dioxide</th>\n",
              "      <th>total.sulfur.dioxide</th>\n",
              "      <th>density</th>\n",
              "      <th>pH</th>\n",
              "      <th>sulphates</th>\n",
              "      <th>alcohol</th>\n",
              "      <th>Quality</th>\n",
              "    </tr>\n",
              "  </thead>\n",
              "  <tbody>\n",
              "    <tr>\n",
              "      <th>0</th>\n",
              "      <td>3940</td>\n",
              "      <td>6.4</td>\n",
              "      <td>0.39</td>\n",
              "      <td>0.21</td>\n",
              "      <td>1.2</td>\n",
              "      <td>41.00</td>\n",
              "      <td>35.0</td>\n",
              "      <td>136.0</td>\n",
              "      <td>0.99225</td>\n",
              "      <td>3.15</td>\n",
              "      <td>0.46</td>\n",
              "      <td>10.2</td>\n",
              "      <td>0</td>\n",
              "    </tr>\n",
              "    <tr>\n",
              "      <th>1</th>\n",
              "      <td>1655</td>\n",
              "      <td>7.5</td>\n",
              "      <td>305.00</td>\n",
              "      <td>0.40</td>\n",
              "      <td>18.9</td>\n",
              "      <td>59.00</td>\n",
              "      <td>44.0</td>\n",
              "      <td>170.0</td>\n",
              "      <td>1.00000</td>\n",
              "      <td>2.99</td>\n",
              "      <td>0.46</td>\n",
              "      <td>9.0</td>\n",
              "      <td>0</td>\n",
              "    </tr>\n",
              "    <tr>\n",
              "      <th>2</th>\n",
              "      <td>1867</td>\n",
              "      <td>6.3</td>\n",
              "      <td>0.28</td>\n",
              "      <td>0.30</td>\n",
              "      <td>3.1</td>\n",
              "      <td>39.00</td>\n",
              "      <td>24.0</td>\n",
              "      <td>115.0</td>\n",
              "      <td>0.99420</td>\n",
              "      <td>3.05</td>\n",
              "      <td>0.43</td>\n",
              "      <td>8.6</td>\n",
              "      <td>0</td>\n",
              "    </tr>\n",
              "    <tr>\n",
              "      <th>3</th>\n",
              "      <td>4476</td>\n",
              "      <td>7.4</td>\n",
              "      <td>0.18</td>\n",
              "      <td>0.30</td>\n",
              "      <td>10.4</td>\n",
              "      <td>45.00</td>\n",
              "      <td>44.0</td>\n",
              "      <td>174.0</td>\n",
              "      <td>0.99660</td>\n",
              "      <td>3.11</td>\n",
              "      <td>0.57</td>\n",
              "      <td>9.7</td>\n",
              "      <td>1</td>\n",
              "    </tr>\n",
              "    <tr>\n",
              "      <th>4</th>\n",
              "      <td>453</td>\n",
              "      <td>6.9</td>\n",
              "      <td>0.20</td>\n",
              "      <td>0.36</td>\n",
              "      <td>1.5</td>\n",
              "      <td>31.00</td>\n",
              "      <td>38.0</td>\n",
              "      <td>147.0</td>\n",
              "      <td>0.99310</td>\n",
              "      <td>3.35</td>\n",
              "      <td>0.56</td>\n",
              "      <td>11.0</td>\n",
              "      <td>1</td>\n",
              "    </tr>\n",
              "    <tr>\n",
              "      <th>...</th>\n",
              "      <td>...</td>\n",
              "      <td>...</td>\n",
              "      <td>...</td>\n",
              "      <td>...</td>\n",
              "      <td>...</td>\n",
              "      <td>...</td>\n",
              "      <td>...</td>\n",
              "      <td>...</td>\n",
              "      <td>...</td>\n",
              "      <td>...</td>\n",
              "      <td>...</td>\n",
              "      <td>...</td>\n",
              "      <td>...</td>\n",
              "    </tr>\n",
              "    <tr>\n",
              "      <th>3484</th>\n",
              "      <td>2768</td>\n",
              "      <td>6.9</td>\n",
              "      <td>0.14</td>\n",
              "      <td>0.38</td>\n",
              "      <td>1.0</td>\n",
              "      <td>41.00</td>\n",
              "      <td>22.0</td>\n",
              "      <td>81.0</td>\n",
              "      <td>0.99043</td>\n",
              "      <td>3.03</td>\n",
              "      <td>0.54</td>\n",
              "      <td>11.4</td>\n",
              "      <td>1</td>\n",
              "    </tr>\n",
              "    <tr>\n",
              "      <th>3485</th>\n",
              "      <td>4347</td>\n",
              "      <td>9.0</td>\n",
              "      <td>0.20</td>\n",
              "      <td>0.33</td>\n",
              "      <td>3.5</td>\n",
              "      <td>49.00</td>\n",
              "      <td>10.0</td>\n",
              "      <td>40.0</td>\n",
              "      <td>0.99440</td>\n",
              "      <td>3.14</td>\n",
              "      <td>0.36</td>\n",
              "      <td>9.8</td>\n",
              "      <td>1</td>\n",
              "    </tr>\n",
              "    <tr>\n",
              "      <th>3486</th>\n",
              "      <td>1870</td>\n",
              "      <td>7.6</td>\n",
              "      <td>0.29</td>\n",
              "      <td>0.26</td>\n",
              "      <td>6.5</td>\n",
              "      <td>42.00</td>\n",
              "      <td>32.0</td>\n",
              "      <td>160.0</td>\n",
              "      <td>0.99440</td>\n",
              "      <td>3.14</td>\n",
              "      <td>0.47</td>\n",
              "      <td>10.7</td>\n",
              "      <td>0</td>\n",
              "    </tr>\n",
              "    <tr>\n",
              "      <th>3487</th>\n",
              "      <td>613</td>\n",
              "      <td>7.5</td>\n",
              "      <td>0.17</td>\n",
              "      <td>0.32</td>\n",
              "      <td>1.7</td>\n",
              "      <td>0.04</td>\n",
              "      <td>51.0</td>\n",
              "      <td>148.0</td>\n",
              "      <td>0.99160</td>\n",
              "      <td>3.21</td>\n",
              "      <td>0.44</td>\n",
              "      <td>11.5</td>\n",
              "      <td>1</td>\n",
              "    </tr>\n",
              "    <tr>\n",
              "      <th>3488</th>\n",
              "      <td>1486</td>\n",
              "      <td>6.7</td>\n",
              "      <td>0.24</td>\n",
              "      <td>0.35</td>\n",
              "      <td>13.1</td>\n",
              "      <td>0.05</td>\n",
              "      <td>64.0</td>\n",
              "      <td>205.0</td>\n",
              "      <td>997.00000</td>\n",
              "      <td>3.15</td>\n",
              "      <td>0.50</td>\n",
              "      <td>9.5</td>\n",
              "      <td>0</td>\n",
              "    </tr>\n",
              "  </tbody>\n",
              "</table>\n",
              "<p>3489 rows × 13 columns</p>\n",
              "</div>"
            ],
            "text/plain": [
              "        Id  fixed.acidity  volatile.acidity  citric.acid  residual.sugar  \\\n",
              "0     3940            6.4              0.39         0.21             1.2   \n",
              "1     1655            7.5            305.00         0.40            18.9   \n",
              "2     1867            6.3              0.28         0.30             3.1   \n",
              "3     4476            7.4              0.18         0.30            10.4   \n",
              "4      453            6.9              0.20         0.36             1.5   \n",
              "...    ...            ...               ...          ...             ...   \n",
              "3484  2768            6.9              0.14         0.38             1.0   \n",
              "3485  4347            9.0              0.20         0.33             3.5   \n",
              "3486  1870            7.6              0.29         0.26             6.5   \n",
              "3487   613            7.5              0.17         0.32             1.7   \n",
              "3488  1486            6.7              0.24         0.35            13.1   \n",
              "\n",
              "      chlorides  free.sulfur.dioxide  total.sulfur.dioxide    density    pH  \\\n",
              "0         41.00                 35.0                 136.0    0.99225  3.15   \n",
              "1         59.00                 44.0                 170.0    1.00000  2.99   \n",
              "2         39.00                 24.0                 115.0    0.99420  3.05   \n",
              "3         45.00                 44.0                 174.0    0.99660  3.11   \n",
              "4         31.00                 38.0                 147.0    0.99310  3.35   \n",
              "...         ...                  ...                   ...        ...   ...   \n",
              "3484      41.00                 22.0                  81.0    0.99043  3.03   \n",
              "3485      49.00                 10.0                  40.0    0.99440  3.14   \n",
              "3486      42.00                 32.0                 160.0    0.99440  3.14   \n",
              "3487       0.04                 51.0                 148.0    0.99160  3.21   \n",
              "3488       0.05                 64.0                 205.0  997.00000  3.15   \n",
              "\n",
              "      sulphates  alcohol  Quality  \n",
              "0          0.46     10.2        0  \n",
              "1          0.46      9.0        0  \n",
              "2          0.43      8.6        0  \n",
              "3          0.57      9.7        1  \n",
              "4          0.56     11.0        1  \n",
              "...         ...      ...      ...  \n",
              "3484       0.54     11.4        1  \n",
              "3485       0.36      9.8        1  \n",
              "3486       0.47     10.7        0  \n",
              "3487       0.44     11.5        1  \n",
              "3488       0.50      9.5        0  \n",
              "\n",
              "[3489 rows x 13 columns]"
            ]
          },
          "metadata": {
            "tags": []
          },
          "execution_count": 4
        }
      ]
    },
    {
      "cell_type": "markdown",
      "metadata": {
        "id": "KxX3XDIVcQy9",
        "colab_type": "text"
      },
      "source": [
        "## Feature engineering phase"
      ]
    },
    {
      "cell_type": "code",
      "metadata": {
        "id": "KAGwdIWgcQy9",
        "colab_type": "code",
        "colab": {}
      },
      "source": [
        "# pull data into target (y) and predictors (X)\n",
        "train_y = train.Quality\n",
        "predictor_cols = ['fixed.acidity','volatile.acidity','citric.acid','residual.sugar','chlorides','free.sulfur.dioxide','total.sulfur.dioxide','density','pH','sulphates','alcohol']\n",
        "\n",
        "# Create training predictors data\n",
        "train_X = train[predictor_cols]\n",
        "\n",
        "# Create our imputer to replace missing values with the mean e.g.\n",
        "imp = SimpleImputer(missing_values=np.nan, strategy='mean')\n",
        "imp = imp.fit(train_X)\n",
        "\n",
        "\n",
        "# Impute our data, then train\n",
        "train_X_imp = imp.transform(train_X)\n"
      ],
      "execution_count": 0,
      "outputs": []
    },
    {
      "cell_type": "markdown",
      "metadata": {
        "id": "jhXvV6DlcQzA",
        "colab_type": "text"
      },
      "source": [
        "Here we define a function for preperaing a submission file"
      ]
    },
    {
      "cell_type": "code",
      "metadata": {
        "id": "uPpDA5ElcQzB",
        "colab_type": "code",
        "colab": {}
      },
      "source": [
        "def generateSubmission(myModel, submissionFile, description):\n",
        "    # Read the test data\n",
        "    test = pd.read_csv('https://raw.githubusercontent.com/serivan/mldmlab/master/Datasets/Kaggle2020/test.csv')\n",
        "\n",
        "\n",
        "    # Treat the test data in the same way as training data. In this case, pull same columns.\n",
        "    test_X = test[predictor_cols]\n",
        "\n",
        "    # Impute each test item, then predict\n",
        "    test_X_imp = imp.transform(test_X)\n",
        "    \n",
        "    # Use the model to make predictions\n",
        "    predicted_q = myModel.predict(test_X_imp)\n",
        "    # We will look at the predicted Qualities to ensure we have something sensible.\n",
        "    print(predicted_q)\n",
        "    \n",
        "    #submission file\n",
        "    my_submission = pd.DataFrame({'Id': test.Id, 'Quality': predicted_q})\n",
        "    # you could use any filename. We choose submission here\n",
        "    my_submission.to_csv(submissionFile, index=False)\n",
        "    \n",
        "    #Submit authomatically; kaggle API authentication needed\n",
        "    #!kaggle competitions submit -c mldm-classification-competition-2020 -f {submissionFile} -m '{description}'"
      ],
      "execution_count": 0,
      "outputs": []
    },
    {
      "cell_type": "markdown",
      "metadata": {
        "id": "-xU8Pk2ScQzD",
        "colab_type": "text"
      },
      "source": [
        "## Training"
      ]
    },
    {
      "cell_type": "markdown",
      "metadata": {
        "id": "edNIVyHAcQzE",
        "colab_type": "text"
      },
      "source": [
        "### You can train directly on the training set"
      ]
    },
    {
      "cell_type": "code",
      "metadata": {
        "id": "oaQjXaRMcQzE",
        "colab_type": "code",
        "colab": {},
        "outputId": "493978e7-a7d5-48e1-f0d9-c29fb893415a"
      },
      "source": [
        "my_model = DecisionTreeClassifier(random_state=1)\n",
        "my_model.fit(train_X_imp, train_y)\n",
        "my_model.score(train_X_imp, train_y)"
      ],
      "execution_count": 0,
      "outputs": [
        {
          "output_type": "execute_result",
          "data": {
            "text/plain": [
              "1.0"
            ]
          },
          "metadata": {
            "tags": []
          },
          "execution_count": 7
        }
      ]
    },
    {
      "cell_type": "code",
      "metadata": {
        "id": "JL-VUzTFcQzH",
        "colab_type": "code",
        "colab": {},
        "outputId": "e407a7b0-c80e-4344-92b5-e5c5e9e41f2b"
      },
      "source": [
        "# The snippet below will retrieve the feature importances from the model and make them into a DataFrame.\n",
        "feature_importances = pd.DataFrame(my_model.feature_importances_,\n",
        "                                   index = train_X.columns,\n",
        "                                   columns=['importance']).sort_values('importance', ascending=False)\n",
        "feature_importances"
      ],
      "execution_count": 0,
      "outputs": [
        {
          "output_type": "execute_result",
          "data": {
            "text/html": [
              "<div>\n",
              "<style scoped>\n",
              "    .dataframe tbody tr th:only-of-type {\n",
              "        vertical-align: middle;\n",
              "    }\n",
              "\n",
              "    .dataframe tbody tr th {\n",
              "        vertical-align: top;\n",
              "    }\n",
              "\n",
              "    .dataframe thead th {\n",
              "        text-align: right;\n",
              "    }\n",
              "</style>\n",
              "<table border=\"1\" class=\"dataframe\">\n",
              "  <thead>\n",
              "    <tr style=\"text-align: right;\">\n",
              "      <th></th>\n",
              "      <th>importance</th>\n",
              "    </tr>\n",
              "  </thead>\n",
              "  <tbody>\n",
              "    <tr>\n",
              "      <th>alcohol</th>\n",
              "      <td>0.200932</td>\n",
              "    </tr>\n",
              "    <tr>\n",
              "      <th>volatile.acidity</th>\n",
              "      <td>0.121432</td>\n",
              "    </tr>\n",
              "    <tr>\n",
              "      <th>free.sulfur.dioxide</th>\n",
              "      <td>0.093133</td>\n",
              "    </tr>\n",
              "    <tr>\n",
              "      <th>pH</th>\n",
              "      <td>0.092451</td>\n",
              "    </tr>\n",
              "    <tr>\n",
              "      <th>residual.sugar</th>\n",
              "      <td>0.086696</td>\n",
              "    </tr>\n",
              "    <tr>\n",
              "      <th>sulphates</th>\n",
              "      <td>0.077781</td>\n",
              "    </tr>\n",
              "    <tr>\n",
              "      <th>citric.acid</th>\n",
              "      <td>0.073800</td>\n",
              "    </tr>\n",
              "    <tr>\n",
              "      <th>total.sulfur.dioxide</th>\n",
              "      <td>0.072906</td>\n",
              "    </tr>\n",
              "    <tr>\n",
              "      <th>fixed.acidity</th>\n",
              "      <td>0.067022</td>\n",
              "    </tr>\n",
              "    <tr>\n",
              "      <th>chlorides</th>\n",
              "      <td>0.065167</td>\n",
              "    </tr>\n",
              "    <tr>\n",
              "      <th>density</th>\n",
              "      <td>0.048681</td>\n",
              "    </tr>\n",
              "  </tbody>\n",
              "</table>\n",
              "</div>"
            ],
            "text/plain": [
              "                      importance\n",
              "alcohol                 0.200932\n",
              "volatile.acidity        0.121432\n",
              "free.sulfur.dioxide     0.093133\n",
              "pH                      0.092451\n",
              "residual.sugar          0.086696\n",
              "sulphates               0.077781\n",
              "citric.acid             0.073800\n",
              "total.sulfur.dioxide    0.072906\n",
              "fixed.acidity           0.067022\n",
              "chlorides               0.065167\n",
              "density                 0.048681"
            ]
          },
          "metadata": {
            "tags": []
          },
          "execution_count": 8
        }
      ]
    },
    {
      "cell_type": "code",
      "metadata": {
        "id": "h_flxO0mcQzJ",
        "colab_type": "code",
        "colab": {},
        "outputId": "ad0334cb-2340-44ac-9aad-67f72264b49f"
      },
      "source": [
        "y_pred = my_model.predict(train_X_imp)\n",
        "print(\"Confusion Matrix:\")\n",
        "print(confusion_matrix(train_y, y_pred))\n",
        "\n",
        "print(\"Classification Report:\")\n",
        "print(classification_report(train_y, y_pred))"
      ],
      "execution_count": 0,
      "outputs": [
        {
          "output_type": "stream",
          "text": [
            "Confusion Matrix:\n",
            "[[1205    0]\n",
            " [   0 2284]]\n",
            "Classification Report:\n",
            "              precision    recall  f1-score   support\n",
            "\n",
            "           0       1.00      1.00      1.00      1205\n",
            "           1       1.00      1.00      1.00      2284\n",
            "\n",
            "    accuracy                           1.00      3489\n",
            "   macro avg       1.00      1.00      1.00      3489\n",
            "weighted avg       1.00      1.00      1.00      3489\n",
            "\n"
          ],
          "name": "stdout"
        }
      ]
    },
    {
      "cell_type": "code",
      "metadata": {
        "id": "PQWmFlljcQzL",
        "colab_type": "code",
        "colab": {},
        "outputId": "32701dac-5bef-4b44-a1b5-815cd83c822e"
      },
      "source": [
        "# generate a submission file\n",
        "generateSubmission(my_model,'firstDecisionTree.csv',\"Default Decision tree\")"
      ],
      "execution_count": 0,
      "outputs": [
        {
          "output_type": "stream",
          "text": [
            "[1 1 1 ... 1 1 1]\n"
          ],
          "name": "stdout"
        }
      ]
    },
    {
      "cell_type": "markdown",
      "metadata": {
        "id": "EuVsF4wacQzN",
        "colab_type": "text"
      },
      "source": [
        "### You can consider different models splitting in training and testing"
      ]
    },
    {
      "cell_type": "code",
      "metadata": {
        "id": "QXW11klacQzO",
        "colab_type": "code",
        "colab": {}
      },
      "source": [
        "xTrain, xTest, yTrain, yTest = train_test_split(train_X_imp, train_y, train_size = 0.8, random_state = 0)"
      ],
      "execution_count": 0,
      "outputs": []
    },
    {
      "cell_type": "code",
      "metadata": {
        "id": "-e3K7nAPcQzQ",
        "colab_type": "code",
        "colab": {},
        "outputId": "71d4172c-4fc6-42c4-b9be-d9889f44f41a"
      },
      "source": [
        "classification_tree_wine = DecisionTreeClassifier(max_depth = 6)\n",
        "classification_tree_wine.fit(xTrain, yTrain)\n",
        "classification_tree_wine.score(xTrain, yTrain)"
      ],
      "execution_count": 0,
      "outputs": [
        {
          "output_type": "execute_result",
          "data": {
            "text/plain": [
              "0.8047294876388391"
            ]
          },
          "metadata": {
            "tags": []
          },
          "execution_count": 12
        }
      ]
    },
    {
      "cell_type": "code",
      "metadata": {
        "id": "_eLhNrTgcQzT",
        "colab_type": "code",
        "colab": {},
        "outputId": "c9e56552-6dcb-4a80-97ee-53141b651522"
      },
      "source": [
        "classification_tree_wine.score(xTest,yTest)"
      ],
      "execution_count": 0,
      "outputs": [
        {
          "output_type": "execute_result",
          "data": {
            "text/plain": [
              "0.7378223495702005"
            ]
          },
          "metadata": {
            "tags": []
          },
          "execution_count": 13
        }
      ]
    },
    {
      "cell_type": "code",
      "metadata": {
        "id": "vzhSjoN0cQzV",
        "colab_type": "code",
        "colab": {},
        "outputId": "7a8696d5-16d6-4a68-c8ff-1827086a8744"
      },
      "source": [
        "dor_data=export_graphviz(classification_tree_wine, \n",
        "                out_file = \"carseat_tree.dot\", \n",
        "                feature_names = predictor_cols)\n",
        "\n",
        "\n",
        "with open(\"carseat_tree.dot\") as f:\n",
        "    dot_graph = f.read()\n",
        "    \n",
        "display(graphviz.Source(dot_graph))"
      ],
      "execution_count": 0,
      "outputs": [
        {
          "output_type": "display_data",
          "data": {
            "image/svg+xml": "<?xml version=\"1.0\" encoding=\"UTF-8\" standalone=\"no\"?>\n<!DOCTYPE svg PUBLIC \"-//W3C//DTD SVG 1.1//EN\"\n \"http://www.w3.org/Graphics/SVG/1.1/DTD/svg11.dtd\">\n<!-- Generated by graphviz version 2.40.1 (20161225.0304)\n -->\n<!-- Title: Tree Pages: 1 -->\n<svg width=\"5456pt\" height=\"685pt\"\n viewBox=\"0.00 0.00 5456.00 685.00\" xmlns=\"http://www.w3.org/2000/svg\" xmlns:xlink=\"http://www.w3.org/1999/xlink\">\n<g id=\"graph0\" class=\"graph\" transform=\"scale(1 1) rotate(0) translate(4 681)\">\n<title>Tree</title>\n<polygon fill=\"#ffffff\" stroke=\"transparent\" points=\"-4,4 -4,-681 5452,-681 5452,4 -4,4\"/>\n<!-- 0 -->\n<g id=\"node1\" class=\"node\">\n<title>0</title>\n<polygon fill=\"none\" stroke=\"#000000\" points=\"2819.5,-677 2694.5,-677 2694.5,-609 2819.5,-609 2819.5,-677\"/>\n<text text-anchor=\"middle\" x=\"2757\" y=\"-661.8\" font-family=\"Times,serif\" font-size=\"14.00\" fill=\"#000000\">alcohol &lt;= 10.448</text>\n<text text-anchor=\"middle\" x=\"2757\" y=\"-646.8\" font-family=\"Times,serif\" font-size=\"14.00\" fill=\"#000000\">gini = 0.45</text>\n<text text-anchor=\"middle\" x=\"2757\" y=\"-631.8\" font-family=\"Times,serif\" font-size=\"14.00\" fill=\"#000000\">samples = 2791</text>\n<text text-anchor=\"middle\" x=\"2757\" y=\"-616.8\" font-family=\"Times,serif\" font-size=\"14.00\" fill=\"#000000\">value = [955, 1836]</text>\n</g>\n<!-- 1 -->\n<g id=\"node2\" class=\"node\">\n<title>1</title>\n<polygon fill=\"none\" stroke=\"#000000\" points=\"2024,-573 1872,-573 1872,-505 2024,-505 2024,-573\"/>\n<text text-anchor=\"middle\" x=\"1948\" y=\"-557.8\" font-family=\"Times,serif\" font-size=\"14.00\" fill=\"#000000\">volatile.acidity &lt;= 0.235</text>\n<text text-anchor=\"middle\" x=\"1948\" y=\"-542.8\" font-family=\"Times,serif\" font-size=\"14.00\" fill=\"#000000\">gini = 0.5</text>\n<text text-anchor=\"middle\" x=\"1948\" y=\"-527.8\" font-family=\"Times,serif\" font-size=\"14.00\" fill=\"#000000\">samples = 1467</text>\n<text text-anchor=\"middle\" x=\"1948\" y=\"-512.8\" font-family=\"Times,serif\" font-size=\"14.00\" fill=\"#000000\">value = [743, 724]</text>\n</g>\n<!-- 0&#45;&gt;1 -->\n<g id=\"edge1\" class=\"edge\">\n<title>0&#45;&gt;1</title>\n<path fill=\"none\" stroke=\"#000000\" d=\"M2694.1923,-634.9258C2550.5573,-616.461 2197.9061,-571.1264 2034.1496,-550.0749\"/>\n<polygon fill=\"#000000\" stroke=\"#000000\" points=\"2034.4805,-546.5887 2024.1159,-548.785 2033.5879,-553.5315 2034.4805,-546.5887\"/>\n<text text-anchor=\"middle\" x=\"2039.3953\" y=\"-564.8723\" font-family=\"Times,serif\" font-size=\"14.00\" fill=\"#000000\">True</text>\n</g>\n<!-- 52 -->\n<g id=\"node53\" class=\"node\">\n<title>52</title>\n<polygon fill=\"none\" stroke=\"#000000\" points=\"3237.5,-573 3072.5,-573 3072.5,-505 3237.5,-505 3237.5,-573\"/>\n<text text-anchor=\"middle\" x=\"3155\" y=\"-557.8\" font-family=\"Times,serif\" font-size=\"14.00\" fill=\"#000000\">free.sulfur.dioxide &lt;= 11.5</text>\n<text text-anchor=\"middle\" x=\"3155\" y=\"-542.8\" font-family=\"Times,serif\" font-size=\"14.00\" fill=\"#000000\">gini = 0.269</text>\n<text text-anchor=\"middle\" x=\"3155\" y=\"-527.8\" font-family=\"Times,serif\" font-size=\"14.00\" fill=\"#000000\">samples = 1324</text>\n<text text-anchor=\"middle\" x=\"3155\" y=\"-512.8\" font-family=\"Times,serif\" font-size=\"14.00\" fill=\"#000000\">value = [212, 1112]</text>\n</g>\n<!-- 0&#45;&gt;52 -->\n<g id=\"edge52\" class=\"edge\">\n<title>0&#45;&gt;52</title>\n<path fill=\"none\" stroke=\"#000000\" d=\"M2819.6253,-626.6356C2884.886,-609.5826 2987.8493,-582.6776 3062.4852,-563.1747\"/>\n<polygon fill=\"#000000\" stroke=\"#000000\" points=\"3063.5707,-566.5087 3072.361,-560.5941 3061.8009,-559.7361 3063.5707,-566.5087\"/>\n<text text-anchor=\"middle\" x=\"3059.7268\" y=\"-578.4667\" font-family=\"Times,serif\" font-size=\"14.00\" fill=\"#000000\">False</text>\n</g>\n<!-- 2 -->\n<g id=\"node3\" class=\"node\">\n<title>2</title>\n<polygon fill=\"none\" stroke=\"#000000\" points=\"850.5,-469 685.5,-469 685.5,-401 850.5,-401 850.5,-469\"/>\n<text text-anchor=\"middle\" x=\"768\" y=\"-453.8\" font-family=\"Times,serif\" font-size=\"14.00\" fill=\"#000000\">free.sulfur.dioxide &lt;= 12.0</text>\n<text text-anchor=\"middle\" x=\"768\" y=\"-438.8\" font-family=\"Times,serif\" font-size=\"14.00\" fill=\"#000000\">gini = 0.408</text>\n<text text-anchor=\"middle\" x=\"768\" y=\"-423.8\" font-family=\"Times,serif\" font-size=\"14.00\" fill=\"#000000\">samples = 497</text>\n<text text-anchor=\"middle\" x=\"768\" y=\"-408.8\" font-family=\"Times,serif\" font-size=\"14.00\" fill=\"#000000\">value = [142, 355]</text>\n</g>\n<!-- 1&#45;&gt;2 -->\n<g id=\"edge2\" class=\"edge\">\n<title>1&#45;&gt;2</title>\n<path fill=\"none\" stroke=\"#000000\" d=\"M1871.939,-532.2963C1664.1216,-513.9802 1087.2005,-463.1329 860.8441,-443.1829\"/>\n<polygon fill=\"#000000\" stroke=\"#000000\" points=\"860.9269,-439.6767 850.6582,-442.2851 860.3123,-446.6497 860.9269,-439.6767\"/>\n</g>\n<!-- 23 -->\n<g id=\"node24\" class=\"node\">\n<title>23</title>\n<polygon fill=\"none\" stroke=\"#000000\" points=\"2007.5,-469 1888.5,-469 1888.5,-401 2007.5,-401 2007.5,-469\"/>\n<text text-anchor=\"middle\" x=\"1948\" y=\"-453.8\" font-family=\"Times,serif\" font-size=\"14.00\" fill=\"#000000\">alcohol &lt;= 9.85</text>\n<text text-anchor=\"middle\" x=\"1948\" y=\"-438.8\" font-family=\"Times,serif\" font-size=\"14.00\" fill=\"#000000\">gini = 0.471</text>\n<text text-anchor=\"middle\" x=\"1948\" y=\"-423.8\" font-family=\"Times,serif\" font-size=\"14.00\" fill=\"#000000\">samples = 970</text>\n<text text-anchor=\"middle\" x=\"1948\" y=\"-408.8\" font-family=\"Times,serif\" font-size=\"14.00\" fill=\"#000000\">value = [601, 369]</text>\n</g>\n<!-- 1&#45;&gt;23 -->\n<g id=\"edge23\" class=\"edge\">\n<title>1&#45;&gt;23</title>\n<path fill=\"none\" stroke=\"#000000\" d=\"M1948,-504.9465C1948,-496.776 1948,-487.9318 1948,-479.3697\"/>\n<polygon fill=\"#000000\" stroke=\"#000000\" points=\"1951.5001,-479.13 1948,-469.13 1944.5001,-479.13 1951.5001,-479.13\"/>\n</g>\n<!-- 3 -->\n<g id=\"node4\" class=\"node\">\n<title>3</title>\n<polygon fill=\"none\" stroke=\"#000000\" points=\"386,-365 272,-365 272,-297 386,-297 386,-365\"/>\n<text text-anchor=\"middle\" x=\"329\" y=\"-349.8\" font-family=\"Times,serif\" font-size=\"14.00\" fill=\"#000000\">chlorides &lt;= 45.0</text>\n<text text-anchor=\"middle\" x=\"329\" y=\"-334.8\" font-family=\"Times,serif\" font-size=\"14.00\" fill=\"#000000\">gini = 0.375</text>\n<text text-anchor=\"middle\" x=\"329\" y=\"-319.8\" font-family=\"Times,serif\" font-size=\"14.00\" fill=\"#000000\">samples = 16</text>\n<text text-anchor=\"middle\" x=\"329\" y=\"-304.8\" font-family=\"Times,serif\" font-size=\"14.00\" fill=\"#000000\">value = [12, 4]</text>\n</g>\n<!-- 2&#45;&gt;3 -->\n<g id=\"edge3\" class=\"edge\">\n<title>2&#45;&gt;3</title>\n<path fill=\"none\" stroke=\"#000000\" d=\"M685.4275,-415.4384C601.7564,-395.6166 473.8886,-365.3244 396.2053,-346.9211\"/>\n<polygon fill=\"#000000\" stroke=\"#000000\" points=\"396.5914,-343.4157 386.0539,-344.5162 394.9777,-350.2272 396.5914,-343.4157\"/>\n</g>\n<!-- 10 -->\n<g id=\"node11\" class=\"node\">\n<title>10</title>\n<polygon fill=\"none\" stroke=\"#000000\" points=\"834.5,-365 701.5,-365 701.5,-297 834.5,-297 834.5,-365\"/>\n<text text-anchor=\"middle\" x=\"768\" y=\"-349.8\" font-family=\"Times,serif\" font-size=\"14.00\" fill=\"#000000\">fixed.acidity &lt;= 8.75</text>\n<text text-anchor=\"middle\" x=\"768\" y=\"-334.8\" font-family=\"Times,serif\" font-size=\"14.00\" fill=\"#000000\">gini = 0.394</text>\n<text text-anchor=\"middle\" x=\"768\" y=\"-319.8\" font-family=\"Times,serif\" font-size=\"14.00\" fill=\"#000000\">samples = 481</text>\n<text text-anchor=\"middle\" x=\"768\" y=\"-304.8\" font-family=\"Times,serif\" font-size=\"14.00\" fill=\"#000000\">value = [130, 351]</text>\n</g>\n<!-- 2&#45;&gt;10 -->\n<g id=\"edge10\" class=\"edge\">\n<title>2&#45;&gt;10</title>\n<path fill=\"none\" stroke=\"#000000\" d=\"M768,-400.9465C768,-392.776 768,-383.9318 768,-375.3697\"/>\n<polygon fill=\"#000000\" stroke=\"#000000\" points=\"771.5001,-375.13 768,-365.13 764.5001,-375.13 771.5001,-375.13\"/>\n</g>\n<!-- 4 -->\n<g id=\"node5\" class=\"node\">\n<title>4</title>\n<polygon fill=\"none\" stroke=\"#000000\" points=\"211,-261 113,-261 113,-193 211,-193 211,-261\"/>\n<text text-anchor=\"middle\" x=\"162\" y=\"-245.8\" font-family=\"Times,serif\" font-size=\"14.00\" fill=\"#000000\">pH &lt;= 3.365</text>\n<text text-anchor=\"middle\" x=\"162\" y=\"-230.8\" font-family=\"Times,serif\" font-size=\"14.00\" fill=\"#000000\">gini = 0.153</text>\n<text text-anchor=\"middle\" x=\"162\" y=\"-215.8\" font-family=\"Times,serif\" font-size=\"14.00\" fill=\"#000000\">samples = 12</text>\n<text text-anchor=\"middle\" x=\"162\" y=\"-200.8\" font-family=\"Times,serif\" font-size=\"14.00\" fill=\"#000000\">value = [11, 1]</text>\n</g>\n<!-- 3&#45;&gt;4 -->\n<g id=\"edge4\" class=\"edge\">\n<title>3&#45;&gt;4</title>\n<path fill=\"none\" stroke=\"#000000\" d=\"M274.318,-296.9465C256.8238,-286.0519 237.406,-273.9594 219.7036,-262.9352\"/>\n<polygon fill=\"#000000\" stroke=\"#000000\" points=\"221.5058,-259.9343 211.1671,-257.619 217.8054,-265.8763 221.5058,-259.9343\"/>\n</g>\n<!-- 7 -->\n<g id=\"node8\" class=\"node\">\n<title>7</title>\n<polygon fill=\"none\" stroke=\"#000000\" points=\"375,-261 283,-261 283,-193 375,-193 375,-261\"/>\n<text text-anchor=\"middle\" x=\"329\" y=\"-245.8\" font-family=\"Times,serif\" font-size=\"14.00\" fill=\"#000000\">pH &lt;= 3.185</text>\n<text text-anchor=\"middle\" x=\"329\" y=\"-230.8\" font-family=\"Times,serif\" font-size=\"14.00\" fill=\"#000000\">gini = 0.375</text>\n<text text-anchor=\"middle\" x=\"329\" y=\"-215.8\" font-family=\"Times,serif\" font-size=\"14.00\" fill=\"#000000\">samples = 4</text>\n<text text-anchor=\"middle\" x=\"329\" y=\"-200.8\" font-family=\"Times,serif\" font-size=\"14.00\" fill=\"#000000\">value = [1, 3]</text>\n</g>\n<!-- 3&#45;&gt;7 -->\n<g id=\"edge7\" class=\"edge\">\n<title>3&#45;&gt;7</title>\n<path fill=\"none\" stroke=\"#000000\" d=\"M329,-296.9465C329,-288.776 329,-279.9318 329,-271.3697\"/>\n<polygon fill=\"#000000\" stroke=\"#000000\" points=\"332.5001,-271.13 329,-261.13 325.5001,-271.13 332.5001,-271.13\"/>\n</g>\n<!-- 5 -->\n<g id=\"node6\" class=\"node\">\n<title>5</title>\n<polygon fill=\"none\" stroke=\"#000000\" points=\"98,-149.5 0,-149.5 0,-96.5 98,-96.5 98,-149.5\"/>\n<text text-anchor=\"middle\" x=\"49\" y=\"-134.3\" font-family=\"Times,serif\" font-size=\"14.00\" fill=\"#000000\">gini = 0.0</text>\n<text text-anchor=\"middle\" x=\"49\" y=\"-119.3\" font-family=\"Times,serif\" font-size=\"14.00\" fill=\"#000000\">samples = 11</text>\n<text text-anchor=\"middle\" x=\"49\" y=\"-104.3\" font-family=\"Times,serif\" font-size=\"14.00\" fill=\"#000000\">value = [11, 0]</text>\n</g>\n<!-- 4&#45;&gt;5 -->\n<g id=\"edge5\" class=\"edge\">\n<title>4&#45;&gt;5</title>\n<path fill=\"none\" stroke=\"#000000\" d=\"M124.9996,-192.9465C112.3134,-181.2707 98.1322,-168.219 85.487,-156.5809\"/>\n<polygon fill=\"#000000\" stroke=\"#000000\" points=\"87.5673,-153.7389 77.8391,-149.5422 82.8269,-158.8895 87.5673,-153.7389\"/>\n</g>\n<!-- 6 -->\n<g id=\"node7\" class=\"node\">\n<title>6</title>\n<polygon fill=\"none\" stroke=\"#000000\" points=\"208,-149.5 116,-149.5 116,-96.5 208,-96.5 208,-149.5\"/>\n<text text-anchor=\"middle\" x=\"162\" y=\"-134.3\" font-family=\"Times,serif\" font-size=\"14.00\" fill=\"#000000\">gini = 0.0</text>\n<text text-anchor=\"middle\" x=\"162\" y=\"-119.3\" font-family=\"Times,serif\" font-size=\"14.00\" fill=\"#000000\">samples = 1</text>\n<text text-anchor=\"middle\" x=\"162\" y=\"-104.3\" font-family=\"Times,serif\" font-size=\"14.00\" fill=\"#000000\">value = [0, 1]</text>\n</g>\n<!-- 4&#45;&gt;6 -->\n<g id=\"edge6\" class=\"edge\">\n<title>4&#45;&gt;6</title>\n<path fill=\"none\" stroke=\"#000000\" d=\"M162,-192.9465C162,-182.2621 162,-170.4254 162,-159.5742\"/>\n<polygon fill=\"#000000\" stroke=\"#000000\" points=\"165.5001,-159.5421 162,-149.5422 158.5001,-159.5422 165.5001,-159.5421\"/>\n</g>\n<!-- 8 -->\n<g id=\"node9\" class=\"node\">\n<title>8</title>\n<polygon fill=\"none\" stroke=\"#000000\" points=\"318,-149.5 226,-149.5 226,-96.5 318,-96.5 318,-149.5\"/>\n<text text-anchor=\"middle\" x=\"272\" y=\"-134.3\" font-family=\"Times,serif\" font-size=\"14.00\" fill=\"#000000\">gini = 0.0</text>\n<text text-anchor=\"middle\" x=\"272\" y=\"-119.3\" font-family=\"Times,serif\" font-size=\"14.00\" fill=\"#000000\">samples = 3</text>\n<text text-anchor=\"middle\" x=\"272\" y=\"-104.3\" font-family=\"Times,serif\" font-size=\"14.00\" fill=\"#000000\">value = [0, 3]</text>\n</g>\n<!-- 7&#45;&gt;8 -->\n<g id=\"edge8\" class=\"edge\">\n<title>7&#45;&gt;8</title>\n<path fill=\"none\" stroke=\"#000000\" d=\"M310.3361,-192.9465C304.2991,-181.9316 297.5909,-169.6922 291.4953,-158.5703\"/>\n<polygon fill=\"#000000\" stroke=\"#000000\" points=\"294.4227,-156.6292 286.5471,-149.5422 288.2842,-159.9936 294.4227,-156.6292\"/>\n</g>\n<!-- 9 -->\n<g id=\"node10\" class=\"node\">\n<title>9</title>\n<polygon fill=\"none\" stroke=\"#000000\" points=\"428,-149.5 336,-149.5 336,-96.5 428,-96.5 428,-149.5\"/>\n<text text-anchor=\"middle\" x=\"382\" y=\"-134.3\" font-family=\"Times,serif\" font-size=\"14.00\" fill=\"#000000\">gini = 0.0</text>\n<text text-anchor=\"middle\" x=\"382\" y=\"-119.3\" font-family=\"Times,serif\" font-size=\"14.00\" fill=\"#000000\">samples = 1</text>\n<text text-anchor=\"middle\" x=\"382\" y=\"-104.3\" font-family=\"Times,serif\" font-size=\"14.00\" fill=\"#000000\">value = [1, 0]</text>\n</g>\n<!-- 7&#45;&gt;9 -->\n<g id=\"edge9\" class=\"edge\">\n<title>7&#45;&gt;9</title>\n<path fill=\"none\" stroke=\"#000000\" d=\"M346.3542,-192.9465C351.9675,-181.9316 358.205,-169.6922 363.8728,-158.5703\"/>\n<polygon fill=\"#000000\" stroke=\"#000000\" points=\"367.0515,-160.0411 368.4737,-149.5422 360.8147,-156.8627 367.0515,-160.0411\"/>\n</g>\n<!-- 11 -->\n<g id=\"node12\" class=\"node\">\n<title>11</title>\n<polygon fill=\"none\" stroke=\"#000000\" points=\"736.5,-261 611.5,-261 611.5,-193 736.5,-193 736.5,-261\"/>\n<text text-anchor=\"middle\" x=\"674\" y=\"-245.8\" font-family=\"Times,serif\" font-size=\"14.00\" fill=\"#000000\">citric.acid &lt;= 0.625</text>\n<text text-anchor=\"middle\" x=\"674\" y=\"-230.8\" font-family=\"Times,serif\" font-size=\"14.00\" fill=\"#000000\">gini = 0.381</text>\n<text text-anchor=\"middle\" x=\"674\" y=\"-215.8\" font-family=\"Times,serif\" font-size=\"14.00\" fill=\"#000000\">samples = 464</text>\n<text text-anchor=\"middle\" x=\"674\" y=\"-200.8\" font-family=\"Times,serif\" font-size=\"14.00\" fill=\"#000000\">value = [119, 345]</text>\n</g>\n<!-- 10&#45;&gt;11 -->\n<g id=\"edge11\" class=\"edge\">\n<title>10&#45;&gt;11</title>\n<path fill=\"none\" stroke=\"#000000\" d=\"M737.2209,-296.9465C729.0245,-287.8782 720.078,-277.9799 711.5625,-268.5585\"/>\n<polygon fill=\"#000000\" stroke=\"#000000\" points=\"714.1503,-266.2019 704.8483,-261.13 708.9571,-270.8957 714.1503,-266.2019\"/>\n</g>\n<!-- 18 -->\n<g id=\"node19\" class=\"node\">\n<title>18</title>\n<polygon fill=\"none\" stroke=\"#000000\" points=\"911,-261 813,-261 813,-193 911,-193 911,-261\"/>\n<text text-anchor=\"middle\" x=\"862\" y=\"-245.8\" font-family=\"Times,serif\" font-size=\"14.00\" fill=\"#000000\">pH &lt;= 3.03</text>\n<text text-anchor=\"middle\" x=\"862\" y=\"-230.8\" font-family=\"Times,serif\" font-size=\"14.00\" fill=\"#000000\">gini = 0.457</text>\n<text text-anchor=\"middle\" x=\"862\" y=\"-215.8\" font-family=\"Times,serif\" font-size=\"14.00\" fill=\"#000000\">samples = 17</text>\n<text text-anchor=\"middle\" x=\"862\" y=\"-200.8\" font-family=\"Times,serif\" font-size=\"14.00\" fill=\"#000000\">value = [11, 6]</text>\n</g>\n<!-- 10&#45;&gt;18 -->\n<g id=\"edge18\" class=\"edge\">\n<title>10&#45;&gt;18</title>\n<path fill=\"none\" stroke=\"#000000\" d=\"M798.7791,-296.9465C806.9755,-287.8782 815.922,-277.9799 824.4375,-268.5585\"/>\n<polygon fill=\"#000000\" stroke=\"#000000\" points=\"827.0429,-270.8957 831.1517,-261.13 821.8497,-266.2019 827.0429,-270.8957\"/>\n</g>\n<!-- 12 -->\n<g id=\"node13\" class=\"node\">\n<title>12</title>\n<polygon fill=\"none\" stroke=\"#000000\" points=\"568,-157 446,-157 446,-89 568,-89 568,-157\"/>\n<text text-anchor=\"middle\" x=\"507\" y=\"-141.8\" font-family=\"Times,serif\" font-size=\"14.00\" fill=\"#000000\">sulphates &lt;= 0.455</text>\n<text text-anchor=\"middle\" x=\"507\" y=\"-126.8\" font-family=\"Times,serif\" font-size=\"14.00\" fill=\"#000000\">gini = 0.366</text>\n<text text-anchor=\"middle\" x=\"507\" y=\"-111.8\" font-family=\"Times,serif\" font-size=\"14.00\" fill=\"#000000\">samples = 444</text>\n<text text-anchor=\"middle\" x=\"507\" y=\"-96.8\" font-family=\"Times,serif\" font-size=\"14.00\" fill=\"#000000\">value = [107, 337]</text>\n</g>\n<!-- 11&#45;&gt;12 -->\n<g id=\"edge12\" class=\"edge\">\n<title>11&#45;&gt;12</title>\n<path fill=\"none\" stroke=\"#000000\" d=\"M619.318,-192.9465C603.7471,-183.2497 586.6524,-172.6039 570.5996,-162.6069\"/>\n<polygon fill=\"#000000\" stroke=\"#000000\" points=\"572.1437,-159.4453 561.8049,-157.13 568.4432,-165.3873 572.1437,-159.4453\"/>\n</g>\n<!-- 15 -->\n<g id=\"node16\" class=\"node\">\n<title>15</title>\n<polygon fill=\"none\" stroke=\"#000000\" points=\"761.5,-157 586.5,-157 586.5,-89 761.5,-89 761.5,-157\"/>\n<text text-anchor=\"middle\" x=\"674\" y=\"-141.8\" font-family=\"Times,serif\" font-size=\"14.00\" fill=\"#000000\">total.sulfur.dioxide &lt;= 131.0</text>\n<text text-anchor=\"middle\" x=\"674\" y=\"-126.8\" font-family=\"Times,serif\" font-size=\"14.00\" fill=\"#000000\">gini = 0.48</text>\n<text text-anchor=\"middle\" x=\"674\" y=\"-111.8\" font-family=\"Times,serif\" font-size=\"14.00\" fill=\"#000000\">samples = 20</text>\n<text text-anchor=\"middle\" x=\"674\" y=\"-96.8\" font-family=\"Times,serif\" font-size=\"14.00\" fill=\"#000000\">value = [12, 8]</text>\n</g>\n<!-- 11&#45;&gt;15 -->\n<g id=\"edge15\" class=\"edge\">\n<title>11&#45;&gt;15</title>\n<path fill=\"none\" stroke=\"#000000\" d=\"M674,-192.9465C674,-184.776 674,-175.9318 674,-167.3697\"/>\n<polygon fill=\"#000000\" stroke=\"#000000\" points=\"677.5001,-167.13 674,-157.13 670.5001,-167.13 677.5001,-167.13\"/>\n</g>\n<!-- 13 -->\n<g id=\"node14\" class=\"node\">\n<title>13</title>\n<polygon fill=\"none\" stroke=\"#000000\" points=\"433,-53 321,-53 321,0 433,0 433,-53\"/>\n<text text-anchor=\"middle\" x=\"377\" y=\"-37.8\" font-family=\"Times,serif\" font-size=\"14.00\" fill=\"#000000\">gini = 0.435</text>\n<text text-anchor=\"middle\" x=\"377\" y=\"-22.8\" font-family=\"Times,serif\" font-size=\"14.00\" fill=\"#000000\">samples = 200</text>\n<text text-anchor=\"middle\" x=\"377\" y=\"-7.8\" font-family=\"Times,serif\" font-size=\"14.00\" fill=\"#000000\">value = [64, 136]</text>\n</g>\n<!-- 12&#45;&gt;13 -->\n<g id=\"edge13\" class=\"edge\">\n<title>12&#45;&gt;13</title>\n<path fill=\"none\" stroke=\"#000000\" d=\"M461.1669,-88.9777C448.2143,-79.3629 434.1465,-68.9203 421.2867,-59.3743\"/>\n<polygon fill=\"#000000\" stroke=\"#000000\" points=\"423.1499,-56.3986 413.0342,-53.2485 418.9776,-62.0193 423.1499,-56.3986\"/>\n</g>\n<!-- 14 -->\n<g id=\"node15\" class=\"node\">\n<title>14</title>\n<polygon fill=\"none\" stroke=\"#000000\" points=\"563,-53 451,-53 451,0 563,0 563,-53\"/>\n<text text-anchor=\"middle\" x=\"507\" y=\"-37.8\" font-family=\"Times,serif\" font-size=\"14.00\" fill=\"#000000\">gini = 0.29</text>\n<text text-anchor=\"middle\" x=\"507\" y=\"-22.8\" font-family=\"Times,serif\" font-size=\"14.00\" fill=\"#000000\">samples = 244</text>\n<text text-anchor=\"middle\" x=\"507\" y=\"-7.8\" font-family=\"Times,serif\" font-size=\"14.00\" fill=\"#000000\">value = [43, 201]</text>\n</g>\n<!-- 12&#45;&gt;14 -->\n<g id=\"edge14\" class=\"edge\">\n<title>12&#45;&gt;14</title>\n<path fill=\"none\" stroke=\"#000000\" d=\"M507,-88.9777C507,-80.7364 507,-71.887 507,-63.5153\"/>\n<polygon fill=\"#000000\" stroke=\"#000000\" points=\"510.5001,-63.2484 507,-53.2485 503.5001,-63.2485 510.5001,-63.2484\"/>\n</g>\n<!-- 16 -->\n<g id=\"node17\" class=\"node\">\n<title>16</title>\n<polygon fill=\"none\" stroke=\"#000000\" points=\"673,-53 581,-53 581,0 673,0 673,-53\"/>\n<text text-anchor=\"middle\" x=\"627\" y=\"-37.8\" font-family=\"Times,serif\" font-size=\"14.00\" fill=\"#000000\">gini = 0.0</text>\n<text text-anchor=\"middle\" x=\"627\" y=\"-22.8\" font-family=\"Times,serif\" font-size=\"14.00\" fill=\"#000000\">samples = 6</text>\n<text text-anchor=\"middle\" x=\"627\" y=\"-7.8\" font-family=\"Times,serif\" font-size=\"14.00\" fill=\"#000000\">value = [0, 6]</text>\n</g>\n<!-- 15&#45;&gt;16 -->\n<g id=\"edge16\" class=\"edge\">\n<title>15&#45;&gt;16</title>\n<path fill=\"none\" stroke=\"#000000\" d=\"M657.4296,-88.9777C653.2373,-80.3702 648.7219,-71.0992 644.486,-62.402\"/>\n<polygon fill=\"#000000\" stroke=\"#000000\" points=\"647.5532,-60.7063 640.0278,-53.2485 641.2599,-63.7714 647.5532,-60.7063\"/>\n</g>\n<!-- 17 -->\n<g id=\"node18\" class=\"node\">\n<title>17</title>\n<polygon fill=\"none\" stroke=\"#000000\" points=\"789,-53 691,-53 691,0 789,0 789,-53\"/>\n<text text-anchor=\"middle\" x=\"740\" y=\"-37.8\" font-family=\"Times,serif\" font-size=\"14.00\" fill=\"#000000\">gini = 0.245</text>\n<text text-anchor=\"middle\" x=\"740\" y=\"-22.8\" font-family=\"Times,serif\" font-size=\"14.00\" fill=\"#000000\">samples = 14</text>\n<text text-anchor=\"middle\" x=\"740\" y=\"-7.8\" font-family=\"Times,serif\" font-size=\"14.00\" fill=\"#000000\">value = [12, 2]</text>\n</g>\n<!-- 15&#45;&gt;17 -->\n<g id=\"edge17\" class=\"edge\">\n<title>15&#45;&gt;17</title>\n<path fill=\"none\" stroke=\"#000000\" d=\"M697.2691,-88.9777C703.344,-80.0954 709.9021,-70.5067 716.0135,-61.5711\"/>\n<polygon fill=\"#000000\" stroke=\"#000000\" points=\"718.9493,-63.4785 721.7057,-53.2485 713.1714,-59.5267 718.9493,-63.4785\"/>\n</g>\n<!-- 19 -->\n<g id=\"node20\" class=\"node\">\n<title>19</title>\n<polygon fill=\"none\" stroke=\"#000000\" points=\"944.5,-157 779.5,-157 779.5,-89 944.5,-89 944.5,-157\"/>\n<text text-anchor=\"middle\" x=\"862\" y=\"-141.8\" font-family=\"Times,serif\" font-size=\"14.00\" fill=\"#000000\">free.sulfur.dioxide &lt;= 24.5</text>\n<text text-anchor=\"middle\" x=\"862\" y=\"-126.8\" font-family=\"Times,serif\" font-size=\"14.00\" fill=\"#000000\">gini = 0.48</text>\n<text text-anchor=\"middle\" x=\"862\" y=\"-111.8\" font-family=\"Times,serif\" font-size=\"14.00\" fill=\"#000000\">samples = 10</text>\n<text text-anchor=\"middle\" x=\"862\" y=\"-96.8\" font-family=\"Times,serif\" font-size=\"14.00\" fill=\"#000000\">value = [4, 6]</text>\n</g>\n<!-- 18&#45;&gt;19 -->\n<g id=\"edge19\" class=\"edge\">\n<title>18&#45;&gt;19</title>\n<path fill=\"none\" stroke=\"#000000\" d=\"M862,-192.9465C862,-184.776 862,-175.9318 862,-167.3697\"/>\n<polygon fill=\"#000000\" stroke=\"#000000\" points=\"865.5001,-167.13 862,-157.13 858.5001,-167.13 865.5001,-167.13\"/>\n</g>\n<!-- 22 -->\n<g id=\"node23\" class=\"node\">\n<title>22</title>\n<polygon fill=\"none\" stroke=\"#000000\" points=\"1055,-149.5 963,-149.5 963,-96.5 1055,-96.5 1055,-149.5\"/>\n<text text-anchor=\"middle\" x=\"1009\" y=\"-134.3\" font-family=\"Times,serif\" font-size=\"14.00\" fill=\"#000000\">gini = 0.0</text>\n<text text-anchor=\"middle\" x=\"1009\" y=\"-119.3\" font-family=\"Times,serif\" font-size=\"14.00\" fill=\"#000000\">samples = 7</text>\n<text text-anchor=\"middle\" x=\"1009\" y=\"-104.3\" font-family=\"Times,serif\" font-size=\"14.00\" fill=\"#000000\">value = [7, 0]</text>\n</g>\n<!-- 18&#45;&gt;22 -->\n<g id=\"edge22\" class=\"edge\">\n<title>18&#45;&gt;22</title>\n<path fill=\"none\" stroke=\"#000000\" d=\"M910.1333,-192.9465C927.1037,-180.9403 946.1304,-167.4791 962.9265,-155.5962\"/>\n<polygon fill=\"#000000\" stroke=\"#000000\" points=\"965.3416,-158.175 971.4837,-149.5422 961.2987,-152.4605 965.3416,-158.175\"/>\n</g>\n<!-- 20 -->\n<g id=\"node21\" class=\"node\">\n<title>20</title>\n<polygon fill=\"none\" stroke=\"#000000\" points=\"899,-53 807,-53 807,0 899,0 899,-53\"/>\n<text text-anchor=\"middle\" x=\"853\" y=\"-37.8\" font-family=\"Times,serif\" font-size=\"14.00\" fill=\"#000000\">gini = 0.444</text>\n<text text-anchor=\"middle\" x=\"853\" y=\"-22.8\" font-family=\"Times,serif\" font-size=\"14.00\" fill=\"#000000\">samples = 6</text>\n<text text-anchor=\"middle\" x=\"853\" y=\"-7.8\" font-family=\"Times,serif\" font-size=\"14.00\" fill=\"#000000\">value = [4, 2]</text>\n</g>\n<!-- 19&#45;&gt;20 -->\n<g id=\"edge20\" class=\"edge\">\n<title>19&#45;&gt;20</title>\n<path fill=\"none\" stroke=\"#000000\" d=\"M858.8269,-88.9777C858.0498,-80.6449 857.2146,-71.6903 856.4262,-63.2364\"/>\n<polygon fill=\"#000000\" stroke=\"#000000\" points=\"859.9083,-62.8802 855.4947,-53.2485 852.9385,-63.5303 859.9083,-62.8802\"/>\n</g>\n<!-- 21 -->\n<g id=\"node22\" class=\"node\">\n<title>21</title>\n<polygon fill=\"none\" stroke=\"#000000\" points=\"1009,-53 917,-53 917,0 1009,0 1009,-53\"/>\n<text text-anchor=\"middle\" x=\"963\" y=\"-37.8\" font-family=\"Times,serif\" font-size=\"14.00\" fill=\"#000000\">gini = 0.0</text>\n<text text-anchor=\"middle\" x=\"963\" y=\"-22.8\" font-family=\"Times,serif\" font-size=\"14.00\" fill=\"#000000\">samples = 4</text>\n<text text-anchor=\"middle\" x=\"963\" y=\"-7.8\" font-family=\"Times,serif\" font-size=\"14.00\" fill=\"#000000\">value = [0, 4]</text>\n</g>\n<!-- 19&#45;&gt;21 -->\n<g id=\"edge21\" class=\"edge\">\n<title>19&#45;&gt;21</title>\n<path fill=\"none\" stroke=\"#000000\" d=\"M897.6088,-88.9777C907.3845,-79.6376 917.9777,-69.5163 927.734,-60.1947\"/>\n<polygon fill=\"#000000\" stroke=\"#000000\" points=\"930.1917,-62.6873 935.0042,-53.2485 925.356,-57.6261 930.1917,-62.6873\"/>\n</g>\n<!-- 24 -->\n<g id=\"node25\" class=\"node\">\n<title>24</title>\n<polygon fill=\"none\" stroke=\"#000000\" points=\"1847,-365 1695,-365 1695,-297 1847,-297 1847,-365\"/>\n<text text-anchor=\"middle\" x=\"1771\" y=\"-349.8\" font-family=\"Times,serif\" font-size=\"14.00\" fill=\"#000000\">volatile.acidity &lt;= 0.305</text>\n<text text-anchor=\"middle\" x=\"1771\" y=\"-334.8\" font-family=\"Times,serif\" font-size=\"14.00\" fill=\"#000000\">gini = 0.437</text>\n<text text-anchor=\"middle\" x=\"1771\" y=\"-319.8\" font-family=\"Times,serif\" font-size=\"14.00\" fill=\"#000000\">samples = 711</text>\n<text text-anchor=\"middle\" x=\"1771\" y=\"-304.8\" font-family=\"Times,serif\" font-size=\"14.00\" fill=\"#000000\">value = [482, 229]</text>\n</g>\n<!-- 23&#45;&gt;24 -->\n<g id=\"edge24\" class=\"edge\">\n<title>23&#45;&gt;24</title>\n<path fill=\"none\" stroke=\"#000000\" d=\"M1890.0436,-400.9465C1873.3875,-391.1599 1855.0863,-380.4066 1837.9356,-370.3294\"/>\n<polygon fill=\"#000000\" stroke=\"#000000\" points=\"1839.4816,-367.1783 1829.0866,-365.13 1835.9354,-373.2136 1839.4816,-367.1783\"/>\n</g>\n<!-- 39 -->\n<g id=\"node40\" class=\"node\">\n<title>39</title>\n<polygon fill=\"none\" stroke=\"#000000\" points=\"2204.5,-365 2039.5,-365 2039.5,-297 2204.5,-297 2204.5,-365\"/>\n<text text-anchor=\"middle\" x=\"2122\" y=\"-349.8\" font-family=\"Times,serif\" font-size=\"14.00\" fill=\"#000000\">free.sulfur.dioxide &lt;= 14.0</text>\n<text text-anchor=\"middle\" x=\"2122\" y=\"-334.8\" font-family=\"Times,serif\" font-size=\"14.00\" fill=\"#000000\">gini = 0.497</text>\n<text text-anchor=\"middle\" x=\"2122\" y=\"-319.8\" font-family=\"Times,serif\" font-size=\"14.00\" fill=\"#000000\">samples = 259</text>\n<text text-anchor=\"middle\" x=\"2122\" y=\"-304.8\" font-family=\"Times,serif\" font-size=\"14.00\" fill=\"#000000\">value = [119, 140]</text>\n</g>\n<!-- 23&#45;&gt;39 -->\n<g id=\"edge39\" class=\"edge\">\n<title>23&#45;&gt;39</title>\n<path fill=\"none\" stroke=\"#000000\" d=\"M2004.9741,-400.9465C2021.3478,-391.1599 2039.3389,-380.4066 2056.1989,-370.3294\"/>\n<polygon fill=\"#000000\" stroke=\"#000000\" points=\"2058.1099,-373.2648 2064.8979,-365.13 2054.5186,-367.2562 2058.1099,-373.2648\"/>\n</g>\n<!-- 25 -->\n<g id=\"node26\" class=\"node\">\n<title>25</title>\n<polygon fill=\"none\" stroke=\"#000000\" points=\"1460.5,-261 1341.5,-261 1341.5,-193 1460.5,-193 1460.5,-261\"/>\n<text text-anchor=\"middle\" x=\"1401\" y=\"-245.8\" font-family=\"Times,serif\" font-size=\"14.00\" fill=\"#000000\">pH &lt;= 3.075</text>\n<text text-anchor=\"middle\" x=\"1401\" y=\"-230.8\" font-family=\"Times,serif\" font-size=\"14.00\" fill=\"#000000\">gini = 0.48</text>\n<text text-anchor=\"middle\" x=\"1401\" y=\"-215.8\" font-family=\"Times,serif\" font-size=\"14.00\" fill=\"#000000\">samples = 340</text>\n<text text-anchor=\"middle\" x=\"1401\" y=\"-200.8\" font-family=\"Times,serif\" font-size=\"14.00\" fill=\"#000000\">value = [204, 136]</text>\n</g>\n<!-- 24&#45;&gt;25 -->\n<g id=\"edge25\" class=\"edge\">\n<title>24&#45;&gt;25</title>\n<path fill=\"none\" stroke=\"#000000\" d=\"M1694.7844,-309.5772C1628.9202,-291.0641 1534.5243,-264.5312 1470.6517,-246.5778\"/>\n<polygon fill=\"#000000\" stroke=\"#000000\" points=\"1471.2457,-243.1092 1460.6717,-243.7726 1469.3515,-249.848 1471.2457,-243.1092\"/>\n</g>\n<!-- 32 -->\n<g id=\"node33\" class=\"node\">\n<title>32</title>\n<polygon fill=\"none\" stroke=\"#000000\" points=\"1841,-261 1701,-261 1701,-193 1841,-193 1841,-261\"/>\n<text text-anchor=\"middle\" x=\"1771\" y=\"-245.8\" font-family=\"Times,serif\" font-size=\"14.00\" fill=\"#000000\">residual.sugar &lt;= 16.5</text>\n<text text-anchor=\"middle\" x=\"1771\" y=\"-230.8\" font-family=\"Times,serif\" font-size=\"14.00\" fill=\"#000000\">gini = 0.376</text>\n<text text-anchor=\"middle\" x=\"1771\" y=\"-215.8\" font-family=\"Times,serif\" font-size=\"14.00\" fill=\"#000000\">samples = 371</text>\n<text text-anchor=\"middle\" x=\"1771\" y=\"-200.8\" font-family=\"Times,serif\" font-size=\"14.00\" fill=\"#000000\">value = [278, 93]</text>\n</g>\n<!-- 24&#45;&gt;32 -->\n<g id=\"edge32\" class=\"edge\">\n<title>24&#45;&gt;32</title>\n<path fill=\"none\" stroke=\"#000000\" d=\"M1771,-296.9465C1771,-288.776 1771,-279.9318 1771,-271.3697\"/>\n<polygon fill=\"#000000\" stroke=\"#000000\" points=\"1774.5001,-271.13 1771,-261.13 1767.5001,-271.13 1774.5001,-271.13\"/>\n</g>\n<!-- 26 -->\n<g id=\"node27\" class=\"node\">\n<title>26</title>\n<polygon fill=\"none\" stroke=\"#000000\" points=\"1269.5,-157 1136.5,-157 1136.5,-89 1269.5,-89 1269.5,-157\"/>\n<text text-anchor=\"middle\" x=\"1203\" y=\"-141.8\" font-family=\"Times,serif\" font-size=\"14.00\" fill=\"#000000\">fixed.acidity &lt;= 6.95</text>\n<text text-anchor=\"middle\" x=\"1203\" y=\"-126.8\" font-family=\"Times,serif\" font-size=\"14.00\" fill=\"#000000\">gini = 0.484</text>\n<text text-anchor=\"middle\" x=\"1203\" y=\"-111.8\" font-family=\"Times,serif\" font-size=\"14.00\" fill=\"#000000\">samples = 83</text>\n<text text-anchor=\"middle\" x=\"1203\" y=\"-96.8\" font-family=\"Times,serif\" font-size=\"14.00\" fill=\"#000000\">value = [34, 49]</text>\n</g>\n<!-- 25&#45;&gt;26 -->\n<g id=\"edge26\" class=\"edge\">\n<title>25&#45;&gt;26</title>\n<path fill=\"none\" stroke=\"#000000\" d=\"M1341.325,-195.6555C1321.0994,-185.032 1298.2591,-173.0351 1277.0524,-161.8962\"/>\n<polygon fill=\"#000000\" stroke=\"#000000\" points=\"1278.5569,-158.7331 1268.0763,-157.1815 1275.3018,-164.9302 1278.5569,-158.7331\"/>\n</g>\n<!-- 29 -->\n<g id=\"node30\" class=\"node\">\n<title>29</title>\n<polygon fill=\"none\" stroke=\"#000000\" points=\"1458,-157 1344,-157 1344,-89 1458,-89 1458,-157\"/>\n<text text-anchor=\"middle\" x=\"1401\" y=\"-141.8\" font-family=\"Times,serif\" font-size=\"14.00\" fill=\"#000000\">chlorides &lt;= 50.0</text>\n<text text-anchor=\"middle\" x=\"1401\" y=\"-126.8\" font-family=\"Times,serif\" font-size=\"14.00\" fill=\"#000000\">gini = 0.448</text>\n<text text-anchor=\"middle\" x=\"1401\" y=\"-111.8\" font-family=\"Times,serif\" font-size=\"14.00\" fill=\"#000000\">samples = 257</text>\n<text text-anchor=\"middle\" x=\"1401\" y=\"-96.8\" font-family=\"Times,serif\" font-size=\"14.00\" fill=\"#000000\">value = [170, 87]</text>\n</g>\n<!-- 25&#45;&gt;29 -->\n<g id=\"edge29\" class=\"edge\">\n<title>25&#45;&gt;29</title>\n<path fill=\"none\" stroke=\"#000000\" d=\"M1401,-192.9465C1401,-184.776 1401,-175.9318 1401,-167.3697\"/>\n<polygon fill=\"#000000\" stroke=\"#000000\" points=\"1404.5001,-167.13 1401,-157.13 1397.5001,-167.13 1404.5001,-167.13\"/>\n</g>\n<!-- 27 -->\n<g id=\"node28\" class=\"node\">\n<title>27</title>\n<polygon fill=\"none\" stroke=\"#000000\" points=\"1132.5,-53 1027.5,-53 1027.5,0 1132.5,0 1132.5,-53\"/>\n<text text-anchor=\"middle\" x=\"1080\" y=\"-37.8\" font-family=\"Times,serif\" font-size=\"14.00\" fill=\"#000000\">gini = 0.469</text>\n<text text-anchor=\"middle\" x=\"1080\" y=\"-22.8\" font-family=\"Times,serif\" font-size=\"14.00\" fill=\"#000000\">samples = 32</text>\n<text text-anchor=\"middle\" x=\"1080\" y=\"-7.8\" font-family=\"Times,serif\" font-size=\"14.00\" fill=\"#000000\">value = [20, 12]</text>\n</g>\n<!-- 26&#45;&gt;27 -->\n<g id=\"edge27\" class=\"edge\">\n<title>26&#45;&gt;27</title>\n<path fill=\"none\" stroke=\"#000000\" d=\"M1159.6348,-88.9777C1147.4964,-79.4545 1134.3228,-69.1191 1122.2499,-59.6473\"/>\n<polygon fill=\"#000000\" stroke=\"#000000\" points=\"1124.122,-56.6674 1114.0939,-53.2485 1119.8011,-62.1748 1124.122,-56.6674\"/>\n</g>\n<!-- 28 -->\n<g id=\"node29\" class=\"node\">\n<title>28</title>\n<polygon fill=\"none\" stroke=\"#000000\" points=\"1255.5,-53 1150.5,-53 1150.5,0 1255.5,0 1255.5,-53\"/>\n<text text-anchor=\"middle\" x=\"1203\" y=\"-37.8\" font-family=\"Times,serif\" font-size=\"14.00\" fill=\"#000000\">gini = 0.398</text>\n<text text-anchor=\"middle\" x=\"1203\" y=\"-22.8\" font-family=\"Times,serif\" font-size=\"14.00\" fill=\"#000000\">samples = 51</text>\n<text text-anchor=\"middle\" x=\"1203\" y=\"-7.8\" font-family=\"Times,serif\" font-size=\"14.00\" fill=\"#000000\">value = [14, 37]</text>\n</g>\n<!-- 26&#45;&gt;28 -->\n<g id=\"edge28\" class=\"edge\">\n<title>26&#45;&gt;28</title>\n<path fill=\"none\" stroke=\"#000000\" d=\"M1203,-88.9777C1203,-80.7364 1203,-71.887 1203,-63.5153\"/>\n<polygon fill=\"#000000\" stroke=\"#000000\" points=\"1206.5001,-63.2484 1203,-53.2485 1199.5001,-63.2485 1206.5001,-63.2484\"/>\n</g>\n<!-- 30 -->\n<g id=\"node31\" class=\"node\">\n<title>30</title>\n<polygon fill=\"none\" stroke=\"#000000\" points=\"1386,-53 1274,-53 1274,0 1386,0 1386,-53\"/>\n<text text-anchor=\"middle\" x=\"1330\" y=\"-37.8\" font-family=\"Times,serif\" font-size=\"14.00\" fill=\"#000000\">gini = 0.485</text>\n<text text-anchor=\"middle\" x=\"1330\" y=\"-22.8\" font-family=\"Times,serif\" font-size=\"14.00\" fill=\"#000000\">samples = 174</text>\n<text text-anchor=\"middle\" x=\"1330\" y=\"-7.8\" font-family=\"Times,serif\" font-size=\"14.00\" fill=\"#000000\">value = [102, 72]</text>\n</g>\n<!-- 29&#45;&gt;30 -->\n<g id=\"edge30\" class=\"edge\">\n<title>29&#45;&gt;30</title>\n<path fill=\"none\" stroke=\"#000000\" d=\"M1375.9681,-88.9777C1369.4329,-80.0954 1362.378,-70.5067 1355.8036,-61.5711\"/>\n<polygon fill=\"#000000\" stroke=\"#000000\" points=\"1358.4257,-59.229 1349.6802,-53.2485 1352.7874,-63.3775 1358.4257,-59.229\"/>\n</g>\n<!-- 31 -->\n<g id=\"node32\" class=\"node\">\n<title>31</title>\n<polygon fill=\"none\" stroke=\"#000000\" points=\"1509.5,-53 1404.5,-53 1404.5,0 1509.5,0 1509.5,-53\"/>\n<text text-anchor=\"middle\" x=\"1457\" y=\"-37.8\" font-family=\"Times,serif\" font-size=\"14.00\" fill=\"#000000\">gini = 0.296</text>\n<text text-anchor=\"middle\" x=\"1457\" y=\"-22.8\" font-family=\"Times,serif\" font-size=\"14.00\" fill=\"#000000\">samples = 83</text>\n<text text-anchor=\"middle\" x=\"1457\" y=\"-7.8\" font-family=\"Times,serif\" font-size=\"14.00\" fill=\"#000000\">value = [68, 15]</text>\n</g>\n<!-- 29&#45;&gt;31 -->\n<g id=\"edge31\" class=\"edge\">\n<title>29&#45;&gt;31</title>\n<path fill=\"none\" stroke=\"#000000\" d=\"M1420.7435,-88.9777C1425.7917,-80.2786 1431.2331,-70.9018 1436.3266,-62.1247\"/>\n<polygon fill=\"#000000\" stroke=\"#000000\" points=\"1439.4855,-63.6544 1441.4776,-53.2485 1433.4311,-60.1409 1439.4855,-63.6544\"/>\n</g>\n<!-- 33 -->\n<g id=\"node34\" class=\"node\">\n<title>33</title>\n<polygon fill=\"none\" stroke=\"#000000\" points=\"1752,-157 1640,-157 1640,-89 1752,-89 1752,-157\"/>\n<text text-anchor=\"middle\" x=\"1696\" y=\"-141.8\" font-family=\"Times,serif\" font-size=\"14.00\" fill=\"#000000\">pH &lt;= 3.245</text>\n<text text-anchor=\"middle\" x=\"1696\" y=\"-126.8\" font-family=\"Times,serif\" font-size=\"14.00\" fill=\"#000000\">gini = 0.355</text>\n<text text-anchor=\"middle\" x=\"1696\" y=\"-111.8\" font-family=\"Times,serif\" font-size=\"14.00\" fill=\"#000000\">samples = 347</text>\n<text text-anchor=\"middle\" x=\"1696\" y=\"-96.8\" font-family=\"Times,serif\" font-size=\"14.00\" fill=\"#000000\">value = [267, 80]</text>\n</g>\n<!-- 32&#45;&gt;33 -->\n<g id=\"edge33\" class=\"edge\">\n<title>32&#45;&gt;33</title>\n<path fill=\"none\" stroke=\"#000000\" d=\"M1746.4422,-192.9465C1740.0968,-184.1475 1733.1879,-174.5672 1726.5764,-165.3993\"/>\n<polygon fill=\"#000000\" stroke=\"#000000\" points=\"1729.3011,-163.1937 1720.613,-157.13 1723.6234,-167.2882 1729.3011,-163.1937\"/>\n</g>\n<!-- 36 -->\n<g id=\"node37\" class=\"node\">\n<title>36</title>\n<polygon fill=\"none\" stroke=\"#000000\" points=\"1922,-157 1770,-157 1770,-89 1922,-89 1922,-157\"/>\n<text text-anchor=\"middle\" x=\"1846\" y=\"-141.8\" font-family=\"Times,serif\" font-size=\"14.00\" fill=\"#000000\">volatile.acidity &lt;= 0.355</text>\n<text text-anchor=\"middle\" x=\"1846\" y=\"-126.8\" font-family=\"Times,serif\" font-size=\"14.00\" fill=\"#000000\">gini = 0.497</text>\n<text text-anchor=\"middle\" x=\"1846\" y=\"-111.8\" font-family=\"Times,serif\" font-size=\"14.00\" fill=\"#000000\">samples = 24</text>\n<text text-anchor=\"middle\" x=\"1846\" y=\"-96.8\" font-family=\"Times,serif\" font-size=\"14.00\" fill=\"#000000\">value = [11, 13]</text>\n</g>\n<!-- 32&#45;&gt;36 -->\n<g id=\"edge36\" class=\"edge\">\n<title>32&#45;&gt;36</title>\n<path fill=\"none\" stroke=\"#000000\" d=\"M1795.5578,-192.9465C1801.9032,-184.1475 1808.8121,-174.5672 1815.4236,-165.3993\"/>\n<polygon fill=\"#000000\" stroke=\"#000000\" points=\"1818.3766,-167.2882 1821.387,-157.13 1812.6989,-163.1937 1818.3766,-167.2882\"/>\n</g>\n<!-- 34 -->\n<g id=\"node35\" class=\"node\">\n<title>34</title>\n<polygon fill=\"none\" stroke=\"#000000\" points=\"1640,-53 1528,-53 1528,0 1640,0 1640,-53\"/>\n<text text-anchor=\"middle\" x=\"1584\" y=\"-37.8\" font-family=\"Times,serif\" font-size=\"14.00\" fill=\"#000000\">gini = 0.315</text>\n<text text-anchor=\"middle\" x=\"1584\" y=\"-22.8\" font-family=\"Times,serif\" font-size=\"14.00\" fill=\"#000000\">samples = 281</text>\n<text text-anchor=\"middle\" x=\"1584\" y=\"-7.8\" font-family=\"Times,serif\" font-size=\"14.00\" fill=\"#000000\">value = [226, 55]</text>\n</g>\n<!-- 33&#45;&gt;34 -->\n<g id=\"edge34\" class=\"edge\">\n<title>33&#45;&gt;34</title>\n<path fill=\"none\" stroke=\"#000000\" d=\"M1656.513,-88.9777C1645.5664,-79.546 1633.6953,-69.3178 1622.7889,-59.9208\"/>\n<polygon fill=\"#000000\" stroke=\"#000000\" points=\"1624.9053,-57.1244 1615.0449,-53.2485 1620.3361,-62.4274 1624.9053,-57.1244\"/>\n</g>\n<!-- 35 -->\n<g id=\"node36\" class=\"node\">\n<title>35</title>\n<polygon fill=\"none\" stroke=\"#000000\" points=\"1763.5,-53 1658.5,-53 1658.5,0 1763.5,0 1763.5,-53\"/>\n<text text-anchor=\"middle\" x=\"1711\" y=\"-37.8\" font-family=\"Times,serif\" font-size=\"14.00\" fill=\"#000000\">gini = 0.471</text>\n<text text-anchor=\"middle\" x=\"1711\" y=\"-22.8\" font-family=\"Times,serif\" font-size=\"14.00\" fill=\"#000000\">samples = 66</text>\n<text text-anchor=\"middle\" x=\"1711\" y=\"-7.8\" font-family=\"Times,serif\" font-size=\"14.00\" fill=\"#000000\">value = [41, 25]</text>\n</g>\n<!-- 33&#45;&gt;35 -->\n<g id=\"edge35\" class=\"edge\">\n<title>33&#45;&gt;35</title>\n<path fill=\"none\" stroke=\"#000000\" d=\"M1701.2884,-88.9777C1702.5837,-80.6449 1703.9756,-71.6903 1705.2897,-63.2364\"/>\n<polygon fill=\"#000000\" stroke=\"#000000\" points=\"1708.7646,-63.6674 1706.8422,-53.2485 1701.8477,-62.5922 1708.7646,-63.6674\"/>\n</g>\n<!-- 37 -->\n<g id=\"node38\" class=\"node\">\n<title>37</title>\n<polygon fill=\"none\" stroke=\"#000000\" points=\"1880,-53 1782,-53 1782,0 1880,0 1880,-53\"/>\n<text text-anchor=\"middle\" x=\"1831\" y=\"-37.8\" font-family=\"Times,serif\" font-size=\"14.00\" fill=\"#000000\">gini = 0.432</text>\n<text text-anchor=\"middle\" x=\"1831\" y=\"-22.8\" font-family=\"Times,serif\" font-size=\"14.00\" fill=\"#000000\">samples = 19</text>\n<text text-anchor=\"middle\" x=\"1831\" y=\"-7.8\" font-family=\"Times,serif\" font-size=\"14.00\" fill=\"#000000\">value = [6, 13]</text>\n</g>\n<!-- 36&#45;&gt;37 -->\n<g id=\"edge37\" class=\"edge\">\n<title>36&#45;&gt;37</title>\n<path fill=\"none\" stroke=\"#000000\" d=\"M1840.7116,-88.9777C1839.4163,-80.6449 1838.0244,-71.6903 1836.7103,-63.2364\"/>\n<polygon fill=\"#000000\" stroke=\"#000000\" points=\"1840.1523,-62.5922 1835.1578,-53.2485 1833.2354,-63.6674 1840.1523,-62.5922\"/>\n</g>\n<!-- 38 -->\n<g id=\"node39\" class=\"node\">\n<title>38</title>\n<polygon fill=\"none\" stroke=\"#000000\" points=\"1990,-53 1898,-53 1898,0 1990,0 1990,-53\"/>\n<text text-anchor=\"middle\" x=\"1944\" y=\"-37.8\" font-family=\"Times,serif\" font-size=\"14.00\" fill=\"#000000\">gini = 0.0</text>\n<text text-anchor=\"middle\" x=\"1944\" y=\"-22.8\" font-family=\"Times,serif\" font-size=\"14.00\" fill=\"#000000\">samples = 5</text>\n<text text-anchor=\"middle\" x=\"1944\" y=\"-7.8\" font-family=\"Times,serif\" font-size=\"14.00\" fill=\"#000000\">value = [5, 0]</text>\n</g>\n<!-- 36&#45;&gt;38 -->\n<g id=\"edge38\" class=\"edge\">\n<title>36&#45;&gt;38</title>\n<path fill=\"none\" stroke=\"#000000\" d=\"M1880.5511,-88.9777C1889.9434,-79.7292 1900.1136,-69.7147 1909.5029,-60.4691\"/>\n<polygon fill=\"#000000\" stroke=\"#000000\" points=\"1912.1661,-62.7587 1916.8357,-53.2485 1907.2546,-57.7709 1912.1661,-62.7587\"/>\n</g>\n<!-- 40 -->\n<g id=\"node41\" class=\"node\">\n<title>40</title>\n<polygon fill=\"none\" stroke=\"#000000\" points=\"2209.5,-261 2034.5,-261 2034.5,-193 2209.5,-193 2209.5,-261\"/>\n<text text-anchor=\"middle\" x=\"2122\" y=\"-245.8\" font-family=\"Times,serif\" font-size=\"14.00\" fill=\"#000000\">total.sulfur.dioxide &lt;= 194.0</text>\n<text text-anchor=\"middle\" x=\"2122\" y=\"-230.8\" font-family=\"Times,serif\" font-size=\"14.00\" fill=\"#000000\">gini = 0.204</text>\n<text text-anchor=\"middle\" x=\"2122\" y=\"-215.8\" font-family=\"Times,serif\" font-size=\"14.00\" fill=\"#000000\">samples = 26</text>\n<text text-anchor=\"middle\" x=\"2122\" y=\"-200.8\" font-family=\"Times,serif\" font-size=\"14.00\" fill=\"#000000\">value = [23, 3]</text>\n</g>\n<!-- 39&#45;&gt;40 -->\n<g id=\"edge40\" class=\"edge\">\n<title>39&#45;&gt;40</title>\n<path fill=\"none\" stroke=\"#000000\" d=\"M2122,-296.9465C2122,-288.776 2122,-279.9318 2122,-271.3697\"/>\n<polygon fill=\"#000000\" stroke=\"#000000\" points=\"2125.5001,-271.13 2122,-261.13 2118.5001,-271.13 2125.5001,-271.13\"/>\n</g>\n<!-- 45 -->\n<g id=\"node46\" class=\"node\">\n<title>45</title>\n<polygon fill=\"none\" stroke=\"#000000\" points=\"2434,-261 2282,-261 2282,-193 2434,-193 2434,-261\"/>\n<text text-anchor=\"middle\" x=\"2358\" y=\"-245.8\" font-family=\"Times,serif\" font-size=\"14.00\" fill=\"#000000\">volatile.acidity &lt;= 0.265</text>\n<text text-anchor=\"middle\" x=\"2358\" y=\"-230.8\" font-family=\"Times,serif\" font-size=\"14.00\" fill=\"#000000\">gini = 0.485</text>\n<text text-anchor=\"middle\" x=\"2358\" y=\"-215.8\" font-family=\"Times,serif\" font-size=\"14.00\" fill=\"#000000\">samples = 233</text>\n<text text-anchor=\"middle\" x=\"2358\" y=\"-200.8\" font-family=\"Times,serif\" font-size=\"14.00\" fill=\"#000000\">value = [96, 137]</text>\n</g>\n<!-- 39&#45;&gt;45 -->\n<g id=\"edge45\" class=\"edge\">\n<title>39&#45;&gt;45</title>\n<path fill=\"none\" stroke=\"#000000\" d=\"M2199.2752,-296.9465C2222.6543,-286.6439 2248.4644,-275.2699 2272.3565,-264.7412\"/>\n<polygon fill=\"#000000\" stroke=\"#000000\" points=\"2274.02,-267.833 2281.7595,-260.5975 2271.1972,-261.4274 2274.02,-267.833\"/>\n</g>\n<!-- 41 -->\n<g id=\"node42\" class=\"node\">\n<title>41</title>\n<polygon fill=\"none\" stroke=\"#000000\" points=\"2139,-157 1999,-157 1999,-89 2139,-89 2139,-157\"/>\n<text text-anchor=\"middle\" x=\"2069\" y=\"-141.8\" font-family=\"Times,serif\" font-size=\"14.00\" fill=\"#000000\">residual.sugar &lt;= 7.25</text>\n<text text-anchor=\"middle\" x=\"2069\" y=\"-126.8\" font-family=\"Times,serif\" font-size=\"14.00\" fill=\"#000000\">gini = 0.147</text>\n<text text-anchor=\"middle\" x=\"2069\" y=\"-111.8\" font-family=\"Times,serif\" font-size=\"14.00\" fill=\"#000000\">samples = 25</text>\n<text text-anchor=\"middle\" x=\"2069\" y=\"-96.8\" font-family=\"Times,serif\" font-size=\"14.00\" fill=\"#000000\">value = [23, 2]</text>\n</g>\n<!-- 40&#45;&gt;41 -->\n<g id=\"edge41\" class=\"edge\">\n<title>40&#45;&gt;41</title>\n<path fill=\"none\" stroke=\"#000000\" d=\"M2104.6458,-192.9465C2100.299,-184.4169 2095.578,-175.153 2091.037,-166.2424\"/>\n<polygon fill=\"#000000\" stroke=\"#000000\" points=\"2094.0522,-164.4505 2086.3932,-157.13 2087.8154,-167.629 2094.0522,-164.4505\"/>\n</g>\n<!-- 44 -->\n<g id=\"node45\" class=\"node\">\n<title>44</title>\n<polygon fill=\"none\" stroke=\"#000000\" points=\"2249,-149.5 2157,-149.5 2157,-96.5 2249,-96.5 2249,-149.5\"/>\n<text text-anchor=\"middle\" x=\"2203\" y=\"-134.3\" font-family=\"Times,serif\" font-size=\"14.00\" fill=\"#000000\">gini = 0.0</text>\n<text text-anchor=\"middle\" x=\"2203\" y=\"-119.3\" font-family=\"Times,serif\" font-size=\"14.00\" fill=\"#000000\">samples = 1</text>\n<text text-anchor=\"middle\" x=\"2203\" y=\"-104.3\" font-family=\"Times,serif\" font-size=\"14.00\" fill=\"#000000\">value = [0, 1]</text>\n</g>\n<!-- 40&#45;&gt;44 -->\n<g id=\"edge44\" class=\"edge\">\n<title>40&#45;&gt;44</title>\n<path fill=\"none\" stroke=\"#000000\" d=\"M2148.5224,-192.9465C2157.3587,-181.6012 2167.2068,-168.9567 2176.0734,-157.5724\"/>\n<polygon fill=\"#000000\" stroke=\"#000000\" points=\"2178.9444,-159.5823 2182.3277,-149.5422 2173.4217,-155.281 2178.9444,-159.5823\"/>\n</g>\n<!-- 42 -->\n<g id=\"node43\" class=\"node\">\n<title>42</title>\n<polygon fill=\"none\" stroke=\"#000000\" points=\"2106,-53 2008,-53 2008,0 2106,0 2106,-53\"/>\n<text text-anchor=\"middle\" x=\"2057\" y=\"-37.8\" font-family=\"Times,serif\" font-size=\"14.00\" fill=\"#000000\">gini = 0.08</text>\n<text text-anchor=\"middle\" x=\"2057\" y=\"-22.8\" font-family=\"Times,serif\" font-size=\"14.00\" fill=\"#000000\">samples = 24</text>\n<text text-anchor=\"middle\" x=\"2057\" y=\"-7.8\" font-family=\"Times,serif\" font-size=\"14.00\" fill=\"#000000\">value = [23, 1]</text>\n</g>\n<!-- 41&#45;&gt;42 -->\n<g id=\"edge42\" class=\"edge\">\n<title>41&#45;&gt;42</title>\n<path fill=\"none\" stroke=\"#000000\" d=\"M2064.7692,-88.9777C2063.733,-80.6449 2062.6195,-71.6903 2061.5683,-63.2364\"/>\n<polygon fill=\"#000000\" stroke=\"#000000\" points=\"2065.0336,-62.7401 2060.3262,-53.2485 2058.0871,-63.604 2065.0336,-62.7401\"/>\n</g>\n<!-- 43 -->\n<g id=\"node44\" class=\"node\">\n<title>43</title>\n<polygon fill=\"none\" stroke=\"#000000\" points=\"2216,-53 2124,-53 2124,0 2216,0 2216,-53\"/>\n<text text-anchor=\"middle\" x=\"2170\" y=\"-37.8\" font-family=\"Times,serif\" font-size=\"14.00\" fill=\"#000000\">gini = 0.0</text>\n<text text-anchor=\"middle\" x=\"2170\" y=\"-22.8\" font-family=\"Times,serif\" font-size=\"14.00\" fill=\"#000000\">samples = 1</text>\n<text text-anchor=\"middle\" x=\"2170\" y=\"-7.8\" font-family=\"Times,serif\" font-size=\"14.00\" fill=\"#000000\">value = [0, 1]</text>\n</g>\n<!-- 41&#45;&gt;43 -->\n<g id=\"edge43\" class=\"edge\">\n<title>41&#45;&gt;43</title>\n<path fill=\"none\" stroke=\"#000000\" d=\"M2104.6088,-88.9777C2114.3845,-79.6376 2124.9777,-69.5163 2134.734,-60.1947\"/>\n<polygon fill=\"#000000\" stroke=\"#000000\" points=\"2137.1917,-62.6873 2142.0042,-53.2485 2132.356,-57.6261 2137.1917,-62.6873\"/>\n</g>\n<!-- 46 -->\n<g id=\"node47\" class=\"node\">\n<title>46</title>\n<polygon fill=\"none\" stroke=\"#000000\" points=\"2424.5,-157 2291.5,-157 2291.5,-89 2424.5,-89 2424.5,-157\"/>\n<text text-anchor=\"middle\" x=\"2358\" y=\"-141.8\" font-family=\"Times,serif\" font-size=\"14.00\" fill=\"#000000\">fixed.acidity &lt;= 6.25</text>\n<text text-anchor=\"middle\" x=\"2358\" y=\"-126.8\" font-family=\"Times,serif\" font-size=\"14.00\" fill=\"#000000\">gini = 0.339</text>\n<text text-anchor=\"middle\" x=\"2358\" y=\"-111.8\" font-family=\"Times,serif\" font-size=\"14.00\" fill=\"#000000\">samples = 60</text>\n<text text-anchor=\"middle\" x=\"2358\" y=\"-96.8\" font-family=\"Times,serif\" font-size=\"14.00\" fill=\"#000000\">value = [13, 47]</text>\n</g>\n<!-- 45&#45;&gt;46 -->\n<g id=\"edge46\" class=\"edge\">\n<title>45&#45;&gt;46</title>\n<path fill=\"none\" stroke=\"#000000\" d=\"M2358,-192.9465C2358,-184.776 2358,-175.9318 2358,-167.3697\"/>\n<polygon fill=\"#000000\" stroke=\"#000000\" points=\"2361.5001,-167.13 2358,-157.13 2354.5001,-167.13 2361.5001,-167.13\"/>\n</g>\n<!-- 49 -->\n<g id=\"node50\" class=\"node\">\n<title>49</title>\n<polygon fill=\"none\" stroke=\"#000000\" points=\"2570,-157 2456,-157 2456,-89 2570,-89 2570,-157\"/>\n<text text-anchor=\"middle\" x=\"2513\" y=\"-141.8\" font-family=\"Times,serif\" font-size=\"14.00\" fill=\"#000000\">chlorides &lt;= 44.5</text>\n<text text-anchor=\"middle\" x=\"2513\" y=\"-126.8\" font-family=\"Times,serif\" font-size=\"14.00\" fill=\"#000000\">gini = 0.499</text>\n<text text-anchor=\"middle\" x=\"2513\" y=\"-111.8\" font-family=\"Times,serif\" font-size=\"14.00\" fill=\"#000000\">samples = 173</text>\n<text text-anchor=\"middle\" x=\"2513\" y=\"-96.8\" font-family=\"Times,serif\" font-size=\"14.00\" fill=\"#000000\">value = [83, 90]</text>\n</g>\n<!-- 45&#45;&gt;49 -->\n<g id=\"edge49\" class=\"edge\">\n<title>45&#45;&gt;49</title>\n<path fill=\"none\" stroke=\"#000000\" d=\"M2408.7528,-192.9465C2423.071,-183.3395 2438.7775,-172.8009 2453.5563,-162.8848\"/>\n<polygon fill=\"#000000\" stroke=\"#000000\" points=\"2455.7793,-165.6081 2462.1332,-157.13 2451.8791,-159.7953 2455.7793,-165.6081\"/>\n</g>\n<!-- 47 -->\n<g id=\"node48\" class=\"node\">\n<title>47</title>\n<polygon fill=\"none\" stroke=\"#000000\" points=\"2326,-53 2234,-53 2234,0 2326,0 2326,-53\"/>\n<text text-anchor=\"middle\" x=\"2280\" y=\"-37.8\" font-family=\"Times,serif\" font-size=\"14.00\" fill=\"#000000\">gini = 0.49</text>\n<text text-anchor=\"middle\" x=\"2280\" y=\"-22.8\" font-family=\"Times,serif\" font-size=\"14.00\" fill=\"#000000\">samples = 14</text>\n<text text-anchor=\"middle\" x=\"2280\" y=\"-7.8\" font-family=\"Times,serif\" font-size=\"14.00\" fill=\"#000000\">value = [8, 6]</text>\n</g>\n<!-- 46&#45;&gt;47 -->\n<g id=\"edge47\" class=\"edge\">\n<title>46&#45;&gt;47</title>\n<path fill=\"none\" stroke=\"#000000\" d=\"M2330.5001,-88.9777C2323.2467,-80.0039 2315.4103,-70.3089 2308.1244,-61.295\"/>\n<polygon fill=\"#000000\" stroke=\"#000000\" points=\"2310.6288,-58.8255 2301.6205,-53.2485 2305.1847,-63.2258 2310.6288,-58.8255\"/>\n</g>\n<!-- 48 -->\n<g id=\"node49\" class=\"node\">\n<title>48</title>\n<polygon fill=\"none\" stroke=\"#000000\" points=\"2442,-53 2344,-53 2344,0 2442,0 2442,-53\"/>\n<text text-anchor=\"middle\" x=\"2393\" y=\"-37.8\" font-family=\"Times,serif\" font-size=\"14.00\" fill=\"#000000\">gini = 0.194</text>\n<text text-anchor=\"middle\" x=\"2393\" y=\"-22.8\" font-family=\"Times,serif\" font-size=\"14.00\" fill=\"#000000\">samples = 46</text>\n<text text-anchor=\"middle\" x=\"2393\" y=\"-7.8\" font-family=\"Times,serif\" font-size=\"14.00\" fill=\"#000000\">value = [5, 41]</text>\n</g>\n<!-- 46&#45;&gt;48 -->\n<g id=\"edge48\" class=\"edge\">\n<title>46&#45;&gt;48</title>\n<path fill=\"none\" stroke=\"#000000\" d=\"M2370.3397,-88.9777C2373.4284,-80.4617 2376.7526,-71.2963 2379.8778,-62.6798\"/>\n<polygon fill=\"#000000\" stroke=\"#000000\" points=\"2383.1791,-63.8426 2383.2985,-53.2485 2376.5985,-61.4559 2383.1791,-63.8426\"/>\n</g>\n<!-- 50 -->\n<g id=\"node51\" class=\"node\">\n<title>50</title>\n<polygon fill=\"none\" stroke=\"#000000\" points=\"2565.5,-53 2460.5,-53 2460.5,0 2565.5,0 2565.5,-53\"/>\n<text text-anchor=\"middle\" x=\"2513\" y=\"-37.8\" font-family=\"Times,serif\" font-size=\"14.00\" fill=\"#000000\">gini = 0.469</text>\n<text text-anchor=\"middle\" x=\"2513\" y=\"-22.8\" font-family=\"Times,serif\" font-size=\"14.00\" fill=\"#000000\">samples = 85</text>\n<text text-anchor=\"middle\" x=\"2513\" y=\"-7.8\" font-family=\"Times,serif\" font-size=\"14.00\" fill=\"#000000\">value = [32, 53]</text>\n</g>\n<!-- 49&#45;&gt;50 -->\n<g id=\"edge50\" class=\"edge\">\n<title>49&#45;&gt;50</title>\n<path fill=\"none\" stroke=\"#000000\" d=\"M2513,-88.9777C2513,-80.7364 2513,-71.887 2513,-63.5153\"/>\n<polygon fill=\"#000000\" stroke=\"#000000\" points=\"2516.5001,-63.2484 2513,-53.2485 2509.5001,-63.2485 2516.5001,-63.2484\"/>\n</g>\n<!-- 51 -->\n<g id=\"node52\" class=\"node\">\n<title>51</title>\n<polygon fill=\"none\" stroke=\"#000000\" points=\"2688.5,-53 2583.5,-53 2583.5,0 2688.5,0 2688.5,-53\"/>\n<text text-anchor=\"middle\" x=\"2636\" y=\"-37.8\" font-family=\"Times,serif\" font-size=\"14.00\" fill=\"#000000\">gini = 0.487</text>\n<text text-anchor=\"middle\" x=\"2636\" y=\"-22.8\" font-family=\"Times,serif\" font-size=\"14.00\" fill=\"#000000\">samples = 88</text>\n<text text-anchor=\"middle\" x=\"2636\" y=\"-7.8\" font-family=\"Times,serif\" font-size=\"14.00\" fill=\"#000000\">value = [51, 37]</text>\n</g>\n<!-- 49&#45;&gt;51 -->\n<g id=\"edge51\" class=\"edge\">\n<title>49&#45;&gt;51</title>\n<path fill=\"none\" stroke=\"#000000\" d=\"M2556.3652,-88.9777C2568.5036,-79.4545 2581.6772,-69.1191 2593.7501,-59.6473\"/>\n<polygon fill=\"#000000\" stroke=\"#000000\" points=\"2596.1989,-62.1748 2601.9061,-53.2485 2591.878,-56.6674 2596.1989,-62.1748\"/>\n</g>\n<!-- 53 -->\n<g id=\"node54\" class=\"node\">\n<title>53</title>\n<polygon fill=\"none\" stroke=\"#000000\" points=\"3210.5,-469 3099.5,-469 3099.5,-401 3210.5,-401 3210.5,-469\"/>\n<text text-anchor=\"middle\" x=\"3155\" y=\"-453.8\" font-family=\"Times,serif\" font-size=\"14.00\" fill=\"#000000\">alcohol &lt;= 11.85</text>\n<text text-anchor=\"middle\" x=\"3155\" y=\"-438.8\" font-family=\"Times,serif\" font-size=\"14.00\" fill=\"#000000\">gini = 0.499</text>\n<text text-anchor=\"middle\" x=\"3155\" y=\"-423.8\" font-family=\"Times,serif\" font-size=\"14.00\" fill=\"#000000\">samples = 90</text>\n<text text-anchor=\"middle\" x=\"3155\" y=\"-408.8\" font-family=\"Times,serif\" font-size=\"14.00\" fill=\"#000000\">value = [47, 43]</text>\n</g>\n<!-- 52&#45;&gt;53 -->\n<g id=\"edge53\" class=\"edge\">\n<title>52&#45;&gt;53</title>\n<path fill=\"none\" stroke=\"#000000\" d=\"M3155,-504.9465C3155,-496.776 3155,-487.9318 3155,-479.3697\"/>\n<polygon fill=\"#000000\" stroke=\"#000000\" points=\"3158.5001,-479.13 3155,-469.13 3151.5001,-479.13 3158.5001,-479.13\"/>\n</g>\n<!-- 72 -->\n<g id=\"node73\" class=\"node\">\n<title>72</title>\n<polygon fill=\"none\" stroke=\"#000000\" points=\"4086.5,-469 3961.5,-469 3961.5,-401 4086.5,-401 4086.5,-469\"/>\n<text text-anchor=\"middle\" x=\"4024\" y=\"-453.8\" font-family=\"Times,serif\" font-size=\"14.00\" fill=\"#000000\">alcohol &lt;= 11.15</text>\n<text text-anchor=\"middle\" x=\"4024\" y=\"-438.8\" font-family=\"Times,serif\" font-size=\"14.00\" fill=\"#000000\">gini = 0.232</text>\n<text text-anchor=\"middle\" x=\"4024\" y=\"-423.8\" font-family=\"Times,serif\" font-size=\"14.00\" fill=\"#000000\">samples = 1234</text>\n<text text-anchor=\"middle\" x=\"4024\" y=\"-408.8\" font-family=\"Times,serif\" font-size=\"14.00\" fill=\"#000000\">value = [165, 1069]</text>\n</g>\n<!-- 52&#45;&gt;72 -->\n<g id=\"edge72\" class=\"edge\">\n<title>52&#45;&gt;72</title>\n<path fill=\"none\" stroke=\"#000000\" d=\"M3237.5369,-529.1222C3406.6789,-508.8796 3790.2255,-462.9776 3950.9695,-443.7401\"/>\n<polygon fill=\"#000000\" stroke=\"#000000\" points=\"3951.7174,-447.1757 3961.2306,-442.5121 3950.8855,-440.2253 3951.7174,-447.1757\"/>\n</g>\n<!-- 54 -->\n<g id=\"node55\" class=\"node\">\n<title>54</title>\n<polygon fill=\"none\" stroke=\"#000000\" points=\"3155,-365 3003,-365 3003,-297 3155,-297 3155,-365\"/>\n<text text-anchor=\"middle\" x=\"3079\" y=\"-349.8\" font-family=\"Times,serif\" font-size=\"14.00\" fill=\"#000000\">volatile.acidity &lt;= 0.355</text>\n<text text-anchor=\"middle\" x=\"3079\" y=\"-334.8\" font-family=\"Times,serif\" font-size=\"14.00\" fill=\"#000000\">gini = 0.401</text>\n<text text-anchor=\"middle\" x=\"3079\" y=\"-319.8\" font-family=\"Times,serif\" font-size=\"14.00\" fill=\"#000000\">samples = 54</text>\n<text text-anchor=\"middle\" x=\"3079\" y=\"-304.8\" font-family=\"Times,serif\" font-size=\"14.00\" fill=\"#000000\">value = [39, 15]</text>\n</g>\n<!-- 53&#45;&gt;54 -->\n<g id=\"edge54\" class=\"edge\">\n<title>53&#45;&gt;54</title>\n<path fill=\"none\" stroke=\"#000000\" d=\"M3130.1148,-400.9465C3123.6847,-392.1475 3116.6837,-382.5672 3109.9841,-373.3993\"/>\n<polygon fill=\"#000000\" stroke=\"#000000\" points=\"3112.6672,-371.1389 3103.9412,-365.13 3107.0155,-375.269 3112.6672,-371.1389\"/>\n</g>\n<!-- 63 -->\n<g id=\"node64\" class=\"node\">\n<title>63</title>\n<polygon fill=\"none\" stroke=\"#000000\" points=\"3287,-365 3173,-365 3173,-297 3287,-297 3287,-365\"/>\n<text text-anchor=\"middle\" x=\"3230\" y=\"-349.8\" font-family=\"Times,serif\" font-size=\"14.00\" fill=\"#000000\">chlorides &lt;= 16.0</text>\n<text text-anchor=\"middle\" x=\"3230\" y=\"-334.8\" font-family=\"Times,serif\" font-size=\"14.00\" fill=\"#000000\">gini = 0.346</text>\n<text text-anchor=\"middle\" x=\"3230\" y=\"-319.8\" font-family=\"Times,serif\" font-size=\"14.00\" fill=\"#000000\">samples = 36</text>\n<text text-anchor=\"middle\" x=\"3230\" y=\"-304.8\" font-family=\"Times,serif\" font-size=\"14.00\" fill=\"#000000\">value = [8, 28]</text>\n</g>\n<!-- 53&#45;&gt;63 -->\n<g id=\"edge63\" class=\"edge\">\n<title>53&#45;&gt;63</title>\n<path fill=\"none\" stroke=\"#000000\" d=\"M3179.5578,-400.9465C3185.9032,-392.1475 3192.8121,-382.5672 3199.4236,-373.3993\"/>\n<polygon fill=\"#000000\" stroke=\"#000000\" points=\"3202.3766,-375.2882 3205.387,-365.13 3196.6989,-371.1937 3202.3766,-375.2882\"/>\n</g>\n<!-- 55 -->\n<g id=\"node56\" class=\"node\">\n<title>55</title>\n<polygon fill=\"none\" stroke=\"#000000\" points=\"3030.5,-261 2897.5,-261 2897.5,-193 3030.5,-193 3030.5,-261\"/>\n<text text-anchor=\"middle\" x=\"2964\" y=\"-245.8\" font-family=\"Times,serif\" font-size=\"14.00\" fill=\"#000000\">fixed.acidity &lt;= 7.05</text>\n<text text-anchor=\"middle\" x=\"2964\" y=\"-230.8\" font-family=\"Times,serif\" font-size=\"14.00\" fill=\"#000000\">gini = 0.478</text>\n<text text-anchor=\"middle\" x=\"2964\" y=\"-215.8\" font-family=\"Times,serif\" font-size=\"14.00\" fill=\"#000000\">samples = 38</text>\n<text text-anchor=\"middle\" x=\"2964\" y=\"-200.8\" font-family=\"Times,serif\" font-size=\"14.00\" fill=\"#000000\">value = [23, 15]</text>\n</g>\n<!-- 54&#45;&gt;55 -->\n<g id=\"edge55\" class=\"edge\">\n<title>54&#45;&gt;55</title>\n<path fill=\"none\" stroke=\"#000000\" d=\"M3041.3447,-296.9465C3031.1187,-287.6986 3019.9382,-277.5876 3009.3359,-267.9994\"/>\n<polygon fill=\"#000000\" stroke=\"#000000\" points=\"3011.5044,-265.2416 3001.7399,-261.13 3006.8092,-270.4334 3011.5044,-265.2416\"/>\n</g>\n<!-- 62 -->\n<g id=\"node63\" class=\"node\">\n<title>62</title>\n<polygon fill=\"none\" stroke=\"#000000\" points=\"3147,-253.5 3049,-253.5 3049,-200.5 3147,-200.5 3147,-253.5\"/>\n<text text-anchor=\"middle\" x=\"3098\" y=\"-238.3\" font-family=\"Times,serif\" font-size=\"14.00\" fill=\"#000000\">gini = 0.0</text>\n<text text-anchor=\"middle\" x=\"3098\" y=\"-223.3\" font-family=\"Times,serif\" font-size=\"14.00\" fill=\"#000000\">samples = 16</text>\n<text text-anchor=\"middle\" x=\"3098\" y=\"-208.3\" font-family=\"Times,serif\" font-size=\"14.00\" fill=\"#000000\">value = [16, 0]</text>\n</g>\n<!-- 54&#45;&gt;62 -->\n<g id=\"edge62\" class=\"edge\">\n<title>54&#45;&gt;62</title>\n<path fill=\"none\" stroke=\"#000000\" d=\"M3085.2213,-296.9465C3087.1733,-286.2621 3089.3357,-274.4254 3091.3182,-263.5742\"/>\n<polygon fill=\"#000000\" stroke=\"#000000\" points=\"3094.7967,-264.0084 3093.151,-253.5422 3087.9107,-262.7503 3094.7967,-264.0084\"/>\n</g>\n<!-- 56 -->\n<g id=\"node57\" class=\"node\">\n<title>56</title>\n<polygon fill=\"none\" stroke=\"#000000\" points=\"2923,-157 2765,-157 2765,-89 2923,-89 2923,-157\"/>\n<text text-anchor=\"middle\" x=\"2844\" y=\"-141.8\" font-family=\"Times,serif\" font-size=\"14.00\" fill=\"#000000\">free.sulfur.dioxide &lt;= 7.5</text>\n<text text-anchor=\"middle\" x=\"2844\" y=\"-126.8\" font-family=\"Times,serif\" font-size=\"14.00\" fill=\"#000000\">gini = 0.444</text>\n<text text-anchor=\"middle\" x=\"2844\" y=\"-111.8\" font-family=\"Times,serif\" font-size=\"14.00\" fill=\"#000000\">samples = 15</text>\n<text text-anchor=\"middle\" x=\"2844\" y=\"-96.8\" font-family=\"Times,serif\" font-size=\"14.00\" fill=\"#000000\">value = [5, 10]</text>\n</g>\n<!-- 55&#45;&gt;56 -->\n<g id=\"edge56\" class=\"edge\">\n<title>55&#45;&gt;56</title>\n<path fill=\"none\" stroke=\"#000000\" d=\"M2924.7075,-192.9465C2913.9333,-183.6088 2902.1436,-173.3911 2890.985,-163.7203\"/>\n<polygon fill=\"#000000\" stroke=\"#000000\" points=\"2893.2299,-161.0344 2883.3808,-157.13 2888.6454,-166.3243 2893.2299,-161.0344\"/>\n</g>\n<!-- 59 -->\n<g id=\"node60\" class=\"node\">\n<title>59</title>\n<polygon fill=\"none\" stroke=\"#000000\" points=\"3051,-157 2941,-157 2941,-89 3051,-89 3051,-157\"/>\n<text text-anchor=\"middle\" x=\"2996\" y=\"-141.8\" font-family=\"Times,serif\" font-size=\"14.00\" fill=\"#000000\">density &lt;= 0.994</text>\n<text text-anchor=\"middle\" x=\"2996\" y=\"-126.8\" font-family=\"Times,serif\" font-size=\"14.00\" fill=\"#000000\">gini = 0.34</text>\n<text text-anchor=\"middle\" x=\"2996\" y=\"-111.8\" font-family=\"Times,serif\" font-size=\"14.00\" fill=\"#000000\">samples = 23</text>\n<text text-anchor=\"middle\" x=\"2996\" y=\"-96.8\" font-family=\"Times,serif\" font-size=\"14.00\" fill=\"#000000\">value = [18, 5]</text>\n</g>\n<!-- 55&#45;&gt;59 -->\n<g id=\"edge59\" class=\"edge\">\n<title>55&#45;&gt;59</title>\n<path fill=\"none\" stroke=\"#000000\" d=\"M2974.478,-192.9465C2977.0472,-184.5965 2979.833,-175.5427 2982.5214,-166.8056\"/>\n<polygon fill=\"#000000\" stroke=\"#000000\" points=\"2985.9028,-167.7171 2985.4985,-157.13 2979.2123,-165.6585 2985.9028,-167.7171\"/>\n</g>\n<!-- 57 -->\n<g id=\"node58\" class=\"node\">\n<title>57</title>\n<polygon fill=\"none\" stroke=\"#000000\" points=\"2799,-53 2707,-53 2707,0 2799,0 2799,-53\"/>\n<text text-anchor=\"middle\" x=\"2753\" y=\"-37.8\" font-family=\"Times,serif\" font-size=\"14.00\" fill=\"#000000\">gini = 0.469</text>\n<text text-anchor=\"middle\" x=\"2753\" y=\"-22.8\" font-family=\"Times,serif\" font-size=\"14.00\" fill=\"#000000\">samples = 8</text>\n<text text-anchor=\"middle\" x=\"2753\" y=\"-7.8\" font-family=\"Times,serif\" font-size=\"14.00\" fill=\"#000000\">value = [5, 3]</text>\n</g>\n<!-- 56&#45;&gt;57 -->\n<g id=\"edge57\" class=\"edge\">\n<title>56&#45;&gt;57</title>\n<path fill=\"none\" stroke=\"#000000\" d=\"M2811.9168,-88.9777C2803.2817,-79.8207 2793.9386,-69.9129 2785.2922,-60.744\"/>\n<polygon fill=\"#000000\" stroke=\"#000000\" points=\"2787.6311,-58.1226 2778.224,-53.2485 2782.5383,-62.9251 2787.6311,-58.1226\"/>\n</g>\n<!-- 58 -->\n<g id=\"node59\" class=\"node\">\n<title>58</title>\n<polygon fill=\"none\" stroke=\"#000000\" points=\"2909,-53 2817,-53 2817,0 2909,0 2909,-53\"/>\n<text text-anchor=\"middle\" x=\"2863\" y=\"-37.8\" font-family=\"Times,serif\" font-size=\"14.00\" fill=\"#000000\">gini = 0.0</text>\n<text text-anchor=\"middle\" x=\"2863\" y=\"-22.8\" font-family=\"Times,serif\" font-size=\"14.00\" fill=\"#000000\">samples = 7</text>\n<text text-anchor=\"middle\" x=\"2863\" y=\"-7.8\" font-family=\"Times,serif\" font-size=\"14.00\" fill=\"#000000\">value = [0, 7]</text>\n</g>\n<!-- 56&#45;&gt;58 -->\n<g id=\"edge58\" class=\"edge\">\n<title>56&#45;&gt;58</title>\n<path fill=\"none\" stroke=\"#000000\" d=\"M2850.6987,-88.9777C2852.3394,-80.6449 2854.1024,-71.6903 2855.7669,-63.2364\"/>\n<polygon fill=\"#000000\" stroke=\"#000000\" points=\"2859.2356,-63.7363 2857.7335,-53.2485 2852.3675,-62.3839 2859.2356,-63.7363\"/>\n</g>\n<!-- 60 -->\n<g id=\"node61\" class=\"node\">\n<title>60</title>\n<polygon fill=\"none\" stroke=\"#000000\" points=\"3025,-53 2927,-53 2927,0 3025,0 3025,-53\"/>\n<text text-anchor=\"middle\" x=\"2976\" y=\"-37.8\" font-family=\"Times,serif\" font-size=\"14.00\" fill=\"#000000\">gini = 0.188</text>\n<text text-anchor=\"middle\" x=\"2976\" y=\"-22.8\" font-family=\"Times,serif\" font-size=\"14.00\" fill=\"#000000\">samples = 19</text>\n<text text-anchor=\"middle\" x=\"2976\" y=\"-7.8\" font-family=\"Times,serif\" font-size=\"14.00\" fill=\"#000000\">value = [17, 2]</text>\n</g>\n<!-- 59&#45;&gt;60 -->\n<g id=\"edge60\" class=\"edge\">\n<title>59&#45;&gt;60</title>\n<path fill=\"none\" stroke=\"#000000\" d=\"M2988.9487,-88.9777C2987.2217,-80.6449 2985.3659,-71.6903 2983.6138,-63.2364\"/>\n<polygon fill=\"#000000\" stroke=\"#000000\" points=\"2987.0004,-62.3301 2981.5437,-53.2485 2980.146,-63.7507 2987.0004,-62.3301\"/>\n</g>\n<!-- 61 -->\n<g id=\"node62\" class=\"node\">\n<title>61</title>\n<polygon fill=\"none\" stroke=\"#000000\" points=\"3135,-53 3043,-53 3043,0 3135,0 3135,-53\"/>\n<text text-anchor=\"middle\" x=\"3089\" y=\"-37.8\" font-family=\"Times,serif\" font-size=\"14.00\" fill=\"#000000\">gini = 0.375</text>\n<text text-anchor=\"middle\" x=\"3089\" y=\"-22.8\" font-family=\"Times,serif\" font-size=\"14.00\" fill=\"#000000\">samples = 4</text>\n<text text-anchor=\"middle\" x=\"3089\" y=\"-7.8\" font-family=\"Times,serif\" font-size=\"14.00\" fill=\"#000000\">value = [1, 3]</text>\n</g>\n<!-- 59&#45;&gt;61 -->\n<g id=\"edge61\" class=\"edge\">\n<title>59&#45;&gt;61</title>\n<path fill=\"none\" stroke=\"#000000\" d=\"M3028.7883,-88.9777C3037.7014,-79.7292 3047.3527,-69.7147 3056.2629,-60.4691\"/>\n<polygon fill=\"#000000\" stroke=\"#000000\" points=\"3058.8025,-62.8777 3063.2217,-53.2485 3053.7622,-58.0202 3058.8025,-62.8777\"/>\n</g>\n<!-- 64 -->\n<g id=\"node65\" class=\"node\">\n<title>64</title>\n<polygon fill=\"none\" stroke=\"#000000\" points=\"3266,-253.5 3174,-253.5 3174,-200.5 3266,-200.5 3266,-253.5\"/>\n<text text-anchor=\"middle\" x=\"3220\" y=\"-238.3\" font-family=\"Times,serif\" font-size=\"14.00\" fill=\"#000000\">gini = 0.0</text>\n<text text-anchor=\"middle\" x=\"3220\" y=\"-223.3\" font-family=\"Times,serif\" font-size=\"14.00\" fill=\"#000000\">samples = 2</text>\n<text text-anchor=\"middle\" x=\"3220\" y=\"-208.3\" font-family=\"Times,serif\" font-size=\"14.00\" fill=\"#000000\">value = [2, 0]</text>\n</g>\n<!-- 63&#45;&gt;64 -->\n<g id=\"edge64\" class=\"edge\">\n<title>63&#45;&gt;64</title>\n<path fill=\"none\" stroke=\"#000000\" d=\"M3226.7256,-296.9465C3225.6983,-286.2621 3224.5601,-274.4254 3223.5168,-263.5742\"/>\n<polygon fill=\"#000000\" stroke=\"#000000\" points=\"3226.9933,-263.1612 3222.5521,-253.5422 3220.0254,-263.8313 3226.9933,-263.1612\"/>\n</g>\n<!-- 65 -->\n<g id=\"node66\" class=\"node\">\n<title>65</title>\n<polygon fill=\"none\" stroke=\"#000000\" points=\"3406,-261 3284,-261 3284,-193 3406,-193 3406,-261\"/>\n<text text-anchor=\"middle\" x=\"3345\" y=\"-245.8\" font-family=\"Times,serif\" font-size=\"14.00\" fill=\"#000000\">sulphates &lt;= 0.555</text>\n<text text-anchor=\"middle\" x=\"3345\" y=\"-230.8\" font-family=\"Times,serif\" font-size=\"14.00\" fill=\"#000000\">gini = 0.291</text>\n<text text-anchor=\"middle\" x=\"3345\" y=\"-215.8\" font-family=\"Times,serif\" font-size=\"14.00\" fill=\"#000000\">samples = 34</text>\n<text text-anchor=\"middle\" x=\"3345\" y=\"-200.8\" font-family=\"Times,serif\" font-size=\"14.00\" fill=\"#000000\">value = [6, 28]</text>\n</g>\n<!-- 63&#45;&gt;65 -->\n<g id=\"edge65\" class=\"edge\">\n<title>63&#45;&gt;65</title>\n<path fill=\"none\" stroke=\"#000000\" d=\"M3267.6553,-296.9465C3277.8813,-287.6986 3289.0618,-277.5876 3299.6641,-267.9994\"/>\n<polygon fill=\"#000000\" stroke=\"#000000\" points=\"3302.1908,-270.4334 3307.2601,-261.13 3297.4956,-265.2416 3302.1908,-270.4334\"/>\n</g>\n<!-- 66 -->\n<g id=\"node67\" class=\"node\">\n<title>66</title>\n<polygon fill=\"none\" stroke=\"#000000\" points=\"3376,-157 3208,-157 3208,-89 3376,-89 3376,-157\"/>\n<text text-anchor=\"middle\" x=\"3292\" y=\"-141.8\" font-family=\"Times,serif\" font-size=\"14.00\" fill=\"#000000\">total.sulfur.dioxide &lt;= 21.5</text>\n<text text-anchor=\"middle\" x=\"3292\" y=\"-126.8\" font-family=\"Times,serif\" font-size=\"14.00\" fill=\"#000000\">gini = 0.185</text>\n<text text-anchor=\"middle\" x=\"3292\" y=\"-111.8\" font-family=\"Times,serif\" font-size=\"14.00\" fill=\"#000000\">samples = 29</text>\n<text text-anchor=\"middle\" x=\"3292\" y=\"-96.8\" font-family=\"Times,serif\" font-size=\"14.00\" fill=\"#000000\">value = [3, 26]</text>\n</g>\n<!-- 65&#45;&gt;66 -->\n<g id=\"edge66\" class=\"edge\">\n<title>65&#45;&gt;66</title>\n<path fill=\"none\" stroke=\"#000000\" d=\"M3327.6458,-192.9465C3323.299,-184.4169 3318.578,-175.153 3314.037,-166.2424\"/>\n<polygon fill=\"#000000\" stroke=\"#000000\" points=\"3317.0522,-164.4505 3309.3932,-157.13 3310.8154,-167.629 3317.0522,-164.4505\"/>\n</g>\n<!-- 69 -->\n<g id=\"node70\" class=\"node\">\n<title>69</title>\n<polygon fill=\"none\" stroke=\"#000000\" points=\"3498,-157 3394,-157 3394,-89 3498,-89 3498,-157\"/>\n<text text-anchor=\"middle\" x=\"3446\" y=\"-141.8\" font-family=\"Times,serif\" font-size=\"14.00\" fill=\"#000000\">alcohol &lt;= 12.5</text>\n<text text-anchor=\"middle\" x=\"3446\" y=\"-126.8\" font-family=\"Times,serif\" font-size=\"14.00\" fill=\"#000000\">gini = 0.48</text>\n<text text-anchor=\"middle\" x=\"3446\" y=\"-111.8\" font-family=\"Times,serif\" font-size=\"14.00\" fill=\"#000000\">samples = 5</text>\n<text text-anchor=\"middle\" x=\"3446\" y=\"-96.8\" font-family=\"Times,serif\" font-size=\"14.00\" fill=\"#000000\">value = [3, 2]</text>\n</g>\n<!-- 65&#45;&gt;69 -->\n<g id=\"edge69\" class=\"edge\">\n<title>65&#45;&gt;69</title>\n<path fill=\"none\" stroke=\"#000000\" d=\"M3378.0712,-192.9465C3386.8779,-183.8782 3396.4907,-173.9799 3405.6403,-164.5585\"/>\n<polygon fill=\"#000000\" stroke=\"#000000\" points=\"3408.3985,-166.7422 3412.8545,-157.13 3403.3768,-161.8654 3408.3985,-166.7422\"/>\n</g>\n<!-- 67 -->\n<g id=\"node68\" class=\"node\">\n<title>67</title>\n<polygon fill=\"none\" stroke=\"#000000\" points=\"3245,-53 3153,-53 3153,0 3245,0 3245,-53\"/>\n<text text-anchor=\"middle\" x=\"3199\" y=\"-37.8\" font-family=\"Times,serif\" font-size=\"14.00\" fill=\"#000000\">gini = 0.0</text>\n<text text-anchor=\"middle\" x=\"3199\" y=\"-22.8\" font-family=\"Times,serif\" font-size=\"14.00\" fill=\"#000000\">samples = 1</text>\n<text text-anchor=\"middle\" x=\"3199\" y=\"-7.8\" font-family=\"Times,serif\" font-size=\"14.00\" fill=\"#000000\">value = [1, 0]</text>\n</g>\n<!-- 66&#45;&gt;67 -->\n<g id=\"edge67\" class=\"edge\">\n<title>66&#45;&gt;67</title>\n<path fill=\"none\" stroke=\"#000000\" d=\"M3259.2117,-88.9777C3250.2986,-79.7292 3240.6473,-69.7147 3231.7371,-60.4691\"/>\n<polygon fill=\"#000000\" stroke=\"#000000\" points=\"3234.2378,-58.0202 3224.7783,-53.2485 3229.1975,-62.8777 3234.2378,-58.0202\"/>\n</g>\n<!-- 68 -->\n<g id=\"node69\" class=\"node\">\n<title>68</title>\n<polygon fill=\"none\" stroke=\"#000000\" points=\"3361,-53 3263,-53 3263,0 3361,0 3361,-53\"/>\n<text text-anchor=\"middle\" x=\"3312\" y=\"-37.8\" font-family=\"Times,serif\" font-size=\"14.00\" fill=\"#000000\">gini = 0.133</text>\n<text text-anchor=\"middle\" x=\"3312\" y=\"-22.8\" font-family=\"Times,serif\" font-size=\"14.00\" fill=\"#000000\">samples = 28</text>\n<text text-anchor=\"middle\" x=\"3312\" y=\"-7.8\" font-family=\"Times,serif\" font-size=\"14.00\" fill=\"#000000\">value = [2, 26]</text>\n</g>\n<!-- 66&#45;&gt;68 -->\n<g id=\"edge68\" class=\"edge\">\n<title>66&#45;&gt;68</title>\n<path fill=\"none\" stroke=\"#000000\" d=\"M3299.0513,-88.9777C3300.7783,-80.6449 3302.6341,-71.6903 3304.3862,-63.2364\"/>\n<polygon fill=\"#000000\" stroke=\"#000000\" points=\"3307.854,-63.7507 3306.4563,-53.2485 3300.9996,-62.3301 3307.854,-63.7507\"/>\n</g>\n<!-- 70 -->\n<g id=\"node71\" class=\"node\">\n<title>70</title>\n<polygon fill=\"none\" stroke=\"#000000\" points=\"3471,-53 3379,-53 3379,0 3471,0 3471,-53\"/>\n<text text-anchor=\"middle\" x=\"3425\" y=\"-37.8\" font-family=\"Times,serif\" font-size=\"14.00\" fill=\"#000000\">gini = 0.0</text>\n<text text-anchor=\"middle\" x=\"3425\" y=\"-22.8\" font-family=\"Times,serif\" font-size=\"14.00\" fill=\"#000000\">samples = 3</text>\n<text text-anchor=\"middle\" x=\"3425\" y=\"-7.8\" font-family=\"Times,serif\" font-size=\"14.00\" fill=\"#000000\">value = [3, 0]</text>\n</g>\n<!-- 69&#45;&gt;70 -->\n<g id=\"edge70\" class=\"edge\">\n<title>69&#45;&gt;70</title>\n<path fill=\"none\" stroke=\"#000000\" d=\"M3438.5962,-88.9777C3436.7828,-80.6449 3434.8341,-71.6903 3432.9945,-63.2364\"/>\n<polygon fill=\"#000000\" stroke=\"#000000\" points=\"3436.3673,-62.2755 3430.8209,-53.2485 3429.5274,-63.7641 3436.3673,-62.2755\"/>\n</g>\n<!-- 71 -->\n<g id=\"node72\" class=\"node\">\n<title>71</title>\n<polygon fill=\"none\" stroke=\"#000000\" points=\"3581,-53 3489,-53 3489,0 3581,0 3581,-53\"/>\n<text text-anchor=\"middle\" x=\"3535\" y=\"-37.8\" font-family=\"Times,serif\" font-size=\"14.00\" fill=\"#000000\">gini = 0.0</text>\n<text text-anchor=\"middle\" x=\"3535\" y=\"-22.8\" font-family=\"Times,serif\" font-size=\"14.00\" fill=\"#000000\">samples = 2</text>\n<text text-anchor=\"middle\" x=\"3535\" y=\"-7.8\" font-family=\"Times,serif\" font-size=\"14.00\" fill=\"#000000\">value = [0, 2]</text>\n</g>\n<!-- 69&#45;&gt;71 -->\n<g id=\"edge71\" class=\"edge\">\n<title>69&#45;&gt;71</title>\n<path fill=\"none\" stroke=\"#000000\" d=\"M3477.3781,-88.9777C3485.8234,-79.8207 3494.9611,-69.9129 3503.4175,-60.744\"/>\n<polygon fill=\"#000000\" stroke=\"#000000\" points=\"3506.1236,-62.9723 3510.3304,-53.2485 3500.9779,-58.2266 3506.1236,-62.9723\"/>\n</g>\n<!-- 73 -->\n<g id=\"node74\" class=\"node\">\n<title>73</title>\n<polygon fill=\"none\" stroke=\"#000000\" points=\"4085,-365 3963,-365 3963,-297 4085,-297 4085,-365\"/>\n<text text-anchor=\"middle\" x=\"4024\" y=\"-349.8\" font-family=\"Times,serif\" font-size=\"14.00\" fill=\"#000000\">sulphates &lt;= 0.395</text>\n<text text-anchor=\"middle\" x=\"4024\" y=\"-334.8\" font-family=\"Times,serif\" font-size=\"14.00\" fill=\"#000000\">gini = 0.356</text>\n<text text-anchor=\"middle\" x=\"4024\" y=\"-319.8\" font-family=\"Times,serif\" font-size=\"14.00\" fill=\"#000000\">samples = 461</text>\n<text text-anchor=\"middle\" x=\"4024\" y=\"-304.8\" font-family=\"Times,serif\" font-size=\"14.00\" fill=\"#000000\">value = [107, 354]</text>\n</g>\n<!-- 72&#45;&gt;73 -->\n<g id=\"edge73\" class=\"edge\">\n<title>72&#45;&gt;73</title>\n<path fill=\"none\" stroke=\"#000000\" d=\"M4024,-400.9465C4024,-392.776 4024,-383.9318 4024,-375.3697\"/>\n<polygon fill=\"#000000\" stroke=\"#000000\" points=\"4027.5001,-375.13 4024,-365.13 4020.5001,-375.13 4027.5001,-375.13\"/>\n</g>\n<!-- 88 -->\n<g id=\"node89\" class=\"node\">\n<title>88</title>\n<polygon fill=\"none\" stroke=\"#000000\" points=\"4838.5,-365 4705.5,-365 4705.5,-297 4838.5,-297 4838.5,-365\"/>\n<text text-anchor=\"middle\" x=\"4772\" y=\"-349.8\" font-family=\"Times,serif\" font-size=\"14.00\" fill=\"#000000\">fixed.acidity &lt;= 8.55</text>\n<text text-anchor=\"middle\" x=\"4772\" y=\"-334.8\" font-family=\"Times,serif\" font-size=\"14.00\" fill=\"#000000\">gini = 0.139</text>\n<text text-anchor=\"middle\" x=\"4772\" y=\"-319.8\" font-family=\"Times,serif\" font-size=\"14.00\" fill=\"#000000\">samples = 773</text>\n<text text-anchor=\"middle\" x=\"4772\" y=\"-304.8\" font-family=\"Times,serif\" font-size=\"14.00\" fill=\"#000000\">value = [58, 715]</text>\n</g>\n<!-- 72&#45;&gt;88 -->\n<g id=\"edge88\" class=\"edge\">\n<title>72&#45;&gt;88</title>\n<path fill=\"none\" stroke=\"#000000\" d=\"M4086.8081,-426.2673C4223.4564,-407.2681 4547.3444,-362.2355 4695.5629,-341.6276\"/>\n<polygon fill=\"#000000\" stroke=\"#000000\" points=\"4696.0744,-345.0903 4705.4971,-340.2464 4695.1103,-338.157 4696.0744,-345.0903\"/>\n</g>\n<!-- 74 -->\n<g id=\"node75\" class=\"node\">\n<title>74</title>\n<polygon fill=\"none\" stroke=\"#000000\" points=\"4004,-261 3864,-261 3864,-193 4004,-193 4004,-261\"/>\n<text text-anchor=\"middle\" x=\"3934\" y=\"-245.8\" font-family=\"Times,serif\" font-size=\"14.00\" fill=\"#000000\">residual.sugar &lt;= 1.25</text>\n<text text-anchor=\"middle\" x=\"3934\" y=\"-230.8\" font-family=\"Times,serif\" font-size=\"14.00\" fill=\"#000000\">gini = 0.471</text>\n<text text-anchor=\"middle\" x=\"3934\" y=\"-215.8\" font-family=\"Times,serif\" font-size=\"14.00\" fill=\"#000000\">samples = 95</text>\n<text text-anchor=\"middle\" x=\"3934\" y=\"-200.8\" font-family=\"Times,serif\" font-size=\"14.00\" fill=\"#000000\">value = [36, 59]</text>\n</g>\n<!-- 73&#45;&gt;74 -->\n<g id=\"edge74\" class=\"edge\">\n<title>73&#45;&gt;74</title>\n<path fill=\"none\" stroke=\"#000000\" d=\"M3994.5306,-296.9465C3986.7607,-287.968 3978.2868,-278.1758 3970.2064,-268.8385\"/>\n<polygon fill=\"#000000\" stroke=\"#000000\" points=\"3972.726,-266.4014 3963.5356,-261.13 3967.4328,-270.982 3972.726,-266.4014\"/>\n</g>\n<!-- 81 -->\n<g id=\"node82\" class=\"node\">\n<title>81</title>\n<polygon fill=\"none\" stroke=\"#000000\" points=\"4243,-261 4103,-261 4103,-193 4243,-193 4243,-261\"/>\n<text text-anchor=\"middle\" x=\"4173\" y=\"-245.8\" font-family=\"Times,serif\" font-size=\"14.00\" fill=\"#000000\">residual.sugar &lt;= 1.95</text>\n<text text-anchor=\"middle\" x=\"4173\" y=\"-230.8\" font-family=\"Times,serif\" font-size=\"14.00\" fill=\"#000000\">gini = 0.313</text>\n<text text-anchor=\"middle\" x=\"4173\" y=\"-215.8\" font-family=\"Times,serif\" font-size=\"14.00\" fill=\"#000000\">samples = 366</text>\n<text text-anchor=\"middle\" x=\"4173\" y=\"-200.8\" font-family=\"Times,serif\" font-size=\"14.00\" fill=\"#000000\">value = [71, 295]</text>\n</g>\n<!-- 73&#45;&gt;81 -->\n<g id=\"edge81\" class=\"edge\">\n<title>73&#45;&gt;81</title>\n<path fill=\"none\" stroke=\"#000000\" d=\"M4072.7882,-296.9465C4086.5521,-287.3395 4101.6506,-276.8009 4115.8574,-266.8848\"/>\n<polygon fill=\"#000000\" stroke=\"#000000\" points=\"4117.9054,-269.7236 4124.1022,-261.13 4113.8989,-263.9835 4117.9054,-269.7236\"/>\n</g>\n<!-- 75 -->\n<g id=\"node76\" class=\"node\">\n<title>75</title>\n<polygon fill=\"none\" stroke=\"#000000\" points=\"3810.5,-157 3699.5,-157 3699.5,-89 3810.5,-89 3810.5,-157\"/>\n<text text-anchor=\"middle\" x=\"3755\" y=\"-141.8\" font-family=\"Times,serif\" font-size=\"14.00\" fill=\"#000000\">alcohol &lt;= 10.55</text>\n<text text-anchor=\"middle\" x=\"3755\" y=\"-126.8\" font-family=\"Times,serif\" font-size=\"14.00\" fill=\"#000000\">gini = 0.346</text>\n<text text-anchor=\"middle\" x=\"3755\" y=\"-111.8\" font-family=\"Times,serif\" font-size=\"14.00\" fill=\"#000000\">samples = 9</text>\n<text text-anchor=\"middle\" x=\"3755\" y=\"-96.8\" font-family=\"Times,serif\" font-size=\"14.00\" fill=\"#000000\">value = [7, 2]</text>\n</g>\n<!-- 74&#45;&gt;75 -->\n<g id=\"edge75\" class=\"edge\">\n<title>74&#45;&gt;75</title>\n<path fill=\"none\" stroke=\"#000000\" d=\"M3875.3887,-192.9465C3857.5137,-182.561 3837.7651,-171.087 3819.5216,-160.4874\"/>\n<polygon fill=\"#000000\" stroke=\"#000000\" points=\"3821.1063,-157.3603 3810.7014,-155.3628 3817.5897,-163.4129 3821.1063,-157.3603\"/>\n</g>\n<!-- 78 -->\n<g id=\"node79\" class=\"node\">\n<title>78</title>\n<polygon fill=\"none\" stroke=\"#000000\" points=\"4021.5,-157 3846.5,-157 3846.5,-89 4021.5,-89 4021.5,-157\"/>\n<text text-anchor=\"middle\" x=\"3934\" y=\"-141.8\" font-family=\"Times,serif\" font-size=\"14.00\" fill=\"#000000\">total.sulfur.dioxide &lt;= 134.5</text>\n<text text-anchor=\"middle\" x=\"3934\" y=\"-126.8\" font-family=\"Times,serif\" font-size=\"14.00\" fill=\"#000000\">gini = 0.447</text>\n<text text-anchor=\"middle\" x=\"3934\" y=\"-111.8\" font-family=\"Times,serif\" font-size=\"14.00\" fill=\"#000000\">samples = 86</text>\n<text text-anchor=\"middle\" x=\"3934\" y=\"-96.8\" font-family=\"Times,serif\" font-size=\"14.00\" fill=\"#000000\">value = [29, 57]</text>\n</g>\n<!-- 74&#45;&gt;78 -->\n<g id=\"edge78\" class=\"edge\">\n<title>74&#45;&gt;78</title>\n<path fill=\"none\" stroke=\"#000000\" d=\"M3934,-192.9465C3934,-184.776 3934,-175.9318 3934,-167.3697\"/>\n<polygon fill=\"#000000\" stroke=\"#000000\" points=\"3937.5001,-167.13 3934,-157.13 3930.5001,-167.13 3937.5001,-167.13\"/>\n</g>\n<!-- 76 -->\n<g id=\"node77\" class=\"node\">\n<title>76</title>\n<polygon fill=\"none\" stroke=\"#000000\" points=\"3691,-53 3599,-53 3599,0 3691,0 3691,-53\"/>\n<text text-anchor=\"middle\" x=\"3645\" y=\"-37.8\" font-family=\"Times,serif\" font-size=\"14.00\" fill=\"#000000\">gini = 0.444</text>\n<text text-anchor=\"middle\" x=\"3645\" y=\"-22.8\" font-family=\"Times,serif\" font-size=\"14.00\" fill=\"#000000\">samples = 3</text>\n<text text-anchor=\"middle\" x=\"3645\" y=\"-7.8\" font-family=\"Times,serif\" font-size=\"14.00\" fill=\"#000000\">value = [1, 2]</text>\n</g>\n<!-- 75&#45;&gt;76 -->\n<g id=\"edge76\" class=\"edge\">\n<title>75&#45;&gt;76</title>\n<path fill=\"none\" stroke=\"#000000\" d=\"M3716.2181,-88.9777C3705.467,-79.546 3693.8078,-69.3178 3683.0962,-59.9208\"/>\n<polygon fill=\"#000000\" stroke=\"#000000\" points=\"3685.316,-57.2122 3675.4905,-53.2485 3680.6996,-62.4743 3685.316,-57.2122\"/>\n</g>\n<!-- 77 -->\n<g id=\"node78\" class=\"node\">\n<title>77</title>\n<polygon fill=\"none\" stroke=\"#000000\" points=\"3801,-53 3709,-53 3709,0 3801,0 3801,-53\"/>\n<text text-anchor=\"middle\" x=\"3755\" y=\"-37.8\" font-family=\"Times,serif\" font-size=\"14.00\" fill=\"#000000\">gini = 0.0</text>\n<text text-anchor=\"middle\" x=\"3755\" y=\"-22.8\" font-family=\"Times,serif\" font-size=\"14.00\" fill=\"#000000\">samples = 6</text>\n<text text-anchor=\"middle\" x=\"3755\" y=\"-7.8\" font-family=\"Times,serif\" font-size=\"14.00\" fill=\"#000000\">value = [6, 0]</text>\n</g>\n<!-- 75&#45;&gt;77 -->\n<g id=\"edge77\" class=\"edge\">\n<title>75&#45;&gt;77</title>\n<path fill=\"none\" stroke=\"#000000\" d=\"M3755,-88.9777C3755,-80.7364 3755,-71.887 3755,-63.5153\"/>\n<polygon fill=\"#000000\" stroke=\"#000000\" points=\"3758.5001,-63.2484 3755,-53.2485 3751.5001,-63.2485 3758.5001,-63.2484\"/>\n</g>\n<!-- 79 -->\n<g id=\"node80\" class=\"node\">\n<title>79</title>\n<polygon fill=\"none\" stroke=\"#000000\" points=\"3924.5,-53 3819.5,-53 3819.5,0 3924.5,0 3924.5,-53\"/>\n<text text-anchor=\"middle\" x=\"3872\" y=\"-37.8\" font-family=\"Times,serif\" font-size=\"14.00\" fill=\"#000000\">gini = 0.366</text>\n<text text-anchor=\"middle\" x=\"3872\" y=\"-22.8\" font-family=\"Times,serif\" font-size=\"14.00\" fill=\"#000000\">samples = 58</text>\n<text text-anchor=\"middle\" x=\"3872\" y=\"-7.8\" font-family=\"Times,serif\" font-size=\"14.00\" fill=\"#000000\">value = [14, 44]</text>\n</g>\n<!-- 78&#45;&gt;79 -->\n<g id=\"edge79\" class=\"edge\">\n<title>78&#45;&gt;79</title>\n<path fill=\"none\" stroke=\"#000000\" d=\"M3912.1411,-88.9777C3906.4932,-80.187 3900.4007,-70.7044 3894.7104,-61.8477\"/>\n<polygon fill=\"#000000\" stroke=\"#000000\" points=\"3897.5356,-59.7698 3889.1856,-53.2485 3891.6463,-63.5536 3897.5356,-59.7698\"/>\n</g>\n<!-- 80 -->\n<g id=\"node81\" class=\"node\">\n<title>80</title>\n<polygon fill=\"none\" stroke=\"#000000\" points=\"4047.5,-53 3942.5,-53 3942.5,0 4047.5,0 4047.5,-53\"/>\n<text text-anchor=\"middle\" x=\"3995\" y=\"-37.8\" font-family=\"Times,serif\" font-size=\"14.00\" fill=\"#000000\">gini = 0.497</text>\n<text text-anchor=\"middle\" x=\"3995\" y=\"-22.8\" font-family=\"Times,serif\" font-size=\"14.00\" fill=\"#000000\">samples = 28</text>\n<text text-anchor=\"middle\" x=\"3995\" y=\"-7.8\" font-family=\"Times,serif\" font-size=\"14.00\" fill=\"#000000\">value = [15, 13]</text>\n</g>\n<!-- 78&#45;&gt;80 -->\n<g id=\"edge80\" class=\"edge\">\n<title>78&#45;&gt;80</title>\n<path fill=\"none\" stroke=\"#000000\" d=\"M3955.5063,-88.9777C3961.0631,-80.187 3967.0573,-70.7044 3972.6559,-61.8477\"/>\n<polygon fill=\"#000000\" stroke=\"#000000\" points=\"3975.7069,-63.5714 3978.0916,-53.2485 3969.7899,-59.8312 3975.7069,-63.5714\"/>\n</g>\n<!-- 82 -->\n<g id=\"node83\" class=\"node\">\n<title>82</title>\n<polygon fill=\"none\" stroke=\"#000000\" points=\"4229,-157 4117,-157 4117,-89 4229,-89 4229,-157\"/>\n<text text-anchor=\"middle\" x=\"4173\" y=\"-141.8\" font-family=\"Times,serif\" font-size=\"14.00\" fill=\"#000000\">density &lt;= 0.992</text>\n<text text-anchor=\"middle\" x=\"4173\" y=\"-126.8\" font-family=\"Times,serif\" font-size=\"14.00\" fill=\"#000000\">gini = 0.409</text>\n<text text-anchor=\"middle\" x=\"4173\" y=\"-111.8\" font-family=\"Times,serif\" font-size=\"14.00\" fill=\"#000000\">samples = 150</text>\n<text text-anchor=\"middle\" x=\"4173\" y=\"-96.8\" font-family=\"Times,serif\" font-size=\"14.00\" fill=\"#000000\">value = [43, 107]</text>\n</g>\n<!-- 81&#45;&gt;82 -->\n<g id=\"edge82\" class=\"edge\">\n<title>81&#45;&gt;82</title>\n<path fill=\"none\" stroke=\"#000000\" d=\"M4173,-192.9465C4173,-184.776 4173,-175.9318 4173,-167.3697\"/>\n<polygon fill=\"#000000\" stroke=\"#000000\" points=\"4176.5001,-167.13 4173,-157.13 4169.5001,-167.13 4176.5001,-167.13\"/>\n</g>\n<!-- 85 -->\n<g id=\"node86\" class=\"node\">\n<title>85</title>\n<polygon fill=\"none\" stroke=\"#000000\" points=\"4419,-157 4305,-157 4305,-89 4419,-89 4419,-157\"/>\n<text text-anchor=\"middle\" x=\"4362\" y=\"-141.8\" font-family=\"Times,serif\" font-size=\"14.00\" fill=\"#000000\">chlorides &lt;= 55.5</text>\n<text text-anchor=\"middle\" x=\"4362\" y=\"-126.8\" font-family=\"Times,serif\" font-size=\"14.00\" fill=\"#000000\">gini = 0.226</text>\n<text text-anchor=\"middle\" x=\"4362\" y=\"-111.8\" font-family=\"Times,serif\" font-size=\"14.00\" fill=\"#000000\">samples = 216</text>\n<text text-anchor=\"middle\" x=\"4362\" y=\"-96.8\" font-family=\"Times,serif\" font-size=\"14.00\" fill=\"#000000\">value = [28, 188]</text>\n</g>\n<!-- 81&#45;&gt;85 -->\n<g id=\"edge85\" class=\"edge\">\n<title>81&#45;&gt;85</title>\n<path fill=\"none\" stroke=\"#000000\" d=\"M4234.8857,-192.9465C4254.3977,-182.2098 4276.024,-170.3095 4295.8229,-159.4149\"/>\n<polygon fill=\"#000000\" stroke=\"#000000\" points=\"4297.703,-162.3753 4304.7769,-154.4879 4294.3283,-156.2425 4297.703,-162.3753\"/>\n</g>\n<!-- 83 -->\n<g id=\"node84\" class=\"node\">\n<title>83</title>\n<polygon fill=\"none\" stroke=\"#000000\" points=\"4164,-53 4066,-53 4066,0 4164,0 4164,-53\"/>\n<text text-anchor=\"middle\" x=\"4115\" y=\"-37.8\" font-family=\"Times,serif\" font-size=\"14.00\" fill=\"#000000\">gini = 0.165</text>\n<text text-anchor=\"middle\" x=\"4115\" y=\"-22.8\" font-family=\"Times,serif\" font-size=\"14.00\" fill=\"#000000\">samples = 55</text>\n<text text-anchor=\"middle\" x=\"4115\" y=\"-7.8\" font-family=\"Times,serif\" font-size=\"14.00\" fill=\"#000000\">value = [5, 50]</text>\n</g>\n<!-- 82&#45;&gt;83 -->\n<g id=\"edge83\" class=\"edge\">\n<title>82&#45;&gt;83</title>\n<path fill=\"none\" stroke=\"#000000\" d=\"M4152.5514,-88.9777C4147.2678,-80.187 4141.5684,-70.7044 4136.2452,-61.8477\"/>\n<polygon fill=\"#000000\" stroke=\"#000000\" points=\"4139.2282,-60.0165 4131.0768,-53.2485 4133.2285,-63.6225 4139.2282,-60.0165\"/>\n</g>\n<!-- 84 -->\n<g id=\"node85\" class=\"node\">\n<title>84</title>\n<polygon fill=\"none\" stroke=\"#000000\" points=\"4287.5,-53 4182.5,-53 4182.5,0 4287.5,0 4287.5,-53\"/>\n<text text-anchor=\"middle\" x=\"4235\" y=\"-37.8\" font-family=\"Times,serif\" font-size=\"14.00\" fill=\"#000000\">gini = 0.48</text>\n<text text-anchor=\"middle\" x=\"4235\" y=\"-22.8\" font-family=\"Times,serif\" font-size=\"14.00\" fill=\"#000000\">samples = 95</text>\n<text text-anchor=\"middle\" x=\"4235\" y=\"-7.8\" font-family=\"Times,serif\" font-size=\"14.00\" fill=\"#000000\">value = [38, 57]</text>\n</g>\n<!-- 82&#45;&gt;84 -->\n<g id=\"edge84\" class=\"edge\">\n<title>82&#45;&gt;84</title>\n<path fill=\"none\" stroke=\"#000000\" d=\"M4194.8589,-88.9777C4200.5068,-80.187 4206.5993,-70.7044 4212.2896,-61.8477\"/>\n<polygon fill=\"#000000\" stroke=\"#000000\" points=\"4215.3537,-63.5536 4217.8144,-53.2485 4209.4644,-59.7698 4215.3537,-63.5536\"/>\n</g>\n<!-- 86 -->\n<g id=\"node87\" class=\"node\">\n<title>86</title>\n<polygon fill=\"none\" stroke=\"#000000\" points=\"4418,-53 4306,-53 4306,0 4418,0 4418,-53\"/>\n<text text-anchor=\"middle\" x=\"4362\" y=\"-37.8\" font-family=\"Times,serif\" font-size=\"14.00\" fill=\"#000000\">gini = 0.193</text>\n<text text-anchor=\"middle\" x=\"4362\" y=\"-22.8\" font-family=\"Times,serif\" font-size=\"14.00\" fill=\"#000000\">samples = 203</text>\n<text text-anchor=\"middle\" x=\"4362\" y=\"-7.8\" font-family=\"Times,serif\" font-size=\"14.00\" fill=\"#000000\">value = [22, 181]</text>\n</g>\n<!-- 85&#45;&gt;86 -->\n<g id=\"edge86\" class=\"edge\">\n<title>85&#45;&gt;86</title>\n<path fill=\"none\" stroke=\"#000000\" d=\"M4362,-88.9777C4362,-80.7364 4362,-71.887 4362,-63.5153\"/>\n<polygon fill=\"#000000\" stroke=\"#000000\" points=\"4365.5001,-63.2484 4362,-53.2485 4358.5001,-63.2485 4365.5001,-63.2484\"/>\n</g>\n<!-- 87 -->\n<g id=\"node88\" class=\"node\">\n<title>87</title>\n<polygon fill=\"none\" stroke=\"#000000\" points=\"4528,-53 4436,-53 4436,0 4528,0 4528,-53\"/>\n<text text-anchor=\"middle\" x=\"4482\" y=\"-37.8\" font-family=\"Times,serif\" font-size=\"14.00\" fill=\"#000000\">gini = 0.497</text>\n<text text-anchor=\"middle\" x=\"4482\" y=\"-22.8\" font-family=\"Times,serif\" font-size=\"14.00\" fill=\"#000000\">samples = 13</text>\n<text text-anchor=\"middle\" x=\"4482\" y=\"-7.8\" font-family=\"Times,serif\" font-size=\"14.00\" fill=\"#000000\">value = [6, 7]</text>\n</g>\n<!-- 85&#45;&gt;87 -->\n<g id=\"edge87\" class=\"edge\">\n<title>85&#45;&gt;87</title>\n<path fill=\"none\" stroke=\"#000000\" d=\"M4404.3075,-88.9777C4416.1499,-79.4545 4429.0021,-69.1191 4440.7805,-59.6473\"/>\n<polygon fill=\"#000000\" stroke=\"#000000\" points=\"4443.1382,-62.2427 4448.7376,-53.2485 4438.7514,-56.7877 4443.1382,-62.2427\"/>\n</g>\n<!-- 89 -->\n<g id=\"node90\" class=\"node\">\n<title>89</title>\n<polygon fill=\"none\" stroke=\"#000000\" points=\"4831,-261 4713,-261 4713,-193 4831,-193 4831,-261\"/>\n<text text-anchor=\"middle\" x=\"4772\" y=\"-245.8\" font-family=\"Times,serif\" font-size=\"14.00\" fill=\"#000000\">alcohol &lt;= 12.033</text>\n<text text-anchor=\"middle\" x=\"4772\" y=\"-230.8\" font-family=\"Times,serif\" font-size=\"14.00\" fill=\"#000000\">gini = 0.122</text>\n<text text-anchor=\"middle\" x=\"4772\" y=\"-215.8\" font-family=\"Times,serif\" font-size=\"14.00\" fill=\"#000000\">samples = 754</text>\n<text text-anchor=\"middle\" x=\"4772\" y=\"-200.8\" font-family=\"Times,serif\" font-size=\"14.00\" fill=\"#000000\">value = [49, 705]</text>\n</g>\n<!-- 88&#45;&gt;89 -->\n<g id=\"edge89\" class=\"edge\">\n<title>88&#45;&gt;89</title>\n<path fill=\"none\" stroke=\"#000000\" d=\"M4772,-296.9465C4772,-288.776 4772,-279.9318 4772,-271.3697\"/>\n<polygon fill=\"#000000\" stroke=\"#000000\" points=\"4775.5001,-271.13 4772,-261.13 4768.5001,-271.13 4775.5001,-271.13\"/>\n</g>\n<!-- 96 -->\n<g id=\"node97\" class=\"node\">\n<title>96</title>\n<polygon fill=\"none\" stroke=\"#000000\" points=\"5158.5,-261 5033.5,-261 5033.5,-193 5158.5,-193 5158.5,-261\"/>\n<text text-anchor=\"middle\" x=\"5096\" y=\"-245.8\" font-family=\"Times,serif\" font-size=\"14.00\" fill=\"#000000\">citric.acid &lt;= 0.315</text>\n<text text-anchor=\"middle\" x=\"5096\" y=\"-230.8\" font-family=\"Times,serif\" font-size=\"14.00\" fill=\"#000000\">gini = 0.499</text>\n<text text-anchor=\"middle\" x=\"5096\" y=\"-215.8\" font-family=\"Times,serif\" font-size=\"14.00\" fill=\"#000000\">samples = 19</text>\n<text text-anchor=\"middle\" x=\"5096\" y=\"-200.8\" font-family=\"Times,serif\" font-size=\"14.00\" fill=\"#000000\">value = [9, 10]</text>\n</g>\n<!-- 88&#45;&gt;96 -->\n<g id=\"edge96\" class=\"edge\">\n<title>88&#45;&gt;96</title>\n<path fill=\"none\" stroke=\"#000000\" d=\"M4838.7402,-309.5772C4892.6521,-292.2722 4968.3941,-267.9599 5023.7308,-250.1975\"/>\n<polygon fill=\"#000000\" stroke=\"#000000\" points=\"5025.0167,-253.4607 5033.4684,-247.0719 5022.8772,-246.7957 5025.0167,-253.4607\"/>\n</g>\n<!-- 90 -->\n<g id=\"node91\" class=\"node\">\n<title>90</title>\n<polygon fill=\"none\" stroke=\"#000000\" points=\"4764.5,-157 4645.5,-157 4645.5,-89 4764.5,-89 4764.5,-157\"/>\n<text text-anchor=\"middle\" x=\"4705\" y=\"-141.8\" font-family=\"Times,serif\" font-size=\"14.00\" fill=\"#000000\">citric.acid &lt;= 0.07</text>\n<text text-anchor=\"middle\" x=\"4705\" y=\"-126.8\" font-family=\"Times,serif\" font-size=\"14.00\" fill=\"#000000\">gini = 0.178</text>\n<text text-anchor=\"middle\" x=\"4705\" y=\"-111.8\" font-family=\"Times,serif\" font-size=\"14.00\" fill=\"#000000\">samples = 384</text>\n<text text-anchor=\"middle\" x=\"4705\" y=\"-96.8\" font-family=\"Times,serif\" font-size=\"14.00\" fill=\"#000000\">value = [38, 346]</text>\n</g>\n<!-- 89&#45;&gt;90 -->\n<g id=\"edge90\" class=\"edge\">\n<title>89&#45;&gt;90</title>\n<path fill=\"none\" stroke=\"#000000\" d=\"M4750.0617,-192.9465C4744.451,-184.2373 4738.3471,-174.7626 4732.4958,-165.6801\"/>\n<polygon fill=\"#000000\" stroke=\"#000000\" points=\"4735.3457,-163.641 4726.9876,-157.13 4729.4611,-167.4321 4735.3457,-163.641\"/>\n</g>\n<!-- 93 -->\n<g id=\"node94\" class=\"node\">\n<title>93</title>\n<polygon fill=\"none\" stroke=\"#000000\" points=\"4895,-157 4783,-157 4783,-89 4895,-89 4895,-157\"/>\n<text text-anchor=\"middle\" x=\"4839\" y=\"-141.8\" font-family=\"Times,serif\" font-size=\"14.00\" fill=\"#000000\">density &lt;= 0.987</text>\n<text text-anchor=\"middle\" x=\"4839\" y=\"-126.8\" font-family=\"Times,serif\" font-size=\"14.00\" fill=\"#000000\">gini = 0.058</text>\n<text text-anchor=\"middle\" x=\"4839\" y=\"-111.8\" font-family=\"Times,serif\" font-size=\"14.00\" fill=\"#000000\">samples = 370</text>\n<text text-anchor=\"middle\" x=\"4839\" y=\"-96.8\" font-family=\"Times,serif\" font-size=\"14.00\" fill=\"#000000\">value = [11, 359]</text>\n</g>\n<!-- 89&#45;&gt;93 -->\n<g id=\"edge93\" class=\"edge\">\n<title>89&#45;&gt;93</title>\n<path fill=\"none\" stroke=\"#000000\" d=\"M4793.9383,-192.9465C4799.549,-184.2373 4805.6529,-174.7626 4811.5042,-165.6801\"/>\n<polygon fill=\"#000000\" stroke=\"#000000\" points=\"4814.5389,-167.4321 4817.0124,-157.13 4808.6543,-163.641 4814.5389,-167.4321\"/>\n</g>\n<!-- 91 -->\n<g id=\"node92\" class=\"node\">\n<title>91</title>\n<polygon fill=\"none\" stroke=\"#000000\" points=\"4638,-53 4546,-53 4546,0 4638,0 4638,-53\"/>\n<text text-anchor=\"middle\" x=\"4592\" y=\"-37.8\" font-family=\"Times,serif\" font-size=\"14.00\" fill=\"#000000\">gini = 0.0</text>\n<text text-anchor=\"middle\" x=\"4592\" y=\"-22.8\" font-family=\"Times,serif\" font-size=\"14.00\" fill=\"#000000\">samples = 2</text>\n<text text-anchor=\"middle\" x=\"4592\" y=\"-7.8\" font-family=\"Times,serif\" font-size=\"14.00\" fill=\"#000000\">value = [2, 0]</text>\n</g>\n<!-- 90&#45;&gt;91 -->\n<g id=\"edge91\" class=\"edge\">\n<title>90&#45;&gt;91</title>\n<path fill=\"none\" stroke=\"#000000\" d=\"M4665.1604,-88.9777C4654.1161,-79.546 4642.139,-69.3178 4631.1352,-59.9208\"/>\n<polygon fill=\"#000000\" stroke=\"#000000\" points=\"4633.1994,-57.081 4623.3221,-53.2485 4628.6536,-62.4041 4633.1994,-57.081\"/>\n</g>\n<!-- 92 -->\n<g id=\"node93\" class=\"node\">\n<title>92</title>\n<polygon fill=\"none\" stroke=\"#000000\" points=\"4768,-53 4656,-53 4656,0 4768,0 4768,-53\"/>\n<text text-anchor=\"middle\" x=\"4712\" y=\"-37.8\" font-family=\"Times,serif\" font-size=\"14.00\" fill=\"#000000\">gini = 0.171</text>\n<text text-anchor=\"middle\" x=\"4712\" y=\"-22.8\" font-family=\"Times,serif\" font-size=\"14.00\" fill=\"#000000\">samples = 382</text>\n<text text-anchor=\"middle\" x=\"4712\" y=\"-7.8\" font-family=\"Times,serif\" font-size=\"14.00\" fill=\"#000000\">value = [36, 346]</text>\n</g>\n<!-- 90&#45;&gt;92 -->\n<g id=\"edge92\" class=\"edge\">\n<title>90&#45;&gt;92</title>\n<path fill=\"none\" stroke=\"#000000\" d=\"M4707.4679,-88.9777C4708.0724,-80.6449 4708.722,-71.6903 4709.3352,-63.2364\"/>\n<polygon fill=\"#000000\" stroke=\"#000000\" points=\"4712.8269,-63.4755 4710.0597,-53.2485 4705.8453,-62.969 4712.8269,-63.4755\"/>\n</g>\n<!-- 94 -->\n<g id=\"node95\" class=\"node\">\n<title>94</title>\n<polygon fill=\"none\" stroke=\"#000000\" points=\"4878,-53 4786,-53 4786,0 4878,0 4878,-53\"/>\n<text text-anchor=\"middle\" x=\"4832\" y=\"-37.8\" font-family=\"Times,serif\" font-size=\"14.00\" fill=\"#000000\">gini = 0.0</text>\n<text text-anchor=\"middle\" x=\"4832\" y=\"-22.8\" font-family=\"Times,serif\" font-size=\"14.00\" fill=\"#000000\">samples = 1</text>\n<text text-anchor=\"middle\" x=\"4832\" y=\"-7.8\" font-family=\"Times,serif\" font-size=\"14.00\" fill=\"#000000\">value = [1, 0]</text>\n</g>\n<!-- 93&#45;&gt;94 -->\n<g id=\"edge94\" class=\"edge\">\n<title>93&#45;&gt;94</title>\n<path fill=\"none\" stroke=\"#000000\" d=\"M4836.5321,-88.9777C4835.9276,-80.6449 4835.278,-71.6903 4834.6648,-63.2364\"/>\n<polygon fill=\"#000000\" stroke=\"#000000\" points=\"4838.1547,-62.969 4833.9403,-53.2485 4831.1731,-63.4755 4838.1547,-62.969\"/>\n</g>\n<!-- 95 -->\n<g id=\"node96\" class=\"node\">\n<title>95</title>\n<polygon fill=\"none\" stroke=\"#000000\" points=\"5008,-53 4896,-53 4896,0 5008,0 5008,-53\"/>\n<text text-anchor=\"middle\" x=\"4952\" y=\"-37.8\" font-family=\"Times,serif\" font-size=\"14.00\" fill=\"#000000\">gini = 0.053</text>\n<text text-anchor=\"middle\" x=\"4952\" y=\"-22.8\" font-family=\"Times,serif\" font-size=\"14.00\" fill=\"#000000\">samples = 369</text>\n<text text-anchor=\"middle\" x=\"4952\" y=\"-7.8\" font-family=\"Times,serif\" font-size=\"14.00\" fill=\"#000000\">value = [10, 359]</text>\n</g>\n<!-- 93&#45;&gt;95 -->\n<g id=\"edge95\" class=\"edge\">\n<title>93&#45;&gt;95</title>\n<path fill=\"none\" stroke=\"#000000\" d=\"M4878.8396,-88.9777C4889.8839,-79.546 4901.861,-69.3178 4912.8648,-59.9208\"/>\n<polygon fill=\"#000000\" stroke=\"#000000\" points=\"4915.3464,-62.4041 4920.6779,-53.2485 4910.8006,-57.081 4915.3464,-62.4041\"/>\n</g>\n<!-- 97 -->\n<g id=\"node98\" class=\"node\">\n<title>97</title>\n<polygon fill=\"none\" stroke=\"#000000\" points=\"5166,-157 5026,-157 5026,-89 5166,-89 5166,-157\"/>\n<text text-anchor=\"middle\" x=\"5096\" y=\"-141.8\" font-family=\"Times,serif\" font-size=\"14.00\" fill=\"#000000\">residual.sugar &lt;= 2.45</text>\n<text text-anchor=\"middle\" x=\"5096\" y=\"-126.8\" font-family=\"Times,serif\" font-size=\"14.00\" fill=\"#000000\">gini = 0.219</text>\n<text text-anchor=\"middle\" x=\"5096\" y=\"-111.8\" font-family=\"Times,serif\" font-size=\"14.00\" fill=\"#000000\">samples = 8</text>\n<text text-anchor=\"middle\" x=\"5096\" y=\"-96.8\" font-family=\"Times,serif\" font-size=\"14.00\" fill=\"#000000\">value = [7, 1]</text>\n</g>\n<!-- 96&#45;&gt;97 -->\n<g id=\"edge97\" class=\"edge\">\n<title>96&#45;&gt;97</title>\n<path fill=\"none\" stroke=\"#000000\" d=\"M5096,-192.9465C5096,-184.776 5096,-175.9318 5096,-167.3697\"/>\n<polygon fill=\"#000000\" stroke=\"#000000\" points=\"5099.5001,-167.13 5096,-157.13 5092.5001,-167.13 5099.5001,-167.13\"/>\n</g>\n<!-- 100 -->\n<g id=\"node101\" class=\"node\">\n<title>100</title>\n<polygon fill=\"none\" stroke=\"#000000\" points=\"5374.5,-157 5209.5,-157 5209.5,-89 5374.5,-89 5374.5,-157\"/>\n<text text-anchor=\"middle\" x=\"5292\" y=\"-141.8\" font-family=\"Times,serif\" font-size=\"14.00\" fill=\"#000000\">free.sulfur.dioxide &lt;= 21.0</text>\n<text text-anchor=\"middle\" x=\"5292\" y=\"-126.8\" font-family=\"Times,serif\" font-size=\"14.00\" fill=\"#000000\">gini = 0.298</text>\n<text text-anchor=\"middle\" x=\"5292\" y=\"-111.8\" font-family=\"Times,serif\" font-size=\"14.00\" fill=\"#000000\">samples = 11</text>\n<text text-anchor=\"middle\" x=\"5292\" y=\"-96.8\" font-family=\"Times,serif\" font-size=\"14.00\" fill=\"#000000\">value = [2, 9]</text>\n</g>\n<!-- 96&#45;&gt;100 -->\n<g id=\"edge100\" class=\"edge\">\n<title>96&#45;&gt;100</title>\n<path fill=\"none\" stroke=\"#000000\" d=\"M5158.5545,-193.8078C5177.6937,-183.6523 5198.9175,-172.3907 5218.704,-161.8918\"/>\n<polygon fill=\"#000000\" stroke=\"#000000\" points=\"5220.4883,-164.9072 5227.6813,-157.1283 5217.2072,-158.7238 5220.4883,-164.9072\"/>\n</g>\n<!-- 98 -->\n<g id=\"node99\" class=\"node\">\n<title>98</title>\n<polygon fill=\"none\" stroke=\"#000000\" points=\"5118,-53 5026,-53 5026,0 5118,0 5118,-53\"/>\n<text text-anchor=\"middle\" x=\"5072\" y=\"-37.8\" font-family=\"Times,serif\" font-size=\"14.00\" fill=\"#000000\">gini = 0.0</text>\n<text text-anchor=\"middle\" x=\"5072\" y=\"-22.8\" font-family=\"Times,serif\" font-size=\"14.00\" fill=\"#000000\">samples = 1</text>\n<text text-anchor=\"middle\" x=\"5072\" y=\"-7.8\" font-family=\"Times,serif\" font-size=\"14.00\" fill=\"#000000\">value = [0, 1]</text>\n</g>\n<!-- 97&#45;&gt;98 -->\n<g id=\"edge98\" class=\"edge\">\n<title>97&#45;&gt;98</title>\n<path fill=\"none\" stroke=\"#000000\" d=\"M5087.5385,-88.9777C5085.4433,-80.5533 5083.1901,-71.4934 5081.0673,-62.9579\"/>\n<polygon fill=\"#000000\" stroke=\"#000000\" points=\"5084.4626,-62.1081 5078.6525,-53.2485 5077.6695,-63.7976 5084.4626,-62.1081\"/>\n</g>\n<!-- 99 -->\n<g id=\"node100\" class=\"node\">\n<title>99</title>\n<polygon fill=\"none\" stroke=\"#000000\" points=\"5228,-53 5136,-53 5136,0 5228,0 5228,-53\"/>\n<text text-anchor=\"middle\" x=\"5182\" y=\"-37.8\" font-family=\"Times,serif\" font-size=\"14.00\" fill=\"#000000\">gini = 0.0</text>\n<text text-anchor=\"middle\" x=\"5182\" y=\"-22.8\" font-family=\"Times,serif\" font-size=\"14.00\" fill=\"#000000\">samples = 7</text>\n<text text-anchor=\"middle\" x=\"5182\" y=\"-7.8\" font-family=\"Times,serif\" font-size=\"14.00\" fill=\"#000000\">value = [7, 0]</text>\n</g>\n<!-- 97&#45;&gt;99 -->\n<g id=\"edge99\" class=\"edge\">\n<title>97&#45;&gt;99</title>\n<path fill=\"none\" stroke=\"#000000\" d=\"M5126.3204,-88.9777C5134.481,-79.8207 5143.3108,-69.9129 5151.4821,-60.744\"/>\n<polygon fill=\"#000000\" stroke=\"#000000\" points=\"5154.1217,-63.0427 5158.162,-53.2485 5148.8958,-58.3854 5154.1217,-63.0427\"/>\n</g>\n<!-- 101 -->\n<g id=\"node102\" class=\"node\">\n<title>101</title>\n<polygon fill=\"none\" stroke=\"#000000\" points=\"5338,-53 5246,-53 5246,0 5338,0 5338,-53\"/>\n<text text-anchor=\"middle\" x=\"5292\" y=\"-37.8\" font-family=\"Times,serif\" font-size=\"14.00\" fill=\"#000000\">gini = 0.444</text>\n<text text-anchor=\"middle\" x=\"5292\" y=\"-22.8\" font-family=\"Times,serif\" font-size=\"14.00\" fill=\"#000000\">samples = 3</text>\n<text text-anchor=\"middle\" x=\"5292\" y=\"-7.8\" font-family=\"Times,serif\" font-size=\"14.00\" fill=\"#000000\">value = [2, 1]</text>\n</g>\n<!-- 100&#45;&gt;101 -->\n<g id=\"edge101\" class=\"edge\">\n<title>100&#45;&gt;101</title>\n<path fill=\"none\" stroke=\"#000000\" d=\"M5292,-88.9777C5292,-80.7364 5292,-71.887 5292,-63.5153\"/>\n<polygon fill=\"#000000\" stroke=\"#000000\" points=\"5295.5001,-63.2484 5292,-53.2485 5288.5001,-63.2485 5295.5001,-63.2484\"/>\n</g>\n<!-- 102 -->\n<g id=\"node103\" class=\"node\">\n<title>102</title>\n<polygon fill=\"none\" stroke=\"#000000\" points=\"5448,-53 5356,-53 5356,0 5448,0 5448,-53\"/>\n<text text-anchor=\"middle\" x=\"5402\" y=\"-37.8\" font-family=\"Times,serif\" font-size=\"14.00\" fill=\"#000000\">gini = 0.0</text>\n<text text-anchor=\"middle\" x=\"5402\" y=\"-22.8\" font-family=\"Times,serif\" font-size=\"14.00\" fill=\"#000000\">samples = 8</text>\n<text text-anchor=\"middle\" x=\"5402\" y=\"-7.8\" font-family=\"Times,serif\" font-size=\"14.00\" fill=\"#000000\">value = [0, 8]</text>\n</g>\n<!-- 100&#45;&gt;102 -->\n<g id=\"edge102\" class=\"edge\">\n<title>100&#45;&gt;102</title>\n<path fill=\"none\" stroke=\"#000000\" d=\"M5330.7819,-88.9777C5341.533,-79.546 5353.1922,-69.3178 5363.9038,-59.9208\"/>\n<polygon fill=\"#000000\" stroke=\"#000000\" points=\"5366.3004,-62.4743 5371.5095,-53.2485 5361.684,-57.2122 5366.3004,-62.4743\"/>\n</g>\n</g>\n</svg>\n",
            "text/plain": [
              "<graphviz.files.Source at 0x7f31ffbbf978>"
            ]
          },
          "metadata": {
            "tags": []
          }
        }
      ]
    },
    {
      "cell_type": "code",
      "metadata": {
        "id": "9vWqF8f5cQzX",
        "colab_type": "code",
        "colab": {},
        "outputId": "f784ed8d-9769-4797-fd35-344ac16528de"
      },
      "source": [
        "# The snippet below will retrieve the feature importances from the model and make them into a DataFrame.\n",
        "feature_importances = pd.DataFrame(classification_tree_wine.feature_importances_,\n",
        "                                   index = predictor_cols,\n",
        "                                   columns=['importance']).sort_values('importance', ascending=False)\n",
        "feature_importances"
      ],
      "execution_count": 0,
      "outputs": [
        {
          "output_type": "execute_result",
          "data": {
            "text/html": [
              "<div>\n",
              "<style scoped>\n",
              "    .dataframe tbody tr th:only-of-type {\n",
              "        vertical-align: middle;\n",
              "    }\n",
              "\n",
              "    .dataframe tbody tr th {\n",
              "        vertical-align: top;\n",
              "    }\n",
              "\n",
              "    .dataframe thead th {\n",
              "        text-align: right;\n",
              "    }\n",
              "</style>\n",
              "<table border=\"1\" class=\"dataframe\">\n",
              "  <thead>\n",
              "    <tr style=\"text-align: right;\">\n",
              "      <th></th>\n",
              "      <th>importance</th>\n",
              "    </tr>\n",
              "  </thead>\n",
              "  <tbody>\n",
              "    <tr>\n",
              "      <th>alcohol</th>\n",
              "      <td>0.446059</td>\n",
              "    </tr>\n",
              "    <tr>\n",
              "      <th>volatile.acidity</th>\n",
              "      <td>0.195163</td>\n",
              "    </tr>\n",
              "    <tr>\n",
              "      <th>free.sulfur.dioxide</th>\n",
              "      <td>0.102965</td>\n",
              "    </tr>\n",
              "    <tr>\n",
              "      <th>fixed.acidity</th>\n",
              "      <td>0.050128</td>\n",
              "    </tr>\n",
              "    <tr>\n",
              "      <th>chlorides</th>\n",
              "      <td>0.037043</td>\n",
              "    </tr>\n",
              "    <tr>\n",
              "      <th>pH</th>\n",
              "      <td>0.036817</td>\n",
              "    </tr>\n",
              "    <tr>\n",
              "      <th>residual.sugar</th>\n",
              "      <td>0.031760</td>\n",
              "    </tr>\n",
              "    <tr>\n",
              "      <th>total.sulfur.dioxide</th>\n",
              "      <td>0.026286</td>\n",
              "    </tr>\n",
              "    <tr>\n",
              "      <th>citric.acid</th>\n",
              "      <td>0.026106</td>\n",
              "    </tr>\n",
              "    <tr>\n",
              "      <th>sulphates</th>\n",
              "      <td>0.024369</td>\n",
              "    </tr>\n",
              "    <tr>\n",
              "      <th>density</th>\n",
              "      <td>0.023304</td>\n",
              "    </tr>\n",
              "  </tbody>\n",
              "</table>\n",
              "</div>"
            ],
            "text/plain": [
              "                      importance\n",
              "alcohol                 0.446059\n",
              "volatile.acidity        0.195163\n",
              "free.sulfur.dioxide     0.102965\n",
              "fixed.acidity           0.050128\n",
              "chlorides               0.037043\n",
              "pH                      0.036817\n",
              "residual.sugar          0.031760\n",
              "total.sulfur.dioxide    0.026286\n",
              "citric.acid             0.026106\n",
              "sulphates               0.024369\n",
              "density                 0.023304"
            ]
          },
          "metadata": {
            "tags": []
          },
          "execution_count": 15
        }
      ]
    },
    {
      "cell_type": "code",
      "metadata": {
        "id": "81QSYVVccQza",
        "colab_type": "code",
        "colab": {},
        "outputId": "5eea4995-99c3-427c-d68e-e007fd7322b7"
      },
      "source": [
        "yPred = classification_tree_wine.predict(xTest)\n",
        "print(\"Confusion Matrix:\")\n",
        "print(confusion_matrix(yTest, yPred))\n",
        "\n",
        "print(\"Classification Report:\")\n",
        "print(classification_report(yTest, yPred))"
      ],
      "execution_count": 0,
      "outputs": [
        {
          "output_type": "stream",
          "text": [
            "Confusion Matrix:\n",
            "[[154  96]\n",
            " [ 87 361]]\n",
            "Classification Report:\n",
            "              precision    recall  f1-score   support\n",
            "\n",
            "           0       0.64      0.62      0.63       250\n",
            "           1       0.79      0.81      0.80       448\n",
            "\n",
            "    accuracy                           0.74       698\n",
            "   macro avg       0.71      0.71      0.71       698\n",
            "weighted avg       0.74      0.74      0.74       698\n",
            "\n"
          ],
          "name": "stdout"
        }
      ]
    },
    {
      "cell_type": "code",
      "metadata": {
        "id": "wChhHNmfciQ6",
        "colab_type": "code",
        "colab": {}
      },
      "source": [
        "classification_tree_wine.fit(train_X_imp, train_y)"
      ],
      "execution_count": 0,
      "outputs": []
    },
    {
      "cell_type": "code",
      "metadata": {
        "id": "AkMPTgY4cQzc",
        "colab_type": "code",
        "colab": {},
        "outputId": "9d68a24d-4366-4ca5-fb6c-7b10e894c23f"
      },
      "source": [
        "# generate a submission file\n",
        "generateSubmission(classification_tree_wine,'secondDecisionTree.csv', \"User defined decision tree evaluated with test set\")"
      ],
      "execution_count": 0,
      "outputs": [
        {
          "output_type": "stream",
          "text": [
            "[1 1 1 ... 1 1 1]\n"
          ],
          "name": "stdout"
        }
      ]
    },
    {
      "cell_type": "markdown",
      "metadata": {
        "id": "TgGDn8RhcQze",
        "colab_type": "text"
      },
      "source": [
        "### Or you can consider different models using cross validation"
      ]
    },
    {
      "cell_type": "code",
      "metadata": {
        "id": "JS5F_u7RcQze",
        "colab_type": "code",
        "colab": {}
      },
      "source": [
        "from sklearn.model_selection import cross_val_score\n",
        "import seaborn as sns"
      ],
      "execution_count": 0,
      "outputs": []
    },
    {
      "cell_type": "code",
      "metadata": {
        "id": "bnT5kDd1cQzg",
        "colab_type": "code",
        "colab": {},
        "outputId": "3ae99c42-fbad-4994-9871-53e58646a5d3"
      },
      "source": [
        "dtc = DecisionTreeClassifier()\n",
        "cv_scores = cross_val_score(dtc, train_X_imp, train_y, cv=10, scoring='accuracy',verbose=1)\n",
        "sns.distplot(cv_scores)\n",
        "plt.title('Average score: {}'.format(np.mean(cv_scores)))"
      ],
      "execution_count": 0,
      "outputs": [
        {
          "output_type": "stream",
          "text": [
            "[Parallel(n_jobs=1)]: Using backend SequentialBackend with 1 concurrent workers.\n",
            "[Parallel(n_jobs=1)]: Done  10 out of  10 | elapsed:    0.6s finished\n"
          ],
          "name": "stderr"
        },
        {
          "output_type": "execute_result",
          "data": {
            "text/plain": [
              "Text(0.5, 1.0, 'Average score: 0.7669762539933471')"
            ]
          },
          "metadata": {
            "tags": []
          },
          "execution_count": 19
        },
        {
          "output_type": "display_data",
          "data": {
            "image/png": "[encoded data removed]",
            "text/plain": [
              "<Figure size 432x288 with 1 Axes>"
            ]
          },
          "metadata": {
            "tags": [],
            "needs_background": "light"
          }
        }
      ]
    },
    {
      "cell_type": "code",
      "metadata": {
        "id": "LkKGF9Socueq",
        "colab_type": "code",
        "colab": {}
      },
      "source": [
        "dtc.fit(train_X_imp, train_y)"
      ],
      "execution_count": 0,
      "outputs": []
    },
    {
      "cell_type": "code",
      "metadata": {
        "id": "omr6K-wLcQzj",
        "colab_type": "code",
        "colab": {},
        "outputId": "67034453-54e8-40f2-f360-a7416875bd71"
      },
      "source": [
        "# generate a submission file\n",
        "generateSubmission(dtc,'CrossValDecisionTree.csv', \"User defined decision tree evaluated with cross validation\")"
      ],
      "execution_count": 0,
      "outputs": [
        {
          "output_type": "stream",
          "text": [
            "[1 1 1 ... 1 1 1]\n"
          ],
          "name": "stdout"
        }
      ]
    },
    {
      "cell_type": "markdown",
      "metadata": {
        "id": "OMIeoDe5cQzk",
        "colab_type": "text"
      },
      "source": [
        "### Parameter Tuning"
      ]
    },
    {
      "cell_type": "markdown",
      "metadata": {
        "id": "8C12hBTGcQzl",
        "colab_type": "text"
      },
      "source": [
        "In every classification technique, there are some parameters that can be tuned to optimize the classification. Some parameters that can be tuned in the decision tree is max depth (the depth of the tree), max feature (the feature used to classify), criterion, and splitter.\n",
        "\n",
        "To search to tune parameter is to use Grid Search. Basically, it explores a range of parameters and finds the best combination of parameters. Then repeat the process several times until the best parameters are discovered. We will also use Stratified k-fold cross-validation that will prevent a certain class only split them to the same subset."
      ]
    },
    {
      "cell_type": "code",
      "metadata": {
        "id": "4TYX9QG9cQzl",
        "colab_type": "code",
        "colab": {}
      },
      "source": [
        "from sklearn.model_selection import GridSearchCV\n",
        "from sklearn.model_selection import StratifiedKFold"
      ],
      "execution_count": 0,
      "outputs": []
    },
    {
      "cell_type": "code",
      "metadata": {
        "id": "NAbnmTtocQzn",
        "colab_type": "code",
        "colab": {},
        "outputId": "79325b72-0ee1-4cf4-b874-c984781f336f"
      },
      "source": [
        "dtc = DecisionTreeClassifier()\n",
        "parameter_grid = {'criterion': ['gini', 'entropy'],\n",
        "                  'splitter': ['best', 'random'],\n",
        "                  'max_depth': [1, 2, 3],\n",
        "                  'max_features': [1, 2, 3]}\n",
        "\n",
        "cross_validation = StratifiedKFold(n_splits=10)\n",
        "cross_validation.get_n_splits(train_X_imp, train_y)\n",
        "#Create the scoring dictionary\n",
        "SCORING = {'accuracy': 'accuracy',\n",
        "'balanced_accuracy': 'balanced_accuracy',\n",
        "'precision': 'precision_macro',\n",
        "'recall': 'recall_macro',\n",
        "'f1': 'f1_macro'}\n",
        "\n",
        "grid_search = GridSearchCV(dtc, param_grid=parameter_grid, cv=cross_validation, )\n",
        "#grid_search = GridSearchCV(dtc, param_grid=parameter_grid, cv=cross_validation, scoring=SCORING,return_train_score=True, refit='accuracy')\n",
        "\n",
        "grid_search.fit(train_X_imp, train_y)\n"
      ],
      "execution_count": 0,
      "outputs": [
        {
          "output_type": "execute_result",
          "data": {
            "text/plain": [
              "GridSearchCV(cv=StratifiedKFold(n_splits=10, random_state=None, shuffle=False),\n",
              "             error_score=nan,\n",
              "             estimator=DecisionTreeClassifier(ccp_alpha=0.0, class_weight=None,\n",
              "                                              criterion='gini', max_depth=None,\n",
              "                                              max_features=None,\n",
              "                                              max_leaf_nodes=None,\n",
              "                                              min_impurity_decrease=0.0,\n",
              "                                              min_impurity_split=None,\n",
              "                                              min_samples_leaf=1,\n",
              "                                              min_samples_split=2,\n",
              "                                              min_weight_fraction_leaf=0.0,\n",
              "                                              presort='deprecated',\n",
              "                                              random_state=None,\n",
              "                                              splitter='best'),\n",
              "             iid='deprecated', n_jobs=None,\n",
              "             param_grid={'criterion': ['gini', 'entropy'],\n",
              "                         'max_depth': [1, 2, 3], 'max_features': [1, 2, 3],\n",
              "                         'splitter': ['best', 'random']},\n",
              "             pre_dispatch='2*n_jobs', refit=True, return_train_score=False,\n",
              "             scoring=None, verbose=0)"
            ]
          },
          "metadata": {
            "tags": []
          },
          "execution_count": 22
        }
      ]
    },
    {
      "cell_type": "code",
      "metadata": {
        "id": "R3NhPvsCcQzo",
        "colab_type": "code",
        "colab": {},
        "outputId": "bf00ba3c-3a4b-4980-9127-79fff11a4cf8"
      },
      "source": [
        "grid_search.cv_results_"
      ],
      "execution_count": 0,
      "outputs": [
        {
          "output_type": "execute_result",
          "data": {
            "text/plain": [
              "{'mean_fit_time': array([0.00206914, 0.00173035, 0.00207584, 0.00242343, 0.00275204,\n",
              "        0.00225039, 0.00289731, 0.00272975, 0.00363028, 0.00203981,\n",
              "        0.00367835, 0.00180295, 0.00252593, 0.00173495, 0.00344098,\n",
              "        0.00261161, 0.00412276, 0.00198541, 0.00194252, 0.00194025,\n",
              "        0.00262222, 0.00186174, 0.0026974 , 0.00163503, 0.00221756,\n",
              "        0.00165739, 0.00279975, 0.00163624, 0.00369513, 0.00179157,\n",
              "        0.00254703, 0.00171404, 0.00346382, 0.00173612, 0.00430725,\n",
              "        0.00188038]),\n",
              " 'std_fit_time': array([2.25119569e-04, 2.12873406e-04, 9.60686682e-05, 5.16308688e-04,\n",
              "        4.24973563e-04, 4.02177754e-04, 7.20777195e-04, 9.41355170e-04,\n",
              "        1.03902729e-03, 6.52832372e-04, 5.21747959e-04, 1.25933292e-04,\n",
              "        8.69857533e-05, 1.14039993e-04, 2.38174224e-04, 4.87409353e-04,\n",
              "        1.64872695e-04, 1.66413682e-04, 1.62812109e-04, 8.69496469e-04,\n",
              "        7.25051018e-04, 4.16132199e-04, 5.03611763e-04, 1.04953028e-04,\n",
              "        1.42798417e-04, 8.82595954e-05, 1.77723868e-04, 4.15709919e-05,\n",
              "        3.90067620e-04, 2.22637771e-04, 1.45683897e-04, 1.16021781e-04,\n",
              "        1.62821913e-04, 7.83533415e-05, 1.49661419e-04, 1.11628355e-04]),\n",
              " 'mean_score_time': array([0.00096326, 0.00082324, 0.0008111 , 0.00124364, 0.0009316 ,\n",
              "        0.00112665, 0.00115569, 0.00125363, 0.00099633, 0.00091853,\n",
              "        0.00104818, 0.00081618, 0.00086434, 0.00082958, 0.00091491,\n",
              "        0.00108299, 0.00095968, 0.00084209, 0.0009815 , 0.00083315,\n",
              "        0.00112436, 0.00107112, 0.0008981 , 0.00088615, 0.00084133,\n",
              "        0.0008163 , 0.00082798, 0.00078259, 0.00091929, 0.00086756,\n",
              "        0.00082138, 0.00083122, 0.0008594 , 0.00080693, 0.00086803,\n",
              "        0.00084524]),\n",
              " 'std_score_time': array([2.08717888e-04, 7.57776951e-05, 2.46737313e-05, 2.54526965e-04,\n",
              "        1.65621279e-04, 3.42381469e-04, 3.22885134e-04, 2.16542471e-04,\n",
              "        1.31369306e-04, 2.31163631e-04, 2.17175252e-04, 3.89328196e-05,\n",
              "        5.24486248e-05, 4.45498688e-05, 1.07507545e-04, 1.98240144e-04,\n",
              "        1.58331185e-04, 5.27400004e-05, 4.37878216e-04, 7.66014258e-05,\n",
              "        5.25349974e-04, 5.44132399e-04, 2.02201543e-04, 1.67775166e-04,\n",
              "        1.12686659e-04, 7.02487144e-05, 3.60816096e-05, 3.09768407e-05,\n",
              "        1.33540960e-04, 1.99011940e-04, 3.09733998e-05, 6.66050540e-05,\n",
              "        6.70084483e-05, 4.39848679e-05, 8.28000505e-05, 7.56370908e-05]),\n",
              " 'param_criterion': masked_array(data=['gini', 'gini', 'gini', 'gini', 'gini', 'gini', 'gini',\n",
              "                    'gini', 'gini', 'gini', 'gini', 'gini', 'gini', 'gini',\n",
              "                    'gini', 'gini', 'gini', 'gini', 'entropy', 'entropy',\n",
              "                    'entropy', 'entropy', 'entropy', 'entropy', 'entropy',\n",
              "                    'entropy', 'entropy', 'entropy', 'entropy', 'entropy',\n",
              "                    'entropy', 'entropy', 'entropy', 'entropy', 'entropy',\n",
              "                    'entropy'],\n",
              "              mask=[False, False, False, False, False, False, False, False,\n",
              "                    False, False, False, False, False, False, False, False,\n",
              "                    False, False, False, False, False, False, False, False,\n",
              "                    False, False, False, False, False, False, False, False,\n",
              "                    False, False, False, False],\n",
              "        fill_value='?',\n",
              "             dtype=object),\n",
              " 'param_max_depth': masked_array(data=[1, 1, 1, 1, 1, 1, 2, 2, 2, 2, 2, 2, 3, 3, 3, 3, 3, 3,\n",
              "                    1, 1, 1, 1, 1, 1, 2, 2, 2, 2, 2, 2, 3, 3, 3, 3, 3, 3],\n",
              "              mask=[False, False, False, False, False, False, False, False,\n",
              "                    False, False, False, False, False, False, False, False,\n",
              "                    False, False, False, False, False, False, False, False,\n",
              "                    False, False, False, False, False, False, False, False,\n",
              "                    False, False, False, False],\n",
              "        fill_value='?',\n",
              "             dtype=object),\n",
              " 'param_max_features': masked_array(data=[1, 1, 2, 2, 3, 3, 1, 1, 2, 2, 3, 3, 1, 1, 2, 2, 3, 3,\n",
              "                    1, 1, 2, 2, 3, 3, 1, 1, 2, 2, 3, 3, 1, 1, 2, 2, 3, 3],\n",
              "              mask=[False, False, False, False, False, False, False, False,\n",
              "                    False, False, False, False, False, False, False, False,\n",
              "                    False, False, False, False, False, False, False, False,\n",
              "                    False, False, False, False, False, False, False, False,\n",
              "                    False, False, False, False],\n",
              "        fill_value='?',\n",
              "             dtype=object),\n",
              " 'param_splitter': masked_array(data=['best', 'random', 'best', 'random', 'best', 'random',\n",
              "                    'best', 'random', 'best', 'random', 'best', 'random',\n",
              "                    'best', 'random', 'best', 'random', 'best', 'random',\n",
              "                    'best', 'random', 'best', 'random', 'best', 'random',\n",
              "                    'best', 'random', 'best', 'random', 'best', 'random',\n",
              "                    'best', 'random', 'best', 'random', 'best', 'random'],\n",
              "              mask=[False, False, False, False, False, False, False, False,\n",
              "                    False, False, False, False, False, False, False, False,\n",
              "                    False, False, False, False, False, False, False, False,\n",
              "                    False, False, False, False, False, False, False, False,\n",
              "                    False, False, False, False],\n",
              "        fill_value='?',\n",
              "             dtype=object),\n",
              " 'params': [{'criterion': 'gini',\n",
              "   'max_depth': 1,\n",
              "   'max_features': 1,\n",
              "   'splitter': 'best'},\n",
              "  {'criterion': 'gini',\n",
              "   'max_depth': 1,\n",
              "   'max_features': 1,\n",
              "   'splitter': 'random'},\n",
              "  {'criterion': 'gini', 'max_depth': 1, 'max_features': 2, 'splitter': 'best'},\n",
              "  {'criterion': 'gini',\n",
              "   'max_depth': 1,\n",
              "   'max_features': 2,\n",
              "   'splitter': 'random'},\n",
              "  {'criterion': 'gini', 'max_depth': 1, 'max_features': 3, 'splitter': 'best'},\n",
              "  {'criterion': 'gini',\n",
              "   'max_depth': 1,\n",
              "   'max_features': 3,\n",
              "   'splitter': 'random'},\n",
              "  {'criterion': 'gini', 'max_depth': 2, 'max_features': 1, 'splitter': 'best'},\n",
              "  {'criterion': 'gini',\n",
              "   'max_depth': 2,\n",
              "   'max_features': 1,\n",
              "   'splitter': 'random'},\n",
              "  {'criterion': 'gini', 'max_depth': 2, 'max_features': 2, 'splitter': 'best'},\n",
              "  {'criterion': 'gini',\n",
              "   'max_depth': 2,\n",
              "   'max_features': 2,\n",
              "   'splitter': 'random'},\n",
              "  {'criterion': 'gini', 'max_depth': 2, 'max_features': 3, 'splitter': 'best'},\n",
              "  {'criterion': 'gini',\n",
              "   'max_depth': 2,\n",
              "   'max_features': 3,\n",
              "   'splitter': 'random'},\n",
              "  {'criterion': 'gini', 'max_depth': 3, 'max_features': 1, 'splitter': 'best'},\n",
              "  {'criterion': 'gini',\n",
              "   'max_depth': 3,\n",
              "   'max_features': 1,\n",
              "   'splitter': 'random'},\n",
              "  {'criterion': 'gini', 'max_depth': 3, 'max_features': 2, 'splitter': 'best'},\n",
              "  {'criterion': 'gini',\n",
              "   'max_depth': 3,\n",
              "   'max_features': 2,\n",
              "   'splitter': 'random'},\n",
              "  {'criterion': 'gini', 'max_depth': 3, 'max_features': 3, 'splitter': 'best'},\n",
              "  {'criterion': 'gini',\n",
              "   'max_depth': 3,\n",
              "   'max_features': 3,\n",
              "   'splitter': 'random'},\n",
              "  {'criterion': 'entropy',\n",
              "   'max_depth': 1,\n",
              "   'max_features': 1,\n",
              "   'splitter': 'best'},\n",
              "  {'criterion': 'entropy',\n",
              "   'max_depth': 1,\n",
              "   'max_features': 1,\n",
              "   'splitter': 'random'},\n",
              "  {'criterion': 'entropy',\n",
              "   'max_depth': 1,\n",
              "   'max_features': 2,\n",
              "   'splitter': 'best'},\n",
              "  {'criterion': 'entropy',\n",
              "   'max_depth': 1,\n",
              "   'max_features': 2,\n",
              "   'splitter': 'random'},\n",
              "  {'criterion': 'entropy',\n",
              "   'max_depth': 1,\n",
              "   'max_features': 3,\n",
              "   'splitter': 'best'},\n",
              "  {'criterion': 'entropy',\n",
              "   'max_depth': 1,\n",
              "   'max_features': 3,\n",
              "   'splitter': 'random'},\n",
              "  {'criterion': 'entropy',\n",
              "   'max_depth': 2,\n",
              "   'max_features': 1,\n",
              "   'splitter': 'best'},\n",
              "  {'criterion': 'entropy',\n",
              "   'max_depth': 2,\n",
              "   'max_features': 1,\n",
              "   'splitter': 'random'},\n",
              "  {'criterion': 'entropy',\n",
              "   'max_depth': 2,\n",
              "   'max_features': 2,\n",
              "   'splitter': 'best'},\n",
              "  {'criterion': 'entropy',\n",
              "   'max_depth': 2,\n",
              "   'max_features': 2,\n",
              "   'splitter': 'random'},\n",
              "  {'criterion': 'entropy',\n",
              "   'max_depth': 2,\n",
              "   'max_features': 3,\n",
              "   'splitter': 'best'},\n",
              "  {'criterion': 'entropy',\n",
              "   'max_depth': 2,\n",
              "   'max_features': 3,\n",
              "   'splitter': 'random'},\n",
              "  {'criterion': 'entropy',\n",
              "   'max_depth': 3,\n",
              "   'max_features': 1,\n",
              "   'splitter': 'best'},\n",
              "  {'criterion': 'entropy',\n",
              "   'max_depth': 3,\n",
              "   'max_features': 1,\n",
              "   'splitter': 'random'},\n",
              "  {'criterion': 'entropy',\n",
              "   'max_depth': 3,\n",
              "   'max_features': 2,\n",
              "   'splitter': 'best'},\n",
              "  {'criterion': 'entropy',\n",
              "   'max_depth': 3,\n",
              "   'max_features': 2,\n",
              "   'splitter': 'random'},\n",
              "  {'criterion': 'entropy',\n",
              "   'max_depth': 3,\n",
              "   'max_features': 3,\n",
              "   'splitter': 'best'},\n",
              "  {'criterion': 'entropy',\n",
              "   'max_depth': 3,\n",
              "   'max_features': 3,\n",
              "   'splitter': 'random'}],\n",
              " 'split0_test_score': array([0.65329513, 0.65616046, 0.65329513, 0.65329513, 0.65329513,\n",
              "        0.65329513, 0.65329513, 0.65329513, 0.66762178, 0.65329513,\n",
              "        0.63896848, 0.69340974, 0.68481375, 0.6504298 , 0.67335244,\n",
              "        0.68194842, 0.73352436, 0.64756447, 0.65329513, 0.65329513,\n",
              "        0.65329513, 0.65329513, 0.65329513, 0.67335244, 0.65329513,\n",
              "        0.6504298 , 0.65329513, 0.64756447, 0.68194842, 0.67048711,\n",
              "        0.72206304, 0.65616046, 0.67335244, 0.6504298 , 0.66762178,\n",
              "        0.65329513]),\n",
              " 'split1_test_score': array([0.65329513, 0.65329513, 0.67048711, 0.66189112, 0.67048711,\n",
              "        0.65329513, 0.65616046, 0.66189112, 0.67048711, 0.66189112,\n",
              "        0.68481375, 0.64183381, 0.65329513, 0.65329513, 0.66189112,\n",
              "        0.67048711, 0.66762178, 0.65616046, 0.65329513, 0.65329513,\n",
              "        0.65329513, 0.65616046, 0.65329513, 0.66189112, 0.65616046,\n",
              "        0.65329513, 0.64469914, 0.63323782, 0.62464183, 0.65329513,\n",
              "        0.63323782, 0.65616046, 0.67621777, 0.64756447, 0.66189112,\n",
              "        0.63896848]),\n",
              " 'split2_test_score': array([0.65329513, 0.65329513, 0.65902579, 0.65329513, 0.6504298 ,\n",
              "        0.68194842, 0.65329513, 0.65329513, 0.65329513, 0.65616046,\n",
              "        0.70773639, 0.65329513, 0.64183381, 0.65902579, 0.70487106,\n",
              "        0.65616046, 0.67908309, 0.64469914, 0.65329513, 0.65329513,\n",
              "        0.65329513, 0.68767908, 0.65329513, 0.65329513, 0.69627507,\n",
              "        0.65329513, 0.64183381, 0.66475645, 0.68767908, 0.6504298 ,\n",
              "        0.62464183, 0.65329513, 0.67048711, 0.66762178, 0.68194842,\n",
              "        0.66475645]),\n",
              " 'split3_test_score': array([0.68481375, 0.65329513, 0.65329513, 0.65329513, 0.65329513,\n",
              "        0.65329513, 0.65329513, 0.65616046, 0.63037249, 0.66189112,\n",
              "        0.66762178, 0.65616046, 0.69627507, 0.65616046, 0.69627507,\n",
              "        0.66762178, 0.64469914, 0.67908309, 0.61031519, 0.65329513,\n",
              "        0.61031519, 0.65329513, 0.65329513, 0.65329513, 0.69340974,\n",
              "        0.65329513, 0.69340974, 0.65329513, 0.6991404 , 0.65616046,\n",
              "        0.69627507, 0.65329513, 0.72206304, 0.64756447, 0.64469914,\n",
              "        0.65616046]),\n",
              " 'split4_test_score': array([0.66189112, 0.65329513, 0.65329513, 0.65329513, 0.67335244,\n",
              "        0.65329513, 0.65329513, 0.65329513, 0.68481375, 0.65329513,\n",
              "        0.68194842, 0.65329513, 0.67335244, 0.6504298 , 0.68481375,\n",
              "        0.65329513, 0.68767908, 0.66475645, 0.65329513, 0.65329513,\n",
              "        0.65329513, 0.63610315, 0.67335244, 0.65329513, 0.69627507,\n",
              "        0.65329513, 0.65329513, 0.66475645, 0.67908309, 0.65329513,\n",
              "        0.66475645, 0.66475645, 0.65902579, 0.64756447, 0.69340974,\n",
              "        0.67621777]),\n",
              " 'split5_test_score': array([0.65616046, 0.65616046, 0.67048711, 0.65616046, 0.65616046,\n",
              "        0.65616046, 0.67621777, 0.68194842, 0.65616046, 0.67908309,\n",
              "        0.65616046, 0.65616046, 0.72492837, 0.67908309, 0.67335244,\n",
              "        0.62464183, 0.65902579, 0.67048711, 0.65616046, 0.65616046,\n",
              "        0.66475645, 0.61318052, 0.65616046, 0.66762178, 0.67048711,\n",
              "        0.65902579, 0.64469914, 0.65902579, 0.67335244, 0.65616046,\n",
              "        0.67621777, 0.65616046, 0.70773639, 0.69340974, 0.69054441,\n",
              "        0.66189112]),\n",
              " 'split6_test_score': array([0.66762178, 0.65616046, 0.66762178, 0.65616046, 0.67048711,\n",
              "        0.65329513, 0.63896848, 0.65616046, 0.65616046, 0.65902579,\n",
              "        0.68767908, 0.66189112, 0.68194842, 0.65616046, 0.71633238,\n",
              "        0.6504298 , 0.71919771, 0.70773639, 0.66762178, 0.65616046,\n",
              "        0.66762178, 0.65616046, 0.65616046, 0.65616046, 0.67335244,\n",
              "        0.66189112, 0.68481375, 0.65616046, 0.69340974, 0.65616046,\n",
              "        0.65616046, 0.67048711, 0.7277937 , 0.65902579, 0.70773639,\n",
              "        0.65902579]),\n",
              " 'split7_test_score': array([0.65616046, 0.65616046, 0.65329513, 0.65902579, 0.63896848,\n",
              "        0.65616046, 0.65616046, 0.65902579, 0.65329513, 0.67048711,\n",
              "        0.67621777, 0.65616046, 0.69627507, 0.65329513, 0.69340974,\n",
              "        0.67621777, 0.67908309, 0.65902579, 0.63896848, 0.65902579,\n",
              "        0.65616046, 0.65329513, 0.63896848, 0.65616046, 0.66189112,\n",
              "        0.65616046, 0.65616046, 0.67335244, 0.65902579, 0.65616046,\n",
              "        0.65616046, 0.65902579, 0.68481375, 0.65329513, 0.67908309,\n",
              "        0.67048711]),\n",
              " 'split8_test_score': array([0.65616046, 0.65616046, 0.65616046, 0.65616046, 0.67621777,\n",
              "        0.65616046, 0.70200573, 0.65616046, 0.65616046, 0.65616046,\n",
              "        0.69627507, 0.64469914, 0.73638968, 0.65902579, 0.75358166,\n",
              "        0.70773639, 0.71060172, 0.65616046, 0.65616046, 0.65616046,\n",
              "        0.65616046, 0.67621777, 0.65616046, 0.65616046, 0.65616046,\n",
              "        0.65616046, 0.66475645, 0.65616046, 0.65616046, 0.65902579,\n",
              "        0.65616046, 0.68194842, 0.70487106, 0.65616046, 0.73638968,\n",
              "        0.66762178]),\n",
              " 'split9_test_score': array([0.65517241, 0.65517241, 0.66954023, 0.6954023 , 0.65229885,\n",
              "        0.70402299, 0.65517241, 0.65229885, 0.64942529, 0.65517241,\n",
              "        0.67816092, 0.65517241, 0.6408046 , 0.66091954, 0.66666667,\n",
              "        0.65517241, 0.69827586, 0.69827586, 0.65517241, 0.65517241,\n",
              "        0.66954023, 0.65517241, 0.67528736, 0.65517241, 0.64942529,\n",
              "        0.64367816, 0.64655172, 0.65517241, 0.6408046 , 0.68390805,\n",
              "        0.68103448, 0.63793103, 0.68678161, 0.69827586, 0.64367816,\n",
              "        0.65804598]),\n",
              " 'mean_test_score': array([0.65978658, 0.65491552, 0.6606503 , 0.65979811, 0.65949923,\n",
              "        0.66209284, 0.65978658, 0.65835309, 0.6577792 , 0.66064618,\n",
              "        0.67755821, 0.65720779, 0.68299163, 0.6577825 , 0.69245463,\n",
              "        0.66437111, 0.68787916, 0.66839492, 0.64975793, 0.65491552,\n",
              "        0.65377351, 0.65405592, 0.65692702, 0.65864045, 0.67067319,\n",
              "        0.65405263, 0.65835145, 0.65634819, 0.66952459, 0.65950828,\n",
              "        0.66667078, 0.65892204, 0.69131426, 0.6620912 , 0.68070019,\n",
              "        0.660647  ]),\n",
              " 'std_test_score': array([0.00937727, 0.00135344, 0.00748565, 0.01217164, 0.01164744,\n",
              "        0.01626333, 0.01643769, 0.00835186, 0.01363167, 0.0078789 ,\n",
              "        0.01866364, 0.01327928, 0.03068527, 0.00787596, 0.02619858,\n",
              "        0.02103642, 0.02636459, 0.01988722, 0.01467177, 0.00186382,\n",
              "        0.01569052, 0.01904365, 0.00991933, 0.00651052, 0.01756961,\n",
              "        0.00467022, 0.01676643, 0.01029431, 0.02272812, 0.00959465,\n",
              "        0.02731563, 0.01106726, 0.02195304, 0.01792143, 0.02699337,\n",
              "        0.0097974 ]),\n",
              " 'rank_test_score': array([18, 31, 14, 17, 21, 12, 18, 24, 27, 16,  6, 28,  4, 26,  1, 11,  3,\n",
              "         9, 36, 31, 35, 33, 29, 23,  7, 34, 25, 30,  8, 20, 10, 22,  2, 13,\n",
              "         5, 15], dtype=int32)}"
            ]
          },
          "metadata": {
            "tags": []
          },
          "execution_count": 23
        }
      ]
    },
    {
      "cell_type": "code",
      "metadata": {
        "id": "qmzMPoBDcQzq",
        "colab_type": "code",
        "colab": {},
        "outputId": "54827f90-2bd8-4960-cb2e-6fa20bdabda9"
      },
      "source": [
        "print('Best score: {}'.format(grid_search.best_score_))\n",
        "print('Best parameters: {}'.format(grid_search.best_params_))\n",
        "\n",
        "best_dtc = grid_search.best_estimator_\n",
        "best_dtc"
      ],
      "execution_count": 0,
      "outputs": [
        {
          "output_type": "stream",
          "text": [
            "Best score: 0.6924546322827125\n",
            "Best parameters: {'criterion': 'gini', 'max_depth': 3, 'max_features': 2, 'splitter': 'best'}\n"
          ],
          "name": "stdout"
        },
        {
          "output_type": "execute_result",
          "data": {
            "text/plain": [
              "DecisionTreeClassifier(ccp_alpha=0.0, class_weight=None, criterion='gini',\n",
              "                       max_depth=3, max_features=2, max_leaf_nodes=None,\n",
              "                       min_impurity_decrease=0.0, min_impurity_split=None,\n",
              "                       min_samples_leaf=1, min_samples_split=2,\n",
              "                       min_weight_fraction_leaf=0.0, presort='deprecated',\n",
              "                       random_state=None, splitter='best')"
            ]
          },
          "metadata": {
            "tags": []
          },
          "execution_count": 24
        }
      ]
    },
    {
      "cell_type": "code",
      "metadata": {
        "id": "sYHg4xQgcQzs",
        "colab_type": "code",
        "colab": {},
        "outputId": "2c6e577a-0139-4fef-f9e1-325ed416595b"
      },
      "source": [
        "my_model=best_dtc\n",
        "my_model.fit(train_X_imp, train_y)\n",
        "my_model.score(train_X_imp, train_y)"
      ],
      "execution_count": 0,
      "outputs": [
        {
          "output_type": "execute_result",
          "data": {
            "text/plain": [
              "0.6890226425910003"
            ]
          },
          "metadata": {
            "tags": []
          },
          "execution_count": 25
        }
      ]
    },
    {
      "cell_type": "code",
      "metadata": {
        "id": "1YfuqF-ucQzu",
        "colab_type": "code",
        "colab": {},
        "outputId": "ff550c20-4bb4-40ea-cbe5-ac14f6f50c2c"
      },
      "source": [
        "y_pred = my_model.predict(train_X_imp)\n",
        "print(\"Confusion Matrix:\")\n",
        "print(confusion_matrix(train_y, y_pred))\n",
        "\n",
        "print(\"Classification Report:\")\n",
        "print(classification_report(train_y, y_pred))"
      ],
      "execution_count": 0,
      "outputs": [
        {
          "output_type": "stream",
          "text": [
            "Confusion Matrix:\n",
            "[[ 458  747]\n",
            " [ 338 1946]]\n",
            "Classification Report:\n",
            "              precision    recall  f1-score   support\n",
            "\n",
            "           0       0.58      0.38      0.46      1205\n",
            "           1       0.72      0.85      0.78      2284\n",
            "\n",
            "    accuracy                           0.69      3489\n",
            "   macro avg       0.65      0.62      0.62      3489\n",
            "weighted avg       0.67      0.69      0.67      3489\n",
            "\n"
          ],
          "name": "stdout"
        }
      ]
    },
    {
      "cell_type": "code",
      "metadata": {
        "id": "Ak6ohoZacQzw",
        "colab_type": "code",
        "colab": {},
        "outputId": "7d8f269e-c0fc-463a-e222-e4394a82f5a3"
      },
      "source": [
        "# The snippet below will retrieve the feature importances from the model and make them into a DataFrame.\n",
        "feature_importances = pd.DataFrame(my_model.feature_importances_,\n",
        "                                   index = train_X.columns,\n",
        "                                   columns=['importance']).sort_values('importance', ascending=False)\n",
        "feature_importances"
      ],
      "execution_count": 0,
      "outputs": [
        {
          "output_type": "execute_result",
          "data": {
            "text/html": [
              "<div>\n",
              "<style scoped>\n",
              "    .dataframe tbody tr th:only-of-type {\n",
              "        vertical-align: middle;\n",
              "    }\n",
              "\n",
              "    .dataframe tbody tr th {\n",
              "        vertical-align: top;\n",
              "    }\n",
              "\n",
              "    .dataframe thead th {\n",
              "        text-align: right;\n",
              "    }\n",
              "</style>\n",
              "<table border=\"1\" class=\"dataframe\">\n",
              "  <thead>\n",
              "    <tr style=\"text-align: right;\">\n",
              "      <th></th>\n",
              "      <th>importance</th>\n",
              "    </tr>\n",
              "  </thead>\n",
              "  <tbody>\n",
              "    <tr>\n",
              "      <th>alcohol</th>\n",
              "      <td>0.320441</td>\n",
              "    </tr>\n",
              "    <tr>\n",
              "      <th>total.sulfur.dioxide</th>\n",
              "      <td>0.315301</td>\n",
              "    </tr>\n",
              "    <tr>\n",
              "      <th>citric.acid</th>\n",
              "      <td>0.216856</td>\n",
              "    </tr>\n",
              "    <tr>\n",
              "      <th>chlorides</th>\n",
              "      <td>0.105871</td>\n",
              "    </tr>\n",
              "    <tr>\n",
              "      <th>sulphates</th>\n",
              "      <td>0.041532</td>\n",
              "    </tr>\n",
              "    <tr>\n",
              "      <th>fixed.acidity</th>\n",
              "      <td>0.000000</td>\n",
              "    </tr>\n",
              "    <tr>\n",
              "      <th>volatile.acidity</th>\n",
              "      <td>0.000000</td>\n",
              "    </tr>\n",
              "    <tr>\n",
              "      <th>residual.sugar</th>\n",
              "      <td>0.000000</td>\n",
              "    </tr>\n",
              "    <tr>\n",
              "      <th>free.sulfur.dioxide</th>\n",
              "      <td>0.000000</td>\n",
              "    </tr>\n",
              "    <tr>\n",
              "      <th>density</th>\n",
              "      <td>0.000000</td>\n",
              "    </tr>\n",
              "    <tr>\n",
              "      <th>pH</th>\n",
              "      <td>0.000000</td>\n",
              "    </tr>\n",
              "  </tbody>\n",
              "</table>\n",
              "</div>"
            ],
            "text/plain": [
              "                      importance\n",
              "alcohol                 0.320441\n",
              "total.sulfur.dioxide    0.315301\n",
              "citric.acid             0.216856\n",
              "chlorides               0.105871\n",
              "sulphates               0.041532\n",
              "fixed.acidity           0.000000\n",
              "volatile.acidity        0.000000\n",
              "residual.sugar          0.000000\n",
              "free.sulfur.dioxide     0.000000\n",
              "density                 0.000000\n",
              "pH                      0.000000"
            ]
          },
          "metadata": {
            "tags": []
          },
          "execution_count": 27
        }
      ]
    },
    {
      "cell_type": "markdown",
      "metadata": {
        "id": "wrK4RxylcQzy",
        "colab_type": "text"
      },
      "source": [
        "### Submit the final model"
      ]
    },
    {
      "cell_type": "code",
      "metadata": {
        "id": "8scvMiJicQzy",
        "colab_type": "code",
        "colab": {}
      },
      "source": [
        "# generate a submission file\n",
        "#generateSubmission(my_model,'DecisionTree.csv', \"User defined decision tree evaluated with grid search\")"
      ],
      "execution_count": 0,
      "outputs": []
    },
    {
      "cell_type": "markdown",
      "metadata": {
        "_cell_guid": "677b20af-bc56-4db1-aac3-1010389367ba",
        "_uuid": "c5294634157ca8c52d35c999ee949023b9544ee1",
        "id": "Vl2xROUscQz1",
        "colab_type": "text"
      },
      "source": [
        "Step by step commands...\n",
        "\n",
        "In addition to your training data, there will be test data. This is frequently stored in a file with the title `test.csv`. This data won't include a column with your target (y), because that is what we'll have to predict and submit.  Here is sample code to do that. "
      ]
    },
    {
      "cell_type": "code",
      "metadata": {
        "_cell_guid": "a023518d-78e0-4e58-a243-6d1fe98992b9",
        "_uuid": "7bc843ef333847d305f576489d3e2aa3afc9384d",
        "id": "_TPmWWIUcQz1",
        "colab_type": "code",
        "colab": {},
        "outputId": "7823cbc7-7246-483d-f911-a64020cd9eb2"
      },
      "source": [
        "# Read the test data\n",
        "test = pd.read_csv('https://raw.githubusercontent.com/serivan/mldmlab/master/Datasets/Kaggle2020/test.csv')\n",
        "\n",
        "\n",
        "# Treat the test data in the same way as training data. In this case, pull same columns.\n",
        "test_X = test[predictor_cols]\n",
        "\n",
        "# Impute each test item, then predict\n",
        "test_X_imp = imp.transform(test_X)\n",
        "\n",
        "# Use the model to make predictions\n",
        "predicted_q = my_model.predict(test_X_imp)\n",
        "# We will look at the predicted Qualities to ensure we have something sensible.\n",
        "print(predicted_q)\n"
      ],
      "execution_count": 0,
      "outputs": [
        {
          "output_type": "stream",
          "text": [
            "[0 1 0 ... 1 0 1]\n"
          ],
          "name": "stdout"
        }
      ]
    },
    {
      "cell_type": "markdown",
      "metadata": {
        "_cell_guid": "258e450a-d82c-4a7f-af22-cc695f74b4e3",
        "_uuid": "49e253dc359af831d8e248979b90c70dfcbef99a",
        "id": "EHZwo_p0cQz3",
        "colab_type": "text"
      },
      "source": [
        "# Prepare Submission File\n",
        "We make submissions in CSV files.  Your submissions usually have two columns: an ID column and a prediction column.  The ID field comes from the test data (keeping whatever name the ID field had in that data, which for the housing data is the string 'Id'). The prediction column will use the name of the target field.\n",
        "\n",
        "We will create a DataFrame with this data, and then use the dataframe's `to_csv` method to write our submission file.  Explicitly include the argument `index=False` to prevent pandas from adding another column in our csv file."
      ]
    },
    {
      "cell_type": "code",
      "metadata": {
        "_cell_guid": "092f5aed-0de4-4295-80ee-c193c8b84edd",
        "_uuid": "da5946c5fbc32fdb537788cd6ad5da1d6d698ae6",
        "id": "YWgl8n1IcQz3",
        "colab_type": "code",
        "colab": {}
      },
      "source": [
        "my_submission = pd.DataFrame({'Id': test.Id, 'Quality': predicted_q})\n",
        "# you could use any filename. We choose submission here\n",
        "my_submission.to_csv('submission.csv', index=False)"
      ],
      "execution_count": 0,
      "outputs": []
    },
    {
      "cell_type": "markdown",
      "metadata": {
        "id": "MI90OYzMcQz5",
        "colab_type": "text"
      },
      "source": [
        "# Make Submission\n",
        "Hit the blue **Publish** button at the top of your notebook screen.  It will take some time for your kernel to run.  When it has finished your navigation bar at the top of the screen will have a tab for **Output**.  This only shows up if you have written an output file (like we did in the **Prepare Submission File** step).  \n",
        "\n",
        "Otherwise, if you have a kaggle API token (https://www.kaggle.com/docs/api#getting-started-installation-&-authentication), you can use the following command (remove the '#'):"
      ]
    },
    {
      "cell_type": "code",
      "metadata": {
        "id": "FOiar0c4cQz5",
        "colab_type": "code",
        "colab": {}
      },
      "source": [
        "# !kaggle competitions submit -c mldm-classification-competition-2020 -f submission.csv -m \"Please describe the technique used\""
      ],
      "execution_count": 0,
      "outputs": []
    },
    {
      "cell_type": "markdown",
      "metadata": {
        "_cell_guid": "ab2280a4-9c65-4810-8813-831f4dcd86e1",
        "_uuid": "97f80b7f76066fd78cdb5137757fb3c63abd0519",
        "id": "gFKeS8jBcQz7",
        "colab_type": "text"
      },
      "source": [
        "\n",
        "# Last Steps \n",
        "Click on the Output button.  This will bring you to a screen with an option to **Submit to Competition**.  Hit that and you will see how your model performed.\n",
        "\n",
        "If you want to go back to improve your model, click the Edit button, which re-opens the kernel.  You'll need to re-run all the cells when you re-open the kernel.\n",
        "\n",
        "# Conclusion\n",
        "You've completed Level 1 of Machine Learning.  Congrats.  \n",
        "\n",
        "If you are ready to keep improving your model (and your skills), start level 2 of [Learn Machine Learning](https://www.kaggle.com/learn/machine-learning). \n",
        "\n",
        "Level 2 covers more powerful models, techniques to include non-numeric data, and more.  You can make more submissions to the competition and climb up the leaderboard as you go through the course.\n",
        "\n",
        "\n"
      ]
    }
  ]
}