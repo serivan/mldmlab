{
  "cells": [
    {
      "cell_type": "markdown",
      "metadata": {
        "id": "ahc60uaA1LC8"
      },
      "source": [
        "# Ohio Clinic Dataset - Advanced ML Pipeline"
      ]
    },
    {
      "cell_type": "code",
      "execution_count": 1,
      "metadata": {
        "id": "nOJkJWkB1MTz",
        "outputId": "4defc48d-f1d6-4339-b11d-7914b3958ea2",
        "colab": {
          "base_uri": "https://localhost:8080/"
        }
      },
      "outputs": [
        {
          "output_type": "stream",
          "name": "stdout",
          "text": [
            "Collecting ydata-profiling\n",
            "  Downloading ydata_profiling-4.8.3-py2.py3-none-any.whl (359 kB)\n",
            "\u001b[2K     \u001b[90m━━━━━━━━━━━━━━━━━━━━━━━━━━━━━━━━━━━━━━━━\u001b[0m \u001b[32m359.5/359.5 kB\u001b[0m \u001b[31m4.9 MB/s\u001b[0m eta \u001b[36m0:00:00\u001b[0m\n",
            "\u001b[?25hCollecting optuna-integration\n",
            "  Downloading optuna_integration-3.6.0-py3-none-any.whl (93 kB)\n",
            "\u001b[2K     \u001b[90m━━━━━━━━━━━━━━━━━━━━━━━━━━━━━━━━━━━━━━━━\u001b[0m \u001b[32m93.4/93.4 kB\u001b[0m \u001b[31m1.6 MB/s\u001b[0m eta \u001b[36m0:00:00\u001b[0m\n",
            "\u001b[?25hRequirement already satisfied: scipy<1.14,>=1.4.1 in /usr/local/lib/python3.10/dist-packages (from ydata-profiling) (1.11.4)\n",
            "Requirement already satisfied: pandas!=1.4.0,<3,>1.1 in /usr/local/lib/python3.10/dist-packages (from ydata-profiling) (2.0.3)\n",
            "Requirement already satisfied: matplotlib<3.9,>=3.2 in /usr/local/lib/python3.10/dist-packages (from ydata-profiling) (3.7.1)\n",
            "Requirement already satisfied: pydantic>=2 in /usr/local/lib/python3.10/dist-packages (from ydata-profiling) (2.7.1)\n",
            "Requirement already satisfied: PyYAML<6.1,>=5.0.0 in /usr/local/lib/python3.10/dist-packages (from ydata-profiling) (6.0.1)\n",
            "Requirement already satisfied: jinja2<3.2,>=2.11.1 in /usr/local/lib/python3.10/dist-packages (from ydata-profiling) (3.1.4)\n",
            "Collecting visions[type_image_path]<0.7.7,>=0.7.5 (from ydata-profiling)\n",
            "  Downloading visions-0.7.6-py3-none-any.whl (104 kB)\n",
            "\u001b[2K     \u001b[90m━━━━━━━━━━━━━━━━━━━━━━━━━━━━━━━━━━━━━━━━\u001b[0m \u001b[32m104.8/104.8 kB\u001b[0m \u001b[31m11.0 MB/s\u001b[0m eta \u001b[36m0:00:00\u001b[0m\n",
            "\u001b[?25hRequirement already satisfied: numpy<2,>=1.16.0 in /usr/local/lib/python3.10/dist-packages (from ydata-profiling) (1.25.2)\n",
            "Collecting htmlmin==0.1.12 (from ydata-profiling)\n",
            "  Downloading htmlmin-0.1.12.tar.gz (19 kB)\n",
            "  Preparing metadata (setup.py) ... \u001b[?25l\u001b[?25hdone\n",
            "Collecting phik<0.13,>=0.11.1 (from ydata-profiling)\n",
            "  Downloading phik-0.12.4-cp310-cp310-manylinux_2_17_x86_64.manylinux2014_x86_64.whl (686 kB)\n",
            "\u001b[2K     \u001b[90m━━━━━━━━━━━━━━━━━━━━━━━━━━━━━━━━━━━━━━━━\u001b[0m \u001b[32m686.1/686.1 kB\u001b[0m \u001b[31m26.4 MB/s\u001b[0m eta \u001b[36m0:00:00\u001b[0m\n",
            "\u001b[?25hRequirement already satisfied: requests<3,>=2.24.0 in /usr/local/lib/python3.10/dist-packages (from ydata-profiling) (2.31.0)\n",
            "Requirement already satisfied: tqdm<5,>=4.48.2 in /usr/local/lib/python3.10/dist-packages (from ydata-profiling) (4.66.4)\n",
            "Requirement already satisfied: seaborn<0.14,>=0.10.1 in /usr/local/lib/python3.10/dist-packages (from ydata-profiling) (0.13.1)\n",
            "Collecting multimethod<2,>=1.4 (from ydata-profiling)\n",
            "  Downloading multimethod-1.11.2-py3-none-any.whl (10 kB)\n",
            "Requirement already satisfied: statsmodels<1,>=0.13.2 in /usr/local/lib/python3.10/dist-packages (from ydata-profiling) (0.14.2)\n",
            "Collecting typeguard<5,>=3 (from ydata-profiling)\n",
            "  Downloading typeguard-4.3.0-py3-none-any.whl (35 kB)\n",
            "Collecting imagehash==4.3.1 (from ydata-profiling)\n",
            "  Downloading ImageHash-4.3.1-py2.py3-none-any.whl (296 kB)\n",
            "\u001b[2K     \u001b[90m━━━━━━━━━━━━━━━━━━━━━━━━━━━━━━━━━━━━━━━━\u001b[0m \u001b[32m296.5/296.5 kB\u001b[0m \u001b[31m26.4 MB/s\u001b[0m eta \u001b[36m0:00:00\u001b[0m\n",
            "\u001b[?25hRequirement already satisfied: wordcloud>=1.9.1 in /usr/local/lib/python3.10/dist-packages (from ydata-profiling) (1.9.3)\n",
            "Collecting dacite>=1.8 (from ydata-profiling)\n",
            "  Downloading dacite-1.8.1-py3-none-any.whl (14 kB)\n",
            "Requirement already satisfied: numba<1,>=0.56.0 in /usr/local/lib/python3.10/dist-packages (from ydata-profiling) (0.58.1)\n",
            "Requirement already satisfied: PyWavelets in /usr/local/lib/python3.10/dist-packages (from imagehash==4.3.1->ydata-profiling) (1.6.0)\n",
            "Requirement already satisfied: pillow in /usr/local/lib/python3.10/dist-packages (from imagehash==4.3.1->ydata-profiling) (9.4.0)\n",
            "Collecting optuna (from optuna-integration)\n",
            "  Downloading optuna-3.6.1-py3-none-any.whl (380 kB)\n",
            "\u001b[2K     \u001b[90m━━━━━━━━━━━━━━━━━━━━━━━━━━━━━━━━━━━━━━━━\u001b[0m \u001b[32m380.1/380.1 kB\u001b[0m \u001b[31m28.7 MB/s\u001b[0m eta \u001b[36m0:00:00\u001b[0m\n",
            "\u001b[?25hRequirement already satisfied: MarkupSafe>=2.0 in /usr/local/lib/python3.10/dist-packages (from jinja2<3.2,>=2.11.1->ydata-profiling) (2.1.5)\n",
            "Requirement already satisfied: contourpy>=1.0.1 in /usr/local/lib/python3.10/dist-packages (from matplotlib<3.9,>=3.2->ydata-profiling) (1.2.1)\n",
            "Requirement already satisfied: cycler>=0.10 in /usr/local/lib/python3.10/dist-packages (from matplotlib<3.9,>=3.2->ydata-profiling) (0.12.1)\n",
            "Requirement already satisfied: fonttools>=4.22.0 in /usr/local/lib/python3.10/dist-packages (from matplotlib<3.9,>=3.2->ydata-profiling) (4.51.0)\n",
            "Requirement already satisfied: kiwisolver>=1.0.1 in /usr/local/lib/python3.10/dist-packages (from matplotlib<3.9,>=3.2->ydata-profiling) (1.4.5)\n",
            "Requirement already satisfied: packaging>=20.0 in /usr/local/lib/python3.10/dist-packages (from matplotlib<3.9,>=3.2->ydata-profiling) (24.0)\n",
            "Requirement already satisfied: pyparsing>=2.3.1 in /usr/local/lib/python3.10/dist-packages (from matplotlib<3.9,>=3.2->ydata-profiling) (3.1.2)\n",
            "Requirement already satisfied: python-dateutil>=2.7 in /usr/local/lib/python3.10/dist-packages (from matplotlib<3.9,>=3.2->ydata-profiling) (2.8.2)\n",
            "Requirement already satisfied: llvmlite<0.42,>=0.41.0dev0 in /usr/local/lib/python3.10/dist-packages (from numba<1,>=0.56.0->ydata-profiling) (0.41.1)\n",
            "Requirement already satisfied: pytz>=2020.1 in /usr/local/lib/python3.10/dist-packages (from pandas!=1.4.0,<3,>1.1->ydata-profiling) (2023.4)\n",
            "Requirement already satisfied: tzdata>=2022.1 in /usr/local/lib/python3.10/dist-packages (from pandas!=1.4.0,<3,>1.1->ydata-profiling) (2024.1)\n",
            "Requirement already satisfied: joblib>=0.14.1 in /usr/local/lib/python3.10/dist-packages (from phik<0.13,>=0.11.1->ydata-profiling) (1.4.2)\n",
            "Requirement already satisfied: annotated-types>=0.4.0 in /usr/local/lib/python3.10/dist-packages (from pydantic>=2->ydata-profiling) (0.7.0)\n",
            "Requirement already satisfied: pydantic-core==2.18.2 in /usr/local/lib/python3.10/dist-packages (from pydantic>=2->ydata-profiling) (2.18.2)\n",
            "Requirement already satisfied: typing-extensions>=4.6.1 in /usr/local/lib/python3.10/dist-packages (from pydantic>=2->ydata-profiling) (4.11.0)\n",
            "Requirement already satisfied: charset-normalizer<4,>=2 in /usr/local/lib/python3.10/dist-packages (from requests<3,>=2.24.0->ydata-profiling) (3.3.2)\n",
            "Requirement already satisfied: idna<4,>=2.5 in /usr/local/lib/python3.10/dist-packages (from requests<3,>=2.24.0->ydata-profiling) (3.7)\n",
            "Requirement already satisfied: urllib3<3,>=1.21.1 in /usr/local/lib/python3.10/dist-packages (from requests<3,>=2.24.0->ydata-profiling) (2.0.7)\n",
            "Requirement already satisfied: certifi>=2017.4.17 in /usr/local/lib/python3.10/dist-packages (from requests<3,>=2.24.0->ydata-profiling) (2024.2.2)\n",
            "Requirement already satisfied: patsy>=0.5.6 in /usr/local/lib/python3.10/dist-packages (from statsmodels<1,>=0.13.2->ydata-profiling) (0.5.6)\n",
            "Requirement already satisfied: attrs>=19.3.0 in /usr/local/lib/python3.10/dist-packages (from visions[type_image_path]<0.7.7,>=0.7.5->ydata-profiling) (23.2.0)\n",
            "Requirement already satisfied: networkx>=2.4 in /usr/local/lib/python3.10/dist-packages (from visions[type_image_path]<0.7.7,>=0.7.5->ydata-profiling) (3.3)\n",
            "Collecting alembic>=1.5.0 (from optuna->optuna-integration)\n",
            "  Downloading alembic-1.13.1-py3-none-any.whl (233 kB)\n",
            "\u001b[2K     \u001b[90m━━━━━━━━━━━━━━━━━━━━━━━━━━━━━━━━━━━━━━━━\u001b[0m \u001b[32m233.4/233.4 kB\u001b[0m \u001b[31m15.4 MB/s\u001b[0m eta \u001b[36m0:00:00\u001b[0m\n",
            "\u001b[?25hCollecting colorlog (from optuna->optuna-integration)\n",
            "  Downloading colorlog-6.8.2-py3-none-any.whl (11 kB)\n",
            "Requirement already satisfied: sqlalchemy>=1.3.0 in /usr/local/lib/python3.10/dist-packages (from optuna->optuna-integration) (2.0.30)\n",
            "Collecting Mako (from alembic>=1.5.0->optuna->optuna-integration)\n",
            "  Downloading Mako-1.3.5-py3-none-any.whl (78 kB)\n",
            "\u001b[2K     \u001b[90m━━━━━━━━━━━━━━━━━━━━━━━━━━━━━━━━━━━━━━━━\u001b[0m \u001b[32m78.6/78.6 kB\u001b[0m \u001b[31m5.9 MB/s\u001b[0m eta \u001b[36m0:00:00\u001b[0m\n",
            "\u001b[?25hRequirement already satisfied: six in /usr/local/lib/python3.10/dist-packages (from patsy>=0.5.6->statsmodels<1,>=0.13.2->ydata-profiling) (1.16.0)\n",
            "Requirement already satisfied: greenlet!=0.4.17 in /usr/local/lib/python3.10/dist-packages (from sqlalchemy>=1.3.0->optuna->optuna-integration) (3.0.3)\n",
            "Building wheels for collected packages: htmlmin\n",
            "  Building wheel for htmlmin (setup.py) ... \u001b[?25l\u001b[?25hdone\n",
            "  Created wheel for htmlmin: filename=htmlmin-0.1.12-py3-none-any.whl size=27080 sha256=8fea4a30823b7b1b8855989ae7d6c12182f819c38c13e25396ab9b35cf9cdba8\n",
            "  Stored in directory: /root/.cache/pip/wheels/dd/91/29/a79cecb328d01739e64017b6fb9a1ab9d8cb1853098ec5966d\n",
            "Successfully built htmlmin\n",
            "Installing collected packages: htmlmin, typeguard, multimethod, Mako, dacite, colorlog, imagehash, alembic, visions, phik, optuna, optuna-integration, ydata-profiling\n",
            "Successfully installed Mako-1.3.5 alembic-1.13.1 colorlog-6.8.2 dacite-1.8.1 htmlmin-0.1.12 imagehash-4.3.1 multimethod-1.11.2 optuna-3.6.1 optuna-integration-3.6.0 phik-0.12.4 typeguard-4.3.0 visions-0.7.6 ydata-profiling-4.8.3\n"
          ]
        }
      ],
      "source": [
        "!pip install ydata-profiling optuna-integration"
      ]
    },
    {
      "cell_type": "markdown",
      "metadata": {
        "id": "QYCiKsNO1cdB"
      },
      "source": [
        "## Mount GDrive"
      ]
    },
    {
      "cell_type": "code",
      "execution_count": 2,
      "metadata": {
        "id": "tHh89uQS1bQY"
      },
      "outputs": [],
      "source": [
        "#from google.colab import drive\n",
        "#drive.mount('/content/drive')"
      ]
    },
    {
      "cell_type": "markdown",
      "metadata": {
        "id": "oWY94H_81LC-"
      },
      "source": [
        "## Imports"
      ]
    },
    {
      "cell_type": "code",
      "execution_count": 3,
      "metadata": {
        "id": "Z6Ifx3Am1LC-"
      },
      "outputs": [],
      "source": [
        "import joblib\n",
        "\n",
        "import matplotlib\n",
        "import matplotlib.pyplot as plt\n",
        "\n",
        "import seaborn as sns\n",
        "\n",
        "import numpy as np\n",
        "import pandas as pd\n",
        "from ydata_profiling import ProfileReport\n",
        "\n",
        "from sklearn.pipeline import Pipeline\n",
        "from sklearn.preprocessing import MinMaxScaler, FunctionTransformer, OneHotEncoder\n",
        "from sklearn.ensemble import RandomForestClassifier\n",
        "from sklearn.compose import ColumnTransformer\n",
        "from sklearn.impute import SimpleImputer\n",
        "from sklearn.metrics import classification_report\n",
        "\n",
        "import optuna\n",
        "from optuna.integration import OptunaSearchCV\n",
        "from optuna.distributions import (\n",
        "    IntDistribution ,\n",
        "    CategoricalDistribution,\n",
        "    FloatDistribution,\n",
        ")"
      ]
    },
    {
      "cell_type": "code",
      "execution_count": 4,
      "metadata": {
        "id": "EBqrea1I1LDA"
      },
      "outputs": [],
      "source": [
        "from sklearn import set_config\n",
        "\n",
        "# Set sklearn to show diagrams for pipelines\n",
        "set_config(display='diagram')"
      ]
    },
    {
      "cell_type": "markdown",
      "metadata": {
        "id": "9gLsEQaU1LDA"
      },
      "source": [
        "## Constants"
      ]
    },
    {
      "cell_type": "code",
      "execution_count": 5,
      "metadata": {
        "id": "8lf1uQI21LDA"
      },
      "outputs": [],
      "source": [
        "# Set the verbose parameter to 1 to see the progress of the optimization\n",
        "VERBOSE = 1"
      ]
    },
    {
      "cell_type": "code",
      "execution_count": 16,
      "metadata": {
        "id": "via_oUKY1LDA"
      },
      "outputs": [],
      "source": [
        "# Base folder\n",
        "BASE_FOLDER = \"./\"\n",
        "BASE_URL = \"https://raw.githubusercontent.com/serivan/mldmlab/master/Datasets/\"\n",
        "\n",
        "# Define the train and test data paths\n",
        "TRAIN_DATA_PATH =  BASE_URL + \"mldm_ohio_clinic_train.csv\"\n",
        "TEST_DATA_PATH = BASE_URL + \"mldm_ohio_clinic_test.csv\"\n",
        "\n",
        "# Define the random state\n",
        "RANDOM_STATE = 3993"
      ]
    },
    {
      "cell_type": "code",
      "execution_count": 7,
      "metadata": {
        "id": "75AhUll11LDA"
      },
      "outputs": [],
      "source": [
        "# Define the optuna search hyperparameters\n",
        "N_TRIALS = 20\n",
        "N_JOBS = 8\n",
        "CROSS_VALIDATION = 3"
      ]
    },
    {
      "cell_type": "markdown",
      "metadata": {
        "id": "3gVU0W8r1LDA"
      },
      "source": [
        "## Load Data"
      ]
    },
    {
      "cell_type": "code",
      "execution_count": 8,
      "metadata": {
        "id": "EZPEFrxP1LDB"
      },
      "outputs": [],
      "source": [
        "# Load the train and test data from the CSV files using pandas\n",
        "train_data = pd.read_csv(TRAIN_DATA_PATH)\n",
        "test_data = pd.read_csv(TEST_DATA_PATH)"
      ]
    },
    {
      "cell_type": "markdown",
      "metadata": {
        "id": "G5TOmLQn1LDB",
        "vscode": {
          "languageId": "plaintext"
        }
      },
      "source": [
        "### Features Exploration"
      ]
    },
    {
      "cell_type": "code",
      "execution_count": 9,
      "metadata": {
        "colab": {
          "base_uri": "https://localhost:8080/",
          "height": 206
        },
        "id": "gmpFMTwO1LDB",
        "outputId": "1dbaf8d1-88dd-4dcc-fd69-cd060f5962a1"
      },
      "outputs": [
        {
          "output_type": "execute_result",
          "data": {
            "text/plain": [
              "      PatientId  AppointmentID Gender          ScheduledDay  \\\n",
              "0  5.816289e+11        5760331      F  2016-06-01T14:40:47Z   \n",
              "1  9.731556e+11        5676727      M  2016-05-09T16:20:41Z   \n",
              "2  3.958823e+13        5638275      M  2016-04-29T07:52:18Z   \n",
              "3  6.737886e+14        5696894      F  2016-05-13T14:34:40Z   \n",
              "4  7.759954e+12        5691063      M  2016-05-12T11:15:06Z   \n",
              "\n",
              "         AppointmentDay   Age  Neighbourhood  Scholarship  Hipertension  \\\n",
              "0  2016-06-01T00:00:00Z   NaN       DA PENHA          0.0           0.0   \n",
              "1  2016-05-11T00:00:00Z  32.0     TABUAZEIRO          0.0           0.0   \n",
              "2  2016-05-03T00:00:00Z  58.0      CARATOÍRA          0.0           1.0   \n",
              "3  2016-05-16T00:00:00Z  28.0     CONSOLAÇÃO          NaN           0.0   \n",
              "4  2016-05-13T00:00:00Z   9.0  SÃO CRISTÓVÃO          0.0           0.0   \n",
              "\n",
              "   Diabetes  Alcoholism  Handcap  SMS_received No-show  \n",
              "0       0.0         0.0      0.0           0.0      No  \n",
              "1       0.0         0.0      0.0           0.0      No  \n",
              "2       0.0         0.0      0.0           NaN      No  \n",
              "3       0.0         NaN      0.0           0.0      No  \n",
              "4       0.0         0.0      0.0           0.0      No  "
            ],
            "text/html": [
              "\n",
              "  <div id=\"df-ef4e5716-66d2-4fd7-99e9-82e90c813542\" class=\"colab-df-container\">\n",
              "    <div>\n",
              "<style scoped>\n",
              "    .dataframe tbody tr th:only-of-type {\n",
              "        vertical-align: middle;\n",
              "    }\n",
              "\n",
              "    .dataframe tbody tr th {\n",
              "        vertical-align: top;\n",
              "    }\n",
              "\n",
              "    .dataframe thead th {\n",
              "        text-align: right;\n",
              "    }\n",
              "</style>\n",
              "<table border=\"1\" class=\"dataframe\">\n",
              "  <thead>\n",
              "    <tr style=\"text-align: right;\">\n",
              "      <th></th>\n",
              "      <th>PatientId</th>\n",
              "      <th>AppointmentID</th>\n",
              "      <th>Gender</th>\n",
              "      <th>ScheduledDay</th>\n",
              "      <th>AppointmentDay</th>\n",
              "      <th>Age</th>\n",
              "      <th>Neighbourhood</th>\n",
              "      <th>Scholarship</th>\n",
              "      <th>Hipertension</th>\n",
              "      <th>Diabetes</th>\n",
              "      <th>Alcoholism</th>\n",
              "      <th>Handcap</th>\n",
              "      <th>SMS_received</th>\n",
              "      <th>No-show</th>\n",
              "    </tr>\n",
              "  </thead>\n",
              "  <tbody>\n",
              "    <tr>\n",
              "      <th>0</th>\n",
              "      <td>5.816289e+11</td>\n",
              "      <td>5760331</td>\n",
              "      <td>F</td>\n",
              "      <td>2016-06-01T14:40:47Z</td>\n",
              "      <td>2016-06-01T00:00:00Z</td>\n",
              "      <td>NaN</td>\n",
              "      <td>DA PENHA</td>\n",
              "      <td>0.0</td>\n",
              "      <td>0.0</td>\n",
              "      <td>0.0</td>\n",
              "      <td>0.0</td>\n",
              "      <td>0.0</td>\n",
              "      <td>0.0</td>\n",
              "      <td>No</td>\n",
              "    </tr>\n",
              "    <tr>\n",
              "      <th>1</th>\n",
              "      <td>9.731556e+11</td>\n",
              "      <td>5676727</td>\n",
              "      <td>M</td>\n",
              "      <td>2016-05-09T16:20:41Z</td>\n",
              "      <td>2016-05-11T00:00:00Z</td>\n",
              "      <td>32.0</td>\n",
              "      <td>TABUAZEIRO</td>\n",
              "      <td>0.0</td>\n",
              "      <td>0.0</td>\n",
              "      <td>0.0</td>\n",
              "      <td>0.0</td>\n",
              "      <td>0.0</td>\n",
              "      <td>0.0</td>\n",
              "      <td>No</td>\n",
              "    </tr>\n",
              "    <tr>\n",
              "      <th>2</th>\n",
              "      <td>3.958823e+13</td>\n",
              "      <td>5638275</td>\n",
              "      <td>M</td>\n",
              "      <td>2016-04-29T07:52:18Z</td>\n",
              "      <td>2016-05-03T00:00:00Z</td>\n",
              "      <td>58.0</td>\n",
              "      <td>CARATOÍRA</td>\n",
              "      <td>0.0</td>\n",
              "      <td>1.0</td>\n",
              "      <td>0.0</td>\n",
              "      <td>0.0</td>\n",
              "      <td>0.0</td>\n",
              "      <td>NaN</td>\n",
              "      <td>No</td>\n",
              "    </tr>\n",
              "    <tr>\n",
              "      <th>3</th>\n",
              "      <td>6.737886e+14</td>\n",
              "      <td>5696894</td>\n",
              "      <td>F</td>\n",
              "      <td>2016-05-13T14:34:40Z</td>\n",
              "      <td>2016-05-16T00:00:00Z</td>\n",
              "      <td>28.0</td>\n",
              "      <td>CONSOLAÇÃO</td>\n",
              "      <td>NaN</td>\n",
              "      <td>0.0</td>\n",
              "      <td>0.0</td>\n",
              "      <td>NaN</td>\n",
              "      <td>0.0</td>\n",
              "      <td>0.0</td>\n",
              "      <td>No</td>\n",
              "    </tr>\n",
              "    <tr>\n",
              "      <th>4</th>\n",
              "      <td>7.759954e+12</td>\n",
              "      <td>5691063</td>\n",
              "      <td>M</td>\n",
              "      <td>2016-05-12T11:15:06Z</td>\n",
              "      <td>2016-05-13T00:00:00Z</td>\n",
              "      <td>9.0</td>\n",
              "      <td>SÃO CRISTÓVÃO</td>\n",
              "      <td>0.0</td>\n",
              "      <td>0.0</td>\n",
              "      <td>0.0</td>\n",
              "      <td>0.0</td>\n",
              "      <td>0.0</td>\n",
              "      <td>0.0</td>\n",
              "      <td>No</td>\n",
              "    </tr>\n",
              "  </tbody>\n",
              "</table>\n",
              "</div>\n",
              "    <div class=\"colab-df-buttons\">\n",
              "\n",
              "  <div class=\"colab-df-container\">\n",
              "    <button class=\"colab-df-convert\" onclick=\"convertToInteractive('df-ef4e5716-66d2-4fd7-99e9-82e90c813542')\"\n",
              "            title=\"Convert this dataframe to an interactive table.\"\n",
              "            style=\"display:none;\">\n",
              "\n",
              "  <svg xmlns=\"http://www.w3.org/2000/svg\" height=\"24px\" viewBox=\"0 -960 960 960\">\n",
              "    <path d=\"M120-120v-720h720v720H120Zm60-500h600v-160H180v160Zm220 220h160v-160H400v160Zm0 220h160v-160H400v160ZM180-400h160v-160H180v160Zm440 0h160v-160H620v160ZM180-180h160v-160H180v160Zm440 0h160v-160H620v160Z\"/>\n",
              "  </svg>\n",
              "    </button>\n",
              "\n",
              "  <style>\n",
              "    .colab-df-container {\n",
              "      display:flex;\n",
              "      gap: 12px;\n",
              "    }\n",
              "\n",
              "    .colab-df-convert {\n",
              "      background-color: #E8F0FE;\n",
              "      border: none;\n",
              "      border-radius: 50%;\n",
              "      cursor: pointer;\n",
              "      display: none;\n",
              "      fill: #1967D2;\n",
              "      height: 32px;\n",
              "      padding: 0 0 0 0;\n",
              "      width: 32px;\n",
              "    }\n",
              "\n",
              "    .colab-df-convert:hover {\n",
              "      background-color: #E2EBFA;\n",
              "      box-shadow: 0px 1px 2px rgba(60, 64, 67, 0.3), 0px 1px 3px 1px rgba(60, 64, 67, 0.15);\n",
              "      fill: #174EA6;\n",
              "    }\n",
              "\n",
              "    .colab-df-buttons div {\n",
              "      margin-bottom: 4px;\n",
              "    }\n",
              "\n",
              "    [theme=dark] .colab-df-convert {\n",
              "      background-color: #3B4455;\n",
              "      fill: #D2E3FC;\n",
              "    }\n",
              "\n",
              "    [theme=dark] .colab-df-convert:hover {\n",
              "      background-color: #434B5C;\n",
              "      box-shadow: 0px 1px 3px 1px rgba(0, 0, 0, 0.15);\n",
              "      filter: drop-shadow(0px 1px 2px rgba(0, 0, 0, 0.3));\n",
              "      fill: #FFFFFF;\n",
              "    }\n",
              "  </style>\n",
              "\n",
              "    <script>\n",
              "      const buttonEl =\n",
              "        document.querySelector('#df-ef4e5716-66d2-4fd7-99e9-82e90c813542 button.colab-df-convert');\n",
              "      buttonEl.style.display =\n",
              "        google.colab.kernel.accessAllowed ? 'block' : 'none';\n",
              "\n",
              "      async function convertToInteractive(key) {\n",
              "        const element = document.querySelector('#df-ef4e5716-66d2-4fd7-99e9-82e90c813542');\n",
              "        const dataTable =\n",
              "          await google.colab.kernel.invokeFunction('convertToInteractive',\n",
              "                                                    [key], {});\n",
              "        if (!dataTable) return;\n",
              "\n",
              "        const docLinkHtml = 'Like what you see? Visit the ' +\n",
              "          '<a target=\"_blank\" href=https://colab.research.google.com/notebooks/data_table.ipynb>data table notebook</a>'\n",
              "          + ' to learn more about interactive tables.';\n",
              "        element.innerHTML = '';\n",
              "        dataTable['output_type'] = 'display_data';\n",
              "        await google.colab.output.renderOutput(dataTable, element);\n",
              "        const docLink = document.createElement('div');\n",
              "        docLink.innerHTML = docLinkHtml;\n",
              "        element.appendChild(docLink);\n",
              "      }\n",
              "    </script>\n",
              "  </div>\n",
              "\n",
              "\n",
              "<div id=\"df-1555ae4c-165d-40ea-95db-8deef8e61aee\">\n",
              "  <button class=\"colab-df-quickchart\" onclick=\"quickchart('df-1555ae4c-165d-40ea-95db-8deef8e61aee')\"\n",
              "            title=\"Suggest charts\"\n",
              "            style=\"display:none;\">\n",
              "\n",
              "<svg xmlns=\"http://www.w3.org/2000/svg\" height=\"24px\"viewBox=\"0 0 24 24\"\n",
              "     width=\"24px\">\n",
              "    <g>\n",
              "        <path d=\"M19 3H5c-1.1 0-2 .9-2 2v14c0 1.1.9 2 2 2h14c1.1 0 2-.9 2-2V5c0-1.1-.9-2-2-2zM9 17H7v-7h2v7zm4 0h-2V7h2v10zm4 0h-2v-4h2v4z\"/>\n",
              "    </g>\n",
              "</svg>\n",
              "  </button>\n",
              "\n",
              "<style>\n",
              "  .colab-df-quickchart {\n",
              "      --bg-color: #E8F0FE;\n",
              "      --fill-color: #1967D2;\n",
              "      --hover-bg-color: #E2EBFA;\n",
              "      --hover-fill-color: #174EA6;\n",
              "      --disabled-fill-color: #AAA;\n",
              "      --disabled-bg-color: #DDD;\n",
              "  }\n",
              "\n",
              "  [theme=dark] .colab-df-quickchart {\n",
              "      --bg-color: #3B4455;\n",
              "      --fill-color: #D2E3FC;\n",
              "      --hover-bg-color: #434B5C;\n",
              "      --hover-fill-color: #FFFFFF;\n",
              "      --disabled-bg-color: #3B4455;\n",
              "      --disabled-fill-color: #666;\n",
              "  }\n",
              "\n",
              "  .colab-df-quickchart {\n",
              "    background-color: var(--bg-color);\n",
              "    border: none;\n",
              "    border-radius: 50%;\n",
              "    cursor: pointer;\n",
              "    display: none;\n",
              "    fill: var(--fill-color);\n",
              "    height: 32px;\n",
              "    padding: 0;\n",
              "    width: 32px;\n",
              "  }\n",
              "\n",
              "  .colab-df-quickchart:hover {\n",
              "    background-color: var(--hover-bg-color);\n",
              "    box-shadow: 0 1px 2px rgba(60, 64, 67, 0.3), 0 1px 3px 1px rgba(60, 64, 67, 0.15);\n",
              "    fill: var(--button-hover-fill-color);\n",
              "  }\n",
              "\n",
              "  .colab-df-quickchart-complete:disabled,\n",
              "  .colab-df-quickchart-complete:disabled:hover {\n",
              "    background-color: var(--disabled-bg-color);\n",
              "    fill: var(--disabled-fill-color);\n",
              "    box-shadow: none;\n",
              "  }\n",
              "\n",
              "  .colab-df-spinner {\n",
              "    border: 2px solid var(--fill-color);\n",
              "    border-color: transparent;\n",
              "    border-bottom-color: var(--fill-color);\n",
              "    animation:\n",
              "      spin 1s steps(1) infinite;\n",
              "  }\n",
              "\n",
              "  @keyframes spin {\n",
              "    0% {\n",
              "      border-color: transparent;\n",
              "      border-bottom-color: var(--fill-color);\n",
              "      border-left-color: var(--fill-color);\n",
              "    }\n",
              "    20% {\n",
              "      border-color: transparent;\n",
              "      border-left-color: var(--fill-color);\n",
              "      border-top-color: var(--fill-color);\n",
              "    }\n",
              "    30% {\n",
              "      border-color: transparent;\n",
              "      border-left-color: var(--fill-color);\n",
              "      border-top-color: var(--fill-color);\n",
              "      border-right-color: var(--fill-color);\n",
              "    }\n",
              "    40% {\n",
              "      border-color: transparent;\n",
              "      border-right-color: var(--fill-color);\n",
              "      border-top-color: var(--fill-color);\n",
              "    }\n",
              "    60% {\n",
              "      border-color: transparent;\n",
              "      border-right-color: var(--fill-color);\n",
              "    }\n",
              "    80% {\n",
              "      border-color: transparent;\n",
              "      border-right-color: var(--fill-color);\n",
              "      border-bottom-color: var(--fill-color);\n",
              "    }\n",
              "    90% {\n",
              "      border-color: transparent;\n",
              "      border-bottom-color: var(--fill-color);\n",
              "    }\n",
              "  }\n",
              "</style>\n",
              "\n",
              "  <script>\n",
              "    async function quickchart(key) {\n",
              "      const quickchartButtonEl =\n",
              "        document.querySelector('#' + key + ' button');\n",
              "      quickchartButtonEl.disabled = true;  // To prevent multiple clicks.\n",
              "      quickchartButtonEl.classList.add('colab-df-spinner');\n",
              "      try {\n",
              "        const charts = await google.colab.kernel.invokeFunction(\n",
              "            'suggestCharts', [key], {});\n",
              "      } catch (error) {\n",
              "        console.error('Error during call to suggestCharts:', error);\n",
              "      }\n",
              "      quickchartButtonEl.classList.remove('colab-df-spinner');\n",
              "      quickchartButtonEl.classList.add('colab-df-quickchart-complete');\n",
              "    }\n",
              "    (() => {\n",
              "      let quickchartButtonEl =\n",
              "        document.querySelector('#df-1555ae4c-165d-40ea-95db-8deef8e61aee button');\n",
              "      quickchartButtonEl.style.display =\n",
              "        google.colab.kernel.accessAllowed ? 'block' : 'none';\n",
              "    })();\n",
              "  </script>\n",
              "</div>\n",
              "    </div>\n",
              "  </div>\n"
            ],
            "application/vnd.google.colaboratory.intrinsic+json": {
              "type": "dataframe",
              "variable_name": "train_data"
            }
          },
          "metadata": {},
          "execution_count": 9
        }
      ],
      "source": [
        "# Print the first few rows of the train data to explore the columns and data\n",
        "train_data.head()"
      ]
    },
    {
      "cell_type": "code",
      "execution_count": 10,
      "metadata": {
        "colab": {
          "base_uri": "https://localhost:8080/"
        },
        "id": "p54ypmnD1LDC",
        "outputId": "3c3be1c6-a7d0-48d5-f907-e36edcb21bf7"
      },
      "outputs": [
        {
          "output_type": "stream",
          "name": "stdout",
          "text": [
            "Train data length: 114949\n",
            "Test data length: 22105\n"
          ]
        }
      ],
      "source": [
        "# Print the length of the train and test data\n",
        "print(f\"Train data length: {len(train_data)}\")\n",
        "print(f\"Test data length: {len(test_data)}\")"
      ]
    },
    {
      "cell_type": "code",
      "execution_count": 11,
      "metadata": {
        "colab": {
          "base_uri": "https://localhost:8080/"
        },
        "id": "J5pKxgmf1LDC",
        "outputId": "e7bb2a41-80cc-4a9d-9f8a-7462ed239d68"
      },
      "outputs": [
        {
          "output_type": "execute_result",
          "data": {
            "text/plain": [
              "PatientId         54081\n",
              "AppointmentID     88422\n",
              "Gender                2\n",
              "ScheduledDay      83768\n",
              "AppointmentDay       27\n",
              "Age                 104\n",
              "Neighbourhood        81\n",
              "Scholarship           2\n",
              "Hipertension          2\n",
              "Diabetes              2\n",
              "Alcoholism            2\n",
              "Handcap               5\n",
              "SMS_received          2\n",
              "No-show               2\n",
              "dtype: int64"
            ]
          },
          "metadata": {},
          "execution_count": 11
        }
      ],
      "source": [
        "# Print the frquency of each value in the target column\n",
        "train_data.nunique()"
      ]
    },
    {
      "cell_type": "code",
      "execution_count": 12,
      "metadata": {
        "colab": {
          "base_uri": "https://localhost:8080/"
        },
        "id": "uqf2ZwRQ1LDC",
        "outputId": "915df3e5-57b9-46cb-b5fb-10f4bbc804c0"
      },
      "outputs": [
        {
          "output_type": "execute_result",
          "data": {
            "text/plain": [
              "PatientId         float64\n",
              "AppointmentID       int64\n",
              "Gender             object\n",
              "ScheduledDay       object\n",
              "AppointmentDay     object\n",
              "Age               float64\n",
              "Neighbourhood      object\n",
              "Scholarship       float64\n",
              "Hipertension      float64\n",
              "Diabetes          float64\n",
              "Alcoholism        float64\n",
              "Handcap           float64\n",
              "SMS_received      float64\n",
              "No-show            object\n",
              "dtype: object"
            ]
          },
          "metadata": {},
          "execution_count": 12
        }
      ],
      "source": [
        "train_data.dtypes"
      ]
    },
    {
      "cell_type": "markdown",
      "metadata": {
        "id": "u7UG3pBW1LDC"
      },
      "source": [
        "### Dataset Profiling (Pandas Profiling)"
      ]
    },
    {
      "cell_type": "code",
      "execution_count": 13,
      "metadata": {
        "id": "MiUuSA151LDC"
      },
      "outputs": [],
      "source": [
        "# Profile the train data using the ydata_profiling library\n",
        "profile = ProfileReport(train_data, title=\"Profiling Report Train Data\", explorative=True)"
      ]
    },
    {
      "cell_type": "code",
      "execution_count": 14,
      "metadata": {
        "id": "hr1QtBck1LDD"
      },
      "outputs": [],
      "source": [
        "# Show the profile report in the notebook cell\n",
        "# profile.to_notebook_iframe()"
      ]
    },
    {
      "cell_type": "code",
      "execution_count": 18,
      "metadata": {
        "colab": {
          "base_uri": "https://localhost:8080/",
          "height": 84,
          "referenced_widgets": [
            "dbb90bc63be6423d97f0b94355bd27cf",
            "e6b7cc2b324b4b6bad42c1cc98461143",
            "20c02edd432245539d298c64d95dc21b",
            "b8e6d7630f6e4c99ab7eec9ada98cc7e",
            "042c4cd36a8e40a59468946dbfc6f355",
            "c649fe08f1c24df1bf7747a428844140",
            "717649519cbc423b83917f3cdc8c78a4",
            "e1b6cdb3fd23464588820dd4ab9e3c78",
            "640ae2e3d62c47ce9abd2811773a6a33",
            "3b7457a2eb204adeae1af2fc296ebc9b",
            "a33d267ab4dc42169e15695fa8ef4fd0"
          ]
        },
        "id": "M1G-LzdS1LDD",
        "outputId": "742918f1-1f42-4043-cb09-f63874eb8fb8"
      },
      "outputs": [
        {
          "output_type": "stream",
          "name": "stderr",
          "text": [
            "/usr/local/lib/python3.10/dist-packages/ydata_profiling/profile_report.py:363: UserWarning: Try running command: 'pip install --upgrade Pillow' to avoid ValueError\n",
            "  warnings.warn(\n"
          ]
        },
        {
          "output_type": "display_data",
          "data": {
            "text/plain": [
              "Export report to file:   0%|          | 0/1 [00:00<?, ?it/s]"
            ],
            "application/vnd.jupyter.widget-view+json": {
              "version_major": 2,
              "version_minor": 0,
              "model_id": "dbb90bc63be6423d97f0b94355bd27cf"
            }
          },
          "metadata": {}
        }
      ],
      "source": [
        "# Save the profile report to an HTML file\n",
        "profile.to_file( BASE_FOLDER + \"profiling_report_train_data.html\")"
      ]
    },
    {
      "cell_type": "markdown",
      "metadata": {
        "id": "jD1XsGDz1LDD"
      },
      "source": [
        "### Data Visualisation"
      ]
    },
    {
      "cell_type": "code",
      "execution_count": 19,
      "metadata": {
        "colab": {
          "base_uri": "https://localhost:8080/",
          "height": 457
        },
        "id": "KCYzUjkT1LDD",
        "outputId": "6ebb7cad-20a5-426a-d63e-809d5fa50995"
      },
      "outputs": [
        {
          "output_type": "display_data",
          "data": {
            "text/plain": [
              "<Figure size 640x480 with 1 Axes>"
            ],
            "image/png": "[encoded data removed]"
          },
          "metadata": {}
        }
      ],
      "source": [
        "# Print the bar chart of the Hipertension column\n",
        "train_data[\"Hipertension\"].value_counts().plot(kind=\"bar\")\n",
        "#sns.barplot(x=train_data[\"Hipertension\"].value_counts().index, y=train_data[\"Hipertension\"].value_counts().values)\n",
        "plt.show()"
      ]
    },
    {
      "cell_type": "code",
      "execution_count": 20,
      "metadata": {
        "colab": {
          "base_uri": "https://localhost:8080/",
          "height": 453
        },
        "id": "E9QOp5IA1LDD",
        "outputId": "700399a2-1323-4d8c-de94-e160c4571d42"
      },
      "outputs": [
        {
          "output_type": "display_data",
          "data": {
            "text/plain": [
              "<Figure size 640x480 with 1 Axes>"
            ],
            "image/png": "[encoded data removed]"
          },
          "metadata": {}
        }
      ],
      "source": [
        "# Plotting Box Plot of Patients’ Age by No-Shows\n",
        "sns.boxplot(x=train_data[\"No-show\"], y=train_data[\"Age\"])\n",
        "plt.show()"
      ]
    },
    {
      "cell_type": "markdown",
      "metadata": {
        "id": "qWQ7GriY1LDE"
      },
      "source": [
        "### Data Issues Identification"
      ]
    },
    {
      "cell_type": "code",
      "execution_count": 21,
      "metadata": {
        "colab": {
          "base_uri": "https://localhost:8080/"
        },
        "id": "N5zUdNt41LDE",
        "outputId": "b9a7af71-2ce3-4768-825b-5b9f9f91fa5a"
      },
      "outputs": [
        {
          "output_type": "execute_result",
          "data": {
            "text/plain": [
              "PatientId             0\n",
              "AppointmentID         0\n",
              "Gender            11462\n",
              "ScheduledDay          0\n",
              "AppointmentDay        0\n",
              "Age               11528\n",
              "Neighbourhood     11466\n",
              "Scholarship       11451\n",
              "Hipertension      11554\n",
              "Diabetes          11456\n",
              "Alcoholism        11512\n",
              "Handcap           11472\n",
              "SMS_received      11612\n",
              "No-show               0\n",
              "dtype: int64"
            ]
          },
          "metadata": {},
          "execution_count": 21
        }
      ],
      "source": [
        "# Count the number of missing values in each column of the train data\n",
        "train_data.isnull().sum()"
      ]
    },
    {
      "cell_type": "markdown",
      "metadata": {
        "id": "0lqoMaRM1LDE"
      },
      "source": [
        "## Data Preprocessing"
      ]
    },
    {
      "cell_type": "markdown",
      "metadata": {
        "id": "Tq7mAizQ1LDE"
      },
      "source": [
        "### Duplicates removal"
      ]
    },
    {
      "cell_type": "code",
      "execution_count": 22,
      "metadata": {
        "id": "MwIWCNJF1LDE"
      },
      "outputs": [],
      "source": [
        "# Remove duplicates from the train data\n",
        "train_data = train_data.drop_duplicates()\n",
        "test_data = test_data.drop_duplicates()"
      ]
    },
    {
      "cell_type": "code",
      "execution_count": 23,
      "metadata": {
        "colab": {
          "base_uri": "https://localhost:8080/"
        },
        "id": "nPESEq3r1LDE",
        "outputId": "6c50dd57-c055-4ac0-cba6-fd27e2d436db"
      },
      "outputs": [
        {
          "output_type": "execute_result",
          "data": {
            "text/plain": [
              "((88422, 14), (22105, 14))"
            ]
          },
          "metadata": {},
          "execution_count": 23
        }
      ],
      "source": [
        "train_data.shape, test_data.shape"
      ]
    },
    {
      "cell_type": "markdown",
      "metadata": {
        "id": "-AanAlLJ1LDE"
      },
      "source": [
        "### X and y split"
      ]
    },
    {
      "cell_type": "code",
      "execution_count": 24,
      "metadata": {
        "id": "aAWV4t6C1LDF"
      },
      "outputs": [],
      "source": [
        "# Divide the train and test data into features and target\n",
        "X_train = train_data.drop(columns=[\"No-show\"])\n",
        "y_train = train_data[\"No-show\"]\n",
        "\n",
        "X_test = test_data.drop(columns=[\"No-show\"])\n",
        "y_test = test_data[\"No-show\"]"
      ]
    },
    {
      "cell_type": "markdown",
      "metadata": {
        "id": "Nocj4NuO1LDF"
      },
      "source": [
        "### Convert the target column to binary values"
      ]
    },
    {
      "cell_type": "code",
      "execution_count": 25,
      "metadata": {
        "id": "hKrfCQyd1LDF"
      },
      "outputs": [],
      "source": [
        "y_train = y_train.map({\"No\": 0, \"Yes\": 1})\n",
        "y_test = y_test.map({\"No\": 0, \"Yes\": 1})"
      ]
    },
    {
      "cell_type": "code",
      "execution_count": 26,
      "metadata": {
        "colab": {
          "base_uri": "https://localhost:8080/"
        },
        "id": "0pm-AAA91LDF",
        "outputId": "1c4f7650-e8ae-40aa-de6f-2b74d9147d9c"
      },
      "outputs": [
        {
          "output_type": "execute_result",
          "data": {
            "text/plain": [
              "No-show\n",
              "0    70539\n",
              "1    17883\n",
              "Name: count, dtype: int64"
            ]
          },
          "metadata": {},
          "execution_count": 26
        }
      ],
      "source": [
        "y_train.value_counts()"
      ]
    },
    {
      "cell_type": "markdown",
      "metadata": {
        "id": "qyoncthc1LDF"
      },
      "source": [
        "## Classification Pipeline Definition"
      ]
    },
    {
      "cell_type": "markdown",
      "metadata": {
        "id": "8NC7c-tT1LDF"
      },
      "source": [
        "### In-Pipeline Columns Selection and Transformation"
      ]
    },
    {
      "cell_type": "code",
      "execution_count": 27,
      "metadata": {
        "id": "WIPqANDk1LDF"
      },
      "outputs": [],
      "source": [
        "# Define the column transformation for the numerical columns considering that\n",
        "# 1) there are missing values and they have to be imputed\n",
        "# 2) the age column has a to be always positive\n",
        "# 3) the columns have to be scaled\n",
        "\n",
        "# Define the numerical columns to be transformed\n",
        "numerical_columns = [\n",
        "    \"Age\",\n",
        "]\n",
        "\n",
        "# Create the numerical pipeline with the SimpleImputer and MinMaxScaler\n",
        "numerical_pipeline = Pipeline(\n",
        "    [\n",
        "        (\"imputer\", SimpleImputer(strategy=\"mean\")),\n",
        "        (\"abs_transformer\", FunctionTransformer(np.abs, validate=True)),\n",
        "        (\"scaler\", MinMaxScaler()),\n",
        "    ]\n",
        ")"
      ]
    },
    {
      "cell_type": "code",
      "execution_count": 28,
      "metadata": {
        "id": "_t3KOtDY1LDF"
      },
      "outputs": [],
      "source": [
        "# Define the column transformation for logical columns considering that\n",
        "# 1) there are missing values and they have to be imputed\n",
        "\n",
        "# Define the logical columns to be transformed\n",
        "logical_columns = [\n",
        "    \"Scholarship\",\n",
        "    \"Hipertension\",\n",
        "    \"Diabetes\",\n",
        "    \"Alcoholism\",\n",
        "    \"SMS_received\",\n",
        "]\n",
        "\n",
        "# Create the logical pipeline with the SimpleImputer\n",
        "logical_pipeline = Pipeline(\n",
        "    [\n",
        "        (\"imputer\", SimpleImputer(strategy=\"most_frequent\")),\n",
        "    ]\n",
        ")"
      ]
    },
    {
      "cell_type": "code",
      "execution_count": 29,
      "metadata": {
        "id": "nrFYe3E91LDG"
      },
      "outputs": [],
      "source": [
        "# Define the column transformation for the string columns considering that\n",
        "# 1) there are missing values and they have to be imputed\n",
        "# 2) the columns have to be encoded using numerical encoding\n",
        "\n",
        "# Define the categorical columns in the string format to be transformed\n",
        "categorical_columns = [\n",
        "    \"Gender\",\n",
        "    \"Neighbourhood\",\n",
        "]\n",
        "\n",
        "# Create the string pipeline with the SimpleImputer and OneHotEncoder\n",
        "categorical_pipeline = Pipeline(\n",
        "    [\n",
        "        (\"imputer\", SimpleImputer(strategy=\"most_frequent\")),\n",
        "        (\"one_hot_encoder\", OneHotEncoder(handle_unknown=\"infrequent_if_exist\")),\n",
        "    ]\n",
        ")"
      ]
    },
    {
      "cell_type": "markdown",
      "metadata": {
        "id": "a9KCIUGB1LDG"
      },
      "source": [
        "### Preprocessor"
      ]
    },
    {
      "cell_type": "code",
      "execution_count": 30,
      "metadata": {
        "id": "PQJxWi5_1LDG"
      },
      "outputs": [],
      "source": [
        "# Define the preprocessor with the ColumnTransformer and the defined pipelines\n",
        "preprocessor = ColumnTransformer(\n",
        "    transformers=[\n",
        "        (\"num\", numerical_pipeline, numerical_columns),\n",
        "        (\"log\", logical_pipeline, logical_columns),\n",
        "        (\"cat\", categorical_pipeline, categorical_columns),\n",
        "    ]\n",
        ")"
      ]
    },
    {
      "cell_type": "code",
      "execution_count": 31,
      "metadata": {
        "colab": {
          "base_uri": "https://localhost:8080/",
          "height": 186
        },
        "id": "brEqpRXc1LDG",
        "outputId": "70f110c7-c913-46aa-e8d3-49e433a121ae"
      },
      "outputs": [
        {
          "output_type": "execute_result",
          "data": {
            "text/plain": [
              "ColumnTransformer(transformers=[('num',\n",
              "                                 Pipeline(steps=[('imputer', SimpleImputer()),\n",
              "                                                 ('abs_transformer',\n",
              "                                                  FunctionTransformer(func=<ufunc 'absolute'>,\n",
              "                                                                      validate=True)),\n",
              "                                                 ('scaler', MinMaxScaler())]),\n",
              "                                 ['Age']),\n",
              "                                ('log',\n",
              "                                 Pipeline(steps=[('imputer',\n",
              "                                                  SimpleImputer(strategy='most_frequent'))]),\n",
              "                                 ['Scholarship', 'Hipertension', 'Diabetes',\n",
              "                                  'Alcoholism', 'SMS_received']),\n",
              "                                ('cat',\n",
              "                                 Pipeline(steps=[('imputer',\n",
              "                                                  SimpleImputer(strategy='most_frequent')),\n",
              "                                                 ('one_hot_encoder',\n",
              "                                                  OneHotEncoder(handle_unknown='infrequent_if_exist'))]),\n",
              "                                 ['Gender', 'Neighbourhood'])])"
            ],
            "text/html": [
              "<style>#sk-container-id-1 {color: black;background-color: white;}#sk-container-id-1 pre{padding: 0;}#sk-container-id-1 div.sk-toggleable {background-color: white;}#sk-container-id-1 label.sk-toggleable__label {cursor: pointer;display: block;width: 100%;margin-bottom: 0;padding: 0.3em;box-sizing: border-box;text-align: center;}#sk-container-id-1 label.sk-toggleable__label-arrow:before {content: \"▸\";float: left;margin-right: 0.25em;color: #696969;}#sk-container-id-1 label.sk-toggleable__label-arrow:hover:before {color: black;}#sk-container-id-1 div.sk-estimator:hover label.sk-toggleable__label-arrow:before {color: black;}#sk-container-id-1 div.sk-toggleable__content {max-height: 0;max-width: 0;overflow: hidden;text-align: left;background-color: #f0f8ff;}#sk-container-id-1 div.sk-toggleable__content pre {margin: 0.2em;color: black;border-radius: 0.25em;background-color: #f0f8ff;}#sk-container-id-1 input.sk-toggleable__control:checked~div.sk-toggleable__content {max-height: 200px;max-width: 100%;overflow: auto;}#sk-container-id-1 input.sk-toggleable__control:checked~label.sk-toggleable__label-arrow:before {content: \"▾\";}#sk-container-id-1 div.sk-estimator input.sk-toggleable__control:checked~label.sk-toggleable__label {background-color: #d4ebff;}#sk-container-id-1 div.sk-label input.sk-toggleable__control:checked~label.sk-toggleable__label {background-color: #d4ebff;}#sk-container-id-1 input.sk-hidden--visually {border: 0;clip: rect(1px 1px 1px 1px);clip: rect(1px, 1px, 1px, 1px);height: 1px;margin: -1px;overflow: hidden;padding: 0;position: absolute;width: 1px;}#sk-container-id-1 div.sk-estimator {font-family: monospace;background-color: #f0f8ff;border: 1px dotted black;border-radius: 0.25em;box-sizing: border-box;margin-bottom: 0.5em;}#sk-container-id-1 div.sk-estimator:hover {background-color: #d4ebff;}#sk-container-id-1 div.sk-parallel-item::after {content: \"\";width: 100%;border-bottom: 1px solid gray;flex-grow: 1;}#sk-container-id-1 div.sk-label:hover label.sk-toggleable__label {background-color: #d4ebff;}#sk-container-id-1 div.sk-serial::before {content: \"\";position: absolute;border-left: 1px solid gray;box-sizing: border-box;top: 0;bottom: 0;left: 50%;z-index: 0;}#sk-container-id-1 div.sk-serial {display: flex;flex-direction: column;align-items: center;background-color: white;padding-right: 0.2em;padding-left: 0.2em;position: relative;}#sk-container-id-1 div.sk-item {position: relative;z-index: 1;}#sk-container-id-1 div.sk-parallel {display: flex;align-items: stretch;justify-content: center;background-color: white;position: relative;}#sk-container-id-1 div.sk-item::before, #sk-container-id-1 div.sk-parallel-item::before {content: \"\";position: absolute;border-left: 1px solid gray;box-sizing: border-box;top: 0;bottom: 0;left: 50%;z-index: -1;}#sk-container-id-1 div.sk-parallel-item {display: flex;flex-direction: column;z-index: 1;position: relative;background-color: white;}#sk-container-id-1 div.sk-parallel-item:first-child::after {align-self: flex-end;width: 50%;}#sk-container-id-1 div.sk-parallel-item:last-child::after {align-self: flex-start;width: 50%;}#sk-container-id-1 div.sk-parallel-item:only-child::after {width: 0;}#sk-container-id-1 div.sk-dashed-wrapped {border: 1px dashed gray;margin: 0 0.4em 0.5em 0.4em;box-sizing: border-box;padding-bottom: 0.4em;background-color: white;}#sk-container-id-1 div.sk-label label {font-family: monospace;font-weight: bold;display: inline-block;line-height: 1.2em;}#sk-container-id-1 div.sk-label-container {text-align: center;}#sk-container-id-1 div.sk-container {/* jupyter's `normalize.less` sets `[hidden] { display: none; }` but bootstrap.min.css set `[hidden] { display: none !important; }` so we also need the `!important` here to be able to override the default hidden behavior on the sphinx rendered scikit-learn.org. See: https://github.com/scikit-learn/scikit-learn/issues/21755 */display: inline-block !important;position: relative;}#sk-container-id-1 div.sk-text-repr-fallback {display: none;}</style><div id=\"sk-container-id-1\" class=\"sk-top-container\"><div class=\"sk-text-repr-fallback\"><pre>ColumnTransformer(transformers=[(&#x27;num&#x27;,\n",
              "                                 Pipeline(steps=[(&#x27;imputer&#x27;, SimpleImputer()),\n",
              "                                                 (&#x27;abs_transformer&#x27;,\n",
              "                                                  FunctionTransformer(func=&lt;ufunc &#x27;absolute&#x27;&gt;,\n",
              "                                                                      validate=True)),\n",
              "                                                 (&#x27;scaler&#x27;, MinMaxScaler())]),\n",
              "                                 [&#x27;Age&#x27;]),\n",
              "                                (&#x27;log&#x27;,\n",
              "                                 Pipeline(steps=[(&#x27;imputer&#x27;,\n",
              "                                                  SimpleImputer(strategy=&#x27;most_frequent&#x27;))]),\n",
              "                                 [&#x27;Scholarship&#x27;, &#x27;Hipertension&#x27;, &#x27;Diabetes&#x27;,\n",
              "                                  &#x27;Alcoholism&#x27;, &#x27;SMS_received&#x27;]),\n",
              "                                (&#x27;cat&#x27;,\n",
              "                                 Pipeline(steps=[(&#x27;imputer&#x27;,\n",
              "                                                  SimpleImputer(strategy=&#x27;most_frequent&#x27;)),\n",
              "                                                 (&#x27;one_hot_encoder&#x27;,\n",
              "                                                  OneHotEncoder(handle_unknown=&#x27;infrequent_if_exist&#x27;))]),\n",
              "                                 [&#x27;Gender&#x27;, &#x27;Neighbourhood&#x27;])])</pre><b>In a Jupyter environment, please rerun this cell to show the HTML representation or trust the notebook. <br />On GitHub, the HTML representation is unable to render, please try loading this page with nbviewer.org.</b></div><div class=\"sk-container\" hidden><div class=\"sk-item sk-dashed-wrapped\"><div class=\"sk-label-container\"><div class=\"sk-label sk-toggleable\"><input class=\"sk-toggleable__control sk-hidden--visually\" id=\"sk-estimator-id-1\" type=\"checkbox\" ><label for=\"sk-estimator-id-1\" class=\"sk-toggleable__label sk-toggleable__label-arrow\">ColumnTransformer</label><div class=\"sk-toggleable__content\"><pre>ColumnTransformer(transformers=[(&#x27;num&#x27;,\n",
              "                                 Pipeline(steps=[(&#x27;imputer&#x27;, SimpleImputer()),\n",
              "                                                 (&#x27;abs_transformer&#x27;,\n",
              "                                                  FunctionTransformer(func=&lt;ufunc &#x27;absolute&#x27;&gt;,\n",
              "                                                                      validate=True)),\n",
              "                                                 (&#x27;scaler&#x27;, MinMaxScaler())]),\n",
              "                                 [&#x27;Age&#x27;]),\n",
              "                                (&#x27;log&#x27;,\n",
              "                                 Pipeline(steps=[(&#x27;imputer&#x27;,\n",
              "                                                  SimpleImputer(strategy=&#x27;most_frequent&#x27;))]),\n",
              "                                 [&#x27;Scholarship&#x27;, &#x27;Hipertension&#x27;, &#x27;Diabetes&#x27;,\n",
              "                                  &#x27;Alcoholism&#x27;, &#x27;SMS_received&#x27;]),\n",
              "                                (&#x27;cat&#x27;,\n",
              "                                 Pipeline(steps=[(&#x27;imputer&#x27;,\n",
              "                                                  SimpleImputer(strategy=&#x27;most_frequent&#x27;)),\n",
              "                                                 (&#x27;one_hot_encoder&#x27;,\n",
              "                                                  OneHotEncoder(handle_unknown=&#x27;infrequent_if_exist&#x27;))]),\n",
              "                                 [&#x27;Gender&#x27;, &#x27;Neighbourhood&#x27;])])</pre></div></div></div><div class=\"sk-parallel\"><div class=\"sk-parallel-item\"><div class=\"sk-item\"><div class=\"sk-label-container\"><div class=\"sk-label sk-toggleable\"><input class=\"sk-toggleable__control sk-hidden--visually\" id=\"sk-estimator-id-2\" type=\"checkbox\" ><label for=\"sk-estimator-id-2\" class=\"sk-toggleable__label sk-toggleable__label-arrow\">num</label><div class=\"sk-toggleable__content\"><pre>[&#x27;Age&#x27;]</pre></div></div></div><div class=\"sk-serial\"><div class=\"sk-item\"><div class=\"sk-serial\"><div class=\"sk-item\"><div class=\"sk-estimator sk-toggleable\"><input class=\"sk-toggleable__control sk-hidden--visually\" id=\"sk-estimator-id-3\" type=\"checkbox\" ><label for=\"sk-estimator-id-3\" class=\"sk-toggleable__label sk-toggleable__label-arrow\">SimpleImputer</label><div class=\"sk-toggleable__content\"><pre>SimpleImputer()</pre></div></div></div><div class=\"sk-item\"><div class=\"sk-estimator sk-toggleable\"><input class=\"sk-toggleable__control sk-hidden--visually\" id=\"sk-estimator-id-4\" type=\"checkbox\" ><label for=\"sk-estimator-id-4\" class=\"sk-toggleable__label sk-toggleable__label-arrow\">FunctionTransformer</label><div class=\"sk-toggleable__content\"><pre>FunctionTransformer(func=&lt;ufunc &#x27;absolute&#x27;&gt;, validate=True)</pre></div></div></div><div class=\"sk-item\"><div class=\"sk-estimator sk-toggleable\"><input class=\"sk-toggleable__control sk-hidden--visually\" id=\"sk-estimator-id-5\" type=\"checkbox\" ><label for=\"sk-estimator-id-5\" class=\"sk-toggleable__label sk-toggleable__label-arrow\">MinMaxScaler</label><div class=\"sk-toggleable__content\"><pre>MinMaxScaler()</pre></div></div></div></div></div></div></div></div><div class=\"sk-parallel-item\"><div class=\"sk-item\"><div class=\"sk-label-container\"><div class=\"sk-label sk-toggleable\"><input class=\"sk-toggleable__control sk-hidden--visually\" id=\"sk-estimator-id-6\" type=\"checkbox\" ><label for=\"sk-estimator-id-6\" class=\"sk-toggleable__label sk-toggleable__label-arrow\">log</label><div class=\"sk-toggleable__content\"><pre>[&#x27;Scholarship&#x27;, &#x27;Hipertension&#x27;, &#x27;Diabetes&#x27;, &#x27;Alcoholism&#x27;, &#x27;SMS_received&#x27;]</pre></div></div></div><div class=\"sk-serial\"><div class=\"sk-item\"><div class=\"sk-serial\"><div class=\"sk-item\"><div class=\"sk-estimator sk-toggleable\"><input class=\"sk-toggleable__control sk-hidden--visually\" id=\"sk-estimator-id-7\" type=\"checkbox\" ><label for=\"sk-estimator-id-7\" class=\"sk-toggleable__label sk-toggleable__label-arrow\">SimpleImputer</label><div class=\"sk-toggleable__content\"><pre>SimpleImputer(strategy=&#x27;most_frequent&#x27;)</pre></div></div></div></div></div></div></div></div><div class=\"sk-parallel-item\"><div class=\"sk-item\"><div class=\"sk-label-container\"><div class=\"sk-label sk-toggleable\"><input class=\"sk-toggleable__control sk-hidden--visually\" id=\"sk-estimator-id-8\" type=\"checkbox\" ><label for=\"sk-estimator-id-8\" class=\"sk-toggleable__label sk-toggleable__label-arrow\">cat</label><div class=\"sk-toggleable__content\"><pre>[&#x27;Gender&#x27;, &#x27;Neighbourhood&#x27;]</pre></div></div></div><div class=\"sk-serial\"><div class=\"sk-item\"><div class=\"sk-serial\"><div class=\"sk-item\"><div class=\"sk-estimator sk-toggleable\"><input class=\"sk-toggleable__control sk-hidden--visually\" id=\"sk-estimator-id-9\" type=\"checkbox\" ><label for=\"sk-estimator-id-9\" class=\"sk-toggleable__label sk-toggleable__label-arrow\">SimpleImputer</label><div class=\"sk-toggleable__content\"><pre>SimpleImputer(strategy=&#x27;most_frequent&#x27;)</pre></div></div></div><div class=\"sk-item\"><div class=\"sk-estimator sk-toggleable\"><input class=\"sk-toggleable__control sk-hidden--visually\" id=\"sk-estimator-id-10\" type=\"checkbox\" ><label for=\"sk-estimator-id-10\" class=\"sk-toggleable__label sk-toggleable__label-arrow\">OneHotEncoder</label><div class=\"sk-toggleable__content\"><pre>OneHotEncoder(handle_unknown=&#x27;infrequent_if_exist&#x27;)</pre></div></div></div></div></div></div></div></div></div></div></div></div>"
            ]
          },
          "metadata": {},
          "execution_count": 31
        }
      ],
      "source": [
        "# Show the preprocessor diagram\n",
        "preprocessor"
      ]
    },
    {
      "cell_type": "code",
      "execution_count": 32,
      "metadata": {
        "colab": {
          "base_uri": "https://localhost:8080/"
        },
        "id": "JUs-1h981LDH",
        "outputId": "802bc3a1-a8e4-4f4f-aee8-8dfe914a76ad"
      },
      "outputs": [
        {
          "output_type": "execute_result",
          "data": {
            "text/plain": [
              "{'n_jobs': None,\n",
              " 'remainder': 'drop',\n",
              " 'sparse_threshold': 0.3,\n",
              " 'transformer_weights': None,\n",
              " 'transformers': [('num',\n",
              "   Pipeline(steps=[('imputer', SimpleImputer()),\n",
              "                   ('abs_transformer',\n",
              "                    FunctionTransformer(func=<ufunc 'absolute'>, validate=True)),\n",
              "                   ('scaler', MinMaxScaler())]),\n",
              "   ['Age']),\n",
              "  ('log',\n",
              "   Pipeline(steps=[('imputer', SimpleImputer(strategy='most_frequent'))]),\n",
              "   ['Scholarship', 'Hipertension', 'Diabetes', 'Alcoholism', 'SMS_received']),\n",
              "  ('cat',\n",
              "   Pipeline(steps=[('imputer', SimpleImputer(strategy='most_frequent')),\n",
              "                   ('one_hot_encoder',\n",
              "                    OneHotEncoder(handle_unknown='infrequent_if_exist'))]),\n",
              "   ['Gender', 'Neighbourhood'])],\n",
              " 'verbose': False,\n",
              " 'verbose_feature_names_out': True,\n",
              " 'num': Pipeline(steps=[('imputer', SimpleImputer()),\n",
              "                 ('abs_transformer',\n",
              "                  FunctionTransformer(func=<ufunc 'absolute'>, validate=True)),\n",
              "                 ('scaler', MinMaxScaler())]),\n",
              " 'log': Pipeline(steps=[('imputer', SimpleImputer(strategy='most_frequent'))]),\n",
              " 'cat': Pipeline(steps=[('imputer', SimpleImputer(strategy='most_frequent')),\n",
              "                 ('one_hot_encoder',\n",
              "                  OneHotEncoder(handle_unknown='infrequent_if_exist'))]),\n",
              " 'num__memory': None,\n",
              " 'num__steps': [('imputer', SimpleImputer()),\n",
              "  ('abs_transformer',\n",
              "   FunctionTransformer(func=<ufunc 'absolute'>, validate=True)),\n",
              "  ('scaler', MinMaxScaler())],\n",
              " 'num__verbose': False,\n",
              " 'num__imputer': SimpleImputer(),\n",
              " 'num__abs_transformer': FunctionTransformer(func=<ufunc 'absolute'>, validate=True),\n",
              " 'num__scaler': MinMaxScaler(),\n",
              " 'num__imputer__add_indicator': False,\n",
              " 'num__imputer__copy': True,\n",
              " 'num__imputer__fill_value': None,\n",
              " 'num__imputer__keep_empty_features': False,\n",
              " 'num__imputer__missing_values': nan,\n",
              " 'num__imputer__strategy': 'mean',\n",
              " 'num__imputer__verbose': 'deprecated',\n",
              " 'num__abs_transformer__accept_sparse': False,\n",
              " 'num__abs_transformer__check_inverse': True,\n",
              " 'num__abs_transformer__feature_names_out': None,\n",
              " 'num__abs_transformer__func': <ufunc 'absolute'>,\n",
              " 'num__abs_transformer__inv_kw_args': None,\n",
              " 'num__abs_transformer__inverse_func': None,\n",
              " 'num__abs_transformer__kw_args': None,\n",
              " 'num__abs_transformer__validate': True,\n",
              " 'num__scaler__clip': False,\n",
              " 'num__scaler__copy': True,\n",
              " 'num__scaler__feature_range': (0, 1),\n",
              " 'log__memory': None,\n",
              " 'log__steps': [('imputer', SimpleImputer(strategy='most_frequent'))],\n",
              " 'log__verbose': False,\n",
              " 'log__imputer': SimpleImputer(strategy='most_frequent'),\n",
              " 'log__imputer__add_indicator': False,\n",
              " 'log__imputer__copy': True,\n",
              " 'log__imputer__fill_value': None,\n",
              " 'log__imputer__keep_empty_features': False,\n",
              " 'log__imputer__missing_values': nan,\n",
              " 'log__imputer__strategy': 'most_frequent',\n",
              " 'log__imputer__verbose': 'deprecated',\n",
              " 'cat__memory': None,\n",
              " 'cat__steps': [('imputer', SimpleImputer(strategy='most_frequent')),\n",
              "  ('one_hot_encoder', OneHotEncoder(handle_unknown='infrequent_if_exist'))],\n",
              " 'cat__verbose': False,\n",
              " 'cat__imputer': SimpleImputer(strategy='most_frequent'),\n",
              " 'cat__one_hot_encoder': OneHotEncoder(handle_unknown='infrequent_if_exist'),\n",
              " 'cat__imputer__add_indicator': False,\n",
              " 'cat__imputer__copy': True,\n",
              " 'cat__imputer__fill_value': None,\n",
              " 'cat__imputer__keep_empty_features': False,\n",
              " 'cat__imputer__missing_values': nan,\n",
              " 'cat__imputer__strategy': 'most_frequent',\n",
              " 'cat__imputer__verbose': 'deprecated',\n",
              " 'cat__one_hot_encoder__categories': 'auto',\n",
              " 'cat__one_hot_encoder__drop': None,\n",
              " 'cat__one_hot_encoder__dtype': numpy.float64,\n",
              " 'cat__one_hot_encoder__handle_unknown': 'infrequent_if_exist',\n",
              " 'cat__one_hot_encoder__max_categories': None,\n",
              " 'cat__one_hot_encoder__min_frequency': None,\n",
              " 'cat__one_hot_encoder__sparse': 'deprecated',\n",
              " 'cat__one_hot_encoder__sparse_output': True}"
            ]
          },
          "metadata": {},
          "execution_count": 32
        }
      ],
      "source": [
        "# Show the preprocessor parameters\n",
        "preprocessor.get_params()"
      ]
    },
    {
      "cell_type": "markdown",
      "metadata": {
        "id": "gMcjrEJv1LDH",
        "vscode": {
          "languageId": "plaintext"
        }
      },
      "source": [
        "###  Classification Model"
      ]
    },
    {
      "cell_type": "code",
      "execution_count": 33,
      "metadata": {
        "id": "HGpSbBzR1LDH"
      },
      "outputs": [],
      "source": [
        "# Define the classifier model to be used\n",
        "classifier = RandomForestClassifier(n_estimators=100, random_state=3993)"
      ]
    },
    {
      "cell_type": "code",
      "execution_count": 34,
      "metadata": {
        "colab": {
          "base_uri": "https://localhost:8080/",
          "height": 74
        },
        "id": "rwwPbUxr1LDH",
        "outputId": "75ad17a2-d2b7-49d1-9aff-8138ac31bb6a"
      },
      "outputs": [
        {
          "output_type": "execute_result",
          "data": {
            "text/plain": [
              "RandomForestClassifier(random_state=3993)"
            ],
            "text/html": [
              "<style>#sk-container-id-2 {color: black;background-color: white;}#sk-container-id-2 pre{padding: 0;}#sk-container-id-2 div.sk-toggleable {background-color: white;}#sk-container-id-2 label.sk-toggleable__label {cursor: pointer;display: block;width: 100%;margin-bottom: 0;padding: 0.3em;box-sizing: border-box;text-align: center;}#sk-container-id-2 label.sk-toggleable__label-arrow:before {content: \"▸\";float: left;margin-right: 0.25em;color: #696969;}#sk-container-id-2 label.sk-toggleable__label-arrow:hover:before {color: black;}#sk-container-id-2 div.sk-estimator:hover label.sk-toggleable__label-arrow:before {color: black;}#sk-container-id-2 div.sk-toggleable__content {max-height: 0;max-width: 0;overflow: hidden;text-align: left;background-color: #f0f8ff;}#sk-container-id-2 div.sk-toggleable__content pre {margin: 0.2em;color: black;border-radius: 0.25em;background-color: #f0f8ff;}#sk-container-id-2 input.sk-toggleable__control:checked~div.sk-toggleable__content {max-height: 200px;max-width: 100%;overflow: auto;}#sk-container-id-2 input.sk-toggleable__control:checked~label.sk-toggleable__label-arrow:before {content: \"▾\";}#sk-container-id-2 div.sk-estimator input.sk-toggleable__control:checked~label.sk-toggleable__label {background-color: #d4ebff;}#sk-container-id-2 div.sk-label input.sk-toggleable__control:checked~label.sk-toggleable__label {background-color: #d4ebff;}#sk-container-id-2 input.sk-hidden--visually {border: 0;clip: rect(1px 1px 1px 1px);clip: rect(1px, 1px, 1px, 1px);height: 1px;margin: -1px;overflow: hidden;padding: 0;position: absolute;width: 1px;}#sk-container-id-2 div.sk-estimator {font-family: monospace;background-color: #f0f8ff;border: 1px dotted black;border-radius: 0.25em;box-sizing: border-box;margin-bottom: 0.5em;}#sk-container-id-2 div.sk-estimator:hover {background-color: #d4ebff;}#sk-container-id-2 div.sk-parallel-item::after {content: \"\";width: 100%;border-bottom: 1px solid gray;flex-grow: 1;}#sk-container-id-2 div.sk-label:hover label.sk-toggleable__label {background-color: #d4ebff;}#sk-container-id-2 div.sk-serial::before {content: \"\";position: absolute;border-left: 1px solid gray;box-sizing: border-box;top: 0;bottom: 0;left: 50%;z-index: 0;}#sk-container-id-2 div.sk-serial {display: flex;flex-direction: column;align-items: center;background-color: white;padding-right: 0.2em;padding-left: 0.2em;position: relative;}#sk-container-id-2 div.sk-item {position: relative;z-index: 1;}#sk-container-id-2 div.sk-parallel {display: flex;align-items: stretch;justify-content: center;background-color: white;position: relative;}#sk-container-id-2 div.sk-item::before, #sk-container-id-2 div.sk-parallel-item::before {content: \"\";position: absolute;border-left: 1px solid gray;box-sizing: border-box;top: 0;bottom: 0;left: 50%;z-index: -1;}#sk-container-id-2 div.sk-parallel-item {display: flex;flex-direction: column;z-index: 1;position: relative;background-color: white;}#sk-container-id-2 div.sk-parallel-item:first-child::after {align-self: flex-end;width: 50%;}#sk-container-id-2 div.sk-parallel-item:last-child::after {align-self: flex-start;width: 50%;}#sk-container-id-2 div.sk-parallel-item:only-child::after {width: 0;}#sk-container-id-2 div.sk-dashed-wrapped {border: 1px dashed gray;margin: 0 0.4em 0.5em 0.4em;box-sizing: border-box;padding-bottom: 0.4em;background-color: white;}#sk-container-id-2 div.sk-label label {font-family: monospace;font-weight: bold;display: inline-block;line-height: 1.2em;}#sk-container-id-2 div.sk-label-container {text-align: center;}#sk-container-id-2 div.sk-container {/* jupyter's `normalize.less` sets `[hidden] { display: none; }` but bootstrap.min.css set `[hidden] { display: none !important; }` so we also need the `!important` here to be able to override the default hidden behavior on the sphinx rendered scikit-learn.org. See: https://github.com/scikit-learn/scikit-learn/issues/21755 */display: inline-block !important;position: relative;}#sk-container-id-2 div.sk-text-repr-fallback {display: none;}</style><div id=\"sk-container-id-2\" class=\"sk-top-container\"><div class=\"sk-text-repr-fallback\"><pre>RandomForestClassifier(random_state=3993)</pre><b>In a Jupyter environment, please rerun this cell to show the HTML representation or trust the notebook. <br />On GitHub, the HTML representation is unable to render, please try loading this page with nbviewer.org.</b></div><div class=\"sk-container\" hidden><div class=\"sk-item\"><div class=\"sk-estimator sk-toggleable\"><input class=\"sk-toggleable__control sk-hidden--visually\" id=\"sk-estimator-id-11\" type=\"checkbox\" checked><label for=\"sk-estimator-id-11\" class=\"sk-toggleable__label sk-toggleable__label-arrow\">RandomForestClassifier</label><div class=\"sk-toggleable__content\"><pre>RandomForestClassifier(random_state=3993)</pre></div></div></div></div></div>"
            ]
          },
          "metadata": {},
          "execution_count": 34
        }
      ],
      "source": [
        "# Show the classifier diagram\n",
        "classifier"
      ]
    },
    {
      "cell_type": "code",
      "execution_count": 35,
      "metadata": {
        "colab": {
          "base_uri": "https://localhost:8080/"
        },
        "id": "VQ7B0Bn01LDH",
        "outputId": "727bf34a-f68d-4477-d46b-d32ca4c407d2"
      },
      "outputs": [
        {
          "output_type": "execute_result",
          "data": {
            "text/plain": [
              "{'bootstrap': True,\n",
              " 'ccp_alpha': 0.0,\n",
              " 'class_weight': None,\n",
              " 'criterion': 'gini',\n",
              " 'max_depth': None,\n",
              " 'max_features': 'sqrt',\n",
              " 'max_leaf_nodes': None,\n",
              " 'max_samples': None,\n",
              " 'min_impurity_decrease': 0.0,\n",
              " 'min_samples_leaf': 1,\n",
              " 'min_samples_split': 2,\n",
              " 'min_weight_fraction_leaf': 0.0,\n",
              " 'n_estimators': 100,\n",
              " 'n_jobs': None,\n",
              " 'oob_score': False,\n",
              " 'random_state': 3993,\n",
              " 'verbose': 0,\n",
              " 'warm_start': False}"
            ]
          },
          "metadata": {},
          "execution_count": 35
        }
      ],
      "source": [
        "# Show the classifier parameters\n",
        "classifier.get_params()"
      ]
    },
    {
      "cell_type": "markdown",
      "metadata": {
        "id": "UMdfQYas1LDH"
      },
      "source": [
        "### Classification Pipeline"
      ]
    },
    {
      "cell_type": "code",
      "execution_count": 36,
      "metadata": {
        "id": "bWDxyWzQ1LDH"
      },
      "outputs": [],
      "source": [
        "# Define the classification pipeline with the preprocessor and the classifier\n",
        "pipeline = Pipeline(\n",
        "    [\n",
        "        (\"preprocessor\", preprocessor),\n",
        "        (\"classifier\", classifier),\n",
        "    ]\n",
        ")"
      ]
    },
    {
      "cell_type": "code",
      "execution_count": 37,
      "metadata": {
        "colab": {
          "base_uri": "https://localhost:8080/",
          "height": 260
        },
        "id": "2U-sXNxH1LDI",
        "outputId": "e4340405-b9ae-4d9c-a9fb-f32bb5cbe3ad"
      },
      "outputs": [
        {
          "output_type": "execute_result",
          "data": {
            "text/plain": [
              "Pipeline(steps=[('preprocessor',\n",
              "                 ColumnTransformer(transformers=[('num',\n",
              "                                                  Pipeline(steps=[('imputer',\n",
              "                                                                   SimpleImputer()),\n",
              "                                                                  ('abs_transformer',\n",
              "                                                                   FunctionTransformer(func=<ufunc 'absolute'>,\n",
              "                                                                                       validate=True)),\n",
              "                                                                  ('scaler',\n",
              "                                                                   MinMaxScaler())]),\n",
              "                                                  ['Age']),\n",
              "                                                 ('log',\n",
              "                                                  Pipeline(steps=[('imputer',\n",
              "                                                                   SimpleImputer(strategy='most_frequent'))]),\n",
              "                                                  ['Scholarship',\n",
              "                                                   'Hipertension', 'Diabetes',\n",
              "                                                   'Alcoholism',\n",
              "                                                   'SMS_received']),\n",
              "                                                 ('cat',\n",
              "                                                  Pipeline(steps=[('imputer',\n",
              "                                                                   SimpleImputer(strategy='most_frequent')),\n",
              "                                                                  ('one_hot_encoder',\n",
              "                                                                   OneHotEncoder(handle_unknown='infrequent_if_exist'))]),\n",
              "                                                  ['Gender',\n",
              "                                                   'Neighbourhood'])])),\n",
              "                ('classifier', RandomForestClassifier(random_state=3993))])"
            ],
            "text/html": [
              "<style>#sk-container-id-3 {color: black;background-color: white;}#sk-container-id-3 pre{padding: 0;}#sk-container-id-3 div.sk-toggleable {background-color: white;}#sk-container-id-3 label.sk-toggleable__label {cursor: pointer;display: block;width: 100%;margin-bottom: 0;padding: 0.3em;box-sizing: border-box;text-align: center;}#sk-container-id-3 label.sk-toggleable__label-arrow:before {content: \"▸\";float: left;margin-right: 0.25em;color: #696969;}#sk-container-id-3 label.sk-toggleable__label-arrow:hover:before {color: black;}#sk-container-id-3 div.sk-estimator:hover label.sk-toggleable__label-arrow:before {color: black;}#sk-container-id-3 div.sk-toggleable__content {max-height: 0;max-width: 0;overflow: hidden;text-align: left;background-color: #f0f8ff;}#sk-container-id-3 div.sk-toggleable__content pre {margin: 0.2em;color: black;border-radius: 0.25em;background-color: #f0f8ff;}#sk-container-id-3 input.sk-toggleable__control:checked~div.sk-toggleable__content {max-height: 200px;max-width: 100%;overflow: auto;}#sk-container-id-3 input.sk-toggleable__control:checked~label.sk-toggleable__label-arrow:before {content: \"▾\";}#sk-container-id-3 div.sk-estimator input.sk-toggleable__control:checked~label.sk-toggleable__label {background-color: #d4ebff;}#sk-container-id-3 div.sk-label input.sk-toggleable__control:checked~label.sk-toggleable__label {background-color: #d4ebff;}#sk-container-id-3 input.sk-hidden--visually {border: 0;clip: rect(1px 1px 1px 1px);clip: rect(1px, 1px, 1px, 1px);height: 1px;margin: -1px;overflow: hidden;padding: 0;position: absolute;width: 1px;}#sk-container-id-3 div.sk-estimator {font-family: monospace;background-color: #f0f8ff;border: 1px dotted black;border-radius: 0.25em;box-sizing: border-box;margin-bottom: 0.5em;}#sk-container-id-3 div.sk-estimator:hover {background-color: #d4ebff;}#sk-container-id-3 div.sk-parallel-item::after {content: \"\";width: 100%;border-bottom: 1px solid gray;flex-grow: 1;}#sk-container-id-3 div.sk-label:hover label.sk-toggleable__label {background-color: #d4ebff;}#sk-container-id-3 div.sk-serial::before {content: \"\";position: absolute;border-left: 1px solid gray;box-sizing: border-box;top: 0;bottom: 0;left: 50%;z-index: 0;}#sk-container-id-3 div.sk-serial {display: flex;flex-direction: column;align-items: center;background-color: white;padding-right: 0.2em;padding-left: 0.2em;position: relative;}#sk-container-id-3 div.sk-item {position: relative;z-index: 1;}#sk-container-id-3 div.sk-parallel {display: flex;align-items: stretch;justify-content: center;background-color: white;position: relative;}#sk-container-id-3 div.sk-item::before, #sk-container-id-3 div.sk-parallel-item::before {content: \"\";position: absolute;border-left: 1px solid gray;box-sizing: border-box;top: 0;bottom: 0;left: 50%;z-index: -1;}#sk-container-id-3 div.sk-parallel-item {display: flex;flex-direction: column;z-index: 1;position: relative;background-color: white;}#sk-container-id-3 div.sk-parallel-item:first-child::after {align-self: flex-end;width: 50%;}#sk-container-id-3 div.sk-parallel-item:last-child::after {align-self: flex-start;width: 50%;}#sk-container-id-3 div.sk-parallel-item:only-child::after {width: 0;}#sk-container-id-3 div.sk-dashed-wrapped {border: 1px dashed gray;margin: 0 0.4em 0.5em 0.4em;box-sizing: border-box;padding-bottom: 0.4em;background-color: white;}#sk-container-id-3 div.sk-label label {font-family: monospace;font-weight: bold;display: inline-block;line-height: 1.2em;}#sk-container-id-3 div.sk-label-container {text-align: center;}#sk-container-id-3 div.sk-container {/* jupyter's `normalize.less` sets `[hidden] { display: none; }` but bootstrap.min.css set `[hidden] { display: none !important; }` so we also need the `!important` here to be able to override the default hidden behavior on the sphinx rendered scikit-learn.org. See: https://github.com/scikit-learn/scikit-learn/issues/21755 */display: inline-block !important;position: relative;}#sk-container-id-3 div.sk-text-repr-fallback {display: none;}</style><div id=\"sk-container-id-3\" class=\"sk-top-container\"><div class=\"sk-text-repr-fallback\"><pre>Pipeline(steps=[(&#x27;preprocessor&#x27;,\n",
              "                 ColumnTransformer(transformers=[(&#x27;num&#x27;,\n",
              "                                                  Pipeline(steps=[(&#x27;imputer&#x27;,\n",
              "                                                                   SimpleImputer()),\n",
              "                                                                  (&#x27;abs_transformer&#x27;,\n",
              "                                                                   FunctionTransformer(func=&lt;ufunc &#x27;absolute&#x27;&gt;,\n",
              "                                                                                       validate=True)),\n",
              "                                                                  (&#x27;scaler&#x27;,\n",
              "                                                                   MinMaxScaler())]),\n",
              "                                                  [&#x27;Age&#x27;]),\n",
              "                                                 (&#x27;log&#x27;,\n",
              "                                                  Pipeline(steps=[(&#x27;imputer&#x27;,\n",
              "                                                                   SimpleImputer(strategy=&#x27;most_frequent&#x27;))]),\n",
              "                                                  [&#x27;Scholarship&#x27;,\n",
              "                                                   &#x27;Hipertension&#x27;, &#x27;Diabetes&#x27;,\n",
              "                                                   &#x27;Alcoholism&#x27;,\n",
              "                                                   &#x27;SMS_received&#x27;]),\n",
              "                                                 (&#x27;cat&#x27;,\n",
              "                                                  Pipeline(steps=[(&#x27;imputer&#x27;,\n",
              "                                                                   SimpleImputer(strategy=&#x27;most_frequent&#x27;)),\n",
              "                                                                  (&#x27;one_hot_encoder&#x27;,\n",
              "                                                                   OneHotEncoder(handle_unknown=&#x27;infrequent_if_exist&#x27;))]),\n",
              "                                                  [&#x27;Gender&#x27;,\n",
              "                                                   &#x27;Neighbourhood&#x27;])])),\n",
              "                (&#x27;classifier&#x27;, RandomForestClassifier(random_state=3993))])</pre><b>In a Jupyter environment, please rerun this cell to show the HTML representation or trust the notebook. <br />On GitHub, the HTML representation is unable to render, please try loading this page with nbviewer.org.</b></div><div class=\"sk-container\" hidden><div class=\"sk-item sk-dashed-wrapped\"><div class=\"sk-label-container\"><div class=\"sk-label sk-toggleable\"><input class=\"sk-toggleable__control sk-hidden--visually\" id=\"sk-estimator-id-12\" type=\"checkbox\" ><label for=\"sk-estimator-id-12\" class=\"sk-toggleable__label sk-toggleable__label-arrow\">Pipeline</label><div class=\"sk-toggleable__content\"><pre>Pipeline(steps=[(&#x27;preprocessor&#x27;,\n",
              "                 ColumnTransformer(transformers=[(&#x27;num&#x27;,\n",
              "                                                  Pipeline(steps=[(&#x27;imputer&#x27;,\n",
              "                                                                   SimpleImputer()),\n",
              "                                                                  (&#x27;abs_transformer&#x27;,\n",
              "                                                                   FunctionTransformer(func=&lt;ufunc &#x27;absolute&#x27;&gt;,\n",
              "                                                                                       validate=True)),\n",
              "                                                                  (&#x27;scaler&#x27;,\n",
              "                                                                   MinMaxScaler())]),\n",
              "                                                  [&#x27;Age&#x27;]),\n",
              "                                                 (&#x27;log&#x27;,\n",
              "                                                  Pipeline(steps=[(&#x27;imputer&#x27;,\n",
              "                                                                   SimpleImputer(strategy=&#x27;most_frequent&#x27;))]),\n",
              "                                                  [&#x27;Scholarship&#x27;,\n",
              "                                                   &#x27;Hipertension&#x27;, &#x27;Diabetes&#x27;,\n",
              "                                                   &#x27;Alcoholism&#x27;,\n",
              "                                                   &#x27;SMS_received&#x27;]),\n",
              "                                                 (&#x27;cat&#x27;,\n",
              "                                                  Pipeline(steps=[(&#x27;imputer&#x27;,\n",
              "                                                                   SimpleImputer(strategy=&#x27;most_frequent&#x27;)),\n",
              "                                                                  (&#x27;one_hot_encoder&#x27;,\n",
              "                                                                   OneHotEncoder(handle_unknown=&#x27;infrequent_if_exist&#x27;))]),\n",
              "                                                  [&#x27;Gender&#x27;,\n",
              "                                                   &#x27;Neighbourhood&#x27;])])),\n",
              "                (&#x27;classifier&#x27;, RandomForestClassifier(random_state=3993))])</pre></div></div></div><div class=\"sk-serial\"><div class=\"sk-item sk-dashed-wrapped\"><div class=\"sk-label-container\"><div class=\"sk-label sk-toggleable\"><input class=\"sk-toggleable__control sk-hidden--visually\" id=\"sk-estimator-id-13\" type=\"checkbox\" ><label for=\"sk-estimator-id-13\" class=\"sk-toggleable__label sk-toggleable__label-arrow\">preprocessor: ColumnTransformer</label><div class=\"sk-toggleable__content\"><pre>ColumnTransformer(transformers=[(&#x27;num&#x27;,\n",
              "                                 Pipeline(steps=[(&#x27;imputer&#x27;, SimpleImputer()),\n",
              "                                                 (&#x27;abs_transformer&#x27;,\n",
              "                                                  FunctionTransformer(func=&lt;ufunc &#x27;absolute&#x27;&gt;,\n",
              "                                                                      validate=True)),\n",
              "                                                 (&#x27;scaler&#x27;, MinMaxScaler())]),\n",
              "                                 [&#x27;Age&#x27;]),\n",
              "                                (&#x27;log&#x27;,\n",
              "                                 Pipeline(steps=[(&#x27;imputer&#x27;,\n",
              "                                                  SimpleImputer(strategy=&#x27;most_frequent&#x27;))]),\n",
              "                                 [&#x27;Scholarship&#x27;, &#x27;Hipertension&#x27;, &#x27;Diabetes&#x27;,\n",
              "                                  &#x27;Alcoholism&#x27;, &#x27;SMS_received&#x27;]),\n",
              "                                (&#x27;cat&#x27;,\n",
              "                                 Pipeline(steps=[(&#x27;imputer&#x27;,\n",
              "                                                  SimpleImputer(strategy=&#x27;most_frequent&#x27;)),\n",
              "                                                 (&#x27;one_hot_encoder&#x27;,\n",
              "                                                  OneHotEncoder(handle_unknown=&#x27;infrequent_if_exist&#x27;))]),\n",
              "                                 [&#x27;Gender&#x27;, &#x27;Neighbourhood&#x27;])])</pre></div></div></div><div class=\"sk-parallel\"><div class=\"sk-parallel-item\"><div class=\"sk-item\"><div class=\"sk-label-container\"><div class=\"sk-label sk-toggleable\"><input class=\"sk-toggleable__control sk-hidden--visually\" id=\"sk-estimator-id-14\" type=\"checkbox\" ><label for=\"sk-estimator-id-14\" class=\"sk-toggleable__label sk-toggleable__label-arrow\">num</label><div class=\"sk-toggleable__content\"><pre>[&#x27;Age&#x27;]</pre></div></div></div><div class=\"sk-serial\"><div class=\"sk-item\"><div class=\"sk-serial\"><div class=\"sk-item\"><div class=\"sk-estimator sk-toggleable\"><input class=\"sk-toggleable__control sk-hidden--visually\" id=\"sk-estimator-id-15\" type=\"checkbox\" ><label for=\"sk-estimator-id-15\" class=\"sk-toggleable__label sk-toggleable__label-arrow\">SimpleImputer</label><div class=\"sk-toggleable__content\"><pre>SimpleImputer()</pre></div></div></div><div class=\"sk-item\"><div class=\"sk-estimator sk-toggleable\"><input class=\"sk-toggleable__control sk-hidden--visually\" id=\"sk-estimator-id-16\" type=\"checkbox\" ><label for=\"sk-estimator-id-16\" class=\"sk-toggleable__label sk-toggleable__label-arrow\">FunctionTransformer</label><div class=\"sk-toggleable__content\"><pre>FunctionTransformer(func=&lt;ufunc &#x27;absolute&#x27;&gt;, validate=True)</pre></div></div></div><div class=\"sk-item\"><div class=\"sk-estimator sk-toggleable\"><input class=\"sk-toggleable__control sk-hidden--visually\" id=\"sk-estimator-id-17\" type=\"checkbox\" ><label for=\"sk-estimator-id-17\" class=\"sk-toggleable__label sk-toggleable__label-arrow\">MinMaxScaler</label><div class=\"sk-toggleable__content\"><pre>MinMaxScaler()</pre></div></div></div></div></div></div></div></div><div class=\"sk-parallel-item\"><div class=\"sk-item\"><div class=\"sk-label-container\"><div class=\"sk-label sk-toggleable\"><input class=\"sk-toggleable__control sk-hidden--visually\" id=\"sk-estimator-id-18\" type=\"checkbox\" ><label for=\"sk-estimator-id-18\" class=\"sk-toggleable__label sk-toggleable__label-arrow\">log</label><div class=\"sk-toggleable__content\"><pre>[&#x27;Scholarship&#x27;, &#x27;Hipertension&#x27;, &#x27;Diabetes&#x27;, &#x27;Alcoholism&#x27;, &#x27;SMS_received&#x27;]</pre></div></div></div><div class=\"sk-serial\"><div class=\"sk-item\"><div class=\"sk-serial\"><div class=\"sk-item\"><div class=\"sk-estimator sk-toggleable\"><input class=\"sk-toggleable__control sk-hidden--visually\" id=\"sk-estimator-id-19\" type=\"checkbox\" ><label for=\"sk-estimator-id-19\" class=\"sk-toggleable__label sk-toggleable__label-arrow\">SimpleImputer</label><div class=\"sk-toggleable__content\"><pre>SimpleImputer(strategy=&#x27;most_frequent&#x27;)</pre></div></div></div></div></div></div></div></div><div class=\"sk-parallel-item\"><div class=\"sk-item\"><div class=\"sk-label-container\"><div class=\"sk-label sk-toggleable\"><input class=\"sk-toggleable__control sk-hidden--visually\" id=\"sk-estimator-id-20\" type=\"checkbox\" ><label for=\"sk-estimator-id-20\" class=\"sk-toggleable__label sk-toggleable__label-arrow\">cat</label><div class=\"sk-toggleable__content\"><pre>[&#x27;Gender&#x27;, &#x27;Neighbourhood&#x27;]</pre></div></div></div><div class=\"sk-serial\"><div class=\"sk-item\"><div class=\"sk-serial\"><div class=\"sk-item\"><div class=\"sk-estimator sk-toggleable\"><input class=\"sk-toggleable__control sk-hidden--visually\" id=\"sk-estimator-id-21\" type=\"checkbox\" ><label for=\"sk-estimator-id-21\" class=\"sk-toggleable__label sk-toggleable__label-arrow\">SimpleImputer</label><div class=\"sk-toggleable__content\"><pre>SimpleImputer(strategy=&#x27;most_frequent&#x27;)</pre></div></div></div><div class=\"sk-item\"><div class=\"sk-estimator sk-toggleable\"><input class=\"sk-toggleable__control sk-hidden--visually\" id=\"sk-estimator-id-22\" type=\"checkbox\" ><label for=\"sk-estimator-id-22\" class=\"sk-toggleable__label sk-toggleable__label-arrow\">OneHotEncoder</label><div class=\"sk-toggleable__content\"><pre>OneHotEncoder(handle_unknown=&#x27;infrequent_if_exist&#x27;)</pre></div></div></div></div></div></div></div></div></div></div><div class=\"sk-item\"><div class=\"sk-estimator sk-toggleable\"><input class=\"sk-toggleable__control sk-hidden--visually\" id=\"sk-estimator-id-23\" type=\"checkbox\" ><label for=\"sk-estimator-id-23\" class=\"sk-toggleable__label sk-toggleable__label-arrow\">RandomForestClassifier</label><div class=\"sk-toggleable__content\"><pre>RandomForestClassifier(random_state=3993)</pre></div></div></div></div></div></div></div>"
            ]
          },
          "metadata": {},
          "execution_count": 37
        }
      ],
      "source": [
        "# Show the pipeline diagram\n",
        "pipeline"
      ]
    },
    {
      "cell_type": "code",
      "execution_count": 38,
      "metadata": {
        "colab": {
          "base_uri": "https://localhost:8080/"
        },
        "id": "ZFaA8Alj1LDI",
        "outputId": "a76c63cc-72b5-440d-c60a-ea9377ef3ccd"
      },
      "outputs": [
        {
          "output_type": "execute_result",
          "data": {
            "text/plain": [
              "{'memory': None,\n",
              " 'steps': [('preprocessor',\n",
              "   ColumnTransformer(transformers=[('num',\n",
              "                                    Pipeline(steps=[('imputer', SimpleImputer()),\n",
              "                                                    ('abs_transformer',\n",
              "                                                     FunctionTransformer(func=<ufunc 'absolute'>,\n",
              "                                                                         validate=True)),\n",
              "                                                    ('scaler', MinMaxScaler())]),\n",
              "                                    ['Age']),\n",
              "                                   ('log',\n",
              "                                    Pipeline(steps=[('imputer',\n",
              "                                                     SimpleImputer(strategy='most_frequent'))]),\n",
              "                                    ['Scholarship', 'Hipertension', 'Diabetes',\n",
              "                                     'Alcoholism', 'SMS_received']),\n",
              "                                   ('cat',\n",
              "                                    Pipeline(steps=[('imputer',\n",
              "                                                     SimpleImputer(strategy='most_frequent')),\n",
              "                                                    ('one_hot_encoder',\n",
              "                                                     OneHotEncoder(handle_unknown='infrequent_if_exist'))]),\n",
              "                                    ['Gender', 'Neighbourhood'])])),\n",
              "  ('classifier', RandomForestClassifier(random_state=3993))],\n",
              " 'verbose': False,\n",
              " 'preprocessor': ColumnTransformer(transformers=[('num',\n",
              "                                  Pipeline(steps=[('imputer', SimpleImputer()),\n",
              "                                                  ('abs_transformer',\n",
              "                                                   FunctionTransformer(func=<ufunc 'absolute'>,\n",
              "                                                                       validate=True)),\n",
              "                                                  ('scaler', MinMaxScaler())]),\n",
              "                                  ['Age']),\n",
              "                                 ('log',\n",
              "                                  Pipeline(steps=[('imputer',\n",
              "                                                   SimpleImputer(strategy='most_frequent'))]),\n",
              "                                  ['Scholarship', 'Hipertension', 'Diabetes',\n",
              "                                   'Alcoholism', 'SMS_received']),\n",
              "                                 ('cat',\n",
              "                                  Pipeline(steps=[('imputer',\n",
              "                                                   SimpleImputer(strategy='most_frequent')),\n",
              "                                                  ('one_hot_encoder',\n",
              "                                                   OneHotEncoder(handle_unknown='infrequent_if_exist'))]),\n",
              "                                  ['Gender', 'Neighbourhood'])]),\n",
              " 'classifier': RandomForestClassifier(random_state=3993),\n",
              " 'preprocessor__n_jobs': None,\n",
              " 'preprocessor__remainder': 'drop',\n",
              " 'preprocessor__sparse_threshold': 0.3,\n",
              " 'preprocessor__transformer_weights': None,\n",
              " 'preprocessor__transformers': [('num',\n",
              "   Pipeline(steps=[('imputer', SimpleImputer()),\n",
              "                   ('abs_transformer',\n",
              "                    FunctionTransformer(func=<ufunc 'absolute'>, validate=True)),\n",
              "                   ('scaler', MinMaxScaler())]),\n",
              "   ['Age']),\n",
              "  ('log',\n",
              "   Pipeline(steps=[('imputer', SimpleImputer(strategy='most_frequent'))]),\n",
              "   ['Scholarship', 'Hipertension', 'Diabetes', 'Alcoholism', 'SMS_received']),\n",
              "  ('cat',\n",
              "   Pipeline(steps=[('imputer', SimpleImputer(strategy='most_frequent')),\n",
              "                   ('one_hot_encoder',\n",
              "                    OneHotEncoder(handle_unknown='infrequent_if_exist'))]),\n",
              "   ['Gender', 'Neighbourhood'])],\n",
              " 'preprocessor__verbose': False,\n",
              " 'preprocessor__verbose_feature_names_out': True,\n",
              " 'preprocessor__num': Pipeline(steps=[('imputer', SimpleImputer()),\n",
              "                 ('abs_transformer',\n",
              "                  FunctionTransformer(func=<ufunc 'absolute'>, validate=True)),\n",
              "                 ('scaler', MinMaxScaler())]),\n",
              " 'preprocessor__log': Pipeline(steps=[('imputer', SimpleImputer(strategy='most_frequent'))]),\n",
              " 'preprocessor__cat': Pipeline(steps=[('imputer', SimpleImputer(strategy='most_frequent')),\n",
              "                 ('one_hot_encoder',\n",
              "                  OneHotEncoder(handle_unknown='infrequent_if_exist'))]),\n",
              " 'preprocessor__num__memory': None,\n",
              " 'preprocessor__num__steps': [('imputer', SimpleImputer()),\n",
              "  ('abs_transformer',\n",
              "   FunctionTransformer(func=<ufunc 'absolute'>, validate=True)),\n",
              "  ('scaler', MinMaxScaler())],\n",
              " 'preprocessor__num__verbose': False,\n",
              " 'preprocessor__num__imputer': SimpleImputer(),\n",
              " 'preprocessor__num__abs_transformer': FunctionTransformer(func=<ufunc 'absolute'>, validate=True),\n",
              " 'preprocessor__num__scaler': MinMaxScaler(),\n",
              " 'preprocessor__num__imputer__add_indicator': False,\n",
              " 'preprocessor__num__imputer__copy': True,\n",
              " 'preprocessor__num__imputer__fill_value': None,\n",
              " 'preprocessor__num__imputer__keep_empty_features': False,\n",
              " 'preprocessor__num__imputer__missing_values': nan,\n",
              " 'preprocessor__num__imputer__strategy': 'mean',\n",
              " 'preprocessor__num__imputer__verbose': 'deprecated',\n",
              " 'preprocessor__num__abs_transformer__accept_sparse': False,\n",
              " 'preprocessor__num__abs_transformer__check_inverse': True,\n",
              " 'preprocessor__num__abs_transformer__feature_names_out': None,\n",
              " 'preprocessor__num__abs_transformer__func': <ufunc 'absolute'>,\n",
              " 'preprocessor__num__abs_transformer__inv_kw_args': None,\n",
              " 'preprocessor__num__abs_transformer__inverse_func': None,\n",
              " 'preprocessor__num__abs_transformer__kw_args': None,\n",
              " 'preprocessor__num__abs_transformer__validate': True,\n",
              " 'preprocessor__num__scaler__clip': False,\n",
              " 'preprocessor__num__scaler__copy': True,\n",
              " 'preprocessor__num__scaler__feature_range': (0, 1),\n",
              " 'preprocessor__log__memory': None,\n",
              " 'preprocessor__log__steps': [('imputer',\n",
              "   SimpleImputer(strategy='most_frequent'))],\n",
              " 'preprocessor__log__verbose': False,\n",
              " 'preprocessor__log__imputer': SimpleImputer(strategy='most_frequent'),\n",
              " 'preprocessor__log__imputer__add_indicator': False,\n",
              " 'preprocessor__log__imputer__copy': True,\n",
              " 'preprocessor__log__imputer__fill_value': None,\n",
              " 'preprocessor__log__imputer__keep_empty_features': False,\n",
              " 'preprocessor__log__imputer__missing_values': nan,\n",
              " 'preprocessor__log__imputer__strategy': 'most_frequent',\n",
              " 'preprocessor__log__imputer__verbose': 'deprecated',\n",
              " 'preprocessor__cat__memory': None,\n",
              " 'preprocessor__cat__steps': [('imputer',\n",
              "   SimpleImputer(strategy='most_frequent')),\n",
              "  ('one_hot_encoder', OneHotEncoder(handle_unknown='infrequent_if_exist'))],\n",
              " 'preprocessor__cat__verbose': False,\n",
              " 'preprocessor__cat__imputer': SimpleImputer(strategy='most_frequent'),\n",
              " 'preprocessor__cat__one_hot_encoder': OneHotEncoder(handle_unknown='infrequent_if_exist'),\n",
              " 'preprocessor__cat__imputer__add_indicator': False,\n",
              " 'preprocessor__cat__imputer__copy': True,\n",
              " 'preprocessor__cat__imputer__fill_value': None,\n",
              " 'preprocessor__cat__imputer__keep_empty_features': False,\n",
              " 'preprocessor__cat__imputer__missing_values': nan,\n",
              " 'preprocessor__cat__imputer__strategy': 'most_frequent',\n",
              " 'preprocessor__cat__imputer__verbose': 'deprecated',\n",
              " 'preprocessor__cat__one_hot_encoder__categories': 'auto',\n",
              " 'preprocessor__cat__one_hot_encoder__drop': None,\n",
              " 'preprocessor__cat__one_hot_encoder__dtype': numpy.float64,\n",
              " 'preprocessor__cat__one_hot_encoder__handle_unknown': 'infrequent_if_exist',\n",
              " 'preprocessor__cat__one_hot_encoder__max_categories': None,\n",
              " 'preprocessor__cat__one_hot_encoder__min_frequency': None,\n",
              " 'preprocessor__cat__one_hot_encoder__sparse': 'deprecated',\n",
              " 'preprocessor__cat__one_hot_encoder__sparse_output': True,\n",
              " 'classifier__bootstrap': True,\n",
              " 'classifier__ccp_alpha': 0.0,\n",
              " 'classifier__class_weight': None,\n",
              " 'classifier__criterion': 'gini',\n",
              " 'classifier__max_depth': None,\n",
              " 'classifier__max_features': 'sqrt',\n",
              " 'classifier__max_leaf_nodes': None,\n",
              " 'classifier__max_samples': None,\n",
              " 'classifier__min_impurity_decrease': 0.0,\n",
              " 'classifier__min_samples_leaf': 1,\n",
              " 'classifier__min_samples_split': 2,\n",
              " 'classifier__min_weight_fraction_leaf': 0.0,\n",
              " 'classifier__n_estimators': 100,\n",
              " 'classifier__n_jobs': None,\n",
              " 'classifier__oob_score': False,\n",
              " 'classifier__random_state': 3993,\n",
              " 'classifier__verbose': 0,\n",
              " 'classifier__warm_start': False}"
            ]
          },
          "metadata": {},
          "execution_count": 38
        }
      ],
      "source": [
        "# Show the pipeline parameters\n",
        "pipeline.get_params()"
      ]
    },
    {
      "cell_type": "code",
      "execution_count": 39,
      "metadata": {
        "id": "h7XioQte1LDI"
      },
      "outputs": [],
      "source": [
        "# Define the scoring metrics for the classification\n",
        "scoring = {\n",
        "    \"accuracy\": \"accuracy\",\n",
        "    \"precision\": \"precision\",\n",
        "    \"recall\": \"recall\",\n",
        "    \"f1\": \"f1\",\n",
        "    \"roc_auc\": \"roc_auc\",\n",
        "}"
      ]
    },
    {
      "cell_type": "markdown",
      "metadata": {
        "id": "lCBieAvD1LDI"
      },
      "source": [
        "### Hyperparameter Tuning (Optuna)"
      ]
    },
    {
      "cell_type": "code",
      "execution_count": 40,
      "metadata": {
        "id": "BOJnAoY_1LDI"
      },
      "outputs": [],
      "source": [
        "# # Define the parameter search space for the classifier and the preprocessor for the OptunaSearchCV\n",
        "# optuna_param_distributions = {\n",
        "#     \"preprocessor__num__imputer__strategy\": CategoricalDistribution(\n",
        "#         [\"mean\", \"median\"]\n",
        "#     ),\n",
        "#     \"preprocessor__log__imputer__strategy\": CategoricalDistribution(\n",
        "#         [\"most_frequent\", \"constant\"]\n",
        "#     ),\n",
        "#     \"preprocessor__cat__imputer__strategy\": CategoricalDistribution(\n",
        "#         [\"most_frequent\", \"constant\"]\n",
        "#     ),\n",
        "#     \"classifier__n_estimators\": IntDistribution(100, 300),\n",
        "#     \"classifier__max_depth\": IntDistribution(5, 15),\n",
        "#     \"classifier__min_samples_split\": IntDistribution(2, 10),\n",
        "#     \"classifier__min_samples_leaf\": IntDistribution(1, 4),\n",
        "#     \"classifier__random_state\": CategoricalDistribution(\n",
        "#         [RANDOM_STATE]\n",
        "#     ),\n",
        "#     \"classifier_ccp_alpha\": FloatDistribution(1e-6, 1e-2, log=True),\n",
        "# }"
      ]
    },
    {
      "cell_type": "code",
      "execution_count": 41,
      "metadata": {
        "id": "ROpPsYYf1LDI"
      },
      "outputs": [],
      "source": [
        "# Define the parameter search space for the classifier and the preprocessor for the OptunaSearchCV\n",
        "optuna_param_distributions = {\n",
        "    \"preprocessor__num__imputer__strategy\": CategoricalDistribution([\"mean\", \"median\"]),\n",
        "    \"classifier__n_estimators\": IntDistribution(3, 20),\n",
        "    \"classifier__max_depth\": IntDistribution(5, 15),\n",
        "}"
      ]
    },
    {
      "cell_type": "code",
      "execution_count": 42,
      "metadata": {
        "colab": {
          "base_uri": "https://localhost:8080/"
        },
        "id": "Sf4Z-6kM1LDJ",
        "outputId": "fdf39a2f-69ca-4d76-c506-5d5cdf27f005"
      },
      "outputs": [
        {
          "output_type": "stream",
          "name": "stderr",
          "text": [
            "[I 2024-06-03 16:26:35,985] A new study created in RDB with name: ohio_clinic_classification\n"
          ]
        }
      ],
      "source": [
        "# Create the optuna study for the optimization\n",
        "study = optuna.create_study(\n",
        "    study_name=\"ohio_clinic_classification\",\n",
        "    storage=\"sqlite:///ohio_clinic.sqlite3\",\n",
        "    load_if_exists=True,\n",
        "    direction=\"maximize\",\n",
        ")"
      ]
    },
    {
      "cell_type": "code",
      "execution_count": 43,
      "metadata": {
        "colab": {
          "base_uri": "https://localhost:8080/"
        },
        "id": "ld1d3veP1LDJ",
        "outputId": "dfadbbce-3218-4d1d-85d1-c5be058b8518"
      },
      "outputs": [
        {
          "output_type": "stream",
          "name": "stderr",
          "text": [
            "<ipython-input-43-0e4d84aa6ed1>:2: ExperimentalWarning: OptunaSearchCV is experimental (supported from v0.17.0). The interface can change in the future.\n",
            "  optuna_search = OptunaSearchCV(\n"
          ]
        }
      ],
      "source": [
        "# Define the OptunaSearchCV with the pipeline, the parameter search space, and the number of trials\n",
        "optuna_search = OptunaSearchCV(\n",
        "    pipeline,\n",
        "    optuna_param_distributions,\n",
        "    n_trials=N_TRIALS,\n",
        "    random_state=RANDOM_STATE,\n",
        "    n_jobs=N_JOBS,\n",
        "    cv=CROSS_VALIDATION,\n",
        "    study=study,\n",
        "    verbose=VERBOSE,\n",
        ")"
      ]
    },
    {
      "cell_type": "code",
      "execution_count": 44,
      "metadata": {
        "colab": {
          "base_uri": "https://localhost:8080/",
          "height": 286
        },
        "id": "K9ucENw61LDJ",
        "outputId": "c4290f94-88a8-4cfd-f52b-7b1da52020f5"
      },
      "outputs": [
        {
          "output_type": "execute_result",
          "data": {
            "text/plain": [
              "OptunaSearchCV(cv=3,\n",
              "               estimator=Pipeline(steps=[('preprocessor',\n",
              "                                          ColumnTransformer(transformers=[('num',\n",
              "                                                                           Pipeline(steps=[('imputer',\n",
              "                                                                                            SimpleImputer()),\n",
              "                                                                                           ('abs_transformer',\n",
              "                                                                                            FunctionTransformer(func=<ufunc 'absolute'>,\n",
              "                                                                                                                validate=True)),\n",
              "                                                                                           ('scaler',\n",
              "                                                                                            MinMaxScaler())]),\n",
              "                                                                           ['Age']),\n",
              "                                                                          ('log',\n",
              "                                                                           Pipeline(steps=[('imputer',\n",
              "                                                                                            SimpleImputer(strategy='most_frequent'))]),\n",
              "                                                                           ['Scholarship...\n",
              "               n_jobs=8, n_trials=20,\n",
              "               param_distributions={'classifier__max_depth': IntDistribution(high=15, log=False, low=5, step=1),\n",
              "                                    'classifier__n_estimators': IntDistribution(high=20, log=False, low=3, step=1),\n",
              "                                    'preprocessor__num__imputer__strategy': CategoricalDistribution(choices=('mean', 'median'))},\n",
              "               random_state=3993,\n",
              "               study=<optuna.study.study.Study object at 0x797e9a0c8580>,\n",
              "               verbose=1)"
            ],
            "text/html": [
              "<style>#sk-container-id-4 {color: black;background-color: white;}#sk-container-id-4 pre{padding: 0;}#sk-container-id-4 div.sk-toggleable {background-color: white;}#sk-container-id-4 label.sk-toggleable__label {cursor: pointer;display: block;width: 100%;margin-bottom: 0;padding: 0.3em;box-sizing: border-box;text-align: center;}#sk-container-id-4 label.sk-toggleable__label-arrow:before {content: \"▸\";float: left;margin-right: 0.25em;color: #696969;}#sk-container-id-4 label.sk-toggleable__label-arrow:hover:before {color: black;}#sk-container-id-4 div.sk-estimator:hover label.sk-toggleable__label-arrow:before {color: black;}#sk-container-id-4 div.sk-toggleable__content {max-height: 0;max-width: 0;overflow: hidden;text-align: left;background-color: #f0f8ff;}#sk-container-id-4 div.sk-toggleable__content pre {margin: 0.2em;color: black;border-radius: 0.25em;background-color: #f0f8ff;}#sk-container-id-4 input.sk-toggleable__control:checked~div.sk-toggleable__content {max-height: 200px;max-width: 100%;overflow: auto;}#sk-container-id-4 input.sk-toggleable__control:checked~label.sk-toggleable__label-arrow:before {content: \"▾\";}#sk-container-id-4 div.sk-estimator input.sk-toggleable__control:checked~label.sk-toggleable__label {background-color: #d4ebff;}#sk-container-id-4 div.sk-label input.sk-toggleable__control:checked~label.sk-toggleable__label {background-color: #d4ebff;}#sk-container-id-4 input.sk-hidden--visually {border: 0;clip: rect(1px 1px 1px 1px);clip: rect(1px, 1px, 1px, 1px);height: 1px;margin: -1px;overflow: hidden;padding: 0;position: absolute;width: 1px;}#sk-container-id-4 div.sk-estimator {font-family: monospace;background-color: #f0f8ff;border: 1px dotted black;border-radius: 0.25em;box-sizing: border-box;margin-bottom: 0.5em;}#sk-container-id-4 div.sk-estimator:hover {background-color: #d4ebff;}#sk-container-id-4 div.sk-parallel-item::after {content: \"\";width: 100%;border-bottom: 1px solid gray;flex-grow: 1;}#sk-container-id-4 div.sk-label:hover label.sk-toggleable__label {background-color: #d4ebff;}#sk-container-id-4 div.sk-serial::before {content: \"\";position: absolute;border-left: 1px solid gray;box-sizing: border-box;top: 0;bottom: 0;left: 50%;z-index: 0;}#sk-container-id-4 div.sk-serial {display: flex;flex-direction: column;align-items: center;background-color: white;padding-right: 0.2em;padding-left: 0.2em;position: relative;}#sk-container-id-4 div.sk-item {position: relative;z-index: 1;}#sk-container-id-4 div.sk-parallel {display: flex;align-items: stretch;justify-content: center;background-color: white;position: relative;}#sk-container-id-4 div.sk-item::before, #sk-container-id-4 div.sk-parallel-item::before {content: \"\";position: absolute;border-left: 1px solid gray;box-sizing: border-box;top: 0;bottom: 0;left: 50%;z-index: -1;}#sk-container-id-4 div.sk-parallel-item {display: flex;flex-direction: column;z-index: 1;position: relative;background-color: white;}#sk-container-id-4 div.sk-parallel-item:first-child::after {align-self: flex-end;width: 50%;}#sk-container-id-4 div.sk-parallel-item:last-child::after {align-self: flex-start;width: 50%;}#sk-container-id-4 div.sk-parallel-item:only-child::after {width: 0;}#sk-container-id-4 div.sk-dashed-wrapped {border: 1px dashed gray;margin: 0 0.4em 0.5em 0.4em;box-sizing: border-box;padding-bottom: 0.4em;background-color: white;}#sk-container-id-4 div.sk-label label {font-family: monospace;font-weight: bold;display: inline-block;line-height: 1.2em;}#sk-container-id-4 div.sk-label-container {text-align: center;}#sk-container-id-4 div.sk-container {/* jupyter's `normalize.less` sets `[hidden] { display: none; }` but bootstrap.min.css set `[hidden] { display: none !important; }` so we also need the `!important` here to be able to override the default hidden behavior on the sphinx rendered scikit-learn.org. See: https://github.com/scikit-learn/scikit-learn/issues/21755 */display: inline-block !important;position: relative;}#sk-container-id-4 div.sk-text-repr-fallback {display: none;}</style><div id=\"sk-container-id-4\" class=\"sk-top-container\"><div class=\"sk-text-repr-fallback\"><pre>OptunaSearchCV(cv=3,\n",
              "               estimator=Pipeline(steps=[(&#x27;preprocessor&#x27;,\n",
              "                                          ColumnTransformer(transformers=[(&#x27;num&#x27;,\n",
              "                                                                           Pipeline(steps=[(&#x27;imputer&#x27;,\n",
              "                                                                                            SimpleImputer()),\n",
              "                                                                                           (&#x27;abs_transformer&#x27;,\n",
              "                                                                                            FunctionTransformer(func=&lt;ufunc &#x27;absolute&#x27;&gt;,\n",
              "                                                                                                                validate=True)),\n",
              "                                                                                           (&#x27;scaler&#x27;,\n",
              "                                                                                            MinMaxScaler())]),\n",
              "                                                                           [&#x27;Age&#x27;]),\n",
              "                                                                          (&#x27;log&#x27;,\n",
              "                                                                           Pipeline(steps=[(&#x27;imputer&#x27;,\n",
              "                                                                                            SimpleImputer(strategy=&#x27;most_frequent&#x27;))]),\n",
              "                                                                           [&#x27;Scholarship...\n",
              "               n_jobs=8, n_trials=20,\n",
              "               param_distributions={&#x27;classifier__max_depth&#x27;: IntDistribution(high=15, log=False, low=5, step=1),\n",
              "                                    &#x27;classifier__n_estimators&#x27;: IntDistribution(high=20, log=False, low=3, step=1),\n",
              "                                    &#x27;preprocessor__num__imputer__strategy&#x27;: CategoricalDistribution(choices=(&#x27;mean&#x27;, &#x27;median&#x27;))},\n",
              "               random_state=3993,\n",
              "               study=&lt;optuna.study.study.Study object at 0x797e9a0c8580&gt;,\n",
              "               verbose=1)</pre><b>In a Jupyter environment, please rerun this cell to show the HTML representation or trust the notebook. <br />On GitHub, the HTML representation is unable to render, please try loading this page with nbviewer.org.</b></div><div class=\"sk-container\" hidden><div class=\"sk-item sk-dashed-wrapped\"><div class=\"sk-label-container\"><div class=\"sk-label sk-toggleable\"><input class=\"sk-toggleable__control sk-hidden--visually\" id=\"sk-estimator-id-24\" type=\"checkbox\" ><label for=\"sk-estimator-id-24\" class=\"sk-toggleable__label sk-toggleable__label-arrow\">OptunaSearchCV</label><div class=\"sk-toggleable__content\"><pre>OptunaSearchCV(cv=3,\n",
              "               estimator=Pipeline(steps=[(&#x27;preprocessor&#x27;,\n",
              "                                          ColumnTransformer(transformers=[(&#x27;num&#x27;,\n",
              "                                                                           Pipeline(steps=[(&#x27;imputer&#x27;,\n",
              "                                                                                            SimpleImputer()),\n",
              "                                                                                           (&#x27;abs_transformer&#x27;,\n",
              "                                                                                            FunctionTransformer(func=&lt;ufunc &#x27;absolute&#x27;&gt;,\n",
              "                                                                                                                validate=True)),\n",
              "                                                                                           (&#x27;scaler&#x27;,\n",
              "                                                                                            MinMaxScaler())]),\n",
              "                                                                           [&#x27;Age&#x27;]),\n",
              "                                                                          (&#x27;log&#x27;,\n",
              "                                                                           Pipeline(steps=[(&#x27;imputer&#x27;,\n",
              "                                                                                            SimpleImputer(strategy=&#x27;most_frequent&#x27;))]),\n",
              "                                                                           [&#x27;Scholarship...\n",
              "               n_jobs=8, n_trials=20,\n",
              "               param_distributions={&#x27;classifier__max_depth&#x27;: IntDistribution(high=15, log=False, low=5, step=1),\n",
              "                                    &#x27;classifier__n_estimators&#x27;: IntDistribution(high=20, log=False, low=3, step=1),\n",
              "                                    &#x27;preprocessor__num__imputer__strategy&#x27;: CategoricalDistribution(choices=(&#x27;mean&#x27;, &#x27;median&#x27;))},\n",
              "               random_state=3993,\n",
              "               study=&lt;optuna.study.study.Study object at 0x797e9a0c8580&gt;,\n",
              "               verbose=1)</pre></div></div></div><div class=\"sk-parallel\"><div class=\"sk-parallel-item\"><div class=\"sk-item\"><div class=\"sk-label-container\"><div class=\"sk-label sk-toggleable\"><input class=\"sk-toggleable__control sk-hidden--visually\" id=\"sk-estimator-id-25\" type=\"checkbox\" ><label for=\"sk-estimator-id-25\" class=\"sk-toggleable__label sk-toggleable__label-arrow\">estimator: Pipeline</label><div class=\"sk-toggleable__content\"><pre>Pipeline(steps=[(&#x27;preprocessor&#x27;,\n",
              "                 ColumnTransformer(transformers=[(&#x27;num&#x27;,\n",
              "                                                  Pipeline(steps=[(&#x27;imputer&#x27;,\n",
              "                                                                   SimpleImputer()),\n",
              "                                                                  (&#x27;abs_transformer&#x27;,\n",
              "                                                                   FunctionTransformer(func=&lt;ufunc &#x27;absolute&#x27;&gt;,\n",
              "                                                                                       validate=True)),\n",
              "                                                                  (&#x27;scaler&#x27;,\n",
              "                                                                   MinMaxScaler())]),\n",
              "                                                  [&#x27;Age&#x27;]),\n",
              "                                                 (&#x27;log&#x27;,\n",
              "                                                  Pipeline(steps=[(&#x27;imputer&#x27;,\n",
              "                                                                   SimpleImputer(strategy=&#x27;most_frequent&#x27;))]),\n",
              "                                                  [&#x27;Scholarship&#x27;,\n",
              "                                                   &#x27;Hipertension&#x27;, &#x27;Diabetes&#x27;,\n",
              "                                                   &#x27;Alcoholism&#x27;,\n",
              "                                                   &#x27;SMS_received&#x27;]),\n",
              "                                                 (&#x27;cat&#x27;,\n",
              "                                                  Pipeline(steps=[(&#x27;imputer&#x27;,\n",
              "                                                                   SimpleImputer(strategy=&#x27;most_frequent&#x27;)),\n",
              "                                                                  (&#x27;one_hot_encoder&#x27;,\n",
              "                                                                   OneHotEncoder(handle_unknown=&#x27;infrequent_if_exist&#x27;))]),\n",
              "                                                  [&#x27;Gender&#x27;,\n",
              "                                                   &#x27;Neighbourhood&#x27;])])),\n",
              "                (&#x27;classifier&#x27;, RandomForestClassifier(random_state=3993))])</pre></div></div></div><div class=\"sk-serial\"><div class=\"sk-item\"><div class=\"sk-serial\"><div class=\"sk-item sk-dashed-wrapped\"><div class=\"sk-label-container\"><div class=\"sk-label sk-toggleable\"><input class=\"sk-toggleable__control sk-hidden--visually\" id=\"sk-estimator-id-26\" type=\"checkbox\" ><label for=\"sk-estimator-id-26\" class=\"sk-toggleable__label sk-toggleable__label-arrow\">preprocessor: ColumnTransformer</label><div class=\"sk-toggleable__content\"><pre>ColumnTransformer(transformers=[(&#x27;num&#x27;,\n",
              "                                 Pipeline(steps=[(&#x27;imputer&#x27;, SimpleImputer()),\n",
              "                                                 (&#x27;abs_transformer&#x27;,\n",
              "                                                  FunctionTransformer(func=&lt;ufunc &#x27;absolute&#x27;&gt;,\n",
              "                                                                      validate=True)),\n",
              "                                                 (&#x27;scaler&#x27;, MinMaxScaler())]),\n",
              "                                 [&#x27;Age&#x27;]),\n",
              "                                (&#x27;log&#x27;,\n",
              "                                 Pipeline(steps=[(&#x27;imputer&#x27;,\n",
              "                                                  SimpleImputer(strategy=&#x27;most_frequent&#x27;))]),\n",
              "                                 [&#x27;Scholarship&#x27;, &#x27;Hipertension&#x27;, &#x27;Diabetes&#x27;,\n",
              "                                  &#x27;Alcoholism&#x27;, &#x27;SMS_received&#x27;]),\n",
              "                                (&#x27;cat&#x27;,\n",
              "                                 Pipeline(steps=[(&#x27;imputer&#x27;,\n",
              "                                                  SimpleImputer(strategy=&#x27;most_frequent&#x27;)),\n",
              "                                                 (&#x27;one_hot_encoder&#x27;,\n",
              "                                                  OneHotEncoder(handle_unknown=&#x27;infrequent_if_exist&#x27;))]),\n",
              "                                 [&#x27;Gender&#x27;, &#x27;Neighbourhood&#x27;])])</pre></div></div></div><div class=\"sk-parallel\"><div class=\"sk-parallel-item\"><div class=\"sk-item\"><div class=\"sk-label-container\"><div class=\"sk-label sk-toggleable\"><input class=\"sk-toggleable__control sk-hidden--visually\" id=\"sk-estimator-id-27\" type=\"checkbox\" ><label for=\"sk-estimator-id-27\" class=\"sk-toggleable__label sk-toggleable__label-arrow\">num</label><div class=\"sk-toggleable__content\"><pre>[&#x27;Age&#x27;]</pre></div></div></div><div class=\"sk-serial\"><div class=\"sk-item\"><div class=\"sk-serial\"><div class=\"sk-item\"><div class=\"sk-estimator sk-toggleable\"><input class=\"sk-toggleable__control sk-hidden--visually\" id=\"sk-estimator-id-28\" type=\"checkbox\" ><label for=\"sk-estimator-id-28\" class=\"sk-toggleable__label sk-toggleable__label-arrow\">SimpleImputer</label><div class=\"sk-toggleable__content\"><pre>SimpleImputer()</pre></div></div></div><div class=\"sk-item\"><div class=\"sk-estimator sk-toggleable\"><input class=\"sk-toggleable__control sk-hidden--visually\" id=\"sk-estimator-id-29\" type=\"checkbox\" ><label for=\"sk-estimator-id-29\" class=\"sk-toggleable__label sk-toggleable__label-arrow\">FunctionTransformer</label><div class=\"sk-toggleable__content\"><pre>FunctionTransformer(func=&lt;ufunc &#x27;absolute&#x27;&gt;, validate=True)</pre></div></div></div><div class=\"sk-item\"><div class=\"sk-estimator sk-toggleable\"><input class=\"sk-toggleable__control sk-hidden--visually\" id=\"sk-estimator-id-30\" type=\"checkbox\" ><label for=\"sk-estimator-id-30\" class=\"sk-toggleable__label sk-toggleable__label-arrow\">MinMaxScaler</label><div class=\"sk-toggleable__content\"><pre>MinMaxScaler()</pre></div></div></div></div></div></div></div></div><div class=\"sk-parallel-item\"><div class=\"sk-item\"><div class=\"sk-label-container\"><div class=\"sk-label sk-toggleable\"><input class=\"sk-toggleable__control sk-hidden--visually\" id=\"sk-estimator-id-31\" type=\"checkbox\" ><label for=\"sk-estimator-id-31\" class=\"sk-toggleable__label sk-toggleable__label-arrow\">log</label><div class=\"sk-toggleable__content\"><pre>[&#x27;Scholarship&#x27;, &#x27;Hipertension&#x27;, &#x27;Diabetes&#x27;, &#x27;Alcoholism&#x27;, &#x27;SMS_received&#x27;]</pre></div></div></div><div class=\"sk-serial\"><div class=\"sk-item\"><div class=\"sk-serial\"><div class=\"sk-item\"><div class=\"sk-estimator sk-toggleable\"><input class=\"sk-toggleable__control sk-hidden--visually\" id=\"sk-estimator-id-32\" type=\"checkbox\" ><label for=\"sk-estimator-id-32\" class=\"sk-toggleable__label sk-toggleable__label-arrow\">SimpleImputer</label><div class=\"sk-toggleable__content\"><pre>SimpleImputer(strategy=&#x27;most_frequent&#x27;)</pre></div></div></div></div></div></div></div></div><div class=\"sk-parallel-item\"><div class=\"sk-item\"><div class=\"sk-label-container\"><div class=\"sk-label sk-toggleable\"><input class=\"sk-toggleable__control sk-hidden--visually\" id=\"sk-estimator-id-33\" type=\"checkbox\" ><label for=\"sk-estimator-id-33\" class=\"sk-toggleable__label sk-toggleable__label-arrow\">cat</label><div class=\"sk-toggleable__content\"><pre>[&#x27;Gender&#x27;, &#x27;Neighbourhood&#x27;]</pre></div></div></div><div class=\"sk-serial\"><div class=\"sk-item\"><div class=\"sk-serial\"><div class=\"sk-item\"><div class=\"sk-estimator sk-toggleable\"><input class=\"sk-toggleable__control sk-hidden--visually\" id=\"sk-estimator-id-34\" type=\"checkbox\" ><label for=\"sk-estimator-id-34\" class=\"sk-toggleable__label sk-toggleable__label-arrow\">SimpleImputer</label><div class=\"sk-toggleable__content\"><pre>SimpleImputer(strategy=&#x27;most_frequent&#x27;)</pre></div></div></div><div class=\"sk-item\"><div class=\"sk-estimator sk-toggleable\"><input class=\"sk-toggleable__control sk-hidden--visually\" id=\"sk-estimator-id-35\" type=\"checkbox\" ><label for=\"sk-estimator-id-35\" class=\"sk-toggleable__label sk-toggleable__label-arrow\">OneHotEncoder</label><div class=\"sk-toggleable__content\"><pre>OneHotEncoder(handle_unknown=&#x27;infrequent_if_exist&#x27;)</pre></div></div></div></div></div></div></div></div></div></div><div class=\"sk-item\"><div class=\"sk-estimator sk-toggleable\"><input class=\"sk-toggleable__control sk-hidden--visually\" id=\"sk-estimator-id-36\" type=\"checkbox\" ><label for=\"sk-estimator-id-36\" class=\"sk-toggleable__label sk-toggleable__label-arrow\">RandomForestClassifier</label><div class=\"sk-toggleable__content\"><pre>RandomForestClassifier(random_state=3993)</pre></div></div></div></div></div></div></div></div></div></div></div></div>"
            ]
          },
          "metadata": {},
          "execution_count": 44
        }
      ],
      "source": [
        "# Display the OptunaSearchCV diagram\n",
        "optuna_search"
      ]
    },
    {
      "cell_type": "code",
      "execution_count": 45,
      "metadata": {
        "colab": {
          "base_uri": "https://localhost:8080/"
        },
        "id": "UJ4kgj4P1LDJ",
        "outputId": "04355eb4-5447-4046-8f51-06e08b6c7b4d"
      },
      "outputs": [
        {
          "output_type": "execute_result",
          "data": {
            "text/plain": [
              "{'callbacks': None,\n",
              " 'cv': 3,\n",
              " 'enable_pruning': False,\n",
              " 'error_score': nan,\n",
              " 'estimator__memory': None,\n",
              " 'estimator__steps': [('preprocessor',\n",
              "   ColumnTransformer(transformers=[('num',\n",
              "                                    Pipeline(steps=[('imputer', SimpleImputer()),\n",
              "                                                    ('abs_transformer',\n",
              "                                                     FunctionTransformer(func=<ufunc 'absolute'>,\n",
              "                                                                         validate=True)),\n",
              "                                                    ('scaler', MinMaxScaler())]),\n",
              "                                    ['Age']),\n",
              "                                   ('log',\n",
              "                                    Pipeline(steps=[('imputer',\n",
              "                                                     SimpleImputer(strategy='most_frequent'))]),\n",
              "                                    ['Scholarship', 'Hipertension', 'Diabetes',\n",
              "                                     'Alcoholism', 'SMS_received']),\n",
              "                                   ('cat',\n",
              "                                    Pipeline(steps=[('imputer',\n",
              "                                                     SimpleImputer(strategy='most_frequent')),\n",
              "                                                    ('one_hot_encoder',\n",
              "                                                     OneHotEncoder(handle_unknown='infrequent_if_exist'))]),\n",
              "                                    ['Gender', 'Neighbourhood'])])),\n",
              "  ('classifier', RandomForestClassifier(random_state=3993))],\n",
              " 'estimator__verbose': False,\n",
              " 'estimator__preprocessor': ColumnTransformer(transformers=[('num',\n",
              "                                  Pipeline(steps=[('imputer', SimpleImputer()),\n",
              "                                                  ('abs_transformer',\n",
              "                                                   FunctionTransformer(func=<ufunc 'absolute'>,\n",
              "                                                                       validate=True)),\n",
              "                                                  ('scaler', MinMaxScaler())]),\n",
              "                                  ['Age']),\n",
              "                                 ('log',\n",
              "                                  Pipeline(steps=[('imputer',\n",
              "                                                   SimpleImputer(strategy='most_frequent'))]),\n",
              "                                  ['Scholarship', 'Hipertension', 'Diabetes',\n",
              "                                   'Alcoholism', 'SMS_received']),\n",
              "                                 ('cat',\n",
              "                                  Pipeline(steps=[('imputer',\n",
              "                                                   SimpleImputer(strategy='most_frequent')),\n",
              "                                                  ('one_hot_encoder',\n",
              "                                                   OneHotEncoder(handle_unknown='infrequent_if_exist'))]),\n",
              "                                  ['Gender', 'Neighbourhood'])]),\n",
              " 'estimator__classifier': RandomForestClassifier(random_state=3993),\n",
              " 'estimator__preprocessor__n_jobs': None,\n",
              " 'estimator__preprocessor__remainder': 'drop',\n",
              " 'estimator__preprocessor__sparse_threshold': 0.3,\n",
              " 'estimator__preprocessor__transformer_weights': None,\n",
              " 'estimator__preprocessor__transformers': [('num',\n",
              "   Pipeline(steps=[('imputer', SimpleImputer()),\n",
              "                   ('abs_transformer',\n",
              "                    FunctionTransformer(func=<ufunc 'absolute'>, validate=True)),\n",
              "                   ('scaler', MinMaxScaler())]),\n",
              "   ['Age']),\n",
              "  ('log',\n",
              "   Pipeline(steps=[('imputer', SimpleImputer(strategy='most_frequent'))]),\n",
              "   ['Scholarship', 'Hipertension', 'Diabetes', 'Alcoholism', 'SMS_received']),\n",
              "  ('cat',\n",
              "   Pipeline(steps=[('imputer', SimpleImputer(strategy='most_frequent')),\n",
              "                   ('one_hot_encoder',\n",
              "                    OneHotEncoder(handle_unknown='infrequent_if_exist'))]),\n",
              "   ['Gender', 'Neighbourhood'])],\n",
              " 'estimator__preprocessor__verbose': False,\n",
              " 'estimator__preprocessor__verbose_feature_names_out': True,\n",
              " 'estimator__preprocessor__num': Pipeline(steps=[('imputer', SimpleImputer()),\n",
              "                 ('abs_transformer',\n",
              "                  FunctionTransformer(func=<ufunc 'absolute'>, validate=True)),\n",
              "                 ('scaler', MinMaxScaler())]),\n",
              " 'estimator__preprocessor__log': Pipeline(steps=[('imputer', SimpleImputer(strategy='most_frequent'))]),\n",
              " 'estimator__preprocessor__cat': Pipeline(steps=[('imputer', SimpleImputer(strategy='most_frequent')),\n",
              "                 ('one_hot_encoder',\n",
              "                  OneHotEncoder(handle_unknown='infrequent_if_exist'))]),\n",
              " 'estimator__preprocessor__num__memory': None,\n",
              " 'estimator__preprocessor__num__steps': [('imputer', SimpleImputer()),\n",
              "  ('abs_transformer',\n",
              "   FunctionTransformer(func=<ufunc 'absolute'>, validate=True)),\n",
              "  ('scaler', MinMaxScaler())],\n",
              " 'estimator__preprocessor__num__verbose': False,\n",
              " 'estimator__preprocessor__num__imputer': SimpleImputer(),\n",
              " 'estimator__preprocessor__num__abs_transformer': FunctionTransformer(func=<ufunc 'absolute'>, validate=True),\n",
              " 'estimator__preprocessor__num__scaler': MinMaxScaler(),\n",
              " 'estimator__preprocessor__num__imputer__add_indicator': False,\n",
              " 'estimator__preprocessor__num__imputer__copy': True,\n",
              " 'estimator__preprocessor__num__imputer__fill_value': None,\n",
              " 'estimator__preprocessor__num__imputer__keep_empty_features': False,\n",
              " 'estimator__preprocessor__num__imputer__missing_values': nan,\n",
              " 'estimator__preprocessor__num__imputer__strategy': 'mean',\n",
              " 'estimator__preprocessor__num__imputer__verbose': 'deprecated',\n",
              " 'estimator__preprocessor__num__abs_transformer__accept_sparse': False,\n",
              " 'estimator__preprocessor__num__abs_transformer__check_inverse': True,\n",
              " 'estimator__preprocessor__num__abs_transformer__feature_names_out': None,\n",
              " 'estimator__preprocessor__num__abs_transformer__func': <ufunc 'absolute'>,\n",
              " 'estimator__preprocessor__num__abs_transformer__inv_kw_args': None,\n",
              " 'estimator__preprocessor__num__abs_transformer__inverse_func': None,\n",
              " 'estimator__preprocessor__num__abs_transformer__kw_args': None,\n",
              " 'estimator__preprocessor__num__abs_transformer__validate': True,\n",
              " 'estimator__preprocessor__num__scaler__clip': False,\n",
              " 'estimator__preprocessor__num__scaler__copy': True,\n",
              " 'estimator__preprocessor__num__scaler__feature_range': (0, 1),\n",
              " 'estimator__preprocessor__log__memory': None,\n",
              " 'estimator__preprocessor__log__steps': [('imputer',\n",
              "   SimpleImputer(strategy='most_frequent'))],\n",
              " 'estimator__preprocessor__log__verbose': False,\n",
              " 'estimator__preprocessor__log__imputer': SimpleImputer(strategy='most_frequent'),\n",
              " 'estimator__preprocessor__log__imputer__add_indicator': False,\n",
              " 'estimator__preprocessor__log__imputer__copy': True,\n",
              " 'estimator__preprocessor__log__imputer__fill_value': None,\n",
              " 'estimator__preprocessor__log__imputer__keep_empty_features': False,\n",
              " 'estimator__preprocessor__log__imputer__missing_values': nan,\n",
              " 'estimator__preprocessor__log__imputer__strategy': 'most_frequent',\n",
              " 'estimator__preprocessor__log__imputer__verbose': 'deprecated',\n",
              " 'estimator__preprocessor__cat__memory': None,\n",
              " 'estimator__preprocessor__cat__steps': [('imputer',\n",
              "   SimpleImputer(strategy='most_frequent')),\n",
              "  ('one_hot_encoder', OneHotEncoder(handle_unknown='infrequent_if_exist'))],\n",
              " 'estimator__preprocessor__cat__verbose': False,\n",
              " 'estimator__preprocessor__cat__imputer': SimpleImputer(strategy='most_frequent'),\n",
              " 'estimator__preprocessor__cat__one_hot_encoder': OneHotEncoder(handle_unknown='infrequent_if_exist'),\n",
              " 'estimator__preprocessor__cat__imputer__add_indicator': False,\n",
              " 'estimator__preprocessor__cat__imputer__copy': True,\n",
              " 'estimator__preprocessor__cat__imputer__fill_value': None,\n",
              " 'estimator__preprocessor__cat__imputer__keep_empty_features': False,\n",
              " 'estimator__preprocessor__cat__imputer__missing_values': nan,\n",
              " 'estimator__preprocessor__cat__imputer__strategy': 'most_frequent',\n",
              " 'estimator__preprocessor__cat__imputer__verbose': 'deprecated',\n",
              " 'estimator__preprocessor__cat__one_hot_encoder__categories': 'auto',\n",
              " 'estimator__preprocessor__cat__one_hot_encoder__drop': None,\n",
              " 'estimator__preprocessor__cat__one_hot_encoder__dtype': numpy.float64,\n",
              " 'estimator__preprocessor__cat__one_hot_encoder__handle_unknown': 'infrequent_if_exist',\n",
              " 'estimator__preprocessor__cat__one_hot_encoder__max_categories': None,\n",
              " 'estimator__preprocessor__cat__one_hot_encoder__min_frequency': None,\n",
              " 'estimator__preprocessor__cat__one_hot_encoder__sparse': 'deprecated',\n",
              " 'estimator__preprocessor__cat__one_hot_encoder__sparse_output': True,\n",
              " 'estimator__classifier__bootstrap': True,\n",
              " 'estimator__classifier__ccp_alpha': 0.0,\n",
              " 'estimator__classifier__class_weight': None,\n",
              " 'estimator__classifier__criterion': 'gini',\n",
              " 'estimator__classifier__max_depth': None,\n",
              " 'estimator__classifier__max_features': 'sqrt',\n",
              " 'estimator__classifier__max_leaf_nodes': None,\n",
              " 'estimator__classifier__max_samples': None,\n",
              " 'estimator__classifier__min_impurity_decrease': 0.0,\n",
              " 'estimator__classifier__min_samples_leaf': 1,\n",
              " 'estimator__classifier__min_samples_split': 2,\n",
              " 'estimator__classifier__min_weight_fraction_leaf': 0.0,\n",
              " 'estimator__classifier__n_estimators': 100,\n",
              " 'estimator__classifier__n_jobs': None,\n",
              " 'estimator__classifier__oob_score': False,\n",
              " 'estimator__classifier__random_state': 3993,\n",
              " 'estimator__classifier__verbose': 0,\n",
              " 'estimator__classifier__warm_start': False,\n",
              " 'estimator': Pipeline(steps=[('preprocessor',\n",
              "                  ColumnTransformer(transformers=[('num',\n",
              "                                                   Pipeline(steps=[('imputer',\n",
              "                                                                    SimpleImputer()),\n",
              "                                                                   ('abs_transformer',\n",
              "                                                                    FunctionTransformer(func=<ufunc 'absolute'>,\n",
              "                                                                                        validate=True)),\n",
              "                                                                   ('scaler',\n",
              "                                                                    MinMaxScaler())]),\n",
              "                                                   ['Age']),\n",
              "                                                  ('log',\n",
              "                                                   Pipeline(steps=[('imputer',\n",
              "                                                                    SimpleImputer(strategy='most_frequent'))]),\n",
              "                                                   ['Scholarship',\n",
              "                                                    'Hipertension', 'Diabetes',\n",
              "                                                    'Alcoholism',\n",
              "                                                    'SMS_received']),\n",
              "                                                  ('cat',\n",
              "                                                   Pipeline(steps=[('imputer',\n",
              "                                                                    SimpleImputer(strategy='most_frequent')),\n",
              "                                                                   ('one_hot_encoder',\n",
              "                                                                    OneHotEncoder(handle_unknown='infrequent_if_exist'))]),\n",
              "                                                   ['Gender',\n",
              "                                                    'Neighbourhood'])])),\n",
              "                 ('classifier', RandomForestClassifier(random_state=3993))]),\n",
              " 'max_iter': 1000,\n",
              " 'n_jobs': 8,\n",
              " 'n_trials': 20,\n",
              " 'param_distributions': {'preprocessor__num__imputer__strategy': CategoricalDistribution(choices=('mean', 'median')),\n",
              "  'classifier__n_estimators': IntDistribution(high=20, log=False, low=3, step=1),\n",
              "  'classifier__max_depth': IntDistribution(high=15, log=False, low=5, step=1)},\n",
              " 'random_state': 3993,\n",
              " 'refit': True,\n",
              " 'return_train_score': False,\n",
              " 'scoring': None,\n",
              " 'study': <optuna.study.study.Study at 0x797e9a0c8580>,\n",
              " 'subsample': 1.0,\n",
              " 'timeout': None,\n",
              " 'verbose': 1}"
            ]
          },
          "metadata": {},
          "execution_count": 45
        }
      ],
      "source": [
        "# Display the OptunaSearchCV parameters\n",
        "optuna_search.get_params()"
      ]
    },
    {
      "cell_type": "markdown",
      "metadata": {
        "id": "wUC3tKvo1LDJ"
      },
      "source": [
        "## Run Experiment"
      ]
    },
    {
      "cell_type": "markdown",
      "metadata": {
        "id": "QdSIyHoX1LDK",
        "vscode": {
          "languageId": "plaintext"
        }
      },
      "source": [
        "###   Pipeline Training"
      ]
    },
    {
      "cell_type": "code",
      "execution_count": 46,
      "metadata": {
        "colab": {
          "base_uri": "https://localhost:8080/",
          "height": 723
        },
        "id": "FJ1B_SS01LDK",
        "outputId": "64ddf923-886f-4674-d817-53e9b7a80e5f"
      },
      "outputs": [
        {
          "output_type": "stream",
          "name": "stderr",
          "text": [
            "INFO:optuna_integration.sklearn:Searching the best hyperparameters using 88422 samples...\n",
            "[I 2024-06-03 16:26:43,032] Trial 0 finished with value: 0.7957521883694104 and parameters: {'preprocessor__num__imputer__strategy': 'mean', 'classifier__n_estimators': 3, 'classifier__max_depth': 12}. Best is trial 0 with value: 0.7957521883694104.\n",
            "[I 2024-06-03 16:26:43,832] Trial 6 finished with value: 0.7974259799597384 and parameters: {'preprocessor__num__imputer__strategy': 'mean', 'classifier__n_estimators': 5, 'classifier__max_depth': 9}. Best is trial 6 with value: 0.7974259799597384.\n",
            "[I 2024-06-03 16:26:44,227] Trial 1 finished with value: 0.7977539526362217 and parameters: {'preprocessor__num__imputer__strategy': 'median', 'classifier__n_estimators': 11, 'classifier__max_depth': 5}. Best is trial 1 with value: 0.7977539526362217.\n",
            "[I 2024-06-03 16:26:45,396] Trial 5 finished with value: 0.7977539526362217 and parameters: {'preprocessor__num__imputer__strategy': 'mean', 'classifier__n_estimators': 11, 'classifier__max_depth': 6}. Best is trial 1 with value: 0.7977539526362217.\n",
            "[I 2024-06-03 16:26:47,276] Trial 7 finished with value: 0.7977539526362217 and parameters: {'preprocessor__num__imputer__strategy': 'median', 'classifier__n_estimators': 15, 'classifier__max_depth': 5}. Best is trial 1 with value: 0.7977539526362217.\n",
            "[I 2024-06-03 16:26:51,871] Trial 4 finished with value: 0.7973355047386397 and parameters: {'preprocessor__num__imputer__strategy': 'median', 'classifier__n_estimators': 11, 'classifier__max_depth': 12}. Best is trial 1 with value: 0.7977539526362217.\n",
            "[I 2024-06-03 16:26:55,286] Trial 10 finished with value: 0.7977539526362217 and parameters: {'preprocessor__num__imputer__strategy': 'mean', 'classifier__n_estimators': 20, 'classifier__max_depth': 5}. Best is trial 1 with value: 0.7977539526362217.\n",
            "[I 2024-06-03 16:26:57,498] Trial 2 finished with value: 0.7975616927913868 and parameters: {'preprocessor__num__imputer__strategy': 'median', 'classifier__n_estimators': 16, 'classifier__max_depth': 12}. Best is trial 1 with value: 0.7977539526362217.\n",
            "[I 2024-06-03 16:26:59,468] Trial 11 finished with value: 0.7977539526362217 and parameters: {'preprocessor__num__imputer__strategy': 'median', 'classifier__n_estimators': 19, 'classifier__max_depth': 7}. Best is trial 1 with value: 0.7977539526362217.\n",
            "[I 2024-06-03 16:27:02,646] Trial 9 finished with value: 0.7974825269729253 and parameters: {'preprocessor__num__imputer__strategy': 'mean', 'classifier__n_estimators': 13, 'classifier__max_depth': 12}. Best is trial 1 with value: 0.7977539526362217.\n",
            "[I 2024-06-03 16:27:04,384] Trial 3 finished with value: 0.7973807423491891 and parameters: {'preprocessor__num__imputer__strategy': 'mean', 'classifier__n_estimators': 18, 'classifier__max_depth': 14}. Best is trial 1 with value: 0.7977539526362217.\n",
            "[I 2024-06-03 16:27:04,580] Trial 8 finished with value: 0.7972111013096287 and parameters: {'preprocessor__num__imputer__strategy': 'mean', 'classifier__n_estimators': 13, 'classifier__max_depth': 14}. Best is trial 1 with value: 0.7977539526362217.\n",
            "[I 2024-06-03 16:27:07,686] Trial 12 finished with value: 0.797278957725453 and parameters: {'preprocessor__num__imputer__strategy': 'mean', 'classifier__n_estimators': 14, 'classifier__max_depth': 13}. Best is trial 1 with value: 0.7977539526362217.\n",
            "[I 2024-06-03 16:27:08,024] Trial 13 finished with value: 0.7977539526362217 and parameters: {'preprocessor__num__imputer__strategy': 'mean', 'classifier__n_estimators': 20, 'classifier__max_depth': 8}. Best is trial 1 with value: 0.7977539526362217.\n",
            "[I 2024-06-03 16:27:10,125] Trial 16 finished with value: 0.7952093370428175 and parameters: {'preprocessor__num__imputer__strategy': 'median', 'classifier__n_estimators': 6, 'classifier__max_depth': 15}. Best is trial 1 with value: 0.7977539526362217.\n",
            "[I 2024-06-03 16:27:11,029] Trial 18 finished with value: 0.7977652620388591 and parameters: {'preprocessor__num__imputer__strategy': 'median', 'classifier__n_estimators': 8, 'classifier__max_depth': 7}. Best is trial 18 with value: 0.7977652620388591.\n",
            "[I 2024-06-03 16:27:11,624] Trial 19 finished with value: 0.7977539526362217 and parameters: {'preprocessor__num__imputer__strategy': 'median', 'classifier__n_estimators': 9, 'classifier__max_depth': 7}. Best is trial 18 with value: 0.7977652620388591.\n",
            "[I 2024-06-03 16:27:12,553] Trial 14 finished with value: 0.7977200244283097 and parameters: {'preprocessor__num__imputer__strategy': 'median', 'classifier__n_estimators': 18, 'classifier__max_depth': 10}. Best is trial 18 with value: 0.7977652620388591.\n",
            "[I 2024-06-03 16:27:13,526] Trial 17 finished with value: 0.7958539729931465 and parameters: {'preprocessor__num__imputer__strategy': 'median', 'classifier__n_estimators': 8, 'classifier__max_depth': 15}. Best is trial 18 with value: 0.7977652620388591.\n",
            "[I 2024-06-03 16:27:14,561] Trial 15 finished with value: 0.7971658636990795 and parameters: {'preprocessor__num__imputer__strategy': 'median', 'classifier__n_estimators': 15, 'classifier__max_depth': 14}. Best is trial 18 with value: 0.7977652620388591.\n",
            "INFO:optuna_integration.sklearn:Finished hyperparameter search!\n",
            "INFO:optuna_integration.sklearn:Refitting the estimator using 88422 samples...\n",
            "INFO:optuna_integration.sklearn:Finished refitting! (elapsed time: 0.344 sec.)\n"
          ]
        },
        {
          "output_type": "execute_result",
          "data": {
            "text/plain": [
              "OptunaSearchCV(cv=3,\n",
              "               estimator=Pipeline(steps=[('preprocessor',\n",
              "                                          ColumnTransformer(transformers=[('num',\n",
              "                                                                           Pipeline(steps=[('imputer',\n",
              "                                                                                            SimpleImputer()),\n",
              "                                                                                           ('abs_transformer',\n",
              "                                                                                            FunctionTransformer(func=<ufunc 'absolute'>,\n",
              "                                                                                                                validate=True)),\n",
              "                                                                                           ('scaler',\n",
              "                                                                                            MinMaxScaler())]),\n",
              "                                                                           ['Age']),\n",
              "                                                                          ('log',\n",
              "                                                                           Pipeline(steps=[('imputer',\n",
              "                                                                                            SimpleImputer(strategy='most_frequent'))]),\n",
              "                                                                           ['Scholarship...\n",
              "               n_jobs=8, n_trials=20,\n",
              "               param_distributions={'classifier__max_depth': IntDistribution(high=15, log=False, low=5, step=1),\n",
              "                                    'classifier__n_estimators': IntDistribution(high=20, log=False, low=3, step=1),\n",
              "                                    'preprocessor__num__imputer__strategy': CategoricalDistribution(choices=('mean', 'median'))},\n",
              "               random_state=3993,\n",
              "               study=<optuna.study.study.Study object at 0x797e9a0c8580>,\n",
              "               verbose=1)"
            ],
            "text/html": [
              "<style>#sk-container-id-5 {color: black;background-color: white;}#sk-container-id-5 pre{padding: 0;}#sk-container-id-5 div.sk-toggleable {background-color: white;}#sk-container-id-5 label.sk-toggleable__label {cursor: pointer;display: block;width: 100%;margin-bottom: 0;padding: 0.3em;box-sizing: border-box;text-align: center;}#sk-container-id-5 label.sk-toggleable__label-arrow:before {content: \"▸\";float: left;margin-right: 0.25em;color: #696969;}#sk-container-id-5 label.sk-toggleable__label-arrow:hover:before {color: black;}#sk-container-id-5 div.sk-estimator:hover label.sk-toggleable__label-arrow:before {color: black;}#sk-container-id-5 div.sk-toggleable__content {max-height: 0;max-width: 0;overflow: hidden;text-align: left;background-color: #f0f8ff;}#sk-container-id-5 div.sk-toggleable__content pre {margin: 0.2em;color: black;border-radius: 0.25em;background-color: #f0f8ff;}#sk-container-id-5 input.sk-toggleable__control:checked~div.sk-toggleable__content {max-height: 200px;max-width: 100%;overflow: auto;}#sk-container-id-5 input.sk-toggleable__control:checked~label.sk-toggleable__label-arrow:before {content: \"▾\";}#sk-container-id-5 div.sk-estimator input.sk-toggleable__control:checked~label.sk-toggleable__label {background-color: #d4ebff;}#sk-container-id-5 div.sk-label input.sk-toggleable__control:checked~label.sk-toggleable__label {background-color: #d4ebff;}#sk-container-id-5 input.sk-hidden--visually {border: 0;clip: rect(1px 1px 1px 1px);clip: rect(1px, 1px, 1px, 1px);height: 1px;margin: -1px;overflow: hidden;padding: 0;position: absolute;width: 1px;}#sk-container-id-5 div.sk-estimator {font-family: monospace;background-color: #f0f8ff;border: 1px dotted black;border-radius: 0.25em;box-sizing: border-box;margin-bottom: 0.5em;}#sk-container-id-5 div.sk-estimator:hover {background-color: #d4ebff;}#sk-container-id-5 div.sk-parallel-item::after {content: \"\";width: 100%;border-bottom: 1px solid gray;flex-grow: 1;}#sk-container-id-5 div.sk-label:hover label.sk-toggleable__label {background-color: #d4ebff;}#sk-container-id-5 div.sk-serial::before {content: \"\";position: absolute;border-left: 1px solid gray;box-sizing: border-box;top: 0;bottom: 0;left: 50%;z-index: 0;}#sk-container-id-5 div.sk-serial {display: flex;flex-direction: column;align-items: center;background-color: white;padding-right: 0.2em;padding-left: 0.2em;position: relative;}#sk-container-id-5 div.sk-item {position: relative;z-index: 1;}#sk-container-id-5 div.sk-parallel {display: flex;align-items: stretch;justify-content: center;background-color: white;position: relative;}#sk-container-id-5 div.sk-item::before, #sk-container-id-5 div.sk-parallel-item::before {content: \"\";position: absolute;border-left: 1px solid gray;box-sizing: border-box;top: 0;bottom: 0;left: 50%;z-index: -1;}#sk-container-id-5 div.sk-parallel-item {display: flex;flex-direction: column;z-index: 1;position: relative;background-color: white;}#sk-container-id-5 div.sk-parallel-item:first-child::after {align-self: flex-end;width: 50%;}#sk-container-id-5 div.sk-parallel-item:last-child::after {align-self: flex-start;width: 50%;}#sk-container-id-5 div.sk-parallel-item:only-child::after {width: 0;}#sk-container-id-5 div.sk-dashed-wrapped {border: 1px dashed gray;margin: 0 0.4em 0.5em 0.4em;box-sizing: border-box;padding-bottom: 0.4em;background-color: white;}#sk-container-id-5 div.sk-label label {font-family: monospace;font-weight: bold;display: inline-block;line-height: 1.2em;}#sk-container-id-5 div.sk-label-container {text-align: center;}#sk-container-id-5 div.sk-container {/* jupyter's `normalize.less` sets `[hidden] { display: none; }` but bootstrap.min.css set `[hidden] { display: none !important; }` so we also need the `!important` here to be able to override the default hidden behavior on the sphinx rendered scikit-learn.org. See: https://github.com/scikit-learn/scikit-learn/issues/21755 */display: inline-block !important;position: relative;}#sk-container-id-5 div.sk-text-repr-fallback {display: none;}</style><div id=\"sk-container-id-5\" class=\"sk-top-container\"><div class=\"sk-text-repr-fallback\"><pre>OptunaSearchCV(cv=3,\n",
              "               estimator=Pipeline(steps=[(&#x27;preprocessor&#x27;,\n",
              "                                          ColumnTransformer(transformers=[(&#x27;num&#x27;,\n",
              "                                                                           Pipeline(steps=[(&#x27;imputer&#x27;,\n",
              "                                                                                            SimpleImputer()),\n",
              "                                                                                           (&#x27;abs_transformer&#x27;,\n",
              "                                                                                            FunctionTransformer(func=&lt;ufunc &#x27;absolute&#x27;&gt;,\n",
              "                                                                                                                validate=True)),\n",
              "                                                                                           (&#x27;scaler&#x27;,\n",
              "                                                                                            MinMaxScaler())]),\n",
              "                                                                           [&#x27;Age&#x27;]),\n",
              "                                                                          (&#x27;log&#x27;,\n",
              "                                                                           Pipeline(steps=[(&#x27;imputer&#x27;,\n",
              "                                                                                            SimpleImputer(strategy=&#x27;most_frequent&#x27;))]),\n",
              "                                                                           [&#x27;Scholarship...\n",
              "               n_jobs=8, n_trials=20,\n",
              "               param_distributions={&#x27;classifier__max_depth&#x27;: IntDistribution(high=15, log=False, low=5, step=1),\n",
              "                                    &#x27;classifier__n_estimators&#x27;: IntDistribution(high=20, log=False, low=3, step=1),\n",
              "                                    &#x27;preprocessor__num__imputer__strategy&#x27;: CategoricalDistribution(choices=(&#x27;mean&#x27;, &#x27;median&#x27;))},\n",
              "               random_state=3993,\n",
              "               study=&lt;optuna.study.study.Study object at 0x797e9a0c8580&gt;,\n",
              "               verbose=1)</pre><b>In a Jupyter environment, please rerun this cell to show the HTML representation or trust the notebook. <br />On GitHub, the HTML representation is unable to render, please try loading this page with nbviewer.org.</b></div><div class=\"sk-container\" hidden><div class=\"sk-item sk-dashed-wrapped\"><div class=\"sk-label-container\"><div class=\"sk-label sk-toggleable\"><input class=\"sk-toggleable__control sk-hidden--visually\" id=\"sk-estimator-id-37\" type=\"checkbox\" ><label for=\"sk-estimator-id-37\" class=\"sk-toggleable__label sk-toggleable__label-arrow\">OptunaSearchCV</label><div class=\"sk-toggleable__content\"><pre>OptunaSearchCV(cv=3,\n",
              "               estimator=Pipeline(steps=[(&#x27;preprocessor&#x27;,\n",
              "                                          ColumnTransformer(transformers=[(&#x27;num&#x27;,\n",
              "                                                                           Pipeline(steps=[(&#x27;imputer&#x27;,\n",
              "                                                                                            SimpleImputer()),\n",
              "                                                                                           (&#x27;abs_transformer&#x27;,\n",
              "                                                                                            FunctionTransformer(func=&lt;ufunc &#x27;absolute&#x27;&gt;,\n",
              "                                                                                                                validate=True)),\n",
              "                                                                                           (&#x27;scaler&#x27;,\n",
              "                                                                                            MinMaxScaler())]),\n",
              "                                                                           [&#x27;Age&#x27;]),\n",
              "                                                                          (&#x27;log&#x27;,\n",
              "                                                                           Pipeline(steps=[(&#x27;imputer&#x27;,\n",
              "                                                                                            SimpleImputer(strategy=&#x27;most_frequent&#x27;))]),\n",
              "                                                                           [&#x27;Scholarship...\n",
              "               n_jobs=8, n_trials=20,\n",
              "               param_distributions={&#x27;classifier__max_depth&#x27;: IntDistribution(high=15, log=False, low=5, step=1),\n",
              "                                    &#x27;classifier__n_estimators&#x27;: IntDistribution(high=20, log=False, low=3, step=1),\n",
              "                                    &#x27;preprocessor__num__imputer__strategy&#x27;: CategoricalDistribution(choices=(&#x27;mean&#x27;, &#x27;median&#x27;))},\n",
              "               random_state=3993,\n",
              "               study=&lt;optuna.study.study.Study object at 0x797e9a0c8580&gt;,\n",
              "               verbose=1)</pre></div></div></div><div class=\"sk-parallel\"><div class=\"sk-parallel-item\"><div class=\"sk-item\"><div class=\"sk-label-container\"><div class=\"sk-label sk-toggleable\"><input class=\"sk-toggleable__control sk-hidden--visually\" id=\"sk-estimator-id-38\" type=\"checkbox\" ><label for=\"sk-estimator-id-38\" class=\"sk-toggleable__label sk-toggleable__label-arrow\">estimator: Pipeline</label><div class=\"sk-toggleable__content\"><pre>Pipeline(steps=[(&#x27;preprocessor&#x27;,\n",
              "                 ColumnTransformer(transformers=[(&#x27;num&#x27;,\n",
              "                                                  Pipeline(steps=[(&#x27;imputer&#x27;,\n",
              "                                                                   SimpleImputer()),\n",
              "                                                                  (&#x27;abs_transformer&#x27;,\n",
              "                                                                   FunctionTransformer(func=&lt;ufunc &#x27;absolute&#x27;&gt;,\n",
              "                                                                                       validate=True)),\n",
              "                                                                  (&#x27;scaler&#x27;,\n",
              "                                                                   MinMaxScaler())]),\n",
              "                                                  [&#x27;Age&#x27;]),\n",
              "                                                 (&#x27;log&#x27;,\n",
              "                                                  Pipeline(steps=[(&#x27;imputer&#x27;,\n",
              "                                                                   SimpleImputer(strategy=&#x27;most_frequent&#x27;))]),\n",
              "                                                  [&#x27;Scholarship&#x27;,\n",
              "                                                   &#x27;Hipertension&#x27;, &#x27;Diabetes&#x27;,\n",
              "                                                   &#x27;Alcoholism&#x27;,\n",
              "                                                   &#x27;SMS_received&#x27;]),\n",
              "                                                 (&#x27;cat&#x27;,\n",
              "                                                  Pipeline(steps=[(&#x27;imputer&#x27;,\n",
              "                                                                   SimpleImputer(strategy=&#x27;most_frequent&#x27;)),\n",
              "                                                                  (&#x27;one_hot_encoder&#x27;,\n",
              "                                                                   OneHotEncoder(handle_unknown=&#x27;infrequent_if_exist&#x27;))]),\n",
              "                                                  [&#x27;Gender&#x27;,\n",
              "                                                   &#x27;Neighbourhood&#x27;])])),\n",
              "                (&#x27;classifier&#x27;, RandomForestClassifier(random_state=3993))])</pre></div></div></div><div class=\"sk-serial\"><div class=\"sk-item\"><div class=\"sk-serial\"><div class=\"sk-item sk-dashed-wrapped\"><div class=\"sk-label-container\"><div class=\"sk-label sk-toggleable\"><input class=\"sk-toggleable__control sk-hidden--visually\" id=\"sk-estimator-id-39\" type=\"checkbox\" ><label for=\"sk-estimator-id-39\" class=\"sk-toggleable__label sk-toggleable__label-arrow\">preprocessor: ColumnTransformer</label><div class=\"sk-toggleable__content\"><pre>ColumnTransformer(transformers=[(&#x27;num&#x27;,\n",
              "                                 Pipeline(steps=[(&#x27;imputer&#x27;, SimpleImputer()),\n",
              "                                                 (&#x27;abs_transformer&#x27;,\n",
              "                                                  FunctionTransformer(func=&lt;ufunc &#x27;absolute&#x27;&gt;,\n",
              "                                                                      validate=True)),\n",
              "                                                 (&#x27;scaler&#x27;, MinMaxScaler())]),\n",
              "                                 [&#x27;Age&#x27;]),\n",
              "                                (&#x27;log&#x27;,\n",
              "                                 Pipeline(steps=[(&#x27;imputer&#x27;,\n",
              "                                                  SimpleImputer(strategy=&#x27;most_frequent&#x27;))]),\n",
              "                                 [&#x27;Scholarship&#x27;, &#x27;Hipertension&#x27;, &#x27;Diabetes&#x27;,\n",
              "                                  &#x27;Alcoholism&#x27;, &#x27;SMS_received&#x27;]),\n",
              "                                (&#x27;cat&#x27;,\n",
              "                                 Pipeline(steps=[(&#x27;imputer&#x27;,\n",
              "                                                  SimpleImputer(strategy=&#x27;most_frequent&#x27;)),\n",
              "                                                 (&#x27;one_hot_encoder&#x27;,\n",
              "                                                  OneHotEncoder(handle_unknown=&#x27;infrequent_if_exist&#x27;))]),\n",
              "                                 [&#x27;Gender&#x27;, &#x27;Neighbourhood&#x27;])])</pre></div></div></div><div class=\"sk-parallel\"><div class=\"sk-parallel-item\"><div class=\"sk-item\"><div class=\"sk-label-container\"><div class=\"sk-label sk-toggleable\"><input class=\"sk-toggleable__control sk-hidden--visually\" id=\"sk-estimator-id-40\" type=\"checkbox\" ><label for=\"sk-estimator-id-40\" class=\"sk-toggleable__label sk-toggleable__label-arrow\">num</label><div class=\"sk-toggleable__content\"><pre>[&#x27;Age&#x27;]</pre></div></div></div><div class=\"sk-serial\"><div class=\"sk-item\"><div class=\"sk-serial\"><div class=\"sk-item\"><div class=\"sk-estimator sk-toggleable\"><input class=\"sk-toggleable__control sk-hidden--visually\" id=\"sk-estimator-id-41\" type=\"checkbox\" ><label for=\"sk-estimator-id-41\" class=\"sk-toggleable__label sk-toggleable__label-arrow\">SimpleImputer</label><div class=\"sk-toggleable__content\"><pre>SimpleImputer()</pre></div></div></div><div class=\"sk-item\"><div class=\"sk-estimator sk-toggleable\"><input class=\"sk-toggleable__control sk-hidden--visually\" id=\"sk-estimator-id-42\" type=\"checkbox\" ><label for=\"sk-estimator-id-42\" class=\"sk-toggleable__label sk-toggleable__label-arrow\">FunctionTransformer</label><div class=\"sk-toggleable__content\"><pre>FunctionTransformer(func=&lt;ufunc &#x27;absolute&#x27;&gt;, validate=True)</pre></div></div></div><div class=\"sk-item\"><div class=\"sk-estimator sk-toggleable\"><input class=\"sk-toggleable__control sk-hidden--visually\" id=\"sk-estimator-id-43\" type=\"checkbox\" ><label for=\"sk-estimator-id-43\" class=\"sk-toggleable__label sk-toggleable__label-arrow\">MinMaxScaler</label><div class=\"sk-toggleable__content\"><pre>MinMaxScaler()</pre></div></div></div></div></div></div></div></div><div class=\"sk-parallel-item\"><div class=\"sk-item\"><div class=\"sk-label-container\"><div class=\"sk-label sk-toggleable\"><input class=\"sk-toggleable__control sk-hidden--visually\" id=\"sk-estimator-id-44\" type=\"checkbox\" ><label for=\"sk-estimator-id-44\" class=\"sk-toggleable__label sk-toggleable__label-arrow\">log</label><div class=\"sk-toggleable__content\"><pre>[&#x27;Scholarship&#x27;, &#x27;Hipertension&#x27;, &#x27;Diabetes&#x27;, &#x27;Alcoholism&#x27;, &#x27;SMS_received&#x27;]</pre></div></div></div><div class=\"sk-serial\"><div class=\"sk-item\"><div class=\"sk-serial\"><div class=\"sk-item\"><div class=\"sk-estimator sk-toggleable\"><input class=\"sk-toggleable__control sk-hidden--visually\" id=\"sk-estimator-id-45\" type=\"checkbox\" ><label for=\"sk-estimator-id-45\" class=\"sk-toggleable__label sk-toggleable__label-arrow\">SimpleImputer</label><div class=\"sk-toggleable__content\"><pre>SimpleImputer(strategy=&#x27;most_frequent&#x27;)</pre></div></div></div></div></div></div></div></div><div class=\"sk-parallel-item\"><div class=\"sk-item\"><div class=\"sk-label-container\"><div class=\"sk-label sk-toggleable\"><input class=\"sk-toggleable__control sk-hidden--visually\" id=\"sk-estimator-id-46\" type=\"checkbox\" ><label for=\"sk-estimator-id-46\" class=\"sk-toggleable__label sk-toggleable__label-arrow\">cat</label><div class=\"sk-toggleable__content\"><pre>[&#x27;Gender&#x27;, &#x27;Neighbourhood&#x27;]</pre></div></div></div><div class=\"sk-serial\"><div class=\"sk-item\"><div class=\"sk-serial\"><div class=\"sk-item\"><div class=\"sk-estimator sk-toggleable\"><input class=\"sk-toggleable__control sk-hidden--visually\" id=\"sk-estimator-id-47\" type=\"checkbox\" ><label for=\"sk-estimator-id-47\" class=\"sk-toggleable__label sk-toggleable__label-arrow\">SimpleImputer</label><div class=\"sk-toggleable__content\"><pre>SimpleImputer(strategy=&#x27;most_frequent&#x27;)</pre></div></div></div><div class=\"sk-item\"><div class=\"sk-estimator sk-toggleable\"><input class=\"sk-toggleable__control sk-hidden--visually\" id=\"sk-estimator-id-48\" type=\"checkbox\" ><label for=\"sk-estimator-id-48\" class=\"sk-toggleable__label sk-toggleable__label-arrow\">OneHotEncoder</label><div class=\"sk-toggleable__content\"><pre>OneHotEncoder(handle_unknown=&#x27;infrequent_if_exist&#x27;)</pre></div></div></div></div></div></div></div></div></div></div><div class=\"sk-item\"><div class=\"sk-estimator sk-toggleable\"><input class=\"sk-toggleable__control sk-hidden--visually\" id=\"sk-estimator-id-49\" type=\"checkbox\" ><label for=\"sk-estimator-id-49\" class=\"sk-toggleable__label sk-toggleable__label-arrow\">RandomForestClassifier</label><div class=\"sk-toggleable__content\"><pre>RandomForestClassifier(random_state=3993)</pre></div></div></div></div></div></div></div></div></div></div></div></div>"
            ]
          },
          "metadata": {},
          "execution_count": 46
        }
      ],
      "source": [
        "# Fit the OptunaSearchCV with the train data\n",
        "optuna_search.fit(X_train, y_train)"
      ]
    },
    {
      "cell_type": "code",
      "execution_count": 47,
      "metadata": {
        "colab": {
          "base_uri": "https://localhost:8080/"
        },
        "id": "MOx2U5QX1LDK",
        "outputId": "505f39ae-3a21-4990-97c8-526907d78336"
      },
      "outputs": [
        {
          "output_type": "execute_result",
          "data": {
            "text/plain": [
              "{'preprocessor__num__imputer__strategy': 'median',\n",
              " 'classifier__n_estimators': 8,\n",
              " 'classifier__max_depth': 7}"
            ]
          },
          "metadata": {},
          "execution_count": 47
        }
      ],
      "source": [
        "# Show the best parameters found by the OptunaSearchCV\n",
        "optuna_search.best_params_"
      ]
    },
    {
      "cell_type": "code",
      "execution_count": 48,
      "metadata": {
        "colab": {
          "base_uri": "https://localhost:8080/"
        },
        "id": "FKZQ2cvu1LDK",
        "outputId": "1d01f5d0-00ca-4724-ea92-f0e18b0610f6"
      },
      "outputs": [
        {
          "output_type": "execute_result",
          "data": {
            "text/plain": [
              "0.7977652620388591"
            ]
          },
          "metadata": {},
          "execution_count": 48
        }
      ],
      "source": [
        "# Show the best score found by the OptunaSearchCV\n",
        "optuna_search.best_score_"
      ]
    },
    {
      "cell_type": "code",
      "execution_count": 49,
      "metadata": {
        "colab": {
          "base_uri": "https://localhost:8080/",
          "height": 260
        },
        "id": "-7nQEgo91LDK",
        "outputId": "84da8ba6-8bb0-42b4-ff0f-d90bc3580680"
      },
      "outputs": [
        {
          "output_type": "execute_result",
          "data": {
            "text/plain": [
              "Pipeline(steps=[('preprocessor',\n",
              "                 ColumnTransformer(transformers=[('num',\n",
              "                                                  Pipeline(steps=[('imputer',\n",
              "                                                                   SimpleImputer(strategy='median')),\n",
              "                                                                  ('abs_transformer',\n",
              "                                                                   FunctionTransformer(func=<ufunc 'absolute'>,\n",
              "                                                                                       validate=True)),\n",
              "                                                                  ('scaler',\n",
              "                                                                   MinMaxScaler())]),\n",
              "                                                  ['Age']),\n",
              "                                                 ('log',\n",
              "                                                  Pipeline(steps=[('imputer',\n",
              "                                                                   SimpleImputer(strategy='most_frequent'))]),\n",
              "                                                  ['Scholarship',\n",
              "                                                   'Hipertension', 'Diabetes',\n",
              "                                                   'Alcoholism',\n",
              "                                                   'SMS_received']),\n",
              "                                                 ('cat',\n",
              "                                                  Pipeline(steps=[('imputer',\n",
              "                                                                   SimpleImputer(strategy='most_frequent')),\n",
              "                                                                  ('one_hot_encoder',\n",
              "                                                                   OneHotEncoder(handle_unknown='infrequent_if_exist'))]),\n",
              "                                                  ['Gender',\n",
              "                                                   'Neighbourhood'])])),\n",
              "                ('classifier',\n",
              "                 RandomForestClassifier(max_depth=7, n_estimators=8,\n",
              "                                        random_state=3993))])"
            ],
            "text/html": [
              "<style>#sk-container-id-6 {color: black;background-color: white;}#sk-container-id-6 pre{padding: 0;}#sk-container-id-6 div.sk-toggleable {background-color: white;}#sk-container-id-6 label.sk-toggleable__label {cursor: pointer;display: block;width: 100%;margin-bottom: 0;padding: 0.3em;box-sizing: border-box;text-align: center;}#sk-container-id-6 label.sk-toggleable__label-arrow:before {content: \"▸\";float: left;margin-right: 0.25em;color: #696969;}#sk-container-id-6 label.sk-toggleable__label-arrow:hover:before {color: black;}#sk-container-id-6 div.sk-estimator:hover label.sk-toggleable__label-arrow:before {color: black;}#sk-container-id-6 div.sk-toggleable__content {max-height: 0;max-width: 0;overflow: hidden;text-align: left;background-color: #f0f8ff;}#sk-container-id-6 div.sk-toggleable__content pre {margin: 0.2em;color: black;border-radius: 0.25em;background-color: #f0f8ff;}#sk-container-id-6 input.sk-toggleable__control:checked~div.sk-toggleable__content {max-height: 200px;max-width: 100%;overflow: auto;}#sk-container-id-6 input.sk-toggleable__control:checked~label.sk-toggleable__label-arrow:before {content: \"▾\";}#sk-container-id-6 div.sk-estimator input.sk-toggleable__control:checked~label.sk-toggleable__label {background-color: #d4ebff;}#sk-container-id-6 div.sk-label input.sk-toggleable__control:checked~label.sk-toggleable__label {background-color: #d4ebff;}#sk-container-id-6 input.sk-hidden--visually {border: 0;clip: rect(1px 1px 1px 1px);clip: rect(1px, 1px, 1px, 1px);height: 1px;margin: -1px;overflow: hidden;padding: 0;position: absolute;width: 1px;}#sk-container-id-6 div.sk-estimator {font-family: monospace;background-color: #f0f8ff;border: 1px dotted black;border-radius: 0.25em;box-sizing: border-box;margin-bottom: 0.5em;}#sk-container-id-6 div.sk-estimator:hover {background-color: #d4ebff;}#sk-container-id-6 div.sk-parallel-item::after {content: \"\";width: 100%;border-bottom: 1px solid gray;flex-grow: 1;}#sk-container-id-6 div.sk-label:hover label.sk-toggleable__label {background-color: #d4ebff;}#sk-container-id-6 div.sk-serial::before {content: \"\";position: absolute;border-left: 1px solid gray;box-sizing: border-box;top: 0;bottom: 0;left: 50%;z-index: 0;}#sk-container-id-6 div.sk-serial {display: flex;flex-direction: column;align-items: center;background-color: white;padding-right: 0.2em;padding-left: 0.2em;position: relative;}#sk-container-id-6 div.sk-item {position: relative;z-index: 1;}#sk-container-id-6 div.sk-parallel {display: flex;align-items: stretch;justify-content: center;background-color: white;position: relative;}#sk-container-id-6 div.sk-item::before, #sk-container-id-6 div.sk-parallel-item::before {content: \"\";position: absolute;border-left: 1px solid gray;box-sizing: border-box;top: 0;bottom: 0;left: 50%;z-index: -1;}#sk-container-id-6 div.sk-parallel-item {display: flex;flex-direction: column;z-index: 1;position: relative;background-color: white;}#sk-container-id-6 div.sk-parallel-item:first-child::after {align-self: flex-end;width: 50%;}#sk-container-id-6 div.sk-parallel-item:last-child::after {align-self: flex-start;width: 50%;}#sk-container-id-6 div.sk-parallel-item:only-child::after {width: 0;}#sk-container-id-6 div.sk-dashed-wrapped {border: 1px dashed gray;margin: 0 0.4em 0.5em 0.4em;box-sizing: border-box;padding-bottom: 0.4em;background-color: white;}#sk-container-id-6 div.sk-label label {font-family: monospace;font-weight: bold;display: inline-block;line-height: 1.2em;}#sk-container-id-6 div.sk-label-container {text-align: center;}#sk-container-id-6 div.sk-container {/* jupyter's `normalize.less` sets `[hidden] { display: none; }` but bootstrap.min.css set `[hidden] { display: none !important; }` so we also need the `!important` here to be able to override the default hidden behavior on the sphinx rendered scikit-learn.org. See: https://github.com/scikit-learn/scikit-learn/issues/21755 */display: inline-block !important;position: relative;}#sk-container-id-6 div.sk-text-repr-fallback {display: none;}</style><div id=\"sk-container-id-6\" class=\"sk-top-container\"><div class=\"sk-text-repr-fallback\"><pre>Pipeline(steps=[(&#x27;preprocessor&#x27;,\n",
              "                 ColumnTransformer(transformers=[(&#x27;num&#x27;,\n",
              "                                                  Pipeline(steps=[(&#x27;imputer&#x27;,\n",
              "                                                                   SimpleImputer(strategy=&#x27;median&#x27;)),\n",
              "                                                                  (&#x27;abs_transformer&#x27;,\n",
              "                                                                   FunctionTransformer(func=&lt;ufunc &#x27;absolute&#x27;&gt;,\n",
              "                                                                                       validate=True)),\n",
              "                                                                  (&#x27;scaler&#x27;,\n",
              "                                                                   MinMaxScaler())]),\n",
              "                                                  [&#x27;Age&#x27;]),\n",
              "                                                 (&#x27;log&#x27;,\n",
              "                                                  Pipeline(steps=[(&#x27;imputer&#x27;,\n",
              "                                                                   SimpleImputer(strategy=&#x27;most_frequent&#x27;))]),\n",
              "                                                  [&#x27;Scholarship&#x27;,\n",
              "                                                   &#x27;Hipertension&#x27;, &#x27;Diabetes&#x27;,\n",
              "                                                   &#x27;Alcoholism&#x27;,\n",
              "                                                   &#x27;SMS_received&#x27;]),\n",
              "                                                 (&#x27;cat&#x27;,\n",
              "                                                  Pipeline(steps=[(&#x27;imputer&#x27;,\n",
              "                                                                   SimpleImputer(strategy=&#x27;most_frequent&#x27;)),\n",
              "                                                                  (&#x27;one_hot_encoder&#x27;,\n",
              "                                                                   OneHotEncoder(handle_unknown=&#x27;infrequent_if_exist&#x27;))]),\n",
              "                                                  [&#x27;Gender&#x27;,\n",
              "                                                   &#x27;Neighbourhood&#x27;])])),\n",
              "                (&#x27;classifier&#x27;,\n",
              "                 RandomForestClassifier(max_depth=7, n_estimators=8,\n",
              "                                        random_state=3993))])</pre><b>In a Jupyter environment, please rerun this cell to show the HTML representation or trust the notebook. <br />On GitHub, the HTML representation is unable to render, please try loading this page with nbviewer.org.</b></div><div class=\"sk-container\" hidden><div class=\"sk-item sk-dashed-wrapped\"><div class=\"sk-label-container\"><div class=\"sk-label sk-toggleable\"><input class=\"sk-toggleable__control sk-hidden--visually\" id=\"sk-estimator-id-50\" type=\"checkbox\" ><label for=\"sk-estimator-id-50\" class=\"sk-toggleable__label sk-toggleable__label-arrow\">Pipeline</label><div class=\"sk-toggleable__content\"><pre>Pipeline(steps=[(&#x27;preprocessor&#x27;,\n",
              "                 ColumnTransformer(transformers=[(&#x27;num&#x27;,\n",
              "                                                  Pipeline(steps=[(&#x27;imputer&#x27;,\n",
              "                                                                   SimpleImputer(strategy=&#x27;median&#x27;)),\n",
              "                                                                  (&#x27;abs_transformer&#x27;,\n",
              "                                                                   FunctionTransformer(func=&lt;ufunc &#x27;absolute&#x27;&gt;,\n",
              "                                                                                       validate=True)),\n",
              "                                                                  (&#x27;scaler&#x27;,\n",
              "                                                                   MinMaxScaler())]),\n",
              "                                                  [&#x27;Age&#x27;]),\n",
              "                                                 (&#x27;log&#x27;,\n",
              "                                                  Pipeline(steps=[(&#x27;imputer&#x27;,\n",
              "                                                                   SimpleImputer(strategy=&#x27;most_frequent&#x27;))]),\n",
              "                                                  [&#x27;Scholarship&#x27;,\n",
              "                                                   &#x27;Hipertension&#x27;, &#x27;Diabetes&#x27;,\n",
              "                                                   &#x27;Alcoholism&#x27;,\n",
              "                                                   &#x27;SMS_received&#x27;]),\n",
              "                                                 (&#x27;cat&#x27;,\n",
              "                                                  Pipeline(steps=[(&#x27;imputer&#x27;,\n",
              "                                                                   SimpleImputer(strategy=&#x27;most_frequent&#x27;)),\n",
              "                                                                  (&#x27;one_hot_encoder&#x27;,\n",
              "                                                                   OneHotEncoder(handle_unknown=&#x27;infrequent_if_exist&#x27;))]),\n",
              "                                                  [&#x27;Gender&#x27;,\n",
              "                                                   &#x27;Neighbourhood&#x27;])])),\n",
              "                (&#x27;classifier&#x27;,\n",
              "                 RandomForestClassifier(max_depth=7, n_estimators=8,\n",
              "                                        random_state=3993))])</pre></div></div></div><div class=\"sk-serial\"><div class=\"sk-item sk-dashed-wrapped\"><div class=\"sk-label-container\"><div class=\"sk-label sk-toggleable\"><input class=\"sk-toggleable__control sk-hidden--visually\" id=\"sk-estimator-id-51\" type=\"checkbox\" ><label for=\"sk-estimator-id-51\" class=\"sk-toggleable__label sk-toggleable__label-arrow\">preprocessor: ColumnTransformer</label><div class=\"sk-toggleable__content\"><pre>ColumnTransformer(transformers=[(&#x27;num&#x27;,\n",
              "                                 Pipeline(steps=[(&#x27;imputer&#x27;,\n",
              "                                                  SimpleImputer(strategy=&#x27;median&#x27;)),\n",
              "                                                 (&#x27;abs_transformer&#x27;,\n",
              "                                                  FunctionTransformer(func=&lt;ufunc &#x27;absolute&#x27;&gt;,\n",
              "                                                                      validate=True)),\n",
              "                                                 (&#x27;scaler&#x27;, MinMaxScaler())]),\n",
              "                                 [&#x27;Age&#x27;]),\n",
              "                                (&#x27;log&#x27;,\n",
              "                                 Pipeline(steps=[(&#x27;imputer&#x27;,\n",
              "                                                  SimpleImputer(strategy=&#x27;most_frequent&#x27;))]),\n",
              "                                 [&#x27;Scholarship&#x27;, &#x27;Hipertension&#x27;, &#x27;Diabetes&#x27;,\n",
              "                                  &#x27;Alcoholism&#x27;, &#x27;SMS_received&#x27;]),\n",
              "                                (&#x27;cat&#x27;,\n",
              "                                 Pipeline(steps=[(&#x27;imputer&#x27;,\n",
              "                                                  SimpleImputer(strategy=&#x27;most_frequent&#x27;)),\n",
              "                                                 (&#x27;one_hot_encoder&#x27;,\n",
              "                                                  OneHotEncoder(handle_unknown=&#x27;infrequent_if_exist&#x27;))]),\n",
              "                                 [&#x27;Gender&#x27;, &#x27;Neighbourhood&#x27;])])</pre></div></div></div><div class=\"sk-parallel\"><div class=\"sk-parallel-item\"><div class=\"sk-item\"><div class=\"sk-label-container\"><div class=\"sk-label sk-toggleable\"><input class=\"sk-toggleable__control sk-hidden--visually\" id=\"sk-estimator-id-52\" type=\"checkbox\" ><label for=\"sk-estimator-id-52\" class=\"sk-toggleable__label sk-toggleable__label-arrow\">num</label><div class=\"sk-toggleable__content\"><pre>[&#x27;Age&#x27;]</pre></div></div></div><div class=\"sk-serial\"><div class=\"sk-item\"><div class=\"sk-serial\"><div class=\"sk-item\"><div class=\"sk-estimator sk-toggleable\"><input class=\"sk-toggleable__control sk-hidden--visually\" id=\"sk-estimator-id-53\" type=\"checkbox\" ><label for=\"sk-estimator-id-53\" class=\"sk-toggleable__label sk-toggleable__label-arrow\">SimpleImputer</label><div class=\"sk-toggleable__content\"><pre>SimpleImputer(strategy=&#x27;median&#x27;)</pre></div></div></div><div class=\"sk-item\"><div class=\"sk-estimator sk-toggleable\"><input class=\"sk-toggleable__control sk-hidden--visually\" id=\"sk-estimator-id-54\" type=\"checkbox\" ><label for=\"sk-estimator-id-54\" class=\"sk-toggleable__label sk-toggleable__label-arrow\">FunctionTransformer</label><div class=\"sk-toggleable__content\"><pre>FunctionTransformer(func=&lt;ufunc &#x27;absolute&#x27;&gt;, validate=True)</pre></div></div></div><div class=\"sk-item\"><div class=\"sk-estimator sk-toggleable\"><input class=\"sk-toggleable__control sk-hidden--visually\" id=\"sk-estimator-id-55\" type=\"checkbox\" ><label for=\"sk-estimator-id-55\" class=\"sk-toggleable__label sk-toggleable__label-arrow\">MinMaxScaler</label><div class=\"sk-toggleable__content\"><pre>MinMaxScaler()</pre></div></div></div></div></div></div></div></div><div class=\"sk-parallel-item\"><div class=\"sk-item\"><div class=\"sk-label-container\"><div class=\"sk-label sk-toggleable\"><input class=\"sk-toggleable__control sk-hidden--visually\" id=\"sk-estimator-id-56\" type=\"checkbox\" ><label for=\"sk-estimator-id-56\" class=\"sk-toggleable__label sk-toggleable__label-arrow\">log</label><div class=\"sk-toggleable__content\"><pre>[&#x27;Scholarship&#x27;, &#x27;Hipertension&#x27;, &#x27;Diabetes&#x27;, &#x27;Alcoholism&#x27;, &#x27;SMS_received&#x27;]</pre></div></div></div><div class=\"sk-serial\"><div class=\"sk-item\"><div class=\"sk-serial\"><div class=\"sk-item\"><div class=\"sk-estimator sk-toggleable\"><input class=\"sk-toggleable__control sk-hidden--visually\" id=\"sk-estimator-id-57\" type=\"checkbox\" ><label for=\"sk-estimator-id-57\" class=\"sk-toggleable__label sk-toggleable__label-arrow\">SimpleImputer</label><div class=\"sk-toggleable__content\"><pre>SimpleImputer(strategy=&#x27;most_frequent&#x27;)</pre></div></div></div></div></div></div></div></div><div class=\"sk-parallel-item\"><div class=\"sk-item\"><div class=\"sk-label-container\"><div class=\"sk-label sk-toggleable\"><input class=\"sk-toggleable__control sk-hidden--visually\" id=\"sk-estimator-id-58\" type=\"checkbox\" ><label for=\"sk-estimator-id-58\" class=\"sk-toggleable__label sk-toggleable__label-arrow\">cat</label><div class=\"sk-toggleable__content\"><pre>[&#x27;Gender&#x27;, &#x27;Neighbourhood&#x27;]</pre></div></div></div><div class=\"sk-serial\"><div class=\"sk-item\"><div class=\"sk-serial\"><div class=\"sk-item\"><div class=\"sk-estimator sk-toggleable\"><input class=\"sk-toggleable__control sk-hidden--visually\" id=\"sk-estimator-id-59\" type=\"checkbox\" ><label for=\"sk-estimator-id-59\" class=\"sk-toggleable__label sk-toggleable__label-arrow\">SimpleImputer</label><div class=\"sk-toggleable__content\"><pre>SimpleImputer(strategy=&#x27;most_frequent&#x27;)</pre></div></div></div><div class=\"sk-item\"><div class=\"sk-estimator sk-toggleable\"><input class=\"sk-toggleable__control sk-hidden--visually\" id=\"sk-estimator-id-60\" type=\"checkbox\" ><label for=\"sk-estimator-id-60\" class=\"sk-toggleable__label sk-toggleable__label-arrow\">OneHotEncoder</label><div class=\"sk-toggleable__content\"><pre>OneHotEncoder(handle_unknown=&#x27;infrequent_if_exist&#x27;)</pre></div></div></div></div></div></div></div></div></div></div><div class=\"sk-item\"><div class=\"sk-estimator sk-toggleable\"><input class=\"sk-toggleable__control sk-hidden--visually\" id=\"sk-estimator-id-61\" type=\"checkbox\" ><label for=\"sk-estimator-id-61\" class=\"sk-toggleable__label sk-toggleable__label-arrow\">RandomForestClassifier</label><div class=\"sk-toggleable__content\"><pre>RandomForestClassifier(max_depth=7, n_estimators=8, random_state=3993)</pre></div></div></div></div></div></div></div>"
            ]
          },
          "metadata": {},
          "execution_count": 49
        }
      ],
      "source": [
        "# Show the best estimator found by the OptunaSearchCV\n",
        "optuna_search.best_estimator_"
      ]
    },
    {
      "cell_type": "markdown",
      "metadata": {
        "id": "syZRdcX61LDK"
      },
      "source": [
        "### Pipeline Saving"
      ]
    },
    {
      "cell_type": "code",
      "execution_count": 50,
      "metadata": {
        "colab": {
          "base_uri": "https://localhost:8080/"
        },
        "id": "DN0Pjol71LDK",
        "outputId": "e0e19195-8ea8-485f-a1f7-4c29df9b8c94"
      },
      "outputs": [
        {
          "output_type": "execute_result",
          "data": {
            "text/plain": [
              "['./classification_pipeline.joblib']"
            ]
          },
          "metadata": {},
          "execution_count": 50
        }
      ],
      "source": [
        "# Save the classification pipeline to a file using joblib\n",
        "joblib.dump(optuna_search.best_estimator_, BASE_FOLDER + \"classification_pipeline.joblib\")"
      ]
    },
    {
      "cell_type": "markdown",
      "metadata": {
        "id": "ESUNe2bW1LDL"
      },
      "source": [
        "### Pipeline Reloading"
      ]
    },
    {
      "cell_type": "code",
      "execution_count": 51,
      "metadata": {
        "id": "wUya9pWG1LDL"
      },
      "outputs": [],
      "source": [
        "# Load the classification pipeline from a file using joblib\n",
        "classification_pipeline = joblib.load( BASE_FOLDER + \"classification_pipeline.joblib\")"
      ]
    },
    {
      "cell_type": "markdown",
      "metadata": {
        "id": "V5fDmXuc1LDL"
      },
      "source": [
        "### Pipeline Evaluation"
      ]
    },
    {
      "cell_type": "code",
      "execution_count": 52,
      "metadata": {
        "colab": {
          "base_uri": "https://localhost:8080/"
        },
        "id": "-oo8U_uN1LDL",
        "outputId": "4c295f92-eadc-4838-fe44-ee839a81642e"
      },
      "outputs": [
        {
          "output_type": "execute_result",
          "data": {
            "text/plain": [
              "0.7993214204931011"
            ]
          },
          "metadata": {},
          "execution_count": 52
        }
      ],
      "source": [
        "# Evaluate the classification pipeline on the test data\n",
        "classification_pipeline.score(X_test, y_test)"
      ]
    },
    {
      "cell_type": "code",
      "execution_count": 53,
      "metadata": {
        "id": "ubo8Q9Ra1LDL"
      },
      "outputs": [],
      "source": [
        "# Predict the target values using the classification pipeline\n",
        "y_pred = classification_pipeline.predict(X_test)"
      ]
    },
    {
      "cell_type": "code",
      "execution_count": 54,
      "metadata": {
        "colab": {
          "base_uri": "https://localhost:8080/"
        },
        "id": "eeIq50641LDL",
        "outputId": "219584f1-6142-46f8-e96e-90ef1fd1e23e"
      },
      "outputs": [
        {
          "output_type": "stream",
          "name": "stdout",
          "text": [
            "              precision    recall  f1-score   support\n",
            "\n",
            "           0       0.80      1.00      0.89     17669\n",
            "           1       0.00      0.00      0.00      4436\n",
            "\n",
            "    accuracy                           0.80     22105\n",
            "   macro avg       0.40      0.50      0.44     22105\n",
            "weighted avg       0.64      0.80      0.71     22105\n",
            "\n"
          ]
        },
        {
          "output_type": "stream",
          "name": "stderr",
          "text": [
            "/usr/local/lib/python3.10/dist-packages/sklearn/metrics/_classification.py:1344: UndefinedMetricWarning: Precision and F-score are ill-defined and being set to 0.0 in labels with no predicted samples. Use `zero_division` parameter to control this behavior.\n",
            "  _warn_prf(average, modifier, msg_start, len(result))\n",
            "/usr/local/lib/python3.10/dist-packages/sklearn/metrics/_classification.py:1344: UndefinedMetricWarning: Precision and F-score are ill-defined and being set to 0.0 in labels with no predicted samples. Use `zero_division` parameter to control this behavior.\n",
            "  _warn_prf(average, modifier, msg_start, len(result))\n",
            "/usr/local/lib/python3.10/dist-packages/sklearn/metrics/_classification.py:1344: UndefinedMetricWarning: Precision and F-score are ill-defined and being set to 0.0 in labels with no predicted samples. Use `zero_division` parameter to control this behavior.\n",
            "  _warn_prf(average, modifier, msg_start, len(result))\n"
          ]
        }
      ],
      "source": [
        "# Print the classification report\n",
        "print(classification_report(y_test, y_pred))"
      ]
    },
    {
      "cell_type": "markdown",
      "metadata": {
        "id": "7gxHgu-U1LDM"
      },
      "source": [
        "# Exercises\n",
        "\n",
        "1. Find the best scaler between MinMaxScaler, StandardScaler, RobustScaler\n",
        "1. Use IterativeImputer instead of SimpleImputer\n",
        "1. Transform the data using PCA in the Pipeline and find the best N components\n",
        "1. Change the classification model using XGBoost"
      ]
    },
    {
      "cell_type": "markdown",
      "metadata": {
        "id": "ccHnxzNE1LDM"
      },
      "source": []
    }
  ],
  "metadata": {
    "colab": {
      "provenance": []
    },
    "kernelspec": {
      "display_name": "Python 3",
      "language": "python",
      "name": "python3"
    },
    "language_info": {
      "codemirror_mode": {
        "name": "ipython",
        "version": 3
      },
      "file_extension": ".py",
      "mimetype": "text/x-python",
      "name": "python",
      "nbconvert_exporter": "python",
      "pygments_lexer": "ipython3",
      "version": "3.8.12"
    },
    "widgets": {
      "application/vnd.jupyter.widget-state+json": {
        "dbb90bc63be6423d97f0b94355bd27cf": {
          "model_module": "@jupyter-widgets/controls",
          "model_name": "HBoxModel",
          "model_module_version": "1.5.0",
          "state": {
            "_dom_classes": [],
            "_model_module": "@jupyter-widgets/controls",
            "_model_module_version": "1.5.0",
            "_model_name": "HBoxModel",
            "_view_count": null,
            "_view_module": "@jupyter-widgets/controls",
            "_view_module_version": "1.5.0",
            "_view_name": "HBoxView",
            "box_style": "",
            "children": [
              "IPY_MODEL_e6b7cc2b324b4b6bad42c1cc98461143",
              "IPY_MODEL_20c02edd432245539d298c64d95dc21b",
              "IPY_MODEL_b8e6d7630f6e4c99ab7eec9ada98cc7e"
            ],
            "layout": "IPY_MODEL_042c4cd36a8e40a59468946dbfc6f355"
          }
        },
        "e6b7cc2b324b4b6bad42c1cc98461143": {
          "model_module": "@jupyter-widgets/controls",
          "model_name": "HTMLModel",
          "model_module_version": "1.5.0",
          "state": {
            "_dom_classes": [],
            "_model_module": "@jupyter-widgets/controls",
            "_model_module_version": "1.5.0",
            "_model_name": "HTMLModel",
            "_view_count": null,
            "_view_module": "@jupyter-widgets/controls",
            "_view_module_version": "1.5.0",
            "_view_name": "HTMLView",
            "description": "",
            "description_tooltip": null,
            "layout": "IPY_MODEL_c649fe08f1c24df1bf7747a428844140",
            "placeholder": "​",
            "style": "IPY_MODEL_717649519cbc423b83917f3cdc8c78a4",
            "value": "Export report to file: 100%"
          }
        },
        "20c02edd432245539d298c64d95dc21b": {
          "model_module": "@jupyter-widgets/controls",
          "model_name": "FloatProgressModel",
          "model_module_version": "1.5.0",
          "state": {
            "_dom_classes": [],
            "_model_module": "@jupyter-widgets/controls",
            "_model_module_version": "1.5.0",
            "_model_name": "FloatProgressModel",
            "_view_count": null,
            "_view_module": "@jupyter-widgets/controls",
            "_view_module_version": "1.5.0",
            "_view_name": "ProgressView",
            "bar_style": "success",
            "description": "",
            "description_tooltip": null,
            "layout": "IPY_MODEL_e1b6cdb3fd23464588820dd4ab9e3c78",
            "max": 1,
            "min": 0,
            "orientation": "horizontal",
            "style": "IPY_MODEL_640ae2e3d62c47ce9abd2811773a6a33",
            "value": 1
          }
        },
        "b8e6d7630f6e4c99ab7eec9ada98cc7e": {
          "model_module": "@jupyter-widgets/controls",
          "model_name": "HTMLModel",
          "model_module_version": "1.5.0",
          "state": {
            "_dom_classes": [],
            "_model_module": "@jupyter-widgets/controls",
            "_model_module_version": "1.5.0",
            "_model_name": "HTMLModel",
            "_view_count": null,
            "_view_module": "@jupyter-widgets/controls",
            "_view_module_version": "1.5.0",
            "_view_name": "HTMLView",
            "description": "",
            "description_tooltip": null,
            "layout": "IPY_MODEL_3b7457a2eb204adeae1af2fc296ebc9b",
            "placeholder": "​",
            "style": "IPY_MODEL_a33d267ab4dc42169e15695fa8ef4fd0",
            "value": " 1/1 [00:00&lt;00:00, 19.72it/s]"
          }
        },
        "042c4cd36a8e40a59468946dbfc6f355": {
          "model_module": "@jupyter-widgets/base",
          "model_name": "LayoutModel",
          "model_module_version": "1.2.0",
          "state": {
            "_model_module": "@jupyter-widgets/base",
            "_model_module_version": "1.2.0",
            "_model_name": "LayoutModel",
            "_view_count": null,
            "_view_module": "@jupyter-widgets/base",
            "_view_module_version": "1.2.0",
            "_view_name": "LayoutView",
            "align_content": null,
            "align_items": null,
            "align_self": null,
            "border": null,
            "bottom": null,
            "display": null,
            "flex": null,
            "flex_flow": null,
            "grid_area": null,
            "grid_auto_columns": null,
            "grid_auto_flow": null,
            "grid_auto_rows": null,
            "grid_column": null,
            "grid_gap": null,
            "grid_row": null,
            "grid_template_areas": null,
            "grid_template_columns": null,
            "grid_template_rows": null,
            "height": null,
            "justify_content": null,
            "justify_items": null,
            "left": null,
            "margin": null,
            "max_height": null,
            "max_width": null,
            "min_height": null,
            "min_width": null,
            "object_fit": null,
            "object_position": null,
            "order": null,
            "overflow": null,
            "overflow_x": null,
            "overflow_y": null,
            "padding": null,
            "right": null,
            "top": null,
            "visibility": null,
            "width": null
          }
        },
        "c649fe08f1c24df1bf7747a428844140": {
          "model_module": "@jupyter-widgets/base",
          "model_name": "LayoutModel",
          "model_module_version": "1.2.0",
          "state": {
            "_model_module": "@jupyter-widgets/base",
            "_model_module_version": "1.2.0",
            "_model_name": "LayoutModel",
            "_view_count": null,
            "_view_module": "@jupyter-widgets/base",
            "_view_module_version": "1.2.0",
            "_view_name": "LayoutView",
            "align_content": null,
            "align_items": null,
            "align_self": null,
            "border": null,
            "bottom": null,
            "display": null,
            "flex": null,
            "flex_flow": null,
            "grid_area": null,
            "grid_auto_columns": null,
            "grid_auto_flow": null,
            "grid_auto_rows": null,
            "grid_column": null,
            "grid_gap": null,
            "grid_row": null,
            "grid_template_areas": null,
            "grid_template_columns": null,
            "grid_template_rows": null,
            "height": null,
            "justify_content": null,
            "justify_items": null,
            "left": null,
            "margin": null,
            "max_height": null,
            "max_width": null,
            "min_height": null,
            "min_width": null,
            "object_fit": null,
            "object_position": null,
            "order": null,
            "overflow": null,
            "overflow_x": null,
            "overflow_y": null,
            "padding": null,
            "right": null,
            "top": null,
            "visibility": null,
            "width": null
          }
        },
        "717649519cbc423b83917f3cdc8c78a4": {
          "model_module": "@jupyter-widgets/controls",
          "model_name": "DescriptionStyleModel",
          "model_module_version": "1.5.0",
          "state": {
            "_model_module": "@jupyter-widgets/controls",
            "_model_module_version": "1.5.0",
            "_model_name": "DescriptionStyleModel",
            "_view_count": null,
            "_view_module": "@jupyter-widgets/base",
            "_view_module_version": "1.2.0",
            "_view_name": "StyleView",
            "description_width": ""
          }
        },
        "e1b6cdb3fd23464588820dd4ab9e3c78": {
          "model_module": "@jupyter-widgets/base",
          "model_name": "LayoutModel",
          "model_module_version": "1.2.0",
          "state": {
            "_model_module": "@jupyter-widgets/base",
            "_model_module_version": "1.2.0",
            "_model_name": "LayoutModel",
            "_view_count": null,
            "_view_module": "@jupyter-widgets/base",
            "_view_module_version": "1.2.0",
            "_view_name": "LayoutView",
            "align_content": null,
            "align_items": null,
            "align_self": null,
            "border": null,
            "bottom": null,
            "display": null,
            "flex": null,
            "flex_flow": null,
            "grid_area": null,
            "grid_auto_columns": null,
            "grid_auto_flow": null,
            "grid_auto_rows": null,
            "grid_column": null,
            "grid_gap": null,
            "grid_row": null,
            "grid_template_areas": null,
            "grid_template_columns": null,
            "grid_template_rows": null,
            "height": null,
            "justify_content": null,
            "justify_items": null,
            "left": null,
            "margin": null,
            "max_height": null,
            "max_width": null,
            "min_height": null,
            "min_width": null,
            "object_fit": null,
            "object_position": null,
            "order": null,
            "overflow": null,
            "overflow_x": null,
            "overflow_y": null,
            "padding": null,
            "right": null,
            "top": null,
            "visibility": null,
            "width": null
          }
        },
        "640ae2e3d62c47ce9abd2811773a6a33": {
          "model_module": "@jupyter-widgets/controls",
          "model_name": "ProgressStyleModel",
          "model_module_version": "1.5.0",
          "state": {
            "_model_module": "@jupyter-widgets/controls",
            "_model_module_version": "1.5.0",
            "_model_name": "ProgressStyleModel",
            "_view_count": null,
            "_view_module": "@jupyter-widgets/base",
            "_view_module_version": "1.2.0",
            "_view_name": "StyleView",
            "bar_color": null,
            "description_width": ""
          }
        },
        "3b7457a2eb204adeae1af2fc296ebc9b": {
          "model_module": "@jupyter-widgets/base",
          "model_name": "LayoutModel",
          "model_module_version": "1.2.0",
          "state": {
            "_model_module": "@jupyter-widgets/base",
            "_model_module_version": "1.2.0",
            "_model_name": "LayoutModel",
            "_view_count": null,
            "_view_module": "@jupyter-widgets/base",
            "_view_module_version": "1.2.0",
            "_view_name": "LayoutView",
            "align_content": null,
            "align_items": null,
            "align_self": null,
            "border": null,
            "bottom": null,
            "display": null,
            "flex": null,
            "flex_flow": null,
            "grid_area": null,
            "grid_auto_columns": null,
            "grid_auto_flow": null,
            "grid_auto_rows": null,
            "grid_column": null,
            "grid_gap": null,
            "grid_row": null,
            "grid_template_areas": null,
            "grid_template_columns": null,
            "grid_template_rows": null,
            "height": null,
            "justify_content": null,
            "justify_items": null,
            "left": null,
            "margin": null,
            "max_height": null,
            "max_width": null,
            "min_height": null,
            "min_width": null,
            "object_fit": null,
            "object_position": null,
            "order": null,
            "overflow": null,
            "overflow_x": null,
            "overflow_y": null,
            "padding": null,
            "right": null,
            "top": null,
            "visibility": null,
            "width": null
          }
        },
        "a33d267ab4dc42169e15695fa8ef4fd0": {
          "model_module": "@jupyter-widgets/controls",
          "model_name": "DescriptionStyleModel",
          "model_module_version": "1.5.0",
          "state": {
            "_model_module": "@jupyter-widgets/controls",
            "_model_module_version": "1.5.0",
            "_model_name": "DescriptionStyleModel",
            "_view_count": null,
            "_view_module": "@jupyter-widgets/base",
            "_view_module_version": "1.2.0",
            "_view_name": "StyleView",
            "description_width": ""
          }
        }
      }
    }
  },
  "nbformat": 4,
  "nbformat_minor": 0
}