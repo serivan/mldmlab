{
  "nbformat": 4,
  "nbformat_minor": 0,
  "metadata": {
    "kernelspec": {
      "display_name": "Python 3",
      "language": "python",
      "name": "python3"
    },
    "language_info": {
      "codemirror_mode": {
        "name": "ipython",
        "version": 3
      },
      "file_extension": ".py",
      "mimetype": "text/x-python",
      "name": "python",
      "nbconvert_exporter": "python",
      "pygments_lexer": "ipython3",
      "version": "3.6.9"
    },
    "colab": {
      "name": "03-Numpy.ipynb",
      "provenance": []
    }
  },
  "cells": [
    {
      "cell_type": "markdown",
      "metadata": {
        "id": "zXuSaJLphDLf"
      },
      "source": [
        "# NumPy -  multidimensional data arrays"
      ]
    },
    {
      "cell_type": "markdown",
      "metadata": {
        "id": "pPi3P8oMhDLh"
      },
      "source": [
        "### Ondrej Lexa"
      ]
    },
    {
      "cell_type": "markdown",
      "metadata": {
        "id": "pkYnjy2HhDLi"
      },
      "source": [
        "The `numpy` package (module) is used in almost all numerical computation using Python. It is a package that provide high-performance vector, matrix and higher-dimensional data structures for Python. It is implemented in C and Fortran so when calculations are vectorized (formulated with vectors and matrices), performance is very good.\n",
        "\n",
        "`NumPy` adds basic MATLAB-like capability to Python:\n",
        "\n",
        " * multidimensional arrays with homogeneous data types\n",
        " * specific numeric data types (e.g. `int8`, `uint32`, `float64`)\n",
        " * array manipulation functions (e.g. `reshape`, `transpose`, `concatenate`)\n",
        " * array generation (e.g. `ones`, `zeros`, `eye`, `random`)\n",
        " * element-wise math operations (e.g. `add`, `multiply`, `max`, `sin`)\n",
        " * matrix math operations (e.g. `inner`/`outer` product, `rank`, `trace`)\n",
        " * linear algebra (e.g. `inv`, `pinv`, `svd`, `eig`, `det`, `qr`)\n",
        "\n",
        "`SciPy` builds on `NumPy` (much like MATLAB toolboxes) adding:\n",
        "\n",
        " * multidimensional image processing\n",
        " * non-linear solvers, optimization, root finding\n",
        " * signal processing, fast Fourier transforms\n",
        " * numerical integration, interpolation, statistical functions\n",
        " * sparse matrices, sparse solvers\n",
        " * clustering algorithms, distance metrics, spatial data structures\n",
        " * file IO (including to MATLAB .mat files)\n",
        "\n",
        "`Matplotlib` adds MATLAB-like plotting capability on top of `NumPy`."
      ]
    },
    {
      "cell_type": "markdown",
      "metadata": {
        "id": "dOSxjjWIhDLk"
      },
      "source": [
        "### Importing the numpy module"
      ]
    },
    {
      "cell_type": "markdown",
      "metadata": {
        "id": "_Wcyb4uthDLk"
      },
      "source": [
        "There are several ways to import `numpy`. The standard approach is to use a simple import\n",
        "statement.\n",
        "```python\n",
        "import numpy\n",
        "```\n",
        "However, for large amounts of calls to `numpy` functions, it can become tedious to write\n",
        "`numpy.X` over and over again. Instead, it is common to import under the briefer name `np`.\n",
        "```python\n",
        "import numpy as np\n",
        "```\n",
        "This statement will allow us to access `numpy` objects using `np.X` instead of `numpy.X`. It is\n",
        "also possible to import `numpy` directly into the **current namespace** so that we don't have to use\n",
        "dot notation at all, but rather simply call the functions as if they were built-in:\n",
        "```python\n",
        "from numpy import *\n",
        "```"
      ]
    },
    {
      "cell_type": "markdown",
      "metadata": {
        "id": "e0Fn3quZhDLl"
      },
      "source": [
        "### Interactive Scientific Python (aka PyLab)\n",
        "**PyLab** is a meta-package that import most of the `NumPy` and `Matplotlib` into the global name space. It is the easiest (and most MATLAB-like) way to work with scientific Python.\n",
        "```python\n",
        "from pylab import *\n",
        "```\n",
        "In Jupyter notebooks we can use `%pylab` magic to initiate PyLab evnironment. Option `inline` set graphical output to be shown in notebook. For other magic commands see [Built-in magic commands](http://ipython.readthedocs.io/en/stable/interactive/magics.html). `%pylab` makes the following imports.\n",
        "```python\n",
        "import numpy\n",
        "import matplotlib\n",
        "from matplotlib import pylab, mlab, pyplot\n",
        "np = numpy\n",
        "plt = pyplot\n",
        "\n",
        "from IPython.display import display\n",
        "from IPython.core.pylabtools import figsize, getfigs\n",
        "\n",
        "from pylab import *\n",
        "from numpy import *\n",
        "```"
      ]
    },
    {
      "cell_type": "code",
      "metadata": {
        "colab": {
          "base_uri": "https://localhost:8080/"
        },
        "id": "9BsXM4GMhDLm",
        "outputId": "d88375c8-6f5b-4ff9-afcc-6fe6b2293c4b"
      },
      "source": [
        "%pylab inline"
      ],
      "execution_count": 43,
      "outputs": [
        {
          "output_type": "stream",
          "text": [
            "Populating the interactive namespace from numpy and matplotlib\n"
          ],
          "name": "stdout"
        }
      ]
    },
    {
      "cell_type": "markdown",
      "metadata": {
        "id": "5ckUzsC1hDLo"
      },
      "source": [
        "#### Writing scripts and programs\n",
        "When writing scripts or programs it is recommended that you:\n",
        "\n",
        " * only import what you need, for efficiency\n",
        " * import packages into namespaces, to avoid name clashes\n",
        "\n",
        "The community has adopted abbreviated naming conventions\n",
        "```python\n",
        "import numpy as np\n",
        "import scipy as sp\n",
        "import matplotlib as mpl\n",
        "import matplotlib.pyplot as plt\n",
        "```\n",
        "Some different ways of working with `NumPy` are:\n",
        "```python\n",
        "from numpy import eye, array   # Import only what you need\n",
        "from numpy.linalg import svd\n",
        "```"
      ]
    },
    {
      "cell_type": "markdown",
      "metadata": {
        "id": "s3IryAhPhDLo"
      },
      "source": [
        "### NumPy arrays"
      ]
    },
    {
      "cell_type": "markdown",
      "metadata": {
        "id": "S_rCnHJEhDLo"
      },
      "source": [
        "In the `numpy` package the terminology used for vectors, matrices and higher-dimensional data sets is `numpy.ndarray`.\n",
        "\n",
        "The `numpy.ndarray` looks awefully much like a Python list (or nested list). Why not simply use Python lists for computations instead of creating a new array type? \n",
        "\n",
        "There are several reasons:\n",
        "\n",
        "* Python lists are very general. They can contain any kind of object. They are dynamically typed. They do not support mathematical functions such as matrix and dot multiplications, etc. Implementing such functions for Python lists would not be very efficient because of the dynamic typing.\n",
        "* Numpy arrays are **statically typed** and **homogeneous**. The type of the elements is determined when the array is created.\n",
        "* Numpy arrays are memory efficient.\n",
        "* Because of the static typing, fast implementation of mathematical functions such as multiplication and addition of `numpy` arrays can be implemented in a compiled language (C and Fortran is used).\n",
        "\n",
        "There are a number of ways to initialize new numpy arrays, for example from\n",
        "\n",
        "* a Python list or tuples\n",
        "* using functions that are dedicated to generating numpy arrays, such as `arange`, `linspace`, etc.\n",
        "* reading data from files"
      ]
    },
    {
      "cell_type": "markdown",
      "metadata": {
        "id": "mVY5dhRThDLp"
      },
      "source": [
        "### From lists"
      ]
    },
    {
      "cell_type": "markdown",
      "metadata": {
        "id": "mwY1r3lThDLp"
      },
      "source": [
        "For example, to create new vector and matrix arrays from Python lists we can use the `numpy.array` function."
      ]
    },
    {
      "cell_type": "code",
      "metadata": {
        "colab": {
          "base_uri": "https://localhost:8080/"
        },
        "id": "Rwq9adilhDLq",
        "outputId": "2f9dfffa-8907-4fe8-9acc-87358736ba98"
      },
      "source": [
        "# a vector: the argument to the array function is a Python list\n",
        "v = np.array([1,2,3,8])\n",
        "v"
      ],
      "execution_count": 44,
      "outputs": [
        {
          "output_type": "execute_result",
          "data": {
            "text/plain": [
              "array([1, 2, 3, 8])"
            ]
          },
          "metadata": {
            "tags": []
          },
          "execution_count": 44
        }
      ]
    },
    {
      "cell_type": "code",
      "metadata": {
        "colab": {
          "base_uri": "https://localhost:8080/"
        },
        "id": "IbnCcG75jwcS",
        "outputId": "a68c236c-ec77-4532-ad5a-078cc143fd87"
      },
      "source": [
        "v1=[1, 2, 3, 8]\r\n",
        "v1"
      ],
      "execution_count": 45,
      "outputs": [
        {
          "output_type": "execute_result",
          "data": {
            "text/plain": [
              "[1, 2, 3, 8]"
            ]
          },
          "metadata": {
            "tags": []
          },
          "execution_count": 45
        }
      ]
    },
    {
      "cell_type": "code",
      "metadata": {
        "colab": {
          "base_uri": "https://localhost:8080/"
        },
        "id": "JVVXp2IWhDLq",
        "outputId": "3d55f1df-2c88-4ea9-f13c-c1c8f75666cd"
      },
      "source": [
        "# a matrix: the argument to the array function is a nested Python list\n",
        "M = np.array([[1, 2], [3, 4]])\n",
        "M"
      ],
      "execution_count": 46,
      "outputs": [
        {
          "output_type": "execute_result",
          "data": {
            "text/plain": [
              "array([[1, 2],\n",
              "       [3, 4]])"
            ]
          },
          "metadata": {
            "tags": []
          },
          "execution_count": 46
        }
      ]
    },
    {
      "cell_type": "markdown",
      "metadata": {
        "id": "CPNHNWMNhDLr"
      },
      "source": [
        "The `v` and `M` objects are both of the type `ndarray` that the `numpy` module provides."
      ]
    },
    {
      "cell_type": "code",
      "metadata": {
        "colab": {
          "base_uri": "https://localhost:8080/"
        },
        "id": "Pa6d1D9RhDLr",
        "outputId": "9701cb6b-682a-4ab6-de52-e601c546ec8b"
      },
      "source": [
        "type(v), type(M)"
      ],
      "execution_count": 47,
      "outputs": [
        {
          "output_type": "execute_result",
          "data": {
            "text/plain": [
              "(numpy.ndarray, numpy.ndarray)"
            ]
          },
          "metadata": {
            "tags": []
          },
          "execution_count": 47
        }
      ]
    },
    {
      "cell_type": "markdown",
      "metadata": {
        "id": "fNFfVieEhDLs"
      },
      "source": [
        "### `ndarray` properties"
      ]
    },
    {
      "cell_type": "markdown",
      "metadata": {
        "id": "yu597kvRhDLs"
      },
      "source": [
        "The difference between the `v` and `M` arrays is only their shapes. We can get information about the shape of an array by using the `ndarray.shape` property."
      ]
    },
    {
      "cell_type": "code",
      "metadata": {
        "colab": {
          "base_uri": "https://localhost:8080/"
        },
        "id": "guRlq0-mhDLt",
        "outputId": "86401240-9f3b-4af3-f943-04c440e1e80d"
      },
      "source": [
        "v.shape"
      ],
      "execution_count": 48,
      "outputs": [
        {
          "output_type": "execute_result",
          "data": {
            "text/plain": [
              "(4,)"
            ]
          },
          "metadata": {
            "tags": []
          },
          "execution_count": 48
        }
      ]
    },
    {
      "cell_type": "code",
      "metadata": {
        "colab": {
          "base_uri": "https://localhost:8080/"
        },
        "id": "psGMNpkDhDLt",
        "outputId": "15ccfe54-7582-4da9-865b-c02ff844438b"
      },
      "source": [
        "M.shape"
      ],
      "execution_count": 49,
      "outputs": [
        {
          "output_type": "execute_result",
          "data": {
            "text/plain": [
              "(2, 2)"
            ]
          },
          "metadata": {
            "tags": []
          },
          "execution_count": 49
        }
      ]
    },
    {
      "cell_type": "markdown",
      "metadata": {
        "id": "2Bkw2KjIhDLu"
      },
      "source": [
        "The number of elements in the array is available through the `ndarray.size` property:"
      ]
    },
    {
      "cell_type": "code",
      "metadata": {
        "colab": {
          "base_uri": "https://localhost:8080/"
        },
        "id": "Cr9CqODGhDLu",
        "outputId": "34952c7c-534b-4ac1-897c-c4cd01285821"
      },
      "source": [
        "M.size"
      ],
      "execution_count": 50,
      "outputs": [
        {
          "output_type": "execute_result",
          "data": {
            "text/plain": [
              "4"
            ]
          },
          "metadata": {
            "tags": []
          },
          "execution_count": 50
        }
      ]
    },
    {
      "cell_type": "markdown",
      "metadata": {
        "id": "sn52fTjRhDLv"
      },
      "source": [
        "Equivalently, we could use the function `numpy.shape` and `numpy.size`"
      ]
    },
    {
      "cell_type": "code",
      "metadata": {
        "colab": {
          "base_uri": "https://localhost:8080/"
        },
        "id": "A7EgNgWAhDLv",
        "outputId": "3d2460a6-23e7-42d1-9eb4-812072831ebc"
      },
      "source": [
        "shape(M)"
      ],
      "execution_count": 51,
      "outputs": [
        {
          "output_type": "execute_result",
          "data": {
            "text/plain": [
              "(2, 2)"
            ]
          },
          "metadata": {
            "tags": []
          },
          "execution_count": 51
        }
      ]
    },
    {
      "cell_type": "code",
      "metadata": {
        "colab": {
          "base_uri": "https://localhost:8080/"
        },
        "id": "u5wp8pznhDLw",
        "outputId": "b17ac023-d4ad-415b-d51b-8d279a87b812"
      },
      "source": [
        "size(M)"
      ],
      "execution_count": 52,
      "outputs": [
        {
          "output_type": "execute_result",
          "data": {
            "text/plain": [
              "4"
            ]
          },
          "metadata": {
            "tags": []
          },
          "execution_count": 52
        }
      ]
    },
    {
      "cell_type": "markdown",
      "metadata": {
        "id": "okF80I7lhDLw"
      },
      "source": [
        "The number of dimensions of the array is available through the `ndarray.ndim` property:"
      ]
    },
    {
      "cell_type": "code",
      "metadata": {
        "colab": {
          "base_uri": "https://localhost:8080/"
        },
        "id": "iyXAh3wnhDLw",
        "outputId": "34056d88-994f-4d1e-ab4a-29368ac2e7b3"
      },
      "source": [
        "v.ndim"
      ],
      "execution_count": 53,
      "outputs": [
        {
          "output_type": "execute_result",
          "data": {
            "text/plain": [
              "1"
            ]
          },
          "metadata": {
            "tags": []
          },
          "execution_count": 53
        }
      ]
    },
    {
      "cell_type": "code",
      "metadata": {
        "colab": {
          "base_uri": "https://localhost:8080/"
        },
        "id": "9CufodsmhDLx",
        "outputId": "94ffb03e-c737-4895-f802-38cd3673d6c3"
      },
      "source": [
        "M.ndim"
      ],
      "execution_count": 54,
      "outputs": [
        {
          "output_type": "execute_result",
          "data": {
            "text/plain": [
              "2"
            ]
          },
          "metadata": {
            "tags": []
          },
          "execution_count": 54
        }
      ]
    },
    {
      "cell_type": "code",
      "metadata": {
        "colab": {
          "base_uri": "https://localhost:8080/"
        },
        "id": "UPW7u17EhDLx",
        "outputId": "e4165e93-3fc1-46fd-8f45-3c6b8a7d88e0"
      },
      "source": [
        "M.itemsize # bytes per element"
      ],
      "execution_count": 55,
      "outputs": [
        {
          "output_type": "execute_result",
          "data": {
            "text/plain": [
              "8"
            ]
          },
          "metadata": {
            "tags": []
          },
          "execution_count": 55
        }
      ]
    },
    {
      "cell_type": "code",
      "metadata": {
        "colab": {
          "base_uri": "https://localhost:8080/"
        },
        "id": "rmCrh2M3hDLz",
        "outputId": "95d1f2b0-6682-40d4-894e-59060bc919df"
      },
      "source": [
        "M.nbytes # number of bytes"
      ],
      "execution_count": 56,
      "outputs": [
        {
          "output_type": "execute_result",
          "data": {
            "text/plain": [
              "32"
            ]
          },
          "metadata": {
            "tags": []
          },
          "execution_count": 56
        }
      ]
    },
    {
      "cell_type": "markdown",
      "metadata": {
        "id": "5PdCs9NLhDLz"
      },
      "source": [
        "Using the `dtype` (data type) property of an `ndarray`, we can see what type the data of an array has:"
      ]
    },
    {
      "cell_type": "code",
      "metadata": {
        "colab": {
          "base_uri": "https://localhost:8080/"
        },
        "id": "gauuGLyJhDL0",
        "outputId": "93b05417-30da-4d36-870b-a77be0a5e80e"
      },
      "source": [
        "M.dtype"
      ],
      "execution_count": 57,
      "outputs": [
        {
          "output_type": "execute_result",
          "data": {
            "text/plain": [
              "dtype('int64')"
            ]
          },
          "metadata": {
            "tags": []
          },
          "execution_count": 57
        }
      ]
    },
    {
      "cell_type": "markdown",
      "metadata": {
        "id": "qijxN-TBhDL0"
      },
      "source": [
        "We get an error if we try to assign a value of the wrong type to an element in a numpy array:"
      ]
    },
    {
      "cell_type": "code",
      "metadata": {
        "id": "DAGb7aa-hDL0"
      },
      "source": [
        "#M[0,0] = \"hello\""
      ],
      "execution_count": 58,
      "outputs": []
    },
    {
      "cell_type": "markdown",
      "metadata": {
        "id": "IFgJAQBnhDL1"
      },
      "source": [
        "### Using array-generating functions"
      ]
    },
    {
      "cell_type": "markdown",
      "metadata": {
        "id": "iET7IK1phDL1"
      },
      "source": [
        "For larger arrays it is inpractical to initialize the data manually, using explicit python lists. Instead we can use one of the many functions in `numpy` that generate arrays of different forms. Some of the more common are:"
      ]
    },
    {
      "cell_type": "markdown",
      "metadata": {
        "id": "1DXp8dixhDL1"
      },
      "source": [
        "#### arange"
      ]
    },
    {
      "cell_type": "code",
      "metadata": {
        "id": "GfJW1yEBhDL2",
        "outputId": "7833fdb8-5aed-4f31-b307-343cf2344c28",
        "colab": {
          "base_uri": "https://localhost:8080/"
        }
      },
      "source": [
        "# create a range\n",
        "x = arange(0, 10, 1) # arguments: start, stop, step\n",
        "x"
      ],
      "execution_count": 59,
      "outputs": [
        {
          "output_type": "execute_result",
          "data": {
            "text/plain": [
              "array([0, 1, 2, 3, 4, 5, 6, 7, 8, 9])"
            ]
          },
          "metadata": {
            "tags": []
          },
          "execution_count": 59
        }
      ]
    },
    {
      "cell_type": "code",
      "metadata": {
        "id": "3qloeawshDL3",
        "outputId": "4c74579d-1736-461e-c829-39cf0ec4e9cd",
        "colab": {
          "base_uri": "https://localhost:8080/"
        }
      },
      "source": [
        "x = arange(-1, 1, 0.1)\n",
        "x"
      ],
      "execution_count": 60,
      "outputs": [
        {
          "output_type": "execute_result",
          "data": {
            "text/plain": [
              "array([-1.00000000e+00, -9.00000000e-01, -8.00000000e-01, -7.00000000e-01,\n",
              "       -6.00000000e-01, -5.00000000e-01, -4.00000000e-01, -3.00000000e-01,\n",
              "       -2.00000000e-01, -1.00000000e-01, -2.22044605e-16,  1.00000000e-01,\n",
              "        2.00000000e-01,  3.00000000e-01,  4.00000000e-01,  5.00000000e-01,\n",
              "        6.00000000e-01,  7.00000000e-01,  8.00000000e-01,  9.00000000e-01])"
            ]
          },
          "metadata": {
            "tags": []
          },
          "execution_count": 60
        }
      ]
    },
    {
      "cell_type": "markdown",
      "metadata": {
        "id": "kiL6ta82hDL4"
      },
      "source": [
        "#### linspace and logspace"
      ]
    },
    {
      "cell_type": "code",
      "metadata": {
        "id": "WG9lZDzchDL5",
        "outputId": "3b568010-0cbe-41e3-c7f3-190b00251fa8",
        "colab": {
          "base_uri": "https://localhost:8080/"
        }
      },
      "source": [
        "# using linspace, both end points ARE included\n",
        "linspace(0, 10, 20)"
      ],
      "execution_count": 61,
      "outputs": [
        {
          "output_type": "execute_result",
          "data": {
            "text/plain": [
              "array([ 0.        ,  0.52631579,  1.05263158,  1.57894737,  2.10526316,\n",
              "        2.63157895,  3.15789474,  3.68421053,  4.21052632,  4.73684211,\n",
              "        5.26315789,  5.78947368,  6.31578947,  6.84210526,  7.36842105,\n",
              "        7.89473684,  8.42105263,  8.94736842,  9.47368421, 10.        ])"
            ]
          },
          "metadata": {
            "tags": []
          },
          "execution_count": 61
        }
      ]
    },
    {
      "cell_type": "code",
      "metadata": {
        "id": "GbNbpvb2hDL6",
        "outputId": "cc6cc64c-7ce7-4b56-8f8c-8261cf5be467",
        "colab": {
          "base_uri": "https://localhost:8080/"
        }
      },
      "source": [
        "logspace(0, 2, 10, base=10)"
      ],
      "execution_count": 62,
      "outputs": [
        {
          "output_type": "execute_result",
          "data": {
            "text/plain": [
              "array([  1.        ,   1.66810054,   2.7825594 ,   4.64158883,\n",
              "         7.74263683,  12.91549665,  21.5443469 ,  35.93813664,\n",
              "        59.94842503, 100.        ])"
            ]
          },
          "metadata": {
            "tags": []
          },
          "execution_count": 62
        }
      ]
    },
    {
      "cell_type": "markdown",
      "metadata": {
        "id": "5Ulvo3QBhDL7"
      },
      "source": [
        "#### meshgrid"
      ]
    },
    {
      "cell_type": "code",
      "metadata": {
        "id": "kAaScryGhDL8"
      },
      "source": [
        "xa = linspace(-5, 5, 11)\n",
        "ya = linspace(-3, 3, 7)\n",
        "x, y = meshgrid(xa, ya) # similar to meshgrid in MATLAB"
      ],
      "execution_count": 63,
      "outputs": []
    },
    {
      "cell_type": "code",
      "metadata": {
        "id": "CRefBd3KhDL8",
        "outputId": "42ddfb3b-3192-46af-9029-78dcf53cd627",
        "colab": {
          "base_uri": "https://localhost:8080/"
        }
      },
      "source": [
        "x"
      ],
      "execution_count": 64,
      "outputs": [
        {
          "output_type": "execute_result",
          "data": {
            "text/plain": [
              "array([[-5., -4., -3., -2., -1.,  0.,  1.,  2.,  3.,  4.,  5.],\n",
              "       [-5., -4., -3., -2., -1.,  0.,  1.,  2.,  3.,  4.,  5.],\n",
              "       [-5., -4., -3., -2., -1.,  0.,  1.,  2.,  3.,  4.,  5.],\n",
              "       [-5., -4., -3., -2., -1.,  0.,  1.,  2.,  3.,  4.,  5.],\n",
              "       [-5., -4., -3., -2., -1.,  0.,  1.,  2.,  3.,  4.,  5.],\n",
              "       [-5., -4., -3., -2., -1.,  0.,  1.,  2.,  3.,  4.,  5.],\n",
              "       [-5., -4., -3., -2., -1.,  0.,  1.,  2.,  3.,  4.,  5.]])"
            ]
          },
          "metadata": {
            "tags": []
          },
          "execution_count": 64
        }
      ]
    },
    {
      "cell_type": "code",
      "metadata": {
        "id": "xamLbjQEhDL9",
        "outputId": "385031f1-768c-43dc-b7fa-07b0d809161e",
        "colab": {
          "base_uri": "https://localhost:8080/"
        }
      },
      "source": [
        "y"
      ],
      "execution_count": 65,
      "outputs": [
        {
          "output_type": "execute_result",
          "data": {
            "text/plain": [
              "array([[-3., -3., -3., -3., -3., -3., -3., -3., -3., -3., -3.],\n",
              "       [-2., -2., -2., -2., -2., -2., -2., -2., -2., -2., -2.],\n",
              "       [-1., -1., -1., -1., -1., -1., -1., -1., -1., -1., -1.],\n",
              "       [ 0.,  0.,  0.,  0.,  0.,  0.,  0.,  0.,  0.,  0.,  0.],\n",
              "       [ 1.,  1.,  1.,  1.,  1.,  1.,  1.,  1.,  1.,  1.,  1.],\n",
              "       [ 2.,  2.,  2.,  2.,  2.,  2.,  2.,  2.,  2.,  2.,  2.],\n",
              "       [ 3.,  3.,  3.,  3.,  3.,  3.,  3.,  3.,  3.,  3.,  3.]])"
            ]
          },
          "metadata": {
            "tags": []
          },
          "execution_count": 65
        }
      ]
    },
    {
      "cell_type": "markdown",
      "metadata": {
        "id": "-LKKw48FhDL9"
      },
      "source": [
        "#### diag"
      ]
    },
    {
      "cell_type": "code",
      "metadata": {
        "id": "H2WBAu5EhDL9",
        "outputId": "1e47903a-cdb4-436b-b3d4-5c802a5ec5aa",
        "colab": {
          "base_uri": "https://localhost:8080/"
        }
      },
      "source": [
        "# a diagonal matrix\n",
        "diag([1,2,3])"
      ],
      "execution_count": 66,
      "outputs": [
        {
          "output_type": "execute_result",
          "data": {
            "text/plain": [
              "array([[1, 0, 0],\n",
              "       [0, 2, 0],\n",
              "       [0, 0, 3]])"
            ]
          },
          "metadata": {
            "tags": []
          },
          "execution_count": 66
        }
      ]
    },
    {
      "cell_type": "code",
      "metadata": {
        "id": "sWxbyZk4hDL-",
        "outputId": "2b9def08-84ed-4e0f-c520-e9fe6fb3c4ff",
        "colab": {
          "base_uri": "https://localhost:8080/"
        }
      },
      "source": [
        "# diagonal with offset from the main diagonal\n",
        "diag([1,2,3], k=1) "
      ],
      "execution_count": 67,
      "outputs": [
        {
          "output_type": "execute_result",
          "data": {
            "text/plain": [
              "array([[0, 1, 0, 0],\n",
              "       [0, 0, 2, 0],\n",
              "       [0, 0, 0, 3],\n",
              "       [0, 0, 0, 0]])"
            ]
          },
          "metadata": {
            "tags": []
          },
          "execution_count": 67
        }
      ]
    },
    {
      "cell_type": "markdown",
      "metadata": {
        "id": "lXGKSmTbhDL-"
      },
      "source": [
        "#### zeros and ones"
      ]
    },
    {
      "cell_type": "code",
      "metadata": {
        "id": "WX9HC7FvhDL-",
        "outputId": "2c90a295-8594-4860-882e-b724143d5c55",
        "colab": {
          "base_uri": "https://localhost:8080/"
        }
      },
      "source": [
        "zeros((3,3))"
      ],
      "execution_count": 68,
      "outputs": [
        {
          "output_type": "execute_result",
          "data": {
            "text/plain": [
              "array([[0., 0., 0.],\n",
              "       [0., 0., 0.],\n",
              "       [0., 0., 0.]])"
            ]
          },
          "metadata": {
            "tags": []
          },
          "execution_count": 68
        }
      ]
    },
    {
      "cell_type": "code",
      "metadata": {
        "id": "36KXjfKthDL_",
        "outputId": "8d37b3b1-6ed8-40b1-d5db-b4bd1bb856fc",
        "colab": {
          "base_uri": "https://localhost:8080/"
        }
      },
      "source": [
        "ones((3,3))"
      ],
      "execution_count": 69,
      "outputs": [
        {
          "output_type": "execute_result",
          "data": {
            "text/plain": [
              "array([[1., 1., 1.],\n",
              "       [1., 1., 1.],\n",
              "       [1., 1., 1.]])"
            ]
          },
          "metadata": {
            "tags": []
          },
          "execution_count": 69
        }
      ]
    },
    {
      "cell_type": "markdown",
      "metadata": {
        "id": "aKXFwlK1hDL_"
      },
      "source": [
        "#### identity"
      ]
    },
    {
      "cell_type": "code",
      "metadata": {
        "id": "PBwZOcdohDL_",
        "outputId": "9e668f03-39c4-4691-c7d7-267fa8c0a0e5",
        "colab": {
          "base_uri": "https://localhost:8080/"
        }
      },
      "source": [
        "identity(3)"
      ],
      "execution_count": 70,
      "outputs": [
        {
          "output_type": "execute_result",
          "data": {
            "text/plain": [
              "array([[1., 0., 0.],\n",
              "       [0., 1., 0.],\n",
              "       [0., 0., 1.]])"
            ]
          },
          "metadata": {
            "tags": []
          },
          "execution_count": 70
        }
      ]
    },
    {
      "cell_type": "markdown",
      "metadata": {
        "id": "yILs9qgWsaDf"
      },
      "source": [
        "The numpy.eye() method returns an array of shape, R x C, where all elements are equal to zero, except for the kth diagonal, whose values are equal to one."
      ]
    },
    {
      "cell_type": "code",
      "metadata": {
        "id": "uwskRZMms2ro",
        "outputId": "971d5f04-6633-4796-f468-221eb0084f05",
        "colab": {
          "base_uri": "https://localhost:8080/"
        }
      },
      "source": [
        "# 2x2 matrix with 1's on main diagonal\n",
        "obj1 = numpy.eye(2, dtype = float)\n",
        "print(\"Matrix : \\n\", obj1)\n",
        "# matrix with Row=2 Column=3 and diagonal=1\n",
        "obj2 = np.eye(2, 3, k = 1)\n",
        "print(\"\\nMatrix : \\n\", obj2)"
      ],
      "execution_count": 71,
      "outputs": [
        {
          "output_type": "stream",
          "text": [
            "Matrix : \n",
            " [[1. 0.]\n",
            " [0. 1.]]\n",
            "\n",
            "Matrix : \n",
            " [[0. 1. 0.]\n",
            " [0. 0. 1.]]\n"
          ],
          "name": "stdout"
        }
      ]
    },
    {
      "cell_type": "markdown",
      "metadata": {
        "id": "nFt60qXMhDL_"
      },
      "source": [
        "#### zeros_like and ones_like"
      ]
    },
    {
      "cell_type": "code",
      "metadata": {
        "id": "1MDGd9q-hDMA",
        "outputId": "baa50b0b-b726-4207-dfb8-2cf9cd847cd4",
        "colab": {
          "base_uri": "https://localhost:8080/"
        }
      },
      "source": [
        "zeros_like(x)"
      ],
      "execution_count": 72,
      "outputs": [
        {
          "output_type": "execute_result",
          "data": {
            "text/plain": [
              "array([[0., 0., 0., 0., 0., 0., 0., 0., 0., 0., 0.],\n",
              "       [0., 0., 0., 0., 0., 0., 0., 0., 0., 0., 0.],\n",
              "       [0., 0., 0., 0., 0., 0., 0., 0., 0., 0., 0.],\n",
              "       [0., 0., 0., 0., 0., 0., 0., 0., 0., 0., 0.],\n",
              "       [0., 0., 0., 0., 0., 0., 0., 0., 0., 0., 0.],\n",
              "       [0., 0., 0., 0., 0., 0., 0., 0., 0., 0., 0.],\n",
              "       [0., 0., 0., 0., 0., 0., 0., 0., 0., 0., 0.]])"
            ]
          },
          "metadata": {
            "tags": []
          },
          "execution_count": 72
        }
      ]
    },
    {
      "cell_type": "code",
      "metadata": {
        "id": "nVbqy8dAhDMA",
        "outputId": "d5433566-2568-458a-9266-fc0d43ebfac2",
        "colab": {
          "base_uri": "https://localhost:8080/"
        }
      },
      "source": [
        "ones_like(x)"
      ],
      "execution_count": 73,
      "outputs": [
        {
          "output_type": "execute_result",
          "data": {
            "text/plain": [
              "array([[1., 1., 1., 1., 1., 1., 1., 1., 1., 1., 1.],\n",
              "       [1., 1., 1., 1., 1., 1., 1., 1., 1., 1., 1.],\n",
              "       [1., 1., 1., 1., 1., 1., 1., 1., 1., 1., 1.],\n",
              "       [1., 1., 1., 1., 1., 1., 1., 1., 1., 1., 1.],\n",
              "       [1., 1., 1., 1., 1., 1., 1., 1., 1., 1., 1.],\n",
              "       [1., 1., 1., 1., 1., 1., 1., 1., 1., 1., 1.],\n",
              "       [1., 1., 1., 1., 1., 1., 1., 1., 1., 1., 1.]])"
            ]
          },
          "metadata": {
            "tags": []
          },
          "execution_count": 73
        }
      ]
    },
    {
      "cell_type": "markdown",
      "metadata": {
        "id": "di7myYzthDMA"
      },
      "source": [
        "## Manipulating arrays"
      ]
    },
    {
      "cell_type": "markdown",
      "metadata": {
        "id": "BofXEd7GhDMA"
      },
      "source": [
        "### Indexing"
      ]
    },
    {
      "cell_type": "markdown",
      "metadata": {
        "id": "7S1AcPrMhDMB"
      },
      "source": [
        "We can index elements in an array using square brackets and indices:"
      ]
    },
    {
      "cell_type": "code",
      "metadata": {
        "id": "lNWypReZhDMB",
        "outputId": "5678e5a1-08fc-4ba4-818f-cc14d4c18df7",
        "colab": {
          "base_uri": "https://localhost:8080/"
        }
      },
      "source": [
        "# v is a vector, and has only one dimension, taking one index\n",
        "v[0]"
      ],
      "execution_count": 74,
      "outputs": [
        {
          "output_type": "execute_result",
          "data": {
            "text/plain": [
              "1"
            ]
          },
          "metadata": {
            "tags": []
          },
          "execution_count": 74
        }
      ]
    },
    {
      "cell_type": "code",
      "metadata": {
        "id": "K2Jmuf8whDMB",
        "outputId": "58f2e5ab-3636-4610-935f-ba2d3b47040f",
        "colab": {
          "base_uri": "https://localhost:8080/"
        }
      },
      "source": [
        "# M is a matrix, or a 2 dimensional array. Index could be chained\n",
        "M[1][1]"
      ],
      "execution_count": 75,
      "outputs": [
        {
          "output_type": "execute_result",
          "data": {
            "text/plain": [
              "4"
            ]
          },
          "metadata": {
            "tags": []
          },
          "execution_count": 75
        }
      ]
    },
    {
      "cell_type": "code",
      "metadata": {
        "id": "bvby179ihDMC",
        "outputId": "d2a4e620-e494-427f-a56c-0a68756199e5",
        "colab": {
          "base_uri": "https://localhost:8080/"
        }
      },
      "source": [
        "# M is a matrix, or a 2 dimensional array, index can take also two indices \n",
        "M[1,1]"
      ],
      "execution_count": 76,
      "outputs": [
        {
          "output_type": "execute_result",
          "data": {
            "text/plain": [
              "4"
            ]
          },
          "metadata": {
            "tags": []
          },
          "execution_count": 76
        }
      ]
    },
    {
      "cell_type": "markdown",
      "metadata": {
        "id": "xQbKJ69hhDMF"
      },
      "source": [
        "If we omit an index of a multidimensional array it returns the whole row (or, in general, a N-1 dimensional array) "
      ]
    },
    {
      "cell_type": "code",
      "metadata": {
        "id": "RPioOG6IhDMF",
        "outputId": "70d54209-1b6e-4e5d-e39b-1412c7ed74d1",
        "colab": {
          "base_uri": "https://localhost:8080/"
        }
      },
      "source": [
        "M"
      ],
      "execution_count": 77,
      "outputs": [
        {
          "output_type": "execute_result",
          "data": {
            "text/plain": [
              "array([[1, 2],\n",
              "       [3, 4]])"
            ]
          },
          "metadata": {
            "tags": []
          },
          "execution_count": 77
        }
      ]
    },
    {
      "cell_type": "code",
      "metadata": {
        "id": "NPdg7nE-hDMF",
        "outputId": "310ac9ca-bf2c-469d-b083-c03e0620dc1a",
        "colab": {
          "base_uri": "https://localhost:8080/"
        }
      },
      "source": [
        "M[1]"
      ],
      "execution_count": 78,
      "outputs": [
        {
          "output_type": "execute_result",
          "data": {
            "text/plain": [
              "array([3, 4])"
            ]
          },
          "metadata": {
            "tags": []
          },
          "execution_count": 78
        }
      ]
    },
    {
      "cell_type": "markdown",
      "metadata": {
        "id": "QxXYXG09hDMG"
      },
      "source": [
        "The same thing can be achieved with using `:` instead of an index: "
      ]
    },
    {
      "cell_type": "code",
      "metadata": {
        "id": "QyRDbHM7hDMG",
        "outputId": "4ad63d6c-3357-4991-f1c6-0e0d067e8084",
        "colab": {
          "base_uri": "https://localhost:8080/"
        }
      },
      "source": [
        "M[1,:] # row 1"
      ],
      "execution_count": 79,
      "outputs": [
        {
          "output_type": "execute_result",
          "data": {
            "text/plain": [
              "array([3, 4])"
            ]
          },
          "metadata": {
            "tags": []
          },
          "execution_count": 79
        }
      ]
    },
    {
      "cell_type": "code",
      "metadata": {
        "id": "fr4d_2IlhDMH",
        "outputId": "f917691d-3e3a-40da-ac78-ce5f3ce1a738",
        "colab": {
          "base_uri": "https://localhost:8080/"
        }
      },
      "source": [
        "M[:,1] # column 1"
      ],
      "execution_count": 80,
      "outputs": [
        {
          "output_type": "execute_result",
          "data": {
            "text/plain": [
              "array([2, 4])"
            ]
          },
          "metadata": {
            "tags": []
          },
          "execution_count": 80
        }
      ]
    },
    {
      "cell_type": "markdown",
      "metadata": {
        "id": "iO2CBCzRhDMH"
      },
      "source": [
        "We can assign new values to elements in an array using indexing:"
      ]
    },
    {
      "cell_type": "code",
      "metadata": {
        "id": "PHNfzSAvhDMI"
      },
      "source": [
        "M[0,0] = -1"
      ],
      "execution_count": 81,
      "outputs": []
    },
    {
      "cell_type": "code",
      "metadata": {
        "id": "0XrhpTC4hDMI",
        "outputId": "0cc926fc-8040-4f7f-9a20-af6a70b0c840",
        "colab": {
          "base_uri": "https://localhost:8080/"
        }
      },
      "source": [
        "M"
      ],
      "execution_count": 82,
      "outputs": [
        {
          "output_type": "execute_result",
          "data": {
            "text/plain": [
              "array([[-1,  2],\n",
              "       [ 3,  4]])"
            ]
          },
          "metadata": {
            "tags": []
          },
          "execution_count": 82
        }
      ]
    },
    {
      "cell_type": "code",
      "metadata": {
        "id": "GVhscd4BhDMJ"
      },
      "source": [
        "# also works for rows and columns\n",
        "M[0,:] = 0\n",
        "M[:,1] = -1"
      ],
      "execution_count": 83,
      "outputs": []
    },
    {
      "cell_type": "code",
      "metadata": {
        "id": "9HS3WYYWhDML",
        "outputId": "0537ad2e-99ee-40d4-88a9-d6579d263261",
        "colab": {
          "base_uri": "https://localhost:8080/"
        }
      },
      "source": [
        "M"
      ],
      "execution_count": 84,
      "outputs": [
        {
          "output_type": "execute_result",
          "data": {
            "text/plain": [
              "array([[ 0, -1],\n",
              "       [ 3, -1]])"
            ]
          },
          "metadata": {
            "tags": []
          },
          "execution_count": 84
        }
      ]
    },
    {
      "cell_type": "markdown",
      "metadata": {
        "id": "co2TDTKkhDMM"
      },
      "source": [
        "### Index slicing"
      ]
    },
    {
      "cell_type": "markdown",
      "metadata": {
        "id": "--8s6Nn-hDMM"
      },
      "source": [
        "Index slicing is the technical name for the syntax `M[lower:upper:step]` to extract part of an array:"
      ]
    },
    {
      "cell_type": "code",
      "metadata": {
        "id": "2ssgsZcfhDMN",
        "outputId": "d4f7317e-c86f-4555-ae13-513ef129c809",
        "colab": {
          "base_uri": "https://localhost:8080/"
        }
      },
      "source": [
        "A = array([1,2,3,4,5])\n",
        "A"
      ],
      "execution_count": 85,
      "outputs": [
        {
          "output_type": "execute_result",
          "data": {
            "text/plain": [
              "array([1, 2, 3, 4, 5])"
            ]
          },
          "metadata": {
            "tags": []
          },
          "execution_count": 85
        }
      ]
    },
    {
      "cell_type": "code",
      "metadata": {
        "id": "Z9eAXr02hDMN",
        "outputId": "97310742-1df1-40bb-97ad-265901babfb6",
        "colab": {
          "base_uri": "https://localhost:8080/"
        }
      },
      "source": [
        "A[1:3]"
      ],
      "execution_count": 86,
      "outputs": [
        {
          "output_type": "execute_result",
          "data": {
            "text/plain": [
              "array([2, 3])"
            ]
          },
          "metadata": {
            "tags": []
          },
          "execution_count": 86
        }
      ]
    },
    {
      "cell_type": "markdown",
      "metadata": {
        "id": "yB3A_FcthDMN"
      },
      "source": [
        "Array slices are *mutable*: if they are assigned a new value the original array from which the slice was extracted is modified:"
      ]
    },
    {
      "cell_type": "code",
      "metadata": {
        "id": "XnXsdVRChDMO",
        "outputId": "7951f4b5-bea5-4e32-a54a-b6b44d976c9d",
        "colab": {
          "base_uri": "https://localhost:8080/"
        }
      },
      "source": [
        "A[1:3] = [-2,-3]\n",
        "\n",
        "A"
      ],
      "execution_count": 87,
      "outputs": [
        {
          "output_type": "execute_result",
          "data": {
            "text/plain": [
              "array([ 1, -2, -3,  4,  5])"
            ]
          },
          "metadata": {
            "tags": []
          },
          "execution_count": 87
        }
      ]
    },
    {
      "cell_type": "markdown",
      "metadata": {
        "id": "nuVMNKwLhDMO"
      },
      "source": [
        "We can omit any of the three parameters in `M[lower:upper:step]`:"
      ]
    },
    {
      "cell_type": "code",
      "metadata": {
        "id": "pm94HdxzhDMO",
        "outputId": "23807861-fd55-427f-8a17-35027e7eee5d",
        "colab": {
          "base_uri": "https://localhost:8080/"
        }
      },
      "source": [
        "A[::] # lower, upper, step all take the default values"
      ],
      "execution_count": 88,
      "outputs": [
        {
          "output_type": "execute_result",
          "data": {
            "text/plain": [
              "array([ 1, -2, -3,  4,  5])"
            ]
          },
          "metadata": {
            "tags": []
          },
          "execution_count": 88
        }
      ]
    },
    {
      "cell_type": "code",
      "metadata": {
        "id": "toSZ74IPhDMP",
        "outputId": "8a575122-c069-4427-a765-864b029a6383",
        "colab": {
          "base_uri": "https://localhost:8080/"
        }
      },
      "source": [
        "A[::2] # step is 2, lower and upper defaults to the beginning and end of the array"
      ],
      "execution_count": 89,
      "outputs": [
        {
          "output_type": "execute_result",
          "data": {
            "text/plain": [
              "array([ 1, -3,  5])"
            ]
          },
          "metadata": {
            "tags": []
          },
          "execution_count": 89
        }
      ]
    },
    {
      "cell_type": "code",
      "metadata": {
        "id": "lhX1lll-hDMP",
        "outputId": "30826646-b2fa-4921-c855-50887212e636",
        "colab": {
          "base_uri": "https://localhost:8080/"
        }
      },
      "source": [
        "A[:3] # first three elements"
      ],
      "execution_count": 90,
      "outputs": [
        {
          "output_type": "execute_result",
          "data": {
            "text/plain": [
              "array([ 1, -2, -3])"
            ]
          },
          "metadata": {
            "tags": []
          },
          "execution_count": 90
        }
      ]
    },
    {
      "cell_type": "code",
      "metadata": {
        "id": "C0TAsWb2hDMP",
        "outputId": "b3061a78-f098-4b11-c716-e122160980fe",
        "colab": {
          "base_uri": "https://localhost:8080/"
        }
      },
      "source": [
        "A[3:] # elements from index 3"
      ],
      "execution_count": 91,
      "outputs": [
        {
          "output_type": "execute_result",
          "data": {
            "text/plain": [
              "array([4, 5])"
            ]
          },
          "metadata": {
            "tags": []
          },
          "execution_count": 91
        }
      ]
    },
    {
      "cell_type": "markdown",
      "metadata": {
        "id": "62Wt3AnohDMQ"
      },
      "source": [
        "Negative indices counts from the end of the array (positive index from the begining):"
      ]
    },
    {
      "cell_type": "code",
      "metadata": {
        "id": "CsN6ezzwhDMQ"
      },
      "source": [
        "A = array([1,2,3,4,5])"
      ],
      "execution_count": 92,
      "outputs": []
    },
    {
      "cell_type": "code",
      "metadata": {
        "id": "AwRYCZ9lhDMQ",
        "outputId": "f655ba4c-1077-4678-ee8a-d1dd5369d330",
        "colab": {
          "base_uri": "https://localhost:8080/"
        }
      },
      "source": [
        "A[-1] # the last element in the array"
      ],
      "execution_count": 93,
      "outputs": [
        {
          "output_type": "execute_result",
          "data": {
            "text/plain": [
              "5"
            ]
          },
          "metadata": {
            "tags": []
          },
          "execution_count": 93
        }
      ]
    },
    {
      "cell_type": "code",
      "metadata": {
        "id": "fNpfCjvChDMQ",
        "outputId": "741cb08e-7450-40c6-d8f5-fad62b78fd99",
        "colab": {
          "base_uri": "https://localhost:8080/"
        }
      },
      "source": [
        "A[-3:] # the last three elements"
      ],
      "execution_count": 94,
      "outputs": [
        {
          "output_type": "execute_result",
          "data": {
            "text/plain": [
              "array([3, 4, 5])"
            ]
          },
          "metadata": {
            "tags": []
          },
          "execution_count": 94
        }
      ]
    },
    {
      "cell_type": "markdown",
      "metadata": {
        "id": "AuA6mQ_ahDMR"
      },
      "source": [
        "Index slicing works exactly the same way for multidimensional arrays:"
      ]
    },
    {
      "cell_type": "code",
      "metadata": {
        "id": "KTAtiz14hDMR",
        "outputId": "4320b13f-d269-4f64-9445-0a539e3842f3",
        "colab": {
          "base_uri": "https://localhost:8080/"
        }
      },
      "source": [
        "A = array([[n+m*10 for n in range(5)] for m in range(5)]) # note nested list comprehension\n",
        "A"
      ],
      "execution_count": 95,
      "outputs": [
        {
          "output_type": "execute_result",
          "data": {
            "text/plain": [
              "array([[ 0,  1,  2,  3,  4],\n",
              "       [10, 11, 12, 13, 14],\n",
              "       [20, 21, 22, 23, 24],\n",
              "       [30, 31, 32, 33, 34],\n",
              "       [40, 41, 42, 43, 44]])"
            ]
          },
          "metadata": {
            "tags": []
          },
          "execution_count": 95
        }
      ]
    },
    {
      "cell_type": "code",
      "metadata": {
        "id": "grNRPwfHhDMR",
        "outputId": "0bb49698-373d-42d0-cb5e-7400655f3f00",
        "colab": {
          "base_uri": "https://localhost:8080/"
        }
      },
      "source": [
        "# a block from the original array\n",
        "A[1:4, 1:4]"
      ],
      "execution_count": 96,
      "outputs": [
        {
          "output_type": "execute_result",
          "data": {
            "text/plain": [
              "array([[11, 12, 13],\n",
              "       [21, 22, 23],\n",
              "       [31, 32, 33]])"
            ]
          },
          "metadata": {
            "tags": []
          },
          "execution_count": 96
        }
      ]
    },
    {
      "cell_type": "code",
      "metadata": {
        "id": "jf9cAak_hDMS",
        "outputId": "74028ba5-6448-4045-bcb8-05f12b28ecdf",
        "colab": {
          "base_uri": "https://localhost:8080/"
        }
      },
      "source": [
        "# strides\n",
        "A[::2, ::2]"
      ],
      "execution_count": 97,
      "outputs": [
        {
          "output_type": "execute_result",
          "data": {
            "text/plain": [
              "array([[ 0,  2,  4],\n",
              "       [20, 22, 24],\n",
              "       [40, 42, 44]])"
            ]
          },
          "metadata": {
            "tags": []
          },
          "execution_count": 97
        }
      ]
    },
    {
      "cell_type": "markdown",
      "metadata": {
        "id": "GLwXTexohDMS"
      },
      "source": [
        "### Fancy indexing"
      ]
    },
    {
      "cell_type": "markdown",
      "metadata": {
        "id": "09tepHYWhDMT"
      },
      "source": [
        "Fancy indexing is the name for when an array or list is used in-place of an index: "
      ]
    },
    {
      "cell_type": "code",
      "metadata": {
        "id": "DJ61rVNShDMT",
        "outputId": "cee62354-b276-4c06-b3bd-e7061a79db67",
        "colab": {
          "base_uri": "https://localhost:8080/"
        }
      },
      "source": [
        "row_indices = [1, 2, 3]\n",
        "A[row_indices]"
      ],
      "execution_count": 98,
      "outputs": [
        {
          "output_type": "execute_result",
          "data": {
            "text/plain": [
              "array([[10, 11, 12, 13, 14],\n",
              "       [20, 21, 22, 23, 24],\n",
              "       [30, 31, 32, 33, 34]])"
            ]
          },
          "metadata": {
            "tags": []
          },
          "execution_count": 98
        }
      ]
    },
    {
      "cell_type": "code",
      "metadata": {
        "id": "LnfVgbYOhDMT",
        "outputId": "ae972613-a129-4439-c906-521bcb855bab",
        "colab": {
          "base_uri": "https://localhost:8080/"
        }
      },
      "source": [
        "col_indices = [1, 2, -1] # remember, index -1 means the last element\n",
        "A[row_indices, col_indices]"
      ],
      "execution_count": 99,
      "outputs": [
        {
          "output_type": "execute_result",
          "data": {
            "text/plain": [
              "array([11, 22, 34])"
            ]
          },
          "metadata": {
            "tags": []
          },
          "execution_count": 99
        }
      ]
    },
    {
      "cell_type": "markdown",
      "metadata": {
        "id": "6G3AUklshDMU"
      },
      "source": [
        "We can also use index masks: If the index mask is an Numpy array of data type `bool`, then an element is selected (True) or not (False) depending on the value of the index mask at the position of each element: "
      ]
    },
    {
      "cell_type": "code",
      "metadata": {
        "id": "7TDLpMQUhDMU",
        "outputId": "35556943-ce98-4414-a05f-d2fa7c09dd0c",
        "colab": {
          "base_uri": "https://localhost:8080/"
        }
      },
      "source": [
        "B = array([n for n in range(5)])\n",
        "B"
      ],
      "execution_count": 100,
      "outputs": [
        {
          "output_type": "execute_result",
          "data": {
            "text/plain": [
              "array([0, 1, 2, 3, 4])"
            ]
          },
          "metadata": {
            "tags": []
          },
          "execution_count": 100
        }
      ]
    },
    {
      "cell_type": "code",
      "metadata": {
        "id": "YfNDh7aihDMU",
        "outputId": "abaa5625-9121-477a-907d-012f62c15ebb",
        "colab": {
          "base_uri": "https://localhost:8080/"
        }
      },
      "source": [
        "row_mask = array([True, False, True, False, False])\n",
        "B[row_mask]"
      ],
      "execution_count": 101,
      "outputs": [
        {
          "output_type": "execute_result",
          "data": {
            "text/plain": [
              "array([0, 2])"
            ]
          },
          "metadata": {
            "tags": []
          },
          "execution_count": 101
        }
      ]
    },
    {
      "cell_type": "code",
      "metadata": {
        "id": "QCEz0WNohDMV",
        "outputId": "106e0d5c-094c-44aa-dbc4-135ef330349c",
        "colab": {
          "base_uri": "https://localhost:8080/"
        }
      },
      "source": [
        "# same thing\n",
        "row_mask = array([1,0,1,0,0], dtype=bool)\n",
        "B[row_mask]"
      ],
      "execution_count": 102,
      "outputs": [
        {
          "output_type": "execute_result",
          "data": {
            "text/plain": [
              "array([0, 2])"
            ]
          },
          "metadata": {
            "tags": []
          },
          "execution_count": 102
        }
      ]
    },
    {
      "cell_type": "markdown",
      "metadata": {
        "id": "-o5cnJQahDMV"
      },
      "source": [
        "This feature is very useful to conditionally select elements from an array, using for example comparison operators:"
      ]
    },
    {
      "cell_type": "code",
      "metadata": {
        "id": "PAKepkCmhDMV",
        "outputId": "5bbc952c-d2e2-47a5-bc05-bcbe2cda18cb",
        "colab": {
          "base_uri": "https://localhost:8080/"
        }
      },
      "source": [
        "x = arange(0, 10, 0.5)\n",
        "x"
      ],
      "execution_count": 103,
      "outputs": [
        {
          "output_type": "execute_result",
          "data": {
            "text/plain": [
              "array([0. , 0.5, 1. , 1.5, 2. , 2.5, 3. , 3.5, 4. , 4.5, 5. , 5.5, 6. ,\n",
              "       6.5, 7. , 7.5, 8. , 8.5, 9. , 9.5])"
            ]
          },
          "metadata": {
            "tags": []
          },
          "execution_count": 103
        }
      ]
    },
    {
      "cell_type": "markdown",
      "metadata": {
        "id": "mDPkSihThDMX"
      },
      "source": [
        "### bitwise opeartions with boolean arrays\n",
        "\n",
        "<table>\n",
        "  <tr>\n",
        "    <th>Operator</th>\n",
        "    <th>Function</th>\n",
        "    <th>Description</th>\n",
        "  </tr>\n",
        "  <tr>\n",
        "    <td><code>&amp;</code></td>\n",
        "    <td><code>bitwise_and(x1, x2)</code></td>\n",
        "    <td>Compute the bit-wise AND of two arrays element-wise.</td>\n",
        "  </tr>\n",
        "  <tr>\n",
        "    <td><code>|</code></td>\n",
        "    <td><code>bitwise_or(x1, x2)</code></td>\n",
        "    <td>Compute the bit-wise OR of two arrays element-wise.</td>\n",
        "  </tr>\n",
        "  <tr>\n",
        "    <td><code>^</code></td>\n",
        "    <td><code>bitwise_xor(x1, x2)</code></td>\n",
        "    <td>Compute the bit-wise XOR of two arrays element-wise.</td>\n",
        "  </tr>\n",
        "  <tr>\n",
        "    <td><code>~</code></td>\n",
        "    <td><code>invert(x)</code></td>\n",
        "    <td>Compute bit-wise inversion, or bit-wise NOT, element-wise.</td>\n",
        "  </tr>\n",
        "</table>"
      ]
    },
    {
      "cell_type": "code",
      "metadata": {
        "id": "-hFaMIlShDMY",
        "outputId": "739b74fd-b286-4132-b02f-6913a7aa32ca",
        "colab": {
          "base_uri": "https://localhost:8080/"
        }
      },
      "source": [
        "mask = (5 < x) & (x <= 7)\n",
        "print(mask)\n",
        "print(x[mask])"
      ],
      "execution_count": 104,
      "outputs": [
        {
          "output_type": "stream",
          "text": [
            "[False False False False False False False False False False False  True\n",
            "  True  True  True False False False False False]\n",
            "[5.5 6.  6.5 7. ]\n"
          ],
          "name": "stdout"
        }
      ]
    },
    {
      "cell_type": "code",
      "metadata": {
        "id": "vTV945dDhDMY",
        "outputId": "ba4f6603-aa80-45e1-97b1-34abc9a20657",
        "colab": {
          "base_uri": "https://localhost:8080/"
        }
      },
      "source": [
        "mask = (x < 4) | (x > 7)\n",
        "print(mask)\n",
        "print(x[mask])"
      ],
      "execution_count": 105,
      "outputs": [
        {
          "output_type": "stream",
          "text": [
            "[ True  True  True  True  True  True  True  True False False False False\n",
            " False False False  True  True  True  True  True]\n",
            "[0.  0.5 1.  1.5 2.  2.5 3.  3.5 7.5 8.  8.5 9.  9.5]\n"
          ],
          "name": "stdout"
        }
      ]
    },
    {
      "cell_type": "markdown",
      "metadata": {
        "id": "dT3eQoOmhDMY"
      },
      "source": [
        "## Array math"
      ]
    },
    {
      "cell_type": "markdown",
      "metadata": {
        "id": "Wa6roxCHhDMZ"
      },
      "source": [
        "Basic mathematical functions operate elementwise on arrays, and are available both as operator overloads and as functions in the `numpy` module. Vectorizing code is the key to writing efficient numerical calculation with Python/Numpy. That means that as much as possible of a program should be formulated in terms of matrix and vector operations, like matrix-matrix multiplication."
      ]
    },
    {
      "cell_type": "markdown",
      "metadata": {
        "id": "SY3CvxQahDMZ"
      },
      "source": [
        "### Scalar-array operations"
      ]
    },
    {
      "cell_type": "markdown",
      "metadata": {
        "id": "iXA-MOqChDMZ"
      },
      "source": [
        "We can use the usual arithmetic operators to multiply, add, subtract, and divide arrays with scalar numbers."
      ]
    },
    {
      "cell_type": "code",
      "metadata": {
        "id": "Eoq-c9KEhDMa"
      },
      "source": [
        "v1 = arange(0, 5)"
      ],
      "execution_count": 106,
      "outputs": []
    },
    {
      "cell_type": "code",
      "metadata": {
        "id": "emeostSrhDMa",
        "outputId": "e573495c-9ab3-4072-cddd-5163d730a36b",
        "colab": {
          "base_uri": "https://localhost:8080/"
        }
      },
      "source": [
        "v1 * 2"
      ],
      "execution_count": 107,
      "outputs": [
        {
          "output_type": "execute_result",
          "data": {
            "text/plain": [
              "array([0, 2, 4, 6, 8])"
            ]
          },
          "metadata": {
            "tags": []
          },
          "execution_count": 107
        }
      ]
    },
    {
      "cell_type": "code",
      "metadata": {
        "id": "TNZZiGBQhDMa",
        "outputId": "3d3ebf31-672e-4f56-dd7c-d8aee3380d7f",
        "colab": {
          "base_uri": "https://localhost:8080/"
        }
      },
      "source": [
        "v1 + 2"
      ],
      "execution_count": 108,
      "outputs": [
        {
          "output_type": "execute_result",
          "data": {
            "text/plain": [
              "array([2, 3, 4, 5, 6])"
            ]
          },
          "metadata": {
            "tags": []
          },
          "execution_count": 108
        }
      ]
    },
    {
      "cell_type": "code",
      "metadata": {
        "id": "ogqp5D8KhDMb",
        "outputId": "89b883a7-d0ba-4b48-e2a4-8242644d1815",
        "colab": {
          "base_uri": "https://localhost:8080/"
        }
      },
      "source": [
        "A * 2"
      ],
      "execution_count": 109,
      "outputs": [
        {
          "output_type": "execute_result",
          "data": {
            "text/plain": [
              "array([[ 0,  2,  4,  6,  8],\n",
              "       [20, 22, 24, 26, 28],\n",
              "       [40, 42, 44, 46, 48],\n",
              "       [60, 62, 64, 66, 68],\n",
              "       [80, 82, 84, 86, 88]])"
            ]
          },
          "metadata": {
            "tags": []
          },
          "execution_count": 109
        }
      ]
    },
    {
      "cell_type": "code",
      "metadata": {
        "id": "JIzOHASXhDMb",
        "outputId": "0adf1ead-04a1-4d96-81d0-ff825b59d8b5",
        "colab": {
          "base_uri": "https://localhost:8080/"
        }
      },
      "source": [
        "A + 2"
      ],
      "execution_count": 110,
      "outputs": [
        {
          "output_type": "execute_result",
          "data": {
            "text/plain": [
              "array([[ 2,  3,  4,  5,  6],\n",
              "       [12, 13, 14, 15, 16],\n",
              "       [22, 23, 24, 25, 26],\n",
              "       [32, 33, 34, 35, 36],\n",
              "       [42, 43, 44, 45, 46]])"
            ]
          },
          "metadata": {
            "tags": []
          },
          "execution_count": 110
        }
      ]
    },
    {
      "cell_type": "code",
      "metadata": {
        "id": "ipuFgApghDMb",
        "outputId": "aabb7242-a776-4195-b684-64cddc690798",
        "colab": {
          "base_uri": "https://localhost:8080/"
        }
      },
      "source": [
        "A + A.T"
      ],
      "execution_count": 111,
      "outputs": [
        {
          "output_type": "execute_result",
          "data": {
            "text/plain": [
              "array([[ 0, 11, 22, 33, 44],\n",
              "       [11, 22, 33, 44, 55],\n",
              "       [22, 33, 44, 55, 66],\n",
              "       [33, 44, 55, 66, 77],\n",
              "       [44, 55, 66, 77, 88]])"
            ]
          },
          "metadata": {
            "tags": []
          },
          "execution_count": 111
        }
      ]
    },
    {
      "cell_type": "markdown",
      "metadata": {
        "id": "9VxVP4K2hDMc"
      },
      "source": [
        "Above we have used the .T to transpose the matrix object v. We could also have used the transpose function to accomplish the same thing."
      ]
    },
    {
      "cell_type": "markdown",
      "metadata": {
        "id": "r5WxxiUuhDMc"
      },
      "source": [
        "### Element-wise array-array operations"
      ]
    },
    {
      "cell_type": "markdown",
      "metadata": {
        "id": "MU-LRwGthDMc"
      },
      "source": [
        "When we add, subtract, multiply and divide arrays with each other, the default behaviour is **element-wise** operations:"
      ]
    },
    {
      "cell_type": "code",
      "metadata": {
        "id": "nTS-ZICxhDMd",
        "outputId": "ff99719b-ca72-4dda-df3f-a7d039d056a8",
        "colab": {
          "base_uri": "https://localhost:8080/"
        }
      },
      "source": [
        "A * A # element-wise multiplication"
      ],
      "execution_count": 112,
      "outputs": [
        {
          "output_type": "execute_result",
          "data": {
            "text/plain": [
              "array([[   0,    1,    4,    9,   16],\n",
              "       [ 100,  121,  144,  169,  196],\n",
              "       [ 400,  441,  484,  529,  576],\n",
              "       [ 900,  961, 1024, 1089, 1156],\n",
              "       [1600, 1681, 1764, 1849, 1936]])"
            ]
          },
          "metadata": {
            "tags": []
          },
          "execution_count": 112
        }
      ]
    },
    {
      "cell_type": "code",
      "metadata": {
        "id": "1zxC-nKXhDMd",
        "outputId": "4f51b2ea-0591-438e-8586-827697db8a3b",
        "colab": {
          "base_uri": "https://localhost:8080/"
        }
      },
      "source": [
        "v1 * v1"
      ],
      "execution_count": 113,
      "outputs": [
        {
          "output_type": "execute_result",
          "data": {
            "text/plain": [
              "array([ 0,  1,  4,  9, 16])"
            ]
          },
          "metadata": {
            "tags": []
          },
          "execution_count": 113
        }
      ]
    },
    {
      "cell_type": "markdown",
      "metadata": {
        "id": "SIBZhELnhDMd"
      },
      "source": [
        "If we multiply arrays with compatible shapes, we get an element-wise multiplication of each row:"
      ]
    },
    {
      "cell_type": "code",
      "metadata": {
        "id": "6vjw-bMKhDMe",
        "outputId": "7c82198b-25d3-4779-c27f-d82c8522b65f",
        "colab": {
          "base_uri": "https://localhost:8080/"
        }
      },
      "source": [
        "A.shape, v1.shape"
      ],
      "execution_count": 114,
      "outputs": [
        {
          "output_type": "execute_result",
          "data": {
            "text/plain": [
              "((5, 5), (5,))"
            ]
          },
          "metadata": {
            "tags": []
          },
          "execution_count": 114
        }
      ]
    },
    {
      "cell_type": "code",
      "metadata": {
        "id": "BVvnK9ifhDMe",
        "outputId": "61aa9fe6-8730-4fca-ee72-8c6d6f9424af",
        "colab": {
          "base_uri": "https://localhost:8080/"
        }
      },
      "source": [
        "A * v1"
      ],
      "execution_count": 115,
      "outputs": [
        {
          "output_type": "execute_result",
          "data": {
            "text/plain": [
              "array([[  0,   1,   4,   9,  16],\n",
              "       [  0,  11,  24,  39,  56],\n",
              "       [  0,  21,  44,  69,  96],\n",
              "       [  0,  31,  64,  99, 136],\n",
              "       [  0,  41,  84, 129, 176]])"
            ]
          },
          "metadata": {
            "tags": []
          },
          "execution_count": 115
        }
      ]
    },
    {
      "cell_type": "markdown",
      "metadata": {
        "id": "mZCNPELthDMe"
      },
      "source": [
        "Numpy provides many useful functions for performing computations on arrays; one of the most useful is `sum`"
      ]
    },
    {
      "cell_type": "code",
      "metadata": {
        "id": "M6BX17O1hDMf",
        "outputId": "067a7a56-f67e-4762-c0f2-78406af28c06",
        "colab": {
          "base_uri": "https://localhost:8080/"
        }
      },
      "source": [
        "print(A)\n",
        "print('Sum of all elements:', sum(A))\n",
        "print('Sum of each column: ', sum(A, axis=0))\n",
        "print('Sum of each row:    ', sum(A, axis=1))"
      ],
      "execution_count": 116,
      "outputs": [
        {
          "output_type": "stream",
          "text": [
            "[[ 0  1  2  3  4]\n",
            " [10 11 12 13 14]\n",
            " [20 21 22 23 24]\n",
            " [30 31 32 33 34]\n",
            " [40 41 42 43 44]]\n",
            "Sum of all elements: 550\n",
            "Sum of each column:  [100 105 110 115 120]\n",
            "Sum of each row:     [ 10  60 110 160 210]\n"
          ],
          "name": "stdout"
        }
      ]
    },
    {
      "cell_type": "markdown",
      "metadata": {
        "id": "titFKJWdhDMf"
      },
      "source": [
        "### Broadcasting\n",
        "Broadcasting is a powerful mechanism that allows numpy to work with arrays of different shapes when performing arithmetic operations. Frequently we have a smaller array and a larger array, and we want to use the smaller array multiple times to perform some operation on the larger array."
      ]
    },
    {
      "cell_type": "code",
      "metadata": {
        "id": "mTQG3e6UhDMg",
        "outputId": "948ffbd0-e2cf-43af-ce5a-9daf3fcef54f",
        "colab": {
          "base_uri": "https://localhost:8080/"
        }
      },
      "source": [
        "x = array([[1,2,3], [4,5,6], [7,8,9], [10, 11, 12]])\n",
        "v = array([1, 0, 1])\n",
        "print(x)"
      ],
      "execution_count": 117,
      "outputs": [
        {
          "output_type": "stream",
          "text": [
            "[[ 1  2  3]\n",
            " [ 4  5  6]\n",
            " [ 7  8  9]\n",
            " [10 11 12]]\n"
          ],
          "name": "stdout"
        }
      ]
    },
    {
      "cell_type": "code",
      "metadata": {
        "id": "YMKd1ouvhDMg",
        "outputId": "d91cd9b7-9ed4-4043-c5e9-ab8bf98f5a2a",
        "colab": {
          "base_uri": "https://localhost:8080/"
        }
      },
      "source": [
        "print(x + v)"
      ],
      "execution_count": 118,
      "outputs": [
        {
          "output_type": "stream",
          "text": [
            "[[ 2  2  4]\n",
            " [ 5  5  7]\n",
            " [ 8  8 10]\n",
            " [11 11 13]]\n"
          ],
          "name": "stdout"
        }
      ]
    },
    {
      "cell_type": "markdown",
      "metadata": {
        "id": "ZPOK69AmhDMh"
      },
      "source": [
        "The `x + v` works even though `x` has shape `(4, 3)` and `v` has shape `(3,)` due to broadcasting; this line works as if `v` actually had shape `(4, 3)`, where each row was a copy of `v`, and the sum was performed elementwise. It is similar for other mathematical operations as well."
      ]
    },
    {
      "cell_type": "code",
      "metadata": {
        "id": "4089_7RthDMh",
        "outputId": "cfa86310-09b5-47da-c57f-61cd39e08c0d",
        "colab": {
          "base_uri": "https://localhost:8080/"
        }
      },
      "source": [
        "print(x * v)"
      ],
      "execution_count": 119,
      "outputs": [
        {
          "output_type": "stream",
          "text": [
            "[[ 1  0  3]\n",
            " [ 4  0  6]\n",
            " [ 7  0  9]\n",
            " [10  0 12]]\n"
          ],
          "name": "stdout"
        }
      ]
    },
    {
      "cell_type": "markdown",
      "metadata": {
        "id": "GYCGA415hDMh"
      },
      "source": [
        "### Linear algebra"
      ]
    },
    {
      "cell_type": "markdown",
      "metadata": {
        "id": "sZ3yMERvhDMi"
      },
      "source": [
        "Note that unlike MATLAB, `*` is elementwise multiplication, not matrix multiplication. We instead use the `dot` function to compute inner products of vectors, to multiply a vector by a matrix, and to multiply matrices. `dot` is available both as a function in the numpy module and as an instance method of array objects."
      ]
    },
    {
      "cell_type": "code",
      "metadata": {
        "id": "emxzmhLchDMj",
        "outputId": "98567a05-909f-4c30-fdfc-801a59a9f837",
        "colab": {
          "base_uri": "https://localhost:8080/"
        }
      },
      "source": [
        "dot(A, A)"
      ],
      "execution_count": 120,
      "outputs": [
        {
          "output_type": "execute_result",
          "data": {
            "text/plain": [
              "array([[ 300,  310,  320,  330,  340],\n",
              "       [1300, 1360, 1420, 1480, 1540],\n",
              "       [2300, 2410, 2520, 2630, 2740],\n",
              "       [3300, 3460, 3620, 3780, 3940],\n",
              "       [4300, 4510, 4720, 4930, 5140]])"
            ]
          },
          "metadata": {
            "tags": []
          },
          "execution_count": 120
        }
      ]
    },
    {
      "cell_type": "code",
      "metadata": {
        "id": "vrS_ALDUhDMj",
        "outputId": "512a58db-d78c-4fde-f407-1a0730a9912f",
        "colab": {
          "base_uri": "https://localhost:8080/"
        }
      },
      "source": [
        "dot(A, v1)"
      ],
      "execution_count": 121,
      "outputs": [
        {
          "output_type": "execute_result",
          "data": {
            "text/plain": [
              "array([ 30, 130, 230, 330, 430])"
            ]
          },
          "metadata": {
            "tags": []
          },
          "execution_count": 121
        }
      ]
    },
    {
      "cell_type": "code",
      "metadata": {
        "id": "aqd-eq8ZhDMj",
        "outputId": "32362115-a90b-4ac2-cb47-adc2dcd31e95",
        "colab": {
          "base_uri": "https://localhost:8080/"
        }
      },
      "source": [
        "A.dot(v1)"
      ],
      "execution_count": 122,
      "outputs": [
        {
          "output_type": "execute_result",
          "data": {
            "text/plain": [
              "array([ 30, 130, 230, 330, 430])"
            ]
          },
          "metadata": {
            "tags": []
          },
          "execution_count": 122
        }
      ]
    },
    {
      "cell_type": "markdown",
      "metadata": {
        "id": "Tc77Lpx4hDMk"
      },
      "source": [
        "From **Python 3.5** there is new operator '@' for matrix multiplication and numpy has support for it."
      ]
    },
    {
      "cell_type": "code",
      "metadata": {
        "id": "rg_rjcZQhDMk",
        "outputId": "754e6283-9dfd-4d92-8af7-8244905df9a4",
        "colab": {
          "base_uri": "https://localhost:8080/"
        }
      },
      "source": [
        "A @ v1"
      ],
      "execution_count": 123,
      "outputs": [
        {
          "output_type": "execute_result",
          "data": {
            "text/plain": [
              "array([ 30, 130, 230, 330, 430])"
            ]
          },
          "metadata": {
            "tags": []
          },
          "execution_count": 123
        }
      ]
    },
    {
      "cell_type": "code",
      "metadata": {
        "id": "zxu4jEdAhDMk",
        "outputId": "7243bf16-c9ae-4a8f-a8c5-a39a91dfe9da",
        "colab": {
          "base_uri": "https://localhost:8080/"
        }
      },
      "source": [
        "dot(v1,v1), v1.dot(v1), v1 @ v1"
      ],
      "execution_count": 124,
      "outputs": [
        {
          "output_type": "execute_result",
          "data": {
            "text/plain": [
              "(30, 30, 30)"
            ]
          },
          "metadata": {
            "tags": []
          },
          "execution_count": 124
        }
      ]
    },
    {
      "cell_type": "markdown",
      "metadata": {
        "id": "8L9XiD_KhDMl"
      },
      "source": [
        "Alternatively, we can cast the array objects to the type `matrix`. This changes the behavior of the standard arithmetic operators `+, -, *` to use matrix algebra."
      ]
    },
    {
      "cell_type": "code",
      "metadata": {
        "id": "PqJIq_pPhDMl"
      },
      "source": [
        "M = matrix(A)\n",
        "v = matrix(v1).T # make it a column vector"
      ],
      "execution_count": 125,
      "outputs": []
    },
    {
      "cell_type": "code",
      "metadata": {
        "id": "wr3mbfP7wu_T",
        "outputId": "2fafea6b-b08e-4628-e8d8-807e62965cb0",
        "colab": {
          "base_uri": "https://localhost:8080/"
        }
      },
      "source": [
        "M"
      ],
      "execution_count": 126,
      "outputs": [
        {
          "output_type": "execute_result",
          "data": {
            "text/plain": [
              "matrix([[ 0,  1,  2,  3,  4],\n",
              "        [10, 11, 12, 13, 14],\n",
              "        [20, 21, 22, 23, 24],\n",
              "        [30, 31, 32, 33, 34],\n",
              "        [40, 41, 42, 43, 44]])"
            ]
          },
          "metadata": {
            "tags": []
          },
          "execution_count": 126
        }
      ]
    },
    {
      "cell_type": "code",
      "metadata": {
        "id": "0TY8BkSmhDMm",
        "outputId": "dce3ffd3-9386-4427-da84-4202240eec91",
        "colab": {
          "base_uri": "https://localhost:8080/"
        }
      },
      "source": [
        "v"
      ],
      "execution_count": 127,
      "outputs": [
        {
          "output_type": "execute_result",
          "data": {
            "text/plain": [
              "matrix([[0],\n",
              "        [1],\n",
              "        [2],\n",
              "        [3],\n",
              "        [4]])"
            ]
          },
          "metadata": {
            "tags": []
          },
          "execution_count": 127
        }
      ]
    },
    {
      "cell_type": "code",
      "metadata": {
        "id": "nfMxjEjFhDMm",
        "outputId": "9699cdff-1a96-4e02-eece-77ae7496a288",
        "colab": {
          "base_uri": "https://localhost:8080/"
        }
      },
      "source": [
        "M * M"
      ],
      "execution_count": 128,
      "outputs": [
        {
          "output_type": "execute_result",
          "data": {
            "text/plain": [
              "matrix([[ 300,  310,  320,  330,  340],\n",
              "        [1300, 1360, 1420, 1480, 1540],\n",
              "        [2300, 2410, 2520, 2630, 2740],\n",
              "        [3300, 3460, 3620, 3780, 3940],\n",
              "        [4300, 4510, 4720, 4930, 5140]])"
            ]
          },
          "metadata": {
            "tags": []
          },
          "execution_count": 128
        }
      ]
    },
    {
      "cell_type": "code",
      "metadata": {
        "id": "pRCdk5-8hDMn",
        "outputId": "1b5b006b-bae9-4c4f-e839-8d655013cece",
        "colab": {
          "base_uri": "https://localhost:8080/"
        }
      },
      "source": [
        "M * v"
      ],
      "execution_count": 129,
      "outputs": [
        {
          "output_type": "execute_result",
          "data": {
            "text/plain": [
              "matrix([[ 30],\n",
              "        [130],\n",
              "        [230],\n",
              "        [330],\n",
              "        [430]])"
            ]
          },
          "metadata": {
            "tags": []
          },
          "execution_count": 129
        }
      ]
    },
    {
      "cell_type": "code",
      "metadata": {
        "id": "mTqOIEEVhDMn",
        "outputId": "f2890709-49ae-4627-f4f4-22e21eb98365",
        "colab": {
          "base_uri": "https://localhost:8080/"
        }
      },
      "source": [
        "# inner product\n",
        "v.T * v"
      ],
      "execution_count": 130,
      "outputs": [
        {
          "output_type": "execute_result",
          "data": {
            "text/plain": [
              "matrix([[30]])"
            ]
          },
          "metadata": {
            "tags": []
          },
          "execution_count": 130
        }
      ]
    },
    {
      "cell_type": "code",
      "metadata": {
        "id": "7WD6sZXChDMr",
        "outputId": "060cab53-b3ac-4a25-f352-08643c2e2b79",
        "colab": {
          "base_uri": "https://localhost:8080/"
        }
      },
      "source": [
        "# with matrix objects, standard matrix algebra applies\n",
        "v + M*v"
      ],
      "execution_count": 131,
      "outputs": [
        {
          "output_type": "execute_result",
          "data": {
            "text/plain": [
              "matrix([[ 30],\n",
              "        [131],\n",
              "        [232],\n",
              "        [333],\n",
              "        [434]])"
            ]
          },
          "metadata": {
            "tags": []
          },
          "execution_count": 131
        }
      ]
    },
    {
      "cell_type": "markdown",
      "metadata": {
        "id": "9MlkWWLShDMs"
      },
      "source": [
        "If we try to add, subtract or multiply objects with incomplatible shapes we get an error:"
      ]
    },
    {
      "cell_type": "code",
      "metadata": {
        "id": "y7iJ989OhDMs"
      },
      "source": [
        "v = matrix([1,2,3,4,5,6]).T"
      ],
      "execution_count": 132,
      "outputs": []
    },
    {
      "cell_type": "code",
      "metadata": {
        "id": "Cp1NnWpYhDMt",
        "outputId": "33c202c8-1d96-47fd-e9db-4f1d6113501a",
        "colab": {
          "base_uri": "https://localhost:8080/"
        }
      },
      "source": [
        "shape(M), shape(v)"
      ],
      "execution_count": 133,
      "outputs": [
        {
          "output_type": "execute_result",
          "data": {
            "text/plain": [
              "((5, 5), (6, 1))"
            ]
          },
          "metadata": {
            "tags": []
          },
          "execution_count": 133
        }
      ]
    },
    {
      "cell_type": "code",
      "metadata": {
        "id": "ocqQpFmnhDMt",
        "outputId": "7fd7b510-06c5-4404-8638-264f712eeba2",
        "colab": {
          "base_uri": "https://localhost:8080/",
          "height": 331
        }
      },
      "source": [
        "M * v"
      ],
      "execution_count": 134,
      "outputs": [
        {
          "output_type": "error",
          "ename": "ValueError",
          "evalue": "ignored",
          "traceback": [
            "\u001b[0;31m---------------------------------------------------------------------------\u001b[0m",
            "\u001b[0;31mValueError\u001b[0m                                Traceback (most recent call last)",
            "\u001b[0;32m<ipython-input-134-e8f88679fe45>\u001b[0m in \u001b[0;36m<module>\u001b[0;34m()\u001b[0m\n\u001b[0;32m----> 1\u001b[0;31m \u001b[0mM\u001b[0m \u001b[0;34m*\u001b[0m \u001b[0mv\u001b[0m\u001b[0;34m\u001b[0m\u001b[0;34m\u001b[0m\u001b[0m\n\u001b[0m",
            "\u001b[0;32m/usr/local/lib/python3.7/dist-packages/numpy/matrixlib/defmatrix.py\u001b[0m in \u001b[0;36m__mul__\u001b[0;34m(self, other)\u001b[0m\n\u001b[1;32m    216\u001b[0m         \u001b[0;32mif\u001b[0m \u001b[0misinstance\u001b[0m\u001b[0;34m(\u001b[0m\u001b[0mother\u001b[0m\u001b[0;34m,\u001b[0m \u001b[0;34m(\u001b[0m\u001b[0mN\u001b[0m\u001b[0;34m.\u001b[0m\u001b[0mndarray\u001b[0m\u001b[0;34m,\u001b[0m \u001b[0mlist\u001b[0m\u001b[0;34m,\u001b[0m \u001b[0mtuple\u001b[0m\u001b[0;34m)\u001b[0m\u001b[0;34m)\u001b[0m \u001b[0;34m:\u001b[0m\u001b[0;34m\u001b[0m\u001b[0;34m\u001b[0m\u001b[0m\n\u001b[1;32m    217\u001b[0m             \u001b[0;31m# This promotes 1-D vectors to row vectors\u001b[0m\u001b[0;34m\u001b[0m\u001b[0;34m\u001b[0m\u001b[0;34m\u001b[0m\u001b[0m\n\u001b[0;32m--> 218\u001b[0;31m             \u001b[0;32mreturn\u001b[0m \u001b[0mN\u001b[0m\u001b[0;34m.\u001b[0m\u001b[0mdot\u001b[0m\u001b[0;34m(\u001b[0m\u001b[0mself\u001b[0m\u001b[0;34m,\u001b[0m \u001b[0masmatrix\u001b[0m\u001b[0;34m(\u001b[0m\u001b[0mother\u001b[0m\u001b[0;34m)\u001b[0m\u001b[0;34m)\u001b[0m\u001b[0;34m\u001b[0m\u001b[0;34m\u001b[0m\u001b[0m\n\u001b[0m\u001b[1;32m    219\u001b[0m         \u001b[0;32mif\u001b[0m \u001b[0misscalar\u001b[0m\u001b[0;34m(\u001b[0m\u001b[0mother\u001b[0m\u001b[0;34m)\u001b[0m \u001b[0;32mor\u001b[0m \u001b[0;32mnot\u001b[0m \u001b[0mhasattr\u001b[0m\u001b[0;34m(\u001b[0m\u001b[0mother\u001b[0m\u001b[0;34m,\u001b[0m \u001b[0;34m'__rmul__'\u001b[0m\u001b[0;34m)\u001b[0m \u001b[0;34m:\u001b[0m\u001b[0;34m\u001b[0m\u001b[0;34m\u001b[0m\u001b[0m\n\u001b[1;32m    220\u001b[0m             \u001b[0;32mreturn\u001b[0m \u001b[0mN\u001b[0m\u001b[0;34m.\u001b[0m\u001b[0mdot\u001b[0m\u001b[0;34m(\u001b[0m\u001b[0mself\u001b[0m\u001b[0;34m,\u001b[0m \u001b[0mother\u001b[0m\u001b[0;34m)\u001b[0m\u001b[0;34m\u001b[0m\u001b[0;34m\u001b[0m\u001b[0m\n",
            "\u001b[0;32m<__array_function__ internals>\u001b[0m in \u001b[0;36mdot\u001b[0;34m(*args, **kwargs)\u001b[0m\n",
            "\u001b[0;31mValueError\u001b[0m: shapes (5,5) and (6,1) not aligned: 5 (dim 1) != 6 (dim 0)"
          ]
        }
      ]
    },
    {
      "cell_type": "markdown",
      "metadata": {
        "id": "nWxcZdO5hDMu"
      },
      "source": [
        "See also the related functions: `inner`, `outer`, `cross`, `kron`, `tensordot`. Try for example `help(kron)`."
      ]
    },
    {
      "cell_type": "markdown",
      "metadata": {
        "id": "X2Ykx1TBhDMu"
      },
      "source": [
        "### Matrix computations"
      ]
    },
    {
      "cell_type": "code",
      "metadata": {
        "id": "_OcniPVJhDMv"
      },
      "source": [
        "M = array([[1, 2], [3, 4]])"
      ],
      "execution_count": 135,
      "outputs": []
    },
    {
      "cell_type": "markdown",
      "metadata": {
        "id": "SkvKnk7dhDMv"
      },
      "source": [
        "#### Inverse"
      ]
    },
    {
      "cell_type": "code",
      "metadata": {
        "id": "O0teHYPMhDMv",
        "outputId": "2fc7603f-1729-4878-d1cf-d52879891f54",
        "colab": {
          "base_uri": "https://localhost:8080/"
        }
      },
      "source": [
        "inv(M) # equivalent to M.I when M is matrix"
      ],
      "execution_count": 136,
      "outputs": [
        {
          "output_type": "execute_result",
          "data": {
            "text/plain": [
              "array([[-2. ,  1. ],\n",
              "       [ 1.5, -0.5]])"
            ]
          },
          "metadata": {
            "tags": []
          },
          "execution_count": 136
        }
      ]
    },
    {
      "cell_type": "code",
      "metadata": {
        "id": "ohDnaK7ZhDMw",
        "outputId": "2843f0de-3645-40c9-a377-97086e6853ca",
        "colab": {
          "base_uri": "https://localhost:8080/"
        }
      },
      "source": [
        "dot(inv(M), M)"
      ],
      "execution_count": 137,
      "outputs": [
        {
          "output_type": "execute_result",
          "data": {
            "text/plain": [
              "array([[1.00000000e+00, 0.00000000e+00],\n",
              "       [1.11022302e-16, 1.00000000e+00]])"
            ]
          },
          "metadata": {
            "tags": []
          },
          "execution_count": 137
        }
      ]
    },
    {
      "cell_type": "markdown",
      "metadata": {
        "id": "cjMihAtMhDMw"
      },
      "source": [
        "#### Determinant"
      ]
    },
    {
      "cell_type": "code",
      "metadata": {
        "id": "PdY8bO8nhDMx",
        "outputId": "28f16303-e0cb-4ff7-e3a4-72960119be9b",
        "colab": {
          "base_uri": "https://localhost:8080/"
        }
      },
      "source": [
        "det(M)"
      ],
      "execution_count": 138,
      "outputs": [
        {
          "output_type": "execute_result",
          "data": {
            "text/plain": [
              "-2.0000000000000004"
            ]
          },
          "metadata": {
            "tags": []
          },
          "execution_count": 138
        }
      ]
    },
    {
      "cell_type": "code",
      "metadata": {
        "id": "97vc7a6ZhDMy"
      },
      "source": [
        "det(inv(M))"
      ],
      "execution_count": null,
      "outputs": []
    },
    {
      "cell_type": "markdown",
      "metadata": {
        "id": "LV-PtHW4hDMy"
      },
      "source": [
        "### Data processing"
      ]
    },
    {
      "cell_type": "markdown",
      "metadata": {
        "id": "UEFqWaBNhDMy"
      },
      "source": [
        "Often it is useful to store datasets in Numpy arrays. Numpy provides a number of functions to calculate statistics of datasets in arrays."
      ]
    },
    {
      "cell_type": "code",
      "metadata": {
        "id": "P_8U3YX1hDMz",
        "outputId": "c144568f-a9eb-4acf-ff82-a9d0ecb1c23e",
        "colab": {
          "base_uri": "https://localhost:8080/"
        }
      },
      "source": [
        "d = arange(1, 11)\n",
        "d"
      ],
      "execution_count": 139,
      "outputs": [
        {
          "output_type": "execute_result",
          "data": {
            "text/plain": [
              "array([ 1,  2,  3,  4,  5,  6,  7,  8,  9, 10])"
            ]
          },
          "metadata": {
            "tags": []
          },
          "execution_count": 139
        }
      ]
    },
    {
      "cell_type": "markdown",
      "metadata": {
        "id": "OoApMbRuhDMz"
      },
      "source": [
        "#### mean"
      ]
    },
    {
      "cell_type": "code",
      "metadata": {
        "id": "1JFK3hwFhDMz",
        "outputId": "02adc915-7769-4bde-f35f-59034ed2473f",
        "colab": {
          "base_uri": "https://localhost:8080/"
        }
      },
      "source": [
        "d.mean(), mean(d)"
      ],
      "execution_count": 140,
      "outputs": [
        {
          "output_type": "execute_result",
          "data": {
            "text/plain": [
              "(5.5, 5.5)"
            ]
          },
          "metadata": {
            "tags": []
          },
          "execution_count": 140
        }
      ]
    },
    {
      "cell_type": "markdown",
      "metadata": {
        "id": "pyrDx8M5hDM0"
      },
      "source": [
        "#### standard deviations and variance"
      ]
    },
    {
      "cell_type": "code",
      "metadata": {
        "id": "Cuo7fVe1hDM0",
        "outputId": "ec1634af-3a5c-4fe9-f1d3-f60ed0c7a3e7",
        "colab": {
          "base_uri": "https://localhost:8080/"
        }
      },
      "source": [
        "d.std(), d.var(), std(d), var(d)"
      ],
      "execution_count": 141,
      "outputs": [
        {
          "output_type": "execute_result",
          "data": {
            "text/plain": [
              "(2.8722813232690143, 8.25, 2.8722813232690143, 8.25)"
            ]
          },
          "metadata": {
            "tags": []
          },
          "execution_count": 141
        }
      ]
    },
    {
      "cell_type": "markdown",
      "metadata": {
        "id": "Upuej6xXhDM0"
      },
      "source": [
        "#### min and max"
      ]
    },
    {
      "cell_type": "code",
      "metadata": {
        "id": "MG5BMJ6fhDM0",
        "outputId": "b8bc5e91-f2e1-4ec3-b0c0-fbfd759d69ce",
        "colab": {
          "base_uri": "https://localhost:8080/"
        }
      },
      "source": [
        "d.min(), min(d)"
      ],
      "execution_count": 142,
      "outputs": [
        {
          "output_type": "execute_result",
          "data": {
            "text/plain": [
              "(1, 1)"
            ]
          },
          "metadata": {
            "tags": []
          },
          "execution_count": 142
        }
      ]
    },
    {
      "cell_type": "code",
      "metadata": {
        "id": "IG-1R9GthDM1",
        "outputId": "bbe23a7f-338b-4ff1-e4cb-89e07aa04393",
        "colab": {
          "base_uri": "https://localhost:8080/"
        }
      },
      "source": [
        "d.max(), max(d)"
      ],
      "execution_count": 143,
      "outputs": [
        {
          "output_type": "execute_result",
          "data": {
            "text/plain": [
              "(10, 10)"
            ]
          },
          "metadata": {
            "tags": []
          },
          "execution_count": 143
        }
      ]
    },
    {
      "cell_type": "markdown",
      "metadata": {
        "id": "ZF3EfZjbhDM1"
      },
      "source": [
        "#### sum, prod, and trace"
      ]
    },
    {
      "cell_type": "code",
      "metadata": {
        "id": "Y20NvtGbhDM1",
        "outputId": "2f931c20-4c3b-4334-a6a5-37c41e4007d8",
        "colab": {
          "base_uri": "https://localhost:8080/"
        }
      },
      "source": [
        "# sum up all elements\n",
        "d.sum(), sum(d)"
      ],
      "execution_count": 144,
      "outputs": [
        {
          "output_type": "execute_result",
          "data": {
            "text/plain": [
              "(55, 55)"
            ]
          },
          "metadata": {
            "tags": []
          },
          "execution_count": 144
        }
      ]
    },
    {
      "cell_type": "code",
      "metadata": {
        "id": "JauoqL8NhDM1",
        "outputId": "e8f2cff3-1f02-4dae-bcf5-fa4a6f74d798",
        "colab": {
          "base_uri": "https://localhost:8080/"
        }
      },
      "source": [
        "# product of all elements\n",
        "d.prod(), prod(d)"
      ],
      "execution_count": 145,
      "outputs": [
        {
          "output_type": "execute_result",
          "data": {
            "text/plain": [
              "(3628800, 3628800)"
            ]
          },
          "metadata": {
            "tags": []
          },
          "execution_count": 145
        }
      ]
    },
    {
      "cell_type": "code",
      "metadata": {
        "id": "KlrQjX-5hDM1",
        "outputId": "d025baa4-e0ce-42d5-951c-627f9bd66ec0",
        "colab": {
          "base_uri": "https://localhost:8080/"
        }
      },
      "source": [
        "# cummulative sum\n",
        "d.cumsum(), cumsum(d)"
      ],
      "execution_count": 146,
      "outputs": [
        {
          "output_type": "execute_result",
          "data": {
            "text/plain": [
              "(array([ 1,  3,  6, 10, 15, 21, 28, 36, 45, 55]),\n",
              " array([ 1,  3,  6, 10, 15, 21, 28, 36, 45, 55]))"
            ]
          },
          "metadata": {
            "tags": []
          },
          "execution_count": 146
        }
      ]
    },
    {
      "cell_type": "code",
      "metadata": {
        "id": "vcddIN9zhDM2",
        "outputId": "2d99369f-1772-48dd-cda8-029ad14a9edf",
        "colab": {
          "base_uri": "https://localhost:8080/"
        }
      },
      "source": [
        "# cummulative product\n",
        "d. cumprod(), cumprod(d)"
      ],
      "execution_count": 147,
      "outputs": [
        {
          "output_type": "execute_result",
          "data": {
            "text/plain": [
              "(array([      1,       2,       6,      24,     120,     720,    5040,\n",
              "          40320,  362880, 3628800]),\n",
              " array([      1,       2,       6,      24,     120,     720,    5040,\n",
              "          40320,  362880, 3628800]))"
            ]
          },
          "metadata": {
            "tags": []
          },
          "execution_count": 147
        }
      ]
    },
    {
      "cell_type": "code",
      "metadata": {
        "id": "CqRzGl2OhDM2",
        "outputId": "70f679fa-0e08-4d52-be8e-471d6374275b",
        "colab": {
          "base_uri": "https://localhost:8080/"
        }
      },
      "source": [
        "A"
      ],
      "execution_count": 148,
      "outputs": [
        {
          "output_type": "execute_result",
          "data": {
            "text/plain": [
              "array([[ 0,  1,  2,  3,  4],\n",
              "       [10, 11, 12, 13, 14],\n",
              "       [20, 21, 22, 23, 24],\n",
              "       [30, 31, 32, 33, 34],\n",
              "       [40, 41, 42, 43, 44]])"
            ]
          },
          "metadata": {
            "tags": []
          },
          "execution_count": 148
        }
      ]
    },
    {
      "cell_type": "code",
      "metadata": {
        "id": "z2NGa7d7hDM2",
        "outputId": "0931e954-df12-4018-c07d-d481f953ab18",
        "colab": {
          "base_uri": "https://localhost:8080/"
        }
      },
      "source": [
        "# same as: diag(A).sum()\n",
        "trace(A)"
      ],
      "execution_count": 149,
      "outputs": [
        {
          "output_type": "execute_result",
          "data": {
            "text/plain": [
              "110"
            ]
          },
          "metadata": {
            "tags": []
          },
          "execution_count": 149
        }
      ]
    },
    {
      "cell_type": "markdown",
      "metadata": {
        "id": "WOkUclEuhDM2"
      },
      "source": [
        "### Calculations with higher-dimensional data"
      ]
    },
    {
      "cell_type": "markdown",
      "metadata": {
        "id": "3n8FEzfShDM3"
      },
      "source": [
        "When functions such as `min`, `max`, etc. are applied to a multidimensional arrays, it is sometimes useful to apply the calculation to the entire array, and sometimes only on a row or column basis. Using the `axis` argument we can specify how these functions should behave: "
      ]
    },
    {
      "cell_type": "code",
      "metadata": {
        "id": "r79OQOTIhDM3",
        "outputId": "5f2695ca-af74-4df1-bb13-d2cdc4a1f811",
        "colab": {
          "base_uri": "https://localhost:8080/"
        }
      },
      "source": [
        "M = rand(3,4)\n",
        "M"
      ],
      "execution_count": 150,
      "outputs": [
        {
          "output_type": "execute_result",
          "data": {
            "text/plain": [
              "array([[0.90858474, 0.89834667, 0.09095411, 0.94069251],\n",
              "       [0.29119698, 0.82685025, 0.91555345, 0.97620865],\n",
              "       [0.84647698, 0.81784162, 0.98939931, 0.65113043]])"
            ]
          },
          "metadata": {
            "tags": []
          },
          "execution_count": 150
        }
      ]
    },
    {
      "cell_type": "code",
      "metadata": {
        "id": "r8OTjLBFhDM3",
        "outputId": "b07e25bb-8700-43e7-ba4f-3cdc9b032d2e",
        "colab": {
          "base_uri": "https://localhost:8080/"
        }
      },
      "source": [
        "# global max\n",
        "M.max()"
      ],
      "execution_count": 151,
      "outputs": [
        {
          "output_type": "execute_result",
          "data": {
            "text/plain": [
              "0.9893993131687782"
            ]
          },
          "metadata": {
            "tags": []
          },
          "execution_count": 151
        }
      ]
    },
    {
      "cell_type": "code",
      "metadata": {
        "id": "PFyvIzEqhDM3",
        "outputId": "c23e49a9-02ce-45fa-9a5e-4caa5bbd6dd2",
        "colab": {
          "base_uri": "https://localhost:8080/"
        }
      },
      "source": [
        "# max in each column\n",
        "M.max(axis=0)"
      ],
      "execution_count": 152,
      "outputs": [
        {
          "output_type": "execute_result",
          "data": {
            "text/plain": [
              "array([0.90858474, 0.89834667, 0.98939931, 0.97620865])"
            ]
          },
          "metadata": {
            "tags": []
          },
          "execution_count": 152
        }
      ]
    },
    {
      "cell_type": "code",
      "metadata": {
        "id": "14mrxYC6hDM3",
        "outputId": "9d4f9928-d66b-4ee4-fee5-c46b8e543c4c",
        "colab": {
          "base_uri": "https://localhost:8080/"
        }
      },
      "source": [
        "# max in each row\n",
        "M.max(axis=1)"
      ],
      "execution_count": 153,
      "outputs": [
        {
          "output_type": "execute_result",
          "data": {
            "text/plain": [
              "array([0.94069251, 0.97620865, 0.98939931])"
            ]
          },
          "metadata": {
            "tags": []
          },
          "execution_count": 153
        }
      ]
    },
    {
      "cell_type": "markdown",
      "metadata": {
        "id": "eLQVLoqthDM4"
      },
      "source": [
        "Many other functions and methods in the `array` and `matrix` classes accept the same (optional) `axis` keyword argument."
      ]
    },
    {
      "cell_type": "markdown",
      "metadata": {
        "id": "yJjOATYehDM4"
      },
      "source": [
        "## Reshaping, resizing and stacking arrays"
      ]
    },
    {
      "cell_type": "markdown",
      "metadata": {
        "id": "XFCXTS0yhDM4"
      },
      "source": [
        "The shape of an Numpy array can be modified without copying the underlaying data, which makes it a fast operation even for large arrays."
      ]
    },
    {
      "cell_type": "code",
      "metadata": {
        "id": "G0FRpsEshDM5",
        "outputId": "ecc1075b-e92b-46b3-963d-914d0bb486f3",
        "colab": {
          "base_uri": "https://localhost:8080/"
        }
      },
      "source": [
        "M"
      ],
      "execution_count": 154,
      "outputs": [
        {
          "output_type": "execute_result",
          "data": {
            "text/plain": [
              "array([[0.90858474, 0.89834667, 0.09095411, 0.94069251],\n",
              "       [0.29119698, 0.82685025, 0.91555345, 0.97620865],\n",
              "       [0.84647698, 0.81784162, 0.98939931, 0.65113043]])"
            ]
          },
          "metadata": {
            "tags": []
          },
          "execution_count": 154
        }
      ]
    },
    {
      "cell_type": "code",
      "metadata": {
        "id": "2Y7BsUDJhDM5",
        "outputId": "83337d28-a0f7-44b0-e27c-ccd750a006a6",
        "colab": {
          "base_uri": "https://localhost:8080/"
        }
      },
      "source": [
        "M.shape"
      ],
      "execution_count": 155,
      "outputs": [
        {
          "output_type": "execute_result",
          "data": {
            "text/plain": [
              "(3, 4)"
            ]
          },
          "metadata": {
            "tags": []
          },
          "execution_count": 155
        }
      ]
    },
    {
      "cell_type": "code",
      "metadata": {
        "id": "PkHWzlE2hDM5",
        "outputId": "62f1bd5b-f13f-4781-bd0b-ef66bcb20f52",
        "colab": {
          "base_uri": "https://localhost:8080/"
        }
      },
      "source": [
        "N = M.reshape((6, 2))\n",
        "N"
      ],
      "execution_count": 156,
      "outputs": [
        {
          "output_type": "execute_result",
          "data": {
            "text/plain": [
              "array([[0.90858474, 0.89834667],\n",
              "       [0.09095411, 0.94069251],\n",
              "       [0.29119698, 0.82685025],\n",
              "       [0.91555345, 0.97620865],\n",
              "       [0.84647698, 0.81784162],\n",
              "       [0.98939931, 0.65113043]])"
            ]
          },
          "metadata": {
            "tags": []
          },
          "execution_count": 156
        }
      ]
    },
    {
      "cell_type": "code",
      "metadata": {
        "id": "MyDHgKRQhDM5",
        "outputId": "18e9067b-fcff-47a2-f149-26641a8f67c5",
        "colab": {
          "base_uri": "https://localhost:8080/"
        }
      },
      "source": [
        "O = M.reshape((1, 12))\n",
        "O"
      ],
      "execution_count": 157,
      "outputs": [
        {
          "output_type": "execute_result",
          "data": {
            "text/plain": [
              "array([[0.90858474, 0.89834667, 0.09095411, 0.94069251, 0.29119698,\n",
              "        0.82685025, 0.91555345, 0.97620865, 0.84647698, 0.81784162,\n",
              "        0.98939931, 0.65113043]])"
            ]
          },
          "metadata": {
            "tags": []
          },
          "execution_count": 157
        }
      ]
    },
    {
      "cell_type": "code",
      "metadata": {
        "id": "1_4IrZ6AhDM6",
        "outputId": "eccb19c4-2df6-4f70-8aa5-34052e7a70fe",
        "colab": {
          "base_uri": "https://localhost:8080/"
        }
      },
      "source": [
        "N[0:2,:] = 1 # modify the array\n",
        "N"
      ],
      "execution_count": 158,
      "outputs": [
        {
          "output_type": "execute_result",
          "data": {
            "text/plain": [
              "array([[1.        , 1.        ],\n",
              "       [1.        , 1.        ],\n",
              "       [0.29119698, 0.82685025],\n",
              "       [0.91555345, 0.97620865],\n",
              "       [0.84647698, 0.81784162],\n",
              "       [0.98939931, 0.65113043]])"
            ]
          },
          "metadata": {
            "tags": []
          },
          "execution_count": 158
        }
      ]
    },
    {
      "cell_type": "code",
      "metadata": {
        "id": "0b26rFc8hDM6",
        "outputId": "b7d1b453-96d0-4307-f8b4-178a1440de23",
        "colab": {
          "base_uri": "https://localhost:8080/"
        }
      },
      "source": [
        "M # and the original variable is also changed. B is only a different view of the same data"
      ],
      "execution_count": 159,
      "outputs": [
        {
          "output_type": "execute_result",
          "data": {
            "text/plain": [
              "array([[1.        , 1.        , 1.        , 1.        ],\n",
              "       [0.29119698, 0.82685025, 0.91555345, 0.97620865],\n",
              "       [0.84647698, 0.81784162, 0.98939931, 0.65113043]])"
            ]
          },
          "metadata": {
            "tags": []
          },
          "execution_count": 159
        }
      ]
    },
    {
      "cell_type": "code",
      "metadata": {
        "id": "flevmkQhhDM6",
        "outputId": "ae024816-d9b1-48f6-b007-ed5a41825898",
        "colab": {
          "base_uri": "https://localhost:8080/"
        }
      },
      "source": [
        "O"
      ],
      "execution_count": 160,
      "outputs": [
        {
          "output_type": "execute_result",
          "data": {
            "text/plain": [
              "array([[1.        , 1.        , 1.        , 1.        , 0.29119698,\n",
              "        0.82685025, 0.91555345, 0.97620865, 0.84647698, 0.81784162,\n",
              "        0.98939931, 0.65113043]])"
            ]
          },
          "metadata": {
            "tags": []
          },
          "execution_count": 160
        }
      ]
    },
    {
      "cell_type": "markdown",
      "metadata": {
        "id": "P1lydrGthDM7"
      },
      "source": [
        "We can also use the function `flatten` to make a higher-dimensional array into a vector. But this function create a copy of the data."
      ]
    },
    {
      "cell_type": "code",
      "metadata": {
        "id": "OG00xr0uhDM8",
        "outputId": "5ff142f5-60a2-4873-e5ad-c15509d9f78d",
        "colab": {
          "base_uri": "https://localhost:8080/"
        }
      },
      "source": [
        "F = M.flatten()\n",
        "F"
      ],
      "execution_count": 161,
      "outputs": [
        {
          "output_type": "execute_result",
          "data": {
            "text/plain": [
              "array([1.        , 1.        , 1.        , 1.        , 0.29119698,\n",
              "       0.82685025, 0.91555345, 0.97620865, 0.84647698, 0.81784162,\n",
              "       0.98939931, 0.65113043])"
            ]
          },
          "metadata": {
            "tags": []
          },
          "execution_count": 161
        }
      ]
    },
    {
      "cell_type": "code",
      "metadata": {
        "id": "TZKTQHHjhDM9",
        "outputId": "a4240591-b1b0-4683-f913-14e04d43a928",
        "colab": {
          "base_uri": "https://localhost:8080/"
        }
      },
      "source": [
        "F[0:5] = 0\n",
        "F"
      ],
      "execution_count": 162,
      "outputs": [
        {
          "output_type": "execute_result",
          "data": {
            "text/plain": [
              "array([0.        , 0.        , 0.        , 0.        , 0.        ,\n",
              "       0.82685025, 0.91555345, 0.97620865, 0.84647698, 0.81784162,\n",
              "       0.98939931, 0.65113043])"
            ]
          },
          "metadata": {
            "tags": []
          },
          "execution_count": 162
        }
      ]
    },
    {
      "cell_type": "code",
      "metadata": {
        "id": "Aulo2tjuhDM9",
        "outputId": "20e69fb5-6e45-47e5-c336-efb77d391c36",
        "colab": {
          "base_uri": "https://localhost:8080/"
        }
      },
      "source": [
        "M # now M has not changed, because F's data is a copy of M's, not refering to the same data"
      ],
      "execution_count": 163,
      "outputs": [
        {
          "output_type": "execute_result",
          "data": {
            "text/plain": [
              "array([[1.        , 1.        , 1.        , 1.        ],\n",
              "       [0.29119698, 0.82685025, 0.91555345, 0.97620865],\n",
              "       [0.84647698, 0.81784162, 0.98939931, 0.65113043]])"
            ]
          },
          "metadata": {
            "tags": []
          },
          "execution_count": 163
        }
      ]
    },
    {
      "cell_type": "markdown",
      "metadata": {
        "id": "7v9KyhcfhDM9"
      },
      "source": [
        "## Stacking and repeating arrays"
      ]
    },
    {
      "cell_type": "markdown",
      "metadata": {
        "id": "sgCTgVI7hDM-"
      },
      "source": [
        "Using function `repeat`, `tile`, `vstack`, `hstack`, and `concatenate` we can create larger vectors and matrices from smaller ones:"
      ]
    },
    {
      "cell_type": "markdown",
      "metadata": {
        "id": "9Xi3iCI8hDM-"
      },
      "source": [
        "### tile and repeat"
      ]
    },
    {
      "cell_type": "code",
      "metadata": {
        "id": "wMrvjkTXhDM_",
        "outputId": "54b25007-7d67-40c6-f4df-21bdc448dcd2",
        "colab": {
          "base_uri": "https://localhost:8080/"
        }
      },
      "source": [
        "a = array([[1, 2], [3, 4]])\n",
        "a"
      ],
      "execution_count": 166,
      "outputs": [
        {
          "output_type": "execute_result",
          "data": {
            "text/plain": [
              "array([[1, 2],\n",
              "       [3, 4]])"
            ]
          },
          "metadata": {
            "tags": []
          },
          "execution_count": 166
        }
      ]
    },
    {
      "cell_type": "code",
      "metadata": {
        "id": "lLB-dM0uhDM_",
        "outputId": "6bc95c3a-12ec-4795-87ba-1912ee72dc2b",
        "colab": {
          "base_uri": "https://localhost:8080/"
        }
      },
      "source": [
        "# repeat each element 3 times\n",
        "repeat(a, 3)"
      ],
      "execution_count": 165,
      "outputs": [
        {
          "output_type": "execute_result",
          "data": {
            "text/plain": [
              "array([1, 1, 1, 2, 2, 2, 3, 3, 3, 4, 4, 4])"
            ]
          },
          "metadata": {
            "tags": []
          },
          "execution_count": 165
        }
      ]
    },
    {
      "cell_type": "code",
      "metadata": {
        "id": "L9JBdrsKhDNA",
        "outputId": "ab8f3cd0-6f97-4226-fbee-a51bbb9f7588",
        "colab": {
          "base_uri": "https://localhost:8080/"
        }
      },
      "source": [
        "# tile the matrix 3 times \n",
        "tile(a, 3)"
      ],
      "execution_count": 167,
      "outputs": [
        {
          "output_type": "execute_result",
          "data": {
            "text/plain": [
              "array([[1, 2, 1, 2, 1, 2],\n",
              "       [3, 4, 3, 4, 3, 4]])"
            ]
          },
          "metadata": {
            "tags": []
          },
          "execution_count": 167
        }
      ]
    },
    {
      "cell_type": "markdown",
      "metadata": {
        "id": "QGacmNB9hDNA"
      },
      "source": [
        "### concatenate"
      ]
    },
    {
      "cell_type": "code",
      "metadata": {
        "id": "9-ueZ8vehDNB",
        "outputId": "e1ada1ec-0fb4-41db-d6cf-ac33a9a585be",
        "colab": {
          "base_uri": "https://localhost:8080/"
        }
      },
      "source": [
        "b = array([[5, 6]])\n",
        "b"
      ],
      "execution_count": 169,
      "outputs": [
        {
          "output_type": "execute_result",
          "data": {
            "text/plain": [
              "array([[5, 6]])"
            ]
          },
          "metadata": {
            "tags": []
          },
          "execution_count": 169
        }
      ]
    },
    {
      "cell_type": "code",
      "metadata": {
        "id": "A0GWXPX-hDNB",
        "outputId": "85e4dff2-3f81-439c-9640-28bfdb6fde79",
        "colab": {
          "base_uri": "https://localhost:8080/"
        }
      },
      "source": [
        "concatenate((a, b), axis=0)"
      ],
      "execution_count": 170,
      "outputs": [
        {
          "output_type": "execute_result",
          "data": {
            "text/plain": [
              "array([[1, 2],\n",
              "       [3, 4],\n",
              "       [5, 6]])"
            ]
          },
          "metadata": {
            "tags": []
          },
          "execution_count": 170
        }
      ]
    },
    {
      "cell_type": "code",
      "metadata": {
        "id": "dk-6TdgQhDNB"
      },
      "source": [
        "concatenate((a, b.T), axis=1)"
      ],
      "execution_count": null,
      "outputs": []
    },
    {
      "cell_type": "markdown",
      "metadata": {
        "id": "CciRFVvMhDNB"
      },
      "source": [
        "### hstack and vstack"
      ]
    },
    {
      "cell_type": "code",
      "metadata": {
        "id": "zxo4vk3RhDNB",
        "outputId": "aa94b8d4-84c5-49d1-b681-2644a60dc6d3",
        "colab": {
          "base_uri": "https://localhost:8080/"
        }
      },
      "source": [
        "vstack((a,b))"
      ],
      "execution_count": 171,
      "outputs": [
        {
          "output_type": "execute_result",
          "data": {
            "text/plain": [
              "array([[1, 2],\n",
              "       [3, 4],\n",
              "       [5, 6]])"
            ]
          },
          "metadata": {
            "tags": []
          },
          "execution_count": 171
        }
      ]
    },
    {
      "cell_type": "code",
      "metadata": {
        "id": "CBIZJk6DhDND",
        "outputId": "5336e566-7333-4b51-86f8-83dbb319d4be",
        "colab": {
          "base_uri": "https://localhost:8080/"
        }
      },
      "source": [
        "hstack((a,b.T))"
      ],
      "execution_count": 172,
      "outputs": [
        {
          "output_type": "execute_result",
          "data": {
            "text/plain": [
              "array([[1, 2, 5],\n",
              "       [3, 4, 6]])"
            ]
          },
          "metadata": {
            "tags": []
          },
          "execution_count": 172
        }
      ]
    },
    {
      "cell_type": "markdown",
      "metadata": {
        "id": "OUVtzQcVhDND"
      },
      "source": [
        "## Linear equations"
      ]
    },
    {
      "cell_type": "markdown",
      "metadata": {
        "id": "jJeYNUaDhDND"
      },
      "source": [
        "System of linear equations like:\n",
        "$$\\begin{array}{rcl}x + 2y & = & 5\\\\3x + 4y & = & 7\\end{array}$$\n",
        "\n",
        "or\n",
        "\n",
        "$$\\begin{pmatrix}1 & 2\\\\3 & 4\\end{pmatrix}\\cdot\\begin{pmatrix}x \\\\ y\\end{pmatrix} = \\begin{pmatrix}5 \\\\ 7\\end{pmatrix}$$\n",
        "\n",
        "could be written in matrix form as $\\mathbf {Ax} = \\mathbf b$ and could be solved using numpy `solve`:"
      ]
    },
    {
      "cell_type": "code",
      "metadata": {
        "id": "qtQ0--lkhDND",
        "outputId": "3aa29653-faa3-4332-d8fc-f88e07aa2e94",
        "colab": {
          "base_uri": "https://localhost:8080/"
        }
      },
      "source": [
        "A = array([[1, 2], [3, 4]])\n",
        "b = array([5,7])\n",
        "solve(A,b)"
      ],
      "execution_count": 180,
      "outputs": [
        {
          "output_type": "execute_result",
          "data": {
            "text/plain": [
              "array([-3.,  4.])"
            ]
          },
          "metadata": {
            "tags": []
          },
          "execution_count": 180
        }
      ]
    },
    {
      "cell_type": "markdown",
      "metadata": {
        "id": "adgM10V_hDNE"
      },
      "source": [
        "or"
      ]
    },
    {
      "cell_type": "code",
      "metadata": {
        "id": "oElp5BcdhDNE",
        "outputId": "e27e7a76-9ae6-4a6d-a3eb-bb33bb7f387b",
        "colab": {
          "base_uri": "https://localhost:8080/"
        }
      },
      "source": [
        "dot(inv(A),b)"
      ],
      "execution_count": 181,
      "outputs": [
        {
          "output_type": "execute_result",
          "data": {
            "text/plain": [
              "array([-3.,  4.])"
            ]
          },
          "metadata": {
            "tags": []
          },
          "execution_count": 181
        }
      ]
    },
    {
      "cell_type": "markdown",
      "metadata": {
        "id": "4NVL14AzhDNE"
      },
      "source": [
        "## Copy and \"deep copy\""
      ]
    },
    {
      "cell_type": "markdown",
      "metadata": {
        "id": "2bbfQkplhDNE"
      },
      "source": [
        "To achieve high performance, assignments in Python usually do not copy the underlaying objects. This is important for example when objects are passed between functions, to avoid an excessive amount of memory copying when it is not necessary (technical term: pass by reference). "
      ]
    },
    {
      "cell_type": "code",
      "metadata": {
        "id": "iFzfr2RChDNE",
        "outputId": "34901498-e70d-4198-f674-fe35df608c79",
        "colab": {
          "base_uri": "https://localhost:8080/"
        }
      },
      "source": [
        "# now B is referring to the same array data as A \n",
        "B = A \n",
        "A"
      ],
      "execution_count": 182,
      "outputs": [
        {
          "output_type": "execute_result",
          "data": {
            "text/plain": [
              "array([[1, 2],\n",
              "       [3, 4]])"
            ]
          },
          "metadata": {
            "tags": []
          },
          "execution_count": 182
        }
      ]
    },
    {
      "cell_type": "code",
      "metadata": {
        "id": "LfA7qP3ohDNF",
        "outputId": "7d27fbc0-988c-4bbc-f150-f6df015bc822",
        "colab": {
          "base_uri": "https://localhost:8080/"
        }
      },
      "source": [
        "# changing B affects A\n",
        "B[0,0] = 10\n",
        "B"
      ],
      "execution_count": 178,
      "outputs": [
        {
          "output_type": "execute_result",
          "data": {
            "text/plain": [
              "array([[10,  2],\n",
              "       [ 3,  4]])"
            ]
          },
          "metadata": {
            "tags": []
          },
          "execution_count": 178
        }
      ]
    },
    {
      "cell_type": "code",
      "metadata": {
        "id": "W-PuoPvbhDNF",
        "outputId": "0859aabd-3458-47c3-c343-527cbed9c675",
        "colab": {
          "base_uri": "https://localhost:8080/"
        }
      },
      "source": [
        "A"
      ],
      "execution_count": 179,
      "outputs": [
        {
          "output_type": "execute_result",
          "data": {
            "text/plain": [
              "array([[10,  2],\n",
              "       [ 3,  4]])"
            ]
          },
          "metadata": {
            "tags": []
          },
          "execution_count": 179
        }
      ]
    },
    {
      "cell_type": "markdown",
      "metadata": {
        "id": "QQR8bWQGhDNF"
      },
      "source": [
        "If we want to avoid this behavior, so that when we get a new completely independent object `B` copied from `A`, then we need to do a so-called \"deep copy\" using the function `copy`:"
      ]
    },
    {
      "cell_type": "code",
      "metadata": {
        "id": "7_k64_fzhDNF"
      },
      "source": [
        "B = copy(A)"
      ],
      "execution_count": 183,
      "outputs": []
    },
    {
      "cell_type": "code",
      "metadata": {
        "id": "6CMS8ePfhDNG",
        "outputId": "67d437c3-9a61-4c3f-b94d-fa49b17457d6",
        "colab": {
          "base_uri": "https://localhost:8080/"
        }
      },
      "source": [
        "# now, if we modify B, A is not affected\n",
        "B[0,0] = -5\n",
        "B"
      ],
      "execution_count": 184,
      "outputs": [
        {
          "output_type": "execute_result",
          "data": {
            "text/plain": [
              "array([[-5,  2],\n",
              "       [ 3,  4]])"
            ]
          },
          "metadata": {
            "tags": []
          },
          "execution_count": 184
        }
      ]
    },
    {
      "cell_type": "code",
      "metadata": {
        "id": "QhhUcdQqhDNG",
        "outputId": "80bf3053-39f7-4825-aa9f-d51a96ddaf2c",
        "colab": {
          "base_uri": "https://localhost:8080/"
        }
      },
      "source": [
        "A"
      ],
      "execution_count": 185,
      "outputs": [
        {
          "output_type": "execute_result",
          "data": {
            "text/plain": [
              "array([[1, 2],\n",
              "       [3, 4]])"
            ]
          },
          "metadata": {
            "tags": []
          },
          "execution_count": 185
        }
      ]
    },
    {
      "cell_type": "markdown",
      "metadata": {
        "id": "K8-4mi5hhDNG"
      },
      "source": [
        "## Iterating over array elements"
      ]
    },
    {
      "cell_type": "markdown",
      "metadata": {
        "id": "QZbBs6RhhDNG"
      },
      "source": [
        "Generally, we want to avoid iterating over the elements of arrays whenever we can (at all costs). The reason is that in a interpreted language like Python (or MATLAB), iterations are really slow compared to vectorized operations. \n",
        "\n",
        "However, sometimes iterations are unavoidable. For such cases, the Python `for` loop is the most convenient way to iterate over an array:"
      ]
    },
    {
      "cell_type": "code",
      "metadata": {
        "id": "PqhwWsuShDNG",
        "outputId": "221b8c94-51ff-42c3-ab9b-b91fe23c2572",
        "colab": {
          "base_uri": "https://localhost:8080/"
        }
      },
      "source": [
        "v = array([1,2,3,4])\n",
        "\n",
        "for element in v:\n",
        "    print(element)"
      ],
      "execution_count": 186,
      "outputs": [
        {
          "output_type": "stream",
          "text": [
            "1\n",
            "2\n",
            "3\n",
            "4\n"
          ],
          "name": "stdout"
        }
      ]
    },
    {
      "cell_type": "code",
      "metadata": {
        "id": "4rdqrElshDNH",
        "outputId": "bd2c7aa4-1893-4545-8e2b-3eb070b88db5",
        "colab": {
          "base_uri": "https://localhost:8080/"
        }
      },
      "source": [
        "M = array([[1,2], [3,4]])\n",
        "\n",
        "for row in M:\n",
        "    print('Row', row)\n",
        "    \n",
        "    for element in row:\n",
        "        print('Element', element)"
      ],
      "execution_count": 187,
      "outputs": [
        {
          "output_type": "stream",
          "text": [
            "Row [1 2]\n",
            "Element 1\n",
            "Element 2\n",
            "Row [3 4]\n",
            "Element 3\n",
            "Element 4\n"
          ],
          "name": "stdout"
        }
      ]
    },
    {
      "cell_type": "markdown",
      "metadata": {
        "id": "xa_2Xe7HhDNH"
      },
      "source": [
        "When we need to iterate over each element of an array and modify its elements, it is convenient to use the `enumerate` function to obtain both the element and its index in the `for` loop: "
      ]
    },
    {
      "cell_type": "code",
      "metadata": {
        "id": "ff4GCsLNhDNI",
        "outputId": "cf9aa225-394c-40ad-e497-fbeef99f10de"
      },
      "source": [
        "for row_idx, row in enumerate(M):\n",
        "    print(\"row_idx\", row_idx, \"row\", row)\n",
        "    \n",
        "    for col_idx, element in enumerate(row):\n",
        "        print(\"row_idx\", row_idx, \"col_idx\", col_idx, \"Element\", element)\n",
        "       \n",
        "        # update the matrix M: square each element\n",
        "        M[row_idx, col_idx] = element ** 2"
      ],
      "execution_count": null,
      "outputs": [
        {
          "output_type": "stream",
          "text": [
            "row_idx 0 row [1 2]\n",
            "row_idx 0 col_idx 0 Element 1\n",
            "row_idx 0 col_idx 1 Element 2\n",
            "row_idx 1 row [3 4]\n",
            "row_idx 1 col_idx 0 Element 3\n",
            "row_idx 1 col_idx 1 Element 4\n"
          ],
          "name": "stdout"
        }
      ]
    },
    {
      "cell_type": "code",
      "metadata": {
        "id": "QF6zo6MMhDNI",
        "outputId": "28c967dc-3c93-49fe-e7e3-a7111e070fad"
      },
      "source": [
        "# each element in M is now squared\n",
        "M"
      ],
      "execution_count": null,
      "outputs": [
        {
          "output_type": "execute_result",
          "data": {
            "text/plain": [
              "array([[ 1,  4],\n",
              "       [ 9, 16]])"
            ]
          },
          "metadata": {
            "tags": []
          },
          "execution_count": 94
        }
      ]
    },
    {
      "cell_type": "markdown",
      "metadata": {
        "id": "iWVN6bMxhDNJ"
      },
      "source": [
        "## Using arrays in conditions"
      ]
    },
    {
      "cell_type": "markdown",
      "metadata": {
        "id": "pgechcAYhDNJ"
      },
      "source": [
        "When using arrays in conditions,for example `if` statements and other boolean expressions, one needs to use `any` or `all`, which requires that any or all elements in the array evalutes to `True`:"
      ]
    },
    {
      "cell_type": "code",
      "metadata": {
        "id": "4_lrl1E2hDNK",
        "outputId": "d72a9aaa-71f1-455e-cd1c-4bd7be808ab9"
      },
      "source": [
        "M"
      ],
      "execution_count": null,
      "outputs": [
        {
          "output_type": "execute_result",
          "data": {
            "text/plain": [
              "array([[ 1,  4],\n",
              "       [ 9, 16]])"
            ]
          },
          "metadata": {
            "tags": []
          },
          "execution_count": 95
        }
      ]
    },
    {
      "cell_type": "code",
      "metadata": {
        "id": "5o3xv8CQhDNK",
        "outputId": "ee5a6ac1-4f0f-4916-d9c7-6c02eef5a7a7"
      },
      "source": [
        "if (M > 5).any():\n",
        "    print(\"at least one element in M is larger than 5\")\n",
        "else:\n",
        "    print(\"no element in M is larger than 5\")"
      ],
      "execution_count": null,
      "outputs": [
        {
          "output_type": "stream",
          "text": [
            "at least one element in M is larger than 5\n"
          ],
          "name": "stdout"
        }
      ]
    },
    {
      "cell_type": "code",
      "metadata": {
        "id": "xP9QjioWhDNK",
        "outputId": "66158e71-c415-46bb-efee-6a8626f4a276"
      },
      "source": [
        "if (M > 5).all():\n",
        "    print(\"all elements in M are larger than 5\")\n",
        "else:\n",
        "    print(\"all elements in M are not larger than 5\")"
      ],
      "execution_count": null,
      "outputs": [
        {
          "output_type": "stream",
          "text": [
            "all elements in M are not larger than 5\n"
          ],
          "name": "stdout"
        }
      ]
    },
    {
      "cell_type": "markdown",
      "metadata": {
        "id": "4wqH-CN8hDNL"
      },
      "source": [
        "## File I/O\n",
        "\n",
        "For all possibilities check documentation on [Input and output](https://docs.scipy.org/doc/numpy/reference/routines.io.html)."
      ]
    },
    {
      "cell_type": "markdown",
      "metadata": {
        "id": "vwZ01BN7hDNL"
      },
      "source": [
        "### Comma-separated values (CSV)\n",
        "A very common file format for data files is comma-separated values (CSV), or related formats such as TSV (tab-separated values). To read data from such files into Numpy arrays we can use the `numpy.loadtxt` function. For example we will read historical temperature data measured at Prague Clementinum. Here is how file looks like:"
      ]
    },
    {
      "cell_type": "code",
      "metadata": {
        "colab": {
          "base_uri": "https://localhost:8080/"
        },
        "id": "3uCYFz2kzGR6",
        "outputId": "3452f23c-b922-4faa-b355-c0f6a2e5983a"
      },
      "source": [
        "!wget https://raw.githubusercontent.com/serivan/mldmlab/master/Python-Introduction/Datasets/clementinum.csv"
      ],
      "execution_count": 188,
      "outputs": [
        {
          "output_type": "stream",
          "text": [
            "--2021-03-18 10:07:24--  https://raw.githubusercontent.com/serivan/mldmlab/master/Python-Introduction/Datasets/clementinum.csv\n",
            "Resolving raw.githubusercontent.com (raw.githubusercontent.com)... 185.199.108.133, 185.199.109.133, 185.199.110.133, ...\n",
            "Connecting to raw.githubusercontent.com (raw.githubusercontent.com)|185.199.108.133|:443... connected.\n",
            "HTTP request sent, awaiting response... 200 OK\n",
            "Length: 447674 (437K) [text/plain]\n",
            "Saving to: ‘clementinum.csv’\n",
            "\n",
            "clementinum.csv     100%[===================>] 437.18K  --.-KB/s    in 0.02s   \n",
            "\n",
            "2021-03-18 10:07:25 (17.6 MB/s) - ‘clementinum.csv’ saved [447674/447674]\n",
            "\n"
          ],
          "name": "stdout"
        }
      ]
    },
    {
      "cell_type": "code",
      "metadata": {
        "colab": {
          "base_uri": "https://localhost:8080/"
        },
        "id": "3iQwuCXVhDNL",
        "outputId": "e153b2c0-fcc3-4e38-cd38-e1176acf54de"
      },
      "source": [
        "!head clementinum.csv"
      ],
      "execution_count": 189,
      "outputs": [
        {
          "output_type": "stream",
          "text": [
            "year,month,day,avg,max,min,prec\n",
            "1972,1,1,0.6,2.8,-0.3,0.0\n",
            "1972,1,2,1.6,2.5,-1.4,0.0\n",
            "1972,1,3,3.5,4.0,2.3,0.0\n",
            "1972,1,4,4.0,4.8,2.9,0.2\n",
            "1972,1,5,2.2,3.6,1.3,3.0\n",
            "1972,1,6,0.5,2.3,-1.2,0.0\n",
            "1972,1,7,1.7,2.3,0.8,0.6\n",
            "1972,1,8,1.2,1.8,0.0,1.1\n",
            "1972,1,9,1.7,2.2,0.2,0.0\n"
          ],
          "name": "stdout"
        }
      ]
    },
    {
      "cell_type": "code",
      "metadata": {
        "id": "GlPECSuahDNM"
      },
      "source": [
        "# read CSV file, skip one row with headings\n",
        "data = loadtxt('clementinum.csv', skiprows=1, delimiter=',')\n",
        "savetxt('out.csv', data, delimiter=',')"
      ],
      "execution_count": 190,
      "outputs": []
    },
    {
      "cell_type": "code",
      "metadata": {
        "id": "l_FJPVpyhDNM",
        "outputId": "bee36288-769b-44f5-d9e1-f63566f5d77a",
        "colab": {
          "base_uri": "https://localhost:8080/"
        }
      },
      "source": [
        "data.shape"
      ],
      "execution_count": 191,
      "outputs": [
        {
          "output_type": "execute_result",
          "data": {
            "text/plain": [
              "(16071, 7)"
            ]
          },
          "metadata": {
            "tags": []
          },
          "execution_count": 191
        }
      ]
    },
    {
      "cell_type": "markdown",
      "metadata": {
        "id": "PTsy09KDhDNN"
      },
      "source": [
        "Let's calculate some properties from the Prague temperature dataset used above."
      ]
    },
    {
      "cell_type": "code",
      "metadata": {
        "id": "KB2ZIUjXhDNN",
        "outputId": "4128f75d-9714-4ba7-b4d2-25c2fa2468af"
      },
      "source": [
        "# Prague temperature over the last 43 years\n",
        "# the average temperature data is in column 3, max in column 4 a min in column 5\n",
        "print('The daily mean temperature has been {:.2f}°C.'.format(data[:,3].mean()))\n",
        "print('The highest daily average temperature has been {:.2f}°C.'.format(data[:,3].max()))\n",
        "print('The highest measured temperature has been {:.2f}°C.'.format(data[:,4].max()))\n",
        "print('The lowest daily average temperature has been {:.2f}°C.'.format(data[:,3].min()))\n",
        "print('The lowest measured temperature has been {:.2f}°C.'.format(data[:,5].min()))"
      ],
      "execution_count": null,
      "outputs": [
        {
          "output_type": "stream",
          "text": [
            "The daily mean temperature has been 10.77°C.\n",
            "The highest daily average temperature has been 31.00°C.\n",
            "The highest measured temperature has been 37.80°C.\n",
            "The lowest daily average temperature has been -18.00°C.\n",
            "The lowest measured temperature has been -20.20°C.\n"
          ],
          "name": "stdout"
        }
      ]
    }
  ]
}