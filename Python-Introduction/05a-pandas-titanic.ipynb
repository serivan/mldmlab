{
  "nbformat": 4,
  "nbformat_minor": 0,
  "metadata": {
    "kernelspec": {
      "display_name": "Python 3",
      "language": "python",
      "name": "python3"
    },
    "language_info": {
      "codemirror_mode": {
        "name": "ipython",
        "version": 3
      },
      "file_extension": ".py",
      "mimetype": "text/x-python",
      "name": "python",
      "nbconvert_exporter": "python",
      "pygments_lexer": "ipython3",
      "version": "3.6.9"
    },
    "colab": {
      "name": "05a-pandas-titanic.ipynb",
      "provenance": []
    }
  },
  "cells": [
    {
      "cell_type": "markdown",
      "metadata": {
        "id": "WgCM7zUOEN2k"
      },
      "source": [
        "# Introduction to Pandas"
      ]
    },
    {
      "cell_type": "markdown",
      "metadata": {
        "id": "uUZjJgaSEN2n"
      },
      "source": [
        "## What is it?\n",
        "`pandas` is an open source **Python** library for data analysis. Python has always been great for prepping and munging data, but it's never been great for analysis - you'd usually end up using **R** or loading it into a database and using SQL (or worse, Excel). **pandas** makes Python great for analysis.\n",
        "![Pandas](https://github.com/serivan/mldmlab/blob/master/Python-Introduction/scripts/pandas.jpg?raw=1)"
      ]
    },
    {
      "cell_type": "markdown",
      "metadata": {
        "id": "LY4REHSmEN2p"
      },
      "source": [
        "> `pandas` is a Python package providing fast, flexible, and expressive data structures designed to make working > with “relational” or “labeled” data both easy and intuitive. It aims to be the fundamental high-level building\n",
        "> block for doing practical, real world data analysis in Python. Additionally, it has the broader goal of becoming > the most powerful and flexible open source data analysis / manipulation tool available in any language. It is \n",
        "> already well on its way toward this goal.\n",
        "\n",
        "`pandas` is well suited for many different kinds of data:\n",
        "\n",
        "  - Tabular data with heterogeneously-typed columns, as in an SQL table or Excel spreadsheet\n",
        "  - Ordered and unordered (not necessarily fixed-frequency) time series data.\n",
        "  - Arbitrary matrix data (homogeneously typed or heterogeneous) with row and column labels\n",
        "  - Any other form of observational / statistical data sets. The data actually need not be labeled at all to be placed into a pandas data structure\n",
        "\n",
        "The two primary data structures of pandas, `Series` (1-dimensional) and `DataFrame` (2-dimensional), handle the vast majority of typical use cases in finance, statistics, social science, and many areas of engineering. For R users, `DataFrame` provides everything that R’s data.frame provides and much more. `pandas` is built on top of `numpy` and is intended to integrate well within a scientific computing environment with many other 3rd party libraries.\n",
        "\n",
        "Here are just a few of the things that pandas does well:\n",
        "\n",
        "  - Easy handling of missing data (represented as `nan`) in floating point as well as non-floating point data\n",
        "  - Size mutability: columns can be inserted and deleted from `DataFrame` and higher dimensional objects\n",
        "  - Automatic and explicit data alignment: objects can be explicitly aligned to a set of labels, or the user can simply ignore the labels and let `Series`, `DataFrame`, etc. automatically align the data for you in computations\n",
        "  - Powerful, flexible group by functionality to perform split-apply-combine operations on data sets, for both aggregating and transforming data\n",
        "  - Make it easy to convert ragged, differently-indexed data in other Python and NumPy data structures into `DataFrame` objects\n",
        "  - Intelligent label-based slicing, fancy indexing, and subsetting of large data sets\n",
        "  - Intuitive merging and joining data sets\n",
        "  - Flexible reshaping and pivoting of data sets\n",
        "  - Hierarchical labeling of axes (possible to have multiple labels per tick)\n",
        "  - Robust IO tools for loading data from flat files (CSV and delimited), Excel files, databases, and saving / loading data from the ultrafast HDF5 format\n",
        "  - Time series-specific functionality: date range generation and frequency conversion, moving window statistics, moving window linear regressions, date shifting and lagging, etc."
      ]
    },
    {
      "cell_type": "markdown",
      "metadata": {
        "id": "ryN40hXaEN2t"
      },
      "source": [
        "## Data Structures\n",
        "`pandas` introduces two new data structures to Python - `Series` and `DataFrame`, both of which are built on top of `numpy` (this means it's fast)."
      ]
    },
    {
      "cell_type": "code",
      "metadata": {
        "id": "yckyMcYKEN2u",
        "colab": {
          "base_uri": "https://localhost:8080/"
        },
        "outputId": "b80edfb9-0b55-4252-c23b-50438f6b1c51"
      },
      "source": [
        "%pylab inline"
      ],
      "execution_count": 1,
      "outputs": [
        {
          "output_type": "stream",
          "text": [
            "Populating the interactive namespace from numpy and matplotlib\n"
          ],
          "name": "stdout"
        }
      ]
    },
    {
      "cell_type": "markdown",
      "metadata": {
        "id": "8yED8kpbEN24"
      },
      "source": [
        "Most common way to import `pandas` is"
      ]
    },
    {
      "cell_type": "code",
      "metadata": {
        "id": "3ZJYKg7SEN25"
      },
      "source": [
        "import pandas as pd"
      ],
      "execution_count": 2,
      "outputs": []
    },
    {
      "cell_type": "markdown",
      "metadata": {
        "id": "mHkqLg3ZEN3D"
      },
      "source": [
        "## Series\n",
        "A `Series` is a one-dimensional object similar to an array, list, or column in a table. It will assign a labeled index to each item in the Series. By default, each item will receive an index label from 0 to N, where N is the length of the Series minus one."
      ]
    },
    {
      "cell_type": "code",
      "metadata": {
        "id": "TiIBeUwIEN3D",
        "colab": {
          "base_uri": "https://localhost:8080/"
        },
        "outputId": "372cedd2-8f04-40fc-fbf8-20a76bd52147"
      },
      "source": [
        "# create a Series with an arbitrary list\n",
        "s = pd.Series([7, 'Tonda', 3.14, -1789710578, 'Blaník'])\n",
        "s"
      ],
      "execution_count": 3,
      "outputs": [
        {
          "output_type": "execute_result",
          "data": {
            "text/plain": [
              "0              7\n",
              "1          Tonda\n",
              "2           3.14\n",
              "3    -1789710578\n",
              "4         Blaník\n",
              "dtype: object"
            ]
          },
          "metadata": {
            "tags": []
          },
          "execution_count": 3
        }
      ]
    },
    {
      "cell_type": "markdown",
      "metadata": {
        "id": "SZsugr7mEN3J"
      },
      "source": [
        "Alternatively, you can specify an index to use when creating the `Series`."
      ]
    },
    {
      "cell_type": "code",
      "metadata": {
        "id": "1CJLSBs7EN3K",
        "colab": {
          "base_uri": "https://localhost:8080/"
        },
        "outputId": "c93e208f-9ad9-4ee6-b68c-a4eb59ee3915"
      },
      "source": [
        "s = pd.Series([7, 'Tonda', 3.14, -1789710578, 'Blaník'], index=['A', 'Z', 'C', 'Y', 'E'])\n",
        "s"
      ],
      "execution_count": 4,
      "outputs": [
        {
          "output_type": "execute_result",
          "data": {
            "text/plain": [
              "A              7\n",
              "Z          Tonda\n",
              "C           3.14\n",
              "Y    -1789710578\n",
              "E         Blaník\n",
              "dtype: object"
            ]
          },
          "metadata": {
            "tags": []
          },
          "execution_count": 4
        }
      ]
    },
    {
      "cell_type": "markdown",
      "metadata": {
        "id": "UwgU7QjTEN3P"
      },
      "source": [
        "You can also assign a name to the `Series`."
      ]
    },
    {
      "cell_type": "code",
      "metadata": {
        "id": "B2af75fWEN3P",
        "colab": {
          "base_uri": "https://localhost:8080/"
        },
        "outputId": "aa69220a-fd1b-4fd9-e66c-1f1b39954052"
      },
      "source": [
        "s = pd.Series([7, 'Tonda', 3.14, -1789710578, 'Blaník'], index=['A', 'Z', 'C', 'Y', 'E'], name='Stream')\n",
        "s"
      ],
      "execution_count": 5,
      "outputs": [
        {
          "output_type": "execute_result",
          "data": {
            "text/plain": [
              "A              7\n",
              "Z          Tonda\n",
              "C           3.14\n",
              "Y    -1789710578\n",
              "E         Blaník\n",
              "Name: Stream, dtype: object"
            ]
          },
          "metadata": {
            "tags": []
          },
          "execution_count": 5
        }
      ]
    },
    {
      "cell_type": "markdown",
      "metadata": {
        "id": "mXA4uGx_EN3U"
      },
      "source": [
        "The `Series` constructor can convert a dictonary as well, using the keys of the dictionary as its index."
      ]
    },
    {
      "cell_type": "code",
      "metadata": {
        "id": "rpA7tr99EN3W",
        "colab": {
          "base_uri": "https://localhost:8080/"
        },
        "outputId": "ee99e8a0-77f3-4a7d-e32f-f86208ef6501"
      },
      "source": [
        "d = {'Milan': 1000, 'Rome': 1300, 'Naples': 900, 'Venice': 1100,\n",
        "     'Brescia': 450, 'Trieste': None}\n",
        "cities = pd.Series(d)\n",
        "cities"
      ],
      "execution_count": 6,
      "outputs": [
        {
          "output_type": "execute_result",
          "data": {
            "text/plain": [
              "Milan      1000.0\n",
              "Rome       1300.0\n",
              "Naples      900.0\n",
              "Venice     1100.0\n",
              "Brescia     450.0\n",
              "Trieste       NaN\n",
              "dtype: float64"
            ]
          },
          "metadata": {
            "tags": []
          },
          "execution_count": 6
        }
      ]
    },
    {
      "cell_type": "markdown",
      "metadata": {
        "id": "DZ-jwkWaEN3b"
      },
      "source": [
        "You can use the index to select specific items from the `Series` ..."
      ]
    },
    {
      "cell_type": "code",
      "metadata": {
        "id": "B_wX3xTAEN3c",
        "colab": {
          "base_uri": "https://localhost:8080/"
        },
        "outputId": "e26cb46e-e3d0-4895-85dc-e6533f5361e7"
      },
      "source": [
        "cities['Rome']"
      ],
      "execution_count": 7,
      "outputs": [
        {
          "output_type": "execute_result",
          "data": {
            "text/plain": [
              "1300.0"
            ]
          },
          "metadata": {
            "tags": []
          },
          "execution_count": 7
        }
      ]
    },
    {
      "cell_type": "code",
      "metadata": {
        "id": "QFa36oOzEN3g",
        "colab": {
          "base_uri": "https://localhost:8080/"
        },
        "outputId": "46278f22-6862-47bd-d24c-0bd2b3d6bc41"
      },
      "source": [
        "cities[['Rome', 'Milan', 'Naples']]"
      ],
      "execution_count": 8,
      "outputs": [
        {
          "output_type": "execute_result",
          "data": {
            "text/plain": [
              "Rome      1300.0\n",
              "Milan     1000.0\n",
              "Naples     900.0\n",
              "dtype: float64"
            ]
          },
          "metadata": {
            "tags": []
          },
          "execution_count": 8
        }
      ]
    },
    {
      "cell_type": "markdown",
      "metadata": {
        "id": "hMQ5sNxNEN3k"
      },
      "source": [
        "Or you can use boolean indexing for selection."
      ]
    },
    {
      "cell_type": "code",
      "metadata": {
        "id": "uphZUpkqEN3k",
        "colab": {
          "base_uri": "https://localhost:8080/"
        },
        "outputId": "3ede44ef-3446-43f5-c4bd-4865e31ec0af"
      },
      "source": [
        "cities[cities < 1000]"
      ],
      "execution_count": 9,
      "outputs": [
        {
          "output_type": "execute_result",
          "data": {
            "text/plain": [
              "Naples     900.0\n",
              "Brescia    450.0\n",
              "dtype: float64"
            ]
          },
          "metadata": {
            "tags": []
          },
          "execution_count": 9
        }
      ]
    },
    {
      "cell_type": "markdown",
      "metadata": {
        "id": "FMXvLr_qEN3r"
      },
      "source": [
        "You can also change the values in a `Series` on the fly."
      ]
    },
    {
      "cell_type": "code",
      "metadata": {
        "id": "giSZtvm4EN3v",
        "colab": {
          "base_uri": "https://localhost:8080/"
        },
        "outputId": "f684997a-7e48-4768-887c-779c26565e05"
      },
      "source": [
        "# changing based on the index\n",
        "print('Old value:', cities['Rome'])\n",
        "cities['Rome'] = 1400\n",
        "print('New value:', cities['Rome'])"
      ],
      "execution_count": 10,
      "outputs": [
        {
          "output_type": "stream",
          "text": [
            "Old value: 1300.0\n",
            "New value: 1400.0\n"
          ],
          "name": "stdout"
        }
      ]
    },
    {
      "cell_type": "code",
      "metadata": {
        "id": "Jt_aUoG4EN33",
        "colab": {
          "base_uri": "https://localhost:8080/"
        },
        "outputId": "c8aadb4a-8202-4cb3-d4e2-daa6259b324b"
      },
      "source": [
        "# changing values using boolean logic\n",
        "print(cities[cities < 1000])\n",
        "print('\\n')\n",
        "cities[cities < 1000] = 750\n",
        "\n",
        "print(cities[cities < 1000])"
      ],
      "execution_count": 11,
      "outputs": [
        {
          "output_type": "stream",
          "text": [
            "Naples     900.0\n",
            "Brescia    450.0\n",
            "dtype: float64\n",
            "\n",
            "\n",
            "Naples     750.0\n",
            "Brescia    750.0\n",
            "dtype: float64\n"
          ],
          "name": "stdout"
        }
      ]
    },
    {
      "cell_type": "markdown",
      "metadata": {
        "id": "8zd_OSvJEN3_"
      },
      "source": [
        "What if you aren't sure whether an item is in the `Series`? You can check using idiomatic Python."
      ]
    },
    {
      "cell_type": "code",
      "metadata": {
        "id": "BxwxBoIEEN4A",
        "colab": {
          "base_uri": "https://localhost:8080/"
        },
        "outputId": "9239cf78-dc6b-4848-ea9a-82bd457d4ea0"
      },
      "source": [
        "print('Turin' in cities)\n",
        "print('Venice' in cities)"
      ],
      "execution_count": 12,
      "outputs": [
        {
          "output_type": "stream",
          "text": [
            "False\n",
            "True\n"
          ],
          "name": "stdout"
        }
      ]
    },
    {
      "cell_type": "markdown",
      "metadata": {
        "id": "BrPauihOEN4H"
      },
      "source": [
        "Mathematical operations can be done using scalars and functions."
      ]
    },
    {
      "cell_type": "code",
      "metadata": {
        "id": "2C1LJVScEN4J",
        "colab": {
          "base_uri": "https://localhost:8080/"
        },
        "outputId": "3dc418b4-2c6c-407e-adc4-fb33e1e8417c"
      },
      "source": [
        "# divide city values by 3\n",
        "cities / 3"
      ],
      "execution_count": 13,
      "outputs": [
        {
          "output_type": "execute_result",
          "data": {
            "text/plain": [
              "Milan      333.333333\n",
              "Rome       466.666667\n",
              "Naples     250.000000\n",
              "Venice     366.666667\n",
              "Brescia    250.000000\n",
              "Trieste           NaN\n",
              "dtype: float64"
            ]
          },
          "metadata": {
            "tags": []
          },
          "execution_count": 13
        }
      ]
    },
    {
      "cell_type": "code",
      "metadata": {
        "id": "PCteSDyCEN4P",
        "colab": {
          "base_uri": "https://localhost:8080/"
        },
        "outputId": "0e1a96e9-1486-4b8b-8c6a-5ecbf85836e3"
      },
      "source": [
        "# square city values\n",
        "cities**2"
      ],
      "execution_count": 14,
      "outputs": [
        {
          "output_type": "execute_result",
          "data": {
            "text/plain": [
              "Milan      1000000.0\n",
              "Rome       1960000.0\n",
              "Naples      562500.0\n",
              "Venice     1210000.0\n",
              "Brescia     562500.0\n",
              "Trieste          NaN\n",
              "dtype: float64"
            ]
          },
          "metadata": {
            "tags": []
          },
          "execution_count": 14
        }
      ]
    },
    {
      "cell_type": "markdown",
      "metadata": {
        "id": "FHsiIG6TEN4Y"
      },
      "source": [
        "You can add two `Series` together, which returns a union of the two `Series` with the addition occurring on the shared index values. Values on either `Series` that did not have a shared index will produce a NULL/NaN (not a number)."
      ]
    },
    {
      "cell_type": "code",
      "metadata": {
        "id": "DXbvWaUgEN4b",
        "colab": {
          "base_uri": "https://localhost:8080/"
        },
        "outputId": "ec1531e7-dadd-4238-d21e-7f0b28bff41e"
      },
      "source": [
        "print(cities[['Rome', 'Milan', 'Naples']])\n",
        "print('\\n')\n",
        "print(cities[['Brescia', 'Milan']])\n",
        "print('\\n')\n",
        "print(cities[['Rome', 'Milan', 'Naples']] + cities[['Venice', 'Naples']])"
      ],
      "execution_count": 15,
      "outputs": [
        {
          "output_type": "stream",
          "text": [
            "Rome      1400.0\n",
            "Milan     1000.0\n",
            "Naples     750.0\n",
            "dtype: float64\n",
            "\n",
            "\n",
            "Brescia     750.0\n",
            "Milan      1000.0\n",
            "dtype: float64\n",
            "\n",
            "\n",
            "Milan        NaN\n",
            "Naples    1500.0\n",
            "Rome         NaN\n",
            "Venice       NaN\n",
            "dtype: float64\n"
          ],
          "name": "stdout"
        }
      ]
    },
    {
      "cell_type": "markdown",
      "metadata": {
        "id": "Qbw8o8YjEN4j"
      },
      "source": [
        "Notice that because Milan, Venice, and Rome were not found in both Series, they were returned with NULL/NaN values.\n",
        "\n",
        "NULL checking can be performed with isnull and notnull."
      ]
    },
    {
      "cell_type": "code",
      "metadata": {
        "id": "QSPs5wOoEN4k",
        "colab": {
          "base_uri": "https://localhost:8080/"
        },
        "outputId": "8164480b-7031-4116-fc59-d130397fa41d"
      },
      "source": [
        "# returns a boolean series indicating which values aren't NULL\n",
        "cities.notnull()"
      ],
      "execution_count": 16,
      "outputs": [
        {
          "output_type": "execute_result",
          "data": {
            "text/plain": [
              "Milan       True\n",
              "Rome        True\n",
              "Naples      True\n",
              "Venice      True\n",
              "Brescia     True\n",
              "Trieste    False\n",
              "dtype: bool"
            ]
          },
          "metadata": {
            "tags": []
          },
          "execution_count": 16
        }
      ]
    },
    {
      "cell_type": "code",
      "metadata": {
        "id": "BSbKEPIUEN4t",
        "colab": {
          "base_uri": "https://localhost:8080/"
        },
        "outputId": "c5ab5cfb-b01d-47f4-e8d5-ecb25d964afd"
      },
      "source": [
        "# use boolean logic to grab the NULL cities\n",
        "print(cities.isnull())\n",
        "print('\\n')\n",
        "print(cities[cities.isnull()])"
      ],
      "execution_count": 17,
      "outputs": [
        {
          "output_type": "stream",
          "text": [
            "Milan      False\n",
            "Rome       False\n",
            "Naples     False\n",
            "Venice     False\n",
            "Brescia    False\n",
            "Trieste     True\n",
            "dtype: bool\n",
            "\n",
            "\n",
            "Trieste   NaN\n",
            "dtype: float64\n"
          ],
          "name": "stdout"
        }
      ]
    },
    {
      "cell_type": "markdown",
      "metadata": {
        "id": "rxKMdWxKEN40"
      },
      "source": [
        "## DataFrame\n",
        "A `DataFrame` is a tablular data structure comprised of rows and columns, akin to a spreadsheet, database table, or R's data.frame object. You can also think of a `DataFrame` as a group of `Series` objects that share an index (the column names).\n",
        "\n",
        "For the rest of the tutorial, we'll be primarily working with `DataFrames`.\n",
        "\n",
        "### Reading Data\n",
        "To create a `DataFrame` out of common Python data structures, we can pass a dictionary of lists to the `DataFrame` constructor."
      ]
    },
    {
      "cell_type": "code",
      "metadata": {
        "id": "dSNSmh6XEN40",
        "colab": {
          "base_uri": "https://localhost:8080/",
          "height": 297
        },
        "outputId": "fbcfd1df-691e-4170-c9de-7c6b599f6ffa"
      },
      "source": [
        "data = {'anno': [2009, 2010, 2011, 2012, 2013, 2014, 2015, 2016],\n",
        "        'v1': [1524, 1607, 1793, 1751, 1629, 1563, 1564, 1415],\n",
        "        'v2': [964, 1130, 1168, 1031, 1077, 1114, 1092, 1018]}\n",
        "myData = pd.DataFrame(data)\n",
        "myData"
      ],
      "execution_count": 18,
      "outputs": [
        {
          "output_type": "execute_result",
          "data": {
            "text/html": [
              "<div>\n",
              "<style scoped>\n",
              "    .dataframe tbody tr th:only-of-type {\n",
              "        vertical-align: middle;\n",
              "    }\n",
              "\n",
              "    .dataframe tbody tr th {\n",
              "        vertical-align: top;\n",
              "    }\n",
              "\n",
              "    .dataframe thead th {\n",
              "        text-align: right;\n",
              "    }\n",
              "</style>\n",
              "<table border=\"1\" class=\"dataframe\">\n",
              "  <thead>\n",
              "    <tr style=\"text-align: right;\">\n",
              "      <th></th>\n",
              "      <th>anno</th>\n",
              "      <th>v1</th>\n",
              "      <th>v2</th>\n",
              "    </tr>\n",
              "  </thead>\n",
              "  <tbody>\n",
              "    <tr>\n",
              "      <th>0</th>\n",
              "      <td>2009</td>\n",
              "      <td>1524</td>\n",
              "      <td>964</td>\n",
              "    </tr>\n",
              "    <tr>\n",
              "      <th>1</th>\n",
              "      <td>2010</td>\n",
              "      <td>1607</td>\n",
              "      <td>1130</td>\n",
              "    </tr>\n",
              "    <tr>\n",
              "      <th>2</th>\n",
              "      <td>2011</td>\n",
              "      <td>1793</td>\n",
              "      <td>1168</td>\n",
              "    </tr>\n",
              "    <tr>\n",
              "      <th>3</th>\n",
              "      <td>2012</td>\n",
              "      <td>1751</td>\n",
              "      <td>1031</td>\n",
              "    </tr>\n",
              "    <tr>\n",
              "      <th>4</th>\n",
              "      <td>2013</td>\n",
              "      <td>1629</td>\n",
              "      <td>1077</td>\n",
              "    </tr>\n",
              "    <tr>\n",
              "      <th>5</th>\n",
              "      <td>2014</td>\n",
              "      <td>1563</td>\n",
              "      <td>1114</td>\n",
              "    </tr>\n",
              "    <tr>\n",
              "      <th>6</th>\n",
              "      <td>2015</td>\n",
              "      <td>1564</td>\n",
              "      <td>1092</td>\n",
              "    </tr>\n",
              "    <tr>\n",
              "      <th>7</th>\n",
              "      <td>2016</td>\n",
              "      <td>1415</td>\n",
              "      <td>1018</td>\n",
              "    </tr>\n",
              "  </tbody>\n",
              "</table>\n",
              "</div>"
            ],
            "text/plain": [
              "   anno    v1    v2\n",
              "0  2009  1524   964\n",
              "1  2010  1607  1130\n",
              "2  2011  1793  1168\n",
              "3  2012  1751  1031\n",
              "4  2013  1629  1077\n",
              "5  2014  1563  1114\n",
              "6  2015  1564  1092\n",
              "7  2016  1415  1018"
            ]
          },
          "metadata": {
            "tags": []
          },
          "execution_count": 18
        }
      ]
    },
    {
      "cell_type": "markdown",
      "metadata": {
        "id": "DczTmEhLEN46"
      },
      "source": [
        "You can create index from any column"
      ]
    },
    {
      "cell_type": "code",
      "metadata": {
        "id": "Hn-4N3R9EN46",
        "colab": {
          "base_uri": "https://localhost:8080/",
          "height": 328
        },
        "outputId": "e566947a-fce7-4f48-be08-03cd2d662948"
      },
      "source": [
        "r = myData.set_index('anno')\n",
        "r"
      ],
      "execution_count": 19,
      "outputs": [
        {
          "output_type": "execute_result",
          "data": {
            "text/html": [
              "<div>\n",
              "<style scoped>\n",
              "    .dataframe tbody tr th:only-of-type {\n",
              "        vertical-align: middle;\n",
              "    }\n",
              "\n",
              "    .dataframe tbody tr th {\n",
              "        vertical-align: top;\n",
              "    }\n",
              "\n",
              "    .dataframe thead th {\n",
              "        text-align: right;\n",
              "    }\n",
              "</style>\n",
              "<table border=\"1\" class=\"dataframe\">\n",
              "  <thead>\n",
              "    <tr style=\"text-align: right;\">\n",
              "      <th></th>\n",
              "      <th>v1</th>\n",
              "      <th>v2</th>\n",
              "    </tr>\n",
              "    <tr>\n",
              "      <th>anno</th>\n",
              "      <th></th>\n",
              "      <th></th>\n",
              "    </tr>\n",
              "  </thead>\n",
              "  <tbody>\n",
              "    <tr>\n",
              "      <th>2009</th>\n",
              "      <td>1524</td>\n",
              "      <td>964</td>\n",
              "    </tr>\n",
              "    <tr>\n",
              "      <th>2010</th>\n",
              "      <td>1607</td>\n",
              "      <td>1130</td>\n",
              "    </tr>\n",
              "    <tr>\n",
              "      <th>2011</th>\n",
              "      <td>1793</td>\n",
              "      <td>1168</td>\n",
              "    </tr>\n",
              "    <tr>\n",
              "      <th>2012</th>\n",
              "      <td>1751</td>\n",
              "      <td>1031</td>\n",
              "    </tr>\n",
              "    <tr>\n",
              "      <th>2013</th>\n",
              "      <td>1629</td>\n",
              "      <td>1077</td>\n",
              "    </tr>\n",
              "    <tr>\n",
              "      <th>2014</th>\n",
              "      <td>1563</td>\n",
              "      <td>1114</td>\n",
              "    </tr>\n",
              "    <tr>\n",
              "      <th>2015</th>\n",
              "      <td>1564</td>\n",
              "      <td>1092</td>\n",
              "    </tr>\n",
              "    <tr>\n",
              "      <th>2016</th>\n",
              "      <td>1415</td>\n",
              "      <td>1018</td>\n",
              "    </tr>\n",
              "  </tbody>\n",
              "</table>\n",
              "</div>"
            ],
            "text/plain": [
              "        v1    v2\n",
              "anno            \n",
              "2009  1524   964\n",
              "2010  1607  1130\n",
              "2011  1793  1168\n",
              "2012  1751  1031\n",
              "2013  1629  1077\n",
              "2014  1563  1114\n",
              "2015  1564  1092\n",
              "2016  1415  1018"
            ]
          },
          "metadata": {
            "tags": []
          },
          "execution_count": 19
        }
      ]
    },
    {
      "cell_type": "markdown",
      "metadata": {
        "id": "yZqUPp2jEN5C"
      },
      "source": [
        "This allows you to easily access data based on 'anno'."
      ]
    },
    {
      "cell_type": "code",
      "metadata": {
        "id": "9EjzNEGOEN5D",
        "colab": {
          "base_uri": "https://localhost:8080/"
        },
        "outputId": "e638f74e-b3a8-44a8-f7a2-999a17c538f1"
      },
      "source": [
        "r.loc[2013]"
      ],
      "execution_count": 20,
      "outputs": [
        {
          "output_type": "execute_result",
          "data": {
            "text/plain": [
              "v1    1629\n",
              "v2    1077\n",
              "Name: 2013, dtype: int64"
            ]
          },
          "metadata": {
            "tags": []
          },
          "execution_count": 20
        }
      ]
    },
    {
      "cell_type": "markdown",
      "metadata": {
        "id": "GTiYu8akEN5K"
      },
      "source": [
        "The new values could be calculated and assigned to new column"
      ]
    },
    {
      "cell_type": "code",
      "metadata": {
        "id": "S6Hod17uEN5N",
        "colab": {
          "base_uri": "https://localhost:8080/",
          "height": 297
        },
        "outputId": "3f252967-f1fb-49e5-e40a-d321b54f1574"
      },
      "source": [
        "myData['v3'] = myData['v2'] / myData['v1']\n",
        "myData"
      ],
      "execution_count": 21,
      "outputs": [
        {
          "output_type": "execute_result",
          "data": {
            "text/html": [
              "<div>\n",
              "<style scoped>\n",
              "    .dataframe tbody tr th:only-of-type {\n",
              "        vertical-align: middle;\n",
              "    }\n",
              "\n",
              "    .dataframe tbody tr th {\n",
              "        vertical-align: top;\n",
              "    }\n",
              "\n",
              "    .dataframe thead th {\n",
              "        text-align: right;\n",
              "    }\n",
              "</style>\n",
              "<table border=\"1\" class=\"dataframe\">\n",
              "  <thead>\n",
              "    <tr style=\"text-align: right;\">\n",
              "      <th></th>\n",
              "      <th>anno</th>\n",
              "      <th>v1</th>\n",
              "      <th>v2</th>\n",
              "      <th>v3</th>\n",
              "    </tr>\n",
              "  </thead>\n",
              "  <tbody>\n",
              "    <tr>\n",
              "      <th>0</th>\n",
              "      <td>2009</td>\n",
              "      <td>1524</td>\n",
              "      <td>964</td>\n",
              "      <td>0.632546</td>\n",
              "    </tr>\n",
              "    <tr>\n",
              "      <th>1</th>\n",
              "      <td>2010</td>\n",
              "      <td>1607</td>\n",
              "      <td>1130</td>\n",
              "      <td>0.703174</td>\n",
              "    </tr>\n",
              "    <tr>\n",
              "      <th>2</th>\n",
              "      <td>2011</td>\n",
              "      <td>1793</td>\n",
              "      <td>1168</td>\n",
              "      <td>0.651422</td>\n",
              "    </tr>\n",
              "    <tr>\n",
              "      <th>3</th>\n",
              "      <td>2012</td>\n",
              "      <td>1751</td>\n",
              "      <td>1031</td>\n",
              "      <td>0.588806</td>\n",
              "    </tr>\n",
              "    <tr>\n",
              "      <th>4</th>\n",
              "      <td>2013</td>\n",
              "      <td>1629</td>\n",
              "      <td>1077</td>\n",
              "      <td>0.661142</td>\n",
              "    </tr>\n",
              "    <tr>\n",
              "      <th>5</th>\n",
              "      <td>2014</td>\n",
              "      <td>1563</td>\n",
              "      <td>1114</td>\n",
              "      <td>0.712732</td>\n",
              "    </tr>\n",
              "    <tr>\n",
              "      <th>6</th>\n",
              "      <td>2015</td>\n",
              "      <td>1564</td>\n",
              "      <td>1092</td>\n",
              "      <td>0.698210</td>\n",
              "    </tr>\n",
              "    <tr>\n",
              "      <th>7</th>\n",
              "      <td>2016</td>\n",
              "      <td>1415</td>\n",
              "      <td>1018</td>\n",
              "      <td>0.719435</td>\n",
              "    </tr>\n",
              "  </tbody>\n",
              "</table>\n",
              "</div>"
            ],
            "text/plain": [
              "   anno    v1    v2        v3\n",
              "0  2009  1524   964  0.632546\n",
              "1  2010  1607  1130  0.703174\n",
              "2  2011  1793  1168  0.651422\n",
              "3  2012  1751  1031  0.588806\n",
              "4  2013  1629  1077  0.661142\n",
              "5  2014  1563  1114  0.712732\n",
              "6  2015  1564  1092  0.698210\n",
              "7  2016  1415  1018  0.719435"
            ]
          },
          "metadata": {
            "tags": []
          },
          "execution_count": 21
        }
      ]
    },
    {
      "cell_type": "markdown",
      "metadata": {
        "id": "ArcmN9E2EN5Z"
      },
      "source": [
        "Would you like to change formatting style? You can do it."
      ]
    },
    {
      "cell_type": "code",
      "metadata": {
        "id": "Z6HUAtziEN5a",
        "colab": {
          "base_uri": "https://localhost:8080/",
          "height": 229
        },
        "outputId": "249d12e1-29f6-48e5-e48b-95737fcd05f7"
      },
      "source": [
        "myData.set_index('anno').style.format({\n",
        "    'v1': '{:,d}'.format,\n",
        "    'v2': '{:,d}'.format,\n",
        "    'v3': '{:.2%}'.format,\n",
        "})"
      ],
      "execution_count": 22,
      "outputs": [
        {
          "output_type": "execute_result",
          "data": {
            "text/html": [
              "<style  type=\"text/css\" >\n",
              "</style><table id=\"T_4a7c4f98_8d90_11eb_8bef_0242ac1c0002\" ><thead>    <tr>        <th class=\"blank level0\" ></th>        <th class=\"col_heading level0 col0\" >v1</th>        <th class=\"col_heading level0 col1\" >v2</th>        <th class=\"col_heading level0 col2\" >v3</th>    </tr>    <tr>        <th class=\"index_name level0\" >anno</th>        <th class=\"blank\" ></th>        <th class=\"blank\" ></th>        <th class=\"blank\" ></th>    </tr></thead><tbody>\n",
              "                <tr>\n",
              "                        <th id=\"T_4a7c4f98_8d90_11eb_8bef_0242ac1c0002level0_row0\" class=\"row_heading level0 row0\" >2009</th>\n",
              "                        <td id=\"T_4a7c4f98_8d90_11eb_8bef_0242ac1c0002row0_col0\" class=\"data row0 col0\" >1,524</td>\n",
              "                        <td id=\"T_4a7c4f98_8d90_11eb_8bef_0242ac1c0002row0_col1\" class=\"data row0 col1\" >964</td>\n",
              "                        <td id=\"T_4a7c4f98_8d90_11eb_8bef_0242ac1c0002row0_col2\" class=\"data row0 col2\" >63.25%</td>\n",
              "            </tr>\n",
              "            <tr>\n",
              "                        <th id=\"T_4a7c4f98_8d90_11eb_8bef_0242ac1c0002level0_row1\" class=\"row_heading level0 row1\" >2010</th>\n",
              "                        <td id=\"T_4a7c4f98_8d90_11eb_8bef_0242ac1c0002row1_col0\" class=\"data row1 col0\" >1,607</td>\n",
              "                        <td id=\"T_4a7c4f98_8d90_11eb_8bef_0242ac1c0002row1_col1\" class=\"data row1 col1\" >1,130</td>\n",
              "                        <td id=\"T_4a7c4f98_8d90_11eb_8bef_0242ac1c0002row1_col2\" class=\"data row1 col2\" >70.32%</td>\n",
              "            </tr>\n",
              "            <tr>\n",
              "                        <th id=\"T_4a7c4f98_8d90_11eb_8bef_0242ac1c0002level0_row2\" class=\"row_heading level0 row2\" >2011</th>\n",
              "                        <td id=\"T_4a7c4f98_8d90_11eb_8bef_0242ac1c0002row2_col0\" class=\"data row2 col0\" >1,793</td>\n",
              "                        <td id=\"T_4a7c4f98_8d90_11eb_8bef_0242ac1c0002row2_col1\" class=\"data row2 col1\" >1,168</td>\n",
              "                        <td id=\"T_4a7c4f98_8d90_11eb_8bef_0242ac1c0002row2_col2\" class=\"data row2 col2\" >65.14%</td>\n",
              "            </tr>\n",
              "            <tr>\n",
              "                        <th id=\"T_4a7c4f98_8d90_11eb_8bef_0242ac1c0002level0_row3\" class=\"row_heading level0 row3\" >2012</th>\n",
              "                        <td id=\"T_4a7c4f98_8d90_11eb_8bef_0242ac1c0002row3_col0\" class=\"data row3 col0\" >1,751</td>\n",
              "                        <td id=\"T_4a7c4f98_8d90_11eb_8bef_0242ac1c0002row3_col1\" class=\"data row3 col1\" >1,031</td>\n",
              "                        <td id=\"T_4a7c4f98_8d90_11eb_8bef_0242ac1c0002row3_col2\" class=\"data row3 col2\" >58.88%</td>\n",
              "            </tr>\n",
              "            <tr>\n",
              "                        <th id=\"T_4a7c4f98_8d90_11eb_8bef_0242ac1c0002level0_row4\" class=\"row_heading level0 row4\" >2013</th>\n",
              "                        <td id=\"T_4a7c4f98_8d90_11eb_8bef_0242ac1c0002row4_col0\" class=\"data row4 col0\" >1,629</td>\n",
              "                        <td id=\"T_4a7c4f98_8d90_11eb_8bef_0242ac1c0002row4_col1\" class=\"data row4 col1\" >1,077</td>\n",
              "                        <td id=\"T_4a7c4f98_8d90_11eb_8bef_0242ac1c0002row4_col2\" class=\"data row4 col2\" >66.11%</td>\n",
              "            </tr>\n",
              "            <tr>\n",
              "                        <th id=\"T_4a7c4f98_8d90_11eb_8bef_0242ac1c0002level0_row5\" class=\"row_heading level0 row5\" >2014</th>\n",
              "                        <td id=\"T_4a7c4f98_8d90_11eb_8bef_0242ac1c0002row5_col0\" class=\"data row5 col0\" >1,563</td>\n",
              "                        <td id=\"T_4a7c4f98_8d90_11eb_8bef_0242ac1c0002row5_col1\" class=\"data row5 col1\" >1,114</td>\n",
              "                        <td id=\"T_4a7c4f98_8d90_11eb_8bef_0242ac1c0002row5_col2\" class=\"data row5 col2\" >71.27%</td>\n",
              "            </tr>\n",
              "            <tr>\n",
              "                        <th id=\"T_4a7c4f98_8d90_11eb_8bef_0242ac1c0002level0_row6\" class=\"row_heading level0 row6\" >2015</th>\n",
              "                        <td id=\"T_4a7c4f98_8d90_11eb_8bef_0242ac1c0002row6_col0\" class=\"data row6 col0\" >1,564</td>\n",
              "                        <td id=\"T_4a7c4f98_8d90_11eb_8bef_0242ac1c0002row6_col1\" class=\"data row6 col1\" >1,092</td>\n",
              "                        <td id=\"T_4a7c4f98_8d90_11eb_8bef_0242ac1c0002row6_col2\" class=\"data row6 col2\" >69.82%</td>\n",
              "            </tr>\n",
              "            <tr>\n",
              "                        <th id=\"T_4a7c4f98_8d90_11eb_8bef_0242ac1c0002level0_row7\" class=\"row_heading level0 row7\" >2016</th>\n",
              "                        <td id=\"T_4a7c4f98_8d90_11eb_8bef_0242ac1c0002row7_col0\" class=\"data row7 col0\" >1,415</td>\n",
              "                        <td id=\"T_4a7c4f98_8d90_11eb_8bef_0242ac1c0002row7_col1\" class=\"data row7 col1\" >1,018</td>\n",
              "                        <td id=\"T_4a7c4f98_8d90_11eb_8bef_0242ac1c0002row7_col2\" class=\"data row7 col2\" >71.94%</td>\n",
              "            </tr>\n",
              "    </tbody></table>"
            ],
            "text/plain": [
              "<pandas.io.formats.style.Styler at 0x7efe4751ff10>"
            ]
          },
          "metadata": {
            "tags": []
          },
          "execution_count": 22
        }
      ]
    },
    {
      "cell_type": "markdown",
      "metadata": {
        "id": "PZIt8MzTEN5f"
      },
      "source": [
        "Much more often, you'll have a dataset you want to read into a DataFrame. Let's go through several common ways of doing so.\n",
        "\n",
        "### CSV\n",
        "\n",
        "Reading a CSV is as simple as calling the read_csv function. By default, the read_csv function expects the column separator to be a comma, but you can change that using the sep parameter."
      ]
    },
    {
      "cell_type": "code",
      "metadata": {
        "id": "YV1M9-QsEN5g"
      },
      "source": [
        "# Source: baseball-reference.com/players/r/riverma01.shtml\n",
        "# !head -n 5 titanic.csv"
      ],
      "execution_count": 23,
      "outputs": []
    },
    {
      "cell_type": "markdown",
      "metadata": {
        "id": "ARLXU2npEN5l"
      },
      "source": [
        "### Demonstation of pandas on Titanic dataset"
      ]
    },
    {
      "cell_type": "code",
      "metadata": {
        "id": "Jkxc8n7oEN5l"
      },
      "source": [
        "df = pd.read_csv('https://raw.githubusercontent.com/serivan/mldmlab/master/Datasets/titanic.csv')"
      ],
      "execution_count": 24,
      "outputs": []
    },
    {
      "cell_type": "markdown",
      "metadata": {
        "id": "ff0zOS48EN5q"
      },
      "source": [
        "`pandas` various reader functions have many parameters allowing you to do things like skipping lines of the file, parsing dates, or specifying how to handle NA/NULL datapoints.\n",
        "\n",
        "There's also a set of writer functions for writing to a variety of formats (CSVs, HTML tables, JSON). They function exactly as you'd expect and are typically called to_format:\n",
        "\n",
        "    my_dataframe.to_csv('path_to_file.csv')\n",
        "\n",
        "Take a look at [the IO documentation](https://pandas.pydata.org/pandas-docs/stable/user_guide/io.html) to familiarize yourself with file reading/writing functionality.\n",
        "\n",
        "### Excel\n",
        "\n",
        "Know who hates VBA? Me. I bet you do, too. Thankfully, pandas allows you to read and write Excel files, so you can easily read from Excel, write your code in Python, and then write back out to Excel - no need for VBA. Check [`read_excel()`](https://pandas.pydata.org/pandas-docs/stable/user_guide/io.html#io-excel-reader) method."
      ]
    },
    {
      "cell_type": "markdown",
      "metadata": {
        "id": "YeYJLHJYEN5w"
      },
      "source": [
        "### Working with DataFrames\n",
        "\n",
        "Now that we can get data into a DataFrame, we can finally start working with them. **pandas** has an abundance of functionality, far too much for me to cover in this introduction. I'd encourage anyone interested in diving deeper into the library to check out its [excellent documentation](http://pandas.pydata.org/pandas-docs/stable/). Or just use Google - there are a lot of Stack Overflow questions and blog posts covering specifics of the library.\n",
        "\n",
        "So back to our titanic dataset. Get some information about it.\n",
        "\n",
        "### Inspection\n",
        "**pandas** has a variety of functions for getting basic information about your DataFrame, the most basic of which is using the info method."
      ]
    },
    {
      "cell_type": "code",
      "metadata": {
        "id": "qKEuG4L_EN5x",
        "colab": {
          "base_uri": "https://localhost:8080/"
        },
        "outputId": "6c40a296-6797-4f6d-ae7c-27d0363bee92"
      },
      "source": [
        "df.info()"
      ],
      "execution_count": 25,
      "outputs": [
        {
          "output_type": "stream",
          "text": [
            "<class 'pandas.core.frame.DataFrame'>\n",
            "RangeIndex: 891 entries, 0 to 890\n",
            "Data columns (total 15 columns):\n",
            " #   Column       Non-Null Count  Dtype  \n",
            "---  ------       --------------  -----  \n",
            " 0   survived     891 non-null    int64  \n",
            " 1   pclass       891 non-null    int64  \n",
            " 2   sex          891 non-null    object \n",
            " 3   age          714 non-null    float64\n",
            " 4   sibsp        891 non-null    int64  \n",
            " 5   parch        891 non-null    int64  \n",
            " 6   fare         891 non-null    float64\n",
            " 7   embarked     889 non-null    object \n",
            " 8   class        891 non-null    object \n",
            " 9   who          891 non-null    object \n",
            " 10  adult_male   891 non-null    bool   \n",
            " 11  deck         203 non-null    object \n",
            " 12  embark_town  889 non-null    object \n",
            " 13  alive        891 non-null    object \n",
            " 14  alone        891 non-null    bool   \n",
            "dtypes: bool(2), float64(2), int64(4), object(7)\n",
            "memory usage: 92.4+ KB\n"
          ],
          "name": "stdout"
        }
      ]
    },
    {
      "cell_type": "markdown",
      "metadata": {
        "id": "dwHJzmRZEN51"
      },
      "source": [
        "The output tells a few things about our DataFrame.\n",
        "\n",
        " - It's obviously an instance of a DataFrame.\n",
        " - Each row was assigned an index of 0 to N-1, where N is the number of rows in the DataFrame. pandas will do this by default if an index is not specified. Don't worry, this can be changed later.\n",
        " - There are 891 rows (every row must have an index).\n",
        " - Our dataset has 15 columns, where few has missing some values (age, embarked, deck and embark_town).\n",
        " - The last datatypes of each column, but not necessarily in the corresponding order to the listed columns. You should use the dtypes method to get the datatype for each column.\n",
        " - An approximate amount of RAM used to hold the DataFrame. See the .memory_usage method"
      ]
    },
    {
      "cell_type": "markdown",
      "metadata": {
        "id": "Tpf7CD0TEN52"
      },
      "source": [
        "DataFrame's also have a describe method, which is great for seeing basic statistics about the dataset's numeric columns. Be careful though, since this will return information on all columns of a numeric datatype."
      ]
    },
    {
      "cell_type": "code",
      "metadata": {
        "scrolled": true,
        "id": "CDv64zDcEN53",
        "colab": {
          "base_uri": "https://localhost:8080/",
          "height": 297
        },
        "outputId": "e38e3308-2a23-4835-8f51-05c32afe996f"
      },
      "source": [
        "df.describe()"
      ],
      "execution_count": 26,
      "outputs": [
        {
          "output_type": "execute_result",
          "data": {
            "text/html": [
              "<div>\n",
              "<style scoped>\n",
              "    .dataframe tbody tr th:only-of-type {\n",
              "        vertical-align: middle;\n",
              "    }\n",
              "\n",
              "    .dataframe tbody tr th {\n",
              "        vertical-align: top;\n",
              "    }\n",
              "\n",
              "    .dataframe thead th {\n",
              "        text-align: right;\n",
              "    }\n",
              "</style>\n",
              "<table border=\"1\" class=\"dataframe\">\n",
              "  <thead>\n",
              "    <tr style=\"text-align: right;\">\n",
              "      <th></th>\n",
              "      <th>survived</th>\n",
              "      <th>pclass</th>\n",
              "      <th>age</th>\n",
              "      <th>sibsp</th>\n",
              "      <th>parch</th>\n",
              "      <th>fare</th>\n",
              "    </tr>\n",
              "  </thead>\n",
              "  <tbody>\n",
              "    <tr>\n",
              "      <th>count</th>\n",
              "      <td>891.000000</td>\n",
              "      <td>891.000000</td>\n",
              "      <td>714.000000</td>\n",
              "      <td>891.000000</td>\n",
              "      <td>891.000000</td>\n",
              "      <td>891.000000</td>\n",
              "    </tr>\n",
              "    <tr>\n",
              "      <th>mean</th>\n",
              "      <td>0.383838</td>\n",
              "      <td>2.308642</td>\n",
              "      <td>29.699118</td>\n",
              "      <td>0.523008</td>\n",
              "      <td>0.381594</td>\n",
              "      <td>32.204208</td>\n",
              "    </tr>\n",
              "    <tr>\n",
              "      <th>std</th>\n",
              "      <td>0.486592</td>\n",
              "      <td>0.836071</td>\n",
              "      <td>14.526497</td>\n",
              "      <td>1.102743</td>\n",
              "      <td>0.806057</td>\n",
              "      <td>49.693429</td>\n",
              "    </tr>\n",
              "    <tr>\n",
              "      <th>min</th>\n",
              "      <td>0.000000</td>\n",
              "      <td>1.000000</td>\n",
              "      <td>0.420000</td>\n",
              "      <td>0.000000</td>\n",
              "      <td>0.000000</td>\n",
              "      <td>0.000000</td>\n",
              "    </tr>\n",
              "    <tr>\n",
              "      <th>25%</th>\n",
              "      <td>0.000000</td>\n",
              "      <td>2.000000</td>\n",
              "      <td>20.125000</td>\n",
              "      <td>0.000000</td>\n",
              "      <td>0.000000</td>\n",
              "      <td>7.910400</td>\n",
              "    </tr>\n",
              "    <tr>\n",
              "      <th>50%</th>\n",
              "      <td>0.000000</td>\n",
              "      <td>3.000000</td>\n",
              "      <td>28.000000</td>\n",
              "      <td>0.000000</td>\n",
              "      <td>0.000000</td>\n",
              "      <td>14.454200</td>\n",
              "    </tr>\n",
              "    <tr>\n",
              "      <th>75%</th>\n",
              "      <td>1.000000</td>\n",
              "      <td>3.000000</td>\n",
              "      <td>38.000000</td>\n",
              "      <td>1.000000</td>\n",
              "      <td>0.000000</td>\n",
              "      <td>31.000000</td>\n",
              "    </tr>\n",
              "    <tr>\n",
              "      <th>max</th>\n",
              "      <td>1.000000</td>\n",
              "      <td>3.000000</td>\n",
              "      <td>80.000000</td>\n",
              "      <td>8.000000</td>\n",
              "      <td>6.000000</td>\n",
              "      <td>512.329200</td>\n",
              "    </tr>\n",
              "  </tbody>\n",
              "</table>\n",
              "</div>"
            ],
            "text/plain": [
              "         survived      pclass         age       sibsp       parch        fare\n",
              "count  891.000000  891.000000  714.000000  891.000000  891.000000  891.000000\n",
              "mean     0.383838    2.308642   29.699118    0.523008    0.381594   32.204208\n",
              "std      0.486592    0.836071   14.526497    1.102743    0.806057   49.693429\n",
              "min      0.000000    1.000000    0.420000    0.000000    0.000000    0.000000\n",
              "25%      0.000000    2.000000   20.125000    0.000000    0.000000    7.910400\n",
              "50%      0.000000    3.000000   28.000000    0.000000    0.000000   14.454200\n",
              "75%      1.000000    3.000000   38.000000    1.000000    0.000000   31.000000\n",
              "max      1.000000    3.000000   80.000000    8.000000    6.000000  512.329200"
            ]
          },
          "metadata": {
            "tags": []
          },
          "execution_count": 26
        }
      ]
    },
    {
      "cell_type": "markdown",
      "metadata": {
        "id": "WWEp4sK-EN59"
      },
      "source": [
        "You will notice that I've used the head method regularly throughout this lecture - by default, head displays the first five records of the dataset, while tail displays the last five."
      ]
    },
    {
      "cell_type": "code",
      "metadata": {
        "scrolled": true,
        "id": "3yI8DcohEN5-",
        "colab": {
          "base_uri": "https://localhost:8080/",
          "height": 204
        },
        "outputId": "a862e1b5-baaa-4243-9299-24dbaed51014"
      },
      "source": [
        "df.head()"
      ],
      "execution_count": 27,
      "outputs": [
        {
          "output_type": "execute_result",
          "data": {
            "text/html": [
              "<div>\n",
              "<style scoped>\n",
              "    .dataframe tbody tr th:only-of-type {\n",
              "        vertical-align: middle;\n",
              "    }\n",
              "\n",
              "    .dataframe tbody tr th {\n",
              "        vertical-align: top;\n",
              "    }\n",
              "\n",
              "    .dataframe thead th {\n",
              "        text-align: right;\n",
              "    }\n",
              "</style>\n",
              "<table border=\"1\" class=\"dataframe\">\n",
              "  <thead>\n",
              "    <tr style=\"text-align: right;\">\n",
              "      <th></th>\n",
              "      <th>survived</th>\n",
              "      <th>pclass</th>\n",
              "      <th>sex</th>\n",
              "      <th>age</th>\n",
              "      <th>sibsp</th>\n",
              "      <th>parch</th>\n",
              "      <th>fare</th>\n",
              "      <th>embarked</th>\n",
              "      <th>class</th>\n",
              "      <th>who</th>\n",
              "      <th>adult_male</th>\n",
              "      <th>deck</th>\n",
              "      <th>embark_town</th>\n",
              "      <th>alive</th>\n",
              "      <th>alone</th>\n",
              "    </tr>\n",
              "  </thead>\n",
              "  <tbody>\n",
              "    <tr>\n",
              "      <th>0</th>\n",
              "      <td>0</td>\n",
              "      <td>3</td>\n",
              "      <td>male</td>\n",
              "      <td>22.0</td>\n",
              "      <td>1</td>\n",
              "      <td>0</td>\n",
              "      <td>7.2500</td>\n",
              "      <td>S</td>\n",
              "      <td>Third</td>\n",
              "      <td>man</td>\n",
              "      <td>True</td>\n",
              "      <td>NaN</td>\n",
              "      <td>Southampton</td>\n",
              "      <td>no</td>\n",
              "      <td>False</td>\n",
              "    </tr>\n",
              "    <tr>\n",
              "      <th>1</th>\n",
              "      <td>1</td>\n",
              "      <td>1</td>\n",
              "      <td>female</td>\n",
              "      <td>38.0</td>\n",
              "      <td>1</td>\n",
              "      <td>0</td>\n",
              "      <td>71.2833</td>\n",
              "      <td>C</td>\n",
              "      <td>First</td>\n",
              "      <td>woman</td>\n",
              "      <td>False</td>\n",
              "      <td>C</td>\n",
              "      <td>Cherbourg</td>\n",
              "      <td>yes</td>\n",
              "      <td>False</td>\n",
              "    </tr>\n",
              "    <tr>\n",
              "      <th>2</th>\n",
              "      <td>1</td>\n",
              "      <td>3</td>\n",
              "      <td>female</td>\n",
              "      <td>26.0</td>\n",
              "      <td>0</td>\n",
              "      <td>0</td>\n",
              "      <td>7.9250</td>\n",
              "      <td>S</td>\n",
              "      <td>Third</td>\n",
              "      <td>woman</td>\n",
              "      <td>False</td>\n",
              "      <td>NaN</td>\n",
              "      <td>Southampton</td>\n",
              "      <td>yes</td>\n",
              "      <td>True</td>\n",
              "    </tr>\n",
              "    <tr>\n",
              "      <th>3</th>\n",
              "      <td>1</td>\n",
              "      <td>1</td>\n",
              "      <td>female</td>\n",
              "      <td>35.0</td>\n",
              "      <td>1</td>\n",
              "      <td>0</td>\n",
              "      <td>53.1000</td>\n",
              "      <td>S</td>\n",
              "      <td>First</td>\n",
              "      <td>woman</td>\n",
              "      <td>False</td>\n",
              "      <td>C</td>\n",
              "      <td>Southampton</td>\n",
              "      <td>yes</td>\n",
              "      <td>False</td>\n",
              "    </tr>\n",
              "    <tr>\n",
              "      <th>4</th>\n",
              "      <td>0</td>\n",
              "      <td>3</td>\n",
              "      <td>male</td>\n",
              "      <td>35.0</td>\n",
              "      <td>0</td>\n",
              "      <td>0</td>\n",
              "      <td>8.0500</td>\n",
              "      <td>S</td>\n",
              "      <td>Third</td>\n",
              "      <td>man</td>\n",
              "      <td>True</td>\n",
              "      <td>NaN</td>\n",
              "      <td>Southampton</td>\n",
              "      <td>no</td>\n",
              "      <td>True</td>\n",
              "    </tr>\n",
              "  </tbody>\n",
              "</table>\n",
              "</div>"
            ],
            "text/plain": [
              "   survived  pclass     sex   age  ...  deck  embark_town  alive  alone\n",
              "0         0       3    male  22.0  ...   NaN  Southampton     no  False\n",
              "1         1       1  female  38.0  ...     C    Cherbourg    yes  False\n",
              "2         1       3  female  26.0  ...   NaN  Southampton    yes   True\n",
              "3         1       1  female  35.0  ...     C  Southampton    yes  False\n",
              "4         0       3    male  35.0  ...   NaN  Southampton     no   True\n",
              "\n",
              "[5 rows x 15 columns]"
            ]
          },
          "metadata": {
            "tags": []
          },
          "execution_count": 27
        }
      ]
    },
    {
      "cell_type": "code",
      "metadata": {
        "id": "ytcvReJyEN6D",
        "colab": {
          "base_uri": "https://localhost:8080/",
          "height": 204
        },
        "outputId": "7ea94481-4135-48aa-bc2e-0e31275ab896"
      },
      "source": [
        "df.tail()"
      ],
      "execution_count": 28,
      "outputs": [
        {
          "output_type": "execute_result",
          "data": {
            "text/html": [
              "<div>\n",
              "<style scoped>\n",
              "    .dataframe tbody tr th:only-of-type {\n",
              "        vertical-align: middle;\n",
              "    }\n",
              "\n",
              "    .dataframe tbody tr th {\n",
              "        vertical-align: top;\n",
              "    }\n",
              "\n",
              "    .dataframe thead th {\n",
              "        text-align: right;\n",
              "    }\n",
              "</style>\n",
              "<table border=\"1\" class=\"dataframe\">\n",
              "  <thead>\n",
              "    <tr style=\"text-align: right;\">\n",
              "      <th></th>\n",
              "      <th>survived</th>\n",
              "      <th>pclass</th>\n",
              "      <th>sex</th>\n",
              "      <th>age</th>\n",
              "      <th>sibsp</th>\n",
              "      <th>parch</th>\n",
              "      <th>fare</th>\n",
              "      <th>embarked</th>\n",
              "      <th>class</th>\n",
              "      <th>who</th>\n",
              "      <th>adult_male</th>\n",
              "      <th>deck</th>\n",
              "      <th>embark_town</th>\n",
              "      <th>alive</th>\n",
              "      <th>alone</th>\n",
              "    </tr>\n",
              "  </thead>\n",
              "  <tbody>\n",
              "    <tr>\n",
              "      <th>886</th>\n",
              "      <td>0</td>\n",
              "      <td>2</td>\n",
              "      <td>male</td>\n",
              "      <td>27.0</td>\n",
              "      <td>0</td>\n",
              "      <td>0</td>\n",
              "      <td>13.00</td>\n",
              "      <td>S</td>\n",
              "      <td>Second</td>\n",
              "      <td>man</td>\n",
              "      <td>True</td>\n",
              "      <td>NaN</td>\n",
              "      <td>Southampton</td>\n",
              "      <td>no</td>\n",
              "      <td>True</td>\n",
              "    </tr>\n",
              "    <tr>\n",
              "      <th>887</th>\n",
              "      <td>1</td>\n",
              "      <td>1</td>\n",
              "      <td>female</td>\n",
              "      <td>19.0</td>\n",
              "      <td>0</td>\n",
              "      <td>0</td>\n",
              "      <td>30.00</td>\n",
              "      <td>S</td>\n",
              "      <td>First</td>\n",
              "      <td>woman</td>\n",
              "      <td>False</td>\n",
              "      <td>B</td>\n",
              "      <td>Southampton</td>\n",
              "      <td>yes</td>\n",
              "      <td>True</td>\n",
              "    </tr>\n",
              "    <tr>\n",
              "      <th>888</th>\n",
              "      <td>0</td>\n",
              "      <td>3</td>\n",
              "      <td>female</td>\n",
              "      <td>NaN</td>\n",
              "      <td>1</td>\n",
              "      <td>2</td>\n",
              "      <td>23.45</td>\n",
              "      <td>S</td>\n",
              "      <td>Third</td>\n",
              "      <td>woman</td>\n",
              "      <td>False</td>\n",
              "      <td>NaN</td>\n",
              "      <td>Southampton</td>\n",
              "      <td>no</td>\n",
              "      <td>False</td>\n",
              "    </tr>\n",
              "    <tr>\n",
              "      <th>889</th>\n",
              "      <td>1</td>\n",
              "      <td>1</td>\n",
              "      <td>male</td>\n",
              "      <td>26.0</td>\n",
              "      <td>0</td>\n",
              "      <td>0</td>\n",
              "      <td>30.00</td>\n",
              "      <td>C</td>\n",
              "      <td>First</td>\n",
              "      <td>man</td>\n",
              "      <td>True</td>\n",
              "      <td>C</td>\n",
              "      <td>Cherbourg</td>\n",
              "      <td>yes</td>\n",
              "      <td>True</td>\n",
              "    </tr>\n",
              "    <tr>\n",
              "      <th>890</th>\n",
              "      <td>0</td>\n",
              "      <td>3</td>\n",
              "      <td>male</td>\n",
              "      <td>32.0</td>\n",
              "      <td>0</td>\n",
              "      <td>0</td>\n",
              "      <td>7.75</td>\n",
              "      <td>Q</td>\n",
              "      <td>Third</td>\n",
              "      <td>man</td>\n",
              "      <td>True</td>\n",
              "      <td>NaN</td>\n",
              "      <td>Queenstown</td>\n",
              "      <td>no</td>\n",
              "      <td>True</td>\n",
              "    </tr>\n",
              "  </tbody>\n",
              "</table>\n",
              "</div>"
            ],
            "text/plain": [
              "     survived  pclass     sex   age  ...  deck  embark_town  alive  alone\n",
              "886         0       2    male  27.0  ...   NaN  Southampton     no   True\n",
              "887         1       1  female  19.0  ...     B  Southampton    yes   True\n",
              "888         0       3  female   NaN  ...   NaN  Southampton     no  False\n",
              "889         1       1    male  26.0  ...     C    Cherbourg    yes   True\n",
              "890         0       3    male  32.0  ...   NaN   Queenstown     no   True\n",
              "\n",
              "[5 rows x 15 columns]"
            ]
          },
          "metadata": {
            "tags": []
          },
          "execution_count": 28
        }
      ]
    },
    {
      "cell_type": "markdown",
      "metadata": {
        "id": "LbSaQsuQEN6K"
      },
      "source": [
        "Alternatively, Python's regular slicing syntax works as well."
      ]
    },
    {
      "cell_type": "code",
      "metadata": {
        "id": "imf_teBlEN6M",
        "colab": {
          "base_uri": "https://localhost:8080/",
          "height": 235
        },
        "outputId": "cf6dc5ab-1d7e-4cde-c2e7-86d645e20af0"
      },
      "source": [
        "df[10:16]"
      ],
      "execution_count": 29,
      "outputs": [
        {
          "output_type": "execute_result",
          "data": {
            "text/html": [
              "<div>\n",
              "<style scoped>\n",
              "    .dataframe tbody tr th:only-of-type {\n",
              "        vertical-align: middle;\n",
              "    }\n",
              "\n",
              "    .dataframe tbody tr th {\n",
              "        vertical-align: top;\n",
              "    }\n",
              "\n",
              "    .dataframe thead th {\n",
              "        text-align: right;\n",
              "    }\n",
              "</style>\n",
              "<table border=\"1\" class=\"dataframe\">\n",
              "  <thead>\n",
              "    <tr style=\"text-align: right;\">\n",
              "      <th></th>\n",
              "      <th>survived</th>\n",
              "      <th>pclass</th>\n",
              "      <th>sex</th>\n",
              "      <th>age</th>\n",
              "      <th>sibsp</th>\n",
              "      <th>parch</th>\n",
              "      <th>fare</th>\n",
              "      <th>embarked</th>\n",
              "      <th>class</th>\n",
              "      <th>who</th>\n",
              "      <th>adult_male</th>\n",
              "      <th>deck</th>\n",
              "      <th>embark_town</th>\n",
              "      <th>alive</th>\n",
              "      <th>alone</th>\n",
              "    </tr>\n",
              "  </thead>\n",
              "  <tbody>\n",
              "    <tr>\n",
              "      <th>10</th>\n",
              "      <td>1</td>\n",
              "      <td>3</td>\n",
              "      <td>female</td>\n",
              "      <td>4.0</td>\n",
              "      <td>1</td>\n",
              "      <td>1</td>\n",
              "      <td>16.7000</td>\n",
              "      <td>S</td>\n",
              "      <td>Third</td>\n",
              "      <td>child</td>\n",
              "      <td>False</td>\n",
              "      <td>G</td>\n",
              "      <td>Southampton</td>\n",
              "      <td>yes</td>\n",
              "      <td>False</td>\n",
              "    </tr>\n",
              "    <tr>\n",
              "      <th>11</th>\n",
              "      <td>1</td>\n",
              "      <td>1</td>\n",
              "      <td>female</td>\n",
              "      <td>58.0</td>\n",
              "      <td>0</td>\n",
              "      <td>0</td>\n",
              "      <td>26.5500</td>\n",
              "      <td>S</td>\n",
              "      <td>First</td>\n",
              "      <td>woman</td>\n",
              "      <td>False</td>\n",
              "      <td>C</td>\n",
              "      <td>Southampton</td>\n",
              "      <td>yes</td>\n",
              "      <td>True</td>\n",
              "    </tr>\n",
              "    <tr>\n",
              "      <th>12</th>\n",
              "      <td>0</td>\n",
              "      <td>3</td>\n",
              "      <td>male</td>\n",
              "      <td>20.0</td>\n",
              "      <td>0</td>\n",
              "      <td>0</td>\n",
              "      <td>8.0500</td>\n",
              "      <td>S</td>\n",
              "      <td>Third</td>\n",
              "      <td>man</td>\n",
              "      <td>True</td>\n",
              "      <td>NaN</td>\n",
              "      <td>Southampton</td>\n",
              "      <td>no</td>\n",
              "      <td>True</td>\n",
              "    </tr>\n",
              "    <tr>\n",
              "      <th>13</th>\n",
              "      <td>0</td>\n",
              "      <td>3</td>\n",
              "      <td>male</td>\n",
              "      <td>39.0</td>\n",
              "      <td>1</td>\n",
              "      <td>5</td>\n",
              "      <td>31.2750</td>\n",
              "      <td>S</td>\n",
              "      <td>Third</td>\n",
              "      <td>man</td>\n",
              "      <td>True</td>\n",
              "      <td>NaN</td>\n",
              "      <td>Southampton</td>\n",
              "      <td>no</td>\n",
              "      <td>False</td>\n",
              "    </tr>\n",
              "    <tr>\n",
              "      <th>14</th>\n",
              "      <td>0</td>\n",
              "      <td>3</td>\n",
              "      <td>female</td>\n",
              "      <td>14.0</td>\n",
              "      <td>0</td>\n",
              "      <td>0</td>\n",
              "      <td>7.8542</td>\n",
              "      <td>S</td>\n",
              "      <td>Third</td>\n",
              "      <td>child</td>\n",
              "      <td>False</td>\n",
              "      <td>NaN</td>\n",
              "      <td>Southampton</td>\n",
              "      <td>no</td>\n",
              "      <td>True</td>\n",
              "    </tr>\n",
              "    <tr>\n",
              "      <th>15</th>\n",
              "      <td>1</td>\n",
              "      <td>2</td>\n",
              "      <td>female</td>\n",
              "      <td>55.0</td>\n",
              "      <td>0</td>\n",
              "      <td>0</td>\n",
              "      <td>16.0000</td>\n",
              "      <td>S</td>\n",
              "      <td>Second</td>\n",
              "      <td>woman</td>\n",
              "      <td>False</td>\n",
              "      <td>NaN</td>\n",
              "      <td>Southampton</td>\n",
              "      <td>yes</td>\n",
              "      <td>True</td>\n",
              "    </tr>\n",
              "  </tbody>\n",
              "</table>\n",
              "</div>"
            ],
            "text/plain": [
              "    survived  pclass     sex   age  ...  deck  embark_town  alive  alone\n",
              "10         1       3  female   4.0  ...     G  Southampton    yes  False\n",
              "11         1       1  female  58.0  ...     C  Southampton    yes   True\n",
              "12         0       3    male  20.0  ...   NaN  Southampton     no   True\n",
              "13         0       3    male  39.0  ...   NaN  Southampton     no  False\n",
              "14         0       3  female  14.0  ...   NaN  Southampton     no   True\n",
              "15         1       2  female  55.0  ...   NaN  Southampton    yes   True\n",
              "\n",
              "[6 rows x 15 columns]"
            ]
          },
          "metadata": {
            "tags": []
          },
          "execution_count": 29
        }
      ]
    },
    {
      "cell_type": "markdown",
      "metadata": {
        "id": "O5XWbpS3EN6T"
      },
      "source": [
        "Check dataset dimensions.. how many row and columns?"
      ]
    },
    {
      "cell_type": "code",
      "metadata": {
        "id": "LWpk_NwHEN6V",
        "colab": {
          "base_uri": "https://localhost:8080/"
        },
        "outputId": "fafa84a1-1990-4e5b-bd5b-6f75ba4f8503"
      },
      "source": [
        "df.shape"
      ],
      "execution_count": 30,
      "outputs": [
        {
          "output_type": "execute_result",
          "data": {
            "text/plain": [
              "(891, 15)"
            ]
          },
          "metadata": {
            "tags": []
          },
          "execution_count": 30
        }
      ]
    },
    {
      "cell_type": "markdown",
      "metadata": {
        "id": "nH8qdbcHEN6j"
      },
      "source": [
        "Print column names and types"
      ]
    },
    {
      "cell_type": "code",
      "metadata": {
        "id": "KpyGueUeEN6l",
        "colab": {
          "base_uri": "https://localhost:8080/"
        },
        "outputId": "e29999d6-8bd2-4027-e379-9507752e8fb1"
      },
      "source": [
        "df.dtypes"
      ],
      "execution_count": 31,
      "outputs": [
        {
          "output_type": "execute_result",
          "data": {
            "text/plain": [
              "survived         int64\n",
              "pclass           int64\n",
              "sex             object\n",
              "age            float64\n",
              "sibsp            int64\n",
              "parch            int64\n",
              "fare           float64\n",
              "embarked        object\n",
              "class           object\n",
              "who             object\n",
              "adult_male        bool\n",
              "deck            object\n",
              "embark_town     object\n",
              "alive           object\n",
              "alone             bool\n",
              "dtype: object"
            ]
          },
          "metadata": {
            "tags": []
          },
          "execution_count": 31
        }
      ]
    },
    {
      "cell_type": "code",
      "metadata": {
        "id": "wDmNUSGVEN6r",
        "colab": {
          "base_uri": "https://localhost:8080/"
        },
        "outputId": "0758531f-9930-4844-b3b9-99fb9c5ef83e"
      },
      "source": [
        "df.columns"
      ],
      "execution_count": 32,
      "outputs": [
        {
          "output_type": "execute_result",
          "data": {
            "text/plain": [
              "Index(['survived', 'pclass', 'sex', 'age', 'sibsp', 'parch', 'fare',\n",
              "       'embarked', 'class', 'who', 'adult_male', 'deck', 'embark_town',\n",
              "       'alive', 'alone'],\n",
              "      dtype='object')"
            ]
          },
          "metadata": {
            "tags": []
          },
          "execution_count": 32
        }
      ]
    },
    {
      "cell_type": "markdown",
      "metadata": {
        "id": "ZBSsztTfEN63"
      },
      "source": [
        "## Selecting data\n",
        "\n",
        "You can think of a DataFrame as a group of Series that share an index (in this case the column headers). This makes it easy to select specific columns.\n",
        "\n",
        "Selecting a single column from the DataFrame will return a Series object."
      ]
    },
    {
      "cell_type": "code",
      "metadata": {
        "id": "NN1VFHO5EN68",
        "colab": {
          "base_uri": "https://localhost:8080/"
        },
        "outputId": "13f2cf94-3e52-47d5-807f-0307655ae845"
      },
      "source": [
        "df['age'].head()"
      ],
      "execution_count": 33,
      "outputs": [
        {
          "output_type": "execute_result",
          "data": {
            "text/plain": [
              "0    22.0\n",
              "1    38.0\n",
              "2    26.0\n",
              "3    35.0\n",
              "4    35.0\n",
              "Name: age, dtype: float64"
            ]
          },
          "metadata": {
            "tags": []
          },
          "execution_count": 33
        }
      ]
    },
    {
      "cell_type": "code",
      "metadata": {
        "id": "pqDpoG0UEN7G",
        "colab": {
          "base_uri": "https://localhost:8080/"
        },
        "outputId": "020b762c-717c-4e86-e75a-8e3e7cd47af8"
      },
      "source": [
        "df.age.head()"
      ],
      "execution_count": 34,
      "outputs": [
        {
          "output_type": "execute_result",
          "data": {
            "text/plain": [
              "0    22.0\n",
              "1    38.0\n",
              "2    26.0\n",
              "3    35.0\n",
              "4    35.0\n",
              "Name: age, dtype: float64"
            ]
          },
          "metadata": {
            "tags": []
          },
          "execution_count": 34
        }
      ]
    },
    {
      "cell_type": "markdown",
      "metadata": {
        "id": "BZo0HO_mEN7P"
      },
      "source": [
        "To select multiple columns, simply pass a list of column names to the DataFrame, the output of which will be a DataFrame."
      ]
    },
    {
      "cell_type": "code",
      "metadata": {
        "id": "kbUdmnK2EN7Q",
        "colab": {
          "base_uri": "https://localhost:8080/",
          "height": 204
        },
        "outputId": "6f553064-df6a-4ff5-b8e5-2ce92f349d56"
      },
      "source": [
        "df[['age', 'survived']].head()"
      ],
      "execution_count": 35,
      "outputs": [
        {
          "output_type": "execute_result",
          "data": {
            "text/html": [
              "<div>\n",
              "<style scoped>\n",
              "    .dataframe tbody tr th:only-of-type {\n",
              "        vertical-align: middle;\n",
              "    }\n",
              "\n",
              "    .dataframe tbody tr th {\n",
              "        vertical-align: top;\n",
              "    }\n",
              "\n",
              "    .dataframe thead th {\n",
              "        text-align: right;\n",
              "    }\n",
              "</style>\n",
              "<table border=\"1\" class=\"dataframe\">\n",
              "  <thead>\n",
              "    <tr style=\"text-align: right;\">\n",
              "      <th></th>\n",
              "      <th>age</th>\n",
              "      <th>survived</th>\n",
              "    </tr>\n",
              "  </thead>\n",
              "  <tbody>\n",
              "    <tr>\n",
              "      <th>0</th>\n",
              "      <td>22.0</td>\n",
              "      <td>0</td>\n",
              "    </tr>\n",
              "    <tr>\n",
              "      <th>1</th>\n",
              "      <td>38.0</td>\n",
              "      <td>1</td>\n",
              "    </tr>\n",
              "    <tr>\n",
              "      <th>2</th>\n",
              "      <td>26.0</td>\n",
              "      <td>1</td>\n",
              "    </tr>\n",
              "    <tr>\n",
              "      <th>3</th>\n",
              "      <td>35.0</td>\n",
              "      <td>1</td>\n",
              "    </tr>\n",
              "    <tr>\n",
              "      <th>4</th>\n",
              "      <td>35.0</td>\n",
              "      <td>0</td>\n",
              "    </tr>\n",
              "  </tbody>\n",
              "</table>\n",
              "</div>"
            ],
            "text/plain": [
              "    age  survived\n",
              "0  22.0         0\n",
              "1  38.0         1\n",
              "2  26.0         1\n",
              "3  35.0         1\n",
              "4  35.0         0"
            ]
          },
          "metadata": {
            "tags": []
          },
          "execution_count": 35
        }
      ]
    },
    {
      "cell_type": "markdown",
      "metadata": {
        "id": "UwUnm2OvEN7c"
      },
      "source": [
        "## Selecting with conditions\n",
        "Row selection can be done multiple ways, but doing so by an individual index or boolean indexing are typically easiest."
      ]
    },
    {
      "cell_type": "code",
      "metadata": {
        "id": "MstKL8FBEN7d",
        "colab": {
          "base_uri": "https://localhost:8080/"
        },
        "outputId": "2eb8e373-a443-4821-cc2e-a5b211e02ae1"
      },
      "source": [
        "df.age[df.age > 35].head()"
      ],
      "execution_count": 36,
      "outputs": [
        {
          "output_type": "execute_result",
          "data": {
            "text/plain": [
              "1     38.0\n",
              "6     54.0\n",
              "11    58.0\n",
              "13    39.0\n",
              "15    55.0\n",
              "Name: age, dtype: float64"
            ]
          },
          "metadata": {
            "tags": []
          },
          "execution_count": 36
        }
      ]
    },
    {
      "cell_type": "code",
      "metadata": {
        "id": "gc3wYXTOEN7j",
        "colab": {
          "base_uri": "https://localhost:8080/",
          "height": 204
        },
        "outputId": "36aafdeb-00ed-4688-b54b-575c48cab223"
      },
      "source": [
        "df[df.age > 35].head()"
      ],
      "execution_count": 37,
      "outputs": [
        {
          "output_type": "execute_result",
          "data": {
            "text/html": [
              "<div>\n",
              "<style scoped>\n",
              "    .dataframe tbody tr th:only-of-type {\n",
              "        vertical-align: middle;\n",
              "    }\n",
              "\n",
              "    .dataframe tbody tr th {\n",
              "        vertical-align: top;\n",
              "    }\n",
              "\n",
              "    .dataframe thead th {\n",
              "        text-align: right;\n",
              "    }\n",
              "</style>\n",
              "<table border=\"1\" class=\"dataframe\">\n",
              "  <thead>\n",
              "    <tr style=\"text-align: right;\">\n",
              "      <th></th>\n",
              "      <th>survived</th>\n",
              "      <th>pclass</th>\n",
              "      <th>sex</th>\n",
              "      <th>age</th>\n",
              "      <th>sibsp</th>\n",
              "      <th>parch</th>\n",
              "      <th>fare</th>\n",
              "      <th>embarked</th>\n",
              "      <th>class</th>\n",
              "      <th>who</th>\n",
              "      <th>adult_male</th>\n",
              "      <th>deck</th>\n",
              "      <th>embark_town</th>\n",
              "      <th>alive</th>\n",
              "      <th>alone</th>\n",
              "    </tr>\n",
              "  </thead>\n",
              "  <tbody>\n",
              "    <tr>\n",
              "      <th>1</th>\n",
              "      <td>1</td>\n",
              "      <td>1</td>\n",
              "      <td>female</td>\n",
              "      <td>38.0</td>\n",
              "      <td>1</td>\n",
              "      <td>0</td>\n",
              "      <td>71.2833</td>\n",
              "      <td>C</td>\n",
              "      <td>First</td>\n",
              "      <td>woman</td>\n",
              "      <td>False</td>\n",
              "      <td>C</td>\n",
              "      <td>Cherbourg</td>\n",
              "      <td>yes</td>\n",
              "      <td>False</td>\n",
              "    </tr>\n",
              "    <tr>\n",
              "      <th>6</th>\n",
              "      <td>0</td>\n",
              "      <td>1</td>\n",
              "      <td>male</td>\n",
              "      <td>54.0</td>\n",
              "      <td>0</td>\n",
              "      <td>0</td>\n",
              "      <td>51.8625</td>\n",
              "      <td>S</td>\n",
              "      <td>First</td>\n",
              "      <td>man</td>\n",
              "      <td>True</td>\n",
              "      <td>E</td>\n",
              "      <td>Southampton</td>\n",
              "      <td>no</td>\n",
              "      <td>True</td>\n",
              "    </tr>\n",
              "    <tr>\n",
              "      <th>11</th>\n",
              "      <td>1</td>\n",
              "      <td>1</td>\n",
              "      <td>female</td>\n",
              "      <td>58.0</td>\n",
              "      <td>0</td>\n",
              "      <td>0</td>\n",
              "      <td>26.5500</td>\n",
              "      <td>S</td>\n",
              "      <td>First</td>\n",
              "      <td>woman</td>\n",
              "      <td>False</td>\n",
              "      <td>C</td>\n",
              "      <td>Southampton</td>\n",
              "      <td>yes</td>\n",
              "      <td>True</td>\n",
              "    </tr>\n",
              "    <tr>\n",
              "      <th>13</th>\n",
              "      <td>0</td>\n",
              "      <td>3</td>\n",
              "      <td>male</td>\n",
              "      <td>39.0</td>\n",
              "      <td>1</td>\n",
              "      <td>5</td>\n",
              "      <td>31.2750</td>\n",
              "      <td>S</td>\n",
              "      <td>Third</td>\n",
              "      <td>man</td>\n",
              "      <td>True</td>\n",
              "      <td>NaN</td>\n",
              "      <td>Southampton</td>\n",
              "      <td>no</td>\n",
              "      <td>False</td>\n",
              "    </tr>\n",
              "    <tr>\n",
              "      <th>15</th>\n",
              "      <td>1</td>\n",
              "      <td>2</td>\n",
              "      <td>female</td>\n",
              "      <td>55.0</td>\n",
              "      <td>0</td>\n",
              "      <td>0</td>\n",
              "      <td>16.0000</td>\n",
              "      <td>S</td>\n",
              "      <td>Second</td>\n",
              "      <td>woman</td>\n",
              "      <td>False</td>\n",
              "      <td>NaN</td>\n",
              "      <td>Southampton</td>\n",
              "      <td>yes</td>\n",
              "      <td>True</td>\n",
              "    </tr>\n",
              "  </tbody>\n",
              "</table>\n",
              "</div>"
            ],
            "text/plain": [
              "    survived  pclass     sex   age  ...  deck  embark_town  alive  alone\n",
              "1          1       1  female  38.0  ...     C    Cherbourg    yes  False\n",
              "6          0       1    male  54.0  ...     E  Southampton     no   True\n",
              "11         1       1  female  58.0  ...     C  Southampton    yes   True\n",
              "13         0       3    male  39.0  ...   NaN  Southampton     no  False\n",
              "15         1       2  female  55.0  ...   NaN  Southampton    yes   True\n",
              "\n",
              "[5 rows x 15 columns]"
            ]
          },
          "metadata": {
            "tags": []
          },
          "execution_count": 37
        }
      ]
    },
    {
      "cell_type": "code",
      "metadata": {
        "id": "nD8IL4LgEN7t",
        "colab": {
          "base_uri": "https://localhost:8080/",
          "height": 430
        },
        "outputId": "9b9ac188-3468-44b3-963e-f9b584a92c03"
      },
      "source": [
        "print(df.iloc[10])\n",
        "df.iloc[[1, 50, 300]]"
      ],
      "execution_count": 38,
      "outputs": [
        {
          "output_type": "stream",
          "text": [
            "survived                 1\n",
            "pclass                   3\n",
            "sex                 female\n",
            "age                      4\n",
            "sibsp                    1\n",
            "parch                    1\n",
            "fare                  16.7\n",
            "embarked                 S\n",
            "class                Third\n",
            "who                  child\n",
            "adult_male           False\n",
            "deck                     G\n",
            "embark_town    Southampton\n",
            "alive                  yes\n",
            "alone                False\n",
            "Name: 10, dtype: object\n"
          ],
          "name": "stdout"
        },
        {
          "output_type": "execute_result",
          "data": {
            "text/html": [
              "<div>\n",
              "<style scoped>\n",
              "    .dataframe tbody tr th:only-of-type {\n",
              "        vertical-align: middle;\n",
              "    }\n",
              "\n",
              "    .dataframe tbody tr th {\n",
              "        vertical-align: top;\n",
              "    }\n",
              "\n",
              "    .dataframe thead th {\n",
              "        text-align: right;\n",
              "    }\n",
              "</style>\n",
              "<table border=\"1\" class=\"dataframe\">\n",
              "  <thead>\n",
              "    <tr style=\"text-align: right;\">\n",
              "      <th></th>\n",
              "      <th>survived</th>\n",
              "      <th>pclass</th>\n",
              "      <th>sex</th>\n",
              "      <th>age</th>\n",
              "      <th>sibsp</th>\n",
              "      <th>parch</th>\n",
              "      <th>fare</th>\n",
              "      <th>embarked</th>\n",
              "      <th>class</th>\n",
              "      <th>who</th>\n",
              "      <th>adult_male</th>\n",
              "      <th>deck</th>\n",
              "      <th>embark_town</th>\n",
              "      <th>alive</th>\n",
              "      <th>alone</th>\n",
              "    </tr>\n",
              "  </thead>\n",
              "  <tbody>\n",
              "    <tr>\n",
              "      <th>1</th>\n",
              "      <td>1</td>\n",
              "      <td>1</td>\n",
              "      <td>female</td>\n",
              "      <td>38.0</td>\n",
              "      <td>1</td>\n",
              "      <td>0</td>\n",
              "      <td>71.2833</td>\n",
              "      <td>C</td>\n",
              "      <td>First</td>\n",
              "      <td>woman</td>\n",
              "      <td>False</td>\n",
              "      <td>C</td>\n",
              "      <td>Cherbourg</td>\n",
              "      <td>yes</td>\n",
              "      <td>False</td>\n",
              "    </tr>\n",
              "    <tr>\n",
              "      <th>50</th>\n",
              "      <td>0</td>\n",
              "      <td>3</td>\n",
              "      <td>male</td>\n",
              "      <td>7.0</td>\n",
              "      <td>4</td>\n",
              "      <td>1</td>\n",
              "      <td>39.6875</td>\n",
              "      <td>S</td>\n",
              "      <td>Third</td>\n",
              "      <td>child</td>\n",
              "      <td>False</td>\n",
              "      <td>NaN</td>\n",
              "      <td>Southampton</td>\n",
              "      <td>no</td>\n",
              "      <td>False</td>\n",
              "    </tr>\n",
              "    <tr>\n",
              "      <th>300</th>\n",
              "      <td>1</td>\n",
              "      <td>3</td>\n",
              "      <td>female</td>\n",
              "      <td>NaN</td>\n",
              "      <td>0</td>\n",
              "      <td>0</td>\n",
              "      <td>7.7500</td>\n",
              "      <td>Q</td>\n",
              "      <td>Third</td>\n",
              "      <td>woman</td>\n",
              "      <td>False</td>\n",
              "      <td>NaN</td>\n",
              "      <td>Queenstown</td>\n",
              "      <td>yes</td>\n",
              "      <td>True</td>\n",
              "    </tr>\n",
              "  </tbody>\n",
              "</table>\n",
              "</div>"
            ],
            "text/plain": [
              "     survived  pclass     sex   age  ...  deck  embark_town  alive  alone\n",
              "1           1       1  female  38.0  ...     C    Cherbourg    yes  False\n",
              "50          0       3    male   7.0  ...   NaN  Southampton     no  False\n",
              "300         1       3  female   NaN  ...   NaN   Queenstown    yes   True\n",
              "\n",
              "[3 rows x 15 columns]"
            ]
          },
          "metadata": {
            "tags": []
          },
          "execution_count": 38
        }
      ]
    },
    {
      "cell_type": "markdown",
      "metadata": {
        "id": "9N_R_qC1EN7w"
      },
      "source": [
        "The simplified rules of indexing are:\n",
        "\n",
        " - Use loc for label-based indexing\n",
        " - Use iloc for positional indexing\n",
        "\n",
        "I've found that I can usually get by with boolean indexing, loc and iloc, but pandas has a whole host of other ways to do selection.\n",
        "\n",
        "Only age, sex and pclass of kids passengers who have survived"
      ]
    },
    {
      "cell_type": "code",
      "metadata": {
        "id": "ExYqmcjuEN7z",
        "colab": {
          "base_uri": "https://localhost:8080/",
          "height": 204
        },
        "outputId": "3fd73bb3-484b-472c-ce09-47c8f4774bf4"
      },
      "source": [
        "df[(df.survived == 1 ) & (df.age <= 5 )][['age', 'sex', 'pclass']].head()"
      ],
      "execution_count": 39,
      "outputs": [
        {
          "output_type": "execute_result",
          "data": {
            "text/html": [
              "<div>\n",
              "<style scoped>\n",
              "    .dataframe tbody tr th:only-of-type {\n",
              "        vertical-align: middle;\n",
              "    }\n",
              "\n",
              "    .dataframe tbody tr th {\n",
              "        vertical-align: top;\n",
              "    }\n",
              "\n",
              "    .dataframe thead th {\n",
              "        text-align: right;\n",
              "    }\n",
              "</style>\n",
              "<table border=\"1\" class=\"dataframe\">\n",
              "  <thead>\n",
              "    <tr style=\"text-align: right;\">\n",
              "      <th></th>\n",
              "      <th>age</th>\n",
              "      <th>sex</th>\n",
              "      <th>pclass</th>\n",
              "    </tr>\n",
              "  </thead>\n",
              "  <tbody>\n",
              "    <tr>\n",
              "      <th>10</th>\n",
              "      <td>4.00</td>\n",
              "      <td>female</td>\n",
              "      <td>3</td>\n",
              "    </tr>\n",
              "    <tr>\n",
              "      <th>43</th>\n",
              "      <td>3.00</td>\n",
              "      <td>female</td>\n",
              "      <td>2</td>\n",
              "    </tr>\n",
              "    <tr>\n",
              "      <th>58</th>\n",
              "      <td>5.00</td>\n",
              "      <td>female</td>\n",
              "      <td>2</td>\n",
              "    </tr>\n",
              "    <tr>\n",
              "      <th>78</th>\n",
              "      <td>0.83</td>\n",
              "      <td>male</td>\n",
              "      <td>2</td>\n",
              "    </tr>\n",
              "    <tr>\n",
              "      <th>172</th>\n",
              "      <td>1.00</td>\n",
              "      <td>female</td>\n",
              "      <td>3</td>\n",
              "    </tr>\n",
              "  </tbody>\n",
              "</table>\n",
              "</div>"
            ],
            "text/plain": [
              "      age     sex  pclass\n",
              "10   4.00  female       3\n",
              "43   3.00  female       2\n",
              "58   5.00  female       2\n",
              "78   0.83    male       2\n",
              "172  1.00  female       3"
            ]
          },
          "metadata": {
            "tags": []
          },
          "execution_count": 39
        }
      ]
    },
    {
      "cell_type": "markdown",
      "metadata": {
        "id": "50nZJAUwEN74"
      },
      "source": [
        "## Counting\n",
        "How many people survived and what is the percentage?"
      ]
    },
    {
      "cell_type": "code",
      "metadata": {
        "scrolled": false,
        "id": "zJyQeQM9EN74",
        "colab": {
          "base_uri": "https://localhost:8080/"
        },
        "outputId": "6c26f898-2ee3-4b76-a82a-d0b929ac8420"
      },
      "source": [
        "df[df.survived == 1].count()"
      ],
      "execution_count": 40,
      "outputs": [
        {
          "output_type": "execute_result",
          "data": {
            "text/plain": [
              "survived       342\n",
              "pclass         342\n",
              "sex            342\n",
              "age            290\n",
              "sibsp          342\n",
              "parch          342\n",
              "fare           342\n",
              "embarked       340\n",
              "class          342\n",
              "who            342\n",
              "adult_male     342\n",
              "deck           136\n",
              "embark_town    340\n",
              "alive          342\n",
              "alone          342\n",
              "dtype: int64"
            ]
          },
          "metadata": {
            "tags": []
          },
          "execution_count": 40
        }
      ]
    },
    {
      "cell_type": "code",
      "metadata": {
        "id": "TOjm_g7qEN79",
        "colab": {
          "base_uri": "https://localhost:8080/"
        },
        "outputId": "8d289a91-259c-4a5a-9798-963d01d0b94d"
      },
      "source": [
        "df.survived[df.survived == 1].count()"
      ],
      "execution_count": 41,
      "outputs": [
        {
          "output_type": "execute_result",
          "data": {
            "text/plain": [
              "342"
            ]
          },
          "metadata": {
            "tags": []
          },
          "execution_count": 41
        }
      ]
    },
    {
      "cell_type": "markdown",
      "metadata": {
        "id": "_C5VJnwSEN8B"
      },
      "source": [
        "`value_counts()` provides occurance of each unique values in the column."
      ]
    },
    {
      "cell_type": "code",
      "metadata": {
        "id": "9BqL7PADEN8C",
        "colab": {
          "base_uri": "https://localhost:8080/"
        },
        "outputId": "b22b99b2-e3d1-4196-c241-779bfd90782d"
      },
      "source": [
        "df.survived.value_counts()"
      ],
      "execution_count": 42,
      "outputs": [
        {
          "output_type": "execute_result",
          "data": {
            "text/plain": [
              "0    549\n",
              "1    342\n",
              "Name: survived, dtype: int64"
            ]
          },
          "metadata": {
            "tags": []
          },
          "execution_count": 42
        }
      ]
    },
    {
      "cell_type": "code",
      "metadata": {
        "id": "3bADqfQbEN8H",
        "colab": {
          "base_uri": "https://localhost:8080/"
        },
        "outputId": "c46e0963-b61a-44ba-8410-a3b624659673"
      },
      "source": [
        "df.survived.value_counts(normalize=True)"
      ],
      "execution_count": 43,
      "outputs": [
        {
          "output_type": "execute_result",
          "data": {
            "text/plain": [
              "0    0.616162\n",
              "1    0.383838\n",
              "Name: survived, dtype: float64"
            ]
          },
          "metadata": {
            "tags": []
          },
          "execution_count": 43
        }
      ]
    },
    {
      "cell_type": "code",
      "metadata": {
        "id": "31T4V8KQEN8M",
        "colab": {
          "base_uri": "https://localhost:8080/"
        },
        "outputId": "f808e94f-d7f6-4adb-b3e9-b00144511eb3"
      },
      "source": [
        "df.sex.value_counts()"
      ],
      "execution_count": 44,
      "outputs": [
        {
          "output_type": "execute_result",
          "data": {
            "text/plain": [
              "male      577\n",
              "female    314\n",
              "Name: sex, dtype: int64"
            ]
          },
          "metadata": {
            "tags": []
          },
          "execution_count": 44
        }
      ]
    },
    {
      "cell_type": "code",
      "metadata": {
        "id": "HSUtuWjkEN8T",
        "colab": {
          "base_uri": "https://localhost:8080/"
        },
        "outputId": "477ebbc4-7022-4251-8df8-d1425a44ae21"
      },
      "source": [
        "df[df.survived == 1].sex.value_counts()"
      ],
      "execution_count": 45,
      "outputs": [
        {
          "output_type": "execute_result",
          "data": {
            "text/plain": [
              "female    233\n",
              "male      109\n",
              "Name: sex, dtype: int64"
            ]
          },
          "metadata": {
            "tags": []
          },
          "execution_count": 45
        }
      ]
    },
    {
      "cell_type": "markdown",
      "metadata": {
        "id": "eRSgdhFlEN8f"
      },
      "source": [
        "### Compute a simple cross-tabulation\n",
        "Cross tabulation between gender and survived?"
      ]
    },
    {
      "cell_type": "code",
      "metadata": {
        "id": "OOfaSYbpEN8g",
        "colab": {
          "base_uri": "https://localhost:8080/",
          "height": 142
        },
        "outputId": "d20aec9c-049d-4b7c-d07c-457988d34052"
      },
      "source": [
        "pd.crosstab(df.sex, df.survived )"
      ],
      "execution_count": 46,
      "outputs": [
        {
          "output_type": "execute_result",
          "data": {
            "text/html": [
              "<div>\n",
              "<style scoped>\n",
              "    .dataframe tbody tr th:only-of-type {\n",
              "        vertical-align: middle;\n",
              "    }\n",
              "\n",
              "    .dataframe tbody tr th {\n",
              "        vertical-align: top;\n",
              "    }\n",
              "\n",
              "    .dataframe thead th {\n",
              "        text-align: right;\n",
              "    }\n",
              "</style>\n",
              "<table border=\"1\" class=\"dataframe\">\n",
              "  <thead>\n",
              "    <tr style=\"text-align: right;\">\n",
              "      <th>survived</th>\n",
              "      <th>0</th>\n",
              "      <th>1</th>\n",
              "    </tr>\n",
              "    <tr>\n",
              "      <th>sex</th>\n",
              "      <th></th>\n",
              "      <th></th>\n",
              "    </tr>\n",
              "  </thead>\n",
              "  <tbody>\n",
              "    <tr>\n",
              "      <th>female</th>\n",
              "      <td>81</td>\n",
              "      <td>233</td>\n",
              "    </tr>\n",
              "    <tr>\n",
              "      <th>male</th>\n",
              "      <td>468</td>\n",
              "      <td>109</td>\n",
              "    </tr>\n",
              "  </tbody>\n",
              "</table>\n",
              "</div>"
            ],
            "text/plain": [
              "survived    0    1\n",
              "sex               \n",
              "female     81  233\n",
              "male      468  109"
            ]
          },
          "metadata": {
            "tags": []
          },
          "execution_count": 46
        }
      ]
    },
    {
      "cell_type": "markdown",
      "metadata": {
        "id": "AmxJ_TQIEN8o"
      },
      "source": [
        "In what class?"
      ]
    },
    {
      "cell_type": "code",
      "metadata": {
        "scrolled": true,
        "id": "hfvy6l7qEN8v",
        "colab": {
          "base_uri": "https://localhost:8080/",
          "height": 173
        },
        "outputId": "305ccf93-86d6-4be7-dd21-7124fb2ce1d7"
      },
      "source": [
        "pd.crosstab(df['class'], df.survived)"
      ],
      "execution_count": 47,
      "outputs": [
        {
          "output_type": "execute_result",
          "data": {
            "text/html": [
              "<div>\n",
              "<style scoped>\n",
              "    .dataframe tbody tr th:only-of-type {\n",
              "        vertical-align: middle;\n",
              "    }\n",
              "\n",
              "    .dataframe tbody tr th {\n",
              "        vertical-align: top;\n",
              "    }\n",
              "\n",
              "    .dataframe thead th {\n",
              "        text-align: right;\n",
              "    }\n",
              "</style>\n",
              "<table border=\"1\" class=\"dataframe\">\n",
              "  <thead>\n",
              "    <tr style=\"text-align: right;\">\n",
              "      <th>survived</th>\n",
              "      <th>0</th>\n",
              "      <th>1</th>\n",
              "    </tr>\n",
              "    <tr>\n",
              "      <th>class</th>\n",
              "      <th></th>\n",
              "      <th></th>\n",
              "    </tr>\n",
              "  </thead>\n",
              "  <tbody>\n",
              "    <tr>\n",
              "      <th>First</th>\n",
              "      <td>80</td>\n",
              "      <td>136</td>\n",
              "    </tr>\n",
              "    <tr>\n",
              "      <th>Second</th>\n",
              "      <td>97</td>\n",
              "      <td>87</td>\n",
              "    </tr>\n",
              "    <tr>\n",
              "      <th>Third</th>\n",
              "      <td>372</td>\n",
              "      <td>119</td>\n",
              "    </tr>\n",
              "  </tbody>\n",
              "</table>\n",
              "</div>"
            ],
            "text/plain": [
              "survived    0    1\n",
              "class             \n",
              "First      80  136\n",
              "Second     97   87\n",
              "Third     372  119"
            ]
          },
          "metadata": {
            "tags": []
          },
          "execution_count": 47
        }
      ]
    },
    {
      "cell_type": "markdown",
      "metadata": {
        "id": "4EjUUMUYEN82"
      },
      "source": [
        "Cross tabulation between passenger class and from where they embarked the ship?"
      ]
    },
    {
      "cell_type": "code",
      "metadata": {
        "id": "b6Sa0nJtEN83",
        "colab": {
          "base_uri": "https://localhost:8080/",
          "height": 173
        },
        "outputId": "33061ddb-c42e-4cd1-a355-9c12603a9c4e"
      },
      "source": [
        "pd.crosstab(df.pclass, df.embarked)"
      ],
      "execution_count": 48,
      "outputs": [
        {
          "output_type": "execute_result",
          "data": {
            "text/html": [
              "<div>\n",
              "<style scoped>\n",
              "    .dataframe tbody tr th:only-of-type {\n",
              "        vertical-align: middle;\n",
              "    }\n",
              "\n",
              "    .dataframe tbody tr th {\n",
              "        vertical-align: top;\n",
              "    }\n",
              "\n",
              "    .dataframe thead th {\n",
              "        text-align: right;\n",
              "    }\n",
              "</style>\n",
              "<table border=\"1\" class=\"dataframe\">\n",
              "  <thead>\n",
              "    <tr style=\"text-align: right;\">\n",
              "      <th>embarked</th>\n",
              "      <th>C</th>\n",
              "      <th>Q</th>\n",
              "      <th>S</th>\n",
              "    </tr>\n",
              "    <tr>\n",
              "      <th>pclass</th>\n",
              "      <th></th>\n",
              "      <th></th>\n",
              "      <th></th>\n",
              "    </tr>\n",
              "  </thead>\n",
              "  <tbody>\n",
              "    <tr>\n",
              "      <th>1</th>\n",
              "      <td>85</td>\n",
              "      <td>2</td>\n",
              "      <td>127</td>\n",
              "    </tr>\n",
              "    <tr>\n",
              "      <th>2</th>\n",
              "      <td>17</td>\n",
              "      <td>3</td>\n",
              "      <td>164</td>\n",
              "    </tr>\n",
              "    <tr>\n",
              "      <th>3</th>\n",
              "      <td>66</td>\n",
              "      <td>72</td>\n",
              "      <td>353</td>\n",
              "    </tr>\n",
              "  </tbody>\n",
              "</table>\n",
              "</div>"
            ],
            "text/plain": [
              "embarked   C   Q    S\n",
              "pclass               \n",
              "1         85   2  127\n",
              "2         17   3  164\n",
              "3         66  72  353"
            ]
          },
          "metadata": {
            "tags": []
          },
          "execution_count": 48
        }
      ]
    },
    {
      "cell_type": "code",
      "metadata": {
        "id": "mtYNeyX3EN88",
        "colab": {
          "base_uri": "https://localhost:8080/"
        },
        "outputId": "8944046a-1db6-4fda-8004-d535c25d68cf"
      },
      "source": [
        "df.survived[df.age < 5].value_counts()"
      ],
      "execution_count": 49,
      "outputs": [
        {
          "output_type": "execute_result",
          "data": {
            "text/plain": [
              "1    27\n",
              "0    13\n",
              "Name: survived, dtype: int64"
            ]
          },
          "metadata": {
            "tags": []
          },
          "execution_count": 49
        }
      ]
    },
    {
      "cell_type": "code",
      "metadata": {
        "id": "48SCxfV0EN9A",
        "colab": {
          "base_uri": "https://localhost:8080/",
          "height": 265
        },
        "outputId": "e1070233-e984-4195-c525-ac492c1a84f4"
      },
      "source": [
        "df.age.hist(bins=25);"
      ],
      "execution_count": 50,
      "outputs": [
        {
          "output_type": "display_data",
          "data": {
            "image/png": "[encoded data removed]",
            "text/plain": [
              "<Figure size 432x288 with 1 Axes>"
            ]
          },
          "metadata": {
            "tags": [],
            "needs_background": "light"
          }
        }
      ]
    },
    {
      "cell_type": "code",
      "metadata": {
        "id": "ntfoGpBfEN9H",
        "colab": {
          "base_uri": "https://localhost:8080/",
          "height": 265
        },
        "outputId": "0b01abd6-4595-4882-c2b3-bcf3f15a761a"
      },
      "source": [
        "plot(df.age, df.fare, 'g*');"
      ],
      "execution_count": 51,
      "outputs": [
        {
          "output_type": "display_data",
          "data": {
            "image/png": "[encoded data removed]",
            "text/plain": [
              "<Figure size 432x288 with 1 Axes>"
            ]
          },
          "metadata": {
            "tags": [],
            "needs_background": "light"
          }
        }
      ]
    },
    {
      "cell_type": "code",
      "metadata": {
        "id": "4wehsf01EN9P",
        "colab": {
          "base_uri": "https://localhost:8080/"
        },
        "outputId": "2e84819c-90c8-4d94-bfb5-99474dbe3486"
      },
      "source": [
        "df.fare.sum()"
      ],
      "execution_count": 52,
      "outputs": [
        {
          "output_type": "execute_result",
          "data": {
            "text/plain": [
              "28693.9493"
            ]
          },
          "metadata": {
            "tags": []
          },
          "execution_count": 52
        }
      ]
    },
    {
      "cell_type": "code",
      "metadata": {
        "id": "9L_lTHUJEN9W",
        "colab": {
          "base_uri": "https://localhost:8080/"
        },
        "outputId": "108982e8-b4db-4361-a39c-27d0ba1f854c"
      },
      "source": [
        "df.fare[df.sex == 'male'].sum()"
      ],
      "execution_count": 53,
      "outputs": [
        {
          "output_type": "execute_result",
          "data": {
            "text/plain": [
              "14727.286500000002"
            ]
          },
          "metadata": {
            "tags": []
          },
          "execution_count": 53
        }
      ]
    },
    {
      "cell_type": "code",
      "metadata": {
        "id": "x6ofly49EN9e",
        "colab": {
          "base_uri": "https://localhost:8080/"
        },
        "outputId": "ccb2d1b6-f84b-4688-f6b3-bbbcb0efb6a7"
      },
      "source": [
        "df.fare[df.sex == 'female'].sum()"
      ],
      "execution_count": 54,
      "outputs": [
        {
          "output_type": "execute_result",
          "data": {
            "text/plain": [
              "13966.6628"
            ]
          },
          "metadata": {
            "tags": []
          },
          "execution_count": 54
        }
      ]
    },
    {
      "cell_type": "markdown",
      "metadata": {
        "id": "d9fRY2M2EN9k"
      },
      "source": [
        "## Grouping\n",
        "By `group by` we are referring to a process involving one or more of the following steps\n",
        "\n",
        " - **Splitting** the data into groups based on some criteria\n",
        " - **Applying** a function to each group independently\n",
        " - **Combining** the results into a data structure\n",
        "\n",
        "Of these, the split step is the most straightforward. In fact, in many situations you may wish to split the data set into groups and do something with those groups yourself. In the apply step, we might wish to one of the following:\n",
        "\n",
        " - Aggregation: computing a summary statistic (or statistics) about each group. Some examples:\n",
        "\n",
        "    - Compute group sums or means\n",
        "    - Compute group sizes / counts\n",
        "    - Transformation: perform some group-specific computations and return a like-indexed. Some examples:\n",
        "\n",
        " - Standardizing data (zscore) within group\n",
        "    - Filling NAs within groups with a value derived from each group\n",
        "    - Filtration: discard some groups, according to a group-wise computation that evaluates True or False. Some examples:\n",
        "\n",
        " - Discarding data that belongs to groups with only a few members\n",
        "    - Filtering out data based on the group sum or mean\n",
        " - Some combination of the above: GroupBy will examine the results of the apply step and try to return a sensibly combined result if it doesn’t fit into either of the above two categories"
      ]
    },
    {
      "cell_type": "code",
      "metadata": {
        "id": "neIdLh0nEN9m",
        "colab": {
          "base_uri": "https://localhost:8080/",
          "height": 173
        },
        "outputId": "340a2053-cb66-429b-b3eb-64976530337a"
      },
      "source": [
        "df2 = pd.DataFrame({'X' : ['B', 'B', 'A', 'A'], 'Y' : [1, 2, 3, 4]})\n",
        "df2"
      ],
      "execution_count": 55,
      "outputs": [
        {
          "output_type": "execute_result",
          "data": {
            "text/html": [
              "<div>\n",
              "<style scoped>\n",
              "    .dataframe tbody tr th:only-of-type {\n",
              "        vertical-align: middle;\n",
              "    }\n",
              "\n",
              "    .dataframe tbody tr th {\n",
              "        vertical-align: top;\n",
              "    }\n",
              "\n",
              "    .dataframe thead th {\n",
              "        text-align: right;\n",
              "    }\n",
              "</style>\n",
              "<table border=\"1\" class=\"dataframe\">\n",
              "  <thead>\n",
              "    <tr style=\"text-align: right;\">\n",
              "      <th></th>\n",
              "      <th>X</th>\n",
              "      <th>Y</th>\n",
              "    </tr>\n",
              "  </thead>\n",
              "  <tbody>\n",
              "    <tr>\n",
              "      <th>0</th>\n",
              "      <td>B</td>\n",
              "      <td>1</td>\n",
              "    </tr>\n",
              "    <tr>\n",
              "      <th>1</th>\n",
              "      <td>B</td>\n",
              "      <td>2</td>\n",
              "    </tr>\n",
              "    <tr>\n",
              "      <th>2</th>\n",
              "      <td>A</td>\n",
              "      <td>3</td>\n",
              "    </tr>\n",
              "    <tr>\n",
              "      <th>3</th>\n",
              "      <td>A</td>\n",
              "      <td>4</td>\n",
              "    </tr>\n",
              "  </tbody>\n",
              "</table>\n",
              "</div>"
            ],
            "text/plain": [
              "   X  Y\n",
              "0  B  1\n",
              "1  B  2\n",
              "2  A  3\n",
              "3  A  4"
            ]
          },
          "metadata": {
            "tags": []
          },
          "execution_count": 55
        }
      ]
    },
    {
      "cell_type": "code",
      "metadata": {
        "id": "OW9yeL-TEN9q",
        "colab": {
          "base_uri": "https://localhost:8080/",
          "height": 142
        },
        "outputId": "8a85736a-a6a5-4f86-9bf3-085d4f518a0a"
      },
      "source": [
        "df2.groupby(['X']).sum()"
      ],
      "execution_count": 56,
      "outputs": [
        {
          "output_type": "execute_result",
          "data": {
            "text/html": [
              "<div>\n",
              "<style scoped>\n",
              "    .dataframe tbody tr th:only-of-type {\n",
              "        vertical-align: middle;\n",
              "    }\n",
              "\n",
              "    .dataframe tbody tr th {\n",
              "        vertical-align: top;\n",
              "    }\n",
              "\n",
              "    .dataframe thead th {\n",
              "        text-align: right;\n",
              "    }\n",
              "</style>\n",
              "<table border=\"1\" class=\"dataframe\">\n",
              "  <thead>\n",
              "    <tr style=\"text-align: right;\">\n",
              "      <th></th>\n",
              "      <th>Y</th>\n",
              "    </tr>\n",
              "    <tr>\n",
              "      <th>X</th>\n",
              "      <th></th>\n",
              "    </tr>\n",
              "  </thead>\n",
              "  <tbody>\n",
              "    <tr>\n",
              "      <th>A</th>\n",
              "      <td>7</td>\n",
              "    </tr>\n",
              "    <tr>\n",
              "      <th>B</th>\n",
              "      <td>3</td>\n",
              "    </tr>\n",
              "  </tbody>\n",
              "</table>\n",
              "</div>"
            ],
            "text/plain": [
              "   Y\n",
              "X   \n",
              "A  7\n",
              "B  3"
            ]
          },
          "metadata": {
            "tags": []
          },
          "execution_count": 56
        }
      ]
    },
    {
      "cell_type": "code",
      "metadata": {
        "id": "2-oEG0uXEN9u",
        "colab": {
          "base_uri": "https://localhost:8080/",
          "height": 111
        },
        "outputId": "9f227577-0d91-48de-9fc8-40b05d3488b8"
      },
      "source": [
        "df2.groupby(['X']).get_group('A')"
      ],
      "execution_count": 57,
      "outputs": [
        {
          "output_type": "execute_result",
          "data": {
            "text/html": [
              "<div>\n",
              "<style scoped>\n",
              "    .dataframe tbody tr th:only-of-type {\n",
              "        vertical-align: middle;\n",
              "    }\n",
              "\n",
              "    .dataframe tbody tr th {\n",
              "        vertical-align: top;\n",
              "    }\n",
              "\n",
              "    .dataframe thead th {\n",
              "        text-align: right;\n",
              "    }\n",
              "</style>\n",
              "<table border=\"1\" class=\"dataframe\">\n",
              "  <thead>\n",
              "    <tr style=\"text-align: right;\">\n",
              "      <th></th>\n",
              "      <th>X</th>\n",
              "      <th>Y</th>\n",
              "    </tr>\n",
              "  </thead>\n",
              "  <tbody>\n",
              "    <tr>\n",
              "      <th>2</th>\n",
              "      <td>A</td>\n",
              "      <td>3</td>\n",
              "    </tr>\n",
              "    <tr>\n",
              "      <th>3</th>\n",
              "      <td>A</td>\n",
              "      <td>4</td>\n",
              "    </tr>\n",
              "  </tbody>\n",
              "</table>\n",
              "</div>"
            ],
            "text/plain": [
              "   X  Y\n",
              "2  A  3\n",
              "3  A  4"
            ]
          },
          "metadata": {
            "tags": []
          },
          "execution_count": 57
        }
      ]
    },
    {
      "cell_type": "code",
      "metadata": {
        "id": "yloFkNZyEN9z",
        "colab": {
          "base_uri": "https://localhost:8080/"
        },
        "outputId": "500382e5-f9ad-4656-a4ed-052b81c5dadd"
      },
      "source": [
        "df.groupby('who')['fare'].sum()"
      ],
      "execution_count": 58,
      "outputs": [
        {
          "output_type": "execute_result",
          "data": {
            "text/plain": [
              "who\n",
              "child     2721.2210\n",
              "man      13352.0656\n",
              "woman    12620.6627\n",
              "Name: fare, dtype: float64"
            ]
          },
          "metadata": {
            "tags": []
          },
          "execution_count": 58
        }
      ]
    },
    {
      "cell_type": "code",
      "metadata": {
        "id": "y43WU4qYEN94",
        "colab": {
          "base_uri": "https://localhost:8080/"
        },
        "outputId": "04d3e40e-e930-4854-9fde-c330ce531c94"
      },
      "source": [
        "df.groupby('who')['fare'].mean()"
      ],
      "execution_count": 59,
      "outputs": [
        {
          "output_type": "execute_result",
          "data": {
            "text/plain": [
              "who\n",
              "child    32.785795\n",
              "man      24.864182\n",
              "woman    46.570711\n",
              "Name: fare, dtype: float64"
            ]
          },
          "metadata": {
            "tags": []
          },
          "execution_count": 59
        }
      ]
    },
    {
      "cell_type": "code",
      "metadata": {
        "id": "gzWdqKYUEN99",
        "colab": {
          "base_uri": "https://localhost:8080/",
          "height": 357
        },
        "outputId": "ee845729-8a9b-49c4-8bf6-ae882c4af2e2"
      },
      "source": [
        "df.boxplot('age', by='who');"
      ],
      "execution_count": 60,
      "outputs": [
        {
          "output_type": "stream",
          "text": [
            "/usr/local/lib/python3.7/dist-packages/numpy/core/_asarray.py:83: VisibleDeprecationWarning: Creating an ndarray from ragged nested sequences (which is a list-or-tuple of lists-or-tuples-or ndarrays with different lengths or shapes) is deprecated. If you meant to do this, you must specify 'dtype=object' when creating the ndarray\n",
            "  return array(a, dtype, copy=False, order=order)\n"
          ],
          "name": "stderr"
        },
        {
          "output_type": "display_data",
          "data": {
            "image/png": "[encoded data removed]",
            "text/plain": [
              "<Figure size 432x288 with 1 Axes>"
            ]
          },
          "metadata": {
            "tags": [],
            "needs_background": "light"
          }
        }
      ]
    },
    {
      "cell_type": "code",
      "metadata": {
        "id": "_3_swRxWEN-B"
      },
      "source": [
        ""
      ],
      "execution_count": 60,
      "outputs": []
    }
  ]
}