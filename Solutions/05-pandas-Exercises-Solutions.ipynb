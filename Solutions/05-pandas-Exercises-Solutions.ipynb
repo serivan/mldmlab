{
  "nbformat": 4,
  "nbformat_minor": 0,
  "metadata": {
    "anaconda-cloud": {
      "environment": null
    },
    "kernelspec": {
      "display_name": "Python 3",
      "language": "python",
      "name": "python3"
    },
    "language_info": {
      "codemirror_mode": {
        "name": "ipython",
        "version": 3
      },
      "file_extension": ".py",
      "mimetype": "text/x-python",
      "name": "python",
      "nbconvert_exporter": "python",
      "pygments_lexer": "ipython3",
      "version": "3.6.9"
    },
    "toc-autonumbering": true,
    "colab": {
      "name": "05-pandas-Exercises-Solutions.ipynb",
      "provenance": []
    }
  },
  "cells": [
    {
      "cell_type": "markdown",
      "metadata": {
        "id": "0rBI6HastEEk"
      },
      "source": [
        "# Pandas COVID19 Practice - Solutions - Unibs 2021"
      ]
    },
    {
      "cell_type": "markdown",
      "metadata": {
        "id": "_GFGOMYhtEEq"
      },
      "source": [
        "In this exercize, we will anlyze some public data provided by the \"Dipartimento della Protezione Civile\". To inform the citzens and give the reached datas, useful only to comunicate and informate, Dipartimento della Protezione Civile has elaborated a dashboard reachable to the URL http://arcg.is/C1unv (desktop version) and http://arcg.is/081a51 (mobile version) and give to everyone, under the licence CC-BY-4.0, the following infos updated dialy at 18.30:\n",
        "* National evolution data\n",
        "* json data\n",
        "* Regional data\n",
        "* Provincial data\n",
        "* Summaries\n",
        "* Areas\n",
        "* Notes\n",
        "* Contracts data DPC furnitures\n",
        "* Metrics\n",
        "\n",
        "See https://github.com/pcm-dpc/COVID-19"
      ]
    },
    {
      "cell_type": "markdown",
      "metadata": {
        "id": "oPirs9D5tEEr"
      },
      "source": [
        "### Import pandas package under name `pd` and print version"
      ]
    },
    {
      "cell_type": "code",
      "metadata": {
        "id": "DoffZWYrtEEr"
      },
      "source": [
        "import matplotlib.pyplot as plt"
      ],
      "execution_count": 1,
      "outputs": []
    },
    {
      "cell_type": "markdown",
      "metadata": {
        "id": "JJl6emHutEEr"
      },
      "source": [
        "`hint: import ... as, pd.__version__ `"
      ]
    },
    {
      "cell_type": "code",
      "metadata": {
        "id": "MXpGD_PBtEEs"
      },
      "source": [
        "import pandas as pd"
      ],
      "execution_count": 2,
      "outputs": []
    },
    {
      "cell_type": "code",
      "metadata": {
        "colab": {
          "base_uri": "https://localhost:8080/",
          "height": 0
        },
        "id": "_CnStO2ZtEEs",
        "outputId": "50365b34-5b8f-4297-fc5c-a9f57c4e0895"
      },
      "source": [
        "print(pd.__version__)"
      ],
      "execution_count": 3,
      "outputs": [
        {
          "output_type": "stream",
          "text": [
            "1.1.5\n"
          ],
          "name": "stdout"
        }
      ]
    },
    {
      "cell_type": "markdown",
      "metadata": {
        "id": "1YB7d2sQtEEt"
      },
      "source": [
        "## Base"
      ]
    },
    {
      "cell_type": "markdown",
      "metadata": {
        "id": "LrLGZ0litEEt"
      },
      "source": [
        "### Download latest COVID19 csv of italian regions from official Italian Civil Protection github and show it\n",
        "\n",
        "CSV data at: https://raw.githubusercontent.com/pcm-dpc/COVID-19/master/dati-regioni/dpc-covid19-ita-regioni-latest.csv"
      ]
    },
    {
      "cell_type": "markdown",
      "metadata": {
        "id": "gT6q9GUjtEEu"
      },
      "source": [
        "`hint: pd.read_csv, sep=\",\"`"
      ]
    },
    {
      "cell_type": "code",
      "metadata": {
        "id": "KM3J4SMKtEEu"
      },
      "source": [
        "url = \"https://raw.githubusercontent.com/pcm-dpc/COVID-19/master/dati-regioni/dpc-covid19-ita-regioni-latest.csv\"\n",
        "covid_regions_latest = pd.read_csv(url, sep=\",\")"
      ],
      "execution_count": 4,
      "outputs": []
    },
    {
      "cell_type": "code",
      "metadata": {
        "colab": {
          "base_uri": "https://localhost:8080/",
          "height": 1315
        },
        "id": "N17LGHEHtEEu",
        "outputId": "77673986-697f-4f63-f88c-defbeb686e05"
      },
      "source": [
        "covid_regions_latest"
      ],
      "execution_count": 5,
      "outputs": [
        {
          "output_type": "execute_result",
          "data": {
            "text/html": [
              "<div>\n",
              "<style scoped>\n",
              "    .dataframe tbody tr th:only-of-type {\n",
              "        vertical-align: middle;\n",
              "    }\n",
              "\n",
              "    .dataframe tbody tr th {\n",
              "        vertical-align: top;\n",
              "    }\n",
              "\n",
              "    .dataframe thead th {\n",
              "        text-align: right;\n",
              "    }\n",
              "</style>\n",
              "<table border=\"1\" class=\"dataframe\">\n",
              "  <thead>\n",
              "    <tr style=\"text-align: right;\">\n",
              "      <th></th>\n",
              "      <th>data</th>\n",
              "      <th>stato</th>\n",
              "      <th>codice_regione</th>\n",
              "      <th>denominazione_regione</th>\n",
              "      <th>lat</th>\n",
              "      <th>long</th>\n",
              "      <th>ricoverati_con_sintomi</th>\n",
              "      <th>terapia_intensiva</th>\n",
              "      <th>totale_ospedalizzati</th>\n",
              "      <th>isolamento_domiciliare</th>\n",
              "      <th>totale_positivi</th>\n",
              "      <th>variazione_totale_positivi</th>\n",
              "      <th>nuovi_positivi</th>\n",
              "      <th>dimessi_guariti</th>\n",
              "      <th>deceduti</th>\n",
              "      <th>casi_da_sospetto_diagnostico</th>\n",
              "      <th>casi_da_screening</th>\n",
              "      <th>totale_casi</th>\n",
              "      <th>tamponi</th>\n",
              "      <th>casi_testati</th>\n",
              "      <th>note</th>\n",
              "      <th>ingressi_terapia_intensiva</th>\n",
              "      <th>note_test</th>\n",
              "      <th>note_casi</th>\n",
              "      <th>totale_positivi_test_molecolare</th>\n",
              "      <th>totale_positivi_test_antigenico_rapido</th>\n",
              "      <th>tamponi_test_molecolare</th>\n",
              "      <th>tamponi_test_antigenico_rapido</th>\n",
              "      <th>codice_nuts_1</th>\n",
              "      <th>codice_nuts_2</th>\n",
              "    </tr>\n",
              "  </thead>\n",
              "  <tbody>\n",
              "    <tr>\n",
              "      <th>0</th>\n",
              "      <td>2021-03-31T17:00:00</td>\n",
              "      <td>ITA</td>\n",
              "      <td>13</td>\n",
              "      <td>Abruzzo</td>\n",
              "      <td>42.351222</td>\n",
              "      <td>13.398438</td>\n",
              "      <td>607</td>\n",
              "      <td>68</td>\n",
              "      <td>675</td>\n",
              "      <td>9457</td>\n",
              "      <td>10132</td>\n",
              "      <td>-128</td>\n",
              "      <td>314</td>\n",
              "      <td>52969</td>\n",
              "      <td>2136</td>\n",
              "      <td>NaN</td>\n",
              "      <td>NaN</td>\n",
              "      <td>65237</td>\n",
              "      <td>1245216</td>\n",
              "      <td>576469</td>\n",
              "      <td>A seguito di controlli anagrafici, dai casi po...</td>\n",
              "      <td>5</td>\n",
              "      <td>NaN</td>\n",
              "      <td>NaN</td>\n",
              "      <td>65237</td>\n",
              "      <td>0</td>\n",
              "      <td>890907</td>\n",
              "      <td>354309</td>\n",
              "      <td>ITF</td>\n",
              "      <td>ITF1</td>\n",
              "    </tr>\n",
              "    <tr>\n",
              "      <th>1</th>\n",
              "      <td>2021-03-31T17:00:00</td>\n",
              "      <td>ITA</td>\n",
              "      <td>17</td>\n",
              "      <td>Basilicata</td>\n",
              "      <td>40.639471</td>\n",
              "      <td>15.805148</td>\n",
              "      <td>170</td>\n",
              "      <td>14</td>\n",
              "      <td>184</td>\n",
              "      <td>4590</td>\n",
              "      <td>4774</td>\n",
              "      <td>56</td>\n",
              "      <td>149</td>\n",
              "      <td>14241</td>\n",
              "      <td>443</td>\n",
              "      <td>NaN</td>\n",
              "      <td>NaN</td>\n",
              "      <td>19458</td>\n",
              "      <td>292913</td>\n",
              "      <td>168149</td>\n",
              "      <td>IL NUMERO TOTALE DEI DECESSI COMPRENDE 14 PAZI...</td>\n",
              "      <td>1</td>\n",
              "      <td>NaN</td>\n",
              "      <td>NaN</td>\n",
              "      <td>19458</td>\n",
              "      <td>0</td>\n",
              "      <td>280729</td>\n",
              "      <td>12184</td>\n",
              "      <td>ITF</td>\n",
              "      <td>ITF5</td>\n",
              "    </tr>\n",
              "    <tr>\n",
              "      <th>2</th>\n",
              "      <td>2021-03-31T17:00:00</td>\n",
              "      <td>ITA</td>\n",
              "      <td>18</td>\n",
              "      <td>Calabria</td>\n",
              "      <td>38.905976</td>\n",
              "      <td>16.594402</td>\n",
              "      <td>389</td>\n",
              "      <td>36</td>\n",
              "      <td>425</td>\n",
              "      <td>9900</td>\n",
              "      <td>10325</td>\n",
              "      <td>-77</td>\n",
              "      <td>347</td>\n",
              "      <td>35814</td>\n",
              "      <td>819</td>\n",
              "      <td>NaN</td>\n",
              "      <td>NaN</td>\n",
              "      <td>46958</td>\n",
              "      <td>667473</td>\n",
              "      <td>627407</td>\n",
              "      <td>NaN</td>\n",
              "      <td>3</td>\n",
              "      <td>NaN</td>\n",
              "      <td>NaN</td>\n",
              "      <td>46945</td>\n",
              "      <td>13</td>\n",
              "      <td>648070</td>\n",
              "      <td>19403</td>\n",
              "      <td>ITF</td>\n",
              "      <td>ITF6</td>\n",
              "    </tr>\n",
              "    <tr>\n",
              "      <th>3</th>\n",
              "      <td>2021-03-31T17:00:00</td>\n",
              "      <td>ITA</td>\n",
              "      <td>15</td>\n",
              "      <td>Campania</td>\n",
              "      <td>40.839566</td>\n",
              "      <td>14.250850</td>\n",
              "      <td>1587</td>\n",
              "      <td>160</td>\n",
              "      <td>1747</td>\n",
              "      <td>91370</td>\n",
              "      <td>93117</td>\n",
              "      <td>-1088</td>\n",
              "      <td>2016</td>\n",
              "      <td>238809</td>\n",
              "      <td>5363</td>\n",
              "      <td>NaN</td>\n",
              "      <td>NaN</td>\n",
              "      <td>337289</td>\n",
              "      <td>3607514</td>\n",
              "      <td>2438913</td>\n",
              "      <td>NaN</td>\n",
              "      <td>15</td>\n",
              "      <td>NaN</td>\n",
              "      <td>NaN</td>\n",
              "      <td>325701</td>\n",
              "      <td>11588</td>\n",
              "      <td>3387252</td>\n",
              "      <td>220262</td>\n",
              "      <td>ITF</td>\n",
              "      <td>ITF3</td>\n",
              "    </tr>\n",
              "    <tr>\n",
              "      <th>4</th>\n",
              "      <td>2021-03-31T17:00:00</td>\n",
              "      <td>ITA</td>\n",
              "      <td>8</td>\n",
              "      <td>Emilia-Romagna</td>\n",
              "      <td>44.494367</td>\n",
              "      <td>11.341721</td>\n",
              "      <td>3427</td>\n",
              "      <td>390</td>\n",
              "      <td>3817</td>\n",
              "      <td>68618</td>\n",
              "      <td>72435</td>\n",
              "      <td>-645</td>\n",
              "      <td>1490</td>\n",
              "      <td>251468</td>\n",
              "      <td>11917</td>\n",
              "      <td>NaN</td>\n",
              "      <td>NaN</td>\n",
              "      <td>335820</td>\n",
              "      <td>4850208</td>\n",
              "      <td>1679293</td>\n",
              "      <td>Sono stati eliminati 13 casi, positivi a test ...</td>\n",
              "      <td>22</td>\n",
              "      <td>NaN</td>\n",
              "      <td>NaN</td>\n",
              "      <td>335592</td>\n",
              "      <td>228</td>\n",
              "      <td>3995189</td>\n",
              "      <td>855019</td>\n",
              "      <td>ITH</td>\n",
              "      <td>ITH5</td>\n",
              "    </tr>\n",
              "    <tr>\n",
              "      <th>5</th>\n",
              "      <td>2021-03-31T17:00:00</td>\n",
              "      <td>ITA</td>\n",
              "      <td>6</td>\n",
              "      <td>Friuli Venezia Giulia</td>\n",
              "      <td>45.649435</td>\n",
              "      <td>13.768136</td>\n",
              "      <td>664</td>\n",
              "      <td>82</td>\n",
              "      <td>746</td>\n",
              "      <td>14451</td>\n",
              "      <td>15197</td>\n",
              "      <td>-176</td>\n",
              "      <td>644</td>\n",
              "      <td>78986</td>\n",
              "      <td>3307</td>\n",
              "      <td>NaN</td>\n",
              "      <td>NaN</td>\n",
              "      <td>97490</td>\n",
              "      <td>1623445</td>\n",
              "      <td>580139</td>\n",
              "      <td>NaN</td>\n",
              "      <td>9</td>\n",
              "      <td>NaN</td>\n",
              "      <td>NaN</td>\n",
              "      <td>85170</td>\n",
              "      <td>12320</td>\n",
              "      <td>1438414</td>\n",
              "      <td>185031</td>\n",
              "      <td>ITH</td>\n",
              "      <td>ITH4</td>\n",
              "    </tr>\n",
              "    <tr>\n",
              "      <th>6</th>\n",
              "      <td>2021-03-31T17:00:00</td>\n",
              "      <td>ITA</td>\n",
              "      <td>12</td>\n",
              "      <td>Lazio</td>\n",
              "      <td>41.892770</td>\n",
              "      <td>12.483667</td>\n",
              "      <td>3044</td>\n",
              "      <td>371</td>\n",
              "      <td>3415</td>\n",
              "      <td>47636</td>\n",
              "      <td>51051</td>\n",
              "      <td>-47</td>\n",
              "      <td>1800</td>\n",
              "      <td>227752</td>\n",
              "      <td>6644</td>\n",
              "      <td>NaN</td>\n",
              "      <td>NaN</td>\n",
              "      <td>285447</td>\n",
              "      <td>5156986</td>\n",
              "      <td>3421823</td>\n",
              "      <td>NaN</td>\n",
              "      <td>26</td>\n",
              "      <td>NaN</td>\n",
              "      <td>NaN</td>\n",
              "      <td>279899</td>\n",
              "      <td>5548</td>\n",
              "      <td>3851905</td>\n",
              "      <td>1305081</td>\n",
              "      <td>ITI</td>\n",
              "      <td>ITI4</td>\n",
              "    </tr>\n",
              "    <tr>\n",
              "      <th>7</th>\n",
              "      <td>2021-03-31T17:00:00</td>\n",
              "      <td>ITA</td>\n",
              "      <td>7</td>\n",
              "      <td>Liguria</td>\n",
              "      <td>44.411493</td>\n",
              "      <td>8.932699</td>\n",
              "      <td>642</td>\n",
              "      <td>68</td>\n",
              "      <td>710</td>\n",
              "      <td>6385</td>\n",
              "      <td>7095</td>\n",
              "      <td>108</td>\n",
              "      <td>383</td>\n",
              "      <td>78350</td>\n",
              "      <td>3879</td>\n",
              "      <td>NaN</td>\n",
              "      <td>NaN</td>\n",
              "      <td>89324</td>\n",
              "      <td>1235904</td>\n",
              "      <td>517132</td>\n",
              "      <td>NaN</td>\n",
              "      <td>2</td>\n",
              "      <td>NaN</td>\n",
              "      <td>In Regione Liguria la positività al test antig...</td>\n",
              "      <td>89324</td>\n",
              "      <td>0</td>\n",
              "      <td>1054765</td>\n",
              "      <td>181139</td>\n",
              "      <td>ITC</td>\n",
              "      <td>ITC3</td>\n",
              "    </tr>\n",
              "    <tr>\n",
              "      <th>8</th>\n",
              "      <td>2021-03-31T17:00:00</td>\n",
              "      <td>ITA</td>\n",
              "      <td>3</td>\n",
              "      <td>Lombardia</td>\n",
              "      <td>45.466794</td>\n",
              "      <td>9.190347</td>\n",
              "      <td>7033</td>\n",
              "      <td>863</td>\n",
              "      <td>7896</td>\n",
              "      <td>87959</td>\n",
              "      <td>95855</td>\n",
              "      <td>-667</td>\n",
              "      <td>3943</td>\n",
              "      <td>608894</td>\n",
              "      <td>30735</td>\n",
              "      <td>NaN</td>\n",
              "      <td>NaN</td>\n",
              "      <td>735484</td>\n",
              "      <td>8169813</td>\n",
              "      <td>3511485</td>\n",
              "      <td>NaN</td>\n",
              "      <td>54</td>\n",
              "      <td>NaN</td>\n",
              "      <td>NaN</td>\n",
              "      <td>702162</td>\n",
              "      <td>33322</td>\n",
              "      <td>7293704</td>\n",
              "      <td>876109</td>\n",
              "      <td>ITC</td>\n",
              "      <td>ITC4</td>\n",
              "    </tr>\n",
              "    <tr>\n",
              "      <th>9</th>\n",
              "      <td>2021-03-31T17:00:00</td>\n",
              "      <td>ITA</td>\n",
              "      <td>11</td>\n",
              "      <td>Marche</td>\n",
              "      <td>43.616760</td>\n",
              "      <td>13.518875</td>\n",
              "      <td>803</td>\n",
              "      <td>146</td>\n",
              "      <td>949</td>\n",
              "      <td>8418</td>\n",
              "      <td>9367</td>\n",
              "      <td>-17</td>\n",
              "      <td>807</td>\n",
              "      <td>76382</td>\n",
              "      <td>2621</td>\n",
              "      <td>NaN</td>\n",
              "      <td>NaN</td>\n",
              "      <td>88370</td>\n",
              "      <td>1005671</td>\n",
              "      <td>610043</td>\n",
              "      <td>NaN</td>\n",
              "      <td>5</td>\n",
              "      <td>NaN</td>\n",
              "      <td>NaN</td>\n",
              "      <td>88370</td>\n",
              "      <td>0</td>\n",
              "      <td>906993</td>\n",
              "      <td>98678</td>\n",
              "      <td>ITI</td>\n",
              "      <td>ITI3</td>\n",
              "    </tr>\n",
              "    <tr>\n",
              "      <th>10</th>\n",
              "      <td>2021-03-31T17:00:00</td>\n",
              "      <td>ITA</td>\n",
              "      <td>14</td>\n",
              "      <td>Molise</td>\n",
              "      <td>41.557748</td>\n",
              "      <td>14.659161</td>\n",
              "      <td>63</td>\n",
              "      <td>16</td>\n",
              "      <td>79</td>\n",
              "      <td>787</td>\n",
              "      <td>866</td>\n",
              "      <td>-67</td>\n",
              "      <td>17</td>\n",
              "      <td>10966</td>\n",
              "      <td>438</td>\n",
              "      <td>NaN</td>\n",
              "      <td>NaN</td>\n",
              "      <td>12270</td>\n",
              "      <td>184516</td>\n",
              "      <td>166401</td>\n",
              "      <td>NaN</td>\n",
              "      <td>1</td>\n",
              "      <td>NaN</td>\n",
              "      <td>NaN</td>\n",
              "      <td>12270</td>\n",
              "      <td>0</td>\n",
              "      <td>184223</td>\n",
              "      <td>293</td>\n",
              "      <td>ITF</td>\n",
              "      <td>ITF2</td>\n",
              "    </tr>\n",
              "    <tr>\n",
              "      <th>11</th>\n",
              "      <td>2021-03-31T17:00:00</td>\n",
              "      <td>ITA</td>\n",
              "      <td>21</td>\n",
              "      <td>P.A. Bolzano</td>\n",
              "      <td>46.499335</td>\n",
              "      <td>11.356624</td>\n",
              "      <td>90</td>\n",
              "      <td>20</td>\n",
              "      <td>110</td>\n",
              "      <td>576</td>\n",
              "      <td>686</td>\n",
              "      <td>-33</td>\n",
              "      <td>120</td>\n",
              "      <td>67142</td>\n",
              "      <td>1126</td>\n",
              "      <td>NaN</td>\n",
              "      <td>NaN</td>\n",
              "      <td>68954</td>\n",
              "      <td>1123271</td>\n",
              "      <td>360849</td>\n",
              "      <td>Note\\t(selezionare sia casella arancione che g...</td>\n",
              "      <td>2</td>\n",
              "      <td>NaN</td>\n",
              "      <td>NaN</td>\n",
              "      <td>56268</td>\n",
              "      <td>12686</td>\n",
              "      <td>529504</td>\n",
              "      <td>593767</td>\n",
              "      <td>ITH</td>\n",
              "      <td>ITH1</td>\n",
              "    </tr>\n",
              "    <tr>\n",
              "      <th>12</th>\n",
              "      <td>2021-03-31T17:00:00</td>\n",
              "      <td>ITA</td>\n",
              "      <td>22</td>\n",
              "      <td>P.A. Trento</td>\n",
              "      <td>46.068935</td>\n",
              "      <td>11.121231</td>\n",
              "      <td>201</td>\n",
              "      <td>51</td>\n",
              "      <td>252</td>\n",
              "      <td>2611</td>\n",
              "      <td>2863</td>\n",
              "      <td>-143</td>\n",
              "      <td>187</td>\n",
              "      <td>37086</td>\n",
              "      <td>1282</td>\n",
              "      <td>NaN</td>\n",
              "      <td>NaN</td>\n",
              "      <td>41231</td>\n",
              "      <td>702081</td>\n",
              "      <td>184137</td>\n",
              "      <td>NaN</td>\n",
              "      <td>5</td>\n",
              "      <td>NaN</td>\n",
              "      <td>NaN</td>\n",
              "      <td>30547</td>\n",
              "      <td>10684</td>\n",
              "      <td>601153</td>\n",
              "      <td>100928</td>\n",
              "      <td>ITH</td>\n",
              "      <td>ITH2</td>\n",
              "    </tr>\n",
              "    <tr>\n",
              "      <th>13</th>\n",
              "      <td>2021-03-31T17:00:00</td>\n",
              "      <td>ITA</td>\n",
              "      <td>1</td>\n",
              "      <td>Piemonte</td>\n",
              "      <td>45.073274</td>\n",
              "      <td>7.680687</td>\n",
              "      <td>3873</td>\n",
              "      <td>376</td>\n",
              "      <td>4249</td>\n",
              "      <td>30810</td>\n",
              "      <td>35059</td>\n",
              "      <td>-358</td>\n",
              "      <td>2298</td>\n",
              "      <td>263913</td>\n",
              "      <td>10308</td>\n",
              "      <td>NaN</td>\n",
              "      <td>NaN</td>\n",
              "      <td>309280</td>\n",
              "      <td>3310922</td>\n",
              "      <td>1512067</td>\n",
              "      <td>NaN</td>\n",
              "      <td>23</td>\n",
              "      <td>NaN</td>\n",
              "      <td>NaN</td>\n",
              "      <td>295069</td>\n",
              "      <td>14211</td>\n",
              "      <td>2390966</td>\n",
              "      <td>919956</td>\n",
              "      <td>ITC</td>\n",
              "      <td>ITC1</td>\n",
              "    </tr>\n",
              "    <tr>\n",
              "      <th>14</th>\n",
              "      <td>2021-03-31T17:00:00</td>\n",
              "      <td>ITA</td>\n",
              "      <td>16</td>\n",
              "      <td>Puglia</td>\n",
              "      <td>41.125596</td>\n",
              "      <td>16.867367</td>\n",
              "      <td>1840</td>\n",
              "      <td>260</td>\n",
              "      <td>2100</td>\n",
              "      <td>44757</td>\n",
              "      <td>46857</td>\n",
              "      <td>81</td>\n",
              "      <td>1962</td>\n",
              "      <td>141343</td>\n",
              "      <td>4812</td>\n",
              "      <td>NaN</td>\n",
              "      <td>NaN</td>\n",
              "      <td>193012</td>\n",
              "      <td>1871149</td>\n",
              "      <td>1012722</td>\n",
              "      <td>NaN</td>\n",
              "      <td>22</td>\n",
              "      <td>NaN</td>\n",
              "      <td>NaN</td>\n",
              "      <td>192134</td>\n",
              "      <td>878</td>\n",
              "      <td>1777912</td>\n",
              "      <td>93237</td>\n",
              "      <td>ITF</td>\n",
              "      <td>ITF4</td>\n",
              "    </tr>\n",
              "    <tr>\n",
              "      <th>15</th>\n",
              "      <td>2021-03-31T17:00:00</td>\n",
              "      <td>ITA</td>\n",
              "      <td>20</td>\n",
              "      <td>Sardegna</td>\n",
              "      <td>39.215312</td>\n",
              "      <td>9.110616</td>\n",
              "      <td>222</td>\n",
              "      <td>34</td>\n",
              "      <td>256</td>\n",
              "      <td>14141</td>\n",
              "      <td>14397</td>\n",
              "      <td>366</td>\n",
              "      <td>444</td>\n",
              "      <td>29872</td>\n",
              "      <td>1234</td>\n",
              "      <td>NaN</td>\n",
              "      <td>NaN</td>\n",
              "      <td>45503</td>\n",
              "      <td>1005266</td>\n",
              "      <td>596976</td>\n",
              "      <td>NaN</td>\n",
              "      <td>4</td>\n",
              "      <td>NaN</td>\n",
              "      <td>Si dichiara il decesso di: - 1 pz. 71 aa resid...</td>\n",
              "      <td>45486</td>\n",
              "      <td>17</td>\n",
              "      <td>712895</td>\n",
              "      <td>292371</td>\n",
              "      <td>ITG</td>\n",
              "      <td>ITG2</td>\n",
              "    </tr>\n",
              "    <tr>\n",
              "      <th>16</th>\n",
              "      <td>2021-03-31T17:00:00</td>\n",
              "      <td>ITA</td>\n",
              "      <td>19</td>\n",
              "      <td>Sicilia</td>\n",
              "      <td>38.115697</td>\n",
              "      <td>13.362357</td>\n",
              "      <td>891</td>\n",
              "      <td>140</td>\n",
              "      <td>1031</td>\n",
              "      <td>18889</td>\n",
              "      <td>19920</td>\n",
              "      <td>2503</td>\n",
              "      <td>2904</td>\n",
              "      <td>150806</td>\n",
              "      <td>4628</td>\n",
              "      <td>NaN</td>\n",
              "      <td>NaN</td>\n",
              "      <td>175354</td>\n",
              "      <td>3162046</td>\n",
              "      <td>1282141</td>\n",
              "      <td>dati inviati aggregando il 30 e il 31 di marzo...</td>\n",
              "      <td>20</td>\n",
              "      <td>NaN</td>\n",
              "      <td>NaN</td>\n",
              "      <td>175354</td>\n",
              "      <td>0</td>\n",
              "      <td>2010639</td>\n",
              "      <td>1151407</td>\n",
              "      <td>ITG</td>\n",
              "      <td>ITG1</td>\n",
              "    </tr>\n",
              "    <tr>\n",
              "      <th>17</th>\n",
              "      <td>2021-03-31T17:00:00</td>\n",
              "      <td>ITA</td>\n",
              "      <td>9</td>\n",
              "      <td>Toscana</td>\n",
              "      <td>43.769231</td>\n",
              "      <td>11.255889</td>\n",
              "      <td>1560</td>\n",
              "      <td>265</td>\n",
              "      <td>1825</td>\n",
              "      <td>26282</td>\n",
              "      <td>28107</td>\n",
              "      <td>217</td>\n",
              "      <td>1538</td>\n",
              "      <td>161919</td>\n",
              "      <td>5348</td>\n",
              "      <td>NaN</td>\n",
              "      <td>NaN</td>\n",
              "      <td>195374</td>\n",
              "      <td>3427730</td>\n",
              "      <td>1770281</td>\n",
              "      <td>NaN</td>\n",
              "      <td>18</td>\n",
              "      <td>NaN</td>\n",
              "      <td>NaN</td>\n",
              "      <td>193401</td>\n",
              "      <td>1973</td>\n",
              "      <td>2913359</td>\n",
              "      <td>514371</td>\n",
              "      <td>ITI</td>\n",
              "      <td>ITI1</td>\n",
              "    </tr>\n",
              "    <tr>\n",
              "      <th>18</th>\n",
              "      <td>2021-03-31T17:00:00</td>\n",
              "      <td>ITA</td>\n",
              "      <td>10</td>\n",
              "      <td>Umbria</td>\n",
              "      <td>43.106758</td>\n",
              "      <td>12.388247</td>\n",
              "      <td>349</td>\n",
              "      <td>60</td>\n",
              "      <td>409</td>\n",
              "      <td>4397</td>\n",
              "      <td>4806</td>\n",
              "      <td>-239</td>\n",
              "      <td>162</td>\n",
              "      <td>44846</td>\n",
              "      <td>1256</td>\n",
              "      <td>NaN</td>\n",
              "      <td>NaN</td>\n",
              "      <td>50908</td>\n",
              "      <td>980871</td>\n",
              "      <td>337974</td>\n",
              "      <td>NaN</td>\n",
              "      <td>4</td>\n",
              "      <td>NaN</td>\n",
              "      <td>NaN</td>\n",
              "      <td>50908</td>\n",
              "      <td>0</td>\n",
              "      <td>786100</td>\n",
              "      <td>194771</td>\n",
              "      <td>ITI</td>\n",
              "      <td>ITI2</td>\n",
              "    </tr>\n",
              "    <tr>\n",
              "      <th>19</th>\n",
              "      <td>2021-03-31T17:00:00</td>\n",
              "      <td>ITA</td>\n",
              "      <td>2</td>\n",
              "      <td>Valle d'Aosta</td>\n",
              "      <td>45.737503</td>\n",
              "      <td>7.320149</td>\n",
              "      <td>49</td>\n",
              "      <td>8</td>\n",
              "      <td>57</td>\n",
              "      <td>845</td>\n",
              "      <td>902</td>\n",
              "      <td>0</td>\n",
              "      <td>62</td>\n",
              "      <td>7971</td>\n",
              "      <td>425</td>\n",
              "      <td>NaN</td>\n",
              "      <td>NaN</td>\n",
              "      <td>9298</td>\n",
              "      <td>95322</td>\n",
              "      <td>51514</td>\n",
              "      <td>Si precisa che il riallineamento dei dati comu...</td>\n",
              "      <td>1</td>\n",
              "      <td>NaN</td>\n",
              "      <td>NaN</td>\n",
              "      <td>9100</td>\n",
              "      <td>198</td>\n",
              "      <td>81244</td>\n",
              "      <td>14078</td>\n",
              "      <td>ITC</td>\n",
              "      <td>ITC2</td>\n",
              "    </tr>\n",
              "    <tr>\n",
              "      <th>20</th>\n",
              "      <td>2021-03-31T17:00:00</td>\n",
              "      <td>ITA</td>\n",
              "      <td>5</td>\n",
              "      <td>Veneto</td>\n",
              "      <td>45.434905</td>\n",
              "      <td>12.338452</td>\n",
              "      <td>1676</td>\n",
              "      <td>282</td>\n",
              "      <td>1958</td>\n",
              "      <td>36739</td>\n",
              "      <td>38697</td>\n",
              "      <td>30</td>\n",
              "      <td>2317</td>\n",
              "      <td>333516</td>\n",
              "      <td>10625</td>\n",
              "      <td>NaN</td>\n",
              "      <td>NaN</td>\n",
              "      <td>382838</td>\n",
              "      <td>6184340</td>\n",
              "      <td>1558375</td>\n",
              "      <td>Nei valori riportati per le terapie intensive ...</td>\n",
              "      <td>41</td>\n",
              "      <td>NaN</td>\n",
              "      <td>NaN</td>\n",
              "      <td>373732</td>\n",
              "      <td>9106</td>\n",
              "      <td>4548785</td>\n",
              "      <td>1635555</td>\n",
              "      <td>ITH</td>\n",
              "      <td>ITH3</td>\n",
              "    </tr>\n",
              "  </tbody>\n",
              "</table>\n",
              "</div>"
            ],
            "text/plain": [
              "                   data stato  ...  codice_nuts_1 codice_nuts_2\n",
              "0   2021-03-31T17:00:00   ITA  ...            ITF          ITF1\n",
              "1   2021-03-31T17:00:00   ITA  ...            ITF          ITF5\n",
              "2   2021-03-31T17:00:00   ITA  ...            ITF          ITF6\n",
              "3   2021-03-31T17:00:00   ITA  ...            ITF          ITF3\n",
              "4   2021-03-31T17:00:00   ITA  ...            ITH          ITH5\n",
              "5   2021-03-31T17:00:00   ITA  ...            ITH          ITH4\n",
              "6   2021-03-31T17:00:00   ITA  ...            ITI          ITI4\n",
              "7   2021-03-31T17:00:00   ITA  ...            ITC          ITC3\n",
              "8   2021-03-31T17:00:00   ITA  ...            ITC          ITC4\n",
              "9   2021-03-31T17:00:00   ITA  ...            ITI          ITI3\n",
              "10  2021-03-31T17:00:00   ITA  ...            ITF          ITF2\n",
              "11  2021-03-31T17:00:00   ITA  ...            ITH          ITH1\n",
              "12  2021-03-31T17:00:00   ITA  ...            ITH          ITH2\n",
              "13  2021-03-31T17:00:00   ITA  ...            ITC          ITC1\n",
              "14  2021-03-31T17:00:00   ITA  ...            ITF          ITF4\n",
              "15  2021-03-31T17:00:00   ITA  ...            ITG          ITG2\n",
              "16  2021-03-31T17:00:00   ITA  ...            ITG          ITG1\n",
              "17  2021-03-31T17:00:00   ITA  ...            ITI          ITI1\n",
              "18  2021-03-31T17:00:00   ITA  ...            ITI          ITI2\n",
              "19  2021-03-31T17:00:00   ITA  ...            ITC          ITC2\n",
              "20  2021-03-31T17:00:00   ITA  ...            ITH          ITH3\n",
              "\n",
              "[21 rows x 30 columns]"
            ]
          },
          "metadata": {
            "tags": []
          },
          "execution_count": 5
        }
      ]
    },
    {
      "cell_type": "markdown",
      "metadata": {
        "id": "b5BtEfcdtEEv"
      },
      "source": [
        "### Sort columns and show their types"
      ]
    },
    {
      "cell_type": "markdown",
      "metadata": {
        "id": "JoYVmAdqtEEv"
      },
      "source": [
        "`hint: df.sort_index, axis=1, inplace=True, df.dtypes`"
      ]
    },
    {
      "cell_type": "code",
      "metadata": {
        "id": "llIR_r4UtEEv"
      },
      "source": [
        "covid_regions_latest.sort_index(axis=1, inplace=True)"
      ],
      "execution_count": 6,
      "outputs": []
    },
    {
      "cell_type": "code",
      "metadata": {
        "colab": {
          "base_uri": "https://localhost:8080/",
          "height": 0
        },
        "id": "RBVtaf4VtEEw",
        "outputId": "29d9b47b-0b65-49b7-b6e2-fae33687dd97"
      },
      "source": [
        "covid_regions_latest.dtypes"
      ],
      "execution_count": 7,
      "outputs": [
        {
          "output_type": "execute_result",
          "data": {
            "text/plain": [
              "casi_da_screening                         float64\n",
              "casi_da_sospetto_diagnostico              float64\n",
              "casi_testati                                int64\n",
              "codice_nuts_1                              object\n",
              "codice_nuts_2                              object\n",
              "codice_regione                              int64\n",
              "data                                       object\n",
              "deceduti                                    int64\n",
              "denominazione_regione                      object\n",
              "dimessi_guariti                             int64\n",
              "ingressi_terapia_intensiva                  int64\n",
              "isolamento_domiciliare                      int64\n",
              "lat                                       float64\n",
              "long                                      float64\n",
              "note                                       object\n",
              "note_casi                                  object\n",
              "note_test                                 float64\n",
              "nuovi_positivi                              int64\n",
              "ricoverati_con_sintomi                      int64\n",
              "stato                                      object\n",
              "tamponi                                     int64\n",
              "tamponi_test_antigenico_rapido              int64\n",
              "tamponi_test_molecolare                     int64\n",
              "terapia_intensiva                           int64\n",
              "totale_casi                                 int64\n",
              "totale_ospedalizzati                        int64\n",
              "totale_positivi                             int64\n",
              "totale_positivi_test_antigenico_rapido      int64\n",
              "totale_positivi_test_molecolare             int64\n",
              "variazione_totale_positivi                  int64\n",
              "dtype: object"
            ]
          },
          "metadata": {
            "tags": []
          },
          "execution_count": 7
        }
      ]
    },
    {
      "cell_type": "markdown",
      "metadata": {
        "id": "3HwSf_6NtEEw"
      },
      "source": [
        "### Print first and last five rows of the data"
      ]
    },
    {
      "cell_type": "markdown",
      "metadata": {
        "id": "Cx8ReC1NtEEw"
      },
      "source": [
        "`hint: df.head, df.tail`"
      ]
    },
    {
      "cell_type": "code",
      "metadata": {
        "colab": {
          "base_uri": "https://localhost:8080/",
          "height": 428
        },
        "id": "S25jkqq7tEEw",
        "outputId": "867430e6-9d6d-4fed-faf4-fcfeb58082ee"
      },
      "source": [
        "covid_regions_latest.head()"
      ],
      "execution_count": 8,
      "outputs": [
        {
          "output_type": "execute_result",
          "data": {
            "text/html": [
              "<div>\n",
              "<style scoped>\n",
              "    .dataframe tbody tr th:only-of-type {\n",
              "        vertical-align: middle;\n",
              "    }\n",
              "\n",
              "    .dataframe tbody tr th {\n",
              "        vertical-align: top;\n",
              "    }\n",
              "\n",
              "    .dataframe thead th {\n",
              "        text-align: right;\n",
              "    }\n",
              "</style>\n",
              "<table border=\"1\" class=\"dataframe\">\n",
              "  <thead>\n",
              "    <tr style=\"text-align: right;\">\n",
              "      <th></th>\n",
              "      <th>casi_da_screening</th>\n",
              "      <th>casi_da_sospetto_diagnostico</th>\n",
              "      <th>casi_testati</th>\n",
              "      <th>codice_nuts_1</th>\n",
              "      <th>codice_nuts_2</th>\n",
              "      <th>codice_regione</th>\n",
              "      <th>data</th>\n",
              "      <th>deceduti</th>\n",
              "      <th>denominazione_regione</th>\n",
              "      <th>dimessi_guariti</th>\n",
              "      <th>ingressi_terapia_intensiva</th>\n",
              "      <th>isolamento_domiciliare</th>\n",
              "      <th>lat</th>\n",
              "      <th>long</th>\n",
              "      <th>note</th>\n",
              "      <th>note_casi</th>\n",
              "      <th>note_test</th>\n",
              "      <th>nuovi_positivi</th>\n",
              "      <th>ricoverati_con_sintomi</th>\n",
              "      <th>stato</th>\n",
              "      <th>tamponi</th>\n",
              "      <th>tamponi_test_antigenico_rapido</th>\n",
              "      <th>tamponi_test_molecolare</th>\n",
              "      <th>terapia_intensiva</th>\n",
              "      <th>totale_casi</th>\n",
              "      <th>totale_ospedalizzati</th>\n",
              "      <th>totale_positivi</th>\n",
              "      <th>totale_positivi_test_antigenico_rapido</th>\n",
              "      <th>totale_positivi_test_molecolare</th>\n",
              "      <th>variazione_totale_positivi</th>\n",
              "    </tr>\n",
              "  </thead>\n",
              "  <tbody>\n",
              "    <tr>\n",
              "      <th>0</th>\n",
              "      <td>NaN</td>\n",
              "      <td>NaN</td>\n",
              "      <td>576469</td>\n",
              "      <td>ITF</td>\n",
              "      <td>ITF1</td>\n",
              "      <td>13</td>\n",
              "      <td>2021-03-31T17:00:00</td>\n",
              "      <td>2136</td>\n",
              "      <td>Abruzzo</td>\n",
              "      <td>52969</td>\n",
              "      <td>5</td>\n",
              "      <td>9457</td>\n",
              "      <td>42.351222</td>\n",
              "      <td>13.398438</td>\n",
              "      <td>A seguito di controlli anagrafici, dai casi po...</td>\n",
              "      <td>NaN</td>\n",
              "      <td>NaN</td>\n",
              "      <td>314</td>\n",
              "      <td>607</td>\n",
              "      <td>ITA</td>\n",
              "      <td>1245216</td>\n",
              "      <td>354309</td>\n",
              "      <td>890907</td>\n",
              "      <td>68</td>\n",
              "      <td>65237</td>\n",
              "      <td>675</td>\n",
              "      <td>10132</td>\n",
              "      <td>0</td>\n",
              "      <td>65237</td>\n",
              "      <td>-128</td>\n",
              "    </tr>\n",
              "    <tr>\n",
              "      <th>1</th>\n",
              "      <td>NaN</td>\n",
              "      <td>NaN</td>\n",
              "      <td>168149</td>\n",
              "      <td>ITF</td>\n",
              "      <td>ITF5</td>\n",
              "      <td>17</td>\n",
              "      <td>2021-03-31T17:00:00</td>\n",
              "      <td>443</td>\n",
              "      <td>Basilicata</td>\n",
              "      <td>14241</td>\n",
              "      <td>1</td>\n",
              "      <td>4590</td>\n",
              "      <td>40.639471</td>\n",
              "      <td>15.805148</td>\n",
              "      <td>IL NUMERO TOTALE DEI DECESSI COMPRENDE 14 PAZI...</td>\n",
              "      <td>NaN</td>\n",
              "      <td>NaN</td>\n",
              "      <td>149</td>\n",
              "      <td>170</td>\n",
              "      <td>ITA</td>\n",
              "      <td>292913</td>\n",
              "      <td>12184</td>\n",
              "      <td>280729</td>\n",
              "      <td>14</td>\n",
              "      <td>19458</td>\n",
              "      <td>184</td>\n",
              "      <td>4774</td>\n",
              "      <td>0</td>\n",
              "      <td>19458</td>\n",
              "      <td>56</td>\n",
              "    </tr>\n",
              "    <tr>\n",
              "      <th>2</th>\n",
              "      <td>NaN</td>\n",
              "      <td>NaN</td>\n",
              "      <td>627407</td>\n",
              "      <td>ITF</td>\n",
              "      <td>ITF6</td>\n",
              "      <td>18</td>\n",
              "      <td>2021-03-31T17:00:00</td>\n",
              "      <td>819</td>\n",
              "      <td>Calabria</td>\n",
              "      <td>35814</td>\n",
              "      <td>3</td>\n",
              "      <td>9900</td>\n",
              "      <td>38.905976</td>\n",
              "      <td>16.594402</td>\n",
              "      <td>NaN</td>\n",
              "      <td>NaN</td>\n",
              "      <td>NaN</td>\n",
              "      <td>347</td>\n",
              "      <td>389</td>\n",
              "      <td>ITA</td>\n",
              "      <td>667473</td>\n",
              "      <td>19403</td>\n",
              "      <td>648070</td>\n",
              "      <td>36</td>\n",
              "      <td>46958</td>\n",
              "      <td>425</td>\n",
              "      <td>10325</td>\n",
              "      <td>13</td>\n",
              "      <td>46945</td>\n",
              "      <td>-77</td>\n",
              "    </tr>\n",
              "    <tr>\n",
              "      <th>3</th>\n",
              "      <td>NaN</td>\n",
              "      <td>NaN</td>\n",
              "      <td>2438913</td>\n",
              "      <td>ITF</td>\n",
              "      <td>ITF3</td>\n",
              "      <td>15</td>\n",
              "      <td>2021-03-31T17:00:00</td>\n",
              "      <td>5363</td>\n",
              "      <td>Campania</td>\n",
              "      <td>238809</td>\n",
              "      <td>15</td>\n",
              "      <td>91370</td>\n",
              "      <td>40.839566</td>\n",
              "      <td>14.250850</td>\n",
              "      <td>NaN</td>\n",
              "      <td>NaN</td>\n",
              "      <td>NaN</td>\n",
              "      <td>2016</td>\n",
              "      <td>1587</td>\n",
              "      <td>ITA</td>\n",
              "      <td>3607514</td>\n",
              "      <td>220262</td>\n",
              "      <td>3387252</td>\n",
              "      <td>160</td>\n",
              "      <td>337289</td>\n",
              "      <td>1747</td>\n",
              "      <td>93117</td>\n",
              "      <td>11588</td>\n",
              "      <td>325701</td>\n",
              "      <td>-1088</td>\n",
              "    </tr>\n",
              "    <tr>\n",
              "      <th>4</th>\n",
              "      <td>NaN</td>\n",
              "      <td>NaN</td>\n",
              "      <td>1679293</td>\n",
              "      <td>ITH</td>\n",
              "      <td>ITH5</td>\n",
              "      <td>8</td>\n",
              "      <td>2021-03-31T17:00:00</td>\n",
              "      <td>11917</td>\n",
              "      <td>Emilia-Romagna</td>\n",
              "      <td>251468</td>\n",
              "      <td>22</td>\n",
              "      <td>68618</td>\n",
              "      <td>44.494367</td>\n",
              "      <td>11.341721</td>\n",
              "      <td>Sono stati eliminati 13 casi, positivi a test ...</td>\n",
              "      <td>NaN</td>\n",
              "      <td>NaN</td>\n",
              "      <td>1490</td>\n",
              "      <td>3427</td>\n",
              "      <td>ITA</td>\n",
              "      <td>4850208</td>\n",
              "      <td>855019</td>\n",
              "      <td>3995189</td>\n",
              "      <td>390</td>\n",
              "      <td>335820</td>\n",
              "      <td>3817</td>\n",
              "      <td>72435</td>\n",
              "      <td>228</td>\n",
              "      <td>335592</td>\n",
              "      <td>-645</td>\n",
              "    </tr>\n",
              "  </tbody>\n",
              "</table>\n",
              "</div>"
            ],
            "text/plain": [
              "   casi_da_screening  ...  variazione_totale_positivi\n",
              "0                NaN  ...                        -128\n",
              "1                NaN  ...                          56\n",
              "2                NaN  ...                         -77\n",
              "3                NaN  ...                       -1088\n",
              "4                NaN  ...                        -645\n",
              "\n",
              "[5 rows x 30 columns]"
            ]
          },
          "metadata": {
            "tags": []
          },
          "execution_count": 8
        }
      ]
    },
    {
      "cell_type": "code",
      "metadata": {
        "colab": {
          "base_uri": "https://localhost:8080/",
          "height": 428
        },
        "id": "g0LWQASAtEEx",
        "outputId": "2114d6b2-2590-4000-c3b7-b0456db719f9"
      },
      "source": [
        "covid_regions_latest.tail()"
      ],
      "execution_count": 9,
      "outputs": [
        {
          "output_type": "execute_result",
          "data": {
            "text/html": [
              "<div>\n",
              "<style scoped>\n",
              "    .dataframe tbody tr th:only-of-type {\n",
              "        vertical-align: middle;\n",
              "    }\n",
              "\n",
              "    .dataframe tbody tr th {\n",
              "        vertical-align: top;\n",
              "    }\n",
              "\n",
              "    .dataframe thead th {\n",
              "        text-align: right;\n",
              "    }\n",
              "</style>\n",
              "<table border=\"1\" class=\"dataframe\">\n",
              "  <thead>\n",
              "    <tr style=\"text-align: right;\">\n",
              "      <th></th>\n",
              "      <th>casi_da_screening</th>\n",
              "      <th>casi_da_sospetto_diagnostico</th>\n",
              "      <th>casi_testati</th>\n",
              "      <th>codice_nuts_1</th>\n",
              "      <th>codice_nuts_2</th>\n",
              "      <th>codice_regione</th>\n",
              "      <th>data</th>\n",
              "      <th>deceduti</th>\n",
              "      <th>denominazione_regione</th>\n",
              "      <th>dimessi_guariti</th>\n",
              "      <th>ingressi_terapia_intensiva</th>\n",
              "      <th>isolamento_domiciliare</th>\n",
              "      <th>lat</th>\n",
              "      <th>long</th>\n",
              "      <th>note</th>\n",
              "      <th>note_casi</th>\n",
              "      <th>note_test</th>\n",
              "      <th>nuovi_positivi</th>\n",
              "      <th>ricoverati_con_sintomi</th>\n",
              "      <th>stato</th>\n",
              "      <th>tamponi</th>\n",
              "      <th>tamponi_test_antigenico_rapido</th>\n",
              "      <th>tamponi_test_molecolare</th>\n",
              "      <th>terapia_intensiva</th>\n",
              "      <th>totale_casi</th>\n",
              "      <th>totale_ospedalizzati</th>\n",
              "      <th>totale_positivi</th>\n",
              "      <th>totale_positivi_test_antigenico_rapido</th>\n",
              "      <th>totale_positivi_test_molecolare</th>\n",
              "      <th>variazione_totale_positivi</th>\n",
              "    </tr>\n",
              "  </thead>\n",
              "  <tbody>\n",
              "    <tr>\n",
              "      <th>16</th>\n",
              "      <td>NaN</td>\n",
              "      <td>NaN</td>\n",
              "      <td>1282141</td>\n",
              "      <td>ITG</td>\n",
              "      <td>ITG1</td>\n",
              "      <td>19</td>\n",
              "      <td>2021-03-31T17:00:00</td>\n",
              "      <td>4628</td>\n",
              "      <td>Sicilia</td>\n",
              "      <td>150806</td>\n",
              "      <td>20</td>\n",
              "      <td>18889</td>\n",
              "      <td>38.115697</td>\n",
              "      <td>13.362357</td>\n",
              "      <td>dati inviati aggregando il 30 e il 31 di marzo...</td>\n",
              "      <td>NaN</td>\n",
              "      <td>NaN</td>\n",
              "      <td>2904</td>\n",
              "      <td>891</td>\n",
              "      <td>ITA</td>\n",
              "      <td>3162046</td>\n",
              "      <td>1151407</td>\n",
              "      <td>2010639</td>\n",
              "      <td>140</td>\n",
              "      <td>175354</td>\n",
              "      <td>1031</td>\n",
              "      <td>19920</td>\n",
              "      <td>0</td>\n",
              "      <td>175354</td>\n",
              "      <td>2503</td>\n",
              "    </tr>\n",
              "    <tr>\n",
              "      <th>17</th>\n",
              "      <td>NaN</td>\n",
              "      <td>NaN</td>\n",
              "      <td>1770281</td>\n",
              "      <td>ITI</td>\n",
              "      <td>ITI1</td>\n",
              "      <td>9</td>\n",
              "      <td>2021-03-31T17:00:00</td>\n",
              "      <td>5348</td>\n",
              "      <td>Toscana</td>\n",
              "      <td>161919</td>\n",
              "      <td>18</td>\n",
              "      <td>26282</td>\n",
              "      <td>43.769231</td>\n",
              "      <td>11.255889</td>\n",
              "      <td>NaN</td>\n",
              "      <td>NaN</td>\n",
              "      <td>NaN</td>\n",
              "      <td>1538</td>\n",
              "      <td>1560</td>\n",
              "      <td>ITA</td>\n",
              "      <td>3427730</td>\n",
              "      <td>514371</td>\n",
              "      <td>2913359</td>\n",
              "      <td>265</td>\n",
              "      <td>195374</td>\n",
              "      <td>1825</td>\n",
              "      <td>28107</td>\n",
              "      <td>1973</td>\n",
              "      <td>193401</td>\n",
              "      <td>217</td>\n",
              "    </tr>\n",
              "    <tr>\n",
              "      <th>18</th>\n",
              "      <td>NaN</td>\n",
              "      <td>NaN</td>\n",
              "      <td>337974</td>\n",
              "      <td>ITI</td>\n",
              "      <td>ITI2</td>\n",
              "      <td>10</td>\n",
              "      <td>2021-03-31T17:00:00</td>\n",
              "      <td>1256</td>\n",
              "      <td>Umbria</td>\n",
              "      <td>44846</td>\n",
              "      <td>4</td>\n",
              "      <td>4397</td>\n",
              "      <td>43.106758</td>\n",
              "      <td>12.388247</td>\n",
              "      <td>NaN</td>\n",
              "      <td>NaN</td>\n",
              "      <td>NaN</td>\n",
              "      <td>162</td>\n",
              "      <td>349</td>\n",
              "      <td>ITA</td>\n",
              "      <td>980871</td>\n",
              "      <td>194771</td>\n",
              "      <td>786100</td>\n",
              "      <td>60</td>\n",
              "      <td>50908</td>\n",
              "      <td>409</td>\n",
              "      <td>4806</td>\n",
              "      <td>0</td>\n",
              "      <td>50908</td>\n",
              "      <td>-239</td>\n",
              "    </tr>\n",
              "    <tr>\n",
              "      <th>19</th>\n",
              "      <td>NaN</td>\n",
              "      <td>NaN</td>\n",
              "      <td>51514</td>\n",
              "      <td>ITC</td>\n",
              "      <td>ITC2</td>\n",
              "      <td>2</td>\n",
              "      <td>2021-03-31T17:00:00</td>\n",
              "      <td>425</td>\n",
              "      <td>Valle d'Aosta</td>\n",
              "      <td>7971</td>\n",
              "      <td>1</td>\n",
              "      <td>845</td>\n",
              "      <td>45.737503</td>\n",
              "      <td>7.320149</td>\n",
              "      <td>Si precisa che il riallineamento dei dati comu...</td>\n",
              "      <td>NaN</td>\n",
              "      <td>NaN</td>\n",
              "      <td>62</td>\n",
              "      <td>49</td>\n",
              "      <td>ITA</td>\n",
              "      <td>95322</td>\n",
              "      <td>14078</td>\n",
              "      <td>81244</td>\n",
              "      <td>8</td>\n",
              "      <td>9298</td>\n",
              "      <td>57</td>\n",
              "      <td>902</td>\n",
              "      <td>198</td>\n",
              "      <td>9100</td>\n",
              "      <td>0</td>\n",
              "    </tr>\n",
              "    <tr>\n",
              "      <th>20</th>\n",
              "      <td>NaN</td>\n",
              "      <td>NaN</td>\n",
              "      <td>1558375</td>\n",
              "      <td>ITH</td>\n",
              "      <td>ITH3</td>\n",
              "      <td>5</td>\n",
              "      <td>2021-03-31T17:00:00</td>\n",
              "      <td>10625</td>\n",
              "      <td>Veneto</td>\n",
              "      <td>333516</td>\n",
              "      <td>41</td>\n",
              "      <td>36739</td>\n",
              "      <td>45.434905</td>\n",
              "      <td>12.338452</td>\n",
              "      <td>Nei valori riportati per le terapie intensive ...</td>\n",
              "      <td>NaN</td>\n",
              "      <td>NaN</td>\n",
              "      <td>2317</td>\n",
              "      <td>1676</td>\n",
              "      <td>ITA</td>\n",
              "      <td>6184340</td>\n",
              "      <td>1635555</td>\n",
              "      <td>4548785</td>\n",
              "      <td>282</td>\n",
              "      <td>382838</td>\n",
              "      <td>1958</td>\n",
              "      <td>38697</td>\n",
              "      <td>9106</td>\n",
              "      <td>373732</td>\n",
              "      <td>30</td>\n",
              "    </tr>\n",
              "  </tbody>\n",
              "</table>\n",
              "</div>"
            ],
            "text/plain": [
              "    casi_da_screening  ...  variazione_totale_positivi\n",
              "16                NaN  ...                        2503\n",
              "17                NaN  ...                         217\n",
              "18                NaN  ...                        -239\n",
              "19                NaN  ...                           0\n",
              "20                NaN  ...                          30\n",
              "\n",
              "[5 rows x 30 columns]"
            ]
          },
          "metadata": {
            "tags": []
          },
          "execution_count": 9
        }
      ]
    },
    {
      "cell_type": "markdown",
      "metadata": {
        "id": "eYma_xjRtEEx"
      },
      "source": [
        "### Print synthetic statistical description of the dataframe (count, min, max, mean, etc.)"
      ]
    },
    {
      "cell_type": "markdown",
      "metadata": {
        "id": "ePJ0RXM5tEEx"
      },
      "source": [
        "`hint: df.describe`"
      ]
    },
    {
      "cell_type": "code",
      "metadata": {
        "colab": {
          "base_uri": "https://localhost:8080/",
          "height": 317
        },
        "id": "dx7Mgl5CtEEy",
        "outputId": "6404233a-2414-4710-80cc-7ef2da050024"
      },
      "source": [
        "covid_regions_latest.describe()"
      ],
      "execution_count": 10,
      "outputs": [
        {
          "output_type": "execute_result",
          "data": {
            "text/html": [
              "<div>\n",
              "<style scoped>\n",
              "    .dataframe tbody tr th:only-of-type {\n",
              "        vertical-align: middle;\n",
              "    }\n",
              "\n",
              "    .dataframe tbody tr th {\n",
              "        vertical-align: top;\n",
              "    }\n",
              "\n",
              "    .dataframe thead th {\n",
              "        text-align: right;\n",
              "    }\n",
              "</style>\n",
              "<table border=\"1\" class=\"dataframe\">\n",
              "  <thead>\n",
              "    <tr style=\"text-align: right;\">\n",
              "      <th></th>\n",
              "      <th>casi_da_screening</th>\n",
              "      <th>casi_da_sospetto_diagnostico</th>\n",
              "      <th>casi_testati</th>\n",
              "      <th>codice_regione</th>\n",
              "      <th>deceduti</th>\n",
              "      <th>dimessi_guariti</th>\n",
              "      <th>ingressi_terapia_intensiva</th>\n",
              "      <th>isolamento_domiciliare</th>\n",
              "      <th>lat</th>\n",
              "      <th>long</th>\n",
              "      <th>note_test</th>\n",
              "      <th>nuovi_positivi</th>\n",
              "      <th>ricoverati_con_sintomi</th>\n",
              "      <th>tamponi</th>\n",
              "      <th>tamponi_test_antigenico_rapido</th>\n",
              "      <th>tamponi_test_molecolare</th>\n",
              "      <th>terapia_intensiva</th>\n",
              "      <th>totale_casi</th>\n",
              "      <th>totale_ospedalizzati</th>\n",
              "      <th>totale_positivi</th>\n",
              "      <th>totale_positivi_test_antigenico_rapido</th>\n",
              "      <th>totale_positivi_test_molecolare</th>\n",
              "      <th>variazione_totale_positivi</th>\n",
              "    </tr>\n",
              "  </thead>\n",
              "  <tbody>\n",
              "    <tr>\n",
              "      <th>count</th>\n",
              "      <td>0.0</td>\n",
              "      <td>0.0</td>\n",
              "      <td>2.100000e+01</td>\n",
              "      <td>21.000000</td>\n",
              "      <td>21.000000</td>\n",
              "      <td>21.000000</td>\n",
              "      <td>21.000000</td>\n",
              "      <td>21.000000</td>\n",
              "      <td>21.000000</td>\n",
              "      <td>21.000000</td>\n",
              "      <td>0.0</td>\n",
              "      <td>21.000000</td>\n",
              "      <td>21.000000</td>\n",
              "      <td>2.100000e+01</td>\n",
              "      <td>2.100000e+01</td>\n",
              "      <td>2.100000e+01</td>\n",
              "      <td>21.000000</td>\n",
              "      <td>21.000000</td>\n",
              "      <td>21.000000</td>\n",
              "      <td>21.000000</td>\n",
              "      <td>21.000000</td>\n",
              "      <td>21.000000</td>\n",
              "      <td>21.000000</td>\n",
              "    </tr>\n",
              "    <tr>\n",
              "      <th>mean</th>\n",
              "      <td>NaN</td>\n",
              "      <td>NaN</td>\n",
              "      <td>1.093538e+06</td>\n",
              "      <td>11.857143</td>\n",
              "      <td>5206.952381</td>\n",
              "      <td>138716.428571</td>\n",
              "      <td>13.476190</td>\n",
              "      <td>25219.904762</td>\n",
              "      <td>43.046293</td>\n",
              "      <td>12.225955</td>\n",
              "      <td>NaN</td>\n",
              "      <td>1138.285714</td>\n",
              "      <td>1389.523810</td>\n",
              "      <td>2.376317e+06</td>\n",
              "      <td>4.579976e+05</td>\n",
              "      <td>1.918319e+06</td>\n",
              "      <td>176.666667</td>\n",
              "      <td>170709.476190</td>\n",
              "      <td>1566.190476</td>\n",
              "      <td>26786.095238</td>\n",
              "      <td>5370.095238</td>\n",
              "      <td>165339.380952</td>\n",
              "      <td>-15.428571</td>\n",
              "    </tr>\n",
              "    <tr>\n",
              "      <th>std</th>\n",
              "      <td>NaN</td>\n",
              "      <td>NaN</td>\n",
              "      <td>1.015114e+06</td>\n",
              "      <td>6.428730</td>\n",
              "      <td>6808.769063</td>\n",
              "      <td>144930.365204</td>\n",
              "      <td>14.340917</td>\n",
              "      <td>28118.020801</td>\n",
              "      <td>2.550241</td>\n",
              "      <td>2.724611</td>\n",
              "      <td>NaN</td>\n",
              "      <td>1115.575687</td>\n",
              "      <td>1719.597326</td>\n",
              "      <td>2.199756e+06</td>\n",
              "      <td>4.824392e+05</td>\n",
              "      <td>1.835702e+06</td>\n",
              "      <td>203.698143</td>\n",
              "      <td>177321.430714</td>\n",
              "      <td>1920.405156</td>\n",
              "      <td>29660.800803</td>\n",
              "      <td>8325.602740</td>\n",
              "      <td>171271.997496</td>\n",
              "      <td>662.384826</td>\n",
              "    </tr>\n",
              "    <tr>\n",
              "      <th>min</th>\n",
              "      <td>NaN</td>\n",
              "      <td>NaN</td>\n",
              "      <td>5.151400e+04</td>\n",
              "      <td>1.000000</td>\n",
              "      <td>425.000000</td>\n",
              "      <td>7971.000000</td>\n",
              "      <td>1.000000</td>\n",
              "      <td>576.000000</td>\n",
              "      <td>38.115697</td>\n",
              "      <td>7.320149</td>\n",
              "      <td>NaN</td>\n",
              "      <td>17.000000</td>\n",
              "      <td>49.000000</td>\n",
              "      <td>9.532200e+04</td>\n",
              "      <td>2.930000e+02</td>\n",
              "      <td>8.124400e+04</td>\n",
              "      <td>8.000000</td>\n",
              "      <td>9298.000000</td>\n",
              "      <td>57.000000</td>\n",
              "      <td>686.000000</td>\n",
              "      <td>0.000000</td>\n",
              "      <td>9100.000000</td>\n",
              "      <td>-1088.000000</td>\n",
              "    </tr>\n",
              "    <tr>\n",
              "      <th>25%</th>\n",
              "      <td>NaN</td>\n",
              "      <td>NaN</td>\n",
              "      <td>3.608490e+05</td>\n",
              "      <td>7.000000</td>\n",
              "      <td>1234.000000</td>\n",
              "      <td>37086.000000</td>\n",
              "      <td>3.000000</td>\n",
              "      <td>4590.000000</td>\n",
              "      <td>41.125596</td>\n",
              "      <td>11.121231</td>\n",
              "      <td>NaN</td>\n",
              "      <td>187.000000</td>\n",
              "      <td>222.000000</td>\n",
              "      <td>9.808710e+05</td>\n",
              "      <td>9.867800e+04</td>\n",
              "      <td>6.480700e+05</td>\n",
              "      <td>36.000000</td>\n",
              "      <td>46958.000000</td>\n",
              "      <td>256.000000</td>\n",
              "      <td>4806.000000</td>\n",
              "      <td>0.000000</td>\n",
              "      <td>46945.000000</td>\n",
              "      <td>-176.000000</td>\n",
              "    </tr>\n",
              "    <tr>\n",
              "      <th>50%</th>\n",
              "      <td>NaN</td>\n",
              "      <td>NaN</td>\n",
              "      <td>6.100430e+05</td>\n",
              "      <td>12.000000</td>\n",
              "      <td>3307.000000</td>\n",
              "      <td>78350.000000</td>\n",
              "      <td>5.000000</td>\n",
              "      <td>14141.000000</td>\n",
              "      <td>43.616760</td>\n",
              "      <td>12.388247</td>\n",
              "      <td>NaN</td>\n",
              "      <td>644.000000</td>\n",
              "      <td>664.000000</td>\n",
              "      <td>1.245216e+06</td>\n",
              "      <td>2.202620e+05</td>\n",
              "      <td>1.054765e+06</td>\n",
              "      <td>82.000000</td>\n",
              "      <td>89324.000000</td>\n",
              "      <td>746.000000</td>\n",
              "      <td>14397.000000</td>\n",
              "      <td>228.000000</td>\n",
              "      <td>88370.000000</td>\n",
              "      <td>-47.000000</td>\n",
              "    </tr>\n",
              "    <tr>\n",
              "      <th>75%</th>\n",
              "      <td>NaN</td>\n",
              "      <td>NaN</td>\n",
              "      <td>1.558375e+06</td>\n",
              "      <td>17.000000</td>\n",
              "      <td>5363.000000</td>\n",
              "      <td>227752.000000</td>\n",
              "      <td>22.000000</td>\n",
              "      <td>36739.000000</td>\n",
              "      <td>45.434905</td>\n",
              "      <td>13.768136</td>\n",
              "      <td>NaN</td>\n",
              "      <td>1962.000000</td>\n",
              "      <td>1676.000000</td>\n",
              "      <td>3.427730e+06</td>\n",
              "      <td>8.550190e+05</td>\n",
              "      <td>2.913359e+06</td>\n",
              "      <td>265.000000</td>\n",
              "      <td>285447.000000</td>\n",
              "      <td>1958.000000</td>\n",
              "      <td>38697.000000</td>\n",
              "      <td>10684.000000</td>\n",
              "      <td>279899.000000</td>\n",
              "      <td>56.000000</td>\n",
              "    </tr>\n",
              "    <tr>\n",
              "      <th>max</th>\n",
              "      <td>NaN</td>\n",
              "      <td>NaN</td>\n",
              "      <td>3.511485e+06</td>\n",
              "      <td>22.000000</td>\n",
              "      <td>30735.000000</td>\n",
              "      <td>608894.000000</td>\n",
              "      <td>54.000000</td>\n",
              "      <td>91370.000000</td>\n",
              "      <td>46.499335</td>\n",
              "      <td>16.867367</td>\n",
              "      <td>NaN</td>\n",
              "      <td>3943.000000</td>\n",
              "      <td>7033.000000</td>\n",
              "      <td>8.169813e+06</td>\n",
              "      <td>1.635555e+06</td>\n",
              "      <td>7.293704e+06</td>\n",
              "      <td>863.000000</td>\n",
              "      <td>735484.000000</td>\n",
              "      <td>7896.000000</td>\n",
              "      <td>95855.000000</td>\n",
              "      <td>33322.000000</td>\n",
              "      <td>702162.000000</td>\n",
              "      <td>2503.000000</td>\n",
              "    </tr>\n",
              "  </tbody>\n",
              "</table>\n",
              "</div>"
            ],
            "text/plain": [
              "       casi_da_screening  ...  variazione_totale_positivi\n",
              "count                0.0  ...                   21.000000\n",
              "mean                 NaN  ...                  -15.428571\n",
              "std                  NaN  ...                  662.384826\n",
              "min                  NaN  ...                -1088.000000\n",
              "25%                  NaN  ...                 -176.000000\n",
              "50%                  NaN  ...                  -47.000000\n",
              "75%                  NaN  ...                   56.000000\n",
              "max                  NaN  ...                 2503.000000\n",
              "\n",
              "[8 rows x 23 columns]"
            ]
          },
          "metadata": {
            "tags": []
          },
          "execution_count": 10
        }
      ]
    },
    {
      "cell_type": "markdown",
      "metadata": {
        "id": "dxEcBp8CtEEy"
      },
      "source": [
        "### Count elements for each column"
      ]
    },
    {
      "cell_type": "markdown",
      "metadata": {
        "id": "NpbddC2LtEEy"
      },
      "source": [
        "`hint: df.count`"
      ]
    },
    {
      "cell_type": "code",
      "metadata": {
        "colab": {
          "base_uri": "https://localhost:8080/",
          "height": 0
        },
        "id": "QPsNHwqftEEy",
        "outputId": "3ab63460-362b-45cb-c5ce-25fa8dd030bd"
      },
      "source": [
        "covid_regions_latest.count()"
      ],
      "execution_count": 11,
      "outputs": [
        {
          "output_type": "execute_result",
          "data": {
            "text/plain": [
              "casi_da_screening                          0\n",
              "casi_da_sospetto_diagnostico               0\n",
              "casi_testati                              21\n",
              "codice_nuts_1                             21\n",
              "codice_nuts_2                             21\n",
              "codice_regione                            21\n",
              "data                                      21\n",
              "deceduti                                  21\n",
              "denominazione_regione                     21\n",
              "dimessi_guariti                           21\n",
              "ingressi_terapia_intensiva                21\n",
              "isolamento_domiciliare                    21\n",
              "lat                                       21\n",
              "long                                      21\n",
              "note                                       7\n",
              "note_casi                                  2\n",
              "note_test                                  0\n",
              "nuovi_positivi                            21\n",
              "ricoverati_con_sintomi                    21\n",
              "stato                                     21\n",
              "tamponi                                   21\n",
              "tamponi_test_antigenico_rapido            21\n",
              "tamponi_test_molecolare                   21\n",
              "terapia_intensiva                         21\n",
              "totale_casi                               21\n",
              "totale_ospedalizzati                      21\n",
              "totale_positivi                           21\n",
              "totale_positivi_test_antigenico_rapido    21\n",
              "totale_positivi_test_molecolare           21\n",
              "variazione_totale_positivi                21\n",
              "dtype: int64"
            ]
          },
          "metadata": {
            "tags": []
          },
          "execution_count": 11
        }
      ]
    },
    {
      "cell_type": "markdown",
      "metadata": {
        "id": "KgkTkE1ztEEz"
      },
      "source": [
        "### Select only \"totale_positivi\" and \"nuovi_positivi\" columns"
      ]
    },
    {
      "cell_type": "markdown",
      "metadata": {
        "id": "87B6v1nLtEEz"
      },
      "source": [
        "`hint: df[]`"
      ]
    },
    {
      "cell_type": "code",
      "metadata": {
        "colab": {
          "base_uri": "https://localhost:8080/",
          "height": 700
        },
        "id": "AHy2v6dUtEEz",
        "outputId": "e8f56fdb-6509-4824-fd0f-d493acf2a689"
      },
      "source": [
        "covid_regions_latest[[\"totale_positivi\", \"nuovi_positivi\"]]"
      ],
      "execution_count": 12,
      "outputs": [
        {
          "output_type": "execute_result",
          "data": {
            "text/html": [
              "<div>\n",
              "<style scoped>\n",
              "    .dataframe tbody tr th:only-of-type {\n",
              "        vertical-align: middle;\n",
              "    }\n",
              "\n",
              "    .dataframe tbody tr th {\n",
              "        vertical-align: top;\n",
              "    }\n",
              "\n",
              "    .dataframe thead th {\n",
              "        text-align: right;\n",
              "    }\n",
              "</style>\n",
              "<table border=\"1\" class=\"dataframe\">\n",
              "  <thead>\n",
              "    <tr style=\"text-align: right;\">\n",
              "      <th></th>\n",
              "      <th>totale_positivi</th>\n",
              "      <th>nuovi_positivi</th>\n",
              "    </tr>\n",
              "  </thead>\n",
              "  <tbody>\n",
              "    <tr>\n",
              "      <th>0</th>\n",
              "      <td>10132</td>\n",
              "      <td>314</td>\n",
              "    </tr>\n",
              "    <tr>\n",
              "      <th>1</th>\n",
              "      <td>4774</td>\n",
              "      <td>149</td>\n",
              "    </tr>\n",
              "    <tr>\n",
              "      <th>2</th>\n",
              "      <td>10325</td>\n",
              "      <td>347</td>\n",
              "    </tr>\n",
              "    <tr>\n",
              "      <th>3</th>\n",
              "      <td>93117</td>\n",
              "      <td>2016</td>\n",
              "    </tr>\n",
              "    <tr>\n",
              "      <th>4</th>\n",
              "      <td>72435</td>\n",
              "      <td>1490</td>\n",
              "    </tr>\n",
              "    <tr>\n",
              "      <th>5</th>\n",
              "      <td>15197</td>\n",
              "      <td>644</td>\n",
              "    </tr>\n",
              "    <tr>\n",
              "      <th>6</th>\n",
              "      <td>51051</td>\n",
              "      <td>1800</td>\n",
              "    </tr>\n",
              "    <tr>\n",
              "      <th>7</th>\n",
              "      <td>7095</td>\n",
              "      <td>383</td>\n",
              "    </tr>\n",
              "    <tr>\n",
              "      <th>8</th>\n",
              "      <td>95855</td>\n",
              "      <td>3943</td>\n",
              "    </tr>\n",
              "    <tr>\n",
              "      <th>9</th>\n",
              "      <td>9367</td>\n",
              "      <td>807</td>\n",
              "    </tr>\n",
              "    <tr>\n",
              "      <th>10</th>\n",
              "      <td>866</td>\n",
              "      <td>17</td>\n",
              "    </tr>\n",
              "    <tr>\n",
              "      <th>11</th>\n",
              "      <td>686</td>\n",
              "      <td>120</td>\n",
              "    </tr>\n",
              "    <tr>\n",
              "      <th>12</th>\n",
              "      <td>2863</td>\n",
              "      <td>187</td>\n",
              "    </tr>\n",
              "    <tr>\n",
              "      <th>13</th>\n",
              "      <td>35059</td>\n",
              "      <td>2298</td>\n",
              "    </tr>\n",
              "    <tr>\n",
              "      <th>14</th>\n",
              "      <td>46857</td>\n",
              "      <td>1962</td>\n",
              "    </tr>\n",
              "    <tr>\n",
              "      <th>15</th>\n",
              "      <td>14397</td>\n",
              "      <td>444</td>\n",
              "    </tr>\n",
              "    <tr>\n",
              "      <th>16</th>\n",
              "      <td>19920</td>\n",
              "      <td>2904</td>\n",
              "    </tr>\n",
              "    <tr>\n",
              "      <th>17</th>\n",
              "      <td>28107</td>\n",
              "      <td>1538</td>\n",
              "    </tr>\n",
              "    <tr>\n",
              "      <th>18</th>\n",
              "      <td>4806</td>\n",
              "      <td>162</td>\n",
              "    </tr>\n",
              "    <tr>\n",
              "      <th>19</th>\n",
              "      <td>902</td>\n",
              "      <td>62</td>\n",
              "    </tr>\n",
              "    <tr>\n",
              "      <th>20</th>\n",
              "      <td>38697</td>\n",
              "      <td>2317</td>\n",
              "    </tr>\n",
              "  </tbody>\n",
              "</table>\n",
              "</div>"
            ],
            "text/plain": [
              "    totale_positivi  nuovi_positivi\n",
              "0             10132             314\n",
              "1              4774             149\n",
              "2             10325             347\n",
              "3             93117            2016\n",
              "4             72435            1490\n",
              "5             15197             644\n",
              "6             51051            1800\n",
              "7              7095             383\n",
              "8             95855            3943\n",
              "9              9367             807\n",
              "10              866              17\n",
              "11              686             120\n",
              "12             2863             187\n",
              "13            35059            2298\n",
              "14            46857            1962\n",
              "15            14397             444\n",
              "16            19920            2904\n",
              "17            28107            1538\n",
              "18             4806             162\n",
              "19              902              62\n",
              "20            38697            2317"
            ]
          },
          "metadata": {
            "tags": []
          },
          "execution_count": 12
        }
      ]
    },
    {
      "cell_type": "markdown",
      "metadata": {
        "id": "91mz2pzNtEEz"
      },
      "source": [
        "### Create the new column \"precedenti_positivi\" columns using the formula $precedenti\\_positivi = totale\\_positivi - nuovi\\_positivi$ and show it"
      ]
    },
    {
      "cell_type": "markdown",
      "metadata": {
        "id": "78IluzFitEE0"
      },
      "source": [
        "`hint: df[] = df[] - df[]`"
      ]
    },
    {
      "cell_type": "code",
      "metadata": {
        "colab": {
          "base_uri": "https://localhost:8080/",
          "height": 0
        },
        "id": "9LNGylLatEE0",
        "outputId": "41422f10-416d-4c5b-98a8-fca73d96434d"
      },
      "source": [
        "covid_regions_latest[\"precedenti_positivi\"] = (\n",
        "    covid_regions_latest.totale_positivi - covid_regions_latest.nuovi_positivi\n",
        ")\n",
        "covid_regions_latest.precedenti_positivi"
      ],
      "execution_count": 13,
      "outputs": [
        {
          "output_type": "execute_result",
          "data": {
            "text/plain": [
              "0      9818\n",
              "1      4625\n",
              "2      9978\n",
              "3     91101\n",
              "4     70945\n",
              "5     14553\n",
              "6     49251\n",
              "7      6712\n",
              "8     91912\n",
              "9      8560\n",
              "10      849\n",
              "11      566\n",
              "12     2676\n",
              "13    32761\n",
              "14    44895\n",
              "15    13953\n",
              "16    17016\n",
              "17    26569\n",
              "18     4644\n",
              "19      840\n",
              "20    36380\n",
              "Name: precedenti_positivi, dtype: int64"
            ]
          },
          "metadata": {
            "tags": []
          },
          "execution_count": 13
        }
      ]
    },
    {
      "cell_type": "markdown",
      "metadata": {
        "id": "hMPcPAOltEE0"
      },
      "source": [
        "### Select only rows from 5 to 7"
      ]
    },
    {
      "cell_type": "markdown",
      "metadata": {
        "id": "hi3bS0d3tEE0"
      },
      "source": [
        "`hint: df.loc[]`"
      ]
    },
    {
      "cell_type": "code",
      "metadata": {
        "colab": {
          "base_uri": "https://localhost:8080/",
          "height": 247
        },
        "id": "uVeicosotEE1",
        "outputId": "5fa3b4ff-bab8-4650-fd18-bef36cadbe51"
      },
      "source": [
        "covid_regions_latest.loc[5:7]"
      ],
      "execution_count": 14,
      "outputs": [
        {
          "output_type": "execute_result",
          "data": {
            "text/html": [
              "<div>\n",
              "<style scoped>\n",
              "    .dataframe tbody tr th:only-of-type {\n",
              "        vertical-align: middle;\n",
              "    }\n",
              "\n",
              "    .dataframe tbody tr th {\n",
              "        vertical-align: top;\n",
              "    }\n",
              "\n",
              "    .dataframe thead th {\n",
              "        text-align: right;\n",
              "    }\n",
              "</style>\n",
              "<table border=\"1\" class=\"dataframe\">\n",
              "  <thead>\n",
              "    <tr style=\"text-align: right;\">\n",
              "      <th></th>\n",
              "      <th>casi_da_screening</th>\n",
              "      <th>casi_da_sospetto_diagnostico</th>\n",
              "      <th>casi_testati</th>\n",
              "      <th>codice_nuts_1</th>\n",
              "      <th>codice_nuts_2</th>\n",
              "      <th>codice_regione</th>\n",
              "      <th>data</th>\n",
              "      <th>deceduti</th>\n",
              "      <th>denominazione_regione</th>\n",
              "      <th>dimessi_guariti</th>\n",
              "      <th>ingressi_terapia_intensiva</th>\n",
              "      <th>isolamento_domiciliare</th>\n",
              "      <th>lat</th>\n",
              "      <th>long</th>\n",
              "      <th>note</th>\n",
              "      <th>note_casi</th>\n",
              "      <th>note_test</th>\n",
              "      <th>nuovi_positivi</th>\n",
              "      <th>ricoverati_con_sintomi</th>\n",
              "      <th>stato</th>\n",
              "      <th>tamponi</th>\n",
              "      <th>tamponi_test_antigenico_rapido</th>\n",
              "      <th>tamponi_test_molecolare</th>\n",
              "      <th>terapia_intensiva</th>\n",
              "      <th>totale_casi</th>\n",
              "      <th>totale_ospedalizzati</th>\n",
              "      <th>totale_positivi</th>\n",
              "      <th>totale_positivi_test_antigenico_rapido</th>\n",
              "      <th>totale_positivi_test_molecolare</th>\n",
              "      <th>variazione_totale_positivi</th>\n",
              "      <th>precedenti_positivi</th>\n",
              "    </tr>\n",
              "  </thead>\n",
              "  <tbody>\n",
              "    <tr>\n",
              "      <th>5</th>\n",
              "      <td>NaN</td>\n",
              "      <td>NaN</td>\n",
              "      <td>580139</td>\n",
              "      <td>ITH</td>\n",
              "      <td>ITH4</td>\n",
              "      <td>6</td>\n",
              "      <td>2021-03-31T17:00:00</td>\n",
              "      <td>3307</td>\n",
              "      <td>Friuli Venezia Giulia</td>\n",
              "      <td>78986</td>\n",
              "      <td>9</td>\n",
              "      <td>14451</td>\n",
              "      <td>45.649435</td>\n",
              "      <td>13.768136</td>\n",
              "      <td>NaN</td>\n",
              "      <td>NaN</td>\n",
              "      <td>NaN</td>\n",
              "      <td>644</td>\n",
              "      <td>664</td>\n",
              "      <td>ITA</td>\n",
              "      <td>1623445</td>\n",
              "      <td>185031</td>\n",
              "      <td>1438414</td>\n",
              "      <td>82</td>\n",
              "      <td>97490</td>\n",
              "      <td>746</td>\n",
              "      <td>15197</td>\n",
              "      <td>12320</td>\n",
              "      <td>85170</td>\n",
              "      <td>-176</td>\n",
              "      <td>14553</td>\n",
              "    </tr>\n",
              "    <tr>\n",
              "      <th>6</th>\n",
              "      <td>NaN</td>\n",
              "      <td>NaN</td>\n",
              "      <td>3421823</td>\n",
              "      <td>ITI</td>\n",
              "      <td>ITI4</td>\n",
              "      <td>12</td>\n",
              "      <td>2021-03-31T17:00:00</td>\n",
              "      <td>6644</td>\n",
              "      <td>Lazio</td>\n",
              "      <td>227752</td>\n",
              "      <td>26</td>\n",
              "      <td>47636</td>\n",
              "      <td>41.892770</td>\n",
              "      <td>12.483667</td>\n",
              "      <td>NaN</td>\n",
              "      <td>NaN</td>\n",
              "      <td>NaN</td>\n",
              "      <td>1800</td>\n",
              "      <td>3044</td>\n",
              "      <td>ITA</td>\n",
              "      <td>5156986</td>\n",
              "      <td>1305081</td>\n",
              "      <td>3851905</td>\n",
              "      <td>371</td>\n",
              "      <td>285447</td>\n",
              "      <td>3415</td>\n",
              "      <td>51051</td>\n",
              "      <td>5548</td>\n",
              "      <td>279899</td>\n",
              "      <td>-47</td>\n",
              "      <td>49251</td>\n",
              "    </tr>\n",
              "    <tr>\n",
              "      <th>7</th>\n",
              "      <td>NaN</td>\n",
              "      <td>NaN</td>\n",
              "      <td>517132</td>\n",
              "      <td>ITC</td>\n",
              "      <td>ITC3</td>\n",
              "      <td>7</td>\n",
              "      <td>2021-03-31T17:00:00</td>\n",
              "      <td>3879</td>\n",
              "      <td>Liguria</td>\n",
              "      <td>78350</td>\n",
              "      <td>2</td>\n",
              "      <td>6385</td>\n",
              "      <td>44.411493</td>\n",
              "      <td>8.932699</td>\n",
              "      <td>NaN</td>\n",
              "      <td>In Regione Liguria la positività al test antig...</td>\n",
              "      <td>NaN</td>\n",
              "      <td>383</td>\n",
              "      <td>642</td>\n",
              "      <td>ITA</td>\n",
              "      <td>1235904</td>\n",
              "      <td>181139</td>\n",
              "      <td>1054765</td>\n",
              "      <td>68</td>\n",
              "      <td>89324</td>\n",
              "      <td>710</td>\n",
              "      <td>7095</td>\n",
              "      <td>0</td>\n",
              "      <td>89324</td>\n",
              "      <td>108</td>\n",
              "      <td>6712</td>\n",
              "    </tr>\n",
              "  </tbody>\n",
              "</table>\n",
              "</div>"
            ],
            "text/plain": [
              "   casi_da_screening  ...  precedenti_positivi\n",
              "5                NaN  ...                14553\n",
              "6                NaN  ...                49251\n",
              "7                NaN  ...                 6712\n",
              "\n",
              "[3 rows x 31 columns]"
            ]
          },
          "metadata": {
            "tags": []
          },
          "execution_count": 14
        }
      ]
    },
    {
      "cell_type": "markdown",
      "metadata": {
        "id": "8RETY68dtEE1"
      },
      "source": [
        "### Select only \"totale_positivi\" and \"nuovi_positivi\" columns and only rows from 5 to 7"
      ]
    },
    {
      "cell_type": "markdown",
      "metadata": {
        "id": "k_1qcsBltEE1"
      },
      "source": [
        "`hint: df[], df.loc[]`"
      ]
    },
    {
      "cell_type": "code",
      "metadata": {
        "colab": {
          "base_uri": "https://localhost:8080/",
          "height": 142
        },
        "id": "ocgKE1sDtEE1",
        "outputId": "4cf63d82-7edc-466e-e36f-225e309a4140"
      },
      "source": [
        "covid_regions_latest[[\"totale_positivi\", \"nuovi_positivi\"]].loc[5:7]"
      ],
      "execution_count": 15,
      "outputs": [
        {
          "output_type": "execute_result",
          "data": {
            "text/html": [
              "<div>\n",
              "<style scoped>\n",
              "    .dataframe tbody tr th:only-of-type {\n",
              "        vertical-align: middle;\n",
              "    }\n",
              "\n",
              "    .dataframe tbody tr th {\n",
              "        vertical-align: top;\n",
              "    }\n",
              "\n",
              "    .dataframe thead th {\n",
              "        text-align: right;\n",
              "    }\n",
              "</style>\n",
              "<table border=\"1\" class=\"dataframe\">\n",
              "  <thead>\n",
              "    <tr style=\"text-align: right;\">\n",
              "      <th></th>\n",
              "      <th>totale_positivi</th>\n",
              "      <th>nuovi_positivi</th>\n",
              "    </tr>\n",
              "  </thead>\n",
              "  <tbody>\n",
              "    <tr>\n",
              "      <th>5</th>\n",
              "      <td>15197</td>\n",
              "      <td>644</td>\n",
              "    </tr>\n",
              "    <tr>\n",
              "      <th>6</th>\n",
              "      <td>51051</td>\n",
              "      <td>1800</td>\n",
              "    </tr>\n",
              "    <tr>\n",
              "      <th>7</th>\n",
              "      <td>7095</td>\n",
              "      <td>383</td>\n",
              "    </tr>\n",
              "  </tbody>\n",
              "</table>\n",
              "</div>"
            ],
            "text/plain": [
              "   totale_positivi  nuovi_positivi\n",
              "5            15197             644\n",
              "6            51051            1800\n",
              "7             7095             383"
            ]
          },
          "metadata": {
            "tags": []
          },
          "execution_count": 15
        }
      ]
    },
    {
      "cell_type": "markdown",
      "metadata": {
        "id": "QapjGc7NtEE2"
      },
      "source": [
        "### Set \"denominazione_regione\" as index and show it"
      ]
    },
    {
      "cell_type": "markdown",
      "metadata": {
        "id": "FK3ZdeD-tEE2"
      },
      "source": [
        "`hint: df.set_index, inplace=True`"
      ]
    },
    {
      "cell_type": "code",
      "metadata": {
        "colab": {
          "base_uri": "https://localhost:8080/",
          "height": 1346
        },
        "id": "gq9npWSRtEE2",
        "outputId": "d7f6a6e2-801b-41d0-f923-c4910b330f31"
      },
      "source": [
        "covid_regions_latest.set_index(\"denominazione_regione\", inplace=True)\n",
        "covid_regions_latest"
      ],
      "execution_count": 16,
      "outputs": [
        {
          "output_type": "execute_result",
          "data": {
            "text/html": [
              "<div>\n",
              "<style scoped>\n",
              "    .dataframe tbody tr th:only-of-type {\n",
              "        vertical-align: middle;\n",
              "    }\n",
              "\n",
              "    .dataframe tbody tr th {\n",
              "        vertical-align: top;\n",
              "    }\n",
              "\n",
              "    .dataframe thead th {\n",
              "        text-align: right;\n",
              "    }\n",
              "</style>\n",
              "<table border=\"1\" class=\"dataframe\">\n",
              "  <thead>\n",
              "    <tr style=\"text-align: right;\">\n",
              "      <th></th>\n",
              "      <th>casi_da_screening</th>\n",
              "      <th>casi_da_sospetto_diagnostico</th>\n",
              "      <th>casi_testati</th>\n",
              "      <th>codice_nuts_1</th>\n",
              "      <th>codice_nuts_2</th>\n",
              "      <th>codice_regione</th>\n",
              "      <th>data</th>\n",
              "      <th>deceduti</th>\n",
              "      <th>dimessi_guariti</th>\n",
              "      <th>ingressi_terapia_intensiva</th>\n",
              "      <th>isolamento_domiciliare</th>\n",
              "      <th>lat</th>\n",
              "      <th>long</th>\n",
              "      <th>note</th>\n",
              "      <th>note_casi</th>\n",
              "      <th>note_test</th>\n",
              "      <th>nuovi_positivi</th>\n",
              "      <th>ricoverati_con_sintomi</th>\n",
              "      <th>stato</th>\n",
              "      <th>tamponi</th>\n",
              "      <th>tamponi_test_antigenico_rapido</th>\n",
              "      <th>tamponi_test_molecolare</th>\n",
              "      <th>terapia_intensiva</th>\n",
              "      <th>totale_casi</th>\n",
              "      <th>totale_ospedalizzati</th>\n",
              "      <th>totale_positivi</th>\n",
              "      <th>totale_positivi_test_antigenico_rapido</th>\n",
              "      <th>totale_positivi_test_molecolare</th>\n",
              "      <th>variazione_totale_positivi</th>\n",
              "      <th>precedenti_positivi</th>\n",
              "    </tr>\n",
              "    <tr>\n",
              "      <th>denominazione_regione</th>\n",
              "      <th></th>\n",
              "      <th></th>\n",
              "      <th></th>\n",
              "      <th></th>\n",
              "      <th></th>\n",
              "      <th></th>\n",
              "      <th></th>\n",
              "      <th></th>\n",
              "      <th></th>\n",
              "      <th></th>\n",
              "      <th></th>\n",
              "      <th></th>\n",
              "      <th></th>\n",
              "      <th></th>\n",
              "      <th></th>\n",
              "      <th></th>\n",
              "      <th></th>\n",
              "      <th></th>\n",
              "      <th></th>\n",
              "      <th></th>\n",
              "      <th></th>\n",
              "      <th></th>\n",
              "      <th></th>\n",
              "      <th></th>\n",
              "      <th></th>\n",
              "      <th></th>\n",
              "      <th></th>\n",
              "      <th></th>\n",
              "      <th></th>\n",
              "      <th></th>\n",
              "    </tr>\n",
              "  </thead>\n",
              "  <tbody>\n",
              "    <tr>\n",
              "      <th>Abruzzo</th>\n",
              "      <td>NaN</td>\n",
              "      <td>NaN</td>\n",
              "      <td>576469</td>\n",
              "      <td>ITF</td>\n",
              "      <td>ITF1</td>\n",
              "      <td>13</td>\n",
              "      <td>2021-03-31T17:00:00</td>\n",
              "      <td>2136</td>\n",
              "      <td>52969</td>\n",
              "      <td>5</td>\n",
              "      <td>9457</td>\n",
              "      <td>42.351222</td>\n",
              "      <td>13.398438</td>\n",
              "      <td>A seguito di controlli anagrafici, dai casi po...</td>\n",
              "      <td>NaN</td>\n",
              "      <td>NaN</td>\n",
              "      <td>314</td>\n",
              "      <td>607</td>\n",
              "      <td>ITA</td>\n",
              "      <td>1245216</td>\n",
              "      <td>354309</td>\n",
              "      <td>890907</td>\n",
              "      <td>68</td>\n",
              "      <td>65237</td>\n",
              "      <td>675</td>\n",
              "      <td>10132</td>\n",
              "      <td>0</td>\n",
              "      <td>65237</td>\n",
              "      <td>-128</td>\n",
              "      <td>9818</td>\n",
              "    </tr>\n",
              "    <tr>\n",
              "      <th>Basilicata</th>\n",
              "      <td>NaN</td>\n",
              "      <td>NaN</td>\n",
              "      <td>168149</td>\n",
              "      <td>ITF</td>\n",
              "      <td>ITF5</td>\n",
              "      <td>17</td>\n",
              "      <td>2021-03-31T17:00:00</td>\n",
              "      <td>443</td>\n",
              "      <td>14241</td>\n",
              "      <td>1</td>\n",
              "      <td>4590</td>\n",
              "      <td>40.639471</td>\n",
              "      <td>15.805148</td>\n",
              "      <td>IL NUMERO TOTALE DEI DECESSI COMPRENDE 14 PAZI...</td>\n",
              "      <td>NaN</td>\n",
              "      <td>NaN</td>\n",
              "      <td>149</td>\n",
              "      <td>170</td>\n",
              "      <td>ITA</td>\n",
              "      <td>292913</td>\n",
              "      <td>12184</td>\n",
              "      <td>280729</td>\n",
              "      <td>14</td>\n",
              "      <td>19458</td>\n",
              "      <td>184</td>\n",
              "      <td>4774</td>\n",
              "      <td>0</td>\n",
              "      <td>19458</td>\n",
              "      <td>56</td>\n",
              "      <td>4625</td>\n",
              "    </tr>\n",
              "    <tr>\n",
              "      <th>Calabria</th>\n",
              "      <td>NaN</td>\n",
              "      <td>NaN</td>\n",
              "      <td>627407</td>\n",
              "      <td>ITF</td>\n",
              "      <td>ITF6</td>\n",
              "      <td>18</td>\n",
              "      <td>2021-03-31T17:00:00</td>\n",
              "      <td>819</td>\n",
              "      <td>35814</td>\n",
              "      <td>3</td>\n",
              "      <td>9900</td>\n",
              "      <td>38.905976</td>\n",
              "      <td>16.594402</td>\n",
              "      <td>NaN</td>\n",
              "      <td>NaN</td>\n",
              "      <td>NaN</td>\n",
              "      <td>347</td>\n",
              "      <td>389</td>\n",
              "      <td>ITA</td>\n",
              "      <td>667473</td>\n",
              "      <td>19403</td>\n",
              "      <td>648070</td>\n",
              "      <td>36</td>\n",
              "      <td>46958</td>\n",
              "      <td>425</td>\n",
              "      <td>10325</td>\n",
              "      <td>13</td>\n",
              "      <td>46945</td>\n",
              "      <td>-77</td>\n",
              "      <td>9978</td>\n",
              "    </tr>\n",
              "    <tr>\n",
              "      <th>Campania</th>\n",
              "      <td>NaN</td>\n",
              "      <td>NaN</td>\n",
              "      <td>2438913</td>\n",
              "      <td>ITF</td>\n",
              "      <td>ITF3</td>\n",
              "      <td>15</td>\n",
              "      <td>2021-03-31T17:00:00</td>\n",
              "      <td>5363</td>\n",
              "      <td>238809</td>\n",
              "      <td>15</td>\n",
              "      <td>91370</td>\n",
              "      <td>40.839566</td>\n",
              "      <td>14.250850</td>\n",
              "      <td>NaN</td>\n",
              "      <td>NaN</td>\n",
              "      <td>NaN</td>\n",
              "      <td>2016</td>\n",
              "      <td>1587</td>\n",
              "      <td>ITA</td>\n",
              "      <td>3607514</td>\n",
              "      <td>220262</td>\n",
              "      <td>3387252</td>\n",
              "      <td>160</td>\n",
              "      <td>337289</td>\n",
              "      <td>1747</td>\n",
              "      <td>93117</td>\n",
              "      <td>11588</td>\n",
              "      <td>325701</td>\n",
              "      <td>-1088</td>\n",
              "      <td>91101</td>\n",
              "    </tr>\n",
              "    <tr>\n",
              "      <th>Emilia-Romagna</th>\n",
              "      <td>NaN</td>\n",
              "      <td>NaN</td>\n",
              "      <td>1679293</td>\n",
              "      <td>ITH</td>\n",
              "      <td>ITH5</td>\n",
              "      <td>8</td>\n",
              "      <td>2021-03-31T17:00:00</td>\n",
              "      <td>11917</td>\n",
              "      <td>251468</td>\n",
              "      <td>22</td>\n",
              "      <td>68618</td>\n",
              "      <td>44.494367</td>\n",
              "      <td>11.341721</td>\n",
              "      <td>Sono stati eliminati 13 casi, positivi a test ...</td>\n",
              "      <td>NaN</td>\n",
              "      <td>NaN</td>\n",
              "      <td>1490</td>\n",
              "      <td>3427</td>\n",
              "      <td>ITA</td>\n",
              "      <td>4850208</td>\n",
              "      <td>855019</td>\n",
              "      <td>3995189</td>\n",
              "      <td>390</td>\n",
              "      <td>335820</td>\n",
              "      <td>3817</td>\n",
              "      <td>72435</td>\n",
              "      <td>228</td>\n",
              "      <td>335592</td>\n",
              "      <td>-645</td>\n",
              "      <td>70945</td>\n",
              "    </tr>\n",
              "    <tr>\n",
              "      <th>Friuli Venezia Giulia</th>\n",
              "      <td>NaN</td>\n",
              "      <td>NaN</td>\n",
              "      <td>580139</td>\n",
              "      <td>ITH</td>\n",
              "      <td>ITH4</td>\n",
              "      <td>6</td>\n",
              "      <td>2021-03-31T17:00:00</td>\n",
              "      <td>3307</td>\n",
              "      <td>78986</td>\n",
              "      <td>9</td>\n",
              "      <td>14451</td>\n",
              "      <td>45.649435</td>\n",
              "      <td>13.768136</td>\n",
              "      <td>NaN</td>\n",
              "      <td>NaN</td>\n",
              "      <td>NaN</td>\n",
              "      <td>644</td>\n",
              "      <td>664</td>\n",
              "      <td>ITA</td>\n",
              "      <td>1623445</td>\n",
              "      <td>185031</td>\n",
              "      <td>1438414</td>\n",
              "      <td>82</td>\n",
              "      <td>97490</td>\n",
              "      <td>746</td>\n",
              "      <td>15197</td>\n",
              "      <td>12320</td>\n",
              "      <td>85170</td>\n",
              "      <td>-176</td>\n",
              "      <td>14553</td>\n",
              "    </tr>\n",
              "    <tr>\n",
              "      <th>Lazio</th>\n",
              "      <td>NaN</td>\n",
              "      <td>NaN</td>\n",
              "      <td>3421823</td>\n",
              "      <td>ITI</td>\n",
              "      <td>ITI4</td>\n",
              "      <td>12</td>\n",
              "      <td>2021-03-31T17:00:00</td>\n",
              "      <td>6644</td>\n",
              "      <td>227752</td>\n",
              "      <td>26</td>\n",
              "      <td>47636</td>\n",
              "      <td>41.892770</td>\n",
              "      <td>12.483667</td>\n",
              "      <td>NaN</td>\n",
              "      <td>NaN</td>\n",
              "      <td>NaN</td>\n",
              "      <td>1800</td>\n",
              "      <td>3044</td>\n",
              "      <td>ITA</td>\n",
              "      <td>5156986</td>\n",
              "      <td>1305081</td>\n",
              "      <td>3851905</td>\n",
              "      <td>371</td>\n",
              "      <td>285447</td>\n",
              "      <td>3415</td>\n",
              "      <td>51051</td>\n",
              "      <td>5548</td>\n",
              "      <td>279899</td>\n",
              "      <td>-47</td>\n",
              "      <td>49251</td>\n",
              "    </tr>\n",
              "    <tr>\n",
              "      <th>Liguria</th>\n",
              "      <td>NaN</td>\n",
              "      <td>NaN</td>\n",
              "      <td>517132</td>\n",
              "      <td>ITC</td>\n",
              "      <td>ITC3</td>\n",
              "      <td>7</td>\n",
              "      <td>2021-03-31T17:00:00</td>\n",
              "      <td>3879</td>\n",
              "      <td>78350</td>\n",
              "      <td>2</td>\n",
              "      <td>6385</td>\n",
              "      <td>44.411493</td>\n",
              "      <td>8.932699</td>\n",
              "      <td>NaN</td>\n",
              "      <td>In Regione Liguria la positività al test antig...</td>\n",
              "      <td>NaN</td>\n",
              "      <td>383</td>\n",
              "      <td>642</td>\n",
              "      <td>ITA</td>\n",
              "      <td>1235904</td>\n",
              "      <td>181139</td>\n",
              "      <td>1054765</td>\n",
              "      <td>68</td>\n",
              "      <td>89324</td>\n",
              "      <td>710</td>\n",
              "      <td>7095</td>\n",
              "      <td>0</td>\n",
              "      <td>89324</td>\n",
              "      <td>108</td>\n",
              "      <td>6712</td>\n",
              "    </tr>\n",
              "    <tr>\n",
              "      <th>Lombardia</th>\n",
              "      <td>NaN</td>\n",
              "      <td>NaN</td>\n",
              "      <td>3511485</td>\n",
              "      <td>ITC</td>\n",
              "      <td>ITC4</td>\n",
              "      <td>3</td>\n",
              "      <td>2021-03-31T17:00:00</td>\n",
              "      <td>30735</td>\n",
              "      <td>608894</td>\n",
              "      <td>54</td>\n",
              "      <td>87959</td>\n",
              "      <td>45.466794</td>\n",
              "      <td>9.190347</td>\n",
              "      <td>NaN</td>\n",
              "      <td>NaN</td>\n",
              "      <td>NaN</td>\n",
              "      <td>3943</td>\n",
              "      <td>7033</td>\n",
              "      <td>ITA</td>\n",
              "      <td>8169813</td>\n",
              "      <td>876109</td>\n",
              "      <td>7293704</td>\n",
              "      <td>863</td>\n",
              "      <td>735484</td>\n",
              "      <td>7896</td>\n",
              "      <td>95855</td>\n",
              "      <td>33322</td>\n",
              "      <td>702162</td>\n",
              "      <td>-667</td>\n",
              "      <td>91912</td>\n",
              "    </tr>\n",
              "    <tr>\n",
              "      <th>Marche</th>\n",
              "      <td>NaN</td>\n",
              "      <td>NaN</td>\n",
              "      <td>610043</td>\n",
              "      <td>ITI</td>\n",
              "      <td>ITI3</td>\n",
              "      <td>11</td>\n",
              "      <td>2021-03-31T17:00:00</td>\n",
              "      <td>2621</td>\n",
              "      <td>76382</td>\n",
              "      <td>5</td>\n",
              "      <td>8418</td>\n",
              "      <td>43.616760</td>\n",
              "      <td>13.518875</td>\n",
              "      <td>NaN</td>\n",
              "      <td>NaN</td>\n",
              "      <td>NaN</td>\n",
              "      <td>807</td>\n",
              "      <td>803</td>\n",
              "      <td>ITA</td>\n",
              "      <td>1005671</td>\n",
              "      <td>98678</td>\n",
              "      <td>906993</td>\n",
              "      <td>146</td>\n",
              "      <td>88370</td>\n",
              "      <td>949</td>\n",
              "      <td>9367</td>\n",
              "      <td>0</td>\n",
              "      <td>88370</td>\n",
              "      <td>-17</td>\n",
              "      <td>8560</td>\n",
              "    </tr>\n",
              "    <tr>\n",
              "      <th>Molise</th>\n",
              "      <td>NaN</td>\n",
              "      <td>NaN</td>\n",
              "      <td>166401</td>\n",
              "      <td>ITF</td>\n",
              "      <td>ITF2</td>\n",
              "      <td>14</td>\n",
              "      <td>2021-03-31T17:00:00</td>\n",
              "      <td>438</td>\n",
              "      <td>10966</td>\n",
              "      <td>1</td>\n",
              "      <td>787</td>\n",
              "      <td>41.557748</td>\n",
              "      <td>14.659161</td>\n",
              "      <td>NaN</td>\n",
              "      <td>NaN</td>\n",
              "      <td>NaN</td>\n",
              "      <td>17</td>\n",
              "      <td>63</td>\n",
              "      <td>ITA</td>\n",
              "      <td>184516</td>\n",
              "      <td>293</td>\n",
              "      <td>184223</td>\n",
              "      <td>16</td>\n",
              "      <td>12270</td>\n",
              "      <td>79</td>\n",
              "      <td>866</td>\n",
              "      <td>0</td>\n",
              "      <td>12270</td>\n",
              "      <td>-67</td>\n",
              "      <td>849</td>\n",
              "    </tr>\n",
              "    <tr>\n",
              "      <th>P.A. Bolzano</th>\n",
              "      <td>NaN</td>\n",
              "      <td>NaN</td>\n",
              "      <td>360849</td>\n",
              "      <td>ITH</td>\n",
              "      <td>ITH1</td>\n",
              "      <td>21</td>\n",
              "      <td>2021-03-31T17:00:00</td>\n",
              "      <td>1126</td>\n",
              "      <td>67142</td>\n",
              "      <td>2</td>\n",
              "      <td>576</td>\n",
              "      <td>46.499335</td>\n",
              "      <td>11.356624</td>\n",
              "      <td>Note\\t(selezionare sia casella arancione che g...</td>\n",
              "      <td>NaN</td>\n",
              "      <td>NaN</td>\n",
              "      <td>120</td>\n",
              "      <td>90</td>\n",
              "      <td>ITA</td>\n",
              "      <td>1123271</td>\n",
              "      <td>593767</td>\n",
              "      <td>529504</td>\n",
              "      <td>20</td>\n",
              "      <td>68954</td>\n",
              "      <td>110</td>\n",
              "      <td>686</td>\n",
              "      <td>12686</td>\n",
              "      <td>56268</td>\n",
              "      <td>-33</td>\n",
              "      <td>566</td>\n",
              "    </tr>\n",
              "    <tr>\n",
              "      <th>P.A. Trento</th>\n",
              "      <td>NaN</td>\n",
              "      <td>NaN</td>\n",
              "      <td>184137</td>\n",
              "      <td>ITH</td>\n",
              "      <td>ITH2</td>\n",
              "      <td>22</td>\n",
              "      <td>2021-03-31T17:00:00</td>\n",
              "      <td>1282</td>\n",
              "      <td>37086</td>\n",
              "      <td>5</td>\n",
              "      <td>2611</td>\n",
              "      <td>46.068935</td>\n",
              "      <td>11.121231</td>\n",
              "      <td>NaN</td>\n",
              "      <td>NaN</td>\n",
              "      <td>NaN</td>\n",
              "      <td>187</td>\n",
              "      <td>201</td>\n",
              "      <td>ITA</td>\n",
              "      <td>702081</td>\n",
              "      <td>100928</td>\n",
              "      <td>601153</td>\n",
              "      <td>51</td>\n",
              "      <td>41231</td>\n",
              "      <td>252</td>\n",
              "      <td>2863</td>\n",
              "      <td>10684</td>\n",
              "      <td>30547</td>\n",
              "      <td>-143</td>\n",
              "      <td>2676</td>\n",
              "    </tr>\n",
              "    <tr>\n",
              "      <th>Piemonte</th>\n",
              "      <td>NaN</td>\n",
              "      <td>NaN</td>\n",
              "      <td>1512067</td>\n",
              "      <td>ITC</td>\n",
              "      <td>ITC1</td>\n",
              "      <td>1</td>\n",
              "      <td>2021-03-31T17:00:00</td>\n",
              "      <td>10308</td>\n",
              "      <td>263913</td>\n",
              "      <td>23</td>\n",
              "      <td>30810</td>\n",
              "      <td>45.073274</td>\n",
              "      <td>7.680687</td>\n",
              "      <td>NaN</td>\n",
              "      <td>NaN</td>\n",
              "      <td>NaN</td>\n",
              "      <td>2298</td>\n",
              "      <td>3873</td>\n",
              "      <td>ITA</td>\n",
              "      <td>3310922</td>\n",
              "      <td>919956</td>\n",
              "      <td>2390966</td>\n",
              "      <td>376</td>\n",
              "      <td>309280</td>\n",
              "      <td>4249</td>\n",
              "      <td>35059</td>\n",
              "      <td>14211</td>\n",
              "      <td>295069</td>\n",
              "      <td>-358</td>\n",
              "      <td>32761</td>\n",
              "    </tr>\n",
              "    <tr>\n",
              "      <th>Puglia</th>\n",
              "      <td>NaN</td>\n",
              "      <td>NaN</td>\n",
              "      <td>1012722</td>\n",
              "      <td>ITF</td>\n",
              "      <td>ITF4</td>\n",
              "      <td>16</td>\n",
              "      <td>2021-03-31T17:00:00</td>\n",
              "      <td>4812</td>\n",
              "      <td>141343</td>\n",
              "      <td>22</td>\n",
              "      <td>44757</td>\n",
              "      <td>41.125596</td>\n",
              "      <td>16.867367</td>\n",
              "      <td>NaN</td>\n",
              "      <td>NaN</td>\n",
              "      <td>NaN</td>\n",
              "      <td>1962</td>\n",
              "      <td>1840</td>\n",
              "      <td>ITA</td>\n",
              "      <td>1871149</td>\n",
              "      <td>93237</td>\n",
              "      <td>1777912</td>\n",
              "      <td>260</td>\n",
              "      <td>193012</td>\n",
              "      <td>2100</td>\n",
              "      <td>46857</td>\n",
              "      <td>878</td>\n",
              "      <td>192134</td>\n",
              "      <td>81</td>\n",
              "      <td>44895</td>\n",
              "    </tr>\n",
              "    <tr>\n",
              "      <th>Sardegna</th>\n",
              "      <td>NaN</td>\n",
              "      <td>NaN</td>\n",
              "      <td>596976</td>\n",
              "      <td>ITG</td>\n",
              "      <td>ITG2</td>\n",
              "      <td>20</td>\n",
              "      <td>2021-03-31T17:00:00</td>\n",
              "      <td>1234</td>\n",
              "      <td>29872</td>\n",
              "      <td>4</td>\n",
              "      <td>14141</td>\n",
              "      <td>39.215312</td>\n",
              "      <td>9.110616</td>\n",
              "      <td>NaN</td>\n",
              "      <td>Si dichiara il decesso di: - 1 pz. 71 aa resid...</td>\n",
              "      <td>NaN</td>\n",
              "      <td>444</td>\n",
              "      <td>222</td>\n",
              "      <td>ITA</td>\n",
              "      <td>1005266</td>\n",
              "      <td>292371</td>\n",
              "      <td>712895</td>\n",
              "      <td>34</td>\n",
              "      <td>45503</td>\n",
              "      <td>256</td>\n",
              "      <td>14397</td>\n",
              "      <td>17</td>\n",
              "      <td>45486</td>\n",
              "      <td>366</td>\n",
              "      <td>13953</td>\n",
              "    </tr>\n",
              "    <tr>\n",
              "      <th>Sicilia</th>\n",
              "      <td>NaN</td>\n",
              "      <td>NaN</td>\n",
              "      <td>1282141</td>\n",
              "      <td>ITG</td>\n",
              "      <td>ITG1</td>\n",
              "      <td>19</td>\n",
              "      <td>2021-03-31T17:00:00</td>\n",
              "      <td>4628</td>\n",
              "      <td>150806</td>\n",
              "      <td>20</td>\n",
              "      <td>18889</td>\n",
              "      <td>38.115697</td>\n",
              "      <td>13.362357</td>\n",
              "      <td>dati inviati aggregando il 30 e il 31 di marzo...</td>\n",
              "      <td>NaN</td>\n",
              "      <td>NaN</td>\n",
              "      <td>2904</td>\n",
              "      <td>891</td>\n",
              "      <td>ITA</td>\n",
              "      <td>3162046</td>\n",
              "      <td>1151407</td>\n",
              "      <td>2010639</td>\n",
              "      <td>140</td>\n",
              "      <td>175354</td>\n",
              "      <td>1031</td>\n",
              "      <td>19920</td>\n",
              "      <td>0</td>\n",
              "      <td>175354</td>\n",
              "      <td>2503</td>\n",
              "      <td>17016</td>\n",
              "    </tr>\n",
              "    <tr>\n",
              "      <th>Toscana</th>\n",
              "      <td>NaN</td>\n",
              "      <td>NaN</td>\n",
              "      <td>1770281</td>\n",
              "      <td>ITI</td>\n",
              "      <td>ITI1</td>\n",
              "      <td>9</td>\n",
              "      <td>2021-03-31T17:00:00</td>\n",
              "      <td>5348</td>\n",
              "      <td>161919</td>\n",
              "      <td>18</td>\n",
              "      <td>26282</td>\n",
              "      <td>43.769231</td>\n",
              "      <td>11.255889</td>\n",
              "      <td>NaN</td>\n",
              "      <td>NaN</td>\n",
              "      <td>NaN</td>\n",
              "      <td>1538</td>\n",
              "      <td>1560</td>\n",
              "      <td>ITA</td>\n",
              "      <td>3427730</td>\n",
              "      <td>514371</td>\n",
              "      <td>2913359</td>\n",
              "      <td>265</td>\n",
              "      <td>195374</td>\n",
              "      <td>1825</td>\n",
              "      <td>28107</td>\n",
              "      <td>1973</td>\n",
              "      <td>193401</td>\n",
              "      <td>217</td>\n",
              "      <td>26569</td>\n",
              "    </tr>\n",
              "    <tr>\n",
              "      <th>Umbria</th>\n",
              "      <td>NaN</td>\n",
              "      <td>NaN</td>\n",
              "      <td>337974</td>\n",
              "      <td>ITI</td>\n",
              "      <td>ITI2</td>\n",
              "      <td>10</td>\n",
              "      <td>2021-03-31T17:00:00</td>\n",
              "      <td>1256</td>\n",
              "      <td>44846</td>\n",
              "      <td>4</td>\n",
              "      <td>4397</td>\n",
              "      <td>43.106758</td>\n",
              "      <td>12.388247</td>\n",
              "      <td>NaN</td>\n",
              "      <td>NaN</td>\n",
              "      <td>NaN</td>\n",
              "      <td>162</td>\n",
              "      <td>349</td>\n",
              "      <td>ITA</td>\n",
              "      <td>980871</td>\n",
              "      <td>194771</td>\n",
              "      <td>786100</td>\n",
              "      <td>60</td>\n",
              "      <td>50908</td>\n",
              "      <td>409</td>\n",
              "      <td>4806</td>\n",
              "      <td>0</td>\n",
              "      <td>50908</td>\n",
              "      <td>-239</td>\n",
              "      <td>4644</td>\n",
              "    </tr>\n",
              "    <tr>\n",
              "      <th>Valle d'Aosta</th>\n",
              "      <td>NaN</td>\n",
              "      <td>NaN</td>\n",
              "      <td>51514</td>\n",
              "      <td>ITC</td>\n",
              "      <td>ITC2</td>\n",
              "      <td>2</td>\n",
              "      <td>2021-03-31T17:00:00</td>\n",
              "      <td>425</td>\n",
              "      <td>7971</td>\n",
              "      <td>1</td>\n",
              "      <td>845</td>\n",
              "      <td>45.737503</td>\n",
              "      <td>7.320149</td>\n",
              "      <td>Si precisa che il riallineamento dei dati comu...</td>\n",
              "      <td>NaN</td>\n",
              "      <td>NaN</td>\n",
              "      <td>62</td>\n",
              "      <td>49</td>\n",
              "      <td>ITA</td>\n",
              "      <td>95322</td>\n",
              "      <td>14078</td>\n",
              "      <td>81244</td>\n",
              "      <td>8</td>\n",
              "      <td>9298</td>\n",
              "      <td>57</td>\n",
              "      <td>902</td>\n",
              "      <td>198</td>\n",
              "      <td>9100</td>\n",
              "      <td>0</td>\n",
              "      <td>840</td>\n",
              "    </tr>\n",
              "    <tr>\n",
              "      <th>Veneto</th>\n",
              "      <td>NaN</td>\n",
              "      <td>NaN</td>\n",
              "      <td>1558375</td>\n",
              "      <td>ITH</td>\n",
              "      <td>ITH3</td>\n",
              "      <td>5</td>\n",
              "      <td>2021-03-31T17:00:00</td>\n",
              "      <td>10625</td>\n",
              "      <td>333516</td>\n",
              "      <td>41</td>\n",
              "      <td>36739</td>\n",
              "      <td>45.434905</td>\n",
              "      <td>12.338452</td>\n",
              "      <td>Nei valori riportati per le terapie intensive ...</td>\n",
              "      <td>NaN</td>\n",
              "      <td>NaN</td>\n",
              "      <td>2317</td>\n",
              "      <td>1676</td>\n",
              "      <td>ITA</td>\n",
              "      <td>6184340</td>\n",
              "      <td>1635555</td>\n",
              "      <td>4548785</td>\n",
              "      <td>282</td>\n",
              "      <td>382838</td>\n",
              "      <td>1958</td>\n",
              "      <td>38697</td>\n",
              "      <td>9106</td>\n",
              "      <td>373732</td>\n",
              "      <td>30</td>\n",
              "      <td>36380</td>\n",
              "    </tr>\n",
              "  </tbody>\n",
              "</table>\n",
              "</div>"
            ],
            "text/plain": [
              "                       casi_da_screening  ...  precedenti_positivi\n",
              "denominazione_regione                     ...                     \n",
              "Abruzzo                              NaN  ...                 9818\n",
              "Basilicata                           NaN  ...                 4625\n",
              "Calabria                             NaN  ...                 9978\n",
              "Campania                             NaN  ...                91101\n",
              "Emilia-Romagna                       NaN  ...                70945\n",
              "Friuli Venezia Giulia                NaN  ...                14553\n",
              "Lazio                                NaN  ...                49251\n",
              "Liguria                              NaN  ...                 6712\n",
              "Lombardia                            NaN  ...                91912\n",
              "Marche                               NaN  ...                 8560\n",
              "Molise                               NaN  ...                  849\n",
              "P.A. Bolzano                         NaN  ...                  566\n",
              "P.A. Trento                          NaN  ...                 2676\n",
              "Piemonte                             NaN  ...                32761\n",
              "Puglia                               NaN  ...                44895\n",
              "Sardegna                             NaN  ...                13953\n",
              "Sicilia                              NaN  ...                17016\n",
              "Toscana                              NaN  ...                26569\n",
              "Umbria                               NaN  ...                 4644\n",
              "Valle d'Aosta                        NaN  ...                  840\n",
              "Veneto                               NaN  ...                36380\n",
              "\n",
              "[21 rows x 30 columns]"
            ]
          },
          "metadata": {
            "tags": []
          },
          "execution_count": 16
        }
      ]
    },
    {
      "cell_type": "markdown",
      "metadata": {
        "id": "DKN6nNYjtEE2"
      },
      "source": [
        "### Plot horizontal bars of \"tamponi_test_antigenico_rapido\" and \"tampone_test_molecolare\" columns for each region"
      ]
    },
    {
      "cell_type": "markdown",
      "metadata": {
        "id": "VMKRhrWStEE3"
      },
      "source": [
        "`hint: df[].plot.barh, figsize=()`"
      ]
    },
    {
      "cell_type": "markdown",
      "metadata": {
        "id": "qgGEvnhztEE3"
      },
      "source": [
        "- Figure size of (6,8)"
      ]
    },
    {
      "cell_type": "code",
      "metadata": {
        "colab": {
          "base_uri": "https://localhost:8080/",
          "height": 514
        },
        "id": "VXIXWm34tEE3",
        "outputId": "7891164f-cb7f-4c00-cc17-f6db6153c9ea"
      },
      "source": [
        "covid_regions_latest[\n",
        "    [\"tamponi_test_antigenico_rapido\", \"tamponi_test_molecolare\"]\n",
        "].plot.barh(figsize=(6, 8))"
      ],
      "execution_count": 17,
      "outputs": [
        {
          "output_type": "execute_result",
          "data": {
            "text/plain": [
              "<matplotlib.axes._subplots.AxesSubplot at 0x7f337f3bb6d0>"
            ]
          },
          "metadata": {
            "tags": []
          },
          "execution_count": 17
        },
        {
          "output_type": "display_data",
          "data": {
            "image/png": "[encoded data removed]",
            "text/plain": [
              "<Figure size 432x576 with 1 Axes>"
            ]
          },
          "metadata": {
            "tags": [],
            "needs_background": "light"
          }
        }
      ]
    },
    {
      "cell_type": "markdown",
      "metadata": {
        "id": "2unDe6RBtEE3"
      },
      "source": [
        "### Plot horizontal bars of \"tamponi_test_antigenico_rapido\" and \"tampone_test_molecolare\" stacked together"
      ]
    },
    {
      "cell_type": "markdown",
      "metadata": {
        "id": "W7BDMdqEtEE3"
      },
      "source": [
        "`hint: stacked=True`"
      ]
    },
    {
      "cell_type": "markdown",
      "metadata": {
        "id": "34MHxCPDtEE4"
      },
      "source": [
        "- Figure size of (6,8)"
      ]
    },
    {
      "cell_type": "code",
      "metadata": {
        "colab": {
          "base_uri": "https://localhost:8080/",
          "height": 496
        },
        "id": "ZR1ydYV0tEE4",
        "outputId": "f1f84eb0-cff5-47a6-b655-85e4c9396da5"
      },
      "source": [
        "ax = covid_regions_latest[\n",
        "    [\"tamponi_test_antigenico_rapido\", \"tamponi_test_molecolare\"]\n",
        "].plot.barh(figsize=(6, 8), stacked=True)"
      ],
      "execution_count": 18,
      "outputs": [
        {
          "output_type": "display_data",
          "data": {
            "image/png": "[encoded data removed]",
            "text/plain": [
              "<Figure size 432x576 with 1 Axes>"
            ]
          },
          "metadata": {
            "tags": [],
            "needs_background": "light"
          }
        }
      ]
    },
    {
      "cell_type": "markdown",
      "metadata": {
        "id": "kLCZo1FbtEE4"
      },
      "source": [
        "### Plot horizontal bars of \"tamponi_test_antigenico_rapido\" and \"tampone_test_molecolare\" columns for each region in different subplots"
      ]
    },
    {
      "cell_type": "markdown",
      "metadata": {
        "id": "emuZGRH3tEE4"
      },
      "source": [
        "`hint: df[].plot.barh, figsize=()`"
      ]
    },
    {
      "cell_type": "markdown",
      "metadata": {
        "id": "pMrW4kantEE5"
      },
      "source": [
        "- Figure size of (6,10)"
      ]
    },
    {
      "cell_type": "code",
      "metadata": {
        "colab": {
          "base_uri": "https://localhost:8080/",
          "height": 674
        },
        "id": "bFJtpJjutEE5",
        "outputId": "dc60c78e-96a6-4438-fa92-dc446097da74"
      },
      "source": [
        "covid_regions_latest[\n",
        "    [\"tamponi_test_antigenico_rapido\", \"tamponi_test_molecolare\"]\n",
        "].plot.barh(figsize=(6, 10), subplots=True)"
      ],
      "execution_count": 19,
      "outputs": [
        {
          "output_type": "execute_result",
          "data": {
            "text/plain": [
              "array([<matplotlib.axes._subplots.AxesSubplot object at 0x7f337ed1de90>,\n",
              "       <matplotlib.axes._subplots.AxesSubplot object at 0x7f337ec06ad0>],\n",
              "      dtype=object)"
            ]
          },
          "metadata": {
            "tags": []
          },
          "execution_count": 19
        },
        {
          "output_type": "display_data",
          "data": {
            "image/png": "[encoded data removed]",
            "text/plain": [
              "<Figure size 432x720 with 2 Axes>"
            ]
          },
          "metadata": {
            "tags": [],
            "needs_background": "light"
          }
        }
      ]
    },
    {
      "cell_type": "markdown",
      "metadata": {
        "id": "aNNEMhyetEE5"
      },
      "source": [
        "### Plot horizontal bars of \"tamponi_test_antigenico_rapido\" and \"tampone_test_molecolare\" columns for each region sorting by \"tampone_test_antigenico_rapido\" column"
      ]
    },
    {
      "cell_type": "markdown",
      "metadata": {
        "id": "P5qY-hnutEE5"
      },
      "source": [
        "`hint: df.sort_values`"
      ]
    },
    {
      "cell_type": "markdown",
      "metadata": {
        "id": "e50f9feEtEE5"
      },
      "source": [
        "- Figure size of (6,8)"
      ]
    },
    {
      "cell_type": "code",
      "metadata": {
        "colab": {
          "base_uri": "https://localhost:8080/",
          "height": 514
        },
        "id": "MqQjsQiStEE6",
        "outputId": "0030ab92-3497-4949-a253-d7b0efd0ccab"
      },
      "source": [
        "covid_regions_latest[\n",
        "    [\"tamponi_test_antigenico_rapido\", \"tamponi_test_molecolare\"]\n",
        "].sort_values(\"tamponi_test_antigenico_rapido\").plot.barh(figsize=(6, 8))"
      ],
      "execution_count": 20,
      "outputs": [
        {
          "output_type": "execute_result",
          "data": {
            "text/plain": [
              "<matplotlib.axes._subplots.AxesSubplot at 0x7f337eb9ced0>"
            ]
          },
          "metadata": {
            "tags": []
          },
          "execution_count": 20
        },
        {
          "output_type": "display_data",
          "data": {
            "image/png": "[encoded data removed]",
            "text/plain": [
              "<Figure size 432x576 with 1 Axes>"
            ]
          },
          "metadata": {
            "tags": [],
            "needs_background": "light"
          }
        }
      ]
    },
    {
      "cell_type": "markdown",
      "metadata": {
        "id": "BFtvHZxrtEE6"
      },
      "source": [
        "## Intermediate"
      ]
    },
    {
      "cell_type": "markdown",
      "metadata": {
        "id": "Hq9BIa4stEE6"
      },
      "source": [
        "### Plot histograms of \"totale_ospedalizzati\", \"terapia_intensiva\", \"ricoverati_con_sintomi\", \"nuovi_positivi\" in different subplots"
      ]
    },
    {
      "cell_type": "markdown",
      "metadata": {
        "id": "moV-8uMgtEE6"
      },
      "source": [
        "`hint: df[].plot.hist, bins=, alpha=`"
      ]
    },
    {
      "cell_type": "markdown",
      "metadata": {
        "id": "2L6bdRJStEE6"
      },
      "source": [
        "- Figure size of (10, 6)\n",
        "- 10 Bins\n",
        "- Alpha of 0.75"
      ]
    },
    {
      "cell_type": "code",
      "metadata": {
        "colab": {
          "base_uri": "https://localhost:8080/",
          "height": 464
        },
        "id": "UHXE6a8mtEE7",
        "outputId": "7d16b91f-8f86-44f3-a113-c89662d9a8d8"
      },
      "source": [
        "covid_regions_latest[\n",
        "    [\n",
        "        \"totale_ospedalizzati\",\n",
        "        \"terapia_intensiva\",\n",
        "        \"ricoverati_con_sintomi\",\n",
        "        \"nuovi_positivi\",\n",
        "    ]\n",
        "].plot.hist(figsize=(10, 6), bins=10, alpha=0.5, subplots=True)"
      ],
      "execution_count": 21,
      "outputs": [
        {
          "output_type": "execute_result",
          "data": {
            "text/plain": [
              "array([<matplotlib.axes._subplots.AxesSubplot object at 0x7f337e992d90>,\n",
              "       <matplotlib.axes._subplots.AxesSubplot object at 0x7f337e94fed0>,\n",
              "       <matplotlib.axes._subplots.AxesSubplot object at 0x7f337e99df90>,\n",
              "       <matplotlib.axes._subplots.AxesSubplot object at 0x7f337e8c85d0>],\n",
              "      dtype=object)"
            ]
          },
          "metadata": {
            "tags": []
          },
          "execution_count": 21
        },
        {
          "output_type": "display_data",
          "data": {
            "image/png": "[encoded data removed]",
            "text/plain": [
              "<Figure size 720x432 with 4 Axes>"
            ]
          },
          "metadata": {
            "tags": [],
            "needs_background": "light"
          }
        }
      ]
    },
    {
      "cell_type": "markdown",
      "metadata": {
        "id": "kFlBopPftEE7"
      },
      "source": [
        "### Plot in pie charts the number of \"tamponi_test_molecolare\" with percentage for each region with exploded slice for *Lombardia* region"
      ]
    },
    {
      "cell_type": "markdown",
      "metadata": {
        "id": "XqMMM_LJtEE7"
      },
      "source": [
        "`hint: df.index, df[].plot.pie, figsize=, autopct=\"%1.1f%%, pctdistance=, explode=, ylabel=\", `"
      ]
    },
    {
      "cell_type": "markdown",
      "metadata": {
        "id": "eiVXqB82tEE7"
      },
      "source": [
        "- Figure size of (8,8)\n",
        "- Explode of 0.1 for Lombardia region\n",
        "- Distance of the percentage of 0.75"
      ]
    },
    {
      "cell_type": "code",
      "metadata": {
        "colab": {
          "base_uri": "https://localhost:8080/",
          "height": 484
        },
        "id": "6r-kfK_xtEE8",
        "outputId": "68a4f82c-3dbe-45c4-96bb-2010b9aad46d"
      },
      "source": [
        "explode = [\n",
        "    0.1 if region == \"Lombardia\" else 0.0 for region in covid_regions_latest.index\n",
        "]\n",
        "\n",
        "covid_regions_latest.tamponi_test_molecolare.plot.pie(\n",
        "    figsize=(8, 8), autopct=\"%1.1f%%\", pctdistance=0.75, explode=explode, ylabel=\"\"\n",
        ")"
      ],
      "execution_count": 22,
      "outputs": [
        {
          "output_type": "execute_result",
          "data": {
            "text/plain": [
              "<matplotlib.axes._subplots.AxesSubplot at 0x7f337e748e50>"
            ]
          },
          "metadata": {
            "tags": []
          },
          "execution_count": 22
        },
        {
          "output_type": "display_data",
          "data": {
            "image/png": "[encoded data removed]",
            "text/plain": [
              "<Figure size 576x576 with 1 Axes>"
            ]
          },
          "metadata": {
            "tags": []
          }
        }
      ]
    },
    {
      "cell_type": "markdown",
      "metadata": {
        "id": "75VcBUwatEE8"
      },
      "source": [
        "### Plot hexbin plot of \"deceduti\" by (\"long\", \"lat) coordinates of regions"
      ]
    },
    {
      "cell_type": "markdown",
      "metadata": {
        "id": "NKfMKZuvtEE8"
      },
      "source": [
        "`hint: df.plot.hexbin, x=, y=, C=, edgecolor=, gridsize=`"
      ]
    },
    {
      "cell_type": "markdown",
      "metadata": {
        "id": "KmERpd2AtEE8"
      },
      "source": [
        "- Figure size of (8, 6)\n",
        "- Gridsize of 10"
      ]
    },
    {
      "cell_type": "code",
      "metadata": {
        "colab": {
          "base_uri": "https://localhost:8080/",
          "height": 379
        },
        "id": "SVoiuf9StEE8",
        "outputId": "2ad6c9c1-f3e0-4275-ea90-60ae93987c0b"
      },
      "source": [
        "covid_regions_latest.plot.hexbin(\n",
        "    figsize=(8, 6), x=\"long\", y=\"lat\", C=\"deceduti\", edgecolor=\"orange\", gridsize=10\n",
        ")"
      ],
      "execution_count": 23,
      "outputs": [
        {
          "output_type": "execute_result",
          "data": {
            "text/plain": [
              "<matplotlib.axes._subplots.AxesSubplot at 0x7f337e9e3b10>"
            ]
          },
          "metadata": {
            "tags": []
          },
          "execution_count": 23
        },
        {
          "output_type": "display_data",
          "data": {
            "image/png": "[encoded data removed]",
            "text/plain": [
              "<Figure size 576x432 with 2 Axes>"
            ]
          },
          "metadata": {
            "tags": [],
            "needs_background": "light"
          }
        }
      ]
    },
    {
      "cell_type": "markdown",
      "metadata": {
        "id": "ugyVqjz7tEE9"
      },
      "source": [
        "### Plot scatterplots of \"terapia_intensiva\" and \"ingressi_terapia_intensiva\" by (\"long\", \"lat\") coordinates of regions both in the same plot"
      ]
    },
    {
      "cell_type": "markdown",
      "metadata": {
        "id": "V63SdldBtEE9"
      },
      "source": [
        "`hint: df.plot.scatter, x=, y=, color=, alpha=, s=, label=, ax=, ax.legend`"
      ]
    },
    {
      "cell_type": "markdown",
      "metadata": {
        "id": "6mNOVZcFtEE-"
      },
      "source": [
        "- Figure size of (8, 6)\n",
        "- Alpha of 0.5\n",
        "- Legend at the bottom"
      ]
    },
    {
      "cell_type": "code",
      "metadata": {
        "colab": {
          "base_uri": "https://localhost:8080/",
          "height": 415
        },
        "id": "Pg1hbitctEE-",
        "outputId": "95db62b0-c041-4ad9-d4a7-4a47a5a71ced"
      },
      "source": [
        "ZOOM = 3\n",
        "ax = covid_regions_latest.plot.scatter(\n",
        "    x=\"long\",\n",
        "    y=\"lat\",\n",
        "    color=\"DarkBlue\",\n",
        "    alpha=0.5,\n",
        "    s=covid_regions_latest.terapia_intensiva * ZOOM,\n",
        "    label=\"terapia_intensiva\",\n",
        ")\n",
        "\n",
        "covid_regions_latest.plot.scatter(\n",
        "    figsize=(8, 6),\n",
        "    x=\"long\",\n",
        "    y=\"lat\",\n",
        "    c=\"DarkRed\",\n",
        "    alpha=0.5,\n",
        "    s=covid_regions_latest.ingressi_terapia_intensiva * ZOOM,\n",
        "    label=\"ingressi_terapia_intensiva\",\n",
        "    ax=ax,\n",
        ")\n",
        "\n",
        "ax.legend(\n",
        "    loc=\"upper center\", bbox_to_anchor=(0.5, -0.05), fancybox=True, shadow=True, ncol=5\n",
        ")"
      ],
      "execution_count": 24,
      "outputs": [
        {
          "output_type": "execute_result",
          "data": {
            "text/plain": [
              "<matplotlib.legend.Legend at 0x7f337eae0d90>"
            ]
          },
          "metadata": {
            "tags": []
          },
          "execution_count": 24
        },
        {
          "output_type": "display_data",
          "data": {
            "image/png": "[encoded data removed]",
            "text/plain": [
              "<Figure size 576x432 with 1 Axes>"
            ]
          },
          "metadata": {
            "tags": [],
            "needs_background": "light"
          }
        }
      ]
    },
    {
      "cell_type": "markdown",
      "metadata": {
        "id": "_Zj934o_tEE-"
      },
      "source": [
        "### Group the regions by color and plot bars of the mean value of \"nuovi_positivi\" column"
      ]
    },
    {
      "cell_type": "markdown",
      "metadata": {
        "id": "DgK0hwwitEE-"
      },
      "source": [
        "`hint: pd.Series, df.groupby().mean().plot.bar(), title=, rot=,`"
      ]
    },
    {
      "cell_type": "markdown",
      "metadata": {
        "id": "5H6DTlf_tEE_"
      },
      "source": [
        "- Figure size (8, 6)\n",
        "\n",
        "regions_colors = {\n",
        "    \"Abruzzo\": \"orange\",\n",
        "    \"Basilicata\": \"orange\",\n",
        "    \"Calabria\": \"orange\",\n",
        "    \"Campania\": \"red\",\n",
        "    \"Emilia-Romagna\": \"red\",\n",
        "    \"Friuli Venezia Giulia\": \"red\",\n",
        "    \"Lazio\": \"red\",\n",
        "    \"Liguria\": \"orange\",\n",
        "    \"Lombardia\": \"red\",\n",
        "    \"Marche\": \"red\",\n",
        "    \"Molise\": \"red\",\n",
        "    \"P.A. Bolzano\": \"orange\",\n",
        "    \"P.A. Trento\": \"red\",\n",
        "    \"Piemonte\": \"red\",\n",
        "    \"Puglia\": \"red\",\n",
        "    \"Sardegna\": \"white\",\n",
        "    \"Sicilia\": \"red\",\n",
        "    \"Toscana\": \"orange\",\n",
        "    \"Umbria\": \"orange\",\n",
        "    \"Valle d'Aosta\": \"orange\",\n",
        "    \"Veneto\": \"red\",\n",
        "}"
      ]
    },
    {
      "cell_type": "code",
      "metadata": {
        "id": "X5No90xmtEE_"
      },
      "source": [
        "regions_colors = {\n",
        "    \"Abruzzo\": \"orange\",\n",
        "    \"Basilicata\": \"orange\",\n",
        "    \"Calabria\": \"orange\",\n",
        "    \"Campania\": \"red\",\n",
        "    \"Emilia-Romagna\": \"red\",\n",
        "    \"Friuli Venezia Giulia\": \"red\",\n",
        "    \"Lazio\": \"red\",\n",
        "    \"Liguria\": \"orange\",\n",
        "    \"Lombardia\": \"red\",\n",
        "    \"Marche\": \"red\",\n",
        "    \"Molise\": \"red\",\n",
        "    \"P.A. Bolzano\": \"orange\",\n",
        "    \"P.A. Trento\": \"red\",\n",
        "    \"Piemonte\": \"red\",\n",
        "    \"Puglia\": \"red\",\n",
        "    \"Sardegna\": \"white\",\n",
        "    \"Sicilia\": \"red\",\n",
        "    \"Toscana\": \"orange\",\n",
        "    \"Umbria\": \"orange\",\n",
        "    \"Valle d'Aosta\": \"orange\",\n",
        "    \"Veneto\": \"red\",\n",
        "}\n",
        "covid_regions_latest[\"colori\"] = pd.Series(regions_colors)"
      ],
      "execution_count": 25,
      "outputs": []
    },
    {
      "cell_type": "code",
      "metadata": {
        "colab": {
          "base_uri": "https://localhost:8080/",
          "height": 422
        },
        "id": "0eZwi36HtEE_",
        "outputId": "53148726-5d66-4cdf-f331-3ec274d24410"
      },
      "source": [
        "covid_regions_latest.groupby(\"colori\")[\"nuovi_positivi\"].mean().plot.bar(\n",
        "    figsize=(8, 6), title=\"Nuovi positivi medi per colore regione\", rot=0\n",
        ")"
      ],
      "execution_count": 26,
      "outputs": [
        {
          "output_type": "execute_result",
          "data": {
            "text/plain": [
              "<matplotlib.axes._subplots.AxesSubplot at 0x7f337d533ed0>"
            ]
          },
          "metadata": {
            "tags": []
          },
          "execution_count": 26
        },
        {
          "output_type": "display_data",
          "data": {
            "image/png": "[encoded data removed]",
            "text/plain": [
              "<Figure size 576x432 with 1 Axes>"
            ]
          },
          "metadata": {
            "tags": [],
            "needs_background": "light"
          }
        }
      ]
    },
    {
      "cell_type": "markdown",
      "metadata": {
        "id": "K0z7U16ytEFA"
      },
      "source": [
        "### Group the regions by color and plot bars of mean *and error* of \"nuovi_positivi\" column"
      ]
    },
    {
      "cell_type": "markdown",
      "metadata": {
        "id": "J7-TpQ6otEFA"
      },
      "source": [
        "- Figure size (8, 6)"
      ]
    },
    {
      "cell_type": "markdown",
      "metadata": {
        "id": "e-1tMlK4tEFA"
      },
      "source": [
        "`hint: df.groupby().std(), yerr=, rot=,`"
      ]
    },
    {
      "cell_type": "code",
      "metadata": {
        "colab": {
          "base_uri": "https://localhost:8080/",
          "height": 422
        },
        "id": "9r6w8gJVtEFA",
        "outputId": "cfc47d7e-71d4-47d5-c6a4-56bb5353269d"
      },
      "source": [
        "COLUMN = \"nuovi_positivi\"\n",
        "yerr = covid_regions_latest.groupby(\"colori\")[COLUMN].std()\n",
        "covid_regions_latest.groupby(\"colori\")[COLUMN].mean().plot.bar(\n",
        "    figsize=(8, 6),\n",
        "    title=f\"{COLUMN.capitalize()} medio per colore regione\",\n",
        "    yerr=yerr,\n",
        "    rot=0,\n",
        ")"
      ],
      "execution_count": 27,
      "outputs": [
        {
          "output_type": "execute_result",
          "data": {
            "text/plain": [
              "<matplotlib.axes._subplots.AxesSubplot at 0x7f337d50dfd0>"
            ]
          },
          "metadata": {
            "tags": []
          },
          "execution_count": 27
        },
        {
          "output_type": "display_data",
          "data": {
            "image/png": "[encoded data removed]",
            "text/plain": [
              "<Figure size 576x432 with 1 Axes>"
            ]
          },
          "metadata": {
            "tags": [],
            "needs_background": "light"
          }
        }
      ]
    },
    {
      "cell_type": "markdown",
      "metadata": {
        "id": "LXAI4FKGtEFA"
      },
      "source": [
        "### Group the regions by color and plot a hist of \"variazione_totale_positivi\" using 5 bins"
      ]
    },
    {
      "cell_type": "markdown",
      "metadata": {
        "id": "1R9fSOCCtEFB"
      },
      "source": [
        "- Figure size (8, 6)"
      ]
    },
    {
      "cell_type": "markdown",
      "metadata": {
        "id": "ITydIswstEFB"
      },
      "source": [
        "`hint: pd.Series, df.groupby().plot.hist(), legend=,`"
      ]
    },
    {
      "cell_type": "code",
      "metadata": {
        "colab": {
          "base_uri": "https://localhost:8080/",
          "height": 390
        },
        "id": "jo72x50NtEFB",
        "outputId": "ca8df03b-6b7e-4f27-d569-c72b0a1bf291"
      },
      "source": [
        "covid_regions_latest.groupby(\"colori\")[\"variazione_totale_positivi\"].plot.hist(\n",
        "    figsize=(8, 6),\n",
        "    title=\"Istogramma di variazione_totale_positivi per colore regione\",\n",
        "    alpha=0.5,\n",
        "    rot=0,\n",
        "    bins=5,\n",
        "    legend=True,\n",
        ")\n",
        "plt.show()"
      ],
      "execution_count": 28,
      "outputs": [
        {
          "output_type": "display_data",
          "data": {
            "image/png": "[encoded data removed]",
            "text/plain": [
              "<Figure size 576x432 with 1 Axes>"
            ]
          },
          "metadata": {
            "tags": [],
            "needs_background": "light"
          }
        }
      ]
    },
    {
      "cell_type": "markdown",
      "metadata": {
        "id": "kShB2F0ltEFB"
      },
      "source": [
        "## Thanks to Matteo Olivato m.olivato@unibs.it"
      ]
    }
  ]
}