{
  "nbformat": 4,
  "nbformat_minor": 0,
  "metadata": {
    "colab": {
      "name": "How_to_submit_prediction_to_Kaggle_in_Python.ipynb",
      "provenance": [],
      "toc_visible": true
    },
    "kernelspec": {
      "display_name": "Python 3",
      "language": "python",
      "name": "python3"
    },
    "language_info": {
      "codemirror_mode": {
        "name": "ipython",
        "version": 3
      },
      "file_extension": ".py",
      "mimetype": "text/x-python",
      "name": "python",
      "nbconvert_exporter": "python",
      "pygments_lexer": "ipython3",
      "version": "3.6.9"
    }
  },
  "cells": [
    {
      "cell_type": "markdown",
      "metadata": {
        "_cell_guid": "3bd4b4df-0cc0-40b1-b4da-c0b0dcb413f8",
        "_uuid": "26816927ad8b3a35dc55fafc33efd187f30cde39",
        "id": "j1-OG_fCcQyo",
        "tags": []
      },
      "source": [
        "Here you will learn to submit your model \n",
        "\n",
        "*   List item\n",
        "*   List item\n",
        "\n",
        "to a machine learning competition in Python.  It's fun, and it will give you a way to see your progress as your skills keep improving.*\n",
        "\n",
        "# Introduction\n",
        "Machine learning competitions are a great way to improve your skills and measure your progress as a data scientist. If you are using data from a competition on Kaggle, you can easily submit it from your notebook.  Here's how you do it.\n",
        "\n",
        "# Example\n",
        "We're doing very minimal data set up here so we can focus on how to submit modeling results to competitions. Other tutorials will teach you how build great models. So the model in this example will be fairly simple. We'll start with the code to read data, select predictors, and fit a model."
      ]
    },
    {
      "cell_type": "markdown",
      "metadata": {
        "id": "9SPkn_9n41Pi"
      },
      "source": [
        "## Define Constants"
      ]
    },
    {
      "cell_type": "code",
      "metadata": {
        "id": "fXWtAa8x41Pi"
      },
      "source": [
        "DATA_PATH = \"https://raw.githubusercontent.com/serivan/mldmlab/master/Kaggle/KAGGLE21/\"\n",
        "OUTPUT_PATH = \"kaggle_submissions/\"\n",
        "RANDOM_STATE = 3993\n",
        "TRAIN_SIZE = 0.8\n",
        "\n",
        "DROPCOLUMS=[\"Id\",\"target\"]\n",
        "\n",
        "#Insert here the description of your test in order to submit to Kaggle\n",
        "Description=\"First submission test \""
      ],
      "execution_count": null,
      "outputs": []
    },
    {
      "cell_type": "markdown",
      "metadata": {
        "id": "jUTtD0_d41Ph"
      },
      "source": [
        "## Imports"
      ]
    },
    {
      "cell_type": "code",
      "metadata": {
        "_cell_guid": "8524922d-be55-46fd-863f-004261fcfff0",
        "_uuid": "58cfd95aa5563209575b12977280983ffeea6492",
        "id": "79gMoBcZcQyy"
      },
      "source": [
        "import os\n",
        "import graphviz\n",
        "import matplotlib.pyplot as plt\n",
        "import numpy as np\n",
        "import pandas as pd\n",
        "import seaborn as sns\n",
        "from sklearn.compose import ColumnTransformer\n",
        "from sklearn.impute import SimpleImputer\n",
        "from sklearn.metrics import classification_report, confusion_matrix\n",
        "from sklearn.model_selection import (\n",
        "    GridSearchCV,\n",
        "    StratifiedKFold,\n",
        "    cross_val_score,\n",
        "    train_test_split,\n",
        ")\n",
        "from sklearn.pipeline import Pipeline\n",
        "from sklearn.preprocessing import StandardScaler\n",
        "from sklearn.tree import DecisionTreeClassifier, export_graphviz"
      ],
      "execution_count": null,
      "outputs": []
    },
    {
      "cell_type": "code",
      "metadata": {
        "id": "6NgNXHNpcQyq",
        "colab": {
          "base_uri": "https://localhost:8080/"
        },
        "outputId": "ef0667ad-16c7-4eaf-8810-27a1e061c3cf"
      },
      "source": [
        "# if not 'sklearn' in sys.modules.keys():\n",
        "#    pip.main(['install', 'sklearn'])\n",
        "# if not 'kaggle' in sys.modules.keys():\n",
        "#    pip.main(['install', 'kaggle'])\n",
        "import random\n",
        "# import sys\n",
        "\n",
        "# import pip\n",
        "\n",
        "print(\"Random number with seed 2021\")\n",
        "# first call\n",
        "random.seed(2021)"
      ],
      "execution_count": null,
      "outputs": [
        {
          "output_type": "stream",
          "text": [
            "Random number with seed 2021\n"
          ],
          "name": "stdout"
        }
      ]
    },
    {
      "cell_type": "markdown",
      "metadata": {
        "id": "oaXCO2_YWsnl"
      },
      "source": [
        "##Imports for Kaggle\n",
        "See https://www.kaggle.com/docs/api"
      ]
    },
    {
      "cell_type": "code",
      "metadata": {
        "colab": {
          "base_uri": "https://localhost:8080/"
        },
        "id": "YPoMlAjOWvGi",
        "outputId": "7902ae2a-8b0e-4a7a-83b5-d2f81654d09c"
      },
      "source": [
        "from google.colab import drive\n",
        "#drive.mount('/content/gdrive')"
      ],
      "execution_count": null,
      "outputs": [
        {
          "output_type": "stream",
          "text": [
            "Requirement already satisfied: kaggle in /usr/local/lib/python3.7/dist-packages (1.5.12)\n",
            "Requirement already satisfied: tqdm in /usr/local/lib/python3.7/dist-packages (from kaggle) (4.41.1)\n",
            "Requirement already satisfied: certifi in /usr/local/lib/python3.7/dist-packages (from kaggle) (2020.12.5)\n",
            "Requirement already satisfied: requests in /usr/local/lib/python3.7/dist-packages (from kaggle) (2.23.0)\n",
            "Requirement already satisfied: urllib3 in /usr/local/lib/python3.7/dist-packages (from kaggle) (1.24.3)\n",
            "Requirement already satisfied: six>=1.10 in /usr/local/lib/python3.7/dist-packages (from kaggle) (1.15.0)\n",
            "Requirement already satisfied: python-dateutil in /usr/local/lib/python3.7/dist-packages (from kaggle) (2.8.1)\n",
            "Requirement already satisfied: python-slugify in /usr/local/lib/python3.7/dist-packages (from kaggle) (4.0.1)\n",
            "Requirement already satisfied: idna<3,>=2.5 in /usr/local/lib/python3.7/dist-packages (from requests->kaggle) (2.10)\n",
            "Requirement already satisfied: chardet<4,>=3.0.2 in /usr/local/lib/python3.7/dist-packages (from requests->kaggle) (3.0.4)\n",
            "Requirement already satisfied: text-unidecode>=1.3 in /usr/local/lib/python3.7/dist-packages (from python-slugify->kaggle) (1.3)\n",
            "Drive already mounted at /content/gdrive; to attempt to forcibly remount, call drive.mount(\"/content/gdrive\", force_remount=True).\n"
          ],
          "name": "stdout"
        }
      ]
    },
    {
      "cell_type": "code",
      "metadata": {
        "colab": {
          "base_uri": "https://localhost:8080/"
        },
        "id": "azonBcu2ZGP9",
        "outputId": "ac3b0069-8bd2-4752-d0cf-c61f94ad24a5"
      },
      "source": [
        "!mkdir -p ~/.kaggle\n",
        "!cp \"/content/gdrive/My Drive/kaggle.json\" ~/.kaggle/\n",
        "!pip install kaggle\n",
        "!chmod 600 /root/.kaggle/kaggle.json\n",
        "!kaggle datasets list"
      ],
      "execution_count": null,
      "outputs": [
        {
          "output_type": "stream",
          "text": [
            "Requirement already satisfied: kaggle in /usr/local/lib/python3.7/dist-packages (1.5.12)\n",
            "Requirement already satisfied: tqdm in /usr/local/lib/python3.7/dist-packages (from kaggle) (4.41.1)\n",
            "Requirement already satisfied: urllib3 in /usr/local/lib/python3.7/dist-packages (from kaggle) (1.24.3)\n",
            "Requirement already satisfied: python-dateutil in /usr/local/lib/python3.7/dist-packages (from kaggle) (2.8.1)\n",
            "Requirement already satisfied: python-slugify in /usr/local/lib/python3.7/dist-packages (from kaggle) (4.0.1)\n",
            "Requirement already satisfied: certifi in /usr/local/lib/python3.7/dist-packages (from kaggle) (2020.12.5)\n",
            "Requirement already satisfied: requests in /usr/local/lib/python3.7/dist-packages (from kaggle) (2.23.0)\n",
            "Requirement already satisfied: six>=1.10 in /usr/local/lib/python3.7/dist-packages (from kaggle) (1.15.0)\n",
            "Requirement already satisfied: text-unidecode>=1.3 in /usr/local/lib/python3.7/dist-packages (from python-slugify->kaggle) (1.3)\n",
            "Requirement already satisfied: chardet<4,>=3.0.2 in /usr/local/lib/python3.7/dist-packages (from requests->kaggle) (3.0.4)\n",
            "Requirement already satisfied: idna<3,>=2.5 in /usr/local/lib/python3.7/dist-packages (from requests->kaggle) (2.10)\n",
            "Warning: Looks like you're using an outdated API Version, please consider updating (server 1.5.12 / client 1.5.4)\n",
            "ref                                                         title                                              size  lastUpdated          downloadCount  \n",
            "----------------------------------------------------------  ------------------------------------------------  -----  -------------------  -------------  \n",
            "gpreda/reddit-vaccine-myths                                 Reddit Vaccine Myths                              223KB  2021-04-23 11:40:36           3457  \n",
            "crowww/a-large-scale-fish-dataset                           A Large Scale Fish Dataset                          3GB  2021-02-17 16:10:44           2016  \n",
            "promptcloud/careerbuilder-job-listing-2020                  Careerbuilder Job Listing 2020                     42MB  2021-03-05 06:59:52            409  \n",
            "dhruvildave/wikibooks-dataset                               Wikibooks Dataset                                   1GB  2021-02-18 10:08:27           1315  \n",
            "mathurinache/twitter-edge-nodes                             Twitter Edge Nodes                                342MB  2021-03-08 06:43:04            184  \n",
            "imsparsh/musicnet-dataset                                   MusicNet Dataset                                   22GB  2021-02-18 14:12:19            688  \n",
            "simiotic/github-code-snippets                               GitHub Code Snippets                                7GB  2021-03-03 11:34:39             73  \n",
            "nickuzmenkov/nih-chest-xrays-tfrecords                      NIH Chest X-rays TFRecords                         11GB  2021-03-09 04:49:23            291  \n",
            "alsgroup/end-als                                            End ALS Kaggle Challenge                           12GB  2021-04-08 12:16:37            488  \n",
            "fatiimaezzahra/famous-iconic-women                          Famous Iconic Women                               838MB  2021-02-28 14:56:00            444  \n",
            "landrykezebou/lvzhdr-tone-mapping-benchmark-dataset-tmonet  LVZ-HDR Tone Mapping Benchmark Dataset (TMO-Net)   24GB  2021-03-01 05:03:40             49  \n",
            "coloradokb/dandelionimages                                  DandelionImages                                     4GB  2021-02-19 20:03:47            185  \n",
            "mathurinache/the-lj-speech-dataset                          The LJ Speech Dataset                               3GB  2021-02-15 09:19:54            100  \n",
            "nickuzmenkov/ranzcr-clip-kfold-tfrecords                    RANZCR CLiP KFold TFRecords                         2GB  2021-02-21 13:29:51             61  \n",
            "stuartjames/lights                                          LightS: Light Specularity Dataset                  18GB  2021-02-18 14:32:26             35  \n",
            "imsparsh/accentdb-core-extended                             AccentDB - Core & Extended                          6GB  2021-02-17 14:22:54             43  \n",
            "datasnaek/youtube-new                                       Trending YouTube Video Statistics                 201MB  2019-06-03 00:56:47         136968  \n",
            "zynicide/wine-reviews                                       Wine Reviews                                       51MB  2017-11-27 17:08:04         134228  \n",
            "rtatman/188-million-us-wildfires                            1.88 Million US Wildfires                         168MB  2020-05-12 21:03:49          14971  \n",
            "datasnaek/chess                                             Chess Game Dataset (Lichess)                        3MB  2017-09-04 03:09:09          17024  \n"
          ],
          "name": "stdout"
        }
      ]
    },
    {
      "cell_type": "code",
      "metadata": {
        "id": "PRnlPjshaSzx"
      },
      "source": [
        ""
      ],
      "execution_count": null,
      "outputs": []
    },
    {
      "cell_type": "markdown",
      "metadata": {
        "id": "INvHmTiN41Pi"
      },
      "source": [
        "## Define Utils"
      ]
    },
    {
      "cell_type": "markdown",
      "metadata": {
        "id": "jhXvV6DlcQzA"
      },
      "source": [
        "Here we define a function for preperaing a submission file"
      ]
    },
    {
      "cell_type": "code",
      "metadata": {
        "id": "uPpDA5ElcQzB"
      },
      "source": [
        "def generateSubmission(myModel, submissionFile, description):\n",
        "    # Read the test data\n",
        "    data = pd.read_csv(DATA_PATH + \"test.csv\")\n",
        "\n",
        "    Id, X_test= data.Id,data.drop(columns=DROPCOLUMS)\n",
        "    # Impute each test item, then predict\n",
        "    X_test_imp = imp.transform(X_test)\n",
        "\n",
        "    # Use the model to make predictions\n",
        "    y_test_pred = myModel.predict(X_test_imp)\n",
        "    # print(y_test_pred)\n",
        "\n",
        "    # submission file\n",
        "    my_submission = pd.DataFrame({\"Id\": Id, \"target\": y_test_pred})\n",
        "\n",
        "    if not os.path.exists(OUTPUT_PATH):\n",
        "      os.mkdir(OUTPUT_PATH)\n",
        "\n",
        "    # you could use any filename. We choose submission here\n",
        "    my_submission.to_csv(OUTPUT_PATH + submissionFile, index=False)\n",
        "\n",
        "    # Submit authomatically; kaggle API authentication needed\n",
        "    #!kaggle competitions submit -c heart-attack-analysis-and-prediction-21 -f {OUTPUT_PATH/submissionFile} -m '{description}'"
      ],
      "execution_count": null,
      "outputs": []
    },
    {
      "cell_type": "markdown",
      "metadata": {
        "id": "KAreCll741Pk"
      },
      "source": [
        "## Load Data"
      ]
    },
    {
      "cell_type": "code",
      "metadata": {
        "_cell_guid": "8524922d-be55-46fd-863f-004261fcfff0",
        "_uuid": "58cfd95aa5563209575b12977280983ffeea6492",
        "colab": {
          "base_uri": "https://localhost:8080/"
        },
        "id": "179PvzaY41Pk",
        "outputId": "d1440c47-d099-40ed-8f44-b6a79759ccdb"
      },
      "source": [
        "# Read the data\n",
        "train = pd.read_csv(DATA_PATH + \"train.csv\")\n",
        "train.dtypes"
      ],
      "execution_count": null,
      "outputs": [
        {
          "output_type": "execute_result",
          "data": {
            "text/plain": [
              "Id                       int64\n",
              "st_slope               float64\n",
              "age                    float64\n",
              "chest_pain_type        float64\n",
              "cholesterol            float64\n",
              "exercise_angina        float64\n",
              "fasting_blood_sugar    float64\n",
              "max_heart_rate         float64\n",
              "oldpeak                float64\n",
              "pulse                  float64\n",
              "resting_bp_s           float64\n",
              "resting_ecg            float64\n",
              "sex                    float64\n",
              "synt                   float64\n",
              "target                   int64\n",
              "dtype: object"
            ]
          },
          "metadata": {
            "tags": []
          },
          "execution_count": 209
        }
      ]
    },
    {
      "cell_type": "code",
      "metadata": {
        "id": "dlokqpsPcQy2",
        "colab": {
          "base_uri": "https://localhost:8080/",
          "height": 204
        },
        "outputId": "d317008a-a455-4d30-adf9-8c77fbeab40d"
      },
      "source": [
        "train.head()"
      ],
      "execution_count": null,
      "outputs": [
        {
          "output_type": "execute_result",
          "data": {
            "text/html": [
              "<div>\n",
              "<style scoped>\n",
              "    .dataframe tbody tr th:only-of-type {\n",
              "        vertical-align: middle;\n",
              "    }\n",
              "\n",
              "    .dataframe tbody tr th {\n",
              "        vertical-align: top;\n",
              "    }\n",
              "\n",
              "    .dataframe thead th {\n",
              "        text-align: right;\n",
              "    }\n",
              "</style>\n",
              "<table border=\"1\" class=\"dataframe\">\n",
              "  <thead>\n",
              "    <tr style=\"text-align: right;\">\n",
              "      <th></th>\n",
              "      <th>Id</th>\n",
              "      <th>st_slope</th>\n",
              "      <th>age</th>\n",
              "      <th>chest_pain_type</th>\n",
              "      <th>cholesterol</th>\n",
              "      <th>exercise_angina</th>\n",
              "      <th>fasting_blood_sugar</th>\n",
              "      <th>max_heart_rate</th>\n",
              "      <th>oldpeak</th>\n",
              "      <th>pulse</th>\n",
              "      <th>resting_bp_s</th>\n",
              "      <th>resting_ecg</th>\n",
              "      <th>sex</th>\n",
              "      <th>synt</th>\n",
              "      <th>target</th>\n",
              "    </tr>\n",
              "  </thead>\n",
              "  <tbody>\n",
              "    <tr>\n",
              "      <th>0</th>\n",
              "      <td>1000</td>\n",
              "      <td>1.0</td>\n",
              "      <td>62.0</td>\n",
              "      <td>2.0</td>\n",
              "      <td>213.0</td>\n",
              "      <td>0.0</td>\n",
              "      <td>1.0</td>\n",
              "      <td>141.0</td>\n",
              "      <td>-0.051026</td>\n",
              "      <td>348.0</td>\n",
              "      <td>128.0</td>\n",
              "      <td>2.0</td>\n",
              "      <td>1.0</td>\n",
              "      <td>0.536459</td>\n",
              "      <td>0</td>\n",
              "    </tr>\n",
              "    <tr>\n",
              "      <th>1</th>\n",
              "      <td>1001</td>\n",
              "      <td>2.0</td>\n",
              "      <td>72.0</td>\n",
              "      <td>3.0</td>\n",
              "      <td>2.0</td>\n",
              "      <td>0.0</td>\n",
              "      <td>0.0</td>\n",
              "      <td>115.0</td>\n",
              "      <td>1.626599</td>\n",
              "      <td>287.0</td>\n",
              "      <td>159.0</td>\n",
              "      <td>2.0</td>\n",
              "      <td>1.0</td>\n",
              "      <td>0.334897</td>\n",
              "      <td>0</td>\n",
              "    </tr>\n",
              "    <tr>\n",
              "      <th>2</th>\n",
              "      <td>1002</td>\n",
              "      <td>2.0</td>\n",
              "      <td>49.0</td>\n",
              "      <td>3.0</td>\n",
              "      <td>183.0</td>\n",
              "      <td>0.0</td>\n",
              "      <td>0.0</td>\n",
              "      <td>156.0</td>\n",
              "      <td>0.968111</td>\n",
              "      <td>391.0</td>\n",
              "      <td>161.0</td>\n",
              "      <td>0.0</td>\n",
              "      <td>0.0</td>\n",
              "      <td>0.720858</td>\n",
              "      <td>1</td>\n",
              "    </tr>\n",
              "    <tr>\n",
              "      <th>3</th>\n",
              "      <td>1003</td>\n",
              "      <td>1.0</td>\n",
              "      <td>35.0</td>\n",
              "      <td>2.0</td>\n",
              "      <td>NaN</td>\n",
              "      <td>0.0</td>\n",
              "      <td>0.0</td>\n",
              "      <td>179.0</td>\n",
              "      <td>0.021913</td>\n",
              "      <td>449.0</td>\n",
              "      <td>119.0</td>\n",
              "      <td>2.0</td>\n",
              "      <td>1.0</td>\n",
              "      <td>0.117560</td>\n",
              "      <td>0</td>\n",
              "    </tr>\n",
              "    <tr>\n",
              "      <th>4</th>\n",
              "      <td>1004</td>\n",
              "      <td>2.0</td>\n",
              "      <td>51.0</td>\n",
              "      <td>4.0</td>\n",
              "      <td>-4.0</td>\n",
              "      <td>0.0</td>\n",
              "      <td>1.0</td>\n",
              "      <td>104.0</td>\n",
              "      <td>-0.010970</td>\n",
              "      <td>258.0</td>\n",
              "      <td>120.0</td>\n",
              "      <td>0.0</td>\n",
              "      <td>1.0</td>\n",
              "      <td>0.790254</td>\n",
              "      <td>1</td>\n",
              "    </tr>\n",
              "  </tbody>\n",
              "</table>\n",
              "</div>"
            ],
            "text/plain": [
              "     Id  st_slope   age  chest_pain_type  ...  resting_ecg  sex      synt  target\n",
              "0  1000       1.0  62.0              2.0  ...          2.0  1.0  0.536459       0\n",
              "1  1001       2.0  72.0              3.0  ...          2.0  1.0  0.334897       0\n",
              "2  1002       2.0  49.0              3.0  ...          0.0  0.0  0.720858       1\n",
              "3  1003       1.0  35.0              2.0  ...          2.0  1.0  0.117560       0\n",
              "4  1004       2.0  51.0              4.0  ...          0.0  1.0  0.790254       1\n",
              "\n",
              "[5 rows x 15 columns]"
            ]
          },
          "metadata": {
            "tags": []
          },
          "execution_count": 210
        }
      ]
    },
    {
      "cell_type": "markdown",
      "metadata": {
        "id": "rtiORdT141Pm"
      },
      "source": [
        "## Count missing values in columns"
      ]
    },
    {
      "cell_type": "code",
      "metadata": {
        "colab": {
          "base_uri": "https://localhost:8080/"
        },
        "id": "mBEC-jf_41Pm",
        "outputId": "7c3d9acc-6877-431d-b4c5-4925e4104240"
      },
      "source": [
        "number_of_missing_in_cols = train.shape[0] - train.count()\n",
        "number_of_missing_in_cols"
      ],
      "execution_count": null,
      "outputs": [
        {
          "output_type": "execute_result",
          "data": {
            "text/plain": [
              "Id                       0\n",
              "st_slope                 1\n",
              "age                      4\n",
              "chest_pain_type          9\n",
              "cholesterol            202\n",
              "exercise_angina          3\n",
              "fasting_blood_sugar     11\n",
              "max_heart_rate           7\n",
              "oldpeak                  8\n",
              "pulse                    3\n",
              "resting_bp_s             7\n",
              "resting_ecg              3\n",
              "sex                      8\n",
              "synt                     0\n",
              "target                   0\n",
              "dtype: int64"
            ]
          },
          "metadata": {
            "tags": []
          },
          "execution_count": 211
        }
      ]
    },
    {
      "cell_type": "markdown",
      "metadata": {
        "id": "R_pwrwvZ41Pn"
      },
      "source": [
        "## Divide features by sematic type (binary, nominal, numerical)"
      ]
    },
    {
      "cell_type": "code",
      "metadata": {
        "colab": {
          "base_uri": "https://localhost:8080/"
        },
        "id": "GUwIUeyv41Pn",
        "outputId": "bccc9039-ce80-42e5-8b47-5e8d842dded7"
      },
      "source": [
        "# Count the number of unique values in dataframe\n",
        "cols_unique_vals_count = train.drop(columns=DROPCOLUMS).nunique().sort_values()\n",
        "cols_unique_vals_count"
      ],
      "execution_count": null,
      "outputs": [
        {
          "output_type": "execute_result",
          "data": {
            "text/plain": [
              "exercise_angina           2\n",
              "fasting_blood_sugar       2\n",
              "sex                       2\n",
              "resting_ecg               3\n",
              "st_slope                  4\n",
              "chest_pain_type           4\n",
              "age                      49\n",
              "resting_bp_s             87\n",
              "max_heart_rate          121\n",
              "cholesterol             222\n",
              "pulse                   259\n",
              "oldpeak                 947\n",
              "synt                   1301\n",
              "dtype: int64"
            ]
          },
          "metadata": {
            "tags": []
          },
          "execution_count": 212
        }
      ]
    },
    {
      "cell_type": "code",
      "metadata": {
        "colab": {
          "base_uri": "https://localhost:8080/"
        },
        "id": "T-ehoc_241Pn",
        "outputId": "7de1ec4a-c59a-43d5-99ba-db51711d00d2"
      },
      "source": [
        "# If the column has only 2 unique values it is a binary col\n",
        "BINARY_COLS = [col for col, val in cols_unique_vals_count.items() if val == 2]\n",
        "BINARY_COLS"
      ],
      "execution_count": null,
      "outputs": [
        {
          "output_type": "execute_result",
          "data": {
            "text/plain": [
              "['exercise_angina', 'fasting_blood_sugar', 'sex']"
            ]
          },
          "metadata": {
            "tags": []
          },
          "execution_count": 213
        }
      ]
    },
    {
      "cell_type": "code",
      "metadata": {
        "colab": {
          "base_uri": "https://localhost:8080/"
        },
        "id": "SxV7GdUF41Po",
        "outputId": "d614ed87-8e85-426e-ab9b-526809ad213f"
      },
      "source": [
        "# Maximum number of unique values which represent a Nominal (categorical) feature\n",
        "NOMINAL_NUNIQUE_THRESHOLD = 10\n",
        "NOMINAL_COLS = [\n",
        "    col\n",
        "    for col, val in cols_unique_vals_count.items()\n",
        "    if val > 2 and val < NOMINAL_NUNIQUE_THRESHOLD\n",
        "]\n",
        "NOMINAL_COLS"
      ],
      "execution_count": null,
      "outputs": [
        {
          "output_type": "execute_result",
          "data": {
            "text/plain": [
              "['resting_ecg', 'st_slope', 'chest_pain_type']"
            ]
          },
          "metadata": {
            "tags": []
          },
          "execution_count": 214
        }
      ]
    },
    {
      "cell_type": "code",
      "metadata": {
        "colab": {
          "base_uri": "https://localhost:8080/"
        },
        "id": "bbtd2eAK41Po",
        "outputId": "a0516a09-cf4b-4380-de02-ce3a6972ff74"
      },
      "source": [
        "# Maximum number of unique values which represent a Nominal (categorical) feature\n",
        "NUMERICAL_COLS = [\n",
        "    col\n",
        "    for col, val in cols_unique_vals_count.items()\n",
        "    if val > NOMINAL_NUNIQUE_THRESHOLD\n",
        "]\n",
        "NUMERICAL_COLS"
      ],
      "execution_count": null,
      "outputs": [
        {
          "output_type": "execute_result",
          "data": {
            "text/plain": [
              "['age',\n",
              " 'resting_bp_s',\n",
              " 'max_heart_rate',\n",
              " 'cholesterol',\n",
              " 'pulse',\n",
              " 'oldpeak',\n",
              " 'synt']"
            ]
          },
          "metadata": {
            "tags": []
          },
          "execution_count": 215
        }
      ]
    },
    {
      "cell_type": "code",
      "metadata": {
        "colab": {
          "base_uri": "https://localhost:8080/"
        },
        "id": "OeR8YaEN41Pp",
        "outputId": "5a5939f6-45b9-433f-f0cc-bc40e3ae79d8"
      },
      "source": [
        "# Create the categorical columns list as binary + nominal\n",
        "CATEGORICAL_COLS = BINARY_COLS + NOMINAL_COLS\n",
        "CATEGORICAL_COLS"
      ],
      "execution_count": null,
      "outputs": [
        {
          "output_type": "execute_result",
          "data": {
            "text/plain": [
              "['exercise_angina',\n",
              " 'fasting_blood_sugar',\n",
              " 'sex',\n",
              " 'resting_ecg',\n",
              " 'st_slope',\n",
              " 'chest_pain_type']"
            ]
          },
          "metadata": {
            "tags": []
          },
          "execution_count": 216
        }
      ]
    },
    {
      "cell_type": "markdown",
      "metadata": {
        "id": "KxX3XDIVcQy9"
      },
      "source": [
        "## Feature engineering phase"
      ]
    },
    {
      "cell_type": "code",
      "metadata": {
        "id": "JbZ-89Mm41Pq"
      },
      "source": [
        "# Split dataset in data and target label\n",
        "X_train, y_train = train.drop(columns=DROPCOLUMS), train.target"
      ],
      "execution_count": null,
      "outputs": []
    },
    {
      "cell_type": "code",
      "metadata": {
        "id": "FnkZf_fO41Pq"
      },
      "source": [
        "# Create categorical transformer (binary + nominal)\n",
        "# Replace imputer\n",
        "categorical_transformer = SimpleImputer(missing_values=np.nan, strategy=\"most_frequent\")"
      ],
      "execution_count": null,
      "outputs": []
    },
    {
      "cell_type": "code",
      "metadata": {
        "id": "edZmLnYs41Pq"
      },
      "source": [
        "# Create numeric transformer\n",
        "# Impute missing values using the median value of each colum\n",
        "numeric_transformer = SimpleImputer(missing_values=np.nan, strategy=\"median\")"
      ],
      "execution_count": null,
      "outputs": []
    },
    {
      "cell_type": "code",
      "metadata": {
        "id": "8GqvzLv641Pr"
      },
      "source": [
        "# Create the imputer of mixed type columns\n",
        "# ATTENTION: the preprocessor can be used in a Pipeline for simplicity\n",
        "imputer = ColumnTransformer(\n",
        "    transformers=[\n",
        "        (\"impute_numeric\", numeric_transformer, NUMERICAL_COLS),\n",
        "        (\"impute_categorical\", categorical_transformer, CATEGORICAL_COLS),\n",
        "    ],\n",
        "    verbose=True,\n",
        ")"
      ],
      "execution_count": null,
      "outputs": []
    },
    {
      "cell_type": "code",
      "metadata": {
        "id": "KAGwdIWgcQy9",
        "colab": {
          "base_uri": "https://localhost:8080/"
        },
        "outputId": "f66975c6-1705-4278-c4d6-c7cb9aff4c85"
      },
      "source": [
        "# Fit the imputer\n",
        "imp = imputer.fit(X_train)\n",
        "# Impute our data\n",
        "X_train_imp = imp.transform(X_train)"
      ],
      "execution_count": null,
      "outputs": [
        {
          "output_type": "stream",
          "text": [
            "[ColumnTransformer]  (1 of 2) Processing impute_numeric, total=   0.0s\n",
            "[ColumnTransformer]  (2 of 2) Processing impute_categorical, total=   0.0s\n"
          ],
          "name": "stdout"
        }
      ]
    },
    {
      "cell_type": "code",
      "metadata": {
        "colab": {
          "base_uri": "https://localhost:8080/",
          "height": 204
        },
        "id": "kBgKH8fQ41Pu",
        "outputId": "50ab196c-0224-4275-805d-1daf36e7ec34"
      },
      "source": [
        "# Column names after mixed imputation procedure\n",
        "COLUMN_NAMES = NUMERICAL_COLS + CATEGORICAL_COLS\n",
        "# Create a DataFrame from numpy array for visualization and simplicity\n",
        "X_train_imp = pd.DataFrame(data=X_train_imp, columns=COLUMN_NAMES)\n",
        "X_train_imp.head()"
      ],
      "execution_count": null,
      "outputs": [
        {
          "output_type": "execute_result",
          "data": {
            "text/html": [
              "<div>\n",
              "<style scoped>\n",
              "    .dataframe tbody tr th:only-of-type {\n",
              "        vertical-align: middle;\n",
              "    }\n",
              "\n",
              "    .dataframe tbody tr th {\n",
              "        vertical-align: top;\n",
              "    }\n",
              "\n",
              "    .dataframe thead th {\n",
              "        text-align: right;\n",
              "    }\n",
              "</style>\n",
              "<table border=\"1\" class=\"dataframe\">\n",
              "  <thead>\n",
              "    <tr style=\"text-align: right;\">\n",
              "      <th></th>\n",
              "      <th>age</th>\n",
              "      <th>resting_bp_s</th>\n",
              "      <th>max_heart_rate</th>\n",
              "      <th>cholesterol</th>\n",
              "      <th>pulse</th>\n",
              "      <th>oldpeak</th>\n",
              "      <th>synt</th>\n",
              "      <th>exercise_angina</th>\n",
              "      <th>fasting_blood_sugar</th>\n",
              "      <th>sex</th>\n",
              "      <th>resting_ecg</th>\n",
              "      <th>st_slope</th>\n",
              "      <th>chest_pain_type</th>\n",
              "    </tr>\n",
              "  </thead>\n",
              "  <tbody>\n",
              "    <tr>\n",
              "      <th>0</th>\n",
              "      <td>62.0</td>\n",
              "      <td>128.0</td>\n",
              "      <td>141.0</td>\n",
              "      <td>213.0</td>\n",
              "      <td>348.0</td>\n",
              "      <td>-0.051026</td>\n",
              "      <td>0.536459</td>\n",
              "      <td>0.0</td>\n",
              "      <td>1.0</td>\n",
              "      <td>1.0</td>\n",
              "      <td>2.0</td>\n",
              "      <td>1.0</td>\n",
              "      <td>2.0</td>\n",
              "    </tr>\n",
              "    <tr>\n",
              "      <th>1</th>\n",
              "      <td>72.0</td>\n",
              "      <td>159.0</td>\n",
              "      <td>115.0</td>\n",
              "      <td>2.0</td>\n",
              "      <td>287.0</td>\n",
              "      <td>1.626599</td>\n",
              "      <td>0.334897</td>\n",
              "      <td>0.0</td>\n",
              "      <td>0.0</td>\n",
              "      <td>1.0</td>\n",
              "      <td>2.0</td>\n",
              "      <td>2.0</td>\n",
              "      <td>3.0</td>\n",
              "    </tr>\n",
              "    <tr>\n",
              "      <th>2</th>\n",
              "      <td>49.0</td>\n",
              "      <td>161.0</td>\n",
              "      <td>156.0</td>\n",
              "      <td>183.0</td>\n",
              "      <td>391.0</td>\n",
              "      <td>0.968111</td>\n",
              "      <td>0.720858</td>\n",
              "      <td>0.0</td>\n",
              "      <td>0.0</td>\n",
              "      <td>0.0</td>\n",
              "      <td>0.0</td>\n",
              "      <td>2.0</td>\n",
              "      <td>3.0</td>\n",
              "    </tr>\n",
              "    <tr>\n",
              "      <th>3</th>\n",
              "      <td>35.0</td>\n",
              "      <td>119.0</td>\n",
              "      <td>179.0</td>\n",
              "      <td>230.0</td>\n",
              "      <td>449.0</td>\n",
              "      <td>0.021913</td>\n",
              "      <td>0.117560</td>\n",
              "      <td>0.0</td>\n",
              "      <td>0.0</td>\n",
              "      <td>1.0</td>\n",
              "      <td>2.0</td>\n",
              "      <td>1.0</td>\n",
              "      <td>2.0</td>\n",
              "    </tr>\n",
              "    <tr>\n",
              "      <th>4</th>\n",
              "      <td>51.0</td>\n",
              "      <td>120.0</td>\n",
              "      <td>104.0</td>\n",
              "      <td>-4.0</td>\n",
              "      <td>258.0</td>\n",
              "      <td>-0.010970</td>\n",
              "      <td>0.790254</td>\n",
              "      <td>0.0</td>\n",
              "      <td>1.0</td>\n",
              "      <td>1.0</td>\n",
              "      <td>0.0</td>\n",
              "      <td>2.0</td>\n",
              "      <td>4.0</td>\n",
              "    </tr>\n",
              "  </tbody>\n",
              "</table>\n",
              "</div>"
            ],
            "text/plain": [
              "    age  resting_bp_s  max_heart_rate  ...  resting_ecg  st_slope  chest_pain_type\n",
              "0  62.0         128.0           141.0  ...          2.0       1.0              2.0\n",
              "1  72.0         159.0           115.0  ...          2.0       2.0              3.0\n",
              "2  49.0         161.0           156.0  ...          0.0       2.0              3.0\n",
              "3  35.0         119.0           179.0  ...          2.0       1.0              2.0\n",
              "4  51.0         120.0           104.0  ...          0.0       2.0              4.0\n",
              "\n",
              "[5 rows x 13 columns]"
            ]
          },
          "metadata": {
            "tags": []
          },
          "execution_count": 222
        }
      ]
    },
    {
      "cell_type": "markdown",
      "metadata": {
        "id": "-xU8Pk2ScQzD"
      },
      "source": [
        "## Training"
      ]
    },
    {
      "cell_type": "markdown",
      "metadata": {
        "id": "edNIVyHAcQzE"
      },
      "source": [
        "### You can train directly on the training set"
      ]
    },
    {
      "cell_type": "code",
      "metadata": {
        "id": "oaQjXaRMcQzE",
        "colab": {
          "base_uri": "https://localhost:8080/"
        },
        "outputId": "cc6bfb2d-8af2-4574-b784-06a5df22a4f8"
      },
      "source": [
        "my_model = DecisionTreeClassifier(random_state=RANDOM_STATE)\n",
        "my_model.fit(X_train_imp, y_train)\n",
        "my_model.score(X_train_imp, y_train)"
      ],
      "execution_count": null,
      "outputs": [
        {
          "output_type": "execute_result",
          "data": {
            "text/plain": [
              "1.0"
            ]
          },
          "metadata": {
            "tags": []
          },
          "execution_count": 223
        }
      ]
    },
    {
      "cell_type": "code",
      "metadata": {
        "colab": {
          "base_uri": "https://localhost:8080/"
        },
        "id": "qZ7a2eWW41Px",
        "outputId": "0469c798-181d-469c-b8dd-9467787dbcab"
      },
      "source": [
        "my_model.feature_importances_"
      ],
      "execution_count": null,
      "outputs": [
        {
          "output_type": "execute_result",
          "data": {
            "text/plain": [
              "array([0.06774393, 0.08956703, 0.04156462, 0.06936007, 0.06628662,\n",
              "       0.10478481, 0.02520661, 0.01958205, 0.01301884, 0.04703054,\n",
              "       0.0199307 , 0.31696414, 0.11896005])"
            ]
          },
          "metadata": {
            "tags": []
          },
          "execution_count": 224
        }
      ]
    },
    {
      "cell_type": "code",
      "metadata": {
        "id": "JL-VUzTFcQzH",
        "colab": {
          "base_uri": "https://localhost:8080/",
          "height": 452
        },
        "outputId": "af880974-d32b-403e-e9f9-d1e6502b5133"
      },
      "source": [
        "# The snippet below will retrieve the feature importances from the model and make them into a DataFrame.\n",
        "feature_importances = pd.DataFrame(\n",
        "    data=my_model.feature_importances_,\n",
        "    index=X_train_imp.columns,\n",
        "    columns=[\"importance\"],\n",
        ").sort_values(\"importance\", ascending=False)\n",
        "feature_importances"
      ],
      "execution_count": null,
      "outputs": [
        {
          "output_type": "execute_result",
          "data": {
            "text/html": [
              "<div>\n",
              "<style scoped>\n",
              "    .dataframe tbody tr th:only-of-type {\n",
              "        vertical-align: middle;\n",
              "    }\n",
              "\n",
              "    .dataframe tbody tr th {\n",
              "        vertical-align: top;\n",
              "    }\n",
              "\n",
              "    .dataframe thead th {\n",
              "        text-align: right;\n",
              "    }\n",
              "</style>\n",
              "<table border=\"1\" class=\"dataframe\">\n",
              "  <thead>\n",
              "    <tr style=\"text-align: right;\">\n",
              "      <th></th>\n",
              "      <th>importance</th>\n",
              "    </tr>\n",
              "  </thead>\n",
              "  <tbody>\n",
              "    <tr>\n",
              "      <th>st_slope</th>\n",
              "      <td>0.316964</td>\n",
              "    </tr>\n",
              "    <tr>\n",
              "      <th>chest_pain_type</th>\n",
              "      <td>0.118960</td>\n",
              "    </tr>\n",
              "    <tr>\n",
              "      <th>oldpeak</th>\n",
              "      <td>0.104785</td>\n",
              "    </tr>\n",
              "    <tr>\n",
              "      <th>resting_bp_s</th>\n",
              "      <td>0.089567</td>\n",
              "    </tr>\n",
              "    <tr>\n",
              "      <th>cholesterol</th>\n",
              "      <td>0.069360</td>\n",
              "    </tr>\n",
              "    <tr>\n",
              "      <th>age</th>\n",
              "      <td>0.067744</td>\n",
              "    </tr>\n",
              "    <tr>\n",
              "      <th>pulse</th>\n",
              "      <td>0.066287</td>\n",
              "    </tr>\n",
              "    <tr>\n",
              "      <th>sex</th>\n",
              "      <td>0.047031</td>\n",
              "    </tr>\n",
              "    <tr>\n",
              "      <th>max_heart_rate</th>\n",
              "      <td>0.041565</td>\n",
              "    </tr>\n",
              "    <tr>\n",
              "      <th>synt</th>\n",
              "      <td>0.025207</td>\n",
              "    </tr>\n",
              "    <tr>\n",
              "      <th>resting_ecg</th>\n",
              "      <td>0.019931</td>\n",
              "    </tr>\n",
              "    <tr>\n",
              "      <th>exercise_angina</th>\n",
              "      <td>0.019582</td>\n",
              "    </tr>\n",
              "    <tr>\n",
              "      <th>fasting_blood_sugar</th>\n",
              "      <td>0.013019</td>\n",
              "    </tr>\n",
              "  </tbody>\n",
              "</table>\n",
              "</div>"
            ],
            "text/plain": [
              "                     importance\n",
              "st_slope               0.316964\n",
              "chest_pain_type        0.118960\n",
              "oldpeak                0.104785\n",
              "resting_bp_s           0.089567\n",
              "cholesterol            0.069360\n",
              "age                    0.067744\n",
              "pulse                  0.066287\n",
              "sex                    0.047031\n",
              "max_heart_rate         0.041565\n",
              "synt                   0.025207\n",
              "resting_ecg            0.019931\n",
              "exercise_angina        0.019582\n",
              "fasting_blood_sugar    0.013019"
            ]
          },
          "metadata": {
            "tags": []
          },
          "execution_count": 225
        }
      ]
    },
    {
      "cell_type": "code",
      "metadata": {
        "id": "h_flxO0mcQzJ",
        "colab": {
          "base_uri": "https://localhost:8080/"
        },
        "outputId": "b74f79ba-d8a5-4008-ccf0-4a1c92bfd2b4"
      },
      "source": [
        "y_pred = my_model.predict(X_train_imp)\n",
        "print(\"Confusion Matrix:\")\n",
        "print(confusion_matrix(y_train, y_pred))\n",
        "\n",
        "print(\"Classification Report:\")\n",
        "print(classification_report(y_train, y_pred))"
      ],
      "execution_count": null,
      "outputs": [
        {
          "output_type": "stream",
          "text": [
            "Confusion Matrix:\n",
            "[[798   0]\n",
            " [  0 503]]\n",
            "Classification Report:\n",
            "              precision    recall  f1-score   support\n",
            "\n",
            "           0       1.00      1.00      1.00       798\n",
            "           1       1.00      1.00      1.00       503\n",
            "\n",
            "    accuracy                           1.00      1301\n",
            "   macro avg       1.00      1.00      1.00      1301\n",
            "weighted avg       1.00      1.00      1.00      1301\n",
            "\n"
          ],
          "name": "stdout"
        }
      ]
    },
    {
      "cell_type": "code",
      "metadata": {
        "id": "PQWmFlljcQzL"
      },
      "source": [
        "# generate a submission file\n",
        "generateSubmission(my_model, \"first_decision_tree.csv\", Description)"
      ],
      "execution_count": null,
      "outputs": []
    },
    {
      "cell_type": "markdown",
      "metadata": {
        "id": "EuVsF4wacQzN"
      },
      "source": [
        "### You can consider different models splitting in training and testing"
      ]
    },
    {
      "cell_type": "code",
      "metadata": {
        "id": "QXW11klacQzO"
      },
      "source": [
        "X_train_imp_2, X_test_imp_2, y_train_2, y_test_2 = train_test_split(\n",
        "    X_train_imp, y_train, train_size=TRAIN_SIZE, random_state=RANDOM_STATE\n",
        ")"
      ],
      "execution_count": null,
      "outputs": []
    },
    {
      "cell_type": "code",
      "metadata": {
        "id": "-e3K7nAPcQzQ",
        "colab": {
          "base_uri": "https://localhost:8080/"
        },
        "outputId": "665785a9-861f-4ce7-8b30-cc6f15ce52d0"
      },
      "source": [
        "classification_tree = DecisionTreeClassifier(max_depth=3, random_state=RANDOM_STATE)\n",
        "classification_tree.fit(X_train_imp_2, y_train_2)\n",
        "classification_tree.score(X_train_imp_2, y_train_2)"
      ],
      "execution_count": null,
      "outputs": [
        {
          "output_type": "execute_result",
          "data": {
            "text/plain": [
              "0.8355769230769231"
            ]
          },
          "metadata": {
            "tags": []
          },
          "execution_count": 229
        }
      ]
    },
    {
      "cell_type": "code",
      "metadata": {
        "id": "_eLhNrTgcQzT",
        "colab": {
          "base_uri": "https://localhost:8080/"
        },
        "outputId": "5b9586bb-0ee0-4a1d-e687-14ed141329c3"
      },
      "source": [
        "classification_tree.score(X_test_imp_2, y_test_2)"
      ],
      "execution_count": null,
      "outputs": [
        {
          "output_type": "execute_result",
          "data": {
            "text/plain": [
              "0.8199233716475096"
            ]
          },
          "metadata": {
            "tags": []
          },
          "execution_count": 230
        }
      ]
    },
    {
      "cell_type": "code",
      "metadata": {
        "id": "vzhSjoN0cQzV",
        "colab": {
          "base_uri": "https://localhost:8080/",
          "height": 517
        },
        "outputId": "525f72ce-9b6f-463b-8d4f-fb5a05db3e2f"
      },
      "source": [
        "# Visualize Decision Tree\n",
        "dot_data = export_graphviz(\n",
        "    decision_tree=classification_tree,\n",
        "    out_file=\"decision_tree_heart_desease.dot\",\n",
        "    feature_names=COLUMN_NAMES,\n",
        "    filled=True,\n",
        "    rounded=True,\n",
        "    special_characters=True,\n",
        ")\n",
        "\n",
        "# Read the dot graph and display image\n",
        "with open(\"decision_tree_heart_desease.dot\") as f:\n",
        "    dot_graph = f.read()\n",
        "\n",
        "# display(graphviz.Source(dot_graph))\n",
        "display(graphviz.Source(dot_graph))"
      ],
      "execution_count": null,
      "outputs": [
        {
          "output_type": "display_data",
          "data": {
            "text/plain": [
              "<graphviz.files.Source at 0x7f6138585210>"
            ],
            "image/svg+xml": "<?xml version=\"1.0\" encoding=\"UTF-8\" standalone=\"no\"?>\n<!DOCTYPE svg PUBLIC \"-//W3C//DTD SVG 1.1//EN\"\n \"http://www.w3.org/Graphics/SVG/1.1/DTD/svg11.dtd\">\n<!-- Generated by graphviz version 2.40.1 (20161225.0304)\n -->\n<!-- Title: Tree Pages: 1 -->\n<svg width=\"1062pt\" height=\"373pt\"\n viewBox=\"0.00 0.00 1062.00 373.00\" xmlns=\"http://www.w3.org/2000/svg\" xmlns:xlink=\"http://www.w3.org/1999/xlink\">\n<g id=\"graph0\" class=\"graph\" transform=\"scale(1 1) rotate(0) translate(4 369)\">\n<title>Tree</title>\n<polygon fill=\"#ffffff\" stroke=\"transparent\" points=\"-4,4 -4,-369 1058,-369 1058,4 -4,4\"/>\n<!-- 0 -->\n<g id=\"node1\" class=\"node\">\n<title>0</title>\n<path fill=\"#f5ceb2\" stroke=\"#000000\" d=\"M551,-365C551,-365 443,-365 443,-365 437,-365 431,-359 431,-353 431,-353 431,-309 431,-309 431,-303 437,-297 443,-297 443,-297 551,-297 551,-297 557,-297 563,-303 563,-309 563,-309 563,-353 563,-353 563,-359 557,-365 551,-365\"/>\n<text text-anchor=\"start\" x=\"451.5\" y=\"-349.8\" font-family=\"Helvetica,sans-Serif\" font-size=\"14.00\" fill=\"#000000\">st_slope ≤ 1.5</text>\n<text text-anchor=\"start\" x=\"459\" y=\"-334.8\" font-family=\"Helvetica,sans-Serif\" font-size=\"14.00\" fill=\"#000000\">gini = 0.471</text>\n<text text-anchor=\"start\" x=\"445\" y=\"-319.8\" font-family=\"Helvetica,sans-Serif\" font-size=\"14.00\" fill=\"#000000\">samples = 1040</text>\n<text text-anchor=\"start\" x=\"439\" y=\"-304.8\" font-family=\"Helvetica,sans-Serif\" font-size=\"14.00\" fill=\"#000000\">value = [645, 395]</text>\n</g>\n<!-- 1 -->\n<g id=\"node2\" class=\"node\">\n<title>1</title>\n<path fill=\"#e99254\" stroke=\"#000000\" d=\"M447.5,-261C447.5,-261 312.5,-261 312.5,-261 306.5,-261 300.5,-255 300.5,-249 300.5,-249 300.5,-205 300.5,-205 300.5,-199 306.5,-193 312.5,-193 312.5,-193 447.5,-193 447.5,-193 453.5,-193 459.5,-199 459.5,-205 459.5,-205 459.5,-249 459.5,-249 459.5,-255 453.5,-261 447.5,-261\"/>\n<text text-anchor=\"start\" x=\"308.5\" y=\"-245.8\" font-family=\"Helvetica,sans-Serif\" font-size=\"14.00\" fill=\"#000000\">chest_pain_type ≤ 3.5</text>\n<text text-anchor=\"start\" x=\"346.5\" y=\"-230.8\" font-family=\"Helvetica,sans-Serif\" font-size=\"14.00\" fill=\"#000000\">gini = 0.21</text>\n<text text-anchor=\"start\" x=\"332\" y=\"-215.8\" font-family=\"Helvetica,sans-Serif\" font-size=\"14.00\" fill=\"#000000\">samples = 544</text>\n<text text-anchor=\"start\" x=\"326\" y=\"-200.8\" font-family=\"Helvetica,sans-Serif\" font-size=\"14.00\" fill=\"#000000\">value = [479, 65]</text>\n</g>\n<!-- 0&#45;&gt;1 -->\n<g id=\"edge1\" class=\"edge\">\n<title>0&#45;&gt;1</title>\n<path fill=\"none\" stroke=\"#000000\" d=\"M458.6898,-296.9465C448.2859,-287.6986 436.911,-277.5876 426.1243,-267.9994\"/>\n<polygon fill=\"#000000\" stroke=\"#000000\" points=\"428.1956,-265.1577 418.3962,-261.13 423.5451,-270.3896 428.1956,-265.1577\"/>\n<text text-anchor=\"middle\" x=\"419.8643\" y=\"-282.3869\" font-family=\"Helvetica,sans-Serif\" font-size=\"14.00\" fill=\"#000000\">True</text>\n</g>\n<!-- 8 -->\n<g id=\"node9\" class=\"node\">\n<title>8</title>\n<path fill=\"#9dcef2\" stroke=\"#000000\" d=\"M716.5,-261C716.5,-261 581.5,-261 581.5,-261 575.5,-261 569.5,-255 569.5,-249 569.5,-249 569.5,-205 569.5,-205 569.5,-199 575.5,-193 581.5,-193 581.5,-193 716.5,-193 716.5,-193 722.5,-193 728.5,-199 728.5,-205 728.5,-205 728.5,-249 728.5,-249 728.5,-255 722.5,-261 716.5,-261\"/>\n<text text-anchor=\"start\" x=\"577.5\" y=\"-245.8\" font-family=\"Helvetica,sans-Serif\" font-size=\"14.00\" fill=\"#000000\">chest_pain_type ≤ 3.5</text>\n<text text-anchor=\"start\" x=\"611\" y=\"-230.8\" font-family=\"Helvetica,sans-Serif\" font-size=\"14.00\" fill=\"#000000\">gini = 0.445</text>\n<text text-anchor=\"start\" x=\"601\" y=\"-215.8\" font-family=\"Helvetica,sans-Serif\" font-size=\"14.00\" fill=\"#000000\">samples = 496</text>\n<text text-anchor=\"start\" x=\"591\" y=\"-200.8\" font-family=\"Helvetica,sans-Serif\" font-size=\"14.00\" fill=\"#000000\">value = [166, 330]</text>\n</g>\n<!-- 0&#45;&gt;8 -->\n<g id=\"edge8\" class=\"edge\">\n<title>0&#45;&gt;8</title>\n<path fill=\"none\" stroke=\"#000000\" d=\"M546.7705,-296.9465C560.8115,-287.3395 576.214,-276.8009 590.7068,-266.8848\"/>\n<polygon fill=\"#000000\" stroke=\"#000000\" points=\"592.841,-269.6655 599.1177,-261.13 588.8882,-263.8883 592.841,-269.6655\"/>\n<text text-anchor=\"middle\" x=\"594.5105\" y=\"-282.0018\" font-family=\"Helvetica,sans-Serif\" font-size=\"14.00\" fill=\"#000000\">False</text>\n</g>\n<!-- 2 -->\n<g id=\"node3\" class=\"node\">\n<title>2</title>\n<path fill=\"#e68742\" stroke=\"#000000\" d=\"M242,-157C242,-157 142,-157 142,-157 136,-157 130,-151 130,-145 130,-145 130,-101 130,-101 130,-95 136,-89 142,-89 142,-89 242,-89 242,-89 248,-89 254,-95 254,-101 254,-101 254,-145 254,-145 254,-151 248,-157 242,-157\"/>\n<text text-anchor=\"start\" x=\"140\" y=\"-141.8\" font-family=\"Helvetica,sans-Serif\" font-size=\"14.00\" fill=\"#000000\">oldpeak ≤ 2.023</text>\n<text text-anchor=\"start\" x=\"154\" y=\"-126.8\" font-family=\"Helvetica,sans-Serif\" font-size=\"14.00\" fill=\"#000000\">gini = 0.086</text>\n<text text-anchor=\"start\" x=\"144\" y=\"-111.8\" font-family=\"Helvetica,sans-Serif\" font-size=\"14.00\" fill=\"#000000\">samples = 402</text>\n<text text-anchor=\"start\" x=\"138\" y=\"-96.8\" font-family=\"Helvetica,sans-Serif\" font-size=\"14.00\" fill=\"#000000\">value = [384, 18]</text>\n</g>\n<!-- 1&#45;&gt;2 -->\n<g id=\"edge2\" class=\"edge\">\n<title>1&#45;&gt;2</title>\n<path fill=\"none\" stroke=\"#000000\" d=\"M318.4418,-192.9465C300.5883,-183.0701 280.9552,-172.2093 262.5944,-162.0522\"/>\n<polygon fill=\"#000000\" stroke=\"#000000\" points=\"264.1411,-158.908 253.6965,-157.13 260.7527,-165.0333 264.1411,-158.908\"/>\n</g>\n<!-- 5 -->\n<g id=\"node6\" class=\"node\">\n<title>5</title>\n<path fill=\"#f2bf9b\" stroke=\"#000000\" d=\"M447.5,-157C447.5,-157 312.5,-157 312.5,-157 306.5,-157 300.5,-151 300.5,-145 300.5,-145 300.5,-101 300.5,-101 300.5,-95 306.5,-89 312.5,-89 312.5,-89 447.5,-89 447.5,-89 453.5,-89 459.5,-95 459.5,-101 459.5,-101 459.5,-145 459.5,-145 459.5,-151 453.5,-157 447.5,-157\"/>\n<text text-anchor=\"start\" x=\"308.5\" y=\"-141.8\" font-family=\"Helvetica,sans-Serif\" font-size=\"14.00\" fill=\"#000000\">exercise_angina ≤ 0.5</text>\n<text text-anchor=\"start\" x=\"342\" y=\"-126.8\" font-family=\"Helvetica,sans-Serif\" font-size=\"14.00\" fill=\"#000000\">gini = 0.443</text>\n<text text-anchor=\"start\" x=\"332\" y=\"-111.8\" font-family=\"Helvetica,sans-Serif\" font-size=\"14.00\" fill=\"#000000\">samples = 142</text>\n<text text-anchor=\"start\" x=\"330\" y=\"-96.8\" font-family=\"Helvetica,sans-Serif\" font-size=\"14.00\" fill=\"#000000\">value = [95, 47]</text>\n</g>\n<!-- 1&#45;&gt;5 -->\n<g id=\"edge5\" class=\"edge\">\n<title>1&#45;&gt;5</title>\n<path fill=\"none\" stroke=\"#000000\" d=\"M380,-192.9465C380,-184.776 380,-175.9318 380,-167.3697\"/>\n<polygon fill=\"#000000\" stroke=\"#000000\" points=\"383.5001,-167.13 380,-157.13 376.5001,-167.13 383.5001,-167.13\"/>\n</g>\n<!-- 3 -->\n<g id=\"node4\" class=\"node\">\n<title>3</title>\n<path fill=\"#e68640\" stroke=\"#000000\" d=\"M112,-53C112,-53 12,-53 12,-53 6,-53 0,-47 0,-41 0,-41 0,-12 0,-12 0,-6 6,0 12,0 12,0 112,0 112,0 118,0 124,-6 124,-12 124,-12 124,-41 124,-41 124,-47 118,-53 112,-53\"/>\n<text text-anchor=\"start\" x=\"24\" y=\"-37.8\" font-family=\"Helvetica,sans-Serif\" font-size=\"14.00\" fill=\"#000000\">gini = 0.068</text>\n<text text-anchor=\"start\" x=\"14\" y=\"-22.8\" font-family=\"Helvetica,sans-Serif\" font-size=\"14.00\" fill=\"#000000\">samples = 398</text>\n<text text-anchor=\"start\" x=\"8\" y=\"-7.8\" font-family=\"Helvetica,sans-Serif\" font-size=\"14.00\" fill=\"#000000\">value = [384, 14]</text>\n</g>\n<!-- 2&#45;&gt;3 -->\n<g id=\"edge3\" class=\"edge\">\n<title>2&#45;&gt;3</title>\n<path fill=\"none\" stroke=\"#000000\" d=\"M146.1669,-88.9777C133.2143,-79.3629 119.1465,-68.9203 106.2867,-59.3743\"/>\n<polygon fill=\"#000000\" stroke=\"#000000\" points=\"108.1499,-56.3986 98.0342,-53.2485 103.9776,-62.0193 108.1499,-56.3986\"/>\n</g>\n<!-- 4 -->\n<g id=\"node5\" class=\"node\">\n<title>4</title>\n<path fill=\"#399de5\" stroke=\"#000000\" d=\"M229.5,-53C229.5,-53 154.5,-53 154.5,-53 148.5,-53 142.5,-47 142.5,-41 142.5,-41 142.5,-12 142.5,-12 142.5,-6 148.5,0 154.5,0 154.5,0 229.5,0 229.5,0 235.5,0 241.5,-6 241.5,-12 241.5,-12 241.5,-41 241.5,-41 241.5,-47 235.5,-53 229.5,-53\"/>\n<text text-anchor=\"start\" x=\"162.5\" y=\"-37.8\" font-family=\"Helvetica,sans-Serif\" font-size=\"14.00\" fill=\"#000000\">gini = 0.0</text>\n<text text-anchor=\"start\" x=\"152.5\" y=\"-22.8\" font-family=\"Helvetica,sans-Serif\" font-size=\"14.00\" fill=\"#000000\">samples = 4</text>\n<text text-anchor=\"start\" x=\"150.5\" y=\"-7.8\" font-family=\"Helvetica,sans-Serif\" font-size=\"14.00\" fill=\"#000000\">value = [0, 4]</text>\n</g>\n<!-- 2&#45;&gt;4 -->\n<g id=\"edge4\" class=\"edge\">\n<title>2&#45;&gt;4</title>\n<path fill=\"none\" stroke=\"#000000\" d=\"M192,-88.9777C192,-80.7364 192,-71.887 192,-63.5153\"/>\n<polygon fill=\"#000000\" stroke=\"#000000\" points=\"195.5001,-63.2484 192,-53.2485 188.5001,-63.2485 195.5001,-63.2484\"/>\n</g>\n<!-- 6 -->\n<g id=\"node7\" class=\"node\">\n<title>6</title>\n<path fill=\"#eca26d\" stroke=\"#000000\" d=\"M364,-53C364,-53 272,-53 272,-53 266,-53 260,-47 260,-41 260,-41 260,-12 260,-12 260,-6 266,0 272,0 272,0 364,0 364,0 370,0 376,-6 376,-12 376,-12 376,-41 376,-41 376,-47 370,-53 364,-53\"/>\n<text text-anchor=\"start\" x=\"284.5\" y=\"-37.8\" font-family=\"Helvetica,sans-Serif\" font-size=\"14.00\" fill=\"#000000\">gini = 0.33</text>\n<text text-anchor=\"start\" x=\"274\" y=\"-22.8\" font-family=\"Helvetica,sans-Serif\" font-size=\"14.00\" fill=\"#000000\">samples = 96</text>\n<text text-anchor=\"start\" x=\"268\" y=\"-7.8\" font-family=\"Helvetica,sans-Serif\" font-size=\"14.00\" fill=\"#000000\">value = [76, 20]</text>\n</g>\n<!-- 5&#45;&gt;6 -->\n<g id=\"edge6\" class=\"edge\">\n<title>5&#45;&gt;6</title>\n<path fill=\"none\" stroke=\"#000000\" d=\"M358.1411,-88.9777C352.4932,-80.187 346.4007,-70.7044 340.7104,-61.8477\"/>\n<polygon fill=\"#000000\" stroke=\"#000000\" points=\"343.5356,-59.7698 335.1856,-53.2485 337.6463,-63.5536 343.5356,-59.7698\"/>\n</g>\n<!-- 7 -->\n<g id=\"node8\" class=\"node\">\n<title>7</title>\n<path fill=\"#c4e2f7\" stroke=\"#000000\" d=\"M498,-53C498,-53 406,-53 406,-53 400,-53 394,-47 394,-41 394,-41 394,-12 394,-12 394,-6 400,0 406,0 406,0 498,0 498,0 504,0 510,-6 510,-12 510,-12 510,-41 510,-41 510,-47 504,-53 498,-53\"/>\n<text text-anchor=\"start\" x=\"414\" y=\"-37.8\" font-family=\"Helvetica,sans-Serif\" font-size=\"14.00\" fill=\"#000000\">gini = 0.485</text>\n<text text-anchor=\"start\" x=\"408\" y=\"-22.8\" font-family=\"Helvetica,sans-Serif\" font-size=\"14.00\" fill=\"#000000\">samples = 46</text>\n<text text-anchor=\"start\" x=\"402\" y=\"-7.8\" font-family=\"Helvetica,sans-Serif\" font-size=\"14.00\" fill=\"#000000\">value = [19, 27]</text>\n</g>\n<!-- 5&#45;&gt;7 -->\n<g id=\"edge7\" class=\"edge\">\n<title>5&#45;&gt;7</title>\n<path fill=\"none\" stroke=\"#000000\" d=\"M405.3845,-88.9777C412.08,-80.0039 419.3135,-70.3089 426.039,-61.295\"/>\n<polygon fill=\"#000000\" stroke=\"#000000\" points=\"428.8677,-63.3565 432.0426,-53.2485 423.2573,-59.1704 428.8677,-63.3565\"/>\n</g>\n<!-- 9 -->\n<g id=\"node10\" class=\"node\">\n<title>9</title>\n<path fill=\"#f7d9c4\" stroke=\"#000000\" d=\"M699,-157C699,-157 599,-157 599,-157 593,-157 587,-151 587,-145 587,-145 587,-101 587,-101 587,-95 593,-89 599,-89 599,-89 699,-89 699,-89 705,-89 711,-95 711,-101 711,-101 711,-145 711,-145 711,-151 705,-157 699,-157\"/>\n<text text-anchor=\"start\" x=\"605\" y=\"-141.8\" font-family=\"Helvetica,sans-Serif\" font-size=\"14.00\" fill=\"#000000\">pulse ≤ 376.5</text>\n<text text-anchor=\"start\" x=\"611\" y=\"-126.8\" font-family=\"Helvetica,sans-Serif\" font-size=\"14.00\" fill=\"#000000\">gini = 0.485</text>\n<text text-anchor=\"start\" x=\"601\" y=\"-111.8\" font-family=\"Helvetica,sans-Serif\" font-size=\"14.00\" fill=\"#000000\">samples = 177</text>\n<text text-anchor=\"start\" x=\"595\" y=\"-96.8\" font-family=\"Helvetica,sans-Serif\" font-size=\"14.00\" fill=\"#000000\">value = [104, 73]</text>\n</g>\n<!-- 8&#45;&gt;9 -->\n<g id=\"edge9\" class=\"edge\">\n<title>8&#45;&gt;9</title>\n<path fill=\"none\" stroke=\"#000000\" d=\"M649,-192.9465C649,-184.776 649,-175.9318 649,-167.3697\"/>\n<polygon fill=\"#000000\" stroke=\"#000000\" points=\"652.5001,-167.13 649,-157.13 645.5001,-167.13 652.5001,-167.13\"/>\n</g>\n<!-- 12 -->\n<g id=\"node13\" class=\"node\">\n<title>12</title>\n<path fill=\"#69b5eb\" stroke=\"#000000\" d=\"M904,-157C904,-157 804,-157 804,-157 798,-157 792,-151 792,-145 792,-145 792,-101 792,-101 792,-95 798,-89 804,-89 804,-89 904,-89 904,-89 910,-89 916,-95 916,-101 916,-101 916,-145 916,-145 916,-151 910,-157 904,-157\"/>\n<text text-anchor=\"start\" x=\"824.5\" y=\"-141.8\" font-family=\"Helvetica,sans-Serif\" font-size=\"14.00\" fill=\"#000000\">sex ≤ 0.5</text>\n<text text-anchor=\"start\" x=\"816\" y=\"-126.8\" font-family=\"Helvetica,sans-Serif\" font-size=\"14.00\" fill=\"#000000\">gini = 0.313</text>\n<text text-anchor=\"start\" x=\"806\" y=\"-111.8\" font-family=\"Helvetica,sans-Serif\" font-size=\"14.00\" fill=\"#000000\">samples = 319</text>\n<text text-anchor=\"start\" x=\"800\" y=\"-96.8\" font-family=\"Helvetica,sans-Serif\" font-size=\"14.00\" fill=\"#000000\">value = [62, 257]</text>\n</g>\n<!-- 8&#45;&gt;12 -->\n<g id=\"edge12\" class=\"edge\">\n<title>8&#45;&gt;12</title>\n<path fill=\"none\" stroke=\"#000000\" d=\"M716.1247,-192.9465C737.4791,-182.113 761.1685,-170.095 782.8005,-159.1207\"/>\n<polygon fill=\"#000000\" stroke=\"#000000\" points=\"784.5981,-162.1335 791.9326,-154.4879 781.431,-155.8909 784.5981,-162.1335\"/>\n</g>\n<!-- 10 -->\n<g id=\"node11\" class=\"node\">\n<title>10</title>\n<path fill=\"#c3e1f7\" stroke=\"#000000\" d=\"M632,-53C632,-53 540,-53 540,-53 534,-53 528,-47 528,-41 528,-41 528,-12 528,-12 528,-6 534,0 540,0 540,0 632,0 632,0 638,0 644,-6 644,-12 644,-12 644,-41 644,-41 644,-47 638,-53 632,-53\"/>\n<text text-anchor=\"start\" x=\"548\" y=\"-37.8\" font-family=\"Helvetica,sans-Serif\" font-size=\"14.00\" fill=\"#000000\">gini = 0.484</text>\n<text text-anchor=\"start\" x=\"542\" y=\"-22.8\" font-family=\"Helvetica,sans-Serif\" font-size=\"14.00\" fill=\"#000000\">samples = 95</text>\n<text text-anchor=\"start\" x=\"536\" y=\"-7.8\" font-family=\"Helvetica,sans-Serif\" font-size=\"14.00\" fill=\"#000000\">value = [39, 56]</text>\n</g>\n<!-- 9&#45;&gt;10 -->\n<g id=\"edge10\" class=\"edge\">\n<title>9&#45;&gt;10</title>\n<path fill=\"none\" stroke=\"#000000\" d=\"M626.7886,-88.9777C621.0496,-80.187 614.8588,-70.7044 609.0767,-61.8477\"/>\n<polygon fill=\"#000000\" stroke=\"#000000\" points=\"611.8602,-59.7087 603.4627,-53.2485 605.9987,-63.5354 611.8602,-59.7087\"/>\n</g>\n<!-- 11 -->\n<g id=\"node12\" class=\"node\">\n<title>11</title>\n<path fill=\"#eca26d\" stroke=\"#000000\" d=\"M766,-53C766,-53 674,-53 674,-53 668,-53 662,-47 662,-41 662,-41 662,-12 662,-12 662,-6 668,0 674,0 674,0 766,0 766,0 772,0 778,-6 778,-12 778,-12 778,-41 778,-41 778,-47 772,-53 766,-53\"/>\n<text text-anchor=\"start\" x=\"682\" y=\"-37.8\" font-family=\"Helvetica,sans-Serif\" font-size=\"14.00\" fill=\"#000000\">gini = 0.329</text>\n<text text-anchor=\"start\" x=\"676\" y=\"-22.8\" font-family=\"Helvetica,sans-Serif\" font-size=\"14.00\" fill=\"#000000\">samples = 82</text>\n<text text-anchor=\"start\" x=\"670\" y=\"-7.8\" font-family=\"Helvetica,sans-Serif\" font-size=\"14.00\" fill=\"#000000\">value = [65, 17]</text>\n</g>\n<!-- 9&#45;&gt;11 -->\n<g id=\"edge11\" class=\"edge\">\n<title>9&#45;&gt;11</title>\n<path fill=\"none\" stroke=\"#000000\" d=\"M674.0319,-88.9777C680.5671,-80.0954 687.622,-70.5067 694.1964,-61.5711\"/>\n<polygon fill=\"#000000\" stroke=\"#000000\" points=\"697.2126,-63.3775 700.3198,-53.2485 691.5743,-59.229 697.2126,-63.3775\"/>\n</g>\n<!-- 13 -->\n<g id=\"node14\" class=\"node\">\n<title>13</title>\n<path fill=\"#f9fcfe\" stroke=\"#000000\" d=\"M900,-53C900,-53 808,-53 808,-53 802,-53 796,-47 796,-41 796,-41 796,-12 796,-12 796,-6 802,0 808,0 808,0 900,0 900,0 906,0 912,-6 912,-12 912,-12 912,-41 912,-41 912,-47 906,-53 900,-53\"/>\n<text text-anchor=\"start\" x=\"824.5\" y=\"-37.8\" font-family=\"Helvetica,sans-Serif\" font-size=\"14.00\" fill=\"#000000\">gini = 0.5</text>\n<text text-anchor=\"start\" x=\"810\" y=\"-22.8\" font-family=\"Helvetica,sans-Serif\" font-size=\"14.00\" fill=\"#000000\">samples = 69</text>\n<text text-anchor=\"start\" x=\"804\" y=\"-7.8\" font-family=\"Helvetica,sans-Serif\" font-size=\"14.00\" fill=\"#000000\">value = [34, 35]</text>\n</g>\n<!-- 12&#45;&gt;13 -->\n<g id=\"edge13\" class=\"edge\">\n<title>12&#45;&gt;13</title>\n<path fill=\"none\" stroke=\"#000000\" d=\"M854,-88.9777C854,-80.7364 854,-71.887 854,-63.5153\"/>\n<polygon fill=\"#000000\" stroke=\"#000000\" points=\"857.5001,-63.2484 854,-53.2485 850.5001,-63.2485 857.5001,-63.2484\"/>\n</g>\n<!-- 14 -->\n<g id=\"node15\" class=\"node\">\n<title>14</title>\n<path fill=\"#52a9e8\" stroke=\"#000000\" d=\"M1042,-53C1042,-53 942,-53 942,-53 936,-53 930,-47 930,-41 930,-41 930,-12 930,-12 930,-6 936,0 942,0 942,0 1042,0 1042,0 1048,0 1054,-6 1054,-12 1054,-12 1054,-41 1054,-41 1054,-47 1048,-53 1042,-53\"/>\n<text text-anchor=\"start\" x=\"954\" y=\"-37.8\" font-family=\"Helvetica,sans-Serif\" font-size=\"14.00\" fill=\"#000000\">gini = 0.199</text>\n<text text-anchor=\"start\" x=\"944\" y=\"-22.8\" font-family=\"Helvetica,sans-Serif\" font-size=\"14.00\" fill=\"#000000\">samples = 250</text>\n<text text-anchor=\"start\" x=\"938\" y=\"-7.8\" font-family=\"Helvetica,sans-Serif\" font-size=\"14.00\" fill=\"#000000\">value = [28, 222]</text>\n</g>\n<!-- 12&#45;&gt;14 -->\n<g id=\"edge14\" class=\"edge\">\n<title>12&#45;&gt;14</title>\n<path fill=\"none\" stroke=\"#000000\" d=\"M902.6536,-88.9777C916.5343,-79.2713 931.6214,-68.7213 945.3777,-59.1018\"/>\n<polygon fill=\"#000000\" stroke=\"#000000\" points=\"947.5589,-61.8475 953.7483,-53.2485 943.5474,-56.1109 947.5589,-61.8475\"/>\n</g>\n</g>\n</svg>\n"
          },
          "metadata": {
            "tags": []
          }
        }
      ]
    },
    {
      "cell_type": "code",
      "metadata": {
        "id": "9vWqF8f5cQzX",
        "colab": {
          "base_uri": "https://localhost:8080/",
          "height": 452
        },
        "outputId": "ac8587ed-5c4d-4bf5-84de-84bd18573f18"
      },
      "source": [
        "# The snippet below will retrieve the feature importances from the model and make them into a DataFrame.\n",
        "feature_importances = pd.DataFrame(\n",
        "    classification_tree.feature_importances_,\n",
        "    index=COLUMN_NAMES,\n",
        "    columns=[\"importance\"],\n",
        ").sort_values(\"importance\", ascending=False)\n",
        "feature_importances"
      ],
      "execution_count": null,
      "outputs": [
        {
          "output_type": "execute_result",
          "data": {
            "text/html": [
              "<div>\n",
              "<style scoped>\n",
              "    .dataframe tbody tr th:only-of-type {\n",
              "        vertical-align: middle;\n",
              "    }\n",
              "\n",
              "    .dataframe tbody tr th {\n",
              "        vertical-align: top;\n",
              "    }\n",
              "\n",
              "    .dataframe thead th {\n",
              "        text-align: right;\n",
              "    }\n",
              "</style>\n",
              "<table border=\"1\" class=\"dataframe\">\n",
              "  <thead>\n",
              "    <tr style=\"text-align: right;\">\n",
              "      <th></th>\n",
              "      <th>importance</th>\n",
              "    </tr>\n",
              "  </thead>\n",
              "  <tbody>\n",
              "    <tr>\n",
              "      <th>st_slope</th>\n",
              "      <td>0.613935</td>\n",
              "    </tr>\n",
              "    <tr>\n",
              "      <th>chest_pain_type</th>\n",
              "      <td>0.208064</td>\n",
              "    </tr>\n",
              "    <tr>\n",
              "      <th>sex</th>\n",
              "      <td>0.062264</td>\n",
              "    </tr>\n",
              "    <tr>\n",
              "      <th>pulse</th>\n",
              "      <td>0.051050</td>\n",
              "    </tr>\n",
              "    <tr>\n",
              "      <th>exercise_angina</th>\n",
              "      <td>0.035408</td>\n",
              "    </tr>\n",
              "    <tr>\n",
              "      <th>oldpeak</th>\n",
              "      <td>0.029279</td>\n",
              "    </tr>\n",
              "    <tr>\n",
              "      <th>age</th>\n",
              "      <td>0.000000</td>\n",
              "    </tr>\n",
              "    <tr>\n",
              "      <th>resting_bp_s</th>\n",
              "      <td>0.000000</td>\n",
              "    </tr>\n",
              "    <tr>\n",
              "      <th>max_heart_rate</th>\n",
              "      <td>0.000000</td>\n",
              "    </tr>\n",
              "    <tr>\n",
              "      <th>cholesterol</th>\n",
              "      <td>0.000000</td>\n",
              "    </tr>\n",
              "    <tr>\n",
              "      <th>synt</th>\n",
              "      <td>0.000000</td>\n",
              "    </tr>\n",
              "    <tr>\n",
              "      <th>fasting_blood_sugar</th>\n",
              "      <td>0.000000</td>\n",
              "    </tr>\n",
              "    <tr>\n",
              "      <th>resting_ecg</th>\n",
              "      <td>0.000000</td>\n",
              "    </tr>\n",
              "  </tbody>\n",
              "</table>\n",
              "</div>"
            ],
            "text/plain": [
              "                     importance\n",
              "st_slope               0.613935\n",
              "chest_pain_type        0.208064\n",
              "sex                    0.062264\n",
              "pulse                  0.051050\n",
              "exercise_angina        0.035408\n",
              "oldpeak                0.029279\n",
              "age                    0.000000\n",
              "resting_bp_s           0.000000\n",
              "max_heart_rate         0.000000\n",
              "cholesterol            0.000000\n",
              "synt                   0.000000\n",
              "fasting_blood_sugar    0.000000\n",
              "resting_ecg            0.000000"
            ]
          },
          "metadata": {
            "tags": []
          },
          "execution_count": 232
        }
      ]
    },
    {
      "cell_type": "code",
      "metadata": {
        "id": "81QSYVVccQza",
        "colab": {
          "base_uri": "https://localhost:8080/"
        },
        "outputId": "19995156-9e2d-490f-bdb3-47fb5ae62616"
      },
      "source": [
        "y_pred_2 = classification_tree.predict(X_test_imp_2)\n",
        "print(\"Confusion Matrix:\")\n",
        "print(confusion_matrix(y_test_2, y_pred_2))\n",
        "\n",
        "print(\"Classification Report:\")\n",
        "print(classification_report(y_test_2, y_pred_2))"
      ],
      "execution_count": null,
      "outputs": [
        {
          "output_type": "stream",
          "text": [
            "Confusion Matrix:\n",
            "[[125  28]\n",
            " [ 19  89]]\n",
            "Classification Report:\n",
            "              precision    recall  f1-score   support\n",
            "\n",
            "           0       0.87      0.82      0.84       153\n",
            "           1       0.76      0.82      0.79       108\n",
            "\n",
            "    accuracy                           0.82       261\n",
            "   macro avg       0.81      0.82      0.82       261\n",
            "weighted avg       0.82      0.82      0.82       261\n",
            "\n"
          ],
          "name": "stdout"
        }
      ]
    },
    {
      "cell_type": "code",
      "metadata": {
        "id": "wChhHNmfciQ6",
        "colab": {
          "base_uri": "https://localhost:8080/"
        },
        "outputId": "08a2cc02-3653-4aeb-ab51-7864d6350f5f"
      },
      "source": [
        "classification_tree.fit(X_train_imp, y_train)\n",
        "classification_tree.score(X_train_imp, y_train)"
      ],
      "execution_count": null,
      "outputs": [
        {
          "output_type": "execute_result",
          "data": {
            "text/plain": [
              "0.8324365872405841"
            ]
          },
          "metadata": {
            "tags": []
          },
          "execution_count": 234
        }
      ]
    },
    {
      "cell_type": "code",
      "metadata": {
        "id": "AkMPTgY4cQzc"
      },
      "source": [
        "# generate a submission file\n",
        "generateSubmission(\n",
        "    classification_tree,\n",
        "    \"second_decision_tree.csv\",\n",
        "    \"User defined decision tree evaluated with test set\",\n",
        ")"
      ],
      "execution_count": null,
      "outputs": []
    },
    {
      "cell_type": "markdown",
      "metadata": {
        "id": "TgGDn8RhcQze"
      },
      "source": [
        "### Or you can consider different models using cross validation"
      ]
    },
    {
      "cell_type": "code",
      "metadata": {
        "id": "bnT5kDd1cQzg",
        "colab": {
          "base_uri": "https://localhost:8080/",
          "height": 391
        },
        "outputId": "c3f050d8-8467-4216-dcb8-c2c7ebdf1a5f"
      },
      "source": [
        "dtc = DecisionTreeClassifier(max_depth=4, random_state=RANDOM_STATE)\n",
        "cv_scores = cross_val_score(\n",
        "    dtc, X_train_imp, y_train, cv=10, scoring=\"accuracy\", verbose=1\n",
        ")\n",
        "sns.distplot(cv_scores)\n",
        "plt.title(\"Average score: {}\".format(np.mean(cv_scores)))"
      ],
      "execution_count": null,
      "outputs": [
        {
          "output_type": "stream",
          "text": [
            "[Parallel(n_jobs=1)]: Using backend SequentialBackend with 1 concurrent workers.\n",
            "[Parallel(n_jobs=1)]: Done  10 out of  10 | elapsed:    0.1s finished\n",
            "/usr/local/lib/python3.7/dist-packages/seaborn/distributions.py:2557: FutureWarning: `distplot` is a deprecated function and will be removed in a future version. Please adapt your code to use either `displot` (a figure-level function with similar flexibility) or `histplot` (an axes-level function for histograms).\n",
            "  warnings.warn(msg, FutureWarning)\n"
          ],
          "name": "stderr"
        },
        {
          "output_type": "execute_result",
          "data": {
            "text/plain": [
              "Text(0.5, 1.0, 'Average score: 0.8447445684086905')"
            ]
          },
          "metadata": {
            "tags": []
          },
          "execution_count": 236
        },
        {
          "output_type": "display_data",
          "data": {
            "image/png": "[encoded data removed]",
            "text/plain": [
              "<Figure size 432x288 with 1 Axes>"
            ]
          },
          "metadata": {
            "tags": [],
            "needs_background": "light"
          }
        }
      ]
    },
    {
      "cell_type": "code",
      "metadata": {
        "id": "LkKGF9Socueq",
        "colab": {
          "base_uri": "https://localhost:8080/"
        },
        "outputId": "cf32ff1b-ee35-41a4-a8c1-fc2df8547774"
      },
      "source": [
        "dtc.fit(X_train_imp, y_train)\n",
        "dtc.score(X_train_imp, y_train)"
      ],
      "execution_count": null,
      "outputs": [
        {
          "output_type": "execute_result",
          "data": {
            "text/plain": [
              "0.8670253651037664"
            ]
          },
          "metadata": {
            "tags": []
          },
          "execution_count": 237
        }
      ]
    },
    {
      "cell_type": "code",
      "metadata": {
        "id": "omr6K-wLcQzj"
      },
      "source": [
        "# generate a submission file\n",
        "generateSubmission(\n",
        "    dtc,\n",
        "    \"crossval_decision_tree.csv\",\n",
        "    \"User defined decision tree evaluated with cross validation\",\n",
        ")"
      ],
      "execution_count": null,
      "outputs": []
    },
    {
      "cell_type": "markdown",
      "metadata": {
        "id": "OMIeoDe5cQzk"
      },
      "source": [
        "### Parameter Tuning"
      ]
    },
    {
      "cell_type": "markdown",
      "metadata": {
        "id": "8C12hBTGcQzl"
      },
      "source": [
        "In every classification technique, there are some parameters that can be tuned to optimize the classification. Some parameters that can be tuned in the decision tree is max depth (the depth of the tree), max feature (the feature used to classify), criterion, and splitter.\n",
        "\n",
        "To search to tune parameter is to use Grid Search. Basically, it explores a range of parameters and finds the best combination of parameters. Then repeat the process several times until the best parameters are discovered. We will also use Stratified k-fold cross-validation that will prevent a certain class only split them to the same subset."
      ]
    },
    {
      "cell_type": "code",
      "metadata": {
        "id": "NAbnmTtocQzn",
        "colab": {
          "base_uri": "https://localhost:8080/"
        },
        "outputId": "54bf3bd8-2184-4d2b-d0cd-7b7b1ebc484e"
      },
      "source": [
        "dtc = DecisionTreeClassifier(random_state=RANDOM_STATE)\n",
        "# Create the parameter grids\n",
        "parameter_grid = {\n",
        "    \"criterion\": [\"gini\", \"entropy\"],\n",
        "    \"splitter\": [\"best\", \"random\"],\n",
        "    \"max_depth\": [2, 3, 4, 5, 6, 7, 8],\n",
        "    \"max_features\": [\"sqrt\", \"log2\", None],\n",
        "}\n",
        "\n",
        "# Create Stratified folds\n",
        "cross_validation = StratifiedKFold(n_splits=10)\n",
        "cross_validation.get_n_splits(X_train_imp, y_train)\n",
        "\n",
        "# Create the scoring dictionary\n",
        "SCORING = {\n",
        "    \"accuracy\": \"accuracy\",\n",
        "    \"balanced_accuracy\": \"balanced_accuracy\",\n",
        "    \"f1\": \"f1_macro\",\n",
        "}\n",
        "\n",
        "# Create and fit the GridSearchCV\n",
        "grid_search = GridSearchCV(\n",
        "    estimator=dtc,\n",
        "    param_grid=parameter_grid,\n",
        "    cv=cross_validation,\n",
        "    verbose=1,\n",
        "    scoring=SCORING,\n",
        "    return_train_score=True,\n",
        "    refit=\"accuracy\",\n",
        ")\n",
        "\n",
        "grid_search.fit(X_train_imp, y_train)"
      ],
      "execution_count": null,
      "outputs": [
        {
          "output_type": "stream",
          "text": [
            "Fitting 10 folds for each of 84 candidates, totalling 840 fits\n"
          ],
          "name": "stdout"
        },
        {
          "output_type": "stream",
          "text": [
            "[Parallel(n_jobs=1)]: Using backend SequentialBackend with 1 concurrent workers.\n",
            "[Parallel(n_jobs=1)]: Done 840 out of 840 | elapsed:    9.0s finished\n"
          ],
          "name": "stderr"
        },
        {
          "output_type": "execute_result",
          "data": {
            "text/plain": [
              "GridSearchCV(cv=StratifiedKFold(n_splits=10, random_state=None, shuffle=False),\n",
              "             error_score=nan,\n",
              "             estimator=DecisionTreeClassifier(ccp_alpha=0.0, class_weight=None,\n",
              "                                              criterion='gini', max_depth=None,\n",
              "                                              max_features=None,\n",
              "                                              max_leaf_nodes=None,\n",
              "                                              min_impurity_decrease=0.0,\n",
              "                                              min_impurity_split=None,\n",
              "                                              min_samples_leaf=1,\n",
              "                                              min_samples_split=2,\n",
              "                                              min_weight_fraction_leaf=0.0,\n",
              "                                              pres...\n",
              "                                              random_state=3993,\n",
              "                                              splitter='best'),\n",
              "             iid='deprecated', n_jobs=None,\n",
              "             param_grid={'criterion': ['gini', 'entropy'],\n",
              "                         'max_depth': [2, 3, 4, 5, 6, 7, 8],\n",
              "                         'max_features': ['sqrt', 'log2', None],\n",
              "                         'splitter': ['best', 'random']},\n",
              "             pre_dispatch='2*n_jobs', refit='accuracy', return_train_score=True,\n",
              "             scoring={'accuracy': 'accuracy',\n",
              "                      'balanced_accuracy': 'balanced_accuracy',\n",
              "                      'f1': 'f1_macro'},\n",
              "             verbose=1)"
            ]
          },
          "metadata": {
            "tags": []
          },
          "execution_count": 239
        }
      ]
    },
    {
      "cell_type": "code",
      "metadata": {
        "id": "R3NhPvsCcQzo"
      },
      "source": [
        "# grid_search.cv_results_"
      ],
      "execution_count": null,
      "outputs": []
    },
    {
      "cell_type": "code",
      "metadata": {
        "id": "qmzMPoBDcQzq",
        "colab": {
          "base_uri": "https://localhost:8080/"
        },
        "outputId": "a0f1a7d8-e981-4d9e-be32-2c62e55e4a4e"
      },
      "source": [
        "print(\"Best score: {}\".format(grid_search.best_score_))\n",
        "print(\"Best parameters: {}\".format(grid_search.best_params_))\n",
        "\n",
        "best_dtc = grid_search.best_estimator_\n",
        "best_dtc"
      ],
      "execution_count": null,
      "outputs": [
        {
          "output_type": "stream",
          "text": [
            "Best score: 0.8854726952436878\n",
            "Best parameters: {'criterion': 'gini', 'max_depth': 8, 'max_features': None, 'splitter': 'best'}\n"
          ],
          "name": "stdout"
        },
        {
          "output_type": "execute_result",
          "data": {
            "text/plain": [
              "DecisionTreeClassifier(ccp_alpha=0.0, class_weight=None, criterion='gini',\n",
              "                       max_depth=8, max_features=None, max_leaf_nodes=None,\n",
              "                       min_impurity_decrease=0.0, min_impurity_split=None,\n",
              "                       min_samples_leaf=1, min_samples_split=2,\n",
              "                       min_weight_fraction_leaf=0.0, presort='deprecated',\n",
              "                       random_state=3993, splitter='best')"
            ]
          },
          "metadata": {
            "tags": []
          },
          "execution_count": 241
        }
      ]
    },
    {
      "cell_type": "code",
      "metadata": {
        "id": "sYHg4xQgcQzs",
        "colab": {
          "base_uri": "https://localhost:8080/"
        },
        "outputId": "06dafd8e-9ca3-40ba-cf70-8c4cc7f94e86"
      },
      "source": [
        "my_model = best_dtc\n",
        "my_model.fit(X_train_imp, y_train)\n",
        "my_model.score(X_train_imp, y_train)"
      ],
      "execution_count": null,
      "outputs": [
        {
          "output_type": "execute_result",
          "data": {
            "text/plain": [
              "0.9692544196771714"
            ]
          },
          "metadata": {
            "tags": []
          },
          "execution_count": 242
        }
      ]
    },
    {
      "cell_type": "code",
      "metadata": {
        "id": "1YfuqF-ucQzu",
        "colab": {
          "base_uri": "https://localhost:8080/"
        },
        "outputId": "ac4f4fde-ac8d-4e46-c897-c68e81280338"
      },
      "source": [
        "y_pred = my_model.predict(X_train_imp)\n",
        "print(\"Confusion Matrix:\")\n",
        "print(confusion_matrix(y_train, y_pred))\n",
        "\n",
        "print(\"Classification Report:\")\n",
        "print(classification_report(y_train, y_pred))"
      ],
      "execution_count": null,
      "outputs": [
        {
          "output_type": "stream",
          "text": [
            "Confusion Matrix:\n",
            "[[781  17]\n",
            " [ 23 480]]\n",
            "Classification Report:\n",
            "              precision    recall  f1-score   support\n",
            "\n",
            "           0       0.97      0.98      0.98       798\n",
            "           1       0.97      0.95      0.96       503\n",
            "\n",
            "    accuracy                           0.97      1301\n",
            "   macro avg       0.97      0.97      0.97      1301\n",
            "weighted avg       0.97      0.97      0.97      1301\n",
            "\n"
          ],
          "name": "stdout"
        }
      ]
    },
    {
      "cell_type": "code",
      "metadata": {
        "id": "Ak6ohoZacQzw",
        "colab": {
          "base_uri": "https://localhost:8080/",
          "height": 452
        },
        "outputId": "9a14843b-6ea0-4aca-ef21-63c4e911d0f4"
      },
      "source": [
        "# The snippet below will retrieve the feature importances from the model and make them into a DataFrame.\n",
        "feature_importances = pd.DataFrame(\n",
        "    my_model.feature_importances_, index=COLUMN_NAMES, columns=[\"importance\"]\n",
        ").sort_values(\"importance\", ascending=False)\n",
        "feature_importances"
      ],
      "execution_count": null,
      "outputs": [
        {
          "output_type": "execute_result",
          "data": {
            "text/html": [
              "<div>\n",
              "<style scoped>\n",
              "    .dataframe tbody tr th:only-of-type {\n",
              "        vertical-align: middle;\n",
              "    }\n",
              "\n",
              "    .dataframe tbody tr th {\n",
              "        vertical-align: top;\n",
              "    }\n",
              "\n",
              "    .dataframe thead th {\n",
              "        text-align: right;\n",
              "    }\n",
              "</style>\n",
              "<table border=\"1\" class=\"dataframe\">\n",
              "  <thead>\n",
              "    <tr style=\"text-align: right;\">\n",
              "      <th></th>\n",
              "      <th>importance</th>\n",
              "    </tr>\n",
              "  </thead>\n",
              "  <tbody>\n",
              "    <tr>\n",
              "      <th>st_slope</th>\n",
              "      <td>0.357018</td>\n",
              "    </tr>\n",
              "    <tr>\n",
              "      <th>chest_pain_type</th>\n",
              "      <td>0.127621</td>\n",
              "    </tr>\n",
              "    <tr>\n",
              "      <th>resting_bp_s</th>\n",
              "      <td>0.094524</td>\n",
              "    </tr>\n",
              "    <tr>\n",
              "      <th>oldpeak</th>\n",
              "      <td>0.087657</td>\n",
              "    </tr>\n",
              "    <tr>\n",
              "      <th>cholesterol</th>\n",
              "      <td>0.064682</td>\n",
              "    </tr>\n",
              "    <tr>\n",
              "      <th>pulse</th>\n",
              "      <td>0.058008</td>\n",
              "    </tr>\n",
              "    <tr>\n",
              "      <th>age</th>\n",
              "      <td>0.056920</td>\n",
              "    </tr>\n",
              "    <tr>\n",
              "      <th>sex</th>\n",
              "      <td>0.051895</td>\n",
              "    </tr>\n",
              "    <tr>\n",
              "      <th>max_heart_rate</th>\n",
              "      <td>0.044588</td>\n",
              "    </tr>\n",
              "    <tr>\n",
              "      <th>exercise_angina</th>\n",
              "      <td>0.017034</td>\n",
              "    </tr>\n",
              "    <tr>\n",
              "      <th>synt</th>\n",
              "      <td>0.015915</td>\n",
              "    </tr>\n",
              "    <tr>\n",
              "      <th>fasting_blood_sugar</th>\n",
              "      <td>0.015135</td>\n",
              "    </tr>\n",
              "    <tr>\n",
              "      <th>resting_ecg</th>\n",
              "      <td>0.009002</td>\n",
              "    </tr>\n",
              "  </tbody>\n",
              "</table>\n",
              "</div>"
            ],
            "text/plain": [
              "                     importance\n",
              "st_slope               0.357018\n",
              "chest_pain_type        0.127621\n",
              "resting_bp_s           0.094524\n",
              "oldpeak                0.087657\n",
              "cholesterol            0.064682\n",
              "pulse                  0.058008\n",
              "age                    0.056920\n",
              "sex                    0.051895\n",
              "max_heart_rate         0.044588\n",
              "exercise_angina        0.017034\n",
              "synt                   0.015915\n",
              "fasting_blood_sugar    0.015135\n",
              "resting_ecg            0.009002"
            ]
          },
          "metadata": {
            "tags": []
          },
          "execution_count": 244
        }
      ]
    },
    {
      "cell_type": "markdown",
      "metadata": {
        "id": "wrK4RxylcQzy"
      },
      "source": [
        "### Submit the final model"
      ]
    },
    {
      "cell_type": "code",
      "metadata": {
        "id": "8scvMiJicQzy"
      },
      "source": [
        "# generate a submission file\n",
        "generateSubmission(\n",
        "    my_model,\n",
        "    \"gridcv_decision_tree.csv\",\n",
        "    \"User defined decision tree evaluated with grid search\",\n",
        ")"
      ],
      "execution_count": null,
      "outputs": []
    },
    {
      "cell_type": "markdown",
      "metadata": {
        "_cell_guid": "677b20af-bc56-4db1-aac3-1010389367ba",
        "_uuid": "c5294634157ca8c52d35c999ee949023b9544ee1",
        "id": "Vl2xROUscQz1"
      },
      "source": [
        "Step by step commands...\n",
        "\n",
        "In addition to your training data, there will be test data. This is frequently stored in a file with the title `test.csv`. This data won't include a column with your target (y), because that is what we'll have to predict and submit.  Here is sample code to do that. "
      ]
    },
    {
      "cell_type": "code",
      "metadata": {
        "_cell_guid": "a023518d-78e0-4e58-a243-6d1fe98992b9",
        "_uuid": "7bc843ef333847d305f576489d3e2aa3afc9384d",
        "id": "_TPmWWIUcQz1",
        "colab": {
          "base_uri": "https://localhost:8080/"
        },
        "outputId": "857e5505-4ca4-4380-98b3-6ac043ccc5c1"
      },
      "source": [
        "# Read the test data\n",
        "data = pd.read_csv(DATA_PATH + \"test.csv\")\n",
        "\n",
        "\n",
        "Id, X_test= data.Id,data.drop(columns=DROPCOLUMS)\n",
        "# Impute each test item, then predict\n",
        "X_test_imp = imp.transform(X_test)\n",
        "\n",
        "# Use the model to make predictions\n",
        "y_test_pred = my_model.predict(X_test_imp)\n",
        "print(y_test_pred)"
      ],
      "execution_count": null,
      "outputs": [
        {
          "output_type": "stream",
          "text": [
            "[0 1 0 0 1 1 0 1 0 1 1 1 0 1 1 0 0 0 1 0 1 0 1 0 1 1 0 0 0 0 0 1 0 0 0 1 1\n",
            " 1 1 1 0 0 0 0 1 0 1 1 0 1 0 1 0 1 0 1 0 0 1 1 1 0 0 0 1 1 1 0 0 1 1 1 1 0\n",
            " 0 0 0 0 1 1 0 1 0 1 0 1 0 0 1 1 1 1 0 1 1 0 1 1 0 1 1 0 1 1 1 0 0 0 1 0 1\n",
            " 1 1 1 1 0 1 1 0 1 1 1 0 1 0 1 1 1 0 1 1 0 1 0 1 1 0 1 0 0 0 1 0 1 0 0 1 1\n",
            " 0 0 0 1 0 0 0 1 0 1 0 1 1 1 0 0 1 0 0 1 0 0 0 1 0 0 0 0 1 1 1 1 0 0 0 0 1\n",
            " 1 1 1 0 0 0 0 1 0 0 1 0 1 1 1 0 0 0 0 0 1 1 0 1 0 0 0 1 0 1 0 1 1 1 1 0 0\n",
            " 0 0 1 0 0 0 0 1 0 0 1 1 0 0 0 0]\n"
          ],
          "name": "stdout"
        }
      ]
    },
    {
      "cell_type": "markdown",
      "metadata": {
        "_cell_guid": "258e450a-d82c-4a7f-af22-cc695f74b4e3",
        "_uuid": "49e253dc359af831d8e248979b90c70dfcbef99a",
        "id": "EHZwo_p0cQz3"
      },
      "source": [
        "# Prepare Submission File\n",
        "We make submissions in CSV files.  Your submissions usually have two columns: an ID column and a prediction column.  The ID field comes from the test data (keeping whatever name the ID field had in that data, which for the housing data is the string 'Id'). The prediction column will use the name of the target field.\n",
        "\n",
        "We will create a DataFrame with this data, and then use the dataframe's `to_csv` method to write our submission file.  Explicitly include the argument `index=False` to prevent pandas from adding another column in our csv file."
      ]
    },
    {
      "cell_type": "code",
      "metadata": {
        "_cell_guid": "092f5aed-0de4-4295-80ee-c193c8b84edd",
        "_uuid": "da5946c5fbc32fdb537788cd6ad5da1d6d698ae6",
        "id": "YWgl8n1IcQz3"
      },
      "source": [
        "# submission file\n",
        "my_submission = pd.DataFrame({\"Id\": Id, \"target\": y_test_pred})\n",
        "# you could use any filename. We choose submission here\n",
        "my_submission.to_csv(OUTPUT_PATH + \"submission.csv\", index=False)"
      ],
      "execution_count": null,
      "outputs": []
    },
    {
      "cell_type": "markdown",
      "metadata": {
        "id": "MI90OYzMcQz5"
      },
      "source": [
        "# Make Submission\n",
        "Hit the blue **Publish** button at the top of your notebook screen.  It will take some time for your kernel to run.  When it has finished your navigation bar at the top of the screen will have a tab for **Output**.  This only shows up if you have written an output file (like we did in the **Prepare Submission File** step).  \n",
        "\n",
        "Otherwise, if you have a kaggle API token (https://www.kaggle.com/docs/api#getting-started-installation-&-authentication), you can use the following command (remove the '#'):"
      ]
    },
    {
      "cell_type": "code",
      "metadata": {
        "id": "FOiar0c4cQz5",
        "colab": {
          "base_uri": "https://localhost:8080/"
        },
        "outputId": "36cf4589-7180-479e-aec0-49bbc1c1c2db"
      },
      "source": [
        "# \n",
        "!kaggle competitions submit -c  heart-attack-analysis-and-prediction-21 -f kaggle_submissions/submission.csv -m \"Please describe the technique used\""
      ],
      "execution_count": null,
      "outputs": [
        {
          "output_type": "stream",
          "text": [
            "Warning: Looks like you're using an outdated API Version, please consider updating (server 1.5.12 / client 1.5.4)\n",
            "100% 1.30k/1.30k [00:02<00:00, 548B/s]\n",
            "Successfully submitted to UNIBS Heart Attack Analysis & Prediction"
          ],
          "name": "stdout"
        }
      ]
    },
    {
      "cell_type": "markdown",
      "metadata": {
        "_cell_guid": "ab2280a4-9c65-4810-8813-831f4dcd86e1",
        "_uuid": "97f80b7f76066fd78cdb5137757fb3c63abd0519",
        "id": "gFKeS8jBcQz7"
      },
      "source": [
        "\n",
        "# Last Steps \n",
        "Click on the Output button.  This will bring you to a screen with an option to **Submit to Competition**.  Hit that and you will see how your model performed.\n",
        "\n",
        "If you want to go back to improve your model, click the Edit button, which re-opens the kernel.  You'll need to re-run all the cells when you re-open the kernel.\n",
        "\n",
        "# Conclusion\n",
        "You've completed Level 1 of Machine Learning.  Congrats.  \n",
        "\n",
        "If you are ready to keep improving your model (and your skills), start level 2 of [Learn Machine Learning](https://www.kaggle.com/learn/machine-learning). \n",
        "\n",
        "Level 2 covers more powerful models, techniques to include non-numeric data, and more.  You can make more submissions to the competition and climb up the leaderboard as you go through the course.\n",
        "\n",
        "\n"
      ]
    },
    {
      "cell_type": "code",
      "metadata": {
        "id": "vtFv1-gV41P-"
      },
      "source": [
        ""
      ],
      "execution_count": null,
      "outputs": []
    }
  ]
}