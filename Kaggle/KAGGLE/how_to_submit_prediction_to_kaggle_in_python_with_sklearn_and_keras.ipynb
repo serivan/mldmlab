{
 "cells": [
  {
   "cell_type": "markdown",
   "metadata": {
    "colab_type": "text",
    "id": "view-in-github"
   },
   "source": [
    "<a href=\"https://colab.research.google.com/github/serivan/mldmlab/blob/master/Kaggle/KAGGLE21/how_to_submit_prediction_to_kaggle_in_python_with_sklearn_and_keras.ipynb\" target=\"_parent\"><img src=\"https://colab.research.google.com/assets/colab-badge.svg\" alt=\"Open In Colab\"/></a>"
   ]
  },
  {
   "cell_type": "markdown",
   "metadata": {
    "_cell_guid": "3bd4b4df-0cc0-40b1-b4da-c0b0dcb413f8",
    "_uuid": "26816927ad8b3a35dc55fafc33efd187f30cde39",
    "id": "j1-OG_fCcQyo",
    "tags": []
   },
   "source": [
    "Here you will learn to submit your  keras model \n",
    "\n",
    "to a machine learning competition in Python.  It's fun, and it will give you a way to see your progress as your skills keep improving.*\n",
    "\n",
    "# Introduction\n",
    "Machine learning competitions are a great way to improve your skills and measure your progress as a data scientist. If you are using data from a competition on Kaggle, you can easily submit it from your notebook.  Here's how you do it.\n",
    "\n",
    "# Example\n",
    "We're doing very minimal data set up here so we can focus on how to submit modeling results to competitions. Other tutorials will teach you how build great models. So the model in this example will be fairly simple. We'll start with the code to read data, select predictors, and fit a model."
   ]
  },
  {
   "cell_type": "markdown",
   "metadata": {
    "id": "9SPkn_9n41Pi"
   },
   "source": [
    "## Define Constants"
   ]
  },
  {
   "cell_type": "code",
   "execution_count": 1,
   "metadata": {
    "id": "fXWtAa8x41Pi"
   },
   "outputs": [],
   "source": [
    "DATA_PATH = \"https://raw.githubusercontent.com/serivan/mldmlab/master/Kaggle/KAGGLE/\"\n",
    "OUTPUT_PATH = \"kaggle_submissions/\"\n",
    "RANDOM_STATE = 3993\n",
    "\n",
    "DROPCOLUMS = [\"Id\", \"target\"]\n",
    "\n",
    "DEFAULT_DESCRIPTION = \"NN Submission: \""
   ]
  },
  {
   "cell_type": "code",
   "execution_count": 2,
   "metadata": {
    "id": "i-To1Olm6Wne"
   },
   "outputs": [],
   "source": [
    "EPOCHS = 20\n",
    "TRAIN_SIZE = 0.8\n",
    "VAL_SIZE = 0.2\n",
    "BATCH_SIZE = 32"
   ]
  },
  {
   "cell_type": "markdown",
   "metadata": {
    "id": "jUTtD0_d41Ph"
   },
   "source": [
    "## Imports"
   ]
  },
  {
   "cell_type": "code",
   "execution_count": 3,
   "metadata": {
    "_cell_guid": "8524922d-be55-46fd-863f-004261fcfff0",
    "_uuid": "58cfd95aa5563209575b12977280983ffeea6492",
    "id": "79gMoBcZcQyy"
   },
   "outputs": [],
   "source": [
    "import os\n",
    "\n",
    "import graphviz\n",
    "import matplotlib.pyplot as plt\n",
    "import numpy as np\n",
    "import pandas as pd\n",
    "import seaborn as sns\n",
    "from sklearn.compose import ColumnTransformer\n",
    "from sklearn.impute import SimpleImputer\n",
    "from sklearn.metrics import classification_report, confusion_matrix\n",
    "from sklearn.model_selection import (\n",
    "    GridSearchCV,\n",
    "    StratifiedKFold,\n",
    "    cross_val_score,\n",
    "    train_test_split,\n",
    ")\n",
    "from sklearn.pipeline import Pipeline\n",
    "from sklearn.preprocessing import OneHotEncoder, StandardScaler\n",
    "from sklearn.tree import DecisionTreeClassifier, export_graphviz"
   ]
  },
  {
   "cell_type": "code",
   "execution_count": 4,
   "metadata": {
    "id": "svHbYDhOja1K"
   },
   "outputs": [],
   "source": [
    "import tensorflow as tf\n",
    "from tensorflow.keras.layers import Dense\n",
    "from tensorflow.keras.models import Sequential"
   ]
  },
  {
   "cell_type": "code",
   "execution_count": 5,
   "metadata": {
    "id": "CIgbLv_h6Wnf"
   },
   "outputs": [],
   "source": [
    "### SPECIAL TENSORFLOW MEMORY MANAGEMENT ###\n",
    "### REMOVE THIS CELL IN PRODUCTION ###\n",
    "gpus = tf.config.list_physical_devices(\"GPU\")\n",
    "if gpus:\n",
    "    try:\n",
    "        # Currently, memory growth needs to be the same across GPUs\n",
    "        for gpu in gpus:\n",
    "            tf.config.experimental.set_memory_growth(gpu, True)\n",
    "        logical_gpus = tf.config.experimental.list_logical_devices(\"GPU\")\n",
    "        print(len(gpus), \"Physical GPUs,\", len(logical_gpus), \"Logical GPUs\")\n",
    "    except RuntimeError as e:\n",
    "        # Memory growth must be set before GPUs have been initialized\n",
    "        print(e)"
   ]
  },
  {
   "cell_type": "code",
   "execution_count": 6,
   "metadata": {
    "colab": {
     "base_uri": "https://localhost:8080/"
    },
    "id": "6NgNXHNpcQyq",
    "outputId": "eb034378-fb0f-4da4-bf2b-f273bb56d5b8"
   },
   "outputs": [
    {
     "name": "stdout",
     "output_type": "stream",
     "text": [
      "Random number with seed 2021\n"
     ]
    }
   ],
   "source": [
    "# if not 'sklearn' in sys.modules.keys():\n",
    "#    pip.main(['install', 'sklearn'])\n",
    "# if not 'kaggle' in sys.modules.keys():\n",
    "#    pip.main(['install', 'kaggle'])\n",
    "# import sys\n",
    "# import pip\n",
    "\n",
    "import random\n",
    "\n",
    "print(\"Random number with seed 2021\")\n",
    "random.seed(2021)"
   ]
  },
  {
   "cell_type": "markdown",
   "metadata": {
    "id": "oaXCO2_YWsnl"
   },
   "source": [
    "## Imports for Kaggle\n",
    "See https://www.kaggle.com/docs/api"
   ]
  },
  {
   "cell_type": "code",
   "execution_count": 7,
   "metadata": {
    "id": "YPoMlAjOWvGi"
   },
   "outputs": [],
   "source": [
    "# from google.colab import drive\n",
    "\n",
    "# drive.mount(\"/content/gdrive\")"
   ]
  },
  {
   "cell_type": "code",
   "execution_count": 8,
   "metadata": {
    "id": "azonBcu2ZGP9"
   },
   "outputs": [],
   "source": [
    "# !mkdir -p ~/.kaggle\n",
    "# !cp \"/content/gdrive/My Drive/kaggle.json\" ~/.kaggle/\n",
    "# !pip install kaggle\n",
    "# !chmod 600 /root/.kaggle/kaggle.json\n",
    "# !kaggle datasets list"
   ]
  },
  {
   "cell_type": "markdown",
   "metadata": {
    "id": "INvHmTiN41Pi"
   },
   "source": [
    "## Define Utils"
   ]
  },
  {
   "cell_type": "markdown",
   "metadata": {
    "id": "jhXvV6DlcQzA"
   },
   "source": [
    "Here we define a function for preperaing a submission file"
   ]
  },
  {
   "cell_type": "markdown",
   "metadata": {
    "id": "hP3UM_Tc6Wni"
   },
   "source": [
    "### Kaggle utils"
   ]
  },
  {
   "cell_type": "code",
   "execution_count": 9,
   "metadata": {
    "id": "uPpDA5ElcQzB"
   },
   "outputs": [],
   "source": [
    "def generateSubmission(\n",
    "    model,\n",
    "    submissionFile,\n",
    "    submissionDescription,\n",
    "    preprocessor=None,\n",
    "    prediction_type=\"binary_prob\",\n",
    "):\n",
    "    # Read the test data and split Id\n",
    "    data = pd.read_csv(DATA_PATH + \"test.csv\")\n",
    "    Id, X_test = data.Id, data.drop(columns=DROPCOLUMS)\n",
    "\n",
    "    if preprocessor:\n",
    "        # Preprocess each test item, then predict\n",
    "        X_test_pp = preprocessor.transform(X_test)\n",
    "        # Use the model to make predictions\n",
    "        y_test_pred = model.predict(X_test_pp)\n",
    "    else:\n",
    "        y_test_pred = model.predict(X_test)\n",
    "\n",
    "    # Standard predictions of keras models are one class probabilities if sigmoid activation\n",
    "    # else are multiclass probabilities.\n",
    "    # If you are using KerasClassifier the output are directly the class labels\n",
    "    if prediction_type == \"binary_prob\":\n",
    "        # Sigmoid activation outputs a single probability (between 0 and 1)\n",
    "        y_test_pred = np.round(y_test_pred).astype(int)\n",
    "    elif prediction_type == \"categorical_prob\":\n",
    "        # Softmax activation outputs a multiclass probability\n",
    "        y_test_pred = np.argmax(y_test_pred, axis=1).astype(int)\n",
    "\n",
    "    # Squezze array to 1-D array\n",
    "    y_test_pred = np.squeeze(y_test_pred)\n",
    "\n",
    "    # Create outpath if does not exist\n",
    "    if not os.path.exists(OUTPUT_PATH):\n",
    "        os.mkdir(OUTPUT_PATH)\n",
    "\n",
    "    # submission file\n",
    "    my_submission = pd.DataFrame({\"Id\": Id, \"target\": y_test_pred})\n",
    "    # you could use any filename. We choose submission here\n",
    "    my_submission.to_csv(OUTPUT_PATH + submissionFile, index=False)\n",
    "\n",
    "    print(submissionDescription)\n",
    "    # Submit authomatically; kaggle API authentication needed\n",
    "    #!kaggle competitions submit -c heart-attack-analysis-and-prediction-21 -f {OUTPUT_PATH/submissionFile} -m '{submissionDescription}'"
   ]
  },
  {
   "cell_type": "markdown",
   "metadata": {
    "id": "x4XoFlYQ6Wni"
   },
   "source": [
    "### Keras utils"
   ]
  },
  {
   "cell_type": "code",
   "execution_count": 10,
   "metadata": {
    "id": "eVvB2Y-C6Wnj"
   },
   "outputs": [],
   "source": [
    "def build_keras_model(input_shape=(13,), hidden_units=(13, 8), hidden_activation=\"relu\"):\n",
    "    # Initialize the constructor\n",
    "    model = Sequential()\n",
    "    # Add an input layer\n",
    "    model.add(Dense(hidden_units[0], activation=hidden_activation, input_shape=input_shape))\n",
    "    # Add one hidden layer\n",
    "    model.add(Dense(hidden_units[1], activation=hidden_activation))\n",
    "    # Add an output layer\n",
    "    model.add(Dense(1, activation=\"sigmoid\"))\n",
    "\n",
    "    # Compile the model\n",
    "    model.compile(\n",
    "        loss=\"binary_crossentropy\",\n",
    "        optimizer=\"SGD\",\n",
    "        metrics=[\"accuracy\", tf.keras.metrics.AUC()],\n",
    "    )\n",
    "\n",
    "    return model"
   ]
  },
  {
   "cell_type": "markdown",
   "metadata": {
    "id": "KAreCll741Pk"
   },
   "source": [
    "## Load Data"
   ]
  },
  {
   "cell_type": "code",
   "execution_count": 11,
   "metadata": {
    "_cell_guid": "8524922d-be55-46fd-863f-004261fcfff0",
    "_uuid": "58cfd95aa5563209575b12977280983ffeea6492",
    "colab": {
     "base_uri": "https://localhost:8080/"
    },
    "id": "179PvzaY41Pk",
    "outputId": "997832ae-d266-483f-89c2-68b6727d0d11"
   },
   "outputs": [
    {
     "data": {
      "text/plain": [
       "Id                       int64\n",
       "st_slope               float64\n",
       "age                    float64\n",
       "chest_pain_type        float64\n",
       "cholesterol            float64\n",
       "exercise_angina        float64\n",
       "fasting_blood_sugar    float64\n",
       "max_heart_rate         float64\n",
       "oldpeak                float64\n",
       "pulse                  float64\n",
       "resting_bp_s           float64\n",
       "resting_ecg            float64\n",
       "sex                    float64\n",
       "synt                   float64\n",
       "target                   int64\n",
       "dtype: object"
      ]
     },
     "execution_count": 11,
     "metadata": {
      "tags": []
     },
     "output_type": "execute_result"
    }
   ],
   "source": [
    "# Read the data\n",
    "train = pd.read_csv(DATA_PATH + \"train.csv\")\n",
    "train.dtypes"
   ]
  },
  {
   "cell_type": "code",
   "execution_count": 12,
   "metadata": {
    "colab": {
     "base_uri": "https://localhost:8080/",
     "height": 215
    },
    "id": "dlokqpsPcQy2",
    "outputId": "f57bd155-fbea-41b5-80e6-ea9aa4e5e425"
   },
   "outputs": [
    {
     "data": {
      "text/html": [
       "<div>\n",
       "<style scoped>\n",
       "    .dataframe tbody tr th:only-of-type {\n",
       "        vertical-align: middle;\n",
       "    }\n",
       "\n",
       "    .dataframe tbody tr th {\n",
       "        vertical-align: top;\n",
       "    }\n",
       "\n",
       "    .dataframe thead th {\n",
       "        text-align: right;\n",
       "    }\n",
       "</style>\n",
       "<table border=\"1\" class=\"dataframe\">\n",
       "  <thead>\n",
       "    <tr style=\"text-align: right;\">\n",
       "      <th></th>\n",
       "      <th>Id</th>\n",
       "      <th>st_slope</th>\n",
       "      <th>age</th>\n",
       "      <th>chest_pain_type</th>\n",
       "      <th>cholesterol</th>\n",
       "      <th>exercise_angina</th>\n",
       "      <th>fasting_blood_sugar</th>\n",
       "      <th>max_heart_rate</th>\n",
       "      <th>oldpeak</th>\n",
       "      <th>pulse</th>\n",
       "      <th>resting_bp_s</th>\n",
       "      <th>resting_ecg</th>\n",
       "      <th>sex</th>\n",
       "      <th>synt</th>\n",
       "      <th>target</th>\n",
       "    </tr>\n",
       "  </thead>\n",
       "  <tbody>\n",
       "    <tr>\n",
       "      <th>0</th>\n",
       "      <td>1000</td>\n",
       "      <td>1.0</td>\n",
       "      <td>62.0</td>\n",
       "      <td>2.0</td>\n",
       "      <td>213.0</td>\n",
       "      <td>0.0</td>\n",
       "      <td>1.0</td>\n",
       "      <td>141.0</td>\n",
       "      <td>-0.051026</td>\n",
       "      <td>348.0</td>\n",
       "      <td>128.0</td>\n",
       "      <td>2.0</td>\n",
       "      <td>1.0</td>\n",
       "      <td>0.536459</td>\n",
       "      <td>0</td>\n",
       "    </tr>\n",
       "    <tr>\n",
       "      <th>1</th>\n",
       "      <td>1001</td>\n",
       "      <td>2.0</td>\n",
       "      <td>72.0</td>\n",
       "      <td>3.0</td>\n",
       "      <td>2.0</td>\n",
       "      <td>0.0</td>\n",
       "      <td>0.0</td>\n",
       "      <td>115.0</td>\n",
       "      <td>1.626599</td>\n",
       "      <td>287.0</td>\n",
       "      <td>159.0</td>\n",
       "      <td>2.0</td>\n",
       "      <td>1.0</td>\n",
       "      <td>0.334897</td>\n",
       "      <td>0</td>\n",
       "    </tr>\n",
       "    <tr>\n",
       "      <th>2</th>\n",
       "      <td>1002</td>\n",
       "      <td>2.0</td>\n",
       "      <td>49.0</td>\n",
       "      <td>3.0</td>\n",
       "      <td>183.0</td>\n",
       "      <td>0.0</td>\n",
       "      <td>0.0</td>\n",
       "      <td>156.0</td>\n",
       "      <td>0.968111</td>\n",
       "      <td>391.0</td>\n",
       "      <td>161.0</td>\n",
       "      <td>0.0</td>\n",
       "      <td>0.0</td>\n",
       "      <td>0.720858</td>\n",
       "      <td>1</td>\n",
       "    </tr>\n",
       "    <tr>\n",
       "      <th>3</th>\n",
       "      <td>1003</td>\n",
       "      <td>1.0</td>\n",
       "      <td>35.0</td>\n",
       "      <td>2.0</td>\n",
       "      <td>NaN</td>\n",
       "      <td>0.0</td>\n",
       "      <td>0.0</td>\n",
       "      <td>179.0</td>\n",
       "      <td>0.021913</td>\n",
       "      <td>449.0</td>\n",
       "      <td>119.0</td>\n",
       "      <td>2.0</td>\n",
       "      <td>1.0</td>\n",
       "      <td>0.117560</td>\n",
       "      <td>0</td>\n",
       "    </tr>\n",
       "    <tr>\n",
       "      <th>4</th>\n",
       "      <td>1004</td>\n",
       "      <td>2.0</td>\n",
       "      <td>51.0</td>\n",
       "      <td>4.0</td>\n",
       "      <td>-4.0</td>\n",
       "      <td>0.0</td>\n",
       "      <td>1.0</td>\n",
       "      <td>104.0</td>\n",
       "      <td>-0.010970</td>\n",
       "      <td>258.0</td>\n",
       "      <td>120.0</td>\n",
       "      <td>0.0</td>\n",
       "      <td>1.0</td>\n",
       "      <td>0.790254</td>\n",
       "      <td>1</td>\n",
       "    </tr>\n",
       "  </tbody>\n",
       "</table>\n",
       "</div>"
      ],
      "text/plain": [
       "     Id  st_slope   age  chest_pain_type  ...  resting_ecg  sex      synt  target\n",
       "0  1000       1.0  62.0              2.0  ...          2.0  1.0  0.536459       0\n",
       "1  1001       2.0  72.0              3.0  ...          2.0  1.0  0.334897       0\n",
       "2  1002       2.0  49.0              3.0  ...          0.0  0.0  0.720858       1\n",
       "3  1003       1.0  35.0              2.0  ...          2.0  1.0  0.117560       0\n",
       "4  1004       2.0  51.0              4.0  ...          0.0  1.0  0.790254       1\n",
       "\n",
       "[5 rows x 15 columns]"
      ]
     },
     "execution_count": 12,
     "metadata": {
      "tags": []
     },
     "output_type": "execute_result"
    }
   ],
   "source": [
    "train.head()"
   ]
  },
  {
   "cell_type": "markdown",
   "metadata": {
    "id": "rtiORdT141Pm"
   },
   "source": [
    "## Count missing values in columns"
   ]
  },
  {
   "cell_type": "code",
   "execution_count": 13,
   "metadata": {
    "colab": {
     "base_uri": "https://localhost:8080/"
    },
    "id": "mBEC-jf_41Pm",
    "outputId": "e28f4b01-f9ae-4b32-ce6c-a2f35b5b1021"
   },
   "outputs": [
    {
     "data": {
      "text/plain": [
       "Id                       0\n",
       "st_slope                 1\n",
       "age                      4\n",
       "chest_pain_type          9\n",
       "cholesterol            202\n",
       "exercise_angina          3\n",
       "fasting_blood_sugar     11\n",
       "max_heart_rate           7\n",
       "oldpeak                  8\n",
       "pulse                    3\n",
       "resting_bp_s             7\n",
       "resting_ecg              3\n",
       "sex                      8\n",
       "synt                     0\n",
       "target                   0\n",
       "dtype: int64"
      ]
     },
     "execution_count": 13,
     "metadata": {
      "tags": []
     },
     "output_type": "execute_result"
    }
   ],
   "source": [
    "number_of_missing_in_cols = train.shape[0] - train.count()\n",
    "number_of_missing_in_cols"
   ]
  },
  {
   "cell_type": "markdown",
   "metadata": {
    "id": "R_pwrwvZ41Pn"
   },
   "source": [
    "## Divide features by sematic type (binary, nominal, numerical)"
   ]
  },
  {
   "cell_type": "code",
   "execution_count": 14,
   "metadata": {
    "colab": {
     "base_uri": "https://localhost:8080/"
    },
    "id": "GUwIUeyv41Pn",
    "outputId": "1b941083-ce05-43bd-a664-9e2583703037"
   },
   "outputs": [
    {
     "data": {
      "text/plain": [
       "exercise_angina           2\n",
       "fasting_blood_sugar       2\n",
       "sex                       2\n",
       "resting_ecg               3\n",
       "st_slope                  4\n",
       "chest_pain_type           4\n",
       "age                      49\n",
       "resting_bp_s             87\n",
       "max_heart_rate          121\n",
       "cholesterol             222\n",
       "pulse                   259\n",
       "oldpeak                 947\n",
       "synt                   1301\n",
       "dtype: int64"
      ]
     },
     "execution_count": 14,
     "metadata": {
      "tags": []
     },
     "output_type": "execute_result"
    }
   ],
   "source": [
    "# Count the number of unique values in dataframe\n",
    "cols_unique_vals_count = train.drop(columns=DROPCOLUMS).nunique().sort_values()\n",
    "cols_unique_vals_count"
   ]
  },
  {
   "cell_type": "code",
   "execution_count": 15,
   "metadata": {
    "colab": {
     "base_uri": "https://localhost:8080/"
    },
    "id": "T-ehoc_241Pn",
    "outputId": "b65e1700-76fb-406f-f86d-60c917fdeafa"
   },
   "outputs": [
    {
     "data": {
      "text/plain": [
       "['exercise_angina', 'fasting_blood_sugar', 'sex']"
      ]
     },
     "execution_count": 15,
     "metadata": {
      "tags": []
     },
     "output_type": "execute_result"
    }
   ],
   "source": [
    "# If the column has only 2 unique values it is a binary col\n",
    "BINARY_COLS = [col for col, val in cols_unique_vals_count.items() if val == 2]\n",
    "BINARY_COLS"
   ]
  },
  {
   "cell_type": "code",
   "execution_count": 16,
   "metadata": {
    "colab": {
     "base_uri": "https://localhost:8080/"
    },
    "id": "SxV7GdUF41Po",
    "outputId": "169e1f9b-c230-4e66-8e81-eaf614eacff7"
   },
   "outputs": [
    {
     "data": {
      "text/plain": [
       "['resting_ecg', 'st_slope', 'chest_pain_type']"
      ]
     },
     "execution_count": 16,
     "metadata": {
      "tags": []
     },
     "output_type": "execute_result"
    }
   ],
   "source": [
    "# Maximum number of unique values which represent a Nominal (categorical) feature\n",
    "NOMINAL_NUNIQUE_THRESHOLD = 10\n",
    "NOMINAL_COLS = [\n",
    "    col\n",
    "    for col, val in cols_unique_vals_count.items()\n",
    "    if val > 2 and val < NOMINAL_NUNIQUE_THRESHOLD\n",
    "]\n",
    "NOMINAL_COLS"
   ]
  },
  {
   "cell_type": "code",
   "execution_count": 17,
   "metadata": {
    "colab": {
     "base_uri": "https://localhost:8080/"
    },
    "id": "bbtd2eAK41Po",
    "outputId": "fdd8f619-63ff-4188-9f1c-3e87e9d2a2de"
   },
   "outputs": [
    {
     "data": {
      "text/plain": [
       "['age',\n",
       " 'resting_bp_s',\n",
       " 'max_heart_rate',\n",
       " 'cholesterol',\n",
       " 'pulse',\n",
       " 'oldpeak',\n",
       " 'synt']"
      ]
     },
     "execution_count": 17,
     "metadata": {
      "tags": []
     },
     "output_type": "execute_result"
    }
   ],
   "source": [
    "# Maximum number of unique values which represent a Nominal (categorical) feature\n",
    "NUMERICAL_COLS = [\n",
    "    col\n",
    "    for col, val in cols_unique_vals_count.items()\n",
    "    if val > NOMINAL_NUNIQUE_THRESHOLD\n",
    "]\n",
    "NUMERICAL_COLS"
   ]
  },
  {
   "cell_type": "code",
   "execution_count": 18,
   "metadata": {
    "colab": {
     "base_uri": "https://localhost:8080/"
    },
    "id": "OeR8YaEN41Pp",
    "outputId": "77b4bfa4-dd8e-4089-b6ff-8e194b58025a"
   },
   "outputs": [
    {
     "data": {
      "text/plain": [
       "['exercise_angina',\n",
       " 'fasting_blood_sugar',\n",
       " 'sex',\n",
       " 'resting_ecg',\n",
       " 'st_slope',\n",
       " 'chest_pain_type']"
      ]
     },
     "execution_count": 18,
     "metadata": {
      "tags": []
     },
     "output_type": "execute_result"
    }
   ],
   "source": [
    "# Create the categorical columns list as binary + nominal\n",
    "CATEGORICAL_COLS = BINARY_COLS + NOMINAL_COLS\n",
    "CATEGORICAL_COLS"
   ]
  },
  {
   "cell_type": "markdown",
   "metadata": {
    "id": "KxX3XDIVcQy9"
   },
   "source": [
    "## Feature engineering phase"
   ]
  },
  {
   "cell_type": "code",
   "execution_count": 19,
   "metadata": {
    "id": "JbZ-89Mm41Pq"
   },
   "outputs": [],
   "source": [
    "# Split dataset in data and target label\n",
    "X_train, y_train = train.drop(columns=DROPCOLUMS), train.target"
   ]
  },
  {
   "cell_type": "code",
   "execution_count": 20,
   "metadata": {
    "id": "FnkZf_fO41Pq"
   },
   "outputs": [],
   "source": [
    "# Create categorical transformer (binary + nominal)\n",
    "# Replace imputer\n",
    "categorical_transformer = Pipeline(\n",
    "    steps=[\n",
    "        (\"imputer\", SimpleImputer(missing_values=np.nan, strategy=\"most_frequent\")),\n",
    "        (\"scaler\", StandardScaler()),\n",
    "        # (\"one_hot_encoder\", OneHotEncoder()),\n",
    "    ]\n",
    ")"
   ]
  },
  {
   "cell_type": "code",
   "execution_count": 21,
   "metadata": {
    "id": "edZmLnYs41Pq"
   },
   "outputs": [],
   "source": [
    "# Create numeric transformer\n",
    "# Impute missing values using the median value of each colum\n",
    "numeric_transformer = Pipeline(\n",
    "    steps=[(\"imputer\", SimpleImputer(strategy=\"median\")), (\"scaler\", StandardScaler())]\n",
    ")"
   ]
  },
  {
   "cell_type": "code",
   "execution_count": 22,
   "metadata": {
    "id": "8GqvzLv641Pr"
   },
   "outputs": [],
   "source": [
    "# Create the imputer of mixed type columns\n",
    "# ATTENTION: the preprocessor can be used in a Pipeline for simplicity\n",
    "preprocessor = ColumnTransformer(\n",
    "    transformers=[\n",
    "        (\"preproc_numeric\", numeric_transformer, NUMERICAL_COLS),\n",
    "        (\"preproc_categorical\", categorical_transformer, CATEGORICAL_COLS),\n",
    "    ],\n",
    "    verbose=True,\n",
    ")"
   ]
  },
  {
   "cell_type": "code",
   "execution_count": 23,
   "metadata": {
    "colab": {
     "base_uri": "https://localhost:8080/"
    },
    "id": "KAGwdIWgcQy9",
    "outputId": "72606621-2ea7-4c64-9900-569fc9cb83b1"
   },
   "outputs": [
    {
     "name": "stdout",
     "output_type": "stream",
     "text": [
      "[ColumnTransformer]  (1 of 2) Processing preproc_numeric, total=   0.0s\n",
      "[ColumnTransformer]  (2 of 2) Processing preproc_categorical, total=   0.0s\n"
     ]
    }
   ],
   "source": [
    "# Fit the imputer\n",
    "preproc = preprocessor.fit(X_train)\n",
    "# Impute our data\n",
    "X_train_pp = preproc.transform(X_train)"
   ]
  },
  {
   "cell_type": "code",
   "execution_count": null,
   "metadata": {
    "colab": {
     "base_uri": "https://localhost:8080/",
     "height": 204
    },
    "id": "kBgKH8fQ41Pu",
    "outputId": "908c0154-2a05-4e53-8f10-623255c1e55f"
   },
   "outputs": [
    {
     "data": {
      "text/html": [
       "<div>\n",
       "<style scoped>\n",
       "    .dataframe tbody tr th:only-of-type {\n",
       "        vertical-align: middle;\n",
       "    }\n",
       "\n",
       "    .dataframe tbody tr th {\n",
       "        vertical-align: top;\n",
       "    }\n",
       "\n",
       "    .dataframe thead th {\n",
       "        text-align: right;\n",
       "    }\n",
       "</style>\n",
       "<table border=\"1\" class=\"dataframe\">\n",
       "  <thead>\n",
       "    <tr style=\"text-align: right;\">\n",
       "      <th></th>\n",
       "      <th>age</th>\n",
       "      <th>resting_bp_s</th>\n",
       "      <th>max_heart_rate</th>\n",
       "      <th>cholesterol</th>\n",
       "      <th>pulse</th>\n",
       "      <th>oldpeak</th>\n",
       "      <th>synt</th>\n",
       "      <th>exercise_angina</th>\n",
       "      <th>fasting_blood_sugar</th>\n",
       "      <th>sex</th>\n",
       "      <th>resting_ecg</th>\n",
       "      <th>st_slope</th>\n",
       "      <th>chest_pain_type</th>\n",
       "    </tr>\n",
       "  </thead>\n",
       "  <tbody>\n",
       "    <tr>\n",
       "      <th>0</th>\n",
       "      <td>0.941014</td>\n",
       "      <td>-0.172203</td>\n",
       "      <td>-0.036796</td>\n",
       "      <td>-0.058920</td>\n",
       "      <td>-0.111874</td>\n",
       "      <td>-0.811953</td>\n",
       "      <td>0.128071</td>\n",
       "      <td>-0.703848</td>\n",
       "      <td>2.050366</td>\n",
       "      <td>0.626844</td>\n",
       "      <td>1.508225</td>\n",
       "      <td>-0.888269</td>\n",
       "      <td>-1.122993</td>\n",
       "    </tr>\n",
       "    <tr>\n",
       "      <th>1</th>\n",
       "      <td>2.007163</td>\n",
       "      <td>1.524627</td>\n",
       "      <td>-1.064594</td>\n",
       "      <td>-2.444133</td>\n",
       "      <td>-1.076661</td>\n",
       "      <td>0.828729</td>\n",
       "      <td>-0.564164</td>\n",
       "      <td>-0.703848</td>\n",
       "      <td>-0.487718</td>\n",
       "      <td>0.626844</td>\n",
       "      <td>1.508225</td>\n",
       "      <td>0.803734</td>\n",
       "      <td>-0.080157</td>\n",
       "    </tr>\n",
       "    <tr>\n",
       "      <th>2</th>\n",
       "      <td>-0.444980</td>\n",
       "      <td>1.634100</td>\n",
       "      <td>0.556165</td>\n",
       "      <td>-0.398050</td>\n",
       "      <td>0.568222</td>\n",
       "      <td>0.184742</td>\n",
       "      <td>0.761359</td>\n",
       "      <td>-0.703848</td>\n",
       "      <td>-0.487718</td>\n",
       "      <td>-1.595293</td>\n",
       "      <td>-0.782728</td>\n",
       "      <td>0.803734</td>\n",
       "      <td>-0.080157</td>\n",
       "    </tr>\n",
       "    <tr>\n",
       "      <th>3</th>\n",
       "      <td>-1.937589</td>\n",
       "      <td>-0.664831</td>\n",
       "      <td>1.465371</td>\n",
       "      <td>0.133254</td>\n",
       "      <td>1.485560</td>\n",
       "      <td>-0.740620</td>\n",
       "      <td>-1.310572</td>\n",
       "      <td>-0.703848</td>\n",
       "      <td>-0.487718</td>\n",
       "      <td>0.626844</td>\n",
       "      <td>1.508225</td>\n",
       "      <td>-0.888269</td>\n",
       "      <td>-1.122993</td>\n",
       "    </tr>\n",
       "    <tr>\n",
       "      <th>4</th>\n",
       "      <td>-0.231750</td>\n",
       "      <td>-0.610095</td>\n",
       "      <td>-1.499432</td>\n",
       "      <td>-2.511959</td>\n",
       "      <td>-1.535331</td>\n",
       "      <td>-0.772778</td>\n",
       "      <td>0.999688</td>\n",
       "      <td>-0.703848</td>\n",
       "      <td>2.050366</td>\n",
       "      <td>0.626844</td>\n",
       "      <td>-0.782728</td>\n",
       "      <td>0.803734</td>\n",
       "      <td>0.962680</td>\n",
       "    </tr>\n",
       "  </tbody>\n",
       "</table>\n",
       "</div>"
      ],
      "text/plain": [
       "        age  resting_bp_s  max_heart_rate  cholesterol     pulse   oldpeak  \\\n",
       "0  0.941014     -0.172203       -0.036796    -0.058920 -0.111874 -0.811953   \n",
       "1  2.007163      1.524627       -1.064594    -2.444133 -1.076661  0.828729   \n",
       "2 -0.444980      1.634100        0.556165    -0.398050  0.568222  0.184742   \n",
       "3 -1.937589     -0.664831        1.465371     0.133254  1.485560 -0.740620   \n",
       "4 -0.231750     -0.610095       -1.499432    -2.511959 -1.535331 -0.772778   \n",
       "\n",
       "       synt  exercise_angina  fasting_blood_sugar       sex  resting_ecg  \\\n",
       "0  0.128071        -0.703848             2.050366  0.626844     1.508225   \n",
       "1 -0.564164        -0.703848            -0.487718  0.626844     1.508225   \n",
       "2  0.761359        -0.703848            -0.487718 -1.595293    -0.782728   \n",
       "3 -1.310572        -0.703848            -0.487718  0.626844     1.508225   \n",
       "4  0.999688        -0.703848             2.050366  0.626844    -0.782728   \n",
       "\n",
       "   st_slope  chest_pain_type  \n",
       "0 -0.888269        -1.122993  \n",
       "1  0.803734        -0.080157  \n",
       "2  0.803734        -0.080157  \n",
       "3 -0.888269        -1.122993  \n",
       "4  0.803734         0.962680  "
      ]
     },
     "execution_count": 24,
     "metadata": {
      "tags": []
     },
     "output_type": "execute_result"
    }
   ],
   "source": [
    "# Column names after mixed imputation procedure\n",
    "COLUMN_NAMES = NUMERICAL_COLS + CATEGORICAL_COLS\n",
    "# Create a DataFrame from numpy array for visualization and simplicity\n",
    "X_train_pp = pd.DataFrame(data=X_train_pp, columns=COLUMN_NAMES)\n",
    "X_train_pp.head()"
   ]
  },
  {
   "cell_type": "markdown",
   "metadata": {
    "id": "-xU8Pk2ScQzD"
   },
   "source": [
    "## Training"
   ]
  },
  {
   "cell_type": "markdown",
   "metadata": {
    "id": "edNIVyHAcQzE"
   },
   "source": [
    "### You can train directly on the training set"
   ]
  },
  {
   "cell_type": "code",
   "execution_count": null,
   "metadata": {
    "id": "oaQjXaRMcQzE"
   },
   "outputs": [],
   "source": [
    "# Initialize the constructor\n",
    "first_model = my_model = Sequential()\n",
    "# Add an input layer\n",
    "my_model.add(Dense(13, activation=\"relu\", input_shape=(13,)))\n",
    "# Add one hidden layer\n",
    "my_model.add(Dense(8, activation=\"relu\"))\n",
    "# Add an output layer\n",
    "my_model.add(Dense(1, activation=\"sigmoid\"))"
   ]
  },
  {
   "cell_type": "code",
   "execution_count": null,
   "metadata": {
    "colab": {
     "base_uri": "https://localhost:8080/"
    },
    "id": "PhIMqPfcj1Fg",
    "outputId": "84effdf9-aa37-409a-dc43-05cd5352b421"
   },
   "outputs": [
    {
     "name": "stdout",
     "output_type": "stream",
     "text": [
      "Epoch 1/20\n",
      "33/33 [==============================] - 0s 12ms/step - loss: 0.6995 - accuracy: 0.5577 - auc: 0.6592 - val_loss: 0.6702 - val_accuracy: 0.6169 - val_auc: 0.7205\n",
      "Epoch 2/20\n",
      "33/33 [==============================] - 0s 4ms/step - loss: 0.6602 - accuracy: 0.6365 - auc: 0.6995 - val_loss: 0.6333 - val_accuracy: 0.6743 - val_auc: 0.7499\n",
      "Epoch 3/20\n",
      "33/33 [==============================] - 0s 5ms/step - loss: 0.6324 - accuracy: 0.6894 - auc: 0.7313 - val_loss: 0.6043 - val_accuracy: 0.7050 - val_auc: 0.7772\n",
      "Epoch 4/20\n",
      "33/33 [==============================] - 0s 5ms/step - loss: 0.6098 - accuracy: 0.7173 - auc: 0.7557 - val_loss: 0.5797 - val_accuracy: 0.7510 - val_auc: 0.7983\n",
      "Epoch 5/20\n",
      "33/33 [==============================] - 0s 5ms/step - loss: 0.5896 - accuracy: 0.7288 - auc: 0.7755 - val_loss: 0.5579 - val_accuracy: 0.7586 - val_auc: 0.8125\n",
      "Epoch 6/20\n",
      "33/33 [==============================] - 0s 4ms/step - loss: 0.5712 - accuracy: 0.7442 - auc: 0.7928 - val_loss: 0.5386 - val_accuracy: 0.7625 - val_auc: 0.8280\n",
      "Epoch 7/20\n",
      "33/33 [==============================] - 0s 5ms/step - loss: 0.5545 - accuracy: 0.7529 - auc: 0.8066 - val_loss: 0.5207 - val_accuracy: 0.7701 - val_auc: 0.8371\n",
      "Epoch 8/20\n",
      "33/33 [==============================] - 0s 5ms/step - loss: 0.5387 - accuracy: 0.7615 - auc: 0.8172 - val_loss: 0.5039 - val_accuracy: 0.7931 - val_auc: 0.8441\n",
      "Epoch 9/20\n",
      "33/33 [==============================] - 0s 5ms/step - loss: 0.5239 - accuracy: 0.7683 - auc: 0.8270 - val_loss: 0.4887 - val_accuracy: 0.7969 - val_auc: 0.8518\n",
      "Epoch 10/20\n",
      "33/33 [==============================] - 0s 5ms/step - loss: 0.5102 - accuracy: 0.7721 - auc: 0.8355 - val_loss: 0.4749 - val_accuracy: 0.7969 - val_auc: 0.8583\n",
      "Epoch 11/20\n",
      "33/33 [==============================] - 0s 5ms/step - loss: 0.4972 - accuracy: 0.7827 - auc: 0.8438 - val_loss: 0.4623 - val_accuracy: 0.8123 - val_auc: 0.8637\n",
      "Epoch 12/20\n",
      "33/33 [==============================] - 0s 5ms/step - loss: 0.4850 - accuracy: 0.7913 - auc: 0.8511 - val_loss: 0.4509 - val_accuracy: 0.8161 - val_auc: 0.8688\n",
      "Epoch 13/20\n",
      "33/33 [==============================] - 0s 5ms/step - loss: 0.4739 - accuracy: 0.8019 - auc: 0.8572 - val_loss: 0.4410 - val_accuracy: 0.8161 - val_auc: 0.8727\n",
      "Epoch 14/20\n",
      "33/33 [==============================] - 0s 4ms/step - loss: 0.4637 - accuracy: 0.8077 - auc: 0.8632 - val_loss: 0.4325 - val_accuracy: 0.8238 - val_auc: 0.8752\n",
      "Epoch 15/20\n",
      "33/33 [==============================] - 0s 4ms/step - loss: 0.4545 - accuracy: 0.8106 - auc: 0.8686 - val_loss: 0.4250 - val_accuracy: 0.8314 - val_auc: 0.8782\n",
      "Epoch 16/20\n",
      "33/33 [==============================] - 0s 4ms/step - loss: 0.4460 - accuracy: 0.8144 - auc: 0.8732 - val_loss: 0.4186 - val_accuracy: 0.8352 - val_auc: 0.8799\n",
      "Epoch 17/20\n",
      "33/33 [==============================] - 0s 4ms/step - loss: 0.4386 - accuracy: 0.8212 - auc: 0.8774 - val_loss: 0.4129 - val_accuracy: 0.8391 - val_auc: 0.8821\n",
      "Epoch 18/20\n",
      "33/33 [==============================] - 0s 4ms/step - loss: 0.4318 - accuracy: 0.8231 - auc: 0.8812 - val_loss: 0.4081 - val_accuracy: 0.8467 - val_auc: 0.8841\n",
      "Epoch 19/20\n",
      "33/33 [==============================] - 0s 4ms/step - loss: 0.4256 - accuracy: 0.8231 - auc: 0.8841 - val_loss: 0.4038 - val_accuracy: 0.8506 - val_auc: 0.8850\n",
      "Epoch 20/20\n",
      "33/33 [==============================] - 0s 4ms/step - loss: 0.4200 - accuracy: 0.8250 - auc: 0.8873 - val_loss: 0.3999 - val_accuracy: 0.8506 - val_auc: 0.8868\n"
     ]
    }
   ],
   "source": [
    "my_model.compile(\n",
    "    loss=\"binary_crossentropy\",\n",
    "    optimizer=\"SGD\",\n",
    "    metrics=[\"accuracy\", tf.keras.metrics.AUC()],\n",
    ")\n",
    "\n",
    "training_phase = my_model.fit(\n",
    "    X_train_pp,\n",
    "    y_train,\n",
    "    epochs=EPOCHS,\n",
    "    batch_size=BATCH_SIZE,\n",
    "    validation_split=VAL_SIZE,\n",
    "    verbose=1,\n",
    ")"
   ]
  },
  {
   "cell_type": "code",
   "execution_count": null,
   "metadata": {
    "colab": {
     "base_uri": "https://localhost:8080/",
     "height": 549
    },
    "id": "XjT046s3leEY",
    "outputId": "f8d5951d-af3a-4fdc-d101-324487985661"
   },
   "outputs": [
    {
     "name": "stdout",
     "output_type": "stream",
     "text": [
      "loss\n"
     ]
    },
    {
     "data": {
      "image/png": "[encoded data removed]",
      "text/plain": [
       "<Figure size 432x288 with 1 Axes>"
      ]
     },
     "metadata": {
      "needs_background": "light",
      "tags": []
     },
     "output_type": "display_data"
    },
    {
     "name": "stdout",
     "output_type": "stream",
     "text": [
      "Accuracy\n"
     ]
    },
    {
     "data": {
      "image/png": "[encoded data removed]",
      "text/plain": [
       "<Figure size 432x288 with 1 Axes>"
      ]
     },
     "metadata": {
      "needs_background": "light",
      "tags": []
     },
     "output_type": "display_data"
    }
   ],
   "source": [
    "# plot training history\n",
    "print(\"loss\")\n",
    "plt.plot(training_phase.history[\"loss\"], label=\"train\")\n",
    "plt.plot(training_phase.history[\"val_loss\"], label=\"validation\")\n",
    "plt.legend()\n",
    "plt.show()\n",
    "print(\"Accuracy\")\n",
    "plt.plot(training_phase.history[\"accuracy\"], label=\"train\")\n",
    "plt.plot(training_phase.history[\"val_accuracy\"], label=\"validation\")\n",
    "plt.legend()\n",
    "plt.show()"
   ]
  },
  {
   "cell_type": "code",
   "execution_count": null,
   "metadata": {
    "colab": {
     "base_uri": "https://localhost:8080/"
    },
    "id": "XL2h0DDhlVJd",
    "outputId": "4ae32322-4d02-4d91-81f0-be0fe7b46d40"
   },
   "outputs": [
    {
     "data": {
      "text/plain": [
       "array([[0.5849459 ],\n",
       "       [0.8068426 ],\n",
       "       [0.41880712],\n",
       "       ...,\n",
       "       [0.06558436],\n",
       "       [0.06531279],\n",
       "       [0.39763975]], dtype=float32)"
      ]
     },
     "execution_count": 28,
     "metadata": {
      "tags": []
     },
     "output_type": "execute_result"
    }
   ],
   "source": [
    "y_pred = my_model.predict(X_train_pp)\n",
    "y_pred"
   ]
  },
  {
   "cell_type": "code",
   "execution_count": null,
   "metadata": {
    "colab": {
     "base_uri": "https://localhost:8080/"
    },
    "id": "qjtrt8rBmG1k",
    "outputId": "3cf0512d-0079-4f60-a05b-eabdc00ce815"
   },
   "outputs": [
    {
     "name": "stdout",
     "output_type": "stream",
     "text": [
      "[[1]\n",
      " [1]\n",
      " [0]\n",
      " ...\n",
      " [0]\n",
      " [0]\n",
      " [0]]\n"
     ]
    }
   ],
   "source": [
    "# We will look at the predicted Qualities to ensure we have something sensible.\n",
    "y_predicted = np.round(y_pred).astype(int)\n",
    "print(y_predicted)"
   ]
  },
  {
   "cell_type": "code",
   "execution_count": null,
   "metadata": {
    "colab": {
     "base_uri": "https://localhost:8080/"
    },
    "id": "h_flxO0mcQzJ",
    "outputId": "1bb33c78-e525-4cb4-8536-09142f58662d"
   },
   "outputs": [
    {
     "name": "stdout",
     "output_type": "stream",
     "text": [
      "[[685 113]\n",
      " [107 396]]\n",
      "Classification Report:\n",
      "              precision    recall  f1-score   support\n",
      "\n",
      "           0       0.86      0.86      0.86       798\n",
      "           1       0.78      0.79      0.78       503\n",
      "\n",
      "    accuracy                           0.83      1301\n",
      "   macro avg       0.82      0.82      0.82      1301\n",
      "weighted avg       0.83      0.83      0.83      1301\n",
      "\n"
     ]
    }
   ],
   "source": [
    "print(confusion_matrix(y_train, y_predicted))\n",
    "\n",
    "print(\"Classification Report:\")\n",
    "print(classification_report(y_train, y_predicted))"
   ]
  },
  {
   "cell_type": "code",
   "execution_count": null,
   "metadata": {
    "colab": {
     "base_uri": "https://localhost:8080/",
     "height": 376
    },
    "id": "NL6culh2pCmo",
    "outputId": "94ae42fe-8bc1-4429-e2ca-f13621e9547a"
   },
   "outputs": [
    {
     "name": "stdout",
     "output_type": "stream",
     "text": [
      "NN Submission: User defined NN trained with all training set\n"
     ]
    }
   ],
   "source": [
    "# generate a submission file\n",
    "generateSubmission(\n",
    "    model=my_model,\n",
    "    submissionFile=\"first_NN.csv\",\n",
    "    submissionDescription=DEFAULT_DESCRIPTION\n",
    "    + \"User defined NN trained with all training set\",\n",
    ")"
   ]
  },
  {
   "cell_type": "markdown",
   "metadata": {
    "id": "EuVsF4wacQzN"
   },
   "source": [
    "### You can consider different models splitting in training and testing"
   ]
  },
  {
   "cell_type": "code",
   "execution_count": null,
   "metadata": {
    "id": "QXW11klacQzO"
   },
   "outputs": [],
   "source": [
    "X_train_pp_2, X_test_pp_2, y_train_2, y_test_2 = train_test_split(\n",
    "    X_train_pp, y_train, train_size=TRAIN_SIZE, random_state=RANDOM_STATE\n",
    ")"
   ]
  },
  {
   "cell_type": "code",
   "execution_count": null,
   "metadata": {
    "colab": {
     "base_uri": "https://localhost:8080/"
    },
    "id": "-e3K7nAPcQzQ",
    "outputId": "32bae013-4db4-4947-ab47-e7908a156bf6"
   },
   "outputs": [
    {
     "name": "stdout",
     "output_type": "stream",
     "text": [
      "Epoch 1/20\n",
      "26/26 [==============================] - 0s 13ms/step - loss: 0.4171 - accuracy: 0.8329 - auc_1: 0.8868 - val_loss: 0.3708 - val_accuracy: 0.8317 - val_auc_1: 0.9144\n",
      "Epoch 2/20\n",
      "26/26 [==============================] - 0s 4ms/step - loss: 0.4137 - accuracy: 0.8365 - auc_1: 0.8878 - val_loss: 0.3676 - val_accuracy: 0.8317 - val_auc_1: 0.9152\n",
      "Epoch 3/20\n",
      "26/26 [==============================] - 0s 4ms/step - loss: 0.4105 - accuracy: 0.8389 - auc_1: 0.8894 - val_loss: 0.3648 - val_accuracy: 0.8365 - val_auc_1: 0.9161\n",
      "Epoch 4/20\n",
      "26/26 [==============================] - 0s 5ms/step - loss: 0.4075 - accuracy: 0.8413 - auc_1: 0.8911 - val_loss: 0.3621 - val_accuracy: 0.8462 - val_auc_1: 0.9172\n",
      "Epoch 5/20\n",
      "26/26 [==============================] - 0s 5ms/step - loss: 0.4047 - accuracy: 0.8438 - auc_1: 0.8925 - val_loss: 0.3596 - val_accuracy: 0.8510 - val_auc_1: 0.9181\n",
      "Epoch 6/20\n",
      "26/26 [==============================] - 0s 4ms/step - loss: 0.4021 - accuracy: 0.8450 - auc_1: 0.8940 - val_loss: 0.3573 - val_accuracy: 0.8510 - val_auc_1: 0.9187\n",
      "Epoch 7/20\n",
      "26/26 [==============================] - 0s 4ms/step - loss: 0.3997 - accuracy: 0.8450 - auc_1: 0.8952 - val_loss: 0.3551 - val_accuracy: 0.8510 - val_auc_1: 0.9188\n",
      "Epoch 8/20\n",
      "26/26 [==============================] - 0s 4ms/step - loss: 0.3973 - accuracy: 0.8450 - auc_1: 0.8965 - val_loss: 0.3531 - val_accuracy: 0.8510 - val_auc_1: 0.9200\n",
      "Epoch 9/20\n",
      "26/26 [==============================] - 0s 5ms/step - loss: 0.3951 - accuracy: 0.8425 - auc_1: 0.8976 - val_loss: 0.3512 - val_accuracy: 0.8510 - val_auc_1: 0.9212\n",
      "Epoch 10/20\n",
      "26/26 [==============================] - 0s 4ms/step - loss: 0.3930 - accuracy: 0.8450 - auc_1: 0.8984 - val_loss: 0.3494 - val_accuracy: 0.8510 - val_auc_1: 0.9212\n",
      "Epoch 11/20\n",
      "26/26 [==============================] - 0s 5ms/step - loss: 0.3911 - accuracy: 0.8438 - auc_1: 0.8995 - val_loss: 0.3477 - val_accuracy: 0.8606 - val_auc_1: 0.9218\n",
      "Epoch 12/20\n",
      "26/26 [==============================] - 0s 4ms/step - loss: 0.3890 - accuracy: 0.8450 - auc_1: 0.9006 - val_loss: 0.3462 - val_accuracy: 0.8606 - val_auc_1: 0.9228\n",
      "Epoch 13/20\n",
      "26/26 [==============================] - 0s 4ms/step - loss: 0.3871 - accuracy: 0.8462 - auc_1: 0.9013 - val_loss: 0.3447 - val_accuracy: 0.8654 - val_auc_1: 0.9233\n",
      "Epoch 14/20\n",
      "26/26 [==============================] - 0s 4ms/step - loss: 0.3853 - accuracy: 0.8438 - auc_1: 0.9022 - val_loss: 0.3434 - val_accuracy: 0.8702 - val_auc_1: 0.9242\n",
      "Epoch 15/20\n",
      "26/26 [==============================] - 0s 4ms/step - loss: 0.3836 - accuracy: 0.8438 - auc_1: 0.9031 - val_loss: 0.3421 - val_accuracy: 0.8702 - val_auc_1: 0.9247\n",
      "Epoch 16/20\n",
      "26/26 [==============================] - 0s 4ms/step - loss: 0.3819 - accuracy: 0.8438 - auc_1: 0.9042 - val_loss: 0.3408 - val_accuracy: 0.8702 - val_auc_1: 0.9254\n",
      "Epoch 17/20\n",
      "26/26 [==============================] - 0s 4ms/step - loss: 0.3803 - accuracy: 0.8413 - auc_1: 0.9048 - val_loss: 0.3396 - val_accuracy: 0.8702 - val_auc_1: 0.9254\n",
      "Epoch 18/20\n",
      "26/26 [==============================] - 0s 4ms/step - loss: 0.3787 - accuracy: 0.8413 - auc_1: 0.9058 - val_loss: 0.3385 - val_accuracy: 0.8702 - val_auc_1: 0.9259\n",
      "Epoch 19/20\n",
      "26/26 [==============================] - 0s 4ms/step - loss: 0.3772 - accuracy: 0.8425 - auc_1: 0.9064 - val_loss: 0.3375 - val_accuracy: 0.8702 - val_auc_1: 0.9263\n",
      "Epoch 20/20\n",
      "26/26 [==============================] - 0s 4ms/step - loss: 0.3757 - accuracy: 0.8425 - auc_1: 0.9068 - val_loss: 0.3366 - val_accuracy: 0.8702 - val_auc_1: 0.9268\n"
     ]
    }
   ],
   "source": [
    "my_model.compile(\n",
    "    loss=\"binary_crossentropy\",\n",
    "    optimizer=\"SGD\",\n",
    "    metrics=[\"accuracy\", tf.keras.metrics.AUC()],\n",
    ")\n",
    "\n",
    "training_phase = my_model.fit(\n",
    "    X_train_pp_2,\n",
    "    y_train_2,\n",
    "    epochs=EPOCHS,\n",
    "    batch_size=BATCH_SIZE,\n",
    "    validation_split=VAL_SIZE,\n",
    "    verbose=1,\n",
    ")"
   ]
  },
  {
   "cell_type": "code",
   "execution_count": null,
   "metadata": {
    "colab": {
     "base_uri": "https://localhost:8080/",
     "height": 549
    },
    "id": "FxkbjpE6pgz9",
    "outputId": "ad393937-f2b7-459a-d0f4-0fb083a52a65"
   },
   "outputs": [
    {
     "name": "stdout",
     "output_type": "stream",
     "text": [
      "loss\n"
     ]
    },
    {
     "data": {
      "image/png": "[encoded data removed]",
      "text/plain": [
       "<Figure size 432x288 with 1 Axes>"
      ]
     },
     "metadata": {
      "needs_background": "light",
      "tags": []
     },
     "output_type": "display_data"
    },
    {
     "name": "stdout",
     "output_type": "stream",
     "text": [
      "Accuracy\n"
     ]
    },
    {
     "data": {
      "image/png": "[encoded data removed]",
      "text/plain": [
       "<Figure size 432x288 with 1 Axes>"
      ]
     },
     "metadata": {
      "needs_background": "light",
      "tags": []
     },
     "output_type": "display_data"
    }
   ],
   "source": [
    "# plot training history\n",
    "print(\"loss\")\n",
    "plt.plot(training_phase.history[\"loss\"], label=\"train\")\n",
    "plt.plot(training_phase.history[\"val_loss\"], label=\"validation\")\n",
    "plt.legend()\n",
    "plt.show()\n",
    "print(\"Accuracy\")\n",
    "plt.plot(training_phase.history[\"accuracy\"], label=\"train\")\n",
    "plt.plot(training_phase.history[\"val_accuracy\"], label=\"validation\")\n",
    "plt.legend()\n",
    "plt.show()"
   ]
  },
  {
   "cell_type": "code",
   "execution_count": null,
   "metadata": {
    "colab": {
     "base_uri": "https://localhost:8080/"
    },
    "id": "ASgVXUpvqRoS",
    "outputId": "fa3494cd-bc51-4ef0-bb8a-3f76ec01f8b0"
   },
   "outputs": [
    {
     "name": "stdout",
     "output_type": "stream",
     "text": [
      "[0, 1, 0, 1, 1, 1, 0, 0, 0, 0, 0, 0, 0, 0, 0, 0, 1, 0, 1, 1, 1, 0, 1, 1, 0, 0, 0, 1, 1, 1, 1, 1, 1, 0, 0, 0, 1, 0, 0, 1, 1, 1, 0, 1, 1, 1, 0, 0, 0, 0, 1, 0, 0, 0, 1, 1, 1, 1, 1, 0, 1, 1, 0, 0, 0, 0, 0, 0, 1, 0, 0, 1, 1, 0, 0, 0, 1, 0, 0, 1, 0, 1, 0, 0, 0, 0, 1, 1, 0, 0, 0, 1, 0, 0, 0, 1, 0, 0, 0, 0, 0, 0, 1, 0, 0, 0, 0, 1, 0, 0, 1, 0, 0, 1, 0, 0, 0, 1, 1, 0, 0, 1, 0, 1, 1, 1, 1, 1, 1, 0, 0, 1, 0, 1, 1, 0, 0, 0, 0, 1, 0, 1, 0, 1, 1, 1, 0, 0, 0, 0, 1, 0, 0, 1, 0, 1, 0, 0, 0, 0, 0, 0, 0, 0, 0, 0, 0, 0, 1, 1, 0, 0, 0, 0, 0, 1, 0, 1, 1, 0, 1, 0, 1, 1, 1, 0, 1, 1, 0, 0, 0, 1, 1, 0, 0, 0, 1, 0, 0, 1, 0, 0, 0, 1, 0, 0, 1, 1, 1, 1, 0, 1, 0, 1, 1, 1, 0, 1, 1, 1, 1, 1, 0, 0, 1, 0, 1, 0, 0, 0, 0, 1, 1, 1, 0, 1, 0, 0, 1, 1, 0, 0, 0, 1, 0, 0, 0, 1, 0, 0, 0, 1, 0, 0, 0, 0, 0, 0, 0, 0, 1, 0, 0, 0, 0, 1, 1, 0, 0, 1, 1, 0, 0, 0, 0, 1, 0, 1, 0, 1, 1, 0, 1, 0, 1, 1, 1, 0, 0, 0, 0, 0, 1, 0, 0, 0, 1, 0, 0, 0, 1, 0, 1, 0, 0, 0, 0, 0, 1, 1, 1, 1, 1, 0, 1, 0, 1, 0, 1, 0, 0, 0, 1, 0, 0, 1, 1, 1, 1, 1, 0, 1, 1, 1, 1, 0, 0, 1, 1, 0, 0, 0, 0, 0, 0, 1, 1, 1, 1, 0, 1, 0, 0, 0, 1, 0, 1, 0, 1, 0, 1, 0, 1, 0, 0, 0, 1, 1, 0, 1, 0, 0, 0, 0, 0, 0, 0, 0, 0, 0, 0, 0, 1, 0, 0, 0, 1, 0, 1, 1, 0, 0, 1, 0, 0, 1, 0, 1, 1, 0, 0, 0, 0, 0, 0, 0, 0, 0, 0, 1, 0, 0, 0, 1, 0, 0, 0, 0, 0, 0, 0, 0, 1, 1, 0, 0, 1, 0, 0, 1, 0, 0, 0, 0, 0, 0, 1, 1, 0, 1, 0, 0, 0, 1, 0, 0, 0, 0, 0, 0, 1, 0, 1, 1, 0, 0, 0, 1, 0, 0, 0, 0, 0, 1, 0, 0, 0, 0, 1, 0, 0, 0, 1, 0, 0, 1, 1, 0, 1, 0, 0, 0, 1, 0, 1, 0, 1, 0, 0, 1, 1, 0, 0, 1, 0, 1, 0, 0, 1, 0, 0, 1, 0, 0, 1, 0, 1, 0, 0, 0, 1, 1, 1, 1, 1, 1, 1, 1, 0, 1, 0, 1, 0, 0, 1, 0, 0, 0, 1, 0, 0, 0, 0, 1, 0, 0, 0, 0, 1, 1, 1, 0, 1, 1, 0, 0, 1, 0, 0, 1, 0, 0, 0, 1, 1, 1, 1, 0, 0, 0, 0, 0, 0, 0, 1, 0, 1, 0, 0, 1, 1, 0, 1, 0, 0, 0, 0, 0, 0, 1, 1, 1, 1, 0, 0, 0, 1, 1, 1, 0, 0, 0, 0, 0, 0, 0, 0, 0, 0, 0, 1, 1, 0, 0, 0, 1, 0, 0, 1, 1, 0, 1, 0, 1, 1, 0, 0, 0, 1, 0, 0, 0, 0, 0, 1, 0, 0, 0, 0, 0, 0, 0, 0, 0, 0, 1, 1, 0, 0, 0, 1, 0, 0, 1, 0, 1, 0, 0, 1, 0, 0, 1, 1, 0, 0, 0, 0, 0, 0, 0, 1, 0, 0, 0, 0, 1, 0, 1, 0, 0, 1, 0, 1, 0, 1, 1, 0, 0, 1, 0, 0, 0, 1, 0, 0, 0, 0, 0, 0, 1, 0, 1, 0, 1, 0, 0, 1, 1, 1, 1, 1, 0, 1, 1, 0, 0, 0, 1, 1, 1, 0, 0, 0, 0, 0, 1, 1, 0, 0, 1, 1, 0, 1, 0, 1, 0, 1, 0, 0, 1, 0, 1, 0, 1, 0, 0, 0, 1, 0, 0, 1, 1, 1, 1, 1, 1, 0, 0, 1, 0, 0, 1, 0, 0, 0, 1, 1, 1, 1, 0, 0, 0, 0, 0, 0, 0, 1, 0, 0, 0, 0, 0, 0, 1, 0, 1, 0, 0, 1, 0, 1, 1, 0, 1, 0, 1, 0, 0, 0, 0, 0, 0, 1, 0, 0, 0, 0, 0, 1, 0, 0, 0, 0, 1, 1, 0, 0, 0, 0, 1, 1, 0, 0, 0, 0, 0, 0, 1, 0, 0, 0, 1, 0, 1, 1, 1, 0, 0, 1, 1, 0, 0, 0, 0, 0, 1, 1, 0, 1, 0, 0, 0, 0, 1, 1, 1, 1, 0, 0, 1, 0, 0, 1, 1, 0, 1, 0, 1, 1, 1, 0, 0, 1, 0, 0, 1, 1, 0, 1, 1, 1, 0, 0, 0, 0, 0, 0, 0, 1, 1, 1, 0, 1, 0, 0, 0, 0, 0, 0, 0, 1, 0, 1, 1, 1, 1, 0, 1, 0, 1, 0, 0, 0, 0, 0, 0, 1, 1, 1, 1, 0, 1, 1, 0, 0, 1, 0, 0, 0, 0, 0, 0, 1, 0, 0, 0, 1, 0, 1, 0, 0, 1, 0, 0, 0, 0, 0, 0, 0, 1, 0, 1, 1, 0, 0, 1, 1, 0, 0, 0, 0, 0, 0, 0, 1, 0, 0, 1, 1, 0, 0, 1, 0, 1, 1, 0, 0, 0, 0, 0, 0, 1, 1, 1, 0, 0, 1, 0, 1, 0, 1, 0, 0, 1, 0, 1, 0, 0, 0, 0, 0, 1, 1, 0, 0, 0, 0, 0, 1, 0, 0, 0, 0, 0, 1, 1, 0, 0, 0, 0, 0, 0, 1, 0, 1, 0, 1, 0, 1, 1, 1, 0, 0, 0, 1, 0, 0, 0, 0, 1, 0, 0, 0, 0, 0, 0, 1, 1, 0, 1]\n",
      "[[569  76]\n",
      " [ 80 315]]\n",
      "Classification Report:\n",
      "              precision    recall  f1-score   support\n",
      "\n",
      "           0       0.88      0.88      0.88       645\n",
      "           1       0.81      0.80      0.80       395\n",
      "\n",
      "    accuracy                           0.85      1040\n",
      "   macro avg       0.84      0.84      0.84      1040\n",
      "weighted avg       0.85      0.85      0.85      1040\n",
      "\n"
     ]
    }
   ],
   "source": [
    "# Performance on the training set\n",
    "y_pred_2 = my_model.predict(X_test_pp_2)\n",
    "y_predicted_2 = np.round(y_pred_2).astype(int)\n",
    "y_predicted_2 = np.squeeze(y_predicted_2)\n",
    "print(y_predicted_2.tolist())\n"
   ]
  },
  {
   "cell_type": "code",
   "execution_count": null,
   "metadata": {
    "id": "Ex28b1eCwch-"
   },
   "outputs": [],
   "source": [
    "print(confusion_matrix(y_test_2, y_predicted_2))\n",
    "\n",
    "print(\"Classification Report:\")\n",
    "print(classification_report(y_test_2, y_predicted_2))\n"
   ]
  },
  {
   "cell_type": "code",
   "execution_count": null,
   "metadata": {
    "colab": {
     "base_uri": "https://localhost:8080/"
    },
    "id": "DmlQUqf7v9Kq",
    "outputId": "fa3494cd-bc51-4ef0-bb8a-3f76ec01f8b0"
   },
   "outputs": [
    {
     "name": "stdout",
     "output_type": "stream",
     "text": [
      "[0, 1, 0, 1, 1, 1, 0, 0, 0, 0, 0, 0, 0, 0, 0, 0, 1, 0, 1, 1, 1, 0, 1, 1, 0, 0, 0, 1, 1, 1, 1, 1, 1, 0, 0, 0, 1, 0, 0, 1, 1, 1, 0, 1, 1, 1, 0, 0, 0, 0, 1, 0, 0, 0, 1, 1, 1, 1, 1, 0, 1, 1, 0, 0, 0, 0, 0, 0, 1, 0, 0, 1, 1, 0, 0, 0, 1, 0, 0, 1, 0, 1, 0, 0, 0, 0, 1, 1, 0, 0, 0, 1, 0, 0, 0, 1, 0, 0, 0, 0, 0, 0, 1, 0, 0, 0, 0, 1, 0, 0, 1, 0, 0, 1, 0, 0, 0, 1, 1, 0, 0, 1, 0, 1, 1, 1, 1, 1, 1, 0, 0, 1, 0, 1, 1, 0, 0, 0, 0, 1, 0, 1, 0, 1, 1, 1, 0, 0, 0, 0, 1, 0, 0, 1, 0, 1, 0, 0, 0, 0, 0, 0, 0, 0, 0, 0, 0, 0, 1, 1, 0, 0, 0, 0, 0, 1, 0, 1, 1, 0, 1, 0, 1, 1, 1, 0, 1, 1, 0, 0, 0, 1, 1, 0, 0, 0, 1, 0, 0, 1, 0, 0, 0, 1, 0, 0, 1, 1, 1, 1, 0, 1, 0, 1, 1, 1, 0, 1, 1, 1, 1, 1, 0, 0, 1, 0, 1, 0, 0, 0, 0, 1, 1, 1, 0, 1, 0, 0, 1, 1, 0, 0, 0, 1, 0, 0, 0, 1, 0, 0, 0, 1, 0, 0, 0, 0, 0, 0, 0, 0, 1, 0, 0, 0, 0, 1, 1, 0, 0, 1, 1, 0, 0, 0, 0, 1, 0, 1, 0, 1, 1, 0, 1, 0, 1, 1, 1, 0, 0, 0, 0, 0, 1, 0, 0, 0, 1, 0, 0, 0, 1, 0, 1, 0, 0, 0, 0, 0, 1, 1, 1, 1, 1, 0, 1, 0, 1, 0, 1, 0, 0, 0, 1, 0, 0, 1, 1, 1, 1, 1, 0, 1, 1, 1, 1, 0, 0, 1, 1, 0, 0, 0, 0, 0, 0, 1, 1, 1, 1, 0, 1, 0, 0, 0, 1, 0, 1, 0, 1, 0, 1, 0, 1, 0, 0, 0, 1, 1, 0, 1, 0, 0, 0, 0, 0, 0, 0, 0, 0, 0, 0, 0, 1, 0, 0, 0, 1, 0, 1, 1, 0, 0, 1, 0, 0, 1, 0, 1, 1, 0, 0, 0, 0, 0, 0, 0, 0, 0, 0, 1, 0, 0, 0, 1, 0, 0, 0, 0, 0, 0, 0, 0, 1, 1, 0, 0, 1, 0, 0, 1, 0, 0, 0, 0, 0, 0, 1, 1, 0, 1, 0, 0, 0, 1, 0, 0, 0, 0, 0, 0, 1, 0, 1, 1, 0, 0, 0, 1, 0, 0, 0, 0, 0, 1, 0, 0, 0, 0, 1, 0, 0, 0, 1, 0, 0, 1, 1, 0, 1, 0, 0, 0, 1, 0, 1, 0, 1, 0, 0, 1, 1, 0, 0, 1, 0, 1, 0, 0, 1, 0, 0, 1, 0, 0, 1, 0, 1, 0, 0, 0, 1, 1, 1, 1, 1, 1, 1, 1, 0, 1, 0, 1, 0, 0, 1, 0, 0, 0, 1, 0, 0, 0, 0, 1, 0, 0, 0, 0, 1, 1, 1, 0, 1, 1, 0, 0, 1, 0, 0, 1, 0, 0, 0, 1, 1, 1, 1, 0, 0, 0, 0, 0, 0, 0, 1, 0, 1, 0, 0, 1, 1, 0, 1, 0, 0, 0, 0, 0, 0, 1, 1, 1, 1, 0, 0, 0, 1, 1, 1, 0, 0, 0, 0, 0, 0, 0, 0, 0, 0, 0, 1, 1, 0, 0, 0, 1, 0, 0, 1, 1, 0, 1, 0, 1, 1, 0, 0, 0, 1, 0, 0, 0, 0, 0, 1, 0, 0, 0, 0, 0, 0, 0, 0, 0, 0, 1, 1, 0, 0, 0, 1, 0, 0, 1, 0, 1, 0, 0, 1, 0, 0, 1, 1, 0, 0, 0, 0, 0, 0, 0, 1, 0, 0, 0, 0, 1, 0, 1, 0, 0, 1, 0, 1, 0, 1, 1, 0, 0, 1, 0, 0, 0, 1, 0, 0, 0, 0, 0, 0, 1, 0, 1, 0, 1, 0, 0, 1, 1, 1, 1, 1, 0, 1, 1, 0, 0, 0, 1, 1, 1, 0, 0, 0, 0, 0, 1, 1, 0, 0, 1, 1, 0, 1, 0, 1, 0, 1, 0, 0, 1, 0, 1, 0, 1, 0, 0, 0, 1, 0, 0, 1, 1, 1, 1, 1, 1, 0, 0, 1, 0, 0, 1, 0, 0, 0, 1, 1, 1, 1, 0, 0, 0, 0, 0, 0, 0, 1, 0, 0, 0, 0, 0, 0, 1, 0, 1, 0, 0, 1, 0, 1, 1, 0, 1, 0, 1, 0, 0, 0, 0, 0, 0, 1, 0, 0, 0, 0, 0, 1, 0, 0, 0, 0, 1, 1, 0, 0, 0, 0, 1, 1, 0, 0, 0, 0, 0, 0, 1, 0, 0, 0, 1, 0, 1, 1, 1, 0, 0, 1, 1, 0, 0, 0, 0, 0, 1, 1, 0, 1, 0, 0, 0, 0, 1, 1, 1, 1, 0, 0, 1, 0, 0, 1, 1, 0, 1, 0, 1, 1, 1, 0, 0, 1, 0, 0, 1, 1, 0, 1, 1, 1, 0, 0, 0, 0, 0, 0, 0, 1, 1, 1, 0, 1, 0, 0, 0, 0, 0, 0, 0, 1, 0, 1, 1, 1, 1, 0, 1, 0, 1, 0, 0, 0, 0, 0, 0, 1, 1, 1, 1, 0, 1, 1, 0, 0, 1, 0, 0, 0, 0, 0, 0, 1, 0, 0, 0, 1, 0, 1, 0, 0, 1, 0, 0, 0, 0, 0, 0, 0, 1, 0, 1, 1, 0, 0, 1, 1, 0, 0, 0, 0, 0, 0, 0, 1, 0, 0, 1, 1, 0, 0, 1, 0, 1, 1, 0, 0, 0, 0, 0, 0, 1, 1, 1, 0, 0, 1, 0, 1, 0, 1, 0, 0, 1, 0, 1, 0, 0, 0, 0, 0, 1, 1, 0, 0, 0, 0, 0, 1, 0, 0, 0, 0, 0, 1, 1, 0, 0, 0, 0, 0, 0, 1, 0, 1, 0, 1, 0, 1, 1, 1, 0, 0, 0, 1, 0, 0, 0, 0, 1, 0, 0, 0, 0, 0, 0, 1, 1, 0, 1]\n",
      "[[569  76]\n",
      " [ 80 315]]\n",
      "Classification Report:\n",
      "              precision    recall  f1-score   support\n",
      "\n",
      "           0       0.88      0.88      0.88       645\n",
      "           1       0.81      0.80      0.80       395\n",
      "\n",
      "    accuracy                           0.85      1040\n",
      "   macro avg       0.84      0.84      0.84      1040\n",
      "weighted avg       0.85      0.85      0.85      1040\n",
      "\n"
     ]
    }
   ],
   "source": [
    "# Performance on the training set\n",
    "y_pred_2 = my_model.predict(X_train_pp_2)\n",
    "y_predicted_2 = np.round(y_pred_2).astype(int)\n",
    "y_predicted_2 = np.squeeze(y_predicted_2)\n",
    "#print(y_predicted_2.tolist())\n",
    "print(confusion_matrix(y_train_2, y_predicted_2))\n",
    "\n",
    "print(\"Classification Report:\")\n",
    "print(classification_report(y_train_2, y_predicted_2))"
   ]
  },
  {
   "cell_type": "code",
   "execution_count": null,
   "metadata": {
    "colab": {
     "base_uri": "https://localhost:8080/",
     "height": 376
    },
    "id": "AkMPTgY4cQzc",
    "outputId": "cd07e54c-0e42-4d8c-f9df-1e8df344f52a"
   },
   "outputs": [
    {
     "name": "stdout",
     "output_type": "stream",
     "text": [
      "NN Submission: User defined NN evaluated with test set\n"
     ]
    }
   ],
   "source": [
    "# generate a submission file\n",
    "generateSubmission(\n",
    "    model=my_model,\n",
    "    submissionFile=\"second_NN.csv\",\n",
    "    submissionDescription=DEFAULT_DESCRIPTION\n",
    "    + \"User defined NN evaluated with test set\",\n",
    "    preprocessor=preprocessor,\n",
    ")"
   ]
  },
  {
   "cell_type": "markdown",
   "metadata": {
    "id": "TgGDn8RhcQze"
   },
   "source": [
    "### Or you can consider different models using cross validation"
   ]
  },
  {
   "cell_type": "code",
   "execution_count": null,
   "metadata": {
    "id": "ptbV0Cja6Wnq"
   },
   "outputs": [],
   "source": [
    "keras_model_classifier = tf.keras.wrappers.scikit_learn.KerasClassifier(\n",
    "    build_fn=build_keras_model,\n",
    "    input_shape=(13,),\n",
    "    hidden_units=(6, 4),\n",
    "    hidden_activation=\"relu\",\n",
    "    epochs=EPOCHS,\n",
    "    batch_size=BATCH_SIZE,\n",
    "    validation_split=VAL_SIZE,\n",
    "    verbose=1,\n",
    ")"
   ]
  },
  {
   "cell_type": "code",
   "execution_count": null,
   "metadata": {
    "colab": {
     "base_uri": "https://localhost:8080/",
     "height": 484
    },
    "id": "bnT5kDd1cQzg",
    "outputId": "e80dd2b5-3c01-4b7d-f242-2d4be8dee2b7",
    "tags": []
   },
   "outputs": [
    {
     "name": "stdout",
     "output_type": "stream",
     "text": [
      "Epoch 1/20\n"
     ]
    },
    {
     "name": "stderr",
     "output_type": "stream",
     "text": [
      "[Parallel(n_jobs=1)]: Using backend SequentialBackend with 1 concurrent workers.\n"
     ]
    },
    {
     "name": "stdout",
     "output_type": "stream",
     "text": [
      "22/22 [==============================] - 0s 14ms/step - loss: 0.6088 - accuracy: 0.6753 - auc_2: 0.7151 - val_loss: 0.5132 - val_accuracy: 0.8046 - val_auc_2: 0.7989\n",
      "Epoch 2/20\n",
      "22/22 [==============================] - 0s 5ms/step - loss: 0.5830 - accuracy: 0.6970 - auc_2: 0.7477 - val_loss: 0.4935 - val_accuracy: 0.8391 - val_auc_2: 0.8227\n",
      "Epoch 3/20\n",
      "22/22 [==============================] - 0s 5ms/step - loss: 0.5621 - accuracy: 0.7128 - auc_2: 0.7707 - val_loss: 0.4781 - val_accuracy: 0.8506 - val_auc_2: 0.8324\n",
      "Epoch 4/20\n",
      "22/22 [==============================] - 0s 5ms/step - loss: 0.5456 - accuracy: 0.7359 - auc_2: 0.7875 - val_loss: 0.4658 - val_accuracy: 0.8563 - val_auc_2: 0.8385\n",
      "Epoch 5/20\n",
      "22/22 [==============================] - 0s 5ms/step - loss: 0.5317 - accuracy: 0.7518 - auc_2: 0.8005 - val_loss: 0.4559 - val_accuracy: 0.8736 - val_auc_2: 0.8429\n",
      "Epoch 6/20\n",
      "22/22 [==============================] - 0s 5ms/step - loss: 0.5201 - accuracy: 0.7619 - auc_2: 0.8112 - val_loss: 0.4468 - val_accuracy: 0.8736 - val_auc_2: 0.8466\n",
      "Epoch 7/20\n",
      "22/22 [==============================] - 0s 5ms/step - loss: 0.5105 - accuracy: 0.7706 - auc_2: 0.8186 - val_loss: 0.4396 - val_accuracy: 0.8678 - val_auc_2: 0.8498\n",
      "Epoch 8/20\n",
      "22/22 [==============================] - 0s 5ms/step - loss: 0.5022 - accuracy: 0.7778 - auc_2: 0.8247 - val_loss: 0.4335 - val_accuracy: 0.8678 - val_auc_2: 0.8535\n",
      "Epoch 9/20\n",
      "22/22 [==============================] - 0s 5ms/step - loss: 0.4944 - accuracy: 0.7835 - auc_2: 0.8305 - val_loss: 0.4280 - val_accuracy: 0.8678 - val_auc_2: 0.8543\n",
      "Epoch 10/20\n",
      "22/22 [==============================] - 0s 5ms/step - loss: 0.4877 - accuracy: 0.7835 - auc_2: 0.8353 - val_loss: 0.4233 - val_accuracy: 0.8678 - val_auc_2: 0.8547\n",
      "Epoch 11/20\n",
      "22/22 [==============================] - 0s 5ms/step - loss: 0.4819 - accuracy: 0.7864 - auc_2: 0.8400 - val_loss: 0.4199 - val_accuracy: 0.8678 - val_auc_2: 0.8558\n",
      "Epoch 12/20\n",
      "22/22 [==============================] - 0s 5ms/step - loss: 0.4765 - accuracy: 0.7864 - auc_2: 0.8442 - val_loss: 0.4167 - val_accuracy: 0.8678 - val_auc_2: 0.8554\n",
      "Epoch 13/20\n",
      "22/22 [==============================] - 0s 5ms/step - loss: 0.4717 - accuracy: 0.7893 - auc_2: 0.8473 - val_loss: 0.4136 - val_accuracy: 0.8678 - val_auc_2: 0.8549\n",
      "Epoch 14/20\n",
      "22/22 [==============================] - 0s 5ms/step - loss: 0.4671 - accuracy: 0.7908 - auc_2: 0.8508 - val_loss: 0.4108 - val_accuracy: 0.8678 - val_auc_2: 0.8576\n",
      "Epoch 15/20\n",
      "22/22 [==============================] - 0s 5ms/step - loss: 0.4628 - accuracy: 0.7951 - auc_2: 0.8539 - val_loss: 0.4076 - val_accuracy: 0.8736 - val_auc_2: 0.8583\n",
      "Epoch 16/20\n",
      "22/22 [==============================] - 0s 5ms/step - loss: 0.4588 - accuracy: 0.7951 - auc_2: 0.8566 - val_loss: 0.4051 - val_accuracy: 0.8793 - val_auc_2: 0.8599\n",
      "Epoch 17/20\n",
      "22/22 [==============================] - 0s 5ms/step - loss: 0.4551 - accuracy: 0.7965 - auc_2: 0.8592 - val_loss: 0.4025 - val_accuracy: 0.8851 - val_auc_2: 0.8612\n",
      "Epoch 18/20\n",
      "22/22 [==============================] - 0s 5ms/step - loss: 0.4517 - accuracy: 0.7980 - auc_2: 0.8616 - val_loss: 0.4004 - val_accuracy: 0.8908 - val_auc_2: 0.8623\n",
      "Epoch 19/20\n",
      "22/22 [==============================] - 0s 5ms/step - loss: 0.4485 - accuracy: 0.7994 - auc_2: 0.8637 - val_loss: 0.3982 - val_accuracy: 0.8908 - val_auc_2: 0.8630\n",
      "Epoch 20/20\n",
      "22/22 [==============================] - 0s 5ms/step - loss: 0.4456 - accuracy: 0.7994 - auc_2: 0.8655 - val_loss: 0.3964 - val_accuracy: 0.8908 - val_auc_2: 0.8642\n",
      "WARNING:tensorflow:From C:\\Users\\Admin\\AppData\\Roaming\\Python\\Python37\\site-packages\\tensorflow\\python\\keras\\wrappers\\scikit_learn.py:241: Sequential.predict_classes (from tensorflow.python.keras.engine.sequential) is deprecated and will be removed after 2021-01-01.\n",
      "Instructions for updating:\n",
      "Please use instead:* `np.argmax(model.predict(x), axis=-1)`,   if your model does multi-class classification   (e.g. if it uses a `softmax` last-layer activation).* `(model.predict(x) > 0.5).astype(\"int32\")`,   if your model does binary classification   (e.g. if it uses a `sigmoid` last-layer activation).\n",
      "14/14 [==============================] - 0s 1ms/step\n",
      "Epoch 1/20\n",
      "22/22 [==============================] - 0s 16ms/step - loss: 0.7025 - accuracy: 0.4978 - auc_3: 0.6683 - val_loss: 0.7323 - val_accuracy: 0.5000 - val_auc_3: 0.6579\n",
      "Epoch 2/20\n",
      "22/22 [==============================] - 0s 5ms/step - loss: 0.6773 - accuracy: 0.5786 - auc_3: 0.6996 - val_loss: 0.6988 - val_accuracy: 0.5747 - val_auc_3: 0.6823\n",
      "Epoch 3/20\n",
      "22/22 [==============================] - 0s 5ms/step - loss: 0.6579 - accuracy: 0.6320 - auc_3: 0.7257 - val_loss: 0.6731 - val_accuracy: 0.6149 - val_auc_3: 0.7106\n",
      "Epoch 4/20\n",
      "22/22 [==============================] - 0s 5ms/step - loss: 0.6417 - accuracy: 0.6811 - auc_3: 0.7499 - val_loss: 0.6518 - val_accuracy: 0.6494 - val_auc_3: 0.7383\n",
      "Epoch 5/20\n",
      "22/22 [==============================] - 0s 5ms/step - loss: 0.6270 - accuracy: 0.7100 - auc_3: 0.7694 - val_loss: 0.6335 - val_accuracy: 0.6954 - val_auc_3: 0.7630\n",
      "Epoch 6/20\n",
      "22/22 [==============================] - 0s 5ms/step - loss: 0.6134 - accuracy: 0.7388 - auc_3: 0.7916 - val_loss: 0.6160 - val_accuracy: 0.7299 - val_auc_3: 0.7837\n",
      "Epoch 7/20\n",
      "22/22 [==============================] - 0s 5ms/step - loss: 0.5997 - accuracy: 0.7504 - auc_3: 0.8057 - val_loss: 0.5992 - val_accuracy: 0.7414 - val_auc_3: 0.8027\n",
      "Epoch 8/20\n",
      "22/22 [==============================] - 0s 4ms/step - loss: 0.5858 - accuracy: 0.7720 - auc_3: 0.8195 - val_loss: 0.5828 - val_accuracy: 0.7471 - val_auc_3: 0.8182\n",
      "Epoch 9/20\n",
      "22/22 [==============================] - 0s 5ms/step - loss: 0.5717 - accuracy: 0.7835 - auc_3: 0.8331 - val_loss: 0.5670 - val_accuracy: 0.7586 - val_auc_3: 0.8323\n",
      "Epoch 10/20\n",
      "22/22 [==============================] - 0s 5ms/step - loss: 0.5576 - accuracy: 0.8052 - auc_3: 0.8436 - val_loss: 0.5515 - val_accuracy: 0.7701 - val_auc_3: 0.8445\n",
      "Epoch 11/20\n",
      "22/22 [==============================] - 0s 5ms/step - loss: 0.5436 - accuracy: 0.8023 - auc_3: 0.8510 - val_loss: 0.5364 - val_accuracy: 0.7816 - val_auc_3: 0.8524\n",
      "Epoch 12/20\n",
      "22/22 [==============================] - 0s 5ms/step - loss: 0.5298 - accuracy: 0.8081 - auc_3: 0.8584 - val_loss: 0.5218 - val_accuracy: 0.8046 - val_auc_3: 0.8618\n",
      "Epoch 13/20\n",
      "22/22 [==============================] - 0s 4ms/step - loss: 0.5164 - accuracy: 0.8124 - auc_3: 0.8641 - val_loss: 0.5079 - val_accuracy: 0.8103 - val_auc_3: 0.8667\n",
      "Epoch 14/20\n",
      "22/22 [==============================] - 0s 5ms/step - loss: 0.5035 - accuracy: 0.8124 - auc_3: 0.8694 - val_loss: 0.4948 - val_accuracy: 0.8046 - val_auc_3: 0.8728\n",
      "Epoch 15/20\n",
      "22/22 [==============================] - 0s 5ms/step - loss: 0.4911 - accuracy: 0.8139 - auc_3: 0.8746 - val_loss: 0.4826 - val_accuracy: 0.8103 - val_auc_3: 0.8777\n",
      "Epoch 16/20\n",
      "22/22 [==============================] - 0s 5ms/step - loss: 0.4795 - accuracy: 0.8211 - auc_3: 0.8794 - val_loss: 0.4708 - val_accuracy: 0.8161 - val_auc_3: 0.8804\n",
      "Epoch 17/20\n",
      "22/22 [==============================] - 0s 4ms/step - loss: 0.4682 - accuracy: 0.8254 - auc_3: 0.8818 - val_loss: 0.4601 - val_accuracy: 0.8161 - val_auc_3: 0.8843\n",
      "Epoch 18/20\n",
      "22/22 [==============================] - 0s 4ms/step - loss: 0.4575 - accuracy: 0.8283 - auc_3: 0.8855 - val_loss: 0.4498 - val_accuracy: 0.8218 - val_auc_3: 0.8860\n",
      "Epoch 19/20\n",
      "22/22 [==============================] - 0s 5ms/step - loss: 0.4478 - accuracy: 0.8326 - auc_3: 0.8887 - val_loss: 0.4403 - val_accuracy: 0.8333 - val_auc_3: 0.8878\n",
      "Epoch 20/20\n",
      "22/22 [==============================] - 0s 5ms/step - loss: 0.4384 - accuracy: 0.8326 - auc_3: 0.8918 - val_loss: 0.4314 - val_accuracy: 0.8391 - val_auc_3: 0.8897\n",
      "14/14 [==============================] - 0s 1ms/step\n",
      "Epoch 1/20\n",
      "22/22 [==============================] - 0s 13ms/step - loss: 0.6830 - accuracy: 0.5980 - auc_4: 0.5503 - val_loss: 0.6859 - val_accuracy: 0.5632 - val_auc_4: 0.5480\n",
      "Epoch 2/20\n",
      "22/22 [==============================] - 0s 4ms/step - loss: 0.6633 - accuracy: 0.6081 - auc_4: 0.5922 - val_loss: 0.6686 - val_accuracy: 0.5632 - val_auc_4: 0.5740\n",
      "Epoch 3/20\n",
      "22/22 [==============================] - 0s 4ms/step - loss: 0.6463 - accuracy: 0.6210 - auc_4: 0.6331 - val_loss: 0.6541 - val_accuracy: 0.5747 - val_auc_4: 0.5987\n",
      "Epoch 4/20\n",
      "22/22 [==============================] - 0s 4ms/step - loss: 0.6309 - accuracy: 0.6484 - auc_4: 0.6715 - val_loss: 0.6407 - val_accuracy: 0.5977 - val_auc_4: 0.6288\n",
      "Epoch 5/20\n",
      "22/22 [==============================] - 0s 5ms/step - loss: 0.6161 - accuracy: 0.6599 - auc_4: 0.7086 - val_loss: 0.6281 - val_accuracy: 0.6149 - val_auc_4: 0.6594\n",
      "Epoch 6/20\n",
      "22/22 [==============================] - 0s 5ms/step - loss: 0.6019 - accuracy: 0.6787 - auc_4: 0.7368 - val_loss: 0.6163 - val_accuracy: 0.6437 - val_auc_4: 0.6910\n",
      "Epoch 7/20\n",
      "22/22 [==============================] - 0s 5ms/step - loss: 0.5879 - accuracy: 0.6888 - auc_4: 0.7632 - val_loss: 0.6047 - val_accuracy: 0.6609 - val_auc_4: 0.7149\n",
      "Epoch 8/20\n",
      "22/22 [==============================] - 0s 5ms/step - loss: 0.5743 - accuracy: 0.7089 - auc_4: 0.7855 - val_loss: 0.5932 - val_accuracy: 0.6839 - val_auc_4: 0.7406\n",
      "Epoch 9/20\n",
      "22/22 [==============================] - 0s 5ms/step - loss: 0.5612 - accuracy: 0.7334 - auc_4: 0.8059 - val_loss: 0.5825 - val_accuracy: 0.7299 - val_auc_4: 0.7554\n",
      "Epoch 10/20\n",
      "22/22 [==============================] - 0s 5ms/step - loss: 0.5480 - accuracy: 0.7421 - auc_4: 0.8195 - val_loss: 0.5720 - val_accuracy: 0.7241 - val_auc_4: 0.7714\n",
      "Epoch 11/20\n",
      "22/22 [==============================] - 0s 5ms/step - loss: 0.5350 - accuracy: 0.7507 - auc_4: 0.8322 - val_loss: 0.5614 - val_accuracy: 0.7184 - val_auc_4: 0.7847\n",
      "Epoch 12/20\n",
      "22/22 [==============================] - 0s 5ms/step - loss: 0.5226 - accuracy: 0.7565 - auc_4: 0.8424 - val_loss: 0.5522 - val_accuracy: 0.7299 - val_auc_4: 0.7936\n",
      "Epoch 13/20\n",
      "22/22 [==============================] - 0s 5ms/step - loss: 0.5112 - accuracy: 0.7680 - auc_4: 0.8518 - val_loss: 0.5438 - val_accuracy: 0.7299 - val_auc_4: 0.8003\n",
      "Epoch 14/20\n",
      "22/22 [==============================] - 0s 5ms/step - loss: 0.5007 - accuracy: 0.7752 - auc_4: 0.8576 - val_loss: 0.5359 - val_accuracy: 0.7414 - val_auc_4: 0.8075\n",
      "Epoch 15/20\n",
      "22/22 [==============================] - 0s 5ms/step - loss: 0.4909 - accuracy: 0.7839 - auc_4: 0.8632 - val_loss: 0.5284 - val_accuracy: 0.7471 - val_auc_4: 0.8113\n",
      "Epoch 16/20\n",
      "22/22 [==============================] - 0s 4ms/step - loss: 0.4819 - accuracy: 0.7882 - auc_4: 0.8674 - val_loss: 0.5218 - val_accuracy: 0.7644 - val_auc_4: 0.8144\n",
      "Epoch 17/20\n",
      "22/22 [==============================] - 0s 5ms/step - loss: 0.4736 - accuracy: 0.7954 - auc_4: 0.8719 - val_loss: 0.5157 - val_accuracy: 0.7759 - val_auc_4: 0.8176\n",
      "Epoch 18/20\n",
      "22/22 [==============================] - 0s 5ms/step - loss: 0.4657 - accuracy: 0.7954 - auc_4: 0.8751 - val_loss: 0.5102 - val_accuracy: 0.7759 - val_auc_4: 0.8230\n",
      "Epoch 19/20\n",
      "22/22 [==============================] - 0s 5ms/step - loss: 0.4587 - accuracy: 0.7939 - auc_4: 0.8773 - val_loss: 0.5052 - val_accuracy: 0.7874 - val_auc_4: 0.8266\n",
      "Epoch 20/20\n",
      "22/22 [==============================] - 0s 5ms/step - loss: 0.4520 - accuracy: 0.7997 - auc_4: 0.8797 - val_loss: 0.5006 - val_accuracy: 0.7874 - val_auc_4: 0.8299\n",
      "14/14 [==============================] - 0s 1ms/step\n"
     ]
    },
    {
     "name": "stderr",
     "output_type": "stream",
     "text": [
      "[Parallel(n_jobs=1)]: Done   3 out of   3 | elapsed:    9.0s finished\n",
      "C:\\Users\\Admin\\Anaconda3\\envs\\tf_gpu_env\\lib\\site-packages\\seaborn\\distributions.py:2557: FutureWarning: `distplot` is a deprecated function and will be removed in a future version. Please adapt your code to use either `displot` (a figure-level function with similar flexibility) or `histplot` (an axes-level function for histograms).\n",
      "  warnings.warn(msg, FutureWarning)\n"
     ]
    },
    {
     "data": {
      "text/plain": [
       "Text(0.5, 1.0, 'Average score: 0.8093783591064377')"
      ]
     },
     "execution_count": 38,
     "metadata": {
      "tags": []
     },
     "output_type": "execute_result"
    },
    {
     "data": {
      "image/png": "[encoded data removed]",
      "text/plain": [
       "<Figure size 432x288 with 1 Axes>"
      ]
     },
     "metadata": {
      "needs_background": "light",
      "tags": []
     },
     "output_type": "display_data"
    }
   ],
   "source": [
    "cv_scores = cross_val_score(\n",
    "    keras_model_classifier, X_train_pp, y_train, cv=3, scoring=\"accuracy\", verbose=1,\n",
    ")\n",
    "sns.distplot(cv_scores)\n",
    "plt.title(\"Average score: {}\".format(np.mean(cv_scores)))"
   ]
  },
  {
   "cell_type": "code",
   "execution_count": null,
   "metadata": {
    "colab": {
     "base_uri": "https://localhost:8080/"
    },
    "id": "LkKGF9Socueq",
    "outputId": "f96c965c-e6b2-4a23-cd82-60bc9e413cb2",
    "tags": []
   },
   "outputs": [
    {
     "name": "stdout",
     "output_type": "stream",
     "text": [
      "Epoch 1/20\n",
      "33/33 [==============================] - 0s 10ms/step - loss: 0.8166 - accuracy: 0.5990 - auc_5: 0.4303 - val_loss: 0.7466 - val_accuracy: 0.6513 - val_auc_5: 0.4051\n",
      "Epoch 2/20\n",
      "33/33 [==============================] - 0s 4ms/step - loss: 0.7345 - accuracy: 0.6038 - auc_5: 0.5233 - val_loss: 0.6915 - val_accuracy: 0.6475 - val_auc_5: 0.4896\n",
      "Epoch 3/20\n",
      "33/33 [==============================] - 0s 4ms/step - loss: 0.6867 - accuracy: 0.6250 - auc_5: 0.6003 - val_loss: 0.6556 - val_accuracy: 0.6437 - val_auc_5: 0.5557\n",
      "Epoch 4/20\n",
      "33/33 [==============================] - 0s 5ms/step - loss: 0.6542 - accuracy: 0.6433 - auc_5: 0.6566 - val_loss: 0.6286 - val_accuracy: 0.6475 - val_auc_5: 0.6072\n",
      "Epoch 5/20\n",
      "33/33 [==============================] - 0s 4ms/step - loss: 0.6298 - accuracy: 0.6606 - auc_5: 0.7005 - val_loss: 0.6062 - val_accuracy: 0.6667 - val_auc_5: 0.6534\n",
      "Epoch 6/20\n",
      "33/33 [==============================] - 0s 4ms/step - loss: 0.6103 - accuracy: 0.6740 - auc_5: 0.7350 - val_loss: 0.5870 - val_accuracy: 0.6743 - val_auc_5: 0.6893\n",
      "Epoch 7/20\n",
      "33/33 [==============================] - 0s 4ms/step - loss: 0.5935 - accuracy: 0.6865 - auc_5: 0.7615 - val_loss: 0.5701 - val_accuracy: 0.6897 - val_auc_5: 0.7223\n",
      "Epoch 8/20\n",
      "33/33 [==============================] - 0s 4ms/step - loss: 0.5788 - accuracy: 0.7038 - auc_5: 0.7833 - val_loss: 0.5549 - val_accuracy: 0.7011 - val_auc_5: 0.7486\n",
      "Epoch 9/20\n",
      "33/33 [==============================] - 0s 4ms/step - loss: 0.5655 - accuracy: 0.7163 - auc_5: 0.8005 - val_loss: 0.5407 - val_accuracy: 0.7280 - val_auc_5: 0.7708\n",
      "Epoch 10/20\n",
      "33/33 [==============================] - 0s 5ms/step - loss: 0.5533 - accuracy: 0.7269 - auc_5: 0.8150 - val_loss: 0.5276 - val_accuracy: 0.7510 - val_auc_5: 0.7904\n",
      "Epoch 11/20\n",
      "33/33 [==============================] - 0s 4ms/step - loss: 0.5422 - accuracy: 0.7404 - auc_5: 0.8258 - val_loss: 0.5160 - val_accuracy: 0.7548 - val_auc_5: 0.8044\n",
      "Epoch 12/20\n",
      "33/33 [==============================] - 0s 4ms/step - loss: 0.5321 - accuracy: 0.7510 - auc_5: 0.8362 - val_loss: 0.5057 - val_accuracy: 0.7663 - val_auc_5: 0.8142\n",
      "Epoch 13/20\n",
      "33/33 [==============================] - 0s 5ms/step - loss: 0.5226 - accuracy: 0.7625 - auc_5: 0.8436 - val_loss: 0.4962 - val_accuracy: 0.7701 - val_auc_5: 0.8236\n",
      "Epoch 14/20\n",
      "33/33 [==============================] - 0s 4ms/step - loss: 0.5138 - accuracy: 0.7808 - auc_5: 0.8507 - val_loss: 0.4874 - val_accuracy: 0.7778 - val_auc_5: 0.8341\n",
      "Epoch 15/20\n",
      "33/33 [==============================] - 0s 4ms/step - loss: 0.5055 - accuracy: 0.7923 - auc_5: 0.8579 - val_loss: 0.4795 - val_accuracy: 0.7893 - val_auc_5: 0.8418\n",
      "Epoch 16/20\n",
      "33/33 [==============================] - 0s 5ms/step - loss: 0.4978 - accuracy: 0.8019 - auc_5: 0.8636 - val_loss: 0.4727 - val_accuracy: 0.7969 - val_auc_5: 0.8470\n",
      "Epoch 17/20\n",
      "33/33 [==============================] - 0s 5ms/step - loss: 0.4908 - accuracy: 0.8058 - auc_5: 0.8682 - val_loss: 0.4663 - val_accuracy: 0.8008 - val_auc_5: 0.8538\n",
      "Epoch 18/20\n",
      "33/33 [==============================] - 0s 5ms/step - loss: 0.4841 - accuracy: 0.8096 - auc_5: 0.8725 - val_loss: 0.4608 - val_accuracy: 0.8084 - val_auc_5: 0.8579\n",
      "Epoch 19/20\n",
      "33/33 [==============================] - 0s 4ms/step - loss: 0.4781 - accuracy: 0.8125 - auc_5: 0.8763 - val_loss: 0.4553 - val_accuracy: 0.8161 - val_auc_5: 0.8618\n",
      "Epoch 20/20\n",
      "33/33 [==============================] - 0s 5ms/step - loss: 0.4719 - accuracy: 0.8212 - auc_5: 0.8788 - val_loss: 0.4504 - val_accuracy: 0.8199 - val_auc_5: 0.8643\n",
      "41/41 [==============================] - 0s 2ms/step - loss: 0.4649 - accuracy: 0.8224 - auc_5: 0.8783\n"
     ]
    },
    {
     "data": {
      "text/plain": [
       "0.8224442601203918"
      ]
     },
     "execution_count": 39,
     "metadata": {
      "tags": []
     },
     "output_type": "execute_result"
    }
   ],
   "source": [
    "keras_model_classifier.fit(X_train_pp, y_train)\n",
    "keras_model_classifier.score(X_train_pp, y_train)"
   ]
  },
  {
   "cell_type": "code",
   "execution_count": null,
   "metadata": {
    "colab": {
     "base_uri": "https://localhost:8080/",
     "height": 244
    },
    "id": "omr6K-wLcQzj",
    "outputId": "a7d8cd06-5a15-4009-b01a-39c56d4af43e"
   },
   "outputs": [
    {
     "name": "stdout",
     "output_type": "stream",
     "text": [
      "8/8 [==============================] - 0s 1ms/step\n",
      "NN Submission: User defined NN evaluated with cross validation\n"
     ]
    }
   ],
   "source": [
    "generateSubmission(\n",
    "    model=keras_model_classifier,\n",
    "    submissionFile=\"crossval_NN.csv\",\n",
    "    submissionDescription=DEFAULT_DESCRIPTION\n",
    "    + \"User defined NN evaluated with cross validation\",\n",
    "    preprocessor=preprocessor,\n",
    "    prediction_type=\"label\",\n",
    ")"
   ]
  },
  {
   "cell_type": "markdown",
   "metadata": {
    "id": "OMIeoDe5cQzk"
   },
   "source": [
    "### Parameter Tuning"
   ]
  },
  {
   "cell_type": "markdown",
   "metadata": {
    "id": "8C12hBTGcQzl"
   },
   "source": [
    "In every classification technique, there are some parameters that can be tuned to optimize the classification. Some parameters that can be tuned in the decision tree is max depth (the depth of the tree), max feature (the feature used to classify), criterion, and splitter.\n",
    "\n",
    "To search to tune parameter is to use Grid Search. Basically, it explores a range of parameters and finds the best combination of parameters. Then repeat the process several times until the best parameters are discovered. We will also use Stratified k-fold cross-validation that will prevent a certain class only split them to the same subset."
   ]
  },
  {
   "cell_type": "code",
   "execution_count": null,
   "metadata": {
    "colab": {
     "base_uri": "https://localhost:8080/"
    },
    "id": "NAbnmTtocQzn",
    "outputId": "fde781cc-b421-4bf2-ae36-ef4ec74e617b",
    "tags": []
   },
   "outputs": [
    {
     "name": "stdout",
     "output_type": "stream",
     "text": [
      "Fitting 3 folds for each of 4 candidates, totalling 12 fits\n"
     ]
    },
    {
     "data": {
      "text/plain": [
       "GridSearchCV(cv=StratifiedKFold(n_splits=3, random_state=None, shuffle=False),\n",
       "             estimator=Pipeline(steps=[('preprocessor',\n",
       "                                        ColumnTransformer(transformers=[('preproc_numeric',\n",
       "                                                                         Pipeline(steps=[('imputer',\n",
       "                                                                                          SimpleImputer(strategy='median')),\n",
       "                                                                                         ('scaler',\n",
       "                                                                                          StandardScaler())]),\n",
       "                                                                         ['age',\n",
       "                                                                          'resting_bp_s',\n",
       "                                                                          'max_heart_rate',\n",
       "                                                                          'cholesterol',\n",
       "                                                                          'pulse',\n",
       "                                                                          'oldpeak',\n",
       "                                                                          'synt']),\n",
       "                                                                        ('preproc_...\n",
       "                                        <tensorflow.python.keras.wrappers.scikit_learn.KerasClassifier object at 0x000001A0B9C11508>)]),\n",
       "             param_grid={'classifier__batch_size': [32],\n",
       "                         'classifier__epochs': [20],\n",
       "                         'classifier__hidden_activation': ['relu', 'tanh'],\n",
       "                         'classifier__hidden_units': [(13, 8), (6, 4)],\n",
       "                         'classifier__verbose': [0],\n",
       "                         'preprocessor__verbose': [False]},\n",
       "             refit='accuracy',\n",
       "             scoring={'accuracy': 'accuracy',\n",
       "                      'balanced_accuracy': 'balanced_accuracy',\n",
       "                      'f1': 'f1_macro'},\n",
       "             verbose=1)"
      ]
     },
     "execution_count": 41,
     "metadata": {
      "tags": []
     },
     "output_type": "execute_result"
    }
   ],
   "source": [
    "# Create the pipeline classifier using keras model as classifier\n",
    "clf = Pipeline(\n",
    "    steps=[(\"preprocessor\", preprocessor), (\"classifier\", keras_model_classifier),]\n",
    ")\n",
    "\n",
    "# Create the parameter grids\n",
    "parameter_grid = {\n",
    "    \"preprocessor__verbose\": [False],\n",
    "    \"classifier__hidden_units\": [(13, 8), (6, 4)],\n",
    "    \"classifier__hidden_activation\": [\"relu\", \"tanh\"],\n",
    "    \"classifier__epochs\": [20],\n",
    "    \"classifier__batch_size\": [32],\n",
    "    \"classifier__verbose\": [0],\n",
    "}\n",
    "\n",
    "# Create Stratified folds\n",
    "cross_validation = StratifiedKFold(n_splits=3)\n",
    "cross_validation.get_n_splits(X_train_pp, y_train)\n",
    "\n",
    "# Create the scoring dictionary\n",
    "SCORING = {\n",
    "    \"accuracy\": \"accuracy\",\n",
    "    \"balanced_accuracy\": \"balanced_accuracy\",\n",
    "    \"f1\": \"f1_macro\",\n",
    "}\n",
    "\n",
    "# Create and fit the GridSearchCV\n",
    "grid_search = GridSearchCV(\n",
    "    estimator=clf,\n",
    "    param_grid=parameter_grid,\n",
    "    cv=cross_validation,\n",
    "    verbose=1,\n",
    "    scoring=SCORING,\n",
    "    return_train_score=False,  # True,\n",
    "    refit=\"accuracy\",\n",
    ")\n",
    "\n",
    "# You can use X_train without manual preprocessing because preprocessor is built-in the classifier pipeline\n",
    "grid_search.fit(X_train, y_train)"
   ]
  },
  {
   "cell_type": "code",
   "execution_count": null,
   "metadata": {
    "id": "R3NhPvsCcQzo"
   },
   "outputs": [],
   "source": [
    "# grid_search.cv_results_"
   ]
  },
  {
   "cell_type": "code",
   "execution_count": null,
   "metadata": {
    "colab": {
     "base_uri": "https://localhost:8080/"
    },
    "id": "qmzMPoBDcQzq",
    "outputId": "4a749810-9d70-4ec9-ed8a-42c15e1de763"
   },
   "outputs": [
    {
     "name": "stdout",
     "output_type": "stream",
     "text": [
      "Best score: 0.8270488110315272\n",
      "Best parameters: {'classifier__batch_size': 32, 'classifier__epochs': 20, 'classifier__hidden_activation': 'tanh', 'classifier__hidden_units': (13, 8), 'classifier__verbose': 0, 'preprocessor__verbose': False}\n"
     ]
    },
    {
     "data": {
      "text/plain": [
       "Pipeline(steps=[('preprocessor',\n",
       "                 ColumnTransformer(transformers=[('preproc_numeric',\n",
       "                                                  Pipeline(steps=[('imputer',\n",
       "                                                                   SimpleImputer(strategy='median')),\n",
       "                                                                  ('scaler',\n",
       "                                                                   StandardScaler())]),\n",
       "                                                  ['age', 'resting_bp_s',\n",
       "                                                   'max_heart_rate',\n",
       "                                                   'cholesterol', 'pulse',\n",
       "                                                   'oldpeak', 'synt']),\n",
       "                                                 ('preproc_categorical',\n",
       "                                                  Pipeline(steps=[('imputer',\n",
       "                                                                   SimpleImputer(strategy='most_frequent')),\n",
       "                                                                  ('scaler',\n",
       "                                                                   StandardScaler())]),\n",
       "                                                  ['exercise_angina',\n",
       "                                                   'fasting_blood_sugar', 'sex',\n",
       "                                                   'resting_ecg', 'st_slope',\n",
       "                                                   'chest_pain_type'])])),\n",
       "                ('classifier',\n",
       "                 <tensorflow.python.keras.wrappers.scikit_learn.KerasClassifier object at 0x000001A0C7F85048>)])"
      ]
     },
     "execution_count": 43,
     "metadata": {
      "tags": []
     },
     "output_type": "execute_result"
    }
   ],
   "source": [
    "print(\"Best score: {}\".format(grid_search.best_score_))\n",
    "print(\"Best parameters: {}\".format(grid_search.best_params_))\n",
    "\n",
    "best_clf = grid_search.best_estimator_\n",
    "best_clf"
   ]
  },
  {
   "cell_type": "code",
   "execution_count": null,
   "metadata": {
    "colab": {
     "base_uri": "https://localhost:8080/"
    },
    "id": "sYHg4xQgcQzs",
    "outputId": "bf5b2304-5cd4-491a-d8d7-b19067d12bee"
   },
   "outputs": [
    {
     "data": {
      "text/plain": [
       "0.8462721109390259"
      ]
     },
     "execution_count": 44,
     "metadata": {
      "tags": []
     },
     "output_type": "execute_result"
    }
   ],
   "source": [
    "my_model = best_clf\n",
    "# my_model.fit(X_train_pp, y_train)\n",
    "my_model.score(X_train, y_train)"
   ]
  },
  {
   "cell_type": "code",
   "execution_count": null,
   "metadata": {
    "colab": {
     "base_uri": "https://localhost:8080/"
    },
    "id": "1YfuqF-ucQzu",
    "outputId": "1f9666c6-1b7e-4c3a-d699-273ed148ccc3"
   },
   "outputs": [
    {
     "name": "stdout",
     "output_type": "stream",
     "text": [
      "Confusion Matrix:\n",
      "[[704  94]\n",
      " [106 397]]\n",
      "Classification Report:\n",
      "              precision    recall  f1-score   support\n",
      "\n",
      "           0       0.87      0.88      0.88       798\n",
      "           1       0.81      0.79      0.80       503\n",
      "\n",
      "    accuracy                           0.85      1301\n",
      "   macro avg       0.84      0.84      0.84      1301\n",
      "weighted avg       0.85      0.85      0.85      1301\n",
      "\n"
     ]
    }
   ],
   "source": [
    "y_pred = my_model.predict(X_train)\n",
    "print(\"Confusion Matrix:\")\n",
    "print(confusion_matrix(y_train, y_pred))\n",
    "\n",
    "print(\"Classification Report:\")\n",
    "print(classification_report(y_train, y_pred))"
   ]
  },
  {
   "cell_type": "markdown",
   "metadata": {
    "id": "wrK4RxylcQzy"
   },
   "source": [
    "### Submit the final model"
   ]
  },
  {
   "cell_type": "code",
   "execution_count": null,
   "metadata": {
    "id": "8scvMiJicQzy",
    "outputId": "96605492-ef58-4369-8ceb-4641d9e37a21"
   },
   "outputs": [
    {
     "name": "stdout",
     "output_type": "stream",
     "text": [
      "NN Submission: User defined NN evaluated with grid search\n"
     ]
    }
   ],
   "source": [
    "# generate a submission file\n",
    "generateSubmission(\n",
    "    model=my_model,\n",
    "    submissionFile=\"gridcv_NN.csv\",\n",
    "    submissionDescription=DEFAULT_DESCRIPTION\n",
    "    + \"User defined NN evaluated with grid search\",\n",
    "    prediction_type=\"label\",\n",
    ")"
   ]
  },
  {
   "cell_type": "markdown",
   "metadata": {
    "_cell_guid": "677b20af-bc56-4db1-aac3-1010389367ba",
    "_uuid": "c5294634157ca8c52d35c999ee949023b9544ee1",
    "id": "Vl2xROUscQz1"
   },
   "source": [
    "Step by step commands...\n",
    "\n",
    "In addition to your training data, there will be test data. This is frequently stored in a file with the title `test.csv`. This data won't include a column with your target (y), because that is what we'll have to predict and submit.  Here is sample code to do that. "
   ]
  },
  {
   "cell_type": "code",
   "execution_count": null,
   "metadata": {
    "_cell_guid": "a023518d-78e0-4e58-a243-6d1fe98992b9",
    "_uuid": "7bc843ef333847d305f576489d3e2aa3afc9384d",
    "colab": {
     "base_uri": "https://localhost:8080/"
    },
    "id": "_TPmWWIUcQz1",
    "outputId": "c7e24aad-6285-499e-c033-ded1606158ca"
   },
   "outputs": [
    {
     "name": "stdout",
     "output_type": "stream",
     "text": [
      "[1, 1, 0, 1, 1, 0, 0, 1, 0, 1, 0, 1, 0, 1, 1, 0, 0, 1, 1, 0, 1, 0, 1, 0, 1, 1, 0, 0, 0, 1, 0, 1, 1, 0, 0, 1, 1, 1, 1, 1, 0, 0, 0, 0, 1, 0, 1, 1, 1, 1, 0, 0, 1, 1, 0, 1, 0, 0, 1, 1, 0, 0, 0, 0, 1, 1, 1, 0, 0, 0, 1, 1, 1, 0, 0, 0, 0, 0, 1, 1, 0, 1, 0, 1, 0, 1, 0, 0, 0, 1, 0, 1, 0, 1, 1, 0, 1, 1, 0, 1, 1, 0, 1, 1, 0, 0, 0, 0, 1, 1, 0, 1, 1, 1, 1, 0, 1, 1, 0, 1, 1, 1, 0, 0, 0, 1, 0, 1, 0, 1, 0, 0, 1, 0, 1, 1, 0, 1, 1, 0, 0, 1, 0, 1, 0, 0, 1, 1, 0, 0, 0, 1, 0, 0, 0, 1, 0, 1, 0, 1, 1, 1, 1, 0, 1, 0, 0, 1, 0, 0, 0, 1, 0, 1, 0, 0, 1, 0, 0, 1, 0, 0, 0, 0, 1, 1, 1, 1, 0, 0, 0, 0, 1, 0, 0, 1, 0, 1, 1, 1, 0, 0, 1, 0, 0, 1, 0, 0, 1, 0, 0, 0, 1, 0, 1, 1, 1, 1, 1, 1, 0, 0, 0, 0, 1, 0, 0, 0, 1, 1, 1, 0, 0, 1, 0, 0, 0, 0]\n"
     ]
    }
   ],
   "source": [
    "# Read the test data\n",
    "data = pd.read_csv(DATA_PATH + \"test.csv\")\n",
    "\n",
    "Id, X_test = data.Id, data.drop(columns=DROPCOLUMS)\n",
    "\n",
    "# Use the model to make predictions\n",
    "y_test_pred = best_clf.predict(X_test)\n",
    "y_test_pred = np.squeeze(y_test_pred)\n",
    "print(y_test_pred.tolist())"
   ]
  },
  {
   "cell_type": "markdown",
   "metadata": {
    "_cell_guid": "258e450a-d82c-4a7f-af22-cc695f74b4e3",
    "_uuid": "49e253dc359af831d8e248979b90c70dfcbef99a",
    "id": "EHZwo_p0cQz3"
   },
   "source": [
    "# Prepare Submission File\n",
    "We make submissions in CSV files.  Your submissions usually have two columns: an ID column and a prediction column.  The ID field comes from the test data (keeping whatever name the ID field had in that data, which for the housing data is the string 'Id'). The prediction column will use the name of the target field.\n",
    "\n",
    "We will create a DataFrame with this data, and then use the dataframe's `to_csv` method to write our submission file.  Explicitly include the argument `index=False` to prevent pandas from adding another column in our csv file."
   ]
  },
  {
   "cell_type": "code",
   "execution_count": null,
   "metadata": {
    "_cell_guid": "092f5aed-0de4-4295-80ee-c193c8b84edd",
    "_uuid": "da5946c5fbc32fdb537788cd6ad5da1d6d698ae6",
    "id": "YWgl8n1IcQz3"
   },
   "outputs": [],
   "source": [
    "# submission file\n",
    "my_submission = pd.DataFrame({\"Id\": Id, \"target\": y_test_pred})\n",
    "# you could use any filename. We choose submission here\n",
    "my_submission.to_csv(OUTPUT_PATH + \"submission.csv\", index=False)"
   ]
  },
  {
   "cell_type": "markdown",
   "metadata": {
    "id": "MI90OYzMcQz5"
   },
   "source": [
    "# Make Submission\n",
    "Hit the blue **Publish** button at the top of your notebook screen.  It will take some time for your kernel to run.  When it has finished your navigation bar at the top of the screen will have a tab for **Output**.  This only shows up if you have written an output file (like we did in the **Prepare Submission File** step).  \n",
    "\n",
    "Otherwise, if you have a kaggle API token (https://www.kaggle.com/docs/api#getting-started-installation-&-authentication), you can use the following command (remove the '#'):"
   ]
  },
  {
   "cell_type": "code",
   "execution_count": null,
   "metadata": {
    "id": "FOiar0c4cQz5"
   },
   "outputs": [],
   "source": [
    "#!kaggle competitions submit -c  heart-attack-analysis-and-prediction-21 -f kaggle_submissions/submission.csv -m \"Please describe the technique used\""
   ]
  },
  {
   "cell_type": "markdown",
   "metadata": {
    "_cell_guid": "ab2280a4-9c65-4810-8813-831f4dcd86e1",
    "_uuid": "97f80b7f76066fd78cdb5137757fb3c63abd0519",
    "id": "gFKeS8jBcQz7"
   },
   "source": [
    "\n",
    "# Last Steps \n",
    "Click on the Output button.  This will bring you to a screen with an option to **Submit to Competition**.  Hit that and you will see how your model performed.\n",
    "\n",
    "If you want to go back to improve your model, click the Edit button, which re-opens the kernel.  You'll need to re-run all the cells when you re-open the kernel.\n",
    "\n",
    "# Conclusion\n",
    "You've completed Level 1 of Machine Learning.  Congrats.  \n",
    "\n",
    "If you are ready to keep improving your model (and your skills), start level 2 of [Learn Machine Learning](https://www.kaggle.com/learn/machine-learning). \n",
    "\n",
    "Level 2 covers more powerful models, techniques to include non-numeric data, and more.  You can make more submissions to the competition and climb up the leaderboard as you go through the course.\n",
    "\n",
    "\n"
   ]
  }
 ],
 "metadata": {
  "colab": {
   "include_colab_link": true,
   "name": "how_to_submit_prediction_to_kaggle_in_python_with_sklearn_and_keras.ipynb",
   "provenance": [],
   "toc_visible": true
  },
  "kernelspec": {
   "display_name": "Python 3",
   "language": "python",
   "name": "python3"
  },
  "language_info": {
   "codemirror_mode": {
    "name": "ipython",
    "version": 3
   },
   "file_extension": ".py",
   "mimetype": "text/x-python",
   "name": "python",
   "nbconvert_exporter": "python",
   "pygments_lexer": "ipython3",
   "version": "3.8.12"
  },
  "toc-autonumbering": true
 },
 "nbformat": 4,
 "nbformat_minor": 1
}
