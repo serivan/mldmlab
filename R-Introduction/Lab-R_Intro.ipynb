{
 "cells": [
  {
   "cell_type": "markdown",
   "metadata": {},
   "source": [
    "---\n",
    "output: html_document\n",
    "---\n",
    "This lab on the Introduction to R comes from \"Introduction to Statistical Learning with Applications in R\" by Gareth James, Daniela Witten, Trevor Hastie and Robert Tibshirani. It was re-implemented in Fall 2016 in `tidyverse` format by Amelia McNamara and R. Jordan Crouser at Smith College.\n",
    "\n",
    "# The `tidyverse`\n",
    "\n",
    "The textbook was written using `base` `R` functions, which can be unintuitive. For our labs, we will be using the so-called 'tidyverse,' which is based on the idea of tidy data and functions. Tidy data has observations as rows and variables as columns. All the observations must be at the same observational level. Tidy functions are pure, pipeable, and predictable. We'll begin to understand all of this more fully as we start to work with data.\n",
    "\n",
    "Because the tidyverse is outside the `base` `R` functions, we must use packages (sometimes called libraries) to get the additional functionality. Packages are discussed further in Chapter 3. For now, lets just load a bunch of packages we'll need for our work."
   ]
  },
  {
   "cell_type": "code",
   "execution_count": 6,
   "metadata": {},
   "outputs": [
    {
     "name": "stderr",
     "output_type": "stream",
     "text": [
      "Installing packages into ‘/home/iserina/R/x86_64-pc-linux-gnu-library/3.5’\n",
      "(as ‘lib’ is unspecified)\n",
      "also installing the dependencies ‘ggstance’, ‘crosstalk’, ‘htmlwidgets’, ‘png’, ‘raster’, ‘viridis’, ‘ggformula’, ‘mosaicData’, ‘mosaicCore’, ‘ggrepel’, ‘latticeExtra’, ‘ggdendro’, ‘gridExtra’, ‘leaflet’\n",
      "\n"
     ]
    }
   ],
   "source": [
    "list.of.packages <- c(\"dplyr\",\"GGally\",\"ggplot2\",\"ISLR\",\"manipulate\",\"mosaic\",\"readr\")\n",
    "new.packages <- list.of.packages[!(list.of.packages %in% installed.packages()[,\"Package\"])]\n",
    "if(length(new.packages)) install.packages(new.packages)\n"
   ]
  },
  {
   "cell_type": "code",
   "execution_count": 7,
   "metadata": {},
   "outputs": [
    {
     "name": "stderr",
     "output_type": "stream",
     "text": [
      "\n",
      "Attaching package: ‘GGally’\n",
      "\n",
      "The following object is masked from ‘package:dplyr’:\n",
      "\n",
      "    nasa\n",
      "\n",
      "Loading required package: lattice\n",
      "Loading required package: ggformula\n",
      "Loading required package: ggstance\n",
      "\n",
      "Attaching package: ‘ggstance’\n",
      "\n",
      "The following objects are masked from ‘package:ggplot2’:\n",
      "\n",
      "    geom_errorbarh, GeomErrorbarh\n",
      "\n",
      "\n",
      "New to ggformula?  Try the tutorials: \n",
      "\tlearnr::run_tutorial(\"introduction\", package = \"ggformula\")\n",
      "\tlearnr::run_tutorial(\"refining\", package = \"ggformula\")\n",
      "Loading required package: mosaicData\n",
      "Loading required package: Matrix\n",
      "\n",
      "The 'mosaic' package masks several functions from core packages in order to add \n",
      "additional features.  The original behavior of these functions should not be affected by this.\n",
      "\n",
      "Note: If you use the Matrix package, be sure to load it BEFORE loading mosaic.\n",
      "\n",
      "Attaching package: ‘mosaic’\n",
      "\n",
      "The following object is masked from ‘package:Matrix’:\n",
      "\n",
      "    mean\n",
      "\n",
      "The following object is masked from ‘package:ggplot2’:\n",
      "\n",
      "    stat\n",
      "\n",
      "The following objects are masked from ‘package:dplyr’:\n",
      "\n",
      "    count, do, tally\n",
      "\n",
      "The following objects are masked from ‘package:stats’:\n",
      "\n",
      "    binom.test, cor, cor.test, cov, fivenum, IQR, median, prop.test,\n",
      "    quantile, sd, t.test, var\n",
      "\n",
      "The following objects are masked from ‘package:base’:\n",
      "\n",
      "    max, mean, min, prod, range, sample, sum\n",
      "\n"
     ]
    }
   ],
   "source": [
    "library(ISLR)\n",
    "library(dplyr)\n",
    "library(readr)\n",
    "library(ggplot2)\n",
    "library(GGally)\n",
    "library(mosaic)\n",
    "library(manipulate)"
   ]
  },
  {
   "cell_type": "markdown",
   "metadata": {},
   "source": [
    "Getting error messages? You may need to install the packages first using `install.packages()`.\n",
    "\n",
    "# Loading Data\n",
    "\n",
    "For most analyses, the first step involves importing a data set into `R`. For this class, a lot of the data comes from the package itself, so we can use the `data()` function to import it.\n",
    "\n",
    "We begin by loading in the `Auto` data set. This data is part of the `ISLR` package."
   ]
  },
  {
   "cell_type": "code",
   "execution_count": 9,
   "metadata": {},
   "outputs": [],
   "source": [
    "data(Auto)"
   ]
  },
  {
   "cell_type": "markdown",
   "metadata": {},
   "source": [
    "Nothing happens when you run this, but now the data is available in your environment. (In RStudio, you would see the name of the data in your Environment tab).\n",
    "\n",
    "To view the data, we can either print the entire dataset by typing its name, or we can \"slice\" some of the data off to look at just a subset by piping data using the `%>%` operator into the `slice` function:"
   ]
  },
  {
   "cell_type": "code",
   "execution_count": 10,
   "metadata": {},
   "outputs": [
    {
     "data": {
      "text/html": [
       "<table>\n",
       "<thead><tr><th></th><th scope=col>mpg</th><th scope=col>cylinders</th><th scope=col>displacement</th><th scope=col>horsepower</th><th scope=col>weight</th><th scope=col>acceleration</th><th scope=col>year</th><th scope=col>origin</th><th scope=col>name</th></tr></thead>\n",
       "<tbody>\n",
       "\t<tr><th scope=row>1</th><td>18                          </td><td>8                           </td><td>307                         </td><td>130                         </td><td>3504                        </td><td>12.0                        </td><td>70                          </td><td>1                           </td><td>chevrolet chevelle malibu   </td></tr>\n",
       "\t<tr><th scope=row>2</th><td>15                          </td><td>8                           </td><td>350                         </td><td>165                         </td><td>3693                        </td><td>11.5                        </td><td>70                          </td><td>1                           </td><td>buick skylark 320           </td></tr>\n",
       "\t<tr><th scope=row>3</th><td>18                          </td><td>8                           </td><td>318                         </td><td>150                         </td><td>3436                        </td><td>11.0                        </td><td>70                          </td><td>1                           </td><td>plymouth satellite          </td></tr>\n",
       "\t<tr><th scope=row>4</th><td>16                          </td><td>8                           </td><td>304                         </td><td>150                         </td><td>3433                        </td><td>12.0                        </td><td>70                          </td><td>1                           </td><td>amc rebel sst               </td></tr>\n",
       "\t<tr><th scope=row>5</th><td>17                          </td><td>8                           </td><td>302                         </td><td>140                         </td><td>3449                        </td><td>10.5                        </td><td>70                          </td><td>1                           </td><td>ford torino                 </td></tr>\n",
       "\t<tr><th scope=row>6</th><td>15                          </td><td>8                           </td><td>429                         </td><td>198                         </td><td>4341                        </td><td>10.0                        </td><td>70                          </td><td>1                           </td><td>ford galaxie 500            </td></tr>\n",
       "\t<tr><th scope=row>7</th><td>14                          </td><td>8                           </td><td>454                         </td><td>220                         </td><td>4354                        </td><td> 9.0                        </td><td>70                          </td><td>1                           </td><td>chevrolet impala            </td></tr>\n",
       "\t<tr><th scope=row>8</th><td>14                          </td><td>8                           </td><td>440                         </td><td>215                         </td><td>4312                        </td><td> 8.5                        </td><td>70                          </td><td>1                           </td><td>plymouth fury iii           </td></tr>\n",
       "\t<tr><th scope=row>9</th><td>14                          </td><td>8                           </td><td>455                         </td><td>225                         </td><td>4425                        </td><td>10.0                        </td><td>70                          </td><td>1                           </td><td>pontiac catalina            </td></tr>\n",
       "\t<tr><th scope=row>10</th><td>15                          </td><td>8                           </td><td>390                         </td><td>190                         </td><td>3850                        </td><td> 8.5                        </td><td>70                          </td><td>1                           </td><td>amc ambassador dpl          </td></tr>\n",
       "\t<tr><th scope=row>11</th><td>15                          </td><td>8                           </td><td>383                         </td><td>170                         </td><td>3563                        </td><td>10.0                        </td><td>70                          </td><td>1                           </td><td>dodge challenger se         </td></tr>\n",
       "\t<tr><th scope=row>12</th><td>14                          </td><td>8                           </td><td>340                         </td><td>160                         </td><td>3609                        </td><td> 8.0                        </td><td>70                          </td><td>1                           </td><td>plymouth 'cuda 340          </td></tr>\n",
       "\t<tr><th scope=row>13</th><td>15                          </td><td>8                           </td><td>400                         </td><td>150                         </td><td>3761                        </td><td> 9.5                        </td><td>70                          </td><td>1                           </td><td>chevrolet monte carlo       </td></tr>\n",
       "\t<tr><th scope=row>14</th><td>14                          </td><td>8                           </td><td>455                         </td><td>225                         </td><td>3086                        </td><td>10.0                        </td><td>70                          </td><td>1                           </td><td>buick estate wagon (sw)     </td></tr>\n",
       "\t<tr><th scope=row>15</th><td>24                          </td><td>4                           </td><td>113                         </td><td> 95                         </td><td>2372                        </td><td>15.0                        </td><td>70                          </td><td>3                           </td><td>toyota corona mark ii       </td></tr>\n",
       "\t<tr><th scope=row>16</th><td>22                          </td><td>6                           </td><td>198                         </td><td> 95                         </td><td>2833                        </td><td>15.5                        </td><td>70                          </td><td>1                           </td><td>plymouth duster             </td></tr>\n",
       "\t<tr><th scope=row>17</th><td>18                          </td><td>6                           </td><td>199                         </td><td> 97                         </td><td>2774                        </td><td>15.5                        </td><td>70                          </td><td>1                           </td><td>amc hornet                  </td></tr>\n",
       "\t<tr><th scope=row>18</th><td>21                          </td><td>6                           </td><td>200                         </td><td> 85                         </td><td>2587                        </td><td>16.0                        </td><td>70                          </td><td>1                           </td><td>ford maverick               </td></tr>\n",
       "\t<tr><th scope=row>19</th><td>27                          </td><td>4                           </td><td> 97                         </td><td> 88                         </td><td>2130                        </td><td>14.5                        </td><td>70                          </td><td>3                           </td><td>datsun pl510                </td></tr>\n",
       "\t<tr><th scope=row>20</th><td>26                          </td><td>4                           </td><td> 97                         </td><td> 46                         </td><td>1835                        </td><td>20.5                        </td><td>70                          </td><td>2                           </td><td>volkswagen 1131 deluxe sedan</td></tr>\n",
       "\t<tr><th scope=row>21</th><td>25                          </td><td>4                           </td><td>110                         </td><td> 87                         </td><td>2672                        </td><td>17.5                        </td><td>70                          </td><td>2                           </td><td>peugeot 504                 </td></tr>\n",
       "\t<tr><th scope=row>22</th><td>24                          </td><td>4                           </td><td>107                         </td><td> 90                         </td><td>2430                        </td><td>14.5                        </td><td>70                          </td><td>2                           </td><td>audi 100 ls                 </td></tr>\n",
       "\t<tr><th scope=row>23</th><td>25                          </td><td>4                           </td><td>104                         </td><td> 95                         </td><td>2375                        </td><td>17.5                        </td><td>70                          </td><td>2                           </td><td>saab 99e                    </td></tr>\n",
       "\t<tr><th scope=row>24</th><td>26                          </td><td>4                           </td><td>121                         </td><td>113                         </td><td>2234                        </td><td>12.5                        </td><td>70                          </td><td>2                           </td><td>bmw 2002                    </td></tr>\n",
       "\t<tr><th scope=row>25</th><td>21                          </td><td>6                           </td><td>199                         </td><td> 90                         </td><td>2648                        </td><td>15.0                        </td><td>70                          </td><td>1                           </td><td>amc gremlin                 </td></tr>\n",
       "\t<tr><th scope=row>26</th><td>10                          </td><td>8                           </td><td>360                         </td><td>215                         </td><td>4615                        </td><td>14.0                        </td><td>70                          </td><td>1                           </td><td>ford f250                   </td></tr>\n",
       "\t<tr><th scope=row>27</th><td>10                          </td><td>8                           </td><td>307                         </td><td>200                         </td><td>4376                        </td><td>15.0                        </td><td>70                          </td><td>1                           </td><td>chevy c20                   </td></tr>\n",
       "\t<tr><th scope=row>28</th><td>11                          </td><td>8                           </td><td>318                         </td><td>210                         </td><td>4382                        </td><td>13.5                        </td><td>70                          </td><td>1                           </td><td>dodge d200                  </td></tr>\n",
       "\t<tr><th scope=row>29</th><td> 9                          </td><td>8                           </td><td>304                         </td><td>193                         </td><td>4732                        </td><td>18.5                        </td><td>70                          </td><td>1                           </td><td>hi 1200d                    </td></tr>\n",
       "\t<tr><th scope=row>30</th><td>27                          </td><td>4                           </td><td> 97                         </td><td> 88                         </td><td>2130                        </td><td>14.5                        </td><td>71                          </td><td>3                           </td><td>datsun pl510                </td></tr>\n",
       "\t<tr><th scope=row>⋮</th><td>⋮</td><td>⋮</td><td>⋮</td><td>⋮</td><td>⋮</td><td>⋮</td><td>⋮</td><td>⋮</td><td>⋮</td></tr>\n",
       "\t<tr><th scope=row>368</th><td>28                               </td><td>4                                </td><td>112                              </td><td> 88                              </td><td>2605                             </td><td>19.6                             </td><td>82                               </td><td>1                                </td><td>chevrolet cavalier               </td></tr>\n",
       "\t<tr><th scope=row>369</th><td>27                               </td><td>4                                </td><td>112                              </td><td> 88                              </td><td>2640                             </td><td>18.6                             </td><td>82                               </td><td>1                                </td><td>chevrolet cavalier wagon         </td></tr>\n",
       "\t<tr><th scope=row>370</th><td>34                               </td><td>4                                </td><td>112                              </td><td> 88                              </td><td>2395                             </td><td>18.0                             </td><td>82                               </td><td>1                                </td><td>chevrolet cavalier 2-door        </td></tr>\n",
       "\t<tr><th scope=row>371</th><td>31                               </td><td>4                                </td><td>112                              </td><td> 85                              </td><td>2575                             </td><td>16.2                             </td><td>82                               </td><td>1                                </td><td>pontiac j2000 se hatchback       </td></tr>\n",
       "\t<tr><th scope=row>372</th><td>29                               </td><td>4                                </td><td>135                              </td><td> 84                              </td><td>2525                             </td><td>16.0                             </td><td>82                               </td><td>1                                </td><td>dodge aries se                   </td></tr>\n",
       "\t<tr><th scope=row>373</th><td>27                               </td><td>4                                </td><td>151                              </td><td> 90                              </td><td>2735                             </td><td>18.0                             </td><td>82                               </td><td>1                                </td><td>pontiac phoenix                  </td></tr>\n",
       "\t<tr><th scope=row>374</th><td>24                               </td><td>4                                </td><td>140                              </td><td> 92                              </td><td>2865                             </td><td>16.4                             </td><td>82                               </td><td>1                                </td><td>ford fairmont futura             </td></tr>\n",
       "\t<tr><th scope=row>375</th><td>36                               </td><td>4                                </td><td>105                              </td><td> 74                              </td><td>1980                             </td><td>15.3                             </td><td>82                               </td><td>2                                </td><td>volkswagen rabbit l              </td></tr>\n",
       "\t<tr><th scope=row>376</th><td>37                               </td><td>4                                </td><td> 91                              </td><td> 68                              </td><td>2025                             </td><td>18.2                             </td><td>82                               </td><td>3                                </td><td>mazda glc custom l               </td></tr>\n",
       "\t<tr><th scope=row>377</th><td>31                               </td><td>4                                </td><td> 91                              </td><td> 68                              </td><td>1970                             </td><td>17.6                             </td><td>82                               </td><td>3                                </td><td>mazda glc custom                 </td></tr>\n",
       "\t<tr><th scope=row>378</th><td>38                               </td><td>4                                </td><td>105                              </td><td> 63                              </td><td>2125                             </td><td>14.7                             </td><td>82                               </td><td>1                                </td><td>plymouth horizon miser           </td></tr>\n",
       "\t<tr><th scope=row>379</th><td>36                               </td><td>4                                </td><td> 98                              </td><td> 70                              </td><td>2125                             </td><td>17.3                             </td><td>82                               </td><td>1                                </td><td>mercury lynx l                   </td></tr>\n",
       "\t<tr><th scope=row>380</th><td>36                               </td><td>4                                </td><td>120                              </td><td> 88                              </td><td>2160                             </td><td>14.5                             </td><td>82                               </td><td>3                                </td><td>nissan stanza xe                 </td></tr>\n",
       "\t<tr><th scope=row>381</th><td>36                               </td><td>4                                </td><td>107                              </td><td> 75                              </td><td>2205                             </td><td>14.5                             </td><td>82                               </td><td>3                                </td><td>honda accord                     </td></tr>\n",
       "\t<tr><th scope=row>382</th><td>34                               </td><td>4                                </td><td>108                              </td><td> 70                              </td><td>2245                             </td><td>16.9                             </td><td>82                               </td><td>3                                </td><td>toyota corolla                   </td></tr>\n",
       "\t<tr><th scope=row>383</th><td>38                               </td><td>4                                </td><td> 91                              </td><td> 67                              </td><td>1965                             </td><td>15.0                             </td><td>82                               </td><td>3                                </td><td>honda civic                      </td></tr>\n",
       "\t<tr><th scope=row>384</th><td>32                               </td><td>4                                </td><td> 91                              </td><td> 67                              </td><td>1965                             </td><td>15.7                             </td><td>82                               </td><td>3                                </td><td>honda civic (auto)               </td></tr>\n",
       "\t<tr><th scope=row>385</th><td>38                               </td><td>4                                </td><td> 91                              </td><td> 67                              </td><td>1995                             </td><td>16.2                             </td><td>82                               </td><td>3                                </td><td>datsun 310 gx                    </td></tr>\n",
       "\t<tr><th scope=row>386</th><td>25                               </td><td>6                                </td><td>181                              </td><td>110                              </td><td>2945                             </td><td>16.4                             </td><td>82                               </td><td>1                                </td><td>buick century limited            </td></tr>\n",
       "\t<tr><th scope=row>387</th><td>38                               </td><td>6                                </td><td>262                              </td><td> 85                              </td><td>3015                             </td><td>17.0                             </td><td>82                               </td><td>1                                </td><td>oldsmobile cutlass ciera (diesel)</td></tr>\n",
       "\t<tr><th scope=row>388</th><td>26                               </td><td>4                                </td><td>156                              </td><td> 92                              </td><td>2585                             </td><td>14.5                             </td><td>82                               </td><td>1                                </td><td>chrysler lebaron medallion       </td></tr>\n",
       "\t<tr><th scope=row>389</th><td>22                               </td><td>6                                </td><td>232                              </td><td>112                              </td><td>2835                             </td><td>14.7                             </td><td>82                               </td><td>1                                </td><td>ford granada l                   </td></tr>\n",
       "\t<tr><th scope=row>390</th><td>32                               </td><td>4                                </td><td>144                              </td><td> 96                              </td><td>2665                             </td><td>13.9                             </td><td>82                               </td><td>3                                </td><td>toyota celica gt                 </td></tr>\n",
       "\t<tr><th scope=row>391</th><td>36                               </td><td>4                                </td><td>135                              </td><td> 84                              </td><td>2370                             </td><td>13.0                             </td><td>82                               </td><td>1                                </td><td>dodge charger 2.2                </td></tr>\n",
       "\t<tr><th scope=row>392</th><td>27                               </td><td>4                                </td><td>151                              </td><td> 90                              </td><td>2950                             </td><td>17.3                             </td><td>82                               </td><td>1                                </td><td>chevrolet camaro                 </td></tr>\n",
       "\t<tr><th scope=row>393</th><td>27                               </td><td>4                                </td><td>140                              </td><td> 86                              </td><td>2790                             </td><td>15.6                             </td><td>82                               </td><td>1                                </td><td>ford mustang gl                  </td></tr>\n",
       "\t<tr><th scope=row>394</th><td>44                               </td><td>4                                </td><td> 97                              </td><td> 52                              </td><td>2130                             </td><td>24.6                             </td><td>82                               </td><td>2                                </td><td>vw pickup                        </td></tr>\n",
       "\t<tr><th scope=row>395</th><td>32                               </td><td>4                                </td><td>135                              </td><td> 84                              </td><td>2295                             </td><td>11.6                             </td><td>82                               </td><td>1                                </td><td>dodge rampage                    </td></tr>\n",
       "\t<tr><th scope=row>396</th><td>28                               </td><td>4                                </td><td>120                              </td><td> 79                              </td><td>2625                             </td><td>18.6                             </td><td>82                               </td><td>1                                </td><td>ford ranger                      </td></tr>\n",
       "\t<tr><th scope=row>397</th><td>31                               </td><td>4                                </td><td>119                              </td><td> 82                              </td><td>2720                             </td><td>19.4                             </td><td>82                               </td><td>1                                </td><td>chevy s-10                       </td></tr>\n",
       "</tbody>\n",
       "</table>\n"
      ],
      "text/latex": [
       "\\begin{tabular}{r|lllllllll}\n",
       "  & mpg & cylinders & displacement & horsepower & weight & acceleration & year & origin & name\\\\\n",
       "\\hline\n",
       "\t1 & 18                           & 8                            & 307                          & 130                          & 3504                         & 12.0                         & 70                           & 1                            & chevrolet chevelle malibu   \\\\\n",
       "\t2 & 15                           & 8                            & 350                          & 165                          & 3693                         & 11.5                         & 70                           & 1                            & buick skylark 320           \\\\\n",
       "\t3 & 18                           & 8                            & 318                          & 150                          & 3436                         & 11.0                         & 70                           & 1                            & plymouth satellite          \\\\\n",
       "\t4 & 16                           & 8                            & 304                          & 150                          & 3433                         & 12.0                         & 70                           & 1                            & amc rebel sst               \\\\\n",
       "\t5 & 17                           & 8                            & 302                          & 140                          & 3449                         & 10.5                         & 70                           & 1                            & ford torino                 \\\\\n",
       "\t6 & 15                           & 8                            & 429                          & 198                          & 4341                         & 10.0                         & 70                           & 1                            & ford galaxie 500            \\\\\n",
       "\t7 & 14                           & 8                            & 454                          & 220                          & 4354                         &  9.0                         & 70                           & 1                            & chevrolet impala            \\\\\n",
       "\t8 & 14                           & 8                            & 440                          & 215                          & 4312                         &  8.5                         & 70                           & 1                            & plymouth fury iii           \\\\\n",
       "\t9 & 14                           & 8                            & 455                          & 225                          & 4425                         & 10.0                         & 70                           & 1                            & pontiac catalina            \\\\\n",
       "\t10 & 15                           & 8                            & 390                          & 190                          & 3850                         &  8.5                         & 70                           & 1                            & amc ambassador dpl          \\\\\n",
       "\t11 & 15                           & 8                            & 383                          & 170                          & 3563                         & 10.0                         & 70                           & 1                            & dodge challenger se         \\\\\n",
       "\t12 & 14                           & 8                            & 340                          & 160                          & 3609                         &  8.0                         & 70                           & 1                            & plymouth 'cuda 340          \\\\\n",
       "\t13 & 15                           & 8                            & 400                          & 150                          & 3761                         &  9.5                         & 70                           & 1                            & chevrolet monte carlo       \\\\\n",
       "\t14 & 14                           & 8                            & 455                          & 225                          & 3086                         & 10.0                         & 70                           & 1                            & buick estate wagon (sw)     \\\\\n",
       "\t15 & 24                           & 4                            & 113                          &  95                          & 2372                         & 15.0                         & 70                           & 3                            & toyota corona mark ii       \\\\\n",
       "\t16 & 22                           & 6                            & 198                          &  95                          & 2833                         & 15.5                         & 70                           & 1                            & plymouth duster             \\\\\n",
       "\t17 & 18                           & 6                            & 199                          &  97                          & 2774                         & 15.5                         & 70                           & 1                            & amc hornet                  \\\\\n",
       "\t18 & 21                           & 6                            & 200                          &  85                          & 2587                         & 16.0                         & 70                           & 1                            & ford maverick               \\\\\n",
       "\t19 & 27                           & 4                            &  97                          &  88                          & 2130                         & 14.5                         & 70                           & 3                            & datsun pl510                \\\\\n",
       "\t20 & 26                           & 4                            &  97                          &  46                          & 1835                         & 20.5                         & 70                           & 2                            & volkswagen 1131 deluxe sedan\\\\\n",
       "\t21 & 25                           & 4                            & 110                          &  87                          & 2672                         & 17.5                         & 70                           & 2                            & peugeot 504                 \\\\\n",
       "\t22 & 24                           & 4                            & 107                          &  90                          & 2430                         & 14.5                         & 70                           & 2                            & audi 100 ls                 \\\\\n",
       "\t23 & 25                           & 4                            & 104                          &  95                          & 2375                         & 17.5                         & 70                           & 2                            & saab 99e                    \\\\\n",
       "\t24 & 26                           & 4                            & 121                          & 113                          & 2234                         & 12.5                         & 70                           & 2                            & bmw 2002                    \\\\\n",
       "\t25 & 21                           & 6                            & 199                          &  90                          & 2648                         & 15.0                         & 70                           & 1                            & amc gremlin                 \\\\\n",
       "\t26 & 10                           & 8                            & 360                          & 215                          & 4615                         & 14.0                         & 70                           & 1                            & ford f250                   \\\\\n",
       "\t27 & 10                           & 8                            & 307                          & 200                          & 4376                         & 15.0                         & 70                           & 1                            & chevy c20                   \\\\\n",
       "\t28 & 11                           & 8                            & 318                          & 210                          & 4382                         & 13.5                         & 70                           & 1                            & dodge d200                  \\\\\n",
       "\t29 &  9                           & 8                            & 304                          & 193                          & 4732                         & 18.5                         & 70                           & 1                            & hi 1200d                    \\\\\n",
       "\t30 & 27                           & 4                            &  97                          &  88                          & 2130                         & 14.5                         & 71                           & 3                            & datsun pl510                \\\\\n",
       "\t⋮ & ⋮ & ⋮ & ⋮ & ⋮ & ⋮ & ⋮ & ⋮ & ⋮ & ⋮\\\\\n",
       "\t368 & 28                                & 4                                 & 112                               &  88                               & 2605                              & 19.6                              & 82                                & 1                                 & chevrolet cavalier               \\\\\n",
       "\t369 & 27                                & 4                                 & 112                               &  88                               & 2640                              & 18.6                              & 82                                & 1                                 & chevrolet cavalier wagon         \\\\\n",
       "\t370 & 34                                & 4                                 & 112                               &  88                               & 2395                              & 18.0                              & 82                                & 1                                 & chevrolet cavalier 2-door        \\\\\n",
       "\t371 & 31                                & 4                                 & 112                               &  85                               & 2575                              & 16.2                              & 82                                & 1                                 & pontiac j2000 se hatchback       \\\\\n",
       "\t372 & 29                                & 4                                 & 135                               &  84                               & 2525                              & 16.0                              & 82                                & 1                                 & dodge aries se                   \\\\\n",
       "\t373 & 27                                & 4                                 & 151                               &  90                               & 2735                              & 18.0                              & 82                                & 1                                 & pontiac phoenix                  \\\\\n",
       "\t374 & 24                                & 4                                 & 140                               &  92                               & 2865                              & 16.4                              & 82                                & 1                                 & ford fairmont futura             \\\\\n",
       "\t375 & 36                                & 4                                 & 105                               &  74                               & 1980                              & 15.3                              & 82                                & 2                                 & volkswagen rabbit l              \\\\\n",
       "\t376 & 37                                & 4                                 &  91                               &  68                               & 2025                              & 18.2                              & 82                                & 3                                 & mazda glc custom l               \\\\\n",
       "\t377 & 31                                & 4                                 &  91                               &  68                               & 1970                              & 17.6                              & 82                                & 3                                 & mazda glc custom                 \\\\\n",
       "\t378 & 38                                & 4                                 & 105                               &  63                               & 2125                              & 14.7                              & 82                                & 1                                 & plymouth horizon miser           \\\\\n",
       "\t379 & 36                                & 4                                 &  98                               &  70                               & 2125                              & 17.3                              & 82                                & 1                                 & mercury lynx l                   \\\\\n",
       "\t380 & 36                                & 4                                 & 120                               &  88                               & 2160                              & 14.5                              & 82                                & 3                                 & nissan stanza xe                 \\\\\n",
       "\t381 & 36                                & 4                                 & 107                               &  75                               & 2205                              & 14.5                              & 82                                & 3                                 & honda accord                     \\\\\n",
       "\t382 & 34                                & 4                                 & 108                               &  70                               & 2245                              & 16.9                              & 82                                & 3                                 & toyota corolla                   \\\\\n",
       "\t383 & 38                                & 4                                 &  91                               &  67                               & 1965                              & 15.0                              & 82                                & 3                                 & honda civic                      \\\\\n",
       "\t384 & 32                                & 4                                 &  91                               &  67                               & 1965                              & 15.7                              & 82                                & 3                                 & honda civic (auto)               \\\\\n",
       "\t385 & 38                                & 4                                 &  91                               &  67                               & 1995                              & 16.2                              & 82                                & 3                                 & datsun 310 gx                    \\\\\n",
       "\t386 & 25                                & 6                                 & 181                               & 110                               & 2945                              & 16.4                              & 82                                & 1                                 & buick century limited            \\\\\n",
       "\t387 & 38                                & 6                                 & 262                               &  85                               & 3015                              & 17.0                              & 82                                & 1                                 & oldsmobile cutlass ciera (diesel)\\\\\n",
       "\t388 & 26                                & 4                                 & 156                               &  92                               & 2585                              & 14.5                              & 82                                & 1                                 & chrysler lebaron medallion       \\\\\n",
       "\t389 & 22                                & 6                                 & 232                               & 112                               & 2835                              & 14.7                              & 82                                & 1                                 & ford granada l                   \\\\\n",
       "\t390 & 32                                & 4                                 & 144                               &  96                               & 2665                              & 13.9                              & 82                                & 3                                 & toyota celica gt                 \\\\\n",
       "\t391 & 36                                & 4                                 & 135                               &  84                               & 2370                              & 13.0                              & 82                                & 1                                 & dodge charger 2.2                \\\\\n",
       "\t392 & 27                                & 4                                 & 151                               &  90                               & 2950                              & 17.3                              & 82                                & 1                                 & chevrolet camaro                 \\\\\n",
       "\t393 & 27                                & 4                                 & 140                               &  86                               & 2790                              & 15.6                              & 82                                & 1                                 & ford mustang gl                  \\\\\n",
       "\t394 & 44                                & 4                                 &  97                               &  52                               & 2130                              & 24.6                              & 82                                & 2                                 & vw pickup                        \\\\\n",
       "\t395 & 32                                & 4                                 & 135                               &  84                               & 2295                              & 11.6                              & 82                                & 1                                 & dodge rampage                    \\\\\n",
       "\t396 & 28                                & 4                                 & 120                               &  79                               & 2625                              & 18.6                              & 82                                & 1                                 & ford ranger                      \\\\\n",
       "\t397 & 31                                & 4                                 & 119                               &  82                               & 2720                              & 19.4                              & 82                                & 1                                 & chevy s-10                       \\\\\n",
       "\\end{tabular}\n"
      ],
      "text/markdown": [
       "\n",
       "| <!--/--> | mpg | cylinders | displacement | horsepower | weight | acceleration | year | origin | name | \n",
       "|---|---|---|---|---|---|---|---|---|---|---|---|---|---|---|---|---|---|---|---|---|---|---|---|---|---|---|---|---|---|---|---|---|---|---|---|---|---|---|---|---|---|---|---|---|---|---|---|---|---|---|---|---|---|---|---|---|---|---|---|---|\n",
       "| 1 | 18                           | 8                            | 307                          | 130                          | 3504                         | 12.0                         | 70                           | 1                            | chevrolet chevelle malibu    | \n",
       "| 2 | 15                           | 8                            | 350                          | 165                          | 3693                         | 11.5                         | 70                           | 1                            | buick skylark 320            | \n",
       "| 3 | 18                           | 8                            | 318                          | 150                          | 3436                         | 11.0                         | 70                           | 1                            | plymouth satellite           | \n",
       "| 4 | 16                           | 8                            | 304                          | 150                          | 3433                         | 12.0                         | 70                           | 1                            | amc rebel sst                | \n",
       "| 5 | 17                           | 8                            | 302                          | 140                          | 3449                         | 10.5                         | 70                           | 1                            | ford torino                  | \n",
       "| 6 | 15                           | 8                            | 429                          | 198                          | 4341                         | 10.0                         | 70                           | 1                            | ford galaxie 500             | \n",
       "| 7 | 14                           | 8                            | 454                          | 220                          | 4354                         |  9.0                         | 70                           | 1                            | chevrolet impala             | \n",
       "| 8 | 14                           | 8                            | 440                          | 215                          | 4312                         |  8.5                         | 70                           | 1                            | plymouth fury iii            | \n",
       "| 9 | 14                           | 8                            | 455                          | 225                          | 4425                         | 10.0                         | 70                           | 1                            | pontiac catalina             | \n",
       "| 10 | 15                           | 8                            | 390                          | 190                          | 3850                         |  8.5                         | 70                           | 1                            | amc ambassador dpl           | \n",
       "| 11 | 15                           | 8                            | 383                          | 170                          | 3563                         | 10.0                         | 70                           | 1                            | dodge challenger se          | \n",
       "| 12 | 14                           | 8                            | 340                          | 160                          | 3609                         |  8.0                         | 70                           | 1                            | plymouth 'cuda 340           | \n",
       "| 13 | 15                           | 8                            | 400                          | 150                          | 3761                         |  9.5                         | 70                           | 1                            | chevrolet monte carlo        | \n",
       "| 14 | 14                           | 8                            | 455                          | 225                          | 3086                         | 10.0                         | 70                           | 1                            | buick estate wagon (sw)      | \n",
       "| 15 | 24                           | 4                            | 113                          |  95                          | 2372                         | 15.0                         | 70                           | 3                            | toyota corona mark ii        | \n",
       "| 16 | 22                           | 6                            | 198                          |  95                          | 2833                         | 15.5                         | 70                           | 1                            | plymouth duster              | \n",
       "| 17 | 18                           | 6                            | 199                          |  97                          | 2774                         | 15.5                         | 70                           | 1                            | amc hornet                   | \n",
       "| 18 | 21                           | 6                            | 200                          |  85                          | 2587                         | 16.0                         | 70                           | 1                            | ford maverick                | \n",
       "| 19 | 27                           | 4                            |  97                          |  88                          | 2130                         | 14.5                         | 70                           | 3                            | datsun pl510                 | \n",
       "| 20 | 26                           | 4                            |  97                          |  46                          | 1835                         | 20.5                         | 70                           | 2                            | volkswagen 1131 deluxe sedan | \n",
       "| 21 | 25                           | 4                            | 110                          |  87                          | 2672                         | 17.5                         | 70                           | 2                            | peugeot 504                  | \n",
       "| 22 | 24                           | 4                            | 107                          |  90                          | 2430                         | 14.5                         | 70                           | 2                            | audi 100 ls                  | \n",
       "| 23 | 25                           | 4                            | 104                          |  95                          | 2375                         | 17.5                         | 70                           | 2                            | saab 99e                     | \n",
       "| 24 | 26                           | 4                            | 121                          | 113                          | 2234                         | 12.5                         | 70                           | 2                            | bmw 2002                     | \n",
       "| 25 | 21                           | 6                            | 199                          |  90                          | 2648                         | 15.0                         | 70                           | 1                            | amc gremlin                  | \n",
       "| 26 | 10                           | 8                            | 360                          | 215                          | 4615                         | 14.0                         | 70                           | 1                            | ford f250                    | \n",
       "| 27 | 10                           | 8                            | 307                          | 200                          | 4376                         | 15.0                         | 70                           | 1                            | chevy c20                    | \n",
       "| 28 | 11                           | 8                            | 318                          | 210                          | 4382                         | 13.5                         | 70                           | 1                            | dodge d200                   | \n",
       "| 29 |  9                           | 8                            | 304                          | 193                          | 4732                         | 18.5                         | 70                           | 1                            | hi 1200d                     | \n",
       "| 30 | 27                           | 4                            |  97                          |  88                          | 2130                         | 14.5                         | 71                           | 3                            | datsun pl510                 | \n",
       "| ⋮ | ⋮ | ⋮ | ⋮ | ⋮ | ⋮ | ⋮ | ⋮ | ⋮ | ⋮ | \n",
       "| 368 | 28                                | 4                                 | 112                               |  88                               | 2605                              | 19.6                              | 82                                | 1                                 | chevrolet cavalier                | \n",
       "| 369 | 27                                | 4                                 | 112                               |  88                               | 2640                              | 18.6                              | 82                                | 1                                 | chevrolet cavalier wagon          | \n",
       "| 370 | 34                                | 4                                 | 112                               |  88                               | 2395                              | 18.0                              | 82                                | 1                                 | chevrolet cavalier 2-door         | \n",
       "| 371 | 31                                | 4                                 | 112                               |  85                               | 2575                              | 16.2                              | 82                                | 1                                 | pontiac j2000 se hatchback        | \n",
       "| 372 | 29                                | 4                                 | 135                               |  84                               | 2525                              | 16.0                              | 82                                | 1                                 | dodge aries se                    | \n",
       "| 373 | 27                                | 4                                 | 151                               |  90                               | 2735                              | 18.0                              | 82                                | 1                                 | pontiac phoenix                   | \n",
       "| 374 | 24                                | 4                                 | 140                               |  92                               | 2865                              | 16.4                              | 82                                | 1                                 | ford fairmont futura              | \n",
       "| 375 | 36                                | 4                                 | 105                               |  74                               | 1980                              | 15.3                              | 82                                | 2                                 | volkswagen rabbit l               | \n",
       "| 376 | 37                                | 4                                 |  91                               |  68                               | 2025                              | 18.2                              | 82                                | 3                                 | mazda glc custom l                | \n",
       "| 377 | 31                                | 4                                 |  91                               |  68                               | 1970                              | 17.6                              | 82                                | 3                                 | mazda glc custom                  | \n",
       "| 378 | 38                                | 4                                 | 105                               |  63                               | 2125                              | 14.7                              | 82                                | 1                                 | plymouth horizon miser            | \n",
       "| 379 | 36                                | 4                                 |  98                               |  70                               | 2125                              | 17.3                              | 82                                | 1                                 | mercury lynx l                    | \n",
       "| 380 | 36                                | 4                                 | 120                               |  88                               | 2160                              | 14.5                              | 82                                | 3                                 | nissan stanza xe                  | \n",
       "| 381 | 36                                | 4                                 | 107                               |  75                               | 2205                              | 14.5                              | 82                                | 3                                 | honda accord                      | \n",
       "| 382 | 34                                | 4                                 | 108                               |  70                               | 2245                              | 16.9                              | 82                                | 3                                 | toyota corolla                    | \n",
       "| 383 | 38                                | 4                                 |  91                               |  67                               | 1965                              | 15.0                              | 82                                | 3                                 | honda civic                       | \n",
       "| 384 | 32                                | 4                                 |  91                               |  67                               | 1965                              | 15.7                              | 82                                | 3                                 | honda civic (auto)                | \n",
       "| 385 | 38                                | 4                                 |  91                               |  67                               | 1995                              | 16.2                              | 82                                | 3                                 | datsun 310 gx                     | \n",
       "| 386 | 25                                | 6                                 | 181                               | 110                               | 2945                              | 16.4                              | 82                                | 1                                 | buick century limited             | \n",
       "| 387 | 38                                | 6                                 | 262                               |  85                               | 3015                              | 17.0                              | 82                                | 1                                 | oldsmobile cutlass ciera (diesel) | \n",
       "| 388 | 26                                | 4                                 | 156                               |  92                               | 2585                              | 14.5                              | 82                                | 1                                 | chrysler lebaron medallion        | \n",
       "| 389 | 22                                | 6                                 | 232                               | 112                               | 2835                              | 14.7                              | 82                                | 1                                 | ford granada l                    | \n",
       "| 390 | 32                                | 4                                 | 144                               |  96                               | 2665                              | 13.9                              | 82                                | 3                                 | toyota celica gt                  | \n",
       "| 391 | 36                                | 4                                 | 135                               |  84                               | 2370                              | 13.0                              | 82                                | 1                                 | dodge charger 2.2                 | \n",
       "| 392 | 27                                | 4                                 | 151                               |  90                               | 2950                              | 17.3                              | 82                                | 1                                 | chevrolet camaro                  | \n",
       "| 393 | 27                                | 4                                 | 140                               |  86                               | 2790                              | 15.6                              | 82                                | 1                                 | ford mustang gl                   | \n",
       "| 394 | 44                                | 4                                 |  97                               |  52                               | 2130                              | 24.6                              | 82                                | 2                                 | vw pickup                         | \n",
       "| 395 | 32                                | 4                                 | 135                               |  84                               | 2295                              | 11.6                              | 82                                | 1                                 | dodge rampage                     | \n",
       "| 396 | 28                                | 4                                 | 120                               |  79                               | 2625                              | 18.6                              | 82                                | 1                                 | ford ranger                       | \n",
       "| 397 | 31                                | 4                                 | 119                               |  82                               | 2720                              | 19.4                              | 82                                | 1                                 | chevy s-10                        | \n",
       "\n",
       "\n"
      ],
      "text/plain": [
       "    mpg cylinders displacement horsepower weight acceleration year origin\n",
       "1   18  8         307          130        3504   12.0         70   1     \n",
       "2   15  8         350          165        3693   11.5         70   1     \n",
       "3   18  8         318          150        3436   11.0         70   1     \n",
       "4   16  8         304          150        3433   12.0         70   1     \n",
       "5   17  8         302          140        3449   10.5         70   1     \n",
       "6   15  8         429          198        4341   10.0         70   1     \n",
       "7   14  8         454          220        4354    9.0         70   1     \n",
       "8   14  8         440          215        4312    8.5         70   1     \n",
       "9   14  8         455          225        4425   10.0         70   1     \n",
       "10  15  8         390          190        3850    8.5         70   1     \n",
       "11  15  8         383          170        3563   10.0         70   1     \n",
       "12  14  8         340          160        3609    8.0         70   1     \n",
       "13  15  8         400          150        3761    9.5         70   1     \n",
       "14  14  8         455          225        3086   10.0         70   1     \n",
       "15  24  4         113           95        2372   15.0         70   3     \n",
       "16  22  6         198           95        2833   15.5         70   1     \n",
       "17  18  6         199           97        2774   15.5         70   1     \n",
       "18  21  6         200           85        2587   16.0         70   1     \n",
       "19  27  4          97           88        2130   14.5         70   3     \n",
       "20  26  4          97           46        1835   20.5         70   2     \n",
       "21  25  4         110           87        2672   17.5         70   2     \n",
       "22  24  4         107           90        2430   14.5         70   2     \n",
       "23  25  4         104           95        2375   17.5         70   2     \n",
       "24  26  4         121          113        2234   12.5         70   2     \n",
       "25  21  6         199           90        2648   15.0         70   1     \n",
       "26  10  8         360          215        4615   14.0         70   1     \n",
       "27  10  8         307          200        4376   15.0         70   1     \n",
       "28  11  8         318          210        4382   13.5         70   1     \n",
       "29   9  8         304          193        4732   18.5         70   1     \n",
       "30  27  4          97           88        2130   14.5         71   3     \n",
       "⋮   ⋮   ⋮         ⋮            ⋮          ⋮      ⋮            ⋮    ⋮     \n",
       "368 28  4         112           88        2605   19.6         82   1     \n",
       "369 27  4         112           88        2640   18.6         82   1     \n",
       "370 34  4         112           88        2395   18.0         82   1     \n",
       "371 31  4         112           85        2575   16.2         82   1     \n",
       "372 29  4         135           84        2525   16.0         82   1     \n",
       "373 27  4         151           90        2735   18.0         82   1     \n",
       "374 24  4         140           92        2865   16.4         82   1     \n",
       "375 36  4         105           74        1980   15.3         82   2     \n",
       "376 37  4          91           68        2025   18.2         82   3     \n",
       "377 31  4          91           68        1970   17.6         82   3     \n",
       "378 38  4         105           63        2125   14.7         82   1     \n",
       "379 36  4          98           70        2125   17.3         82   1     \n",
       "380 36  4         120           88        2160   14.5         82   3     \n",
       "381 36  4         107           75        2205   14.5         82   3     \n",
       "382 34  4         108           70        2245   16.9         82   3     \n",
       "383 38  4          91           67        1965   15.0         82   3     \n",
       "384 32  4          91           67        1965   15.7         82   3     \n",
       "385 38  4          91           67        1995   16.2         82   3     \n",
       "386 25  6         181          110        2945   16.4         82   1     \n",
       "387 38  6         262           85        3015   17.0         82   1     \n",
       "388 26  4         156           92        2585   14.5         82   1     \n",
       "389 22  6         232          112        2835   14.7         82   1     \n",
       "390 32  4         144           96        2665   13.9         82   3     \n",
       "391 36  4         135           84        2370   13.0         82   1     \n",
       "392 27  4         151           90        2950   17.3         82   1     \n",
       "393 27  4         140           86        2790   15.6         82   1     \n",
       "394 44  4          97           52        2130   24.6         82   2     \n",
       "395 32  4         135           84        2295   11.6         82   1     \n",
       "396 28  4         120           79        2625   18.6         82   1     \n",
       "397 31  4         119           82        2720   19.4         82   1     \n",
       "    name                             \n",
       "1   chevrolet chevelle malibu        \n",
       "2   buick skylark 320                \n",
       "3   plymouth satellite               \n",
       "4   amc rebel sst                    \n",
       "5   ford torino                      \n",
       "6   ford galaxie 500                 \n",
       "7   chevrolet impala                 \n",
       "8   plymouth fury iii                \n",
       "9   pontiac catalina                 \n",
       "10  amc ambassador dpl               \n",
       "11  dodge challenger se              \n",
       "12  plymouth 'cuda 340               \n",
       "13  chevrolet monte carlo            \n",
       "14  buick estate wagon (sw)          \n",
       "15  toyota corona mark ii            \n",
       "16  plymouth duster                  \n",
       "17  amc hornet                       \n",
       "18  ford maverick                    \n",
       "19  datsun pl510                     \n",
       "20  volkswagen 1131 deluxe sedan     \n",
       "21  peugeot 504                      \n",
       "22  audi 100 ls                      \n",
       "23  saab 99e                         \n",
       "24  bmw 2002                         \n",
       "25  amc gremlin                      \n",
       "26  ford f250                        \n",
       "27  chevy c20                        \n",
       "28  dodge d200                       \n",
       "29  hi 1200d                         \n",
       "30  datsun pl510                     \n",
       "⋮   ⋮                                \n",
       "368 chevrolet cavalier               \n",
       "369 chevrolet cavalier wagon         \n",
       "370 chevrolet cavalier 2-door        \n",
       "371 pontiac j2000 se hatchback       \n",
       "372 dodge aries se                   \n",
       "373 pontiac phoenix                  \n",
       "374 ford fairmont futura             \n",
       "375 volkswagen rabbit l              \n",
       "376 mazda glc custom l               \n",
       "377 mazda glc custom                 \n",
       "378 plymouth horizon miser           \n",
       "379 mercury lynx l                   \n",
       "380 nissan stanza xe                 \n",
       "381 honda accord                     \n",
       "382 toyota corolla                   \n",
       "383 honda civic                      \n",
       "384 honda civic (auto)               \n",
       "385 datsun 310 gx                    \n",
       "386 buick century limited            \n",
       "387 oldsmobile cutlass ciera (diesel)\n",
       "388 chrysler lebaron medallion       \n",
       "389 ford granada l                   \n",
       "390 toyota celica gt                 \n",
       "391 dodge charger 2.2                \n",
       "392 chevrolet camaro                 \n",
       "393 ford mustang gl                  \n",
       "394 vw pickup                        \n",
       "395 dodge rampage                    \n",
       "396 ford ranger                      \n",
       "397 chevy s-10                       "
      ]
     },
     "metadata": {},
     "output_type": "display_data"
    },
    {
     "data": {
      "text/html": [
       "<table>\n",
       "<thead><tr><th scope=col>mpg</th><th scope=col>cylinders</th><th scope=col>displacement</th><th scope=col>horsepower</th><th scope=col>weight</th><th scope=col>acceleration</th><th scope=col>year</th><th scope=col>origin</th><th scope=col>name</th></tr></thead>\n",
       "<tbody>\n",
       "\t<tr><td>18                       </td><td>8                        </td><td>307                      </td><td>130                      </td><td>3504                     </td><td>12.0                     </td><td>70                       </td><td>1                        </td><td>chevrolet chevelle malibu</td></tr>\n",
       "\t<tr><td>15                       </td><td>8                        </td><td>350                      </td><td>165                      </td><td>3693                     </td><td>11.5                     </td><td>70                       </td><td>1                        </td><td>buick skylark 320        </td></tr>\n",
       "\t<tr><td>18                       </td><td>8                        </td><td>318                      </td><td>150                      </td><td>3436                     </td><td>11.0                     </td><td>70                       </td><td>1                        </td><td>plymouth satellite       </td></tr>\n",
       "\t<tr><td>16                       </td><td>8                        </td><td>304                      </td><td>150                      </td><td>3433                     </td><td>12.0                     </td><td>70                       </td><td>1                        </td><td>amc rebel sst            </td></tr>\n",
       "\t<tr><td>17                       </td><td>8                        </td><td>302                      </td><td>140                      </td><td>3449                     </td><td>10.5                     </td><td>70                       </td><td>1                        </td><td>ford torino              </td></tr>\n",
       "\t<tr><td>15                       </td><td>8                        </td><td>429                      </td><td>198                      </td><td>4341                     </td><td>10.0                     </td><td>70                       </td><td>1                        </td><td>ford galaxie 500         </td></tr>\n",
       "\t<tr><td>14                       </td><td>8                        </td><td>454                      </td><td>220                      </td><td>4354                     </td><td> 9.0                     </td><td>70                       </td><td>1                        </td><td>chevrolet impala         </td></tr>\n",
       "\t<tr><td>14                       </td><td>8                        </td><td>440                      </td><td>215                      </td><td>4312                     </td><td> 8.5                     </td><td>70                       </td><td>1                        </td><td>plymouth fury iii        </td></tr>\n",
       "\t<tr><td>14                       </td><td>8                        </td><td>455                      </td><td>225                      </td><td>4425                     </td><td>10.0                     </td><td>70                       </td><td>1                        </td><td>pontiac catalina         </td></tr>\n",
       "\t<tr><td>15                       </td><td>8                        </td><td>390                      </td><td>190                      </td><td>3850                     </td><td> 8.5                     </td><td>70                       </td><td>1                        </td><td>amc ambassador dpl       </td></tr>\n",
       "</tbody>\n",
       "</table>\n"
      ],
      "text/latex": [
       "\\begin{tabular}{r|lllllllll}\n",
       " mpg & cylinders & displacement & horsepower & weight & acceleration & year & origin & name\\\\\n",
       "\\hline\n",
       "\t 18                        & 8                         & 307                       & 130                       & 3504                      & 12.0                      & 70                        & 1                         & chevrolet chevelle malibu\\\\\n",
       "\t 15                        & 8                         & 350                       & 165                       & 3693                      & 11.5                      & 70                        & 1                         & buick skylark 320        \\\\\n",
       "\t 18                        & 8                         & 318                       & 150                       & 3436                      & 11.0                      & 70                        & 1                         & plymouth satellite       \\\\\n",
       "\t 16                        & 8                         & 304                       & 150                       & 3433                      & 12.0                      & 70                        & 1                         & amc rebel sst            \\\\\n",
       "\t 17                        & 8                         & 302                       & 140                       & 3449                      & 10.5                      & 70                        & 1                         & ford torino              \\\\\n",
       "\t 15                        & 8                         & 429                       & 198                       & 4341                      & 10.0                      & 70                        & 1                         & ford galaxie 500         \\\\\n",
       "\t 14                        & 8                         & 454                       & 220                       & 4354                      &  9.0                      & 70                        & 1                         & chevrolet impala         \\\\\n",
       "\t 14                        & 8                         & 440                       & 215                       & 4312                      &  8.5                      & 70                        & 1                         & plymouth fury iii        \\\\\n",
       "\t 14                        & 8                         & 455                       & 225                       & 4425                      & 10.0                      & 70                        & 1                         & pontiac catalina         \\\\\n",
       "\t 15                        & 8                         & 390                       & 190                       & 3850                      &  8.5                      & 70                        & 1                         & amc ambassador dpl       \\\\\n",
       "\\end{tabular}\n"
      ],
      "text/markdown": [
       "\n",
       "mpg | cylinders | displacement | horsepower | weight | acceleration | year | origin | name | \n",
       "|---|---|---|---|---|---|---|---|---|---|\n",
       "| 18                        | 8                         | 307                       | 130                       | 3504                      | 12.0                      | 70                        | 1                         | chevrolet chevelle malibu | \n",
       "| 15                        | 8                         | 350                       | 165                       | 3693                      | 11.5                      | 70                        | 1                         | buick skylark 320         | \n",
       "| 18                        | 8                         | 318                       | 150                       | 3436                      | 11.0                      | 70                        | 1                         | plymouth satellite        | \n",
       "| 16                        | 8                         | 304                       | 150                       | 3433                      | 12.0                      | 70                        | 1                         | amc rebel sst             | \n",
       "| 17                        | 8                         | 302                       | 140                       | 3449                      | 10.5                      | 70                        | 1                         | ford torino               | \n",
       "| 15                        | 8                         | 429                       | 198                       | 4341                      | 10.0                      | 70                        | 1                         | ford galaxie 500          | \n",
       "| 14                        | 8                         | 454                       | 220                       | 4354                      |  9.0                      | 70                        | 1                         | chevrolet impala          | \n",
       "| 14                        | 8                         | 440                       | 215                       | 4312                      |  8.5                      | 70                        | 1                         | plymouth fury iii         | \n",
       "| 14                        | 8                         | 455                       | 225                       | 4425                      | 10.0                      | 70                        | 1                         | pontiac catalina          | \n",
       "| 15                        | 8                         | 390                       | 190                       | 3850                      |  8.5                      | 70                        | 1                         | amc ambassador dpl        | \n",
       "\n",
       "\n"
      ],
      "text/plain": [
       "   mpg cylinders displacement horsepower weight acceleration year origin\n",
       "1  18  8         307          130        3504   12.0         70   1     \n",
       "2  15  8         350          165        3693   11.5         70   1     \n",
       "3  18  8         318          150        3436   11.0         70   1     \n",
       "4  16  8         304          150        3433   12.0         70   1     \n",
       "5  17  8         302          140        3449   10.5         70   1     \n",
       "6  15  8         429          198        4341   10.0         70   1     \n",
       "7  14  8         454          220        4354    9.0         70   1     \n",
       "8  14  8         440          215        4312    8.5         70   1     \n",
       "9  14  8         455          225        4425   10.0         70   1     \n",
       "10 15  8         390          190        3850    8.5         70   1     \n",
       "   name                     \n",
       "1  chevrolet chevelle malibu\n",
       "2  buick skylark 320        \n",
       "3  plymouth satellite       \n",
       "4  amc rebel sst            \n",
       "5  ford torino              \n",
       "6  ford galaxie 500         \n",
       "7  chevrolet impala         \n",
       "8  plymouth fury iii        \n",
       "9  pontiac catalina         \n",
       "10 amc ambassador dpl       "
      ]
     },
     "metadata": {},
     "output_type": "display_data"
    }
   ],
   "source": [
    "Auto\n",
    "Auto %>% \n",
    "    slice(1:10)"
   ]
  },
  {
   "cell_type": "markdown",
   "metadata": {},
   "source": [
    "If data isn't internal to packages, .csv files are the most common way for data to be formatted. CSV files are simply text files, which you could alternatively open on your computer using a standard text editor. While it is often tempting to view a data set using Excel before loading it into `R`, it can introduce problems in the data later. \n",
    "\n",
    "We can use the `read_csv()` function in the `readr` package to load in a CSV file. The help file contains details about how to use this function.\n",
    "\n",
    "Before attempting to load a data set, we must make sure that `R` knows to search for the data in the proper directory. If you are using internal package data, this isn't a concern-- just make sure you have run `library()` on the package containing the data. For external data, the easiest way make sure the data is accessible to R is to put the data in the same folder as your Jupyter notebook. We have a file called `Auto.csv` in this directory, so we can read it in without worrying about the file path. \n",
    "\n",
    "When we read in data that is external, we must give it a name. We'll call it `Auto` and use the assignment operator `=`. The assignment operator `<-` is equivalent, and using one or the other is a matter of personal preference."
   ]
  },
  {
   "cell_type": "code",
   "execution_count": 11,
   "metadata": {},
   "outputs": [
    {
     "ename": "ERROR",
     "evalue": "Error: 'Auto.csv' does not exist in current working directory ('/home/iserina/Notebook/mldmlab').\n",
     "output_type": "error",
     "traceback": [
      "Error: 'Auto.csv' does not exist in current working directory ('/home/iserina/Notebook/mldmlab').\nTraceback:\n",
      "1. read_csv(\"Auto.csv\", na = \"?\")",
      "2. read_delimited(file, tokenizer, col_names = col_names, col_types = col_types, \n .     locale = locale, skip = skip, skip_empty_rows = skip_empty_rows, \n .     comment = comment, n_max = n_max, guess_max = guess_max, \n .     progress = progress)",
      "3. standardise_path(file)",
      "4. check_path(path)",
      "5. stop(\"'\", path, \"' does not exist\", if (!is_absolute_path(path)) paste0(\" in current working directory ('\", \n .     getwd(), \"')\"), \".\", call. = FALSE)"
     ]
    }
   ],
   "source": [
    "Auto=read_csv(\"Auto.csv\", na=\"?\")\n",
    "Auto %>% \n",
    "    slice(1:10)"
   ]
  },
  {
   "cell_type": "markdown",
   "metadata": {},
   "source": [
    "Notice that the data looks just the same as when we loaded it from the package. Now that we have the data, we can begin to learn things about it."
   ]
  },
  {
   "cell_type": "code",
   "execution_count": 12,
   "metadata": {},
   "outputs": [
    {
     "data": {
      "text/html": [
       "<ol class=list-inline>\n",
       "\t<li>392</li>\n",
       "\t<li>9</li>\n",
       "</ol>\n"
      ],
      "text/latex": [
       "\\begin{enumerate*}\n",
       "\\item 392\n",
       "\\item 9\n",
       "\\end{enumerate*}\n"
      ],
      "text/markdown": [
       "1. 392\n",
       "2. 9\n",
       "\n",
       "\n"
      ],
      "text/plain": [
       "[1] 392   9"
      ]
     },
     "metadata": {},
     "output_type": "display_data"
    }
   ],
   "source": [
    "dim(Auto)"
   ]
  },
  {
   "cell_type": "code",
   "execution_count": 13,
   "metadata": {},
   "outputs": [
    {
     "name": "stdout",
     "output_type": "stream",
     "text": [
      "'data.frame':\t392 obs. of  9 variables:\n",
      " $ mpg         : num  18 15 18 16 17 15 14 14 14 15 ...\n",
      " $ cylinders   : num  8 8 8 8 8 8 8 8 8 8 ...\n",
      " $ displacement: num  307 350 318 304 302 429 454 440 455 390 ...\n",
      " $ horsepower  : num  130 165 150 150 140 198 220 215 225 190 ...\n",
      " $ weight      : num  3504 3693 3436 3433 3449 ...\n",
      " $ acceleration: num  12 11.5 11 12 10.5 10 9 8.5 10 8.5 ...\n",
      " $ year        : num  70 70 70 70 70 70 70 70 70 70 ...\n",
      " $ origin      : num  1 1 1 1 1 1 1 1 1 1 ...\n",
      " $ name        : Factor w/ 304 levels \"amc ambassador brougham\",..: 49 36 231 14 161 141 54 223 241 2 ...\n"
     ]
    }
   ],
   "source": [
    "str(Auto)"
   ]
  },
  {
   "cell_type": "code",
   "execution_count": 14,
   "metadata": {},
   "outputs": [
    {
     "data": {
      "text/html": [
       "<ol class=list-inline>\n",
       "\t<li>'mpg'</li>\n",
       "\t<li>'cylinders'</li>\n",
       "\t<li>'displacement'</li>\n",
       "\t<li>'horsepower'</li>\n",
       "\t<li>'weight'</li>\n",
       "\t<li>'acceleration'</li>\n",
       "\t<li>'year'</li>\n",
       "\t<li>'origin'</li>\n",
       "\t<li>'name'</li>\n",
       "</ol>\n"
      ],
      "text/latex": [
       "\\begin{enumerate*}\n",
       "\\item 'mpg'\n",
       "\\item 'cylinders'\n",
       "\\item 'displacement'\n",
       "\\item 'horsepower'\n",
       "\\item 'weight'\n",
       "\\item 'acceleration'\n",
       "\\item 'year'\n",
       "\\item 'origin'\n",
       "\\item 'name'\n",
       "\\end{enumerate*}\n"
      ],
      "text/markdown": [
       "1. 'mpg'\n",
       "2. 'cylinders'\n",
       "3. 'displacement'\n",
       "4. 'horsepower'\n",
       "5. 'weight'\n",
       "6. 'acceleration'\n",
       "7. 'year'\n",
       "8. 'origin'\n",
       "9. 'name'\n",
       "\n",
       "\n"
      ],
      "text/plain": [
       "[1] \"mpg\"          \"cylinders\"    \"displacement\" \"horsepower\"   \"weight\"      \n",
       "[6] \"acceleration\" \"year\"         \"origin\"       \"name\"        "
      ]
     },
     "metadata": {},
     "output_type": "display_data"
    }
   ],
   "source": [
    "names(Auto)"
   ]
  },
  {
   "cell_type": "markdown",
   "metadata": {},
   "source": [
    "The `dim()` function tells us that the data has 392 observations, or rows, and\n",
    "nine variables, or columns. The original data had some empty rows, but when we read the data in `R` knew to ignore them. \n",
    "\n",
    "The ` str()` function tells us that most of the variables are numeric or integer, although the ` name ` variable is a character vector. \n",
    "\n",
    "` names()` lets us check the variable names.\n",
    "\n",
    "# Summary statistics\n",
    "\n",
    "Often, we want to know some basic things about variables in our data. `summary()` on an entire dataset will give you an idea of some of the distributions of your variables.\n",
    "\n",
    "The ` summary()` function produces a numerical summary of each variable in\n",
    "a particular data set."
   ]
  },
  {
   "cell_type": "code",
   "execution_count": null,
   "metadata": {},
   "outputs": [],
   "source": [
    " summary(Auto)"
   ]
  },
  {
   "cell_type": "markdown",
   "metadata": {},
   "source": [
    "The summary suggests that `origin` might be better thought of as a factor. It only seems to have three possible values, `1`, `2` and `3`. If we read the documentation about the data (using `?Auto`) we will learn that these numbers correspond to where the car is from: 1. American, 2. European, 3. Japanese."
   ]
  },
  {
   "cell_type": "code",
   "execution_count": null,
   "metadata": {},
   "outputs": [],
   "source": [
    "?Auto"
   ]
  },
  {
   "cell_type": "markdown",
   "metadata": {},
   "source": [
    "So, lets `mutate()` that variable into a factor (categorical) variable."
   ]
  },
  {
   "cell_type": "code",
   "execution_count": null,
   "metadata": {},
   "outputs": [],
   "source": [
    "Auto = Auto %>%\n",
    "    mutate(origin = factor(origin))\n",
    "summary(Auto)"
   ]
  },
  {
   "cell_type": "markdown",
   "metadata": {},
   "source": [
    "We can also look at statistics for a particular variable with the function `favstats()`"
   ]
  },
  {
   "cell_type": "code",
   "execution_count": null,
   "metadata": {},
   "outputs": [],
   "source": [
    "favstats(~mpg, data=Auto)"
   ]
  },
  {
   "cell_type": "markdown",
   "metadata": {},
   "source": [
    "Or, just look at one particular statistic using `mean()`, `sd()`, `median()`, `IQR()`, and more."
   ]
  },
  {
   "cell_type": "code",
   "execution_count": null,
   "metadata": {},
   "outputs": [],
   "source": [
    "mean(~displacement, data=Auto)"
   ]
  },
  {
   "cell_type": "markdown",
   "metadata": {},
   "source": [
    "# Plotting\n",
    "\n",
    "We can use the `ggplot2` package to produce simple graphics. `ggplot2` has a particular syntax, which looks like this"
   ]
  },
  {
   "cell_type": "code",
   "execution_count": 8,
   "metadata": {},
   "outputs": [
    {
     "ename": "ERROR",
     "evalue": "Error in ggplot(Auto): non trovo la funzione \"ggplot\"\n",
     "output_type": "error",
     "traceback": [
      "Error in ggplot(Auto): non trovo la funzione \"ggplot\"\nTraceback:\n"
     ]
    }
   ],
   "source": [
    "ggplot(Auto) + geom_point(aes(x=cylinders, y=mpg))"
   ]
  },
  {
   "cell_type": "markdown",
   "metadata": {},
   "source": [
    "The basic idea is that you need to initialize a plot with `ggplot()` and then add \"geoms\" (short for geometric objects) to the plot. The `ggplot2` package is based on the [Grammar of Graphics](https://www.google.com/url?sa=t&rct=j&q=&esrc=s&source=web&cd=1&cad=rja&uact=8&ved=0ahUKEwjV6I6F4ILPAhUFPT4KHTFiBwgQFggcMAA&url=https%3A%2F%2Fwww.amazon.com%2FGrammar-Graphics-Statistics-Computing%2Fdp%2F0387245448&usg=AFQjCNF5D6H3ySCsgqBTdp96KNF3bGyU2Q&sig2=GnNgoN6Ztn3AJSTJYaMPwA), a famous book on data visualization theory. It is a way to map attributes in your data (like variables) to \"aesthetics\" on the plot. The parameter `aes()` is short for aesthetic. \n",
    "\n",
    "For more about the `ggplot2` syntax, view the help by typing `?ggplot` or `?geom_point`. There are also great online resources for `ggplot2`, like the [R graphics cookbook](http://www.cookbook-r.com/Graphs/)."
   ]
  },
  {
   "cell_type": "code",
   "execution_count": null,
   "metadata": {},
   "outputs": [],
   "source": [
    "?ggplot"
   ]
  },
  {
   "cell_type": "markdown",
   "metadata": {},
   "source": [
    "The ` cylinders` variable is stored as a numeric vector, so `R` has treated it\n",
    "as quantitative. However, since there are only a small number of possible\n",
    "values for cylinders, one may prefer to treat it as a qualitative variable.\n",
    "We can turn it into a factor, again using a `mutate()` call."
   ]
  },
  {
   "cell_type": "code",
   "execution_count": null,
   "metadata": {},
   "outputs": [],
   "source": [
    "Auto = Auto %>%\n",
    "    mutate(cylinders = factor(cylinders))"
   ]
  },
  {
   "cell_type": "markdown",
   "metadata": {},
   "source": [
    "To view the relationship between a categorical and a numeric variable, we might want to produce _boxplots_. As usual, a number of options can be specified in order to customize the plots."
   ]
  },
  {
   "cell_type": "code",
   "execution_count": null,
   "metadata": {},
   "outputs": [],
   "source": [
    "ggplot(Auto) + geom_boxplot(aes(x=cylinders, y=mpg)) + xlab(\"Cylinders\") + ylab(\"MPG\")"
   ]
  },
  {
   "cell_type": "markdown",
   "metadata": {},
   "source": [
    "The geom `geom_histogram()` can be used to plot a histogram."
   ]
  },
  {
   "cell_type": "code",
   "execution_count": null,
   "metadata": {},
   "outputs": [],
   "source": [
    "ggplot(Auto) + geom_histogram(aes(x=mpg))"
   ]
  },
  {
   "cell_type": "markdown",
   "metadata": {},
   "source": [
    "The function warns us that it used a default number of bins, so we should think more carefully about what value makes sense."
   ]
  },
  {
   "cell_type": "code",
   "execution_count": null,
   "metadata": {},
   "outputs": [],
   "source": [
    "ggplot(Auto) + geom_histogram(aes(x=mpg), binwidth=5) "
   ]
  },
  {
   "cell_type": "markdown",
   "metadata": {},
   "source": [
    "For small datasets, we might want to see all the bivariate relationships between the variables. The `GGally` package has an extension of the scatterplot matrix that can do just that. (Be patient-- it takes a long time!)"
   ]
  },
  {
   "cell_type": "code",
   "execution_count": null,
   "metadata": {},
   "outputs": [],
   "source": [
    "Auto %>% ggpairs()"
   ]
  },
  {
   "cell_type": "markdown",
   "metadata": {},
   "source": [
    "We can also produce a pairs plot for just a subset of the variables by piping just a selection of the variables into the plot."
   ]
  },
  {
   "cell_type": "code",
   "execution_count": null,
   "metadata": {},
   "outputs": [],
   "source": [
    "Auto %>% select(mpg, cylinders) %>%\n",
    "    ggpairs()"
   ]
  },
  {
   "cell_type": "markdown",
   "metadata": {},
   "source": [
    "Sometimes, we might want to save a plot for use outside of R. To do this, we can use the `ggsave()` function."
   ]
  },
  {
   "cell_type": "code",
   "execution_count": null,
   "metadata": {},
   "outputs": [],
   "source": [
    "ggsave(\"histogram.png\",\n",
    "       ggplot(Auto) + geom_histogram(aes(x=mpg), binwidth=5) \n",
    "      )"
   ]
  },
  {
   "cell_type": "markdown",
   "metadata": {},
   "source": [
    "# Appendices\n",
    "\n",
    "These sections are not required in order to understand the tidyverse material we are focusing on, but are part of the lab in the book, so we are including them here. The appendices start with making your own vectors and matrices, something which is almost never required in the tidyverse. Then, the appendices move on to more sophisticated plots (such as those in 3 dimensions) and finish up with some introduction to indexing using numbers. With our tidy tools, we will try to avoid indexing using numbers if at all possible, but you may want to look at this material to see another method for slicing data.\n",
    "\n",
    "# Making vectors and matrices\n",
    "\n",
    "`R` uses functions to perform operations. To run a function called `funcname`, we type `funcname(input1, input2)`, where the inputs (or arguments) `input1` and `input2` tell `R` how to run the function. A function can have any number of inputs. \n",
    "\n",
    "For example, to create a vector of numbers, we use the function\n",
    "`c()` (for concatenate). Any numbers inside the parentheses are joined together. The following command instructs `R` to join together the numbers 1, 3, 2, and 5, and to save them as a vector named `x`. When we type `x`, it gives us back the vector."
   ]
  },
  {
   "cell_type": "code",
   "execution_count": null,
   "metadata": {},
   "outputs": [],
   "source": [
    "x <- c(1,3,2,5)\n",
    "x"
   ]
  },
  {
   "cell_type": "markdown",
   "metadata": {},
   "source": [
    "We can also save things using $=$ rather than $<-$:"
   ]
  },
  {
   "cell_type": "code",
   "execution_count": null,
   "metadata": {},
   "outputs": [],
   "source": [
    "x = c(1,6,2)\n",
    "x"
   ]
  },
  {
   "cell_type": "markdown",
   "metadata": {},
   "source": [
    "Hitting the up arrow multiple times will display the previous commands,\n",
    "which can then be edited. This is useful since one often wishes to repeat\n",
    "a similar command. In addition, typing `?funcname` will always cause `R` to\n",
    "open a new help file window with additional information about the function\n",
    "`funcname`."
   ]
  },
  {
   "cell_type": "code",
   "execution_count": null,
   "metadata": {},
   "outputs": [],
   "source": [
    "?c"
   ]
  },
  {
   "cell_type": "markdown",
   "metadata": {},
   "source": [
    "We can tell `R` to add two sets of numbers together. It will then add the\n",
    "first number from `x` to the first number from `y`, and so on. To do this, `x` and\n",
    "`x` should be the same length. We can check the length of each vector using the `length()`\n",
    "function:"
   ]
  },
  {
   "cell_type": "code",
   "execution_count": null,
   "metadata": {},
   "outputs": [],
   "source": [
    "y = c(1,4,3)\n",
    "length(x)==length(y)"
   ]
  },
  {
   "cell_type": "markdown",
   "metadata": {},
   "source": [
    "Looks good, so let's sum them up (I'll print the starting value of the `x` and `y` vectors, too):"
   ]
  },
  {
   "cell_type": "code",
   "execution_count": null,
   "metadata": {},
   "outputs": [],
   "source": [
    "#Value of x\n",
    "x\n",
    "\n",
    "#Value of y\n",
    "y\n",
    "\n",
    "#Value of x+y\n",
    "x+y"
   ]
  },
  {
   "cell_type": "markdown",
   "metadata": {},
   "source": [
    "The `ls()` function allows us to look at a list of all of the objects, such as data and functions, that we have saved so far:"
   ]
  },
  {
   "cell_type": "code",
   "execution_count": null,
   "metadata": {},
   "outputs": [],
   "source": [
    "ls()"
   ]
  },
  {
   "cell_type": "markdown",
   "metadata": {},
   "source": [
    "The `rm()` function can be used to delete any that we don’t want:"
   ]
  },
  {
   "cell_type": "code",
   "execution_count": null,
   "metadata": {},
   "outputs": [],
   "source": [
    "rm(x)\n",
    "ls()"
   ]
  },
  {
   "cell_type": "markdown",
   "metadata": {},
   "source": [
    "It’s also possible to remove all objects at once (effectively clearing the history):"
   ]
  },
  {
   "cell_type": "code",
   "execution_count": null,
   "metadata": {},
   "outputs": [],
   "source": [
    "rm(list=ls())"
   ]
  },
  {
   "cell_type": "markdown",
   "metadata": {},
   "source": [
    "The `matrix()` function can be used to create a matrix of numbers. Before\n",
    "we use the `matrix()` function, we can learn more about it:"
   ]
  },
  {
   "cell_type": "code",
   "execution_count": null,
   "metadata": {},
   "outputs": [],
   "source": [
    "?matrix"
   ]
  },
  {
   "cell_type": "markdown",
   "metadata": {},
   "source": [
    "The help file reveals that the `matrix()` function takes a number of inputs,\n",
    "but for now we focus on the first three: the data (the entries in the matrix),\n",
    "the number of rows, and the number of columns. First, we create a simple\n",
    "matrix."
   ]
  },
  {
   "cell_type": "code",
   "execution_count": null,
   "metadata": {},
   "outputs": [],
   "source": [
    "x=matrix(data=c(1,2,3,4,5,6), ncol=2, nrow=3)\n",
    "x"
   ]
  },
  {
   "cell_type": "markdown",
   "metadata": {},
   "source": [
    "Note that we could just as well omit typing `data=`, `nrow=`, and `ncol=` in the\n",
    "`matrix()` command above: that is, we could just type"
   ]
  },
  {
   "cell_type": "code",
   "execution_count": null,
   "metadata": {},
   "outputs": [],
   "source": [
    "x=matrix(c(1,2,3,4,5,6),3,2)\n",
    "x"
   ]
  },
  {
   "cell_type": "markdown",
   "metadata": {},
   "source": [
    "and this would have the same effect. However, it can sometimes be useful to\n",
    "specify the names of the arguments passed in, since otherwise `R` will assume\n",
    "that the function arguments are passed into the function in the same order\n",
    "that is given in the function’s help file. As this example illustrates, by\n",
    "default `R` creates matrices by successively filling in columns. Alternatively,\n",
    "the `byrow=TRUE` option can be used to populate the matrix in order of the\n",
    "rows."
   ]
  },
  {
   "cell_type": "code",
   "execution_count": null,
   "metadata": {},
   "outputs": [],
   "source": [
    "matrix(c(1,2,3,4),2,2,byrow=TRUE)\n",
    "matrix(c(1,2,3,4),2,2,byrow=FALSE)"
   ]
  },
  {
   "cell_type": "markdown",
   "metadata": {},
   "source": [
    "(Notice that in the above command we did not assign the matrix to a value\n",
    "such as `x`. In this case the matrix is printed to the screen but is not saved\n",
    "for future calculations.)\n",
    "\n",
    "The `sqrt()` function returns the square root of each element of a vector or matrix. The command `x^2` raises each element of `x` to the power 2; any powers are possible, including fractional or negative\n",
    "powers."
   ]
  },
  {
   "cell_type": "code",
   "execution_count": null,
   "metadata": {},
   "outputs": [],
   "source": [
    "# orginal value of x\n",
    "x\n",
    "\n",
    "# square root\n",
    "sqrt(x)\n",
    "\n",
    "# values squared\n",
    "x^2"
   ]
  },
  {
   "cell_type": "markdown",
   "metadata": {},
   "source": [
    "The `rnorm()` function generates a vector of random normal variables,\n",
    "with first argument `n` the sample size. Each time we call this function, we\n",
    "will get a different answer. Here we create two correlated sets of numbers,\n",
    "`x` and `y`, and use the `cor()` function to compute the correlation between\n",
    "them."
   ]
  },
  {
   "cell_type": "code",
   "execution_count": null,
   "metadata": {},
   "outputs": [],
   "source": [
    "x=rnorm(50)\n",
    "y=x+rnorm(50,mean=50,sd=5)\n",
    "cor(x,y)"
   ]
  },
  {
   "cell_type": "markdown",
   "metadata": {},
   "source": [
    "By default, `rnorm()` creates standard normal random variables with a mean\n",
    "of 0 and a standard deviation of 1. However, the mean and standard deviation\n",
    "can be altered using the `mean` and `sd` arguments, as illustrated above.\n",
    "Sometimes we want our code to reproduce the exact same set of random\n",
    "numbers; we can use the `set.seed()` function to do this. The `set.seed()`\n",
    "function takes an (arbitrary) integer argument."
   ]
  },
  {
   "cell_type": "code",
   "execution_count": null,
   "metadata": {},
   "outputs": [],
   "source": [
    "set.seed(13)\n",
    "rnorm(50)"
   ]
  },
  {
   "cell_type": "markdown",
   "metadata": {},
   "source": [
    "We'll use `set.seed()` throughout the labs whenever we perform calculations\n",
    "involving random quantities. In general this should allow each of you to reproduce\n",
    "the results from the book. Depending on your version of `R` it is possible that some small discrepancies may appear between the book and your output from `R`.\n",
    "\n",
    "The `mean()` and `var()` functions can be used to compute the mean and\n",
    "variance of a vector of numbers. Applying `sqrt()` to the output of `var()`\n",
    "will give the standard deviation. Or we can simply use the `sd()` function."
   ]
  },
  {
   "cell_type": "code",
   "execution_count": null,
   "metadata": {},
   "outputs": [],
   "source": [
    "set.seed(3)\n",
    "y=rnorm(100)\n",
    "y[0:10]\n",
    "\n",
    "# Compute the mean\n",
    "mean(y)\n",
    "\n",
    "# Compute the variance\n",
    "var(y)\n",
    "\n",
    "# Standard deviation = square root of variance\n",
    "sqrt(var(y))\n",
    "\n",
    "# But there's a function for that\n",
    "sd(y)"
   ]
  },
  {
   "cell_type": "markdown",
   "metadata": {},
   "source": [
    "# Graphics\n",
    "\n",
    "We will now create some more sophisticated plots. The `contour()` function produces a contour plot in order to represent three-dimensional data; it is like a topographical map. It takes three arguments:\n",
    "\n",
    "1. A vector of the `x` values (the first dimension),\n",
    "2. A vector of the `y` values (the second dimension), and\n",
    "3. A `matrix` whose elements correspond to the `z` value (the third dimension) for each pair of `(x,y)` coordinates.\n",
    "\n",
    "As with the `plot()` function, there are many other inputs that can be used\n",
    "to fine-tune the output of the `contour()` function. To learn more about\n",
    "these, take a look at the help file by typing `?contour`."
   ]
  },
  {
   "cell_type": "code",
   "execution_count": null,
   "metadata": {},
   "outputs": [],
   "source": [
    "y=x\n",
    "f=outer(x,y,function(x,y)cos(y)/(1+x^2))\n",
    "contour(x,y,f)\n",
    "contour(x,y,f,nlevels=45,add=T)\n",
    "fa=(f-t(f))/2\n",
    "contour(x,y,fa,nlevels=15)"
   ]
  },
  {
   "cell_type": "markdown",
   "metadata": {},
   "source": [
    "The `image()` function works the same way as `contour()`, except that it\n",
    "produces a color-coded plot whose colors depend on the `z` value. This is known as a heatmap, and is sometimes used to plot temperature in weather\n",
    "forecasts. Alternatively, `persp()` can be used to produce a three-dimensional\n",
    "plot. The arguments `theta` and `phi` control the angles at which the plot is\n",
    "viewed."
   ]
  },
  {
   "cell_type": "code",
   "execution_count": null,
   "metadata": {},
   "outputs": [],
   "source": [
    "image(x,y,fa)\n",
    "persp(x,y,fa,theta=30,phi=40)"
   ]
  },
  {
   "cell_type": "markdown",
   "metadata": {},
   "source": [
    "# Indexing Data\n",
    "\n",
    "We often wish to examine part of a set of data. Suppose that our data is\n",
    "stored in the matrix `A`."
   ]
  },
  {
   "cell_type": "code",
   "execution_count": null,
   "metadata": {},
   "outputs": [],
   "source": [
    "A=matrix(1:16,4,4)\n",
    "A"
   ]
  },
  {
   "cell_type": "markdown",
   "metadata": {},
   "source": [
    "Then, typing:"
   ]
  },
  {
   "cell_type": "code",
   "execution_count": null,
   "metadata": {},
   "outputs": [],
   "source": [
    "A[2,3]"
   ]
  },
  {
   "cell_type": "markdown",
   "metadata": {},
   "source": [
    "will select the element corresponding to the second row and the third column.\n",
    "The first number after the open-bracket symbol `[` always refers to\n",
    "the row, and the second number always refers to the column. We can also\n",
    "select multiple rows and columns at a time, by providing vectors as the\n",
    "indices."
   ]
  },
  {
   "cell_type": "code",
   "execution_count": null,
   "metadata": {},
   "outputs": [],
   "source": [
    "A[c(1,3),c(2,4)]\n",
    "A[1:3,2:4]\n",
    "A[1:2,]\n",
    "A[,1:2]"
   ]
  },
  {
   "cell_type": "markdown",
   "metadata": {},
   "source": [
    "The last two examples include either no index for the columns or no index\n",
    "for the rows. These indicate that `R` should include all columns or all rows,\n",
    "respectively. `R` treats a single row or column of a matrix as a vector."
   ]
  },
  {
   "cell_type": "code",
   "execution_count": null,
   "metadata": {},
   "outputs": [],
   "source": [
    "A[,1]"
   ]
  },
  {
   "cell_type": "markdown",
   "metadata": {},
   "source": [
    "The use of a negative sign `-` in the index tells R to keep all rows or columns\n",
    "_except_ those indicated in the index."
   ]
  },
  {
   "cell_type": "code",
   "execution_count": null,
   "metadata": {},
   "outputs": [],
   "source": [
    "A[-c(1,3),]\n",
    "A[-c(1,3),-c(1,3,4)]"
   ]
  },
  {
   "cell_type": "markdown",
   "metadata": {},
   "source": [
    "The `dim()` function outputs the dimensions of a matrix, written as the number of rows followed by the number of\n",
    "columns."
   ]
  },
  {
   "cell_type": "code",
   "execution_count": null,
   "metadata": {},
   "outputs": [],
   "source": [
    "dim(A)"
   ]
  }
 ],
 "metadata": {
  "kernelspec": {
   "display_name": "R",
   "language": "R",
   "name": "ir"
  },
  "language_info": {
   "codemirror_mode": "r",
   "file_extension": ".r",
   "mimetype": "text/x-r-source",
   "name": "R",
   "pygments_lexer": "r",
   "version": "3.5.3"
  }
 },
 "nbformat": 4,
 "nbformat_minor": 2
}
