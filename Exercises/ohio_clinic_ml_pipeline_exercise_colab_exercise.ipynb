{
  "cells": [
    {
      "cell_type": "markdown",
      "metadata": {
        "id": "ahc60uaA1LC8"
      },
      "source": [
        "# Ohio Clinic Dataset - Advanced ML Pipeline"
      ]
    },
    {
      "cell_type": "code",
      "source": [
        "!pip install ydata-profiling optuna-integration"
      ],
      "metadata": {
        "id": "nOJkJWkB1MTz",
        "collapsed": true
      },
      "execution_count": null,
      "outputs": []
    },
    {
      "cell_type": "markdown",
      "source": [
        "## Mount GDrive"
      ],
      "metadata": {
        "id": "QYCiKsNO1cdB"
      }
    },
    {
      "cell_type": "code",
      "source": [
        "from google.colab import drive\n",
        "drive.mount('/content/drive')"
      ],
      "metadata": {
        "id": "tHh89uQS1bQY",
        "collapsed": true
      },
      "execution_count": null,
      "outputs": []
    },
    {
      "cell_type": "markdown",
      "metadata": {
        "id": "oWY94H_81LC-"
      },
      "source": [
        "## Imports"
      ]
    },
    {
      "cell_type": "code",
      "execution_count": null,
      "metadata": {
        "id": "Z6Ifx3Am1LC-"
      },
      "outputs": [],
      "source": [
        "import joblib\n",
        "\n",
        "import matplotlib\n",
        "import matplotlib.pyplot as plt\n",
        "\n",
        "import seaborn as sns\n",
        "\n",
        "import numpy as np\n",
        "import pandas as pd\n",
        "from ydata_profiling import ProfileReport\n",
        "\n",
        "from sklearn.pipeline import Pipeline\n",
        "from sklearn.preprocessing import MinMaxScaler, FunctionTransformer, OneHotEncoder\n",
        "from sklearn.ensemble import RandomForestClassifier\n",
        "from sklearn.compose import ColumnTransformer\n",
        "from sklearn.impute import SimpleImputer\n",
        "from sklearn.metrics import classification_report\n",
        "\n",
        "import optuna\n",
        "from optuna.integration import OptunaSearchCV\n",
        "from optuna.distributions import (\n",
        "    IntDistribution ,\n",
        "    CategoricalDistribution,\n",
        "    FloatDistribution,\n",
        ")"
      ]
    },
    {
      "cell_type": "code",
      "execution_count": null,
      "metadata": {
        "id": "EBqrea1I1LDA"
      },
      "outputs": [],
      "source": [
        "from sklearn import set_config\n",
        "\n",
        "# Set sklearn to show diagrams for pipelines\n",
        "set_config(display='diagram')"
      ]
    },
    {
      "cell_type": "markdown",
      "metadata": {
        "id": "9gLsEQaU1LDA"
      },
      "source": [
        "## Constants"
      ]
    },
    {
      "cell_type": "code",
      "execution_count": 3,
      "metadata": {
        "id": "8lf1uQI21LDA"
      },
      "outputs": [],
      "source": [
        "# Set the verbose parameter to 1 to see the progress of the optimization\n",
        "VERBOSE = 1"
      ]
    },
    {
      "cell_type": "code",
      "execution_count": null,
      "metadata": {
        "id": "via_oUKY1LDA"
      },
      "outputs": [],
      "source": [
        "# Base folder\n",
        "BASE_URL = \"https://raw.githubusercontent.com/serivan/mldmlab/master/Datasets/\"\n",
        "\n",
        "# Define the train and test data paths\n",
        "TRAIN_DATA_PATH =  BASE_URL + \"mldm_ohio_clinic_train.csv\"\n",
        "TEST_DATA_PATH = BASE_URL + \"mldm_ohio_clinic_test.csv\"\n",
        "\n",
        "# Define the random state\n",
        "RANDOM_STATE = 3993"
      ]
    },
    {
      "cell_type": "code",
      "source": [],
      "metadata": {
        "id": "60RJ8YH0jOLl"
      },
      "execution_count": null,
      "outputs": []
    },
    {
      "cell_type": "code",
      "execution_count": null,
      "metadata": {
        "id": "75AhUll11LDA"
      },
      "outputs": [],
      "source": [
        "# Define the optuna search hyperparameters\n",
        "N_TRIALS = 20\n",
        "N_JOBS = 8\n",
        "CROSS_VALIDATION = 3"
      ]
    },
    {
      "cell_type": "markdown",
      "metadata": {
        "id": "3gVU0W8r1LDA"
      },
      "source": [
        "## Load Data"
      ]
    },
    {
      "cell_type": "code",
      "execution_count": null,
      "metadata": {
        "id": "EZPEFrxP1LDB"
      },
      "outputs": [],
      "source": [
        "# Load the train and test data from the CSV files using pandas"
      ]
    },
    {
      "cell_type": "markdown",
      "metadata": {
        "vscode": {
          "languageId": "plaintext"
        },
        "id": "G5TOmLQn1LDB"
      },
      "source": [
        "### Features Exploration"
      ]
    },
    {
      "cell_type": "code",
      "execution_count": null,
      "metadata": {
        "id": "gmpFMTwO1LDB"
      },
      "outputs": [],
      "source": [
        "# Print the first few rows of the train data to explore the columns and data"
      ]
    },
    {
      "cell_type": "code",
      "execution_count": null,
      "metadata": {
        "id": "p54ypmnD1LDC"
      },
      "outputs": [],
      "source": [
        "# Print the length of the train and test data"
      ]
    },
    {
      "cell_type": "code",
      "execution_count": null,
      "metadata": {
        "id": "J5pKxgmf1LDC"
      },
      "outputs": [],
      "source": [
        "# Print the frequency of each value in the target column"
      ]
    },
    {
      "cell_type": "code",
      "execution_count": null,
      "metadata": {
        "id": "uqf2ZwRQ1LDC"
      },
      "outputs": [],
      "source": [
        "# Print the types of the columns"
      ]
    },
    {
      "cell_type": "markdown",
      "metadata": {
        "id": "u7UG3pBW1LDC"
      },
      "source": [
        "### Dataset Profiling (Pandas Profiling)"
      ]
    },
    {
      "cell_type": "code",
      "execution_count": null,
      "metadata": {
        "id": "MiUuSA151LDC"
      },
      "outputs": [],
      "source": [
        "# Profile the train data using the ydata_profiling library"
      ]
    },
    {
      "cell_type": "code",
      "execution_count": null,
      "metadata": {
        "id": "M1G-LzdS1LDD"
      },
      "outputs": [],
      "source": [
        "# Save the profile report to an HTML file"
      ]
    },
    {
      "cell_type": "markdown",
      "metadata": {
        "id": "jD1XsGDz1LDD"
      },
      "source": [
        "### Data Visualisation"
      ]
    },
    {
      "cell_type": "code",
      "execution_count": null,
      "metadata": {
        "id": "KCYzUjkT1LDD"
      },
      "outputs": [],
      "source": [
        "# Show the bar chart of the Hipertension column"
      ]
    },
    {
      "cell_type": "code",
      "execution_count": null,
      "metadata": {
        "id": "E9QOp5IA1LDD"
      },
      "outputs": [],
      "source": [
        "# Plotting Box Plot of Patients’ Age by No-Shows"
      ]
    },
    {
      "cell_type": "markdown",
      "metadata": {
        "id": "qWQ7GriY1LDE"
      },
      "source": [
        "### Data Issues Identification"
      ]
    },
    {
      "cell_type": "code",
      "execution_count": null,
      "metadata": {
        "id": "N5zUdNt41LDE"
      },
      "outputs": [],
      "source": [
        "# Count the number of missing values in each column of the train data"
      ]
    },
    {
      "cell_type": "markdown",
      "metadata": {
        "id": "0lqoMaRM1LDE"
      },
      "source": [
        "## Data Preprocessing"
      ]
    },
    {
      "cell_type": "markdown",
      "metadata": {
        "id": "Tq7mAizQ1LDE"
      },
      "source": [
        "### Duplicates removal"
      ]
    },
    {
      "cell_type": "code",
      "execution_count": null,
      "metadata": {
        "id": "MwIWCNJF1LDE"
      },
      "outputs": [],
      "source": [
        "# Remove duplicates from the train data"
      ]
    },
    {
      "cell_type": "code",
      "execution_count": null,
      "metadata": {
        "id": "nPESEq3r1LDE"
      },
      "outputs": [],
      "source": [
        "# Print the new shapes for train and test data"
      ]
    },
    {
      "cell_type": "markdown",
      "metadata": {
        "id": "-AanAlLJ1LDE"
      },
      "source": [
        "### X and y split"
      ]
    },
    {
      "cell_type": "code",
      "execution_count": null,
      "metadata": {
        "id": "aAWV4t6C1LDF"
      },
      "outputs": [],
      "source": [
        "# Divide the train and test data into features and target"
      ]
    },
    {
      "cell_type": "markdown",
      "metadata": {
        "id": "Nocj4NuO1LDF"
      },
      "source": [
        "### Convert the target column to binary values"
      ]
    },
    {
      "cell_type": "code",
      "execution_count": null,
      "metadata": {
        "id": "hKrfCQyd1LDF"
      },
      "outputs": [],
      "source": [
        "# Convert the target column to binary values"
      ]
    },
    {
      "cell_type": "code",
      "execution_count": null,
      "metadata": {
        "id": "0pm-AAA91LDF"
      },
      "outputs": [],
      "source": [
        "# Count the values for mapping check"
      ]
    },
    {
      "cell_type": "markdown",
      "metadata": {
        "id": "qyoncthc1LDF"
      },
      "source": [
        "## Classification Pipeline Definition"
      ]
    },
    {
      "cell_type": "markdown",
      "metadata": {
        "id": "8NC7c-tT1LDF"
      },
      "source": [
        "### In-Pipeline Columns Selection and Transformation"
      ]
    },
    {
      "cell_type": "code",
      "execution_count": null,
      "metadata": {
        "id": "WIPqANDk1LDF"
      },
      "outputs": [],
      "source": [
        "# Define the column transformation for the numerical columns considering that\n",
        "# 1) there are missing values and they have to be imputed\n",
        "# 2) the age column has a to be always positive\n",
        "# 3) the columns have to be scaled\n",
        "\n",
        "# Define the numerical columns to be transformed\n",
        "\n",
        "# Create the numerical pipeline with the SimpleImputer and MinMaxScaler\n"
      ]
    },
    {
      "cell_type": "code",
      "execution_count": null,
      "metadata": {
        "id": "_t3KOtDY1LDF"
      },
      "outputs": [],
      "source": [
        "# Define the column transformation for logical columns considering that\n",
        "# 1) there are missing values and they have to be imputed\n",
        "\n",
        "# Define the logical columns to be transformed\n",
        "\n",
        "# Create the logical pipeline with the SimpleImputer\n"
      ]
    },
    {
      "cell_type": "code",
      "execution_count": null,
      "metadata": {
        "id": "nrFYe3E91LDG"
      },
      "outputs": [],
      "source": [
        "# Define the column transformation for the string columns considering that\n",
        "# 1) there are missing values and they have to be imputed\n",
        "# 2) the columns have to be encoded using numerical encoding\n",
        "\n",
        "# Define the categorical columns in the string format to be transformed\n",
        "\n",
        "# Create the string pipeline with the SimpleImputer and OneHotEncoder\n"
      ]
    },
    {
      "cell_type": "markdown",
      "metadata": {
        "id": "a9KCIUGB1LDG"
      },
      "source": [
        "### Preprocessor"
      ]
    },
    {
      "cell_type": "code",
      "execution_count": null,
      "metadata": {
        "id": "PQJxWi5_1LDG"
      },
      "outputs": [],
      "source": [
        "# Define the preprocessor with the ColumnTransformer and the defined pipelines\n"
      ]
    },
    {
      "cell_type": "code",
      "execution_count": null,
      "metadata": {
        "id": "brEqpRXc1LDG"
      },
      "outputs": [],
      "source": [
        "# Show the preprocessor diagram\n"
      ]
    },
    {
      "cell_type": "code",
      "execution_count": null,
      "metadata": {
        "id": "JUs-1h981LDH"
      },
      "outputs": [],
      "source": [
        "# Show the preprocessor parameters\n"
      ]
    },
    {
      "cell_type": "markdown",
      "metadata": {
        "vscode": {
          "languageId": "plaintext"
        },
        "id": "gMcjrEJv1LDH"
      },
      "source": [
        "###  Classification Model"
      ]
    },
    {
      "cell_type": "code",
      "execution_count": null,
      "metadata": {
        "id": "HGpSbBzR1LDH"
      },
      "outputs": [],
      "source": [
        "# Define the classifier model to be used\n"
      ]
    },
    {
      "cell_type": "code",
      "execution_count": null,
      "metadata": {
        "id": "rwwPbUxr1LDH"
      },
      "outputs": [],
      "source": [
        "# Show the classifier diagram\n"
      ]
    },
    {
      "cell_type": "code",
      "execution_count": null,
      "metadata": {
        "id": "VQ7B0Bn01LDH"
      },
      "outputs": [],
      "source": [
        "# Show the classifier parameters\n"
      ]
    },
    {
      "cell_type": "markdown",
      "metadata": {
        "id": "UMdfQYas1LDH"
      },
      "source": [
        "### Classification Pipeline"
      ]
    },
    {
      "cell_type": "code",
      "execution_count": null,
      "metadata": {
        "id": "bWDxyWzQ1LDH"
      },
      "outputs": [],
      "source": [
        "# Define the classification pipeline with the preprocessor and the classifier\n"
      ]
    },
    {
      "cell_type": "code",
      "execution_count": null,
      "metadata": {
        "id": "2U-sXNxH1LDI"
      },
      "outputs": [],
      "source": [
        "# Show the pipeline diagram\n"
      ]
    },
    {
      "cell_type": "code",
      "execution_count": null,
      "metadata": {
        "id": "ZFaA8Alj1LDI"
      },
      "outputs": [],
      "source": [
        "# Show the pipeline parameters\n"
      ]
    },
    {
      "cell_type": "code",
      "execution_count": null,
      "metadata": {
        "id": "h7XioQte1LDI"
      },
      "outputs": [],
      "source": [
        "# Define the scoring metrics for the classification"
      ]
    },
    {
      "cell_type": "markdown",
      "metadata": {
        "id": "lCBieAvD1LDI"
      },
      "source": [
        "### Hyperparameter Tuning (Optuna)"
      ]
    },
    {
      "cell_type": "code",
      "execution_count": null,
      "metadata": {
        "id": "ROpPsYYf1LDI"
      },
      "outputs": [],
      "source": [
        "# Define the parameter search space for the classifier and the preprocessor for the OptunaSearchCV\n"
      ]
    },
    {
      "cell_type": "code",
      "execution_count": null,
      "metadata": {
        "id": "Sf4Z-6kM1LDJ"
      },
      "outputs": [],
      "source": [
        "# Create the optuna study for the optimization\n"
      ]
    },
    {
      "cell_type": "code",
      "execution_count": null,
      "metadata": {
        "id": "ld1d3veP1LDJ"
      },
      "outputs": [],
      "source": [
        "# Define the OptunaSearchCV with the pipeline, the parameter search space, and the number of trials\n"
      ]
    },
    {
      "cell_type": "code",
      "execution_count": null,
      "metadata": {
        "id": "K9ucENw61LDJ"
      },
      "outputs": [],
      "source": [
        "# Display the OptunaSearchCV diagram\n"
      ]
    },
    {
      "cell_type": "code",
      "execution_count": null,
      "metadata": {
        "id": "UJ4kgj4P1LDJ"
      },
      "outputs": [],
      "source": [
        "# Display the OptunaSearchCV parameters\n"
      ]
    },
    {
      "cell_type": "markdown",
      "metadata": {
        "id": "wUC3tKvo1LDJ"
      },
      "source": [
        "## Run Experiment"
      ]
    },
    {
      "cell_type": "markdown",
      "metadata": {
        "vscode": {
          "languageId": "plaintext"
        },
        "id": "QdSIyHoX1LDK"
      },
      "source": [
        "###   Pipeline Training"
      ]
    },
    {
      "cell_type": "code",
      "execution_count": null,
      "metadata": {
        "id": "FJ1B_SS01LDK"
      },
      "outputs": [],
      "source": [
        "# Fit the OptunaSearchCV with the train data\n"
      ]
    },
    {
      "cell_type": "code",
      "execution_count": null,
      "metadata": {
        "id": "MOx2U5QX1LDK"
      },
      "outputs": [],
      "source": [
        "# Show the best parameters found by the OptunaSearchCV\n"
      ]
    },
    {
      "cell_type": "code",
      "execution_count": null,
      "metadata": {
        "id": "FKZQ2cvu1LDK"
      },
      "outputs": [],
      "source": [
        "# Show the best score found by the OptunaSearchCV\n"
      ]
    },
    {
      "cell_type": "code",
      "execution_count": null,
      "metadata": {
        "id": "-7nQEgo91LDK"
      },
      "outputs": [],
      "source": [
        "# Show the best estimator found by the OptunaSearchCV\n"
      ]
    },
    {
      "cell_type": "markdown",
      "metadata": {
        "id": "syZRdcX61LDK"
      },
      "source": [
        "### Pipeline Saving"
      ]
    },
    {
      "cell_type": "code",
      "execution_count": null,
      "metadata": {
        "id": "DN0Pjol71LDK"
      },
      "outputs": [],
      "source": [
        "# Save the classification pipeline to a file using joblib\n"
      ]
    },
    {
      "cell_type": "markdown",
      "metadata": {
        "id": "ESUNe2bW1LDL"
      },
      "source": [
        "### Pipeline Reloading"
      ]
    },
    {
      "cell_type": "code",
      "execution_count": null,
      "metadata": {
        "id": "wUya9pWG1LDL"
      },
      "outputs": [],
      "source": [
        "# Load the classification pipeline from a file using joblib\n"
      ]
    },
    {
      "cell_type": "markdown",
      "metadata": {
        "id": "V5fDmXuc1LDL"
      },
      "source": [
        "### Pipeline Evaluation"
      ]
    },
    {
      "cell_type": "code",
      "execution_count": null,
      "metadata": {
        "id": "-oo8U_uN1LDL"
      },
      "outputs": [],
      "source": [
        "# Evaluate the classification pipeline on the test data\n"
      ]
    },
    {
      "cell_type": "code",
      "execution_count": null,
      "metadata": {
        "id": "ubo8Q9Ra1LDL"
      },
      "outputs": [],
      "source": [
        "# Predict the target values using the classification pipeline\n"
      ]
    },
    {
      "cell_type": "code",
      "execution_count": null,
      "metadata": {
        "id": "eeIq50641LDL"
      },
      "outputs": [],
      "source": [
        "# Print the classification report\n"
      ]
    },
    {
      "cell_type": "markdown",
      "metadata": {
        "id": "7gxHgu-U1LDM"
      },
      "source": [
        "# Exercises\n",
        "\n",
        "1. Find the best scaler between MinMaxScaler, StandardScaler, RobustScaler\n",
        "1. Use IterativeImputer instead of SimpleImputer\n",
        "1. Transform the data using PCA in the Pipeline and find the best N components\n",
        "1. Change the classification model using XGBoost"
      ]
    },
    {
      "cell_type": "markdown",
      "metadata": {
        "id": "ccHnxzNE1LDM"
      },
      "source": []
    }
  ],
  "metadata": {
    "kernelspec": {
      "display_name": "ml-base",
      "language": "python",
      "name": "python3"
    },
    "language_info": {
      "codemirror_mode": {
        "name": "ipython",
        "version": 3
      },
      "file_extension": ".py",
      "mimetype": "text/x-python",
      "name": "python",
      "nbconvert_exporter": "python",
      "pygments_lexer": "ipython3",
      "version": "3.12.3"
    },
    "colab": {
      "provenance": []
    }
  },
  "nbformat": 4,
  "nbformat_minor": 0
}