{
  "nbformat": 4,
  "nbformat_minor": 0,
  "metadata": {
    "kernelspec": {
      "display_name": "Python 3",
      "language": "python",
      "name": "python3"
    },
    "language_info": {
      "codemirror_mode": {
        "name": "ipython",
        "version": 3
      },
      "file_extension": ".py",
      "mimetype": "text/x-python",
      "name": "python",
      "nbconvert_exporter": "python",
      "pygments_lexer": "ipython3",
      "version": "3.6.9"
    },
    "colab": {
      "name": "02-Introduction-to-Python-II.ipynb",
      "provenance": []
    }
  },
  "cells": [
    {
      "cell_type": "markdown",
      "metadata": {
        "id": "K58dNH2Me522"
      },
      "source": [
        "# Introduction to Python programming - Part II"
      ]
    },
    {
      "cell_type": "markdown",
      "metadata": {
        "id": "kMJQBAcve52_"
      },
      "source": [
        "## Control Flow"
      ]
    },
    {
      "cell_type": "markdown",
      "metadata": {
        "id": "O98sReRSe53A"
      },
      "source": [
        "### Conditional statements: if, elif, else"
      ]
    },
    {
      "cell_type": "markdown",
      "metadata": {
        "id": "PZQuYNX2e53C"
      },
      "source": [
        "The Python syntax for conditional execution of code uses the keywords `if`, `elif` (else if), `else`:"
      ]
    },
    {
      "cell_type": "code",
      "metadata": {
        "id": "a7xeEhKQe53D",
        "outputId": "02a8710e-90c6-43a8-c140-ad20fb738fd2"
      },
      "source": [
        "statement1 = True\n",
        "statement2 = False\n",
        "\n",
        "if statement1:\n",
        "    print(\"statement1 is True\")\n",
        "\n",
        "if statement2:\n",
        "    print(\"statement2 is True\")"
      ],
      "execution_count": null,
      "outputs": [
        {
          "output_type": "stream",
          "text": [
            "statement1 is True\n"
          ],
          "name": "stdout"
        }
      ]
    },
    {
      "cell_type": "code",
      "metadata": {
        "id": "VP57Eae-e53F",
        "outputId": "64f85dbd-059f-4bf5-fc5a-be6b0238cb69"
      },
      "source": [
        "statement1 = True\n",
        "statement2 = False\n",
        "\n",
        "if statement1:\n",
        "    print(\"statement1 is True\")\n",
        "else:\n",
        "    print(\"statement1 is False\")\n",
        "\n",
        "if statement2:\n",
        "    print(\"statement2 is True\")\n",
        "else:\n",
        "    print(\"statement2 is False\")"
      ],
      "execution_count": null,
      "outputs": [
        {
          "output_type": "stream",
          "text": [
            "statement1 is True\n",
            "statement2 is False\n"
          ],
          "name": "stdout"
        }
      ]
    },
    {
      "cell_type": "code",
      "metadata": {
        "id": "LJIFGxgVe53H",
        "outputId": "8204f61f-c81b-473e-b17e-8969bb3006c0"
      },
      "source": [
        "statement1 = True\n",
        "statement2 = False\n",
        "\n",
        "if statement1:\n",
        "    print(\"statement1 is True\")\n",
        "elif statement2:\n",
        "    print(\"statement2 is True\")\n",
        "else:\n",
        "    print(\"statement1 and statement2 are False\")"
      ],
      "execution_count": null,
      "outputs": [
        {
          "output_type": "stream",
          "text": [
            "statement1 is True\n"
          ],
          "name": "stdout"
        }
      ]
    },
    {
      "cell_type": "code",
      "metadata": {
        "id": "ZVzrOgMSe53I",
        "outputId": "70c8cd54-a668-47db-dee0-af56a26aedad"
      },
      "source": [
        "statement1 = True\n",
        "statement2 = False\n",
        "\n",
        "if statement1 and statement2:\n",
        "    print(\"statement1 and statement2 are True\")\n",
        "else:\n",
        "    print(\"statement1 or statement2 are False\")"
      ],
      "execution_count": null,
      "outputs": [
        {
          "output_type": "stream",
          "text": [
            "statement1 or statement2 are False\n"
          ],
          "name": "stdout"
        }
      ]
    },
    {
      "cell_type": "code",
      "metadata": {
        "id": "H3PZ2Cn1e53K",
        "outputId": "d885431c-be02-4416-a3c9-9145029dd865"
      },
      "source": [
        "score = 30\n",
        "if score < 50:\n",
        "    print('Fail')\n",
        "elif score < 65:\n",
        "    print('C')\n",
        "elif score < 80:\n",
        "    print('B')\n",
        "else:\n",
        "    print('A')"
      ],
      "execution_count": null,
      "outputs": [
        {
          "output_type": "stream",
          "text": [
            "Fail\n"
          ],
          "name": "stdout"
        }
      ]
    },
    {
      "cell_type": "markdown",
      "metadata": {
        "id": "fEF8STuMe53L"
      },
      "source": [
        "For the first time, here we encounted a peculiar and unusual aspect of the Python programming language: Program blocks are defined by their indentation level. \n",
        "\n",
        "Compare to the equivalent C code:\n",
        "\n",
        "    if (statement1)\n",
        "    {\n",
        "        printf(\"statement1 is True\\n\");\n",
        "    }\n",
        "    else if (statement2)\n",
        "    {\n",
        "        printf(\"statement2 is True\\n\");\n",
        "    }\n",
        "    else\n",
        "    {\n",
        "        printf(\"statement1 and statement2 are False\\n\");\n",
        "    }\n",
        "\n",
        "In C blocks are defined by the enclosing curly brakets `{` and `}`. And the level of indentation (white space before the code statements) does not matter (completely optional). \n",
        "\n",
        "But in Python, the extent of a code block is defined by the indentation level (usually a tab or say four white spaces). This means that we have to be careful to indent our code correctly, or else we will get syntax errors. "
      ]
    },
    {
      "cell_type": "markdown",
      "metadata": {
        "id": "isJDiI45e53M"
      },
      "source": [
        "#### Examples:"
      ]
    },
    {
      "cell_type": "code",
      "metadata": {
        "id": "T0TlRawee53O",
        "outputId": "3509e130-d88a-42d9-f9bf-5140608fbf13"
      },
      "source": [
        "statement1 = statement2 = True\n",
        "\n",
        "if statement1:\n",
        "    if statement2:\n",
        "        print(\"both statement1 and statement2 are True\")"
      ],
      "execution_count": null,
      "outputs": [
        {
          "output_type": "stream",
          "text": [
            "both statement1 and statement2 are True\n"
          ],
          "name": "stdout"
        }
      ]
    },
    {
      "cell_type": "code",
      "metadata": {
        "id": "E2n9AP9ae53P",
        "outputId": "f128ed96-1fdb-461a-f543-53f503883ad9"
      },
      "source": [
        "# Bad indentation!\n",
        "if statement1:\n",
        "    if statement2:\n",
        "    print(\"both statement1 and statement2 are True\")  # this line is not properly indented"
      ],
      "execution_count": null,
      "outputs": [
        {
          "output_type": "error",
          "ename": "IndentationError",
          "evalue": "expected an indented block (<ipython-input-47-ac4109c9123a>, line 4)",
          "traceback": [
            "\u001b[0;36m  File \u001b[0;32m\"<ipython-input-47-ac4109c9123a>\"\u001b[0;36m, line \u001b[0;32m4\u001b[0m\n\u001b[0;31m    print(\"both statement1 and statement2 are True\")  # this line is not properly indented\u001b[0m\n\u001b[0m        ^\u001b[0m\n\u001b[0;31mIndentationError\u001b[0m\u001b[0;31m:\u001b[0m expected an indented block\n"
          ]
        }
      ]
    },
    {
      "cell_type": "code",
      "metadata": {
        "id": "Nhw5XnyJe53P"
      },
      "source": [
        "statement1 = False \n",
        "\n",
        "if statement1:\n",
        "    print(\"printed if statement1 is True\")\n",
        "    \n",
        "    print(\"still inside the if block\")"
      ],
      "execution_count": null,
      "outputs": []
    },
    {
      "cell_type": "code",
      "metadata": {
        "id": "h2J6IuT0e53P",
        "outputId": "72b1fe58-9531-4f54-8316-457ea457a93b"
      },
      "source": [
        "if statement1:\n",
        "    print(\"printed if statement1 is True\")\n",
        "    \n",
        "print(\"now outside the if block\")"
      ],
      "execution_count": null,
      "outputs": [
        {
          "output_type": "stream",
          "text": [
            "now outside the if block\n"
          ],
          "name": "stdout"
        }
      ]
    },
    {
      "cell_type": "markdown",
      "metadata": {
        "id": "apVcu-sUe53Q"
      },
      "source": [
        "## Loops"
      ]
    },
    {
      "cell_type": "markdown",
      "metadata": {
        "id": "8SOV73FTe53R"
      },
      "source": [
        "In Python, loops can be programmed in a number of different ways. The most common is the `for` loop, which is used together with iterable objects, such as lists. The basic syntax is:"
      ]
    },
    {
      "cell_type": "markdown",
      "metadata": {
        "id": "nb3zDgwme53R"
      },
      "source": [
        "### **`for` loops**:"
      ]
    },
    {
      "cell_type": "code",
      "metadata": {
        "id": "JgsmtMkGe53R",
        "outputId": "e6f49d5d-8079-41db-a37d-0ebad28794b2"
      },
      "source": [
        "for x in [1,2,3,4,5]:\n",
        "    print(x)"
      ],
      "execution_count": null,
      "outputs": [
        {
          "output_type": "stream",
          "text": [
            "1\n",
            "2\n",
            "3\n",
            "4\n",
            "5\n"
          ],
          "name": "stdout"
        }
      ]
    },
    {
      "cell_type": "code",
      "metadata": {
        "id": "6i4CZQ8Ce53S",
        "outputId": "41c256f8-a47b-4284-aa6c-f4f9be49257f"
      },
      "source": [
        "list(range(-2,10,2))"
      ],
      "execution_count": null,
      "outputs": [
        {
          "output_type": "execute_result",
          "data": {
            "text/plain": [
              "[-2, 0, 2, 4, 6, 8]"
            ]
          },
          "metadata": {
            "tags": []
          },
          "execution_count": 54
        }
      ]
    },
    {
      "cell_type": "markdown",
      "metadata": {
        "id": "XHhREitWe53T"
      },
      "source": [
        "The `for` loop iterates over the elements of the supplied list, and executes the containing block once for each element. Any kind of *iterable* object could be used in the `for` loop. For example, the `range` function generates an interator, which could be used:"
      ]
    },
    {
      "cell_type": "code",
      "metadata": {
        "id": "7Uc1_UyKe53T",
        "outputId": "11acbe84-11ff-42bb-d96f-8a9bb806a8cc"
      },
      "source": [
        "for x in range(4): # by default range start at 0\n",
        "    print(x)"
      ],
      "execution_count": null,
      "outputs": [
        {
          "output_type": "stream",
          "text": [
            "0\n",
            "1\n",
            "2\n",
            "3\n"
          ],
          "name": "stdout"
        }
      ]
    },
    {
      "cell_type": "markdown",
      "metadata": {
        "id": "i1KMEHmOe53U"
      },
      "source": [
        "Note: `range(4)` does not include 4 !"
      ]
    },
    {
      "cell_type": "code",
      "metadata": {
        "id": "tk5tqhfme53U",
        "outputId": "02ec2c28-c566-4199-c289-e5bdd52eea76"
      },
      "source": [
        "for x in range(-3, 3):\n",
        "    print(x)"
      ],
      "execution_count": null,
      "outputs": [
        {
          "output_type": "stream",
          "text": [
            "-3\n",
            "-2\n",
            "-1\n",
            "0\n",
            "1\n",
            "2\n"
          ],
          "name": "stdout"
        }
      ]
    },
    {
      "cell_type": "code",
      "metadata": {
        "id": "ITbMrX7Qe53U",
        "outputId": "fa7e8343-8738-4f30-8357-a69944b2ff16"
      },
      "source": [
        "start = 10\n",
        "stop = 30\n",
        "step = 2\n",
        "for x in range(start, stop, step):\n",
        "    print(x)"
      ],
      "execution_count": null,
      "outputs": [
        {
          "output_type": "stream",
          "text": [
            "10\n",
            "12\n",
            "14\n",
            "16\n",
            "18\n",
            "20\n",
            "22\n",
            "24\n",
            "26\n",
            "28\n"
          ],
          "name": "stdout"
        }
      ]
    },
    {
      "cell_type": "markdown",
      "metadata": {
        "id": "EZNIXErQe53V"
      },
      "source": [
        "Note: `stop` value is not included !"
      ]
    },
    {
      "cell_type": "code",
      "metadata": {
        "id": "HXSFfO2Xe53W",
        "outputId": "9d258249-10d1-40f3-a4c4-7bc8a3e08e57"
      },
      "source": [
        "for word in [\"scientific\", \"computing\", \"with\", \"python\"]:\n",
        "    print(word)"
      ],
      "execution_count": null,
      "outputs": [
        {
          "output_type": "stream",
          "text": [
            "scientific\n",
            "computing\n",
            "with\n",
            "python\n"
          ],
          "name": "stdout"
        }
      ]
    },
    {
      "cell_type": "markdown",
      "metadata": {
        "id": "K4Rmc__ye53X"
      },
      "source": [
        "In mathematics, the Fibonacci numbers, commonly denoted $F_n$ form a sequence, called the *Fibonacci sequence*, such that each number is the sum of the two preceding ones, starting from 0 and 1. That is $F_{0}=0$, $F_{1}=1$ and $F_{n}=F_{n-1}+F_{n-2}$ for $n>1$. Let's makesmall script to generate list of 20 Fibonacci numbers:"
      ]
    },
    {
      "cell_type": "code",
      "metadata": {
        "id": "tfg0-bZ_e53Y",
        "outputId": "617f824b-766c-4d7f-dd81-c5d70c0c4a6f"
      },
      "source": [
        "N = 20 # Desired amount of Fibonacci numbers\n",
        "F = [0, 1]\n",
        "for x in range(N - 2): # we have two already\n",
        "    F.append(F[-2] + F[-1])\n",
        "print(F)"
      ],
      "execution_count": null,
      "outputs": [
        {
          "output_type": "stream",
          "text": [
            "[0, 1, 1, 2, 3, 5, 8, 13, 21, 34, 55, 89, 144, 233, 377, 610, 987, 1597, 2584, 4181]\n"
          ],
          "name": "stdout"
        }
      ]
    },
    {
      "cell_type": "markdown",
      "metadata": {
        "id": "vZqxTSO4e53Z"
      },
      "source": [
        "It is known, that the ratio of each successive pair of numbers in the Fibonacci sequence converge on the golden ratio $\\varphi ={\\frac {1+{\\sqrt {5}}}{2}}=1.6180339887\\ldots$ as you go higher in the sequence. So let's test it."
      ]
    },
    {
      "cell_type": "code",
      "metadata": {
        "id": "247vd_c9e53a",
        "outputId": "71a9813f-8d5f-4888-fdba-8bed92a0c052"
      },
      "source": [
        "F = [0, 1]\n",
        "ratio = []\n",
        "for x in range(40):\n",
        "    F.append(F[-2] + F[-1])\n",
        "    ratio.append(F[-1] / F[-2])\n",
        "print(ratio)\n",
        "print((1 + 5**0.5)/2)"
      ],
      "execution_count": null,
      "outputs": [
        {
          "output_type": "stream",
          "text": [
            "[1.0, 2.0, 1.5, 1.6666666666666667, 1.6, 1.625, 1.6153846153846154, 1.619047619047619, 1.6176470588235294, 1.6181818181818182, 1.6179775280898876, 1.6180555555555556, 1.6180257510729614, 1.6180371352785146, 1.618032786885246, 1.618034447821682, 1.6180338134001253, 1.618034055727554, 1.6180339631667064, 1.6180339985218033, 1.618033985017358, 1.6180339901755971, 1.618033988205325, 1.618033988957902, 1.6180339886704431, 1.6180339887802426, 1.618033988738303, 1.6180339887543225, 1.6180339887482036, 1.6180339887505408, 1.6180339887496482, 1.618033988749989, 1.618033988749859, 1.6180339887499087, 1.6180339887498896, 1.618033988749897, 1.618033988749894, 1.6180339887498951, 1.6180339887498947, 1.618033988749895]\n",
            "1.618033988749895\n"
          ],
          "name": "stdout"
        }
      ]
    },
    {
      "cell_type": "markdown",
      "metadata": {
        "id": "RxUEr5ste53a"
      },
      "source": [
        "In loop definition, we can use unpacking to assign values to more variables"
      ]
    },
    {
      "cell_type": "code",
      "metadata": {
        "id": "Phn1mgRse53a",
        "outputId": "9893b943-0a9a-4dbb-cd07-8865a8f0dce4"
      },
      "source": [
        "points = [(1,3), (5,3), (2,7)]\n",
        "for x, y in points:\n",
        "    print((x**2 + y**2)**0.5)"
      ],
      "execution_count": null,
      "outputs": [
        {
          "output_type": "stream",
          "text": [
            "3.1622776601683795\n",
            "5.830951894845301\n",
            "7.280109889280518\n"
          ],
          "name": "stdout"
        }
      ]
    },
    {
      "cell_type": "markdown",
      "metadata": {
        "id": "tj8JjKvje53a"
      },
      "source": [
        "Sometimes it is useful to have access to the indices of the values when iterating over a list. We can use the `enumerate` function for this:"
      ]
    },
    {
      "cell_type": "code",
      "metadata": {
        "id": "fX53Sgxwe53c",
        "outputId": "cd86c5bb-61b2-4b19-bfdf-fd86633cb754"
      },
      "source": [
        "for idx, x in enumerate(range(-3, 3)):\n",
        "    print(idx, x)"
      ],
      "execution_count": null,
      "outputs": [
        {
          "output_type": "stream",
          "text": [
            "0 -3\n",
            "1 -2\n",
            "2 -1\n",
            "3 0\n",
            "4 1\n",
            "5 2\n"
          ],
          "name": "stdout"
        }
      ]
    },
    {
      "cell_type": "markdown",
      "metadata": {
        "id": "mbNz6Ou0e53c"
      },
      "source": [
        "Sometimes it is useful to iterate over several lists simultaneously. We can use the `zip` function for this:"
      ]
    },
    {
      "cell_type": "code",
      "metadata": {
        "id": "Ijkmnvu5e53c",
        "outputId": "76d41361-4877-4529-b458-1d055ff6b814"
      },
      "source": [
        "names = ['John', 'Eva', 'George']\n",
        "ages = [24, 19, 31]\n",
        "for age, name in zip(ages, names):\n",
        "    print(age, name)"
      ],
      "execution_count": null,
      "outputs": [
        {
          "output_type": "stream",
          "text": [
            "24 John\n",
            "19 Eva\n",
            "31 George\n"
          ],
          "name": "stdout"
        }
      ]
    },
    {
      "cell_type": "markdown",
      "metadata": {
        "id": "lRObeUDhe53d"
      },
      "source": [
        "`break` statement could be used to abandon loop earlier"
      ]
    },
    {
      "cell_type": "code",
      "metadata": {
        "id": "eS33wgvre53d",
        "outputId": "6b69fb20-c6c7-4749-a0da-088ca389b1cc"
      },
      "source": [
        "l = [2,3,6,3,1,4,6,7,4,11,3,3,5,6,11,2]\n",
        "for pos, val in enumerate(l):\n",
        "    if val == 11:\n",
        "        print('I found it on position {}.'.format(pos))\n",
        "        break"
      ],
      "execution_count": null,
      "outputs": [
        {
          "output_type": "stream",
          "text": [
            "I found it on position 9.\n"
          ],
          "name": "stdout"
        }
      ]
    },
    {
      "cell_type": "markdown",
      "metadata": {
        "id": "YRr7wWrHe53d"
      },
      "source": [
        "### Conditional loops"
      ]
    },
    {
      "cell_type": "code",
      "metadata": {
        "id": "dDTTd93ee53d",
        "outputId": "92057462-2421-4bc0-b767-cd15d5c1e4b3"
      },
      "source": [
        "n = 10\n",
        "while n > 4:\n",
        "    n = n - 1\n",
        "    print(n)\n",
        "print('Done.')"
      ],
      "execution_count": null,
      "outputs": [
        {
          "output_type": "stream",
          "text": [
            "9\n",
            "8\n",
            "7\n",
            "6\n",
            "5\n",
            "4\n",
            "Done.\n"
          ],
          "name": "stdout"
        }
      ]
    },
    {
      "cell_type": "markdown",
      "metadata": {
        "id": "jOM7Xfqre53e"
      },
      "source": [
        "### Real example\n",
        "\n",
        "Let's create small program to find all factors of number"
      ]
    },
    {
      "cell_type": "code",
      "metadata": {
        "id": "OvmbUbsle53f",
        "outputId": "56657eec-bff8-484e-dc35-1d0d5811f6c5"
      },
      "source": [
        "N = 712\n",
        "factors = []\n",
        "while N > 1:\n",
        "    for d in range(2, N + 1):\n",
        "        if N % d == 0:\n",
        "            factors.append(d)\n",
        "            N = N // d\n",
        "            break\n",
        "\n",
        "print(factors)"
      ],
      "execution_count": null,
      "outputs": [
        {
          "output_type": "stream",
          "text": [
            "[2, 2, 2, 89]\n"
          ],
          "name": "stdout"
        }
      ]
    },
    {
      "cell_type": "markdown",
      "metadata": {
        "id": "Mil1wLQje53f"
      },
      "source": [
        "### List comprehensions: Creating lists using `for` loops:"
      ]
    },
    {
      "cell_type": "markdown",
      "metadata": {
        "id": "xjjBOP5Ve53f"
      },
      "source": [
        "A convenient and compact way to initialize lists:"
      ]
    },
    {
      "cell_type": "code",
      "metadata": {
        "id": "jxD8gt1pe53f",
        "outputId": "99bd66a5-77d7-4628-ad05-b548fda41ce4"
      },
      "source": [
        "l1 = []\n",
        "for x in range(0, 100):\n",
        "    if x % 2 == 0:\n",
        "        l1.append(x**2)\n",
        "print(l1)"
      ],
      "execution_count": null,
      "outputs": [
        {
          "output_type": "stream",
          "text": [
            "[0, 4, 16, 36, 64, 100, 144, 196, 256, 324, 400, 484, 576, 676, 784, 900, 1024, 1156, 1296, 1444, 1600, 1764, 1936, 2116, 2304, 2500, 2704, 2916, 3136, 3364, 3600, 3844, 4096, 4356, 4624, 4900, 5184, 5476, 5776, 6084, 6400, 6724, 7056, 7396, 7744, 8100, 8464, 8836, 9216, 9604]\n"
          ],
          "name": "stdout"
        }
      ]
    },
    {
      "cell_type": "code",
      "metadata": {
        "id": "6HwCC7FIe53f",
        "outputId": "fe268fa1-db05-49ca-c7dd-7fce692ffb32"
      },
      "source": [
        "l1 = [x**2 for x in range(0,100) if x % 2 == 0]\n",
        "print(l1)"
      ],
      "execution_count": null,
      "outputs": [
        {
          "output_type": "stream",
          "text": [
            "[0, 4, 16, 36, 64, 100, 144, 196, 256, 324, 400, 484, 576, 676, 784, 900, 1024, 1156, 1296, 1444, 1600, 1764, 1936, 2116, 2304, 2500, 2704, 2916, 3136, 3364, 3600, 3844, 4096, 4356, 4624, 4900, 5184, 5476, 5776, 6084, 6400, 6724, 7056, 7396, 7744, 8100, 8464, 8836, 9216, 9604]\n"
          ],
          "name": "stdout"
        }
      ]
    },
    {
      "cell_type": "markdown",
      "metadata": {
        "id": "t07UkSqDe53f"
      },
      "source": [
        "## Modules"
      ]
    },
    {
      "cell_type": "markdown",
      "metadata": {
        "id": "gSTBdwQge53g"
      },
      "source": [
        "Most of the functionality in Python is provided by *modules*. The Python Standard Library is a large collection of modules that provides *cross-platform* implementations of common facilities such as access to the operating system, file I/O, string management, network communication, and much more."
      ]
    },
    {
      "cell_type": "markdown",
      "metadata": {
        "id": "cFnn5lfje53g"
      },
      "source": [
        "### References"
      ]
    },
    {
      "cell_type": "markdown",
      "metadata": {
        "id": "eJkbdfEme53i"
      },
      "source": [
        " * The Python 3 Language Reference: https://docs.python.org/3/reference/index.html\n",
        " * The Python 3 Standard Library: https://docs.python.org/3/library/\n",
        "\n",
        "To use a module in a Python program it first has to be imported. A module can be imported using the `import` statement. For example, to import the module `math`, which contains many standard mathematical functions, we can do:"
      ]
    },
    {
      "cell_type": "code",
      "metadata": {
        "id": "GWxG9e5Ie53i"
      },
      "source": [
        "from math import cos, sin, pi"
      ],
      "execution_count": null,
      "outputs": []
    },
    {
      "cell_type": "code",
      "metadata": {
        "id": "5qx2H1hie53i",
        "outputId": "bc7a8aed-4d84-4ccf-935b-3fb945bf95ff"
      },
      "source": [
        "cos(2*pi)"
      ],
      "execution_count": null,
      "outputs": [
        {
          "output_type": "execute_result",
          "data": {
            "text/plain": [
              "1.0"
            ]
          },
          "metadata": {
            "tags": []
          },
          "execution_count": 27
        }
      ]
    },
    {
      "cell_type": "markdown",
      "metadata": {
        "id": "-4zP5hCse53i"
      },
      "source": [
        "This includes the whole module and makes it available for use later in the program. For example, we can do:"
      ]
    },
    {
      "cell_type": "code",
      "metadata": {
        "id": "ppyADG7Ne53j",
        "outputId": "4d17e719-6574-420c-9e6b-5dbcb8649044"
      },
      "source": [
        "import math\n",
        "\n",
        "x = math.cos(2 * math.pi)\n",
        "\n",
        "print(x)"
      ],
      "execution_count": null,
      "outputs": [
        {
          "output_type": "stream",
          "text": [
            "1.0\n"
          ],
          "name": "stdout"
        }
      ]
    },
    {
      "cell_type": "markdown",
      "metadata": {
        "id": "F3-RisQ7e53j"
      },
      "source": [
        "Alternatively, we can chose to import all symbols (functions and variables) in a module to the current namespace (so that we don't need to use the prefix \"`math.`\" every time we use something from the `math` module:"
      ]
    },
    {
      "cell_type": "code",
      "metadata": {
        "id": "AFF0jVv2e53j",
        "outputId": "903c129b-c011-4d39-bfa7-92f941eedb21"
      },
      "source": [
        "from math import *\n",
        "\n",
        "x = cos(2 * pi)\n",
        "\n",
        "print(x)"
      ],
      "execution_count": null,
      "outputs": [
        {
          "output_type": "stream",
          "text": [
            "1.0\n"
          ],
          "name": "stdout"
        }
      ]
    },
    {
      "cell_type": "markdown",
      "metadata": {
        "id": "-AoaJDGse53k"
      },
      "source": [
        "This pattern can be very convenient, but in large programs that include many modules it is often a good idea to keep the symbols from each module in their own namespaces, by using the `import math` pattern. This would elminate potentially confusing problems with name space collisions.\n",
        "\n",
        "As a third alternative, we can chose to import only a few selected symbols from a module by explicitly listing which ones we want to import instead of using the wildcard character `*`:"
      ]
    },
    {
      "cell_type": "code",
      "metadata": {
        "id": "A_dyvjyYe53k",
        "outputId": "4266ad9f-9e5a-4058-9d8b-eafe317f82bc"
      },
      "source": [
        "from math import cos, pi\n",
        "\n",
        "x = cos(2 * pi)\n",
        "\n",
        "print(x)"
      ],
      "execution_count": null,
      "outputs": [
        {
          "output_type": "stream",
          "text": [
            "1.0\n"
          ],
          "name": "stdout"
        }
      ]
    },
    {
      "cell_type": "markdown",
      "metadata": {
        "id": "zVSVgaxVe53k"
      },
      "source": [
        "### Looking at what a module contains, and its documentation"
      ]
    },
    {
      "cell_type": "markdown",
      "metadata": {
        "id": "YkIUhoQEe53l"
      },
      "source": [
        "Once a module is imported, we can list the symbols it provides using the `dir` function:"
      ]
    },
    {
      "cell_type": "code",
      "metadata": {
        "id": "lyfrxydle53m",
        "outputId": "a8eb3574-f621-4c78-8fb4-83764efa8d91"
      },
      "source": [
        "import math\n",
        "\n",
        "print(dir(math))"
      ],
      "execution_count": null,
      "outputs": [
        {
          "output_type": "stream",
          "text": [
            "['__doc__', '__loader__', '__name__', '__package__', '__spec__', 'acos', 'acosh', 'asin', 'asinh', 'atan', 'atan2', 'atanh', 'ceil', 'copysign', 'cos', 'cosh', 'degrees', 'e', 'erf', 'erfc', 'exp', 'expm1', 'fabs', 'factorial', 'floor', 'fmod', 'frexp', 'fsum', 'gamma', 'gcd', 'hypot', 'inf', 'isclose', 'isfinite', 'isinf', 'isnan', 'ldexp', 'lgamma', 'log', 'log10', 'log1p', 'log2', 'modf', 'nan', 'pi', 'pow', 'radians', 'sin', 'sinh', 'sqrt', 'tan', 'tanh', 'tau', 'trunc']\n"
          ],
          "name": "stdout"
        }
      ]
    },
    {
      "cell_type": "markdown",
      "metadata": {
        "id": "P3o6lUrze53m"
      },
      "source": [
        "And using the function `help` we can get a description of each function (almost .. not all functions have docstrings, as they are technically called, but the vast majority of functions are documented this way). "
      ]
    },
    {
      "cell_type": "code",
      "metadata": {
        "id": "om1tsOY0e53m",
        "outputId": "0a9fae7f-a5db-46a2-e0a2-20b6b64fd6cc"
      },
      "source": [
        "help(math.log)"
      ],
      "execution_count": null,
      "outputs": [
        {
          "output_type": "stream",
          "text": [
            "Help on built-in function log in module math:\n",
            "\n",
            "log(...)\n",
            "    log(x[, base])\n",
            "    \n",
            "    Return the logarithm of x to the given base.\n",
            "    If the base not specified, returns the natural logarithm (base e) of x.\n",
            "\n"
          ],
          "name": "stdout"
        }
      ]
    },
    {
      "cell_type": "code",
      "metadata": {
        "id": "iSl5NkQme53n",
        "outputId": "35298869-9df6-4ac0-b89c-f06fbcbbcc14"
      },
      "source": [
        "log(10)"
      ],
      "execution_count": null,
      "outputs": [
        {
          "output_type": "execute_result",
          "data": {
            "text/plain": [
              "2.302585092994046"
            ]
          },
          "metadata": {
            "tags": []
          },
          "execution_count": 33
        }
      ]
    },
    {
      "cell_type": "code",
      "metadata": {
        "id": "Ai8n1hsae53o",
        "outputId": "accea0ca-a5ad-4be7-ba3c-0b555e58ce54"
      },
      "source": [
        "log(10, 2)"
      ],
      "execution_count": null,
      "outputs": [
        {
          "output_type": "execute_result",
          "data": {
            "text/plain": [
              "3.3219280948873626"
            ]
          },
          "metadata": {
            "tags": []
          },
          "execution_count": 34
        }
      ]
    },
    {
      "cell_type": "markdown",
      "metadata": {
        "id": "rM58Y9rUe53o"
      },
      "source": [
        "We can also use the `help` function directly on modules: Try\n",
        "\n",
        "    help(math) \n",
        "\n",
        "Some very useful modules form the Python standard library are `os`, `sys`, `math`, `shutil` or `re`."
      ]
    },
    {
      "cell_type": "markdown",
      "metadata": {
        "id": "4hDavUOee53o"
      },
      "source": [
        "## How to cook the perfect egg\n",
        "As an egg cooks, the proteins first denature and then coagulate. When the temperature exceeds a critical point, reactions begin and proceed faster as the temperature increases. In the egg white the proteins start to coagulate for temperatures above 63°C, while in the yolk the proteins start to coagulate for temperatures above 70°C. For a soft boiled egg, the white needs to have been heated long enough to coagulate at a temperature above 63°C, but the yolk should not be heated above 70°C. For a hard boiled egg, the center of the yolk should be allowed to reach 70°C. The following formula expresses the time $t$ it takes (in seconds) for the center of the yolk to reach the temperature $T_y$ (in Celsius degrees):\n",
        "\n",
        "$$t = \\frac{M^{2/3}c\\rho^{1/3}}{K\\pi^2(4\\pi/3)^{2/3}}\\ln\\left[0.76\\frac{T_o - T_w}{T_y - T_w}\\right]$$\n",
        "\n",
        "Here, $M, \\rho, c$ and $K$ are properties of the egg: $M$ is the mass, $\\rho$ is the density, $c$ is the specific heat capacity, and $K$ is thermal conductivity. Relevant values are $M$ = 47 g for a small egg and $M$ = 67 g for a large egg, $\\rho$ = 1.038 g cm$^{-3}$, $c$ = 3.7 J g$^{-1}$K$^{-1}$, and $K$ = 5.4 $\\times$ 10$^{-3}$ W cm$^{-1}$ K$^{-1}$. Furthermore, $T_w$ is the temperature (in C degrees) of the boiling water, and $T_o$ is the original temperature (in C degrees) of the egg before being put in the water.\n",
        "\n",
        "Implement the formula in a program, set $T_w$ = 100°C and $T_y$ = 70°C, and compute $t$ for a small and large egg taken from the fridge ($T_o$ = 4°C) and from room temperature ($T_o$ = 20°C)."
      ]
    },
    {
      "cell_type": "code",
      "metadata": {
        "id": "lhC0vsJRe53p",
        "outputId": "1df5ca50-e4fc-4745-ad06-ecad350139e6"
      },
      "source": [
        "from math import pi, log\n",
        "\n",
        "Tw = 100    # C Temperature of the water\n",
        "Ty = 70     # C Desired temperature of the yolk\n",
        "rho = 1.038 # g cm^{-3}\n",
        "M = 67      # g\n",
        "K = 5.4e-3  # W cm^{-1} K^{-1}\n",
        "c = 3.7     # J g^{-1} K^{-1}\n",
        "\n",
        "for To in [4, 20]:\n",
        "    for M in [47, 67]:\n",
        "        t = \n",
        "        print(\"Time required for perfect {} g egg when To = {} C is {:.2f} seconds.\".format(M, To, t))"
      ],
      "execution_count": null,
      "outputs": [
        {
          "output_type": "error",
          "ename": "SyntaxError",
          "evalue": "invalid syntax (<ipython-input-35-9c3fb60a120c>, line 12)",
          "traceback": [
            "\u001b[0;36m  File \u001b[0;32m\"<ipython-input-35-9c3fb60a120c>\"\u001b[0;36m, line \u001b[0;32m12\u001b[0m\n\u001b[0;31m    t =\u001b[0m\n\u001b[0m        ^\u001b[0m\n\u001b[0;31mSyntaxError\u001b[0m\u001b[0;31m:\u001b[0m invalid syntax\n"
          ]
        }
      ]
    },
    {
      "cell_type": "markdown",
      "metadata": {
        "id": "nSYam4pBe53q"
      },
      "source": [
        "## Functions"
      ]
    },
    {
      "cell_type": "markdown",
      "metadata": {
        "id": "WNY6_4NWe53q"
      },
      "source": [
        "A function in Python is defined using the keyword `def`, followed by a function name, a signature within parentheses `()`, and a colon `:`. The following code, with one additional level of indentation, is the function body."
      ]
    },
    {
      "cell_type": "code",
      "metadata": {
        "id": "evA6XUYue53q"
      },
      "source": [
        "def func0():   \n",
        "    print(\"test\")"
      ],
      "execution_count": null,
      "outputs": []
    },
    {
      "cell_type": "code",
      "metadata": {
        "id": "7zt3HOzPe53q"
      },
      "source": [
        "func0()"
      ],
      "execution_count": null,
      "outputs": []
    },
    {
      "cell_type": "markdown",
      "metadata": {
        "id": "jHmThfWWe53r"
      },
      "source": [
        "Optionally, but highly recommended, we can define a so called \"docstring\", which is a description of the functions purpose and behaivor. The docstring should follow directly after the function definition, before the code in the function body."
      ]
    },
    {
      "cell_type": "code",
      "metadata": {
        "id": "QOWIgmI-e53s"
      },
      "source": [
        "def func1(s):\n",
        "    \"\"\"\n",
        "    Print a string 's' and tell how many characters it has    \n",
        "    \"\"\"\n",
        "    print(s + \" has \" + str(len(s)) + \" characters\")"
      ],
      "execution_count": null,
      "outputs": []
    },
    {
      "cell_type": "code",
      "metadata": {
        "id": "17004B0ne53s"
      },
      "source": [
        "help(func1)"
      ],
      "execution_count": null,
      "outputs": []
    },
    {
      "cell_type": "code",
      "metadata": {
        "id": "zQr68cS5e53s"
      },
      "source": [
        "func1(\"test\")"
      ],
      "execution_count": null,
      "outputs": []
    },
    {
      "cell_type": "markdown",
      "metadata": {
        "id": "ekeKkAxve53t"
      },
      "source": [
        "Functions that returns a value use the `return` keyword:"
      ]
    },
    {
      "cell_type": "code",
      "metadata": {
        "id": "-qOd2LgIe53t"
      },
      "source": [
        "def square(x):\n",
        "    \"\"\"\n",
        "    Return the square of x.\n",
        "    \"\"\"\n",
        "    return x ** 2"
      ],
      "execution_count": null,
      "outputs": []
    },
    {
      "cell_type": "code",
      "metadata": {
        "id": "ejpTHSEre53t"
      },
      "source": [
        "square(4)"
      ],
      "execution_count": null,
      "outputs": []
    },
    {
      "cell_type": "markdown",
      "metadata": {
        "id": "yL2iV2AHe53t"
      },
      "source": [
        "We can return multiple values from a function using tuples (see above):"
      ]
    },
    {
      "cell_type": "code",
      "metadata": {
        "id": "pSkTlwc6e53t"
      },
      "source": [
        "def powers(x):\n",
        "    \"\"\"\n",
        "    Return a few powers of x.\n",
        "    \"\"\"\n",
        "    return x ** 2, x ** 3, x ** 4"
      ],
      "execution_count": null,
      "outputs": []
    },
    {
      "cell_type": "code",
      "metadata": {
        "id": "rTYkUVuje53t"
      },
      "source": [
        "powers(3)"
      ],
      "execution_count": null,
      "outputs": []
    },
    {
      "cell_type": "code",
      "metadata": {
        "id": "OabipKtne53u"
      },
      "source": [
        "x2, x3, x4 = powers(3)\n",
        "\n",
        "print(x3)"
      ],
      "execution_count": null,
      "outputs": []
    },
    {
      "cell_type": "markdown",
      "metadata": {
        "id": "eR4SCNE7e53u"
      },
      "source": [
        "### Default argument and keyword arguments"
      ]
    },
    {
      "cell_type": "markdown",
      "metadata": {
        "id": "Kc1ZRG3ee53u"
      },
      "source": [
        "In a definition of a function, we can give default values to the arguments the function takes:"
      ]
    },
    {
      "cell_type": "code",
      "metadata": {
        "id": "KFF72Lcpe53u"
      },
      "source": [
        "def myfunc(x, p=2, debug=False):\n",
        "    if debug:\n",
        "        print(\"evaluating myfunc for x = \" + str(x) + \" using exponent p = \" + str(p))\n",
        "    return x**p"
      ],
      "execution_count": null,
      "outputs": []
    },
    {
      "cell_type": "markdown",
      "metadata": {
        "id": "HsTzyLbBe53v"
      },
      "source": [
        "If we don't provide a value of the `debug` argument when calling the the function `myfunc` it defaults to the value provided in the function definition:"
      ]
    },
    {
      "cell_type": "code",
      "metadata": {
        "id": "bEOyQGj-e53v"
      },
      "source": [
        "myfunc(5)"
      ],
      "execution_count": null,
      "outputs": []
    },
    {
      "cell_type": "code",
      "metadata": {
        "id": "nw_eRMtxe53w"
      },
      "source": [
        "myfunc(5, debug=True)"
      ],
      "execution_count": null,
      "outputs": []
    },
    {
      "cell_type": "markdown",
      "metadata": {
        "id": "kTd7B3spe53w"
      },
      "source": [
        "If we explicitly list the name of the arguments in the function calls, they do not need to come in the same order as in the function definition. This is called *keyword* arguments, and is often very useful in functions that takes a lot of optional arguments."
      ]
    },
    {
      "cell_type": "code",
      "metadata": {
        "id": "bIhFnSN7e53w"
      },
      "source": [
        "myfunc(p=3, debug=True, x=7)"
      ],
      "execution_count": null,
      "outputs": []
    },
    {
      "cell_type": "markdown",
      "metadata": {
        "id": "JQMmtFo2e53w"
      },
      "source": [
        "### Unnamed functions (lambda function)"
      ]
    },
    {
      "cell_type": "markdown",
      "metadata": {
        "id": "n_5jhdY0e53w"
      },
      "source": [
        "In Python we can also create unnamed functions, using the `lambda` keyword:"
      ]
    },
    {
      "cell_type": "code",
      "metadata": {
        "id": "3UcXFwNfe53w"
      },
      "source": [
        "f1 = lambda x: x**2\n",
        "    \n",
        "# is equivalent to \n",
        "\n",
        "def f2(x):\n",
        "    return x**2"
      ],
      "execution_count": null,
      "outputs": []
    },
    {
      "cell_type": "code",
      "metadata": {
        "id": "07CPfkLXe53x"
      },
      "source": [
        "f1(2), f2(2)"
      ],
      "execution_count": null,
      "outputs": []
    },
    {
      "cell_type": "markdown",
      "metadata": {
        "id": "_iHk0lxae53x"
      },
      "source": [
        "This technique is useful for example when we want to pass a simple function as an argument to another function, like this:"
      ]
    },
    {
      "cell_type": "code",
      "metadata": {
        "id": "LzxYlWuYe53x",
        "outputId": "8d90181a-b774-44b9-8560-0135ba0ceb9d"
      },
      "source": [
        "# map is a built-in python function and in Python 3 generates iterator\n",
        "map(lambda x: x**2, range(-3, 4))"
      ],
      "execution_count": null,
      "outputs": [
        {
          "output_type": "execute_result",
          "data": {
            "text/plain": [
              "<map at 0x7fcb480f7dd8>"
            ]
          },
          "metadata": {
            "tags": []
          },
          "execution_count": 36
        }
      ]
    },
    {
      "cell_type": "code",
      "metadata": {
        "id": "6xu-XImRe53z",
        "outputId": "49146e35-a4ab-4158-886e-09e4a2a83c2a"
      },
      "source": [
        "# we can use `list(...)` to convert the iterator to an explicit list\n",
        "list(map(lambda x: x**2, range(-3, 4)))"
      ],
      "execution_count": null,
      "outputs": [
        {
          "output_type": "execute_result",
          "data": {
            "text/plain": [
              "[9, 4, 1, 0, 1, 4, 9]"
            ]
          },
          "metadata": {
            "tags": []
          },
          "execution_count": 37
        }
      ]
    },
    {
      "cell_type": "markdown",
      "metadata": {
        "id": "UxZXtq3tlS3s"
      },
      "source": [
        "###Variables\n",
        "Create a variable outside of a function, and use it inside the function"
      ]
    },
    {
      "cell_type": "code",
      "metadata": {
        "id": "MBvGr1xtlRqS",
        "outputId": "2089fadd-28ba-41e4-8837-e304d7748355",
        "colab": {
          "base_uri": "https://localhost:8080/"
        }
      },
      "source": [
        "x = \"awesome\"\n",
        "\n",
        "def myfunc():\n",
        "  print(\"Python is \" + x)\n",
        "\n",
        "myfunc() "
      ],
      "execution_count": null,
      "outputs": [
        {
          "output_type": "stream",
          "text": [
            "Python is awesome\n"
          ],
          "name": "stdout"
        }
      ]
    },
    {
      "cell_type": "markdown",
      "metadata": {
        "id": "ZwXHkrnilo56"
      },
      "source": [
        "Create a variable inside a function, with the same name as the global variable"
      ]
    },
    {
      "cell_type": "code",
      "metadata": {
        "id": "kP8cIEpFloNa",
        "outputId": "4447d45a-2cdb-4a68-89ef-1cbf30e66b12",
        "colab": {
          "base_uri": "https://localhost:8080/"
        }
      },
      "source": [
        "x = \"awesome\"\n",
        "\n",
        "def myfunc():\n",
        "  x = \"fantastic\"\n",
        "  print(\"Python is \" + x)\n",
        "\n",
        "myfunc()\n",
        "\n",
        "print(\"Python is \" + x) "
      ],
      "execution_count": null,
      "outputs": [
        {
          "output_type": "stream",
          "text": [
            "Python is fantastic\n",
            "Python is awesome\n"
          ],
          "name": "stdout"
        }
      ]
    },
    {
      "cell_type": "markdown",
      "metadata": {
        "id": "Rq2dKFQzmACK"
      },
      "source": [
        "###The global Keyword\n",
        "Normally, when you create a variable inside a function, that variable is local, and can only be used inside that function.\n",
        "\n",
        "To create a global variable inside a function, you can use the global keyword."
      ]
    },
    {
      "cell_type": "code",
      "metadata": {
        "id": "JGaMzXNMmWeu",
        "outputId": "4956999f-bf4b-431c-834a-d945452a53c6",
        "colab": {
          "base_uri": "https://localhost:8080/"
        }
      },
      "source": [
        "x = \"awesome\"\n",
        "\n",
        "def myfunc():\n",
        "  global x\n",
        "  x = \"fantastic\"\n",
        "\n",
        "myfunc()\n",
        "\n",
        "print(\"Python is \" + x) "
      ],
      "execution_count": null,
      "outputs": [
        {
          "output_type": "stream",
          "text": [
            "Python is fantastic\n"
          ],
          "name": "stdout"
        }
      ]
    },
    {
      "cell_type": "markdown",
      "metadata": {
        "id": "NQFBOmR9e53z"
      },
      "source": [
        "## Classes"
      ]
    },
    {
      "cell_type": "markdown",
      "metadata": {
        "id": "MXN8YY2be530"
      },
      "source": [
        "Classes are the key features of object-oriented programming. A class is a structure for representing an object and the operations that can be performed on the object. \n",
        "\n",
        "In Python a class can contain *attributes* (variables) and *methods* (functions).\n",
        "\n",
        "A class is defined almost like a function, but using the `class` keyword, and the class definition usually contains a number of class method definitions (a function in a class).\n",
        "\n",
        "* Each class method should have an argument `self` as its first argument. This object is a self-reference.\n",
        "\n",
        "* Some class method names have special meaning, for example:\n",
        "\n",
        "    * `__init__`: The name of the method that is invoked when the object is first created.\n",
        "    * `__str__` : A method that is invoked when a simple string representation of the class is needed, as for example when printed.\n",
        "    * There are many more, see http://docs.python.org/2/reference/datamodel.html#special-method-names"
      ]
    },
    {
      "cell_type": "code",
      "metadata": {
        "id": "wPzirmi0e530"
      },
      "source": [
        "class Point:\n",
        "    \"\"\"\n",
        "    Simple class for representing a point in a Cartesian coordinate system.\n",
        "    \"\"\"\n",
        "    \n",
        "    def __init__(self, x, y):\n",
        "        \"\"\"\n",
        "        Create a new Point at x, y.\n",
        "        \"\"\"\n",
        "        self.x = x\n",
        "        self.y = y\n",
        "        \n",
        "    def translate(self, dx, dy):\n",
        "        \"\"\"\n",
        "        Translate the point by dx and dy in the x and y direction.\n",
        "        \"\"\"\n",
        "        self.x += dx\n",
        "        self.y += dy\n",
        "        \n",
        "    def __str__(self):\n",
        "        return(\"Point at [%f, %f]\" % (self.x, self.y))"
      ],
      "execution_count": null,
      "outputs": []
    },
    {
      "cell_type": "markdown",
      "metadata": {
        "id": "2wS1YykPe531"
      },
      "source": [
        "To create a new instance of a class:"
      ]
    },
    {
      "cell_type": "code",
      "metadata": {
        "id": "Wn7IeOxZe531",
        "outputId": "e85604cb-5d67-47d5-c62b-1e0418e39c29"
      },
      "source": [
        "p1 = Point(0, 0) # this will invoke the __init__ method in the Point class\n",
        "\n",
        "print(p1)         # this will invoke the __str__ method"
      ],
      "execution_count": null,
      "outputs": [
        {
          "output_type": "stream",
          "text": [
            "Point at [0.000000, 0.000000]\n"
          ],
          "name": "stdout"
        }
      ]
    },
    {
      "cell_type": "markdown",
      "metadata": {
        "id": "vuaOswG5e532"
      },
      "source": [
        "To invoke a class method in the class instance `p`:"
      ]
    },
    {
      "cell_type": "code",
      "metadata": {
        "id": "jnuSMCgde532",
        "outputId": "e878064a-fb9d-4c22-ddbd-dce9aa899543"
      },
      "source": [
        "p2 = Point(1, 1)\n",
        "\n",
        "p1.translate(0.25, 1.5)\n",
        "\n",
        "print(p1)\n",
        "print(p2)"
      ],
      "execution_count": null,
      "outputs": [
        {
          "output_type": "stream",
          "text": [
            "Point at [0.250000, 1.500000]\n",
            "Point at [1.000000, 1.000000]\n"
          ],
          "name": "stdout"
        }
      ]
    },
    {
      "cell_type": "markdown",
      "metadata": {
        "id": "-xgDKWpEe532"
      },
      "source": [
        "Note that calling class methods can modifiy the state of that particular class instance, but does not effect other class instances or any global variables.\n",
        "\n",
        "That is one of the nice things about object-oriented design: code such as functions and related variables are grouped in separate and independent entities. "
      ]
    },
    {
      "cell_type": "markdown",
      "metadata": {
        "id": "6u-7dSohe533"
      },
      "source": [
        "## Exceptions"
      ]
    },
    {
      "cell_type": "markdown",
      "metadata": {
        "id": "1hqEfpaUe533"
      },
      "source": [
        "In Python errors are managed with a special language construct called \"Exceptions\". When errors occur exceptions can be raised, which interrupts the normal program flow and fallback to somewhere else in the code where the closest try-except statement is defined."
      ]
    },
    {
      "cell_type": "markdown",
      "metadata": {
        "id": "Gh7mFsawe534"
      },
      "source": [
        "To generate an exception we can use the `raise` statement, which takes an argument that must be an instance of the class `BaseException` or a class derived from it. "
      ]
    },
    {
      "cell_type": "code",
      "metadata": {
        "id": "GsgR46GPe535",
        "outputId": "b0990964-babf-437e-8434-47711a064af6"
      },
      "source": [
        "raise Exception(\"description of the error\")"
      ],
      "execution_count": null,
      "outputs": [
        {
          "output_type": "error",
          "ename": "Exception",
          "evalue": "description of the error",
          "traceback": [
            "\u001b[0;31m---------------------------------------------------------------------------\u001b[0m",
            "\u001b[0;31mException\u001b[0m                                 Traceback (most recent call last)",
            "\u001b[0;32m<ipython-input-41-c32f93e4dfa0>\u001b[0m in \u001b[0;36m<module>\u001b[0;34m\u001b[0m\n\u001b[0;32m----> 1\u001b[0;31m \u001b[0;32mraise\u001b[0m \u001b[0mException\u001b[0m\u001b[0;34m(\u001b[0m\u001b[0;34m\"description of the error\"\u001b[0m\u001b[0;34m)\u001b[0m\u001b[0;34m\u001b[0m\u001b[0;34m\u001b[0m\u001b[0m\n\u001b[0m",
            "\u001b[0;31mException\u001b[0m: description of the error"
          ]
        }
      ]
    },
    {
      "cell_type": "markdown",
      "metadata": {
        "id": "8KrMQ1hLe535"
      },
      "source": [
        "A typical use of exceptions is to abort functions when some error condition occurs, for example:\n",
        "\n",
        "    def my_function(arguments):\n",
        "    \n",
        "        if not verify(arguments):\n",
        "            raise Exception(\"Invalid arguments\")\n",
        "        \n",
        "        # rest of the code goes here"
      ]
    },
    {
      "cell_type": "markdown",
      "metadata": {
        "id": "RVBOQ96be535"
      },
      "source": [
        "To gracefully catch errors that are generated by functions and class methods, or by the Python interpreter itself, use the `try` and  `except` statements:\n",
        "\n",
        "    try:\n",
        "        # normal code goes here\n",
        "    except:\n",
        "        # code for error handling goes here\n",
        "        # this code is not executed unless the code\n",
        "        # above generated an error\n",
        "\n",
        "For example:"
      ]
    },
    {
      "cell_type": "code",
      "metadata": {
        "id": "O5uCpieje535"
      },
      "source": [
        "try:\n",
        "    print(\"test\")\n",
        "    # generate an error: the variable test is not defined\n",
        "    print(test)\n",
        "except:\n",
        "    print(\"Caught an exception\")"
      ],
      "execution_count": null,
      "outputs": []
    },
    {
      "cell_type": "markdown",
      "metadata": {
        "id": "4PLM03cbe536"
      },
      "source": [
        "To get information about the error, we can access the `Exception` class instance that describes the exception by using for example:\n",
        "\n",
        "    except Exception as e:"
      ]
    },
    {
      "cell_type": "code",
      "metadata": {
        "id": "rd4ahtgGe537"
      },
      "source": [
        "try:\n",
        "    print(\"test\")\n",
        "    # generate an error: the variable test is not defined\n",
        "    print(test)\n",
        "except Exception as e:\n",
        "    print(\"Caught an exception:\" + str(e))"
      ],
      "execution_count": null,
      "outputs": []
    },
    {
      "cell_type": "markdown",
      "metadata": {
        "id": "K7XPMCQLe537"
      },
      "source": [
        "## Further reading"
      ]
    },
    {
      "cell_type": "markdown",
      "metadata": {
        "id": "J5R0dWrke537"
      },
      "source": [
        "* https://docs.python.org/3/tutorial/ - The Python tutorial\n",
        "* http://www.greenteapress.com/thinkpython/ - A free book on Python programming.\n",
        "* http://www.diveintopython3.net/ - Another free ebook Dive Into Python 3\n",
        "* http://www.thomas-cokelaer.info/tutorials/python/ - Python notes\n",
        "* http://www.python.org - The official web page of the Python programming language.\n",
        "* http://www.python.org/dev/peps/pep-0008 - Style guide for Python programming. Highly recommended.\n",
        "\n",
        "\n",
        "* https://s3.amazonaws.com/assets.datacamp.com/blog_assets/PythonForDataScience.pdf Python cheat sheet for variables and data types, Strings, Lists"
      ]
    },
    {
      "cell_type": "code",
      "metadata": {
        "id": "Ht9GgnQGe538"
      },
      "source": [
        "!python scripts/footnote.py"
      ],
      "execution_count": null,
      "outputs": []
    }
  ]
}