{
  "nbformat": 4,
  "nbformat_minor": 0,
  "metadata": {
    "anaconda-cloud": {
      "environment": null
    },
    "kernelspec": {
      "display_name": "Python 3",
      "language": "python",
      "name": "python3"
    },
    "language_info": {
      "codemirror_mode": {
        "name": "ipython",
        "version": 3
      },
      "file_extension": ".py",
      "mimetype": "text/x-python",
      "name": "python",
      "nbconvert_exporter": "python",
      "pygments_lexer": "ipython3",
      "version": "3.6.9"
    },
    "toc-autonumbering": true,
    "colab": {
      "name": "05-pandas-Exercises.ipynb",
      "provenance": []
    }
  },
  "cells": [
    {
      "cell_type": "markdown",
      "metadata": {
        "id": "unvteQlB7VTA"
      },
      "source": [
        "# Pandas COVID19 Practice - Hints - Unibs 2021"
      ]
    },
    {
      "cell_type": "markdown",
      "metadata": {
        "id": "dZgq0k967VTJ"
      },
      "source": [
        "In this exercize, we will anlyze some public data provided by the \"Dipartimento della Protezione Civile\". To inform the citzens and give the reached datas, useful only to comunicate and informate, Dipartimento della Protezione Civile has elaborated a dashboard reachable to the URL http://arcg.is/C1unv (desktop version) and http://arcg.is/081a51 (mobile version) and give to everyone, under the licence CC-BY-4.0, the following infos updated dialy at 18.30:\n",
        "* National evolution data\n",
        "* json data\n",
        "* Regional data\n",
        "* Provincial data\n",
        "* Summaries\n",
        "* Areas\n",
        "* Notes\n",
        "* Contracts data DPC furnitures\n",
        "* Metrics\n",
        "\n",
        "See https://github.com/pcm-dpc/COVID-19"
      ]
    },
    {
      "cell_type": "markdown",
      "metadata": {
        "id": "eSBd7GCp7VTM"
      },
      "source": [
        "### Import pandas package under name `pd` and print version"
      ]
    },
    {
      "cell_type": "code",
      "metadata": {
        "id": "EcxOju6b7VTN"
      },
      "source": [
        "import matplotlib.pyplot as plt"
      ],
      "execution_count": null,
      "outputs": []
    },
    {
      "cell_type": "markdown",
      "metadata": {
        "id": "-L5soe-T7VTO"
      },
      "source": [
        "`hint: import ... as, pd.__version__ `"
      ]
    },
    {
      "cell_type": "code",
      "metadata": {
        "id": "i68Z09K77VTQ"
      },
      "source": [
        ""
      ],
      "execution_count": null,
      "outputs": []
    },
    {
      "cell_type": "code",
      "metadata": {
        "id": "frdofcWK7VTQ"
      },
      "source": [
        ""
      ],
      "execution_count": null,
      "outputs": []
    },
    {
      "cell_type": "markdown",
      "metadata": {
        "id": "HnnGLwMA7VTR"
      },
      "source": [
        "## Base"
      ]
    },
    {
      "cell_type": "markdown",
      "metadata": {
        "id": "3nquTW3D7VTR"
      },
      "source": [
        "### Download latest COVID19 csv of italian regions from official Italian Civil Protection github and show it\n",
        "\n",
        "CSV data at: https://raw.githubusercontent.com/pcm-dpc/COVID-19/master/dati-regioni/dpc-covid19-ita-regioni-latest.csv"
      ]
    },
    {
      "cell_type": "markdown",
      "metadata": {
        "id": "sAQJU-dk7VTS"
      },
      "source": [
        "`hint: pd.read_csv, sep=\",\"`"
      ]
    },
    {
      "cell_type": "code",
      "metadata": {
        "id": "NjvYpbv27VTT"
      },
      "source": [
        ""
      ],
      "execution_count": null,
      "outputs": []
    },
    {
      "cell_type": "code",
      "metadata": {
        "id": "v8sl_9Oh7VTU"
      },
      "source": [
        ""
      ],
      "execution_count": null,
      "outputs": []
    },
    {
      "cell_type": "markdown",
      "metadata": {
        "id": "iIe0ScoP7VTU"
      },
      "source": [
        "### Sort columns and show their types"
      ]
    },
    {
      "cell_type": "markdown",
      "metadata": {
        "id": "lK565aRD7VTV"
      },
      "source": [
        "`hint: df.sort_index, axis=1, inplace=True, df.dtypes`"
      ]
    },
    {
      "cell_type": "code",
      "metadata": {
        "id": "xBU59jau7VTV"
      },
      "source": [
        ""
      ],
      "execution_count": null,
      "outputs": []
    },
    {
      "cell_type": "code",
      "metadata": {
        "id": "vR6MP8Q77VTW"
      },
      "source": [
        ""
      ],
      "execution_count": null,
      "outputs": []
    },
    {
      "cell_type": "markdown",
      "metadata": {
        "id": "XDa0a4IU7VTW"
      },
      "source": [
        "### Print first and last five rows of the data"
      ]
    },
    {
      "cell_type": "markdown",
      "metadata": {
        "id": "f9wNsLqz7VTW"
      },
      "source": [
        "`hint: df.head, df.tail`"
      ]
    },
    {
      "cell_type": "code",
      "metadata": {
        "id": "P4qKef237VTX"
      },
      "source": [
        ""
      ],
      "execution_count": null,
      "outputs": []
    },
    {
      "cell_type": "code",
      "metadata": {
        "id": "st-be9x67VTX"
      },
      "source": [
        ""
      ],
      "execution_count": null,
      "outputs": []
    },
    {
      "cell_type": "markdown",
      "metadata": {
        "id": "Ac7BTima7VTX"
      },
      "source": [
        "### Print synthetic statistical description of the dataframe (count, min, max, mean, etc.)"
      ]
    },
    {
      "cell_type": "markdown",
      "metadata": {
        "id": "9s2TCeP57VTY"
      },
      "source": [
        "`hint: df.describe`"
      ]
    },
    {
      "cell_type": "code",
      "metadata": {
        "id": "xAZPp1Cw7VTY"
      },
      "source": [
        ""
      ],
      "execution_count": null,
      "outputs": []
    },
    {
      "cell_type": "markdown",
      "metadata": {
        "id": "Hsfjh_NO7VTY"
      },
      "source": [
        "### Count elements for each column"
      ]
    },
    {
      "cell_type": "markdown",
      "metadata": {
        "id": "NfcMLVDB7VTY"
      },
      "source": [
        "`hint: df.count`"
      ]
    },
    {
      "cell_type": "code",
      "metadata": {
        "id": "p-_uERKv7VTZ"
      },
      "source": [
        ""
      ],
      "execution_count": null,
      "outputs": []
    },
    {
      "cell_type": "markdown",
      "metadata": {
        "id": "XZgGgJM47VTZ"
      },
      "source": [
        "### Select only \"totale_positivi\" and \"nuovi_positivi\" columns"
      ]
    },
    {
      "cell_type": "markdown",
      "metadata": {
        "id": "2EDgN4RJ7VTa"
      },
      "source": [
        "`hint: df[]`"
      ]
    },
    {
      "cell_type": "code",
      "metadata": {
        "id": "yxLgh-Rq7VTa"
      },
      "source": [
        ""
      ],
      "execution_count": null,
      "outputs": []
    },
    {
      "cell_type": "markdown",
      "metadata": {
        "id": "Z-tgfP9g7VTa"
      },
      "source": [
        "### Create the new column \"precedenti_positivi\" columns using the formula $precedenti\\_positivi = totale\\_positivi - nuovi\\_positivi$ and show it"
      ]
    },
    {
      "cell_type": "markdown",
      "metadata": {
        "id": "0Mo_oKTA7VTb"
      },
      "source": [
        "`hint: df[] = df[] - df[]`"
      ]
    },
    {
      "cell_type": "code",
      "metadata": {
        "id": "rKMQnotD7VTb"
      },
      "source": [
        ""
      ],
      "execution_count": null,
      "outputs": []
    },
    {
      "cell_type": "markdown",
      "metadata": {
        "id": "q-ujGRhN7VTb"
      },
      "source": [
        "### Select only rows from 5 to 7"
      ]
    },
    {
      "cell_type": "markdown",
      "metadata": {
        "id": "kUxivB_47VTc"
      },
      "source": [
        "`hint: df.loc[]`"
      ]
    },
    {
      "cell_type": "code",
      "metadata": {
        "id": "DiAbEQnC7VTc"
      },
      "source": [
        ""
      ],
      "execution_count": null,
      "outputs": []
    },
    {
      "cell_type": "markdown",
      "metadata": {
        "id": "CSYWENfs7VTc"
      },
      "source": [
        "### Select only \"totale_positivi\" and \"nuovi_positivi\" columns and only rows from 5 to 7"
      ]
    },
    {
      "cell_type": "markdown",
      "metadata": {
        "id": "6PdCta8w7VTd"
      },
      "source": [
        "`hint: df[], df.loc[]`"
      ]
    },
    {
      "cell_type": "code",
      "metadata": {
        "id": "V_XhChAA7VTd"
      },
      "source": [
        ""
      ],
      "execution_count": null,
      "outputs": []
    },
    {
      "cell_type": "markdown",
      "metadata": {
        "id": "5tBv8Tq67VTd"
      },
      "source": [
        "### Set \"denominazione_regione\" as index and show it"
      ]
    },
    {
      "cell_type": "markdown",
      "metadata": {
        "id": "w1N6T4UK7VTe"
      },
      "source": [
        "`hint: df.set_index, inplace=True`"
      ]
    },
    {
      "cell_type": "code",
      "metadata": {
        "id": "WeMgI-S37VTe"
      },
      "source": [
        ""
      ],
      "execution_count": null,
      "outputs": []
    },
    {
      "cell_type": "markdown",
      "metadata": {
        "id": "pLbLccSU7VTe"
      },
      "source": [
        "### Plot horizontal bars of \"tamponi_test_antigenico_rapido\" and \"tamponi_test_molecolare\" columns for each region"
      ]
    },
    {
      "cell_type": "markdown",
      "metadata": {
        "id": "LyqZMOrl7VTe"
      },
      "source": [
        "`hint: df[].plot.barh, figsize=()`"
      ]
    },
    {
      "cell_type": "markdown",
      "metadata": {
        "id": "dYTewrSS7VTe"
      },
      "source": [
        "- Figure size of (6,8)"
      ]
    },
    {
      "cell_type": "code",
      "metadata": {
        "id": "so7u9RzA7VTf"
      },
      "source": [
        ""
      ],
      "execution_count": null,
      "outputs": []
    },
    {
      "cell_type": "markdown",
      "metadata": {
        "id": "RgG2ovWu7VTf"
      },
      "source": [
        "### Plot horizontal bars of \"tamponi_test_antigenico_rapido\" and \"tamponi_test_molecolare\" stacked together"
      ]
    },
    {
      "cell_type": "markdown",
      "metadata": {
        "id": "wSasqUU97VTf"
      },
      "source": [
        "`hint: stacked=True`"
      ]
    },
    {
      "cell_type": "markdown",
      "metadata": {
        "id": "QgdtVwZH7VTf"
      },
      "source": [
        "- Figure size of (6,8)"
      ]
    },
    {
      "cell_type": "code",
      "metadata": {
        "id": "DBckOB3J7VTg"
      },
      "source": [
        ""
      ],
      "execution_count": null,
      "outputs": []
    },
    {
      "cell_type": "markdown",
      "metadata": {
        "id": "a758CU427VTg"
      },
      "source": [
        "### Plot horizontal bars of \"tamponi_test_antigenico_rapido\" and \"tamponi_test_molecolare\" columns for each region in different subplots"
      ]
    },
    {
      "cell_type": "markdown",
      "metadata": {
        "id": "umlFKyls7VTg"
      },
      "source": [
        "`hint: df[].plot.barh, figsize=()`"
      ]
    },
    {
      "cell_type": "markdown",
      "metadata": {
        "id": "B_kOWDFt7VTh"
      },
      "source": [
        "- Figure size of (6,10)"
      ]
    },
    {
      "cell_type": "code",
      "metadata": {
        "id": "fT79Iqfu7VTh"
      },
      "source": [
        ""
      ],
      "execution_count": null,
      "outputs": []
    },
    {
      "cell_type": "markdown",
      "metadata": {
        "id": "s7XxOKLk7VTh"
      },
      "source": [
        "### Plot horizontal bars of \"tamponi_test_antigenico_rapido\" and \"tamponi_test_molecolare\" columns for each region sorting by \"tamponi_test_antigenico_rapido\" column"
      ]
    },
    {
      "cell_type": "markdown",
      "metadata": {
        "id": "4crG1QIx7VTi"
      },
      "source": [
        "`hint: df.sort_values`"
      ]
    },
    {
      "cell_type": "markdown",
      "metadata": {
        "id": "iCIN5I_b7VTi"
      },
      "source": [
        "- Figure size of (6,8)"
      ]
    },
    {
      "cell_type": "code",
      "metadata": {
        "id": "AaN0_19M7VTi"
      },
      "source": [
        ""
      ],
      "execution_count": null,
      "outputs": []
    },
    {
      "cell_type": "markdown",
      "metadata": {
        "id": "RVBNE9Uo7VTi"
      },
      "source": [
        "## Intermediate"
      ]
    },
    {
      "cell_type": "markdown",
      "metadata": {
        "id": "KRxAQBeH7VTj"
      },
      "source": [
        "### Plot histograms of \"totale_ospedalizzati\", \"terapia_intensiva\", \"ricoverati_con_sintomi\", \"nuovi_positivi\" in different subplots"
      ]
    },
    {
      "cell_type": "markdown",
      "metadata": {
        "id": "Od6216vU7VTj"
      },
      "source": [
        "`hint: df[].plot.hist, bins=, alpha=`"
      ]
    },
    {
      "cell_type": "markdown",
      "metadata": {
        "id": "akWN_jIM7VTj"
      },
      "source": [
        "- Figure size of (10, 6)\n",
        "- 10 Bins\n",
        "- Alpha of 0.75"
      ]
    },
    {
      "cell_type": "code",
      "metadata": {
        "id": "JJvhzZWU7VTj"
      },
      "source": [
        ""
      ],
      "execution_count": null,
      "outputs": []
    },
    {
      "cell_type": "markdown",
      "metadata": {
        "id": "-GUOyWTa7VTk"
      },
      "source": [
        "### Plot in pie charts the number of \"tamponi_test_molecolare\" with percentage for each region with exploded slice for *Lombardia* region"
      ]
    },
    {
      "cell_type": "markdown",
      "metadata": {
        "id": "jLA-4CEv7VTk"
      },
      "source": [
        "`hint: df.index, df[].plot.pie, figsize=, autopct=\"%1.1f%%, pctdistance=, explode=, ylabel=\", `"
      ]
    },
    {
      "cell_type": "markdown",
      "metadata": {
        "id": "yx297OcZ7VTk"
      },
      "source": [
        "- Figure size of (8,8)\n",
        "- Explode of 0.1 for Lombardia region\n",
        "- Distance of the percentage of 0.75"
      ]
    },
    {
      "cell_type": "code",
      "metadata": {
        "id": "-sDkMkCt7VTk"
      },
      "source": [
        ""
      ],
      "execution_count": null,
      "outputs": []
    },
    {
      "cell_type": "markdown",
      "metadata": {
        "id": "cp1FHsq37VTl"
      },
      "source": [
        "### Plot hexbin plot of \"deceduti\" by (\"long\", \"lat) coordinates of regions"
      ]
    },
    {
      "cell_type": "markdown",
      "metadata": {
        "id": "Get73xwO7VTl"
      },
      "source": [
        "`hint: df.plot.hexbin, x=, y=, C=, edgecolor=, gridsize=`"
      ]
    },
    {
      "cell_type": "markdown",
      "metadata": {
        "id": "51RRhn6F7VTl"
      },
      "source": [
        "- Figure size of (8, 6)\n",
        "- Gridsize of 10"
      ]
    },
    {
      "cell_type": "code",
      "metadata": {
        "id": "4Qdu6y-T7VTm"
      },
      "source": [
        ""
      ],
      "execution_count": null,
      "outputs": []
    },
    {
      "cell_type": "markdown",
      "metadata": {
        "id": "WNjhbdN77VTm"
      },
      "source": [
        "### Plot scatterplots of \"terapia_intensiva\" and \"ingressi_terapia_intensiva\" by (\"long\", \"lat\") coordinates of regions both in the same plot"
      ]
    },
    {
      "cell_type": "markdown",
      "metadata": {
        "id": "-Gkuvzzf7VTm"
      },
      "source": [
        "`hint: df.plot.scatter, x=, y=, color=, alpha=, s=, label=, ax=, ax.legend`"
      ]
    },
    {
      "cell_type": "markdown",
      "metadata": {
        "id": "RhMiWvwT7VTm"
      },
      "source": [
        "- Figure size of (8, 6)\n",
        "- Alpha of 0.5\n",
        "- Legend at the bottom"
      ]
    },
    {
      "cell_type": "code",
      "metadata": {
        "id": "KimbVRuc7VTn"
      },
      "source": [
        ""
      ],
      "execution_count": null,
      "outputs": []
    },
    {
      "cell_type": "markdown",
      "metadata": {
        "id": "LPm5XNTU7VTn"
      },
      "source": [
        "### Group the regions by color and plot bars of the mean value of \"nuovi_positivi\" column"
      ]
    },
    {
      "cell_type": "markdown",
      "metadata": {
        "id": "dQooghXs7VTn"
      },
      "source": [
        "`hint: pd.Series, df.groupby().mean().plot.bar(), title=, rot=,`"
      ]
    },
    {
      "cell_type": "markdown",
      "metadata": {
        "id": "Q-L1psL67VTn"
      },
      "source": [
        "\n",
        "- Figure size (8, 6)\n",
        "\n",
        "regions_colors = {\n",
        "    \"Abruzzo\": \"orange\",\n",
        "    \"Basilicata\": \"orange\",\n",
        "    \"Calabria\": \"orange\",\n",
        "    \"Campania\": \"red\",\n",
        "    \"Emilia-Romagna\": \"red\",\n",
        "    \"Friuli Venezia Giulia\": \"red\",\n",
        "    \"Lazio\": \"red\",\n",
        "    \"Liguria\": \"orange\",\n",
        "    \"Lombardia\": \"red\",\n",
        "    \"Marche\": \"red\",\n",
        "    \"Molise\": \"red\",\n",
        "    \"P.A. Bolzano\": \"orange\",\n",
        "    \"P.A. Trento\": \"red\",\n",
        "    \"Piemonte\": \"red\",\n",
        "    \"Puglia\": \"red\",\n",
        "    \"Sardegna\": \"white\",\n",
        "    \"Sicilia\": \"red\",\n",
        "    \"Toscana\": \"orange\",\n",
        "    \"Umbria\": \"orange\",\n",
        "    \"Valle d'Aosta\": \"orange\",\n",
        "    \"Veneto\": \"red\",\n",
        "}"
      ]
    },
    {
      "cell_type": "code",
      "metadata": {
        "id": "8fyAJpSK7VTo"
      },
      "source": [
        ""
      ],
      "execution_count": null,
      "outputs": []
    },
    {
      "cell_type": "code",
      "metadata": {
        "id": "CtZi66YX7VTo"
      },
      "source": [
        ""
      ],
      "execution_count": null,
      "outputs": []
    },
    {
      "cell_type": "markdown",
      "metadata": {
        "id": "2LpXhHrQ7VTo"
      },
      "source": [
        "### Group the regions by color and plot bars of mean *and error* of \"nuovi_positivi\" column"
      ]
    },
    {
      "cell_type": "markdown",
      "metadata": {
        "id": "_Eb5wIQ17VTp"
      },
      "source": [
        "`hint: df.groupby().std(), yerr=, rot=,`"
      ]
    },
    {
      "cell_type": "code",
      "metadata": {
        "id": "iyx7jOin7VTp"
      },
      "source": [
        ""
      ],
      "execution_count": null,
      "outputs": []
    },
    {
      "cell_type": "markdown",
      "metadata": {
        "id": "GyGt4S317VTp"
      },
      "source": [
        "### Group the regions by color and plot a hist of \"variazione_totale_positivi\" using 5 bins"
      ]
    },
    {
      "cell_type": "markdown",
      "metadata": {
        "id": "7WNbowNs7VTp"
      },
      "source": [
        "`hint: pd.Series, df.groupby().plot.hist(), legend=,`"
      ]
    },
    {
      "cell_type": "markdown",
      "metadata": {
        "id": "RZPmgV_f7VTp"
      },
      "source": [
        "## Thanks to Matteo Olivato m.olivato@unibs.it"
      ]
    }
  ]
}