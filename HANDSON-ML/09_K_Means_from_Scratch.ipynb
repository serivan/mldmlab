{
  "cells": [
    {
      "cell_type": "markdown",
      "metadata": {
        "id": "Z1EFy1Z4HBt1"
      },
      "source": [
        "K-Means is actually one of the simplest unsupervised clustering algorithm. Assume we have input data points $x_1,x:2,x:3,…,x_n$ and value of K(the number of clusters needed). We follow the below procedure:\n",
        "\n",
        "1. Pick K points as the initial centroids from the data set, either randomly or the first K.\n",
        "\n",
        "2. Find the Euclidean distance of each point in the data set with the identified K points — cluster centroids.\n",
        "\n",
        "3. Assign each data point to the closest centroid using the distance found in the previous step.\n",
        "\n",
        "4. Find the new centroid by taking the average of the points in each cluster group.\n",
        "\n",
        "5. Repeat 2 to 4 for a fixed number of iteration or till the centroids don’t change.\n"
      ]
    },
    {
      "cell_type": "code",
      "execution_count": 1,
      "metadata": {
        "id": "3U7VeR9s797J"
      },
      "outputs": [],
      "source": [
        "import matplotlib.pyplot as plt\n",
        "import numpy as np\n",
        "\n",
        "from matplotlib import style\n",
        "style.use('ggplot')\n",
        "import matplotlib.colors as colors\n",
        "from scipy.spatial.distance import cdist \n",
        "from sklearn.datasets import load_digits\n",
        "from sklearn.decomposition import PCA"
      ]
    },
    {
      "cell_type": "markdown",
      "metadata": {
        "id": "UYhG5qsq9yXI"
      },
      "source": [
        "To make our work organized we will build a class and proceed as in the steps above and also define a tolerance or threshold value for the SSE’s."
      ]
    },
    {
      "cell_type": "code",
      "execution_count": 4,
      "metadata": {
        "id": "WgGCEEFT9c68"
      },
      "outputs": [],
      "source": [
        "from abc import ABC, abstractmethod\n",
        "import warnings\n",
        "from sklearn.utils import check_random_state\n",
        "\n",
        "from sklearn.base import (\n",
        "    BaseEstimator,\n",
        "    ClusterMixin,\n",
        "    TransformerMixin\n",
        ")\n",
        "\n",
        "class KMeans( TransformerMixin, ClusterMixin, BaseEstimator, ABC):\n",
        "    def __init__(self,  n_clusters=2, tol=0.001, max_iter=300, random_state=None):\n",
        "        self.n_clusters = n_clusters\n",
        "        self.tol = #TODO \n",
        "        self.max_iter = #TODO \n",
        "        self.random_state = #TODO \n",
        "\n",
        "    def fit(self,data):\n",
        "        random_state = check_random_state(self.random_state)\n",
        "        self.cluster_centers_ = {}\n",
        "        n_samples, n_features = data.shape\n",
        "        self.labels_ = np.full(n_samples, -1, dtype=np.int32)\n",
        "\n",
        "        #Step 1\n",
        "        idx =#TODO -- np.random.choice\n",
        "\n",
        "        for i in range(self.n_clusters):\n",
        "            self.cluster_centers_[i] = data[idx[i]]\n",
        "\n",
        "        for i in range(self.max_iter):\n",
        "            self.cluster_data_ = {}\n",
        "\n",
        "            for j in range(self.n_clusters):\n",
        "                self.cluster_data_[j] = []\n",
        "            \n",
        "            indx=0\n",
        "            for element in data:\n",
        "                #Step 2\n",
        "                distances =  #TODO -- for all centroids using np.linalg.norm\n",
        "\n",
        "                #Step 3\n",
        "                classification = #TODO -- get index of min element distances\n",
        "                self.cluster_data_[classification].append(element)\n",
        "                self.labels_[indx]=classification\n",
        "                indx=indx+1\n",
        "\n",
        "            prev_centroids = dict(self.cluster_centers_)\n",
        "\n",
        "            for classification in self.cluster_data_:\n",
        "                #Step 4\n",
        "                self.cluster_centers_[classification] =  #TODO -- np.average\n",
        "\n",
        "            optimized = True\n",
        "            \n",
        "            for c in self.cluster_centers_:\n",
        "                original_centroid = prev_centroids[c]\n",
        "                current_centroid = self.cluster_centers_[c]\n",
        "\n",
        "                #Check of Step 5\n",
        "                change =#TODO -- np.linalg.norm             \n",
        "                print(\"Step: \"+str(i)+\" -- current centroid: \" + str(current_centroid)+ \"; original: \"+ str(original_centroid)+ \"; change: \"+str(change))              \n",
        "                if change > self.tol:\n",
        "                    optimized = False\n",
        "\n",
        "            if optimized:\n",
        "                break\n",
        "                \n",
        "        return self\n",
        "\n",
        "    def predict(self,data):\n",
        "        pred=np.full(len(data), -1, dtype=np.int32)\n",
        "        indx=0\n",
        "        for elem in data:\n",
        "          distances = #TODO See step 2\n",
        "          classification = distances.index(min(distances))\n",
        "          pred[indx]=classification\n",
        "          indx=indx+1\n",
        "\n",
        "        return pred\n",
        "\n",
        "    def fit_predict(self,data):\n",
        "      return self.fit(data).labels_"
      ]
    },
    {
      "cell_type": "markdown",
      "metadata": {
        "id": "Zm66puTZ94IP"
      },
      "source": [
        "Now we can test our code"
      ]
    },
    {
      "cell_type": "code",
      "execution_count": 5,
      "metadata": {
        "colab": {
          "base_uri": "https://localhost:8080/",
          "height": 265
        },
        "id": "rqZS_e199b_o",
        "outputId": "a787f711-1bf6-4b09-c095-0d9a86ebed5a"
      },
      "outputs": [
        {
          "output_type": "display_data",
          "data": {
            "text/plain": [
              "<Figure size 432x288 with 1 Axes>"
            ],
            "image/png": "[encoded data removed]"
          },
          "metadata": {
            "needs_background": "light"
          }
        }
      ],
      "source": [
        "\n",
        "X = np.array([[1, 2],\n",
        "              [1.5, 1.8],\n",
        "              [5, 8 ],\n",
        "              [8, 8],\n",
        "              [1, 0.6],\n",
        "              [9,11]])\n",
        "\n",
        "\n",
        "colors_list = list(colors._colors_full_map.values())\n",
        "plt.scatter(X[:,0], X[:,1], s=50)\n",
        "plt.show()\n"
      ]
    },
    {
      "cell_type": "code",
      "execution_count": 6,
      "metadata": {
        "colab": {
          "base_uri": "https://localhost:8080/"
        },
        "id": "RYhfbikIDnMg",
        "outputId": "861a5222-469a-492a-bbc8-b1b53685175b"
      },
      "outputs": [
        {
          "output_type": "stream",
          "name": "stdout",
          "text": [
            "Step: 0 -- current centroid: [ 9. 11.]; original: [ 9. 11.]; change: 0.0\n",
            "Step: 0 -- current centroid: [3.3  4.08]; original: [8. 8.]; change: 6.120163396511567\n",
            "Step: 1 -- current centroid: [8.5 9.5]; original: [ 9. 11.]; change: 1.5811388300841898\n",
            "Step: 1 -- current centroid: [2.125 3.1  ]; original: [3.3  4.08]; change: 1.5300408491278914\n",
            "Step: 2 -- current centroid: [7.33333333 9.        ]; original: [8.5 9.5]; change: 1.269295517643985\n",
            "Step: 2 -- current centroid: [1.16666667 1.46666667]; original: [2.125 3.1  ]; change: 1.8937213510850945\n",
            "Step: 3 -- current centroid: [7.33333333 9.        ]; original: [7.33333333 9.        ]; change: 0.0\n",
            "Step: 3 -- current centroid: [1.16666667 1.46666667]; original: [1.16666667 1.46666667]; change: 0.0\n",
            "[1 1 0 0 1 0]\n"
          ]
        }
      ],
      "source": [
        "model = KMeans(n_clusters=2)\n",
        "X_labels=model.fit(X).labels_\n",
        "print(X_labels)"
      ]
    },
    {
      "cell_type": "code",
      "source": [
        "model.cluster_data_"
      ],
      "metadata": {
        "colab": {
          "base_uri": "https://localhost:8080/"
        },
        "id": "tBiUrT9rLT-u",
        "outputId": "dcc1c562-de9c-41f4-de66-06128300dccc"
      },
      "execution_count": 7,
      "outputs": [
        {
          "output_type": "execute_result",
          "data": {
            "text/plain": [
              "{0: [array([5., 8.]), array([8., 8.]), array([ 9., 11.])],\n",
              " 1: [array([1., 2.]), array([1.5, 1.8]), array([1. , 0.6])]}"
            ]
          },
          "metadata": {},
          "execution_count": 7
        }
      ]
    },
    {
      "cell_type": "code",
      "execution_count": 8,
      "metadata": {
        "colab": {
          "base_uri": "https://localhost:8080/",
          "height": 265
        },
        "id": "jgsMcRLL98tL",
        "outputId": "0fc818f0-f92d-46e5-aaaf-f2e61f290d51"
      },
      "outputs": [
        {
          "output_type": "display_data",
          "data": {
            "text/plain": [
              "<Figure size 432x288 with 1 Axes>"
            ],
            "image/png": "[encoded data removed]"
          },
          "metadata": {
            "needs_background": "light"
          }
        }
      ],
      "source": [
        "for centroid in model.cluster_centers_:\n",
        "    plt.scatter(model.cluster_centers_[centroid][0], model.cluster_centers_[centroid][1],\n",
        "                marker=\"o\", color=\"k\", s=50, linewidths=5)\n",
        "\n",
        "\n",
        "for classification in model.cluster_data_:\n",
        "    color = colors_list[classification]\n",
        "    for element in model.cluster_data_[classification]:\n",
        "        plt.scatter(element[0], element[1], marker=\"x\", color=color, s=50, linewidths=5)\n",
        "\n",
        "plt.show()"
      ]
    }
  ],
  "metadata": {
    "colab": {
      "collapsed_sections": [],
      "name": "09-K_Means from Scratch.ipynb",
      "provenance": []
    },
    "kernelspec": {
      "display_name": "Python 3",
      "language": "python",
      "name": "python3"
    },
    "language_info": {
      "codemirror_mode": {
        "name": "ipython",
        "version": 3
      },
      "file_extension": ".py",
      "mimetype": "text/x-python",
      "name": "python",
      "nbconvert_exporter": "python",
      "pygments_lexer": "ipython3",
      "version": "3.8.12"
    }
  },
  "nbformat": 4,
  "nbformat_minor": 0
}