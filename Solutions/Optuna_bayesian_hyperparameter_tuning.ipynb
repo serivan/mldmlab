{
  "nbformat": 4,
  "nbformat_minor": 0,
  "metadata": {
    "colab": {
      "name": "Optuna, bayesian hyperparameter tuning.ipynb",
      "provenance": [],
      "collapsed_sections": [],
      "include_colab_link": true
    },
    "kernelspec": {
      "name": "python3",
      "display_name": "Python 3"
    }
  },
  "cells": [
    {
      "cell_type": "markdown",
      "metadata": {
        "id": "view-in-github",
        "colab_type": "text"
      },
      "source": [
        "<a href=\"https://colab.research.google.com/github/serivan/mldmlab/blob/master/Optuna%2C_bayesian_hyperparameter_tuning.ipynb\" target=\"_parent\"><img src=\"https://colab.research.google.com/assets/colab-badge.svg\" alt=\"Open In Colab\"/></a>"
      ]
    },
    {
      "cell_type": "markdown",
      "metadata": {
        "id": "PFKIy7Ha2Uom"
      },
      "source": [
        "# Installazioni"
      ]
    },
    {
      "cell_type": "code",
      "metadata": {
        "id": "DWpe-4Mqs5yY",
        "colab": {
          "base_uri": "https://localhost:8080/"
        },
        "outputId": "92c04933-e73a-4c36-959c-2c0edaffb08f"
      },
      "source": [
        "!pip install optuna"
      ],
      "execution_count": 1,
      "outputs": [
        {
          "output_type": "stream",
          "text": [
            "Collecting optuna\n",
            "\u001b[?25l  Downloading https://files.pythonhosted.org/packages/2b/21/d13081805e1e1afc71f5bb743ece324c8bd576237c51b899ecb38a717502/optuna-2.7.0-py3-none-any.whl (293kB)\n",
            "\u001b[K     |████████████████████████████████| 296kB 28.1MB/s \n",
            "\u001b[?25hRequirement already satisfied: sqlalchemy>=1.1.0 in /usr/local/lib/python3.7/dist-packages (from optuna) (1.4.15)\n",
            "Collecting cliff\n",
            "\u001b[?25l  Downloading https://files.pythonhosted.org/packages/87/11/aea1cacbd4cf8262809c4d6f95dcb3f2802594de1f51c5bd454d69bf15c5/cliff-3.8.0-py3-none-any.whl (80kB)\n",
            "\u001b[K     |████████████████████████████████| 81kB 9.1MB/s \n",
            "\u001b[?25hRequirement already satisfied: packaging>=20.0 in /usr/local/lib/python3.7/dist-packages (from optuna) (20.9)\n",
            "Collecting alembic\n",
            "\u001b[?25l  Downloading https://files.pythonhosted.org/packages/d5/80/ef186e599a57d0e4cb78fc76e0bfc2e6953fa9716b2a5cf2de0117ed8eb5/alembic-1.6.5-py2.py3-none-any.whl (164kB)\n",
            "\u001b[K     |████████████████████████████████| 174kB 31.0MB/s \n",
            "\u001b[?25hRequirement already satisfied: tqdm in /usr/local/lib/python3.7/dist-packages (from optuna) (4.41.1)\n",
            "Collecting cmaes>=0.8.2\n",
            "  Downloading https://files.pythonhosted.org/packages/01/1f/43b01223a0366171f474320c6e966c39a11587287f098a5f09809b45e05f/cmaes-0.8.2-py3-none-any.whl\n",
            "Collecting colorlog\n",
            "  Downloading https://files.pythonhosted.org/packages/32/e6/e9ddc6fa1104fda718338b341e4b3dc31cd8039ab29e52fc73b508515361/colorlog-5.0.1-py2.py3-none-any.whl\n",
            "Requirement already satisfied: numpy in /usr/local/lib/python3.7/dist-packages (from optuna) (1.19.5)\n",
            "Requirement already satisfied: scipy!=1.4.0 in /usr/local/lib/python3.7/dist-packages (from optuna) (1.4.1)\n",
            "Requirement already satisfied: importlib-metadata; python_version < \"3.8\" in /usr/local/lib/python3.7/dist-packages (from sqlalchemy>=1.1.0->optuna) (4.0.1)\n",
            "Requirement already satisfied: greenlet!=0.4.17; python_version >= \"3\" in /usr/local/lib/python3.7/dist-packages (from sqlalchemy>=1.1.0->optuna) (1.1.0)\n",
            "Collecting stevedore>=2.0.1\n",
            "\u001b[?25l  Downloading https://files.pythonhosted.org/packages/d4/49/b602307aeac3df3384ff1fcd05da9c0376c622a6c48bb5325f28ab165b57/stevedore-3.3.0-py3-none-any.whl (49kB)\n",
            "\u001b[K     |████████████████████████████████| 51kB 5.9MB/s \n",
            "\u001b[?25hRequirement already satisfied: pyparsing>=2.1.0 in /usr/local/lib/python3.7/dist-packages (from cliff->optuna) (2.4.7)\n",
            "Collecting pbr!=2.1.0,>=2.0.0\n",
            "\u001b[?25l  Downloading https://files.pythonhosted.org/packages/18/e0/1d4702dd81121d04a477c272d47ee5b6bc970d1a0990b11befa275c55cf2/pbr-5.6.0-py2.py3-none-any.whl (111kB)\n",
            "\u001b[K     |████████████████████████████████| 112kB 40.2MB/s \n",
            "\u001b[?25hRequirement already satisfied: PyYAML>=3.12 in /usr/local/lib/python3.7/dist-packages (from cliff->optuna) (3.13)\n",
            "Requirement already satisfied: PrettyTable>=0.7.2 in /usr/local/lib/python3.7/dist-packages (from cliff->optuna) (2.1.0)\n",
            "Collecting cmd2>=1.0.0\n",
            "\u001b[?25l  Downloading https://files.pythonhosted.org/packages/15/8b/15061b32332bb35ea2a2f6263d0f616779d576e82739ec8e7fcf3c94abf5/cmd2-1.5.0-py3-none-any.whl (133kB)\n",
            "\u001b[K     |████████████████████████████████| 143kB 40.7MB/s \n",
            "\u001b[?25hRequirement already satisfied: python-dateutil in /usr/local/lib/python3.7/dist-packages (from alembic->optuna) (2.8.1)\n",
            "Collecting Mako\n",
            "\u001b[?25l  Downloading https://files.pythonhosted.org/packages/f3/54/dbc07fbb20865d3b78fdb7cf7fa713e2cba4f87f71100074ef2dc9f9d1f7/Mako-1.1.4-py2.py3-none-any.whl (75kB)\n",
            "\u001b[K     |████████████████████████████████| 81kB 9.0MB/s \n",
            "\u001b[?25hCollecting python-editor>=0.3\n",
            "  Downloading https://files.pythonhosted.org/packages/c6/d3/201fc3abe391bbae6606e6f1d598c15d367033332bd54352b12f35513717/python_editor-1.0.4-py3-none-any.whl\n",
            "Requirement already satisfied: typing-extensions>=3.6.4; python_version < \"3.8\" in /usr/local/lib/python3.7/dist-packages (from importlib-metadata; python_version < \"3.8\"->sqlalchemy>=1.1.0->optuna) (3.7.4.3)\n",
            "Requirement already satisfied: zipp>=0.5 in /usr/local/lib/python3.7/dist-packages (from importlib-metadata; python_version < \"3.8\"->sqlalchemy>=1.1.0->optuna) (3.4.1)\n",
            "Requirement already satisfied: wcwidth in /usr/local/lib/python3.7/dist-packages (from PrettyTable>=0.7.2->cliff->optuna) (0.2.5)\n",
            "Requirement already satisfied: attrs>=16.3.0 in /usr/local/lib/python3.7/dist-packages (from cmd2>=1.0.0->cliff->optuna) (21.2.0)\n",
            "Collecting pyperclip>=1.6\n",
            "  Downloading https://files.pythonhosted.org/packages/a7/2c/4c64579f847bd5d539803c8b909e54ba087a79d01bb3aba433a95879a6c5/pyperclip-1.8.2.tar.gz\n",
            "Collecting colorama>=0.3.7\n",
            "  Downloading https://files.pythonhosted.org/packages/44/98/5b86278fbbf250d239ae0ecb724f8572af1c91f4a11edf4d36a206189440/colorama-0.4.4-py2.py3-none-any.whl\n",
            "Requirement already satisfied: six>=1.5 in /usr/local/lib/python3.7/dist-packages (from python-dateutil->alembic->optuna) (1.15.0)\n",
            "Requirement already satisfied: MarkupSafe>=0.9.2 in /usr/local/lib/python3.7/dist-packages (from Mako->alembic->optuna) (2.0.1)\n",
            "Building wheels for collected packages: pyperclip\n",
            "  Building wheel for pyperclip (setup.py) ... \u001b[?25l\u001b[?25hdone\n",
            "  Created wheel for pyperclip: filename=pyperclip-1.8.2-cp37-none-any.whl size=11107 sha256=74337f5f8f0518169455004e8827bd9e80746cddf7e1d1cf628437d27abb93e6\n",
            "  Stored in directory: /root/.cache/pip/wheels/25/af/b8/3407109267803f4015e1ee2ff23be0c8c19ce4008665931ee1\n",
            "Successfully built pyperclip\n",
            "Installing collected packages: pbr, stevedore, pyperclip, colorama, cmd2, cliff, Mako, python-editor, alembic, cmaes, colorlog, optuna\n",
            "Successfully installed Mako-1.1.4 alembic-1.6.5 cliff-3.8.0 cmaes-0.8.2 cmd2-1.5.0 colorama-0.4.4 colorlog-5.0.1 optuna-2.7.0 pbr-5.6.0 pyperclip-1.8.2 python-editor-1.0.4 stevedore-3.3.0\n"
          ],
          "name": "stdout"
        }
      ]
    },
    {
      "cell_type": "markdown",
      "metadata": {
        "id": "a6Ng0jR82PCI"
      },
      "source": [
        "# Imports"
      ]
    },
    {
      "cell_type": "code",
      "metadata": {
        "id": "ic2zJV_ws0Ed"
      },
      "source": [
        "import optuna\n",
        "import numpy as np\n",
        "import pandas as pd\n",
        "import tensorflow as tf\n",
        "import joblib\n",
        "\n",
        "from sklearn.metrics import (\n",
        "    accuracy_score,\n",
        "    classification_report,\n",
        "    confusion_matrix,\n",
        "    make_scorer,\n",
        ")\n",
        "from sklearn.preprocessing import MinMaxScaler, RobustScaler, StandardScaler, MaxAbsScaler\n",
        "from sklearn.utils import compute_class_weight\n",
        "from sklearn.pipeline import Pipeline\n",
        "from sklearn.impute import SimpleImputer\n",
        "from sklearn.model_selection import train_test_split\n",
        "from sklearn.model_selection import StratifiedKFold\n",
        "\n",
        "\n",
        "\n",
        "from tensorflow.keras import backend as K\n",
        "from tensorflow.keras.callbacks import EarlyStopping\n",
        "from tensorflow.keras.layers import BatchNormalization, Dense, Dropout\n",
        "from tensorflow.keras.models import Sequential, load_model\n",
        "from tensorflow.keras.optimizers import Adam\n",
        "from tensorflow.keras.regularizers import l2\n",
        "from tensorflow.keras.utils import to_categorical\n",
        "from tensorflow.keras.wrappers.scikit_learn import KerasClassifier"
      ],
      "execution_count": 2,
      "outputs": []
    },
    {
      "cell_type": "markdown",
      "metadata": {
        "id": "A37a82J_2Fid"
      },
      "source": [
        "# Rimozione dei warnings"
      ]
    },
    {
      "cell_type": "code",
      "metadata": {
        "id": "XnVrqRMJtzB_"
      },
      "source": [
        "# Remove all warnings\n",
        "import warnings\n",
        "warnings.filterwarnings(\"ignore\")\n",
        "import os\n",
        "os.environ[\"PYTHONWARNINGS\"] = \"ignore\" # Also affect subprocesses"
      ],
      "execution_count": 3,
      "outputs": []
    },
    {
      "cell_type": "markdown",
      "metadata": {
        "id": "rOCuMnFb2KXl"
      },
      "source": [
        "# Costanti"
      ]
    },
    {
      "cell_type": "code",
      "metadata": {
        "id": "Nunoz0iTt2a3"
      },
      "source": [
        "LEARNING_RATE = 0.0001\n",
        "EPOCHS = 200\n",
        "RANDOM_STATE = 3993\n",
        "DATA_PATH = \"https://raw.githubusercontent.com/serivan/mldmlab/master/Kaggle/KAGGLE21/\"\n",
        "tf.random.set_seed(RANDOM_STATE)\n",
        "np.random.seed(RANDOM_STATE)\n",
        "TRAIN_SIZE = 0.8\n",
        "DROPCOLUMS=[\"Id\",\"target\"]\n",
        "FOLDS = 3\n",
        "\n",
        "early_stopping = EarlyStopping(\n",
        "    monitor=\"binary_accuracy\", \n",
        "    verbose=1,\n",
        "    patience=20,\n",
        "    mode=\"max\",\n",
        "    restore_best_weights=True,\n",
        ")"
      ],
      "execution_count": 4,
      "outputs": []
    },
    {
      "cell_type": "markdown",
      "metadata": {
        "id": "izTJYrSa2J4G"
      },
      "source": [
        "# Modello di rete neurale\n",
        "Implementiamo un semplice modello di rete neurale, con una serie di iperparametri:\n",
        "\n",
        "\n",
        "1.   numero di unità nel primo layer nascosto, viene poi decrementato per ogni successivo.\n",
        "2.   numero di layer nascosti.\n",
        "3.   funzione di attivazione dei layer nascosti.\n",
        "4.   valore del dropout nel primo layer nascosto, viene poi decrementato per ogni successivo.\n",
        "5.   booleano che indica se la batch normalization sia attiva nei layer nascosti.\n",
        "6.   booleano che indica se l'activity regularization sia attiva nei layer nascosti.\n",
        "\n",
        "Utilizziamo **Adam** come ottimizzatore con  un learning rate pari a $10^{-4}$, **softmax** come funzione di attivazione del layer di output e come loss la **binary crossentropy**, affiancata alla **binary accuracy**, come metrica.\n",
        "Un altra importante implementazione è l'utilizzo del corretto inizializzatore dei pesi rispetto alla funzione di attivazione inserita come iperparametro."
      ]
    },
    {
      "cell_type": "code",
      "metadata": {
        "id": "V0UC9-Ymt3m4"
      },
      "source": [
        "def deep_dense_nn(max_hidden_units: int,\n",
        "                  hidden_layers: int = 1,\n",
        "                  hidden_activation: str = 'relu',\n",
        "                  max_dropout_rate: float = 0.5,\n",
        "                  batch_norm: bool = False,\n",
        "                  activity_regularizer: bool = False,\n",
        "                 ):\n",
        "    output_units = 2\n",
        "    output_activation = 'softmax'\n",
        "    \n",
        "    # Define the correct kernel initialization for the selected activation function\n",
        "    act_kinit_dict = {'relu': 'he_uniform', 'selu': 'lecun_normal', 'elu': 'he_uniform', 'swish': 'he_uniform'}\n",
        "    kernel_intializer = act_kinit_dict[hidden_activation] if hidden_activation in act_kinit_dict else 'glorot_uniform'\n",
        "    \n",
        "    # Create the list of layers\n",
        "    layers = list()\n",
        "       \n",
        "    for i in range(1, hidden_layers + 1):        \n",
        "        # Add dense layer\n",
        "        layers.append(Dense(units=int(max_hidden_units/i) + output_units,\n",
        "                                activation=hidden_activation,\n",
        "                                kernel_initializer=kernel_intializer,\n",
        "                                activity_regularizer=l2(1e-5) if activity_regularizer else None,\n",
        "                               ))\n",
        "        # Add batch normalization if it is setted in params\n",
        "        if batch_norm:\n",
        "            layers.append(BatchNormalization())\n",
        "        # Add Dropout\n",
        "        layers.append(Dropout(max_dropout_rate/i))\n",
        "        \n",
        "    # Extend with last part of the layers\n",
        "    layers.append(Dense(output_units, activation=output_activation))\n",
        "    \n",
        "#     print(layers)\n",
        "    \n",
        "    # Create sequential model\n",
        "    model = Sequential(layers)\n",
        "    optimizer = Adam(learning_rate=LEARNING_RATE)\n",
        "    metrics = [\"binary_accuracy\"]\n",
        "    # Compile the model\n",
        "    model.compile(loss = \"binary_crossentropy\",\n",
        "                  optimizer=optimizer,\n",
        "                  metrics=metrics)\n",
        "    \n",
        "    #model.summary()\n",
        "    \n",
        "    return model"
      ],
      "execution_count": 5,
      "outputs": []
    },
    {
      "cell_type": "markdown",
      "metadata": {
        "id": "Njzcbqlb2uD2"
      },
      "source": [
        "# Caricamento del dataset e preprocessing \n",
        "load del dataset e varie analisi dei dati."
      ]
    },
    {
      "cell_type": "code",
      "metadata": {
        "id": "GupN-U9wtYq6",
        "colab": {
          "base_uri": "https://localhost:8080/"
        },
        "outputId": "732b515c-614e-475a-fb77-4d2abab78947"
      },
      "source": [
        "\n",
        "url = DATA_PATH + \"train.csv\"\n",
        "training_set = pd.read_csv(url)\n",
        "training_set.dtypes"
      ],
      "execution_count": 6,
      "outputs": [
        {
          "output_type": "execute_result",
          "data": {
            "text/plain": [
              "Id                       int64\n",
              "st_slope               float64\n",
              "age                    float64\n",
              "chest_pain_type        float64\n",
              "cholesterol            float64\n",
              "exercise_angina        float64\n",
              "fasting_blood_sugar    float64\n",
              "max_heart_rate         float64\n",
              "oldpeak                float64\n",
              "pulse                  float64\n",
              "resting_bp_s           float64\n",
              "resting_ecg            float64\n",
              "sex                    float64\n",
              "synt                   float64\n",
              "target                   int64\n",
              "dtype: object"
            ]
          },
          "metadata": {
            "tags": []
          },
          "execution_count": 6
        }
      ]
    },
    {
      "cell_type": "code",
      "metadata": {
        "id": "Yx1HwQnJuBVe",
        "colab": {
          "base_uri": "https://localhost:8080/",
          "height": 195
        },
        "outputId": "f529d244-fb0b-4174-b269-2c830a3db226"
      },
      "source": [
        "training_set.head()"
      ],
      "execution_count": 7,
      "outputs": [
        {
          "output_type": "execute_result",
          "data": {
            "text/html": [
              "<div>\n",
              "<style scoped>\n",
              "    .dataframe tbody tr th:only-of-type {\n",
              "        vertical-align: middle;\n",
              "    }\n",
              "\n",
              "    .dataframe tbody tr th {\n",
              "        vertical-align: top;\n",
              "    }\n",
              "\n",
              "    .dataframe thead th {\n",
              "        text-align: right;\n",
              "    }\n",
              "</style>\n",
              "<table border=\"1\" class=\"dataframe\">\n",
              "  <thead>\n",
              "    <tr style=\"text-align: right;\">\n",
              "      <th></th>\n",
              "      <th>Id</th>\n",
              "      <th>st_slope</th>\n",
              "      <th>age</th>\n",
              "      <th>chest_pain_type</th>\n",
              "      <th>cholesterol</th>\n",
              "      <th>exercise_angina</th>\n",
              "      <th>fasting_blood_sugar</th>\n",
              "      <th>max_heart_rate</th>\n",
              "      <th>oldpeak</th>\n",
              "      <th>pulse</th>\n",
              "      <th>resting_bp_s</th>\n",
              "      <th>resting_ecg</th>\n",
              "      <th>sex</th>\n",
              "      <th>synt</th>\n",
              "      <th>target</th>\n",
              "    </tr>\n",
              "  </thead>\n",
              "  <tbody>\n",
              "    <tr>\n",
              "      <th>0</th>\n",
              "      <td>1000</td>\n",
              "      <td>1.0</td>\n",
              "      <td>62.0</td>\n",
              "      <td>2.0</td>\n",
              "      <td>213.0</td>\n",
              "      <td>0.0</td>\n",
              "      <td>1.0</td>\n",
              "      <td>141.0</td>\n",
              "      <td>-0.051026</td>\n",
              "      <td>348.0</td>\n",
              "      <td>128.0</td>\n",
              "      <td>2.0</td>\n",
              "      <td>1.0</td>\n",
              "      <td>0.536459</td>\n",
              "      <td>0</td>\n",
              "    </tr>\n",
              "    <tr>\n",
              "      <th>1</th>\n",
              "      <td>1001</td>\n",
              "      <td>2.0</td>\n",
              "      <td>72.0</td>\n",
              "      <td>3.0</td>\n",
              "      <td>2.0</td>\n",
              "      <td>0.0</td>\n",
              "      <td>0.0</td>\n",
              "      <td>115.0</td>\n",
              "      <td>1.626599</td>\n",
              "      <td>287.0</td>\n",
              "      <td>159.0</td>\n",
              "      <td>2.0</td>\n",
              "      <td>1.0</td>\n",
              "      <td>0.334897</td>\n",
              "      <td>0</td>\n",
              "    </tr>\n",
              "    <tr>\n",
              "      <th>2</th>\n",
              "      <td>1002</td>\n",
              "      <td>2.0</td>\n",
              "      <td>49.0</td>\n",
              "      <td>3.0</td>\n",
              "      <td>183.0</td>\n",
              "      <td>0.0</td>\n",
              "      <td>0.0</td>\n",
              "      <td>156.0</td>\n",
              "      <td>0.968111</td>\n",
              "      <td>391.0</td>\n",
              "      <td>161.0</td>\n",
              "      <td>0.0</td>\n",
              "      <td>0.0</td>\n",
              "      <td>0.720858</td>\n",
              "      <td>1</td>\n",
              "    </tr>\n",
              "    <tr>\n",
              "      <th>3</th>\n",
              "      <td>1003</td>\n",
              "      <td>1.0</td>\n",
              "      <td>35.0</td>\n",
              "      <td>2.0</td>\n",
              "      <td>NaN</td>\n",
              "      <td>0.0</td>\n",
              "      <td>0.0</td>\n",
              "      <td>179.0</td>\n",
              "      <td>0.021913</td>\n",
              "      <td>449.0</td>\n",
              "      <td>119.0</td>\n",
              "      <td>2.0</td>\n",
              "      <td>1.0</td>\n",
              "      <td>0.117560</td>\n",
              "      <td>0</td>\n",
              "    </tr>\n",
              "    <tr>\n",
              "      <th>4</th>\n",
              "      <td>1004</td>\n",
              "      <td>2.0</td>\n",
              "      <td>51.0</td>\n",
              "      <td>4.0</td>\n",
              "      <td>-4.0</td>\n",
              "      <td>0.0</td>\n",
              "      <td>1.0</td>\n",
              "      <td>104.0</td>\n",
              "      <td>-0.010970</td>\n",
              "      <td>258.0</td>\n",
              "      <td>120.0</td>\n",
              "      <td>0.0</td>\n",
              "      <td>1.0</td>\n",
              "      <td>0.790254</td>\n",
              "      <td>1</td>\n",
              "    </tr>\n",
              "  </tbody>\n",
              "</table>\n",
              "</div>"
            ],
            "text/plain": [
              "     Id  st_slope   age  chest_pain_type  ...  resting_ecg  sex      synt  target\n",
              "0  1000       1.0  62.0              2.0  ...          2.0  1.0  0.536459       0\n",
              "1  1001       2.0  72.0              3.0  ...          2.0  1.0  0.334897       0\n",
              "2  1002       2.0  49.0              3.0  ...          0.0  0.0  0.720858       1\n",
              "3  1003       1.0  35.0              2.0  ...          2.0  1.0  0.117560       0\n",
              "4  1004       2.0  51.0              4.0  ...          0.0  1.0  0.790254       1\n",
              "\n",
              "[5 rows x 15 columns]"
            ]
          },
          "metadata": {
            "tags": []
          },
          "execution_count": 7
        }
      ]
    },
    {
      "cell_type": "code",
      "metadata": {
        "colab": {
          "base_uri": "https://localhost:8080/"
        },
        "id": "CWlfibQXVvY9",
        "outputId": "d7095218-d83b-4ef3-c251-bde8239d610c"
      },
      "source": [
        "number_of_missing_in_cols = training_set.shape[0] - training_set.count()\n",
        "number_of_missing_in_cols"
      ],
      "execution_count": 8,
      "outputs": [
        {
          "output_type": "execute_result",
          "data": {
            "text/plain": [
              "Id                       0\n",
              "st_slope                 1\n",
              "age                      4\n",
              "chest_pain_type          9\n",
              "cholesterol            202\n",
              "exercise_angina          3\n",
              "fasting_blood_sugar     11\n",
              "max_heart_rate           7\n",
              "oldpeak                  8\n",
              "pulse                    3\n",
              "resting_bp_s             7\n",
              "resting_ecg              3\n",
              "sex                      8\n",
              "synt                     0\n",
              "target                   0\n",
              "dtype: int64"
            ]
          },
          "metadata": {
            "tags": []
          },
          "execution_count": 8
        }
      ]
    },
    {
      "cell_type": "markdown",
      "metadata": {
        "id": "AUFWYG7yPVNm"
      },
      "source": [
        "Spezziamo il data set in X e Y.\n",
        "Poi eseguiamo lo split in traininig e validation, in modo tale da poter aver un riscontro rispetto a quello che stiamo svolgendo."
      ]
    },
    {
      "cell_type": "code",
      "metadata": {
        "id": "HG4Zu_4BuD13",
        "colab": {
          "base_uri": "https://localhost:8080/"
        },
        "outputId": "e033f3a3-c6e7-4759-8ba1-dd286adb0554"
      },
      "source": [
        "# creo X e Y eseguendo il drop di id e target\n",
        "cols_to_drop = [\"Id\", \"target\"]\n",
        "X_train = training_set.drop(columns=cols_to_drop)\n",
        "# setta la colonna target\n",
        "y_train = training_set[\"target\"]\n",
        "y_train_cat = to_categorical(y_train)\n",
        "X_train = X_train.fillna(np.nan)\n",
        "X_train = X_train.astype(np.float32)\n",
        "\n",
        "X_train, X_val, y_train_cat, y_val_cat = train_test_split(\n",
        "    X_train, y_train_cat, test_size=0.2, random_state=RANDOM_STATE, stratify=y_train_cat,\n",
        ")\n",
        "X_train.shape"
      ],
      "execution_count": 9,
      "outputs": [
        {
          "output_type": "execute_result",
          "data": {
            "text/plain": [
              "(1040, 13)"
            ]
          },
          "metadata": {
            "tags": []
          },
          "execution_count": 9
        }
      ]
    },
    {
      "cell_type": "code",
      "metadata": {
        "id": "JqT7LTacxn6E",
        "colab": {
          "base_uri": "https://localhost:8080/"
        },
        "outputId": "88576770-2285-4307-d682-6f7818e2ac00"
      },
      "source": [
        "rounded_labels = np.argmax(y_train_cat, axis=1).reshape(-1, 1)\n",
        "rounded_labels2 = np.argmax(y_val_cat, axis=1).reshape(-1, 1)\n",
        "rounded_labels.shape"
      ],
      "execution_count": 10,
      "outputs": [
        {
          "output_type": "execute_result",
          "data": {
            "text/plain": [
              "(1040, 1)"
            ]
          },
          "metadata": {
            "tags": []
          },
          "execution_count": 10
        }
      ]
    },
    {
      "cell_type": "markdown",
      "metadata": {
        "id": "PPF2Pic30Q8E"
      },
      "source": [
        "# Sbilanciamento delle classi\n",
        "Possiamo vedere come il dataset risulta non sbilanciato, il numero dei pazienti con un attacco cardiaco è minore rispetto a coloro che risultano invece sani. Qualora si volesse avere la stessa percentuale si potrebbe equilibrare le classi attraverso differenti strategie: downsampling, upsampling oppure l'assegnamento dei pesi alle classi. La strategia scelta per questo esempio è l'ultimo metodo."
      ]
    },
    {
      "cell_type": "code",
      "metadata": {
        "id": "FyXMGCjWx4tT",
        "colab": {
          "base_uri": "https://localhost:8080/"
        },
        "outputId": "eeb75510-93ba-4fcf-bd14-2098ae8e9853"
      },
      "source": [
        "print(\"Campioni totali nel training set: \"+str(training_set.shape[0]))\n",
        "numbers_hearth_attack = training_set[training_set[\"target\"]==1].shape[0]\n",
        "numbers_patients = training_set[training_set[\"target\"]==0].shape[0]\n",
        "print(\"Numero dei pazienti con attacco cardiaco: \" +str(numbers_hearth_attack)+\", numero dei pazienti sani: \"+str(numbers_patients))"
      ],
      "execution_count": 11,
      "outputs": [
        {
          "output_type": "stream",
          "text": [
            "Campioni totali nel training set: 1301\n",
            "Numero dei pazienti con attacco cardiaco: 503, numero dei pazienti sani: 798\n"
          ],
          "name": "stdout"
        }
      ]
    },
    {
      "cell_type": "code",
      "metadata": {
        "id": "cBuHZ_Qox7_q",
        "colab": {
          "base_uri": "https://localhost:8080/"
        },
        "outputId": "56d23973-7f7c-4258-e226-aaa43b4b0239"
      },
      "source": [
        "# calcolo i pesi derivanti da ogni classe\n",
        "class_weight = compute_class_weight(\"balanced\", classes=np.unique(y_train), y=y_train)\n",
        "class_weight = {0: np.float32(class_weight[0]), 1: np.float32(class_weight[1])}\n",
        "print(\"Peso per pazienti sani: \" +str(class_weight[0])+\", peso per pazienti con attacco di cuore: \"+str(class_weight[1]))"
      ],
      "execution_count": 12,
      "outputs": [
        {
          "output_type": "stream",
          "text": [
            "Peso per pazienti sani: 0.8151629, peso per pazienti con attacco di cuore: 1.2932405\n"
          ],
          "name": "stdout"
        }
      ]
    },
    {
      "cell_type": "markdown",
      "metadata": {
        "id": "Yr0uzTTZ1fCX"
      },
      "source": [
        "# Prova di una configurazione\n",
        "Qualora, non avessimo nessuna strategia di scelta degli iperparametri, sarebbe necessario sceglierli a mano, come nell'esempio successivo. Nella pipeline, nel fit inseriamo il numero di epoche, l'early stopping, un ulteriore regolarizzazione e i pesi relativi alle classi. "
      ]
    },
    {
      "cell_type": "code",
      "metadata": {
        "id": "kAm5uKXux_RY",
        "colab": {
          "base_uri": "https://localhost:8080/"
        },
        "outputId": "201c3930-4d03-47bb-f300-e94f4ace114c"
      },
      "source": [
        "model = deep_dense_nn(max_hidden_units = 300,\n",
        "                  hidden_layers = 3,\n",
        "                  hidden_activation = 'relu',\n",
        "                  max_dropout_rate  = 0.25,\n",
        "                  batch_norm = True,\n",
        "                  activity_regularizer = True,\n",
        "                 )\n",
        "pipe = Pipeline([\n",
        "        ('imputer', SimpleImputer()),\n",
        "        ('scalers', StandardScaler()),\n",
        "        ('model', model)\n",
        "        ])\n",
        "pipeline = pipe.fit(\n",
        "    X_train,\n",
        "    y_train_cat,#rounded_labels,\n",
        "    model__epochs=EPOCHS,\n",
        "    model__callbacks=[early_stopping],\n",
        "    model__class_weight=class_weight,\n",
        "    model__verbose=0, \n",
        ")"
      ],
      "execution_count": 13,
      "outputs": [
        {
          "output_type": "stream",
          "text": [
            "WARNING:tensorflow:From /usr/local/lib/python3.7/dist-packages/tensorflow/python/ops/array_ops.py:5049: calling gather (from tensorflow.python.ops.array_ops) with validate_indices is deprecated and will be removed in a future version.\n",
            "Instructions for updating:\n",
            "The `validate_indices` argument has no effect. Indices are always validated on CPU and never validated on GPU.\n",
            "Restoring model weights from the end of the best epoch.\n",
            "Epoch 00169: early stopping\n"
          ],
          "name": "stdout"
        }
      ]
    },
    {
      "cell_type": "code",
      "metadata": {
        "id": "WpFq9VDcyEDX",
        "colab": {
          "base_uri": "https://localhost:8080/"
        },
        "outputId": "779fcefb-18f7-462e-ee55-e458bfa53e91"
      },
      "source": [
        "predictions = pipeline.predict(X_train)\n",
        "predictions = np.argmax(predictions.round(), axis=1)\n",
        "print(\"Accuracy sul training set: \"+str(accuracy_score(rounded_labels, predictions) * 100))\n",
        "cm_training = confusion_matrix(rounded_labels, predictions)\n",
        "print(\"Confusion matrix sul training: \")\n",
        "print(cm_training)\n",
        "\n",
        "predictions = pipeline.predict(X_val)\n",
        "predictions = np.argmax(predictions.round(), axis=1)\n",
        "print(\"Accuracy sul validation set: \"+str(accuracy_score(rounded_labels2, predictions) * 100))\n",
        "cm_training = confusion_matrix(rounded_labels2, predictions)\n",
        "print(\"Confusion matrix sul validation: \")\n",
        "print(cm_training)"
      ],
      "execution_count": 14,
      "outputs": [
        {
          "output_type": "stream",
          "text": [
            "Accuracy sul training set: 98.75\n",
            "Confusion matrix sul training: \n",
            "[[630   8]\n",
            " [  5 397]]\n",
            "Accuracy sul validation set: 88.88888888888889\n",
            "Confusion matrix sul validation: \n",
            "[[144  16]\n",
            " [ 13  88]]\n"
          ],
          "name": "stdout"
        }
      ]
    },
    {
      "cell_type": "markdown",
      "metadata": {
        "id": "UJxl0jpD25ux"
      },
      "source": [
        "# Optuna, ricerca degli iperparametri tramite ottimizzazione bayesiana\n",
        "Come già enunciato nelle slides, utilizzeremo Optuna, per sfruttare questo framework dovremo definire una serie di passi necessari:\n",
        "\n",
        "\n",
        "1.   Definire uno spazio degli iperparametri (tramite un dizionario in cui, per ogni iperparametro, porremo una distribuzione fra quelle offerte sul sito https://optuna.readthedocs.io/en/stable/reference/distributions.html)\n",
        "2.   Definire una pipeline (la nostra rete neurale con il suo preprocessing)\n",
        "3.   Definire una funzione di score (la funzione su cui valutiamo la nostra rete neurale)\n",
        "\n",
        "Per svolgere queste operazioni andiamo a creare una funzione che daremo in pasto all'algoritmo, in cui estrarremo gli iperparametri, alleneremo il modello e calcoleremo lo score, il nostro valore di ritorno.\n"
      ]
    },
    {
      "cell_type": "markdown",
      "metadata": {
        "id": "YXrJd1T59E2T"
      },
      "source": [
        "Una volta definiti i 3 passi necessari per il funzionamento di Optuna andiamo ora a definire l'ottimizzatore:\n",
        "1.   il numero di prove da effettuare\n",
        "2.   il grado di parallelizzazione(meglio porre 1)\n",
        "\n",
        "Una volta definito è sufficiente poi eseguire il train, come quando svolgiamo un semplice modello di rete neurale.\n",
        " \n",
        " \n",
        " "
      ]
    },
    {
      "cell_type": "code",
      "metadata": {
        "id": "RGMwtXz68Msr"
      },
      "source": [
        "pipeline_list=[]"
      ],
      "execution_count": 15,
      "outputs": []
    },
    {
      "cell_type": "code",
      "metadata": {
        "id": "odap9WbVuPXz"
      },
      "source": [
        "def objective(trial):\n",
        "    model = deep_dense_nn(trial.suggest_int('max_hidden_units',100,1000),\n",
        "                  hidden_layers = trial.suggest_int('hidden_layers',1,10),\n",
        "                  hidden_activation = trial.suggest_categorical('hidden_activation', [\"relu\",\"elu\",\"tanh\",\"swish\",\"selu\"]),\n",
        "                  max_dropout_rate  = trial.suggest_uniform('max_dropout_rate', 0, 0.6),\n",
        "                  batch_norm = trial.suggest_categorical('batch_norm', [\"True\",\"False\"]),\n",
        "                  activity_regularizer = trial.suggest_categorical('activity_regularizer', [\"True\",\"False\"]),\n",
        "                 )\n",
        "        \n",
        "    pipe = Pipeline([\n",
        "                ('imputer', SimpleImputer()),\n",
        "                ('scalers', StandardScaler()),\n",
        "                ('model', model)\n",
        "                ])\n",
        "        \n",
        "    pipeline = pipe.fit(\n",
        "            X_train,\n",
        "            y_train_cat,\n",
        "            model__epochs=EPOCHS,\n",
        "            model__callbacks=[early_stopping],\n",
        "            model__class_weight=class_weight,\n",
        "            model__batch_size = trial.suggest_categorical(\"batch_size\",[8,16,32,64]),\n",
        "            model__verbose=0,\n",
        "        )\n",
        "    pipeline_list.append(pipeline)\n",
        "    predictions = pipeline.predict(X_train)\n",
        "    predictions = np.argmax(predictions.round(), axis=1)\n",
        "    print(\"Accuracy sul training set: \"+str(accuracy_score(rounded_labels, predictions) * 100))\n",
        "    cm_training = confusion_matrix(rounded_labels, predictions)\n",
        "    print(\"Confusion matrix sul training: \")\n",
        "    print(cm_training)\n",
        "\n",
        "    predictions = pipeline.predict(X_val)\n",
        "    predictions = np.argmax(predictions.round(), axis=1)\n",
        "    print(\"Accuracy sul validation set: \"+str(accuracy_score(rounded_labels2, predictions) * 100))\n",
        "    cm_training = confusion_matrix(rounded_labels2, predictions)\n",
        "    print(\"Confusion matrix sul validation: \")\n",
        "    print(cm_training)\n",
        "    return accuracy_score(rounded_labels2, predictions) * 100\n",
        "    "
      ],
      "execution_count": 16,
      "outputs": []
    },
    {
      "cell_type": "code",
      "metadata": {
        "id": "5JcLChkeyGym",
        "colab": {
          "base_uri": "https://localhost:8080/"
        },
        "outputId": "2c44e9ad-5f4d-4c18-dd49-7297ffbdcb51"
      },
      "source": [
        "study_name = \"trial\"\n",
        "study = optuna.create_study(direction = \"maximize\",\n",
        "                            load_if_exists = True,\n",
        "                            study_name=study_name,\n",
        "                           )\n",
        "study.optimize(objective, \n",
        "               n_trials =10,\n",
        "               n_jobs = 1,\n",
        "               gc_after_trial = True )"
      ],
      "execution_count": null,
      "outputs": [
        {
          "output_type": "stream",
          "text": [
            "\u001b[32m[I 2021-05-31 11:21:10,910]\u001b[0m A new study created in memory with name: trial\u001b[0m\n"
          ],
          "name": "stderr"
        },
        {
          "output_type": "stream",
          "text": [
            "Restoring model weights from the end of the best epoch.\n",
            "Epoch 00063: early stopping\n"
          ],
          "name": "stdout"
        },
        {
          "output_type": "stream",
          "text": [
            "\u001b[32m[I 2021-05-31 11:22:36,942]\u001b[0m Trial 0 finished with value: 85.82375478927203 and parameters: {'max_hidden_units': 974, 'hidden_layers': 10, 'hidden_activation': 'tanh', 'max_dropout_rate': 0.541340446343995, 'batch_norm': 'True', 'activity_regularizer': 'False', 'batch_size': 16}. Best is trial 0 with value: 85.82375478927203.\u001b[0m\n"
          ],
          "name": "stderr"
        },
        {
          "output_type": "stream",
          "text": [
            "Accuracy sul training set: 87.98076923076923\n",
            "Confusion matrix sul training: \n",
            "[[554  84]\n",
            " [ 41 361]]\n",
            "Accuracy sul validation set: 85.82375478927203\n",
            "Confusion matrix sul validation: \n",
            "[[132  28]\n",
            " [  9  92]]\n",
            "Restoring model weights from the end of the best epoch.\n",
            "Epoch 00155: early stopping\n"
          ],
          "name": "stdout"
        },
        {
          "output_type": "stream",
          "text": [
            "\u001b[32m[I 2021-05-31 11:22:59,296]\u001b[0m Trial 1 finished with value: 90.42145593869732 and parameters: {'max_hidden_units': 425, 'hidden_layers': 5, 'hidden_activation': 'selu', 'max_dropout_rate': 0.12807082048101154, 'batch_norm': 'True', 'activity_regularizer': 'False', 'batch_size': 64}. Best is trial 1 with value: 90.42145593869732.\u001b[0m\n"
          ],
          "name": "stderr"
        },
        {
          "output_type": "stream",
          "text": [
            "Accuracy sul training set: 98.5576923076923\n",
            "Confusion matrix sul training: \n",
            "[[629   9]\n",
            " [  6 396]]\n",
            "Accuracy sul validation set: 90.42145593869732\n",
            "Confusion matrix sul validation: \n",
            "[[147  13]\n",
            " [ 12  89]]\n",
            "Restoring model weights from the end of the best epoch.\n",
            "Epoch 00130: early stopping\n"
          ],
          "name": "stdout"
        }
      ]
    },
    {
      "cell_type": "code",
      "metadata": {
        "id": "1rkk2yR2yIuz",
        "colab": {
          "base_uri": "https://localhost:8080/"
        },
        "outputId": "2786da67-5aa8-4798-9fa3-30431dfd9d0b"
      },
      "source": [
        "grid_result_PD = pd.DataFrame(study.trials_dataframe())\n",
        "grid_result_PD =grid_result_PD.sort_values(by=['value'],ascending=False)\n",
        "grid_result_PD"
      ],
      "execution_count": null,
      "outputs": [
        {
          "output_type": "execute_result",
          "data": {
            "text/html": [
              "<div>\n",
              "<style scoped>\n",
              "    .dataframe tbody tr th:only-of-type {\n",
              "        vertical-align: middle;\n",
              "    }\n",
              "\n",
              "    .dataframe tbody tr th {\n",
              "        vertical-align: top;\n",
              "    }\n",
              "\n",
              "    .dataframe thead th {\n",
              "        text-align: right;\n",
              "    }\n",
              "</style>\n",
              "<table border=\"1\" class=\"dataframe\">\n",
              "  <thead>\n",
              "    <tr style=\"text-align: right;\">\n",
              "      <th></th>\n",
              "      <th>number</th>\n",
              "      <th>value</th>\n",
              "      <th>datetime_start</th>\n",
              "      <th>datetime_complete</th>\n",
              "      <th>duration</th>\n",
              "      <th>params_activity_regularizer</th>\n",
              "      <th>params_batch_norm</th>\n",
              "      <th>params_batch_size</th>\n",
              "      <th>params_hidden_activation</th>\n",
              "      <th>params_hidden_layers</th>\n",
              "      <th>params_max_dropout_rate</th>\n",
              "      <th>params_max_hidden_units</th>\n",
              "      <th>state</th>\n",
              "    </tr>\n",
              "  </thead>\n",
              "  <tbody>\n",
              "    <tr>\n",
              "      <th>4</th>\n",
              "      <td>4</td>\n",
              "      <td>90.038314</td>\n",
              "      <td>2021-05-31 08:47:47.105920</td>\n",
              "      <td>2021-05-31 08:48:23.249881</td>\n",
              "      <td>0 days 00:00:36.143961</td>\n",
              "      <td>False</td>\n",
              "      <td>False</td>\n",
              "      <td>64</td>\n",
              "      <td>tanh</td>\n",
              "      <td>4</td>\n",
              "      <td>0.491052</td>\n",
              "      <td>599</td>\n",
              "      <td>COMPLETE</td>\n",
              "    </tr>\n",
              "    <tr>\n",
              "      <th>1</th>\n",
              "      <td>1</td>\n",
              "      <td>89.655172</td>\n",
              "      <td>2021-05-31 08:43:33.994571</td>\n",
              "      <td>2021-05-31 08:47:08.188398</td>\n",
              "      <td>0 days 00:03:34.193827</td>\n",
              "      <td>False</td>\n",
              "      <td>True</td>\n",
              "      <td>8</td>\n",
              "      <td>tanh</td>\n",
              "      <td>9</td>\n",
              "      <td>0.329461</td>\n",
              "      <td>905</td>\n",
              "      <td>COMPLETE</td>\n",
              "    </tr>\n",
              "    <tr>\n",
              "      <th>3</th>\n",
              "      <td>3</td>\n",
              "      <td>89.655172</td>\n",
              "      <td>2021-05-31 08:47:20.906562</td>\n",
              "      <td>2021-05-31 08:47:46.864657</td>\n",
              "      <td>0 days 00:00:25.958095</td>\n",
              "      <td>False</td>\n",
              "      <td>True</td>\n",
              "      <td>32</td>\n",
              "      <td>elu</td>\n",
              "      <td>6</td>\n",
              "      <td>0.516461</td>\n",
              "      <td>750</td>\n",
              "      <td>COMPLETE</td>\n",
              "    </tr>\n",
              "    <tr>\n",
              "      <th>6</th>\n",
              "      <td>6</td>\n",
              "      <td>88.888889</td>\n",
              "      <td>2021-05-31 08:48:37.880496</td>\n",
              "      <td>2021-05-31 08:50:13.774852</td>\n",
              "      <td>0 days 00:01:35.894356</td>\n",
              "      <td>False</td>\n",
              "      <td>True</td>\n",
              "      <td>8</td>\n",
              "      <td>relu</td>\n",
              "      <td>5</td>\n",
              "      <td>0.361602</td>\n",
              "      <td>739</td>\n",
              "      <td>COMPLETE</td>\n",
              "    </tr>\n",
              "    <tr>\n",
              "      <th>7</th>\n",
              "      <td>7</td>\n",
              "      <td>86.973180</td>\n",
              "      <td>2021-05-31 08:50:14.058422</td>\n",
              "      <td>2021-05-31 08:51:43.638571</td>\n",
              "      <td>0 days 00:01:29.580149</td>\n",
              "      <td>False</td>\n",
              "      <td>True</td>\n",
              "      <td>8</td>\n",
              "      <td>tanh</td>\n",
              "      <td>8</td>\n",
              "      <td>0.588400</td>\n",
              "      <td>950</td>\n",
              "      <td>COMPLETE</td>\n",
              "    </tr>\n",
              "    <tr>\n",
              "      <th>9</th>\n",
              "      <td>9</td>\n",
              "      <td>86.973180</td>\n",
              "      <td>2021-05-31 08:51:54.600674</td>\n",
              "      <td>2021-05-31 08:54:19.905235</td>\n",
              "      <td>0 days 00:02:25.304561</td>\n",
              "      <td>True</td>\n",
              "      <td>False</td>\n",
              "      <td>8</td>\n",
              "      <td>elu</td>\n",
              "      <td>8</td>\n",
              "      <td>0.286986</td>\n",
              "      <td>950</td>\n",
              "      <td>COMPLETE</td>\n",
              "    </tr>\n",
              "    <tr>\n",
              "      <th>2</th>\n",
              "      <td>2</td>\n",
              "      <td>86.590038</td>\n",
              "      <td>2021-05-31 08:47:08.407521</td>\n",
              "      <td>2021-05-31 08:47:20.674081</td>\n",
              "      <td>0 days 00:00:12.266560</td>\n",
              "      <td>False</td>\n",
              "      <td>True</td>\n",
              "      <td>32</td>\n",
              "      <td>selu</td>\n",
              "      <td>4</td>\n",
              "      <td>0.482527</td>\n",
              "      <td>142</td>\n",
              "      <td>COMPLETE</td>\n",
              "    </tr>\n",
              "    <tr>\n",
              "      <th>0</th>\n",
              "      <td>0</td>\n",
              "      <td>86.206897</td>\n",
              "      <td>2021-05-31 08:42:33.448510</td>\n",
              "      <td>2021-05-31 08:43:33.794257</td>\n",
              "      <td>0 days 00:01:00.345747</td>\n",
              "      <td>False</td>\n",
              "      <td>True</td>\n",
              "      <td>8</td>\n",
              "      <td>relu</td>\n",
              "      <td>10</td>\n",
              "      <td>0.297069</td>\n",
              "      <td>362</td>\n",
              "      <td>COMPLETE</td>\n",
              "    </tr>\n",
              "    <tr>\n",
              "      <th>8</th>\n",
              "      <td>8</td>\n",
              "      <td>85.823755</td>\n",
              "      <td>2021-05-31 08:51:43.931114</td>\n",
              "      <td>2021-05-31 08:51:54.302650</td>\n",
              "      <td>0 days 00:00:10.371536</td>\n",
              "      <td>True</td>\n",
              "      <td>False</td>\n",
              "      <td>64</td>\n",
              "      <td>tanh</td>\n",
              "      <td>7</td>\n",
              "      <td>0.509312</td>\n",
              "      <td>271</td>\n",
              "      <td>COMPLETE</td>\n",
              "    </tr>\n",
              "    <tr>\n",
              "      <th>5</th>\n",
              "      <td>5</td>\n",
              "      <td>85.057471</td>\n",
              "      <td>2021-05-31 08:48:23.496077</td>\n",
              "      <td>2021-05-31 08:48:37.629547</td>\n",
              "      <td>0 days 00:00:14.133470</td>\n",
              "      <td>False</td>\n",
              "      <td>True</td>\n",
              "      <td>64</td>\n",
              "      <td>elu</td>\n",
              "      <td>9</td>\n",
              "      <td>0.439390</td>\n",
              "      <td>163</td>\n",
              "      <td>COMPLETE</td>\n",
              "    </tr>\n",
              "  </tbody>\n",
              "</table>\n",
              "</div>"
            ],
            "text/plain": [
              "   number      value  ... params_max_hidden_units     state\n",
              "4       4  90.038314  ...                     599  COMPLETE\n",
              "1       1  89.655172  ...                     905  COMPLETE\n",
              "3       3  89.655172  ...                     750  COMPLETE\n",
              "6       6  88.888889  ...                     739  COMPLETE\n",
              "7       7  86.973180  ...                     950  COMPLETE\n",
              "9       9  86.973180  ...                     950  COMPLETE\n",
              "2       2  86.590038  ...                     142  COMPLETE\n",
              "0       0  86.206897  ...                     362  COMPLETE\n",
              "8       8  85.823755  ...                     271  COMPLETE\n",
              "5       5  85.057471  ...                     163  COMPLETE\n",
              "\n",
              "[10 rows x 13 columns]"
            ]
          },
          "metadata": {
            "tags": []
          },
          "execution_count": 25
        }
      ]
    },
    {
      "cell_type": "code",
      "metadata": {
        "colab": {
          "base_uri": "https://localhost:8080/"
        },
        "id": "0LWX7F3d5mbd",
        "outputId": "7ef48553-362d-487d-a8a8-63db9ba2dffb"
      },
      "source": [
        "study.best_trial"
      ],
      "execution_count": null,
      "outputs": [
        {
          "output_type": "execute_result",
          "data": {
            "text/plain": [
              "FrozenTrial(number=4, values=[90.03831417624522], datetime_start=datetime.datetime(2021, 5, 31, 8, 47, 47, 105920), datetime_complete=datetime.datetime(2021, 5, 31, 8, 48, 23, 249881), params={'max_hidden_units': 599, 'hidden_layers': 4, 'hidden_activation': 'tanh', 'max_dropout_rate': 0.4910515199949189, 'batch_norm': 'False', 'activity_regularizer': 'False', 'batch_size': 64}, distributions={'max_hidden_units': IntUniformDistribution(high=1000, low=100, step=1), 'hidden_layers': IntUniformDistribution(high=10, low=1, step=1), 'hidden_activation': CategoricalDistribution(choices=('relu', 'elu', 'tanh', 'swish', 'selu')), 'max_dropout_rate': UniformDistribution(high=0.6, low=0.0), 'batch_norm': CategoricalDistribution(choices=('True', 'False')), 'activity_regularizer': CategoricalDistribution(choices=('True', 'False')), 'batch_size': CategoricalDistribution(choices=(8, 16, 32, 64))}, user_attrs={}, system_attrs={}, intermediate_values={}, trial_id=4, state=TrialState.COMPLETE, value=None)"
            ]
          },
          "metadata": {
            "tags": []
          },
          "execution_count": 26
        }
      ]
    },
    {
      "cell_type": "code",
      "metadata": {
        "id": "noMMRrPTyNKr",
        "colab": {
          "base_uri": "https://localhost:8080/"
        },
        "outputId": "b98544c0-783a-4f5b-c38a-28c25d4108d2"
      },
      "source": [
        "print(\"Index migliore: \" +str(study.best_trial.number))\n",
        "print(\"Parametri migliori: \"+str(study.best_params))\n",
        "print(\"Score migliore: \"+str(study.best_value))"
      ],
      "execution_count": null,
      "outputs": [
        {
          "output_type": "stream",
          "text": [
            "Index migliore: 4\n",
            "Parametri migliori: {'max_hidden_units': 599, 'hidden_layers': 4, 'hidden_activation': 'tanh', 'max_dropout_rate': 0.4910515199949189, 'batch_norm': 'False', 'activity_regularizer': 'False', 'batch_size': 64}\n",
            "Score migliore: 90.03831417624522\n"
          ],
          "name": "stdout"
        }
      ]
    },
    {
      "cell_type": "markdown",
      "metadata": {
        "id": "xqJFUpHuYhQh"
      },
      "source": [
        "# Salvataggio del CSV e dello studio"
      ]
    },
    {
      "cell_type": "code",
      "metadata": {
        "id": "MeeRx4o3yPQ1"
      },
      "source": [
        "#grid_result_PD.to_csv(\"./dataset_kaggle/grid_result_PD.csv\")\n",
        "#joblib.dump(grid_result.study_, \"./dataset_kaggle/study.pkl\")"
      ],
      "execution_count": null,
      "outputs": []
    },
    {
      "cell_type": "markdown",
      "metadata": {
        "id": "e-u9eqwyYPFb"
      },
      "source": [
        "# Visualizzazione dello studio tramite grafici"
      ]
    },
    {
      "cell_type": "code",
      "metadata": {
        "id": "4hXnY8CwWxbf"
      },
      "source": [
        "#study = joblib.load('study.pkl')\n",
        "#study = grid_result.study_"
      ],
      "execution_count": null,
      "outputs": []
    },
    {
      "cell_type": "code",
      "metadata": {
        "id": "C2fhHDaFXG-F",
        "colab": {
          "base_uri": "https://localhost:8080/",
          "height": 562
        },
        "outputId": "6f80fcb6-0c6c-41d7-f1a6-4bf8c7d16e8c"
      },
      "source": [
        "optuna.visualization.plot_optimization_history(study).show()"
      ],
      "execution_count": null,
      "outputs": [
        {
          "output_type": "display_data",
          "data": {
            "text/html": [
              "<html>\n",
              "<head><meta charset=\"utf-8\" /></head>\n",
              "<body>\n",
              "    <div>\n",
              "            <script src=\"https://cdnjs.cloudflare.com/ajax/libs/mathjax/2.7.5/MathJax.js?config=TeX-AMS-MML_SVG\"></script><script type=\"text/javascript\">if (window.MathJax) {MathJax.Hub.Config({SVG: {font: \"STIX-Web\"}});}</script>\n",
              "                <script type=\"text/javascript\">window.PlotlyConfig = {MathJaxConfig: 'local'};</script>\n",
              "        <script src=\"https://cdn.plot.ly/plotly-latest.min.js\"></script>    \n",
              "            <div id=\"d6ec8831-a1cc-413b-9051-c32faba8a771\" class=\"plotly-graph-div\" style=\"height:525px; width:100%;\"></div>\n",
              "            <script type=\"text/javascript\">\n",
              "                \n",
              "                    window.PLOTLYENV=window.PLOTLYENV || {};\n",
              "                    \n",
              "                if (document.getElementById(\"d6ec8831-a1cc-413b-9051-c32faba8a771\")) {\n",
              "                    Plotly.newPlot(\n",
              "                        'd6ec8831-a1cc-413b-9051-c32faba8a771',\n",
              "                        [{\"mode\": \"markers\", \"name\": \"Objective Value\", \"type\": \"scatter\", \"x\": [0, 1, 2, 3, 4, 5, 6, 7, 8, 9], \"y\": [86.20689655172413, 89.65517241379311, 86.59003831417624, 89.65517241379311, 90.03831417624522, 85.0574712643678, 88.88888888888889, 86.97318007662835, 85.82375478927203, 86.97318007662835]}, {\"name\": \"Best Value\", \"type\": \"scatter\", \"x\": [0, 1, 2, 3, 4, 5, 6, 7, 8, 9], \"y\": [86.20689655172413, 89.65517241379311, 89.65517241379311, 89.65517241379311, 90.03831417624522, 90.03831417624522, 90.03831417624522, 90.03831417624522, 90.03831417624522, 90.03831417624522]}],\n",
              "                        {\"template\": {\"data\": {\"bar\": [{\"error_x\": {\"color\": \"#2a3f5f\"}, \"error_y\": {\"color\": \"#2a3f5f\"}, \"marker\": {\"line\": {\"color\": \"#E5ECF6\", \"width\": 0.5}}, \"type\": \"bar\"}], \"barpolar\": [{\"marker\": {\"line\": {\"color\": \"#E5ECF6\", \"width\": 0.5}}, \"type\": \"barpolar\"}], \"carpet\": [{\"aaxis\": {\"endlinecolor\": \"#2a3f5f\", \"gridcolor\": \"white\", \"linecolor\": \"white\", \"minorgridcolor\": \"white\", \"startlinecolor\": \"#2a3f5f\"}, \"baxis\": {\"endlinecolor\": \"#2a3f5f\", \"gridcolor\": \"white\", \"linecolor\": \"white\", \"minorgridcolor\": \"white\", \"startlinecolor\": \"#2a3f5f\"}, \"type\": \"carpet\"}], \"choropleth\": [{\"colorbar\": {\"outlinewidth\": 0, \"ticks\": \"\"}, \"type\": \"choropleth\"}], \"contour\": [{\"colorbar\": {\"outlinewidth\": 0, \"ticks\": \"\"}, \"colorscale\": [[0.0, \"#0d0887\"], [0.1111111111111111, \"#46039f\"], [0.2222222222222222, \"#7201a8\"], [0.3333333333333333, \"#9c179e\"], [0.4444444444444444, \"#bd3786\"], [0.5555555555555556, \"#d8576b\"], [0.6666666666666666, \"#ed7953\"], [0.7777777777777778, \"#fb9f3a\"], [0.8888888888888888, \"#fdca26\"], [1.0, \"#f0f921\"]], \"type\": \"contour\"}], \"contourcarpet\": [{\"colorbar\": {\"outlinewidth\": 0, \"ticks\": \"\"}, \"type\": \"contourcarpet\"}], \"heatmap\": [{\"colorbar\": {\"outlinewidth\": 0, \"ticks\": \"\"}, \"colorscale\": [[0.0, \"#0d0887\"], [0.1111111111111111, \"#46039f\"], [0.2222222222222222, \"#7201a8\"], [0.3333333333333333, \"#9c179e\"], [0.4444444444444444, \"#bd3786\"], [0.5555555555555556, \"#d8576b\"], [0.6666666666666666, \"#ed7953\"], [0.7777777777777778, \"#fb9f3a\"], [0.8888888888888888, \"#fdca26\"], [1.0, \"#f0f921\"]], \"type\": \"heatmap\"}], \"heatmapgl\": [{\"colorbar\": {\"outlinewidth\": 0, \"ticks\": \"\"}, \"colorscale\": [[0.0, \"#0d0887\"], [0.1111111111111111, \"#46039f\"], [0.2222222222222222, \"#7201a8\"], [0.3333333333333333, \"#9c179e\"], [0.4444444444444444, \"#bd3786\"], [0.5555555555555556, \"#d8576b\"], [0.6666666666666666, \"#ed7953\"], [0.7777777777777778, \"#fb9f3a\"], [0.8888888888888888, \"#fdca26\"], [1.0, \"#f0f921\"]], \"type\": \"heatmapgl\"}], \"histogram\": [{\"marker\": {\"colorbar\": {\"outlinewidth\": 0, \"ticks\": \"\"}}, \"type\": \"histogram\"}], \"histogram2d\": [{\"colorbar\": {\"outlinewidth\": 0, \"ticks\": \"\"}, \"colorscale\": [[0.0, \"#0d0887\"], [0.1111111111111111, \"#46039f\"], [0.2222222222222222, \"#7201a8\"], [0.3333333333333333, \"#9c179e\"], [0.4444444444444444, \"#bd3786\"], [0.5555555555555556, \"#d8576b\"], [0.6666666666666666, \"#ed7953\"], [0.7777777777777778, \"#fb9f3a\"], [0.8888888888888888, \"#fdca26\"], [1.0, \"#f0f921\"]], \"type\": \"histogram2d\"}], \"histogram2dcontour\": [{\"colorbar\": {\"outlinewidth\": 0, \"ticks\": \"\"}, \"colorscale\": [[0.0, \"#0d0887\"], [0.1111111111111111, \"#46039f\"], [0.2222222222222222, \"#7201a8\"], [0.3333333333333333, \"#9c179e\"], [0.4444444444444444, \"#bd3786\"], [0.5555555555555556, \"#d8576b\"], [0.6666666666666666, \"#ed7953\"], [0.7777777777777778, \"#fb9f3a\"], [0.8888888888888888, \"#fdca26\"], [1.0, \"#f0f921\"]], \"type\": \"histogram2dcontour\"}], \"mesh3d\": [{\"colorbar\": {\"outlinewidth\": 0, \"ticks\": \"\"}, \"type\": \"mesh3d\"}], \"parcoords\": [{\"line\": {\"colorbar\": {\"outlinewidth\": 0, \"ticks\": \"\"}}, \"type\": \"parcoords\"}], \"pie\": [{\"automargin\": true, \"type\": \"pie\"}], \"scatter\": [{\"marker\": {\"colorbar\": {\"outlinewidth\": 0, \"ticks\": \"\"}}, \"type\": \"scatter\"}], \"scatter3d\": [{\"line\": {\"colorbar\": {\"outlinewidth\": 0, \"ticks\": \"\"}}, \"marker\": {\"colorbar\": {\"outlinewidth\": 0, \"ticks\": \"\"}}, \"type\": \"scatter3d\"}], \"scattercarpet\": [{\"marker\": {\"colorbar\": {\"outlinewidth\": 0, \"ticks\": \"\"}}, \"type\": \"scattercarpet\"}], \"scattergeo\": [{\"marker\": {\"colorbar\": {\"outlinewidth\": 0, \"ticks\": \"\"}}, \"type\": \"scattergeo\"}], \"scattergl\": [{\"marker\": {\"colorbar\": {\"outlinewidth\": 0, \"ticks\": \"\"}}, \"type\": \"scattergl\"}], \"scattermapbox\": [{\"marker\": {\"colorbar\": {\"outlinewidth\": 0, \"ticks\": \"\"}}, \"type\": \"scattermapbox\"}], \"scatterpolar\": [{\"marker\": {\"colorbar\": {\"outlinewidth\": 0, \"ticks\": \"\"}}, \"type\": \"scatterpolar\"}], \"scatterpolargl\": [{\"marker\": {\"colorbar\": {\"outlinewidth\": 0, \"ticks\": \"\"}}, \"type\": \"scatterpolargl\"}], \"scatterternary\": [{\"marker\": {\"colorbar\": {\"outlinewidth\": 0, \"ticks\": \"\"}}, \"type\": \"scatterternary\"}], \"surface\": [{\"colorbar\": {\"outlinewidth\": 0, \"ticks\": \"\"}, \"colorscale\": [[0.0, \"#0d0887\"], [0.1111111111111111, \"#46039f\"], [0.2222222222222222, \"#7201a8\"], [0.3333333333333333, \"#9c179e\"], [0.4444444444444444, \"#bd3786\"], [0.5555555555555556, \"#d8576b\"], [0.6666666666666666, \"#ed7953\"], [0.7777777777777778, \"#fb9f3a\"], [0.8888888888888888, \"#fdca26\"], [1.0, \"#f0f921\"]], \"type\": \"surface\"}], \"table\": [{\"cells\": {\"fill\": {\"color\": \"#EBF0F8\"}, \"line\": {\"color\": \"white\"}}, \"header\": {\"fill\": {\"color\": \"#C8D4E3\"}, \"line\": {\"color\": \"white\"}}, \"type\": \"table\"}]}, \"layout\": {\"annotationdefaults\": {\"arrowcolor\": \"#2a3f5f\", \"arrowhead\": 0, \"arrowwidth\": 1}, \"coloraxis\": {\"colorbar\": {\"outlinewidth\": 0, \"ticks\": \"\"}}, \"colorscale\": {\"diverging\": [[0, \"#8e0152\"], [0.1, \"#c51b7d\"], [0.2, \"#de77ae\"], [0.3, \"#f1b6da\"], [0.4, \"#fde0ef\"], [0.5, \"#f7f7f7\"], [0.6, \"#e6f5d0\"], [0.7, \"#b8e186\"], [0.8, \"#7fbc41\"], [0.9, \"#4d9221\"], [1, \"#276419\"]], \"sequential\": [[0.0, \"#0d0887\"], [0.1111111111111111, \"#46039f\"], [0.2222222222222222, \"#7201a8\"], [0.3333333333333333, \"#9c179e\"], [0.4444444444444444, \"#bd3786\"], [0.5555555555555556, \"#d8576b\"], [0.6666666666666666, \"#ed7953\"], [0.7777777777777778, \"#fb9f3a\"], [0.8888888888888888, \"#fdca26\"], [1.0, \"#f0f921\"]], \"sequentialminus\": [[0.0, \"#0d0887\"], [0.1111111111111111, \"#46039f\"], [0.2222222222222222, \"#7201a8\"], [0.3333333333333333, \"#9c179e\"], [0.4444444444444444, \"#bd3786\"], [0.5555555555555556, \"#d8576b\"], [0.6666666666666666, \"#ed7953\"], [0.7777777777777778, \"#fb9f3a\"], [0.8888888888888888, \"#fdca26\"], [1.0, \"#f0f921\"]]}, \"colorway\": [\"#636efa\", \"#EF553B\", \"#00cc96\", \"#ab63fa\", \"#FFA15A\", \"#19d3f3\", \"#FF6692\", \"#B6E880\", \"#FF97FF\", \"#FECB52\"], \"font\": {\"color\": \"#2a3f5f\"}, \"geo\": {\"bgcolor\": \"white\", \"lakecolor\": \"white\", \"landcolor\": \"#E5ECF6\", \"showlakes\": true, \"showland\": true, \"subunitcolor\": \"white\"}, \"hoverlabel\": {\"align\": \"left\"}, \"hovermode\": \"closest\", \"mapbox\": {\"style\": \"light\"}, \"paper_bgcolor\": \"white\", \"plot_bgcolor\": \"#E5ECF6\", \"polar\": {\"angularaxis\": {\"gridcolor\": \"white\", \"linecolor\": \"white\", \"ticks\": \"\"}, \"bgcolor\": \"#E5ECF6\", \"radialaxis\": {\"gridcolor\": \"white\", \"linecolor\": \"white\", \"ticks\": \"\"}}, \"scene\": {\"xaxis\": {\"backgroundcolor\": \"#E5ECF6\", \"gridcolor\": \"white\", \"gridwidth\": 2, \"linecolor\": \"white\", \"showbackground\": true, \"ticks\": \"\", \"zerolinecolor\": \"white\"}, \"yaxis\": {\"backgroundcolor\": \"#E5ECF6\", \"gridcolor\": \"white\", \"gridwidth\": 2, \"linecolor\": \"white\", \"showbackground\": true, \"ticks\": \"\", \"zerolinecolor\": \"white\"}, \"zaxis\": {\"backgroundcolor\": \"#E5ECF6\", \"gridcolor\": \"white\", \"gridwidth\": 2, \"linecolor\": \"white\", \"showbackground\": true, \"ticks\": \"\", \"zerolinecolor\": \"white\"}}, \"shapedefaults\": {\"line\": {\"color\": \"#2a3f5f\"}}, \"ternary\": {\"aaxis\": {\"gridcolor\": \"white\", \"linecolor\": \"white\", \"ticks\": \"\"}, \"baxis\": {\"gridcolor\": \"white\", \"linecolor\": \"white\", \"ticks\": \"\"}, \"bgcolor\": \"#E5ECF6\", \"caxis\": {\"gridcolor\": \"white\", \"linecolor\": \"white\", \"ticks\": \"\"}}, \"title\": {\"x\": 0.05}, \"xaxis\": {\"automargin\": true, \"gridcolor\": \"white\", \"linecolor\": \"white\", \"ticks\": \"\", \"title\": {\"standoff\": 15}, \"zerolinecolor\": \"white\", \"zerolinewidth\": 2}, \"yaxis\": {\"automargin\": true, \"gridcolor\": \"white\", \"linecolor\": \"white\", \"ticks\": \"\", \"title\": {\"standoff\": 15}, \"zerolinecolor\": \"white\", \"zerolinewidth\": 2}}}, \"title\": {\"text\": \"Optimization History Plot\"}, \"xaxis\": {\"title\": {\"text\": \"#Trials\"}}, \"yaxis\": {\"title\": {\"text\": \"Objective Value\"}}},\n",
              "                        {\"responsive\": true}\n",
              "                    ).then(function(){\n",
              "                            \n",
              "var gd = document.getElementById('d6ec8831-a1cc-413b-9051-c32faba8a771');\n",
              "var x = new MutationObserver(function (mutations, observer) {{\n",
              "        var display = window.getComputedStyle(gd).display;\n",
              "        if (!display || display === 'none') {{\n",
              "            console.log([gd, 'removed!']);\n",
              "            Plotly.purge(gd);\n",
              "            observer.disconnect();\n",
              "        }}\n",
              "}});\n",
              "\n",
              "// Listen for the removal of the full notebook cells\n",
              "var notebookContainer = gd.closest('#notebook-container');\n",
              "if (notebookContainer) {{\n",
              "    x.observe(notebookContainer, {childList: true});\n",
              "}}\n",
              "\n",
              "// Listen for the clearing of the current output cell\n",
              "var outputEl = gd.closest('.output');\n",
              "if (outputEl) {{\n",
              "    x.observe(outputEl, {childList: true});\n",
              "}}\n",
              "\n",
              "                        })\n",
              "                };\n",
              "                \n",
              "            </script>\n",
              "        </div>\n",
              "</body>\n",
              "</html>"
            ]
          },
          "metadata": {
            "tags": []
          }
        }
      ]
    },
    {
      "cell_type": "code",
      "metadata": {
        "id": "sOYkI2wEZSXI",
        "colab": {
          "base_uri": "https://localhost:8080/",
          "height": 542
        },
        "outputId": "430f2d9f-a7e8-4a2b-dff9-9dca5c1a6fea"
      },
      "source": [
        "optuna.visualization.plot_param_importances(study, params= [\n",
        "                                                      'batch_size',\n",
        "                                                      'hidden_activation',\n",
        "                                                      'hidden_layers',\n",
        "                                                      'max_dropout_rate',\n",
        "                                                      'max_hidden_units',\n",
        "                                                     ]).show()"
      ],
      "execution_count": null,
      "outputs": [
        {
          "output_type": "display_data",
          "data": {
            "text/html": [
              "<html>\n",
              "<head><meta charset=\"utf-8\" /></head>\n",
              "<body>\n",
              "    <div>\n",
              "            <script src=\"https://cdnjs.cloudflare.com/ajax/libs/mathjax/2.7.5/MathJax.js?config=TeX-AMS-MML_SVG\"></script><script type=\"text/javascript\">if (window.MathJax) {MathJax.Hub.Config({SVG: {font: \"STIX-Web\"}});}</script>\n",
              "                <script type=\"text/javascript\">window.PlotlyConfig = {MathJaxConfig: 'local'};</script>\n",
              "        <script src=\"https://cdn.plot.ly/plotly-latest.min.js\"></script>    \n",
              "            <div id=\"808f14db-f3fe-4e04-8ee5-d76abe7cebfc\" class=\"plotly-graph-div\" style=\"height:525px; width:100%;\"></div>\n",
              "            <script type=\"text/javascript\">\n",
              "                \n",
              "                    window.PLOTLYENV=window.PLOTLYENV || {};\n",
              "                    \n",
              "                if (document.getElementById(\"808f14db-f3fe-4e04-8ee5-d76abe7cebfc\")) {\n",
              "                    Plotly.newPlot(\n",
              "                        '808f14db-f3fe-4e04-8ee5-d76abe7cebfc',\n",
              "                        [{\"cliponaxis\": false, \"hovertemplate\": [\"max_dropout_rate (UniformDistribution): 0.04576657565397367<extra></extra>\", \"batch_size (CategoricalDistribution): 0.05523362685328939<extra></extra>\", \"hidden_activation (CategoricalDistribution): 0.08827605373366529<extra></extra>\", \"hidden_layers (IntUniformDistribution): 0.11955526332863486<extra></extra>\", \"max_hidden_units (IntUniformDistribution): 0.6911684804304369<extra></extra>\"], \"marker\": {\"color\": [\"rgb(8,48,107)\", \"rgb(66,146,198)\", \"rgb(66,146,198)\", \"rgb(8,81,156)\", \"rgb(8,81,156)\"]}, \"orientation\": \"h\", \"text\": [\"0.04576657565397367\", \"0.05523362685328939\", \"0.08827605373366529\", \"0.11955526332863486\", \"0.6911684804304369\"], \"textposition\": \"outside\", \"texttemplate\": \"%{text:.2f}\", \"type\": \"bar\", \"x\": [0.04576657565397367, 0.05523362685328939, 0.08827605373366529, 0.11955526332863486, 0.6911684804304369], \"y\": [\"max_dropout_rate\", \"batch_size\", \"hidden_activation\", \"hidden_layers\", \"max_hidden_units\"]}],\n",
              "                        {\"showlegend\": false, \"template\": {\"data\": {\"bar\": [{\"error_x\": {\"color\": \"#2a3f5f\"}, \"error_y\": {\"color\": \"#2a3f5f\"}, \"marker\": {\"line\": {\"color\": \"#E5ECF6\", \"width\": 0.5}}, \"type\": \"bar\"}], \"barpolar\": [{\"marker\": {\"line\": {\"color\": \"#E5ECF6\", \"width\": 0.5}}, \"type\": \"barpolar\"}], \"carpet\": [{\"aaxis\": {\"endlinecolor\": \"#2a3f5f\", \"gridcolor\": \"white\", \"linecolor\": \"white\", \"minorgridcolor\": \"white\", \"startlinecolor\": \"#2a3f5f\"}, \"baxis\": {\"endlinecolor\": \"#2a3f5f\", \"gridcolor\": \"white\", \"linecolor\": \"white\", \"minorgridcolor\": \"white\", \"startlinecolor\": \"#2a3f5f\"}, \"type\": \"carpet\"}], \"choropleth\": [{\"colorbar\": {\"outlinewidth\": 0, \"ticks\": \"\"}, \"type\": \"choropleth\"}], \"contour\": [{\"colorbar\": {\"outlinewidth\": 0, \"ticks\": \"\"}, \"colorscale\": [[0.0, \"#0d0887\"], [0.1111111111111111, \"#46039f\"], [0.2222222222222222, \"#7201a8\"], [0.3333333333333333, \"#9c179e\"], [0.4444444444444444, \"#bd3786\"], [0.5555555555555556, \"#d8576b\"], [0.6666666666666666, \"#ed7953\"], [0.7777777777777778, \"#fb9f3a\"], [0.8888888888888888, \"#fdca26\"], [1.0, \"#f0f921\"]], \"type\": \"contour\"}], \"contourcarpet\": [{\"colorbar\": {\"outlinewidth\": 0, \"ticks\": \"\"}, \"type\": \"contourcarpet\"}], \"heatmap\": [{\"colorbar\": {\"outlinewidth\": 0, \"ticks\": \"\"}, \"colorscale\": [[0.0, \"#0d0887\"], [0.1111111111111111, \"#46039f\"], [0.2222222222222222, \"#7201a8\"], [0.3333333333333333, \"#9c179e\"], [0.4444444444444444, \"#bd3786\"], [0.5555555555555556, \"#d8576b\"], [0.6666666666666666, \"#ed7953\"], [0.7777777777777778, \"#fb9f3a\"], [0.8888888888888888, \"#fdca26\"], [1.0, \"#f0f921\"]], \"type\": \"heatmap\"}], \"heatmapgl\": [{\"colorbar\": {\"outlinewidth\": 0, \"ticks\": \"\"}, \"colorscale\": [[0.0, \"#0d0887\"], [0.1111111111111111, \"#46039f\"], [0.2222222222222222, \"#7201a8\"], [0.3333333333333333, \"#9c179e\"], [0.4444444444444444, \"#bd3786\"], [0.5555555555555556, \"#d8576b\"], [0.6666666666666666, \"#ed7953\"], [0.7777777777777778, \"#fb9f3a\"], [0.8888888888888888, \"#fdca26\"], [1.0, \"#f0f921\"]], \"type\": \"heatmapgl\"}], \"histogram\": [{\"marker\": {\"colorbar\": {\"outlinewidth\": 0, \"ticks\": \"\"}}, \"type\": \"histogram\"}], \"histogram2d\": [{\"colorbar\": {\"outlinewidth\": 0, \"ticks\": \"\"}, \"colorscale\": [[0.0, \"#0d0887\"], [0.1111111111111111, \"#46039f\"], [0.2222222222222222, \"#7201a8\"], [0.3333333333333333, \"#9c179e\"], [0.4444444444444444, \"#bd3786\"], [0.5555555555555556, \"#d8576b\"], [0.6666666666666666, \"#ed7953\"], [0.7777777777777778, \"#fb9f3a\"], [0.8888888888888888, \"#fdca26\"], [1.0, \"#f0f921\"]], \"type\": \"histogram2d\"}], \"histogram2dcontour\": [{\"colorbar\": {\"outlinewidth\": 0, \"ticks\": \"\"}, \"colorscale\": [[0.0, \"#0d0887\"], [0.1111111111111111, \"#46039f\"], [0.2222222222222222, \"#7201a8\"], [0.3333333333333333, \"#9c179e\"], [0.4444444444444444, \"#bd3786\"], [0.5555555555555556, \"#d8576b\"], [0.6666666666666666, \"#ed7953\"], [0.7777777777777778, \"#fb9f3a\"], [0.8888888888888888, \"#fdca26\"], [1.0, \"#f0f921\"]], \"type\": \"histogram2dcontour\"}], \"mesh3d\": [{\"colorbar\": {\"outlinewidth\": 0, \"ticks\": \"\"}, \"type\": \"mesh3d\"}], \"parcoords\": [{\"line\": {\"colorbar\": {\"outlinewidth\": 0, \"ticks\": \"\"}}, \"type\": \"parcoords\"}], \"pie\": [{\"automargin\": true, \"type\": \"pie\"}], \"scatter\": [{\"marker\": {\"colorbar\": {\"outlinewidth\": 0, \"ticks\": \"\"}}, \"type\": \"scatter\"}], \"scatter3d\": [{\"line\": {\"colorbar\": {\"outlinewidth\": 0, \"ticks\": \"\"}}, \"marker\": {\"colorbar\": {\"outlinewidth\": 0, \"ticks\": \"\"}}, \"type\": \"scatter3d\"}], \"scattercarpet\": [{\"marker\": {\"colorbar\": {\"outlinewidth\": 0, \"ticks\": \"\"}}, \"type\": \"scattercarpet\"}], \"scattergeo\": [{\"marker\": {\"colorbar\": {\"outlinewidth\": 0, \"ticks\": \"\"}}, \"type\": \"scattergeo\"}], \"scattergl\": [{\"marker\": {\"colorbar\": {\"outlinewidth\": 0, \"ticks\": \"\"}}, \"type\": \"scattergl\"}], \"scattermapbox\": [{\"marker\": {\"colorbar\": {\"outlinewidth\": 0, \"ticks\": \"\"}}, \"type\": \"scattermapbox\"}], \"scatterpolar\": [{\"marker\": {\"colorbar\": {\"outlinewidth\": 0, \"ticks\": \"\"}}, \"type\": \"scatterpolar\"}], \"scatterpolargl\": [{\"marker\": {\"colorbar\": {\"outlinewidth\": 0, \"ticks\": \"\"}}, \"type\": \"scatterpolargl\"}], \"scatterternary\": [{\"marker\": {\"colorbar\": {\"outlinewidth\": 0, \"ticks\": \"\"}}, \"type\": \"scatterternary\"}], \"surface\": [{\"colorbar\": {\"outlinewidth\": 0, \"ticks\": \"\"}, \"colorscale\": [[0.0, \"#0d0887\"], [0.1111111111111111, \"#46039f\"], [0.2222222222222222, \"#7201a8\"], [0.3333333333333333, \"#9c179e\"], [0.4444444444444444, \"#bd3786\"], [0.5555555555555556, \"#d8576b\"], [0.6666666666666666, \"#ed7953\"], [0.7777777777777778, \"#fb9f3a\"], [0.8888888888888888, \"#fdca26\"], [1.0, \"#f0f921\"]], \"type\": \"surface\"}], \"table\": [{\"cells\": {\"fill\": {\"color\": \"#EBF0F8\"}, \"line\": {\"color\": \"white\"}}, \"header\": {\"fill\": {\"color\": \"#C8D4E3\"}, \"line\": {\"color\": \"white\"}}, \"type\": \"table\"}]}, \"layout\": {\"annotationdefaults\": {\"arrowcolor\": \"#2a3f5f\", \"arrowhead\": 0, \"arrowwidth\": 1}, \"coloraxis\": {\"colorbar\": {\"outlinewidth\": 0, \"ticks\": \"\"}}, \"colorscale\": {\"diverging\": [[0, \"#8e0152\"], [0.1, \"#c51b7d\"], [0.2, \"#de77ae\"], [0.3, \"#f1b6da\"], [0.4, \"#fde0ef\"], [0.5, \"#f7f7f7\"], [0.6, \"#e6f5d0\"], [0.7, \"#b8e186\"], [0.8, \"#7fbc41\"], [0.9, \"#4d9221\"], [1, \"#276419\"]], \"sequential\": [[0.0, \"#0d0887\"], [0.1111111111111111, \"#46039f\"], [0.2222222222222222, \"#7201a8\"], [0.3333333333333333, \"#9c179e\"], [0.4444444444444444, \"#bd3786\"], [0.5555555555555556, \"#d8576b\"], [0.6666666666666666, \"#ed7953\"], [0.7777777777777778, \"#fb9f3a\"], [0.8888888888888888, \"#fdca26\"], [1.0, \"#f0f921\"]], \"sequentialminus\": [[0.0, \"#0d0887\"], [0.1111111111111111, \"#46039f\"], [0.2222222222222222, \"#7201a8\"], [0.3333333333333333, \"#9c179e\"], [0.4444444444444444, \"#bd3786\"], [0.5555555555555556, \"#d8576b\"], [0.6666666666666666, \"#ed7953\"], [0.7777777777777778, \"#fb9f3a\"], [0.8888888888888888, \"#fdca26\"], [1.0, \"#f0f921\"]]}, \"colorway\": [\"#636efa\", \"#EF553B\", \"#00cc96\", \"#ab63fa\", \"#FFA15A\", \"#19d3f3\", \"#FF6692\", \"#B6E880\", \"#FF97FF\", \"#FECB52\"], \"font\": {\"color\": \"#2a3f5f\"}, \"geo\": {\"bgcolor\": \"white\", \"lakecolor\": \"white\", \"landcolor\": \"#E5ECF6\", \"showlakes\": true, \"showland\": true, \"subunitcolor\": \"white\"}, \"hoverlabel\": {\"align\": \"left\"}, \"hovermode\": \"closest\", \"mapbox\": {\"style\": \"light\"}, \"paper_bgcolor\": \"white\", \"plot_bgcolor\": \"#E5ECF6\", \"polar\": {\"angularaxis\": {\"gridcolor\": \"white\", \"linecolor\": \"white\", \"ticks\": \"\"}, \"bgcolor\": \"#E5ECF6\", \"radialaxis\": {\"gridcolor\": \"white\", \"linecolor\": \"white\", \"ticks\": \"\"}}, \"scene\": {\"xaxis\": {\"backgroundcolor\": \"#E5ECF6\", \"gridcolor\": \"white\", \"gridwidth\": 2, \"linecolor\": \"white\", \"showbackground\": true, \"ticks\": \"\", \"zerolinecolor\": \"white\"}, \"yaxis\": {\"backgroundcolor\": \"#E5ECF6\", \"gridcolor\": \"white\", \"gridwidth\": 2, \"linecolor\": \"white\", \"showbackground\": true, \"ticks\": \"\", \"zerolinecolor\": \"white\"}, \"zaxis\": {\"backgroundcolor\": \"#E5ECF6\", \"gridcolor\": \"white\", \"gridwidth\": 2, \"linecolor\": \"white\", \"showbackground\": true, \"ticks\": \"\", \"zerolinecolor\": \"white\"}}, \"shapedefaults\": {\"line\": {\"color\": \"#2a3f5f\"}}, \"ternary\": {\"aaxis\": {\"gridcolor\": \"white\", \"linecolor\": \"white\", \"ticks\": \"\"}, \"baxis\": {\"gridcolor\": \"white\", \"linecolor\": \"white\", \"ticks\": \"\"}, \"bgcolor\": \"#E5ECF6\", \"caxis\": {\"gridcolor\": \"white\", \"linecolor\": \"white\", \"ticks\": \"\"}}, \"title\": {\"x\": 0.05}, \"xaxis\": {\"automargin\": true, \"gridcolor\": \"white\", \"linecolor\": \"white\", \"ticks\": \"\", \"title\": {\"standoff\": 15}, \"zerolinecolor\": \"white\", \"zerolinewidth\": 2}, \"yaxis\": {\"automargin\": true, \"gridcolor\": \"white\", \"linecolor\": \"white\", \"ticks\": \"\", \"title\": {\"standoff\": 15}, \"zerolinecolor\": \"white\", \"zerolinewidth\": 2}}}, \"title\": {\"text\": \"Hyperparameter Importances\"}, \"xaxis\": {\"title\": {\"text\": \"Importance for Objective Value\"}}, \"yaxis\": {\"title\": {\"text\": \"Hyperparameter\"}}},\n",
              "                        {\"responsive\": true}\n",
              "                    ).then(function(){\n",
              "                            \n",
              "var gd = document.getElementById('808f14db-f3fe-4e04-8ee5-d76abe7cebfc');\n",
              "var x = new MutationObserver(function (mutations, observer) {{\n",
              "        var display = window.getComputedStyle(gd).display;\n",
              "        if (!display || display === 'none') {{\n",
              "            console.log([gd, 'removed!']);\n",
              "            Plotly.purge(gd);\n",
              "            observer.disconnect();\n",
              "        }}\n",
              "}});\n",
              "\n",
              "// Listen for the removal of the full notebook cells\n",
              "var notebookContainer = gd.closest('#notebook-container');\n",
              "if (notebookContainer) {{\n",
              "    x.observe(notebookContainer, {childList: true});\n",
              "}}\n",
              "\n",
              "// Listen for the clearing of the current output cell\n",
              "var outputEl = gd.closest('.output');\n",
              "if (outputEl) {{\n",
              "    x.observe(outputEl, {childList: true});\n",
              "}}\n",
              "\n",
              "                        })\n",
              "                };\n",
              "                \n",
              "            </script>\n",
              "        </div>\n",
              "</body>\n",
              "</html>"
            ]
          },
          "metadata": {
            "tags": []
          }
        }
      ]
    },
    {
      "cell_type": "code",
      "metadata": {
        "id": "g6m6eimwZVx4",
        "colab": {
          "base_uri": "https://localhost:8080/",
          "height": 562
        },
        "outputId": "db7ebb61-c90d-4b56-ea35-5423a74f84c5"
      },
      "source": [
        "optuna.visualization.plot_slice(study, params= [\n",
        "                                                      'batch_size',\n",
        "                                                      'hidden_activation',\n",
        "                                                      'hidden_layers',\n",
        "                                                      'max_dropout_rate',\n",
        "                                                      'max_hidden_units',\n",
        "                                                     ]).show()"
      ],
      "execution_count": null,
      "outputs": [
        {
          "output_type": "display_data",
          "data": {
            "text/html": [
              "<html>\n",
              "<head><meta charset=\"utf-8\" /></head>\n",
              "<body>\n",
              "    <div>\n",
              "            <script src=\"https://cdnjs.cloudflare.com/ajax/libs/mathjax/2.7.5/MathJax.js?config=TeX-AMS-MML_SVG\"></script><script type=\"text/javascript\">if (window.MathJax) {MathJax.Hub.Config({SVG: {font: \"STIX-Web\"}});}</script>\n",
              "                <script type=\"text/javascript\">window.PlotlyConfig = {MathJaxConfig: 'local'};</script>\n",
              "        <script src=\"https://cdn.plot.ly/plotly-latest.min.js\"></script>    \n",
              "            <div id=\"74ddd664-23e4-4f71-a066-4d8ca2b19324\" class=\"plotly-graph-div\" style=\"height:525px; width:1500px;\"></div>\n",
              "            <script type=\"text/javascript\">\n",
              "                \n",
              "                    window.PLOTLYENV=window.PLOTLYENV || {};\n",
              "                    \n",
              "                if (document.getElementById(\"74ddd664-23e4-4f71-a066-4d8ca2b19324\")) {\n",
              "                    Plotly.newPlot(\n",
              "                        '74ddd664-23e4-4f71-a066-4d8ca2b19324',\n",
              "                        [{\"marker\": {\"color\": [0, 1, 2, 3, 4, 5, 6, 7, 8, 9], \"colorbar\": {\"title\": {\"text\": \"#Trials\"}, \"x\": 1.0, \"xpad\": 40}, \"colorscale\": [[0.0, \"rgb(247,251,255)\"], [0.125, \"rgb(222,235,247)\"], [0.25, \"rgb(198,219,239)\"], [0.375, \"rgb(158,202,225)\"], [0.5, \"rgb(107,174,214)\"], [0.625, \"rgb(66,146,198)\"], [0.75, \"rgb(33,113,181)\"], [0.875, \"rgb(8,81,156)\"], [1.0, \"rgb(8,48,107)\"]], \"line\": {\"color\": \"Grey\", \"width\": 0.5}, \"showscale\": true}, \"mode\": \"markers\", \"showlegend\": false, \"type\": \"scatter\", \"x\": [8, 8, 32, 32, 64, 64, 8, 8, 64, 8], \"xaxis\": \"x\", \"y\": [86.20689655172413, 89.65517241379311, 86.59003831417624, 89.65517241379311, 90.03831417624522, 85.0574712643678, 88.88888888888889, 86.97318007662835, 85.82375478927203, 86.97318007662835], \"yaxis\": \"y\"}, {\"marker\": {\"color\": [0, 1, 2, 3, 4, 5, 6, 7, 8, 9], \"colorbar\": {\"title\": {\"text\": \"#Trials\"}, \"x\": 1.0, \"xpad\": 40}, \"colorscale\": [[0.0, \"rgb(247,251,255)\"], [0.125, \"rgb(222,235,247)\"], [0.25, \"rgb(198,219,239)\"], [0.375, \"rgb(158,202,225)\"], [0.5, \"rgb(107,174,214)\"], [0.625, \"rgb(66,146,198)\"], [0.75, \"rgb(33,113,181)\"], [0.875, \"rgb(8,81,156)\"], [1.0, \"rgb(8,48,107)\"]], \"line\": {\"color\": \"Grey\", \"width\": 0.5}, \"showscale\": false}, \"mode\": \"markers\", \"showlegend\": false, \"type\": \"scatter\", \"x\": [\"relu\", \"tanh\", \"selu\", \"elu\", \"tanh\", \"elu\", \"relu\", \"tanh\", \"tanh\", \"elu\"], \"xaxis\": \"x2\", \"y\": [86.20689655172413, 89.65517241379311, 86.59003831417624, 89.65517241379311, 90.03831417624522, 85.0574712643678, 88.88888888888889, 86.97318007662835, 85.82375478927203, 86.97318007662835], \"yaxis\": \"y2\"}, {\"marker\": {\"color\": [0, 1, 2, 3, 4, 5, 6, 7, 8, 9], \"colorbar\": {\"title\": {\"text\": \"#Trials\"}, \"x\": 1.0, \"xpad\": 40}, \"colorscale\": [[0.0, \"rgb(247,251,255)\"], [0.125, \"rgb(222,235,247)\"], [0.25, \"rgb(198,219,239)\"], [0.375, \"rgb(158,202,225)\"], [0.5, \"rgb(107,174,214)\"], [0.625, \"rgb(66,146,198)\"], [0.75, \"rgb(33,113,181)\"], [0.875, \"rgb(8,81,156)\"], [1.0, \"rgb(8,48,107)\"]], \"line\": {\"color\": \"Grey\", \"width\": 0.5}, \"showscale\": false}, \"mode\": \"markers\", \"showlegend\": false, \"type\": \"scatter\", \"x\": [10, 9, 4, 6, 4, 9, 5, 8, 7, 8], \"xaxis\": \"x3\", \"y\": [86.20689655172413, 89.65517241379311, 86.59003831417624, 89.65517241379311, 90.03831417624522, 85.0574712643678, 88.88888888888889, 86.97318007662835, 85.82375478927203, 86.97318007662835], \"yaxis\": \"y3\"}, {\"marker\": {\"color\": [0, 1, 2, 3, 4, 5, 6, 7, 8, 9], \"colorbar\": {\"title\": {\"text\": \"#Trials\"}, \"x\": 1.0, \"xpad\": 40}, \"colorscale\": [[0.0, \"rgb(247,251,255)\"], [0.125, \"rgb(222,235,247)\"], [0.25, \"rgb(198,219,239)\"], [0.375, \"rgb(158,202,225)\"], [0.5, \"rgb(107,174,214)\"], [0.625, \"rgb(66,146,198)\"], [0.75, \"rgb(33,113,181)\"], [0.875, \"rgb(8,81,156)\"], [1.0, \"rgb(8,48,107)\"]], \"line\": {\"color\": \"Grey\", \"width\": 0.5}, \"showscale\": false}, \"mode\": \"markers\", \"showlegend\": false, \"type\": \"scatter\", \"x\": [0.29706940854641706, 0.32946115754564714, 0.48252738237173176, 0.5164609049773878, 0.4910515199949189, 0.4393904842152952, 0.3616015837737686, 0.5883995325745983, 0.5093124983898469, 0.28698614414560963], \"xaxis\": \"x4\", \"y\": [86.20689655172413, 89.65517241379311, 86.59003831417624, 89.65517241379311, 90.03831417624522, 85.0574712643678, 88.88888888888889, 86.97318007662835, 85.82375478927203, 86.97318007662835], \"yaxis\": \"y4\"}, {\"marker\": {\"color\": [0, 1, 2, 3, 4, 5, 6, 7, 8, 9], \"colorbar\": {\"title\": {\"text\": \"#Trials\"}, \"x\": 1.0, \"xpad\": 40}, \"colorscale\": [[0.0, \"rgb(247,251,255)\"], [0.125, \"rgb(222,235,247)\"], [0.25, \"rgb(198,219,239)\"], [0.375, \"rgb(158,202,225)\"], [0.5, \"rgb(107,174,214)\"], [0.625, \"rgb(66,146,198)\"], [0.75, \"rgb(33,113,181)\"], [0.875, \"rgb(8,81,156)\"], [1.0, \"rgb(8,48,107)\"]], \"line\": {\"color\": \"Grey\", \"width\": 0.5}, \"showscale\": false}, \"mode\": \"markers\", \"showlegend\": false, \"type\": \"scatter\", \"x\": [362, 905, 142, 750, 599, 163, 739, 950, 271, 950], \"xaxis\": \"x5\", \"y\": [86.20689655172413, 89.65517241379311, 86.59003831417624, 89.65517241379311, 90.03831417624522, 85.0574712643678, 88.88888888888889, 86.97318007662835, 85.82375478927203, 86.97318007662835], \"yaxis\": \"y5\"}],\n",
              "                        {\"template\": {\"data\": {\"bar\": [{\"error_x\": {\"color\": \"#2a3f5f\"}, \"error_y\": {\"color\": \"#2a3f5f\"}, \"marker\": {\"line\": {\"color\": \"#E5ECF6\", \"width\": 0.5}}, \"type\": \"bar\"}], \"barpolar\": [{\"marker\": {\"line\": {\"color\": \"#E5ECF6\", \"width\": 0.5}}, \"type\": \"barpolar\"}], \"carpet\": [{\"aaxis\": {\"endlinecolor\": \"#2a3f5f\", \"gridcolor\": \"white\", \"linecolor\": \"white\", \"minorgridcolor\": \"white\", \"startlinecolor\": \"#2a3f5f\"}, \"baxis\": {\"endlinecolor\": \"#2a3f5f\", \"gridcolor\": \"white\", \"linecolor\": \"white\", \"minorgridcolor\": \"white\", \"startlinecolor\": \"#2a3f5f\"}, \"type\": \"carpet\"}], \"choropleth\": [{\"colorbar\": {\"outlinewidth\": 0, \"ticks\": \"\"}, \"type\": \"choropleth\"}], \"contour\": [{\"colorbar\": {\"outlinewidth\": 0, \"ticks\": \"\"}, \"colorscale\": [[0.0, \"#0d0887\"], [0.1111111111111111, \"#46039f\"], [0.2222222222222222, \"#7201a8\"], [0.3333333333333333, \"#9c179e\"], [0.4444444444444444, \"#bd3786\"], [0.5555555555555556, \"#d8576b\"], [0.6666666666666666, \"#ed7953\"], [0.7777777777777778, \"#fb9f3a\"], [0.8888888888888888, \"#fdca26\"], [1.0, \"#f0f921\"]], \"type\": \"contour\"}], \"contourcarpet\": [{\"colorbar\": {\"outlinewidth\": 0, \"ticks\": \"\"}, \"type\": \"contourcarpet\"}], \"heatmap\": [{\"colorbar\": {\"outlinewidth\": 0, \"ticks\": \"\"}, \"colorscale\": [[0.0, \"#0d0887\"], [0.1111111111111111, \"#46039f\"], [0.2222222222222222, \"#7201a8\"], [0.3333333333333333, \"#9c179e\"], [0.4444444444444444, \"#bd3786\"], [0.5555555555555556, \"#d8576b\"], [0.6666666666666666, \"#ed7953\"], [0.7777777777777778, \"#fb9f3a\"], [0.8888888888888888, \"#fdca26\"], [1.0, \"#f0f921\"]], \"type\": \"heatmap\"}], \"heatmapgl\": [{\"colorbar\": {\"outlinewidth\": 0, \"ticks\": \"\"}, \"colorscale\": [[0.0, \"#0d0887\"], [0.1111111111111111, \"#46039f\"], [0.2222222222222222, \"#7201a8\"], [0.3333333333333333, \"#9c179e\"], [0.4444444444444444, \"#bd3786\"], [0.5555555555555556, \"#d8576b\"], [0.6666666666666666, \"#ed7953\"], [0.7777777777777778, \"#fb9f3a\"], [0.8888888888888888, \"#fdca26\"], [1.0, \"#f0f921\"]], \"type\": \"heatmapgl\"}], \"histogram\": [{\"marker\": {\"colorbar\": {\"outlinewidth\": 0, \"ticks\": \"\"}}, \"type\": \"histogram\"}], \"histogram2d\": [{\"colorbar\": {\"outlinewidth\": 0, \"ticks\": \"\"}, \"colorscale\": [[0.0, \"#0d0887\"], [0.1111111111111111, \"#46039f\"], [0.2222222222222222, \"#7201a8\"], [0.3333333333333333, \"#9c179e\"], [0.4444444444444444, \"#bd3786\"], [0.5555555555555556, \"#d8576b\"], [0.6666666666666666, \"#ed7953\"], [0.7777777777777778, \"#fb9f3a\"], [0.8888888888888888, \"#fdca26\"], [1.0, \"#f0f921\"]], \"type\": \"histogram2d\"}], \"histogram2dcontour\": [{\"colorbar\": {\"outlinewidth\": 0, \"ticks\": \"\"}, \"colorscale\": [[0.0, \"#0d0887\"], [0.1111111111111111, \"#46039f\"], [0.2222222222222222, \"#7201a8\"], [0.3333333333333333, \"#9c179e\"], [0.4444444444444444, \"#bd3786\"], [0.5555555555555556, \"#d8576b\"], [0.6666666666666666, \"#ed7953\"], [0.7777777777777778, \"#fb9f3a\"], [0.8888888888888888, \"#fdca26\"], [1.0, \"#f0f921\"]], \"type\": \"histogram2dcontour\"}], \"mesh3d\": [{\"colorbar\": {\"outlinewidth\": 0, \"ticks\": \"\"}, \"type\": \"mesh3d\"}], \"parcoords\": [{\"line\": {\"colorbar\": {\"outlinewidth\": 0, \"ticks\": \"\"}}, \"type\": \"parcoords\"}], \"pie\": [{\"automargin\": true, \"type\": \"pie\"}], \"scatter\": [{\"marker\": {\"colorbar\": {\"outlinewidth\": 0, \"ticks\": \"\"}}, \"type\": \"scatter\"}], \"scatter3d\": [{\"line\": {\"colorbar\": {\"outlinewidth\": 0, \"ticks\": \"\"}}, \"marker\": {\"colorbar\": {\"outlinewidth\": 0, \"ticks\": \"\"}}, \"type\": \"scatter3d\"}], \"scattercarpet\": [{\"marker\": {\"colorbar\": {\"outlinewidth\": 0, \"ticks\": \"\"}}, \"type\": \"scattercarpet\"}], \"scattergeo\": [{\"marker\": {\"colorbar\": {\"outlinewidth\": 0, \"ticks\": \"\"}}, \"type\": \"scattergeo\"}], \"scattergl\": [{\"marker\": {\"colorbar\": {\"outlinewidth\": 0, \"ticks\": \"\"}}, \"type\": \"scattergl\"}], \"scattermapbox\": [{\"marker\": {\"colorbar\": {\"outlinewidth\": 0, \"ticks\": \"\"}}, \"type\": \"scattermapbox\"}], \"scatterpolar\": [{\"marker\": {\"colorbar\": {\"outlinewidth\": 0, \"ticks\": \"\"}}, \"type\": \"scatterpolar\"}], \"scatterpolargl\": [{\"marker\": {\"colorbar\": {\"outlinewidth\": 0, \"ticks\": \"\"}}, \"type\": \"scatterpolargl\"}], \"scatterternary\": [{\"marker\": {\"colorbar\": {\"outlinewidth\": 0, \"ticks\": \"\"}}, \"type\": \"scatterternary\"}], \"surface\": [{\"colorbar\": {\"outlinewidth\": 0, \"ticks\": \"\"}, \"colorscale\": [[0.0, \"#0d0887\"], [0.1111111111111111, \"#46039f\"], [0.2222222222222222, \"#7201a8\"], [0.3333333333333333, \"#9c179e\"], [0.4444444444444444, \"#bd3786\"], [0.5555555555555556, \"#d8576b\"], [0.6666666666666666, \"#ed7953\"], [0.7777777777777778, \"#fb9f3a\"], [0.8888888888888888, \"#fdca26\"], [1.0, \"#f0f921\"]], \"type\": \"surface\"}], \"table\": [{\"cells\": {\"fill\": {\"color\": \"#EBF0F8\"}, \"line\": {\"color\": \"white\"}}, \"header\": {\"fill\": {\"color\": \"#C8D4E3\"}, \"line\": {\"color\": \"white\"}}, \"type\": \"table\"}]}, \"layout\": {\"annotationdefaults\": {\"arrowcolor\": \"#2a3f5f\", \"arrowhead\": 0, \"arrowwidth\": 1}, \"coloraxis\": {\"colorbar\": {\"outlinewidth\": 0, \"ticks\": \"\"}}, \"colorscale\": {\"diverging\": [[0, \"#8e0152\"], [0.1, \"#c51b7d\"], [0.2, \"#de77ae\"], [0.3, \"#f1b6da\"], [0.4, \"#fde0ef\"], [0.5, \"#f7f7f7\"], [0.6, \"#e6f5d0\"], [0.7, \"#b8e186\"], [0.8, \"#7fbc41\"], [0.9, \"#4d9221\"], [1, \"#276419\"]], \"sequential\": [[0.0, \"#0d0887\"], [0.1111111111111111, \"#46039f\"], [0.2222222222222222, \"#7201a8\"], [0.3333333333333333, \"#9c179e\"], [0.4444444444444444, \"#bd3786\"], [0.5555555555555556, \"#d8576b\"], [0.6666666666666666, \"#ed7953\"], [0.7777777777777778, \"#fb9f3a\"], [0.8888888888888888, \"#fdca26\"], [1.0, \"#f0f921\"]], \"sequentialminus\": [[0.0, \"#0d0887\"], [0.1111111111111111, \"#46039f\"], [0.2222222222222222, \"#7201a8\"], [0.3333333333333333, \"#9c179e\"], [0.4444444444444444, \"#bd3786\"], [0.5555555555555556, \"#d8576b\"], [0.6666666666666666, \"#ed7953\"], [0.7777777777777778, \"#fb9f3a\"], [0.8888888888888888, \"#fdca26\"], [1.0, \"#f0f921\"]]}, \"colorway\": [\"#636efa\", \"#EF553B\", \"#00cc96\", \"#ab63fa\", \"#FFA15A\", \"#19d3f3\", \"#FF6692\", \"#B6E880\", \"#FF97FF\", \"#FECB52\"], \"font\": {\"color\": \"#2a3f5f\"}, \"geo\": {\"bgcolor\": \"white\", \"lakecolor\": \"white\", \"landcolor\": \"#E5ECF6\", \"showlakes\": true, \"showland\": true, \"subunitcolor\": \"white\"}, \"hoverlabel\": {\"align\": \"left\"}, \"hovermode\": \"closest\", \"mapbox\": {\"style\": \"light\"}, \"paper_bgcolor\": \"white\", \"plot_bgcolor\": \"#E5ECF6\", \"polar\": {\"angularaxis\": {\"gridcolor\": \"white\", \"linecolor\": \"white\", \"ticks\": \"\"}, \"bgcolor\": \"#E5ECF6\", \"radialaxis\": {\"gridcolor\": \"white\", \"linecolor\": \"white\", \"ticks\": \"\"}}, \"scene\": {\"xaxis\": {\"backgroundcolor\": \"#E5ECF6\", \"gridcolor\": \"white\", \"gridwidth\": 2, \"linecolor\": \"white\", \"showbackground\": true, \"ticks\": \"\", \"zerolinecolor\": \"white\"}, \"yaxis\": {\"backgroundcolor\": \"#E5ECF6\", \"gridcolor\": \"white\", \"gridwidth\": 2, \"linecolor\": \"white\", \"showbackground\": true, \"ticks\": \"\", \"zerolinecolor\": \"white\"}, \"zaxis\": {\"backgroundcolor\": \"#E5ECF6\", \"gridcolor\": \"white\", \"gridwidth\": 2, \"linecolor\": \"white\", \"showbackground\": true, \"ticks\": \"\", \"zerolinecolor\": \"white\"}}, \"shapedefaults\": {\"line\": {\"color\": \"#2a3f5f\"}}, \"ternary\": {\"aaxis\": {\"gridcolor\": \"white\", \"linecolor\": \"white\", \"ticks\": \"\"}, \"baxis\": {\"gridcolor\": \"white\", \"linecolor\": \"white\", \"ticks\": \"\"}, \"bgcolor\": \"#E5ECF6\", \"caxis\": {\"gridcolor\": \"white\", \"linecolor\": \"white\", \"ticks\": \"\"}}, \"title\": {\"x\": 0.05}, \"xaxis\": {\"automargin\": true, \"gridcolor\": \"white\", \"linecolor\": \"white\", \"ticks\": \"\", \"title\": {\"standoff\": 15}, \"zerolinecolor\": \"white\", \"zerolinewidth\": 2}, \"yaxis\": {\"automargin\": true, \"gridcolor\": \"white\", \"linecolor\": \"white\", \"ticks\": \"\", \"title\": {\"standoff\": 15}, \"zerolinecolor\": \"white\", \"zerolinewidth\": 2}}}, \"title\": {\"text\": \"Slice Plot\"}, \"width\": 1500, \"xaxis\": {\"anchor\": \"y\", \"domain\": [0.0, 0.16799999999999998], \"title\": {\"text\": \"batch_size\"}}, \"xaxis2\": {\"anchor\": \"y2\", \"domain\": [0.208, 0.376], \"title\": {\"text\": \"hidden_activation\"}}, \"xaxis3\": {\"anchor\": \"y3\", \"domain\": [0.416, 0.584], \"title\": {\"text\": \"hidden_layers\"}}, \"xaxis4\": {\"anchor\": \"y4\", \"domain\": [0.624, 0.792], \"title\": {\"text\": \"max_dropout_rate\"}}, \"xaxis5\": {\"anchor\": \"y5\", \"domain\": [0.832, 1.0], \"title\": {\"text\": \"max_hidden_units\"}}, \"yaxis\": {\"anchor\": \"x\", \"domain\": [0.0, 1.0], \"title\": {\"text\": \"Objective Value\"}}, \"yaxis2\": {\"anchor\": \"x2\", \"domain\": [0.0, 1.0], \"matches\": \"y\", \"showticklabels\": false}, \"yaxis3\": {\"anchor\": \"x3\", \"domain\": [0.0, 1.0], \"matches\": \"y\", \"showticklabels\": false}, \"yaxis4\": {\"anchor\": \"x4\", \"domain\": [0.0, 1.0], \"matches\": \"y\", \"showticklabels\": false}, \"yaxis5\": {\"anchor\": \"x5\", \"domain\": [0.0, 1.0], \"matches\": \"y\", \"showticklabels\": false}},\n",
              "                        {\"responsive\": true}\n",
              "                    ).then(function(){\n",
              "                            \n",
              "var gd = document.getElementById('74ddd664-23e4-4f71-a066-4d8ca2b19324');\n",
              "var x = new MutationObserver(function (mutations, observer) {{\n",
              "        var display = window.getComputedStyle(gd).display;\n",
              "        if (!display || display === 'none') {{\n",
              "            console.log([gd, 'removed!']);\n",
              "            Plotly.purge(gd);\n",
              "            observer.disconnect();\n",
              "        }}\n",
              "}});\n",
              "\n",
              "// Listen for the removal of the full notebook cells\n",
              "var notebookContainer = gd.closest('#notebook-container');\n",
              "if (notebookContainer) {{\n",
              "    x.observe(notebookContainer, {childList: true});\n",
              "}}\n",
              "\n",
              "// Listen for the clearing of the current output cell\n",
              "var outputEl = gd.closest('.output');\n",
              "if (outputEl) {{\n",
              "    x.observe(outputEl, {childList: true});\n",
              "}}\n",
              "\n",
              "                        })\n",
              "                };\n",
              "                \n",
              "            </script>\n",
              "        </div>\n",
              "</body>\n",
              "</html>"
            ]
          },
          "metadata": {
            "tags": []
          }
        }
      ]
    },
    {
      "cell_type": "code",
      "metadata": {
        "id": "9LSibPrT9nw1",
        "colab": {
          "base_uri": "https://localhost:8080/",
          "height": 542
        },
        "outputId": "fae52547-e561-440b-f0fc-aea48a3fc38c"
      },
      "source": [
        "optuna.visualization.plot_parallel_coordinate(study, params= [\n",
        "                                                      'batch_size',\n",
        "                                                      'hidden_activation',\n",
        "                                                      'hidden_layers',\n",
        "                                                      'max_dropout_rate',\n",
        "                                                      'max_hidden_units',\n",
        "                                                     ]).show()"
      ],
      "execution_count": null,
      "outputs": [
        {
          "output_type": "display_data",
          "data": {
            "text/html": [
              "<html>\n",
              "<head><meta charset=\"utf-8\" /></head>\n",
              "<body>\n",
              "    <div>\n",
              "            <script src=\"https://cdnjs.cloudflare.com/ajax/libs/mathjax/2.7.5/MathJax.js?config=TeX-AMS-MML_SVG\"></script><script type=\"text/javascript\">if (window.MathJax) {MathJax.Hub.Config({SVG: {font: \"STIX-Web\"}});}</script>\n",
              "                <script type=\"text/javascript\">window.PlotlyConfig = {MathJaxConfig: 'local'};</script>\n",
              "        <script src=\"https://cdn.plot.ly/plotly-latest.min.js\"></script>    \n",
              "            <div id=\"e4c74ce4-8d33-4199-8335-6776134b0134\" class=\"plotly-graph-div\" style=\"height:525px; width:100%;\"></div>\n",
              "            <script type=\"text/javascript\">\n",
              "                \n",
              "                    window.PLOTLYENV=window.PLOTLYENV || {};\n",
              "                    \n",
              "                if (document.getElementById(\"e4c74ce4-8d33-4199-8335-6776134b0134\")) {\n",
              "                    Plotly.newPlot(\n",
              "                        'e4c74ce4-8d33-4199-8335-6776134b0134',\n",
              "                        [{\"dimensions\": [{\"label\": \"Objective Value\", \"range\": [85.0574712643678, 90.03831417624522], \"values\": [86.20689655172413, 89.65517241379311, 86.59003831417624, 89.65517241379311, 90.03831417624522, 85.0574712643678, 88.88888888888889, 86.97318007662835, 85.82375478927203, 86.97318007662835]}, {\"label\": \"batch_size\", \"range\": [0, 2], \"ticktext\": [8, 32, 64], \"tickvals\": [0, 1, 2], \"values\": [0, 0, 1, 1, 2, 2, 0, 0, 2, 0]}, {\"label\": \"hidden_activation\", \"range\": [0, 3], \"ticktext\": [\"relu\", \"tanh\", \"selu\", \"elu\"], \"tickvals\": [0, 1, 2, 3], \"values\": [0, 1, 2, 3, 1, 3, 0, 1, 1, 3]}, {\"label\": \"hidden_layers\", \"range\": [4, 10], \"values\": [10, 9, 4, 6, 4, 9, 5, 8, 7, 8]}, {\"label\": \"max_dropout_rate\", \"range\": [0.28698614414560963, 0.5883995325745983], \"values\": [0.29706940854641706, 0.32946115754564714, 0.48252738237173176, 0.5164609049773878, 0.4910515199949189, 0.4393904842152952, 0.3616015837737686, 0.5883995325745983, 0.5093124983898469, 0.28698614414560963]}, {\"label\": \"max_hidden_units\", \"range\": [142, 950], \"values\": [362, 905, 142, 750, 599, 163, 739, 950, 271, 950]}], \"labelangle\": 30, \"labelside\": \"bottom\", \"line\": {\"color\": [86.20689655172413, 89.65517241379311, 86.59003831417624, 89.65517241379311, 90.03831417624522, 85.0574712643678, 88.88888888888889, 86.97318007662835, 85.82375478927203, 86.97318007662835], \"colorbar\": {\"title\": {\"text\": \"Objective Value\"}}, \"colorscale\": [[0.0, \"rgb(247,251,255)\"], [0.125, \"rgb(222,235,247)\"], [0.25, \"rgb(198,219,239)\"], [0.375, \"rgb(158,202,225)\"], [0.5, \"rgb(107,174,214)\"], [0.625, \"rgb(66,146,198)\"], [0.75, \"rgb(33,113,181)\"], [0.875, \"rgb(8,81,156)\"], [1.0, \"rgb(8,48,107)\"]], \"reversescale\": false, \"showscale\": true}, \"type\": \"parcoords\"}],\n",
              "                        {\"template\": {\"data\": {\"bar\": [{\"error_x\": {\"color\": \"#2a3f5f\"}, \"error_y\": {\"color\": \"#2a3f5f\"}, \"marker\": {\"line\": {\"color\": \"#E5ECF6\", \"width\": 0.5}}, \"type\": \"bar\"}], \"barpolar\": [{\"marker\": {\"line\": {\"color\": \"#E5ECF6\", \"width\": 0.5}}, \"type\": \"barpolar\"}], \"carpet\": [{\"aaxis\": {\"endlinecolor\": \"#2a3f5f\", \"gridcolor\": \"white\", \"linecolor\": \"white\", \"minorgridcolor\": \"white\", \"startlinecolor\": \"#2a3f5f\"}, \"baxis\": {\"endlinecolor\": \"#2a3f5f\", \"gridcolor\": \"white\", \"linecolor\": \"white\", \"minorgridcolor\": \"white\", \"startlinecolor\": \"#2a3f5f\"}, \"type\": \"carpet\"}], \"choropleth\": [{\"colorbar\": {\"outlinewidth\": 0, \"ticks\": \"\"}, \"type\": \"choropleth\"}], \"contour\": [{\"colorbar\": {\"outlinewidth\": 0, \"ticks\": \"\"}, \"colorscale\": [[0.0, \"#0d0887\"], [0.1111111111111111, \"#46039f\"], [0.2222222222222222, \"#7201a8\"], [0.3333333333333333, \"#9c179e\"], [0.4444444444444444, \"#bd3786\"], [0.5555555555555556, \"#d8576b\"], [0.6666666666666666, \"#ed7953\"], [0.7777777777777778, \"#fb9f3a\"], [0.8888888888888888, \"#fdca26\"], [1.0, \"#f0f921\"]], \"type\": \"contour\"}], \"contourcarpet\": [{\"colorbar\": {\"outlinewidth\": 0, \"ticks\": \"\"}, \"type\": \"contourcarpet\"}], \"heatmap\": [{\"colorbar\": {\"outlinewidth\": 0, \"ticks\": \"\"}, \"colorscale\": [[0.0, \"#0d0887\"], [0.1111111111111111, \"#46039f\"], [0.2222222222222222, \"#7201a8\"], [0.3333333333333333, \"#9c179e\"], [0.4444444444444444, \"#bd3786\"], [0.5555555555555556, \"#d8576b\"], [0.6666666666666666, \"#ed7953\"], [0.7777777777777778, \"#fb9f3a\"], [0.8888888888888888, \"#fdca26\"], [1.0, \"#f0f921\"]], \"type\": \"heatmap\"}], \"heatmapgl\": [{\"colorbar\": {\"outlinewidth\": 0, \"ticks\": \"\"}, \"colorscale\": [[0.0, \"#0d0887\"], [0.1111111111111111, \"#46039f\"], [0.2222222222222222, \"#7201a8\"], [0.3333333333333333, \"#9c179e\"], [0.4444444444444444, \"#bd3786\"], [0.5555555555555556, \"#d8576b\"], [0.6666666666666666, \"#ed7953\"], [0.7777777777777778, \"#fb9f3a\"], [0.8888888888888888, \"#fdca26\"], [1.0, \"#f0f921\"]], \"type\": \"heatmapgl\"}], \"histogram\": [{\"marker\": {\"colorbar\": {\"outlinewidth\": 0, \"ticks\": \"\"}}, \"type\": \"histogram\"}], \"histogram2d\": [{\"colorbar\": {\"outlinewidth\": 0, \"ticks\": \"\"}, \"colorscale\": [[0.0, \"#0d0887\"], [0.1111111111111111, \"#46039f\"], [0.2222222222222222, \"#7201a8\"], [0.3333333333333333, \"#9c179e\"], [0.4444444444444444, \"#bd3786\"], [0.5555555555555556, \"#d8576b\"], [0.6666666666666666, \"#ed7953\"], [0.7777777777777778, \"#fb9f3a\"], [0.8888888888888888, \"#fdca26\"], [1.0, \"#f0f921\"]], \"type\": \"histogram2d\"}], \"histogram2dcontour\": [{\"colorbar\": {\"outlinewidth\": 0, \"ticks\": \"\"}, \"colorscale\": [[0.0, \"#0d0887\"], [0.1111111111111111, \"#46039f\"], [0.2222222222222222, \"#7201a8\"], [0.3333333333333333, \"#9c179e\"], [0.4444444444444444, \"#bd3786\"], [0.5555555555555556, \"#d8576b\"], [0.6666666666666666, \"#ed7953\"], [0.7777777777777778, \"#fb9f3a\"], [0.8888888888888888, \"#fdca26\"], [1.0, \"#f0f921\"]], \"type\": \"histogram2dcontour\"}], \"mesh3d\": [{\"colorbar\": {\"outlinewidth\": 0, \"ticks\": \"\"}, \"type\": \"mesh3d\"}], \"parcoords\": [{\"line\": {\"colorbar\": {\"outlinewidth\": 0, \"ticks\": \"\"}}, \"type\": \"parcoords\"}], \"pie\": [{\"automargin\": true, \"type\": \"pie\"}], \"scatter\": [{\"marker\": {\"colorbar\": {\"outlinewidth\": 0, \"ticks\": \"\"}}, \"type\": \"scatter\"}], \"scatter3d\": [{\"line\": {\"colorbar\": {\"outlinewidth\": 0, \"ticks\": \"\"}}, \"marker\": {\"colorbar\": {\"outlinewidth\": 0, \"ticks\": \"\"}}, \"type\": \"scatter3d\"}], \"scattercarpet\": [{\"marker\": {\"colorbar\": {\"outlinewidth\": 0, \"ticks\": \"\"}}, \"type\": \"scattercarpet\"}], \"scattergeo\": [{\"marker\": {\"colorbar\": {\"outlinewidth\": 0, \"ticks\": \"\"}}, \"type\": \"scattergeo\"}], \"scattergl\": [{\"marker\": {\"colorbar\": {\"outlinewidth\": 0, \"ticks\": \"\"}}, \"type\": \"scattergl\"}], \"scattermapbox\": [{\"marker\": {\"colorbar\": {\"outlinewidth\": 0, \"ticks\": \"\"}}, \"type\": \"scattermapbox\"}], \"scatterpolar\": [{\"marker\": {\"colorbar\": {\"outlinewidth\": 0, \"ticks\": \"\"}}, \"type\": \"scatterpolar\"}], \"scatterpolargl\": [{\"marker\": {\"colorbar\": {\"outlinewidth\": 0, \"ticks\": \"\"}}, \"type\": \"scatterpolargl\"}], \"scatterternary\": [{\"marker\": {\"colorbar\": {\"outlinewidth\": 0, \"ticks\": \"\"}}, \"type\": \"scatterternary\"}], \"surface\": [{\"colorbar\": {\"outlinewidth\": 0, \"ticks\": \"\"}, \"colorscale\": [[0.0, \"#0d0887\"], [0.1111111111111111, \"#46039f\"], [0.2222222222222222, \"#7201a8\"], [0.3333333333333333, \"#9c179e\"], [0.4444444444444444, \"#bd3786\"], [0.5555555555555556, \"#d8576b\"], [0.6666666666666666, \"#ed7953\"], [0.7777777777777778, \"#fb9f3a\"], [0.8888888888888888, \"#fdca26\"], [1.0, \"#f0f921\"]], \"type\": \"surface\"}], \"table\": [{\"cells\": {\"fill\": {\"color\": \"#EBF0F8\"}, \"line\": {\"color\": \"white\"}}, \"header\": {\"fill\": {\"color\": \"#C8D4E3\"}, \"line\": {\"color\": \"white\"}}, \"type\": \"table\"}]}, \"layout\": {\"annotationdefaults\": {\"arrowcolor\": \"#2a3f5f\", \"arrowhead\": 0, \"arrowwidth\": 1}, \"coloraxis\": {\"colorbar\": {\"outlinewidth\": 0, \"ticks\": \"\"}}, \"colorscale\": {\"diverging\": [[0, \"#8e0152\"], [0.1, \"#c51b7d\"], [0.2, \"#de77ae\"], [0.3, \"#f1b6da\"], [0.4, \"#fde0ef\"], [0.5, \"#f7f7f7\"], [0.6, \"#e6f5d0\"], [0.7, \"#b8e186\"], [0.8, \"#7fbc41\"], [0.9, \"#4d9221\"], [1, \"#276419\"]], \"sequential\": [[0.0, \"#0d0887\"], [0.1111111111111111, \"#46039f\"], [0.2222222222222222, \"#7201a8\"], [0.3333333333333333, \"#9c179e\"], [0.4444444444444444, \"#bd3786\"], [0.5555555555555556, \"#d8576b\"], [0.6666666666666666, \"#ed7953\"], [0.7777777777777778, \"#fb9f3a\"], [0.8888888888888888, \"#fdca26\"], [1.0, \"#f0f921\"]], \"sequentialminus\": [[0.0, \"#0d0887\"], [0.1111111111111111, \"#46039f\"], [0.2222222222222222, \"#7201a8\"], [0.3333333333333333, \"#9c179e\"], [0.4444444444444444, \"#bd3786\"], [0.5555555555555556, \"#d8576b\"], [0.6666666666666666, \"#ed7953\"], [0.7777777777777778, \"#fb9f3a\"], [0.8888888888888888, \"#fdca26\"], [1.0, \"#f0f921\"]]}, \"colorway\": [\"#636efa\", \"#EF553B\", \"#00cc96\", \"#ab63fa\", \"#FFA15A\", \"#19d3f3\", \"#FF6692\", \"#B6E880\", \"#FF97FF\", \"#FECB52\"], \"font\": {\"color\": \"#2a3f5f\"}, \"geo\": {\"bgcolor\": \"white\", \"lakecolor\": \"white\", \"landcolor\": \"#E5ECF6\", \"showlakes\": true, \"showland\": true, \"subunitcolor\": \"white\"}, \"hoverlabel\": {\"align\": \"left\"}, \"hovermode\": \"closest\", \"mapbox\": {\"style\": \"light\"}, \"paper_bgcolor\": \"white\", \"plot_bgcolor\": \"#E5ECF6\", \"polar\": {\"angularaxis\": {\"gridcolor\": \"white\", \"linecolor\": \"white\", \"ticks\": \"\"}, \"bgcolor\": \"#E5ECF6\", \"radialaxis\": {\"gridcolor\": \"white\", \"linecolor\": \"white\", \"ticks\": \"\"}}, \"scene\": {\"xaxis\": {\"backgroundcolor\": \"#E5ECF6\", \"gridcolor\": \"white\", \"gridwidth\": 2, \"linecolor\": \"white\", \"showbackground\": true, \"ticks\": \"\", \"zerolinecolor\": \"white\"}, \"yaxis\": {\"backgroundcolor\": \"#E5ECF6\", \"gridcolor\": \"white\", \"gridwidth\": 2, \"linecolor\": \"white\", \"showbackground\": true, \"ticks\": \"\", \"zerolinecolor\": \"white\"}, \"zaxis\": {\"backgroundcolor\": \"#E5ECF6\", \"gridcolor\": \"white\", \"gridwidth\": 2, \"linecolor\": \"white\", \"showbackground\": true, \"ticks\": \"\", \"zerolinecolor\": \"white\"}}, \"shapedefaults\": {\"line\": {\"color\": \"#2a3f5f\"}}, \"ternary\": {\"aaxis\": {\"gridcolor\": \"white\", \"linecolor\": \"white\", \"ticks\": \"\"}, \"baxis\": {\"gridcolor\": \"white\", \"linecolor\": \"white\", \"ticks\": \"\"}, \"bgcolor\": \"#E5ECF6\", \"caxis\": {\"gridcolor\": \"white\", \"linecolor\": \"white\", \"ticks\": \"\"}}, \"title\": {\"x\": 0.05}, \"xaxis\": {\"automargin\": true, \"gridcolor\": \"white\", \"linecolor\": \"white\", \"ticks\": \"\", \"title\": {\"standoff\": 15}, \"zerolinecolor\": \"white\", \"zerolinewidth\": 2}, \"yaxis\": {\"automargin\": true, \"gridcolor\": \"white\", \"linecolor\": \"white\", \"ticks\": \"\", \"title\": {\"standoff\": 15}, \"zerolinecolor\": \"white\", \"zerolinewidth\": 2}}}, \"title\": {\"text\": \"Parallel Coordinate Plot\"}},\n",
              "                        {\"responsive\": true}\n",
              "                    ).then(function(){\n",
              "                            \n",
              "var gd = document.getElementById('e4c74ce4-8d33-4199-8335-6776134b0134');\n",
              "var x = new MutationObserver(function (mutations, observer) {{\n",
              "        var display = window.getComputedStyle(gd).display;\n",
              "        if (!display || display === 'none') {{\n",
              "            console.log([gd, 'removed!']);\n",
              "            Plotly.purge(gd);\n",
              "            observer.disconnect();\n",
              "        }}\n",
              "}});\n",
              "\n",
              "// Listen for the removal of the full notebook cells\n",
              "var notebookContainer = gd.closest('#notebook-container');\n",
              "if (notebookContainer) {{\n",
              "    x.observe(notebookContainer, {childList: true});\n",
              "}}\n",
              "\n",
              "// Listen for the clearing of the current output cell\n",
              "var outputEl = gd.closest('.output');\n",
              "if (outputEl) {{\n",
              "    x.observe(outputEl, {childList: true});\n",
              "}}\n",
              "\n",
              "                        })\n",
              "                };\n",
              "                \n",
              "            </script>\n",
              "        </div>\n",
              "</body>\n",
              "</html>"
            ]
          },
          "metadata": {
            "tags": []
          }
        }
      ]
    }
  ]
}