{
 "cells": [
  {
   "cell_type": "markdown",
   "id": "sonic-operator",
   "metadata": {},
   "source": [
    "# Numpy Practice - Solutions - Unibs 2021"
   ]
  },
  {
   "cell_type": "markdown",
   "id": "unsigned-fence",
   "metadata": {},
   "source": [
    "#### Import the numpy package under the name `np` and print version and configuration (base)\n",
    "`hint: import … as, np.__version__, np.show_config`"
   ]
  },
  {
   "cell_type": "code",
   "execution_count": 44,
   "id": "matched-startup",
   "metadata": {},
   "outputs": [
    {
     "name": "stdout",
     "output_type": "stream",
     "text": [
      "1.19.2\n",
      "blas_mkl_info:\n",
      "    libraries = ['mkl_rt']\n",
      "    library_dirs = ['C:/Users/Admin/Anaconda3\\\\Library\\\\lib']\n",
      "    define_macros = [('SCIPY_MKL_H', None), ('HAVE_CBLAS', None)]\n",
      "    include_dirs = ['C:/Users/Admin/Anaconda3\\\\Library\\\\include']\n",
      "blas_opt_info:\n",
      "    libraries = ['mkl_rt']\n",
      "    library_dirs = ['C:/Users/Admin/Anaconda3\\\\Library\\\\lib']\n",
      "    define_macros = [('SCIPY_MKL_H', None), ('HAVE_CBLAS', None)]\n",
      "    include_dirs = ['C:/Users/Admin/Anaconda3\\\\Library\\\\include']\n",
      "lapack_mkl_info:\n",
      "    libraries = ['mkl_rt']\n",
      "    library_dirs = ['C:/Users/Admin/Anaconda3\\\\Library\\\\lib']\n",
      "    define_macros = [('SCIPY_MKL_H', None), ('HAVE_CBLAS', None)]\n",
      "    include_dirs = ['C:/Users/Admin/Anaconda3\\\\Library\\\\include']\n",
      "lapack_opt_info:\n",
      "    libraries = ['mkl_rt']\n",
      "    library_dirs = ['C:/Users/Admin/Anaconda3\\\\Library\\\\lib']\n",
      "    define_macros = [('SCIPY_MKL_H', None), ('HAVE_CBLAS', None)]\n",
      "    include_dirs = ['C:/Users/Admin/Anaconda3\\\\Library\\\\include']\n"
     ]
    }
   ],
   "source": [
    "import numpy as np\n",
    "\n",
    "print(np.__version__)\n",
    "np.show_config()"
   ]
  },
  {
   "cell_type": "markdown",
   "id": "according-stuart",
   "metadata": {},
   "source": [
    "## Base Practice"
   ]
  },
  {
   "cell_type": "markdown",
   "id": "bearing-recall",
   "metadata": {},
   "source": [
    "#### 1. Create a null vector of size 10 but the fifth value which is 1 (base)\n",
    "`hint: array[4]`"
   ]
  },
  {
   "cell_type": "code",
   "execution_count": 6,
   "id": "continent-respect",
   "metadata": {},
   "outputs": [
    {
     "name": "stdout",
     "output_type": "stream",
     "text": [
      "[0. 0. 0. 0. 1. 0. 0. 0. 0. 0.]\n"
     ]
    }
   ],
   "source": [
    "Z = np.zeros(10)\n",
    "Z[4] = 1\n",
    "print(Z)"
   ]
  },
  {
   "cell_type": "markdown",
   "id": "violent-permission",
   "metadata": {},
   "source": [
    "#### 2. Create a 3x3 matrix with values ranging from 0 to 8 with zeros on the diagonal (base)\n",
    "`hint: np.arange, reshape, np.eye`"
   ]
  },
  {
   "cell_type": "code",
   "execution_count": 65,
   "id": "historical-corpus",
   "metadata": {},
   "outputs": [
    {
     "name": "stdout",
     "output_type": "stream",
     "text": [
      "[[0 1 2]\n",
      " [3 0 5]\n",
      " [6 7 0]]\n"
     ]
    }
   ],
   "source": [
    "Z = np.arange(9).reshape(3, 3)\n",
    "K = np.eye(3, dtype=int)\n",
    "Z = Z - Z * K\n",
    "print(Z)"
   ]
  },
  {
   "cell_type": "markdown",
   "id": "complex-calculation",
   "metadata": {},
   "source": [
    "#### 3. How to add a border (filled with 0's) around an 5x5 matrix of ones? (base)\n",
    "`hint: np.ones, np.pad`"
   ]
  },
  {
   "cell_type": "code",
   "execution_count": 63,
   "id": "rental-airport",
   "metadata": {},
   "outputs": [
    {
     "name": "stdout",
     "output_type": "stream",
     "text": [
      "[[0. 0. 0. 0. 0. 0. 0.]\n",
      " [0. 1. 1. 1. 1. 1. 0.]\n",
      " [0. 1. 1. 1. 1. 1. 0.]\n",
      " [0. 1. 1. 1. 1. 1. 0.]\n",
      " [0. 1. 1. 1. 1. 1. 0.]\n",
      " [0. 1. 1. 1. 1. 1. 0.]\n",
      " [0. 0. 0. 0. 0. 0. 0.]]\n"
     ]
    }
   ],
   "source": [
    "Z = np.ones((5,5))\n",
    "Z = np.pad(Z, pad_width=1, mode='constant', constant_values=0)\n",
    "print(Z)\n",
    "\n",
    "# # Using fancy indexing\n",
    "# Z[:, [0, -1]] = 0\n",
    "# Z[[0, -1], :] = 0\n",
    "# print(Z)"
   ]
  },
  {
   "cell_type": "markdown",
   "id": "together-recognition",
   "metadata": {},
   "source": [
    "#### 4. Normalize a 5x5 random matrix (base)\n",
    "`hint: (x - mean) / std`"
   ]
  },
  {
   "cell_type": "code",
   "execution_count": 64,
   "id": "worthy-google",
   "metadata": {},
   "outputs": [
    {
     "name": "stdout",
     "output_type": "stream",
     "text": [
      "[[-0.96971602  0.85202833 -0.49253695  0.89088922  1.51394809]\n",
      " [-1.06676912 -0.91463076 -1.33607957  0.85718625  1.43509601]\n",
      " [-0.58426717  0.04199447 -1.20234119 -1.63415771  0.09986147]\n",
      " [ 1.17860983  1.26644423 -1.00996969  0.0207842   0.75429635]\n",
      " [-1.13482959  0.84041494  0.55444368  1.04373754 -1.00443684]]\n"
     ]
    }
   ],
   "source": [
    "Z = np.random.random((5,5))\n",
    "Z = (Z - np.mean(Z)) / (np.std (Z))\n",
    "print(Z)"
   ]
  },
  {
   "cell_type": "markdown",
   "id": "controversial-newspaper",
   "metadata": {},
   "source": [
    "#### 5. Multiply a 5x3 matrix of ones by a 3x2 matrix of ones (real matrix product) (base)\n",
    "`hint:`"
   ]
  },
  {
   "cell_type": "code",
   "execution_count": 66,
   "id": "unauthorized-gentleman",
   "metadata": {},
   "outputs": [
    {
     "name": "stdout",
     "output_type": "stream",
     "text": [
      "[[3. 3.]\n",
      " [3. 3.]\n",
      " [3. 3.]\n",
      " [3. 3.]\n",
      " [3. 3.]]\n"
     ]
    }
   ],
   "source": [
    "Z = np.dot(np.ones((5,3)), np.ones((3,2)))\n",
    "print(Z)\n",
    "\n",
    "# # Alternative solution, in Python 3.5 and above\n",
    "# Z = np.ones((5,3)) @ np.ones((3,2))\n",
    "# print(Z)"
   ]
  },
  {
   "cell_type": "markdown",
   "id": "mathematical-episode",
   "metadata": {},
   "source": [
    "## Intermediate Practice"
   ]
  },
  {
   "cell_type": "markdown",
   "id": "expensive-manual",
   "metadata": {},
   "source": [
    "#### 6. Create a vector of size 10 with values ranging from 0 to 1, both excluded (intermediate)\n",
    "`hint: np.linspace`"
   ]
  },
  {
   "cell_type": "code",
   "execution_count": 39,
   "id": "disturbed-commercial",
   "metadata": {},
   "outputs": [
    {
     "name": "stdout",
     "output_type": "stream",
     "text": [
      "[0.09090909 0.18181818 0.27272727 0.36363636 0.45454545 0.54545455\n",
      " 0.63636364 0.72727273 0.81818182 0.90909091]\n"
     ]
    }
   ],
   "source": [
    "Z = np.linspace(0,1,11,endpoint=False)[1:]\n",
    "print(Z)"
   ]
  },
  {
   "cell_type": "markdown",
   "id": "ready-robinson",
   "metadata": {},
   "source": [
    "#### 7. Create a random vector of size 10 with values in range (-3, 12) and sort it (intermediate)\n",
    "`hint: sort`"
   ]
  },
  {
   "cell_type": "code",
   "execution_count": 106,
   "id": "complimentary-corner",
   "metadata": {},
   "outputs": [
    {
     "name": "stdout",
     "output_type": "stream",
     "text": [
      "[-2.76389001 -2.31901056 -2.12172018 -2.04065297 -1.77283243  3.22737092\n",
      "  4.28000684  7.08956454  7.95813965  8.63528951]\n"
     ]
    }
   ],
   "source": [
    "Z = np.random.random(10) * 15 - 3\n",
    "Z.sort()\n",
    "print(Z)"
   ]
  },
  {
   "cell_type": "markdown",
   "id": "sharp-garbage",
   "metadata": {},
   "source": [
    "#### 8. Create random vector of size 10 and replace the maximum value by its additive inverse and the minimum value (of the original array) with the median value (intermediate)\n",
    "`hint: argmax, argmin`"
   ]
  },
  {
   "cell_type": "code",
   "execution_count": 113,
   "id": "going-broad",
   "metadata": {},
   "outputs": [
    {
     "name": "stdout",
     "output_type": "stream",
     "text": [
      "[ 0.85134797  0.67615506  0.77661793  0.64396933  0.6117836   0.4401557\n",
      " -0.92628723  0.4599881   0.48866865  0.84264559]\n"
     ]
    }
   ],
   "source": [
    "Z = np.random.random(10)\n",
    "Z[Z.argmin()] = np.median(Z)\n",
    "Z[Z.argmax()] = -Z.max()\n",
    "print(Z)"
   ]
  },
  {
   "cell_type": "markdown",
   "id": "north-hunger",
   "metadata": {},
   "source": [
    "#### 9. How to randomly place p elements in a 2D matrix? (intermediate)\n",
    "`hint: np.put, np.random.choice`"
   ]
  },
  {
   "cell_type": "code",
   "execution_count": 114,
   "id": "saved-whole",
   "metadata": {},
   "outputs": [
    {
     "name": "stdout",
     "output_type": "stream",
     "text": [
      "[[0. 0. 0. 0. 0. 0. 0. 0. 0. 0.]\n",
      " [0. 0. 0. 0. 0. 0. 0. 0. 0. 0.]\n",
      " [1. 0. 0. 0. 0. 0. 0. 0. 0. 0.]\n",
      " [0. 0. 0. 0. 0. 0. 0. 0. 0. 0.]\n",
      " [0. 0. 0. 0. 0. 0. 0. 0. 0. 0.]\n",
      " [0. 0. 0. 0. 0. 0. 0. 0. 0. 0.]\n",
      " [0. 0. 0. 0. 0. 0. 0. 0. 0. 0.]\n",
      " [0. 1. 0. 0. 0. 0. 0. 1. 0. 0.]\n",
      " [0. 0. 0. 0. 0. 0. 0. 0. 0. 0.]\n",
      " [0. 0. 0. 0. 0. 0. 0. 0. 0. 0.]]\n"
     ]
    }
   ],
   "source": [
    "n = 10\n",
    "p = 3\n",
    "Z = np.zeros((n,n))\n",
    "np.put(Z, np.random.choice(range(n*n), p, replace=False),1)\n",
    "print(Z)"
   ]
  },
  {
   "cell_type": "markdown",
   "id": "sorted-dayton",
   "metadata": {},
   "source": [
    "#### 10. Subtract the mean of each row of a random 5x10 matrix (intermediate)\n",
    "`hint: mean(axis=,keepdims=)`"
   ]
  },
  {
   "cell_type": "code",
   "execution_count": 116,
   "id": "later-cheese",
   "metadata": {},
   "outputs": [
    {
     "name": "stdout",
     "output_type": "stream",
     "text": [
      "[[-0.24379303  0.10173166  0.21508807 -0.21256323  0.29380342 -0.2599254\n",
      "   0.08407095  0.12658622 -0.32496347  0.21996481]\n",
      " [-0.21224057 -0.25192182 -0.28956618 -0.27774593 -0.10536859  0.22115939\n",
      "   0.26244561  0.39699984  0.03392306  0.22231519]\n",
      " [-0.32098102 -0.13073184 -0.28951608  0.04046951 -0.09665224  0.41068355\n",
      "  -0.24575313  0.22835714 -0.07434736  0.47847148]\n",
      " [-0.16861593 -0.45975483  0.09651831  0.07545285 -0.00914285  0.20283116\n",
      "  -0.42315504  0.3395927   0.07627817  0.26999546]\n",
      " [ 0.33838531 -0.20214632 -0.22161304  0.43902186  0.2627361   0.10732619\n",
      "   0.18110014 -0.55320907 -0.53142104  0.17981988]]\n"
     ]
    }
   ],
   "source": [
    "X = np.random.rand(5, 10)\n",
    "Y = X - X.mean(axis=1, keepdims=True)\n",
    "print(Y)"
   ]
  }
 ],
 "metadata": {
  "kernelspec": {
   "display_name": "Python 3",
   "language": "python",
   "name": "python3"
  },
  "language_info": {
   "codemirror_mode": {
    "name": "ipython",
    "version": 3
   },
   "file_extension": ".py",
   "mimetype": "text/x-python",
   "name": "python",
   "nbconvert_exporter": "python",
   "pygments_lexer": "ipython3",
   "version": "3.7.10"
  },
  "toc-autonumbering": false
 },
 "nbformat": 4,
 "nbformat_minor": 5
}
