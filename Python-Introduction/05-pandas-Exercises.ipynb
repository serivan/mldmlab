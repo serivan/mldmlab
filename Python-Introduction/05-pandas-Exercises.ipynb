{
 "cells": [
  {
   "cell_type": "markdown",
   "metadata": {},
   "source": [
    "# Pandas COVID19 Practice - Hints - Unibs 2021"
   ]
  },
  {
   "cell_type": "markdown",
   "metadata": {},
   "source": [
    "In this exercize, we will anlyze some public data provided by the \"Dipartimento della Protezione Civile\". To inform the citzens and give the reached datas, useful only to comunicate and informate, Dipartimento della Protezione Civile has elaborated a dashboard reachable to the URL http://arcg.is/C1unv (desktop version) and http://arcg.is/081a51 (mobile version) and give to everyone, under the licence CC-BY-4.0, the following infos updated dialy at 18.30:\n",
    "* National evolution data\n",
    "* json data\n",
    "* Regional data\n",
    "* Provincial data\n",
    "* Summaries\n",
    "* Areas\n",
    "* Notes\n",
    "* Contracts data DPC furnitures\n",
    "* Metrics\n",
    "\n",
    "See https://github.com/pcm-dpc/COVID-19"
   ]
  },
  {
   "cell_type": "markdown",
   "metadata": {},
   "source": [
    "### Import pandas package under name `pd` and print version"
   ]
  },
  {
   "cell_type": "code",
   "execution_count": 2,
   "metadata": {},
   "outputs": [],
   "source": [
    "import matplotlib.pyplot as plt"
   ]
  },
  {
   "cell_type": "markdown",
   "metadata": {},
   "source": [
    "`hint: import ... as, pd.__version__ `"
   ]
  },
  {
   "cell_type": "code",
   "execution_count": null,
   "metadata": {},
   "outputs": [],
   "source": []
  },
  {
   "cell_type": "code",
   "execution_count": null,
   "metadata": {},
   "outputs": [],
   "source": []
  },
  {
   "cell_type": "markdown",
   "metadata": {},
   "source": [
    "## Base"
   ]
  },
  {
   "cell_type": "markdown",
   "metadata": {},
   "source": [
    "### Download latest COVID19 csv of italian regions from official Italian Civil Protection github and show it\n",
    "\n",
    "CSV data at: https://raw.githubusercontent.com/pcm-dpc/COVID-19/master/dati-regioni/dpc-covid19-ita-regioni-latest.csv"
   ]
  },
  {
   "cell_type": "markdown",
   "metadata": {},
   "source": [
    "`hint: pd.read_csv, sep=\",\"`"
   ]
  },
  {
   "cell_type": "code",
   "execution_count": null,
   "metadata": {},
   "outputs": [],
   "source": []
  },
  {
   "cell_type": "code",
   "execution_count": null,
   "metadata": {},
   "outputs": [],
   "source": []
  },
  {
   "cell_type": "markdown",
   "metadata": {},
   "source": [
    "### Sort columns and show their types"
   ]
  },
  {
   "cell_type": "markdown",
   "metadata": {},
   "source": [
    "`hint: df.sort_index, axis=1, inplace=True, df.dtypes`"
   ]
  },
  {
   "cell_type": "code",
   "execution_count": null,
   "metadata": {},
   "outputs": [],
   "source": []
  },
  {
   "cell_type": "code",
   "execution_count": null,
   "metadata": {},
   "outputs": [],
   "source": []
  },
  {
   "cell_type": "markdown",
   "metadata": {},
   "source": [
    "### Print first and last five rows of the data"
   ]
  },
  {
   "cell_type": "markdown",
   "metadata": {},
   "source": [
    "`hint: df.head, df.tail`"
   ]
  },
  {
   "cell_type": "code",
   "execution_count": null,
   "metadata": {},
   "outputs": [],
   "source": []
  },
  {
   "cell_type": "code",
   "execution_count": null,
   "metadata": {},
   "outputs": [],
   "source": []
  },
  {
   "cell_type": "markdown",
   "metadata": {},
   "source": [
    "### Print synthetic statistical description of the dataframe (count, min, max, mean, etc.)"
   ]
  },
  {
   "cell_type": "markdown",
   "metadata": {},
   "source": [
    "`hint: df.describe`"
   ]
  },
  {
   "cell_type": "code",
   "execution_count": null,
   "metadata": {},
   "outputs": [],
   "source": []
  },
  {
   "cell_type": "markdown",
   "metadata": {},
   "source": [
    "### Count elements for each column"
   ]
  },
  {
   "cell_type": "markdown",
   "metadata": {},
   "source": [
    "`hint: df.count`"
   ]
  },
  {
   "cell_type": "code",
   "execution_count": null,
   "metadata": {},
   "outputs": [],
   "source": []
  },
  {
   "cell_type": "markdown",
   "metadata": {},
   "source": [
    "### Select only \"totale_positivi\" and \"nuovi_positivi\" columns"
   ]
  },
  {
   "cell_type": "markdown",
   "metadata": {},
   "source": [
    "`hint: df[]`"
   ]
  },
  {
   "cell_type": "code",
   "execution_count": null,
   "metadata": {},
   "outputs": [],
   "source": []
  },
  {
   "cell_type": "markdown",
   "metadata": {},
   "source": [
    "### Create the new column \"precedenti_positivi\" columns using the formula $precedenti\\_positivi = totale\\_positivi - nuovi\\_positivi$ and show it"
   ]
  },
  {
   "cell_type": "markdown",
   "metadata": {},
   "source": [
    "`hint: df[] = df[] - df[]`"
   ]
  },
  {
   "cell_type": "code",
   "execution_count": null,
   "metadata": {},
   "outputs": [],
   "source": []
  },
  {
   "cell_type": "markdown",
   "metadata": {},
   "source": [
    "### Select only rows from 5 to 7"
   ]
  },
  {
   "cell_type": "markdown",
   "metadata": {},
   "source": [
    "`hint: df.loc[]`"
   ]
  },
  {
   "cell_type": "code",
   "execution_count": null,
   "metadata": {},
   "outputs": [],
   "source": []
  },
  {
   "cell_type": "markdown",
   "metadata": {},
   "source": [
    "### Select only \"totale_positivi\" and \"nuovi_positivi\" columns and only rows from 5 to 7"
   ]
  },
  {
   "cell_type": "markdown",
   "metadata": {},
   "source": [
    "`hint: df[], df.loc[]`"
   ]
  },
  {
   "cell_type": "code",
   "execution_count": null,
   "metadata": {},
   "outputs": [],
   "source": []
  },
  {
   "cell_type": "markdown",
   "metadata": {},
   "source": [
    "### Set \"denominazione_regione\" as index and show it"
   ]
  },
  {
   "cell_type": "markdown",
   "metadata": {},
   "source": [
    "`hint: df.set_index, inplace=True`"
   ]
  },
  {
   "cell_type": "code",
   "execution_count": null,
   "metadata": {},
   "outputs": [],
   "source": []
  },
  {
   "cell_type": "markdown",
   "metadata": {},
   "source": [
    "### Plot horizontal bars of \"tamponi_test_antigenico_rapido\" and \"tampone_test_molecolare\" columns for each region"
   ]
  },
  {
   "cell_type": "markdown",
   "metadata": {},
   "source": [
    "`hint: df[].plot.barh, figsize=()`"
   ]
  },
  {
   "cell_type": "markdown",
   "metadata": {},
   "source": [
    "- Figure size of (6,8)"
   ]
  },
  {
   "cell_type": "code",
   "execution_count": null,
   "metadata": {},
   "outputs": [],
   "source": []
  },
  {
   "cell_type": "markdown",
   "metadata": {},
   "source": [
    "### Plot horizontal bars of \"tamponi_test_antigenico_rapido\" and \"tampone_test_molecolare\" stacked together"
   ]
  },
  {
   "cell_type": "markdown",
   "metadata": {},
   "source": [
    "`hint: stacked=True`"
   ]
  },
  {
   "cell_type": "markdown",
   "metadata": {},
   "source": [
    "- Figure size of (6,8)"
   ]
  },
  {
   "cell_type": "code",
   "execution_count": null,
   "metadata": {},
   "outputs": [],
   "source": []
  },
  {
   "cell_type": "markdown",
   "metadata": {},
   "source": [
    "### Plot horizontal bars of \"tamponi_test_antigenico_rapido\" and \"tampone_test_molecolare\" columns for each region in different subplots"
   ]
  },
  {
   "cell_type": "markdown",
   "metadata": {},
   "source": [
    "`hint: df[].plot.barh, figsize=()`"
   ]
  },
  {
   "cell_type": "markdown",
   "metadata": {},
   "source": [
    "- Figure size of (6,10)"
   ]
  },
  {
   "cell_type": "code",
   "execution_count": null,
   "metadata": {},
   "outputs": [],
   "source": []
  },
  {
   "cell_type": "markdown",
   "metadata": {},
   "source": [
    "### Plot horizontal bars of \"tamponi_test_antigenico_rapido\" and \"tampone_test_molecolare\" columns for each region sorting by \"tampone_test_antigenico_rapido\" column"
   ]
  },
  {
   "cell_type": "markdown",
   "metadata": {},
   "source": [
    "`hint: df.sort_values`"
   ]
  },
  {
   "cell_type": "markdown",
   "metadata": {},
   "source": [
    "- Figure size of (6,8)"
   ]
  },
  {
   "cell_type": "code",
   "execution_count": null,
   "metadata": {},
   "outputs": [],
   "source": []
  },
  {
   "cell_type": "markdown",
   "metadata": {},
   "source": [
    "## Intermediate"
   ]
  },
  {
   "cell_type": "markdown",
   "metadata": {},
   "source": [
    "### Plot histograms of \"totale_ospedalizzati\", \"terapia_intensiva\", \"ricoverati_con_sintomi\", \"nuovi_positivi\" in different subplots"
   ]
  },
  {
   "cell_type": "markdown",
   "metadata": {},
   "source": [
    "`hint: df[].plot.hist, bins=, alpha=`"
   ]
  },
  {
   "cell_type": "markdown",
   "metadata": {},
   "source": [
    "- Figure size of (10, 6)\n",
    "- 10 Bins\n",
    "- Alpha of 0.75"
   ]
  },
  {
   "cell_type": "code",
   "execution_count": null,
   "metadata": {},
   "outputs": [],
   "source": []
  },
  {
   "cell_type": "markdown",
   "metadata": {},
   "source": [
    "### Plot in pie charts the number of \"tamponi_test_molecolare\" with percentage for each region with exploded slice for *Lombardia* region"
   ]
  },
  {
   "cell_type": "markdown",
   "metadata": {},
   "source": [
    "`hint: df.index, df[].plot.pie, figsize=, autopct=\"%1.1f%%, pctdistance=, explode=, ylabel=\", `"
   ]
  },
  {
   "cell_type": "markdown",
   "metadata": {},
   "source": [
    "- Figure size of (8,8)\n",
    "- Explode of 0.1 for Lombardia region\n",
    "- Distance of the percentage of 0.75"
   ]
  },
  {
   "cell_type": "code",
   "execution_count": null,
   "metadata": {},
   "outputs": [],
   "source": []
  },
  {
   "cell_type": "markdown",
   "metadata": {},
   "source": [
    "### Plot hexbin plot of \"deceduti\" by (\"long\", \"lat) coordinates of regions"
   ]
  },
  {
   "cell_type": "markdown",
   "metadata": {},
   "source": [
    "`hint: df.plot.hexbin, x=, y=, C=, edgecolor=, gridsize=`"
   ]
  },
  {
   "cell_type": "markdown",
   "metadata": {},
   "source": [
    "- Figure size of (8, 6)\n",
    "- Gridsize of 10"
   ]
  },
  {
   "cell_type": "code",
   "execution_count": null,
   "metadata": {},
   "outputs": [],
   "source": []
  },
  {
   "cell_type": "markdown",
   "metadata": {},
   "source": [
    "### Plot scatterplots of \"terapia_intensiva\" and \"ingressi_terapia_intensiva\" by (\"long\", \"lat\") coordinates of regions both in the same plot"
   ]
  },
  {
   "cell_type": "markdown",
   "metadata": {},
   "source": [
    "`hint: df.plot.scatter, x=, y=, color=, alpha=, s=, label=, ax=, ax.legend`"
   ]
  },
  {
   "cell_type": "markdown",
   "metadata": {},
   "source": [
    "- Figure size of (8, 6)\n",
    "- Alpha of 0.5\n",
    "- Legend at the bottom"
   ]
  },
  {
   "cell_type": "code",
   "execution_count": null,
   "metadata": {},
   "outputs": [],
   "source": []
  },
  {
   "cell_type": "markdown",
   "metadata": {},
   "source": [
    "### Group the regions by color and plot bars of the mean value of \"nuovi_positivi\" column"
   ]
  },
  {
   "cell_type": "markdown",
   "metadata": {},
   "source": [
    "`hint: pd.Series, df.groupby().mean().plot.bar(), title=, rot=,`"
   ]
  },
  {
   "cell_type": "markdown",
   "metadata": {},
   "source": [
    "\n",
    "- Figure size (8, 6)\n",
    "\n",
    "regions_colors = {\n",
    "    \"Abruzzo\": \"orange\",\n",
    "    \"Basilicata\": \"orange\",\n",
    "    \"Calabria\": \"orange\",\n",
    "    \"Campania\": \"red\",\n",
    "    \"Emilia-Romagna\": \"red\",\n",
    "    \"Friuli Venezia Giulia\": \"red\",\n",
    "    \"Lazio\": \"red\",\n",
    "    \"Liguria\": \"orange\",\n",
    "    \"Lombardia\": \"red\",\n",
    "    \"Marche\": \"red\",\n",
    "    \"Molise\": \"red\",\n",
    "    \"P.A. Bolzano\": \"orange\",\n",
    "    \"P.A. Trento\": \"red\",\n",
    "    \"Piemonte\": \"red\",\n",
    "    \"Puglia\": \"red\",\n",
    "    \"Sardegna\": \"white\",\n",
    "    \"Sicilia\": \"red\",\n",
    "    \"Toscana\": \"orange\",\n",
    "    \"Umbria\": \"orange\",\n",
    "    \"Valle d'Aosta\": \"orange\",\n",
    "    \"Veneto\": \"red\",\n",
    "}"
   ]
  },
  {
   "cell_type": "code",
   "execution_count": null,
   "metadata": {},
   "outputs": [],
   "source": []
  },
  {
   "cell_type": "code",
   "execution_count": null,
   "metadata": {},
   "outputs": [],
   "source": []
  },
  {
   "cell_type": "markdown",
   "metadata": {},
   "source": [
    "### Group the regions by color and plot bars of mean *and error* of \"nuovi_positivi\" column"
   ]
  },
  {
   "cell_type": "markdown",
   "metadata": {},
   "source": [
    "`hint: df.groupby().std(), yerr=, rot=,`"
   ]
  },
  {
   "cell_type": "code",
   "execution_count": null,
   "metadata": {},
   "outputs": [],
   "source": []
  },
  {
   "cell_type": "markdown",
   "metadata": {},
   "source": [
    "### Group the regions by color and plot a hist of \"variazione_totale_positivi\" using 5 bins"
   ]
  },
  {
   "cell_type": "markdown",
   "metadata": {},
   "source": [
    "`hint: pd.Series, df.groupby().plot.hist(), legend=,`"
   ]
  },
  {
   "cell_type": "markdown",
   "metadata": {},
   "source": [
    "## Thanks to Matteo Olivato m.olivato@unibs.it"
   ]
  }
 ],
 "metadata": {
  "anaconda-cloud": {
   "environment": null
  },
  "kernelspec": {
   "display_name": "Python 3",
   "language": "python",
   "name": "python3"
  },
  "language_info": {
   "codemirror_mode": {
    "name": "ipython",
    "version": 3
   },
   "file_extension": ".py",
   "mimetype": "text/x-python",
   "name": "python",
   "nbconvert_exporter": "python",
   "pygments_lexer": "ipython3",
   "version": "3.6.9"
  },
  "toc-autonumbering": true
 },
 "nbformat": 4,
 "nbformat_minor": 4
}
