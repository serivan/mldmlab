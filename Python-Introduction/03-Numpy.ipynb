{
  "nbformat": 4,
  "nbformat_minor": 0,
  "metadata": {
    "kernelspec": {
      "display_name": "Python 3",
      "language": "python",
      "name": "python3"
    },
    "language_info": {
      "codemirror_mode": {
        "name": "ipython",
        "version": 3
      },
      "file_extension": ".py",
      "mimetype": "text/x-python",
      "name": "python",
      "nbconvert_exporter": "python",
      "pygments_lexer": "ipython3",
      "version": "3.6.9"
    },
    "colab": {
      "name": "03-Numpy.ipynb",
      "provenance": [],
      "toc_visible": true
    }
  },
  "cells": [
    {
      "cell_type": "markdown",
      "metadata": {
        "id": "zXuSaJLphDLf"
      },
      "source": [
        "# NumPy -  multidimensional data arrays"
      ]
    },
    {
      "cell_type": "markdown",
      "metadata": {
        "id": "pPi3P8oMhDLh"
      },
      "source": [
        "### Ondrej Lexa"
      ]
    },
    {
      "cell_type": "markdown",
      "metadata": {
        "id": "pkYnjy2HhDLi"
      },
      "source": [
        "The `numpy` package (module) is used in almost all numerical computation using Python. It is a package that provide high-performance vector, matrix and higher-dimensional data structures for Python. It is implemented in C and Fortran so when calculations are vectorized (formulated with vectors and matrices), performance is very good.\n",
        "\n",
        "`NumPy` adds basic MATLAB-like capability to Python:\n",
        "\n",
        " * multidimensional arrays with homogeneous data types\n",
        " * specific numeric data types (e.g. `int8`, `uint32`, `float64`)\n",
        " * array manipulation functions (e.g. `reshape`, `transpose`, `concatenate`)\n",
        " * array generation (e.g. `ones`, `zeros`, `eye`, `random`)\n",
        " * element-wise math operations (e.g. `add`, `multiply`, `max`, `sin`)\n",
        " * matrix math operations (e.g. `inner`/`outer` product, `rank`, `trace`)\n",
        " * linear algebra (e.g. `inv`, `pinv`, `svd`, `eig`, `det`, `qr`)\n",
        "\n",
        "`SciPy` builds on `NumPy` (much like MATLAB toolboxes) adding:\n",
        "\n",
        " * multidimensional image processing\n",
        " * non-linear solvers, optimization, root finding\n",
        " * signal processing, fast Fourier transforms\n",
        " * numerical integration, interpolation, statistical functions\n",
        " * sparse matrices, sparse solvers\n",
        " * clustering algorithms, distance metrics, spatial data structures\n",
        " * file IO (including to MATLAB .mat files)\n",
        "\n",
        "`Matplotlib` adds MATLAB-like plotting capability on top of `NumPy`."
      ]
    },
    {
      "cell_type": "markdown",
      "metadata": {
        "id": "dOSxjjWIhDLk"
      },
      "source": [
        "### Importing the numpy module"
      ]
    },
    {
      "cell_type": "markdown",
      "metadata": {
        "id": "_Wcyb4uthDLk"
      },
      "source": [
        "There are several ways to import `numpy`. The standard approach is to use a simple import\n",
        "statement.\n",
        "```python\n",
        "import numpy\n",
        "```\n",
        "However, for large amounts of calls to `numpy` functions, it can become tedious to write\n",
        "`numpy.X` over and over again. Instead, it is common to import under the briefer name `np`.\n",
        "```python\n",
        "import numpy as np\n",
        "```\n",
        "This statement will allow us to access `numpy` objects using `np.X` instead of `numpy.X`. It is\n",
        "also possible to import `numpy` directly into the **current namespace** so that we don't have to use\n",
        "dot notation at all, but rather simply call the functions as if they were built-in:\n",
        "```python\n",
        "from numpy import *\n",
        "```"
      ]
    },
    {
      "cell_type": "markdown",
      "metadata": {
        "id": "e0Fn3quZhDLl"
      },
      "source": [
        "### Interactive Scientific Python (aka PyLab)\n",
        "**PyLab** is a meta-package that import most of the `NumPy` and `Matplotlib` into the global name space. It is the easiest (and most MATLAB-like) way to work with scientific Python.\n",
        "```python\n",
        "from pylab import *\n",
        "```\n",
        "In Jupyter notebooks we can use `%pylab` magic to initiate PyLab evnironment. Option `inline` set graphical output to be shown in notebook. For other magic commands see [Built-in magic commands](http://ipython.readthedocs.io/en/stable/interactive/magics.html). `%pylab` makes the following imports.\n",
        "```python\n",
        "import numpy\n",
        "import matplotlib\n",
        "from matplotlib import pylab, mlab, pyplot\n",
        "np = numpy\n",
        "plt = pyplot\n",
        "\n",
        "from IPython.display import display\n",
        "from IPython.core.pylabtools import figsize, getfigs\n",
        "\n",
        "from pylab import *\n",
        "from numpy import *\n",
        "```"
      ]
    },
    {
      "cell_type": "code",
      "metadata": {
        "colab": {
          "base_uri": "https://localhost:8080/"
        },
        "id": "9BsXM4GMhDLm",
        "outputId": "d57be477-47fe-4477-d8b2-c7acebd42f35"
      },
      "source": [
        "%pylab inline"
      ],
      "execution_count": 1,
      "outputs": [
        {
          "output_type": "stream",
          "text": [
            "Populating the interactive namespace from numpy and matplotlib\n"
          ],
          "name": "stdout"
        }
      ]
    },
    {
      "cell_type": "markdown",
      "metadata": {
        "id": "5ckUzsC1hDLo"
      },
      "source": [
        "#### Writing scripts and programs\n",
        "When writing scripts or programs it is recommended that you:\n",
        "\n",
        " * only import what you need, for efficiency\n",
        " * import packages into namespaces, to avoid name clashes\n",
        "\n",
        "The community has adopted abbreviated naming conventions\n",
        "```python\n",
        "import numpy as np\n",
        "import scipy as sp\n",
        "import matplotlib as mpl\n",
        "import matplotlib.pyplot as plt\n",
        "```\n",
        "Some different ways of working with `NumPy` are:\n",
        "```python\n",
        "from numpy import eye, array   # Import only what you need\n",
        "from numpy.linalg import svd\n",
        "```"
      ]
    },
    {
      "cell_type": "markdown",
      "metadata": {
        "id": "s3IryAhPhDLo"
      },
      "source": [
        "### NumPy arrays"
      ]
    },
    {
      "cell_type": "markdown",
      "metadata": {
        "id": "S_rCnHJEhDLo"
      },
      "source": [
        "In the `numpy` package the terminology used for vectors, matrices and higher-dimensional data sets is `numpy.ndarray`.\n",
        "\n",
        "The `numpy.ndarray` looks awefully much like a Python list (or nested list). Why not simply use Python lists for computations instead of creating a new array type? \n",
        "\n",
        "There are several reasons:\n",
        "\n",
        "* Python lists are very general. They can contain any kind of object. They are dynamically typed. They do not support mathematical functions such as matrix and dot multiplications, etc. Implementing such functions for Python lists would not be very efficient because of the dynamic typing.\n",
        "* Numpy arrays are **statically typed** and **homogeneous**. The type of the elements is determined when the array is created.\n",
        "* Numpy arrays are memory efficient.\n",
        "* Because of the static typing, fast implementation of mathematical functions such as multiplication and addition of `numpy` arrays can be implemented in a compiled language (C and Fortran is used).\n",
        "\n",
        "There are a number of ways to initialize new numpy arrays, for example from\n",
        "\n",
        "* a Python list or tuples\n",
        "* using functions that are dedicated to generating numpy arrays, such as `arange`, `linspace`, etc.\n",
        "* reading data from files"
      ]
    },
    {
      "cell_type": "markdown",
      "metadata": {
        "id": "mVY5dhRThDLp"
      },
      "source": [
        "### From lists"
      ]
    },
    {
      "cell_type": "markdown",
      "metadata": {
        "id": "mwY1r3lThDLp"
      },
      "source": [
        "For example, to create new vector and matrix arrays from Python lists we can use the `numpy.array` function."
      ]
    },
    {
      "cell_type": "code",
      "metadata": {
        "colab": {
          "base_uri": "https://localhost:8080/"
        },
        "id": "Rwq9adilhDLq",
        "outputId": "a753d2d0-e8a5-49c1-b0c6-3e781e92502f"
      },
      "source": [
        "# a vector: the argument to the array function is a Python list\n",
        "v = np.array([1,2,3,8])\n",
        "v"
      ],
      "execution_count": 3,
      "outputs": [
        {
          "output_type": "execute_result",
          "data": {
            "text/plain": [
              "array([1, 2, 3, 8])"
            ]
          },
          "metadata": {
            "tags": []
          },
          "execution_count": 3
        }
      ]
    },
    {
      "cell_type": "code",
      "metadata": {
        "colab": {
          "base_uri": "https://localhost:8080/"
        },
        "id": "IbnCcG75jwcS",
        "outputId": "1d4176a7-7de0-4d3b-e536-95d0cadd0a27"
      },
      "source": [
        "v1=[1, 2, 3, 8]\r\n",
        "v1"
      ],
      "execution_count": 4,
      "outputs": [
        {
          "output_type": "execute_result",
          "data": {
            "text/plain": [
              "[1, 2, 3, 8]"
            ]
          },
          "metadata": {
            "tags": []
          },
          "execution_count": 4
        }
      ]
    },
    {
      "cell_type": "code",
      "metadata": {
        "colab": {
          "base_uri": "https://localhost:8080/"
        },
        "id": "JVVXp2IWhDLq",
        "outputId": "5b74e339-6279-402a-9466-55408bc635b9"
      },
      "source": [
        "# a matrix: the argument to the array function is a nested Python list\n",
        "M = np.array([[1, 2], [3, 4]])\n",
        "M"
      ],
      "execution_count": 5,
      "outputs": [
        {
          "output_type": "execute_result",
          "data": {
            "text/plain": [
              "array([[1, 2],\n",
              "       [3, 4]])"
            ]
          },
          "metadata": {
            "tags": []
          },
          "execution_count": 5
        }
      ]
    },
    {
      "cell_type": "markdown",
      "metadata": {
        "id": "CPNHNWMNhDLr"
      },
      "source": [
        "The `v` and `M` objects are both of the type `ndarray` that the `numpy` module provides."
      ]
    },
    {
      "cell_type": "code",
      "metadata": {
        "colab": {
          "base_uri": "https://localhost:8080/"
        },
        "id": "Pa6d1D9RhDLr",
        "outputId": "b8bdb602-5c8f-4000-e7e9-e10a8c256d6f"
      },
      "source": [
        "type(v), type(M)"
      ],
      "execution_count": 6,
      "outputs": [
        {
          "output_type": "execute_result",
          "data": {
            "text/plain": [
              "(numpy.ndarray, numpy.ndarray)"
            ]
          },
          "metadata": {
            "tags": []
          },
          "execution_count": 6
        }
      ]
    },
    {
      "cell_type": "markdown",
      "metadata": {
        "id": "fNFfVieEhDLs"
      },
      "source": [
        "### `ndarray` properties"
      ]
    },
    {
      "cell_type": "markdown",
      "metadata": {
        "id": "yu597kvRhDLs"
      },
      "source": [
        "The difference between the `v` and `M` arrays is only their shapes. We can get information about the shape of an array by using the `ndarray.shape` property."
      ]
    },
    {
      "cell_type": "code",
      "metadata": {
        "colab": {
          "base_uri": "https://localhost:8080/"
        },
        "id": "guRlq0-mhDLt",
        "outputId": "02cf4e05-f4d6-4057-ecbd-3d62ec67ed92"
      },
      "source": [
        "v.shape"
      ],
      "execution_count": 7,
      "outputs": [
        {
          "output_type": "execute_result",
          "data": {
            "text/plain": [
              "(4,)"
            ]
          },
          "metadata": {
            "tags": []
          },
          "execution_count": 7
        }
      ]
    },
    {
      "cell_type": "code",
      "metadata": {
        "colab": {
          "base_uri": "https://localhost:8080/"
        },
        "id": "psGMNpkDhDLt",
        "outputId": "a8a82dbe-9cd8-408f-887c-dbab026a6ac4"
      },
      "source": [
        "M.shape"
      ],
      "execution_count": 8,
      "outputs": [
        {
          "output_type": "execute_result",
          "data": {
            "text/plain": [
              "(2, 2)"
            ]
          },
          "metadata": {
            "tags": []
          },
          "execution_count": 8
        }
      ]
    },
    {
      "cell_type": "markdown",
      "metadata": {
        "id": "2Bkw2KjIhDLu"
      },
      "source": [
        "The number of elements in the array is available through the `ndarray.size` property:"
      ]
    },
    {
      "cell_type": "code",
      "metadata": {
        "colab": {
          "base_uri": "https://localhost:8080/"
        },
        "id": "Cr9CqODGhDLu",
        "outputId": "7d963778-6270-407f-cb36-03d5d7490ee7"
      },
      "source": [
        "M.size"
      ],
      "execution_count": 9,
      "outputs": [
        {
          "output_type": "execute_result",
          "data": {
            "text/plain": [
              "4"
            ]
          },
          "metadata": {
            "tags": []
          },
          "execution_count": 9
        }
      ]
    },
    {
      "cell_type": "markdown",
      "metadata": {
        "id": "sn52fTjRhDLv"
      },
      "source": [
        "Equivalently, we could use the function `numpy.shape` and `numpy.size`"
      ]
    },
    {
      "cell_type": "code",
      "metadata": {
        "colab": {
          "base_uri": "https://localhost:8080/"
        },
        "id": "A7EgNgWAhDLv",
        "outputId": "9ca805cd-68f7-441f-c672-ff2c7f4496ce"
      },
      "source": [
        "shape(M)"
      ],
      "execution_count": 10,
      "outputs": [
        {
          "output_type": "execute_result",
          "data": {
            "text/plain": [
              "(2, 2)"
            ]
          },
          "metadata": {
            "tags": []
          },
          "execution_count": 10
        }
      ]
    },
    {
      "cell_type": "code",
      "metadata": {
        "colab": {
          "base_uri": "https://localhost:8080/"
        },
        "id": "u5wp8pznhDLw",
        "outputId": "543fddbd-51bb-448c-f29b-4b64576d3c7f"
      },
      "source": [
        "size(M)"
      ],
      "execution_count": 11,
      "outputs": [
        {
          "output_type": "execute_result",
          "data": {
            "text/plain": [
              "4"
            ]
          },
          "metadata": {
            "tags": []
          },
          "execution_count": 11
        }
      ]
    },
    {
      "cell_type": "markdown",
      "metadata": {
        "id": "okF80I7lhDLw"
      },
      "source": [
        "The number of dimensions of the array is available through the `ndarray.ndim` property:"
      ]
    },
    {
      "cell_type": "code",
      "metadata": {
        "colab": {
          "base_uri": "https://localhost:8080/"
        },
        "id": "iyXAh3wnhDLw",
        "outputId": "9a553a8c-681d-40e7-945e-9f0eb275ff29"
      },
      "source": [
        "v.ndim"
      ],
      "execution_count": 12,
      "outputs": [
        {
          "output_type": "execute_result",
          "data": {
            "text/plain": [
              "1"
            ]
          },
          "metadata": {
            "tags": []
          },
          "execution_count": 12
        }
      ]
    },
    {
      "cell_type": "code",
      "metadata": {
        "colab": {
          "base_uri": "https://localhost:8080/"
        },
        "id": "9CufodsmhDLx",
        "outputId": "2c2cf258-6a04-49c8-ad1b-aee2f70c70f7"
      },
      "source": [
        "M.ndim"
      ],
      "execution_count": 13,
      "outputs": [
        {
          "output_type": "execute_result",
          "data": {
            "text/plain": [
              "2"
            ]
          },
          "metadata": {
            "tags": []
          },
          "execution_count": 13
        }
      ]
    },
    {
      "cell_type": "code",
      "metadata": {
        "colab": {
          "base_uri": "https://localhost:8080/"
        },
        "id": "UPW7u17EhDLx",
        "outputId": "3c7eb50d-553d-44aa-e62d-ea428ad258c9"
      },
      "source": [
        "M.itemsize # bytes per element"
      ],
      "execution_count": 14,
      "outputs": [
        {
          "output_type": "execute_result",
          "data": {
            "text/plain": [
              "8"
            ]
          },
          "metadata": {
            "tags": []
          },
          "execution_count": 14
        }
      ]
    },
    {
      "cell_type": "code",
      "metadata": {
        "colab": {
          "base_uri": "https://localhost:8080/"
        },
        "id": "rmCrh2M3hDLz",
        "outputId": "fdc05b0d-cd8c-493d-eb58-2f799aa7bb87"
      },
      "source": [
        "M.nbytes # number of bytes"
      ],
      "execution_count": 15,
      "outputs": [
        {
          "output_type": "execute_result",
          "data": {
            "text/plain": [
              "32"
            ]
          },
          "metadata": {
            "tags": []
          },
          "execution_count": 15
        }
      ]
    },
    {
      "cell_type": "markdown",
      "metadata": {
        "id": "5PdCs9NLhDLz"
      },
      "source": [
        "Using the `dtype` (data type) property of an `ndarray`, we can see what type the data of an array has:"
      ]
    },
    {
      "cell_type": "code",
      "metadata": {
        "colab": {
          "base_uri": "https://localhost:8080/"
        },
        "id": "gauuGLyJhDL0",
        "outputId": "e4f9b432-313f-44b8-c30b-afc00f73d7cd"
      },
      "source": [
        "M.dtype"
      ],
      "execution_count": 16,
      "outputs": [
        {
          "output_type": "execute_result",
          "data": {
            "text/plain": [
              "dtype('int64')"
            ]
          },
          "metadata": {
            "tags": []
          },
          "execution_count": 16
        }
      ]
    },
    {
      "cell_type": "markdown",
      "metadata": {
        "id": "qijxN-TBhDL0"
      },
      "source": [
        "We get an error if we try to assign a value of the wrong type to an element in a numpy array:"
      ]
    },
    {
      "cell_type": "code",
      "metadata": {
        "colab": {
          "base_uri": "https://localhost:8080/",
          "height": 166
        },
        "id": "DAGb7aa-hDL0",
        "outputId": "5eb78b28-0d05-4123-c630-d59859ee5632"
      },
      "source": [
        "M[0,0] = \"hello\""
      ],
      "execution_count": 17,
      "outputs": [
        {
          "output_type": "error",
          "ename": "ValueError",
          "evalue": "ignored",
          "traceback": [
            "\u001b[0;31m---------------------------------------------------------------------------\u001b[0m",
            "\u001b[0;31mValueError\u001b[0m                                Traceback (most recent call last)",
            "\u001b[0;32m<ipython-input-17-e1f336250f69>\u001b[0m in \u001b[0;36m<module>\u001b[0;34m()\u001b[0m\n\u001b[0;32m----> 1\u001b[0;31m \u001b[0mM\u001b[0m\u001b[0;34m[\u001b[0m\u001b[0;36m0\u001b[0m\u001b[0;34m,\u001b[0m\u001b[0;36m0\u001b[0m\u001b[0;34m]\u001b[0m \u001b[0;34m=\u001b[0m \u001b[0;34m\"hello\"\u001b[0m\u001b[0;34m\u001b[0m\u001b[0;34m\u001b[0m\u001b[0m\n\u001b[0m",
            "\u001b[0;31mValueError\u001b[0m: invalid literal for int() with base 10: 'hello'"
          ]
        }
      ]
    },
    {
      "cell_type": "markdown",
      "metadata": {
        "id": "IFgJAQBnhDL1"
      },
      "source": [
        "### Using array-generating functions"
      ]
    },
    {
      "cell_type": "markdown",
      "metadata": {
        "id": "iET7IK1phDL1"
      },
      "source": [
        "For larger arrays it is inpractical to initialize the data manually, using explicit python lists. Instead we can use one of the many functions in `numpy` that generate arrays of different forms. Some of the more common are:"
      ]
    },
    {
      "cell_type": "markdown",
      "metadata": {
        "id": "1DXp8dixhDL1"
      },
      "source": [
        "#### arange"
      ]
    },
    {
      "cell_type": "code",
      "metadata": {
        "id": "GfJW1yEBhDL2",
        "outputId": "9a635619-9182-456c-bd29-746236a11c39"
      },
      "source": [
        "# create a range\n",
        "x = arange(0, 10, 1) # arguments: start, stop, step\n",
        "x"
      ],
      "execution_count": null,
      "outputs": [
        {
          "output_type": "execute_result",
          "data": {
            "text/plain": [
              "array([0, 1, 2, 3, 4, 5, 6, 7, 8, 9])"
            ]
          },
          "metadata": {
            "tags": []
          },
          "execution_count": 16
        }
      ]
    },
    {
      "cell_type": "code",
      "metadata": {
        "id": "3qloeawshDL3",
        "outputId": "857b7597-c1eb-46db-b86d-a84efb6649b9"
      },
      "source": [
        "x = arange(-1, 1, 0.1)\n",
        "x"
      ],
      "execution_count": null,
      "outputs": [
        {
          "output_type": "execute_result",
          "data": {
            "text/plain": [
              "array([-1.00000000e+00, -9.00000000e-01, -8.00000000e-01, -7.00000000e-01,\n",
              "       -6.00000000e-01, -5.00000000e-01, -4.00000000e-01, -3.00000000e-01,\n",
              "       -2.00000000e-01, -1.00000000e-01, -2.22044605e-16,  1.00000000e-01,\n",
              "        2.00000000e-01,  3.00000000e-01,  4.00000000e-01,  5.00000000e-01,\n",
              "        6.00000000e-01,  7.00000000e-01,  8.00000000e-01,  9.00000000e-01])"
            ]
          },
          "metadata": {
            "tags": []
          },
          "execution_count": 17
        }
      ]
    },
    {
      "cell_type": "markdown",
      "metadata": {
        "id": "kiL6ta82hDL4"
      },
      "source": [
        "#### linspace and logspace"
      ]
    },
    {
      "cell_type": "code",
      "metadata": {
        "id": "WG9lZDzchDL5",
        "outputId": "8cdd9d6d-9d3b-4656-eec1-11a17b18342a"
      },
      "source": [
        "# using linspace, both end points ARE included\n",
        "linspace(0, 10, 21)"
      ],
      "execution_count": null,
      "outputs": [
        {
          "output_type": "execute_result",
          "data": {
            "text/plain": [
              "array([ 0. ,  0.5,  1. ,  1.5,  2. ,  2.5,  3. ,  3.5,  4. ,  4.5,  5. ,\n",
              "        5.5,  6. ,  6.5,  7. ,  7.5,  8. ,  8.5,  9. ,  9.5, 10. ])"
            ]
          },
          "metadata": {
            "tags": []
          },
          "execution_count": 18
        }
      ]
    },
    {
      "cell_type": "code",
      "metadata": {
        "id": "GbNbpvb2hDL6",
        "outputId": "527f392e-3c51-45f7-8879-e9631813ed17"
      },
      "source": [
        "logspace(0, 2, 10, base=10)"
      ],
      "execution_count": null,
      "outputs": [
        {
          "output_type": "execute_result",
          "data": {
            "text/plain": [
              "array([  1.        ,   1.66810054,   2.7825594 ,   4.64158883,\n",
              "         7.74263683,  12.91549665,  21.5443469 ,  35.93813664,\n",
              "        59.94842503, 100.        ])"
            ]
          },
          "metadata": {
            "tags": []
          },
          "execution_count": 19
        }
      ]
    },
    {
      "cell_type": "markdown",
      "metadata": {
        "id": "5Ulvo3QBhDL7"
      },
      "source": [
        "#### meshgrid"
      ]
    },
    {
      "cell_type": "code",
      "metadata": {
        "id": "kAaScryGhDL8"
      },
      "source": [
        "xa = linspace(-5, 5, 11)\n",
        "ya = linspace(-3, 3, 7)\n",
        "x, y = meshgrid(xa, ya) # similar to meshgrid in MATLAB"
      ],
      "execution_count": null,
      "outputs": []
    },
    {
      "cell_type": "code",
      "metadata": {
        "id": "CRefBd3KhDL8",
        "outputId": "a3e69d48-cead-45da-b933-8106cd552041"
      },
      "source": [
        "x"
      ],
      "execution_count": null,
      "outputs": [
        {
          "output_type": "execute_result",
          "data": {
            "text/plain": [
              "array([[-5., -4., -3., -2., -1.,  0.,  1.,  2.,  3.,  4.,  5.],\n",
              "       [-5., -4., -3., -2., -1.,  0.,  1.,  2.,  3.,  4.,  5.],\n",
              "       [-5., -4., -3., -2., -1.,  0.,  1.,  2.,  3.,  4.,  5.],\n",
              "       [-5., -4., -3., -2., -1.,  0.,  1.,  2.,  3.,  4.,  5.],\n",
              "       [-5., -4., -3., -2., -1.,  0.,  1.,  2.,  3.,  4.,  5.],\n",
              "       [-5., -4., -3., -2., -1.,  0.,  1.,  2.,  3.,  4.,  5.],\n",
              "       [-5., -4., -3., -2., -1.,  0.,  1.,  2.,  3.,  4.,  5.]])"
            ]
          },
          "metadata": {
            "tags": []
          },
          "execution_count": 21
        }
      ]
    },
    {
      "cell_type": "code",
      "metadata": {
        "id": "xamLbjQEhDL9",
        "outputId": "e4c2e710-fe07-4fdb-a731-b6c0a7823a2c"
      },
      "source": [
        "y"
      ],
      "execution_count": null,
      "outputs": [
        {
          "output_type": "execute_result",
          "data": {
            "text/plain": [
              "array([[-3., -3., -3., -3., -3., -3., -3., -3., -3., -3., -3.],\n",
              "       [-2., -2., -2., -2., -2., -2., -2., -2., -2., -2., -2.],\n",
              "       [-1., -1., -1., -1., -1., -1., -1., -1., -1., -1., -1.],\n",
              "       [ 0.,  0.,  0.,  0.,  0.,  0.,  0.,  0.,  0.,  0.,  0.],\n",
              "       [ 1.,  1.,  1.,  1.,  1.,  1.,  1.,  1.,  1.,  1.,  1.],\n",
              "       [ 2.,  2.,  2.,  2.,  2.,  2.,  2.,  2.,  2.,  2.,  2.],\n",
              "       [ 3.,  3.,  3.,  3.,  3.,  3.,  3.,  3.,  3.,  3.,  3.]])"
            ]
          },
          "metadata": {
            "tags": []
          },
          "execution_count": 22
        }
      ]
    },
    {
      "cell_type": "markdown",
      "metadata": {
        "id": "-LKKw48FhDL9"
      },
      "source": [
        "#### diag"
      ]
    },
    {
      "cell_type": "code",
      "metadata": {
        "id": "H2WBAu5EhDL9",
        "outputId": "7cf6f4bd-9a57-4c4c-efa2-3e23460eaa8c"
      },
      "source": [
        "# a diagonal matrix\n",
        "diag([1,2,3])"
      ],
      "execution_count": null,
      "outputs": [
        {
          "output_type": "execute_result",
          "data": {
            "text/plain": [
              "array([[1, 0, 0],\n",
              "       [0, 2, 0],\n",
              "       [0, 0, 3]])"
            ]
          },
          "metadata": {
            "tags": []
          },
          "execution_count": 23
        }
      ]
    },
    {
      "cell_type": "code",
      "metadata": {
        "id": "sWxbyZk4hDL-",
        "outputId": "1dee6dc1-1e1c-402c-d0b5-04bd629c9d59"
      },
      "source": [
        "# diagonal with offset from the main diagonal\n",
        "diag([1,2,3], k=1) "
      ],
      "execution_count": null,
      "outputs": [
        {
          "output_type": "execute_result",
          "data": {
            "text/plain": [
              "array([[0, 1, 0, 0],\n",
              "       [0, 0, 2, 0],\n",
              "       [0, 0, 0, 3],\n",
              "       [0, 0, 0, 0]])"
            ]
          },
          "metadata": {
            "tags": []
          },
          "execution_count": 24
        }
      ]
    },
    {
      "cell_type": "markdown",
      "metadata": {
        "id": "lXGKSmTbhDL-"
      },
      "source": [
        "#### zeros and ones"
      ]
    },
    {
      "cell_type": "code",
      "metadata": {
        "id": "WX9HC7FvhDL-",
        "outputId": "7baca0a0-e291-4c30-8eb1-9a014661bf5a"
      },
      "source": [
        "zeros((3,3))"
      ],
      "execution_count": null,
      "outputs": [
        {
          "output_type": "execute_result",
          "data": {
            "text/plain": [
              "array([[0., 0., 0.],\n",
              "       [0., 0., 0.],\n",
              "       [0., 0., 0.]])"
            ]
          },
          "metadata": {
            "tags": []
          },
          "execution_count": 25
        }
      ]
    },
    {
      "cell_type": "code",
      "metadata": {
        "id": "36KXjfKthDL_",
        "outputId": "47bfe1d6-eb16-4b8b-8967-9fe21d90d3ce"
      },
      "source": [
        "ones((3,3))"
      ],
      "execution_count": null,
      "outputs": [
        {
          "output_type": "execute_result",
          "data": {
            "text/plain": [
              "array([[1., 1., 1.],\n",
              "       [1., 1., 1.],\n",
              "       [1., 1., 1.]])"
            ]
          },
          "metadata": {
            "tags": []
          },
          "execution_count": 26
        }
      ]
    },
    {
      "cell_type": "markdown",
      "metadata": {
        "id": "aKXFwlK1hDL_"
      },
      "source": [
        "#### identity"
      ]
    },
    {
      "cell_type": "code",
      "metadata": {
        "id": "PBwZOcdohDL_",
        "outputId": "17ba3c06-25c3-4b77-c011-6ea73806c15c"
      },
      "source": [
        "identity(3)"
      ],
      "execution_count": null,
      "outputs": [
        {
          "output_type": "execute_result",
          "data": {
            "text/plain": [
              "array([[1., 0., 0.],\n",
              "       [0., 1., 0.],\n",
              "       [0., 0., 1.]])"
            ]
          },
          "metadata": {
            "tags": []
          },
          "execution_count": 27
        }
      ]
    },
    {
      "cell_type": "markdown",
      "metadata": {
        "id": "nFt60qXMhDL_"
      },
      "source": [
        "#### zeros_like and ones_like"
      ]
    },
    {
      "cell_type": "code",
      "metadata": {
        "id": "1MDGd9q-hDMA",
        "outputId": "de1fde89-d1e5-474c-f4be-8c0f34679cae"
      },
      "source": [
        "zeros_like(x)"
      ],
      "execution_count": null,
      "outputs": [
        {
          "output_type": "execute_result",
          "data": {
            "text/plain": [
              "array([[0., 0., 0., 0., 0., 0., 0., 0., 0., 0., 0.],\n",
              "       [0., 0., 0., 0., 0., 0., 0., 0., 0., 0., 0.],\n",
              "       [0., 0., 0., 0., 0., 0., 0., 0., 0., 0., 0.],\n",
              "       [0., 0., 0., 0., 0., 0., 0., 0., 0., 0., 0.],\n",
              "       [0., 0., 0., 0., 0., 0., 0., 0., 0., 0., 0.],\n",
              "       [0., 0., 0., 0., 0., 0., 0., 0., 0., 0., 0.],\n",
              "       [0., 0., 0., 0., 0., 0., 0., 0., 0., 0., 0.]])"
            ]
          },
          "metadata": {
            "tags": []
          },
          "execution_count": 28
        }
      ]
    },
    {
      "cell_type": "code",
      "metadata": {
        "id": "nVbqy8dAhDMA",
        "outputId": "8fbd7d25-7d82-4888-c99a-26ad5e8038de"
      },
      "source": [
        "ones_like(x)"
      ],
      "execution_count": null,
      "outputs": [
        {
          "output_type": "execute_result",
          "data": {
            "text/plain": [
              "array([[1., 1., 1., 1., 1., 1., 1., 1., 1., 1., 1.],\n",
              "       [1., 1., 1., 1., 1., 1., 1., 1., 1., 1., 1.],\n",
              "       [1., 1., 1., 1., 1., 1., 1., 1., 1., 1., 1.],\n",
              "       [1., 1., 1., 1., 1., 1., 1., 1., 1., 1., 1.],\n",
              "       [1., 1., 1., 1., 1., 1., 1., 1., 1., 1., 1.],\n",
              "       [1., 1., 1., 1., 1., 1., 1., 1., 1., 1., 1.],\n",
              "       [1., 1., 1., 1., 1., 1., 1., 1., 1., 1., 1.]])"
            ]
          },
          "metadata": {
            "tags": []
          },
          "execution_count": 29
        }
      ]
    },
    {
      "cell_type": "markdown",
      "metadata": {
        "id": "di7myYzthDMA"
      },
      "source": [
        "## Manipulating arrays"
      ]
    },
    {
      "cell_type": "markdown",
      "metadata": {
        "id": "BofXEd7GhDMA"
      },
      "source": [
        "### Indexing"
      ]
    },
    {
      "cell_type": "markdown",
      "metadata": {
        "id": "7S1AcPrMhDMB"
      },
      "source": [
        "We can index elements in an array using square brackets and indices:"
      ]
    },
    {
      "cell_type": "code",
      "metadata": {
        "id": "lNWypReZhDMB",
        "outputId": "b29841c6-0227-4de8-98e5-83f7055c56e4"
      },
      "source": [
        "# v is a vector, and has only one dimension, taking one index\n",
        "v[0]"
      ],
      "execution_count": null,
      "outputs": [
        {
          "output_type": "execute_result",
          "data": {
            "text/plain": [
              "1"
            ]
          },
          "metadata": {
            "tags": []
          },
          "execution_count": 30
        }
      ]
    },
    {
      "cell_type": "code",
      "metadata": {
        "id": "K2Jmuf8whDMB",
        "outputId": "0a0c7941-51c0-4588-b1b4-c3540fda09d7"
      },
      "source": [
        "# M is a matrix, or a 2 dimensional array. Index could be chained\n",
        "M[1][1]"
      ],
      "execution_count": null,
      "outputs": [
        {
          "output_type": "execute_result",
          "data": {
            "text/plain": [
              "4"
            ]
          },
          "metadata": {
            "tags": []
          },
          "execution_count": 31
        }
      ]
    },
    {
      "cell_type": "code",
      "metadata": {
        "id": "bvby179ihDMC",
        "outputId": "aa6968e7-5036-47de-be97-0fe18eaeedc9"
      },
      "source": [
        "# M is a matrix, or a 2 dimensional array, index can take also two indices \n",
        "M[1,1]"
      ],
      "execution_count": null,
      "outputs": [
        {
          "output_type": "execute_result",
          "data": {
            "text/plain": [
              "4"
            ]
          },
          "metadata": {
            "tags": []
          },
          "execution_count": 32
        }
      ]
    },
    {
      "cell_type": "markdown",
      "metadata": {
        "id": "xQbKJ69hhDMF"
      },
      "source": [
        "If we omit an index of a multidimensional array it returns the whole row (or, in general, a N-1 dimensional array) "
      ]
    },
    {
      "cell_type": "code",
      "metadata": {
        "id": "RPioOG6IhDMF",
        "outputId": "84ae3ecf-d1f1-4c1b-f271-5affa70799b6"
      },
      "source": [
        "M"
      ],
      "execution_count": null,
      "outputs": [
        {
          "output_type": "execute_result",
          "data": {
            "text/plain": [
              "array([[1, 2],\n",
              "       [3, 4]])"
            ]
          },
          "metadata": {
            "tags": []
          },
          "execution_count": 33
        }
      ]
    },
    {
      "cell_type": "code",
      "metadata": {
        "id": "NPdg7nE-hDMF",
        "outputId": "b3eddd24-12a6-44c0-c327-46415f57550d"
      },
      "source": [
        "M[1]"
      ],
      "execution_count": null,
      "outputs": [
        {
          "output_type": "execute_result",
          "data": {
            "text/plain": [
              "array([3, 4])"
            ]
          },
          "metadata": {
            "tags": []
          },
          "execution_count": 34
        }
      ]
    },
    {
      "cell_type": "markdown",
      "metadata": {
        "id": "QxXYXG09hDMG"
      },
      "source": [
        "The same thing can be achieved with using `:` instead of an index: "
      ]
    },
    {
      "cell_type": "code",
      "metadata": {
        "id": "QyRDbHM7hDMG",
        "outputId": "c93dc3b0-54d1-490e-aa0b-50d877e67c9f"
      },
      "source": [
        "M[1,:] # row 1"
      ],
      "execution_count": null,
      "outputs": [
        {
          "output_type": "execute_result",
          "data": {
            "text/plain": [
              "array([3, 4])"
            ]
          },
          "metadata": {
            "tags": []
          },
          "execution_count": 35
        }
      ]
    },
    {
      "cell_type": "code",
      "metadata": {
        "id": "fr4d_2IlhDMH",
        "outputId": "4a063978-5e7c-46d5-9504-9865fb0c53c1"
      },
      "source": [
        "M[:,1] # column 1"
      ],
      "execution_count": null,
      "outputs": [
        {
          "output_type": "execute_result",
          "data": {
            "text/plain": [
              "array([2, 4])"
            ]
          },
          "metadata": {
            "tags": []
          },
          "execution_count": 36
        }
      ]
    },
    {
      "cell_type": "markdown",
      "metadata": {
        "id": "iO2CBCzRhDMH"
      },
      "source": [
        "We can assign new values to elements in an array using indexing:"
      ]
    },
    {
      "cell_type": "code",
      "metadata": {
        "id": "PHNfzSAvhDMI"
      },
      "source": [
        "M[0,0] = -1"
      ],
      "execution_count": null,
      "outputs": []
    },
    {
      "cell_type": "code",
      "metadata": {
        "id": "0XrhpTC4hDMI",
        "outputId": "ff70b32d-43d4-4d1c-8b56-375efecbeac5"
      },
      "source": [
        "M"
      ],
      "execution_count": null,
      "outputs": [
        {
          "output_type": "execute_result",
          "data": {
            "text/plain": [
              "array([[-1,  2],\n",
              "       [ 3,  4]])"
            ]
          },
          "metadata": {
            "tags": []
          },
          "execution_count": 38
        }
      ]
    },
    {
      "cell_type": "code",
      "metadata": {
        "id": "GVhscd4BhDMJ"
      },
      "source": [
        "# also works for rows and columns\n",
        "M[0,:] = 0\n",
        "M[:,1] = -1"
      ],
      "execution_count": null,
      "outputs": []
    },
    {
      "cell_type": "code",
      "metadata": {
        "id": "9HS3WYYWhDML",
        "outputId": "fb4071c9-6ca5-472c-b48f-c23e35af241e"
      },
      "source": [
        "M"
      ],
      "execution_count": null,
      "outputs": [
        {
          "output_type": "execute_result",
          "data": {
            "text/plain": [
              "array([[ 0, -1],\n",
              "       [ 3, -1]])"
            ]
          },
          "metadata": {
            "tags": []
          },
          "execution_count": 40
        }
      ]
    },
    {
      "cell_type": "markdown",
      "metadata": {
        "id": "co2TDTKkhDMM"
      },
      "source": [
        "### Index slicing"
      ]
    },
    {
      "cell_type": "markdown",
      "metadata": {
        "id": "--8s6Nn-hDMM"
      },
      "source": [
        "Index slicing is the technical name for the syntax `M[lower:upper:step]` to extract part of an array:"
      ]
    },
    {
      "cell_type": "code",
      "metadata": {
        "id": "2ssgsZcfhDMN",
        "outputId": "9ab63128-63fc-4e8a-b08c-3402723996f9"
      },
      "source": [
        "A = array([1,2,3,4,5])\n",
        "A"
      ],
      "execution_count": null,
      "outputs": [
        {
          "output_type": "execute_result",
          "data": {
            "text/plain": [
              "array([1, 2, 3, 4, 5])"
            ]
          },
          "metadata": {
            "tags": []
          },
          "execution_count": 41
        }
      ]
    },
    {
      "cell_type": "code",
      "metadata": {
        "id": "Z9eAXr02hDMN",
        "outputId": "4c231eae-c925-4dbb-93f8-7274beaf8776"
      },
      "source": [
        "A[1:3]"
      ],
      "execution_count": null,
      "outputs": [
        {
          "output_type": "execute_result",
          "data": {
            "text/plain": [
              "array([2, 3])"
            ]
          },
          "metadata": {
            "tags": []
          },
          "execution_count": 42
        }
      ]
    },
    {
      "cell_type": "markdown",
      "metadata": {
        "id": "yB3A_FcthDMN"
      },
      "source": [
        "Array slices are *mutable*: if they are assigned a new value the original array from which the slice was extracted is modified:"
      ]
    },
    {
      "cell_type": "code",
      "metadata": {
        "id": "XnXsdVRChDMO",
        "outputId": "bf4c60f1-1cc7-429b-ccb9-5ec54eac7644"
      },
      "source": [
        "A[1:3] = [-2,-3]\n",
        "\n",
        "A"
      ],
      "execution_count": null,
      "outputs": [
        {
          "output_type": "execute_result",
          "data": {
            "text/plain": [
              "array([ 1, -2, -3,  4,  5])"
            ]
          },
          "metadata": {
            "tags": []
          },
          "execution_count": 43
        }
      ]
    },
    {
      "cell_type": "markdown",
      "metadata": {
        "id": "nuVMNKwLhDMO"
      },
      "source": [
        "We can omit any of the three parameters in `M[lower:upper:step]`:"
      ]
    },
    {
      "cell_type": "code",
      "metadata": {
        "id": "pm94HdxzhDMO",
        "outputId": "72e898d7-89a0-42a8-8041-94d5f5298fb0"
      },
      "source": [
        "A[::] # lower, upper, step all take the default values"
      ],
      "execution_count": null,
      "outputs": [
        {
          "output_type": "execute_result",
          "data": {
            "text/plain": [
              "array([ 1, -2, -3,  4,  5])"
            ]
          },
          "metadata": {
            "tags": []
          },
          "execution_count": 44
        }
      ]
    },
    {
      "cell_type": "code",
      "metadata": {
        "id": "toSZ74IPhDMP",
        "outputId": "8bf672f2-9d6f-4e0b-aa19-e1b3acc81b9c"
      },
      "source": [
        "A[::2] # step is 2, lower and upper defaults to the beginning and end of the array"
      ],
      "execution_count": null,
      "outputs": [
        {
          "output_type": "execute_result",
          "data": {
            "text/plain": [
              "array([ 1, -3,  5])"
            ]
          },
          "metadata": {
            "tags": []
          },
          "execution_count": 45
        }
      ]
    },
    {
      "cell_type": "code",
      "metadata": {
        "id": "lhX1lll-hDMP",
        "outputId": "1c444a71-2f3c-4feb-b513-d03f8a396892"
      },
      "source": [
        "A[:3] # first three elements"
      ],
      "execution_count": null,
      "outputs": [
        {
          "output_type": "execute_result",
          "data": {
            "text/plain": [
              "array([ 1, -2, -3])"
            ]
          },
          "metadata": {
            "tags": []
          },
          "execution_count": 46
        }
      ]
    },
    {
      "cell_type": "code",
      "metadata": {
        "id": "C0TAsWb2hDMP",
        "outputId": "e9ea8273-5b0b-4456-e10e-327d66893a7b"
      },
      "source": [
        "A[3:] # elements from index 3"
      ],
      "execution_count": null,
      "outputs": [
        {
          "output_type": "execute_result",
          "data": {
            "text/plain": [
              "array([4, 5])"
            ]
          },
          "metadata": {
            "tags": []
          },
          "execution_count": 47
        }
      ]
    },
    {
      "cell_type": "markdown",
      "metadata": {
        "id": "62Wt3AnohDMQ"
      },
      "source": [
        "Negative indices counts from the end of the array (positive index from the begining):"
      ]
    },
    {
      "cell_type": "code",
      "metadata": {
        "id": "CsN6ezzwhDMQ"
      },
      "source": [
        "A = array([1,2,3,4,5])"
      ],
      "execution_count": null,
      "outputs": []
    },
    {
      "cell_type": "code",
      "metadata": {
        "id": "AwRYCZ9lhDMQ",
        "outputId": "ea28dd0f-3f58-46a8-9437-14731cc89932"
      },
      "source": [
        "A[-1] # the last element in the array"
      ],
      "execution_count": null,
      "outputs": [
        {
          "output_type": "execute_result",
          "data": {
            "text/plain": [
              "5"
            ]
          },
          "metadata": {
            "tags": []
          },
          "execution_count": 49
        }
      ]
    },
    {
      "cell_type": "code",
      "metadata": {
        "id": "fNpfCjvChDMQ",
        "outputId": "760bbcfa-9268-44df-e246-d952aef8f405"
      },
      "source": [
        "A[-3:] # the last three elements"
      ],
      "execution_count": null,
      "outputs": [
        {
          "output_type": "execute_result",
          "data": {
            "text/plain": [
              "array([3, 4, 5])"
            ]
          },
          "metadata": {
            "tags": []
          },
          "execution_count": 50
        }
      ]
    },
    {
      "cell_type": "markdown",
      "metadata": {
        "id": "AuA6mQ_ahDMR"
      },
      "source": [
        "Index slicing works exactly the same way for multidimensional arrays:"
      ]
    },
    {
      "cell_type": "code",
      "metadata": {
        "id": "KTAtiz14hDMR",
        "outputId": "37073f97-b419-4925-b3ca-a635d0dc7042"
      },
      "source": [
        "A = array([[n+m*10 for n in range(5)] for m in range(5)]) # note nested list comprehension\n",
        "A"
      ],
      "execution_count": null,
      "outputs": [
        {
          "output_type": "execute_result",
          "data": {
            "text/plain": [
              "array([[ 0,  1,  2,  3,  4],\n",
              "       [10, 11, 12, 13, 14],\n",
              "       [20, 21, 22, 23, 24],\n",
              "       [30, 31, 32, 33, 34],\n",
              "       [40, 41, 42, 43, 44]])"
            ]
          },
          "metadata": {
            "tags": []
          },
          "execution_count": 51
        }
      ]
    },
    {
      "cell_type": "code",
      "metadata": {
        "id": "grNRPwfHhDMR",
        "outputId": "f2c43cd1-04e2-4b8f-f6af-f5b1fcecbb04"
      },
      "source": [
        "# a block from the original array\n",
        "A[1:4, 1:4]"
      ],
      "execution_count": null,
      "outputs": [
        {
          "output_type": "execute_result",
          "data": {
            "text/plain": [
              "array([[11, 12, 13],\n",
              "       [21, 22, 23],\n",
              "       [31, 32, 33]])"
            ]
          },
          "metadata": {
            "tags": []
          },
          "execution_count": 52
        }
      ]
    },
    {
      "cell_type": "code",
      "metadata": {
        "id": "jf9cAak_hDMS",
        "outputId": "19b8f626-a3af-4489-a28e-482c475107bb"
      },
      "source": [
        "# strides\n",
        "A[::2, ::2]"
      ],
      "execution_count": null,
      "outputs": [
        {
          "output_type": "execute_result",
          "data": {
            "text/plain": [
              "array([[ 0,  2,  4],\n",
              "       [20, 22, 24],\n",
              "       [40, 42, 44]])"
            ]
          },
          "metadata": {
            "tags": []
          },
          "execution_count": 53
        }
      ]
    },
    {
      "cell_type": "markdown",
      "metadata": {
        "id": "GLwXTexohDMS"
      },
      "source": [
        "### Fancy indexing"
      ]
    },
    {
      "cell_type": "markdown",
      "metadata": {
        "id": "09tepHYWhDMT"
      },
      "source": [
        "Fancy indexing is the name for when an array or list is used in-place of an index: "
      ]
    },
    {
      "cell_type": "code",
      "metadata": {
        "id": "DJ61rVNShDMT",
        "outputId": "1341ee14-2461-434c-fbf9-e5b6af09bfef"
      },
      "source": [
        "row_indices = [1, 2, 3]\n",
        "A[row_indices]"
      ],
      "execution_count": null,
      "outputs": [
        {
          "output_type": "execute_result",
          "data": {
            "text/plain": [
              "array([[10, 11, 12, 13, 14],\n",
              "       [20, 21, 22, 23, 24],\n",
              "       [30, 31, 32, 33, 34]])"
            ]
          },
          "metadata": {
            "tags": []
          },
          "execution_count": 54
        }
      ]
    },
    {
      "cell_type": "code",
      "metadata": {
        "id": "LnfVgbYOhDMT",
        "outputId": "bbee3dc5-6d8a-4dbd-aa6a-825dbc517bf1"
      },
      "source": [
        "col_indices = [1, 2, -1] # remember, index -1 means the last element\n",
        "A[row_indices, col_indices]"
      ],
      "execution_count": null,
      "outputs": [
        {
          "output_type": "execute_result",
          "data": {
            "text/plain": [
              "array([11, 22, 34])"
            ]
          },
          "metadata": {
            "tags": []
          },
          "execution_count": 55
        }
      ]
    },
    {
      "cell_type": "markdown",
      "metadata": {
        "id": "6G3AUklshDMU"
      },
      "source": [
        "We can also use index masks: If the index mask is an Numpy array of data type `bool`, then an element is selected (True) or not (False) depending on the value of the index mask at the position of each element: "
      ]
    },
    {
      "cell_type": "code",
      "metadata": {
        "id": "7TDLpMQUhDMU",
        "outputId": "9a08d19c-184c-4637-9a41-587cd5b1eb3e"
      },
      "source": [
        "B = array([n for n in range(5)])\n",
        "B"
      ],
      "execution_count": null,
      "outputs": [
        {
          "output_type": "execute_result",
          "data": {
            "text/plain": [
              "array([0, 1, 2, 3, 4])"
            ]
          },
          "metadata": {
            "tags": []
          },
          "execution_count": 56
        }
      ]
    },
    {
      "cell_type": "code",
      "metadata": {
        "id": "YfNDh7aihDMU",
        "outputId": "57414ff8-0358-410e-e161-168f866f1301"
      },
      "source": [
        "row_mask = array([True, False, True, False, False])\n",
        "B[row_mask]"
      ],
      "execution_count": null,
      "outputs": [
        {
          "output_type": "execute_result",
          "data": {
            "text/plain": [
              "array([0, 2])"
            ]
          },
          "metadata": {
            "tags": []
          },
          "execution_count": 57
        }
      ]
    },
    {
      "cell_type": "code",
      "metadata": {
        "id": "QCEz0WNohDMV",
        "outputId": "d905d478-7d65-4e76-d787-431efd524ed1"
      },
      "source": [
        "# same thing\n",
        "row_mask = array([1,0,1,0,0], dtype=bool)\n",
        "B[row_mask]"
      ],
      "execution_count": null,
      "outputs": [
        {
          "output_type": "execute_result",
          "data": {
            "text/plain": [
              "array([0, 2])"
            ]
          },
          "metadata": {
            "tags": []
          },
          "execution_count": 58
        }
      ]
    },
    {
      "cell_type": "markdown",
      "metadata": {
        "id": "-o5cnJQahDMV"
      },
      "source": [
        "This feature is very useful to conditionally select elements from an array, using for example comparison operators:"
      ]
    },
    {
      "cell_type": "code",
      "metadata": {
        "id": "PAKepkCmhDMV",
        "outputId": "2820f5f0-07a4-47d3-bb17-adf058ee8ad0"
      },
      "source": [
        "x = arange(0, 10, 0.5)\n",
        "x"
      ],
      "execution_count": null,
      "outputs": [
        {
          "output_type": "execute_result",
          "data": {
            "text/plain": [
              "array([0. , 0.5, 1. , 1.5, 2. , 2.5, 3. , 3.5, 4. , 4.5, 5. , 5.5, 6. ,\n",
              "       6.5, 7. , 7.5, 8. , 8.5, 9. , 9.5])"
            ]
          },
          "metadata": {
            "tags": []
          },
          "execution_count": 59
        }
      ]
    },
    {
      "cell_type": "markdown",
      "metadata": {
        "id": "mDPkSihThDMX"
      },
      "source": [
        "### bitwise opeartions with boolean arrays\n",
        "\n",
        "<table>\n",
        "  <tr>\n",
        "    <th>Operator</th>\n",
        "    <th>Function</th>\n",
        "    <th>Description</th>\n",
        "  </tr>\n",
        "  <tr>\n",
        "    <td><code>&amp;</code></td>\n",
        "    <td><code>bitwise_and(x1, x2)</code></td>\n",
        "    <td>Compute the bit-wise AND of two arrays element-wise.</td>\n",
        "  </tr>\n",
        "  <tr>\n",
        "    <td><code>|</code></td>\n",
        "    <td><code>bitwise_or(x1, x2)</code></td>\n",
        "    <td>Compute the bit-wise OR of two arrays element-wise.</td>\n",
        "  </tr>\n",
        "  <tr>\n",
        "    <td><code>^</code></td>\n",
        "    <td><code>bitwise_xor(x1, x2)</code></td>\n",
        "    <td>Compute the bit-wise XOR of two arrays element-wise.</td>\n",
        "  </tr>\n",
        "  <tr>\n",
        "    <td><code>~</code></td>\n",
        "    <td><code>invert(x)</code></td>\n",
        "    <td>Compute bit-wise inversion, or bit-wise NOT, element-wise.</td>\n",
        "  </tr>\n",
        "</table>"
      ]
    },
    {
      "cell_type": "code",
      "metadata": {
        "id": "-hFaMIlShDMY",
        "outputId": "69d01f6f-2286-4112-9cf6-f735bdf6abb0"
      },
      "source": [
        "mask = (5 < x) & (x <= 7)\n",
        "print(mask)\n",
        "print(x[mask])"
      ],
      "execution_count": null,
      "outputs": [
        {
          "output_type": "stream",
          "text": [
            "[False False False False False False False False False False False  True\n",
            "  True  True  True False False False False False]\n",
            "[5.5 6.  6.5 7. ]\n"
          ],
          "name": "stdout"
        }
      ]
    },
    {
      "cell_type": "code",
      "metadata": {
        "id": "vTV945dDhDMY",
        "outputId": "f1b87684-ed9e-454e-aa43-68253554f0d2"
      },
      "source": [
        "mask = (x < 4) | (x > 7)\n",
        "print(mask)\n",
        "print(x[mask])"
      ],
      "execution_count": null,
      "outputs": [
        {
          "output_type": "stream",
          "text": [
            "[ True  True  True  True  True  True  True  True False False False False\n",
            " False False False  True  True  True  True  True]\n",
            "[0.  0.5 1.  1.5 2.  2.5 3.  3.5 7.5 8.  8.5 9.  9.5]\n"
          ],
          "name": "stdout"
        }
      ]
    },
    {
      "cell_type": "markdown",
      "metadata": {
        "id": "dT3eQoOmhDMY"
      },
      "source": [
        "## Array math"
      ]
    },
    {
      "cell_type": "markdown",
      "metadata": {
        "id": "Wa6roxCHhDMZ"
      },
      "source": [
        "Basic mathematical functions operate elementwise on arrays, and are available both as operator overloads and as functions in the `numpy` module. Vectorizing code is the key to writing efficient numerical calculation with Python/Numpy. That means that as much as possible of a program should be formulated in terms of matrix and vector operations, like matrix-matrix multiplication."
      ]
    },
    {
      "cell_type": "markdown",
      "metadata": {
        "id": "SY3CvxQahDMZ"
      },
      "source": [
        "### Scalar-array operations"
      ]
    },
    {
      "cell_type": "markdown",
      "metadata": {
        "id": "iXA-MOqChDMZ"
      },
      "source": [
        "We can use the usual arithmetic operators to multiply, add, subtract, and divide arrays with scalar numbers."
      ]
    },
    {
      "cell_type": "code",
      "metadata": {
        "id": "Eoq-c9KEhDMa"
      },
      "source": [
        "v1 = arange(0, 5)"
      ],
      "execution_count": null,
      "outputs": []
    },
    {
      "cell_type": "code",
      "metadata": {
        "id": "emeostSrhDMa",
        "outputId": "8bca2317-399e-41ee-95a6-5ab96d771329"
      },
      "source": [
        "v1 * 2"
      ],
      "execution_count": null,
      "outputs": [
        {
          "output_type": "execute_result",
          "data": {
            "text/plain": [
              "array([0, 2, 4, 6, 8])"
            ]
          },
          "metadata": {
            "tags": []
          },
          "execution_count": 63
        }
      ]
    },
    {
      "cell_type": "code",
      "metadata": {
        "id": "TNZZiGBQhDMa",
        "outputId": "ebaa1c0c-2cf7-4146-9a4b-2b1a75a10ed4"
      },
      "source": [
        "v1 + 2"
      ],
      "execution_count": null,
      "outputs": [
        {
          "output_type": "execute_result",
          "data": {
            "text/plain": [
              "array([2, 3, 4, 5, 6])"
            ]
          },
          "metadata": {
            "tags": []
          },
          "execution_count": 64
        }
      ]
    },
    {
      "cell_type": "code",
      "metadata": {
        "id": "ogqp5D8KhDMb",
        "outputId": "84c00dfe-2543-40a1-99a4-0e74754f30e2"
      },
      "source": [
        "A * 2"
      ],
      "execution_count": null,
      "outputs": [
        {
          "output_type": "execute_result",
          "data": {
            "text/plain": [
              "array([[ 0,  2,  4,  6,  8],\n",
              "       [20, 22, 24, 26, 28],\n",
              "       [40, 42, 44, 46, 48],\n",
              "       [60, 62, 64, 66, 68],\n",
              "       [80, 82, 84, 86, 88]])"
            ]
          },
          "metadata": {
            "tags": []
          },
          "execution_count": 65
        }
      ]
    },
    {
      "cell_type": "code",
      "metadata": {
        "id": "JIzOHASXhDMb",
        "outputId": "df1ea145-6482-47cb-c342-70fc68ed7ee8"
      },
      "source": [
        "A + 2"
      ],
      "execution_count": null,
      "outputs": [
        {
          "output_type": "execute_result",
          "data": {
            "text/plain": [
              "array([[ 2,  3,  4,  5,  6],\n",
              "       [12, 13, 14, 15, 16],\n",
              "       [22, 23, 24, 25, 26],\n",
              "       [32, 33, 34, 35, 36],\n",
              "       [42, 43, 44, 45, 46]])"
            ]
          },
          "metadata": {
            "tags": []
          },
          "execution_count": 66
        }
      ]
    },
    {
      "cell_type": "code",
      "metadata": {
        "id": "ipuFgApghDMb",
        "outputId": "317f3729-d7e7-41a2-ad35-71ef5610cb66"
      },
      "source": [
        "A + A.T"
      ],
      "execution_count": null,
      "outputs": [
        {
          "output_type": "execute_result",
          "data": {
            "text/plain": [
              "array([[ 0, 11, 22, 33, 44],\n",
              "       [11, 22, 33, 44, 55],\n",
              "       [22, 33, 44, 55, 66],\n",
              "       [33, 44, 55, 66, 77],\n",
              "       [44, 55, 66, 77, 88]])"
            ]
          },
          "metadata": {
            "tags": []
          },
          "execution_count": 67
        }
      ]
    },
    {
      "cell_type": "markdown",
      "metadata": {
        "id": "9VxVP4K2hDMc"
      },
      "source": [
        "Above we have used the .T to transpose the matrix object v. We could also have used the transpose function to accomplish the same thing."
      ]
    },
    {
      "cell_type": "markdown",
      "metadata": {
        "id": "r5WxxiUuhDMc"
      },
      "source": [
        "### Element-wise array-array operations"
      ]
    },
    {
      "cell_type": "markdown",
      "metadata": {
        "id": "MU-LRwGthDMc"
      },
      "source": [
        "When we add, subtract, multiply and divide arrays with each other, the default behaviour is **element-wise** operations:"
      ]
    },
    {
      "cell_type": "code",
      "metadata": {
        "id": "nTS-ZICxhDMd",
        "outputId": "130eac1b-75a0-4cda-9e8d-3eb8add65664"
      },
      "source": [
        "A * A # element-wise multiplication"
      ],
      "execution_count": null,
      "outputs": [
        {
          "output_type": "execute_result",
          "data": {
            "text/plain": [
              "array([[   0,    1,    4,    9,   16],\n",
              "       [ 100,  121,  144,  169,  196],\n",
              "       [ 400,  441,  484,  529,  576],\n",
              "       [ 900,  961, 1024, 1089, 1156],\n",
              "       [1600, 1681, 1764, 1849, 1936]])"
            ]
          },
          "metadata": {
            "tags": []
          },
          "execution_count": 68
        }
      ]
    },
    {
      "cell_type": "code",
      "metadata": {
        "id": "1zxC-nKXhDMd",
        "outputId": "1a3792a0-c710-4cea-c398-fb1c704d0a41"
      },
      "source": [
        "v1 * v1"
      ],
      "execution_count": null,
      "outputs": [
        {
          "output_type": "execute_result",
          "data": {
            "text/plain": [
              "array([ 0,  1,  4,  9, 16])"
            ]
          },
          "metadata": {
            "tags": []
          },
          "execution_count": 69
        }
      ]
    },
    {
      "cell_type": "markdown",
      "metadata": {
        "id": "SIBZhELnhDMd"
      },
      "source": [
        "If we multiply arrays with compatible shapes, we get an element-wise multiplication of each row:"
      ]
    },
    {
      "cell_type": "code",
      "metadata": {
        "id": "6vjw-bMKhDMe",
        "outputId": "6163f382-43c8-47a2-93e8-8e93aeefd98b"
      },
      "source": [
        "A.shape, v1.shape"
      ],
      "execution_count": null,
      "outputs": [
        {
          "output_type": "execute_result",
          "data": {
            "text/plain": [
              "((5, 5), (5,))"
            ]
          },
          "metadata": {
            "tags": []
          },
          "execution_count": 70
        }
      ]
    },
    {
      "cell_type": "code",
      "metadata": {
        "id": "BVvnK9ifhDMe",
        "outputId": "e06dc3e1-a9e7-4c1d-9365-676ac942c9e0"
      },
      "source": [
        "A * v1"
      ],
      "execution_count": null,
      "outputs": [
        {
          "output_type": "execute_result",
          "data": {
            "text/plain": [
              "array([[  0,   1,   4,   9,  16],\n",
              "       [  0,  11,  24,  39,  56],\n",
              "       [  0,  21,  44,  69,  96],\n",
              "       [  0,  31,  64,  99, 136],\n",
              "       [  0,  41,  84, 129, 176]])"
            ]
          },
          "metadata": {
            "tags": []
          },
          "execution_count": 71
        }
      ]
    },
    {
      "cell_type": "markdown",
      "metadata": {
        "id": "mZCNPELthDMe"
      },
      "source": [
        "Numpy provides many useful functions for performing computations on arrays; one of the most useful is `sum`"
      ]
    },
    {
      "cell_type": "code",
      "metadata": {
        "id": "M6BX17O1hDMf",
        "outputId": "6205f834-c868-4a2f-85ec-87314623e51f"
      },
      "source": [
        "print(A)\n",
        "print('Sum of all elements:', sum(A))\n",
        "print('Sum of each column: ', sum(A, axis=0))\n",
        "print('Sum of each row:    ', sum(A, axis=1))"
      ],
      "execution_count": null,
      "outputs": [
        {
          "output_type": "stream",
          "text": [
            "[[ 0  1  2  3  4]\n",
            " [10 11 12 13 14]\n",
            " [20 21 22 23 24]\n",
            " [30 31 32 33 34]\n",
            " [40 41 42 43 44]]\n",
            "Sum of all elements: 550\n",
            "Sum of each column:  [100 105 110 115 120]\n",
            "Sum of each row:     [ 10  60 110 160 210]\n"
          ],
          "name": "stdout"
        }
      ]
    },
    {
      "cell_type": "markdown",
      "metadata": {
        "id": "titFKJWdhDMf"
      },
      "source": [
        "### Broadcasting\n",
        "Broadcasting is a powerful mechanism that allows numpy to work with arrays of different shapes when performing arithmetic operations. Frequently we have a smaller array and a larger array, and we want to use the smaller array multiple times to perform some operation on the larger array."
      ]
    },
    {
      "cell_type": "code",
      "metadata": {
        "id": "mTQG3e6UhDMg",
        "outputId": "fb21dd7d-5603-4829-a726-7e9a1856e044"
      },
      "source": [
        "x = array([[1,2,3], [4,5,6], [7,8,9], [10, 11, 12]])\n",
        "v = array([1, 0, 1])\n",
        "print(x)"
      ],
      "execution_count": null,
      "outputs": [
        {
          "output_type": "stream",
          "text": [
            "[[ 1  2  3]\n",
            " [ 4  5  6]\n",
            " [ 7  8  9]\n",
            " [10 11 12]]\n"
          ],
          "name": "stdout"
        }
      ]
    },
    {
      "cell_type": "code",
      "metadata": {
        "id": "YMKd1ouvhDMg",
        "outputId": "1156e0a7-9571-40e3-c555-ec000cd63c82"
      },
      "source": [
        "print(x + v)"
      ],
      "execution_count": null,
      "outputs": [
        {
          "output_type": "stream",
          "text": [
            "[[ 2  2  4]\n",
            " [ 5  5  7]\n",
            " [ 8  8 10]\n",
            " [11 11 13]]\n"
          ],
          "name": "stdout"
        }
      ]
    },
    {
      "cell_type": "markdown",
      "metadata": {
        "id": "ZPOK69AmhDMh"
      },
      "source": [
        "The `x + v` works even though `x` has shape `(4, 3)` and `v` has shape `(3,)` due to broadcasting; this line works as if `v` actually had shape `(4, 3)`, where each row was a copy of `v`, and the sum was performed elementwise. It is similar for other mathematical operations as well."
      ]
    },
    {
      "cell_type": "code",
      "metadata": {
        "id": "4089_7RthDMh",
        "outputId": "e81c5bc8-ab5b-459b-e091-186bda16ba2d"
      },
      "source": [
        "print(x * v)"
      ],
      "execution_count": null,
      "outputs": [
        {
          "output_type": "stream",
          "text": [
            "[[ 1  0  3]\n",
            " [ 4  0  6]\n",
            " [ 7  0  9]\n",
            " [10  0 12]]\n"
          ],
          "name": "stdout"
        }
      ]
    },
    {
      "cell_type": "markdown",
      "metadata": {
        "id": "GYCGA415hDMh"
      },
      "source": [
        "### Linear algebra"
      ]
    },
    {
      "cell_type": "markdown",
      "metadata": {
        "id": "sZ3yMERvhDMi"
      },
      "source": [
        "Note that unlike MATLAB, `*` is elementwise multiplication, not matrix multiplication. We instead use the `dot` function to compute inner products of vectors, to multiply a vector by a matrix, and to multiply matrices. `dot` is available both as a function in the numpy module and as an instance method of array objects."
      ]
    },
    {
      "cell_type": "code",
      "metadata": {
        "id": "emxzmhLchDMj",
        "outputId": "fb47da15-a6f0-49e2-c69b-a61069978053"
      },
      "source": [
        "dot(A, A)"
      ],
      "execution_count": null,
      "outputs": [
        {
          "output_type": "execute_result",
          "data": {
            "text/plain": [
              "array([[ 300,  310,  320,  330,  340],\n",
              "       [1300, 1360, 1420, 1480, 1540],\n",
              "       [2300, 2410, 2520, 2630, 2740],\n",
              "       [3300, 3460, 3620, 3780, 3940],\n",
              "       [4300, 4510, 4720, 4930, 5140]])"
            ]
          },
          "metadata": {
            "tags": []
          },
          "execution_count": 76
        }
      ]
    },
    {
      "cell_type": "code",
      "metadata": {
        "id": "vrS_ALDUhDMj",
        "outputId": "be971c53-d285-413a-c123-e539dd89f4be"
      },
      "source": [
        "dot(A, v1)"
      ],
      "execution_count": null,
      "outputs": [
        {
          "output_type": "execute_result",
          "data": {
            "text/plain": [
              "array([ 30, 130, 230, 330, 430])"
            ]
          },
          "metadata": {
            "tags": []
          },
          "execution_count": 77
        }
      ]
    },
    {
      "cell_type": "code",
      "metadata": {
        "id": "aqd-eq8ZhDMj",
        "outputId": "3bce138e-224e-481a-9891-205e33696936"
      },
      "source": [
        "A.dot(v1)"
      ],
      "execution_count": null,
      "outputs": [
        {
          "output_type": "execute_result",
          "data": {
            "text/plain": [
              "array([ 30, 130, 230, 330, 430])"
            ]
          },
          "metadata": {
            "tags": []
          },
          "execution_count": 78
        }
      ]
    },
    {
      "cell_type": "markdown",
      "metadata": {
        "id": "Tc77Lpx4hDMk"
      },
      "source": [
        "From **Python 3.5** there is new operator '@' for matrix multiplication and numpy has support for it."
      ]
    },
    {
      "cell_type": "code",
      "metadata": {
        "id": "rg_rjcZQhDMk",
        "outputId": "56b1aace-667a-4f99-d054-3b185a2c67dd"
      },
      "source": [
        "A @ v1"
      ],
      "execution_count": null,
      "outputs": [
        {
          "output_type": "execute_result",
          "data": {
            "text/plain": [
              "array([ 30, 130, 230, 330, 430])"
            ]
          },
          "metadata": {
            "tags": []
          },
          "execution_count": 79
        }
      ]
    },
    {
      "cell_type": "code",
      "metadata": {
        "id": "zxu4jEdAhDMk",
        "outputId": "2fd4bea7-346f-49c1-f940-27627a164c42"
      },
      "source": [
        "dot(v1,v1), v1.dot(v1), v1 @ v1"
      ],
      "execution_count": null,
      "outputs": [
        {
          "output_type": "execute_result",
          "data": {
            "text/plain": [
              "(30, 30, 30)"
            ]
          },
          "metadata": {
            "tags": []
          },
          "execution_count": 80
        }
      ]
    },
    {
      "cell_type": "markdown",
      "metadata": {
        "id": "8L9XiD_KhDMl"
      },
      "source": [
        "Alternatively, we can cast the array objects to the type `matrix`. This changes the behavior of the standard arithmetic operators `+, -, *` to use matrix algebra."
      ]
    },
    {
      "cell_type": "code",
      "metadata": {
        "id": "PqJIq_pPhDMl"
      },
      "source": [
        "M = matrix(A)\n",
        "v = matrix(v1).T # make it a column vector"
      ],
      "execution_count": null,
      "outputs": []
    },
    {
      "cell_type": "code",
      "metadata": {
        "id": "0TY8BkSmhDMm",
        "outputId": "b06627b2-7dea-46e7-9a6a-bbbf067f0a6b"
      },
      "source": [
        "v"
      ],
      "execution_count": null,
      "outputs": [
        {
          "output_type": "execute_result",
          "data": {
            "text/plain": [
              "matrix([[0],\n",
              "        [1],\n",
              "        [2],\n",
              "        [3],\n",
              "        [4]])"
            ]
          },
          "metadata": {
            "tags": []
          },
          "execution_count": 82
        }
      ]
    },
    {
      "cell_type": "code",
      "metadata": {
        "id": "nfMxjEjFhDMm",
        "outputId": "79211f45-db8e-4705-94d9-b95fd6027124"
      },
      "source": [
        "M * M"
      ],
      "execution_count": null,
      "outputs": [
        {
          "output_type": "execute_result",
          "data": {
            "text/plain": [
              "matrix([[ 300,  310,  320,  330,  340],\n",
              "        [1300, 1360, 1420, 1480, 1540],\n",
              "        [2300, 2410, 2520, 2630, 2740],\n",
              "        [3300, 3460, 3620, 3780, 3940],\n",
              "        [4300, 4510, 4720, 4930, 5140]])"
            ]
          },
          "metadata": {
            "tags": []
          },
          "execution_count": 83
        }
      ]
    },
    {
      "cell_type": "code",
      "metadata": {
        "id": "pRCdk5-8hDMn",
        "outputId": "65a38271-d67c-459b-e6ad-b7243e53b252"
      },
      "source": [
        "M * v"
      ],
      "execution_count": null,
      "outputs": [
        {
          "output_type": "execute_result",
          "data": {
            "text/plain": [
              "matrix([[ 30],\n",
              "        [130],\n",
              "        [230],\n",
              "        [330],\n",
              "        [430]])"
            ]
          },
          "metadata": {
            "tags": []
          },
          "execution_count": 84
        }
      ]
    },
    {
      "cell_type": "code",
      "metadata": {
        "id": "mTqOIEEVhDMn",
        "outputId": "c9a29e71-9708-4111-cefd-a891928c5063"
      },
      "source": [
        "# inner product\n",
        "v.T * v"
      ],
      "execution_count": null,
      "outputs": [
        {
          "output_type": "execute_result",
          "data": {
            "text/plain": [
              "matrix([[30]])"
            ]
          },
          "metadata": {
            "tags": []
          },
          "execution_count": 85
        }
      ]
    },
    {
      "cell_type": "code",
      "metadata": {
        "id": "7WD6sZXChDMr",
        "outputId": "cd42b321-6e59-472d-de18-872242b41003"
      },
      "source": [
        "# with matrix objects, standard matrix algebra applies\n",
        "v + M*v"
      ],
      "execution_count": null,
      "outputs": [
        {
          "output_type": "execute_result",
          "data": {
            "text/plain": [
              "matrix([[ 30],\n",
              "        [131],\n",
              "        [232],\n",
              "        [333],\n",
              "        [434]])"
            ]
          },
          "metadata": {
            "tags": []
          },
          "execution_count": 86
        }
      ]
    },
    {
      "cell_type": "markdown",
      "metadata": {
        "id": "9MlkWWLShDMs"
      },
      "source": [
        "If we try to add, subtract or multiply objects with incomplatible shapes we get an error:"
      ]
    },
    {
      "cell_type": "code",
      "metadata": {
        "id": "y7iJ989OhDMs"
      },
      "source": [
        "v = matrix([1,2,3,4,5,6]).T"
      ],
      "execution_count": null,
      "outputs": []
    },
    {
      "cell_type": "code",
      "metadata": {
        "id": "Cp1NnWpYhDMt",
        "outputId": "262854ca-7594-456e-f85e-b720874c5793"
      },
      "source": [
        "shape(M), shape(v)"
      ],
      "execution_count": null,
      "outputs": [
        {
          "output_type": "execute_result",
          "data": {
            "text/plain": [
              "((5, 5), (6, 1))"
            ]
          },
          "metadata": {
            "tags": []
          },
          "execution_count": 88
        }
      ]
    },
    {
      "cell_type": "code",
      "metadata": {
        "id": "ocqQpFmnhDMt",
        "outputId": "ee147da3-1c40-4a01-ffd5-cefc9f19d036"
      },
      "source": [
        "M * v"
      ],
      "execution_count": null,
      "outputs": [
        {
          "output_type": "error",
          "ename": "ValueError",
          "evalue": "shapes (5,5) and (6,1) not aligned: 5 (dim 1) != 6 (dim 0)",
          "traceback": [
            "\u001b[0;31m---------------------------------------------------------------------------\u001b[0m",
            "\u001b[0;31mValueError\u001b[0m                                Traceback (most recent call last)",
            "\u001b[0;32m<ipython-input-90-e8f88679fe45>\u001b[0m in \u001b[0;36m<module>\u001b[0;34m\u001b[0m\n\u001b[0;32m----> 1\u001b[0;31m \u001b[0mM\u001b[0m \u001b[0;34m*\u001b[0m \u001b[0mv\u001b[0m\u001b[0;34m\u001b[0m\u001b[0;34m\u001b[0m\u001b[0m\n\u001b[0m",
            "\u001b[0;32m~/miniconda3/lib/python3.7/site-packages/numpy/matrixlib/defmatrix.py\u001b[0m in \u001b[0;36m__mul__\u001b[0;34m(self, other)\u001b[0m\n\u001b[1;32m    218\u001b[0m         \u001b[0;32mif\u001b[0m \u001b[0misinstance\u001b[0m\u001b[0;34m(\u001b[0m\u001b[0mother\u001b[0m\u001b[0;34m,\u001b[0m \u001b[0;34m(\u001b[0m\u001b[0mN\u001b[0m\u001b[0;34m.\u001b[0m\u001b[0mndarray\u001b[0m\u001b[0;34m,\u001b[0m \u001b[0mlist\u001b[0m\u001b[0;34m,\u001b[0m \u001b[0mtuple\u001b[0m\u001b[0;34m)\u001b[0m\u001b[0;34m)\u001b[0m \u001b[0;34m:\u001b[0m\u001b[0;34m\u001b[0m\u001b[0;34m\u001b[0m\u001b[0m\n\u001b[1;32m    219\u001b[0m             \u001b[0;31m# This promotes 1-D vectors to row vectors\u001b[0m\u001b[0;34m\u001b[0m\u001b[0;34m\u001b[0m\u001b[0;34m\u001b[0m\u001b[0m\n\u001b[0;32m--> 220\u001b[0;31m             \u001b[0;32mreturn\u001b[0m \u001b[0mN\u001b[0m\u001b[0;34m.\u001b[0m\u001b[0mdot\u001b[0m\u001b[0;34m(\u001b[0m\u001b[0mself\u001b[0m\u001b[0;34m,\u001b[0m \u001b[0masmatrix\u001b[0m\u001b[0;34m(\u001b[0m\u001b[0mother\u001b[0m\u001b[0;34m)\u001b[0m\u001b[0;34m)\u001b[0m\u001b[0;34m\u001b[0m\u001b[0;34m\u001b[0m\u001b[0m\n\u001b[0m\u001b[1;32m    221\u001b[0m         \u001b[0;32mif\u001b[0m \u001b[0misscalar\u001b[0m\u001b[0;34m(\u001b[0m\u001b[0mother\u001b[0m\u001b[0;34m)\u001b[0m \u001b[0;32mor\u001b[0m \u001b[0;32mnot\u001b[0m \u001b[0mhasattr\u001b[0m\u001b[0;34m(\u001b[0m\u001b[0mother\u001b[0m\u001b[0;34m,\u001b[0m \u001b[0;34m'__rmul__'\u001b[0m\u001b[0;34m)\u001b[0m \u001b[0;34m:\u001b[0m\u001b[0;34m\u001b[0m\u001b[0;34m\u001b[0m\u001b[0m\n\u001b[1;32m    222\u001b[0m             \u001b[0;32mreturn\u001b[0m \u001b[0mN\u001b[0m\u001b[0;34m.\u001b[0m\u001b[0mdot\u001b[0m\u001b[0;34m(\u001b[0m\u001b[0mself\u001b[0m\u001b[0;34m,\u001b[0m \u001b[0mother\u001b[0m\u001b[0;34m)\u001b[0m\u001b[0;34m\u001b[0m\u001b[0;34m\u001b[0m\u001b[0m\n",
            "\u001b[0;32m<__array_function__ internals>\u001b[0m in \u001b[0;36mdot\u001b[0;34m(*args, **kwargs)\u001b[0m\n",
            "\u001b[0;31mValueError\u001b[0m: shapes (5,5) and (6,1) not aligned: 5 (dim 1) != 6 (dim 0)"
          ]
        }
      ]
    },
    {
      "cell_type": "markdown",
      "metadata": {
        "id": "nWxcZdO5hDMu"
      },
      "source": [
        "See also the related functions: `inner`, `outer`, `cross`, `kron`, `tensordot`. Try for example `help(kron)`."
      ]
    },
    {
      "cell_type": "markdown",
      "metadata": {
        "id": "X2Ykx1TBhDMu"
      },
      "source": [
        "### Matrix computations"
      ]
    },
    {
      "cell_type": "code",
      "metadata": {
        "id": "_OcniPVJhDMv"
      },
      "source": [
        "M = array([[1, 2], [3, 4]])"
      ],
      "execution_count": null,
      "outputs": []
    },
    {
      "cell_type": "markdown",
      "metadata": {
        "id": "SkvKnk7dhDMv"
      },
      "source": [
        "#### Inverse"
      ]
    },
    {
      "cell_type": "code",
      "metadata": {
        "id": "O0teHYPMhDMv",
        "outputId": "a45d99e6-4a09-429d-c927-6df6d1fc1447"
      },
      "source": [
        "inv(M) # equivalent to M.I when M is matrix"
      ],
      "execution_count": null,
      "outputs": [
        {
          "output_type": "error",
          "ename": "LinAlgError",
          "evalue": "Singular matrix",
          "traceback": [
            "\u001b[0;31m---------------------------------------------------------------------------\u001b[0m",
            "\u001b[0;31mLinAlgError\u001b[0m                               Traceback (most recent call last)",
            "\u001b[0;32m<ipython-input-91-c17ce4a2b5f1>\u001b[0m in \u001b[0;36m<module>\u001b[0;34m\u001b[0m\n\u001b[0;32m----> 1\u001b[0;31m \u001b[0minv\u001b[0m\u001b[0;34m(\u001b[0m\u001b[0mM\u001b[0m\u001b[0;34m)\u001b[0m \u001b[0;31m# equivalent to M.I when M is matrix\u001b[0m\u001b[0;34m\u001b[0m\u001b[0;34m\u001b[0m\u001b[0m\n\u001b[0m",
            "\u001b[0;32m<__array_function__ internals>\u001b[0m in \u001b[0;36minv\u001b[0;34m(*args, **kwargs)\u001b[0m\n",
            "\u001b[0;32m~/miniconda3/lib/python3.7/site-packages/numpy/linalg/linalg.py\u001b[0m in \u001b[0;36minv\u001b[0;34m(a)\u001b[0m\n\u001b[1;32m    549\u001b[0m     \u001b[0msignature\u001b[0m \u001b[0;34m=\u001b[0m \u001b[0;34m'D->D'\u001b[0m \u001b[0;32mif\u001b[0m \u001b[0misComplexType\u001b[0m\u001b[0;34m(\u001b[0m\u001b[0mt\u001b[0m\u001b[0;34m)\u001b[0m \u001b[0;32melse\u001b[0m \u001b[0;34m'd->d'\u001b[0m\u001b[0;34m\u001b[0m\u001b[0;34m\u001b[0m\u001b[0m\n\u001b[1;32m    550\u001b[0m     \u001b[0mextobj\u001b[0m \u001b[0;34m=\u001b[0m \u001b[0mget_linalg_error_extobj\u001b[0m\u001b[0;34m(\u001b[0m\u001b[0m_raise_linalgerror_singular\u001b[0m\u001b[0;34m)\u001b[0m\u001b[0;34m\u001b[0m\u001b[0;34m\u001b[0m\u001b[0m\n\u001b[0;32m--> 551\u001b[0;31m     \u001b[0mainv\u001b[0m \u001b[0;34m=\u001b[0m \u001b[0m_umath_linalg\u001b[0m\u001b[0;34m.\u001b[0m\u001b[0minv\u001b[0m\u001b[0;34m(\u001b[0m\u001b[0ma\u001b[0m\u001b[0;34m,\u001b[0m \u001b[0msignature\u001b[0m\u001b[0;34m=\u001b[0m\u001b[0msignature\u001b[0m\u001b[0;34m,\u001b[0m \u001b[0mextobj\u001b[0m\u001b[0;34m=\u001b[0m\u001b[0mextobj\u001b[0m\u001b[0;34m)\u001b[0m\u001b[0;34m\u001b[0m\u001b[0;34m\u001b[0m\u001b[0m\n\u001b[0m\u001b[1;32m    552\u001b[0m     \u001b[0;32mreturn\u001b[0m \u001b[0mwrap\u001b[0m\u001b[0;34m(\u001b[0m\u001b[0mainv\u001b[0m\u001b[0;34m.\u001b[0m\u001b[0mastype\u001b[0m\u001b[0;34m(\u001b[0m\u001b[0mresult_t\u001b[0m\u001b[0;34m,\u001b[0m \u001b[0mcopy\u001b[0m\u001b[0;34m=\u001b[0m\u001b[0;32mFalse\u001b[0m\u001b[0;34m)\u001b[0m\u001b[0;34m)\u001b[0m\u001b[0;34m\u001b[0m\u001b[0;34m\u001b[0m\u001b[0m\n\u001b[1;32m    553\u001b[0m \u001b[0;34m\u001b[0m\u001b[0m\n",
            "\u001b[0;32m~/miniconda3/lib/python3.7/site-packages/numpy/linalg/linalg.py\u001b[0m in \u001b[0;36m_raise_linalgerror_singular\u001b[0;34m(err, flag)\u001b[0m\n\u001b[1;32m     95\u001b[0m \u001b[0;34m\u001b[0m\u001b[0m\n\u001b[1;32m     96\u001b[0m \u001b[0;32mdef\u001b[0m \u001b[0m_raise_linalgerror_singular\u001b[0m\u001b[0;34m(\u001b[0m\u001b[0merr\u001b[0m\u001b[0;34m,\u001b[0m \u001b[0mflag\u001b[0m\u001b[0;34m)\u001b[0m\u001b[0;34m:\u001b[0m\u001b[0;34m\u001b[0m\u001b[0;34m\u001b[0m\u001b[0m\n\u001b[0;32m---> 97\u001b[0;31m     \u001b[0;32mraise\u001b[0m \u001b[0mLinAlgError\u001b[0m\u001b[0;34m(\u001b[0m\u001b[0;34m\"Singular matrix\"\u001b[0m\u001b[0;34m)\u001b[0m\u001b[0;34m\u001b[0m\u001b[0;34m\u001b[0m\u001b[0m\n\u001b[0m\u001b[1;32m     98\u001b[0m \u001b[0;34m\u001b[0m\u001b[0m\n\u001b[1;32m     99\u001b[0m \u001b[0;32mdef\u001b[0m \u001b[0m_raise_linalgerror_nonposdef\u001b[0m\u001b[0;34m(\u001b[0m\u001b[0merr\u001b[0m\u001b[0;34m,\u001b[0m \u001b[0mflag\u001b[0m\u001b[0;34m)\u001b[0m\u001b[0;34m:\u001b[0m\u001b[0;34m\u001b[0m\u001b[0;34m\u001b[0m\u001b[0m\n",
            "\u001b[0;31mLinAlgError\u001b[0m: Singular matrix"
          ]
        }
      ]
    },
    {
      "cell_type": "code",
      "metadata": {
        "id": "ohDnaK7ZhDMw"
      },
      "source": [
        "dot(inv(M), M)"
      ],
      "execution_count": null,
      "outputs": []
    },
    {
      "cell_type": "markdown",
      "metadata": {
        "id": "cjMihAtMhDMw"
      },
      "source": [
        "#### Determinant"
      ]
    },
    {
      "cell_type": "code",
      "metadata": {
        "id": "PdY8bO8nhDMx"
      },
      "source": [
        "det(M)"
      ],
      "execution_count": null,
      "outputs": []
    },
    {
      "cell_type": "code",
      "metadata": {
        "id": "97vc7a6ZhDMy"
      },
      "source": [
        "det(inv(M))"
      ],
      "execution_count": null,
      "outputs": []
    },
    {
      "cell_type": "markdown",
      "metadata": {
        "id": "LV-PtHW4hDMy"
      },
      "source": [
        "### Data processing"
      ]
    },
    {
      "cell_type": "markdown",
      "metadata": {
        "id": "UEFqWaBNhDMy"
      },
      "source": [
        "Often it is useful to store datasets in Numpy arrays. Numpy provides a number of functions to calculate statistics of datasets in arrays."
      ]
    },
    {
      "cell_type": "code",
      "metadata": {
        "id": "P_8U3YX1hDMz"
      },
      "source": [
        "d = arange(1, 11)\n",
        "d"
      ],
      "execution_count": null,
      "outputs": []
    },
    {
      "cell_type": "markdown",
      "metadata": {
        "id": "OoApMbRuhDMz"
      },
      "source": [
        "#### mean"
      ]
    },
    {
      "cell_type": "code",
      "metadata": {
        "id": "1JFK3hwFhDMz"
      },
      "source": [
        "d.mean(), mean(d)"
      ],
      "execution_count": null,
      "outputs": []
    },
    {
      "cell_type": "markdown",
      "metadata": {
        "id": "pyrDx8M5hDM0"
      },
      "source": [
        "#### standard deviations and variance"
      ]
    },
    {
      "cell_type": "code",
      "metadata": {
        "id": "Cuo7fVe1hDM0"
      },
      "source": [
        "d.std(), d.var(), std(d), var(d)"
      ],
      "execution_count": null,
      "outputs": []
    },
    {
      "cell_type": "markdown",
      "metadata": {
        "id": "Upuej6xXhDM0"
      },
      "source": [
        "#### min and max"
      ]
    },
    {
      "cell_type": "code",
      "metadata": {
        "id": "MG5BMJ6fhDM0"
      },
      "source": [
        "d.min(), min(d)"
      ],
      "execution_count": null,
      "outputs": []
    },
    {
      "cell_type": "code",
      "metadata": {
        "id": "IG-1R9GthDM1"
      },
      "source": [
        "d.max(), max(d)"
      ],
      "execution_count": null,
      "outputs": []
    },
    {
      "cell_type": "markdown",
      "metadata": {
        "id": "ZF3EfZjbhDM1"
      },
      "source": [
        "#### sum, prod, and trace"
      ]
    },
    {
      "cell_type": "code",
      "metadata": {
        "id": "Y20NvtGbhDM1"
      },
      "source": [
        "# sum up all elements\n",
        "d.sum(), sum(d)"
      ],
      "execution_count": null,
      "outputs": []
    },
    {
      "cell_type": "code",
      "metadata": {
        "id": "JauoqL8NhDM1"
      },
      "source": [
        "# product of all elements\n",
        "d.prod(), prod(d)"
      ],
      "execution_count": null,
      "outputs": []
    },
    {
      "cell_type": "code",
      "metadata": {
        "id": "KlrQjX-5hDM1"
      },
      "source": [
        "# cummulative sum\n",
        "d.cumsum(), cumsum(d)"
      ],
      "execution_count": null,
      "outputs": []
    },
    {
      "cell_type": "code",
      "metadata": {
        "id": "vcddIN9zhDM2"
      },
      "source": [
        "# cummulative product\n",
        "d. cumprod(), cumprod(d)"
      ],
      "execution_count": null,
      "outputs": []
    },
    {
      "cell_type": "code",
      "metadata": {
        "id": "CqRzGl2OhDM2"
      },
      "source": [
        "A"
      ],
      "execution_count": null,
      "outputs": []
    },
    {
      "cell_type": "code",
      "metadata": {
        "id": "z2NGa7d7hDM2"
      },
      "source": [
        "# same as: diag(A).sum()\n",
        "trace(A)"
      ],
      "execution_count": null,
      "outputs": []
    },
    {
      "cell_type": "markdown",
      "metadata": {
        "id": "WOkUclEuhDM2"
      },
      "source": [
        "### Calculations with higher-dimensional data"
      ]
    },
    {
      "cell_type": "markdown",
      "metadata": {
        "id": "3n8FEzfShDM3"
      },
      "source": [
        "When functions such as `min`, `max`, etc. are applied to a multidimensional arrays, it is sometimes useful to apply the calculation to the entire array, and sometimes only on a row or column basis. Using the `axis` argument we can specify how these functions should behave: "
      ]
    },
    {
      "cell_type": "code",
      "metadata": {
        "id": "r79OQOTIhDM3"
      },
      "source": [
        "M = rand(3,4)\n",
        "M"
      ],
      "execution_count": null,
      "outputs": []
    },
    {
      "cell_type": "code",
      "metadata": {
        "id": "r8OTjLBFhDM3"
      },
      "source": [
        "# global max\n",
        "M.max()"
      ],
      "execution_count": null,
      "outputs": []
    },
    {
      "cell_type": "code",
      "metadata": {
        "id": "PFyvIzEqhDM3"
      },
      "source": [
        "# max in each column\n",
        "M.max(axis=0)"
      ],
      "execution_count": null,
      "outputs": []
    },
    {
      "cell_type": "code",
      "metadata": {
        "id": "14mrxYC6hDM3"
      },
      "source": [
        "# max in each row\n",
        "M.max(axis=1)"
      ],
      "execution_count": null,
      "outputs": []
    },
    {
      "cell_type": "markdown",
      "metadata": {
        "id": "eLQVLoqthDM4"
      },
      "source": [
        "Many other functions and methods in the `array` and `matrix` classes accept the same (optional) `axis` keyword argument."
      ]
    },
    {
      "cell_type": "markdown",
      "metadata": {
        "id": "yJjOATYehDM4"
      },
      "source": [
        "## Reshaping, resizing and stacking arrays"
      ]
    },
    {
      "cell_type": "markdown",
      "metadata": {
        "id": "XFCXTS0yhDM4"
      },
      "source": [
        "The shape of an Numpy array can be modified without copying the underlaying data, which makes it a fast operation even for large arrays."
      ]
    },
    {
      "cell_type": "code",
      "metadata": {
        "id": "G0FRpsEshDM5"
      },
      "source": [
        "M"
      ],
      "execution_count": null,
      "outputs": []
    },
    {
      "cell_type": "code",
      "metadata": {
        "id": "2Y7BsUDJhDM5"
      },
      "source": [
        "M.shape"
      ],
      "execution_count": null,
      "outputs": []
    },
    {
      "cell_type": "code",
      "metadata": {
        "id": "PkHWzlE2hDM5"
      },
      "source": [
        "N = M.reshape((6, 2))\n",
        "N"
      ],
      "execution_count": null,
      "outputs": []
    },
    {
      "cell_type": "code",
      "metadata": {
        "id": "MyDHgKRQhDM5"
      },
      "source": [
        "O = M.reshape((1, 12))\n",
        "O"
      ],
      "execution_count": null,
      "outputs": []
    },
    {
      "cell_type": "code",
      "metadata": {
        "id": "1_4IrZ6AhDM6"
      },
      "source": [
        "N[0:2,:] = 1 # modify the array\n",
        "N"
      ],
      "execution_count": null,
      "outputs": []
    },
    {
      "cell_type": "code",
      "metadata": {
        "id": "0b26rFc8hDM6"
      },
      "source": [
        "M # and the original variable is also changed. B is only a different view of the same data"
      ],
      "execution_count": null,
      "outputs": []
    },
    {
      "cell_type": "code",
      "metadata": {
        "id": "flevmkQhhDM6"
      },
      "source": [
        "O"
      ],
      "execution_count": null,
      "outputs": []
    },
    {
      "cell_type": "markdown",
      "metadata": {
        "id": "P1lydrGthDM7"
      },
      "source": [
        "We can also use the function `flatten` to make a higher-dimensional array into a vector. But this function create a copy of the data."
      ]
    },
    {
      "cell_type": "code",
      "metadata": {
        "id": "OG00xr0uhDM8"
      },
      "source": [
        "F = M.flatten()\n",
        "F"
      ],
      "execution_count": null,
      "outputs": []
    },
    {
      "cell_type": "code",
      "metadata": {
        "id": "TZKTQHHjhDM9"
      },
      "source": [
        "F[0:5] = 0\n",
        "F"
      ],
      "execution_count": null,
      "outputs": []
    },
    {
      "cell_type": "code",
      "metadata": {
        "id": "Aulo2tjuhDM9"
      },
      "source": [
        "M # now M has not changed, because F's data is a copy of M's, not refering to the same data"
      ],
      "execution_count": null,
      "outputs": []
    },
    {
      "cell_type": "markdown",
      "metadata": {
        "id": "7v9KyhcfhDM9"
      },
      "source": [
        "## Stacking and repeating arrays"
      ]
    },
    {
      "cell_type": "markdown",
      "metadata": {
        "id": "sgCTgVI7hDM-"
      },
      "source": [
        "Using function `repeat`, `tile`, `vstack`, `hstack`, and `concatenate` we can create larger vectors and matrices from smaller ones:"
      ]
    },
    {
      "cell_type": "markdown",
      "metadata": {
        "id": "9Xi3iCI8hDM-"
      },
      "source": [
        "### tile and repeat"
      ]
    },
    {
      "cell_type": "code",
      "metadata": {
        "id": "wMrvjkTXhDM_"
      },
      "source": [
        "a = array([[1, 2], [3, 4]])"
      ],
      "execution_count": null,
      "outputs": []
    },
    {
      "cell_type": "code",
      "metadata": {
        "id": "lLB-dM0uhDM_"
      },
      "source": [
        "# repeat each element 3 times\n",
        "repeat(a, 3)"
      ],
      "execution_count": null,
      "outputs": []
    },
    {
      "cell_type": "code",
      "metadata": {
        "id": "L9JBdrsKhDNA"
      },
      "source": [
        "# tile the matrix 3 times \n",
        "tile(a, 3)"
      ],
      "execution_count": null,
      "outputs": []
    },
    {
      "cell_type": "markdown",
      "metadata": {
        "id": "QGacmNB9hDNA"
      },
      "source": [
        "### concatenate"
      ]
    },
    {
      "cell_type": "code",
      "metadata": {
        "id": "9-ueZ8vehDNB"
      },
      "source": [
        "b = array([[5, 6]])"
      ],
      "execution_count": null,
      "outputs": []
    },
    {
      "cell_type": "code",
      "metadata": {
        "id": "A0GWXPX-hDNB"
      },
      "source": [
        "concatenate((a, b), axis=0)"
      ],
      "execution_count": null,
      "outputs": []
    },
    {
      "cell_type": "code",
      "metadata": {
        "id": "dk-6TdgQhDNB"
      },
      "source": [
        "concatenate((a, b.T), axis=1)"
      ],
      "execution_count": null,
      "outputs": []
    },
    {
      "cell_type": "markdown",
      "metadata": {
        "id": "CciRFVvMhDNB"
      },
      "source": [
        "### hstack and vstack"
      ]
    },
    {
      "cell_type": "code",
      "metadata": {
        "id": "zxo4vk3RhDNB"
      },
      "source": [
        "vstack((a,b))"
      ],
      "execution_count": null,
      "outputs": []
    },
    {
      "cell_type": "code",
      "metadata": {
        "id": "CBIZJk6DhDND"
      },
      "source": [
        "hstack((a,b.T))"
      ],
      "execution_count": null,
      "outputs": []
    },
    {
      "cell_type": "markdown",
      "metadata": {
        "id": "OUVtzQcVhDND"
      },
      "source": [
        "## Linear equations"
      ]
    },
    {
      "cell_type": "markdown",
      "metadata": {
        "id": "jJeYNUaDhDND"
      },
      "source": [
        "System of linear equations like:\n",
        "$$\\begin{array}{rcl}x + 2y & = & 5\\\\3x + 4y & = & 7\\end{array}$$\n",
        "\n",
        "or\n",
        "\n",
        "$$\\begin{pmatrix}1 & 2\\\\3 & 4\\end{pmatrix}\\cdot\\begin{pmatrix}x \\\\ y\\end{pmatrix} = \\begin{pmatrix}5 \\\\ 7\\end{pmatrix}$$\n",
        "\n",
        "could be written in matrix form as $\\mathbf {Ax} = \\mathbf b$ and could be solved using numpy `solve`:"
      ]
    },
    {
      "cell_type": "code",
      "metadata": {
        "id": "qtQ0--lkhDND"
      },
      "source": [
        "A = array([[1, 2], [3, 4]])\n",
        "b = array([5,7])\n",
        "solve(A,b)"
      ],
      "execution_count": null,
      "outputs": []
    },
    {
      "cell_type": "markdown",
      "metadata": {
        "id": "adgM10V_hDNE"
      },
      "source": [
        "or"
      ]
    },
    {
      "cell_type": "code",
      "metadata": {
        "id": "oElp5BcdhDNE"
      },
      "source": [
        "dot(inv(A),b)"
      ],
      "execution_count": null,
      "outputs": []
    },
    {
      "cell_type": "markdown",
      "metadata": {
        "id": "4NVL14AzhDNE"
      },
      "source": [
        "## Copy and \"deep copy\""
      ]
    },
    {
      "cell_type": "markdown",
      "metadata": {
        "id": "2bbfQkplhDNE"
      },
      "source": [
        "To achieve high performance, assignments in Python usually do not copy the underlaying objects. This is important for example when objects are passed between functions, to avoid an excessive amount of memory copying when it is not necessary (technical term: pass by reference). "
      ]
    },
    {
      "cell_type": "code",
      "metadata": {
        "id": "iFzfr2RChDNE"
      },
      "source": [
        "# now B is referring to the same array data as A \n",
        "B = A "
      ],
      "execution_count": null,
      "outputs": []
    },
    {
      "cell_type": "code",
      "metadata": {
        "id": "LfA7qP3ohDNF"
      },
      "source": [
        "# changing B affects A\n",
        "B[0,0] = 10\n",
        "B"
      ],
      "execution_count": null,
      "outputs": []
    },
    {
      "cell_type": "code",
      "metadata": {
        "id": "W-PuoPvbhDNF"
      },
      "source": [
        "A"
      ],
      "execution_count": null,
      "outputs": []
    },
    {
      "cell_type": "markdown",
      "metadata": {
        "id": "QQR8bWQGhDNF"
      },
      "source": [
        "If we want to avoid this behavior, so that when we get a new completely independent object `B` copied from `A`, then we need to do a so-called \"deep copy\" using the function `copy`:"
      ]
    },
    {
      "cell_type": "code",
      "metadata": {
        "id": "7_k64_fzhDNF"
      },
      "source": [
        "B = copy(A)"
      ],
      "execution_count": null,
      "outputs": []
    },
    {
      "cell_type": "code",
      "metadata": {
        "id": "6CMS8ePfhDNG"
      },
      "source": [
        "# now, if we modify B, A is not affected\n",
        "B[0,0] = -5\n",
        "B"
      ],
      "execution_count": null,
      "outputs": []
    },
    {
      "cell_type": "code",
      "metadata": {
        "id": "QhhUcdQqhDNG"
      },
      "source": [
        "A"
      ],
      "execution_count": null,
      "outputs": []
    },
    {
      "cell_type": "markdown",
      "metadata": {
        "id": "K8-4mi5hhDNG"
      },
      "source": [
        "## Iterating over array elements"
      ]
    },
    {
      "cell_type": "markdown",
      "metadata": {
        "id": "QZbBs6RhhDNG"
      },
      "source": [
        "Generally, we want to avoid iterating over the elements of arrays whenever we can (at all costs). The reason is that in a interpreted language like Python (or MATLAB), iterations are really slow compared to vectorized operations. \n",
        "\n",
        "However, sometimes iterations are unavoidable. For such cases, the Python `for` loop is the most convenient way to iterate over an array:"
      ]
    },
    {
      "cell_type": "code",
      "metadata": {
        "id": "PqhwWsuShDNG"
      },
      "source": [
        "v = array([1,2,3,4])\n",
        "\n",
        "for element in v:\n",
        "    print(element)"
      ],
      "execution_count": null,
      "outputs": []
    },
    {
      "cell_type": "code",
      "metadata": {
        "id": "4rdqrElshDNH",
        "outputId": "37ca9b49-f15c-48ce-fbd7-b7e298734629"
      },
      "source": [
        "M = array([[1,2], [3,4]])\n",
        "\n",
        "for row in M:\n",
        "    print('Row', row)\n",
        "    \n",
        "    for element in row:\n",
        "        print('Element', element)"
      ],
      "execution_count": null,
      "outputs": [
        {
          "output_type": "stream",
          "text": [
            "Row [1 2]\n",
            "Element 1\n",
            "Element 2\n",
            "Row [3 4]\n",
            "Element 3\n",
            "Element 4\n"
          ],
          "name": "stdout"
        }
      ]
    },
    {
      "cell_type": "markdown",
      "metadata": {
        "id": "xa_2Xe7HhDNH"
      },
      "source": [
        "When we need to iterate over each element of an array and modify its elements, it is convenient to use the `enumerate` function to obtain both the element and its index in the `for` loop: "
      ]
    },
    {
      "cell_type": "code",
      "metadata": {
        "id": "ff4GCsLNhDNI",
        "outputId": "cf9aa225-394c-40ad-e497-fbeef99f10de"
      },
      "source": [
        "for row_idx, row in enumerate(M):\n",
        "    print(\"row_idx\", row_idx, \"row\", row)\n",
        "    \n",
        "    for col_idx, element in enumerate(row):\n",
        "        print(\"row_idx\", row_idx, \"col_idx\", col_idx, \"Element\", element)\n",
        "       \n",
        "        # update the matrix M: square each element\n",
        "        M[row_idx, col_idx] = element ** 2"
      ],
      "execution_count": null,
      "outputs": [
        {
          "output_type": "stream",
          "text": [
            "row_idx 0 row [1 2]\n",
            "row_idx 0 col_idx 0 Element 1\n",
            "row_idx 0 col_idx 1 Element 2\n",
            "row_idx 1 row [3 4]\n",
            "row_idx 1 col_idx 0 Element 3\n",
            "row_idx 1 col_idx 1 Element 4\n"
          ],
          "name": "stdout"
        }
      ]
    },
    {
      "cell_type": "code",
      "metadata": {
        "id": "QF6zo6MMhDNI",
        "outputId": "28c967dc-3c93-49fe-e7e3-a7111e070fad"
      },
      "source": [
        "# each element in M is now squared\n",
        "M"
      ],
      "execution_count": null,
      "outputs": [
        {
          "output_type": "execute_result",
          "data": {
            "text/plain": [
              "array([[ 1,  4],\n",
              "       [ 9, 16]])"
            ]
          },
          "metadata": {
            "tags": []
          },
          "execution_count": 94
        }
      ]
    },
    {
      "cell_type": "markdown",
      "metadata": {
        "id": "iWVN6bMxhDNJ"
      },
      "source": [
        "## Using arrays in conditions"
      ]
    },
    {
      "cell_type": "markdown",
      "metadata": {
        "id": "pgechcAYhDNJ"
      },
      "source": [
        "When using arrays in conditions,for example `if` statements and other boolean expressions, one needs to use `any` or `all`, which requires that any or all elements in the array evalutes to `True`:"
      ]
    },
    {
      "cell_type": "code",
      "metadata": {
        "id": "4_lrl1E2hDNK",
        "outputId": "d72a9aaa-71f1-455e-cd1c-4bd7be808ab9"
      },
      "source": [
        "M"
      ],
      "execution_count": null,
      "outputs": [
        {
          "output_type": "execute_result",
          "data": {
            "text/plain": [
              "array([[ 1,  4],\n",
              "       [ 9, 16]])"
            ]
          },
          "metadata": {
            "tags": []
          },
          "execution_count": 95
        }
      ]
    },
    {
      "cell_type": "code",
      "metadata": {
        "id": "5o3xv8CQhDNK",
        "outputId": "ee5a6ac1-4f0f-4916-d9c7-6c02eef5a7a7"
      },
      "source": [
        "if (M > 5).any():\n",
        "    print(\"at least one element in M is larger than 5\")\n",
        "else:\n",
        "    print(\"no element in M is larger than 5\")"
      ],
      "execution_count": null,
      "outputs": [
        {
          "output_type": "stream",
          "text": [
            "at least one element in M is larger than 5\n"
          ],
          "name": "stdout"
        }
      ]
    },
    {
      "cell_type": "code",
      "metadata": {
        "id": "xP9QjioWhDNK",
        "outputId": "66158e71-c415-46bb-efee-6a8626f4a276"
      },
      "source": [
        "if (M > 5).all():\n",
        "    print(\"all elements in M are larger than 5\")\n",
        "else:\n",
        "    print(\"all elements in M are not larger than 5\")"
      ],
      "execution_count": null,
      "outputs": [
        {
          "output_type": "stream",
          "text": [
            "all elements in M are not larger than 5\n"
          ],
          "name": "stdout"
        }
      ]
    },
    {
      "cell_type": "markdown",
      "metadata": {
        "id": "4wqH-CN8hDNL"
      },
      "source": [
        "## File I/O\n",
        "\n",
        "For all possibilities check documentation on [Input and output](https://docs.scipy.org/doc/numpy/reference/routines.io.html)."
      ]
    },
    {
      "cell_type": "markdown",
      "metadata": {
        "id": "vwZ01BN7hDNL"
      },
      "source": [
        "### Comma-separated values (CSV)\n",
        "A very common file format for data files is comma-separated values (CSV), or related formats such as TSV (tab-separated values). To read data from such files into Numpy arrays we can use the `numpy.loadtxt` function. For example we will read historical temperature data measured at Prague Clementinum. Here is how file looks like:"
      ]
    },
    {
      "cell_type": "code",
      "metadata": {
        "colab": {
          "base_uri": "https://localhost:8080/"
        },
        "id": "3uCYFz2kzGR6",
        "outputId": "1dace5ea-4360-4ce3-a3ca-ed9c04b03b9b"
      },
      "source": [
        "!wget https://raw.githubusercontent.com/serivan/mldmlab/master/Python-Introduction/Datasets/clementinum.csv"
      ],
      "execution_count": 19,
      "outputs": [
        {
          "output_type": "stream",
          "text": [
            "--2021-03-12 10:37:46--  https://raw.githubusercontent.com/serivan/mldmlab/master/Python-Introduction/Datasets/clementinum.csv\n",
            "Resolving raw.githubusercontent.com (raw.githubusercontent.com)... 185.199.108.133, 185.199.110.133, 185.199.109.133, ...\n",
            "Connecting to raw.githubusercontent.com (raw.githubusercontent.com)|185.199.108.133|:443... connected.\n",
            "HTTP request sent, awaiting response... 200 OK\n",
            "Length: 447674 (437K) [text/plain]\n",
            "Saving to: ‘clementinum.csv’\n",
            "\n",
            "\rclementinum.csv       0%[                    ]       0  --.-KB/s               \rclementinum.csv     100%[===================>] 437.18K  --.-KB/s    in 0.05s   \n",
            "\n",
            "2021-03-12 10:37:46 (8.13 MB/s) - ‘clementinum.csv’ saved [447674/447674]\n",
            "\n"
          ],
          "name": "stdout"
        }
      ]
    },
    {
      "cell_type": "code",
      "metadata": {
        "colab": {
          "base_uri": "https://localhost:8080/"
        },
        "id": "3iQwuCXVhDNL",
        "outputId": "9b034fd2-0b8a-4f92-aa18-d78821957f47"
      },
      "source": [
        "!head clementinum.csv"
      ],
      "execution_count": 20,
      "outputs": [
        {
          "output_type": "stream",
          "text": [
            "year,month,day,avg,max,min,prec\n",
            "1972,1,1,0.6,2.8,-0.3,0.0\n",
            "1972,1,2,1.6,2.5,-1.4,0.0\n",
            "1972,1,3,3.5,4.0,2.3,0.0\n",
            "1972,1,4,4.0,4.8,2.9,0.2\n",
            "1972,1,5,2.2,3.6,1.3,3.0\n",
            "1972,1,6,0.5,2.3,-1.2,0.0\n",
            "1972,1,7,1.7,2.3,0.8,0.6\n",
            "1972,1,8,1.2,1.8,0.0,1.1\n",
            "1972,1,9,1.7,2.2,0.2,0.0\n"
          ],
          "name": "stdout"
        }
      ]
    },
    {
      "cell_type": "code",
      "metadata": {
        "id": "GlPECSuahDNM"
      },
      "source": [
        "# read CSV file, skip one row with headings\n",
        "data = loadtxt('clementinum.csv', skiprows=1, delimiter=',')\n",
        "savetxt('out.csv', data, delimiter=',')"
      ],
      "execution_count": 21,
      "outputs": []
    },
    {
      "cell_type": "code",
      "metadata": {
        "id": "l_FJPVpyhDNM",
        "outputId": "d6274f87-db56-4701-e35e-0b739d6278c5"
      },
      "source": [
        "data.shape"
      ],
      "execution_count": null,
      "outputs": [
        {
          "output_type": "execute_result",
          "data": {
            "text/plain": [
              "(16071, 7)"
            ]
          },
          "metadata": {
            "tags": []
          },
          "execution_count": 100
        }
      ]
    },
    {
      "cell_type": "markdown",
      "metadata": {
        "id": "PTsy09KDhDNN"
      },
      "source": [
        "Let's calculate some properties from the Prague temperature dataset used above."
      ]
    },
    {
      "cell_type": "code",
      "metadata": {
        "id": "KB2ZIUjXhDNN",
        "outputId": "4128f75d-9714-4ba7-b4d2-25c2fa2468af"
      },
      "source": [
        "# Prague temperature over the last 43 years\n",
        "# the average temperature data is in column 3, max in column 4 a min in column 5\n",
        "print('The daily mean temperature has been {:.2f}°C.'.format(data[:,3].mean()))\n",
        "print('The highest daily average temperature has been {:.2f}°C.'.format(data[:,3].max()))\n",
        "print('The highest measured temperature has been {:.2f}°C.'.format(data[:,4].max()))\n",
        "print('The lowest daily average temperature has been {:.2f}°C.'.format(data[:,3].min()))\n",
        "print('The lowest measured temperature has been {:.2f}°C.'.format(data[:,5].min()))"
      ],
      "execution_count": null,
      "outputs": [
        {
          "output_type": "stream",
          "text": [
            "The daily mean temperature has been 10.77°C.\n",
            "The highest daily average temperature has been 31.00°C.\n",
            "The highest measured temperature has been 37.80°C.\n",
            "The lowest daily average temperature has been -18.00°C.\n",
            "The lowest measured temperature has been -20.20°C.\n"
          ],
          "name": "stdout"
        }
      ]
    }
  ]
}