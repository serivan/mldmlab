{
 "cells": [
  {
   "cell_type": "markdown",
   "metadata": {
    "colab_type": "text",
    "id": "view-in-github"
   },
   "source": [
    "<a href=\"https://colab.research.google.com/github/serivan/mldmlab/blob/master/HANDSON-ML/KNN_code.ipynb\" target=\"_parent\"><img src=\"https://colab.research.google.com/assets/colab-badge.svg\" alt=\"Open In Colab\"/></a>"
   ]
  },
  {
   "cell_type": "markdown",
   "metadata": {
    "id": "jtoWY4kA7g-n"
   },
   "source": [
    "#Pseudo Code of KNN"
   ]
  },
  {
   "cell_type": "markdown",
   "metadata": {
    "id": "qGojnqQq7wIW"
   },
   "source": [
    "We can implement a KNN model by following the below steps:\n",
    "\n",
    "1. Load the data\n",
    "\n",
    "2. Initialise the value of k\n",
    "\n",
    "3. For getting the predicted class, iterate from 1 to total number of training data points:\n",
    "> Calculate the distance between test data and each row of training data. \n",
    "> Here we will use Euclidean distance as our distance metric since it’s the most popular method. The other metrics that can be used are Chebyshev, cosine, etc.\n",
    "\n",
    "\n",
    "\n",
    "4. Sort the calculated distances in ascending order based on distance values\n",
    "\n",
    "5. Get top k rows from the sorted array\n",
    "\n",
    "6. Get the most frequent class of these rows\n",
    "\n",
    "7. Return the predicted class\n",
    "\n",
    "> Indented block\n",
    "\n"
   ]
  },
  {
   "cell_type": "code",
   "execution_count": 2,
   "metadata": {
    "colab": {
     "base_uri": "https://localhost:8080/"
    },
    "id": "6bb0zGV2AZiU",
    "outputId": "9eecb1cb-9fda-4e4e-e451-da96f8526c7f"
   },
   "outputs": [
    {
     "name": "stdout",
     "output_type": "stream",
     "text": [
      "   sepal length (cm)  sepal width (cm)  ...  petal width (cm)  target\n",
      "0                5.1               3.5  ...               0.2     0.0\n",
      "1                4.9               3.0  ...               0.2     0.0\n",
      "2                4.7               3.2  ...               0.2     0.0\n",
      "3                4.6               3.1  ...               0.2     0.0\n",
      "4                5.0               3.6  ...               0.2     0.0\n",
      "\n",
      "[5 rows x 5 columns]\n"
     ]
    }
   ],
   "source": [
    "# Importing libraries\n",
    "import pandas as pd\n",
    "import numpy as np\n",
    "import math\n",
    "import operator\n",
    "from sklearn import datasets\n",
    "\n",
    "#### Start of STEP 1\n",
    "# Importing data \n",
    "iris = datasets.load_iris()\n",
    "\n",
    "data = pd.DataFrame(data= np.c_[iris['data'], iris['target']],\n",
    "                     columns= iris['feature_names'] + ['target'])\n",
    "#### End of STEP 1\n",
    "\n",
    "print(data.head(5)) \n"
   ]
  },
  {
   "cell_type": "code",
   "execution_count": null,
   "metadata": {
    "id": "TfIqumr1QJwK"
   },
   "outputs": [],
   "source": [
    "# Defining a function which calculates euclidean distance between two data points\n",
    "def euclideanDistance(data1, data2, length):\n",
    "    distance = 0\n",
    "    for x in range(length):\n",
    "        #TODO\n",
    "        distance += \n",
    "    return np.sqrt(distance)"
   ]
  },
  {
   "cell_type": "code",
   "execution_count": null,
   "metadata": {
    "id": "s2tXuhMnQRqb"
   },
   "outputs": [],
   "source": [
    "# Defining our KNN model\n",
    "def knn(trainingSet, testInstance, k):\n",
    " \n",
    "    distances = {}\n",
    "    sort = {}\n",
    " \n",
    "    length = testInstance.shape[1]\n",
    "    \n",
    "    #### Start of STEP 3\n",
    "    # Calculating euclidean distance between each row of training data and test data\n",
    "    for x in range(len(trainingSet)):\n",
    "        \n",
    "        #### Start of STEP 3.1\n",
    "        #TODO: execute euclideanDistance\n",
    "        dist = \n",
    "        distances[x] = \n",
    "        #### End of STEP 3.1\n",
    " \n",
    "    #### Start of STEP 4\n",
    "    # Sorting them on the basis of distance\n",
    "    sorted_d = sorted(distances.items(), key=operator.itemgetter(1))\n",
    "    #### End of STEP 4\n",
    " \n",
    "    neighbors = []\n",
    "    \n",
    "    #### Start of STEP 5\n",
    "    # Extracting top k neighbors\n",
    "    for x in range(k):\n",
    "        #TODO\n",
    "        #Append firt k  elements to neighbors\n",
    "    #### End of STEP 5\n",
    "    classVotes = {}\n",
    "    \n",
    "    #### Start of STEP 6\n",
    "    # Calculating the most freq class in the neighbors\n",
    "    for x in range(len(neighbors)):\n",
    "        #TODO: identify the class of x\n",
    "        response = trainingSet.iloc[neighbors[x]][-1]\n",
    " \n",
    "        #TODO: Update the corresponding class score\n",
    "        if response in classVotes:\n",
    "            classVotes[response] =\n",
    "        else:\n",
    "            classVotes[response] = \n",
    "    #### End of STEP 6\n",
    "\n",
    "    #### Start of STEP 7\n",
    "    sortedVotes = sorted(classVotes.items(), key=operator.itemgetter(1), reverse=True)\n",
    "    return(sortedVotes[0][0], neighbors)\n",
    "    #### End of STEP 7\n"
   ]
  },
  {
   "cell_type": "markdown",
   "metadata": {
    "id": "LzFSPq4_DOI5"
   },
   "source": [
    "Now you ca use the classifier"
   ]
  },
  {
   "cell_type": "code",
   "execution_count": 5,
   "metadata": {
    "colab": {
     "base_uri": "https://localhost:8080/",
     "height": 313
    },
    "id": "JSd6hPdrRcAp",
    "outputId": "4749ee9f-a55c-4ad2-a570-8d79cc27faff"
   },
   "outputs": [
    {
     "name": "stdout",
     "output_type": "stream",
     "text": [
      "\n",
      "\n",
      "With 1 Nearest Neighbour \n",
      "\n",
      "\n"
     ]
    },
    {
     "ename": "NameError",
     "evalue": "ignored",
     "output_type": "error",
     "traceback": [
      "\u001b[0;31m---------------------------------------------------------------------------\u001b[0m",
      "\u001b[0;31mNameError\u001b[0m                                 Traceback (most recent call last)",
      "\u001b[0;32m<ipython-input-5-984f53ad0414>\u001b[0m in \u001b[0;36m<module>\u001b[0;34m()\u001b[0m\n\u001b[1;32m     10\u001b[0m \u001b[0;31m#### End of STEP 2\u001b[0m\u001b[0;34m\u001b[0m\u001b[0;34m\u001b[0m\u001b[0;34m\u001b[0m\u001b[0m\n\u001b[1;32m     11\u001b[0m \u001b[0;31m# Running KNN model\u001b[0m\u001b[0;34m\u001b[0m\u001b[0;34m\u001b[0m\u001b[0;34m\u001b[0m\u001b[0m\n\u001b[0;32m---> 12\u001b[0;31m \u001b[0mresult\u001b[0m\u001b[0;34m,\u001b[0m\u001b[0mneigh\u001b[0m \u001b[0;34m=\u001b[0m \u001b[0mknn\u001b[0m\u001b[0;34m(\u001b[0m\u001b[0mdata\u001b[0m\u001b[0;34m,\u001b[0m \u001b[0mtest\u001b[0m\u001b[0;34m,\u001b[0m \u001b[0mk\u001b[0m\u001b[0;34m)\u001b[0m\u001b[0;34m\u001b[0m\u001b[0;34m\u001b[0m\u001b[0m\n\u001b[0m\u001b[1;32m     13\u001b[0m \u001b[0;34m\u001b[0m\u001b[0m\n\u001b[1;32m     14\u001b[0m \u001b[0;31m# Predicted class\u001b[0m\u001b[0;34m\u001b[0m\u001b[0;34m\u001b[0m\u001b[0;34m\u001b[0m\u001b[0m\n",
      "\u001b[0;31mNameError\u001b[0m: name 'knn' is not defined"
     ]
    }
   ],
   "source": [
    "testSet = [[7.2, 3.6, 5.1, 2.5]]\n",
    "test = pd.DataFrame(testSet)\n",
    "\n",
    "#### Start of STEP 2\n",
    "# Setting number of neighbors = 1\n",
    "\n",
    "\n",
    "print('\\n\\nWith 1 Nearest Neighbour \\n\\n')\n",
    "k = 1\n",
    "#### End of STEP 2\n",
    "# Running KNN model\n",
    "result,neigh = knn(data, test, k)\n",
    "\n",
    "# Predicted class\n",
    "print('\\nPredicted Class of the datapoint = ', result)\n",
    "\n",
    "# Nearest neighbor\n",
    "print('\\nNearest Neighbour of the datapoints = ',neigh)\n",
    "\n",
    "\n",
    "print('\\n\\nWith 3 Nearest Neighbours\\n\\n')\n",
    "# Setting number of neighbors = 3 \n",
    "k = 3 \n",
    "# Running KNN model \n",
    "result,neigh = knn(data, test, k) \n",
    "\n",
    "# Predicted class \n",
    "print('\\nPredicted class of the datapoint = ',result)\n",
    "\n",
    "# Nearest neighbor\n",
    "print('\\nNearest Neighbours of the datapoints = ',neigh)\n",
    "\n",
    "print('\\n\\nWith 5 Nearest Neighbours\\n\\n')\n",
    "# Setting number of neighbors = 3 \n",
    "k = 5\n",
    "# Running KNN model \n",
    "result,neigh = knn(data, test, k) \n",
    "\n",
    "# Predicted class \n",
    "print('\\nPredicted class of the datapoint = ',result)\n",
    "\n",
    "# Nearest neighbor\n",
    "print('\\nNearest Neighbours of the datapoints = ',neigh)"
   ]
  },
  {
   "cell_type": "markdown",
   "metadata": {
    "id": "tbr4N8HNQWyf"
   },
   "source": [
    "## Let's try the SK learn version\n"
   ]
  },
  {
   "cell_type": "code",
   "execution_count": 6,
   "metadata": {
    "colab": {
     "base_uri": "https://localhost:8080/"
    },
    "id": "eApAzbCdDAr4",
    "outputId": "f5d35dc9-0c95-4e81-b64c-77798e442326"
   },
   "outputs": [
    {
     "name": "stdout",
     "output_type": "stream",
     "text": [
      "[2.]\n",
      "[[141 139 120]]\n"
     ]
    }
   ],
   "source": [
    "from sklearn.neighbors import KNeighborsClassifier\n",
    "neigh = KNeighborsClassifier(n_neighbors=3,algorithm='kd_tree',leaf_size=5)\n",
    "neigh.fit(data.iloc[:,0:4], data['target'])\n",
    "\n",
    "# Predicted class\n",
    "print(neigh.predict(test))\n",
    "\n",
    "# 3 nearest neighbors\n",
    "print(neigh.kneighbors(test)[1])"
   ]
  }
 ],
 "metadata": {
  "colab": {
   "authorship_tag": "ABX9TyNpmwRharMgx1V7V8oeBqLZ",
   "include_colab_link": true,
   "name": "KNN-code.ipynb",
   "provenance": []
  },
  "kernelspec": {
   "display_name": "Python 3",
   "language": "python",
   "name": "python3"
  },
  "language_info": {
   "codemirror_mode": {
    "name": "ipython",
    "version": 3
   },
   "file_extension": ".py",
   "mimetype": "text/x-python",
   "name": "python",
   "nbconvert_exporter": "python",
   "pygments_lexer": "ipython3",
   "version": "3.8.12"
  }
 },
 "nbformat": 4,
 "nbformat_minor": 1
}
