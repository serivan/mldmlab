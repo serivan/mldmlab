{
  "nbformat": 4,
  "nbformat_minor": 0,
  "metadata": {
    "kernelspec": {
      "display_name": "Python 3",
      "language": "python",
      "name": "python3"
    },
    "language_info": {
      "codemirror_mode": {
        "name": "ipython",
        "version": 3
      },
      "file_extension": ".py",
      "mimetype": "text/x-python",
      "name": "python",
      "nbconvert_exporter": "python",
      "pygments_lexer": "ipython3",
      "version": "3.6.7"
    },
    "colab": {
      "name": "Regression.ipynb",
      "provenance": [],
      "include_colab_link": true
    }
  },
  "cells": [
    {
      "cell_type": "markdown",
      "metadata": {
        "id": "view-in-github",
        "colab_type": "text"
      },
      "source": [
        "<a href=\"https://colab.research.google.com/github/serivan/mldmlab/blob/master/Regression.ipynb\" target=\"_parent\"><img src=\"https://colab.research.google.com/assets/colab-badge.svg\" alt=\"Open In Colab\"/></a>"
      ]
    },
    {
      "cell_type": "markdown",
      "metadata": {
        "id": "YWy8WTV8HP5b"
      },
      "source": [
        "# Regression"
      ]
    },
    {
      "cell_type": "markdown",
      "metadata": {
        "id": "mpkcwhgHHP5l"
      },
      "source": [
        "## Import libraries\n",
        "\n",
        "Required libraries are : \n",
        " - pandas \n",
        " - scikitlearn \n",
        " - pyplot\n",
        " - seaborn \n",
        " - xgboost"
      ]
    },
    {
      "cell_type": "code",
      "metadata": {
        "id": "P052MhpCHP5o"
      },
      "source": [
        "import pandas as pd\n",
        "from sklearn.datasets import load_boston\n",
        "import seaborn as sns\n",
        "import numpy as np\n",
        "import matplotlib.pyplot as plt\n",
        "from sklearn.preprocessing import StandardScaler, MinMaxScaler\n",
        "from sklearn.linear_model import LinearRegression\n",
        "from sklearn.model_selection import train_test_split, cross_val_score\n",
        "from sklearn.pipeline import make_pipeline\n",
        "from sklearn.metrics import mean_absolute_error, mean_squared_error, confusion_matrix\n",
        "from sklearn.base import TransformerMixin, RegressorMixin\n",
        "from sklearn.ensemble import RandomForestRegressor, ExtraTreesRegressor\n",
        "from xgboost import XGBRegressor"
      ],
      "execution_count": null,
      "outputs": []
    },
    {
      "cell_type": "code",
      "metadata": {
        "id": "7c9Sk5r8HP5r"
      },
      "source": [
        "sns.set(rc={'figure.figsize':(11.7,8.27)})"
      ],
      "execution_count": null,
      "outputs": []
    },
    {
      "cell_type": "markdown",
      "metadata": {
        "id": "8bjL-piDHP5s"
      },
      "source": [
        "## Import dataset\n",
        "\n",
        "This is a test dataset from sklearn. It contains informations about vaious houses in Boston through different parameters. "
      ]
    },
    {
      "cell_type": "code",
      "metadata": {
        "id": "x7lr5kQ1HP5t"
      },
      "source": [
        "boston = load_boston()"
      ],
      "execution_count": null,
      "outputs": []
    },
    {
      "cell_type": "code",
      "metadata": {
        "id": "lkwkzH55HP5v"
      },
      "source": [
        "print(boston.keys())"
      ],
      "execution_count": null,
      "outputs": []
    },
    {
      "cell_type": "code",
      "metadata": {
        "id": "kdSLPJFTHP5w"
      },
      "source": [
        "print(boston.DESCR)"
      ],
      "execution_count": null,
      "outputs": []
    },
    {
      "cell_type": "code",
      "metadata": {
        "id": "Fp0NJR4UHP5x"
      },
      "source": [
        "df = pd.DataFrame(boston.data, columns = boston.feature_names)\n",
        "df['PRICE'] = boston.target"
      ],
      "execution_count": null,
      "outputs": []
    },
    {
      "cell_type": "code",
      "metadata": {
        "id": "Vy9ouKg1HP5z"
      },
      "source": [
        "display(df)"
      ],
      "execution_count": null,
      "outputs": []
    },
    {
      "cell_type": "markdown",
      "metadata": {
        "id": "aJtR9rIZHP50"
      },
      "source": [
        "## Dataset preprocessing\n"
      ]
    },
    {
      "cell_type": "code",
      "metadata": {
        "id": "YIAVkdpwHP51"
      },
      "source": [
        "df.isnull().sum()"
      ],
      "execution_count": null,
      "outputs": []
    },
    {
      "cell_type": "code",
      "metadata": {
        "id": "HXQHnPLyHP52"
      },
      "source": [
        "df.describe()"
      ],
      "execution_count": null,
      "outputs": []
    },
    {
      "cell_type": "code",
      "metadata": {
        "id": "B5cZe6YLHP53"
      },
      "source": [
        "plt.hist(df['PRICE'], bins=50)\n",
        "plt.xlabel(\"Prezzi in 1000$\")\n",
        "plt.show()"
      ],
      "execution_count": null,
      "outputs": []
    },
    {
      "cell_type": "code",
      "metadata": {
        "id": "7t2LJIocHP54"
      },
      "source": [
        "correlation_matrix = df.corr().round(2)\n",
        "sns.heatmap(data=correlation_matrix, annot=True)"
      ],
      "execution_count": null,
      "outputs": []
    },
    {
      "cell_type": "code",
      "metadata": {
        "id": "XNqu2h7wHP55"
      },
      "source": [
        "features = ['LSTAT', 'RM', 'NOX', 'ZN']\n",
        "target = df['PRICE']\n",
        "\n",
        "for i, col in enumerate(features):\n",
        "    rows = len(features)/2 if len(features)%2 == 0 else len(features)/2+1\n",
        "    plt.subplot(rows, rows , i+1)\n",
        "    x = df[col]\n",
        "    y = target\n",
        "    plt.scatter(x, y, marker='o')\n",
        "    plt.xlabel(col)\n",
        "    plt.ylabel('Prezzi in 1000$')"
      ],
      "execution_count": null,
      "outputs": []
    },
    {
      "cell_type": "markdown",
      "metadata": {
        "id": "1O32873eHP56"
      },
      "source": [
        "## Custom functions"
      ]
    },
    {
      "cell_type": "code",
      "metadata": {
        "id": "EbwLSqD_HP57"
      },
      "source": [
        "def plot_results(plot_type: str, \n",
        "                 res_list : list, \n",
        "                 title='', \n",
        "                 fontsize = 20, \n",
        "                 save_fig=False, \n",
        "                 xlabel = '', \n",
        "                 ylabel = '', \n",
        "                 xticks= [], \n",
        "                 yticks=[],\n",
        "                 grid = '', \n",
        "                 legend = True):\n",
        "    fig, ax = plt.subplots()\n",
        "    \n",
        "    for i in range(len(res_list)):\n",
        "        if len(res_list[0]) == 2:\n",
        "            [y, label] = res_list[i]\n",
        "            x = np.arange(len(y))    \n",
        "        elif len(res_list[0]) == 3:\n",
        "            [x,y,label] = res_list[i]\n",
        "        if plot_type == 'scatter':\n",
        "            ax.scatter(x, y, label = label)\n",
        "        elif plot_type == 'scatter-line':\n",
        "            ax.plot(x, y, label=label)\n",
        "            ax.scatter(x, y)\n",
        "        elif plot_type == 'vertical_hist':\n",
        "            ax.barh(x, y, align='center')\n",
        "\n",
        "        \n",
        "    #ax.set_xticks(np.arange(len(results[k])))\n",
        "    #ax.set_xticklabels(keys)\n",
        "    if grid != '':\n",
        "        ax.grid(axis=grid)\n",
        "    ax.set_title(title, fontsize=fontsize)\n",
        "    ax.tick_params(labelsize=fontsize)\n",
        "    if legend:\n",
        "        ax.legend(fontsize=fontsize-4, bbox_to_anchor=(1.05, 1), loc='upper left')\n",
        "    ax.set_xlabel(xlabel, fontsize = fontsize)\n",
        "    ax.set_ylabel(ylabel, fontsize= fontsize)\n",
        "    \n",
        "    if len(xticks) > 0:\n",
        "        ax.set_xticks(np.arange(len(xticks)))\n",
        "        ax.set_xticklabels(xticks)\n",
        "        \n",
        "    if len(yticks) > 0:\n",
        "        ax.set_yticks(np.arange(len(yticks)))\n",
        "        ax.set_yticklabels(yticks)\n",
        "    \n",
        "    if plot_type == 'vertical_hist':\n",
        "        ax.invert_yaxis()  # labels read top-to-bottom\n",
        "    \n",
        "    if save_fig and title != '': \n",
        "        folder_path = './results/fig'\n",
        "        create_folder(folder_path)\n",
        "        #plt.tight_layout()\n",
        "        fig.savefig(os.path.join(folder_path, '{0}.png'.format(title)))\n",
        "    elif save_fig:\n",
        "        print(\"L'immagine ha bisogno di un titolo per essere salvata\")"
      ],
      "execution_count": null,
      "outputs": []
    },
    {
      "cell_type": "code",
      "metadata": {
        "id": "ah9R2aVKHP59"
      },
      "source": [
        "def eval_model(X : pd.DataFrame, \n",
        "               Y : pd.DataFrame, \n",
        "               scaler : TransformerMixin, \n",
        "               regressor : RegressorMixin, \n",
        "               cols_to_drop : list = []):\n",
        "    X = X.drop(cols_to_drop, axis=1)\n",
        "    X_train, X_test, Y_train, Y_test = train_test_split(X, Y, test_size = 0.2, random_state=4993)\n",
        "    pipe  = make_pipeline(scaler, regressor)\n",
        "    pipe.fit(X_train, Y_train)\n",
        "    print(f'MAE on test set : {mean_absolute_error(Y_test, pipe.predict(X_test))}')\n",
        "    print(f'rMSE on test set : {mean_squared_error(Y_test, pipe.predict(X_test), squared = False)}')\n",
        "    ordered_df = X_test.copy()\n",
        "    ordered_df['PRICE'] = Y_test\n",
        "    ordered_df = ordered_df.sort_values(by='PRICE')\n",
        "    plot_results('scatter', [[ordered_df['PRICE'], 'actual'], [pipe.predict(ordered_df.drop('PRICE', axis=1)), 'pred']])\n",
        "    return X_test, Y_test, pipe"
      ],
      "execution_count": null,
      "outputs": []
    },
    {
      "cell_type": "markdown",
      "metadata": {
        "id": "t7nkxAYoHP5_"
      },
      "source": [
        "## Regression Models"
      ]
    },
    {
      "cell_type": "code",
      "metadata": {
        "id": "61pIYJFJHP6B"
      },
      "source": [
        "X = df.drop('PRICE', axis=1)\n",
        "y = df['PRICE']\n",
        "    "
      ],
      "execution_count": null,
      "outputs": []
    },
    {
      "cell_type": "code",
      "metadata": {
        "scrolled": false,
        "id": "QF35-dY4HP6C"
      },
      "source": [
        "scaler = StandardScaler()\n",
        "regressor = LinearRegression()\n",
        "X_test, Y_test, pipe = eval_model(X, y, scaler, regressor, cols_to_drop=['CRIM', 'ZN', 'CHAS', 'NOX', 'AGE', 'DIS', 'RAD', 'TAX', 'B'])"
      ],
      "execution_count": null,
      "outputs": []
    },
    {
      "cell_type": "code",
      "metadata": {
        "id": "msS5OhyVHP6D"
      },
      "source": [
        "Y_pred_test_class = [0 if x < 10 else 1 if x < 30 else 2 if x < 40 else 3 for x in pipe.predict(X_test)]\n",
        "Y_true_test_class = [0 if x < 10 else 1 if x < 30 else 2 if x < 40 else 3 for x in Y_test]\n",
        "cf_matrix = confusion_matrix(Y_true_test_class, Y_pred_test_class)\n",
        "ax = plt.subplot()\n",
        "sns.heatmap(cf_matrix, annot=True)\n",
        "ax.set_xlabel('Predicted labels');ax.set_ylabel('True labels'); \n",
        "ax.set_title('Confusion Matrix'); \n",
        "ax.xaxis.set_ticklabels(['<10', '10-30', '30-40', '>40']); ax.yaxis.set_ticklabels(['<10', '10-30', '30-40', '>40']);"
      ],
      "execution_count": null,
      "outputs": []
    },
    {
      "cell_type": "code",
      "metadata": {
        "id": "TghkzBzLHP6E"
      },
      "source": [
        "scaler = StandardScaler()\n",
        "regressor = ExtraTreesRegressor(n_estimators=100)\n",
        "X_test, Y_test, pipe = eval_model(X, y, scaler, regressor, cols_to_drop=[])"
      ],
      "execution_count": null,
      "outputs": []
    },
    {
      "cell_type": "code",
      "metadata": {
        "id": "UjNgp45UHP6F"
      },
      "source": [
        "Y_pred_test_class = [0 if x < 10 else 1 if x < 30 else 2 if x < 40 else 3 for x in pipe.predict(X_test)]\n",
        "Y_true_test_class = [0 if x < 10 else 1 if x < 30 else 2 if x < 40 else 3 for x in Y_test]\n",
        "cf_matrix = confusion_matrix(Y_true_test_class, Y_pred_test_class)\n",
        "ax = plt.subplot()\n",
        "sns.heatmap(cf_matrix, annot=True)\n",
        "ax.set_xlabel('Predicted labels');ax.set_ylabel('True labels'); \n",
        "ax.set_title('Confusion Matrix'); \n",
        "ax.xaxis.set_ticklabels(['<10', '10-30', '30-40', '>40']); ax.yaxis.set_ticklabels(['<10', '10-30', '30-40', '>40']);"
      ],
      "execution_count": null,
      "outputs": []
    },
    {
      "cell_type": "code",
      "metadata": {
        "id": "wGm_purYHP6G"
      },
      "source": [
        "scaler = StandardScaler()\n",
        "regressor = RandomForestRegressor(n_estimators=100)\n",
        "X_test, Y_test, pipe = eval_model(X, y, scaler, regressor, cols_to_drop=[])"
      ],
      "execution_count": null,
      "outputs": []
    },
    {
      "cell_type": "code",
      "metadata": {
        "id": "7mYu52niHP6H"
      },
      "source": [
        "Y_pred_test_class = [0 if x < 10 else 1 if x < 30 else 2 if x < 40 else 3 for x in pipe.predict(X_test)]\n",
        "Y_true_test_class = [0 if x < 10 else 1 if x < 30 else 2 if x < 40 else 3 for x in Y_test]\n",
        "cf_matrix = confusion_matrix(Y_true_test_class, Y_pred_test_class)\n",
        "ax = plt.subplot()\n",
        "sns.heatmap(cf_matrix, annot=True)\n",
        "ax.set_xlabel('Predicted labels');ax.set_ylabel('True labels'); \n",
        "ax.set_title('Confusion Matrix'); \n",
        "ax.xaxis.set_ticklabels(['<10', '10-30', '30-40', '>40']); ax.yaxis.set_ticklabels(['<10', '10-30', '30-40', '>40']);"
      ],
      "execution_count": null,
      "outputs": []
    },
    {
      "cell_type": "code",
      "metadata": {
        "id": "UTB_Y5UvHP6J"
      },
      "source": [
        "scaler = StandardScaler()\n",
        "regressor = XGBRegressor(n_estimators=100, \n",
        "                         objective= 'reg:squarederror')\n",
        "X_test, Y_test, pipe = eval_model(X, y, scaler, regressor)"
      ],
      "execution_count": null,
      "outputs": []
    },
    {
      "cell_type": "code",
      "metadata": {
        "id": "GOOvVSC1HP6K"
      },
      "source": [
        "Y_pred_test_class = [0 if x < 10 else 1 if x < 30 else 2 if x < 40 else 3 for x in pipe.predict(X_test)]\n",
        "Y_true_test_class = [0 if x < 10 else 1 if x < 30 else 2 if x < 40 else 3 for x in Y_test]\n",
        "cf_matrix = confusion_matrix(Y_true_test_class, Y_pred_test_class)\n",
        "ax = plt.subplot()\n",
        "sns.heatmap(cf_matrix, annot=True)\n",
        "ax.set_xlabel('Predicted labels');ax.set_ylabel('True labels'); \n",
        "ax.set_title('Confusion Matrix'); \n",
        "ax.xaxis.set_ticklabels(['<10', '10-30', '30-40', '>40']); ax.yaxis.set_ticklabels(['<10', '10-30', '30-40', '>40']);"
      ],
      "execution_count": null,
      "outputs": []
    },
    {
      "cell_type": "code",
      "metadata": {
        "id": "dr6X-tttHP6L"
      },
      "source": [
        ""
      ],
      "execution_count": null,
      "outputs": []
    }
  ]
}