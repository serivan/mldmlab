{
 "cells": [
  {
   "cell_type": "markdown",
   "metadata": {
    "colab_type": "text",
    "id": "view-in-github"
   },
   "source": [
    "<a href=\"https://colab.research.google.com/github/serivan/mldmlab/blob/master/09_K_Means_from_Scratch_Complete.ipynb\" target=\"_parent\"><img src=\"https://colab.research.google.com/assets/colab-badge.svg\" alt=\"Open In Colab\"/></a>"
   ]
  },
  {
   "cell_type": "markdown",
   "metadata": {
    "id": "Z1EFy1Z4HBt1"
   },
   "source": [
    "K-Means is actually one of the simplest unsupervised clustering algorithm. Assume we have input data points $x_1,x:2,x:3,…,x_n$ and value of K(the number of clusters needed). We follow the below procedure:\n",
    "\n",
    "1. Pick K points as the initial centroids from the data set, either randomly or the first K.\n",
    "\n",
    "2. Find the Euclidean distance of each point in the data set with the identified K points — cluster centroids.\n",
    "\n",
    "3. Assign each data point to the closest centroid using the distance found in the previous step.\n",
    "\n",
    "4. Find the new centroid by taking the average of the points in each cluster group.\n",
    "\n",
    "5. Repeat 2 to 4 for a fixed number of iteration or till the centroids don’t change.\n"
   ]
  },
  {
   "cell_type": "code",
   "execution_count": 98,
   "metadata": {
    "id": "3U7VeR9s797J"
   },
   "outputs": [],
   "source": [
    "import matplotlib.pyplot as plt\n",
    "import numpy as np\n",
    "\n",
    "from matplotlib import style\n",
    "style.use('ggplot')\n",
    "import matplotlib.colors as colors\n",
    "from scipy.spatial.distance import cdist \n",
    "from sklearn.datasets import load_digits\n",
    "from sklearn.decomposition import PCA"
   ]
  },
  {
   "cell_type": "markdown",
   "metadata": {
    "id": "UYhG5qsq9yXI"
   },
   "source": [
    "To make our work organized we will build a class and proceed as in the steps above and also define a tolerance or threshold value for the SSE’s."
   ]
  },
  {
   "cell_type": "code",
   "execution_count": 99,
   "metadata": {
    "id": "WgGCEEFT9c68"
   },
   "outputs": [],
   "source": [
    "class K_Means:\n",
    "    def __init__(self, k=2, tol=0.001, max_iter=300):\n",
    "        self.k = k\n",
    "        self.tol = tol\n",
    "        self.max_iter = max_iter\n",
    "\n",
    "    def fit(self,data):\n",
    "\n",
    "        self.centroids = {}\n",
    "        #Step 1\n",
    "        idx = np.random.choice(len(data), self.k, replace=False)\n",
    "        for i in range(self.k):\n",
    "            self.centroids[i] = data[idx[i]]\n",
    "\n",
    "        for i in range(self.max_iter):\n",
    "            self.classifications = {}\n",
    "\n",
    "            for j in range(self.k):\n",
    "                self.classifications[j] = []\n",
    "\n",
    "            for element in data:\n",
    "                #Step 2\n",
    "                distances = [np.linalg.norm(element-self.centroids[centroid]) for centroid in self.centroids]\n",
    "\n",
    "                #Step 3\n",
    "                classification = distances.index(min(distances))\n",
    "                self.classifications[classification].append(element)\n",
    "\n",
    "            prev_centroids = dict(self.centroids)\n",
    "\n",
    "            for classification in self.classifications:\n",
    "                #Step 4\n",
    "                self.centroids[classification] = np.average(self.classifications[classification],axis=0)\n",
    "\n",
    "            optimized = True\n",
    "            \n",
    "            for c in self.centroids:\n",
    "                original_centroid = prev_centroids[c]\n",
    "                current_centroid = self.centroids[c]\n",
    "\n",
    "                #Check of Step 5\n",
    "                change = np.linalg.norm(current_centroid-original_centroid)         \n",
    "                print(\"Step: \"+str(i)+\" -- current centroid: \" + str(current_centroid)+ \"; original: \"+ str(original_centroid)+ \"; change: \"+str(change))              \n",
    "                if change > self.tol:\n",
    "                    optimized = False\n",
    "\n",
    "            if optimized:\n",
    "                break\n",
    "                \n",
    "        return self.classifications\n",
    "\n",
    "    def predict(self,data):\n",
    "        distances = [np.linalg.norm(data-self.centroids[centroid]) for centroid in self.centroids]\n",
    "        classification = distances.index(min(distances))\n",
    "        return classification"
   ]
  },
  {
   "cell_type": "markdown",
   "metadata": {
    "id": "Zm66puTZ94IP"
   },
   "source": [
    "Now we can test our code"
   ]
  },
  {
   "cell_type": "code",
   "execution_count": 100,
   "metadata": {
    "colab": {
     "base_uri": "https://localhost:8080/",
     "height": 265
    },
    "id": "rqZS_e199b_o",
    "outputId": "b4116939-46e6-4751-fb4c-ee2da50a6e5d"
   },
   "outputs": [
    {
     "data": {
      "image/png": "[encoded data removed]",
      "text/plain": [
       "<Figure size 432x288 with 1 Axes>"
      ]
     },
     "metadata": {
      "tags": []
     },
     "output_type": "display_data"
    }
   ],
   "source": [
    "\n",
    "X = np.array([[1, 2],\n",
    "              [1.5, 1.8],\n",
    "              [5, 8 ],\n",
    "              [8, 8],\n",
    "              [1, 0.6],\n",
    "              [9,11]])\n",
    "\n",
    "\n",
    "colors_list = list(colors._colors_full_map.values())\n",
    "plt.scatter(X[:,0], X[:,1], s=50)\n",
    "plt.show()\n"
   ]
  },
  {
   "cell_type": "code",
   "execution_count": 101,
   "metadata": {
    "colab": {
     "base_uri": "https://localhost:8080/"
    },
    "id": "RYhfbikIDnMg",
    "outputId": "4b7ab889-01eb-4946-a52a-c8ea30bcc735"
   },
   "outputs": [
    {
     "name": "stdout",
     "output_type": "stream",
     "text": [
      "Step: 0 -- current centroid: [7.33333333 9.        ]; original: [ 9. 11.]; change: 2.6034165586355518\n",
      "Step: 0 -- current centroid: [1.16666667 1.46666667]; original: [1.5 1.8]; change: 0.47140452079103173\n",
      "Step: 1 -- current centroid: [7.33333333 9.        ]; original: [7.33333333 9.        ]; change: 0.0\n",
      "Step: 1 -- current centroid: [1.16666667 1.46666667]; original: [1.16666667 1.46666667]; change: 0.0\n"
     ]
    },
    {
     "data": {
      "text/plain": [
       "{0: [array([5., 8.]), array([8., 8.]), array([ 9., 11.])],\n",
       " 1: [array([1., 2.]), array([1.5, 1.8]), array([1. , 0.6])]}"
      ]
     },
     "execution_count": 101,
     "metadata": {
      "tags": []
     },
     "output_type": "execute_result"
    }
   ],
   "source": [
    "model = K_Means(k=2)\n",
    "model.fit(X)"
   ]
  },
  {
   "cell_type": "code",
   "execution_count": 102,
   "metadata": {
    "colab": {
     "base_uri": "https://localhost:8080/",
     "height": 265
    },
    "id": "jgsMcRLL98tL",
    "outputId": "335a7eb0-2bc4-4322-8df5-974a72aaf06a"
   },
   "outputs": [
    {
     "data": {
      "image/png": "[encoded data removed]",
      "text/plain": [
       "<Figure size 432x288 with 1 Axes>"
      ]
     },
     "metadata": {
      "tags": []
     },
     "output_type": "display_data"
    }
   ],
   "source": [
    "for centroid in model.centroids:\n",
    "    plt.scatter(model.centroids[centroid][0], model.centroids[centroid][1],\n",
    "                marker=\"o\", color=\"k\", s=50, linewidths=5)\n",
    "\n",
    "\n",
    "for classification in model.classifications:\n",
    "    color = colors_list[classification]\n",
    "    for element in model.classifications[classification]:\n",
    "        plt.scatter(element[0], element[1], marker=\"x\", color=color, s=50, linewidths=5)\n",
    "\n",
    "plt.show()"
   ]
  }
 ],
 "metadata": {
  "colab": {
   "authorship_tag": "ABX9TyP/rUCIy4uVKnuw+J9UGnee",
   "collapsed_sections": [],
   "include_colab_link": true,
   "name": "09-K_Means from Scratch_Complete.ipynb",
   "provenance": []
  },
  "kernelspec": {
   "display_name": "Python 3",
   "language": "python",
   "name": "python3"
  },
  "language_info": {
   "codemirror_mode": {
    "name": "ipython",
    "version": 3
   },
   "file_extension": ".py",
   "mimetype": "text/x-python",
   "name": "python",
   "nbconvert_exporter": "python",
   "pygments_lexer": "ipython3",
   "version": "3.8.12"
  }
 },
 "nbformat": 4,
 "nbformat_minor": 1
}
