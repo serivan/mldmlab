{
 "cells": [
  {
   "cell_type": "markdown",
   "metadata": {
    "colab_type": "text",
    "id": "view-in-github"
   },
   "source": [
    "<a href=\"https://colab.research.google.com/github/serivan/mldmlab/blob/master/Install_R_notebook.ipynb\" target=\"_parent\"><img src=\"https://colab.research.google.com/assets/colab-badge.svg\" alt=\"Open In Colab\"/></a>"
   ]
  },
  {
   "cell_type": "markdown",
   "metadata": {
    "colab_type": "text",
    "id": "WzpJq3ZrrDS3"
   },
   "source": [
    "See [here](https://colab.research.google.com/drive/1_MmJuotDr9izNwivjgfD1J_bd4OvTFLq) for installing R + brms.\n",
    "\n",
    "## Setup\n",
    "\n",
    "Run the following commands once (~2-3 mins).  It will replace your python2 jupyter kernel by R kernel.\n",
    "\n",
    "Then, go to menu **Runtime -> Manage Sessions -> TERMINATE**.  \n",
    "\n",
    "Finally, **RECONNECT**."
   ]
  },
  {
   "cell_type": "code",
   "execution_count": 0,
   "metadata": {
    "colab": {
     "base_uri": "https://localhost:8080/",
     "height": 219
    },
    "colab_type": "code",
    "id": "84XnTkx80uv0",
    "outputId": "64801203-2e72-4da1-a808-71c93f2555f7"
   },
   "outputs": [
    {
     "name": "stdout",
     "output_type": "stream",
     "text": [
      "--2019-03-14 17:20:57--  https://repo.continuum.io/miniconda/Miniconda3-latest-Linux-x86_64.sh\n",
      "Resolving repo.continuum.io (repo.continuum.io)... 104.18.200.79, 104.18.201.79, 2606:4700::6812:c94f, ...\n",
      "Connecting to repo.continuum.io (repo.continuum.io)|104.18.200.79|:443... connected.\n",
      "HTTP request sent, awaiting response... 200 OK\n",
      "Length: 69826864 (67M) [application/x-sh]\n",
      "Saving to: ‘Miniconda3-latest-Linux-x86_64.sh’\n",
      "\n",
      "Miniconda3-latest-L 100%[===================>]  66.59M  96.2MB/s    in 0.7s    \n",
      "\n",
      "2019-03-14 17:20:58 (96.2 MB/s) - ‘Miniconda3-latest-Linux-x86_64.sh’ saved [69826864/69826864]\n",
      "\n"
     ]
    }
   ],
   "source": [
    "!apt-get install libssl-dev > /dev/null\n",
    "!wget https://repo.continuum.io/miniconda/Miniconda3-latest-Linux-x86_64.sh\n",
    "!chmod +x ./Miniconda3-latest-Linux-x86_64.sh\n",
    "!./Miniconda3-latest-Linux-x86_64.sh -b -p /conda  > /dev/null 2>&1 \n",
    "!/conda/bin/conda install -c r r-rstan r-irkernel gxx_linux-64 -y -q > /dev/null 2>&1\n",
    "!/conda/bin/R -e \"IRkernel::installspec(name = 'python2', displayname = 'R', user = FALSE)\"  > /dev/null 2>&1\n",
    "!mkdir /root/.R/\n",
    "!echo \"CXX14FLAGS=-O3 -mtune=native -march=native -Wno-ignored-attributes -Wno-deprecated-declarations\" > /root/.R/Makevars\n",
    "import os\n",
    "os._exit(00)\n"
   ]
  },
  {
   "cell_type": "markdown",
   "metadata": {
    "colab_type": "text",
    "id": "8elxrVCMr_pa"
   },
   "source": [
    "## R Code\n"
   ]
  },
  {
   "cell_type": "code",
   "execution_count": 1,
   "metadata": {
    "colab": {
     "base_uri": "https://localhost:8080/",
     "height": 182
    },
    "colab_type": "code",
    "id": "GuQ1OjOBZP3Y",
    "outputId": "d9181c6e-9e98-4222-efa1-eb83c858ce97"
   },
   "outputs": [
    {
     "name": "stderr",
     "output_type": "stream",
     "text": [
      "Updating HTML index of packages in '.Library'\n",
      "Making 'packages.html' ... done\n",
      "Loading required package: ggplot2\n",
      "Loading required package: StanHeaders\n",
      "rstan (Version 2.17.3, GitRev: 2e1f913d3ca3)\n",
      "For execution on a local, multicore CPU with excess RAM we recommend calling\n",
      "options(mc.cores = parallel::detectCores()).\n",
      "To avoid recompilation of unchanged Stan programs, we recommend calling\n",
      "rstan_options(auto_write = TRUE)\n"
     ]
    }
   ],
   "source": [
    "Sys.setenv(PATH= paste(\"/conda/bin\" , Sys.getenv(\"PATH\"), sep = \":\" ) )\n",
    "install.packages('codetools', repos='http://cran.rstudio.com/')\n",
    "options(repr.plot.width  = 3,\n",
    "        repr.plot.height = 3)\n",
    "Sys.setenv(USE_CXX14 = 1)\n",
    "library(\"rstan\") # observe startup messages\n",
    "options(mc.cores = parallel::detectCores())\n",
    "rstan_options(auto_write = TRUE)"
   ]
  },
  {
   "cell_type": "code",
   "execution_count": 3,
   "metadata": {
    "colab": {
     "base_uri": "https://localhost:8080/",
     "height": 377
    },
    "colab_type": "code",
    "id": "jLDcyeQProYg",
    "outputId": "709c146d-8b13-46a1-971a-0ae2a5717be7"
   },
   "outputs": [
    {
     "data": {
      "image/png": "[encoded data removed]",
      "text/plain": [
       "plot without title"
      ]
     },
     "metadata": {
      "tags": []
     },
     "output_type": "display_data"
    }
   ],
   "source": [
    "x <- seq(0, 4*pi, length.out=50)\n",
    "plot(x, sin(x))"
   ]
  },
  {
   "cell_type": "code",
   "execution_count": 4,
   "metadata": {
    "colab": {
     "base_uri": "https://localhost:8080/",
     "height": 237
    },
    "colab_type": "code",
    "id": "345En8SKt-8x",
    "outputId": "784a499b-9d2f-4e71-b97a-0c0e7eabea36"
   },
   "outputs": [
    {
     "name": "stdout",
     "output_type": "stream",
     "text": [
      "Inference for Stan model: example.\n",
      "8 chains, each with iter=2012; warmup=1006; thin=1; \n",
      "post-warmup draws per chain=1006, total post-warmup draws=8048.\n",
      "\n",
      "       mean se_mean   sd   2.5%    25%    50%    75%  97.5% n_eff Rhat\n",
      "mu     0.29    0.00 0.23  -0.16   0.14   0.29   0.44   0.74  2961    1\n",
      "lp__ -32.47    0.01 0.72 -34.46 -32.63 -32.20 -32.02 -31.97  3921    1\n",
      "\n",
      "Samples were drawn using NUTS(diag_e) at Thu Mar 14 17:25:58 2019.\n",
      "For each parameter, n_eff is a crude measure of effective sample size,\n",
      "and Rhat is the potential scale reduction factor on split chains (at \n",
      "convergence, Rhat=1).\n"
     ]
    }
   ],
   "source": [
    "stanmodelcode <- \"\n",
    "data {\n",
    "    int<lower=0> N; \n",
    "    real y[N];\n",
    "}\n",
    "\n",
    "parameters {\n",
    "    real mu; \n",
    "\n",
    "}\n",
    "\n",
    "model {\n",
    "    target += normal_lpdf(mu | 0, 10);\n",
    "    target += normal_lpdf(y | mu, 1);\n",
    "}\"\n",
    "\n",
    "y <- rnorm(20)\n",
    "dat <- list(N = 20, y = y);\n",
    "\n",
    "fit <- stan(model_code = stanmodelcode, model_name = \"example\",\n",
    "            data = dat, iter = 2012, chains = 8, sample_file = 'norm.csv',\n",
    "            verbose = FALSE,\n",
    "            refresh = -1)\n",
    "\n",
    "print(fit)"
   ]
  },
  {
   "cell_type": "code",
   "execution_count": 5,
   "metadata": {
    "colab": {
     "base_uri": "https://localhost:8080/",
     "height": 414
    },
    "colab_type": "code",
    "id": "GKu9Y8v0iMhG",
    "outputId": "6beb3781-2d4a-4446-f689-977ec25f0440"
   },
   "outputs": [
    {
     "name": "stderr",
     "output_type": "stream",
     "text": [
      "ci_level: 0.8 (80% intervals)\n",
      "outer_level: 0.95 (95% intervals)\n"
     ]
    },
    {
     "data": {},
     "metadata": {
      "tags": []
     },
     "output_type": "display_data"
    },
    {
     "data": {
      "image/png": "[encoded data removed]",
      "text/plain": [
       "plot without title"
      ]
     },
     "metadata": {
      "tags": []
     },
     "output_type": "display_data"
    }
   ],
   "source": [
    "plot(fit)"
   ]
  },
  {
   "cell_type": "code",
   "execution_count": 6,
   "metadata": {
    "colab": {
     "base_uri": "https://localhost:8080/",
     "height": 54
    },
    "colab_type": "code",
    "id": "LaY0bTArk6yo",
    "outputId": "bdc913f2-49a6-49b9-c0b1-5b5a4dc495b5"
   },
   "outputs": [
    {
     "name": "stderr",
     "output_type": "stream",
     "text": [
      "Warning message in normalizePath(file):\n",
      "“path[1]=\"https://raw.githubusercontent.com/stan-dev/example-models/master/bugs_examples/vol1/rats/rats.stan\": No such file or directory”"
     ]
    }
   ],
   "source": [
    "y <- as.matrix(read.table('https://raw.github.com/wiki/stan-dev/rstan/rats.txt', header = TRUE))\n",
    "x <- c(8, 15, 22, 29, 36)\n",
    "xbar <- mean(x)\n",
    "N <- nrow(y)\n",
    "T <- ncol(y)\n",
    "rats_fit <- stan(file = 'https://raw.githubusercontent.com/stan-dev/example-models/master/bugs_examples/vol1/rats/rats.stan')\n"
   ]
  },
  {
   "cell_type": "code",
   "execution_count": 7,
   "metadata": {
    "colab": {
     "base_uri": "https://localhost:8080/",
     "height": 2790
    },
    "colab_type": "code",
    "id": "_FDcLeSQk7v4",
    "outputId": "38a042d3-da0f-4c21-c791-b185b69417a5"
   },
   "outputs": [
    {
     "data": {
      "text/plain": [
       "Inference for Stan model: rats.\n",
       "4 chains, each with iter=2000; warmup=1000; thin=1; \n",
       "post-warmup draws per chain=1000, total post-warmup draws=4000.\n",
       "\n",
       "                 mean se_mean    sd    2.5%     25%     50%     75%   97.5%\n",
       "alpha[1]       239.94    0.04  2.63  234.74  238.22  239.90  241.72  244.98\n",
       "alpha[2]       247.76    0.04  2.70  242.46  245.89  247.76  249.58  253.02\n",
       "alpha[3]       252.42    0.04  2.71  247.16  250.63  252.39  254.18  257.94\n",
       "alpha[4]       232.56    0.04  2.67  227.33  230.76  232.56  234.30  237.94\n",
       "alpha[5]       231.57    0.04  2.65  226.22  229.87  231.62  233.32  236.76\n",
       "alpha[6]       249.72    0.04  2.66  244.52  247.93  249.72  251.49  254.94\n",
       "alpha[7]       228.68    0.04  2.72  223.22  226.86  228.66  230.49  234.01\n",
       "alpha[8]       248.37    0.04  2.66  243.02  246.62  248.38  250.13  253.66\n",
       "alpha[9]       283.31    0.04  2.69  277.96  281.48  283.30  285.12  288.53\n",
       "alpha[10]      219.23    0.04  2.68  214.16  217.44  219.19  220.98  224.60\n",
       "alpha[11]      258.20    0.04  2.69  253.01  256.39  258.17  259.97  263.62\n",
       "alpha[12]      228.15    0.04  2.70  222.87  226.33  228.13  229.96  233.45\n",
       "alpha[13]      242.43    0.04  2.64  237.20  240.62  242.49  244.20  247.52\n",
       "alpha[14]      268.22    0.04  2.78  262.75  266.38  268.21  270.07  273.70\n",
       "alpha[15]      242.86    0.04  2.66  237.60  241.11  242.87  244.64  248.12\n",
       "alpha[16]      245.35    0.04  2.65  240.16  243.59  245.35  247.07  250.68\n",
       "alpha[17]      232.20    0.04  2.62  227.03  230.49  232.21  233.91  237.33\n",
       "alpha[18]      240.49    0.04  2.71  235.18  238.66  240.51  242.29  245.85\n",
       "alpha[19]      253.79    0.04  2.69  248.40  252.04  253.81  255.52  259.18\n",
       "alpha[20]      241.69    0.04  2.71  236.40  239.91  241.68  243.48  246.99\n",
       "alpha[21]      248.55    0.04  2.61  243.39  246.84  248.57  250.26  253.62\n",
       "alpha[22]      225.16    0.04  2.73  219.77  223.32  225.17  227.01  230.51\n",
       "alpha[23]      228.49    0.04  2.70  223.18  226.68  228.51  230.29  233.78\n",
       "alpha[24]      245.14    0.04  2.71  239.83  243.35  245.11  246.98  250.45\n",
       "alpha[25]      234.50    0.04  2.68  229.30  232.70  234.50  236.27  239.80\n",
       "alpha[26]      253.97    0.04  2.60  249.01  252.26  253.93  255.70  259.17\n",
       "alpha[27]      254.36    0.04  2.69  249.03  252.56  254.36  256.18  259.49\n",
       "alpha[28]      243.02    0.04  2.69  237.87  241.16  243.05  244.84  248.31\n",
       "alpha[29]      217.91    0.04  2.60  212.82  216.15  217.91  219.59  222.94\n",
       "alpha[30]      241.52    0.04  2.70  236.00  239.74  241.52  243.29  246.90\n",
       "beta[1]          6.07    0.00  0.25    5.59    5.90    6.07    6.24    6.55\n",
       "beta[2]          7.05    0.00  0.26    6.54    6.88    7.05    7.23    7.55\n",
       "beta[3]          6.48    0.00  0.24    6.01    6.32    6.48    6.64    6.95\n",
       "beta[4]          5.34    0.00  0.26    4.81    5.16    5.34    5.52    5.85\n",
       "beta[5]          6.57    0.00  0.25    6.08    6.40    6.57    6.73    7.05\n",
       "beta[6]          6.18    0.00  0.24    5.70    6.02    6.18    6.35    6.65\n",
       "beta[7]          5.98    0.00  0.24    5.49    5.82    5.98    6.15    6.45\n",
       "beta[8]          6.42    0.00  0.24    5.94    6.25    6.41    6.58    6.89\n",
       "beta[9]          7.05    0.00  0.26    6.55    6.88    7.05    7.23    7.56\n",
       "beta[10]         5.85    0.00  0.25    5.34    5.69    5.85    6.02    6.33\n",
       "beta[11]         6.80    0.00  0.25    6.31    6.64    6.81    6.97    7.29\n",
       "beta[12]         6.12    0.00  0.24    5.64    5.96    6.12    6.28    6.58\n",
       "beta[13]         6.17    0.00  0.24    5.69    6.01    6.17    6.33    6.62\n",
       "beta[14]         6.69    0.00  0.24    6.21    6.53    6.69    6.85    7.17\n",
       "beta[15]         5.42    0.00  0.25    4.93    5.25    5.42    5.59    5.91\n",
       "beta[16]         5.92    0.00  0.24    5.45    5.76    5.92    6.08    6.40\n",
       "beta[17]         6.27    0.00  0.25    5.77    6.11    6.27    6.43    6.76\n",
       "beta[18]         5.84    0.00  0.24    5.37    5.68    5.84    6.00    6.30\n",
       "beta[19]         6.40    0.00  0.24    5.93    6.24    6.40    6.56    6.87\n",
       "beta[20]         6.06    0.00  0.25    5.56    5.89    6.06    6.22    6.55\n",
       "beta[21]         6.41    0.00  0.25    5.92    6.23    6.41    6.58    6.89\n",
       "beta[22]         5.86    0.00  0.25    5.38    5.70    5.86    6.02    6.37\n",
       "beta[23]         5.75    0.00  0.24    5.28    5.58    5.75    5.91    6.22\n",
       "beta[24]         5.89    0.00  0.24    5.43    5.73    5.89    6.04    6.37\n",
       "beta[25]         6.91    0.00  0.25    6.43    6.74    6.91    7.08    7.42\n",
       "beta[26]         6.55    0.00  0.25    6.07    6.38    6.55    6.72    7.05\n",
       "beta[27]         5.90    0.00  0.24    5.41    5.74    5.90    6.05    6.38\n",
       "beta[28]         5.85    0.00  0.25    5.36    5.69    5.85    6.01    6.34\n",
       "beta[29]         5.67    0.00  0.24    5.19    5.51    5.68    5.83    6.13\n",
       "beta[30]         6.13    0.00  0.24    5.65    5.96    6.13    6.29    6.61\n",
       "mu_alpha       242.48    0.04  2.76  237.00  240.69  242.48  244.23  247.95\n",
       "mu_beta          6.19    0.00  0.11    5.98    6.12    6.19    6.26    6.40\n",
       "sigmasq_y       37.33    0.12  5.70   27.83   33.36   36.72   40.77   49.74\n",
       "sigmasq_alpha  218.92    0.99 62.70  125.53  173.32  209.27  250.99  370.03\n",
       "sigmasq_beta     0.28    0.00  0.10    0.13    0.21    0.26    0.33    0.52\n",
       "sigma_y          6.09    0.01  0.46    5.28    5.78    6.06    6.38    7.05\n",
       "sigma_alpha     14.65    0.03  2.05   11.20   13.17   14.47   15.84   19.24\n",
       "sigma_beta       0.52    0.00  0.09    0.36    0.45    0.51    0.57    0.72\n",
       "alpha0         106.33    0.06  3.66   99.11  103.85  106.26  108.82  113.52\n",
       "lp__          -438.48    0.18  6.75 -452.71 -442.82 -438.16 -433.73 -426.38\n",
       "              n_eff Rhat\n",
       "alpha[1]       4000    1\n",
       "alpha[2]       4000    1\n",
       "alpha[3]       4000    1\n",
       "alpha[4]       4000    1\n",
       "alpha[5]       4000    1\n",
       "alpha[6]       4000    1\n",
       "alpha[7]       4000    1\n",
       "alpha[8]       4000    1\n",
       "alpha[9]       4000    1\n",
       "alpha[10]      4000    1\n",
       "alpha[11]      4000    1\n",
       "alpha[12]      4000    1\n",
       "alpha[13]      4000    1\n",
       "alpha[14]      4000    1\n",
       "alpha[15]      4000    1\n",
       "alpha[16]      4000    1\n",
       "alpha[17]      4000    1\n",
       "alpha[18]      4000    1\n",
       "alpha[19]      4000    1\n",
       "alpha[20]      4000    1\n",
       "alpha[21]      4000    1\n",
       "alpha[22]      4000    1\n",
       "alpha[23]      4000    1\n",
       "alpha[24]      4000    1\n",
       "alpha[25]      4000    1\n",
       "alpha[26]      4000    1\n",
       "alpha[27]      4000    1\n",
       "alpha[28]      4000    1\n",
       "alpha[29]      4000    1\n",
       "alpha[30]      4000    1\n",
       "beta[1]        4000    1\n",
       "beta[2]        4000    1\n",
       "beta[3]        4000    1\n",
       "beta[4]        4000    1\n",
       "beta[5]        4000    1\n",
       "beta[6]        4000    1\n",
       "beta[7]        4000    1\n",
       "beta[8]        4000    1\n",
       "beta[9]        4000    1\n",
       "beta[10]       4000    1\n",
       "beta[11]       4000    1\n",
       "beta[12]       4000    1\n",
       "beta[13]       4000    1\n",
       "beta[14]       4000    1\n",
       "beta[15]       4000    1\n",
       "beta[16]       4000    1\n",
       "beta[17]       4000    1\n",
       "beta[18]       4000    1\n",
       "beta[19]       4000    1\n",
       "beta[20]       4000    1\n",
       "beta[21]       4000    1\n",
       "beta[22]       4000    1\n",
       "beta[23]       4000    1\n",
       "beta[24]       4000    1\n",
       "beta[25]       4000    1\n",
       "beta[26]       4000    1\n",
       "beta[27]       4000    1\n",
       "beta[28]       4000    1\n",
       "beta[29]       4000    1\n",
       "beta[30]       4000    1\n",
       "mu_alpha       4000    1\n",
       "mu_beta        4000    1\n",
       "sigmasq_y      2434    1\n",
       "sigmasq_alpha  4000    1\n",
       "sigmasq_beta   2974    1\n",
       "sigma_y        2431    1\n",
       "sigma_alpha    4000    1\n",
       "sigma_beta     2943    1\n",
       "alpha0         4000    1\n",
       "lp__           1359    1\n",
       "\n",
       "Samples were drawn using NUTS(diag_e) at Thu Mar 14 17:26:59 2019.\n",
       "For each parameter, n_eff is a crude measure of effective sample size,\n",
       "and Rhat is the potential scale reduction factor on split chains (at \n",
       "convergence, Rhat=1)."
      ]
     },
     "metadata": {
      "tags": []
     },
     "output_type": "display_data"
    }
   ],
   "source": [
    "rats_fit"
   ]
  },
  {
   "cell_type": "code",
   "execution_count": 8,
   "metadata": {
    "colab": {
     "base_uri": "https://localhost:8080/",
     "height": 432
    },
    "colab_type": "code",
    "id": "UTE9jjocnOL1",
    "outputId": "178c2bf2-2068-4c37-f137-47da9e65c945"
   },
   "outputs": [
    {
     "name": "stderr",
     "output_type": "stream",
     "text": [
      "'pars' not specified. Showing first 10 parameters by default.\n",
      "ci_level: 0.8 (80% intervals)\n",
      "outer_level: 0.95 (95% intervals)\n"
     ]
    },
    {
     "data": {},
     "metadata": {
      "tags": []
     },
     "output_type": "display_data"
    },
    {
     "data": {
      "image/png": "[encoded data removed]",
      "text/plain": [
       "plot without title"
      ]
     },
     "metadata": {
      "tags": []
     },
     "output_type": "display_data"
    }
   ],
   "source": [
    "plot(rats_fit)"
   ]
  },
  {
   "cell_type": "code",
   "execution_count": 9,
   "metadata": {
    "colab": {
     "base_uri": "https://localhost:8080/",
     "height": 90
    },
    "colab_type": "code",
    "id": "RTwsDP44nV7m",
    "outputId": "dceeca0c-1375-422c-d51b-5d9cd5d3be99"
   },
   "outputs": [
    {
     "name": "stderr",
     "output_type": "stream",
     "text": [
      "also installing the dependencies ‘arules’, ‘proxy’, ‘registry’, ‘irlba’\n",
      "\n",
      "Updating HTML index of packages in '.Library'\n",
      "Making 'packages.html' ... done\n"
     ]
    }
   ],
   "source": [
    "install.packages('recommenderlab', repos='http://cran.rstudio.com/')\n"
   ]
  },
  {
   "cell_type": "code",
   "execution_count": 10,
   "metadata": {
    "colab": {
     "base_uri": "https://localhost:8080/",
     "height": 495
    },
    "colab_type": "code",
    "id": "hIdkBxvOEs8o",
    "outputId": "c8c59785-c1ee-4785-d130-7ca08d3acf63"
   },
   "outputs": [
    {
     "name": "stderr",
     "output_type": "stream",
     "text": [
      "Loading required package: Matrix\n",
      "Loading required package: arules\n",
      "\n",
      "Attaching package: ‘arules’\n",
      "\n",
      "The following objects are masked from ‘package:base’:\n",
      "\n",
      "    abbreviate, write\n",
      "\n",
      "Loading required package: proxy\n",
      "\n",
      "Attaching package: ‘proxy’\n",
      "\n",
      "The following object is masked from ‘package:Matrix’:\n",
      "\n",
      "    as.matrix\n",
      "\n",
      "The following objects are masked from ‘package:stats’:\n",
      "\n",
      "    as.dist, dist\n",
      "\n",
      "The following object is masked from ‘package:base’:\n",
      "\n",
      "    as.matrix\n",
      "\n",
      "Loading required package: registry\n"
     ]
    }
   ],
   "source": [
    "library(\"recommenderlab\") "
   ]
  }
 ],
 "metadata": {
  "colab": {
   "collapsed_sections": [],
   "include_colab_link": true,
   "name": "Install R notebook.ipynb",
   "provenance": [],
   "version": "0.3.2"
  },
  "kernelspec": {
   "display_name": "Python 2",
   "language": "python",
   "name": "python2"
  },
  "language_info": {
   "codemirror_mode": {
    "name": "ipython",
    "version": 3
   },
   "file_extension": ".py",
   "mimetype": "text/x-python",
   "name": "python",
   "nbconvert_exporter": "python",
   "pygments_lexer": "ipython3",
   "version": "3.6.7"
  }
 },
 "nbformat": 4,
 "nbformat_minor": 1
}
