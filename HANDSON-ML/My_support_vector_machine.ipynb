{
  "cells": [
    {
      "cell_type": "markdown",
      "source": [
        "Solve hard margin Support Vector Machine optimization using Stochastic Gradient Descent\n",
        "\n",
        "\n",
        "See also https://towardsdatascience.com/solving-svm-stochastic-gradient-descent-and-hinge-loss-8e8b4dd91f5b"
      ],
      "metadata": {
        "id": "dfwpUc_VqRU2"
      }
    },
    {
      "cell_type": "markdown",
      "source": [
        "Algorithm\n",
        "\n",
        "w=[random values]\n",
        "\n",
        "b=0\n",
        "\n",
        "for number of epochs:\n",
        ">identify the support vectors set S: elements such that $y_i(w \\dot x_i -b)<1$\n",
        "\n",
        ">loss=$\\frac{||w||^2}{2}+C(\\sum_S (1- y_i(w \\dot x_i -b)))$\n",
        "\n",
        "> compute gradient_w and b_derivate\n",
        "\n",
        ">update $w$ and $b$\n",
        "\n"
      ],
      "metadata": {
        "id": "J3fsstaxqgp-"
      }
    },
    {
      "cell_type": "markdown",
      "metadata": {
        "id": "8hzAmLkgf8Ab"
      },
      "source": [
        "# Setup"
      ]
    },
    {
      "cell_type": "markdown",
      "metadata": {
        "id": "1RFWXoXWf8Ac"
      },
      "source": [
        "First, let's import a few common modules, ensure MatplotLib plots figures inline and prepare a function to save the figures. We also check that Python 3.5 or later is installed (although Python 2.x may work, it is deprecated so we strongly recommend you use Python 3 instead), as well as Scikit-Learn ≥0.20."
      ]
    },
    {
      "cell_type": "code",
      "execution_count": 1,
      "metadata": {
        "id": "srC0xsL5f8Ad"
      },
      "outputs": [],
      "source": [
        "# Python ≥3.5 is required\n",
        "import sys\n",
        "assert sys.version_info >= (3, 5)\n",
        "\n",
        "# Scikit-Learn ≥0.20 is required\n",
        "import sklearn\n",
        "assert sklearn.__version__ >= \"0.20\"\n",
        "\n",
        "# Common imports\n",
        "import numpy as np\n",
        "import os\n",
        "\n",
        "# to make this notebook's output stable across runs\n",
        "np.random.seed(42)\n",
        "\n",
        "# To plot pretty figures\n",
        "%matplotlib inline\n",
        "import matplotlib as mpl\n",
        "import matplotlib.pyplot as plt\n",
        "mpl.rc('axes', labelsize=14)\n",
        "mpl.rc('xtick', labelsize=12)\n",
        "mpl.rc('ytick', labelsize=12)\n",
        "\n",
        "# Where to save the figures\n",
        "PROJECT_ROOT_DIR = \".\"\n",
        "CHAPTER_ID = \"svm\"\n",
        "IMAGES_PATH = os.path.join(PROJECT_ROOT_DIR, \"images\", CHAPTER_ID)\n",
        "os.makedirs(IMAGES_PATH, exist_ok=True)\n",
        "\n",
        "def save_fig(fig_id, tight_layout=True, fig_extension=\"png\", resolution=300):\n",
        "    path = os.path.join(IMAGES_PATH, fig_id + \".\" + fig_extension)\n",
        "    print(\"Saving figure\", fig_id)\n",
        "    if tight_layout:\n",
        "        plt.tight_layout()\n",
        "    plt.savefig(path, format=fig_extension, dpi=resolution)"
      ]
    },
    {
      "cell_type": "markdown",
      "metadata": {
        "id": "C11n614uf8Ag"
      },
      "source": [
        "# Dataset\n"
      ]
    },
    {
      "cell_type": "code",
      "execution_count": 2,
      "metadata": {
        "id": "I05gWFPzf8Ai"
      },
      "outputs": [],
      "source": [
        "from sklearn.svm import SVC\n",
        "from sklearn import datasets\n",
        "\n",
        "iris = datasets.load_iris()\n",
        "X = iris[\"data\"][:, (2, 3)]  # petal length, petal width\n",
        "y = iris[\"target\"]\n",
        "\n",
        "setosa_or_versicolor = (y == 0) | (y == 1)\n",
        "X = X[setosa_or_versicolor]\n",
        "y = y[setosa_or_versicolor]\n"
      ]
    },
    {
      "cell_type": "markdown",
      "source": [
        "# Tools"
      ],
      "metadata": {
        "id": "ygtadXxQoirQ"
      }
    },
    {
      "cell_type": "code",
      "source": [
        "\n",
        "def plot_svc_decision_boundary(svm_clf, xmin, xmax):\n",
        "    # See https://medium.com/geekculture/svm-classification-with-sklearn-svm-svc-how-to-plot-a-decision-boundary-with-margins-in-2d-space-7232cb3962c0\n",
        "    w = svm_clf.coef_[0]\n",
        "    b = svm_clf.intercept_[0]\n",
        "\n",
        "    # At the decision boundary, w0*x0 + w1*x1 + b = 0\n",
        "    # => x1 = -w0/w1 * x0 - b/w1\n",
        "    x0 = np.linspace(xmin, xmax, 200)\n",
        "    decision_boundary = -w[0]/w[1] * x0 - b/w[1]\n",
        "    m_hat = 1/w[1]\n",
        "    gutter_up = decision_boundary + m_hat\n",
        "    gutter_down = decision_boundary -  m_hat\n",
        "\n",
        "    svs = svm_clf.support_vectors_\n",
        "    plt.scatter(svs[:, 0], svs[:, 1], s=180, facecolors='#FFAAAA')\n",
        "    plt.plot(x0, decision_boundary, \"k-\", linewidth=2)\n",
        "    plt.plot(x0, gutter_up, \"k--\", linewidth=2)\n",
        "    plt.plot(x0, gutter_down, \"k--\", linewidth=2)\n"
      ],
      "metadata": {
        "id": "Bke3LbKRooUv"
      },
      "execution_count": 3,
      "outputs": []
    },
    {
      "cell_type": "markdown",
      "metadata": {
        "id": "HheWkU3sf8BE"
      },
      "source": [
        "# Linear SVM classifier implementation using Batch Gradient Descent"
      ]
    },
    {
      "cell_type": "code",
      "execution_count": 4,
      "metadata": {
        "id": "bZl4RIOIf8BE"
      },
      "outputs": [],
      "source": [
        "# Training set\n",
        "X = iris[\"data\"][:, (2, 3)] # petal length, petal width\n",
        "y = (iris[\"target\"] == 2).astype(np.float64).reshape(-1, 1) # Iris virginica"
      ]
    },
    {
      "cell_type": "code",
      "execution_count": 5,
      "metadata": {
        "id": "RGe0KAj3f8BE",
        "outputId": "328fb519-3e4a-4b95-cb07-86ccba700de0",
        "colab": {
          "base_uri": "https://localhost:8080/"
        }
      },
      "outputs": [
        {
          "output_type": "execute_result",
          "data": {
            "text/plain": [
              "array([[1.],\n",
              "       [0.]])"
            ]
          },
          "metadata": {},
          "execution_count": 5
        }
      ],
      "source": [
        "from sklearn.base import BaseEstimator\n",
        "\n",
        "class MyLinearSVC(BaseEstimator):\n",
        "    def __init__(self, C=1, eta0=1, eta_d=10000, n_epochs=1000, random_state=None):\n",
        "        self.C = C\n",
        "        self.eta0 = eta0\n",
        "        # Set other attributes\n",
        "        self.n_epochs = XXXXX\n",
        "        self.random_state = XXXXX\n",
        "        self.eta_d=XXXXX\n",
        "\n",
        "    def eta(self, epoch):\n",
        "        return self.eta0 / (epoch + self.eta_d)\n",
        "        \n",
        "    def fit(self, X, label):\n",
        "        # Random initialization\n",
        "        if self.random_state:\n",
        "            np.random.seed(self.random_state)\n",
        "        w = XXXXXrandn(X.shape[1], 1)              # n=X.shape[1] feature weights\n",
        "        b = XXXXX\n",
        "\n",
        "        m = len(X)\n",
        "        y = label * 2 - 1  # -1 if y==0, +1 if y==1\n",
        "        X_t = X * y\n",
        "        self.Js=[]\n",
        "\n",
        "        # Training\n",
        "        for epoch in range(self.n_epochs):\n",
        "            # Identify support vectors \n",
        "            support_vectors_idx = (XXXXXXXXXX).ravel()\n",
        "            X_t_sv = X_t[support_vectors_idx]\n",
        "            t_sv = y[support_vectors_idx]\n",
        "\n",
        "            # Complete with ||w||^2 and sum (only for the support vectors) 1-wx-b\n",
        "            J = 1/2 * np.sum(XXXXX) + self.C * (np.sum(XXXXX) - b * np.sum(XXXXX))\n",
        "            self.Js.append(J)\n",
        "            \n",
        "            #Compute gradient\n",
        "            w_gradient_vector = XXXXX - self.C * np.sum(XXXXX, axis=0).reshape(-1, 1)\n",
        "            b_derivative = -self.C * np.sum(XXXXX)\n",
        "\n",
        "            #Update w and b    \n",
        "            w = w - self.eta(epoch) * XXXXX\n",
        "            b = b - self.eta(epoch) * XXXXX\n",
        "            \n",
        "\n",
        "        self.intercept_ = np.array([b])\n",
        "        self.coef_ = np.array([w])\n",
        "        support_vectors_idx = (X_t.dot(w) + y * b < 1).ravel()\n",
        "        self.support_vectors_ = X[support_vectors_idx]\n",
        "        return self\n",
        "\n",
        "    def decision_function(self, X):\n",
        "        return X.dot(self.coef_[0]) + self.intercept_[0]\n",
        "\n",
        "    def predict(self, X):\n",
        "        return (self.decision_function(X) >= 0).astype(np.float64)\n",
        "\n",
        "C=2\n",
        "svm_clf = MyLinearSVC(C=C, eta0 = 10, eta_d = 1000, n_epochs=60000, random_state=2)\n",
        "svm_clf.fit(X, y)\n",
        "svm_clf.predict(np.array([[5, 2], [4, 1]]))"
      ]
    },
    {
      "cell_type": "code",
      "execution_count": 6,
      "metadata": {
        "id": "5YVgY0o-f8BF",
        "outputId": "ce431036-5382-4b77-e3ac-9e3d4ae0ec5d",
        "colab": {
          "base_uri": "https://localhost:8080/",
          "height": 290
        }
      },
      "outputs": [
        {
          "output_type": "execute_result",
          "data": {
            "text/plain": [
              "(0.0, 60000.0, 0.0, 100.0)"
            ]
          },
          "metadata": {},
          "execution_count": 6
        },
        {
          "output_type": "display_data",
          "data": {
            "text/plain": [
              "<Figure size 432x288 with 1 Axes>"
            ],
            "image/png": "[encoded data removed]"
          },
          "metadata": {
            "needs_background": "light"
          }
        }
      ],
      "source": [
        "plt.plot(range(svm_clf.n_epochs), svm_clf.Js)\n",
        "plt.axis([0, svm_clf.n_epochs, 0, 100])"
      ]
    },
    {
      "cell_type": "code",
      "execution_count": 7,
      "metadata": {
        "id": "5mZy7vCxf8BF",
        "outputId": "9735a857-f124-437d-80f3-7977fb4f4855",
        "colab": {
          "base_uri": "https://localhost:8080/"
        }
      },
      "outputs": [
        {
          "output_type": "stream",
          "name": "stdout",
          "text": [
            "[-15.56761653] [[[2.28120287]\n",
            "  [2.71621742]]]\n"
          ]
        }
      ],
      "source": [
        "print(svm_clf.intercept_, svm_clf.coef_)"
      ]
    },
    {
      "cell_type": "code",
      "execution_count": 8,
      "metadata": {
        "id": "3gkmj11gf8BG",
        "outputId": "fdfa85fd-fd0c-482b-efdd-4d21364f5e30",
        "colab": {
          "base_uri": "https://localhost:8080/"
        }
      },
      "outputs": [
        {
          "output_type": "stream",
          "name": "stdout",
          "text": [
            "[-15.51721253] [[2.27128546 2.71287145]]\n"
          ]
        }
      ],
      "source": [
        "svm_clf2 = SVC(kernel=\"linear\", C=C)\n",
        "svm_clf2.fit(X, y.ravel())\n",
        "print(svm_clf2.intercept_, svm_clf2.coef_)"
      ]
    },
    {
      "cell_type": "code",
      "execution_count": 9,
      "metadata": {
        "id": "HNmS_Gguf8BG",
        "outputId": "f3a6e387-430e-489a-968c-98f557af3c75",
        "colab": {
          "base_uri": "https://localhost:8080/",
          "height": 277
        }
      },
      "outputs": [
        {
          "output_type": "execute_result",
          "data": {
            "text/plain": [
              "(4.0, 6.0, 0.8, 2.8)"
            ]
          },
          "metadata": {},
          "execution_count": 9
        },
        {
          "output_type": "display_data",
          "data": {
            "text/plain": [
              "<Figure size 792x230.4 with 2 Axes>"
            ],
            "image/png": "[encoded data removed]"
          },
          "metadata": {
            "needs_background": "light"
          }
        }
      ],
      "source": [
        "yr = y.ravel()\n",
        "fig, axes = plt.subplots(ncols=2, figsize=(11, 3.2), sharey=True)\n",
        "plt.sca(axes[0])\n",
        "plt.plot(X[:, 0][yr==1], X[:, 1][yr==1], \"g^\", label=\"Iris virginica\")\n",
        "plt.plot(X[:, 0][yr==0], X[:, 1][yr==0], \"bs\", label=\"Not Iris virginica\")\n",
        "plot_svc_decision_boundary(svm_clf, 4, 6)\n",
        "plt.xlabel(\"Petal length\", fontsize=14)\n",
        "plt.ylabel(\"Petal width\", fontsize=14)\n",
        "plt.title(\"MyLinearSVC\", fontsize=14)\n",
        "plt.axis([4, 6, 0.8, 2.8])\n",
        "plt.legend(loc=\"upper left\")\n",
        "\n",
        "plt.sca(axes[1])\n",
        "plt.plot(X[:, 0][yr==1], X[:, 1][yr==1], \"g^\")\n",
        "plt.plot(X[:, 0][yr==0], X[:, 1][yr==0], \"bs\")\n",
        "plot_svc_decision_boundary(svm_clf2, 4, 6)\n",
        "plt.xlabel(\"Petal length\", fontsize=14)\n",
        "plt.title(\"SVC\", fontsize=14)\n",
        "plt.axis([4, 6, 0.8, 2.8])\n"
      ]
    },
    {
      "cell_type": "code",
      "execution_count": 10,
      "metadata": {
        "scrolled": true,
        "id": "kFZRbu6ef8BG",
        "outputId": "b481cb42-c357-4ae9-9448-db3a09401864",
        "colab": {
          "base_uri": "https://localhost:8080/",
          "height": 295
        }
      },
      "outputs": [
        {
          "output_type": "stream",
          "name": "stdout",
          "text": [
            "[-12.52988101   1.94162342   1.84544824]\n"
          ]
        },
        {
          "output_type": "execute_result",
          "data": {
            "text/plain": [
              "(4.0, 6.0, 0.8, 2.8)"
            ]
          },
          "metadata": {},
          "execution_count": 10
        },
        {
          "output_type": "display_data",
          "data": {
            "text/plain": [
              "<Figure size 396x230.4 with 1 Axes>"
            ],
            "image/png": "[encoded data removed]"
          },
          "metadata": {
            "needs_background": "light"
          }
        }
      ],
      "source": [
        "from sklearn.linear_model import SGDClassifier\n",
        "\n",
        "sgd_clf = SGDClassifier(loss=\"hinge\", alpha=0.017, max_iter=1000, tol=1e-3, random_state=42)\n",
        "sgd_clf.fit(X, y.ravel())\n",
        "\n",
        "m = len(X)\n",
        "t = y * 2 - 1  # -1 if y==0, +1 if y==1\n",
        "X_b = np.c_[np.ones((m, 1)), X]  # Add bias input x0=1\n",
        "X_b_t = X_b * t\n",
        "sgd_theta = np.r_[sgd_clf.intercept_[0], sgd_clf.coef_[0]]\n",
        "print(sgd_theta)\n",
        "support_vectors_idx = (X_b_t.dot(sgd_theta) < 1).ravel()\n",
        "sgd_clf.support_vectors_ = X[support_vectors_idx]\n",
        "sgd_clf.C = C\n",
        "\n",
        "plt.figure(figsize=(5.5,3.2))\n",
        "plt.plot(X[:, 0][yr==1], X[:, 1][yr==1], \"g^\")\n",
        "plt.plot(X[:, 0][yr==0], X[:, 1][yr==0], \"bs\")\n",
        "plot_svc_decision_boundary(sgd_clf, 4, 6)\n",
        "plt.xlabel(\"Petal length\", fontsize=14)\n",
        "plt.ylabel(\"Petal width\", fontsize=14)\n",
        "plt.title(\"SGDClassifier\", fontsize=14)\n",
        "plt.axis([4, 6, 0.8, 2.8])\n"
      ]
    }
  ],
  "metadata": {
    "kernelspec": {
      "display_name": "Python 3",
      "language": "python",
      "name": "python3"
    },
    "language_info": {
      "codemirror_mode": {
        "name": "ipython",
        "version": 3
      },
      "file_extension": ".py",
      "mimetype": "text/x-python",
      "name": "python",
      "nbconvert_exporter": "python",
      "pygments_lexer": "ipython3",
      "version": "3.7.10"
    },
    "nav_menu": {},
    "toc": {
      "navigate_menu": true,
      "number_sections": true,
      "sideBar": true,
      "threshold": 6,
      "toc_cell": false,
      "toc_section_display": "block",
      "toc_window_display": false
    },
    "colab": {
      "name": "My_support_vector_machine.ipynb",
      "provenance": [],
      "collapsed_sections": []
    }
  },
  "nbformat": 4,
  "nbformat_minor": 0
}