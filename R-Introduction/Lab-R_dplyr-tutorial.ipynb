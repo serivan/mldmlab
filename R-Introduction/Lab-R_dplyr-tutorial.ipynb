{
 "cells": [
  {
   "cell_type": "markdown",
   "metadata": {},
   "source": [
    "---\n",
    "title: 'Introduction to R: Fundamentals, Visualization and Data Manipulation'\n",
    "author: \"Ali Zaidi, Machine Learning and Data Science Education Team\"\n",
    "date: \"June 6th, 2016\"\n",
    "output:\n",
    "  ioslides_presentation:\n",
    "    logo: images/clark-logo.png\n",
    "    runtime: shiny\n",
    "    smaller: yes\n",
    "    widescreen: yes\n",
    "  html_notebook:\n",
    "    toc: yes\n",
    "  html_document:\n",
    "    toc: yes\n",
    "    keep_md: true\n",
    "params: \n",
    "  prestype:\n",
    "    label: \"Presentation Type:\"\n",
    "    value: interactive\n",
    "    input: select\n",
    "\n",
    "# Lab 1: R Data Types\n",
    "\n",
    "# Data Manipulation with the dplyr Package\n",
    "\n",
    "## Overview\n",
    "\n",
    "Rather than describing the nitty gritty details of writing R code, I'd like you to get started at immediately writing R code.\n",
    "\n",
    "As most of you are data scientists/data enthusiasts, I will showcase one of the most useful data manipulation packages in R, `dplyr`.\n",
    "At the end of this session, you will have learned:\n",
    "\n",
    "* How to manipulate data quickly with `dplyr` using a very intuitive 'grammar'\n",
    "* How to use `dplyr` to perform common exploratory and manipulation procedures\n",
    "* How to apply your own custom functions to group manipulations `dplyr` with `mutate()`, `summarise()` and `do()`\n",
    "* Connect to remote databases to work with larger than memory datasets\n",
    "\n",
    "## Why use dplyr? \n",
    "### The Grammar of Data Manipulation\n",
    "\n",
    "* R comes with a plethora of base functions for data manipulation, so why use `dplyr`?\n",
    "* `dplyr` makes data manipulation easier by providing a few functions for the most common tasks and procedures\n",
    "* `dplyr` achieves remarkable speed-up gains by using a C++ backend\n",
    "* `dplyr` has multiple backends for working with data stored in various sources: SQLite, MySQL, bigquery, SQL Server, and many more\n",
    "* `dplyr` was inspired to give data manipulation a simple, cohesive grammar (similar philosophy to `ggplot` - grammar of graphics)\n",
    "* `dplyr` has inspired many new packages, which now adopt it's easy to understand syntax. \n",
    "* The recent package `dplyrXdf` brings much of the same functionality of `dplyr` to `XDF` data, and `SparkR`, `SparkRext` and finally, `sparklyr` provides the same for manipulating Spark `DataFrames`\n",
    "\n",
    "\n",
    "## Tidy Data and Happier Coding\n",
    "### Premature Optimization \n",
    "\n",
    "![](https://imgs.xkcd.com/comics/the_general_problem.png)\n",
    "\n",
    "+ The most important parameter to optimize in a data science development cycle is YOUR time\n",
    "+ It is therefore important to be able to write efficient code, quickly\n",
    "+ The code should be easy to understand, debug, port, and deploy\n",
    "+ Goals: writing fast code that is: portable, platform invariant, easy to understand, and easy to debug\n",
    "    - __I'm serious about CReUse__!\n",
    "\n",
    "## Manipulation verbs\n",
    "\n",
    "`filter`\n",
    "\n",
    ":    select rows based on matching criteria\n",
    "\n",
    "`slice`\n",
    "\n",
    ":    select rows by number\n",
    "\n",
    "`select`\n",
    "\n",
    ":    select columns by column names\n",
    "\n",
    "`arrange`\n",
    "\n",
    ":    reorder rows by column values\n",
    "\n",
    "`mutate`\n",
    "\n",
    ":    add new variables based on transformations of existing variables\n",
    "\n",
    "`transmute`\n",
    "\n",
    ":    transform and drop other variables\n",
    "\n",
    "\n",
    "\n",
    "## Aggregation verbs\n",
    "\n",
    "`group_by`\n",
    "\n",
    ":    identify grouping variables for calculating groupwise summary statistics\n",
    "\n",
    "\n",
    "`count`\n",
    "\n",
    ":    count the number of records per group\n",
    "\n",
    "\n",
    "`summarise` | `summarize`\n",
    "\n",
    ":    calculate one or more summary functions per group, returning one row of results per group (or one for the entire dataset)\n",
    "\n",
    "## Viewing Data\n",
    "\n",
    "* `dplyr` includes a wrapper called `tbl_df` makes df into a 'local df' that improves the printing of dataframes in the console (there's now a dedicated package [`tibble`](www.github.com/hadley/tibble) for this wrapper)\n",
    "* if you want to see more of the data you can still coerce to `data.frame`"
   ]
  },
  {
   "cell_type": "markdown",
   "metadata": {
    "slideshow": {
     "slide_type": "-"
    }
   },
   "source": [
    "# Data: mammals sleep\n",
    "\n",
    "The msleep (mammals sleep) data set contains the sleeptimes and weights for a set of mammals and is available in the dagdata repository on github. This data set contains 83 rows and 11 variables.\n",
    "\n",
    "Download the msleep data set in CSV format from here, and then load into R:"
   ]
  },
  {
   "cell_type": "code",
   "execution_count": 1,
   "metadata": {},
   "outputs": [
    {
     "name": "stderr",
     "output_type": "stream",
     "text": [
      "Installing package into ‘/home/iserina/R/x86_64-pc-linux-gnu-library/3.5’\n",
      "(as ‘lib’ is unspecified)\n",
      "\n",
      "Attaching package: ‘dplyr’\n",
      "\n",
      "The following objects are masked from ‘package:stats’:\n",
      "\n",
      "    filter, lag\n",
      "\n",
      "The following objects are masked from ‘package:base’:\n",
      "\n",
      "    intersect, setdiff, setequal, union\n",
      "\n"
     ]
    },
    {
     "data": {
      "text/html": [
       "<table>\n",
       "<thead><tr><th scope=col>name</th><th scope=col>genus</th><th scope=col>vore</th><th scope=col>order</th><th scope=col>conservation</th><th scope=col>sleep_total</th><th scope=col>sleep_rem</th><th scope=col>sleep_cycle</th><th scope=col>awake</th><th scope=col>brainwt</th><th scope=col>bodywt</th></tr></thead>\n",
       "<tbody>\n",
       "\t<tr><td>Cheetah                   </td><td>Acinonyx                  </td><td>carni                     </td><td>Carnivora                 </td><td>lc                        </td><td>12.1                      </td><td> NA                       </td><td>       NA                 </td><td>11.9                      </td><td>     NA                   </td><td> 50.000                   </td></tr>\n",
       "\t<tr><td>Owl monkey                </td><td>Aotus                     </td><td>omni                      </td><td>Primates                  </td><td>NA                        </td><td>17.0                      </td><td>1.8                       </td><td>       NA                 </td><td> 7.0                      </td><td>0.01550                   </td><td>  0.480                   </td></tr>\n",
       "\t<tr><td>Mountain beaver           </td><td>Aplodontia                </td><td>herbi                     </td><td>Rodentia                  </td><td>nt                        </td><td>14.4                      </td><td>2.4                       </td><td>       NA                 </td><td> 9.6                      </td><td>     NA                   </td><td>  1.350                   </td></tr>\n",
       "\t<tr><td>Greater short-tailed shrew</td><td>Blarina                   </td><td>omni                      </td><td>Soricomorpha              </td><td>lc                        </td><td>14.9                      </td><td>2.3                       </td><td>0.1333333                 </td><td> 9.1                      </td><td>0.00029                   </td><td>  0.019                   </td></tr>\n",
       "\t<tr><td>Cow                       </td><td>Bos                       </td><td>herbi                     </td><td>Artiodactyla              </td><td>domesticated              </td><td> 4.0                      </td><td>0.7                       </td><td>0.6666667                 </td><td>20.0                      </td><td>0.42300                   </td><td>600.000                   </td></tr>\n",
       "\t<tr><td>Three-toed sloth          </td><td>Bradypus                  </td><td>herbi                     </td><td>Pilosa                    </td><td>NA                        </td><td>14.4                      </td><td>2.2                       </td><td>0.7666667                 </td><td> 9.6                      </td><td>     NA                   </td><td>  3.850                   </td></tr>\n",
       "</tbody>\n",
       "</table>\n"
      ],
      "text/latex": [
       "\\begin{tabular}{r|lllllllllll}\n",
       " name & genus & vore & order & conservation & sleep\\_total & sleep\\_rem & sleep\\_cycle & awake & brainwt & bodywt\\\\\n",
       "\\hline\n",
       "\t Cheetah                    & Acinonyx                   & carni                      & Carnivora                  & lc                         & 12.1                       &  NA                        &        NA                  & 11.9                       &      NA                    &  50.000                   \\\\\n",
       "\t Owl monkey                 & Aotus                      & omni                       & Primates                   & NA                         & 17.0                       & 1.8                        &        NA                  &  7.0                       & 0.01550                    &   0.480                   \\\\\n",
       "\t Mountain beaver            & Aplodontia                 & herbi                      & Rodentia                   & nt                         & 14.4                       & 2.4                        &        NA                  &  9.6                       &      NA                    &   1.350                   \\\\\n",
       "\t Greater short-tailed shrew & Blarina                    & omni                       & Soricomorpha               & lc                         & 14.9                       & 2.3                        & 0.1333333                  &  9.1                       & 0.00029                    &   0.019                   \\\\\n",
       "\t Cow                        & Bos                        & herbi                      & Artiodactyla               & domesticated               &  4.0                       & 0.7                        & 0.6666667                  & 20.0                       & 0.42300                    & 600.000                   \\\\\n",
       "\t Three-toed sloth           & Bradypus                   & herbi                      & Pilosa                     & NA                         & 14.4                       & 2.2                        & 0.7666667                  &  9.6                       &      NA                    &   3.850                   \\\\\n",
       "\\end{tabular}\n"
      ],
      "text/markdown": [
       "\n",
       "name | genus | vore | order | conservation | sleep_total | sleep_rem | sleep_cycle | awake | brainwt | bodywt | \n",
       "|---|---|---|---|---|---|\n",
       "| Cheetah                    | Acinonyx                   | carni                      | Carnivora                  | lc                         | 12.1                       |  NA                        |        NA                  | 11.9                       |      NA                    |  50.000                    | \n",
       "| Owl monkey                 | Aotus                      | omni                       | Primates                   | NA                         | 17.0                       | 1.8                        |        NA                  |  7.0                       | 0.01550                    |   0.480                    | \n",
       "| Mountain beaver            | Aplodontia                 | herbi                      | Rodentia                   | nt                         | 14.4                       | 2.4                        |        NA                  |  9.6                       |      NA                    |   1.350                    | \n",
       "| Greater short-tailed shrew | Blarina                    | omni                       | Soricomorpha               | lc                         | 14.9                       | 2.3                        | 0.1333333                  |  9.1                       | 0.00029                    |   0.019                    | \n",
       "| Cow                        | Bos                        | herbi                      | Artiodactyla               | domesticated               |  4.0                       | 0.7                        | 0.6666667                  | 20.0                       | 0.42300                    | 600.000                    | \n",
       "| Three-toed sloth           | Bradypus                   | herbi                      | Pilosa                     | NA                         | 14.4                       | 2.2                        | 0.7666667                  |  9.6                       |      NA                    |   3.850                    | \n",
       "\n",
       "\n"
      ],
      "text/plain": [
       "  name                       genus      vore  order        conservation\n",
       "1 Cheetah                    Acinonyx   carni Carnivora    lc          \n",
       "2 Owl monkey                 Aotus      omni  Primates     NA          \n",
       "3 Mountain beaver            Aplodontia herbi Rodentia     nt          \n",
       "4 Greater short-tailed shrew Blarina    omni  Soricomorpha lc          \n",
       "5 Cow                        Bos        herbi Artiodactyla domesticated\n",
       "6 Three-toed sloth           Bradypus   herbi Pilosa       NA          \n",
       "  sleep_total sleep_rem sleep_cycle awake brainwt bodywt \n",
       "1 12.1         NA              NA   11.9       NA  50.000\n",
       "2 17.0        1.8              NA    7.0  0.01550   0.480\n",
       "3 14.4        2.4              NA    9.6       NA   1.350\n",
       "4 14.9        2.3       0.1333333    9.1  0.00029   0.019\n",
       "5  4.0        0.7       0.6666667   20.0  0.42300 600.000\n",
       "6 14.4        2.2       0.7666667    9.6       NA   3.850"
      ]
     },
     "metadata": {},
     "output_type": "display_data"
    }
   ],
   "source": [
    "install.packages(\"downloader\")\n",
    "library(downloader)\n",
    "library(dplyr)\n",
    "url <- \"https://raw.githubusercontent.com/genomicsclass/dagdata/master/inst/extdata/msleep_ggplot2.csv\"\n",
    "filename <- \"msleep_ggplot2.csv\"\n",
    "if (!file.exists(filename)) download(url,filename)\n",
    "msleep <- read.csv(\"msleep_ggplot2.csv\")\n",
    "head(msleep)"
   ]
  },
  {
   "cell_type": "markdown",
   "metadata": {},
   "source": [
    "The columns (in order) correspond to the following:\n",
    "\n",
    "column name \tDescription\n",
    "name \tcommon name\n",
    "genus \ttaxonomic rank\n",
    "vore \tcarnivore, omnivore or herbivore?\n",
    "order \ttaxonomic rank\n",
    "conservation \tthe conservation status of the mammal\n",
    "sleep_total \ttotal amount of sleep, in hours\n",
    "sleep_rem \trem sleep, in hours\n",
    "sleep_cycle \tlength of sleep cycle, in hours\n",
    "awake \tamount of time spent awake, in hours\n",
    "brainwt \tbrain weight in kilograms\n",
    "bodywt \tbody weight in kilograms\n",
    "\n",
    "#Important dplyr verbs to remember\n",
    "dplyr verbs \tDescription\n",
    "select() \tselect columns\n",
    "filter() \tfilter rows\n",
    "arrange() \tre-order or arrange rows\n",
    "mutate() \tcreate new columns\n",
    "summarise() \tsummarise values\n",
    "group_by() \tallows for group operations in the “split-apply-combine” concept\n",
    "\n",
    "#dplyr verbs in action\n",
    "\n",
    "The two most basic functions are select() and filter() which selects columns and filters rows, respectively.\n",
    "Selecting columns using select()\n",
    "\n",
    "Select a set of columns: the name and the sleep_total columns."
   ]
  },
  {
   "cell_type": "code",
   "execution_count": 2,
   "metadata": {},
   "outputs": [
    {
     "data": {
      "text/html": [
       "<table>\n",
       "<thead><tr><th scope=col>name</th><th scope=col>sleep_total</th></tr></thead>\n",
       "<tbody>\n",
       "\t<tr><td>Cheetah                   </td><td>12.1                      </td></tr>\n",
       "\t<tr><td>Owl monkey                </td><td>17.0                      </td></tr>\n",
       "\t<tr><td>Mountain beaver           </td><td>14.4                      </td></tr>\n",
       "\t<tr><td>Greater short-tailed shrew</td><td>14.9                      </td></tr>\n",
       "\t<tr><td>Cow                       </td><td> 4.0                      </td></tr>\n",
       "\t<tr><td>Three-toed sloth          </td><td>14.4                      </td></tr>\n",
       "</tbody>\n",
       "</table>\n"
      ],
      "text/latex": [
       "\\begin{tabular}{r|ll}\n",
       " name & sleep\\_total\\\\\n",
       "\\hline\n",
       "\t Cheetah                    & 12.1                      \\\\\n",
       "\t Owl monkey                 & 17.0                      \\\\\n",
       "\t Mountain beaver            & 14.4                      \\\\\n",
       "\t Greater short-tailed shrew & 14.9                      \\\\\n",
       "\t Cow                        &  4.0                      \\\\\n",
       "\t Three-toed sloth           & 14.4                      \\\\\n",
       "\\end{tabular}\n"
      ],
      "text/markdown": [
       "\n",
       "name | sleep_total | \n",
       "|---|---|---|---|---|---|\n",
       "| Cheetah                    | 12.1                       | \n",
       "| Owl monkey                 | 17.0                       | \n",
       "| Mountain beaver            | 14.4                       | \n",
       "| Greater short-tailed shrew | 14.9                       | \n",
       "| Cow                        |  4.0                       | \n",
       "| Three-toed sloth           | 14.4                       | \n",
       "\n",
       "\n"
      ],
      "text/plain": [
       "  name                       sleep_total\n",
       "1 Cheetah                    12.1       \n",
       "2 Owl monkey                 17.0       \n",
       "3 Mountain beaver            14.4       \n",
       "4 Greater short-tailed shrew 14.9       \n",
       "5 Cow                         4.0       \n",
       "6 Three-toed sloth           14.4       "
      ]
     },
     "metadata": {},
     "output_type": "display_data"
    }
   ],
   "source": [
    "sleepData <- select(msleep, name, sleep_total)\n",
    "head(sleepData)\n"
   ]
  },
  {
   "cell_type": "markdown",
   "metadata": {},
   "source": [
    "To select all the columns except a specific column, use the “-“ (subtraction) operator (also known as negative indexing)"
   ]
  },
  {
   "cell_type": "code",
   "execution_count": 3,
   "metadata": {},
   "outputs": [
    {
     "data": {
      "text/html": [
       "<table>\n",
       "<thead><tr><th scope=col>genus</th><th scope=col>vore</th><th scope=col>order</th><th scope=col>conservation</th><th scope=col>sleep_total</th><th scope=col>sleep_rem</th><th scope=col>sleep_cycle</th><th scope=col>awake</th><th scope=col>brainwt</th><th scope=col>bodywt</th></tr></thead>\n",
       "<tbody>\n",
       "\t<tr><td>Acinonyx    </td><td>carni       </td><td>Carnivora   </td><td>lc          </td><td>12.1        </td><td> NA         </td><td>       NA   </td><td>11.9        </td><td>     NA     </td><td> 50.000     </td></tr>\n",
       "\t<tr><td>Aotus       </td><td>omni        </td><td>Primates    </td><td>NA          </td><td>17.0        </td><td>1.8         </td><td>       NA   </td><td> 7.0        </td><td>0.01550     </td><td>  0.480     </td></tr>\n",
       "\t<tr><td>Aplodontia  </td><td>herbi       </td><td>Rodentia    </td><td>nt          </td><td>14.4        </td><td>2.4         </td><td>       NA   </td><td> 9.6        </td><td>     NA     </td><td>  1.350     </td></tr>\n",
       "\t<tr><td>Blarina     </td><td>omni        </td><td>Soricomorpha</td><td>lc          </td><td>14.9        </td><td>2.3         </td><td>0.1333333   </td><td> 9.1        </td><td>0.00029     </td><td>  0.019     </td></tr>\n",
       "\t<tr><td>Bos         </td><td>herbi       </td><td>Artiodactyla</td><td>domesticated</td><td> 4.0        </td><td>0.7         </td><td>0.6666667   </td><td>20.0        </td><td>0.42300     </td><td>600.000     </td></tr>\n",
       "\t<tr><td>Bradypus    </td><td>herbi       </td><td>Pilosa      </td><td>NA          </td><td>14.4        </td><td>2.2         </td><td>0.7666667   </td><td> 9.6        </td><td>     NA     </td><td>  3.850     </td></tr>\n",
       "</tbody>\n",
       "</table>\n"
      ],
      "text/latex": [
       "\\begin{tabular}{r|llllllllll}\n",
       " genus & vore & order & conservation & sleep\\_total & sleep\\_rem & sleep\\_cycle & awake & brainwt & bodywt\\\\\n",
       "\\hline\n",
       "\t Acinonyx     & carni        & Carnivora    & lc           & 12.1         &  NA          &        NA    & 11.9         &      NA      &  50.000     \\\\\n",
       "\t Aotus        & omni         & Primates     & NA           & 17.0         & 1.8          &        NA    &  7.0         & 0.01550      &   0.480     \\\\\n",
       "\t Aplodontia   & herbi        & Rodentia     & nt           & 14.4         & 2.4          &        NA    &  9.6         &      NA      &   1.350     \\\\\n",
       "\t Blarina      & omni         & Soricomorpha & lc           & 14.9         & 2.3          & 0.1333333    &  9.1         & 0.00029      &   0.019     \\\\\n",
       "\t Bos          & herbi        & Artiodactyla & domesticated &  4.0         & 0.7          & 0.6666667    & 20.0         & 0.42300      & 600.000     \\\\\n",
       "\t Bradypus     & herbi        & Pilosa       & NA           & 14.4         & 2.2          & 0.7666667    &  9.6         &      NA      &   3.850     \\\\\n",
       "\\end{tabular}\n"
      ],
      "text/markdown": [
       "\n",
       "genus | vore | order | conservation | sleep_total | sleep_rem | sleep_cycle | awake | brainwt | bodywt | \n",
       "|---|---|---|---|---|---|\n",
       "| Acinonyx     | carni        | Carnivora    | lc           | 12.1         |  NA          |        NA    | 11.9         |      NA      |  50.000      | \n",
       "| Aotus        | omni         | Primates     | NA           | 17.0         | 1.8          |        NA    |  7.0         | 0.01550      |   0.480      | \n",
       "| Aplodontia   | herbi        | Rodentia     | nt           | 14.4         | 2.4          |        NA    |  9.6         |      NA      |   1.350      | \n",
       "| Blarina      | omni         | Soricomorpha | lc           | 14.9         | 2.3          | 0.1333333    |  9.1         | 0.00029      |   0.019      | \n",
       "| Bos          | herbi        | Artiodactyla | domesticated |  4.0         | 0.7          | 0.6666667    | 20.0         | 0.42300      | 600.000      | \n",
       "| Bradypus     | herbi        | Pilosa       | NA           | 14.4         | 2.2          | 0.7666667    |  9.6         |      NA      |   3.850      | \n",
       "\n",
       "\n"
      ],
      "text/plain": [
       "  genus      vore  order        conservation sleep_total sleep_rem sleep_cycle\n",
       "1 Acinonyx   carni Carnivora    lc           12.1         NA              NA  \n",
       "2 Aotus      omni  Primates     NA           17.0        1.8              NA  \n",
       "3 Aplodontia herbi Rodentia     nt           14.4        2.4              NA  \n",
       "4 Blarina    omni  Soricomorpha lc           14.9        2.3       0.1333333  \n",
       "5 Bos        herbi Artiodactyla domesticated  4.0        0.7       0.6666667  \n",
       "6 Bradypus   herbi Pilosa       NA           14.4        2.2       0.7666667  \n",
       "  awake brainwt bodywt \n",
       "1 11.9       NA  50.000\n",
       "2  7.0  0.01550   0.480\n",
       "3  9.6       NA   1.350\n",
       "4  9.1  0.00029   0.019\n",
       "5 20.0  0.42300 600.000\n",
       "6  9.6       NA   3.850"
      ]
     },
     "metadata": {},
     "output_type": "display_data"
    }
   ],
   "source": [
    "head(select(msleep, -name))"
   ]
  },
  {
   "cell_type": "markdown",
   "metadata": {},
   "source": [
    "To select a range of columns by name, use the “:” (colon) operator"
   ]
  },
  {
   "cell_type": "code",
   "execution_count": 4,
   "metadata": {},
   "outputs": [
    {
     "data": {
      "text/html": [
       "<table>\n",
       "<thead><tr><th scope=col>name</th><th scope=col>genus</th><th scope=col>vore</th><th scope=col>order</th></tr></thead>\n",
       "<tbody>\n",
       "\t<tr><td>Cheetah                   </td><td>Acinonyx                  </td><td>carni                     </td><td>Carnivora                 </td></tr>\n",
       "\t<tr><td>Owl monkey                </td><td>Aotus                     </td><td>omni                      </td><td>Primates                  </td></tr>\n",
       "\t<tr><td>Mountain beaver           </td><td>Aplodontia                </td><td>herbi                     </td><td>Rodentia                  </td></tr>\n",
       "\t<tr><td>Greater short-tailed shrew</td><td>Blarina                   </td><td>omni                      </td><td>Soricomorpha              </td></tr>\n",
       "\t<tr><td>Cow                       </td><td>Bos                       </td><td>herbi                     </td><td>Artiodactyla              </td></tr>\n",
       "\t<tr><td>Three-toed sloth          </td><td>Bradypus                  </td><td>herbi                     </td><td>Pilosa                    </td></tr>\n",
       "</tbody>\n",
       "</table>\n"
      ],
      "text/latex": [
       "\\begin{tabular}{r|llll}\n",
       " name & genus & vore & order\\\\\n",
       "\\hline\n",
       "\t Cheetah                    & Acinonyx                   & carni                      & Carnivora                 \\\\\n",
       "\t Owl monkey                 & Aotus                      & omni                       & Primates                  \\\\\n",
       "\t Mountain beaver            & Aplodontia                 & herbi                      & Rodentia                  \\\\\n",
       "\t Greater short-tailed shrew & Blarina                    & omni                       & Soricomorpha              \\\\\n",
       "\t Cow                        & Bos                        & herbi                      & Artiodactyla              \\\\\n",
       "\t Three-toed sloth           & Bradypus                   & herbi                      & Pilosa                    \\\\\n",
       "\\end{tabular}\n"
      ],
      "text/markdown": [
       "\n",
       "name | genus | vore | order | \n",
       "|---|---|---|---|---|---|\n",
       "| Cheetah                    | Acinonyx                   | carni                      | Carnivora                  | \n",
       "| Owl monkey                 | Aotus                      | omni                       | Primates                   | \n",
       "| Mountain beaver            | Aplodontia                 | herbi                      | Rodentia                   | \n",
       "| Greater short-tailed shrew | Blarina                    | omni                       | Soricomorpha               | \n",
       "| Cow                        | Bos                        | herbi                      | Artiodactyla               | \n",
       "| Three-toed sloth           | Bradypus                   | herbi                      | Pilosa                     | \n",
       "\n",
       "\n"
      ],
      "text/plain": [
       "  name                       genus      vore  order       \n",
       "1 Cheetah                    Acinonyx   carni Carnivora   \n",
       "2 Owl monkey                 Aotus      omni  Primates    \n",
       "3 Mountain beaver            Aplodontia herbi Rodentia    \n",
       "4 Greater short-tailed shrew Blarina    omni  Soricomorpha\n",
       "5 Cow                        Bos        herbi Artiodactyla\n",
       "6 Three-toed sloth           Bradypus   herbi Pilosa      "
      ]
     },
     "metadata": {},
     "output_type": "display_data"
    }
   ],
   "source": [
    "head(select(msleep, name:order))\n",
    "\n"
   ]
  },
  {
   "cell_type": "markdown",
   "metadata": {},
   "source": [
    "To select all columns that start with the character string “sl”, use the function starts_with()"
   ]
  },
  {
   "cell_type": "code",
   "execution_count": 5,
   "metadata": {},
   "outputs": [
    {
     "data": {
      "text/html": [
       "<table>\n",
       "<thead><tr><th scope=col>sleep_total</th><th scope=col>sleep_rem</th><th scope=col>sleep_cycle</th></tr></thead>\n",
       "<tbody>\n",
       "\t<tr><td>12.1     </td><td> NA      </td><td>       NA</td></tr>\n",
       "\t<tr><td>17.0     </td><td>1.8      </td><td>       NA</td></tr>\n",
       "\t<tr><td>14.4     </td><td>2.4      </td><td>       NA</td></tr>\n",
       "\t<tr><td>14.9     </td><td>2.3      </td><td>0.1333333</td></tr>\n",
       "\t<tr><td> 4.0     </td><td>0.7      </td><td>0.6666667</td></tr>\n",
       "\t<tr><td>14.4     </td><td>2.2      </td><td>0.7666667</td></tr>\n",
       "</tbody>\n",
       "</table>\n"
      ],
      "text/latex": [
       "\\begin{tabular}{r|lll}\n",
       " sleep\\_total & sleep\\_rem & sleep\\_cycle\\\\\n",
       "\\hline\n",
       "\t 12.1      &  NA       &        NA\\\\\n",
       "\t 17.0      & 1.8       &        NA\\\\\n",
       "\t 14.4      & 2.4       &        NA\\\\\n",
       "\t 14.9      & 2.3       & 0.1333333\\\\\n",
       "\t  4.0      & 0.7       & 0.6666667\\\\\n",
       "\t 14.4      & 2.2       & 0.7666667\\\\\n",
       "\\end{tabular}\n"
      ],
      "text/markdown": [
       "\n",
       "sleep_total | sleep_rem | sleep_cycle | \n",
       "|---|---|---|---|---|---|\n",
       "| 12.1      |  NA       |        NA | \n",
       "| 17.0      | 1.8       |        NA | \n",
       "| 14.4      | 2.4       |        NA | \n",
       "| 14.9      | 2.3       | 0.1333333 | \n",
       "|  4.0      | 0.7       | 0.6666667 | \n",
       "| 14.4      | 2.2       | 0.7666667 | \n",
       "\n",
       "\n"
      ],
      "text/plain": [
       "  sleep_total sleep_rem sleep_cycle\n",
       "1 12.1         NA              NA  \n",
       "2 17.0        1.8              NA  \n",
       "3 14.4        2.4              NA  \n",
       "4 14.9        2.3       0.1333333  \n",
       "5  4.0        0.7       0.6666667  \n",
       "6 14.4        2.2       0.7666667  "
      ]
     },
     "metadata": {},
     "output_type": "display_data"
    }
   ],
   "source": [
    "head(select(msleep, starts_with(\"sl\")))\n"
   ]
  },
  {
   "cell_type": "markdown",
   "metadata": {},
   "source": [
    "Some additional options to select columns based on a specific criteria include\n",
    "\n",
    "    ends_with() = Select columns that end with a character string\n",
    "    contains() = Select columns that contain a character string\n",
    "    matches() = Select columns that match a regular expression\n",
    "    one_of() = Select columns names that are from a group of names\n"
   ]
  },
  {
   "cell_type": "markdown",
   "metadata": {},
   "source": [
    "# Selecting rows using filter()\n",
    "\n",
    "Filter the rows for mammals that sleep a total of more than 16 hours."
   ]
  },
  {
   "cell_type": "code",
   "execution_count": 6,
   "metadata": {},
   "outputs": [
    {
     "data": {
      "text/html": [
       "<table>\n",
       "<thead><tr><th scope=col>name</th><th scope=col>genus</th><th scope=col>vore</th><th scope=col>order</th><th scope=col>conservation</th><th scope=col>sleep_total</th><th scope=col>sleep_rem</th><th scope=col>sleep_cycle</th><th scope=col>awake</th><th scope=col>brainwt</th><th scope=col>bodywt</th></tr></thead>\n",
       "<tbody>\n",
       "\t<tr><td>Owl monkey            </td><td>Aotus                 </td><td>omni                  </td><td>Primates              </td><td>NA                    </td><td>17.0                  </td><td>1.8                   </td><td>       NA             </td><td>7.0                   </td><td>0.01550               </td><td> 0.480                </td></tr>\n",
       "\t<tr><td>Long-nosed armadillo  </td><td>Dasypus               </td><td>carni                 </td><td>Cingulata             </td><td>lc                    </td><td>17.4                  </td><td>3.1                   </td><td>0.3833333             </td><td>6.6                   </td><td>0.01080               </td><td> 3.500                </td></tr>\n",
       "\t<tr><td>North American Opossum</td><td>Didelphis             </td><td>omni                  </td><td>Didelphimorphia       </td><td>lc                    </td><td>18.0                  </td><td>4.9                   </td><td>0.3333333             </td><td>6.0                   </td><td>0.00630               </td><td> 1.700                </td></tr>\n",
       "\t<tr><td>Big brown bat         </td><td>Eptesicus             </td><td>insecti               </td><td>Chiroptera            </td><td>lc                    </td><td>19.7                  </td><td>3.9                   </td><td>0.1166667             </td><td>4.3                   </td><td>0.00030               </td><td> 0.023                </td></tr>\n",
       "\t<tr><td>Thick-tailed opposum  </td><td>Lutreolina            </td><td>carni                 </td><td>Didelphimorphia       </td><td>lc                    </td><td>19.4                  </td><td>6.6                   </td><td>       NA             </td><td>4.6                   </td><td>     NA               </td><td> 0.370                </td></tr>\n",
       "\t<tr><td>Little brown bat      </td><td>Myotis                </td><td>insecti               </td><td>Chiroptera            </td><td>NA                    </td><td>19.9                  </td><td>2.0                   </td><td>0.2000000             </td><td>4.1                   </td><td>0.00025               </td><td> 0.010                </td></tr>\n",
       "\t<tr><td>Giant armadillo       </td><td>Priodontes            </td><td>insecti               </td><td>Cingulata             </td><td>en                    </td><td>18.1                  </td><td>6.1                   </td><td>       NA             </td><td>5.9                   </td><td>0.08100               </td><td>60.000                </td></tr>\n",
       "\t<tr><td>Arctic ground squirrel</td><td>Spermophilus          </td><td>herbi                 </td><td>Rodentia              </td><td>lc                    </td><td>16.6                  </td><td> NA                   </td><td>       NA             </td><td>7.4                   </td><td>0.00570               </td><td> 0.920                </td></tr>\n",
       "</tbody>\n",
       "</table>\n"
      ],
      "text/latex": [
       "\\begin{tabular}{r|lllllllllll}\n",
       " name & genus & vore & order & conservation & sleep\\_total & sleep\\_rem & sleep\\_cycle & awake & brainwt & bodywt\\\\\n",
       "\\hline\n",
       "\t Owl monkey             & Aotus                  & omni                   & Primates               & NA                     & 17.0                   & 1.8                    &        NA              & 7.0                    & 0.01550                &  0.480                \\\\\n",
       "\t Long-nosed armadillo   & Dasypus                & carni                  & Cingulata              & lc                     & 17.4                   & 3.1                    & 0.3833333              & 6.6                    & 0.01080                &  3.500                \\\\\n",
       "\t North American Opossum & Didelphis              & omni                   & Didelphimorphia        & lc                     & 18.0                   & 4.9                    & 0.3333333              & 6.0                    & 0.00630                &  1.700                \\\\\n",
       "\t Big brown bat          & Eptesicus              & insecti                & Chiroptera             & lc                     & 19.7                   & 3.9                    & 0.1166667              & 4.3                    & 0.00030                &  0.023                \\\\\n",
       "\t Thick-tailed opposum   & Lutreolina             & carni                  & Didelphimorphia        & lc                     & 19.4                   & 6.6                    &        NA              & 4.6                    &      NA                &  0.370                \\\\\n",
       "\t Little brown bat       & Myotis                 & insecti                & Chiroptera             & NA                     & 19.9                   & 2.0                    & 0.2000000              & 4.1                    & 0.00025                &  0.010                \\\\\n",
       "\t Giant armadillo        & Priodontes             & insecti                & Cingulata              & en                     & 18.1                   & 6.1                    &        NA              & 5.9                    & 0.08100                & 60.000                \\\\\n",
       "\t Arctic ground squirrel & Spermophilus           & herbi                  & Rodentia               & lc                     & 16.6                   &  NA                    &        NA              & 7.4                    & 0.00570                &  0.920                \\\\\n",
       "\\end{tabular}\n"
      ],
      "text/markdown": [
       "\n",
       "name | genus | vore | order | conservation | sleep_total | sleep_rem | sleep_cycle | awake | brainwt | bodywt | \n",
       "|---|---|---|---|---|---|---|---|\n",
       "| Owl monkey             | Aotus                  | omni                   | Primates               | NA                     | 17.0                   | 1.8                    |        NA              | 7.0                    | 0.01550                |  0.480                 | \n",
       "| Long-nosed armadillo   | Dasypus                | carni                  | Cingulata              | lc                     | 17.4                   | 3.1                    | 0.3833333              | 6.6                    | 0.01080                |  3.500                 | \n",
       "| North American Opossum | Didelphis              | omni                   | Didelphimorphia        | lc                     | 18.0                   | 4.9                    | 0.3333333              | 6.0                    | 0.00630                |  1.700                 | \n",
       "| Big brown bat          | Eptesicus              | insecti                | Chiroptera             | lc                     | 19.7                   | 3.9                    | 0.1166667              | 4.3                    | 0.00030                |  0.023                 | \n",
       "| Thick-tailed opposum   | Lutreolina             | carni                  | Didelphimorphia        | lc                     | 19.4                   | 6.6                    |        NA              | 4.6                    |      NA                |  0.370                 | \n",
       "| Little brown bat       | Myotis                 | insecti                | Chiroptera             | NA                     | 19.9                   | 2.0                    | 0.2000000              | 4.1                    | 0.00025                |  0.010                 | \n",
       "| Giant armadillo        | Priodontes             | insecti                | Cingulata              | en                     | 18.1                   | 6.1                    |        NA              | 5.9                    | 0.08100                | 60.000                 | \n",
       "| Arctic ground squirrel | Spermophilus           | herbi                  | Rodentia               | lc                     | 16.6                   |  NA                    |        NA              | 7.4                    | 0.00570                |  0.920                 | \n",
       "\n",
       "\n"
      ],
      "text/plain": [
       "  name                   genus        vore    order           conservation\n",
       "1 Owl monkey             Aotus        omni    Primates        NA          \n",
       "2 Long-nosed armadillo   Dasypus      carni   Cingulata       lc          \n",
       "3 North American Opossum Didelphis    omni    Didelphimorphia lc          \n",
       "4 Big brown bat          Eptesicus    insecti Chiroptera      lc          \n",
       "5 Thick-tailed opposum   Lutreolina   carni   Didelphimorphia lc          \n",
       "6 Little brown bat       Myotis       insecti Chiroptera      NA          \n",
       "7 Giant armadillo        Priodontes   insecti Cingulata       en          \n",
       "8 Arctic ground squirrel Spermophilus herbi   Rodentia        lc          \n",
       "  sleep_total sleep_rem sleep_cycle awake brainwt bodywt\n",
       "1 17.0        1.8              NA   7.0   0.01550  0.480\n",
       "2 17.4        3.1       0.3833333   6.6   0.01080  3.500\n",
       "3 18.0        4.9       0.3333333   6.0   0.00630  1.700\n",
       "4 19.7        3.9       0.1166667   4.3   0.00030  0.023\n",
       "5 19.4        6.6              NA   4.6        NA  0.370\n",
       "6 19.9        2.0       0.2000000   4.1   0.00025  0.010\n",
       "7 18.1        6.1              NA   5.9   0.08100 60.000\n",
       "8 16.6         NA              NA   7.4   0.00570  0.920"
      ]
     },
     "metadata": {},
     "output_type": "display_data"
    }
   ],
   "source": [
    "filter(msleep, sleep_total >= 16)"
   ]
  },
  {
   "cell_type": "markdown",
   "metadata": {},
   "source": [
    "Filter the rows for mammals that sleep a total of more than 16 hours and have a body weight of greater than 1 kilogram."
   ]
  },
  {
   "cell_type": "code",
   "execution_count": 7,
   "metadata": {},
   "outputs": [
    {
     "data": {
      "text/html": [
       "<table>\n",
       "<thead><tr><th scope=col>name</th><th scope=col>genus</th><th scope=col>vore</th><th scope=col>order</th><th scope=col>conservation</th><th scope=col>sleep_total</th><th scope=col>sleep_rem</th><th scope=col>sleep_cycle</th><th scope=col>awake</th><th scope=col>brainwt</th><th scope=col>bodywt</th></tr></thead>\n",
       "<tbody>\n",
       "\t<tr><td>Long-nosed armadillo  </td><td>Dasypus               </td><td>carni                 </td><td>Cingulata             </td><td>lc                    </td><td>17.4                  </td><td>3.1                   </td><td>0.3833333             </td><td>6.6                   </td><td>0.0108                </td><td> 3.5                  </td></tr>\n",
       "\t<tr><td>North American Opossum</td><td>Didelphis             </td><td>omni                  </td><td>Didelphimorphia       </td><td>lc                    </td><td>18.0                  </td><td>4.9                   </td><td>0.3333333             </td><td>6.0                   </td><td>0.0063                </td><td> 1.7                  </td></tr>\n",
       "\t<tr><td>Giant armadillo       </td><td>Priodontes            </td><td>insecti               </td><td>Cingulata             </td><td>en                    </td><td>18.1                  </td><td>6.1                   </td><td>       NA             </td><td>5.9                   </td><td>0.0810                </td><td>60.0                  </td></tr>\n",
       "</tbody>\n",
       "</table>\n"
      ],
      "text/latex": [
       "\\begin{tabular}{r|lllllllllll}\n",
       " name & genus & vore & order & conservation & sleep\\_total & sleep\\_rem & sleep\\_cycle & awake & brainwt & bodywt\\\\\n",
       "\\hline\n",
       "\t Long-nosed armadillo   & Dasypus                & carni                  & Cingulata              & lc                     & 17.4                   & 3.1                    & 0.3833333              & 6.6                    & 0.0108                 &  3.5                  \\\\\n",
       "\t North American Opossum & Didelphis              & omni                   & Didelphimorphia        & lc                     & 18.0                   & 4.9                    & 0.3333333              & 6.0                    & 0.0063                 &  1.7                  \\\\\n",
       "\t Giant armadillo        & Priodontes             & insecti                & Cingulata              & en                     & 18.1                   & 6.1                    &        NA              & 5.9                    & 0.0810                 & 60.0                  \\\\\n",
       "\\end{tabular}\n"
      ],
      "text/markdown": [
       "\n",
       "name | genus | vore | order | conservation | sleep_total | sleep_rem | sleep_cycle | awake | brainwt | bodywt | \n",
       "|---|---|---|\n",
       "| Long-nosed armadillo   | Dasypus                | carni                  | Cingulata              | lc                     | 17.4                   | 3.1                    | 0.3833333              | 6.6                    | 0.0108                 |  3.5                   | \n",
       "| North American Opossum | Didelphis              | omni                   | Didelphimorphia        | lc                     | 18.0                   | 4.9                    | 0.3333333              | 6.0                    | 0.0063                 |  1.7                   | \n",
       "| Giant armadillo        | Priodontes             | insecti                | Cingulata              | en                     | 18.1                   | 6.1                    |        NA              | 5.9                    | 0.0810                 | 60.0                   | \n",
       "\n",
       "\n"
      ],
      "text/plain": [
       "  name                   genus      vore    order           conservation\n",
       "1 Long-nosed armadillo   Dasypus    carni   Cingulata       lc          \n",
       "2 North American Opossum Didelphis  omni    Didelphimorphia lc          \n",
       "3 Giant armadillo        Priodontes insecti Cingulata       en          \n",
       "  sleep_total sleep_rem sleep_cycle awake brainwt bodywt\n",
       "1 17.4        3.1       0.3833333   6.6   0.0108   3.5  \n",
       "2 18.0        4.9       0.3333333   6.0   0.0063   1.7  \n",
       "3 18.1        6.1              NA   5.9   0.0810  60.0  "
      ]
     },
     "metadata": {},
     "output_type": "display_data"
    }
   ],
   "source": [
    "filter(msleep, sleep_total >= 16, bodywt >= 1)"
   ]
  },
  {
   "cell_type": "markdown",
   "metadata": {},
   "source": [
    "Filter the rows for mammals in the Perissodactyla and Primates taxonomic order"
   ]
  },
  {
   "cell_type": "code",
   "execution_count": 8,
   "metadata": {},
   "outputs": [
    {
     "data": {
      "text/html": [
       "<table>\n",
       "<thead><tr><th scope=col>name</th><th scope=col>genus</th><th scope=col>vore</th><th scope=col>order</th><th scope=col>conservation</th><th scope=col>sleep_total</th><th scope=col>sleep_rem</th><th scope=col>sleep_cycle</th><th scope=col>awake</th><th scope=col>brainwt</th><th scope=col>bodywt</th></tr></thead>\n",
       "<tbody>\n",
       "\t<tr><td>Owl monkey     </td><td>Aotus          </td><td>omni           </td><td>Primates       </td><td>NA             </td><td>17.0           </td><td>1.8            </td><td>       NA      </td><td> 7.0           </td><td>0.0155         </td><td>  0.480        </td></tr>\n",
       "\t<tr><td>Grivet         </td><td>Cercopithecus  </td><td>omni           </td><td>Primates       </td><td>lc             </td><td>10.0           </td><td>0.7            </td><td>       NA      </td><td>14.0           </td><td>    NA         </td><td>  4.750        </td></tr>\n",
       "\t<tr><td>Horse          </td><td>Equus          </td><td>herbi          </td><td>Perissodactyla </td><td>domesticated   </td><td> 2.9           </td><td>0.6            </td><td>1.0000000      </td><td>21.1           </td><td>0.6550         </td><td>521.000        </td></tr>\n",
       "\t<tr><td>Donkey         </td><td>Equus          </td><td>herbi          </td><td>Perissodactyla </td><td>domesticated   </td><td> 3.1           </td><td>0.4            </td><td>       NA      </td><td>20.9           </td><td>0.4190         </td><td>187.000        </td></tr>\n",
       "\t<tr><td>Patas monkey   </td><td>Erythrocebus   </td><td>omni           </td><td>Primates       </td><td>lc             </td><td>10.9           </td><td>1.1            </td><td>       NA      </td><td>13.1           </td><td>0.1150         </td><td> 10.000        </td></tr>\n",
       "\t<tr><td>Galago         </td><td>Galago         </td><td>omni           </td><td>Primates       </td><td>NA             </td><td> 9.8           </td><td>1.1            </td><td>0.5500000      </td><td>14.2           </td><td>0.0050         </td><td>  0.200        </td></tr>\n",
       "\t<tr><td>Human          </td><td>Homo           </td><td>omni           </td><td>Primates       </td><td>NA             </td><td> 8.0           </td><td>1.9            </td><td>1.5000000      </td><td>16.0           </td><td>1.3200         </td><td> 62.000        </td></tr>\n",
       "\t<tr><td>Mongoose lemur </td><td>Lemur          </td><td>herbi          </td><td>Primates       </td><td>vu             </td><td> 9.5           </td><td>0.9            </td><td>       NA      </td><td>14.5           </td><td>    NA         </td><td>  1.670        </td></tr>\n",
       "\t<tr><td>Macaque        </td><td>Macaca         </td><td>omni           </td><td>Primates       </td><td>NA             </td><td>10.1           </td><td>1.2            </td><td>0.7500000      </td><td>13.9           </td><td>0.1790         </td><td>  6.800        </td></tr>\n",
       "\t<tr><td>Slow loris     </td><td>Nyctibeus      </td><td>carni          </td><td>Primates       </td><td>NA             </td><td>11.0           </td><td> NA            </td><td>       NA      </td><td>13.0           </td><td>0.0125         </td><td>  1.400        </td></tr>\n",
       "\t<tr><td>Chimpanzee     </td><td>Pan            </td><td>omni           </td><td>Primates       </td><td>NA             </td><td> 9.7           </td><td>1.4            </td><td>1.4166667      </td><td>14.3           </td><td>0.4400         </td><td> 52.200        </td></tr>\n",
       "\t<tr><td>Baboon         </td><td>Papio          </td><td>omni           </td><td>Primates       </td><td>NA             </td><td> 9.4           </td><td>1.0            </td><td>0.6666667      </td><td>14.6           </td><td>0.1800         </td><td> 25.235        </td></tr>\n",
       "\t<tr><td>Potto          </td><td>Perodicticus   </td><td>omni           </td><td>Primates       </td><td>lc             </td><td>11.0           </td><td> NA            </td><td>       NA      </td><td>13.0           </td><td>    NA         </td><td>  1.100        </td></tr>\n",
       "\t<tr><td>Squirrel monkey</td><td>Saimiri        </td><td>omni           </td><td>Primates       </td><td>NA             </td><td> 9.6           </td><td>1.4            </td><td>       NA      </td><td>14.4           </td><td>0.0200         </td><td>  0.743        </td></tr>\n",
       "\t<tr><td>Brazilian tapir</td><td>Tapirus        </td><td>herbi          </td><td>Perissodactyla </td><td>vu             </td><td> 4.4           </td><td>1.0            </td><td>0.9000000      </td><td>19.6           </td><td>0.1690         </td><td>207.501        </td></tr>\n",
       "</tbody>\n",
       "</table>\n"
      ],
      "text/latex": [
       "\\begin{tabular}{r|lllllllllll}\n",
       " name & genus & vore & order & conservation & sleep\\_total & sleep\\_rem & sleep\\_cycle & awake & brainwt & bodywt\\\\\n",
       "\\hline\n",
       "\t Owl monkey      & Aotus           & omni            & Primates        & NA              & 17.0            & 1.8             &        NA       &  7.0            & 0.0155          &   0.480        \\\\\n",
       "\t Grivet          & Cercopithecus   & omni            & Primates        & lc              & 10.0            & 0.7             &        NA       & 14.0            &     NA          &   4.750        \\\\\n",
       "\t Horse           & Equus           & herbi           & Perissodactyla  & domesticated    &  2.9            & 0.6             & 1.0000000       & 21.1            & 0.6550          & 521.000        \\\\\n",
       "\t Donkey          & Equus           & herbi           & Perissodactyla  & domesticated    &  3.1            & 0.4             &        NA       & 20.9            & 0.4190          & 187.000        \\\\\n",
       "\t Patas monkey    & Erythrocebus    & omni            & Primates        & lc              & 10.9            & 1.1             &        NA       & 13.1            & 0.1150          &  10.000        \\\\\n",
       "\t Galago          & Galago          & omni            & Primates        & NA              &  9.8            & 1.1             & 0.5500000       & 14.2            & 0.0050          &   0.200        \\\\\n",
       "\t Human           & Homo            & omni            & Primates        & NA              &  8.0            & 1.9             & 1.5000000       & 16.0            & 1.3200          &  62.000        \\\\\n",
       "\t Mongoose lemur  & Lemur           & herbi           & Primates        & vu              &  9.5            & 0.9             &        NA       & 14.5            &     NA          &   1.670        \\\\\n",
       "\t Macaque         & Macaca          & omni            & Primates        & NA              & 10.1            & 1.2             & 0.7500000       & 13.9            & 0.1790          &   6.800        \\\\\n",
       "\t Slow loris      & Nyctibeus       & carni           & Primates        & NA              & 11.0            &  NA             &        NA       & 13.0            & 0.0125          &   1.400        \\\\\n",
       "\t Chimpanzee      & Pan             & omni            & Primates        & NA              &  9.7            & 1.4             & 1.4166667       & 14.3            & 0.4400          &  52.200        \\\\\n",
       "\t Baboon          & Papio           & omni            & Primates        & NA              &  9.4            & 1.0             & 0.6666667       & 14.6            & 0.1800          &  25.235        \\\\\n",
       "\t Potto           & Perodicticus    & omni            & Primates        & lc              & 11.0            &  NA             &        NA       & 13.0            &     NA          &   1.100        \\\\\n",
       "\t Squirrel monkey & Saimiri         & omni            & Primates        & NA              &  9.6            & 1.4             &        NA       & 14.4            & 0.0200          &   0.743        \\\\\n",
       "\t Brazilian tapir & Tapirus         & herbi           & Perissodactyla  & vu              &  4.4            & 1.0             & 0.9000000       & 19.6            & 0.1690          & 207.501        \\\\\n",
       "\\end{tabular}\n"
      ],
      "text/markdown": [
       "\n",
       "name | genus | vore | order | conservation | sleep_total | sleep_rem | sleep_cycle | awake | brainwt | bodywt | \n",
       "|---|---|---|---|---|---|---|---|---|---|---|---|---|---|---|\n",
       "| Owl monkey      | Aotus           | omni            | Primates        | NA              | 17.0            | 1.8             |        NA       |  7.0            | 0.0155          |   0.480         | \n",
       "| Grivet          | Cercopithecus   | omni            | Primates        | lc              | 10.0            | 0.7             |        NA       | 14.0            |     NA          |   4.750         | \n",
       "| Horse           | Equus           | herbi           | Perissodactyla  | domesticated    |  2.9            | 0.6             | 1.0000000       | 21.1            | 0.6550          | 521.000         | \n",
       "| Donkey          | Equus           | herbi           | Perissodactyla  | domesticated    |  3.1            | 0.4             |        NA       | 20.9            | 0.4190          | 187.000         | \n",
       "| Patas monkey    | Erythrocebus    | omni            | Primates        | lc              | 10.9            | 1.1             |        NA       | 13.1            | 0.1150          |  10.000         | \n",
       "| Galago          | Galago          | omni            | Primates        | NA              |  9.8            | 1.1             | 0.5500000       | 14.2            | 0.0050          |   0.200         | \n",
       "| Human           | Homo            | omni            | Primates        | NA              |  8.0            | 1.9             | 1.5000000       | 16.0            | 1.3200          |  62.000         | \n",
       "| Mongoose lemur  | Lemur           | herbi           | Primates        | vu              |  9.5            | 0.9             |        NA       | 14.5            |     NA          |   1.670         | \n",
       "| Macaque         | Macaca          | omni            | Primates        | NA              | 10.1            | 1.2             | 0.7500000       | 13.9            | 0.1790          |   6.800         | \n",
       "| Slow loris      | Nyctibeus       | carni           | Primates        | NA              | 11.0            |  NA             |        NA       | 13.0            | 0.0125          |   1.400         | \n",
       "| Chimpanzee      | Pan             | omni            | Primates        | NA              |  9.7            | 1.4             | 1.4166667       | 14.3            | 0.4400          |  52.200         | \n",
       "| Baboon          | Papio           | omni            | Primates        | NA              |  9.4            | 1.0             | 0.6666667       | 14.6            | 0.1800          |  25.235         | \n",
       "| Potto           | Perodicticus    | omni            | Primates        | lc              | 11.0            |  NA             |        NA       | 13.0            |     NA          |   1.100         | \n",
       "| Squirrel monkey | Saimiri         | omni            | Primates        | NA              |  9.6            | 1.4             |        NA       | 14.4            | 0.0200          |   0.743         | \n",
       "| Brazilian tapir | Tapirus         | herbi           | Perissodactyla  | vu              |  4.4            | 1.0             | 0.9000000       | 19.6            | 0.1690          | 207.501         | \n",
       "\n",
       "\n"
      ],
      "text/plain": [
       "   name            genus         vore  order          conservation sleep_total\n",
       "1  Owl monkey      Aotus         omni  Primates       NA           17.0       \n",
       "2  Grivet          Cercopithecus omni  Primates       lc           10.0       \n",
       "3  Horse           Equus         herbi Perissodactyla domesticated  2.9       \n",
       "4  Donkey          Equus         herbi Perissodactyla domesticated  3.1       \n",
       "5  Patas monkey    Erythrocebus  omni  Primates       lc           10.9       \n",
       "6  Galago          Galago        omni  Primates       NA            9.8       \n",
       "7  Human           Homo          omni  Primates       NA            8.0       \n",
       "8  Mongoose lemur  Lemur         herbi Primates       vu            9.5       \n",
       "9  Macaque         Macaca        omni  Primates       NA           10.1       \n",
       "10 Slow loris      Nyctibeus     carni Primates       NA           11.0       \n",
       "11 Chimpanzee      Pan           omni  Primates       NA            9.7       \n",
       "12 Baboon          Papio         omni  Primates       NA            9.4       \n",
       "13 Potto           Perodicticus  omni  Primates       lc           11.0       \n",
       "14 Squirrel monkey Saimiri       omni  Primates       NA            9.6       \n",
       "15 Brazilian tapir Tapirus       herbi Perissodactyla vu            4.4       \n",
       "   sleep_rem sleep_cycle awake brainwt bodywt \n",
       "1  1.8              NA    7.0  0.0155    0.480\n",
       "2  0.7              NA   14.0      NA    4.750\n",
       "3  0.6       1.0000000   21.1  0.6550  521.000\n",
       "4  0.4              NA   20.9  0.4190  187.000\n",
       "5  1.1              NA   13.1  0.1150   10.000\n",
       "6  1.1       0.5500000   14.2  0.0050    0.200\n",
       "7  1.9       1.5000000   16.0  1.3200   62.000\n",
       "8  0.9              NA   14.5      NA    1.670\n",
       "9  1.2       0.7500000   13.9  0.1790    6.800\n",
       "10  NA              NA   13.0  0.0125    1.400\n",
       "11 1.4       1.4166667   14.3  0.4400   52.200\n",
       "12 1.0       0.6666667   14.6  0.1800   25.235\n",
       "13  NA              NA   13.0      NA    1.100\n",
       "14 1.4              NA   14.4  0.0200    0.743\n",
       "15 1.0       0.9000000   19.6  0.1690  207.501"
      ]
     },
     "metadata": {},
     "output_type": "display_data"
    }
   ],
   "source": [
    "filter(msleep, order %in% c(\"Perissodactyla\", \"Primates\"))"
   ]
  },
  {
   "cell_type": "markdown",
   "metadata": {},
   "source": [
    "You can use the boolean operators (e.g. >, <, >=, <=, !=, %in%) to create the logical tests."
   ]
  },
  {
   "cell_type": "markdown",
   "metadata": {},
   "source": [
    "# Pipe operator: %>%\n",
    "\n",
    "Before we go any futher, let’s introduce the pipe operator: %>%. dplyr imports this operator from another package (magrittr). This operator allows you to pipe the output from one function to the input of another function. Instead of nesting functions (reading from the inside to the outside), the idea of of piping is to read the functions from left to right.\n",
    "\n",
    "Here’s an example you have seen:"
   ]
  },
  {
   "cell_type": "code",
   "execution_count": 9,
   "metadata": {},
   "outputs": [
    {
     "data": {
      "text/html": [
       "<table>\n",
       "<thead><tr><th scope=col>name</th><th scope=col>sleep_total</th></tr></thead>\n",
       "<tbody>\n",
       "\t<tr><td>Cheetah                   </td><td>12.1                      </td></tr>\n",
       "\t<tr><td>Owl monkey                </td><td>17.0                      </td></tr>\n",
       "\t<tr><td>Mountain beaver           </td><td>14.4                      </td></tr>\n",
       "\t<tr><td>Greater short-tailed shrew</td><td>14.9                      </td></tr>\n",
       "\t<tr><td>Cow                       </td><td> 4.0                      </td></tr>\n",
       "\t<tr><td>Three-toed sloth          </td><td>14.4                      </td></tr>\n",
       "</tbody>\n",
       "</table>\n"
      ],
      "text/latex": [
       "\\begin{tabular}{r|ll}\n",
       " name & sleep\\_total\\\\\n",
       "\\hline\n",
       "\t Cheetah                    & 12.1                      \\\\\n",
       "\t Owl monkey                 & 17.0                      \\\\\n",
       "\t Mountain beaver            & 14.4                      \\\\\n",
       "\t Greater short-tailed shrew & 14.9                      \\\\\n",
       "\t Cow                        &  4.0                      \\\\\n",
       "\t Three-toed sloth           & 14.4                      \\\\\n",
       "\\end{tabular}\n"
      ],
      "text/markdown": [
       "\n",
       "name | sleep_total | \n",
       "|---|---|---|---|---|---|\n",
       "| Cheetah                    | 12.1                       | \n",
       "| Owl monkey                 | 17.0                       | \n",
       "| Mountain beaver            | 14.4                       | \n",
       "| Greater short-tailed shrew | 14.9                       | \n",
       "| Cow                        |  4.0                       | \n",
       "| Three-toed sloth           | 14.4                       | \n",
       "\n",
       "\n"
      ],
      "text/plain": [
       "  name                       sleep_total\n",
       "1 Cheetah                    12.1       \n",
       "2 Owl monkey                 17.0       \n",
       "3 Mountain beaver            14.4       \n",
       "4 Greater short-tailed shrew 14.9       \n",
       "5 Cow                         4.0       \n",
       "6 Three-toed sloth           14.4       "
      ]
     },
     "metadata": {},
     "output_type": "display_data"
    }
   ],
   "source": [
    "head(select(msleep, name, sleep_total))\n"
   ]
  },
  {
   "cell_type": "markdown",
   "metadata": {},
   "source": [
    "Now in this case, we will pipe the msleep data frame to the function that will select two columns (name and sleep_total) and then pipe the new data frame to the function head() which will return the head of the new data frame."
   ]
  },
  {
   "cell_type": "code",
   "execution_count": 10,
   "metadata": {},
   "outputs": [
    {
     "data": {
      "text/html": [
       "<table>\n",
       "<thead><tr><th scope=col>name</th><th scope=col>sleep_total</th></tr></thead>\n",
       "<tbody>\n",
       "\t<tr><td>Cheetah                   </td><td>12.1                      </td></tr>\n",
       "\t<tr><td>Owl monkey                </td><td>17.0                      </td></tr>\n",
       "\t<tr><td>Mountain beaver           </td><td>14.4                      </td></tr>\n",
       "\t<tr><td>Greater short-tailed shrew</td><td>14.9                      </td></tr>\n",
       "\t<tr><td>Cow                       </td><td> 4.0                      </td></tr>\n",
       "\t<tr><td>Three-toed sloth          </td><td>14.4                      </td></tr>\n",
       "</tbody>\n",
       "</table>\n"
      ],
      "text/latex": [
       "\\begin{tabular}{r|ll}\n",
       " name & sleep\\_total\\\\\n",
       "\\hline\n",
       "\t Cheetah                    & 12.1                      \\\\\n",
       "\t Owl monkey                 & 17.0                      \\\\\n",
       "\t Mountain beaver            & 14.4                      \\\\\n",
       "\t Greater short-tailed shrew & 14.9                      \\\\\n",
       "\t Cow                        &  4.0                      \\\\\n",
       "\t Three-toed sloth           & 14.4                      \\\\\n",
       "\\end{tabular}\n"
      ],
      "text/markdown": [
       "\n",
       "name | sleep_total | \n",
       "|---|---|---|---|---|---|\n",
       "| Cheetah                    | 12.1                       | \n",
       "| Owl monkey                 | 17.0                       | \n",
       "| Mountain beaver            | 14.4                       | \n",
       "| Greater short-tailed shrew | 14.9                       | \n",
       "| Cow                        |  4.0                       | \n",
       "| Three-toed sloth           | 14.4                       | \n",
       "\n",
       "\n"
      ],
      "text/plain": [
       "  name                       sleep_total\n",
       "1 Cheetah                    12.1       \n",
       "2 Owl monkey                 17.0       \n",
       "3 Mountain beaver            14.4       \n",
       "4 Greater short-tailed shrew 14.9       \n",
       "5 Cow                         4.0       \n",
       "6 Three-toed sloth           14.4       "
      ]
     },
     "metadata": {},
     "output_type": "display_data"
    }
   ],
   "source": [
    "msleep %>% \n",
    "    select(name, sleep_total) %>% \n",
    "    head\n",
    "\n"
   ]
  },
  {
   "cell_type": "markdown",
   "metadata": {},
   "source": [
    "You will soon see how useful the pipe operator is when we start to combine many functions."
   ]
  },
  {
   "cell_type": "markdown",
   "metadata": {},
   "source": [
    "# Back to dplyr verbs in action\n",
    "\n",
    "Now that you know about the pipe operator (%>%), we will use it throughout the rest of this tutorial.\n",
    "\n",
    "## Arrange or re-order rows using arrange()\n",
    "\n",
    "To arrange (or re-order) rows by a particular column such as the taxonomic order, list the name of the column you want to arrange the rows by"
   ]
  },
  {
   "cell_type": "code",
   "execution_count": 11,
   "metadata": {},
   "outputs": [
    {
     "data": {
      "text/html": [
       "<table>\n",
       "<thead><tr><th scope=col>name</th><th scope=col>genus</th><th scope=col>vore</th><th scope=col>order</th><th scope=col>conservation</th><th scope=col>sleep_total</th><th scope=col>sleep_rem</th><th scope=col>sleep_cycle</th><th scope=col>awake</th><th scope=col>brainwt</th><th scope=col>bodywt</th></tr></thead>\n",
       "<tbody>\n",
       "\t<tr><td>Tenrec      </td><td>Tenrec      </td><td>omni        </td><td>Afrosoricida</td><td>NA          </td><td>15.6        </td><td>2.3         </td><td>       NA   </td><td> 8.4        </td><td>0.0026      </td><td>  0.900     </td></tr>\n",
       "\t<tr><td>Cow         </td><td>Bos         </td><td>herbi       </td><td>Artiodactyla</td><td>domesticated</td><td> 4.0        </td><td>0.7         </td><td>0.6666667   </td><td>20.0        </td><td>0.4230      </td><td>600.000     </td></tr>\n",
       "\t<tr><td>Roe deer    </td><td>Capreolus   </td><td>herbi       </td><td>Artiodactyla</td><td>lc          </td><td> 3.0        </td><td> NA         </td><td>       NA   </td><td>21.0        </td><td>0.0982      </td><td> 14.800     </td></tr>\n",
       "\t<tr><td>Goat        </td><td>Capri       </td><td>herbi       </td><td>Artiodactyla</td><td>lc          </td><td> 5.3        </td><td>0.6         </td><td>       NA   </td><td>18.7        </td><td>0.1150      </td><td> 33.500     </td></tr>\n",
       "\t<tr><td>Giraffe     </td><td>Giraffa     </td><td>herbi       </td><td>Artiodactyla</td><td>cd          </td><td> 1.9        </td><td>0.4         </td><td>       NA   </td><td>22.1        </td><td>    NA      </td><td>899.995     </td></tr>\n",
       "\t<tr><td>Sheep       </td><td>Ovis        </td><td>herbi       </td><td>Artiodactyla</td><td>domesticated</td><td> 3.8        </td><td>0.6         </td><td>       NA   </td><td>20.2        </td><td>0.1750      </td><td> 55.500     </td></tr>\n",
       "</tbody>\n",
       "</table>\n"
      ],
      "text/latex": [
       "\\begin{tabular}{r|lllllllllll}\n",
       " name & genus & vore & order & conservation & sleep\\_total & sleep\\_rem & sleep\\_cycle & awake & brainwt & bodywt\\\\\n",
       "\\hline\n",
       "\t Tenrec       & Tenrec       & omni         & Afrosoricida & NA           & 15.6         & 2.3          &        NA    &  8.4         & 0.0026       &   0.900     \\\\\n",
       "\t Cow          & Bos          & herbi        & Artiodactyla & domesticated &  4.0         & 0.7          & 0.6666667    & 20.0         & 0.4230       & 600.000     \\\\\n",
       "\t Roe deer     & Capreolus    & herbi        & Artiodactyla & lc           &  3.0         &  NA          &        NA    & 21.0         & 0.0982       &  14.800     \\\\\n",
       "\t Goat         & Capri        & herbi        & Artiodactyla & lc           &  5.3         & 0.6          &        NA    & 18.7         & 0.1150       &  33.500     \\\\\n",
       "\t Giraffe      & Giraffa      & herbi        & Artiodactyla & cd           &  1.9         & 0.4          &        NA    & 22.1         &     NA       & 899.995     \\\\\n",
       "\t Sheep        & Ovis         & herbi        & Artiodactyla & domesticated &  3.8         & 0.6          &        NA    & 20.2         & 0.1750       &  55.500     \\\\\n",
       "\\end{tabular}\n"
      ],
      "text/markdown": [
       "\n",
       "name | genus | vore | order | conservation | sleep_total | sleep_rem | sleep_cycle | awake | brainwt | bodywt | \n",
       "|---|---|---|---|---|---|\n",
       "| Tenrec       | Tenrec       | omni         | Afrosoricida | NA           | 15.6         | 2.3          |        NA    |  8.4         | 0.0026       |   0.900      | \n",
       "| Cow          | Bos          | herbi        | Artiodactyla | domesticated |  4.0         | 0.7          | 0.6666667    | 20.0         | 0.4230       | 600.000      | \n",
       "| Roe deer     | Capreolus    | herbi        | Artiodactyla | lc           |  3.0         |  NA          |        NA    | 21.0         | 0.0982       |  14.800      | \n",
       "| Goat         | Capri        | herbi        | Artiodactyla | lc           |  5.3         | 0.6          |        NA    | 18.7         | 0.1150       |  33.500      | \n",
       "| Giraffe      | Giraffa      | herbi        | Artiodactyla | cd           |  1.9         | 0.4          |        NA    | 22.1         |     NA       | 899.995      | \n",
       "| Sheep        | Ovis         | herbi        | Artiodactyla | domesticated |  3.8         | 0.6          |        NA    | 20.2         | 0.1750       |  55.500      | \n",
       "\n",
       "\n"
      ],
      "text/plain": [
       "  name     genus     vore  order        conservation sleep_total sleep_rem\n",
       "1 Tenrec   Tenrec    omni  Afrosoricida NA           15.6        2.3      \n",
       "2 Cow      Bos       herbi Artiodactyla domesticated  4.0        0.7      \n",
       "3 Roe deer Capreolus herbi Artiodactyla lc            3.0         NA      \n",
       "4 Goat     Capri     herbi Artiodactyla lc            5.3        0.6      \n",
       "5 Giraffe  Giraffa   herbi Artiodactyla cd            1.9        0.4      \n",
       "6 Sheep    Ovis      herbi Artiodactyla domesticated  3.8        0.6      \n",
       "  sleep_cycle awake brainwt bodywt \n",
       "1        NA    8.4  0.0026    0.900\n",
       "2 0.6666667   20.0  0.4230  600.000\n",
       "3        NA   21.0  0.0982   14.800\n",
       "4        NA   18.7  0.1150   33.500\n",
       "5        NA   22.1      NA  899.995\n",
       "6        NA   20.2  0.1750   55.500"
      ]
     },
     "metadata": {},
     "output_type": "display_data"
    }
   ],
   "source": [
    "msleep %>% arrange(order) %>% head"
   ]
  },
  {
   "cell_type": "markdown",
   "metadata": {},
   "source": [
    "Now, we will select three columns from msleep, arrange the rows by the taxonomic order and then arrange the rows by sleep_total. Finally show the head of the final data frame"
   ]
  },
  {
   "cell_type": "code",
   "execution_count": 12,
   "metadata": {},
   "outputs": [
    {
     "data": {
      "text/html": [
       "<table>\n",
       "<thead><tr><th scope=col>name</th><th scope=col>order</th><th scope=col>sleep_total</th></tr></thead>\n",
       "<tbody>\n",
       "\t<tr><td>Tenrec      </td><td>Afrosoricida</td><td>15.6        </td></tr>\n",
       "\t<tr><td>Giraffe     </td><td>Artiodactyla</td><td> 1.9        </td></tr>\n",
       "\t<tr><td>Roe deer    </td><td>Artiodactyla</td><td> 3.0        </td></tr>\n",
       "\t<tr><td>Sheep       </td><td>Artiodactyla</td><td> 3.8        </td></tr>\n",
       "\t<tr><td>Cow         </td><td>Artiodactyla</td><td> 4.0        </td></tr>\n",
       "\t<tr><td>Goat        </td><td>Artiodactyla</td><td> 5.3        </td></tr>\n",
       "</tbody>\n",
       "</table>\n"
      ],
      "text/latex": [
       "\\begin{tabular}{r|lll}\n",
       " name & order & sleep\\_total\\\\\n",
       "\\hline\n",
       "\t Tenrec       & Afrosoricida & 15.6        \\\\\n",
       "\t Giraffe      & Artiodactyla &  1.9        \\\\\n",
       "\t Roe deer     & Artiodactyla &  3.0        \\\\\n",
       "\t Sheep        & Artiodactyla &  3.8        \\\\\n",
       "\t Cow          & Artiodactyla &  4.0        \\\\\n",
       "\t Goat         & Artiodactyla &  5.3        \\\\\n",
       "\\end{tabular}\n"
      ],
      "text/markdown": [
       "\n",
       "name | order | sleep_total | \n",
       "|---|---|---|---|---|---|\n",
       "| Tenrec       | Afrosoricida | 15.6         | \n",
       "| Giraffe      | Artiodactyla |  1.9         | \n",
       "| Roe deer     | Artiodactyla |  3.0         | \n",
       "| Sheep        | Artiodactyla |  3.8         | \n",
       "| Cow          | Artiodactyla |  4.0         | \n",
       "| Goat         | Artiodactyla |  5.3         | \n",
       "\n",
       "\n"
      ],
      "text/plain": [
       "  name     order        sleep_total\n",
       "1 Tenrec   Afrosoricida 15.6       \n",
       "2 Giraffe  Artiodactyla  1.9       \n",
       "3 Roe deer Artiodactyla  3.0       \n",
       "4 Sheep    Artiodactyla  3.8       \n",
       "5 Cow      Artiodactyla  4.0       \n",
       "6 Goat     Artiodactyla  5.3       "
      ]
     },
     "metadata": {},
     "output_type": "display_data"
    }
   ],
   "source": [
    "msleep %>% \n",
    "    select(name, order, sleep_total) %>%\n",
    "    arrange(order, sleep_total) %>% \n",
    "    head"
   ]
  },
  {
   "cell_type": "markdown",
   "metadata": {},
   "source": [
    "Same as above, except here we filter the rows for mammals that sleep for 16 or more hours instead of showing the head of the final data frame\n",
    "\n"
   ]
  },
  {
   "cell_type": "code",
   "execution_count": 13,
   "metadata": {},
   "outputs": [
    {
     "data": {
      "text/html": [
       "<table>\n",
       "<thead><tr><th scope=col>name</th><th scope=col>order</th><th scope=col>sleep_total</th></tr></thead>\n",
       "<tbody>\n",
       "\t<tr><td>Big brown bat         </td><td>Chiroptera            </td><td>19.7                  </td></tr>\n",
       "\t<tr><td>Little brown bat      </td><td>Chiroptera            </td><td>19.9                  </td></tr>\n",
       "\t<tr><td>Long-nosed armadillo  </td><td>Cingulata             </td><td>17.4                  </td></tr>\n",
       "\t<tr><td>Giant armadillo       </td><td>Cingulata             </td><td>18.1                  </td></tr>\n",
       "\t<tr><td>North American Opossum</td><td>Didelphimorphia       </td><td>18.0                  </td></tr>\n",
       "\t<tr><td>Thick-tailed opposum  </td><td>Didelphimorphia       </td><td>19.4                  </td></tr>\n",
       "\t<tr><td>Owl monkey            </td><td>Primates              </td><td>17.0                  </td></tr>\n",
       "\t<tr><td>Arctic ground squirrel</td><td>Rodentia              </td><td>16.6                  </td></tr>\n",
       "</tbody>\n",
       "</table>\n"
      ],
      "text/latex": [
       "\\begin{tabular}{r|lll}\n",
       " name & order & sleep\\_total\\\\\n",
       "\\hline\n",
       "\t Big brown bat          & Chiroptera             & 19.7                  \\\\\n",
       "\t Little brown bat       & Chiroptera             & 19.9                  \\\\\n",
       "\t Long-nosed armadillo   & Cingulata              & 17.4                  \\\\\n",
       "\t Giant armadillo        & Cingulata              & 18.1                  \\\\\n",
       "\t North American Opossum & Didelphimorphia        & 18.0                  \\\\\n",
       "\t Thick-tailed opposum   & Didelphimorphia        & 19.4                  \\\\\n",
       "\t Owl monkey             & Primates               & 17.0                  \\\\\n",
       "\t Arctic ground squirrel & Rodentia               & 16.6                  \\\\\n",
       "\\end{tabular}\n"
      ],
      "text/markdown": [
       "\n",
       "name | order | sleep_total | \n",
       "|---|---|---|---|---|---|---|---|\n",
       "| Big brown bat          | Chiroptera             | 19.7                   | \n",
       "| Little brown bat       | Chiroptera             | 19.9                   | \n",
       "| Long-nosed armadillo   | Cingulata              | 17.4                   | \n",
       "| Giant armadillo        | Cingulata              | 18.1                   | \n",
       "| North American Opossum | Didelphimorphia        | 18.0                   | \n",
       "| Thick-tailed opposum   | Didelphimorphia        | 19.4                   | \n",
       "| Owl monkey             | Primates               | 17.0                   | \n",
       "| Arctic ground squirrel | Rodentia               | 16.6                   | \n",
       "\n",
       "\n"
      ],
      "text/plain": [
       "  name                   order           sleep_total\n",
       "1 Big brown bat          Chiroptera      19.7       \n",
       "2 Little brown bat       Chiroptera      19.9       \n",
       "3 Long-nosed armadillo   Cingulata       17.4       \n",
       "4 Giant armadillo        Cingulata       18.1       \n",
       "5 North American Opossum Didelphimorphia 18.0       \n",
       "6 Thick-tailed opposum   Didelphimorphia 19.4       \n",
       "7 Owl monkey             Primates        17.0       \n",
       "8 Arctic ground squirrel Rodentia        16.6       "
      ]
     },
     "metadata": {},
     "output_type": "display_data"
    }
   ],
   "source": [
    "msleep %>% \n",
    "    select(name, order, sleep_total) %>%\n",
    "    arrange(order, sleep_total) %>% \n",
    "    filter(sleep_total >= 16)\n",
    "\n"
   ]
  },
  {
   "cell_type": "markdown",
   "metadata": {},
   "source": [
    "Something slightly more complicated: same as above, except arrange the rows in the sleep_total column in a descending order. For this, use the function desc()"
   ]
  },
  {
   "cell_type": "code",
   "execution_count": 14,
   "metadata": {},
   "outputs": [
    {
     "data": {
      "text/html": [
       "<table>\n",
       "<thead><tr><th scope=col>name</th><th scope=col>order</th><th scope=col>sleep_total</th></tr></thead>\n",
       "<tbody>\n",
       "\t<tr><td>Little brown bat      </td><td>Chiroptera            </td><td>19.9                  </td></tr>\n",
       "\t<tr><td>Big brown bat         </td><td>Chiroptera            </td><td>19.7                  </td></tr>\n",
       "\t<tr><td>Giant armadillo       </td><td>Cingulata             </td><td>18.1                  </td></tr>\n",
       "\t<tr><td>Long-nosed armadillo  </td><td>Cingulata             </td><td>17.4                  </td></tr>\n",
       "\t<tr><td>Thick-tailed opposum  </td><td>Didelphimorphia       </td><td>19.4                  </td></tr>\n",
       "\t<tr><td>North American Opossum</td><td>Didelphimorphia       </td><td>18.0                  </td></tr>\n",
       "\t<tr><td>Owl monkey            </td><td>Primates              </td><td>17.0                  </td></tr>\n",
       "\t<tr><td>Arctic ground squirrel</td><td>Rodentia              </td><td>16.6                  </td></tr>\n",
       "</tbody>\n",
       "</table>\n"
      ],
      "text/latex": [
       "\\begin{tabular}{r|lll}\n",
       " name & order & sleep\\_total\\\\\n",
       "\\hline\n",
       "\t Little brown bat       & Chiroptera             & 19.9                  \\\\\n",
       "\t Big brown bat          & Chiroptera             & 19.7                  \\\\\n",
       "\t Giant armadillo        & Cingulata              & 18.1                  \\\\\n",
       "\t Long-nosed armadillo   & Cingulata              & 17.4                  \\\\\n",
       "\t Thick-tailed opposum   & Didelphimorphia        & 19.4                  \\\\\n",
       "\t North American Opossum & Didelphimorphia        & 18.0                  \\\\\n",
       "\t Owl monkey             & Primates               & 17.0                  \\\\\n",
       "\t Arctic ground squirrel & Rodentia               & 16.6                  \\\\\n",
       "\\end{tabular}\n"
      ],
      "text/markdown": [
       "\n",
       "name | order | sleep_total | \n",
       "|---|---|---|---|---|---|---|---|\n",
       "| Little brown bat       | Chiroptera             | 19.9                   | \n",
       "| Big brown bat          | Chiroptera             | 19.7                   | \n",
       "| Giant armadillo        | Cingulata              | 18.1                   | \n",
       "| Long-nosed armadillo   | Cingulata              | 17.4                   | \n",
       "| Thick-tailed opposum   | Didelphimorphia        | 19.4                   | \n",
       "| North American Opossum | Didelphimorphia        | 18.0                   | \n",
       "| Owl monkey             | Primates               | 17.0                   | \n",
       "| Arctic ground squirrel | Rodentia               | 16.6                   | \n",
       "\n",
       "\n"
      ],
      "text/plain": [
       "  name                   order           sleep_total\n",
       "1 Little brown bat       Chiroptera      19.9       \n",
       "2 Big brown bat          Chiroptera      19.7       \n",
       "3 Giant armadillo        Cingulata       18.1       \n",
       "4 Long-nosed armadillo   Cingulata       17.4       \n",
       "5 Thick-tailed opposum   Didelphimorphia 19.4       \n",
       "6 North American Opossum Didelphimorphia 18.0       \n",
       "7 Owl monkey             Primates        17.0       \n",
       "8 Arctic ground squirrel Rodentia        16.6       "
      ]
     },
     "metadata": {},
     "output_type": "display_data"
    }
   ],
   "source": [
    "msleep %>% \n",
    "    select(name, order, sleep_total) %>%\n",
    "    arrange(order, desc(sleep_total)) %>% \n",
    "    filter(sleep_total >= 16)"
   ]
  },
  {
   "cell_type": "markdown",
   "metadata": {},
   "source": [
    "# Create new columns using mutate()\n",
    "\n",
    "The mutate() function will add new columns to the data frame. Create a new column called rem_proportion which is the ratio of rem sleep to total amount of sleep."
   ]
  },
  {
   "cell_type": "code",
   "execution_count": 15,
   "metadata": {},
   "outputs": [
    {
     "data": {
      "text/html": [
       "<table>\n",
       "<thead><tr><th scope=col>name</th><th scope=col>genus</th><th scope=col>vore</th><th scope=col>order</th><th scope=col>conservation</th><th scope=col>sleep_total</th><th scope=col>sleep_rem</th><th scope=col>sleep_cycle</th><th scope=col>awake</th><th scope=col>brainwt</th><th scope=col>bodywt</th><th scope=col>rem_proportion</th></tr></thead>\n",
       "<tbody>\n",
       "\t<tr><td>Cheetah                   </td><td>Acinonyx                  </td><td>carni                     </td><td>Carnivora                 </td><td>lc                        </td><td>12.1                      </td><td> NA                       </td><td>       NA                 </td><td>11.9                      </td><td>     NA                   </td><td> 50.000                   </td><td>       NA                 </td></tr>\n",
       "\t<tr><td>Owl monkey                </td><td>Aotus                     </td><td>omni                      </td><td>Primates                  </td><td>NA                        </td><td>17.0                      </td><td>1.8                       </td><td>       NA                 </td><td> 7.0                      </td><td>0.01550                   </td><td>  0.480                   </td><td>0.1058824                 </td></tr>\n",
       "\t<tr><td>Mountain beaver           </td><td>Aplodontia                </td><td>herbi                     </td><td>Rodentia                  </td><td>nt                        </td><td>14.4                      </td><td>2.4                       </td><td>       NA                 </td><td> 9.6                      </td><td>     NA                   </td><td>  1.350                   </td><td>0.1666667                 </td></tr>\n",
       "\t<tr><td>Greater short-tailed shrew</td><td>Blarina                   </td><td>omni                      </td><td>Soricomorpha              </td><td>lc                        </td><td>14.9                      </td><td>2.3                       </td><td>0.1333333                 </td><td> 9.1                      </td><td>0.00029                   </td><td>  0.019                   </td><td>0.1543624                 </td></tr>\n",
       "\t<tr><td>Cow                       </td><td>Bos                       </td><td>herbi                     </td><td>Artiodactyla              </td><td>domesticated              </td><td> 4.0                      </td><td>0.7                       </td><td>0.6666667                 </td><td>20.0                      </td><td>0.42300                   </td><td>600.000                   </td><td>0.1750000                 </td></tr>\n",
       "\t<tr><td>Three-toed sloth          </td><td>Bradypus                  </td><td>herbi                     </td><td>Pilosa                    </td><td>NA                        </td><td>14.4                      </td><td>2.2                       </td><td>0.7666667                 </td><td> 9.6                      </td><td>     NA                   </td><td>  3.850                   </td><td>0.1527778                 </td></tr>\n",
       "</tbody>\n",
       "</table>\n"
      ],
      "text/latex": [
       "\\begin{tabular}{r|llllllllllll}\n",
       " name & genus & vore & order & conservation & sleep\\_total & sleep\\_rem & sleep\\_cycle & awake & brainwt & bodywt & rem\\_proportion\\\\\n",
       "\\hline\n",
       "\t Cheetah                    & Acinonyx                   & carni                      & Carnivora                  & lc                         & 12.1                       &  NA                        &        NA                  & 11.9                       &      NA                    &  50.000                    &        NA                 \\\\\n",
       "\t Owl monkey                 & Aotus                      & omni                       & Primates                   & NA                         & 17.0                       & 1.8                        &        NA                  &  7.0                       & 0.01550                    &   0.480                    & 0.1058824                 \\\\\n",
       "\t Mountain beaver            & Aplodontia                 & herbi                      & Rodentia                   & nt                         & 14.4                       & 2.4                        &        NA                  &  9.6                       &      NA                    &   1.350                    & 0.1666667                 \\\\\n",
       "\t Greater short-tailed shrew & Blarina                    & omni                       & Soricomorpha               & lc                         & 14.9                       & 2.3                        & 0.1333333                  &  9.1                       & 0.00029                    &   0.019                    & 0.1543624                 \\\\\n",
       "\t Cow                        & Bos                        & herbi                      & Artiodactyla               & domesticated               &  4.0                       & 0.7                        & 0.6666667                  & 20.0                       & 0.42300                    & 600.000                    & 0.1750000                 \\\\\n",
       "\t Three-toed sloth           & Bradypus                   & herbi                      & Pilosa                     & NA                         & 14.4                       & 2.2                        & 0.7666667                  &  9.6                       &      NA                    &   3.850                    & 0.1527778                 \\\\\n",
       "\\end{tabular}\n"
      ],
      "text/markdown": [
       "\n",
       "name | genus | vore | order | conservation | sleep_total | sleep_rem | sleep_cycle | awake | brainwt | bodywt | rem_proportion | \n",
       "|---|---|---|---|---|---|\n",
       "| Cheetah                    | Acinonyx                   | carni                      | Carnivora                  | lc                         | 12.1                       |  NA                        |        NA                  | 11.9                       |      NA                    |  50.000                    |        NA                  | \n",
       "| Owl monkey                 | Aotus                      | omni                       | Primates                   | NA                         | 17.0                       | 1.8                        |        NA                  |  7.0                       | 0.01550                    |   0.480                    | 0.1058824                  | \n",
       "| Mountain beaver            | Aplodontia                 | herbi                      | Rodentia                   | nt                         | 14.4                       | 2.4                        |        NA                  |  9.6                       |      NA                    |   1.350                    | 0.1666667                  | \n",
       "| Greater short-tailed shrew | Blarina                    | omni                       | Soricomorpha               | lc                         | 14.9                       | 2.3                        | 0.1333333                  |  9.1                       | 0.00029                    |   0.019                    | 0.1543624                  | \n",
       "| Cow                        | Bos                        | herbi                      | Artiodactyla               | domesticated               |  4.0                       | 0.7                        | 0.6666667                  | 20.0                       | 0.42300                    | 600.000                    | 0.1750000                  | \n",
       "| Three-toed sloth           | Bradypus                   | herbi                      | Pilosa                     | NA                         | 14.4                       | 2.2                        | 0.7666667                  |  9.6                       |      NA                    |   3.850                    | 0.1527778                  | \n",
       "\n",
       "\n"
      ],
      "text/plain": [
       "  name                       genus      vore  order        conservation\n",
       "1 Cheetah                    Acinonyx   carni Carnivora    lc          \n",
       "2 Owl monkey                 Aotus      omni  Primates     NA          \n",
       "3 Mountain beaver            Aplodontia herbi Rodentia     nt          \n",
       "4 Greater short-tailed shrew Blarina    omni  Soricomorpha lc          \n",
       "5 Cow                        Bos        herbi Artiodactyla domesticated\n",
       "6 Three-toed sloth           Bradypus   herbi Pilosa       NA          \n",
       "  sleep_total sleep_rem sleep_cycle awake brainwt bodywt  rem_proportion\n",
       "1 12.1         NA              NA   11.9       NA  50.000        NA     \n",
       "2 17.0        1.8              NA    7.0  0.01550   0.480 0.1058824     \n",
       "3 14.4        2.4              NA    9.6       NA   1.350 0.1666667     \n",
       "4 14.9        2.3       0.1333333    9.1  0.00029   0.019 0.1543624     \n",
       "5  4.0        0.7       0.6666667   20.0  0.42300 600.000 0.1750000     \n",
       "6 14.4        2.2       0.7666667    9.6       NA   3.850 0.1527778     "
      ]
     },
     "metadata": {},
     "output_type": "display_data"
    }
   ],
   "source": [
    "msleep %>% \n",
    "    mutate(rem_proportion = sleep_rem / sleep_total) %>%\n",
    "    head"
   ]
  },
  {
   "cell_type": "markdown",
   "metadata": {},
   "source": [
    "You can many new columns using mutate (separated by commas). Here we add a second column called bodywt_grams which is the bodywt column in grams."
   ]
  },
  {
   "cell_type": "code",
   "execution_count": 16,
   "metadata": {},
   "outputs": [
    {
     "data": {
      "text/html": [
       "<table>\n",
       "<thead><tr><th scope=col>name</th><th scope=col>genus</th><th scope=col>vore</th><th scope=col>order</th><th scope=col>conservation</th><th scope=col>sleep_total</th><th scope=col>sleep_rem</th><th scope=col>sleep_cycle</th><th scope=col>awake</th><th scope=col>brainwt</th><th scope=col>bodywt</th><th scope=col>rem_proportion</th><th scope=col>bodywt_grams</th></tr></thead>\n",
       "<tbody>\n",
       "\t<tr><td>Cheetah                   </td><td>Acinonyx                  </td><td>carni                     </td><td>Carnivora                 </td><td>lc                        </td><td>12.1                      </td><td> NA                       </td><td>       NA                 </td><td>11.9                      </td><td>     NA                   </td><td> 50.000                   </td><td>       NA                 </td><td> 50000                    </td></tr>\n",
       "\t<tr><td>Owl monkey                </td><td>Aotus                     </td><td>omni                      </td><td>Primates                  </td><td>NA                        </td><td>17.0                      </td><td>1.8                       </td><td>       NA                 </td><td> 7.0                      </td><td>0.01550                   </td><td>  0.480                   </td><td>0.1058824                 </td><td>   480                    </td></tr>\n",
       "\t<tr><td>Mountain beaver           </td><td>Aplodontia                </td><td>herbi                     </td><td>Rodentia                  </td><td>nt                        </td><td>14.4                      </td><td>2.4                       </td><td>       NA                 </td><td> 9.6                      </td><td>     NA                   </td><td>  1.350                   </td><td>0.1666667                 </td><td>  1350                    </td></tr>\n",
       "\t<tr><td>Greater short-tailed shrew</td><td>Blarina                   </td><td>omni                      </td><td>Soricomorpha              </td><td>lc                        </td><td>14.9                      </td><td>2.3                       </td><td>0.1333333                 </td><td> 9.1                      </td><td>0.00029                   </td><td>  0.019                   </td><td>0.1543624                 </td><td>    19                    </td></tr>\n",
       "\t<tr><td>Cow                       </td><td>Bos                       </td><td>herbi                     </td><td>Artiodactyla              </td><td>domesticated              </td><td> 4.0                      </td><td>0.7                       </td><td>0.6666667                 </td><td>20.0                      </td><td>0.42300                   </td><td>600.000                   </td><td>0.1750000                 </td><td>600000                    </td></tr>\n",
       "\t<tr><td>Three-toed sloth          </td><td>Bradypus                  </td><td>herbi                     </td><td>Pilosa                    </td><td>NA                        </td><td>14.4                      </td><td>2.2                       </td><td>0.7666667                 </td><td> 9.6                      </td><td>     NA                   </td><td>  3.850                   </td><td>0.1527778                 </td><td>  3850                    </td></tr>\n",
       "</tbody>\n",
       "</table>\n"
      ],
      "text/latex": [
       "\\begin{tabular}{r|lllllllllllll}\n",
       " name & genus & vore & order & conservation & sleep\\_total & sleep\\_rem & sleep\\_cycle & awake & brainwt & bodywt & rem\\_proportion & bodywt\\_grams\\\\\n",
       "\\hline\n",
       "\t Cheetah                    & Acinonyx                   & carni                      & Carnivora                  & lc                         & 12.1                       &  NA                        &        NA                  & 11.9                       &      NA                    &  50.000                    &        NA                  &  50000                    \\\\\n",
       "\t Owl monkey                 & Aotus                      & omni                       & Primates                   & NA                         & 17.0                       & 1.8                        &        NA                  &  7.0                       & 0.01550                    &   0.480                    & 0.1058824                  &    480                    \\\\\n",
       "\t Mountain beaver            & Aplodontia                 & herbi                      & Rodentia                   & nt                         & 14.4                       & 2.4                        &        NA                  &  9.6                       &      NA                    &   1.350                    & 0.1666667                  &   1350                    \\\\\n",
       "\t Greater short-tailed shrew & Blarina                    & omni                       & Soricomorpha               & lc                         & 14.9                       & 2.3                        & 0.1333333                  &  9.1                       & 0.00029                    &   0.019                    & 0.1543624                  &     19                    \\\\\n",
       "\t Cow                        & Bos                        & herbi                      & Artiodactyla               & domesticated               &  4.0                       & 0.7                        & 0.6666667                  & 20.0                       & 0.42300                    & 600.000                    & 0.1750000                  & 600000                    \\\\\n",
       "\t Three-toed sloth           & Bradypus                   & herbi                      & Pilosa                     & NA                         & 14.4                       & 2.2                        & 0.7666667                  &  9.6                       &      NA                    &   3.850                    & 0.1527778                  &   3850                    \\\\\n",
       "\\end{tabular}\n"
      ],
      "text/markdown": [
       "\n",
       "name | genus | vore | order | conservation | sleep_total | sleep_rem | sleep_cycle | awake | brainwt | bodywt | rem_proportion | bodywt_grams | \n",
       "|---|---|---|---|---|---|\n",
       "| Cheetah                    | Acinonyx                   | carni                      | Carnivora                  | lc                         | 12.1                       |  NA                        |        NA                  | 11.9                       |      NA                    |  50.000                    |        NA                  |  50000                     | \n",
       "| Owl monkey                 | Aotus                      | omni                       | Primates                   | NA                         | 17.0                       | 1.8                        |        NA                  |  7.0                       | 0.01550                    |   0.480                    | 0.1058824                  |    480                     | \n",
       "| Mountain beaver            | Aplodontia                 | herbi                      | Rodentia                   | nt                         | 14.4                       | 2.4                        |        NA                  |  9.6                       |      NA                    |   1.350                    | 0.1666667                  |   1350                     | \n",
       "| Greater short-tailed shrew | Blarina                    | omni                       | Soricomorpha               | lc                         | 14.9                       | 2.3                        | 0.1333333                  |  9.1                       | 0.00029                    |   0.019                    | 0.1543624                  |     19                     | \n",
       "| Cow                        | Bos                        | herbi                      | Artiodactyla               | domesticated               |  4.0                       | 0.7                        | 0.6666667                  | 20.0                       | 0.42300                    | 600.000                    | 0.1750000                  | 600000                     | \n",
       "| Three-toed sloth           | Bradypus                   | herbi                      | Pilosa                     | NA                         | 14.4                       | 2.2                        | 0.7666667                  |  9.6                       |      NA                    |   3.850                    | 0.1527778                  |   3850                     | \n",
       "\n",
       "\n"
      ],
      "text/plain": [
       "  name                       genus      vore  order        conservation\n",
       "1 Cheetah                    Acinonyx   carni Carnivora    lc          \n",
       "2 Owl monkey                 Aotus      omni  Primates     NA          \n",
       "3 Mountain beaver            Aplodontia herbi Rodentia     nt          \n",
       "4 Greater short-tailed shrew Blarina    omni  Soricomorpha lc          \n",
       "5 Cow                        Bos        herbi Artiodactyla domesticated\n",
       "6 Three-toed sloth           Bradypus   herbi Pilosa       NA          \n",
       "  sleep_total sleep_rem sleep_cycle awake brainwt bodywt  rem_proportion\n",
       "1 12.1         NA              NA   11.9       NA  50.000        NA     \n",
       "2 17.0        1.8              NA    7.0  0.01550   0.480 0.1058824     \n",
       "3 14.4        2.4              NA    9.6       NA   1.350 0.1666667     \n",
       "4 14.9        2.3       0.1333333    9.1  0.00029   0.019 0.1543624     \n",
       "5  4.0        0.7       0.6666667   20.0  0.42300 600.000 0.1750000     \n",
       "6 14.4        2.2       0.7666667    9.6       NA   3.850 0.1527778     \n",
       "  bodywt_grams\n",
       "1  50000      \n",
       "2    480      \n",
       "3   1350      \n",
       "4     19      \n",
       "5 600000      \n",
       "6   3850      "
      ]
     },
     "metadata": {},
     "output_type": "display_data"
    }
   ],
   "source": [
    "msleep %>% \n",
    "    mutate(rem_proportion = sleep_rem / sleep_total, \n",
    "           bodywt_grams = bodywt * 1000) %>%\n",
    "    head"
   ]
  },
  {
   "cell_type": "markdown",
   "metadata": {},
   "source": [
    "# Create summaries of the data frame using summarise()\n",
    "\n",
    "The summarise() function will create summary statistics for a given column in the data frame such as finding the mean. For example, to compute the average number of hours of sleep, apply the mean() function to the column sleep_total and call the summary value avg_sleep.\n",
    "\n"
   ]
  },
  {
   "cell_type": "code",
   "execution_count": 17,
   "metadata": {},
   "outputs": [
    {
     "data": {
      "text/html": [
       "<table>\n",
       "<thead><tr><th scope=col>avg_sleep</th></tr></thead>\n",
       "<tbody>\n",
       "\t<tr><td>10.43373</td></tr>\n",
       "</tbody>\n",
       "</table>\n"
      ],
      "text/latex": [
       "\\begin{tabular}{r|l}\n",
       " avg\\_sleep\\\\\n",
       "\\hline\n",
       "\t 10.43373\\\\\n",
       "\\end{tabular}\n"
      ],
      "text/markdown": [
       "\n",
       "avg_sleep | \n",
       "|---|\n",
       "| 10.43373 | \n",
       "\n",
       "\n"
      ],
      "text/plain": [
       "  avg_sleep\n",
       "1 10.43373 "
      ]
     },
     "metadata": {},
     "output_type": "display_data"
    }
   ],
   "source": [
    "msleep %>% \n",
    "    summarise(avg_sleep = mean(sleep_total))\n"
   ]
  },
  {
   "cell_type": "markdown",
   "metadata": {},
   "source": [
    "There are many other summary statistics you could consider such sd(), min(), max(), median(), sum(), n() (returns the length of vector), first() (returns first value in vector), last() (returns last value in vector) and n_distinct() (number of distinct values in vector)."
   ]
  },
  {
   "cell_type": "code",
   "execution_count": 18,
   "metadata": {},
   "outputs": [
    {
     "data": {
      "text/html": [
       "<table>\n",
       "<thead><tr><th scope=col>avg_sleep</th><th scope=col>min_sleep</th><th scope=col>max_sleep</th><th scope=col>total</th></tr></thead>\n",
       "<tbody>\n",
       "\t<tr><td>10.43373</td><td>1.9     </td><td>19.9    </td><td>83      </td></tr>\n",
       "</tbody>\n",
       "</table>\n"
      ],
      "text/latex": [
       "\\begin{tabular}{r|llll}\n",
       " avg\\_sleep & min\\_sleep & max\\_sleep & total\\\\\n",
       "\\hline\n",
       "\t 10.43373 & 1.9      & 19.9     & 83      \\\\\n",
       "\\end{tabular}\n"
      ],
      "text/markdown": [
       "\n",
       "avg_sleep | min_sleep | max_sleep | total | \n",
       "|---|\n",
       "| 10.43373 | 1.9      | 19.9     | 83       | \n",
       "\n",
       "\n"
      ],
      "text/plain": [
       "  avg_sleep min_sleep max_sleep total\n",
       "1 10.43373  1.9       19.9      83   "
      ]
     },
     "metadata": {},
     "output_type": "display_data"
    }
   ],
   "source": [
    "msleep %>% \n",
    "    summarise(avg_sleep = mean(sleep_total), \n",
    "              min_sleep = min(sleep_total),\n",
    "              max_sleep = max(sleep_total),\n",
    "              total = n())"
   ]
  },
  {
   "cell_type": "markdown",
   "metadata": {},
   "source": [
    "# Group operations using group_by()\n",
    "\n",
    "The group_by() verb is an important function in dplyr. As we mentioned before it’s related to concept of “split-apply-combine”. We literally want to split the data frame by some variable (e.g. taxonomic order), apply a function to the individual data frames and then combine the output.\n",
    "\n",
    "Let’s do that: split the msleep data frame by the taxonomic order, then ask for the same summary statistics as above. We expect a set of summary statistics for each taxonomic order."
   ]
  },
  {
   "cell_type": "code",
   "execution_count": 19,
   "metadata": {},
   "outputs": [
    {
     "data": {
      "text/html": [
       "<table>\n",
       "<thead><tr><th scope=col>order</th><th scope=col>avg_sleep</th><th scope=col>min_sleep</th><th scope=col>max_sleep</th><th scope=col>total</th></tr></thead>\n",
       "<tbody>\n",
       "\t<tr><td>Afrosoricida   </td><td>15.600000      </td><td>15.6           </td><td>15.6           </td><td> 1             </td></tr>\n",
       "\t<tr><td>Artiodactyla   </td><td> 4.516667      </td><td> 1.9           </td><td> 9.1           </td><td> 6             </td></tr>\n",
       "\t<tr><td>Carnivora      </td><td>10.116667      </td><td> 3.5           </td><td>15.8           </td><td>12             </td></tr>\n",
       "\t<tr><td>Cetacea        </td><td> 4.500000      </td><td> 2.7           </td><td> 5.6           </td><td> 3             </td></tr>\n",
       "\t<tr><td>Chiroptera     </td><td>19.800000      </td><td>19.7           </td><td>19.9           </td><td> 2             </td></tr>\n",
       "\t<tr><td>Cingulata      </td><td>17.750000      </td><td>17.4           </td><td>18.1           </td><td> 2             </td></tr>\n",
       "\t<tr><td>Didelphimorphia</td><td>18.700000      </td><td>18.0           </td><td>19.4           </td><td> 2             </td></tr>\n",
       "\t<tr><td>Diprotodontia  </td><td>12.400000      </td><td>11.1           </td><td>13.7           </td><td> 2             </td></tr>\n",
       "\t<tr><td>Erinaceomorpha </td><td>10.200000      </td><td>10.1           </td><td>10.3           </td><td> 2             </td></tr>\n",
       "\t<tr><td>Hyracoidea     </td><td> 5.666667      </td><td> 5.3           </td><td> 6.3           </td><td> 3             </td></tr>\n",
       "\t<tr><td>Lagomorpha     </td><td> 8.400000      </td><td> 8.4           </td><td> 8.4           </td><td> 1             </td></tr>\n",
       "\t<tr><td>Monotremata    </td><td> 8.600000      </td><td> 8.6           </td><td> 8.6           </td><td> 1             </td></tr>\n",
       "\t<tr><td>Perissodactyla </td><td> 3.466667      </td><td> 2.9           </td><td> 4.4           </td><td> 3             </td></tr>\n",
       "\t<tr><td>Pilosa         </td><td>14.400000      </td><td>14.4           </td><td>14.4           </td><td> 1             </td></tr>\n",
       "\t<tr><td>Primates       </td><td>10.500000      </td><td> 8.0           </td><td>17.0           </td><td>12             </td></tr>\n",
       "\t<tr><td>Proboscidea    </td><td> 3.600000      </td><td> 3.3           </td><td> 3.9           </td><td> 2             </td></tr>\n",
       "\t<tr><td>Rodentia       </td><td>12.468182      </td><td> 7.0           </td><td>16.6           </td><td>22             </td></tr>\n",
       "\t<tr><td>Scandentia     </td><td> 8.900000      </td><td> 8.9           </td><td> 8.9           </td><td> 1             </td></tr>\n",
       "\t<tr><td>Soricomorpha   </td><td>11.100000      </td><td> 8.4           </td><td>14.9           </td><td> 5             </td></tr>\n",
       "</tbody>\n",
       "</table>\n"
      ],
      "text/latex": [
       "\\begin{tabular}{r|lllll}\n",
       " order & avg\\_sleep & min\\_sleep & max\\_sleep & total\\\\\n",
       "\\hline\n",
       "\t Afrosoricida    & 15.600000       & 15.6            & 15.6            &  1             \\\\\n",
       "\t Artiodactyla    &  4.516667       &  1.9            &  9.1            &  6             \\\\\n",
       "\t Carnivora       & 10.116667       &  3.5            & 15.8            & 12             \\\\\n",
       "\t Cetacea         &  4.500000       &  2.7            &  5.6            &  3             \\\\\n",
       "\t Chiroptera      & 19.800000       & 19.7            & 19.9            &  2             \\\\\n",
       "\t Cingulata       & 17.750000       & 17.4            & 18.1            &  2             \\\\\n",
       "\t Didelphimorphia & 18.700000       & 18.0            & 19.4            &  2             \\\\\n",
       "\t Diprotodontia   & 12.400000       & 11.1            & 13.7            &  2             \\\\\n",
       "\t Erinaceomorpha  & 10.200000       & 10.1            & 10.3            &  2             \\\\\n",
       "\t Hyracoidea      &  5.666667       &  5.3            &  6.3            &  3             \\\\\n",
       "\t Lagomorpha      &  8.400000       &  8.4            &  8.4            &  1             \\\\\n",
       "\t Monotremata     &  8.600000       &  8.6            &  8.6            &  1             \\\\\n",
       "\t Perissodactyla  &  3.466667       &  2.9            &  4.4            &  3             \\\\\n",
       "\t Pilosa          & 14.400000       & 14.4            & 14.4            &  1             \\\\\n",
       "\t Primates        & 10.500000       &  8.0            & 17.0            & 12             \\\\\n",
       "\t Proboscidea     &  3.600000       &  3.3            &  3.9            &  2             \\\\\n",
       "\t Rodentia        & 12.468182       &  7.0            & 16.6            & 22             \\\\\n",
       "\t Scandentia      &  8.900000       &  8.9            &  8.9            &  1             \\\\\n",
       "\t Soricomorpha    & 11.100000       &  8.4            & 14.9            &  5             \\\\\n",
       "\\end{tabular}\n"
      ],
      "text/markdown": [
       "\n",
       "order | avg_sleep | min_sleep | max_sleep | total | \n",
       "|---|---|---|---|---|---|---|---|---|---|---|---|---|---|---|---|---|---|---|\n",
       "| Afrosoricida    | 15.600000       | 15.6            | 15.6            |  1              | \n",
       "| Artiodactyla    |  4.516667       |  1.9            |  9.1            |  6              | \n",
       "| Carnivora       | 10.116667       |  3.5            | 15.8            | 12              | \n",
       "| Cetacea         |  4.500000       |  2.7            |  5.6            |  3              | \n",
       "| Chiroptera      | 19.800000       | 19.7            | 19.9            |  2              | \n",
       "| Cingulata       | 17.750000       | 17.4            | 18.1            |  2              | \n",
       "| Didelphimorphia | 18.700000       | 18.0            | 19.4            |  2              | \n",
       "| Diprotodontia   | 12.400000       | 11.1            | 13.7            |  2              | \n",
       "| Erinaceomorpha  | 10.200000       | 10.1            | 10.3            |  2              | \n",
       "| Hyracoidea      |  5.666667       |  5.3            |  6.3            |  3              | \n",
       "| Lagomorpha      |  8.400000       |  8.4            |  8.4            |  1              | \n",
       "| Monotremata     |  8.600000       |  8.6            |  8.6            |  1              | \n",
       "| Perissodactyla  |  3.466667       |  2.9            |  4.4            |  3              | \n",
       "| Pilosa          | 14.400000       | 14.4            | 14.4            |  1              | \n",
       "| Primates        | 10.500000       |  8.0            | 17.0            | 12              | \n",
       "| Proboscidea     |  3.600000       |  3.3            |  3.9            |  2              | \n",
       "| Rodentia        | 12.468182       |  7.0            | 16.6            | 22              | \n",
       "| Scandentia      |  8.900000       |  8.9            |  8.9            |  1              | \n",
       "| Soricomorpha    | 11.100000       |  8.4            | 14.9            |  5              | \n",
       "\n",
       "\n"
      ],
      "text/plain": [
       "   order           avg_sleep min_sleep max_sleep total\n",
       "1  Afrosoricida    15.600000 15.6      15.6       1   \n",
       "2  Artiodactyla     4.516667  1.9       9.1       6   \n",
       "3  Carnivora       10.116667  3.5      15.8      12   \n",
       "4  Cetacea          4.500000  2.7       5.6       3   \n",
       "5  Chiroptera      19.800000 19.7      19.9       2   \n",
       "6  Cingulata       17.750000 17.4      18.1       2   \n",
       "7  Didelphimorphia 18.700000 18.0      19.4       2   \n",
       "8  Diprotodontia   12.400000 11.1      13.7       2   \n",
       "9  Erinaceomorpha  10.200000 10.1      10.3       2   \n",
       "10 Hyracoidea       5.666667  5.3       6.3       3   \n",
       "11 Lagomorpha       8.400000  8.4       8.4       1   \n",
       "12 Monotremata      8.600000  8.6       8.6       1   \n",
       "13 Perissodactyla   3.466667  2.9       4.4       3   \n",
       "14 Pilosa          14.400000 14.4      14.4       1   \n",
       "15 Primates        10.500000  8.0      17.0      12   \n",
       "16 Proboscidea      3.600000  3.3       3.9       2   \n",
       "17 Rodentia        12.468182  7.0      16.6      22   \n",
       "18 Scandentia       8.900000  8.9       8.9       1   \n",
       "19 Soricomorpha    11.100000  8.4      14.9       5   "
      ]
     },
     "metadata": {},
     "output_type": "display_data"
    }
   ],
   "source": [
    "msleep %>% \n",
    "    group_by(order) %>%\n",
    "    summarise(avg_sleep = mean(sleep_total), \n",
    "              min_sleep = min(sleep_total), \n",
    "              max_sleep = max(sleep_total),\n",
    "              total = n())"
   ]
  },
  {
   "cell_type": "markdown",
   "metadata": {},
   "source": [
    "## Summary\n",
    "\n",
    "mutate\n",
    "\n",
    ":    Create transformations\n",
    "\n",
    "summarise\n",
    "\n",
    ":    Aggregate\n",
    "\n",
    "group_by\n",
    "\n",
    ":    Group your dataset by levels\n",
    "\n",
    "do\n",
    "\n",
    ":    Evaluate complex operations on a tbl\n",
    "\n",
    "Chaining with the `%>%` operator can result in more readable code.\n",
    "\n",
    "## What We Didn't Cover\n",
    "\n",
    "* There are many additional topics that fit well into the `dplyr` and functional programming landscape\n",
    "* There are too many to cover in one session. Fortunately, most are well documented. The most notable omissions:\n",
    "  1. Connecting to remote databases, see `vignette('databases', package = 'dplyr')`\n",
    "  2. Merging and Joins, see `vignette('two-table', package = 'dplyr')`\n",
    "  3. Programming with `dplyr`,`vignette('nse', package = 'dplyr')`\n",
    "  4. `summarize_each` and `mutate_each`\n",
    "\n",
    "## Thanks for Attending!\n",
    "\n",
    "- Any questions?"
   ]
  }
 ],
 "metadata": {
  "celltoolbar": "Slideshow",
  "kernelspec": {
   "display_name": "R",
   "language": "R",
   "name": "ir"
  },
  "language_info": {
   "codemirror_mode": "r",
   "file_extension": ".r",
   "mimetype": "text/x-r-source",
   "name": "R",
   "pygments_lexer": "r",
   "version": "3.5.3"
  }
 },
 "nbformat": 4,
 "nbformat_minor": 1
}
