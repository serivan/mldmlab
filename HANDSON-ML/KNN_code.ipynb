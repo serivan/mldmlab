{
  "nbformat": 4,
  "nbformat_minor": 0,
  "metadata": {
    "colab": {
      "name": "KNN-code.ipynb",
      "provenance": [],
      "authorship_tag": "ABX9TyMxbAMoHzGhf5dPs0oUvvs8",
      "include_colab_link": true
    },
    "kernelspec": {
      "name": "python3",
      "display_name": "Python 3"
    }
  },
  "cells": [
    {
      "cell_type": "markdown",
      "metadata": {
        "id": "view-in-github",
        "colab_type": "text"
      },
      "source": [
        "<a href=\"https://colab.research.google.com/github/serivan/mldmlab/blob/master/KNN_code.ipynb\" target=\"_parent\"><img src=\"https://colab.research.google.com/assets/colab-badge.svg\" alt=\"Open In Colab\"/></a>"
      ]
    },
    {
      "cell_type": "markdown",
      "metadata": {
        "id": "jtoWY4kA7g-n",
        "colab_type": "text"
      },
      "source": [
        "#Pseudo Code of KNN"
      ]
    },
    {
      "cell_type": "markdown",
      "metadata": {
        "id": "qGojnqQq7wIW",
        "colab_type": "text"
      },
      "source": [
        "We can implement a KNN model by following the below steps:\n",
        "\n",
        "1. Load the data\n",
        "\n",
        "2. Initialise the value of k\n",
        "\n",
        "3. For getting the predicted class, iterate from 1 to total number of training data points:\n",
        "> Calculate the distance between test data and each row of training data. \n",
        "> Here we will use Euclidean distance as our distance metric since it’s the most popular method. The other metrics that can be used are Chebyshev, cosine, etc.\n",
        "\n",
        "\n",
        "\n",
        "4. Sort the calculated distances in ascending order based on distance values\n",
        "\n",
        "5. Get top k rows from the sorted array\n",
        "\n",
        "6. Get the most frequent class of these rows\n",
        "\n",
        "7. Return the predicted class\n",
        "\n",
        "> Indented block\n",
        "\n"
      ]
    },
    {
      "cell_type": "code",
      "metadata": {
        "id": "6bb0zGV2AZiU",
        "colab_type": "code",
        "colab": {}
      },
      "source": [
        "# Importing libraries\n",
        "import pandas as pd\n",
        "import numpy as np\n",
        "import math\n",
        "import operator\n",
        "from sklearn import datasets\n",
        "\n",
        "#### Start of STEP 1\n",
        "# Importing data \n",
        "iris = datasets.load_iris()\n",
        "\n",
        "data = pd.DataFrame(data= np.c_[iris['data'], iris['target']],\n",
        "                     columns= iris['feature_names'] + ['target'])\n",
        "#### End of STEP 1\n",
        "\n",
        "print(data.head(5)) \n"
      ],
      "execution_count": 0,
      "outputs": []
    },
    {
      "cell_type": "code",
      "metadata": {
        "id": "WaPlDB1UDJDW",
        "colab_type": "code",
        "colab": {}
      },
      "source": [
        "# The following code is for the KNN Clustering from Scratch\n",
        "# Defining a function which calculates euclidean distance between two data points\n",
        "def euclideanDistance(data1, data2, length):\n",
        "    #TODO\n",
        "    return \n",
        "\n",
        "# Defining our KNN model\n",
        "def knn(trainingSet, testInstance, k):\n",
        " \n",
        "    distances = {}\n",
        "    sort = {}\n",
        " \n",
        "    length = testInstance.shape[1]\n",
        "    \n",
        "    #### Start of STEP 3\n",
        "    # Calculating euclidean distance between each row of training data and test data\n",
        "    for x in range(len(trainingSet)):\n",
        "        #TODO\n",
        "\n",
        "        #### End of STEP 3.1\n",
        " \n",
        "    #### Start of STEP 4\n",
        "    # Sorting them on the basis of distance\n",
        "    sorted_d = sorted(distances.items(), key=operator.itemgetter(1))\n",
        "    #### End of STEP 4\n",
        " \n",
        "    neighbors = []\n",
        "    \n",
        "    #### Start of STEP 5\n",
        "    # Extracting top k neighbors\n",
        "    for x in range(k):\n",
        "        #TODO\n",
        "\n",
        "    #### End of STEP 5\n",
        "    classVotes = {}\n",
        "    \n",
        "    #### Start of STEP 6\n",
        "    # Calculating the most freq class in the neighbors\n",
        "    for x in range(len(neighbors)):\n",
        "        #TODO\n",
        "\n",
        "    #### End of STEP 6\n",
        "\n",
        "    #### Start of STEP 7\n",
        "    sortedVotes = sorted( TODO )\n",
        "    return(sortedVotes[0][0], neighbors)\n",
        "    #### End of STEP 7\n"
      ],
      "execution_count": 0,
      "outputs": []
    },
    {
      "cell_type": "markdown",
      "metadata": {
        "id": "LzFSPq4_DOI5",
        "colab_type": "text"
      },
      "source": [
        "Now you ca use the classifier"
      ]
    },
    {
      "cell_type": "code",
      "metadata": {
        "id": "vqLPGU2K7TNR",
        "colab_type": "code",
        "outputId": "eec7a483-0a5f-4637-bfbd-342541c4f58f",
        "colab": {
          "base_uri": "https://localhost:8080/",
          "height": 622
        }
      },
      "source": [
        "testSet = [[7.2, 3.6, 5.1, 2.5]]\n",
        "test = pd.DataFrame(testSet)\n",
        "\n",
        "#### Start of STEP 2\n",
        "# Setting number of neighbors = 1\n",
        "\n",
        "\n",
        "print('\\n\\nWith 1 Nearest Neighbour \\n\\n')\n",
        "k = 1\n",
        "#### End of STEP 2\n",
        "# Running KNN model\n",
        "result,neigh = knn(data, test, k)\n",
        "\n",
        "# Predicted class\n",
        "print('\\nPredicted Class of the datapoint = ', result)\n",
        "\n",
        "# Nearest neighbor\n",
        "print('\\nNearest Neighbour of the datapoints = ',neigh)\n",
        "\n",
        "\n",
        "print('\\n\\nWith 3 Nearest Neighbours\\n\\n')\n",
        "# Setting number of neighbors = 3 \n",
        "k = 3 \n",
        "# Running KNN model \n",
        "result,neigh = knn(data, test, k) \n",
        "\n",
        "# Predicted class \n",
        "print('\\nPredicted class of the datapoint = ',result)\n",
        "\n",
        "# Nearest neighbor\n",
        "print('\\nNearest Neighbours of the datapoints = ',neigh)\n",
        "\n",
        "print('\\n\\nWith 5 Nearest Neighbours\\n\\n')\n",
        "# Setting number of neighbors = 3 \n",
        "k = 5\n",
        "# Running KNN model \n",
        "result,neigh = knn(data, test, k) \n",
        "\n",
        "# Predicted class \n",
        "print('\\nPredicted class of the datapoint = ',result)\n",
        "\n",
        "# Nearest neighbor\n",
        "print('\\nNearest Neighbours of the datapoints = ',neigh)"
      ],
      "execution_count": 0,
      "outputs": [
        {
          "output_type": "stream",
          "text": [
            "   sepal length (cm)  sepal width (cm)  ...  petal width (cm)  target\n",
            "0                5.1               3.5  ...               0.2     0.0\n",
            "1                4.9               3.0  ...               0.2     0.0\n",
            "2                4.7               3.2  ...               0.2     0.0\n",
            "3                4.6               3.1  ...               0.2     0.0\n",
            "4                5.0               3.6  ...               0.2     0.0\n",
            "\n",
            "[5 rows x 5 columns]\n",
            "\n",
            "\n",
            "With 1 Nearest Neighbour \n",
            "\n",
            "\n",
            "\n",
            "Predicted Class of the datapoint =  2.0\n",
            "\n",
            "Nearest Neighbour of the datapoints =  [141]\n",
            "\n",
            "\n",
            "With 3 Nearest Neighbours\n",
            "\n",
            "\n",
            "\n",
            "Predicted class of the datapoint =  2.0\n",
            "\n",
            "Nearest Neighbours of the datapoints =  [141, 139, 120]\n",
            "\n",
            "\n",
            "With 5 Nearest Neighbours\n",
            "\n",
            "\n",
            "\n",
            "Predicted class of the datapoint =  2.0\n",
            "\n",
            "Nearest Neighbours of the datapoints =  [141, 139, 120, 145, 144]\n"
          ],
          "name": "stdout"
        }
      ]
    },
    {
      "cell_type": "code",
      "metadata": {
        "id": "eApAzbCdDAr4",
        "colab_type": "code",
        "colab": {}
      },
      "source": [
        ""
      ],
      "execution_count": 0,
      "outputs": []
    }
  ]
}