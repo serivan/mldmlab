{
 "cells": [
  {
   "cell_type": "markdown",
   "metadata": {
    "_cell_guid": "3bd4b4df-0cc0-40b1-b4da-c0b0dcb413f8",
    "_uuid": "26816927ad8b3a35dc55fafc33efd187f30cde39",
    "id": "j1-OG_fCcQyo",
    "tags": []
   },
   "source": [
    "Here you will learn to submit your model to a machine learning competition in Python.  It's fun, and it will give you a way to see your progress as your skills keep improving.*\n",
    "\n",
    "# Introduction\n",
    "Machine learning competitions are a great way to improve your skills and measure your progress as a data scientist. If you are using data from a competition on Kaggle, you can easily submit it from your notebook.  Here's how you do it.\n",
    "\n",
    "# Example\n",
    "We're doing very minimal data set up here so we can focus on how to submit modeling results to competitions. Other tutorials will teach you how build great models. So the model in this example will be fairly simple. We'll start with the code to read data, select predictors, and fit a model."
   ]
  },
  {
   "cell_type": "code",
   "execution_count": 18,
   "metadata": {
    "id": "6NgNXHNpcQyq",
    "outputId": "6d793b5d-f5ee-42a4-872f-392b17537666"
   },
   "outputs": [],
   "source": [
    "# if not 'sklearn' in sys.modules.keys():\n",
    "#    pip.main(['install', 'sklearn'])\n",
    "# if not 'kaggle' in sys.modules.keys():\n",
    "#    pip.main(['install', 'kaggle'])\n",
    "# import random\n",
    "# import sys\n",
    "\n",
    "# import pip\n",
    "\n",
    "# print(\"Random number with seed 2021\")\n",
    "# first call\n",
    "# random.seed(2021)"
   ]
  },
  {
   "cell_type": "markdown",
   "metadata": {},
   "source": [
    "## Imports"
   ]
  },
  {
   "cell_type": "code",
   "execution_count": 19,
   "metadata": {
    "_cell_guid": "8524922d-be55-46fd-863f-004261fcfff0",
    "_uuid": "58cfd95aa5563209575b12977280983ffeea6492",
    "id": "79gMoBcZcQyy"
   },
   "outputs": [],
   "source": [
    "import graphviz\n",
    "import matplotlib.pyplot as plt\n",
    "import numpy as np\n",
    "import pandas as pd\n",
    "import seaborn as sns\n",
    "from sklearn.compose import ColumnTransformer\n",
    "from sklearn.impute import SimpleImputer\n",
    "from sklearn.metrics import classification_report, confusion_matrix\n",
    "from sklearn.model_selection import (\n",
    "    GridSearchCV,\n",
    "    StratifiedKFold,\n",
    "    cross_val_score,\n",
    "    train_test_split,\n",
    ")\n",
    "from sklearn.pipeline import Pipeline\n",
    "from sklearn.preprocessing import StandardScaler\n",
    "from sklearn.tree import DecisionTreeClassifier, export_graphviz"
   ]
  },
  {
   "cell_type": "markdown",
   "metadata": {},
   "source": [
    "## Define Constants"
   ]
  },
  {
   "cell_type": "code",
   "execution_count": 20,
   "metadata": {},
   "outputs": [],
   "source": [
    "DATA_PATH = \"https://raw.githubusercontent.com/serivan/mldmlab/master/Kaggle/KAGGLE21/\"\n",
    "OUTPUT_PATH = \"kaggle_submissions/\"\n",
    "RANDOM_STATE = 3993\n",
    "TRAIN_SIZE = 0.8"
   ]
  },
  {
   "cell_type": "markdown",
   "metadata": {},
   "source": [
    "## Define Utils"
   ]
  },
  {
   "cell_type": "markdown",
   "metadata": {
    "id": "jhXvV6DlcQzA"
   },
   "source": [
    "Here we define a function for preperaing a submission file"
   ]
  },
  {
   "cell_type": "code",
   "execution_count": 21,
   "metadata": {
    "id": "uPpDA5ElcQzB"
   },
   "outputs": [],
   "source": [
    "def generateSubmission(myModel, submissionFile, description):\n",
    "    # Read the test data\n",
    "    X_test = pd.read_csv(DATA_PATH + \"test.csv\")\n",
    "\n",
    "    # Impute each test item, then predict\n",
    "    X_test_imp = imp.transform(X_test)\n",
    "\n",
    "    # Use the model to make predictions\n",
    "    y_test_pred = myModel.predict(X_test_imp)\n",
    "    # print(y_test_pred)\n",
    "\n",
    "    # submission file\n",
    "    my_submission = pd.DataFrame({\"test_index\": X_test.index, \"target\": y_test_pred})\n",
    "    # you could use any filename. We choose submission here\n",
    "    my_submission.to_csv(OUTPUT_PATH + submissionFile, index=False)\n",
    "\n",
    "    # Submit authomatically; kaggle API authentication needed\n",
    "    #!kaggle competitions submit -c mldm-classification-competition-2020 -f {submissionFile} -m '{description}'"
   ]
  },
  {
   "cell_type": "markdown",
   "metadata": {},
   "source": [
    "## Load Data"
   ]
  },
  {
   "cell_type": "code",
   "execution_count": 22,
   "metadata": {
    "_cell_guid": "8524922d-be55-46fd-863f-004261fcfff0",
    "_uuid": "58cfd95aa5563209575b12977280983ffeea6492",
    "id": "79gMoBcZcQyy"
   },
   "outputs": [
    {
     "data": {
      "text/plain": [
       "Id                       int64\n",
       "st_slope               float64\n",
       "age                    float64\n",
       "chest_pain_type        float64\n",
       "cholesterol            float64\n",
       "exercise_angina        float64\n",
       "fasting_blood_sugar    float64\n",
       "max_heart_rate         float64\n",
       "oldpeak                float64\n",
       "pulse                  float64\n",
       "resting_bp_s           float64\n",
       "resting_ecg            float64\n",
       "sex                    float64\n",
       "Synt                   float64\n",
       "target                   int64\n",
       "dtype: object"
      ]
     },
     "execution_count": 22,
     "metadata": {},
     "output_type": "execute_result"
    }
   ],
   "source": [
    "# Read the data\n",
    "train = pd.read_csv(DATA_PATH + \"train.csv\")\n",
    "train.dtypes"
   ]
  },
  {
   "cell_type": "code",
   "execution_count": 23,
   "metadata": {
    "id": "dlokqpsPcQy2",
    "outputId": "90de1d2e-02b3-4078-b4e6-1120e77a106b"
   },
   "outputs": [
    {
     "data": {
      "text/html": [
       "<div>\n",
       "<style scoped>\n",
       "    .dataframe tbody tr th:only-of-type {\n",
       "        vertical-align: middle;\n",
       "    }\n",
       "\n",
       "    .dataframe tbody tr th {\n",
       "        vertical-align: top;\n",
       "    }\n",
       "\n",
       "    .dataframe thead th {\n",
       "        text-align: right;\n",
       "    }\n",
       "</style>\n",
       "<table border=\"1\" class=\"dataframe\">\n",
       "  <thead>\n",
       "    <tr style=\"text-align: right;\">\n",
       "      <th></th>\n",
       "      <th>Id</th>\n",
       "      <th>st_slope</th>\n",
       "      <th>age</th>\n",
       "      <th>chest_pain_type</th>\n",
       "      <th>cholesterol</th>\n",
       "      <th>exercise_angina</th>\n",
       "      <th>fasting_blood_sugar</th>\n",
       "      <th>max_heart_rate</th>\n",
       "      <th>oldpeak</th>\n",
       "      <th>pulse</th>\n",
       "      <th>resting_bp_s</th>\n",
       "      <th>resting_ecg</th>\n",
       "      <th>sex</th>\n",
       "      <th>Synt</th>\n",
       "      <th>target</th>\n",
       "    </tr>\n",
       "  </thead>\n",
       "  <tbody>\n",
       "    <tr>\n",
       "      <th>0</th>\n",
       "      <td>1000</td>\n",
       "      <td>2.0</td>\n",
       "      <td>60.0</td>\n",
       "      <td>4.0</td>\n",
       "      <td>207.0</td>\n",
       "      <td>1.0</td>\n",
       "      <td>0.0</td>\n",
       "      <td>131.0</td>\n",
       "      <td>2.355921</td>\n",
       "      <td>329.0</td>\n",
       "      <td>129.0</td>\n",
       "      <td>2.0</td>\n",
       "      <td>1.0</td>\n",
       "      <td>0.791547</td>\n",
       "      <td>1</td>\n",
       "    </tr>\n",
       "    <tr>\n",
       "      <th>1</th>\n",
       "      <td>1001</td>\n",
       "      <td>2.0</td>\n",
       "      <td>52.0</td>\n",
       "      <td>4.0</td>\n",
       "      <td>182.0</td>\n",
       "      <td>1.0</td>\n",
       "      <td>0.0</td>\n",
       "      <td>140.0</td>\n",
       "      <td>1.501970</td>\n",
       "      <td>347.0</td>\n",
       "      <td>129.0</td>\n",
       "      <td>0.0</td>\n",
       "      <td>0.0</td>\n",
       "      <td>0.751132</td>\n",
       "      <td>0</td>\n",
       "    </tr>\n",
       "    <tr>\n",
       "      <th>2</th>\n",
       "      <td>1002</td>\n",
       "      <td>1.0</td>\n",
       "      <td>48.0</td>\n",
       "      <td>4.0</td>\n",
       "      <td>224.0</td>\n",
       "      <td>0.0</td>\n",
       "      <td>0.0</td>\n",
       "      <td>186.0</td>\n",
       "      <td>-0.025627</td>\n",
       "      <td>462.0</td>\n",
       "      <td>122.0</td>\n",
       "      <td>2.0</td>\n",
       "      <td>1.0</td>\n",
       "      <td>0.269111</td>\n",
       "      <td>0</td>\n",
       "    </tr>\n",
       "    <tr>\n",
       "      <th>3</th>\n",
       "      <td>1003</td>\n",
       "      <td>2.0</td>\n",
       "      <td>60.0</td>\n",
       "      <td>3.0</td>\n",
       "      <td>320.0</td>\n",
       "      <td>1.0</td>\n",
       "      <td>1.0</td>\n",
       "      <td>122.0</td>\n",
       "      <td>1.654389</td>\n",
       "      <td>303.0</td>\n",
       "      <td>141.0</td>\n",
       "      <td>1.0</td>\n",
       "      <td>1.0</td>\n",
       "      <td>0.669550</td>\n",
       "      <td>1</td>\n",
       "    </tr>\n",
       "    <tr>\n",
       "      <th>4</th>\n",
       "      <td>1004</td>\n",
       "      <td>1.0</td>\n",
       "      <td>57.0</td>\n",
       "      <td>2.0</td>\n",
       "      <td>266.0</td>\n",
       "      <td>0.0</td>\n",
       "      <td>0.0</td>\n",
       "      <td>142.0</td>\n",
       "      <td>0.270579</td>\n",
       "      <td>351.0</td>\n",
       "      <td>123.0</td>\n",
       "      <td>0.0</td>\n",
       "      <td>1.0</td>\n",
       "      <td>0.533639</td>\n",
       "      <td>1</td>\n",
       "    </tr>\n",
       "  </tbody>\n",
       "</table>\n",
       "</div>"
      ],
      "text/plain": [
       "     Id  st_slope   age  chest_pain_type  cholesterol  exercise_angina  \\\n",
       "0  1000       2.0  60.0              4.0        207.0              1.0   \n",
       "1  1001       2.0  52.0              4.0        182.0              1.0   \n",
       "2  1002       1.0  48.0              4.0        224.0              0.0   \n",
       "3  1003       2.0  60.0              3.0        320.0              1.0   \n",
       "4  1004       1.0  57.0              2.0        266.0              0.0   \n",
       "\n",
       "   fasting_blood_sugar  max_heart_rate   oldpeak  pulse  resting_bp_s  \\\n",
       "0                  0.0           131.0  2.355921  329.0         129.0   \n",
       "1                  0.0           140.0  1.501970  347.0         129.0   \n",
       "2                  0.0           186.0 -0.025627  462.0         122.0   \n",
       "3                  1.0           122.0  1.654389  303.0         141.0   \n",
       "4                  0.0           142.0  0.270579  351.0         123.0   \n",
       "\n",
       "   resting_ecg  sex      Synt  target  \n",
       "0          2.0  1.0  0.791547       1  \n",
       "1          0.0  0.0  0.751132       0  \n",
       "2          2.0  1.0  0.269111       0  \n",
       "3          1.0  1.0  0.669550       1  \n",
       "4          0.0  1.0  0.533639       1  "
      ]
     },
     "execution_count": 23,
     "metadata": {},
     "output_type": "execute_result"
    }
   ],
   "source": [
    "train.head()"
   ]
  },
  {
   "cell_type": "markdown",
   "metadata": {},
   "source": [
    "## Count missing values in columns"
   ]
  },
  {
   "cell_type": "code",
   "execution_count": 24,
   "metadata": {},
   "outputs": [
    {
     "data": {
      "text/plain": [
       "Id                       0\n",
       "st_slope                 1\n",
       "age                      4\n",
       "chest_pain_type         10\n",
       "cholesterol            188\n",
       "exercise_angina          3\n",
       "fasting_blood_sugar      8\n",
       "max_heart_rate           4\n",
       "oldpeak                  7\n",
       "pulse                    4\n",
       "resting_bp_s             4\n",
       "resting_ecg              3\n",
       "sex                      9\n",
       "Synt                     0\n",
       "target                   0\n",
       "dtype: int64"
      ]
     },
     "execution_count": 24,
     "metadata": {},
     "output_type": "execute_result"
    }
   ],
   "source": [
    "number_of_missing_in_cols = train.shape[0] - train.count()\n",
    "number_of_missing_in_cols"
   ]
  },
  {
   "cell_type": "markdown",
   "metadata": {},
   "source": [
    "## Divide features by sematic type (binary, nominal, numerical)"
   ]
  },
  {
   "cell_type": "code",
   "execution_count": 25,
   "metadata": {},
   "outputs": [
    {
     "data": {
      "text/plain": [
       "exercise_angina           2\n",
       "fasting_blood_sugar       2\n",
       "sex                       2\n",
       "resting_ecg               3\n",
       "st_slope                  4\n",
       "chest_pain_type           4\n",
       "age                      49\n",
       "resting_bp_s             87\n",
       "max_heart_rate          121\n",
       "cholesterol             222\n",
       "pulse                   259\n",
       "oldpeak                 947\n",
       "Id                     1152\n",
       "Synt                   1152\n",
       "dtype: int64"
      ]
     },
     "execution_count": 25,
     "metadata": {},
     "output_type": "execute_result"
    }
   ],
   "source": [
    "# Count the number of unique values in dataframe\n",
    "cols_unique_vals_count = train.drop(columns=\"target\").nunique().sort_values()\n",
    "cols_unique_vals_count"
   ]
  },
  {
   "cell_type": "code",
   "execution_count": 26,
   "metadata": {},
   "outputs": [
    {
     "data": {
      "text/plain": [
       "['exercise_angina', 'fasting_blood_sugar', 'sex']"
      ]
     },
     "execution_count": 26,
     "metadata": {},
     "output_type": "execute_result"
    }
   ],
   "source": [
    "# If the column has only 2 unique values it is a binary col\n",
    "BINARY_COLS = [col for col, val in cols_unique_vals_count.items() if val == 2]\n",
    "BINARY_COLS"
   ]
  },
  {
   "cell_type": "code",
   "execution_count": 27,
   "metadata": {},
   "outputs": [
    {
     "data": {
      "text/plain": [
       "['resting_ecg', 'st_slope', 'chest_pain_type']"
      ]
     },
     "execution_count": 27,
     "metadata": {},
     "output_type": "execute_result"
    }
   ],
   "source": [
    "# Maximum number of unique values which represent a Nominal (categorical) feature\n",
    "NOMINAL_NUNIQUE_THRESHOLD = 10\n",
    "NOMINAL_COLS = [\n",
    "    col\n",
    "    for col, val in cols_unique_vals_count.items()\n",
    "    if val > 2 and val < NOMINAL_NUNIQUE_THRESHOLD\n",
    "]\n",
    "NOMINAL_COLS"
   ]
  },
  {
   "cell_type": "code",
   "execution_count": 28,
   "metadata": {},
   "outputs": [
    {
     "data": {
      "text/plain": [
       "['age',\n",
       " 'resting_bp_s',\n",
       " 'max_heart_rate',\n",
       " 'cholesterol',\n",
       " 'pulse',\n",
       " 'oldpeak',\n",
       " 'Id',\n",
       " 'Synt']"
      ]
     },
     "execution_count": 28,
     "metadata": {},
     "output_type": "execute_result"
    }
   ],
   "source": [
    "# Maximum number of unique values which represent a Nominal (categorical) feature\n",
    "NUMERICAL_COLS = [\n",
    "    col\n",
    "    for col, val in cols_unique_vals_count.items()\n",
    "    if val > NOMINAL_NUNIQUE_THRESHOLD\n",
    "]\n",
    "NUMERICAL_COLS"
   ]
  },
  {
   "cell_type": "code",
   "execution_count": 29,
   "metadata": {},
   "outputs": [
    {
     "data": {
      "text/plain": [
       "['exercise_angina',\n",
       " 'fasting_blood_sugar',\n",
       " 'sex',\n",
       " 'resting_ecg',\n",
       " 'st_slope',\n",
       " 'chest_pain_type']"
      ]
     },
     "execution_count": 29,
     "metadata": {},
     "output_type": "execute_result"
    }
   ],
   "source": [
    "# Create the categorical columns list as binary + nominal\n",
    "CATEGORICAL_COLS = BINARY_COLS + NOMINAL_COLS\n",
    "CATEGORICAL_COLS"
   ]
  },
  {
   "cell_type": "markdown",
   "metadata": {
    "id": "KxX3XDIVcQy9"
   },
   "source": [
    "## Feature engineering phase"
   ]
  },
  {
   "cell_type": "code",
   "execution_count": 30,
   "metadata": {},
   "outputs": [],
   "source": [
    "# Split dataset in data and target label\n",
    "X_train, y_train = train.drop(columns=\"target\"), train.target"
   ]
  },
  {
   "cell_type": "code",
   "execution_count": 31,
   "metadata": {},
   "outputs": [],
   "source": [
    "# Create categorical transformer (binary + nominal)\n",
    "# Replace imputer\n",
    "categorical_transformer = SimpleImputer(missing_values=np.nan, strategy=\"most_frequent\")"
   ]
  },
  {
   "cell_type": "code",
   "execution_count": 32,
   "metadata": {},
   "outputs": [],
   "source": [
    "# Create numeric transformer\n",
    "# Impute missing values using the median value of each colum\n",
    "numeric_transformer = SimpleImputer(missing_values=np.nan, strategy=\"median\")"
   ]
  },
  {
   "cell_type": "code",
   "execution_count": 33,
   "metadata": {},
   "outputs": [],
   "source": [
    "# Create the imputer of mixed type columns\n",
    "# ATTENTION: the preprocessor can be used in a Pipeline for simplicity\n",
    "imputer = ColumnTransformer(\n",
    "    transformers=[\n",
    "        (\"impute_numeric\", numeric_transformer, NUMERICAL_COLS),\n",
    "        (\"impute_categorical\", categorical_transformer, CATEGORICAL_COLS),\n",
    "    ],\n",
    "    verbose=True,\n",
    ")"
   ]
  },
  {
   "cell_type": "code",
   "execution_count": 34,
   "metadata": {
    "id": "KAGwdIWgcQy9"
   },
   "outputs": [
    {
     "name": "stdout",
     "output_type": "stream",
     "text": [
      "[ColumnTransformer]  (1 of 2) Processing impute_numeric, total=   0.0s\n",
      "[ColumnTransformer]  (2 of 2) Processing impute_categorical, total=   0.0s\n"
     ]
    }
   ],
   "source": [
    "# Fit the imputer\n",
    "imp = imputer.fit(X_train)\n",
    "# Impute our data\n",
    "X_train_imp = imp.transform(X_train)"
   ]
  },
  {
   "cell_type": "code",
   "execution_count": 35,
   "metadata": {},
   "outputs": [
    {
     "data": {
      "text/html": [
       "<div>\n",
       "<style scoped>\n",
       "    .dataframe tbody tr th:only-of-type {\n",
       "        vertical-align: middle;\n",
       "    }\n",
       "\n",
       "    .dataframe tbody tr th {\n",
       "        vertical-align: top;\n",
       "    }\n",
       "\n",
       "    .dataframe thead th {\n",
       "        text-align: right;\n",
       "    }\n",
       "</style>\n",
       "<table border=\"1\" class=\"dataframe\">\n",
       "  <thead>\n",
       "    <tr style=\"text-align: right;\">\n",
       "      <th></th>\n",
       "      <th>age</th>\n",
       "      <th>resting_bp_s</th>\n",
       "      <th>max_heart_rate</th>\n",
       "      <th>cholesterol</th>\n",
       "      <th>pulse</th>\n",
       "      <th>oldpeak</th>\n",
       "      <th>Id</th>\n",
       "      <th>Synt</th>\n",
       "      <th>exercise_angina</th>\n",
       "      <th>fasting_blood_sugar</th>\n",
       "      <th>sex</th>\n",
       "      <th>resting_ecg</th>\n",
       "      <th>st_slope</th>\n",
       "      <th>chest_pain_type</th>\n",
       "    </tr>\n",
       "  </thead>\n",
       "  <tbody>\n",
       "    <tr>\n",
       "      <th>0</th>\n",
       "      <td>60.0</td>\n",
       "      <td>129.0</td>\n",
       "      <td>131.0</td>\n",
       "      <td>207.0</td>\n",
       "      <td>329.0</td>\n",
       "      <td>2.355921</td>\n",
       "      <td>1000.0</td>\n",
       "      <td>0.791547</td>\n",
       "      <td>1.0</td>\n",
       "      <td>0.0</td>\n",
       "      <td>1.0</td>\n",
       "      <td>2.0</td>\n",
       "      <td>2.0</td>\n",
       "      <td>4.0</td>\n",
       "    </tr>\n",
       "    <tr>\n",
       "      <th>1</th>\n",
       "      <td>52.0</td>\n",
       "      <td>129.0</td>\n",
       "      <td>140.0</td>\n",
       "      <td>182.0</td>\n",
       "      <td>347.0</td>\n",
       "      <td>1.501970</td>\n",
       "      <td>1001.0</td>\n",
       "      <td>0.751132</td>\n",
       "      <td>1.0</td>\n",
       "      <td>0.0</td>\n",
       "      <td>0.0</td>\n",
       "      <td>0.0</td>\n",
       "      <td>2.0</td>\n",
       "      <td>4.0</td>\n",
       "    </tr>\n",
       "    <tr>\n",
       "      <th>2</th>\n",
       "      <td>48.0</td>\n",
       "      <td>122.0</td>\n",
       "      <td>186.0</td>\n",
       "      <td>224.0</td>\n",
       "      <td>462.0</td>\n",
       "      <td>-0.025627</td>\n",
       "      <td>1002.0</td>\n",
       "      <td>0.269111</td>\n",
       "      <td>0.0</td>\n",
       "      <td>0.0</td>\n",
       "      <td>1.0</td>\n",
       "      <td>2.0</td>\n",
       "      <td>1.0</td>\n",
       "      <td>4.0</td>\n",
       "    </tr>\n",
       "    <tr>\n",
       "      <th>3</th>\n",
       "      <td>60.0</td>\n",
       "      <td>141.0</td>\n",
       "      <td>122.0</td>\n",
       "      <td>320.0</td>\n",
       "      <td>303.0</td>\n",
       "      <td>1.654389</td>\n",
       "      <td>1003.0</td>\n",
       "      <td>0.669550</td>\n",
       "      <td>1.0</td>\n",
       "      <td>1.0</td>\n",
       "      <td>1.0</td>\n",
       "      <td>1.0</td>\n",
       "      <td>2.0</td>\n",
       "      <td>3.0</td>\n",
       "    </tr>\n",
       "    <tr>\n",
       "      <th>4</th>\n",
       "      <td>57.0</td>\n",
       "      <td>123.0</td>\n",
       "      <td>142.0</td>\n",
       "      <td>266.0</td>\n",
       "      <td>351.0</td>\n",
       "      <td>0.270579</td>\n",
       "      <td>1004.0</td>\n",
       "      <td>0.533639</td>\n",
       "      <td>0.0</td>\n",
       "      <td>0.0</td>\n",
       "      <td>1.0</td>\n",
       "      <td>0.0</td>\n",
       "      <td>1.0</td>\n",
       "      <td>2.0</td>\n",
       "    </tr>\n",
       "  </tbody>\n",
       "</table>\n",
       "</div>"
      ],
      "text/plain": [
       "    age  resting_bp_s  max_heart_rate  cholesterol  pulse   oldpeak      Id  \\\n",
       "0  60.0         129.0           131.0        207.0  329.0  2.355921  1000.0   \n",
       "1  52.0         129.0           140.0        182.0  347.0  1.501970  1001.0   \n",
       "2  48.0         122.0           186.0        224.0  462.0 -0.025627  1002.0   \n",
       "3  60.0         141.0           122.0        320.0  303.0  1.654389  1003.0   \n",
       "4  57.0         123.0           142.0        266.0  351.0  0.270579  1004.0   \n",
       "\n",
       "       Synt  exercise_angina  fasting_blood_sugar  sex  resting_ecg  st_slope  \\\n",
       "0  0.791547              1.0                  0.0  1.0          2.0       2.0   \n",
       "1  0.751132              1.0                  0.0  0.0          0.0       2.0   \n",
       "2  0.269111              0.0                  0.0  1.0          2.0       1.0   \n",
       "3  0.669550              1.0                  1.0  1.0          1.0       2.0   \n",
       "4  0.533639              0.0                  0.0  1.0          0.0       1.0   \n",
       "\n",
       "   chest_pain_type  \n",
       "0              4.0  \n",
       "1              4.0  \n",
       "2              4.0  \n",
       "3              3.0  \n",
       "4              2.0  "
      ]
     },
     "execution_count": 35,
     "metadata": {},
     "output_type": "execute_result"
    }
   ],
   "source": [
    "# Column names after mixed imputation procedure\n",
    "COLUMN_NAMES = NUMERICAL_COLS + CATEGORICAL_COLS\n",
    "# Create a DataFrame from numpy array for visualization and simplicity\n",
    "X_train_imp = pd.DataFrame(data=X_train_imp, columns=COLUMN_NAMES)\n",
    "X_train_imp.head()"
   ]
  },
  {
   "cell_type": "markdown",
   "metadata": {
    "id": "-xU8Pk2ScQzD"
   },
   "source": [
    "## Training"
   ]
  },
  {
   "cell_type": "markdown",
   "metadata": {
    "id": "edNIVyHAcQzE"
   },
   "source": [
    "### You can train directly on the training set"
   ]
  },
  {
   "cell_type": "code",
   "execution_count": 36,
   "metadata": {
    "id": "oaQjXaRMcQzE",
    "outputId": "493978e7-a7d5-48e1-f0d9-c29fb893415a"
   },
   "outputs": [
    {
     "data": {
      "text/plain": [
       "1.0"
      ]
     },
     "execution_count": 36,
     "metadata": {},
     "output_type": "execute_result"
    }
   ],
   "source": [
    "my_model = DecisionTreeClassifier(random_state=RANDOM_STATE)\n",
    "my_model.fit(X_train_imp, y_train)\n",
    "my_model.score(X_train_imp, y_train)"
   ]
  },
  {
   "cell_type": "code",
   "execution_count": 37,
   "metadata": {},
   "outputs": [
    {
     "data": {
      "text/plain": [
       "array([0.05012747, 0.07763511, 0.07688727, 0.05501853, 0.05253802,\n",
       "       0.08290898, 0.04803979, 0.03772154, 0.02302526, 0.01276602,\n",
       "       0.04143481, 0.01742472, 0.30817693, 0.11629555])"
      ]
     },
     "execution_count": 37,
     "metadata": {},
     "output_type": "execute_result"
    }
   ],
   "source": [
    "my_model.feature_importances_"
   ]
  },
  {
   "cell_type": "code",
   "execution_count": 38,
   "metadata": {
    "id": "JL-VUzTFcQzH",
    "outputId": "e407a7b0-c80e-4344-92b5-e5c5e9e41f2b"
   },
   "outputs": [
    {
     "data": {
      "text/html": [
       "<div>\n",
       "<style scoped>\n",
       "    .dataframe tbody tr th:only-of-type {\n",
       "        vertical-align: middle;\n",
       "    }\n",
       "\n",
       "    .dataframe tbody tr th {\n",
       "        vertical-align: top;\n",
       "    }\n",
       "\n",
       "    .dataframe thead th {\n",
       "        text-align: right;\n",
       "    }\n",
       "</style>\n",
       "<table border=\"1\" class=\"dataframe\">\n",
       "  <thead>\n",
       "    <tr style=\"text-align: right;\">\n",
       "      <th></th>\n",
       "      <th>importance</th>\n",
       "    </tr>\n",
       "  </thead>\n",
       "  <tbody>\n",
       "    <tr>\n",
       "      <th>st_slope</th>\n",
       "      <td>0.308177</td>\n",
       "    </tr>\n",
       "    <tr>\n",
       "      <th>chest_pain_type</th>\n",
       "      <td>0.116296</td>\n",
       "    </tr>\n",
       "    <tr>\n",
       "      <th>oldpeak</th>\n",
       "      <td>0.082909</td>\n",
       "    </tr>\n",
       "    <tr>\n",
       "      <th>resting_bp_s</th>\n",
       "      <td>0.077635</td>\n",
       "    </tr>\n",
       "    <tr>\n",
       "      <th>max_heart_rate</th>\n",
       "      <td>0.076887</td>\n",
       "    </tr>\n",
       "    <tr>\n",
       "      <th>cholesterol</th>\n",
       "      <td>0.055019</td>\n",
       "    </tr>\n",
       "    <tr>\n",
       "      <th>pulse</th>\n",
       "      <td>0.052538</td>\n",
       "    </tr>\n",
       "    <tr>\n",
       "      <th>age</th>\n",
       "      <td>0.050127</td>\n",
       "    </tr>\n",
       "    <tr>\n",
       "      <th>Id</th>\n",
       "      <td>0.048040</td>\n",
       "    </tr>\n",
       "    <tr>\n",
       "      <th>sex</th>\n",
       "      <td>0.041435</td>\n",
       "    </tr>\n",
       "    <tr>\n",
       "      <th>Synt</th>\n",
       "      <td>0.037722</td>\n",
       "    </tr>\n",
       "    <tr>\n",
       "      <th>exercise_angina</th>\n",
       "      <td>0.023025</td>\n",
       "    </tr>\n",
       "    <tr>\n",
       "      <th>resting_ecg</th>\n",
       "      <td>0.017425</td>\n",
       "    </tr>\n",
       "    <tr>\n",
       "      <th>fasting_blood_sugar</th>\n",
       "      <td>0.012766</td>\n",
       "    </tr>\n",
       "  </tbody>\n",
       "</table>\n",
       "</div>"
      ],
      "text/plain": [
       "                     importance\n",
       "st_slope               0.308177\n",
       "chest_pain_type        0.116296\n",
       "oldpeak                0.082909\n",
       "resting_bp_s           0.077635\n",
       "max_heart_rate         0.076887\n",
       "cholesterol            0.055019\n",
       "pulse                  0.052538\n",
       "age                    0.050127\n",
       "Id                     0.048040\n",
       "sex                    0.041435\n",
       "Synt                   0.037722\n",
       "exercise_angina        0.023025\n",
       "resting_ecg            0.017425\n",
       "fasting_blood_sugar    0.012766"
      ]
     },
     "execution_count": 38,
     "metadata": {},
     "output_type": "execute_result"
    }
   ],
   "source": [
    "# The snippet below will retrieve the feature importances from the model and make them into a DataFrame.\n",
    "feature_importances = pd.DataFrame(\n",
    "    data=my_model.feature_importances_,\n",
    "    index=X_train_imp.columns,\n",
    "    columns=[\"importance\"],\n",
    ").sort_values(\"importance\", ascending=False)\n",
    "feature_importances"
   ]
  },
  {
   "cell_type": "code",
   "execution_count": 39,
   "metadata": {
    "id": "h_flxO0mcQzJ",
    "outputId": "ad0334cb-2340-44ac-9aad-67f72264b49f"
   },
   "outputs": [
    {
     "name": "stdout",
     "output_type": "stream",
     "text": [
      "Confusion Matrix:\n",
      "[[649   0]\n",
      " [  0 503]]\n",
      "Classification Report:\n",
      "              precision    recall  f1-score   support\n",
      "\n",
      "           0       1.00      1.00      1.00       649\n",
      "           1       1.00      1.00      1.00       503\n",
      "\n",
      "    accuracy                           1.00      1152\n",
      "   macro avg       1.00      1.00      1.00      1152\n",
      "weighted avg       1.00      1.00      1.00      1152\n",
      "\n"
     ]
    }
   ],
   "source": [
    "y_pred = my_model.predict(X_train_imp)\n",
    "print(\"Confusion Matrix:\")\n",
    "print(confusion_matrix(y_train, y_pred))\n",
    "\n",
    "print(\"Classification Report:\")\n",
    "print(classification_report(y_train, y_pred))"
   ]
  },
  {
   "cell_type": "code",
   "execution_count": 40,
   "metadata": {
    "id": "PQWmFlljcQzL",
    "outputId": "32701dac-5bef-4b44-a1b5-815cd83c822e"
   },
   "outputs": [
    {
     "name": "stderr",
     "output_type": "stream",
     "text": [
      "/home/iserina/.local/lib/python3.6/site-packages/sklearn/compose/_column_transformer.py:430: FutureWarning: Given feature/column names or counts do not match the ones for the data given during fit. This will fail from v0.24.\n",
      "  FutureWarning)\n"
     ]
    }
   ],
   "source": [
    "# generate a submission file\n",
    "generateSubmission(my_model, \"first_decision_tree.csv\", \"Default Decision Tree Model\")"
   ]
  },
  {
   "cell_type": "markdown",
   "metadata": {
    "id": "EuVsF4wacQzN"
   },
   "source": [
    "### You can consider different models splitting in training and testing"
   ]
  },
  {
   "cell_type": "code",
   "execution_count": 41,
   "metadata": {
    "id": "QXW11klacQzO"
   },
   "outputs": [],
   "source": [
    "X_train_imp_2, X_test_imp_2, y_train_2, y_test_2 = train_test_split(\n",
    "    X_train_imp, y_train, train_size=TRAIN_SIZE, random_state=RANDOM_STATE\n",
    ")"
   ]
  },
  {
   "cell_type": "code",
   "execution_count": 42,
   "metadata": {
    "id": "-e3K7nAPcQzQ",
    "outputId": "71d4172c-4fc6-42c4-b9be-d9889f44f41a"
   },
   "outputs": [
    {
     "data": {
      "text/plain": [
       "0.8360477741585234"
      ]
     },
     "execution_count": 42,
     "metadata": {},
     "output_type": "execute_result"
    }
   ],
   "source": [
    "classification_tree = DecisionTreeClassifier(max_depth=3, random_state=RANDOM_STATE)\n",
    "classification_tree.fit(X_train_imp_2, y_train_2)\n",
    "classification_tree.score(X_train_imp_2, y_train_2)"
   ]
  },
  {
   "cell_type": "code",
   "execution_count": 43,
   "metadata": {
    "id": "_eLhNrTgcQzT",
    "outputId": "c9e56552-6dcb-4a80-97ee-53141b651522"
   },
   "outputs": [
    {
     "data": {
      "text/plain": [
       "0.8138528138528138"
      ]
     },
     "execution_count": 43,
     "metadata": {},
     "output_type": "execute_result"
    }
   ],
   "source": [
    "classification_tree.score(X_test_imp_2, y_test_2)"
   ]
  },
  {
   "cell_type": "code",
   "execution_count": 44,
   "metadata": {
    "id": "vzhSjoN0cQzV",
    "outputId": "7a8696d5-16d6-4a68-c8ff-1827086a8744"
   },
   "outputs": [
    {
     "data": {
      "image/svg+xml": [
       "<?xml version=\"1.0\" encoding=\"UTF-8\" standalone=\"no\"?>\n",
       "<!DOCTYPE svg PUBLIC \"-//W3C//DTD SVG 1.1//EN\"\n",
       " \"http://www.w3.org/Graphics/SVG/1.1/DTD/svg11.dtd\">\n",
       "<!-- Generated by graphviz version 2.40.1 (20161225.0304)\n",
       " -->\n",
       "<!-- Title: Tree Pages: 1 -->\n",
       "<svg width=\"1014pt\" height=\"373pt\"\n",
       " viewBox=\"0.00 0.00 1014.00 373.00\" xmlns=\"http://www.w3.org/2000/svg\" xmlns:xlink=\"http://www.w3.org/1999/xlink\">\n",
       "<g id=\"graph0\" class=\"graph\" transform=\"scale(1 1) rotate(0) translate(4 369)\">\n",
       "<title>Tree</title>\n",
       "<polygon fill=\"#ffffff\" stroke=\"transparent\" points=\"-4,4 -4,-369 1010,-369 1010,4 -4,4\"/>\n",
       "<!-- 0 -->\n",
       "<g id=\"node1\" class=\"node\">\n",
       "<title>0</title>\n",
       "<path fill=\"#f9e2d2\" stroke=\"#000000\" d=\"M532,-365C532,-365 431,-365 431,-365 425,-365 419,-359 419,-353 419,-353 419,-309 419,-309 419,-303 425,-297 431,-297 431,-297 532,-297 532,-297 538,-297 544,-303 544,-309 544,-309 544,-353 544,-353 544,-359 538,-365 532,-365\"/>\n",
       "<text text-anchor=\"start\" x=\"439\" y=\"-349.8\" font-family=\"Helvetica,sans-Serif\" font-size=\"14.00\" fill=\"#000000\">st_slope ≤ 1.5</text>\n",
       "<text text-anchor=\"start\" x=\"446\" y=\"-334.8\" font-family=\"Helvetica,sans-Serif\" font-size=\"14.00\" fill=\"#000000\">gini = 0.492</text>\n",
       "<text text-anchor=\"start\" x=\"436.5\" y=\"-319.8\" font-family=\"Helvetica,sans-Serif\" font-size=\"14.00\" fill=\"#000000\">samples = 921</text>\n",
       "<text text-anchor=\"start\" x=\"427\" y=\"-304.8\" font-family=\"Helvetica,sans-Serif\" font-size=\"14.00\" fill=\"#000000\">value = [520, 401]</text>\n",
       "</g>\n",
       "<!-- 1 -->\n",
       "<g id=\"node2\" class=\"node\">\n",
       "<title>1</title>\n",
       "<path fill=\"#ea995f\" stroke=\"#000000\" d=\"M458,-261C458,-261 333,-261 333,-261 327,-261 321,-255 321,-249 321,-249 321,-205 321,-205 321,-199 327,-193 333,-193 333,-193 458,-193 458,-193 464,-193 470,-199 470,-205 470,-205 470,-249 470,-249 470,-255 464,-261 458,-261\"/>\n",
       "<text text-anchor=\"start\" x=\"329\" y=\"-245.8\" font-family=\"Helvetica,sans-Serif\" font-size=\"14.00\" fill=\"#000000\">chest_pain_type ≤ 3.5</text>\n",
       "<text text-anchor=\"start\" x=\"363.5\" y=\"-230.8\" font-family=\"Helvetica,sans-Serif\" font-size=\"14.00\" fill=\"#000000\">gini = 0.27</text>\n",
       "<text text-anchor=\"start\" x=\"350.5\" y=\"-215.8\" font-family=\"Helvetica,sans-Serif\" font-size=\"14.00\" fill=\"#000000\">samples = 459</text>\n",
       "<text text-anchor=\"start\" x=\"345\" y=\"-200.8\" font-family=\"Helvetica,sans-Serif\" font-size=\"14.00\" fill=\"#000000\">value = [385, 74]</text>\n",
       "</g>\n",
       "<!-- 0&#45;&gt;1 -->\n",
       "<g id=\"edge1\" class=\"edge\">\n",
       "<title>0&#45;&gt;1</title>\n",
       "<path fill=\"none\" stroke=\"#000000\" d=\"M453.3404,-296.9465C445.9158,-287.968 437.8185,-278.1758 430.0972,-268.8385\"/>\n",
       "<polygon fill=\"#000000\" stroke=\"#000000\" points=\"432.7928,-266.606 423.7229,-261.13 427.3983,-271.0669 432.7928,-266.606\"/>\n",
       "<text text-anchor=\"middle\" x=\"421.365\" y=\"-282.3186\" font-family=\"Helvetica,sans-Serif\" font-size=\"14.00\" fill=\"#000000\">True</text>\n",
       "</g>\n",
       "<!-- 8 -->\n",
       "<g id=\"node9\" class=\"node\">\n",
       "<title>8</title>\n",
       "<path fill=\"#8bc5f0\" stroke=\"#000000\" d=\"M657,-261C657,-261 532,-261 532,-261 526,-261 520,-255 520,-249 520,-249 520,-205 520,-205 520,-199 526,-193 532,-193 532,-193 657,-193 657,-193 663,-193 669,-199 669,-205 669,-205 669,-249 669,-249 669,-255 663,-261 657,-261\"/>\n",
       "<text text-anchor=\"start\" x=\"528\" y=\"-245.8\" font-family=\"Helvetica,sans-Serif\" font-size=\"14.00\" fill=\"#000000\">chest_pain_type ≤ 3.5</text>\n",
       "<text text-anchor=\"start\" x=\"559\" y=\"-230.8\" font-family=\"Helvetica,sans-Serif\" font-size=\"14.00\" fill=\"#000000\">gini = 0.414</text>\n",
       "<text text-anchor=\"start\" x=\"549.5\" y=\"-215.8\" font-family=\"Helvetica,sans-Serif\" font-size=\"14.00\" fill=\"#000000\">samples = 462</text>\n",
       "<text text-anchor=\"start\" x=\"540\" y=\"-200.8\" font-family=\"Helvetica,sans-Serif\" font-size=\"14.00\" fill=\"#000000\">value = [135, 327]</text>\n",
       "</g>\n",
       "<!-- 0&#45;&gt;8 -->\n",
       "<g id=\"edge8\" class=\"edge\">\n",
       "<title>0&#45;&gt;8</title>\n",
       "<path fill=\"none\" stroke=\"#000000\" d=\"M518.5004,-296.9465C528.5486,-287.6986 539.5347,-277.5876 549.9526,-267.9994\"/>\n",
       "<polygon fill=\"#000000\" stroke=\"#000000\" points=\"552.4286,-270.4773 557.4164,-261.13 547.6882,-265.3267 552.4286,-270.4773\"/>\n",
       "<text text-anchor=\"middle\" x=\"556.3805\" y=\"-282.4085\" font-family=\"Helvetica,sans-Serif\" font-size=\"14.00\" fill=\"#000000\">False</text>\n",
       "</g>\n",
       "<!-- 2 -->\n",
       "<g id=\"node3\" class=\"node\">\n",
       "<title>2</title>\n",
       "<path fill=\"#e78a47\" stroke=\"#000000\" d=\"M229,-157C229,-157 136,-157 136,-157 130,-157 124,-151 124,-145 124,-145 124,-101 124,-101 124,-95 130,-89 136,-89 136,-89 229,-89 229,-89 235,-89 241,-95 241,-101 241,-101 241,-145 241,-145 241,-151 235,-157 229,-157\"/>\n",
       "<text text-anchor=\"start\" x=\"134\" y=\"-141.8\" font-family=\"Helvetica,sans-Serif\" font-size=\"14.00\" fill=\"#000000\">oldpeak ≤ 2.023</text>\n",
       "<text text-anchor=\"start\" x=\"147\" y=\"-126.8\" font-family=\"Helvetica,sans-Serif\" font-size=\"14.00\" fill=\"#000000\">gini = 0.123</text>\n",
       "<text text-anchor=\"start\" x=\"137.5\" y=\"-111.8\" font-family=\"Helvetica,sans-Serif\" font-size=\"14.00\" fill=\"#000000\">samples = 318</text>\n",
       "<text text-anchor=\"start\" x=\"132\" y=\"-96.8\" font-family=\"Helvetica,sans-Serif\" font-size=\"14.00\" fill=\"#000000\">value = [297, 21]</text>\n",
       "</g>\n",
       "<!-- 1&#45;&gt;2 -->\n",
       "<g id=\"edge2\" class=\"edge\">\n",
       "<title>1&#45;&gt;2</title>\n",
       "<path fill=\"none\" stroke=\"#000000\" d=\"M325.7558,-192.9465C301.5495,-181.1275 274.4557,-167.8986 250.4004,-156.1532\"/>\n",
       "<polygon fill=\"#000000\" stroke=\"#000000\" points=\"251.8638,-152.9729 241.342,-151.7304 248.7924,-159.2631 251.8638,-152.9729\"/>\n",
       "</g>\n",
       "<!-- 5 -->\n",
       "<g id=\"node6\" class=\"node\">\n",
       "<title>5</title>\n",
       "<path fill=\"#f5cdb0\" stroke=\"#000000\" d=\"M458,-157C458,-157 333,-157 333,-157 327,-157 321,-151 321,-145 321,-145 321,-101 321,-101 321,-95 327,-89 333,-89 333,-89 458,-89 458,-89 464,-89 470,-95 470,-101 470,-101 470,-145 470,-145 470,-151 464,-157 458,-157\"/>\n",
       "<text text-anchor=\"start\" x=\"329\" y=\"-141.8\" font-family=\"Helvetica,sans-Serif\" font-size=\"14.00\" fill=\"#000000\">exercise_angina ≤ 0.5</text>\n",
       "<text text-anchor=\"start\" x=\"360\" y=\"-126.8\" font-family=\"Helvetica,sans-Serif\" font-size=\"14.00\" fill=\"#000000\">gini = 0.469</text>\n",
       "<text text-anchor=\"start\" x=\"350.5\" y=\"-111.8\" font-family=\"Helvetica,sans-Serif\" font-size=\"14.00\" fill=\"#000000\">samples = 141</text>\n",
       "<text text-anchor=\"start\" x=\"348.5\" y=\"-96.8\" font-family=\"Helvetica,sans-Serif\" font-size=\"14.00\" fill=\"#000000\">value = [88, 53]</text>\n",
       "</g>\n",
       "<!-- 1&#45;&gt;5 -->\n",
       "<g id=\"edge5\" class=\"edge\">\n",
       "<title>1&#45;&gt;5</title>\n",
       "<path fill=\"none\" stroke=\"#000000\" d=\"M395.5,-192.9465C395.5,-184.776 395.5,-175.9318 395.5,-167.3697\"/>\n",
       "<polygon fill=\"#000000\" stroke=\"#000000\" points=\"399.0001,-167.13 395.5,-157.13 392.0001,-167.13 399.0001,-167.13\"/>\n",
       "</g>\n",
       "<!-- 3 -->\n",
       "<g id=\"node4\" class=\"node\">\n",
       "<title>3</title>\n",
       "<path fill=\"#e68844\" stroke=\"#000000\" d=\"M105,-53C105,-53 12,-53 12,-53 6,-53 0,-47 0,-41 0,-41 0,-12 0,-12 0,-6 6,0 12,0 12,0 105,0 105,0 111,0 117,-6 117,-12 117,-12 117,-41 117,-41 117,-47 111,-53 105,-53\"/>\n",
       "<text text-anchor=\"start\" x=\"23\" y=\"-37.8\" font-family=\"Helvetica,sans-Serif\" font-size=\"14.00\" fill=\"#000000\">gini = 0.097</text>\n",
       "<text text-anchor=\"start\" x=\"13.5\" y=\"-22.8\" font-family=\"Helvetica,sans-Serif\" font-size=\"14.00\" fill=\"#000000\">samples = 313</text>\n",
       "<text text-anchor=\"start\" x=\"8\" y=\"-7.8\" font-family=\"Helvetica,sans-Serif\" font-size=\"14.00\" fill=\"#000000\">value = [297, 16]</text>\n",
       "</g>\n",
       "<!-- 2&#45;&gt;3 -->\n",
       "<g id=\"edge3\" class=\"edge\">\n",
       "<title>2&#45;&gt;3</title>\n",
       "<path fill=\"none\" stroke=\"#000000\" d=\"M138.7822,-88.9777C126.5451,-79.4545 113.2645,-69.1191 101.0934,-59.6473\"/>\n",
       "<polygon fill=\"#000000\" stroke=\"#000000\" points=\"102.9125,-56.628 92.8711,-53.2485 98.6134,-62.1523 102.9125,-56.628\"/>\n",
       "</g>\n",
       "<!-- 4 -->\n",
       "<g id=\"node5\" class=\"node\">\n",
       "<title>4</title>\n",
       "<path fill=\"#399de5\" stroke=\"#000000\" d=\"M218,-53C218,-53 147,-53 147,-53 141,-53 135,-47 135,-41 135,-41 135,-12 135,-12 135,-6 141,0 147,0 147,0 218,0 218,0 224,0 230,-6 230,-12 230,-12 230,-41 230,-41 230,-47 224,-53 218,-53\"/>\n",
       "<text text-anchor=\"start\" x=\"154.5\" y=\"-37.8\" font-family=\"Helvetica,sans-Serif\" font-size=\"14.00\" fill=\"#000000\">gini = 0.0</text>\n",
       "<text text-anchor=\"start\" x=\"145\" y=\"-22.8\" font-family=\"Helvetica,sans-Serif\" font-size=\"14.00\" fill=\"#000000\">samples = 5</text>\n",
       "<text text-anchor=\"start\" x=\"143\" y=\"-7.8\" font-family=\"Helvetica,sans-Serif\" font-size=\"14.00\" fill=\"#000000\">value = [0, 5]</text>\n",
       "</g>\n",
       "<!-- 2&#45;&gt;4 -->\n",
       "<g id=\"edge4\" class=\"edge\">\n",
       "<title>2&#45;&gt;4</title>\n",
       "<path fill=\"none\" stroke=\"#000000\" d=\"M182.5,-88.9777C182.5,-80.7364 182.5,-71.887 182.5,-63.5153\"/>\n",
       "<polygon fill=\"#000000\" stroke=\"#000000\" points=\"186.0001,-63.2484 182.5,-53.2485 179.0001,-63.2485 186.0001,-63.2484\"/>\n",
       "</g>\n",
       "<!-- 6 -->\n",
       "<g id=\"node7\" class=\"node\">\n",
       "<title>6</title>\n",
       "<path fill=\"#edaa79\" stroke=\"#000000\" d=\"M346.5,-53C346.5,-53 260.5,-53 260.5,-53 254.5,-53 248.5,-47 248.5,-41 248.5,-41 248.5,-12 248.5,-12 248.5,-6 254.5,0 260.5,0 260.5,0 346.5,0 346.5,0 352.5,0 358.5,-6 358.5,-12 358.5,-12 358.5,-41 358.5,-41 358.5,-47 352.5,-53 346.5,-53\"/>\n",
       "<text text-anchor=\"start\" x=\"271.5\" y=\"-37.8\" font-family=\"Helvetica,sans-Serif\" font-size=\"14.00\" fill=\"#000000\">gini = 0.37</text>\n",
       "<text text-anchor=\"start\" x=\"262.5\" y=\"-22.8\" font-family=\"Helvetica,sans-Serif\" font-size=\"14.00\" fill=\"#000000\">samples = 94</text>\n",
       "<text text-anchor=\"start\" x=\"256.5\" y=\"-7.8\" font-family=\"Helvetica,sans-Serif\" font-size=\"14.00\" fill=\"#000000\">value = [71, 23]</text>\n",
       "</g>\n",
       "<!-- 5&#45;&gt;6 -->\n",
       "<g id=\"edge6\" class=\"edge\">\n",
       "<title>5&#45;&gt;6</title>\n",
       "<path fill=\"none\" stroke=\"#000000\" d=\"M363.0642,-88.9777C354.3343,-79.8207 344.8885,-69.9129 336.1471,-60.744\"/>\n",
       "<polygon fill=\"#000000\" stroke=\"#000000\" points=\"338.4347,-58.0712 329.0011,-53.2485 333.3682,-62.9014 338.4347,-58.0712\"/>\n",
       "</g>\n",
       "<!-- 7 -->\n",
       "<g id=\"node8\" class=\"node\">\n",
       "<title>7</title>\n",
       "<path fill=\"#a9d5f4\" stroke=\"#000000\" d=\"M474.5,-53C474.5,-53 388.5,-53 388.5,-53 382.5,-53 376.5,-47 376.5,-41 376.5,-41 376.5,-12 376.5,-12 376.5,-6 382.5,0 388.5,0 388.5,0 474.5,0 474.5,0 480.5,0 486.5,-6 486.5,-12 486.5,-12 486.5,-41 486.5,-41 486.5,-47 480.5,-53 474.5,-53\"/>\n",
       "<text text-anchor=\"start\" x=\"396\" y=\"-37.8\" font-family=\"Helvetica,sans-Serif\" font-size=\"14.00\" fill=\"#000000\">gini = 0.462</text>\n",
       "<text text-anchor=\"start\" x=\"390.5\" y=\"-22.8\" font-family=\"Helvetica,sans-Serif\" font-size=\"14.00\" fill=\"#000000\">samples = 47</text>\n",
       "<text text-anchor=\"start\" x=\"384.5\" y=\"-7.8\" font-family=\"Helvetica,sans-Serif\" font-size=\"14.00\" fill=\"#000000\">value = [17, 30]</text>\n",
       "</g>\n",
       "<!-- 5&#45;&gt;7 -->\n",
       "<g id=\"edge7\" class=\"edge\">\n",
       "<title>5&#45;&gt;7</title>\n",
       "<path fill=\"none\" stroke=\"#000000\" d=\"M408.1923,-88.9777C411.3692,-80.4617 414.7884,-71.2963 418.0029,-62.6798\"/>\n",
       "<polygon fill=\"#000000\" stroke=\"#000000\" points=\"421.3052,-63.8411 421.5213,-53.2485 414.7467,-61.3944 421.3052,-63.8411\"/>\n",
       "</g>\n",
       "<!-- 9 -->\n",
       "<g id=\"node10\" class=\"node\">\n",
       "<title>9</title>\n",
       "<path fill=\"#fae6d8\" stroke=\"#000000\" d=\"M663,-157C663,-157 526,-157 526,-157 520,-157 514,-151 514,-145 514,-145 514,-101 514,-101 514,-95 520,-89 526,-89 526,-89 663,-89 663,-89 669,-89 675,-95 675,-101 675,-101 675,-145 675,-145 675,-151 669,-157 663,-157\"/>\n",
       "<text text-anchor=\"start\" x=\"522\" y=\"-141.8\" font-family=\"Helvetica,sans-Serif\" font-size=\"14.00\" fill=\"#000000\">max_heart_rate ≤ 136.0</text>\n",
       "<text text-anchor=\"start\" x=\"559\" y=\"-126.8\" font-family=\"Helvetica,sans-Serif\" font-size=\"14.00\" fill=\"#000000\">gini = 0.494</text>\n",
       "<text text-anchor=\"start\" x=\"549.5\" y=\"-111.8\" font-family=\"Helvetica,sans-Serif\" font-size=\"14.00\" fill=\"#000000\">samples = 166</text>\n",
       "<text text-anchor=\"start\" x=\"547.5\" y=\"-96.8\" font-family=\"Helvetica,sans-Serif\" font-size=\"14.00\" fill=\"#000000\">value = [92, 74]</text>\n",
       "</g>\n",
       "<!-- 8&#45;&gt;9 -->\n",
       "<g id=\"edge9\" class=\"edge\">\n",
       "<title>8&#45;&gt;9</title>\n",
       "<path fill=\"none\" stroke=\"#000000\" d=\"M594.5,-192.9465C594.5,-184.776 594.5,-175.9318 594.5,-167.3697\"/>\n",
       "<polygon fill=\"#000000\" stroke=\"#000000\" points=\"598.0001,-167.13 594.5,-157.13 591.0001,-167.13 598.0001,-167.13\"/>\n",
       "</g>\n",
       "<!-- 12 -->\n",
       "<g id=\"node13\" class=\"node\">\n",
       "<title>12</title>\n",
       "<path fill=\"#5baee9\" stroke=\"#000000\" d=\"M862,-157C862,-157 769,-157 769,-157 763,-157 757,-151 757,-145 757,-145 757,-101 757,-101 757,-95 763,-89 769,-89 769,-89 862,-89 862,-89 868,-89 874,-95 874,-101 874,-101 874,-145 874,-145 874,-151 868,-157 862,-157\"/>\n",
       "<text text-anchor=\"start\" x=\"787.5\" y=\"-141.8\" font-family=\"Helvetica,sans-Serif\" font-size=\"14.00\" fill=\"#000000\">sex ≤ 0.5</text>\n",
       "<text text-anchor=\"start\" x=\"780\" y=\"-126.8\" font-family=\"Helvetica,sans-Serif\" font-size=\"14.00\" fill=\"#000000\">gini = 0.248</text>\n",
       "<text text-anchor=\"start\" x=\"770.5\" y=\"-111.8\" font-family=\"Helvetica,sans-Serif\" font-size=\"14.00\" fill=\"#000000\">samples = 296</text>\n",
       "<text text-anchor=\"start\" x=\"765\" y=\"-96.8\" font-family=\"Helvetica,sans-Serif\" font-size=\"14.00\" fill=\"#000000\">value = [43, 253]</text>\n",
       "</g>\n",
       "<!-- 8&#45;&gt;12 -->\n",
       "<g id=\"edge12\" class=\"edge\">\n",
       "<title>8&#45;&gt;12</title>\n",
       "<path fill=\"none\" stroke=\"#000000\" d=\"M666.8637,-192.9465C692.8746,-180.7061 722.0989,-166.9535 747.7067,-154.9027\"/>\n",
       "<polygon fill=\"#000000\" stroke=\"#000000\" points=\"749.407,-157.9708 756.9649,-150.5459 746.4264,-151.6371 749.407,-157.9708\"/>\n",
       "</g>\n",
       "<!-- 10 -->\n",
       "<g id=\"node11\" class=\"node\">\n",
       "<title>10</title>\n",
       "<path fill=\"#83c1ef\" stroke=\"#000000\" d=\"M602.5,-53C602.5,-53 516.5,-53 516.5,-53 510.5,-53 504.5,-47 504.5,-41 504.5,-41 504.5,-12 504.5,-12 504.5,-6 510.5,0 516.5,0 516.5,0 602.5,0 602.5,0 608.5,0 614.5,-6 614.5,-12 614.5,-12 614.5,-41 614.5,-41 614.5,-47 608.5,-53 602.5,-53\"/>\n",
       "<text text-anchor=\"start\" x=\"524\" y=\"-37.8\" font-family=\"Helvetica,sans-Serif\" font-size=\"14.00\" fill=\"#000000\">gini = 0.395</text>\n",
       "<text text-anchor=\"start\" x=\"518.5\" y=\"-22.8\" font-family=\"Helvetica,sans-Serif\" font-size=\"14.00\" fill=\"#000000\">samples = 48</text>\n",
       "<text text-anchor=\"start\" x=\"512.5\" y=\"-7.8\" font-family=\"Helvetica,sans-Serif\" font-size=\"14.00\" fill=\"#000000\">value = [13, 35]</text>\n",
       "</g>\n",
       "<!-- 9&#45;&gt;10 -->\n",
       "<g id=\"edge10\" class=\"edge\">\n",
       "<title>9&#45;&gt;10</title>\n",
       "<path fill=\"none\" stroke=\"#000000\" d=\"M582.1603,-88.9777C579.0716,-80.4617 575.7474,-71.2963 572.6222,-62.6798\"/>\n",
       "<polygon fill=\"#000000\" stroke=\"#000000\" points=\"575.9015,-61.4559 569.2015,-53.2485 569.3209,-63.8426 575.9015,-61.4559\"/>\n",
       "</g>\n",
       "<!-- 11 -->\n",
       "<g id=\"node12\" class=\"node\">\n",
       "<title>11</title>\n",
       "<path fill=\"#f2bf9b\" stroke=\"#000000\" d=\"M730.5,-53C730.5,-53 644.5,-53 644.5,-53 638.5,-53 632.5,-47 632.5,-41 632.5,-41 632.5,-12 632.5,-12 632.5,-6 638.5,0 644.5,0 644.5,0 730.5,0 730.5,0 736.5,0 742.5,-6 742.5,-12 742.5,-12 742.5,-41 742.5,-41 742.5,-47 736.5,-53 730.5,-53\"/>\n",
       "<text text-anchor=\"start\" x=\"652\" y=\"-37.8\" font-family=\"Helvetica,sans-Serif\" font-size=\"14.00\" fill=\"#000000\">gini = 0.443</text>\n",
       "<text text-anchor=\"start\" x=\"642.5\" y=\"-22.8\" font-family=\"Helvetica,sans-Serif\" font-size=\"14.00\" fill=\"#000000\">samples = 118</text>\n",
       "<text text-anchor=\"start\" x=\"640.5\" y=\"-7.8\" font-family=\"Helvetica,sans-Serif\" font-size=\"14.00\" fill=\"#000000\">value = [79, 39]</text>\n",
       "</g>\n",
       "<!-- 9&#45;&gt;11 -->\n",
       "<g id=\"edge11\" class=\"edge\">\n",
       "<title>9&#45;&gt;11</title>\n",
       "<path fill=\"none\" stroke=\"#000000\" d=\"M627.2883,-88.9777C636.2014,-79.7292 645.8527,-69.7147 654.7629,-60.4691\"/>\n",
       "<polygon fill=\"#000000\" stroke=\"#000000\" points=\"657.3025,-62.8777 661.7217,-53.2485 652.2622,-58.0202 657.3025,-62.8777\"/>\n",
       "</g>\n",
       "<!-- 13 -->\n",
       "<g id=\"node14\" class=\"node\">\n",
       "<title>13</title>\n",
       "<path fill=\"#b8dcf6\" stroke=\"#000000\" d=\"M858.5,-53C858.5,-53 772.5,-53 772.5,-53 766.5,-53 760.5,-47 760.5,-41 760.5,-41 760.5,-12 760.5,-12 760.5,-6 766.5,0 772.5,0 772.5,0 858.5,0 858.5,0 864.5,0 870.5,-6 870.5,-12 870.5,-12 870.5,-41 870.5,-41 870.5,-47 864.5,-53 858.5,-53\"/>\n",
       "<text text-anchor=\"start\" x=\"780\" y=\"-37.8\" font-family=\"Helvetica,sans-Serif\" font-size=\"14.00\" fill=\"#000000\">gini = 0.476</text>\n",
       "<text text-anchor=\"start\" x=\"774.5\" y=\"-22.8\" font-family=\"Helvetica,sans-Serif\" font-size=\"14.00\" fill=\"#000000\">samples = 59</text>\n",
       "<text text-anchor=\"start\" x=\"768.5\" y=\"-7.8\" font-family=\"Helvetica,sans-Serif\" font-size=\"14.00\" fill=\"#000000\">value = [23, 36]</text>\n",
       "</g>\n",
       "<!-- 12&#45;&gt;13 -->\n",
       "<g id=\"edge13\" class=\"edge\">\n",
       "<title>12&#45;&gt;13</title>\n",
       "<path fill=\"none\" stroke=\"#000000\" d=\"M815.5,-88.9777C815.5,-80.7364 815.5,-71.887 815.5,-63.5153\"/>\n",
       "<polygon fill=\"#000000\" stroke=\"#000000\" points=\"819.0001,-63.2484 815.5,-53.2485 812.0001,-63.2485 819.0001,-63.2484\"/>\n",
       "</g>\n",
       "<!-- 14 -->\n",
       "<g id=\"node15\" class=\"node\">\n",
       "<title>14</title>\n",
       "<path fill=\"#4ba6e7\" stroke=\"#000000\" d=\"M994,-53C994,-53 901,-53 901,-53 895,-53 889,-47 889,-41 889,-41 889,-12 889,-12 889,-6 895,0 901,0 901,0 994,0 994,0 1000,0 1006,-6 1006,-12 1006,-12 1006,-41 1006,-41 1006,-47 1000,-53 994,-53\"/>\n",
       "<text text-anchor=\"start\" x=\"912\" y=\"-37.8\" font-family=\"Helvetica,sans-Serif\" font-size=\"14.00\" fill=\"#000000\">gini = 0.155</text>\n",
       "<text text-anchor=\"start\" x=\"902.5\" y=\"-22.8\" font-family=\"Helvetica,sans-Serif\" font-size=\"14.00\" fill=\"#000000\">samples = 237</text>\n",
       "<text text-anchor=\"start\" x=\"897\" y=\"-7.8\" font-family=\"Helvetica,sans-Serif\" font-size=\"14.00\" fill=\"#000000\">value = [20, 217]</text>\n",
       "</g>\n",
       "<!-- 12&#45;&gt;14 -->\n",
       "<g id=\"edge14\" class=\"edge\">\n",
       "<title>12&#45;&gt;14</title>\n",
       "<path fill=\"none\" stroke=\"#000000\" d=\"M862.0383,-88.9777C875.1901,-79.3629 889.4743,-68.9203 902.532,-59.3743\"/>\n",
       "<polygon fill=\"#000000\" stroke=\"#000000\" points=\"904.9042,-61.9757 910.9114,-53.2485 900.773,-56.3247 904.9042,-61.9757\"/>\n",
       "</g>\n",
       "</g>\n",
       "</svg>\n"
      ],
      "text/plain": [
       "<graphviz.files.Source at 0x7ff6e0173dd8>"
      ]
     },
     "metadata": {},
     "output_type": "display_data"
    }
   ],
   "source": [
    "# Visualize Decision Tree\n",
    "dot_data = export_graphviz(\n",
    "    decision_tree=classification_tree,\n",
    "    out_file=\"decision_tree_heart_desease.dot\",\n",
    "    feature_names=COLUMN_NAMES,\n",
    "    filled=True,\n",
    "    rounded=True,\n",
    "    special_characters=True,\n",
    ")\n",
    "\n",
    "# Read the dot graph and display image\n",
    "with open(\"decision_tree_heart_desease.dot\") as f:\n",
    "    dot_graph = f.read()\n",
    "\n",
    "# display(graphviz.Source(dot_graph))\n",
    "display(graphviz.Source(dot_graph))"
   ]
  },
  {
   "cell_type": "code",
   "execution_count": 45,
   "metadata": {
    "id": "9vWqF8f5cQzX",
    "outputId": "f784ed8d-9769-4797-fd35-344ac16528de"
   },
   "outputs": [
    {
     "data": {
      "text/html": [
       "<div>\n",
       "<style scoped>\n",
       "    .dataframe tbody tr th:only-of-type {\n",
       "        vertical-align: middle;\n",
       "    }\n",
       "\n",
       "    .dataframe tbody tr th {\n",
       "        vertical-align: top;\n",
       "    }\n",
       "\n",
       "    .dataframe thead th {\n",
       "        text-align: right;\n",
       "    }\n",
       "</style>\n",
       "<table border=\"1\" class=\"dataframe\">\n",
       "  <thead>\n",
       "    <tr style=\"text-align: right;\">\n",
       "      <th></th>\n",
       "      <th>importance</th>\n",
       "    </tr>\n",
       "  </thead>\n",
       "  <tbody>\n",
       "    <tr>\n",
       "      <th>st_slope</th>\n",
       "      <td>0.597787</td>\n",
       "    </tr>\n",
       "    <tr>\n",
       "      <th>chest_pain_type</th>\n",
       "      <td>0.236084</td>\n",
       "    </tr>\n",
       "    <tr>\n",
       "      <th>max_heart_rate</th>\n",
       "      <td>0.047127</td>\n",
       "    </tr>\n",
       "    <tr>\n",
       "      <th>exercise_angina</th>\n",
       "      <td>0.042190</td>\n",
       "    </tr>\n",
       "    <tr>\n",
       "      <th>oldpeak</th>\n",
       "      <td>0.038509</td>\n",
       "    </tr>\n",
       "    <tr>\n",
       "      <th>sex</th>\n",
       "      <td>0.038302</td>\n",
       "    </tr>\n",
       "    <tr>\n",
       "      <th>age</th>\n",
       "      <td>0.000000</td>\n",
       "    </tr>\n",
       "    <tr>\n",
       "      <th>resting_bp_s</th>\n",
       "      <td>0.000000</td>\n",
       "    </tr>\n",
       "    <tr>\n",
       "      <th>cholesterol</th>\n",
       "      <td>0.000000</td>\n",
       "    </tr>\n",
       "    <tr>\n",
       "      <th>pulse</th>\n",
       "      <td>0.000000</td>\n",
       "    </tr>\n",
       "    <tr>\n",
       "      <th>Id</th>\n",
       "      <td>0.000000</td>\n",
       "    </tr>\n",
       "    <tr>\n",
       "      <th>Synt</th>\n",
       "      <td>0.000000</td>\n",
       "    </tr>\n",
       "    <tr>\n",
       "      <th>fasting_blood_sugar</th>\n",
       "      <td>0.000000</td>\n",
       "    </tr>\n",
       "    <tr>\n",
       "      <th>resting_ecg</th>\n",
       "      <td>0.000000</td>\n",
       "    </tr>\n",
       "  </tbody>\n",
       "</table>\n",
       "</div>"
      ],
      "text/plain": [
       "                     importance\n",
       "st_slope               0.597787\n",
       "chest_pain_type        0.236084\n",
       "max_heart_rate         0.047127\n",
       "exercise_angina        0.042190\n",
       "oldpeak                0.038509\n",
       "sex                    0.038302\n",
       "age                    0.000000\n",
       "resting_bp_s           0.000000\n",
       "cholesterol            0.000000\n",
       "pulse                  0.000000\n",
       "Id                     0.000000\n",
       "Synt                   0.000000\n",
       "fasting_blood_sugar    0.000000\n",
       "resting_ecg            0.000000"
      ]
     },
     "execution_count": 45,
     "metadata": {},
     "output_type": "execute_result"
    }
   ],
   "source": [
    "# The snippet below will retrieve the feature importances from the model and make them into a DataFrame.\n",
    "feature_importances = pd.DataFrame(\n",
    "    classification_tree.feature_importances_,\n",
    "    index=COLUMN_NAMES,\n",
    "    columns=[\"importance\"],\n",
    ").sort_values(\"importance\", ascending=False)\n",
    "feature_importances"
   ]
  },
  {
   "cell_type": "code",
   "execution_count": 46,
   "metadata": {
    "id": "81QSYVVccQza",
    "outputId": "5eea4995-99c3-427c-d68e-e007fd7322b7"
   },
   "outputs": [
    {
     "name": "stdout",
     "output_type": "stream",
     "text": [
      "Confusion Matrix:\n",
      "[[104  25]\n",
      " [ 18  84]]\n",
      "Classification Report:\n",
      "              precision    recall  f1-score   support\n",
      "\n",
      "           0       0.85      0.81      0.83       129\n",
      "           1       0.77      0.82      0.80       102\n",
      "\n",
      "    accuracy                           0.81       231\n",
      "   macro avg       0.81      0.81      0.81       231\n",
      "weighted avg       0.82      0.81      0.81       231\n",
      "\n"
     ]
    }
   ],
   "source": [
    "y_pred_2 = classification_tree.predict(X_test_imp_2)\n",
    "print(\"Confusion Matrix:\")\n",
    "print(confusion_matrix(y_test_2, y_pred_2))\n",
    "\n",
    "print(\"Classification Report:\")\n",
    "print(classification_report(y_test_2, y_pred_2))"
   ]
  },
  {
   "cell_type": "code",
   "execution_count": 47,
   "metadata": {
    "id": "wChhHNmfciQ6"
   },
   "outputs": [
    {
     "data": {
      "text/plain": [
       "0.8324652777777778"
      ]
     },
     "execution_count": 47,
     "metadata": {},
     "output_type": "execute_result"
    }
   ],
   "source": [
    "classification_tree.fit(X_train_imp, y_train)\n",
    "classification_tree.score(X_train_imp, y_train)"
   ]
  },
  {
   "cell_type": "code",
   "execution_count": 48,
   "metadata": {
    "id": "AkMPTgY4cQzc",
    "outputId": "9d68a24d-4366-4ca5-fb6c-7b10e894c23f"
   },
   "outputs": [
    {
     "name": "stderr",
     "output_type": "stream",
     "text": [
      "/home/iserina/.local/lib/python3.6/site-packages/sklearn/compose/_column_transformer.py:430: FutureWarning: Given feature/column names or counts do not match the ones for the data given during fit. This will fail from v0.24.\n",
      "  FutureWarning)\n"
     ]
    }
   ],
   "source": [
    "# generate a submission file\n",
    "generateSubmission(\n",
    "    classification_tree,\n",
    "    \"second_decision_tree.csv\",\n",
    "    \"User defined decision tree evaluated with test set\",\n",
    ")"
   ]
  },
  {
   "cell_type": "markdown",
   "metadata": {
    "id": "TgGDn8RhcQze"
   },
   "source": [
    "### Or you can consider different models using cross validation"
   ]
  },
  {
   "cell_type": "code",
   "execution_count": 49,
   "metadata": {
    "id": "bnT5kDd1cQzg",
    "outputId": "3ae99c42-fbad-4994-9871-53e58646a5d3"
   },
   "outputs": [
    {
     "name": "stderr",
     "output_type": "stream",
     "text": [
      "[Parallel(n_jobs=1)]: Using backend SequentialBackend with 1 concurrent workers.\n",
      "[Parallel(n_jobs=1)]: Done  10 out of  10 | elapsed:    0.1s finished\n"
     ]
    },
    {
     "data": {
      "text/plain": [
       "Text(0.5, 1.0, 'Average score: 0.8332908545727136')"
      ]
     },
     "execution_count": 49,
     "metadata": {},
     "output_type": "execute_result"
    },
    {
     "data": {
      "image/png": "[encoded data removed]",
      "text/plain": [
       "<Figure size 432x288 with 1 Axes>"
      ]
     },
     "metadata": {
      "needs_background": "light"
     },
     "output_type": "display_data"
    }
   ],
   "source": [
    "dtc = DecisionTreeClassifier(max_depth=4, random_state=RANDOM_STATE)\n",
    "cv_scores = cross_val_score(\n",
    "    dtc, X_train_imp, y_train, cv=10, scoring=\"accuracy\", verbose=1\n",
    ")\n",
    "sns.distplot(cv_scores)\n",
    "plt.title(\"Average score: {}\".format(np.mean(cv_scores)))"
   ]
  },
  {
   "cell_type": "code",
   "execution_count": 50,
   "metadata": {
    "id": "LkKGF9Socueq"
   },
   "outputs": [
    {
     "data": {
      "text/plain": [
       "0.8602430555555556"
      ]
     },
     "execution_count": 50,
     "metadata": {},
     "output_type": "execute_result"
    }
   ],
   "source": [
    "dtc.fit(X_train_imp, y_train)\n",
    "dtc.score(X_train_imp, y_train)"
   ]
  },
  {
   "cell_type": "code",
   "execution_count": 51,
   "metadata": {
    "id": "omr6K-wLcQzj",
    "outputId": "67034453-54e8-40f2-f360-a7416875bd71"
   },
   "outputs": [
    {
     "name": "stderr",
     "output_type": "stream",
     "text": [
      "/home/iserina/.local/lib/python3.6/site-packages/sklearn/compose/_column_transformer.py:430: FutureWarning: Given feature/column names or counts do not match the ones for the data given during fit. This will fail from v0.24.\n",
      "  FutureWarning)\n"
     ]
    }
   ],
   "source": [
    "# generate a submission file\n",
    "generateSubmission(\n",
    "    dtc,\n",
    "    \"crossval_decision_tree.csv\",\n",
    "    \"User defined decision tree evaluated with cross validation\",\n",
    ")"
   ]
  },
  {
   "cell_type": "markdown",
   "metadata": {
    "id": "OMIeoDe5cQzk"
   },
   "source": [
    "### Parameter Tuning"
   ]
  },
  {
   "cell_type": "markdown",
   "metadata": {
    "id": "8C12hBTGcQzl"
   },
   "source": [
    "In every classification technique, there are some parameters that can be tuned to optimize the classification. Some parameters that can be tuned in the decision tree is max depth (the depth of the tree), max feature (the feature used to classify), criterion, and splitter.\n",
    "\n",
    "To search to tune parameter is to use Grid Search. Basically, it explores a range of parameters and finds the best combination of parameters. Then repeat the process several times until the best parameters are discovered. We will also use Stratified k-fold cross-validation that will prevent a certain class only split them to the same subset."
   ]
  },
  {
   "cell_type": "code",
   "execution_count": 52,
   "metadata": {
    "id": "NAbnmTtocQzn",
    "outputId": "79325b72-0ee1-4cf4-b874-c984781f336f"
   },
   "outputs": [
    {
     "name": "stdout",
     "output_type": "stream",
     "text": [
      "Fitting 10 folds for each of 84 candidates, totalling 840 fits\n"
     ]
    },
    {
     "name": "stderr",
     "output_type": "stream",
     "text": [
      "[Parallel(n_jobs=1)]: Using backend SequentialBackend with 1 concurrent workers.\n",
      "[Parallel(n_jobs=1)]: Done 840 out of 840 | elapsed:    6.8s finished\n"
     ]
    },
    {
     "data": {
      "text/plain": [
       "GridSearchCV(cv=StratifiedKFold(n_splits=10, random_state=None, shuffle=False),\n",
       "             error_score=nan,\n",
       "             estimator=DecisionTreeClassifier(ccp_alpha=0.0, class_weight=None,\n",
       "                                              criterion='gini', max_depth=None,\n",
       "                                              max_features=None,\n",
       "                                              max_leaf_nodes=None,\n",
       "                                              min_impurity_decrease=0.0,\n",
       "                                              min_impurity_split=None,\n",
       "                                              min_samples_leaf=1,\n",
       "                                              min_samples_split=2,\n",
       "                                              min_weight_fraction_leaf=0.0,\n",
       "                                              pres...\n",
       "                                              random_state=3993,\n",
       "                                              splitter='best'),\n",
       "             iid='deprecated', n_jobs=None,\n",
       "             param_grid={'criterion': ['gini', 'entropy'],\n",
       "                         'max_depth': [2, 3, 4, 5, 6, 7, 8],\n",
       "                         'max_features': ['sqrt', 'log2', None],\n",
       "                         'splitter': ['best', 'random']},\n",
       "             pre_dispatch='2*n_jobs', refit='accuracy', return_train_score=True,\n",
       "             scoring={'accuracy': 'accuracy',\n",
       "                      'balanced_accuracy': 'balanced_accuracy',\n",
       "                      'f1': 'f1_macro'},\n",
       "             verbose=1)"
      ]
     },
     "execution_count": 52,
     "metadata": {},
     "output_type": "execute_result"
    }
   ],
   "source": [
    "dtc = DecisionTreeClassifier(random_state=RANDOM_STATE)\n",
    "# Create the parameter grids\n",
    "parameter_grid = {\n",
    "    \"criterion\": [\"gini\", \"entropy\"],\n",
    "    \"splitter\": [\"best\", \"random\"],\n",
    "    \"max_depth\": [2, 3, 4, 5, 6, 7, 8],\n",
    "    \"max_features\": [\"sqrt\", \"log2\", None],\n",
    "}\n",
    "\n",
    "# Create Stratified folds\n",
    "cross_validation = StratifiedKFold(n_splits=10)\n",
    "cross_validation.get_n_splits(X_train_imp, y_train)\n",
    "\n",
    "# Create the scoring dictionary\n",
    "SCORING = {\n",
    "    \"accuracy\": \"accuracy\",\n",
    "    \"balanced_accuracy\": \"balanced_accuracy\",\n",
    "    \"f1\": \"f1_macro\",\n",
    "}\n",
    "\n",
    "# Create and fit the GridSearchCV\n",
    "grid_search = GridSearchCV(\n",
    "    estimator=dtc,\n",
    "    param_grid=parameter_grid,\n",
    "    cv=cross_validation,\n",
    "    verbose=1,\n",
    "    scoring=SCORING,\n",
    "    return_train_score=True,\n",
    "    refit=\"accuracy\",\n",
    ")\n",
    "\n",
    "grid_search.fit(X_train_imp, y_train)"
   ]
  },
  {
   "cell_type": "code",
   "execution_count": 53,
   "metadata": {
    "id": "R3NhPvsCcQzo",
    "outputId": "bf00ba3c-3a4b-4980-9127-79fff11a4cf8"
   },
   "outputs": [],
   "source": [
    "# grid_search.cv_results_"
   ]
  },
  {
   "cell_type": "code",
   "execution_count": 54,
   "metadata": {
    "id": "qmzMPoBDcQzq",
    "outputId": "54827f90-2bd8-4960-cb2e-6fa20bdabda9"
   },
   "outputs": [
    {
     "name": "stdout",
     "output_type": "stream",
     "text": [
      "Best score: 0.8558470764617692\n",
      "Best parameters: {'criterion': 'gini', 'max_depth': 8, 'max_features': None, 'splitter': 'random'}\n"
     ]
    },
    {
     "data": {
      "text/plain": [
       "DecisionTreeClassifier(ccp_alpha=0.0, class_weight=None, criterion='gini',\n",
       "                       max_depth=8, max_features=None, max_leaf_nodes=None,\n",
       "                       min_impurity_decrease=0.0, min_impurity_split=None,\n",
       "                       min_samples_leaf=1, min_samples_split=2,\n",
       "                       min_weight_fraction_leaf=0.0, presort='deprecated',\n",
       "                       random_state=3993, splitter='random')"
      ]
     },
     "execution_count": 54,
     "metadata": {},
     "output_type": "execute_result"
    }
   ],
   "source": [
    "print(\"Best score: {}\".format(grid_search.best_score_))\n",
    "print(\"Best parameters: {}\".format(grid_search.best_params_))\n",
    "\n",
    "best_dtc = grid_search.best_estimator_\n",
    "best_dtc"
   ]
  },
  {
   "cell_type": "code",
   "execution_count": 55,
   "metadata": {
    "id": "sYHg4xQgcQzs",
    "outputId": "2c6e577a-0139-4fef-f9e1-325ed416595b"
   },
   "outputs": [
    {
     "data": {
      "text/plain": [
       "0.9166666666666666"
      ]
     },
     "execution_count": 55,
     "metadata": {},
     "output_type": "execute_result"
    }
   ],
   "source": [
    "my_model = best_dtc\n",
    "my_model.fit(X_train_imp, y_train)\n",
    "my_model.score(X_train_imp, y_train)"
   ]
  },
  {
   "cell_type": "code",
   "execution_count": 56,
   "metadata": {
    "id": "1YfuqF-ucQzu",
    "outputId": "ff550c20-4bb4-40ea-cbe5-ac14f6f50c2c"
   },
   "outputs": [
    {
     "name": "stdout",
     "output_type": "stream",
     "text": [
      "Confusion Matrix:\n",
      "[[598  51]\n",
      " [ 45 458]]\n",
      "Classification Report:\n",
      "              precision    recall  f1-score   support\n",
      "\n",
      "           0       0.93      0.92      0.93       649\n",
      "           1       0.90      0.91      0.91       503\n",
      "\n",
      "    accuracy                           0.92      1152\n",
      "   macro avg       0.91      0.92      0.92      1152\n",
      "weighted avg       0.92      0.92      0.92      1152\n",
      "\n"
     ]
    }
   ],
   "source": [
    "y_pred = my_model.predict(X_train_imp)\n",
    "print(\"Confusion Matrix:\")\n",
    "print(confusion_matrix(y_train, y_pred))\n",
    "\n",
    "print(\"Classification Report:\")\n",
    "print(classification_report(y_train, y_pred))"
   ]
  },
  {
   "cell_type": "code",
   "execution_count": 57,
   "metadata": {
    "id": "Ak6ohoZacQzw",
    "outputId": "7d8f269e-c0fc-463a-e222-e4394a82f5a3"
   },
   "outputs": [
    {
     "data": {
      "text/html": [
       "<div>\n",
       "<style scoped>\n",
       "    .dataframe tbody tr th:only-of-type {\n",
       "        vertical-align: middle;\n",
       "    }\n",
       "\n",
       "    .dataframe tbody tr th {\n",
       "        vertical-align: top;\n",
       "    }\n",
       "\n",
       "    .dataframe thead th {\n",
       "        text-align: right;\n",
       "    }\n",
       "</style>\n",
       "<table border=\"1\" class=\"dataframe\">\n",
       "  <thead>\n",
       "    <tr style=\"text-align: right;\">\n",
       "      <th></th>\n",
       "      <th>importance</th>\n",
       "    </tr>\n",
       "  </thead>\n",
       "  <tbody>\n",
       "    <tr>\n",
       "      <th>exercise_angina</th>\n",
       "      <td>0.321200</td>\n",
       "    </tr>\n",
       "    <tr>\n",
       "      <th>st_slope</th>\n",
       "      <td>0.193709</td>\n",
       "    </tr>\n",
       "    <tr>\n",
       "      <th>cholesterol</th>\n",
       "      <td>0.110138</td>\n",
       "    </tr>\n",
       "    <tr>\n",
       "      <th>sex</th>\n",
       "      <td>0.059223</td>\n",
       "    </tr>\n",
       "    <tr>\n",
       "      <th>chest_pain_type</th>\n",
       "      <td>0.058462</td>\n",
       "    </tr>\n",
       "    <tr>\n",
       "      <th>age</th>\n",
       "      <td>0.051467</td>\n",
       "    </tr>\n",
       "    <tr>\n",
       "      <th>resting_bp_s</th>\n",
       "      <td>0.046273</td>\n",
       "    </tr>\n",
       "    <tr>\n",
       "      <th>oldpeak</th>\n",
       "      <td>0.036759</td>\n",
       "    </tr>\n",
       "    <tr>\n",
       "      <th>fasting_blood_sugar</th>\n",
       "      <td>0.029661</td>\n",
       "    </tr>\n",
       "    <tr>\n",
       "      <th>pulse</th>\n",
       "      <td>0.026399</td>\n",
       "    </tr>\n",
       "    <tr>\n",
       "      <th>max_heart_rate</th>\n",
       "      <td>0.022892</td>\n",
       "    </tr>\n",
       "    <tr>\n",
       "      <th>Id</th>\n",
       "      <td>0.021800</td>\n",
       "    </tr>\n",
       "    <tr>\n",
       "      <th>resting_ecg</th>\n",
       "      <td>0.018137</td>\n",
       "    </tr>\n",
       "    <tr>\n",
       "      <th>Synt</th>\n",
       "      <td>0.003878</td>\n",
       "    </tr>\n",
       "  </tbody>\n",
       "</table>\n",
       "</div>"
      ],
      "text/plain": [
       "                     importance\n",
       "exercise_angina        0.321200\n",
       "st_slope               0.193709\n",
       "cholesterol            0.110138\n",
       "sex                    0.059223\n",
       "chest_pain_type        0.058462\n",
       "age                    0.051467\n",
       "resting_bp_s           0.046273\n",
       "oldpeak                0.036759\n",
       "fasting_blood_sugar    0.029661\n",
       "pulse                  0.026399\n",
       "max_heart_rate         0.022892\n",
       "Id                     0.021800\n",
       "resting_ecg            0.018137\n",
       "Synt                   0.003878"
      ]
     },
     "execution_count": 57,
     "metadata": {},
     "output_type": "execute_result"
    }
   ],
   "source": [
    "# The snippet below will retrieve the feature importances from the model and make them into a DataFrame.\n",
    "feature_importances = pd.DataFrame(\n",
    "    my_model.feature_importances_, index=COLUMN_NAMES, columns=[\"importance\"]\n",
    ").sort_values(\"importance\", ascending=False)\n",
    "feature_importances"
   ]
  },
  {
   "cell_type": "markdown",
   "metadata": {
    "id": "wrK4RxylcQzy"
   },
   "source": [
    "### Submit the final model"
   ]
  },
  {
   "cell_type": "code",
   "execution_count": 58,
   "metadata": {
    "id": "8scvMiJicQzy"
   },
   "outputs": [
    {
     "name": "stderr",
     "output_type": "stream",
     "text": [
      "/home/iserina/.local/lib/python3.6/site-packages/sklearn/compose/_column_transformer.py:430: FutureWarning: Given feature/column names or counts do not match the ones for the data given during fit. This will fail from v0.24.\n",
      "  FutureWarning)\n"
     ]
    }
   ],
   "source": [
    "# generate a submission file\n",
    "generateSubmission(\n",
    "    my_model,\n",
    "    \"gridcv_decision_tree.csv\",\n",
    "    \"User defined decision tree evaluated with grid search\",\n",
    ")"
   ]
  },
  {
   "cell_type": "markdown",
   "metadata": {
    "_cell_guid": "677b20af-bc56-4db1-aac3-1010389367ba",
    "_uuid": "c5294634157ca8c52d35c999ee949023b9544ee1",
    "id": "Vl2xROUscQz1"
   },
   "source": [
    "Step by step commands...\n",
    "\n",
    "In addition to your training data, there will be test data. This is frequently stored in a file with the title `test.csv`. This data won't include a column with your target (y), because that is what we'll have to predict and submit.  Here is sample code to do that. "
   ]
  },
  {
   "cell_type": "code",
   "execution_count": 60,
   "metadata": {
    "_cell_guid": "a023518d-78e0-4e58-a243-6d1fe98992b9",
    "_uuid": "7bc843ef333847d305f576489d3e2aa3afc9384d",
    "id": "_TPmWWIUcQz1",
    "outputId": "7823cbc7-7246-483d-f911-a64020cd9eb2"
   },
   "outputs": [
    {
     "name": "stdout",
     "output_type": "stream",
     "text": [
      "[1 1 0 0 0 0 0 0 1 0 0 1 0 1 0 0 1 0 0 1 1 1 0 0 0 0 0 0 1 1 1 0 1 0 1 1 1\n",
      " 0 1 0 0 0 0 0 1 1 0 0 1 0 1 1 0 0 1 1 1 0 0 0 1 1 0 1 1 0 0 1 1 0 1 1 0 1\n",
      " 1 1 0 1 0 1 0 0 1 0 1 1 1 1 1 0 1 1 1 1 0 0 0 1 0 1 0 0 0 0 1 1 0 0 0 1 1\n",
      " 0 0 1 1 0 0 0 1 0 1 1 0 1 1 0 1 1 1 1 1 1 1 0 0 1 0 1 0 0 0 0 0 0 1 1 1 1\n",
      " 1 1 0 0 0 0 1 1 0 1 1 1 1 1 1 0 0 0 0 0 1 0 1 0 0 0 0 1 1 1 0 1 1 1 1 1 1\n",
      " 0 0 1 1 0 0 1 0 1 1 1 1 1 0 1 0 0 1 1 1 0 0 1 1 1 1 1 1 1 1 0 1 1 0 0 1 1\n",
      " 0 1 0 0 0 0 0 0 1 0 0 0 1 1 0 1]\n"
     ]
    },
    {
     "name": "stderr",
     "output_type": "stream",
     "text": [
      "/home/iserina/.local/lib/python3.6/site-packages/sklearn/compose/_column_transformer.py:430: FutureWarning: Given feature/column names or counts do not match the ones for the data given during fit. This will fail from v0.24.\n",
      "  FutureWarning)\n"
     ]
    }
   ],
   "source": [
    "# Read the test data\n",
    "X_test = pd.read_csv(DATA_PATH + \"test.csv\")\n",
    "\n",
    "# Impute each test item, then predict\n",
    "X_test_imp = imp.transform(X_test)\n",
    "\n",
    "# Use the model to make predictions\n",
    "y_test_pred = my_model.predict(X_test_imp)\n",
    "print(y_test_pred)"
   ]
  },
  {
   "cell_type": "markdown",
   "metadata": {
    "_cell_guid": "258e450a-d82c-4a7f-af22-cc695f74b4e3",
    "_uuid": "49e253dc359af831d8e248979b90c70dfcbef99a",
    "id": "EHZwo_p0cQz3"
   },
   "source": [
    "# Prepare Submission File\n",
    "We make submissions in CSV files.  Your submissions usually have two columns: an ID column and a prediction column.  The ID field comes from the test data (keeping whatever name the ID field had in that data, which for the housing data is the string 'Id'). The prediction column will use the name of the target field.\n",
    "\n",
    "We will create a DataFrame with this data, and then use the dataframe's `to_csv` method to write our submission file.  Explicitly include the argument `index=False` to prevent pandas from adding another column in our csv file."
   ]
  },
  {
   "cell_type": "code",
   "execution_count": 61,
   "metadata": {
    "_cell_guid": "092f5aed-0de4-4295-80ee-c193c8b84edd",
    "_uuid": "da5946c5fbc32fdb537788cd6ad5da1d6d698ae6",
    "id": "YWgl8n1IcQz3"
   },
   "outputs": [],
   "source": [
    "# submission file\n",
    "my_submission = pd.DataFrame({\"test_index\": X_test.index, \"target\": y_test_pred})\n",
    "# you could use any filename. We choose submission here\n",
    "my_submission.to_csv(OUTPUT_PATH + \"submission.csv\", index=False)"
   ]
  },
  {
   "cell_type": "markdown",
   "metadata": {
    "id": "MI90OYzMcQz5"
   },
   "source": [
    "# Make Submission\n",
    "Hit the blue **Publish** button at the top of your notebook screen.  It will take some time for your kernel to run.  When it has finished your navigation bar at the top of the screen will have a tab for **Output**.  This only shows up if you have written an output file (like we did in the **Prepare Submission File** step).  \n",
    "\n",
    "Otherwise, if you have a kaggle API token (https://www.kaggle.com/docs/api#getting-started-installation-&-authentication), you can use the following command (remove the '#'):"
   ]
  },
  {
   "cell_type": "code",
   "execution_count": 62,
   "metadata": {
    "id": "FOiar0c4cQz5"
   },
   "outputs": [],
   "source": [
    "# !kaggle competitions submit -c  heart-attack-analysis-and-prediction-21 -f kaggle_submissions/submission.csv -m \"Please describe the technique used\""
   ]
  },
  {
   "cell_type": "markdown",
   "metadata": {
    "_cell_guid": "ab2280a4-9c65-4810-8813-831f4dcd86e1",
    "_uuid": "97f80b7f76066fd78cdb5137757fb3c63abd0519",
    "id": "gFKeS8jBcQz7"
   },
   "source": [
    "\n",
    "# Last Steps \n",
    "Click on the Output button.  This will bring you to a screen with an option to **Submit to Competition**.  Hit that and you will see how your model performed.\n",
    "\n",
    "If you want to go back to improve your model, click the Edit button, which re-opens the kernel.  You'll need to re-run all the cells when you re-open the kernel.\n",
    "\n",
    "# Conclusion\n",
    "You've completed Level 1 of Machine Learning.  Congrats.  \n",
    "\n",
    "If you are ready to keep improving your model (and your skills), start level 2 of [Learn Machine Learning](https://www.kaggle.com/learn/machine-learning). \n",
    "\n",
    "Level 2 covers more powerful models, techniques to include non-numeric data, and more.  You can make more submissions to the competition and climb up the leaderboard as you go through the course.\n",
    "\n",
    "\n"
   ]
  },
  {
   "cell_type": "code",
   "execution_count": null,
   "metadata": {},
   "outputs": [],
   "source": []
  }
 ],
 "metadata": {
  "colab": {
   "name": "How_to_submit_prediction_to_Kaggle_in_Python.ipynb",
   "provenance": []
  },
  "kernelspec": {
   "display_name": "Python 3",
   "language": "python",
   "name": "python3"
  },
  "language_info": {
   "codemirror_mode": {
    "name": "ipython",
    "version": 3
   },
   "file_extension": ".py",
   "mimetype": "text/x-python",
   "name": "python",
   "nbconvert_exporter": "python",
   "pygments_lexer": "ipython3",
   "version": "3.6.9"
  }
 },
 "nbformat": 4,
 "nbformat_minor": 4
}
