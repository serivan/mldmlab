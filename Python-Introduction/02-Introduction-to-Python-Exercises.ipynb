{
  "nbformat": 4,
  "nbformat_minor": 0,
  "metadata": {
    "kernelspec": {
      "display_name": "Python 3",
      "language": "python",
      "name": "python3"
    },
    "language_info": {
      "codemirror_mode": {
        "name": "ipython",
        "version": 3
      },
      "file_extension": ".py",
      "mimetype": "text/x-python",
      "name": "python",
      "nbconvert_exporter": "python",
      "pygments_lexer": "ipython3",
      "version": "3.6.9"
    },
    "colab": {
      "name": "02-Introduction-to-Python-Exercises.ipynb",
      "provenance": []
    }
  },
  "cells": [
    {
      "cell_type": "markdown",
      "metadata": {
        "id": "11IzeINrP6FU"
      },
      "source": [
        "## How to cook the perfect egg\n",
        "As an egg cooks, the proteins first denature and then coagulate. When the temperature exceeds a critical point, reactions begin and proceed faster as the temperature increases. In the egg white the proteins start to coagulate for temperatures above 63°C, while in the yolk the proteins start to coagulate for temperatures above 70°C. For a soft boiled egg, the white needs to have been heated long enough to coagulate at a temperature above 63°C, but the yolk should not be heated above 70°C. For a hard boiled egg, the center of the yolk should be allowed to reach 70°C. The following formula expresses the time $t$ it takes (in seconds) for the center of the yolk to reach the temperature $T_y$ (in Celsius degrees):\n",
        "\n",
        "$$t = \\frac{M^{2/3}c\\rho^{1/3}}{K\\pi^2(4\\pi/3)^{2/3}}\\ln\\left[0.76\\frac{T_o - T_w}{T_y - T_w}\\right]$$\n",
        "\n",
        "Here, $M, \\rho, c$ and $K$ are properties of the egg: $M$ is the mass, $\\rho$ is the density, $c$ is the specific heat capacity, and $K$ is thermal conductivity. Relevant values are $M$ = 47 g for a small egg and $M$ = 67 g for a large egg, $\\rho$ = 1.038 g cm$^{-3}$, $c$ = 3.7 J g$^{-1}$K$^{-1}$, and $K$ = 5.4 $\\times$ 10$^{-3}$ W cm$^{-1}$ K$^{-1}$. Furthermore, $T_w$ is the temperature (in C degrees) of the boiling water, and $T_o$ is the original temperature (in C degrees) of the egg before being put in the water.\n",
        "\n",
        "Implement the formula in a program, set $T_w$ = 100°C and $T_y$ = 70°C, and compute $t$ for a small and large egg taken from the fridge ($T_o$ = 4°C) and from room temperature ($T_o$ = 20°C)."
      ]
    },
    {
      "cell_type": "code",
      "metadata": {
        "id": "fj6Q2aNNf3dM",
        "outputId": "22dd8942-5fc3-45a1-e5fb-e2e5e161aa00"
      },
      "source": [
        "from math import pi, log\n",
        "\n",
        "Tw = 100    # C Temperature of the water\n",
        "Ty = 70     # C Desired temperature of the yolk\n",
        "rho = 1.038 # g cm^{-3}\n",
        "M = 67      # g\n",
        "K = 5.4e-3  # W cm^{-1} K^{-1}\n",
        "c = 3.7     # J g^{-1} K^{-1}\n",
        "\n",
        "for To in [4, 20]:\n",
        "    for M in [47, 67]:\n",
        "        numerator = \n",
        "        denominator = \n",
        "        logarithm = \n",
        "        t = numerator / denominator * logarithm\n",
        "        print(\"Time required for perfect {} g egg when To = {} C is {:.2f} seconds.\".format(M, To, t))"
      ],
      "execution_count": null,
      "outputs": [
        {
          "output_type": "stream",
          "text": [
            "Time required for perfect 47 g egg when To = 4 C is 313.09 seconds.\n",
            "Time required for perfect 67 g egg when To = 4 C is 396.58 seconds.\n",
            "Time required for perfect 47 g egg when To = 20 C is 248.86 seconds.\n",
            "Time required for perfect 67 g egg when To = 20 C is 315.22 seconds.\n"
          ],
          "name": "stdout"
        }
      ]
    },
    {
      "cell_type": "markdown",
      "metadata": {
        "id": "1vMZ9PjIf3dP"
      },
      "source": [
        "2. Given a matrix, for example:\n",
        "[[5, 6, 7], [8, 3, 2], [8, 2, 1]] \n",
        "define a function that returns a dictionary that associates for each row index (starting from 1) the corresponding list of values in the matrix. Considering the matrix in example, the result would be:\n",
        "{1: [5, 6, 7], 2: [8, 3, 2], 3: [8, 2, 1]}"
      ]
    },
    {
      "cell_type": "code",
      "metadata": {
        "id": "yoiltpk-f3dQ",
        "outputId": "952e10d7-125a-43e5-863b-9588ce4961ad"
      },
      "source": [
        "test_list = [[5, 6, 7], [8, 3, 2], [8, 2, 1]] \n",
        "res = \n",
        "print(res)"
      ],
      "execution_count": null,
      "outputs": [
        {
          "output_type": "stream",
          "text": [
            "{1: [5, 6, 7], 2: [8, 3, 2], 3: [8, 2, 1]}\n"
          ],
          "name": "stdout"
        }
      ]
    },
    {
      "cell_type": "markdown",
      "metadata": {
        "id": "ehjQ_Hztf3dQ"
      },
      "source": [
        "3. Given a list of integer values, such as:\n",
        "[50, 100, 150, 200, 250, 300]\n",
        "create a dictionary into which, for each element of the list, it's associated a list of 10 random numbers between 0 and the element. For generating the random number, use the randrange from the random package passing the element as parameter."
      ]
    },
    {
      "cell_type": "code",
      "metadata": {
        "id": "jR48WnRFf3dR",
        "outputId": "8e425bfd-4598-4a05-f253-202a7c5d6007"
      },
      "source": [
        "from random import randrange\n",
        "l = [50, 100, 150, 200, 250, 300]\n",
        "d = \n",
        "print(d)"
      ],
      "execution_count": null,
      "outputs": [
        {
          "output_type": "stream",
          "text": [
            "{50: [6, 42, 26, 14, 45, 45, 48, 35, 24, 49], 100: [71, 57, 42, 76, 11, 95, 47, 77, 81, 42], 150: [99, 46, 113, 66, 95, 34, 4, 86, 32, 134], 200: [134, 83, 13, 18, 125, 187, 179, 143, 87, 136], 250: [131, 10, 5, 30, 153, 49, 199, 124, 144, 92], 300: [6, 222, 47, 27, 104, 110, 211, 206, 270, 141]}\n"
          ],
          "name": "stdout"
        }
      ]
    },
    {
      "cell_type": "markdown",
      "metadata": {
        "id": "C298PQwpf3dS"
      },
      "source": [
        "4. Create a function that takes in input a dictionary like the one generated in the Exercise 3. This function should calculate the minimum and the maximum for each list in the dictionary. The return value should be another dictionary into which, for each key of the input dictionay is associated a tuple formed by the minimum and the maximum of the list. For calculating the minimum and maximum use the min(list) and max(list) functions."
      ]
    },
    {
      "cell_type": "code",
      "metadata": {
        "id": "OzBkJUPkf3dT",
        "outputId": "f1613945-c266-46c9-a568-711645e9325a"
      },
      "source": [
        "def transform_dictionary(d):\n",
        "    new_dictionary = dict()\n",
        "    for k, l in d.items():\n",
        "        minimum = min(l)\n",
        "        maximum = max(l)\n",
        "        new_dictionary[k] =\n",
        "    return new_dictionary\n",
        "\n",
        "print(transform_dictionary(d))"
      ],
      "execution_count": null,
      "outputs": [
        {
          "output_type": "stream",
          "text": [
            "{50: (6, 49), 100: (11, 95), 150: (4, 134), 200: (13, 187), 250: (5, 199), 300: (6, 270)}\n"
          ],
          "name": "stdout"
        }
      ]
    },
    {
      "cell_type": "markdown",
      "metadata": {
        "id": "VxOVQblif3dT"
      },
      "source": [
        "5. Create the same function using the list comprehension. Also, in this version the lists which contains at least an element lower than 10 should not be included.\n"
      ]
    },
    {
      "cell_type": "code",
      "metadata": {
        "id": "Nj2eT52zf3dU",
        "outputId": "6ab75540-e133-4ae1-fdaf-753c60a549b2"
      },
      "source": [
        "def transform_dictionary(d):\n",
        "    return {}\n",
        "\n",
        "print(transform_dictionary(d))"
      ],
      "execution_count": null,
      "outputs": [
        {
          "output_type": "stream",
          "text": [
            "{100: (11, 95), 200: (13, 187)}\n"
          ],
          "name": "stdout"
        }
      ]
    }
  ]
}